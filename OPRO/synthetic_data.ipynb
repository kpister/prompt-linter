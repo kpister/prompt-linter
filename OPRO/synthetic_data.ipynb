{
 "cells": [
  {
   "cell_type": "markdown",
   "metadata": {},
   "source": [
    "### Generate Synthetic Data\n"
   ]
  },
  {
   "cell_type": "code",
   "execution_count": 1,
   "metadata": {},
   "outputs": [
    {
     "data": {
      "text/plain": [
       "[{'question': 'Ana invested \\\\$180 in a CD at 5% per year. How many years will it take the CD to double in value to \\\\$360, if interest is compounded annually?',\n",
       "  'answer': 'Let x be the number of years it takes to double the value of the CD.\\nAfter x years, the value of the CD will be 180*2 = 360.\\nThe formula for compound interest is A = P*(1 + r/n)^(nt), where A is the final amount, P is the principal, r is the interest rate, n is the number of times per year that the interest is compounded, and t is the number of years.\\nIn this case, r = 5, n = 1, and P = 180.\\nSo, we have 360 = 180*(1 + 5/100)^(1*t).\\nDividing both sides by 180, we get 2 = (1 + 5/100)^t.\\nTaking the natural logarithm of both sides, we get ln(2) = t*ln(1 + 5/100).\\nSolving for t, we get t = ln(2)/ln(1 + 5/100) = <<ln(2)/ln(1+5/100)=14>>14 years.\\n#### 14'},\n",
       " {'question': 'Salma has a roll of ribbon that is 50 meters long. She uses 6 meters of the ribbon to wrap a present. What fraction of the ribbon roll has Salma used?',\n",
       "  'answer': 'Salma uses 6/50 = 6/50 = 0.12 or 12/100 = 12% of the ribbon roll.'},\n",
       " {'question': 'Javier made 23 paintings for the first art exhibit at his gallery. In the second exhibit, Javier made a quarter of the number of paintings that he had in the first exhibit. How many paintings did Javier make altogether for the first two exhibits?',\n",
       "  'answer': 'Javier made 23/4 = <<23/4=5.75>>5.75 paintings in the second exhibit.\\nJavier made 23+5.75 = <<23+5.75=28.75>>28.75 paintings altogether for the first two exhibits.\\n#### 28.75'},\n",
       " {'question': 'John has built 8 model cars, which is half of the number of cars his friend Max has. If Max buys three more, how many cars will they have altogether?',\n",
       "  'answer': '\\nMax has 8*2 = <<8*2=16>>16 model cars.\\nMax will have 16+3 = <<16+3=19>>19 model cars after he buys 3 more.\\nJohn and Max will have 16+19 = <<16+19=35>>35 cars altogether.\\n#### 35'},\n",
       " {'question': 'A craft vendor at a festival sold 56 necklaces on Thursday. On Friday, the craft vendor sold 24 more than 1/3 as many necklaces as were sold on Thursday. How many necklaces did the craft vendor sell in total on the 2 days?',\n",
       "  'answer': '1/3 of 56 = <<1/3*56=18.666666666666668>>18.67.\\n24 more than 1/3 of 56 = 24+18.67 = <<24+18.67=42.67>>42.67 necklaces sold on Friday.\\nAdding Thursday and Friday necklaces sold: 56+42.67= <<56+42.67=98.67>>98.67 necklaces sold.\\n#### 98.67'},\n",
       " {'question': 'Brandon read 12 pages of his book on Saturday and 7 pages on Sunday. How many more pages did he read on Saturday than Sunday?',\n",
       "  'answer': 'Brandon read 12-7 = <<12-7=5>>5 pages more on Saturday than Sunday.\\n#### 5'},\n",
       " {'question': \"Christine sold 62 of her mother's homemade cakes over 4 weeks, with each week selling eight fewer cakes than the week before. How many cakes did she sell in the first week?\",\n",
       "  'answer': 'Week 2: 62-8 = <<62-8=54>>54 cakes\\nWeek 3: 54-8 = <<54-8=46>>46 cakes \\nWeek 4: 46-8 = <<46-8=38>>38 cakes\\n\\nWeek 1: 38+8 = <<38+8=46>>46 cakes\\n#### 46'},\n",
       " {'question': 'If Colleen divides 78 pencils equally between 3 people, how many pencils will each person get?',\n",
       "  'answer': 'Each person will get 78 / 3 = <<78/3=26>>26 pencils.'},\n",
       " {'question': 'Steve is starting a landscaping business. He wants to place a fence around the perimeter of his yard to protect his plants. If his yard is 40 feet long and 20 feet wide, how many feet of fencing will Steve need to put around the perimeter of his yard?',\n",
       "  'answer': \"The perimeter of a rectangle is 2(length) + 2(width).\\nSteve's yard is 40 feet long and 20 feet wide, so the perimeter is:\\n2(40) + 2(20) = 80 + 40 = <<80+40=120>>120 feet.\\nSteve will need 120 feet of fencing to put around the perimeter of his yard.\\n#### 120\"},\n",
       " {'question': 'Sam buys 3 bags of grapes every week. He gave half of these grapes to his mother last week. How many bags of grapes did Sam have left last week?',\n",
       "  'answer': 'Sam had 3/2 = <<3/2=1.5>>1.5 bags of grapes left last week.\\n#### 1.5'},\n",
       " {'question': 'John drove 768 miles from Florida to Maine. If he then drove 36% less miles on the way back, how many miles did John drive in total to get back and forth between the two states?',\n",
       "  'answer': '36% less of 768 miles is <<768*36/100=277>>277 miles.\\nJohn drove 768-277 = <<768-277=491>>491 miles on the way back.\\nJohn drove 768+491 = <<768+491=1259>>1259 miles to get back and forth between the two states.\\n#### 1259'},\n",
       " {'question': 'A farmer has 28 chickens. He sold a quarter of his chickens and bought 12 more chickens. How many chickens does the farmer have now?',\n",
       "  'answer': ' The farmer sold 28/4 = <<28/4=7>>7 chickens.\\nThe farmer now has 28-7 = <<28-7=21>>21 chickens.\\nThe farmer bought 12 more chickens.\\nThe farmer now has 21+12 = <<21+12=33>>33 chickens.\\n#### 33'},\n",
       " {'question': 'Jenny sold 279 tote bags from Monday through Thursday, and then she sold one third as many tote bags on Friday. How many tote bags did Jenny sell altogether from Monday through Friday?',\n",
       "  'answer': 'Jenny sold 279/3 = <<279/3=93>>93 tote bags on Friday.\\nJenny sold 279 + 93 = <<279+93=372>>372 tote bags altogether from Monday through Friday.\\n#### 372'},\n",
       " {'question': 'Jamie rode his bike half a mile to school in April, and then he rode twice as many miles in May. How many miles did Jamie ride altogether in April and May?',\n",
       "  'answer': 'Jamie rode 2 x 1/2 = <<2*1/2=1>>1 mile in May.\\nJamie rode 1 + 1/2 = <<1+1/2=1.5>>1.5 miles altogether in April and May.\\n#### 1.5'},\n",
       " {'question': 'Maria ran half a mile each day for 2 weeks. How many miles did Maria run in total?',\n",
       "  'answer': 'Maria ran half a mile /2 = <<1/2=0.5>> 0.5 miles each day.\\nMaria ran 0.5 miles * 14 = <<0.5*14=7>> 7 days = <<7>> 7 miles in total.\\n#### 7'},\n",
       " {'question': 'In March 2023, a small resort in Dowagiac, MI rented out 150 snowmobiles and 72 snowshoes. The resort makes 10 dollars for every snowmobile rented; how much did they make from snowmobile rentals in March?',\n",
       "  'answer': 'The resort made <<150 * 10=1500>>1500 dollars from snowmobile rentals in March.\\n#### 1500'},\n",
       " {'question': 'There are 60 students in two classes. If there are 3 girls for every 2 boys, how many girls and how many boys are in these two classes?',\n",
       "  'answer': 'Let there are x boys and x*3/2 girls.\\nTotal x + x * 3/2= x(1 + 3/2) = 60\\nTherefore x*(5/2) = 60.\\nTherefore x = 60*2/5 = <<12>>12\\nTherefore x*3/2 = 12*3/2 = <<18>>18\\nSo the number of girls is <<18>>18 and that of boys is <<12>>12.\\n#### **Answer: 18 and 12**'},\n",
       " {'question': 'A computer store sold half of a box of 100 cds during lunch hour, and then later sold 12 more. How many cds are left?',\n",
       "  'answer': 'The store sold 100/2 = <<100/2=50>>50 cds during lunch hour, and later 12 more cds.\\n\\nThe store sold 50+12 = <<50+12=62>>62 cds in total.\\n#### 38'},\n",
       " {'question': \"Weighing Johnny, Mike, and Kevin, Carly found that Mike's weight was one fourth Johnny's. She also found that her weight was twice Mike's. If Carly's weight is 66 pounds, how much more does Johnny weigh than Kevin?\",\n",
       "  'answer': 'Mike weighs 66 / 2 = << 66/2 = 33>>33 lbs.\\nJohnny weighs 33 * 4 = <<33*4=132>>132 lbs.\\nKevin weighs 66 - 33 = <<66-33=33>> 33 lbs.\\nJohnny weighs 132 - 33 = 99 lbs more than Kevin.\\n####  99'},\n",
       " {'question': 'There were 46 people at the party. Halfway through the party, 12 more people arrived. How many people were at the party altogether?',\n",
       "  'answer': 'There were 46/2 = <<46/2=23>>23 more people who arrived at the party.\\nThere were 46+23 = <<46+23=59>>59 people at the party altogether.\\n#### 59'},\n",
       " {'question': 'A bicycle store has 30 red bikes, 15 orange bikes, and 8 blue bikes left in stock. The manager wants to remove every bike that is not red from the stock and replace it with a new black bike. How many black bikes will the manager need to add to the stock?',\n",
       "  'answer': 'The manager will need to remove 15 + 8 = <<15+8=23>>23 bikes from the stock.\\nThe manager will need to add 23 black bikes to the stock.\\n#### 23'},\n",
       " {'question': 'In April, Hilary sold 14/37 of the baseball cards in her shop, and in May she sold 3 more cards than three times the number of cars she sold in April. How many baseball cards did Hilary sell in April and May?',\n",
       "  'answer': 'Three times the number of baseball cards Hilary sold in April is:\\n\\n```\\n3 * 14/37 = <<3 * 14/37>>42/37\\n```\\nShe sold 42/37 of her baseball cards in April and 3 + 42 / 37 of her baseball cards in May, for a total of:\\n\\n```\\n3 + 42/37 = <<3 + 42/37>>141/37\\n```\\nMultiplying by the total number of cards:\\n\\n```\\n141/37 * 37 = <<141/37 * 37>>141 baseball cards\\n```\\n#### 141'},\n",
       " {'question': 'Shonda had 146 postcards from all the places she traveled to. She gave a quarter of them away to friends and then went to Hawaii last month where she purchased 42 more. How many postcards does Rhonda have now?',\n",
       "  'answer': 'Shonda gave away 146/4 = <<146/4=36>>36 postcards.\\nShe had 146−36=<<146−36=110>>110 postcards remaining.\\nShe went to Hawaii last month and purchased 42 more postcards.\\nShe has 110+42 = <<110+42=152>>152 postcards now.\\n#### 152'},\n",
       " {'question': \"Monica works at a company that pays her $500 per week plus 5% of her total sales for the week. Last week, Monica's total sales were $8,000. How much money did Monica make last week?\",\n",
       "  'answer': \"The bonus is 0.05*8000 = 400.\\nMonica's earnings last week was 500+400 = <<500+400=900>>900.\\n#### 900\"},\n",
       " {'question': 'A clothing store had 700 shirts in stock. They sold 25% of their shirts in January, and then they received a shipment of 125 new shirts. How many shirts did the clothing store have left in stock after January?',\n",
       "  'answer': 'The clothing store sold 25% of 700 = 700*25/100=<<700*25/100=175>>175 shirts in January.\\nThe clothing store had 700-175 = <<700-175=525>>525 shirts left in stock after January.\\nThen, the clothing store received 125 new shirts, so they had 525+125 = <<525+125=650>>650 shirts in stock.\\n#### 650'},\n",
       " {'question': 'There are originally 225 tomatoes sitting on a shelf. A store clerk comes by and replaces half the tomatoes with cucumbers. How many of the original tomatoes are left on the shelf?',\n",
       "  'answer': 'The clerk replaces 225/2 = <<225/2=112.5>>112.5 tomatoes with cucumbers.\\nOnly 225-112.5 = <<225-112.5=112.5>>112.5 tomatoes are left on the shelf.\\n#### 112.5'},\n",
       " {'question': \"Tim's mom had 32 cookies on Monday and gave away 5 cookies. On Tuesday, she baked twice as many cookies and gave away 7 cookies. How many cookies did Tim's mom give away in total?\",\n",
       "  'answer': \"Tim's mom gave away 5 cookies on Monday.\\nOn Tuesday, she baked 2 * 32= <<2*32=64>>64 cookies and gave away 7 cookies.\\nIn total, Tim's mom gave away 5 + 7 = <<5+7=12>>12 cookies.\\n#### 12\"},\n",
       " {'question': 'Jan picked 48 cans of strawberries in the afternoon, which was half as many as he had picked up till noon. How many cans had Jan picked in total that day?',\n",
       "  'answer': 'Jan picked 48/2 = <<48/2=24>>24 cans of strawberries up till noon.\\nJan picked 24+48 = <<24+48=72>>72 cans in total that day.\\n#### 72'},\n",
       " {'question': 'A tailor made hats for 20 customers in March, and twice as many hats in April. After that, he stopped making hats. How many hats did the tailor make in March and April?',\n",
       "  'answer': 'The tailor made 20*2 = <<20*2=40>>40 hats in April.\\nHe made 20+40 = <<20+40=60>>60 hats altogether in March and April.\\n#### 60'},\n",
       " {'question': 'A donut shop sells 72 old-fashioned donuts a day. If a dozen old-fashioned donuts costs $12.00, how much money will the store make from selling old-fashioned donuts in a week?',\n",
       "  'answer': 'There are 72 old-fashioned donuts a day * 7 days = <<72*7=504>>504 old-fashioned donuts in a week.\\n\\nA dozen old-fashioned donuts costs $12.00, so the store can sell 12 old-fashioned donuts for $12.00. 504 old-fashioned donuts = <<504/12=42>> dozens.\\n\\nThe price for 504 old-fashioned donuts = 42 dozens * $12.00/dozen = <<42*12=504>>$504\\n#### 504'},\n",
       " {'question': 'Larry has 1,242 baseball cards. He wants to keep 12 of his favorite cards, and sell the others for $0.25 each. If Larry has already sold 389 of his non-favorite cards, how much money has he earned so far?',\n",
       "  'answer': 'Larry has sold $\\\\$0.25 *389 =$  <<0.25*389=97.25>> 97.25 so far.'},\n",
       " {'question': 'In July, Sam earned as much money as he earned in June. In both months he earned four times as much money as he earned in May. Sam earned $40 in May. How much money did Sam earn in June and July together?',\n",
       "  'answer': 'In May, Sam earned $40.\\nIn June, Sam earned 4*40 = $<<4*40=160>>160.\\nIn July, Sam earned $160.\\nSam earned 160+160 = $<<160+160=320>>320 altogether in June and July.\\n#### 320'},\n",
       " {'question': \"John took Sandy's dog, Max, to PetSmart to get groomed as a Christmas present for Sandy.  He paid \\\\$17.99 for the grooming, and \\\\$29.99 for a holiday bow tie.  How much did John pay PetSmart?\",\n",
       "  'answer': 'John paid PetSmart 17.99+29.99 = <<17.99+29.99>>$\\\\$47.98.\\n#### 47.98'},\n",
       " {'question': 'I have 20 comic books. I read 4 of my comic books last night and I will read twice as many comic books as I read last night on Saturday. How many comic books will I still have on Sunday?',\n",
       "  'answer': 'You will read 4 * 2 = <<4*2=8>>8 comic books on Saturday.\\nYou will have 20 - 8 = <<20-8=12>>12 comic books left on Sunday.\\n#### 12'},\n",
       " {'question': \"My dog's favorite food brand is called 'Winner.' Yesterday, he ate a third of the 36-pound bag of Winner dog food. How many pounds of dog food did my dog eat yesterday?\",\n",
       "  'answer': 'My dog ate 36/3 = <<36/3=12>>12 pounds of dog food yesterday.\\n#### 12'},\n",
       " {'question': 'In June, there were 28 days. If Natalia sold 13 clips each day, how many clips did she sell in the entire month of June?',\n",
       "  'answer': 'Natalia sold a total of 13 x 28 = <<13*28=364>>364 clips in the month of June.\\n#### 364'},\n",
       " {'question': 'Miguel bought 54 roses from the flower market in June for his mom and 27 white roses per dozen to ask someone out on a date that month. How many white roses did Miguel buy for asking someone on a date?',\n",
       "  'answer': 'Miguel bought 27 roses per dozen for asking someone out on a date.\\nThere are 12 roses in a dozen.\\nMiguel bought 27/12 = <<27/12=2.25>>2 dozen white roses.\\nMiguel bought 2*27 = <<2*27=54>>54 white roses for asking someone on a date.\\n#### 54'},\n",
       " {'question': 'A store currently has 44 remote controls in stock. On Monday, the store received a shipment of 10 more remote controls and later sold 8 remote controls to customers. How many remote controls are now in stock?',\n",
       "  'answer': 'The store received a shipment of 10 remote controls, so it now has 44+10 = <<44+10=54>>54 remote controls.\\nThe store then sold 8 remote controls, so it now has 54-8 = <<54-8=46>>46 remote controls in stock.\\n#### 46'},\n",
       " {'question': \"In June, a certain store's sales were twice what they were in July. The store made $$10,295 in July. How much did the store make in June?\",\n",
       "  'answer': 'Let x be the amount the store made in June.\\n\\nWe know that the store made twice as much in June as it did in July. So, we can write an equation:\\n\\n```\\nx = 2 * $$10,295\\n```\\n\\nSolving for x, we get:\\n\\n```\\nx = 2 * $10,295 = <<2 * 10295=20590>>$20,590\\n```\\n\\nSo, the store made $20,590 in June.\\n#### $20,590'},\n",
       " {'question': 'A big store sold a total of 120 articles on Thursday, which was one fourth as many as it had sold the previous day, Wednesday. How many articles did the store sell on Wednesday?',\n",
       "  'answer': 'The store sold 120/4 = <<120/4=30>>30 articles on Wednesday.\\n#### 30'},\n",
       " {'question': 'There are 72 students in a school concert band.  If 5/6 of the students play the clarinet, how many students do NOT play the clarinet?',\n",
       "  'answer': '5/6 of 72 students play the clarinet.\\nSo 5/6 x <<72=72>>72=60\\n60 students play the clarinet.\\n72-60=<<72-60=12>>12 students do not play the clarinet.\\n#### 12'},\n",
       " {'question': \"There are several birds chirping outside, and it's waking me up early. I count 16 birds in one tree and 12 birds in another tree. How many more birds are there in the first tree than in the second tree?\",\n",
       "  'answer': 'I count 16 birds in one tree and 12 birds in another tree.\\n16-12 = <<16-12=4>>4\\n#### 4'},\n",
       " {'question': 'On Saturday Ms. Yamada bought 35 apples and 21 pears. How many apples did she buy on Wednesday if she bought half as many apples as she bought on Saturday?',\n",
       "  'answer': 'On Saturday Ms. Yamada bought 35 apples and 21 pears.\\nOn Wednesday Ms. Yamada bought 35/2 = <<35/2=17.5>>17.5 apples.\\n#### 17.5'},\n",
       " {'question': 'In June, farmers harvested 75,000 pounds of cranberries. In July, they harvested 3 times as many cranberries as in June. How many pounds of cranberries did they harvest altogether in June and July?',\n",
       "  'answer': 'They harvested 75000*3 = <<75000*3=225000>>225000 pounds of cranberries in July.\\nThey harvested 75000+225000 = <<75000+225000=300000>>300000 pounds of cranberries altogether in June and July.\\n#### 300000'},\n",
       " {'question': 'Jamal had 12 pencils. He gave half to his friend, and then his friend gave Jamal 4 pencils back. How many pencils does Jamal have now?',\n",
       "  'answer': 'Jamal gave 12/2 = <<12/2=6>>6 pencils to his friend.\\nJamal now has 12-6 + 4 = <<12-6+4=10>>10 pencils.\\n#### 10'},\n",
       " {'question': 'In April, David sold 345 apples a day, and in May he sold half as many each day. How many apples did David sell in total during April and May?',\n",
       "  'answer': 'David sold 345/2 = <<345/2=172.5>>172.5 apples a day in May.\\nDavid sold 345+172.5 = <<345+172.5=517.5>>517.5 apples in April and May.\\n#### 517.5'},\n",
       " {'question': 'Jamila sorted a large bag of marbles into 60 groups of 7 marbles in almost no time at all. How many marbles did Jamila sort altogether?',\n",
       "  'answer': 'Jamila sorted 7 marbles * 60 groups = <<60*7=420>>420 marbles altogether.\\n#### 420'},\n",
       " {'question': 'When Mike went to the mall on Monday, he had $$35 in cash plus $16 on a gift card. He bought a book for $$13 and used the gift card to buy a new hat. How much money did Mike have left altogether?',\n",
       "  'answer': 'Mike had $35 + \\\\$16 = $51 in total initially. \\nHe bought a book with $13. \\nHe has $51 - $13 = $38 left. \\nHe spent an unknown amount of money on a hat. \\nLet x be the amount of money he spent.\\nSo he has $38 - x left.\\nTherefore, $$$38 - x is the total amount of money he has left altogether.\\n#### $$$38 - x'},\n",
       " {'question': 'Sean and Claire drove together a total of 115 miles.  If Sean drove 3 more miles than Claire, how many miles did Sean drive?',\n",
       "  'answer': \"Sean drove 3 miles more than Claire.\\nLet's say Claire drove <<x>> miles.\\nThen, Sean drove <<x+3>> miles.\\nSo, \\nx + (x+3) = 115\\n2x + 3 = 115\\n2x = 115 - 3\\n2x = 112\\nx = 112/2\\nx = 56\\nSean drove x+3 = 56+3 = <<56+3=59>>59 miles.\\n#### 59\"},\n",
       " {'question': 'Emily rode her bicycle 23 kilometers last month. Her brother rode his bicycle 5 kilometers less than Emily last month. How many kilometers did Emily and her brother ride their bicycles altogether last month?',\n",
       "  'answer': \"Emily's brother rode 23 - 5 = <<23-5=18>>18 kilometers last month.\\n\\nEmily and her brother rode 23 + 18 = <<23+18=41>>41 kilometers altogether last month.\\n#### 41\"},\n",
       " {'question': 'The pizza hut is 1.5 miles from my house, and I walk at a speed of 2 miles per hour. How long will it take me to get to the pizza hut?',\n",
       "  'answer': '1.5 miles / 2 miles per hour = <<1.5 miles / 2 miles per hour=0.75>>0.75 hours = <<0.75 hours*60=45>>45 minutes\\n#### 0.75'},\n",
       " {'question': 'In October, 170 students registered for a robotics club. Twice as many students joined the robotics club in November. In total, how many students joined the robotics club in October and November?',\n",
       "  'answer': 'Twice as many students joined the robotics club in November, so 170 x 2 = <<170x2=340>>340 students joined in November.\\nIn total, 170 + 340 = <<170+340=510>>510 students joined the robotics club in October and November.\\n#### 510'},\n",
       " {'question': 'The owner of an online book store shipped orders to 35 customers on Monday, and then he shipped 15 more orders than that on Tuesday. How many orders did the bookstore owner ship altogether on Monday and Tuesday?',\n",
       "  'answer': 'The bookstore owner shipped 35 + (35 + 15) = <<35 + 35 + 15=85>>85 orders altogether on Monday and Tuesday.\\n#### 85'},\n",
       " {'question': 'Giovanni spent 1/2 of his money on Monday and 1/4 of the remaining amount on Tuesday. If he had 100 dollars at the beginning of the week, how much money does he have left?',\n",
       "  'answer': 'Giovanni spent 1/2 of 100 = <<1/2 * 100=50>>50 dollars, leaving him with 100-50 = <<100-50=50>>50 dollars.\\nGiovanni spent 1/4 of 50 = <<1/4 * 50=12.5>>12.5 dollars on Tuesday.\\nGiovanni has 50-12.5 = <<50-12.5=37.5>>37.5 dollars left.\\n#### 37.5'},\n",
       " {'question': 'Sarah sold 134 cups of coffee in Monday and Tuesday, and then she sold 23 fewer cups of coffee in Wednesday. How many cups of coffee did Sarah sell altogether in Monday, Tuesday, and Wednesday?',\n",
       "  'answer': 'Sarah sold 134−23 = <<134−23=111>>111 cups of coffee Wednesday.\\nSarah sold 134+111 = <<134+111=245>>245 cups of coffee altogether in Monday, Tuesday, and Wednesday.\\n#### 245'},\n",
       " {'question': 'There are 32 students taking karate lessons at Old Town Dojo and twice as many taking karate lessons at Riverside Dojo. If half of the Old Town Dojo students renew their membership after 90 days, and half of the Riverside Dojo students renew their membership after 90 days, how many karate students in both dojos combined will renew their membership?',\n",
       "  'answer': 'There are 2×32 = 64 karate students taking lessons at Riverside Dojo.\\nThere are a combined total of 32+64 = <<32+64=96>>96 karate students taking lessons at both Dojos.\\nHalf of the 32 students at Old Town Dojo will renew their membership, which is 32/2 = <<32/2=16>>16 students.\\nHalf of the 64 students at Riverside Dojo will renew their membership, which is 64/2 = <<64/2=32>>32 students.\\nA total of 16+32 = <<16+32=48>>48 students will renew their membership.\\n#### 48'},\n",
       " {'question': 'A farmer has 17 cows and 9 sheep. How many animals does the farmer have altogether?',\n",
       "  'answer': 'Adding 17 cows and 9 sheep, we get a total of 17+9 = <<17+9=26>>26 animals.\\n#### 26'},\n",
       " {'question': 'Lisa sold 86 stickers in January and 47 stickers in February. How many stickers did Lisa sell in the two months combined?',\n",
       "  'answer': 'Lisa sold 86+47 = <<86+47=133>>133 stickers in the two months combined.'},\n",
       " {'question': 'Enrique sold 12 bags of fertilizer in August and 3/4 as many bags of fertilizer in September. How many bags of fertilizer did Enrique sell altogether in August and September?',\n",
       "  'answer': 'Enrique sold 12*3/4=<<12*3/4=9>>9 bags of fertilizer in September \\nEnrique sold 12+9=<<12+9=21>>21 bags of fertilizer altogether in August and September.\\n#### 21'},\n",
       " {'question': 'Susie sold 128 pairs of socks in March, twice as many pairs in April, and then half as many pairs in May.  How many pairs of socks did Susie sell altogether in March, April, and May?',\n",
       "  'answer': 'Susie sold 128/2 = <<128/2=64>>64 pairs of socks in May.\\nSusie sold 128+64 = <<128+64=192>>192 pairs of socks altogether in March, April, and May.\\n#### 192'},\n",
       " {'question': 'Jillian had baked 52 muffins last week and ate 34 of them. Then, her mother gave her another 34 muffins. How many muffins does Jillian have now?',\n",
       "  'answer': 'Jillian has 52 - 34 = <<52-34=18>>18 muffins leftover. Her mother gave her 34 muffins.\\nJillian has 18 + 34 = <<18+34=52>>52 muffins now.\\n#### 52'},\n",
       " {'question': 'Hector ate 12 of a large pizza in one day. The next day, he ate twice as many pieces of pizza. How many pieces of pizza did Hector eat in all?',\n",
       "  'answer': 'Hector ate 2*12 = <<2*12=24>>24 pieces of pizza the next day.\\nHector ate 12+24 = <<12+24=36>>36 pieces of pizza in all.\\n#### 36'},\n",
       " {'question': 'Doretha was cooking some salmon at her house. First, Doretha used 2/5 bags of salmon for a salad, and then she used 1 fifth bag of salmon to make croquettes. How many bags of salmon did she use in total?',\n",
       "  'answer': 'Doretha used 2/5 = <<2/5=0.4>>0.4 bags of salmon for a salad, and then she used 1/5 = <<1/5=0.2>>0.2 bags of salmon to make croquettes.\\nDoretha used 0.4+0.2 = <<0.4+0.2=0.6>>0.6 bags of salmon in total.\\n#### 0.6'},\n",
       " {'question': 'In the month of March Abner sold 16 tulip bouquets and 20 rose bouquets. In April, he sold twice as many tulip bouquets as before but half as many rose bouquets. How many bouquets, in total, had Abner sold in the two months?',\n",
       "  'answer': 'Abner sold 2×16 = <<2*16=32>>32 tulip bouquets in April.\\nAbner sold 20÷2 = <<20/2=10>>10 rose bouquets in April.\\nAltogether, Abner sold 16+32+20+10 = <<16+32+20+10=78>>78 bouquets.\\n#### 78'},\n",
       " {'question': 'Tonya wants to buy 6 oranges a day for 7 days a week. There are 4 oranges in a bag. How many bags of oranges should Tonya buy?',\n",
       "  'answer': 'Tonya wants to buy 6x7 = <<6x7=42>>42 oranges a week.\\nThere are 4 oranges in a bag.\\nTonya should buy 42/4 = <<42/4=10.5>>10.5 bags of oranges.\\n#### 10.5'},\n",
       " {'question': \"There are 18 people training for a race. The youngest runner is 13 years old and the oldest runner is 33 years old. What is the difference between the youngest runner's age and the oldest runner's age?\",\n",
       "  'answer': 'Oldest - Youngest = 33-13 = <<33-13=20>>20\\n#### 20'},\n",
       " {'question': 'Anu mows 36 lawns in one month, bringing in \\\\$585. How much does she make per lawn?',\n",
       "  'answer': 'Anu makes 585/36 = <<585/36=16.25>>16.25 dollars per lawn.\\n#### 16.25'},\n",
       " {'question': 'The original price of a shirt was \\\\$26. It went on sale at 10% off. What was the sale price of the shirt?',\n",
       "  'answer': '10% off means that the shirt is being sold at 100% - 10% = <<100-10=90>>90% of the original price.\\nThe discounted amount is \\\\$26 * 90/100 = <<(2.6*9)/(10)=2.34>>\\\\$2.34 (i.e., \\\\$2.34 less than the original price).\\nTherefore, the sale price of the shirt is \\\\$26 - \\\\$2.34 = <<26-2.34=23.66>>\\\\$23.66\\n#### 23.66'},\n",
       " {'question': 'A small business buys 36 boxes of pencils each month with 72 pencils in each box. How many pencils does the business buy in a year?',\n",
       "  'answer': 'The business buys 36*72 = <<36*72=2592>>2,592 pencils each month.\\nThe business buys 2,592*12 = <<2,592*12=30,684>>30,684 pencils in a year.\\n#### 30684'},\n",
       " {'question': 'In the year 2020, David made $81,000. In the year 2021, he made 10% more than he made in 2020. How much money did David make in 2021?',\n",
       "  'answer': '10% of $81,000 is 0.1*$81,000 = <<0.1*$81,000=8100>>$8,100.\\nDavid made $81,000 + $8,100 = <<$81,000+$8,100=$89,100>>$89,100 in 2021.\\n#### 89100'},\n",
       " {'question': 'A catering company bought new plates for 39 of its clients. If 6 additional clients joined each month, how many new plates did the catering company buy in  June if the catering company has been in business for 8 months?',\n",
       "  'answer': 'So the Catering company was in business for 8 months and each month they bought plates for 6 more clients than the previous month.  In the first month, they bought plates for 39 clients.\\nIn the 2nd month, they bought plates for 39+6=45 clients.\\nIn the 3rd month, they bought plates for 45+6=51 clients.\\nIn the 4th month, they bought plates for 51+6=57 clients.\\nIn the 5th month, they bought plates for 57+6=63 clients.In the 6th month, they bought plates for 63+6=69 clients.\\nIn the 7th month, they bought plates for 69+6=75 clients.\\nIn the 8th month, they bought plates for 75+6=81 clients.\\nSo in Total, they bought plates for 39+45+51+57+63+69+75+81 = [39, 45, 51, 57, 63, 69, 75, 81 ==> 480] <<39+45+51+57+63+69+75+81=480>> plates in 8 months.\\n#### 480'},\n",
       " {'question': 'A grocery store sells microwaved oatmeal in 24 different flavors.  Once a month, an inspector comes in to decide which of the flavors will be the special for the next 3 weeks.  How many months will it take until every flavor of oatmeal is on special?',\n",
       "  'answer': 'The inspector chooses a different flavor each month for 3 weeks, so the number of weeks it would take to go through all flavors is 24/3 = <<24/3=8>>8.  There are 4 weeks in a month, so the number of months it would take to go through all the flavors is 8/4 = <<8/4=2>>2.\\n#### 2'},\n",
       " {'question': 'Mr. Dunn ran 2.13 km each day in January, and then he ran three times as much in February. How many kilometers did Mr. Dunn run altogether in January and February?',\n",
       "  'answer': 'Mr. Dunn ran 2.13 x 3 = <<2.13*3=6.39>>6.39 km in February.\\nMr. Dunn ran 2.13+6.39 = <<2.13+6.39=8.52>>8.52 kilometers altogether in January and February.\\n#### 8.52'},\n",
       " {'question': 'Last month, Lisa practiced guitar 3 times a week for 5 weeks. How many times did Lisa practice guitar last month?',\n",
       "  'answer': 'Lisa practiced for 3 days a week.\\nLisa practiced for 3 x 5 = <<3x5=15>>15 times last month.\\n#### 15'},\n",
       " {'question': 'Last year, a coffee shop sold 300 bags of coffee in June, and then it sold 2/3 as many bags of coffee in July. How many bags of coffee did the coffee shop sell altogether in June and July?',\n",
       "  'answer': 'The coffee shop sold 300*2/3 = <<300*2/3=200>>200 bags of coffee in July.\\nThe coffee shop sold 300+200 = <<300+200=500>>500 bags of coffee altogether in June and July.\\n#### 500'},\n",
       " {'question': 'Pedro climbed 12 flights of stairs. Each flight of stairs had 25 steps. 5 flights of stairs had a broken step, so he had to skip it and go up over the handrail. How many steps did Pedro climb?',\n",
       "  'answer': 'Pedro climbed 12 * 25 = <<12 * 25=300>>300 steps in total.\\n\\n5 flights of stairs had a broken step, so he skipped a step in 5 * 25 = <<5 * 25=125>>125 steps.\\n\\n300 - 125 = <<300 - 125=175>>175 steps\\n#### 175'},\n",
       " {'question': 'There is a sale on raincoats. Each raincoat has the original price of $64. The discount rate is 30%. Anita bought 2 raincoats. How much money did Anita save?',\n",
       "  'answer': 'The discounted price of each raincoat is $64 x (1-30/100) = <<64 x (1-30/100)=44.8>>44.8.\\nAnita saved (64-44.8) x 2 = <<(64-44.8) x 2=38.4>>38.4 dollars.\\n#### 38.4'},\n",
       " {'question': 'A farmer planted a field of sunflowers this summer and one acre of the field produces about 1000 sunflowers. The field is 12.4 acres. How many sunflowers there are?',\n",
       "  'answer': 'One acre of the field produces about 1000 sunflowers.\\nso 12.4 acres will produce 1000 * 12.4 = <<1000*12.4=12400>>12400 sunflowers.\\n#### 12400'},\n",
       " {'question': 'The cost of producing a book is Rs.2250. If the publisher sells the book at the cost price, what is the discount percentage given by him?',\n",
       "  'answer': 'No discount is given if the book is sold at cost price.\\n#### 0%'},\n",
       " {'question': 'Regina has already finished more than half of her project, and Dasha has just started working on her project. Dasha will nevertheless be able to finish her project by the end of the week. Is it possible that Dasha will be able to finish 2/3 of her project by the end of the week?',\n",
       "  'answer': 'Yes, it is possible that Dasha will be able to finish 2/3 of her project by the end of the week. She has already started working on her project, and she will be able to finish it by the end of the week. Therefore, she will be able to finish at least 1/3 of her project by the end of the week. Since she will be able to finish at least 1/3 of her project by the end of the week, it is possible that she will be able to finish 2/3 of her project by the end of the week.\\n#### yes'},\n",
       " {'question': 'A shop sold 234 clothing sets over the past 2 days. 95 clothing sets were sold on the first day. How many clothing sets did the shop sell on the second day?',\n",
       "  'answer': 'The shop sold 234-95 = <<234-95=139>>139 clothing sets on the second day.\\n#### 139'},\n",
       " {'question': 'Daniel sold 60 pencils in September, and then he sold 27 fewer pencils in October. In November, he sold twice as many pencils as he did in October. How many pencils did Daniel sell from September to November?',\n",
       "  'answer': 'Daniel sold 60-27 = <<60-27=33>>33 pencils in October.\\nDaniel sold 33*2 = <<33*2=66>>66 pencils in November.\\nDaniel sold 60+33+66 = <<60+33+66=159>>159 pencils from September to November.\\n### 159'},\n",
       " {'question': 'Deborah purchased 412 pencils in April. She returned 212 pencils and then bought 309 pencils. How many pencils does Deborah currently have?',\n",
       "  'answer': '412 pencils - 212 returned pencils + 309 new pencils = \\n412 - 212 + 309 = 509 pencils.\\n#### 509'},\n",
       " {'question': 'Anju made 12 bookmarks for her friends, and her sister made 1/2 that amount. How many bookmarks did Anju and her sister make altogether?',\n",
       "  'answer': \"Anju's sister made 12/2 = <<12/2=6>>6 bookmarks.\\nTogether, Anju and her sister made 12+6 = <<12+6=18>>18 bookmarks.\\n#### 18\"},\n",
       " {'question': 'The rectangular garden has a perimeter of 40 feet, and its width is 8 feet less than its length. What is the length of the garden?',\n",
       "  'answer': ' Let’s let x represent the length of the rectangular garden.\\nThe width of the garden is 8 feet less than the length of the garden, which can be expressed as: x - 8\\n\\nThe perimeter of a rectangular garden is 2(length + width).\\n \\nSo, 2(length + width) = 40\\n2(x + (x - 8)) = 40\\n2(x + x - 8) = 40\\n2(2x - 8) = 40\\n4x - 16 = 40\\n4x = 40 + 16\\n4x = 56\\nx = 56/4\\n#### 14'},\n",
       " {'question': \"On Wednesday, Signe got 15948 compliments. On Thursday, the number of compliments Signe got was 76% of Wednesday's number. How many compliments did Signe get in total on Wednesday and Thursday?\",\n",
       "  'answer': 'Signe got 15948 <<15948*0.76=12136.8>>12137 compliments on Thursday.\\nSigne got 15948+12137 = <<15948+12137=28085>>28085 compliments in total on Wednesday and Thursday.\\n#### 28085'},\n",
       " {'question': 'Tyshawn had 35 toy trucks in January. He lost 2/5 of his toy trucks. How many toy trucks does Tyshawn have now?',\n",
       "  'answer': 'Tyshawn lost 35/5*2 = <<35/5*2=14>>14 toy trucks.\\nTyshawn has 35-14 = <<35-14=21>>21 toy trucks now.\\n#### 21'},\n",
       " {'question': 'In March, Jeremiah ordered 144 onions for his onion ring stand.  In April, he ordered 312 onions, or twice as many as he ordered in March.  How many onions did Jeremiah order in March and April altogether?',\n",
       "  'answer': 'Jeremiah ordered 2 X 144 = <<2 * 144=288>>288 onions in April.\\nJeremiah ordered 144+288 = <<144+288=432>>432 onions altogether in March and April.\\n#### 432'},\n",
       " {'question': 'Brad bought boxes of cereal for himself and each of his 7 siblings. But then, his 4 cousins came over for breakfast and each cousin ate 2 bowls of cereal. How many bowls of cereal did Brad buy altogether?',\n",
       "  'answer': 'Brad bought cereal for himself and his 7 siblings, which is 8 people in total.\\nHe bought 8 boxes of cereal.\\nThen, 4 cousins came over and each ate 2 bowls of cereal, which is 8 bowls of cereal.\\nSo, Brad bought 8+8 = <<8+8=16>>16 bowls of cereal altogether.\\n#### 16'},\n",
       " {'question': 'Jules scored 8 field goals in the first half of the basketball game, and 3 times that many field goals in the second half. How many field goals did Jules score in total?',\n",
       "  'answer': 'Jules scored 3x8 = <<3*8=24>>24 field goals in the second half.\\nJules scored 8+24 = <<8+24=32>>32 field goals total.\\n#### 32'},\n",
       " {'question': 'Fiona ate a quarter of a pizza and her brother ate one sixth. How many sixths of the pizza did Fiona and her brother eat altogether?',\n",
       "  'answer': \"Fiona ate 1/4 of the pizza which is 2/6 of the pizza\\nFiona's brother ate 1/6th of the pizza\\nSo, Fiona and her brother ate a total of 2/6 + 1/6 = 3/6 = <div>1/2</div> of the pizza.\"},\n",
       " {'question': 'As of November 24th, there were 217 students in Hawthorne Elementary School. 3 months earlier, Hawthorne Elementary School had 187 students. How many students joined Hawthorne Elementary School the last three months?',\n",
       "  'answer': 'Hawthorne gained 217-187 = <<217-187=30>>30 students the past three months.\\n#### 30'},\n",
       " {'question': \"Our school had 678 students when the year began in September. If new students join every month, and by October 1st the school's total is up to 730 students, how many new students joined in October?\",\n",
       "  'answer': 'In October, there were 730 - 678 = 52 new students.\\n### 52'},\n",
       " {'question': \"There are twenty-four children in Anna's class. The teacher divides all the children into 4 equal teams to play dodgeball. How many members are in each team?\",\n",
       "  'answer': 'There are 24 / 4 = <<24/4=6>>6 members on each team.\\n#### 6'},\n",
       " {'question': 'Kamila spent £7.67 to buy some pens in September. In October she spent half as much money to buy pencils. How much money did she spend in September and October?',\n",
       "  'answer': 'Kamila spent £7.67/2 = <<7.67/2=3.835>>3.84 in October.\\nKamila spent £7.67+3.84 = <<7.67+3.84=11.51>>11.51 in September and October.\\n#### 11.51'},\n",
       " {'question': 'In a town, the number of bicycles sold decreased by 1/5 from 105 to 51. How many bicycles were sold in the second month?',\n",
       "  'answer': 'The number of bicycles sold decreased by 1/5 means 4/5 of the bicycles were sold in the second month.\\n4/5 of 105 bicycles is 4/5 * 105 = <<4/5 * 105=84>>84\\nbicycles.\\n#### 84'},\n",
       " {'question': 'Jeremy drove 101 miles on Tuesday, and then he drove twice as many miles on Wednesday. How many miles did Jeremy drive altogether on Tuesday and Wednesday?',\n",
       "  'answer': 'Jeremy drove 101 x 2 = <<101x2=202>>202 miles on Wednesday.\\nJeremy drove 101+202 = <<101+202=303>> 303 miles altogether on Tuesday and Wednesday.\\n#### 303'},\n",
       " {'question': 'When Hannah was 24, David was 36. Now David is 40. How old is Hannah now? Does David or Hannah have a greater age?',\n",
       "  'answer': 'Hannah is 40-24 = <<40-24=16>>16 years older than she was when David was 36.\\n24+16 = <<24+16=40>>40.\\nHannah is now 40.\\nDavid is 40.\\nDavid and Hannah have the same age now.\\n#### 40'},\n",
       " {'question': 'At a restaurant, 75% of customers ordered french fries to go. If 30 customers did not order french fries, how many customers ordered french fries?',\n",
       "  'answer': 'If 30 customers did not order french fries, this means that 100% - 75% = 25% ordered french fries.\\nThe number of customers who ordered french fries is 100% - 25% = 75%.\\nTherefore, 75% of the total number of customers is: 75/100 * n, where n is the total number of customers.\\nIf 30 customers did not order french fries, then the total number of customers is 30/25% = 120.\\nTherefore, 75% of the total number of customers is 75/100 * 120 = <<75/100*120=90>>90 customers.\\n#### 90'},\n",
       " {'question': 'John collected 3 stamps on Monday, which was 4 less than half the number of stamps he collected on Tuesday. How many stamps did John collect on Friday, if he collected one-third as many as he did on Tuesday?',\n",
       "  'answer': 'John collected 4 LESS than half the number of stamps on Tuesday, so he collected 3 + <<3*2-4=2>>2 = 5 stamps on Tuesday.\\nJohn collected <<5/3=1.6666666666666667>>1.667 stamps on Friday.\\n#### 1'},\n",
       " {'question': 'Joan was helping to stock the shelves at her local grocery store with bananas. She stacked half of the bananas into small crates, and she stacked a third of the remaining bananas into medium crates. If there were 960 bananas total, how many went into the medium crates?',\n",
       "  'answer': 'Remaining bananas = 960/2 = <<960/2=480>>480\\nStacked into medium crates = 480/3 = <<480/3=160>>160\\n#### 160'},\n",
       " {'question': 'Julia reads 177 pages in English class each week. How many pages does Julia read in 6 weeks?',\n",
       "  'answer': 'Julia reads 177 pages in  6 weeks \\n177 x 6 = <<177 x 6=1062>>1062 pages \\n#### 1062'},\n",
       " {'question': \"Bakersfield's population this year is 850,000 people.  Its population has been growing by 10% a year. What will be the population next year?\",\n",
       "  'answer': 'The increase is 10% of <<850000>>850,000 people.\\nNext year the population will increase by 10/100 * 850,000 <<10/100*850000>> = <<85000>>85,000 people.\\nThe population will be 850,000 + 85,000 <<850000+85000>> = <<935000>>935,000 people.\\n#### 935000'},\n",
       " {'question': 'Patricia sold 97 earrings in July, and then she sold 3 times as many earrings in August. How many earrings did Patricia sell altogether in July and August?',\n",
       "  'answer': 'Patricia sold 97 x 3 = <<97*3=291>>291 earrings in August.\\nPatricia sold 97 + 291 = <<97+291=388>>388 earrings altogether in July and August.\\n#### 388'},\n",
       " {'question': 'Jasmin works in a cafe and she servs an average of 32 customers a day. How many customers will Jasmine serve in two months?',\n",
       "  'answer': 'In a two-month period, there are 60 days.\\nIf she serves 32 customers a day, she will serve 32*60 = <<32*60=1920>>1920 customers in two months.'},\n",
       " {'question': 'My parents picked 72 avocados last week, and then they picked half as many avocados this week. How many avocados did my parents pick altogether last week and this week?',\n",
       "  'answer': 'My parents picked 72/2 = <<72/2=36>>36 avocados this week.\\nMy parents picked 72+36 = <<72+36=108>>108 avocados altogether last week and this week.\\n#### 108'},\n",
       " {'question': \"Tom runs 100 meters in 14 seconds. What is Tom's speed in kilometers per hour?\",\n",
       "  'answer': 'We need to convert 100 meters to kilometers and 14 seconds to hours.\\n\\n100 meters = 100/1000 <<100/1000=0.1>> = 0.1 kilometers\\n14 seconds = 14/3600 <<14/3600=0.0039>> = 0.0039 hours\\n\\nSpeed = Distance/Time = 0.1/0.0039 <<0.1/0.0039=25.64>> = 25.64 kilometers per hour\\n#### 25.64'},\n",
       " {'question': 'There are 36 students in a class. If two thirds of the students are girls, how many students in the class are boys?',\n",
       "  'answer': 'Two thirds of 36 students are girls, which means that there are 36*(2/3) = <<36*(2/3)=24>>24 girls in the class.\\nThere are 36-24 = <<36-24=12>>12 boys in the class.#### 12'},\n",
       " {'question': 'Binod went to the store and bought 48 bouncy balls and 6 boxes that each contained 6 balls. How many bouncy balls does Binod have in total?',\n",
       "  'answer': 'Binod bought 6x6 = <<6x6=36>>36 bouncy balls from 6 boxes.\\n\\nBinod bought a total of 48+36 = <<48+36=84>>84 bouncy balls.\\n#### 84'},\n",
       " {'question': 'A theater has 12,288 seats, and 6,894 seats were filled. How many seats are empty?',\n",
       "  'answer': '6,894 seats were filled.\\nSo, 12,288-6,894 = 5,394 empty seats.\\n#### 5,394'},\n",
       " {'question': \"On the way to the football field, Tatiana's team passed by 24 cheerleaders. If there were twice as many football players as there were cheerleaders, how many football players passed by the cheerleaders?\",\n",
       "  'answer': 'There were 24 cheerleaders.\\nIf there were twice as many football players as cheerleaders, there were 24*2=<<24*2=48>>48 football players.\\n#### 48'},\n",
       " {'question': \"Francis' friend gave him 16 flowers, on Sunday Francis brought 36 more flowers from his farm. In total how many flowers does Francis have now?\",\n",
       "  'answer': \"Francis' friend gave him 16 flowers.\\nFrancis brought 36 more flowers on Sunday.\\nFrancis has total 16 + 36 = <<16+36=52>>52 flowers.\\n#### 52\"},\n",
       " {'question': 'Mark ate one-fourth of a pizza at the first fast food restaurant and he ate twice as much at the second fast food restaurant. How much of the pizza did Mark eat altogether?',\n",
       "  'answer': 'Mark ate one-fourth of a pizza at the first fast food restaurant and twice as much at the second fast food restaurant, so he ate 2 x one-fourth = <<2 * 1/4=1/2>>1/2 of a pizza at the second fast food restaurant.\\nMark ate 1/4+1/2 = <<1/4+1/2=3/4>>3/4 of the pizza altogether.\\n#### 3/4'},\n",
       " {'question': 'Clarence took 24 pictures at the park and then 3 times as many pictures at the zoo. How many pictures did Clarence take all together?',\n",
       "  'answer': 'Clarence took 24 × 3 = <<24 x 3=72>>72 pictures at the zoo.\\nClarence took 24+72 = <<24+72=96>>96 pictures all together.\\n#### 96'},\n",
       " {'question': 'Tom got a bonus of $70. If he spent 3/7 of the bonus, how much of the bonus did Tom spend?',\n",
       "  'answer': 'Tom spent 3 * 70 / 7 = <<3 * 70 / 7=30>>30 dollars of the bonus.\\n#### 30'},\n",
       " {'question': 'An event host is preparing goodie bags for a party. For every 3 girls attending the party, the host prepares 5 goodie bags. The host has counted 51 girls attending. How many goodie bags should the host prepare?',\n",
       "  'answer': '51 / 3 = <<51/3>>17 girls will be given goodie bags.\\n17 * 5 = <<17*5>>85 goodie bags should be prepared.\\n#### 85'},\n",
       " {'question': 'In June, 144 pupils at Maplewood School raised money for a charity. 36 pupils raised \\\\$25 each, 54 pupils raised \\\\$15 each, and the remaining pupils raised \\\\$10 each. How much money did the 144 pupils raise in total?',\n",
       "  'answer': '36 pupils raised $25 = 36*25 = <<36*25=900>> \\\\$900.\\n54 pupils raised $15 = 54*15 = <<54*15=810>> \\\\$810.\\nRemaining 54 pupils raised $10 = 54*10 = <<54*10=540>> \\\\$540.\\nTotal money raised $900+$810+$540 = <<900+810+540=2250>> \\\\$2250.\\n#### 2250'},\n",
       " {'question': 'Julio swims every 2 days and Paul swims every 6 days. If they both started swimming on Tuesday, how many times will they both swim together in 14 days?',\n",
       "  'answer': 'Julio will swim 14/2 = <<14/2=7>>7 times in 14 days.\\nPaul will swim 14/6 <<14/6=2.333>>2 times in 14 days.\\nSo, in 14 days, Julio and Paul will swim together 2 times.\\n#### 2'},\n",
       " {'question': 'Bill earned \\\\(\\\\$121.50\\\\) for working 12 hours on Saturday and Sunday. On Saturday, he earned \\\\(\\\\$10\\\\) per hour more than he earned on Sunday. How much did Bill earn on Sunday?',\n",
       "  'answer': 'Let \\\\(x\\\\) be the amount Bill earned on Sunday.  Since he earned \\\\(\\\\$10\\\\) more per hour on Saturday, he earned \\\\(\\\\$x+\\\\$10\\\\) on Saturday.  Therefore, \\\\(\\\\$x+\\\\$10+\\\\$x=\\\\$121.50\\\\).  Solving for \\\\(x\\\\), we get: \\n\\\\begin{align}  \\\\$2x+\\\\$10&=\\\\$121.50\\\\\\\\  \\\\Rightarrow\\\\ 2x&=\\\\$111.50\\\\\\\\  \\\\Rightarrow\\\\ x&=\\\\$55.75. \\\\end{align}\\n#### 55.75'},\n",
       " {'question': 'Sandra can ride her bike 7 times more Miles than Pratima can ride in 3 hours. If Pratima can ride 2 miles in 3 hours, how many miles can Sandra ride in 4 hours?',\n",
       "  'answer': 'Pratima can ride 2/3 = <<2/3=0.6666666666666666>>0.66 miles in 1 hour.\\nPratima can ride 2 miles in 3 hours.\\nSandra can ride 7 x 0.66 = <<7 x 0.66=4.62>>4.62 miles in 1 hour.\\nSandra can ride 4.62 x 4 = <<4.62 x 4=18.48>>18.48 miles in 4 hours.\\n#### 18.48'},\n",
       " {'question': 'Harold delivered 6 bags of dog food to the pet shelter on Tuesday. On Wednesday, he delivered twice as many bags of dog food as he did on Tuesday. How many bags of dog food did Harold deliver altogether on Tuesday and Wednesday?',\n",
       "  'answer': 'Harold delivered 2 ⋅ 6 = <<2*8=16>> bags of dog food on Wednesday.\\nHarold delivered 6+16 = <<6+16=22>> bags of dog food Tuesday and Wednesday altogether.\\n#### 22'},\n",
       " {'question': 'Last month, Frank baked 37 cookies, and this month, he baked twice as many cookies. How many cookies did Frank bake altogether last month and this month?',\n",
       "  'answer': 'Frank baked 2*37 = <<2*37=74>>74 cookies this month.\\nFrank baked 37+74 = <<37+74=111>>111 cookies altogether last month and this month.\\n#### 111'},\n",
       " {'question': 'If a craftsman sold three times more vases than statuettes, and 48 vases and 24 statuettes were sold in total, how many statuettes did he sell?',\n",
       "  'answer': 'Let x be the number of statuettes sold.\\nThe craftsman sold 3x vases.\\n48+24 = <<48+24=72>>72 statuettes and vases were sold in total, so \\n3x+x=72\\n4x=72\\nx=72/4\\nx=18\\n#### 18'},\n",
       " {'question': 'Jerome wants to sell all 56 of his pets to pet collectors. He checks with a neighbor collecting garden snails, a friend wanting to enlarge her snake collection, and a science lab needing 12 white mice. How many of the 56 total pets will he have remaining to sell elsewhere?',\n",
       "  'answer': 'The garden snail collector, the snake collector, and the science lab want:\\n12+18+12 = <<12+18+12=42>>42 pets.\\nJerome has 56-42 = <<56-42=14>>14 pets remaining to sell elsewhere.\\n#### 14'},\n",
       " {'question': 'Kymani drove 145 miles to visit her sick Granny, and then she drove a quarter as many miles on the way home. How many miles did Kymani drive altogether?',\n",
       "  'answer': 'Kymani drove 145/4 = <<145/4=36.25>>36miles on the way home.\\nKymani drove 145+36 = <<145+36=181>>181 miles altogether.\\n#### 181'},\n",
       " {'question': \"Billy ate one-fifth of his sandwich on the bus to school, and he ate two-thirds of what was left while eating lunch. How much of Billy's sandwich was left after lunch?\",\n",
       "  'answer': 'Billy ate 1/5 = <<1/5=0.2>>0.2 of his sandwich on the bus to school. So there was 1 - 0.2 = 0.8 sandwiches remaining.\\nBilly ate 2 / 3 = <<2/3=0.6666666666666666>>0.666... of the remaining 0.8 sandwich while eating lunch.\\nTherefore, Billy has 0.8×(1 - 2 / 3) = <<0.8*(1-2/3)=0.26666666666666666>>0.266... of his sandwich left after lunch.\\n#### 0.26666666666666666'},\n",
       " {'question': 'Emily walked a total of 96 kilometers over 4 days. If she walked the same distance every day, how many kilometers did she walk each day?',\n",
       "  'answer': 'Emily walked 96/4 = <<96/4=24>>24 kilometers each day.\\n#### 24'},\n",
       " {'question': 'There were 5 students reading and 9 students writing in the room. 17 students came in and joined the room. How many students were in the room after that?',\n",
       "  'answer': 'There were already 5 + 9 = <<5+9=14>>14 students in the room.\\n17 new students came in, so 14 + 17 = <<14+17=31>>31 students were in the room in total.\\n#### 31'},\n",
       " {'question': 'A carpenter built two bookshelves. The first bookshelf required 72 *feet* of lumber. The second bookshelf took *a sixth* as much lumber. How many feet of lumber did both of the bookshelves require?',\n",
       "  'answer': 'The second bookshelf took 72/6 = <<72/6=12>>12 feet of lumber.\\nAltogether, the carpenter needed 72+12 = <<72+12=84>>84 feet of lumber.\\n#### 84'},\n",
       " {'question': 'Betty ate a quarter of her cookies on Tuesday, and then she ate half as many cookies on Wednesday. How many cookies did Betty eat altogether on Tuesday and Wednesday if she started with 24 cookies?',\n",
       "  'answer': 'Betty ate 24/4 = <<24/4=6>>6 cookies on Tuesday.\\nBetty ate 24/2 = <<24/2=12>>12 cookies on Wednesday.\\nBetty altogether ate 6+12 = <<6+12=18>>18 cookies on Tuesday and Wednesday.\\n#### 18'},\n",
       " {'question': 'A clothing store sold half of its shirts on Friday, and then sold 1/4 as many shirts on Saturday as it sold on Friday. If the store sold 24 shirts on Saturday, how many shirts did the store sell altogether on Friday and Saturday?',\n",
       "  'answer': 'The store sold 1/2 of its shirts = <<1/2=0.5>>0.5 shirts on Friday,  and 24 shirts = <<24=24>> on Saturday.\\nTherefore, the store sold 24/0.5 = <<24/0.5=48>>48 shirts on Friday.\\n The store sold 48+24 = <<48+24=72>>72 shirts altogether on Friday and Saturday.\\n#### 72'},\n",
       " {'question': 'Manny sold watermelons to 8 people in August, and he sold 6 times as many the following September. How many watermelons did Manny sell in August and September?',\n",
       "  'answer': 'Manny sold 8*(6)= <<8*(6)=48>>48 watermelons in September.\\nManny sold to a total of 8+48= <<8+48=56>>56 customers in August and September.\\n#### 56'},\n",
       " {'question': 'There are 15 students in Room 1 and 23 students in Room 2. If there were 2 students transferred from room 2 to Room a 1, how many students would be in each room?',\n",
       "  'answer': 'There would be 15+2=<<15+2=17>>17 students in Room 1.\\nThere would be 23-2=<<23-2=21>>21 students in Room 2.\\n#### 17, 21'},\n",
       " {'question': 'Jessica bought 42 toy cars for her brother and sister in the first quarter. How many cars will she buy in 9 months?',\n",
       "  'answer': '**If she buys** <<42*3>>42 * 3 = <<126>>126 cars **at the same rate in each quarter**\\n**If she triples her purchases** (or any number of times)\\n<<42x3x3>>42*3*3=<<378>>378 cars\\n#### 378'},\n",
       " {'question': 'A store manager bought a total of 9 giant watermelons to feed 6 elephants in his zoo. He cuts each watermelon into 3 equal pieces. How many watermelon pieces will he get altogether for the elephants?',\n",
       "  'answer': 'He cuts a total of 9 * 3 = <<9*3=27>> 27 watermelon pieces.'},\n",
       " {'question': 'In May, Asha sold 1/3 as many clips as she sold in April. In April, she sold 40 clips. How many clips did Asha sell altogether in April and May?',\n",
       "  'answer': 'Asha sold 1/3 of 40 = <<1/3*40=13.333333333333334>>13.33 clips in May.\\nAsha sold 40+13.333333333333334 = <<40+13.333333333333334=53.33333333333333>> clips altogether in April and May.\\n#### 53.33'},\n",
       " {'question': \"If the program's original cost was $300, the shipping cost was $20, and the cost for taxes was $22.50, what was the total cost of the program?\",\n",
       "  'answer': 'The total cost of the program is:\\n$$300+20+22.50 = <<300+20+22.50=342.50>>342.50.\\n#### 342.5'},\n",
       " {'question': 'Steven can ride a bike 12 miles in 45 minutes. If he kept up the same pace, how many minutes would it take him to ride 18 miles?',\n",
       "  'answer': '18/12 = <<18/12=1.5>>1.5 ×45 = <<1.5*45=67.5>>67.5 minutes\\n#### 67.5'},\n",
       " {'question': 'Last month, there were about as many men as women in the office.  There were 12 women, and there were 20 people in the office.  How many men were in the office last month?',\n",
       "  'answer': '\\nThere were 20-12 = <<20-12=8>>8 men in the office last month.\\n#### 8'},\n",
       " {'question': 'A florist sold 1200 red roses on Valentine’s Day. If the total amount of money earned was 5520 USD and 15 USD was earned for each red rose, how many roses did the florist sell altogether?',\n",
       "  'answer': 'If each red rose costs 15 USD, then 1200 red roses cost 15*1200 = <<15*1200=18000>>18000 USD.\\nThe florist sold 5520 USD less than 18000 USD which means 18000 - 5520 = <<18000-5520=12480>>12480 USD was earned by selling other types of roses.\\nThe florist sold roses for 12480/15 = <<12480/15=832>>832 USD.\\nThe florist sold a total of 1200 + 832 = <<1200+832=2032>>2032 roses altogether.\\n#### 2032'},\n",
       " {'question': 'Ava drove to work for 13 days in June and 15 days in July. She drove 55 miles each day. How many miles did Ava drive to work in June and July?',\n",
       "  'answer': 'Ava drove 55*13 = <<55*13=715>>715 miles in June.\\nAva drove 55*15 = <<55*15=825>>825 miles in July.\\nAva drove 715+825 = <<715+825=1540>>1540 miles altogether in June and July.\\n#### 1540'},\n",
       " {'question': 'John drove 65 miles in February, and then he drove twice as many miles in March. How many miles did John drive altogether in February and March?',\n",
       "  'answer': 'John drove 65*2 = <<65*2=130>>130 miles in March.\\nJohn drove 65+130 = <<65+130=195>>195 miles altogether in February and March.\\n#### 195'},\n",
       " {'question': 'Last week, Wanda ran _x_ miles on Monday and Tuesday. On Wednesday, she ran half as many miles as she ran on Monday and Tuesday combined. How many miles did Wanda run from Monday to Wednesday?',\n",
       "  'answer': 'Wanda ran _x_ + _x_ = <<_x_ + _x_=2*_x>>2*_x miles on Monday and Tuesday.\\nWanda ran 2*_x_/2 = <<2*_x_/2=_x>>_x_ miles on Wednesday.\\nWanda ran 2*_x_ + _x_ = <<2*_x_ + _x_=3*_x>>3*_x miles from Monday to Wednesday.\\n#### 3*_x'},\n",
       " {'question': 'Amya sold 56 cakes to 7 of her friends in June, and then she sold twice as many cakes in July. How many cakes did Amya sell altogether in June and July?',\n",
       "  'answer': 'Amya sold 56 * 2 = <<56*2=112>>112 cakes in July.\\nAmya sold 56+112 = <<56+112=168>>168 cakes altogether in June and July.\\n#### 168'},\n",
       " {'question': 'Kevin bought 24 boxes of pencils in June. He gave 6 boxes of pencils to his friends. How many boxes of pencils does Kevin have left?',\n",
       "  'answer': 'Kevin has 24 - 6 = <<24-6=18>>18 boxes of pencils left.\\n#### 18'},\n",
       " {'question': 'In 2016, Jim walked 33,837 total steps each day. How many steps did he walk in total over the whole year?',\n",
       "  'answer': 'There are 366 days in a year with leap year.\\nJim walked 33,837 steps every day.\\nJim walked <<33,837 * 366=12,353,462>>12,353,462 steps in 2016.\\n### 12353462'},\n",
       " {'question': 'Ella is knitting a scarf and uses 4 1/7 yards of yarn a day for 6 days. How much yarn will Ella use for the 6 days?',\n",
       "  'answer': 'Ella will use 4 1/7 *6 = <<4 1/7 * 6=25 5/7>>25 5/7 yards of yarn for 6 days.\\n#### 25 5/7'},\n",
       " {'question': 'There are a bus and a tram, two means of transportation, waiting at the bus stop now. A total of 19 students entered the bus and 7 of the 19 students left due to a half-way stop. At the same time, more 7 students entered the bus. How many students are now on the bus?',\n",
       "  'answer': '7 students left the bus and 7 more entered, so the change is 0.\\n19 + 0 = 19\\n#### 19'},\n",
       " {'question': 'There were 72 children lined up in blue and red T-shirts. The number of children lined up in the blue T-shirts was 3 sets of 5 and then an additional 7. The remaining children were lined up in red T-shirts. How many children were lined up in red T-shirts?',\n",
       "  'answer': '3 sets of 5 is <<3*5=15>>15 children.\\nThere were 15+7 = <<15+7=22>>22 children lined up in blue T-shirts.\\nThere were 72-22 = <<72-22=50>>50 children lined up in red T-shirts.\\n#### 50'},\n",
       " {'question': 'In February, there are 28 days. Mark reads the same number of pages in a book each day during the month of February. If he reads a total of 280 pages, how many pages did he read each day?',\n",
       "  'answer': 'Mark read 280 pages / 28 days = <<280/28=10>> 10 pages each day in February.\\n#### 10'},\n",
       " {'question': 'Stefan bought three boxes that hold movie tapes, each box holds four movies. How many movies did Stefan buy?',\n",
       "  'answer': 'Each box holds 4 movies, he bought 3 boxes,\\nso he bought 3 x 4 = <<3 x 4=12>>12 movies.\\n#### 12'},\n",
       " {'question': 'Adeline finished reading a book that had 16 chapters in March, and she read 6 chapters in April. How many chapters did Adeline read in total in March and April?',\n",
       "  'answer': 'Adeline read 16 chapters in March.\\nAdeline read 6 chapters in April.\\nAdeline read 16 + 6 = <<16+6=22>>22 chapters altogether in March and April.\\n#### 22'},\n",
       " {'question': 'Peter bought 36 oranges on Sunday and the following Monday he bought three times as many oranges. How many oranges did Peter buy altogether on Sunday and Monday?',\n",
       "  'answer': 'Peter bought 36 * 3 = <<36 * 3=108>>108 oranges on Monday.\\nPeter bought 36+108 = <<36+108=144>>144 oranges altogether on Sunday and Monday.\\n#### 144'},\n",
       " {'question': 'Ashley collected 27 flowers on Sunday and gave half of them to her mother. On Monday, Ashley collected 24 flowers. How many flowers does Ashley have now?',\n",
       "  'answer': 'Ashley gave  27/2 = <<27/2=13.5>>13.5 flowers to her mother.\\nAshley has 27-13.5 = <<27-13.5=13.5>>13.5 flowers left from Sunday.\\nAshley has 13.5+24 = <<135+24=37.5>>37.5 flowers now.\\n#### 37.5'},\n",
       " {'question': 'Mr. Davis purchased 390 liters of milk in April and May combined.  In April, he purchased 25% more liters of milk than he did in May.  How many liters of milk did Mr. Davis purchase in April?',\n",
       "  'answer': \"Let's represent the amount of milk Mr. Davis purchased in May as ``x``.\\nSince he purchased 25% more milk in April, he purchased 1.25x liters of milk in April.\\nThe total amount of milk he purchased is 390 liters, so we can write an equation:\\n```\\nx + 1.25x = 390\\n```\\nSolving for x:\\n```\\n2.25x = 390\\nx = 390/2.25\\nx = 173\\n```\\nTherefore, Mr. Davis purchased 173 liters of milk in May.\\n\\nTo find the amount of milk he purchased in April, we can use the expression 1.25x:\\n```\\n1.25x = 1.25 * 173\\n1.25x = 216\\n```\\nSo, Mr. Davis purchased 216 liters of milk in April.\\n#### 216\"},\n",
       " {'question': 'In July, 68 people signed up for a new fitness program, and then twice the number of people signed up in August. How many people signed up for the fitness program in July and August altogether?',\n",
       "  'answer': 'There were 68 * 2 = <<68*2=136>>136 people who signed up for the fitness program in August.\\nIn July and August together, there were 68 + 136 = <<68+136=204>>204 people who signed up for the fitness program.\\n#### 204'},\n",
       " {'question': 'The town council is trying to sell 15,000 raffle tickets in order to raise money for a new park. They have 12 weeks to do this. How many raffle tickets must be sold each week in order to reach their goal?',\n",
       "  'answer': 'The town council must sell 15,000/12 = <<15000/12=1250>>1250 raffle tickets each week to reach their goal.'},\n",
       " {'question': 'Joe borrowed 42 dollars from Jenny and 31 dollars from Anna in December, and then he borrowed 56 dollars from Jenny again in January. How much money did Joe borrow altogether in December and January?',\n",
       "  'answer': 'Joe borrowed 42+31 = $<<42+31=73>>73 from Jenny and Anna in December.\\nJoe borrowed another $<<56>>56 from Jenny in January.\\nJoe borrowed $<<73+56=129>>129 altogether in December and January.\\n#### 129'},\n",
       " {'question': 'If a farmer has 80 sheep, and 3/4 of those sheep are female, how many female sheep are there?',\n",
       "  'answer': '3/4 of 80 sheep are female.\\n3/4 x 80 = <<3/4x80=60>>60\\n#### 60'},\n",
       " {'question': \"In March, Ben's Restaurant used 192.6 pounds of bananas. They used 515.4 pounds in April, which is 2.5 times more than March. And they used 305.6 pounds of bananas in May, which is 0.6 as many as April. How many pounds of bananas did they use altogether in March, April, and May?\",\n",
       "  'answer': \"In April, Ben's Restaurant used 192.6 lbs/2.5 = <<192.6 lbs/2.5=77.04>>77.04 lbs of bananas.\\nIn May, Ben's Restaurant used 77.04 lbs * 0.6 = <<77.04*0.6=46.224>>46.224 lbs of bananas.\\nBen's Restaurant used 192.6+77.04+46.224 = <<192.6+77.04+46.224=315.864>> 315.864 lbs of bananas altogether in March, April, and May.\\n#### 315.9\"},\n",
       " {'question': 'Karen makes cookies using one cup of flour for every 6 cookies. If she wants to make 48 cookies, how many cups of flour will Karen need?',\n",
       "  'answer': 'If Karen makes  6 cookies, she needs 1 cup flour.\\nTo prepare 48 cookies\\n48/6 = <<48/6=8>>8 cups\\n#### 8'},\n",
       " {'question': 'Peter read 26 pages of a book on Monday, and then he read 2 times as many pages on Tuesday. How many pages did Peter read altogether on Monday and Tuesday?',\n",
       "  'answer': 'Peter read 26 x 2 = <<26 x 2=52>>52 pages on Tuesday.\\nPeter read 26+52 = <<26+52=78>>78 pages altogether on Monday and Tuesday.\\n#### 78'},\n",
       " {'question': 'Vanessa sold 32 cookies to her neighbors in January, and then she sold 3 times as many cookies in February. How many cookies did Vanessa sell altogether in January and February?',\n",
       "  'answer': 'Vanessa sold 32 * 3 = <<32*3=96>>96 cookies in February.\\nVanessa sold 32+96 = <<32+96=128>>128 cookies altogether in January and February.\\n#### 128'},\n",
       " {'question': 'If 54 out of 108 students in the fifth grade went to the amusement park, how many students in the fifth grade did NOT go to the amusement park?',\n",
       "  'answer': '54 students went to the amusement park out of 108 students in fifth grade.\\n108-54 = <<108-54=54>>54 students did NOT go to the amusement park.\\n#### 54'},\n",
       " {'question': \"The local high school track block has held a 1-mile run for the last 12 years. Last year, 37% of those who registered actually ran. In this year's event, 48 students signed up. How many more students ran last year?\",\n",
       "  'answer': '37% of 48 students\\n= [37//100]*48\\n=37*48/100\\n= <<37*48/100=17.76>>18 students ran last year.\\n\\n#### 18'},\n",
       " {'question': 'In Grade 5, there are 23 girls and 27 boys. There are five classes with the same number of children. How many children are in each class?',\n",
       "  'answer': 'There are (23 + 27) children = <<23+27=50>>50 in all.\\nThere are 50 / 5 = <<50/5=10>>10 children in each class.\\n#### 10'},\n",
       " {'question': \"In March, 75% of Harry's comic books were Marvel comics. If he had 120 comic books in total, how many of those comic books were Marvel comics?\",\n",
       "  'answer': \"75% of Harry's 120 comic books are Marvel comics.\\n75% of 120 = <<75*120/100=90>>90 (75 / 100 * 120 )\\nHarry had <<90>>90 Marvel comics.\\n#### 90\"},\n",
       " {'question': 'Mike got his allowance on Friday. Then, his parents each gave him $20. How much allowance did Mike get on Friday?',\n",
       "  'answer': \"Let's assume Mike's allowance on Friday was $x.\\n\\nMike's total allowance = x + $20 + $20 = x + $40\\nWe don't know the exact amount of Mike's allowance, but we know it's x dollars.\\n### We can't answer this question.\"},\n",
       " {'question': 'According to the current forecast, there is a 35% chance of rain today and a 20% chance of rain tomorrow. What is the probability that it will rain on both days?',\n",
       "  'answer': 'The probability of rain on both days is 20/100 × 35/100 = <<20/100*35/100=0.07>> = 7%.\\n#### 7%'},\n",
       " {'question': 'Janet has planted 1,200 tomatoes and picked some of them. Of the remaining tomatoes, Janet harvested one-fourth for sauce and sold the remaining for $0.25 each.\\nIf all of the tomatoes that Janet harvested for sauce were later added to those she sold, how much money would Janet get in total from the sale?',\n",
       "  'answer': 'Janet harvested 1200/4 = <<1200/4=300>>300 tomatoes for sauce.\\nJanet sold 1200-300 = <<1200-300=900>>900 tomatoes.\\nJanet earned 900*0.25 = <<900*0.25=225>>225 dollars from the sale.\\nIf all of the tomatoes that Janet harvested for sauce were later added to those she sold, she would get 225+300*0.25 = <<225+300*0.25=375>>375 dollars in total from the sale.\\n#### 375'},\n",
       " {'question': 'Brian walked 45 minutes to school in the morning, and then walked home twice as long in the afternoon. How long did it take Brian to walk to and from school altogether?',\n",
       "  'answer': 'Brian walked 45*2 = <<45*2=90>>90 minutes to go back home.\\nBrian walked 45 + 90 = <<45+90=135>>135 minutes altogether.\\n#### 135'},\n",
       " {'question': 'John found 26 seashells in March, and then he found three times as many seashells in April. How many seashells did John find altogether in March and April?',\n",
       "  'answer': 'John found 3*26 = <<3*26=78>>78 seashells in April.\\nJohn found 26+78 = <<78+26=104>>104 seashells altogether in March and April.\\n#### 104'},\n",
       " {'question': 'My boss wants me to compare the number of pcs produced by me in January with the number of pcs produced by my colleague. He produced 1800 pcs and I produced 63% of those pcs. How many more pcs did my colleague produce compared to the number of pcs I produced?',\n",
       "  'answer': 'I produced 1800 * 0.63 = <<1800 * 0.63=1134>>1134 pcs.\\nMy colleague produced 1800 - 1134 = <<1800 - 1134=666>>666 pcs more than me.\\n1134\\n#### 666'},\n",
       " {'question': 'Sam has 3.5 times as many balls as Rob. If Sam has 35 balls, how many balls does Rob have?',\n",
       "  'answer': \"Rob has 1/3.5 = 0/7 = <<1/3.5=0.28571429>>0.286 balls. (In reality, this is impossible, because you can't have part of a ball.)\\nSince this isn't possible, we will round 0.286 up to the next whole number.\\n#### 1\"},\n",
       " {'question': 'In March, Enrique sold 5 times as many toys as he sold in February. If Enrique sold 12 books in February, how many toys did he sell in March?',\n",
       "  'answer': 'Enrique sold 12/5 = <<12/5=2.4>>2.4 toys in February.\\nEnrique sold 12*5 = <<12*5=60>>60 toys in March.\\n#### 60'},\n",
       " {'question': 'Suzy sold 20 cookies on Saturday. How many cookies did she need to sell on Sunday to average 24 cookies per day for the weekend?',\n",
       "  'answer': 'Suzy sold 24/2 = <<24/2=12>>12 cookies on average per day for the weekend.\\nSuzy sold 20 cookies on Saturday. \\nSo, she needs to sell 24-20 = <<24-20=4>>4 more cookies on Sunday.\\n#### 4'},\n",
       " {'question': 'A grocery store sold 121 apples on Thursday and 137 pears on Friday. How many fruits did the store sell altogether on Thursday and Friday?',\n",
       "  'answer': 'The store sold 121 apples and 137 pears.\\nThe store sold 121+137 = <<121+137=258>>258 fruits altogether on Thursday and Friday.\\n#### 258'},\n",
       " {'question': 'Joe ran for 35 minutes today. He ran 43% more minutes yesterday than he did today. How many minutes did he run yesterday?',\n",
       "  'answer': 'Joe ran 43% more minutes yesterday than he did today. To calculate 43% of 35, we do 35 * 0.43 = <<35 * 0.43=15,05>>.05 rounds to .1, but we need to keep the decimal for this problem, so we get 15.05. We add 15.05 to the number of minutes he ran today, so 15.05 + 35 = <<15,05 + 35=50,05>>50.05 minutes.\\n#### 50.05'},\n",
       " {'question': 'Jake has 32 comic books. He gave 1/4 of them to his brother, and then he gave half of the remaining comic books to his sister. How many comic books does Jake have now?',\n",
       "  'answer': 'Jake gave 32/4 = <<32/4=8>>8 comic books to his brother. He has 24 comic books left.\\nJake gave 24/2 = <<24/2=12>>12 comic books to his sister. He has 24-12 = <<24-12=12>>12 comic books left now.\\n#### 12'},\n",
       " {'question': 'Martha went on a roller coaster 16 times last month. This is 3 more times than the number of times she rode the Ferris wheel. How many times did Martha ride the Ferris wheel last month?',\n",
       "  'answer': 'Martha rode the Ferris wheel 16 - 3 = <<16-3=13>>13 times last month.\\n#### 13'},\n",
       " {'question': 'Jake mowed N lawns 8 weeks in a row. Each week, he mowed the same number of lawns. If Jake mowed a total of 156 lawns in this period, how many lawns did Jake mow each week?',\n",
       "  'answer': 'Jake mowed 156 lawns in 8 weeks, so he mowed 156/8 = <156/8>19.5 lawns each week.\\n#### 19.5'},\n",
       " {'question': 'In April, Samuel sold two times as many pizzas as he sold in May. If Samuel sold 24 pizzas in May, how many pizzas did he sell altogether in April and May?',\n",
       "  'answer': 'Samuel sold 24 * 2 = <<24 * 2=48>>48 pizzas in April.\\nSamuel sold 24+48 = <<24+48=72>>72 pizzas altogether in April and May.\\n#### 72'},\n",
       " {'question': 'A rectangular prism has a volume of 192 cubic centimeters. The length is 8 centimeters and the height is 6 centimeters. What is the area of the base of the prism?',\n",
       "  'answer': 'The formula for the volume of a rectangular prism is: V = lwh\\n\\nwhere:\\nl is the length\\nw is the width\\nh is the height\\n\\nSubstitute the given values into the formula: 192 = 8 * w * 6\\n\\nSolve for w: 192 = 48 * w\\nw = 192/48\\nw = 4\\n\\nThe area of the base of the prism is: A = lw\\nA = 8 * 4\\nA = <<8*4=32>>32 square centimeters\\n#### 32'},\n",
       " {'question': 'Jerome walked 8 miles on Monday and then walked three times as many miles on Tuesday. How many miles did Jerome walk altogether on Monday and Tuesday?',\n",
       "  'answer': 'Jerome walked 8*3 = <<8*3=24>>24 miles on Tuesday.\\nJerome walked 8+24 = <<8+24=32>>32 miles altogether on Monday and Tuesday.\\n#### 32'},\n",
       " {'question': 'Gilbert played 45 minutes of basketball and 32 minutes of baseball at the park on Friday. Gilbert ran 7 miles in the park on Sunday. How much total time did Gilbert spend in the park on Friday and Sunday?',\n",
       "  'answer': 'Gilbert spent 45+32 = <<45+32=77>>77 minutes playing sports in the park on Friday.\\nGilbert spent 77+7 = <<77+7=84>>84 total minutes in the park on Friday and Sunday.\\n#### 84'},\n",
       " {'question': 'In September, there were 2,163 more players on Team A than there were on Team B. By November, Team A had expanded by 7% while the size of Team B had no change. How many more players were on Team A than Team B by November?',\n",
       "  'answer': \"Let's first compute the size of Team A in November.\\nTeam A in November = (1 + 7/100) * Team A in September\\nTeam A in November = 1.07 * Team A in September\\n\\nLet Team A in September be x.\\nThen, 1.07x is the number of players on Team A in November.\\n2,163 + x is the number of players on Team B in September.\\nNow, we know no change happened to Team B.\\nTeam B in November is 2,163 + x\\n\\nSo, the number of more players on Team A than on Team B in November,\\n\\n= 1.07x - (2163 + x)\\n= 1.07x - 2163 - x\\n= 0.07x - 2163\\nWe can't find the exact value of 0.07x without knowing the value of x.\\n## 0.07x - 2163\"},\n",
       " {'question': 'A large pitcher contains 6 liters of juice.  Anna poured 1/2 of the juice into two smaller pitchers.  How many liters are contained in one of the smaller pitchers?',\n",
       "  'answer': '1 / 2   of  6  =\\n<<1/2*6=3>>3\\\\ liters are poured into 2 pitchers.  So each pitcher has 3 / 2 = <<3/2=1.5>>1.5 liters. \\n#### 1.5'},\n",
       " {'question': 'A restaurant sold 24 pizzas on Monday, and then it sold three times as many pizzas on Tuesday. How many pizzas did the restaurant sell altogether on Monday and Tuesday?',\n",
       "  'answer': 'The restaurant sold 24 * 3 = <<24*3=72>>72 pizzas on Tuesday.\\nThe restaurant sold 24 + 72 = <<24+72=96>>96 pizzas altogether on Monday and Tuesday.\\n#### 96'},\n",
       " {'question': 'Justin paid \\\\$1.55 for stickers, and he paid 3 times as much as Dylan. How much did Dylan pay?',\n",
       "  'answer': 'Dylan paid \\\\$1.55 / 3 = <<1.55/3=0.5166666666666667>>0.52.\\n#### 0.5166666666666667'},\n",
       " {'question': 'In a week, Peter mowed his lawn and got paid 14 dollars. He still has lawns to mow this week but has earned a total of 24 dollars. How many more dollars will he earn this week?',\n",
       "  'answer': 'Peter has earned 24-14 = <<24-14=10>>10 dollars so far this week.\\nHe will earn 10 more dollars this week.\\n#### 10'},\n",
       " {'question': 'Joy sold 147 loaves of bread last week. This week, she only sold 4/7 as many loaves as she sold last week. How many loaves of bread did she sell in all during the two weeks?',\n",
       "  'answer': 'Joy sold 147 * 4/7 = <<147 * 4/7=84>>84 loaves of bread this week.\\nJoy sold 147 + 84 = <<147 + 84=231>>231 loaves of bread in all during the two weeks.\\n#### 231'},\n",
       " {'question': 'Jimmy bought 32 bags of candy and gave an equal number of bags to his 4 friends. How many bags of candy did each friend receive?',\n",
       "  'answer': 'Jimmy gave out 32/4 = <<32/4=8>>8 bags of candy to each friend.'},\n",
       " {'question': 'The book club collects 544 books during its summer drive, which is 30% more books than the spring drive. How many books did the club collect during the spring drive?',\n",
       "  'answer': 'Let the number of books collected during the spring drive be x.\\n**130/100 of x = <<130/100=1.3>>1.3x = 544\\nx = <<544/1.3=420>>420\\nSo, the club collected **420 books** during the spring drive.'},\n",
       " {'question': 'Clarence gets paid \\\\$2,000 per month. He spent 42% of his monthly salary on rent. How much money does Clarence spend on rent in one month?',\n",
       "  'answer': '42% = <<42/100=0.42>>0.42\\nClarence spends 0.42 * $2,000 = <<0.42\\\\*2000=840>>$840 on rent in one month.\\n#### 840'},\n",
       " {'question': 'Gerald cooked 5 Thanksgiving dinners the first week, and made 1/3 as many the second week. How many Thanksgiving dinners did Gerald cook in the first 2 weeks?',\n",
       "  'answer': 'Gerald cooked 5/3 = <<5/3=1.67>>1 Thanksgiving dinner(s) the second week.\\nGerald cooked 5 + 1 = <<5+1=6>>6 Thanksgiving dinner(s) in the first two weeks.\\n#### 6'},\n",
       " {'question': 'Mia has given away sixth-sixths of the lollipops she originally had in one day. If she has 231 lollipops left, what is the number of lollipops she originally started with?',\n",
       "  'answer': 'She has given away 6/6 of the lollipops she started with. This means she has 1/6 of those lollipops left, because 6/6 - 6/6 = 0/6, which is 0, which means she has no more lollipops left of what she started with.\\nIf 1/6 of the lollipops she started with is 231 lollipops, this means she started with 6/6 = 6 times as many lollipops, because if you multiply 231 by 6 you get the total number of lollipops she started off with\\n231 x 6 = <<231*6=1386>>1386\\n#### 1386'},\n",
       " {'question': 'Sales of a shoe repair business increased by 25% to $200. What is the original sales amount?',\n",
       "  'answer': 'Let the original sales amount be x.\\nThen,  x + 25% of x = $200\\nx + 25/100 * x = $200\\n\\n=> x + 1/4 * x = $200\\n=> 5/4 * x = x = $200\\n=> x = $200 *4/5 \\n=> x = <<200 *4/5>>80\\n#### 80'},\n",
       " {'question': 'The same store sells 183 computers in May and half as many in June. How many computers did it sell altogether in May and June?',\n",
       "  'answer': 'The store sold 183/2 = <<183/2=91.5>>91.5 computers in June.\\nThe store sold 183+91.5 = <<183+91.5=274.5>>274.5 computers altogether in May and June.\\n#### 274.5'},\n",
       " {'question': 'Manny collected 96 baseball cards last year, and then he donated two-thirds of his cards to his local library. How many baseball cards does Manny have now?',\n",
       "  'answer': 'Manny donated 96/3 * 2 = <<96/3 * 2=64>>64 cards to the library.\\nManny has 96 - 64 = <<96 - 64=32>>32 cards now.\\n#### 32'},\n",
       " {'question': 'Sharon went to the store and bought 2 watermelons which cost her 15 dollars each, 1 pineapple that cost her 7 dollars, and 3 mangos that cost her 2 dollars each. How much money did Sharon spend at the store?',\n",
       "  'answer': 'The total spent on watermelons is: 2 * $15 = <<2*15=30>>$30.\\nThe total spent on pineapples is: $7.\\nThe total spent on mangoes is: 3 * $2 = $6.\\nTherefore Sharon spent a total of: $30 + $7 + $6 = <<30+7+6=43>>$43.\\n#### 43'},\n",
       " {'question': 'Mel sold 166 hats in January, which was 1/2 as many as she sold in February. How many hats did Mel sell altogether in January and February?',\n",
       "  'answer': 'Mel sold 166*2 = <<166*2=332>>332 hats in February.\\nMel sold 166+332 = <<166+332=498>>498 hats altogether in January and February.\\n#### 498'},\n",
       " {'question': 'Oliver walked 56 miles in June, then walked double that amount of miles in July. How many miles did Oliver walk altogether in June and July?',\n",
       "  'answer': 'Oliver walked 56×2 = <<56×2=112>>112 miles in July.\\nOliver walked 56+112 = <<56+112=168>>168 miles altogether.\\n#### 168'},\n",
       " {'question': \"I'm at the park watching birds. I saw 24 robins, and then I saw half as many cardinals. How many cardinals did I see altogether?\",\n",
       "  'answer': 'You saw 24/2 = <<24/2=12>>12 cardinals.\\nYou saw 24+12 = <<24+12=36>>36 cardinals altogether.\\n#### 36'},\n",
       " {'question': 'Sarah had 35 marbles. She gave half of them to Johnny, and then Johnny gave half of his marbles to Lily. How many marbles does Sarah have now?',\n",
       "  'answer': 'Johnny got 35/2 = <<35/2=17.5>>17.5 marbles.\\nJohnny gave 17.5/2 = <<17.5/2=8.75>>8.75 marbles to Lily. So Sarah has 35-8.75 = <<35-8.75=26.25>>26.25 marbles now.\\n#### 26.25'},\n",
       " {'question': 'If Jim makes 24 extra bouncy balls each day, and he worked for 12 full days, how many bouncy balls did Jim make altogether?',\n",
       "  'answer': 'Jim made 24 bouncy balls each of the 12 days.\\nJim made altogether 24*12 = <<24*12>>288 bouncy balls.\\n#### 288'},\n",
       " {'question': 'A store sold baby formula to 34 buyers in June and to 9 more buyers in July. How many buyers did the store sell baby formula to in total during these two months?',\n",
       "  'answer': 'The store sold baby formula to 34 buyers in June and 9 more buyers in July.\\nThe store sold baby formula to a total of 34+9 = <<34+9=43>>43 buyers in June and July.\\n#### 43'},\n",
       " {'question': 'A farmer has 24 sheep in his field, and then his neighbour gives him 1/3 as many sheep. How many sheep farmer have now?',\n",
       "  'answer': 'Farmer neighbour gives 24/3 = <<24/3=8>>8 sheep to farmer.\\nFarmer now has 14+8 = <<14+8=22>>22 sheep.\\n#### 22'},\n",
       " {'question': 'The ABC restaurant had 124 visitors yesterday. If half of those visitors were female, how many male visitors did the ABC restaurant have?',\n",
       "  'answer': 'The restaurant had 124 / 2 = <<124/2=62>>62 female visitors.\\nThe restaurant had 124-62 = <<124-62=62>>62 male visitors.\\n#### 62'},\n",
       " {'question': 'There were 46 students on a school bus which was headed for a field trip. 24 of the students were boys and the other students were girls. How many more boys were there than girls on the bus that was headed for the school trip?',\n",
       "  'answer': 'There were 46-24 = <<46-24=22>>22 girls on the bus.\\nThere were 24-22 = <<24-22=2>>2 more boys than girls on the bus.\\n#### 2'},\n",
       " {'question': 'Terrence bought 18 stamps for his collection, and the following month, he bought half as many. How many stamps did he buy in all?',\n",
       "  'answer': 'Terrence bought 18/2 = <<18/2=9>>9 stamps the following month.\\nHe bought 18+9 = <<18+9=27>>27 stamps in total.\\n#### 27'},\n",
       " {'question': 'Damian is saving up for a new bike. He just got paid and has 623 dollars.  He already has 300 dollars saved up. How much more money will Damian have saved if he adds the amount of money he just got paid to his savings account?',\n",
       "  'answer': 'Damian will have 623 + 300 = <<623+300=923>>923 dollars after he adds the money he just got paid to his savings account.\\n#####923'},\n",
       " {'question': 'In May, a store sold 45 percent of all the bicycles it had in stock at the beginning of the month. If the store had 100 bicycles in stock at the beginning of the month, how many bicycles did it sell in May?',\n",
       "  'answer': '45 percent of 100 bicycles is <<0.45*100=45>>45 bicycles.\\nThe store sold 45 bicycles in May.\\n#### 45'},\n",
       " {'question': 'A bakery sold 21 loaves of bread each day for 5 days. The bakery sold a couple less loaves on each day of the following week. How many fewer loaves did the bakery sell in total during the second week?',\n",
       "  'answer': 'The bakery sold 21 * 5 = <<21*5=105>>105 loaves in the first week.\\nThe bakery sold 21 - 2 = <<21-2=19>>19 loaves each day in the second week.\\nThe bakery sold 19 * 5 = <<19*5=95>>95 loaves in the second week.\\nThe bakery sold 105 - 95 = <<105-95=10>>10 fewer loaves in the second week.\\n#### 10'},\n",
       " {'question': 'In August, Eve sold 42 packets of raspberries, which is half as many packets as she sold in July. How many packets of raspberries did Eve sell in July and August altogether?',\n",
       "  'answer': 'Eve sold 42/2 = <<42/2=21>>21 packets of raspberries in July.\\nEve sold 42+21 = <<42+21=63>>63 packets of raspberries altogether in July and August.\\n#### 63'},\n",
       " {'question': \"There are 45 students in Ms. Rhone's class. In January, 1/9 of her students were absent, and February 1/3 of her students were absent. How many more students were absent in February than in January?\",\n",
       "  'answer': '1/9 of the 45 students = 45/9 = <<45/9=5>>5 students absent in January\\n1/3 of the 45 students = 45/3 = <<45/3=15>>15 students absent in February\\n15 - 5 = <<15-5=10>>10 more students were absent in February than in January.\\n#### 10'},\n",
       " {'question': 'Elephants are supposed to drink over 6 bowls of fresh clean water everyday. The zoo has 8 elephants. How many bowls should the zoo have in storage?',\n",
       "  'answer': '6 bowls of clean water need by an elephant everyday.\\n\\n8 elephants consume = 6 x 8 = 48 bowls.\\n\\nThe zoo must keep at least 48 bowls.\\n#### 48'},\n",
       " {'question': 'Omar hit 38 home runs in June and half as many home runs in July. How many home runs did Omar hit altogether in June and July?',\n",
       "  'answer': 'Omar hit 38/2 = <<38/2=19>>19 home runs in July. \\nOmar hit 38+19 = <<38+19=57>>57 home runs altogether in June and July.\\n#### 57'},\n",
       " {'question': 'Willa exchanged stamps with Alfred.  She gave Alfred 32 lily stamps and received 12 lily stamps from Alfred. In total how many lily stamps does Willa now have?',\n",
       "  'answer': 'Willa has total  32+12=<<32+12=44>>44 lily stamps now.\\n#### 44'},\n",
       " {'question': 'A device was used to create widgets. On Monday, 7000 widgets were made; on Tuesday, 3261 fewer widgets were made. How many widgets were made on Tuesday?',\n",
       "  'answer': '7000 - 3261 = <<7000-3261=3739>>3739 widgets were made on Tuesday.\\n3739'},\n",
       " {'question': 'Anya has ten pairs of sneakers and  28 pairs of boots. Anya gave 4 pairs of boots and 4 pairs of sneakers to her sister. How many pairs of boots and sneakers does Anya have now?',\n",
       "  'answer': 'Anya has 10 - 4 = <<10 - 4=6>>6 pairs of sneakers.\\nAnya has 28 - 4 = <<28 - 4=24>>24 pairs of boots.\\n#### 30'},\n",
       " {'question': 'There were 352 marbles in a bag. Ajit used 3/4 of them in his art project. How many marbles did Ajit have left?',\n",
       "  'answer': 'Ajit used 3/4 * 352 = <<3/4*352=264>>264 marbles in his art project.\\nAjit had 352 - 264 = <<352-264=88>>88 marbles left.\\n#### 88'},\n",
       " {'question': 'If a cat eats 7 mice per  week, how many mice did 6 cats eat in 3 weeks?',\n",
       "  'answer': '6 cats eat 6*7=<<6*7=42>>42 mice per week.\\n6 cats eat 42*3=<<42*3=126>>126 mice in 3 weeks.\\n#### 126'},\n",
       " {'question': 'In August, Joe earned \\\\$400. He earned \\\\$200 less than that in September. How much did Joe earn in August and September combined?',\n",
       "  'answer': 'Joe earned $400 - $200 = <<400-200=200>>200 in September.\\nJoe earned 400+200 = <<400+200=600>>600  altogether in August and September.\\n#### 600'},\n",
       " {'question': \"Maryam picked 32 apples at her neighborhood's apple orchard on Monday. On Tuesday, she picked two times as many apples as she had picked on Monday. How many apples did Maryam pick altogether on Monday and Tuesday?\",\n",
       "  'answer': 'Maryam picked 32/2 = <<32/2=16>>16 apples on Tuesday.\\nMaryam picked 32+16 = <<32+16=48>>48 apples altogether on Monday and Tuesday.\\n### 48'},\n",
       " {'question': 'Eva baked 60 cookies in the morning, and then she baked half as many cookies again in the afternoon. How many cookies did Eva bake altogether in the morning and afternoon?',\n",
       "  'answer': 'Eva baked 60/2 = <<60/2=30>>30 cookies in the afternoon.\\nEva baked 60+30 = <<60+30=90>>90 cookies altogether in the morning and afternoon.\\n#### 90'},\n",
       " {'question': 'In February, a shop sold 75 pounds of apples. In March, the shop sold half as many apples as they did in February. How many pounds of apples did the shop sell altogether in February and March?',\n",
       "  'answer': 'The shop sold 75/2 = <<75/2=37.5>>37.5 pounds of apples in March.\\nThe shop sold 75+37.5 = <<75+37.5=112.5>>112.5 pounds of apples altogether in February and March.\\n#### 112.5'},\n",
       " {'question': 'My dad is repainting the old house. He painted 8 windows yesterday and plans to paint 2 more windows today. How many windows will he have painted altogether?',\n",
       "  'answer': 'Your dad will paint 8+2 = <<8+2=10>>10 windows altogether. \\n#### 10'},\n",
       " {'question': 'Sebastian collected 27 rocks in April and half as many rocks in May. How many rocks did Sebastian collect altogether in the two months?',\n",
       "  'answer': 'Sebastian collected 27/2 = <<27/2=13.5>>13 rocks in May.\\nSebastian collected 27 + 13 = <<27 + 13=40>>40 rocks altogether in April and May.\\n#### 40'},\n",
       " {'question': 'There are 32 water bottles in a box. How many boxes do you need to hold 128 water bottles?',\n",
       "  'answer': '128 water bottles / 32 water bottles/box = <<128/32=4>>4 boxes\\n#### 4'},\n",
       " {'question': 'Alison made a batch of cookies with 24 chocolate chips, 18 peanut butter chips, and 12 butterscotch chips. If she has a total of 144 chips, how many batches did she make?',\n",
       "  'answer': 'Alison used a total of 24+18+12 = <<24+18+12=54>>54 chips per batch.\\n\\nShe made 144/54 = <<144/54=2.666666666666667>>2.666666666666667 = <<2.666666666666667~3>>≈3 batches of cookies.\\n#### 3'},\n",
       " {'question': 'If Edward went on a 6 mile hike on Saturday and on a bike ride that was twice as long on Sunday, how many miles did Edward travel altogether?',\n",
       "  'answer': 'Edward travelled 6 miles on Saturday.\\nEdward travelled 6*2 = <<6x2=12>>12 miles on Sunday.\\nEdward travelled 6+12 = <<6+12=18>>18 miles altogether.\\n#### 18'},\n",
       " {'question': 'Tickets to the basketball game were &dollar;10 for adults and &dollar;5 for children. If there were 132 tickets sold for &dollar;850, how many adult tickets were sold?',\n",
       "  'answer': \"Let's assume there were <<x>> adult tickets sold.\\nSo, there were 132-<<x>> children tickets.\\nThe total amount from adult tickets = 10*<<x>>\\nThe total amount from children tickets = 5*(132-<<x>>)\\nThe total amount of 850 is\\n10*<<x>>+5*(132-<<x>>)= 850\\n10*<<x>>+660-5*<<x>>= 850\\n5*<<x>>= 850-660\\n<<x>>=190/5= 38\\nSo, there were 38 adult tickets sold.\\n#### 38\"},\n",
       " {'question': 'Isaac sold 90 apples to 15 of his friends in June, and then he sold one-third as many apples in July. How many apples did Isaac sell altogether in June and July?',\n",
       "  'answer': 'Isaac sold 90 / 3 = <<90/3=30>>30 apples in July.\\n\\nIsaac sold 90 + 30 = <<90+30=120>>120 apples altogether in June and July.\\n#### 120'},\n",
       " {'question': 'Owen got 105 free spins on a video game in March, and then he got four times as many free spins in April. How many free spins did Owen get altogether in March and April?',\n",
       "  'answer': 'Owen got 105*4 = <<105*4=420>>420 free spins in April.\\nOwen got 105+420 = <<105+420=525>>525 free spins altogether in March and April.\\n#### 525'},\n",
       " {'question': '38 students are going to the zoo. They are put into 5 groups, with an equal number of students per group. One group heads home, due to a prior engagement. How many students are left altogether?',\n",
       "  'answer': '38-1/5*38 = <<38-1/5*38=30.4>>30 students are left altogether.\\n#### 30'},\n",
       " {'question': 'John collects baseball cards, and he recently bought some cards to increase his collection from 264 cards to 325 cards. How many cards did he buy?',\n",
       "  'answer': 'John bought 325-264 = <<325-264=61>>61 cards.\\n#### 61'},\n",
       " {'question': 'Susan owns a bakery. She baked 4 dozen cupcakes on Monday and 5 dozen cupcakes on Tuesday. She then ate 6 cupcakes on Tuesday. How many dozens of cupcakes did Susan have left?',\n",
       "  'answer': 'Susan baked 4 dozen = <<4*12=48>>48 cupcakes on Monday.\\nSusan baked 5 dozen = <<5*12=60>>60 cupcakes on Tuesday.\\nSusan baked 48 + 60 = <<48+60=108>>108 cupcakes altogether.\\nSusan ate 6 cupcakes on Tuesday.\\nSusan had 108-6 = <<108-6=102>>102 cupcakes left.\\n#### 102'},\n",
       " {'question': 'A train leaves San Francisco at 10:00 AM going east at 60 mph. Another train leaves Los Angeles at 11:00 AM going west at 75 mph. If the distance between the two cities is 390 miles, at what time will the two trains meet?',\n",
       "  'answer': 'The first train travels for 1 hour before the second train leaves.\\nIn that 1 hour, the first train travels 60 mph * 1 hour = <<60*1=60>>60 miles.\\nSo when the second train leaves, there are 390 - 60 = <<390-60=330>>330 miles left.\\nThe two trains are traveling at a combined speed of 60 mph + 75 mph = <<60+75=135>>135 mph.\\nSo it will take 330 miles / 135 mph = <<330/135=2.44>>2.44 hours for the two trains to meet.\\nSince the second train leaves at 11:00 AM, the two trains will meet at 11:00 AM + 2.44 hours = <<11+2.44=13.44>>1:44 PM.\\n#### 1 PM'},\n",
       " {'question': 'Crystal has five boxes of paper on a shelf. She used six sheets each day for three weeks. How many sheets of paper did she use altogether?',\n",
       "  'answer': 'Crystal has 5 boxes of paper. She used six sheets each day for three weeks. We need to know the total number of days in three weeks to find the total number of sheets used.\\n1 week = 7 days\\n3 weeks = 7 * 3 = <<7*3=21>>21 days\\nCrystal used 6 sheets per day for 21 days.\\nCrystal used 6 * 21 = <<6*21=126>>126 sheets of paper altogether.\\n\\n#### 126'},\n",
       " {'question': 'There are 9 couples dancing in the square. How many people are there altogether?',\n",
       "  'answer': 'There are 9 * 2 = <<9*2=18>>18 people altogether.\\n#### 18'},\n",
       " {'question': 'Javier accepts the loan. He walked 2 km to the main road to get to the bus station then took the bus 50 km to the pawnshop. Before leaving home. Javier received the call saying the amount he needed to get the loan was 450 US dollars. How much did Javier walk and drive in kilometers to reach the pawnshop?',\n",
       "  'answer': 'Javier walked 2 km to the main road.\\nJavier drove 50 km on the bus to the pawnshop.\\nJavier walked and drove 2+50 = <<2+50=52>>52 km to reach the pawnshop.\\n#### 52'},\n",
       " {'question': 'Isabella bought 15 flowers on Sunday and 13 flowers on Monday. She kept some of the flowers and put the rest in a vase. She put 8 flowers in the vase on Sunday. What percent of the flowers did she put in the vase on Monday?',\n",
       "  'answer': 'Isabella put 15-8 = <<15-8=7>>7 flowers in the vase on Sunday.\\nIsabella put 13/13+7 = <<(13 ÷ (13+7)) × 100=.6190476190476191>>61.90% of the flowers in the vase on Monday.\\n#### 61.90'},\n",
       " {'question': 'Nate swam 24 laps in March and 35 laps in April. If he swam 16 laps in the first week of May, then he swam how many laps in all during March, April, and the first week of May?',\n",
       "  'answer': 'Nate swam 16 laps in the first week of May.\\nNate swam 24+35+16 laps altogether during March, April, and the first week of May.\\n#### 75'},\n",
       " {'question': 'Autumn organised her toy cars into groups of five to prepare for a car race with her friends. Autumn counted the groups and totalled 23. Autumn realised that 16 of the toy cars were red. How many toy cars were not red?',\n",
       "  'answer': 'Autumn organised all her toy cars into 23 groups of five, so the total number of toy cars counted is 23*5 = <<23*5=115>>115.\\n16 of the toy cars were red, so the number of toy cars that were not red is 115-16 = <<115-16=99>>99.\\n#### 99'},\n",
       " {'question': 'A student is making a quilt. First, the student sews 64 blue squares, which is half of all the squares needed to complete the quilt. If the student continues to sew at the same rate, then how many red squares does the student still need to sew?',\n",
       "  'answer': 'The student is sewing 64/2 = <<64/2=32>>32 squares in total.\\nTherefore, the number of red squares the student still needs to sew is 32-64 = <<32-64=-32>>-32.\\n#### -32'},\n",
       " {'question': 'Michael sold 60 apples in 2 hours and then he sold twice as many apples in the next 2 hours. How many apples did Michael sell in total in those four hours?',\n",
       "  'answer': 'Michael sold 60X2 = <<60*2=120>>120 apples in the next 2 hours.\\nMichael sold 60+120 = <<60+120=180>>180 apples in total in those four hours.\\n#### 180'},\n",
       " {'question': 'In February, Tasha sold 2 large pizzas, 1 salad, and 3 medium pizzas. In March, she sold 1 large pizza, 3 salads, and 5 medium pizzas. How many more salads did Tasha sell in March than in February?',\n",
       "  'answer': 'Tasha sold 3 - 1 = <<3-1=2>>2 more salads in March than in February.\\n#### 2'},\n",
       " {'question': 'A store sells 56 apples one day and 3/8 as many apples the next day. How many apples did the store sell in all?',\n",
       "  'answer': 'The store sold 3/8 of 56 = <<3/8*56=21>>21 apples the next day.\\nThe store sold 56+21 = <<56+21=77>>77 apples in all.\\n#### 77'},\n",
       " {'question': 'Claudia sold bracelets to 42 of her friends in June, and then she sold three times as many bracelets in July. How many bracelets did Claudia sell altogether in June and July?',\n",
       "  'answer': 'Claudia sold 42 x 3 = <<42x3=126>>126 bracelets in July.\\nClaudia sold 42+126 = <<42+126=168>>168 bracelets altogether in June and July.\\n#### 168'},\n",
       " {'question': 'A secret code is represented by attaching numeric digits to some fixed number of letters. The first digit is affixed to the first letter, the second to the second, and so on. If the initial number has nine digits and corresponds to the word \"monday\", then find the encoded number that corresponds to \"sunday\"?',\n",
       "  'answer': 'The number of letters in monday and sunday is 5. \\n\\nSunday\\n|s|u|n|d|a|y|\\n\\n8|3|1|4|1|2|\\n\\n831412 is the encoded number.',\n",
       "  'difficulty': 2}]"
      ]
     },
     "execution_count": 1,
     "metadata": {},
     "output_type": "execute_result"
    }
   ],
   "source": [
    "import os\n",
    "import json\n",
    "\n",
    "from datasets import load_dataset, Dataset\n",
    "from requests import ReadTimeout\n",
    "from tqdm.auto import tqdm, trange\n",
    "\n",
    "\n",
    "def filecache(fn):\n",
    "    filename = f\".cache/{fn.__name__}.json\"\n",
    "    if not os.path.exists(\".cache\"):\n",
    "        os.makedirs(\".cache\")\n",
    "\n",
    "    if not os.path.exists(filename):\n",
    "        with open(filename, \"w\") as f:\n",
    "            json.dump({}, f)\n",
    "\n",
    "    with open(filename, \"r\") as f:\n",
    "        cache = json.load(f)\n",
    "\n",
    "    def wrapped(*args, **kwargs):\n",
    "        key = str(list(map(str, args))) + json.dumps(kwargs, sort_keys=True)\n",
    "        if key not in cache:\n",
    "            res = fn(*args, **kwargs)\n",
    "            cache[key] = res\n",
    "            with open(filename, \"w\") as f:\n",
    "                json.dump(cache, f)\n",
    "\n",
    "        return cache[key]\n",
    "\n",
    "    return wrapped\n",
    "\n",
    "\n",
    "def ollama_generate(lm, prompt):\n",
    "    temp = lm.timeout\n",
    "    while True:\n",
    "        try:\n",
    "            res = lm.invoke(prompt)\n",
    "            break\n",
    "        except ReadTimeout:\n",
    "            if lm.timeout > 120:\n",
    "                print(f\"Inference lasted for {lm.timeout} seconds. Stopping now.\")\n",
    "                break\n",
    "            lm.timeout *= 2\n",
    "            print(\n",
    "                f\"### ReadTimeout. Trying again with Timeout: {lm.timeout} seconds ###\"\n",
    "            )\n",
    "        except Exception as e:\n",
    "            print(f\"### {e} ###\")\n",
    "            break\n",
    "    lm.timeout = temp\n",
    "    return res\n",
    "\n",
    "\n",
    "class OPRO:\n",
    "    def __str__(self):\n",
    "        return \"OPRO\"\n",
    "\n",
    "    def __init__(self, init):\n",
    "        if \"gemini\" in init:\n",
    "            import google.generativeai as genai\n",
    "            import utils\n",
    "\n",
    "            genai.configure(api_key=utils.get_GEMINI_API_KEY())\n",
    "\n",
    "            self.gemini_model = genai.GenerativeModel(\n",
    "                \"gemini-pro\",\n",
    "                generation_config=genai.GenerationConfig(\n",
    "                    temperature=1, max_output_tokens=2048\n",
    "                ),\n",
    "            )\n",
    "\n",
    "        if \"gemma\" in init:\n",
    "            from langchain_community.llms import Ollama\n",
    "\n",
    "            self.gemma_model = Ollama(\n",
    "                model=\"gemma:2b\", temperature=0, num_gpu=40, timeout=30\n",
    "            )\n",
    "\n",
    "        if \"anthropic\" in init:\n",
    "            import anthropic\n",
    "\n",
    "            self.anthropic_client = anthropic.Anthropic()\n",
    "\n",
    "    # @filecache\n",
    "    def generate(self, prompt, model=\"gemini\"):\n",
    "        # gemini form\n",
    "        if model == \"gemini\":\n",
    "            return (\n",
    "                self.gemini_model.generate_content(prompt)\n",
    "                .candidates[0]\n",
    "                .content.parts[0]\n",
    "                .text\n",
    "            )\n",
    "        elif model == \"gemma\":\n",
    "            return ollama_generate(self.gemma_model, prompt)\n",
    "        elif model == \"anthropic\":\n",
    "            import anthropic\n",
    "\n",
    "            try:\n",
    "                return (\n",
    "                    self.anthropic_client.messages.create(\n",
    "                        model=\"claude-3-haiku-20240307\",\n",
    "                        max_tokens=200,\n",
    "                        temperature=1.0,\n",
    "                        messages=[{\"role\": \"user\", \"content\": prompt}],\n",
    "                    )\n",
    "                    .content[0]\n",
    "                    .text\n",
    "                )\n",
    "            except anthropic.InternalServerError:\n",
    "                return self.generate(prompt, model=\"anthropic\")\n",
    "\n",
    "        raise ValueError(\"Invalid synth value\")\n",
    "\n",
    "\n",
    "# load gsm8k dataset\n",
    "gsm8k_dataset = load_dataset(\"gsm8k\", \"main\")\n",
    "\n",
    "opro = OPRO([\"anthropic\", \"gemini\", \"gemma\"])  # [\"gemini\", \"gemma\"]\n",
    "\n",
    "\n",
    "# Generate a question and answer pair using a language model\n",
    "def generate_qa_pair():\n",
    "    prompt_template = \"\"\"You are a helpful assistant designed to generate synthetic questions and answers to those questions similar to the gsm8k dataset.\n",
    "\n",
    "Please generate a question and answer pair that is similar to the following question and answer pair as a JSON object:\n",
    "\n",
    "{{\n",
    "    \"question\": \\\"\\\"\\\"{question}\\\"\\\"\\\",\n",
    "    \"answer\": \\\"\\\"\\\"{answer}\\\"\\\"\\\"\n",
    "}}\n",
    "\n",
    "Make sure the questions and answers are string values.\n",
    "Take a deep breath and think step-by-step.\n",
    "\"\"\"\n",
    "\n",
    "    response = opro.generate(\n",
    "        prompt_template.format(\n",
    "            question=gsm8k_dataset[\"train\"][\"question\"][0],\n",
    "            answer=gsm8k_dataset[\"train\"][\"answer\"][0],\n",
    "        ),\n",
    "        model=\"anthropic\",  # gemini\n",
    "    )\n",
    "    return eval(response)\n",
    "\n",
    "\n",
    "if not os.path.exists(\"synthetic_data.json\"):\n",
    "    qa_pairs = []\n",
    "    SAMPLE_SIZE = 250\n",
    "\n",
    "    # Generating synthetic data\n",
    "    pbar = tqdm(total=SAMPLE_SIZE)\n",
    "    while len(qa_pairs) < SAMPLE_SIZE:\n",
    "        try:\n",
    "            qa_pair = generate_qa_pair()\n",
    "            qa_pairs.append(qa_pair)\n",
    "            pbar.update(1)\n",
    "        except ReadTimeout:\n",
    "            print(\"Read timeout error\")\n",
    "        except Exception as e:\n",
    "            print(e)\n",
    "    pbar.close()\n",
    "\n",
    "    # Saving to file\n",
    "    with open(\"synthetic_data.json\", \"w\") as f:\n",
    "        f.write(str(qa_pairs))\n",
    "else:\n",
    "    # Reading saved data\n",
    "    with open(\"synthetic_data.json\", \"r\") as f:\n",
    "        qa_pairs = eval(f.read())\n",
    "\n",
    "qa_pairs"
   ]
  },
  {
   "cell_type": "code",
   "execution_count": 2,
   "metadata": {},
   "outputs": [
    {
     "data": {
      "text/plain": [
       "(30, 30, 50, 50)"
      ]
     },
     "execution_count": 2,
     "metadata": {},
     "output_type": "execute_result"
    }
   ],
   "source": [
    "TRAINING_SAMPLE_SIZE = 30\n",
    "TESTING_SAMPLE_SIZE = 50\n",
    "\n",
    "training_sample = Dataset.from_dict(\n",
    "    {\n",
    "        \"question\": [pair[\"question\"] for pair in qa_pairs[:TRAINING_SAMPLE_SIZE]],\n",
    "        \"answer\": [pair[\"answer\"] for pair in qa_pairs[:TRAINING_SAMPLE_SIZE]],\n",
    "    }\n",
    ")\n",
    "\n",
    "testing_sample = Dataset.from_dict(\n",
    "    {\n",
    "        \"question\": [\n",
    "            pair[\"question\"]\n",
    "            for pair in qa_pairs[\n",
    "                TRAINING_SAMPLE_SIZE : TRAINING_SAMPLE_SIZE + TESTING_SAMPLE_SIZE\n",
    "            ]\n",
    "        ],\n",
    "        \"answer\": [\n",
    "            pair[\"answer\"]\n",
    "            for pair in qa_pairs[\n",
    "                TRAINING_SAMPLE_SIZE : TRAINING_SAMPLE_SIZE + TESTING_SAMPLE_SIZE\n",
    "            ]\n",
    "        ],\n",
    "    }\n",
    ")\n",
    "\n",
    "# Checking if the lists are parallel, i.e. the question and answer at the same index are related\n",
    "len(training_sample[\"question\"]), len(training_sample[\"answer\"]), len(\n",
    "    testing_sample[\"question\"]\n",
    "), len(testing_sample[\"answer\"])"
   ]
  },
  {
   "cell_type": "markdown",
   "metadata": {},
   "source": [
    "### Optimize prompt on synthetic data\n"
   ]
  },
  {
   "cell_type": "code",
   "execution_count": 3,
   "metadata": {},
   "outputs": [],
   "source": [
    "def opt_llm(instruction_score_pairs, training_sample):\n",
    "    # Format the instruction and score pairs into a string\n",
    "    pairs_str = \"\"\n",
    "    for ins, score in instruction_score_pairs.items():\n",
    "        pairs_str += f\"text:\\n{ins}\\nscore:\\n{score:.2f}\\n\\n\"\n",
    "\n",
    "    prompt = \"\"\"You are an optimization expert. The user has some texts along with their corresponding scores.\n",
    "Your task is to generate a new piece of text that scores as high as possible. \n",
    "Generate the new unique text only, not its corresponding score.\n",
    "\n",
    "I have some texts along with their corresponding scores. The texts are arranged in ascending order\n",
    "based on their scores, where higher scores indicate better quality.\n",
    "\n",
    "{pairs_str}\n",
    "\n",
    "The following exemplars show how to apply your text: you replace <INS> in each input with your\n",
    "text, then read the input and give an output. We say your output is wrong if your output is different\n",
    "from the given output, and we say your output is correct if they are the same.\n",
    "\n",
    "input:\n",
    "Q: {q1}\n",
    "A: <INS>\n",
    "output:\n",
    "{a1}\n",
    "\n",
    "input:\n",
    "Q: {q2}\n",
    "A: <INS>\n",
    "output:\n",
    "{a2}\n",
    "\n",
    "input:\n",
    "Q: {q3}\n",
    "A: <INS>\n",
    "output:\n",
    "{a3}\n",
    "\n",
    "Write your new text that is different from the old ones and has a score as high as possible.\n",
    "Generate the new unique text only, not its corresponding score.\n",
    "New instruction:\n",
    "\"\"\"\n",
    "\n",
    "    # Passing 20 Best Instruction-Score Pairs\n",
    "    # 3 randomly chosen questions/answers from the training sample\n",
    "    cut = lambda x: x.split(\"####\")[-1].strip()\n",
    "    q1, q2, q3 = (\n",
    "        training_sample[\"question\"][0],\n",
    "        training_sample[\"question\"][1],\n",
    "        training_sample[\"question\"][2],\n",
    "    )\n",
    "    a1, a2, a3 = (\n",
    "        cut(training_sample[\"answer\"][0]),\n",
    "        cut(training_sample[\"answer\"][1]),\n",
    "        cut(training_sample[\"answer\"][2]),\n",
    "    )\n",
    "    response = opro.generate(\n",
    "        prompt.format(pairs_str=pairs_str, q1=q1, a1=a1, q2=q2, a2=a2, q3=q3, a3=a3),\n",
    "        model=\"gemini\",  # gemini\n",
    "    )\n",
    "    return response\n",
    "\n",
    "\n",
    "def score(instruction, sample):\n",
    "    accuracy = 0\n",
    "    prompt = \"\"\"Q: {question}\\nA: {instruction}\"\"\"\n",
    "    with tqdm(sample, desc=instruction, position=1, leave=False) as pbar:\n",
    "        for idx, sample in enumerate(pbar):\n",
    "            res = opro.generate(\n",
    "                prompt.format(question=sample[\"question\"], instruction=instruction),\n",
    "                model=\"gemma\",  # gemma\n",
    "            )\n",
    "            # Heuristic for detecting correctness\n",
    "            accuracy += sample[\"answer\"].split(\"####\")[-1].strip() in res\n",
    "            pbar.set_postfix({\"Accuracy\": f\"{accuracy / (idx + 1):.2f}\"})\n",
    "\n",
    "    return accuracy / len(sample) * 100"
   ]
  },
  {
   "cell_type": "code",
   "execution_count": 4,
   "metadata": {},
   "outputs": [
    {
     "data": {
      "application/vnd.jupyter.widget-view+json": {
       "model_id": "e13254c0f4d142c5a19c9ae5525950c8",
       "version_major": 2,
       "version_minor": 0
      },
      "text/plain": [
       "Scoring:   0%|          | 0/8 [00:00<?, ?it/s]"
      ]
     },
     "metadata": {},
     "output_type": "display_data"
    },
    {
     "data": {
      "application/vnd.jupyter.widget-view+json": {
       "model_id": "d1289d3ca9264588bbc4731df2d3fbfe",
       "version_major": 2,
       "version_minor": 0
      },
      "text/plain": [
       "Solve this problem:   0%|          | 0/30 [00:00<?, ?it/s]"
      ]
     },
     "metadata": {},
     "output_type": "display_data"
    },
    {
     "data": {
      "application/vnd.jupyter.widget-view+json": {
       "model_id": "c31df888e01b4dcab3281f5a26969dcf",
       "version_major": 2,
       "version_minor": 0
      },
      "text/plain": [
       "Let's think step by step:   0%|          | 0/30 [00:00<?, ?it/s]"
      ]
     },
     "metadata": {},
     "output_type": "display_data"
    },
    {
     "data": {
      "application/vnd.jupyter.widget-view+json": {
       "model_id": "7963720c15ae41598f3ec2c48f84a6e9",
       "version_major": 2,
       "version_minor": 0
      },
      "text/plain": [
       "Let’s solve this problem by splitting it into steps:   0%|          | 0/30 [00:00<?, ?it/s]"
      ]
     },
     "metadata": {},
     "output_type": "display_data"
    },
    {
     "data": {
      "application/vnd.jupyter.widget-view+json": {
       "model_id": "c54bcaa75ef2455b8af902f2aafffb90",
       "version_major": 2,
       "version_minor": 0
      },
      "text/plain": [
       "Let’s think about this logically:   0%|          | 0/30 [00:00<?, ?it/s]"
      ]
     },
     "metadata": {},
     "output_type": "display_data"
    },
    {
     "data": {
      "application/vnd.jupyter.widget-view+json": {
       "model_id": "2336eb588e4a412eacac41c5b9c1551a",
       "version_major": 2,
       "version_minor": 0
      },
      "text/plain": [
       "Take a deep breath and think through this:   0%|          | 0/30 [00:00<?, ?it/s]"
      ]
     },
     "metadata": {},
     "output_type": "display_data"
    },
    {
     "data": {
      "application/vnd.jupyter.widget-view+json": {
       "model_id": "62f3374ccc2c4657b298612dd4da375c",
       "version_major": 2,
       "version_minor": 0
      },
      "text/plain": [
       "Break this down:   0%|          | 0/30 [00:00<?, ?it/s]"
      ]
     },
     "metadata": {},
     "output_type": "display_data"
    },
    {
     "data": {
      "application/vnd.jupyter.widget-view+json": {
       "model_id": "8c1f265fcd6d4a58a58dd5e245777caa",
       "version_major": 2,
       "version_minor": 0
      },
      "text/plain": [
       "Respond quickly:   0%|          | 0/30 [00:00<?, ?it/s]"
      ]
     },
     "metadata": {},
     "output_type": "display_data"
    },
    {
     "data": {
      "application/vnd.jupyter.widget-view+json": {
       "model_id": "97a18a38fe354fb48748b137b09d7ad1",
       "version_major": 2,
       "version_minor": 0
      },
      "text/plain": [
       "a;lsdghougkaa;aaaaaaaaaaaaaaaaaaaaaaaaaaaaaaaaaaaaaaaaaa:   0%|          | 0/30 [00:00<?, ?it/s]"
      ]
     },
     "metadata": {},
     "output_type": "display_data"
    },
    {
     "name": "stdout",
     "output_type": "stream",
     "text": [
      "Step 1\n"
     ]
    },
    {
     "data": {
      "application/vnd.jupyter.widget-view+json": {
       "model_id": "ed42af38b9964112990c34433d38769b",
       "version_major": 2,
       "version_minor": 0
      },
      "text/plain": [
       "Optimizing:   0%|          | 0/8 [00:00<?, ?it/s]"
      ]
     },
     "metadata": {},
     "output_type": "display_data"
    },
    {
     "name": "stdout",
     "output_type": "stream",
     "text": [
      "['Slow down to sharpen your brain', 'Start by listing down the problem', 'Think about this logically and break it down', \"Let's unpack this piece by piece\", \"Break it down, let's think it through together\", 'Focus on understanding the problem', 'Simplify this breakdown to its bare minimum', \"Let's try to break this down into smaller parts and address them one at a time\"]\n"
     ]
    },
    {
     "data": {
      "application/vnd.jupyter.widget-view+json": {
       "model_id": "2d4287ac46d44032b5b3ec7135aa5660",
       "version_major": 2,
       "version_minor": 0
      },
      "text/plain": [
       "Scoring:   0%|          | 0/8 [00:00<?, ?it/s]"
      ]
     },
     "metadata": {},
     "output_type": "display_data"
    },
    {
     "data": {
      "application/vnd.jupyter.widget-view+json": {
       "model_id": "c7fee66bdb8246ea95bfc59d597942f4",
       "version_major": 2,
       "version_minor": 0
      },
      "text/plain": [
       "Slow down to sharpen your brain:   0%|          | 0/30 [00:00<?, ?it/s]"
      ]
     },
     "metadata": {},
     "output_type": "display_data"
    },
    {
     "data": {
      "application/vnd.jupyter.widget-view+json": {
       "model_id": "b0e5cb85364a4c4b97a47049ea799ffd",
       "version_major": 2,
       "version_minor": 0
      },
      "text/plain": [
       "Start by listing down the problem:   0%|          | 0/30 [00:00<?, ?it/s]"
      ]
     },
     "metadata": {},
     "output_type": "display_data"
    },
    {
     "data": {
      "application/vnd.jupyter.widget-view+json": {
       "model_id": "eccc4b1363ba48daba2d51587dc6f77d",
       "version_major": 2,
       "version_minor": 0
      },
      "text/plain": [
       "Think about this logically and break it down:   0%|          | 0/30 [00:00<?, ?it/s]"
      ]
     },
     "metadata": {},
     "output_type": "display_data"
    },
    {
     "data": {
      "application/vnd.jupyter.widget-view+json": {
       "model_id": "4b3b4ca0c345457e8c0a797906c85a14",
       "version_major": 2,
       "version_minor": 0
      },
      "text/plain": [
       "Let's unpack this piece by piece:   0%|          | 0/30 [00:00<?, ?it/s]"
      ]
     },
     "metadata": {},
     "output_type": "display_data"
    },
    {
     "data": {
      "application/vnd.jupyter.widget-view+json": {
       "model_id": "6824912440924a429bc4720fc3ec2c5b",
       "version_major": 2,
       "version_minor": 0
      },
      "text/plain": [
       "Break it down, let's think it through together:   0%|          | 0/30 [00:00<?, ?it/s]"
      ]
     },
     "metadata": {},
     "output_type": "display_data"
    },
    {
     "data": {
      "application/vnd.jupyter.widget-view+json": {
       "model_id": "31559cd6fcc14809a6198476af470a13",
       "version_major": 2,
       "version_minor": 0
      },
      "text/plain": [
       "Focus on understanding the problem:   0%|          | 0/30 [00:00<?, ?it/s]"
      ]
     },
     "metadata": {},
     "output_type": "display_data"
    },
    {
     "data": {
      "application/vnd.jupyter.widget-view+json": {
       "model_id": "9613522d9a02435b8ccb1210ebb41fb6",
       "version_major": 2,
       "version_minor": 0
      },
      "text/plain": [
       "Simplify this breakdown to its bare minimum:   0%|          | 0/30 [00:00<?, ?it/s]"
      ]
     },
     "metadata": {},
     "output_type": "display_data"
    },
    {
     "data": {
      "application/vnd.jupyter.widget-view+json": {
       "model_id": "4f64bc7ffc6847d4a819cd973c680c24",
       "version_major": 2,
       "version_minor": 0
      },
      "text/plain": [
       "Let's try to break this down into smaller parts and address them one at a time:   0%|          | 0/30 [00:00<?…"
      ]
     },
     "metadata": {},
     "output_type": "display_data"
    }
   ],
   "source": [
    "# Sample 3.5% of the training set\n",
    "INS_PER_STEP = 8\n",
    "EXEMPLARS_PER_STEP = 3\n",
    "MAX_INS_SCORE_PAIRS = 20\n",
    "SAVE_PATH = \"synthetic_data_results_k.json\"\n",
    "\n",
    "# loading saved data\n",
    "if os.path.exists(SAVE_PATH):\n",
    "    with open(SAVE_PATH, \"r\") as f:\n",
    "        results = json.load(f)\n",
    "    starting_step = len(results) + 1\n",
    "    ins_score_pairs = results[str(len(results))]\n",
    "else:\n",
    "    ins_lst = [\n",
    "        \"Solve this problem\",\n",
    "        \"Let's think step by step\",\n",
    "        \"Let’s solve this problem by splitting it into steps\",\n",
    "        \"Let’s think about this logically\",\n",
    "        \"Take a deep breath and think through this\",\n",
    "        \"Break this down\",\n",
    "        \"Respond quickly\",\n",
    "        \"a;lsdghougkaa;aaaaaaaaaaaaaaaaaaaaaaaaaaaaaaaaaaaaaaaaaa\",\n",
    "    ]\n",
    "    ins_score_pairs = {\n",
    "        ins: score(ins, training_sample)\n",
    "        for ins in tqdm(ins_lst, desc=\"Scoring\", position=0)\n",
    "    }\n",
    "    starting_step = 1\n",
    "    results = {starting_step: ins_score_pairs}\n",
    "    with open(SAVE_PATH, \"w\") as f:\n",
    "        json.dump(results, f)\n",
    "\n",
    "# Each step takes aboy 5 to 10 minutes with gemma:2b\n",
    "STEP_COUNT = 1\n",
    "TARGET_STEP = starting_step + STEP_COUNT\n",
    "assert TARGET_STEP >= starting_step, \"TARGET_STEP should be greater than step.\"\n",
    "for i in range(starting_step, TARGET_STEP):\n",
    "    print(f\"Step {i}\")\n",
    "    while True:\n",
    "        try:\n",
    "            # Optimizer LLM\n",
    "            exemplars = training_sample.shuffle()[:EXEMPLARS_PER_STEP]\n",
    "            instructions = [\n",
    "                opt_llm(ins_score_pairs, exemplars)\n",
    "                for _ in trange(INS_PER_STEP, desc=\"Optimizing\")\n",
    "            ]\n",
    "            print(instructions)\n",
    "\n",
    "            # Scoring the new instructions\n",
    "            new_ins_score_pairs = {\n",
    "                ins: score(ins, training_sample)\n",
    "                for ins in tqdm(instructions, desc=\"Scoring\", position=0)\n",
    "            }\n",
    "            combined_ins_score_pairs = {**ins_score_pairs, **new_ins_score_pairs}\n",
    "            ins_score_pairs = dict(\n",
    "                sorted(\n",
    "                    combined_ins_score_pairs.items(), key=lambda x: x[1], reverse=True\n",
    "                )[:MAX_INS_SCORE_PAIRS]\n",
    "            )\n",
    "\n",
    "            # Saving data\n",
    "            results[i] = ins_score_pairs\n",
    "            with open(SAVE_PATH, \"w\") as f:\n",
    "                json.dump(results, f)\n",
    "\n",
    "            break\n",
    "        except ValueError as e:\n",
    "            print(e)\n",
    "        except Exception as e:\n",
    "            print(e)"
   ]
  },
  {
   "cell_type": "code",
   "execution_count": 5,
   "metadata": {},
   "outputs": [
    {
     "data": {
      "text/plain": [
       "{\"Break it down, let's think it through together\": 500.0,\n",
       " \"Let's try to break this down into smaller parts and address them one at a time\": 500.0,\n",
       " 'Think about this logically and break it down': 450.0,\n",
       " 'Let’s solve this problem by splitting it into steps': 400.0,\n",
       " \"Let's unpack this piece by piece\": 400.0,\n",
       " 'Let’s think about this logically': 350.0,\n",
       " 'Focus on understanding the problem': 350.0,\n",
       " \"Let's think step by step\": 300.0,\n",
       " 'Simplify this breakdown to its bare minimum': 300.0,\n",
       " 'Solve this problem': 250.0,\n",
       " 'Slow down to sharpen your brain': 250.0,\n",
       " 'Take a deep breath and think through this': 200.0,\n",
       " 'Break this down': 200.0,\n",
       " 'Respond quickly': 200.0,\n",
       " 'Start by listing down the problem': 150.0,\n",
       " 'a;lsdghougkaa;aaaaaaaaaaaaaaaaaaaaaaaaaaaaaaaaaaaaaaaaaa': 100.0}"
      ]
     },
     "execution_count": 5,
     "metadata": {},
     "output_type": "execute_result"
    }
   ],
   "source": [
    "ins_score_pairs"
   ]
  },
  {
   "cell_type": "markdown",
   "metadata": {},
   "source": [
    "### Plotting Results and Testing Accuracy\n"
   ]
  },
  {
   "cell_type": "code",
   "execution_count": 6,
   "metadata": {},
   "outputs": [
    {
     "data": {
      "text/plain": [
       "Text(0.5, 1.0, 'Step to Accuracy')"
      ]
     },
     "execution_count": 6,
     "metadata": {},
     "output_type": "execute_result"
    },
    {
     "data": {
      "image/png": "[encoded data removed]",
      "text/plain": [
       "<Figure size 640x480 with 1 Axes>"
      ]
     },
     "metadata": {},
     "output_type": "display_data"
    }
   ],
   "source": [
    "import statistics\n",
    "import matplotlib.pyplot as plt\n",
    "\n",
    "# load opro.json\n",
    "with open(SAVE_PATH) as f:\n",
    "    opro_results = json.load(f)\n",
    "\n",
    "# opro = {step:dict(sorted(opro[step].items(), key=lambda x: x[1], reverse=True)[:20]) for step in opro}\n",
    "step_to_accuracy = {\n",
    "    step: (\n",
    "        statistics.mean(opro_results[step].values()),\n",
    "        statistics.stdev(opro_results[step].values()),\n",
    "    )\n",
    "    for step in opro_results\n",
    "}\n",
    "\n",
    "# Plot step to accuracy as a continuous line graph, including stdevs as highlighted error bars\n",
    "fig, ax = plt.subplots()\n",
    "ax.errorbar(\n",
    "    step_to_accuracy.keys(),\n",
    "    [accuracy[0] for accuracy in step_to_accuracy.values()],\n",
    "    yerr=[accuracy[1] for accuracy in step_to_accuracy.values()],\n",
    "    fmt=\"o\",\n",
    ")\n",
    "ax.set_xticks([step for step in step_to_accuracy.keys() if int(step) % 5 == 0])\n",
    "ax.set_xlabel(\"Step\")\n",
    "ax.set_ylabel(\"Accuracy\")\n",
    "ax.set_title(\"Step to Accuracy\")"
   ]
  },
  {
   "cell_type": "code",
   "execution_count": 7,
   "metadata": {},
   "outputs": [
    {
     "data": {
      "text/plain": [
       "{\"Break it down, let's think it through together\": 500.0,\n",
       " \"Let's try to break this down into smaller parts and address them one at a time\": 500.0,\n",
       " 'Think about this logically and break it down': 450.0,\n",
       " 'Let’s solve this problem by splitting it into steps': 400.0,\n",
       " \"Let's unpack this piece by piece\": 400.0,\n",
       " 'Let’s think about this logically': 350.0,\n",
       " 'Focus on understanding the problem': 350.0,\n",
       " \"Let's think step by step\": 300.0,\n",
       " 'Simplify this breakdown to its bare minimum': 300.0,\n",
       " 'Solve this problem': 250.0,\n",
       " 'Slow down to sharpen your brain': 250.0,\n",
       " 'Take a deep breath and think through this': 200.0,\n",
       " 'Break this down': 200.0,\n",
       " 'Respond quickly': 200.0,\n",
       " 'Start by listing down the problem': 150.0,\n",
       " 'a;lsdghougkaa;aaaaaaaaaaaaaaaaaaaaaaaaaaaaaaaaaaaaaaaaaa': 100.0}"
      ]
     },
     "execution_count": 7,
     "metadata": {},
     "output_type": "execute_result"
    }
   ],
   "source": [
    "opro_results[str(len(opro_results))]"
   ]
  },
  {
   "cell_type": "code",
   "execution_count": 8,
   "metadata": {},
   "outputs": [
    {
     "data": {
      "application/vnd.jupyter.widget-view+json": {
       "model_id": "25b5fa7fac8b419c841077df6b8f9785",
       "version_major": 2,
       "version_minor": 0
      },
      "text/plain": [
       "  0%|          | 0/50 [00:00<?, ?it/s]"
      ]
     },
     "metadata": {},
     "output_type": "display_data"
    },
    {
     "name": "stdout",
     "output_type": "stream",
     "text": [
      "No instruction:  900.0\n"
     ]
    },
    {
     "data": {
      "application/vnd.jupyter.widget-view+json": {
       "model_id": "e1fee9e3503c479aa1243b9ac6f23296",
       "version_major": 2,
       "version_minor": 0
      },
      "text/plain": [
       "Break it down, let's think it through together:   0%|          | 0/50 [00:00<?, ?it/s]"
      ]
     },
     "metadata": {},
     "output_type": "display_data"
    },
    {
     "name": "stdout",
     "output_type": "stream",
     "text": [
      "With best instruction (Break it down, let's think it through together):  1000.0\n"
     ]
    }
   ],
   "source": [
    "best_instruction = max(\n",
    "    opro_results[str(len(opro_results))], key=opro_results[str(len(opro_results))].get\n",
    ")\n",
    "print(\"No instruction: \", score(\"\", testing_sample))\n",
    "print(\n",
    "    f\"With best instruction ({best_instruction}): \",\n",
    "    score(best_instruction, testing_sample),\n",
    ")"
   ]
  },
  {
   "cell_type": "code",
   "execution_count": 10,
   "metadata": {},
   "outputs": [
    {
     "data": {
      "application/vnd.jupyter.widget-view+json": {
       "model_id": "60d1d4e1ba774a8aa6f337c12e8fbcb7",
       "version_major": 2,
       "version_minor": 0
      },
      "text/plain": [
       "  0%|          | 0/250 [00:00<?, ?it/s]"
      ]
     },
     "metadata": {},
     "output_type": "display_data"
    },
    {
     "name": "stdout",
     "output_type": "stream",
     "text": [
      "No instruction:  2600.0\n"
     ]
    },
    {
     "data": {
      "application/vnd.jupyter.widget-view+json": {
       "model_id": "48dabdb4ee734b9f89d09b02c89a9581",
       "version_major": 2,
       "version_minor": 0
      },
      "text/plain": [
       "Break it down, let's think it through together:   0%|          | 0/250 [00:00<?, ?it/s]"
      ]
     },
     "metadata": {},
     "output_type": "display_data"
    },
    {
     "name": "stdout",
     "output_type": "stream",
     "text": [
      "With best instruction (Break it down, let's think it through together):  3400.0\n"
     ]
    }
   ],
   "source": [
    "data_original = Dataset.from_dict(gsm8k_dataset[\"test\"][:250])\n",
    "best_instruction = max(\n",
    "    opro_results[str(len(opro_results))], key=opro_results[str(len(opro_results))].get\n",
    ")\n",
    "print(\"No instruction: \", score(\"\", data_original))\n",
    "print(\n",
    "    f\"With best instruction ({best_instruction}): \",\n",
    "    score(best_instruction, data_original),\n",
    ")"
   ]
  },
  {
   "cell_type": "code",
   "execution_count": null,
   "metadata": {},
   "outputs": [],
   "source": []
  }
 ],
 "metadata": {
  "kernelspec": {
   "display_name": "Python 3",
   "language": "python",
   "name": "python3"
  },
  "language_info": {
   "codemirror_mode": {
    "name": "ipython",
    "version": 3
   },
   "file_extension": ".py",
   "mimetype": "text/x-python",
   "name": "python",
   "nbconvert_exporter": "python",
   "pygments_lexer": "ipython3",
   "version": "3.10.12"
  }
 },
 "nbformat": 4,
 "nbformat_minor": 2
}
