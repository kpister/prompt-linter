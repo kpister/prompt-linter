{
 "cells": [
  {
   "cell_type": "code",
   "execution_count": 1,
   "metadata": {},
   "outputs": [
    {
     "data": {
      "text/plain": [
       "'Please help me to translate the following text to {LANGUAGE}. Please return only translated content not include the origin text. Here is the text: \\n\\n{TEXT}'"
      ]
     },
     "execution_count": 1,
     "metadata": {},
     "output_type": "execute_result"
    }
   ],
   "source": [
    "from datasets import load_dataset, Dataset\n",
    "import sys, os, json\n",
    "sys.path.append(os.path.join(os.getcwd(), '../..'))\n",
    "from OPRO import OPRO\n",
    "import pandas as pd\n",
    "from tqdm.auto import tqdm, trange\n",
    "\n",
    "opro = OPRO([\"gemini\", \"gemma\", \"anthropic\"])\n",
    "dataset = load_dataset(\"pisterlabs/promptset\").filter(lambda row: len(row[\"prompts\"]) > 0)[\"train\"]\n",
    "CHOSEN_PROMPT = dataset[\"prompts\"][404][0].replace(\"PLACEHOLDER\", \"{LANGUAGE}\", 1).replace(\"PLACEHOLDER\", \"{TEXT}\", 1)\n",
    "CHOSEN_PROMPT"
   ]
  },
  {
   "cell_type": "markdown",
   "metadata": {},
   "source": [
    "### Original Dataset"
   ]
  },
  {
   "cell_type": "code",
   "execution_count": 2,
   "metadata": {},
   "outputs": [
    {
     "data": {
      "text/plain": [
       "(['Please help me to translate the following text to Spanish. Please return only translated content not include the origin text. Here is the text: \\n\\nHow boring!',\n",
       "  'Please help me to translate the following text to Spanish. Please return only translated content not include the origin text. Here is the text: \\n\\nI love sports.',\n",
       "  'Please help me to translate the following text to Spanish. Please return only translated content not include the origin text. Here is the text: \\n\\nWould you like to swap jobs?',\n",
       "  'Please help me to translate the following text to Spanish. Please return only translated content not include the origin text. Here is the text: \\n\\nMy mother did nothing but weep.',\n",
       "  'Please help me to translate the following text to Spanish. Please return only translated content not include the origin text. Here is the text: \\n\\nCroatia is in the southeastern part of Europe.'],\n",
       " ['¡Qué aburrimiento!',\n",
       "  'Adoro el deporte.',\n",
       "  '¿Te gustaría que intercambiemos los trabajos?',\n",
       "  'Mi madre no hizo nada sino llorar.',\n",
       "  'Croacia está en el sudeste de Europa.'])"
      ]
     },
     "execution_count": 2,
     "metadata": {},
     "output_type": "execute_result"
    }
   ],
   "source": [
    "import pandas as pd\n",
    "df = pd.read_csv(\"en-sp.csv\")\n",
    "df = df.sample(250, random_state=42)\n",
    "df[\"english\"] = df[\"english\"].apply(lambda x: CHOSEN_PROMPT.format(LANGUAGE=\"Spanish\", TEXT=x))\n",
    "# df to dict without indices\n",
    "df_dict = df.to_dict(orient='records')\n",
    "# dict with two keys: english and spanish\n",
    "original_data = {\"question\": [], \"answer\": []}\n",
    "for row in df_dict:\n",
    "    original_data[\"question\"].append(row[\"english\"])\n",
    "    original_data[\"answer\"].append(row[\"spanish\"])\n",
    "original_data = Dataset.from_dict(original_data)\n",
    "original_data[\"question\"][:5], original_data[\"answer\"][:5]"
   ]
  },
  {
   "cell_type": "markdown",
   "metadata": {},
   "source": [
    "### Generate Synthetic Data"
   ]
  },
  {
   "cell_type": "code",
   "execution_count": 3,
   "metadata": {},
   "outputs": [
    {
     "data": {
      "text/plain": [
       "[{'question': 'Please help me to translate the following text to Portuguese. Please return only translated content not include the origin text. Here is the text: \\n\\nI want to buy an orange.',\n",
       "  'answer': 'Quero comprar uma laranja.'},\n",
       " {'question': 'Please help me to translate the following text to German. Please return only translated content not include the origin text. Here is the text:\\n\\ntake a deep breath',\n",
       "  'answer': 'tief durchatmen'},\n",
       " {'question': 'Please help me to translate the following text to Japanese. Please return only translated content not include the origin text. Here is the text: \\n\\nWhat is the meaning of life?',\n",
       "  'answer': '人生の意味とは何か?'},\n",
       " {'question': \"Please help me to translate the following text to Dutch. Please return only translated content not include the origin text. Here is the text: \\n\\nDon't touch my stuff.\",\n",
       "  'answer': 'Blijf van mijn spullen af.'},\n",
       " {'question': 'Kindly help me translate the following text to Portuguese. But make sure to give only the translation, no other unneeded content. Here is the text:What is a computer?',\n",
       "  'answer': 'O que é um computador?'},\n",
       " {'question': 'Please help me to translate the following text to Hindi. Please return only translated content not include the origin text. Here is the text: \\n\\nI am a clever boy.',\n",
       "  'answer': 'मैं एक चतुर लड़का हूँ।'},\n",
       " {'question': 'Translate the following text to Japanese. Please return only translated content not include the origin text. Here is the text: \\n\\ngood luck.',\n",
       "  'answer': '頑張ってください'},\n",
       " {'question': 'Please help me to translate the following text to Indonesian. Please return only translated content not include the origin text. Here is the text:\\n\\nI know this place.',\n",
       "  'answer': 'Saya tahu tempat ini.'},\n",
       " {'question': 'Please help me to translate the following text to French. Please return only translated content not include the origin text. Here is the text: \\n\\nGet up!',\n",
       "  'answer': 'Lève-toi !'},\n",
       " {'question': \"Please help me to translate the following text to German. Please return only translated content not include the origin text. Here is the text: \\n\\nHappy Valentine's Day.\",\n",
       "  'answer': 'Frohen Valentinstag.'},\n",
       " {'question': 'Please help me to translate the following text to French. Please return only translated content not include the origin text. Here is the text: \\n\\nI am very happy.',\n",
       "  'answer': 'Je suis très heureux.'},\n",
       " {'question': 'Translate the following text to French: Have a nice day!',\n",
       "  'answer': 'Passez une bonne journée !'},\n",
       " {'question': \"Can you please translate the following text to Spanish? Just the translated content, without the original text. Here's the text: They are two sides of the same coin.\",\n",
       "  'answer': 'Son dos caras de la misma moneda.'},\n",
       " {'question': 'Please help me to translate the following text to French. Please return only translated content not include the origin text. Here is the text: \\n\\nHow old are you?',\n",
       "  'answer': 'Quel âge avez-vous ?'},\n",
       " {'question': 'Please help me to translate the following text to Chinese (Simplified). Please return only translated content not include the origin text. Here is the text: \\n\\nI love ice cream.',\n",
       "  'answer': '我喜欢冰淇淋。'},\n",
       " {'question': \"Please help me to translate the following text to French. Please return only translated content not include the origin text. Here is the text: \\n\\nSo you're OK.\",\n",
       "  'answer': 'Alors tu vas bien ?'},\n",
       " {'question': \"Please help me to translate the following text to French. Please return only translated content not include the origin text. Here is the text: \\n\\nIt's late!\",\n",
       "  'answer': \"C'est tard !\"},\n",
       " {'question': 'Please help me to translate the following text to Icelandic. Please return only translated content not include the origin text. Here is the text: \\n\\nIt’s getting dark.Bang!',\n",
       "  'answer': 'Það er að myrkrið. Bang!'},\n",
       " {'question': 'Please help me to translate the following text to French. Please return only translated content not include the origin text. Here is the text: \\n\\nWhat a fun day!',\n",
       "  'answer': 'Quelle journée amusante\\xa0!'},\n",
       " {'question': 'Please help me to translate the following text to French. Please return only translated content not include the origin text. Here is the text: \\n\\nHow exhausted!',\n",
       "  'answer': 'Quelle fatigue !'},\n",
       " {'question': 'Please help me to translate the following text to Spanish. Please return only translated content not include the origin text. Here is the text: \\n\\nWhat a beautiful day!',\n",
       "  'answer': '¡Qué día tan hermoso!'},\n",
       " {'question': 'Please help me to translate the following text to Spanish. Please return only translated content not include the origin text. Here is the text: \\n\\nWhat do you mean',\n",
       "  'answer': '¿Qué quiere decir?'},\n",
       " {'question': 'Please help me to translate the following text to Spanish. Please return only translated content not include the origin text. Here is the text: \\n\\nDebugged',\n",
       "  'answer': 'Depurado'},\n",
       " {'question': 'Please help me to translate the following text to German. Please return only translated content not include the origin text. Here is the text: \\n\\nWhat a lovely day!',\n",
       "  'answer': 'Was für ein schöner Tag!'},\n",
       " {'question': 'Please help me to translate the following text to German. Please return only translated content not include the origin text. Here is the text: \\n\\nThis is a nice day.',\n",
       "  'answer': 'Das ist ein schöner Tag.'},\n",
       " {'question': 'Please help me to translate the following text to Dutch. Please return only translated content not include the origin text. Here is the text: \\n\\nWhat did I tell you?',\n",
       "  'answer': 'Wat zei ik je?'},\n",
       " {'question': 'Please help me to translate the following text to Swedish. Please return only translated content not include the origin text. Here is the text: \\n\\nLondon is the capital of UK',\n",
       "  'answer': 'London är huvudstaden i Storbritannien'},\n",
       " {'question': 'Translate the following text to Russian. Here is the text:\\n\\nGood morning.',\n",
       "  'answer': 'Доброе утро.'},\n",
       " {'question': 'Please translate the following text to French. Please return only translated content, not including the original text. Here is the text:\\n\\nYou can do it!',\n",
       "  'answer': 'Tu peux le faire !'},\n",
       " {'question': 'Please help me to translate the following text to Spanish. Please return only translated content not include the origin text. Here is the text: \\n\\nGoodbye',\n",
       "  'answer': 'Adiós'},\n",
       " {'question': 'Please help me to translate the following text to Korean. Please return only translated content not include the origin text. Here is the text: \\n\\nBe proud of yourself.',\n",
       "  'answer': '자기 자신을 자랑스럽게 생각하세요.'},\n",
       " {'question': 'Please help me to translate the following text to Japanese. Please return only translated content not include the origin text. Here is the text: \\n\\nPink',\n",
       "  'answer': 'ピンク'},\n",
       " {'question': 'Please help me to translate the following text to Italian. Please return only translated content not include the origin text. Here is the text: \\n\\nHello world!',\n",
       "  'answer': 'Ciao mondo!'},\n",
       " {'question': 'Please help me to translate the following text to Italian. Please return only translated content not include the origin text. Here is the text: \\n\\nWhat is for dinner?',\n",
       "  'answer': \"Cosa c'è per cena?\"},\n",
       " {'question': 'Translate the following text to French. Please return only translated content not include the origin text. Here is the text: \\n\\nHello world!',\n",
       "  'answer': 'Bonjour le monde !'},\n",
       " {'question': 'Please help me to translate the following text to Japanese. Please return only translated content not include the origin text. Here is the text: \\n\\nIt must be difficult.',\n",
       "  'answer': '難しいでしょうね。'},\n",
       " {'question': 'Please help me to translate the following text to French. Please return only translated content not include the origin text. Here is the text:\\n\\nWhat is the reason?',\n",
       "  'answer': 'Quelle est la raison\\xa0?'},\n",
       " {'question': 'Please help me to translate the following text to Russian. Please return only translated content not include the origin text. Here is the text: Wash clothes withstand squall.',\n",
       "  'answer': 'Моющая одежда выдерживает шквал.'},\n",
       " {'question': 'Please help me to translate the following text to Mandarin Chinese. Please return only translated content, not including the original text. Here is the text:\\nWhat a detailed explanation!',\n",
       "  'answer': '太详细的阐述了！'},\n",
       " {'question': 'Please help me to translate the following text to Russian. Please return only translated content not include the origin text. Here is the text: Good afternoon.',\n",
       "  'answer': 'Добрый день.'}]"
      ]
     },
     "execution_count": 3,
     "metadata": {},
     "output_type": "execute_result"
    }
   ],
   "source": [
    "# Generate a question and answer pair using a language model\n",
    "def generate_qa_pair():\n",
    "    prompt_template = \"\"\"You are a helpful assistant designed to generate synthetic questions and answers for the prompt: {CHOSEN_PROMPT}.\n",
    "\n",
    "Please generate a question and answer pair that is similar to the following question and answer pair as a JSON object:\n",
    "\n",
    "{{\n",
    "    \"question\": \\\"\\\"\\\"{question}\\\"\\\"\\\",\n",
    "    \"answer\": \\\"\\\"\\\"{answer}\\\"\\\"\\\"\n",
    "}}\n",
    "\n",
    "Make sure the questions and answers are string values.\n",
    "Take a deep breath and think step-by-step.\n",
    "\"\"\"\n",
    "\n",
    "    response = opro.generate(\n",
    "        prompt_template.format(\n",
    "            CHOSEN_PROMPT=CHOSEN_PROMPT,\n",
    "            question=original_data[\"question\"][0],\n",
    "            answer=original_data[\"answer\"][0],\n",
    "        ),\n",
    "        model=\"gemini\",  # gemini\n",
    "        is_indeterministic=True,\n",
    "    )\n",
    "    return eval(response)\n",
    "\n",
    "SYNTHETIC_DATA_FILEPATH = \"synthetic_translations_dataset.json\"\n",
    "if not os.path.exists(SYNTHETIC_DATA_FILEPATH):\n",
    "    qa_pairs = []\n",
    "    SAMPLE_SIZE = 40\n",
    "\n",
    "    # Generating synthetic data\n",
    "    pbar = tqdm(total=SAMPLE_SIZE)\n",
    "    while len(qa_pairs) < SAMPLE_SIZE:\n",
    "        try:\n",
    "            qa_pair = generate_qa_pair()\n",
    "            qa_pairs.append(qa_pair)\n",
    "            pbar.update(1)\n",
    "        except Exception as e:\n",
    "            print(e)\n",
    "    pbar.close()\n",
    "\n",
    "    # Saving to file\n",
    "    with open(SYNTHETIC_DATA_FILEPATH, \"w\") as f:\n",
    "        f.write(str(qa_pairs))\n",
    "\n",
    "# Reading saved data\n",
    "with open(SYNTHETIC_DATA_FILEPATH, \"r\") as f:\n",
    "    qa_pairs = eval(f.read())\n",
    "\n",
    "qa_pairs"
   ]
  },
  {
   "cell_type": "code",
   "execution_count": 4,
   "metadata": {},
   "outputs": [
    {
     "data": {
      "text/plain": [
       "(10, 10, 25, 25)"
      ]
     },
     "execution_count": 4,
     "metadata": {},
     "output_type": "execute_result"
    }
   ],
   "source": [
    "TRAINING_SAMPLE_SIZE = 10\n",
    "TESTING_SAMPLE_SIZE = 25\n",
    "\n",
    "training_sample = Dataset.from_dict(\n",
    "    {\n",
    "        \"question\": [pair[\"question\"] for pair in qa_pairs[:TRAINING_SAMPLE_SIZE]],\n",
    "        \"answer\": [pair[\"answer\"] for pair in qa_pairs[:TRAINING_SAMPLE_SIZE]],\n",
    "    }\n",
    ")\n",
    "\n",
    "testing_sample = Dataset.from_dict(\n",
    "    {\n",
    "        \"question\": [\n",
    "            pair[\"question\"]\n",
    "            for pair in qa_pairs[\n",
    "                TRAINING_SAMPLE_SIZE : TRAINING_SAMPLE_SIZE + TESTING_SAMPLE_SIZE\n",
    "            ]\n",
    "        ],\n",
    "        \"answer\": [\n",
    "            pair[\"answer\"]\n",
    "            for pair in qa_pairs[\n",
    "                TRAINING_SAMPLE_SIZE : TRAINING_SAMPLE_SIZE + TESTING_SAMPLE_SIZE\n",
    "            ]\n",
    "        ],\n",
    "    }\n",
    ")\n",
    "\n",
    "# Checking if the lists are parallel, i.e. the question and answer at the same index are related\n",
    "len(training_sample[\"question\"]), len(training_sample[\"answer\"]), len(testing_sample[\"question\"]), len(testing_sample[\"answer\"])"
   ]
  },
  {
   "cell_type": "markdown",
   "metadata": {},
   "source": [
    "### Optimize Prompt on Synthetic Data"
   ]
  },
  {
   "cell_type": "code",
   "execution_count": 5,
   "metadata": {},
   "outputs": [],
   "source": [
    "def opt_llm(instruction_score_pairs, training_sample):\n",
    "    # Format the instruction and score pairs into a string\n",
    "    pairs_str = \"\"\n",
    "    for ins, score in instruction_score_pairs.items():\n",
    "        pairs_str += f\"text:\\n{ins}\\nscore:\\n{score:.2f}\\n\\n\"\n",
    "\n",
    "    prompt = \"\"\"You are an optimization expert. The user has some texts along with their corresponding scores.\n",
    "Your task is to generate a new piece of text that scores as high as possible. \n",
    "Generate the new unique text only, not its corresponding score.\n",
    "\n",
    "I have some texts along with their corresponding scores. The texts are arranged in ascending order\n",
    "based on their scores, where higher scores indicate better quality.\n",
    "\n",
    "{pairs_str}\n",
    "\n",
    "The following exemplars show how to apply your text: you replace <INS> in each input with your\n",
    "text, then read the input and give an output. We say your output is wrong if your output is different\n",
    "from the given output, and we say your output is correct if they are the same.\n",
    "\n",
    "input:\n",
    "Q: {q1}\n",
    "A: <INS>\n",
    "output:\n",
    "{a1}\n",
    "\n",
    "input:\n",
    "Q: {q2}\n",
    "A: <INS>\n",
    "output:\n",
    "{a2}\n",
    "\n",
    "input:\n",
    "Q: {q3}\n",
    "A: <INS>\n",
    "output:\n",
    "{a3}\n",
    "\n",
    "Write your new text that is different from the old ones and has a score as high as possible.\n",
    "Generate the new unique text only, not its corresponding score.\n",
    "New instruction:\n",
    "\"\"\"\n",
    "\n",
    "    # Passing 20 Best Instruction-Score Pairs\n",
    "    # 3 randomly chosen questions/answers from the training sample\n",
    "    q1, q2, q3 = (\n",
    "        training_sample[\"question\"][0],\n",
    "        training_sample[\"question\"][1],\n",
    "        training_sample[\"question\"][2],\n",
    "    )\n",
    "    a1, a2, a3 = (\n",
    "        training_sample[\"answer\"][0],\n",
    "        training_sample[\"answer\"][1],\n",
    "        training_sample[\"answer\"][2],\n",
    "    )\n",
    "    response = opro.generate(\n",
    "        prompt.format(pairs_str=pairs_str, q1=q1, a1=a1, q2=q2, a2=a2, q3=q3, a3=a3),\n",
    "        model=\"gemini\",  # gemini\n",
    "        is_indeterministic=True\n",
    "    )\n",
    "    return response\n",
    "\n",
    "\n",
    "def score(instruction, sample):\n",
    "    \"\"\"\n",
    "    Score the instruction using the sample. \n",
    "    \n",
    "    Args:\n",
    "    instruction: str\n",
    "    sample: Dataset with \"question\" and \"answer\" as keys\n",
    "\n",
    "    Returns:\n",
    "    accuracy: float\n",
    "    \"\"\"\n",
    "    accuracy = 0\n",
    "    prompt = \"\"\"{question}\\n{instruction}\"\"\"\n",
    "    with tqdm(sample, desc=instruction, position=1, leave=False) as pbar:\n",
    "        for idx, sample_qa in enumerate(pbar):\n",
    "            res = opro.generate(\n",
    "                prompt.format(question=sample_qa[\"question\"], instruction=instruction),\n",
    "                model=\"gemma\",  # gemma\n",
    "            )\n",
    "            # Heuristic for detecting correctness\n",
    "            accuracy += opro.similarity(sample_qa[\"answer\"], res)\n",
    "            pbar.set_postfix({\"Accuracy\": f\"{accuracy / (idx + 1):.2f}\"})\n",
    "\n",
    "    return accuracy / len(sample) * 100"
   ]
  },
  {
   "cell_type": "code",
   "execution_count": 13,
   "metadata": {},
   "outputs": [
    {
     "name": "stdout",
     "output_type": "stream",
     "text": [
      "Step 11\n"
     ]
    },
    {
     "data": {
      "application/vnd.jupyter.widget-view+json": {
       "model_id": "d8c2145f58c746018658f1f1f872d634",
       "version_major": 2,
       "version_minor": 0
      },
      "text/plain": [
       "Optimizing:   0%|          | 0/8 [00:00<?, ?it/s]"
      ]
     },
     "metadata": {},
     "output_type": "display_data"
    },
    {
     "name": "stdout",
     "output_type": "stream",
     "text": [
      "list index out of range\n"
     ]
    },
    {
     "data": {
      "application/vnd.jupyter.widget-view+json": {
       "model_id": "c07b6bd68bc1438ca5a881460952abab",
       "version_major": 2,
       "version_minor": 0
      },
      "text/plain": [
       "Optimizing:   0%|          | 0/8 [00:00<?, ?it/s]"
      ]
     },
     "metadata": {},
     "output_type": "display_data"
    },
    {
     "data": {
      "application/vnd.jupyter.widget-view+json": {
       "model_id": "aa40aa61d2db45a5ab918c270438d45f",
       "version_major": 2,
       "version_minor": 0
      },
      "text/plain": [
       "Scoring:   0%|          | 0/8 [00:00<?, ?it/s]"
      ]
     },
     "metadata": {},
     "output_type": "display_data"
    },
    {
     "data": {
      "application/vnd.jupyter.widget-view+json": {
       "model_id": "5064072b07084929b9e40d9bde96cb44",
       "version_major": 2,
       "version_minor": 0
      },
      "text/plain": [
       "Believe in your own potential.:   0%|          | 0/10 [00:00<?, ?it/s]"
      ]
     },
     "metadata": {},
     "output_type": "display_data"
    },
    {
     "data": {
      "application/vnd.jupyter.widget-view+json": {
       "model_id": "d2396e47c15a4599be002e11b163fc69",
       "version_major": 2,
       "version_minor": 0
      },
      "text/plain": [
       "Focus on the main idea.:   0%|          | 0/10 [00:00<?, ?it/s]"
      ]
     },
     "metadata": {},
     "output_type": "display_data"
    },
    {
     "data": {
      "application/vnd.jupyter.widget-view+json": {
       "model_id": "55f47025f60e47d9b057908ea308fdfd",
       "version_major": 2,
       "version_minor": 0
      },
      "text/plain": [
       "Strive for continual improvement.:   0%|          | 0/10 [00:00<?, ?it/s]"
      ]
     },
     "metadata": {},
     "output_type": "display_data"
    },
    {
     "data": {
      "application/vnd.jupyter.widget-view+json": {
       "model_id": "9841b8291f7d4e518a432a8dfa944ec7",
       "version_major": 2,
       "version_minor": 0
      },
      "text/plain": [
       "The best way to learn is by making mistakes.:   0%|          | 0/10 [00:00<?, ?it/s]"
      ]
     },
     "metadata": {},
     "output_type": "display_data"
    },
    {
     "data": {
      "application/vnd.jupyter.widget-view+json": {
       "model_id": "defdbfe41d5f47edb808cbd4bd4999e5",
       "version_major": 2,
       "version_minor": 0
      },
      "text/plain": [
       "Put all your effort into the task.:   0%|          | 0/10 [00:00<?, ?it/s]"
      ]
     },
     "metadata": {},
     "output_type": "display_data"
    },
    {
     "data": {
      "application/vnd.jupyter.widget-view+json": {
       "model_id": "3ae7209bab5540eb963e4b6c1436bcfe",
       "version_major": 2,
       "version_minor": 0
      },
      "text/plain": [
       "You can always consult a guru for enlightenment.:   0%|          | 0/10 [00:00<?, ?it/s]"
      ]
     },
     "metadata": {},
     "output_type": "display_data"
    },
    {
     "data": {
      "application/vnd.jupyter.widget-view+json": {
       "model_id": "bc46679b5175460a8e513c28f2373964",
       "version_major": 2,
       "version_minor": 0
      },
      "text/plain": [
       "Keep learning and growing.:   0%|          | 0/10 [00:00<?, ?it/s]"
      ]
     },
     "metadata": {},
     "output_type": "display_data"
    },
    {
     "data": {
      "application/vnd.jupyter.widget-view+json": {
       "model_id": "8885369da0874289a24d907a17662acd",
       "version_major": 2,
       "version_minor": 0
      },
      "text/plain": [
       "Write your new text that is different from the old ones and has a score as high as possible.\n",
       "Generate the new …"
      ]
     },
     "metadata": {},
     "output_type": "display_data"
    },
    {
     "name": "stdout",
     "output_type": "stream",
     "text": [
      "Step 12\n"
     ]
    },
    {
     "data": {
      "application/vnd.jupyter.widget-view+json": {
       "model_id": "585641b60ef245c584df4c6810a26526",
       "version_major": 2,
       "version_minor": 0
      },
      "text/plain": [
       "Optimizing:   0%|          | 0/8 [00:00<?, ?it/s]"
      ]
     },
     "metadata": {},
     "output_type": "display_data"
    },
    {
     "data": {
      "application/vnd.jupyter.widget-view+json": {
       "model_id": "2b7f3e4278884bf88723ba84c1da4604",
       "version_major": 2,
       "version_minor": 0
      },
      "text/plain": [
       "Scoring:   0%|          | 0/8 [00:00<?, ?it/s]"
      ]
     },
     "metadata": {},
     "output_type": "display_data"
    },
    {
     "data": {
      "application/vnd.jupyter.widget-view+json": {
       "model_id": "86e2f31f17fc4d86897a1b26c4fde3fe",
       "version_major": 2,
       "version_minor": 0
      },
      "text/plain": [
       "Tailor the answer based on specific situations.:   0%|          | 0/10 [00:00<?, ?it/s]"
      ]
     },
     "metadata": {},
     "output_type": "display_data"
    },
    {
     "data": {
      "application/vnd.jupyter.widget-view+json": {
       "model_id": "1bf97eae944e47248646a70bf50b1160",
       "version_major": 2,
       "version_minor": 0
      },
      "text/plain": [
       "A key to success is focusing on the task.:   0%|          | 0/10 [00:00<?, ?it/s]"
      ]
     },
     "metadata": {},
     "output_type": "display_data"
    },
    {
     "data": {
      "application/vnd.jupyter.widget-view+json": {
       "model_id": "7f04a3ae573d40d0a4b3f728b14d19f0",
       "version_major": 2,
       "version_minor": 0
      },
      "text/plain": [
       "Share and care:   0%|          | 0/10 [00:00<?, ?it/s]"
      ]
     },
     "metadata": {},
     "output_type": "display_data"
    },
    {
     "data": {
      "application/vnd.jupyter.widget-view+json": {
       "model_id": "b8da49fcb92d48ad88d1b717bf4416ca",
       "version_major": 2,
       "version_minor": 0
      },
      "text/plain": [
       "Look at patterns and learn from them.:   0%|          | 0/10 [00:00<?, ?it/s]"
      ]
     },
     "metadata": {},
     "output_type": "display_data"
    },
    {
     "data": {
      "application/vnd.jupyter.widget-view+json": {
       "model_id": "683eda36282a427982870694ed2e99bc",
       "version_major": 2,
       "version_minor": 0
      },
      "text/plain": [
       "Success breeds success.:   0%|          | 0/10 [00:00<?, ?it/s]"
      ]
     },
     "metadata": {},
     "output_type": "display_data"
    },
    {
     "data": {
      "application/vnd.jupyter.widget-view+json": {
       "model_id": "bd1dcb717600412180ce0800cc3cb2c6",
       "version_major": 2,
       "version_minor": 0
      },
      "text/plain": [
       "The best way to attain success is through hard work.:   0%|          | 0/10 [00:00<?, ?it/s]"
      ]
     },
     "metadata": {},
     "output_type": "display_data"
    },
    {
     "data": {
      "application/vnd.jupyter.widget-view+json": {
       "model_id": "de27945e782e4f86bab1588fd835ac3d",
       "version_major": 2,
       "version_minor": 0
      },
      "text/plain": [
       "Set clear and concise goals.:   0%|          | 0/10 [00:00<?, ?it/s]"
      ]
     },
     "metadata": {},
     "output_type": "display_data"
    },
    {
     "data": {
      "application/vnd.jupyter.widget-view+json": {
       "model_id": "c52dcda395c4406aa0ccf6c901d6d3eb",
       "version_major": 2,
       "version_minor": 0
      },
      "text/plain": [
       "Prioritize essential action.:   0%|          | 0/10 [00:00<?, ?it/s]"
      ]
     },
     "metadata": {},
     "output_type": "display_data"
    },
    {
     "name": "stdout",
     "output_type": "stream",
     "text": [
      "Step 13\n"
     ]
    },
    {
     "data": {
      "application/vnd.jupyter.widget-view+json": {
       "model_id": "47bcfc07f9c4453e8e6ca3db149c841f",
       "version_major": 2,
       "version_minor": 0
      },
      "text/plain": [
       "Optimizing:   0%|          | 0/8 [00:00<?, ?it/s]"
      ]
     },
     "metadata": {},
     "output_type": "display_data"
    },
    {
     "data": {
      "application/vnd.jupyter.widget-view+json": {
       "model_id": "2d478b33b43d4d36afd8049289989589",
       "version_major": 2,
       "version_minor": 0
      },
      "text/plain": [
       "Scoring:   0%|          | 0/8 [00:00<?, ?it/s]"
      ]
     },
     "metadata": {},
     "output_type": "display_data"
    },
    {
     "data": {
      "application/vnd.jupyter.widget-view+json": {
       "model_id": "383999ab93b84055ada2589a755d8e47",
       "version_major": 2,
       "version_minor": 0
      },
      "text/plain": [
       "Keep changes to a minimum.:   0%|          | 0/10 [00:00<?, ?it/s]"
      ]
     },
     "metadata": {},
     "output_type": "display_data"
    },
    {
     "data": {
      "application/vnd.jupyter.widget-view+json": {
       "model_id": "7eae184af03b49528e936c89c6392c81",
       "version_major": 2,
       "version_minor": 0
      },
      "text/plain": [
       "Learn from the information around you.:   0%|          | 0/10 [00:00<?, ?it/s]"
      ]
     },
     "metadata": {},
     "output_type": "display_data"
    },
    {
     "data": {
      "application/vnd.jupyter.widget-view+json": {
       "model_id": "65a233f165674c699020092b663ca93c",
       "version_major": 2,
       "version_minor": 0
      },
      "text/plain": [
       "Determine your purpose clearly.:   0%|          | 0/10 [00:00<?, ?it/s]"
      ]
     },
     "metadata": {},
     "output_type": "display_data"
    },
    {
     "data": {
      "application/vnd.jupyter.widget-view+json": {
       "model_id": "b90d5f3b91174100aff385d735be1317",
       "version_major": 2,
       "version_minor": 0
      },
      "text/plain": [
       "Embrace your uniqueness.:   0%|          | 0/10 [00:00<?, ?it/s]"
      ]
     },
     "metadata": {},
     "output_type": "display_data"
    },
    {
     "data": {
      "application/vnd.jupyter.widget-view+json": {
       "model_id": "6e11ad0825ab44e6993103ea05eff326",
       "version_major": 2,
       "version_minor": 0
      },
      "text/plain": [
       "Your answer is the key to your success.:   0%|          | 0/10 [00:00<?, ?it/s]"
      ]
     },
     "metadata": {},
     "output_type": "display_data"
    },
    {
     "data": {
      "application/vnd.jupyter.widget-view+json": {
       "model_id": "1ba990dc15dc4d98a5484573d4ebb18a",
       "version_major": 2,
       "version_minor": 0
      },
      "text/plain": [
       "Think outside the box.:   0%|          | 0/10 [00:00<?, ?it/s]"
      ]
     },
     "metadata": {},
     "output_type": "display_data"
    },
    {
     "data": {
      "application/vnd.jupyter.widget-view+json": {
       "model_id": "bf25ee78541d4238b2143e88a33882be",
       "version_major": 2,
       "version_minor": 0
      },
      "text/plain": [
       "Embrace the power of adaptability.:   0%|          | 0/10 [00:00<?, ?it/s]"
      ]
     },
     "metadata": {},
     "output_type": "display_data"
    },
    {
     "data": {
      "application/vnd.jupyter.widget-view+json": {
       "model_id": "c96108c455c14801b9cf0e80487dddc2",
       "version_major": 2,
       "version_minor": 0
      },
      "text/plain": [
       "Keep your focus on the big picture.:   0%|          | 0/10 [00:00<?, ?it/s]"
      ]
     },
     "metadata": {},
     "output_type": "display_data"
    },
    {
     "name": "stdout",
     "output_type": "stream",
     "text": [
      "Step 14\n"
     ]
    },
    {
     "data": {
      "application/vnd.jupyter.widget-view+json": {
       "model_id": "d99a461224c94294ab6af539b3ec351c",
       "version_major": 2,
       "version_minor": 0
      },
      "text/plain": [
       "Optimizing:   0%|          | 0/8 [00:00<?, ?it/s]"
      ]
     },
     "metadata": {},
     "output_type": "display_data"
    },
    {
     "data": {
      "application/vnd.jupyter.widget-view+json": {
       "model_id": "6bdc51dfa8ef46c7874c55f263347646",
       "version_major": 2,
       "version_minor": 0
      },
      "text/plain": [
       "Scoring:   0%|          | 0/8 [00:00<?, ?it/s]"
      ]
     },
     "metadata": {},
     "output_type": "display_data"
    },
    {
     "data": {
      "application/vnd.jupyter.widget-view+json": {
       "model_id": "c328b857c1b245418aea8b5b72fe64c5",
       "version_major": 2,
       "version_minor": 0
      },
      "text/plain": [
       "Success breeds happiness.:   0%|          | 0/10 [00:00<?, ?it/s]"
      ]
     },
     "metadata": {},
     "output_type": "display_data"
    },
    {
     "data": {
      "application/vnd.jupyter.widget-view+json": {
       "model_id": "eccfb755d01c4fc0bba5d73d8082a75b",
       "version_major": 2,
       "version_minor": 0
      },
      "text/plain": [
       "Make the most of your opportunities.:   0%|          | 0/10 [00:00<?, ?it/s]"
      ]
     },
     "metadata": {},
     "output_type": "display_data"
    },
    {
     "data": {
      "application/vnd.jupyter.widget-view+json": {
       "model_id": "00fe55ced7d6469caed9f65e348a4ad0",
       "version_major": 2,
       "version_minor": 0
      },
      "text/plain": [
       "Preparation is the key to success.:   0%|          | 0/10 [00:00<?, ?it/s]"
      ]
     },
     "metadata": {},
     "output_type": "display_data"
    },
    {
     "data": {
      "application/vnd.jupyter.widget-view+json": {
       "model_id": "f8ef6b3aa6d94b6e83e82e8114278712",
       "version_major": 2,
       "version_minor": 0
      },
      "text/plain": [
       "Keep calm and believe in your heart.:   0%|          | 0/10 [00:00<?, ?it/s]"
      ]
     },
     "metadata": {},
     "output_type": "display_data"
    },
    {
     "data": {
      "application/vnd.jupyter.widget-view+json": {
       "model_id": "77ae0ac1c35c46749ef23c655d76f692",
       "version_major": 2,
       "version_minor": 0
      },
      "text/plain": [
       "Answers make a path to success.:   0%|          | 0/10 [00:00<?, ?it/s]"
      ]
     },
     "metadata": {},
     "output_type": "display_data"
    },
    {
     "data": {
      "application/vnd.jupyter.widget-view+json": {
       "model_id": "1d1686da537a4d8baae56f683ffafe56",
       "version_major": 2,
       "version_minor": 0
      },
      "text/plain": [
       "Your answer, the key to your success.:   0%|          | 0/10 [00:00<?, ?it/s]"
      ]
     },
     "metadata": {},
     "output_type": "display_data"
    },
    {
     "data": {
      "application/vnd.jupyter.widget-view+json": {
       "model_id": "34e243fbd8c14922a1a608197cf81655",
       "version_major": 2,
       "version_minor": 0
      },
      "text/plain": [
       "The key to success is your answer.:   0%|          | 0/10 [00:00<?, ?it/s]"
      ]
     },
     "metadata": {},
     "output_type": "display_data"
    },
    {
     "data": {
      "application/vnd.jupyter.widget-view+json": {
       "model_id": "d1e76b95e3be4dc7a132e2684d1bdd71",
       "version_major": 2,
       "version_minor": 0
      },
      "text/plain": [
       "Validate your response.:   0%|          | 0/10 [00:00<?, ?it/s]"
      ]
     },
     "metadata": {},
     "output_type": "display_data"
    },
    {
     "name": "stdout",
     "output_type": "stream",
     "text": [
      "Step 15\n"
     ]
    },
    {
     "data": {
      "application/vnd.jupyter.widget-view+json": {
       "model_id": "a2bf1705c052403a8c8af0191c792fea",
       "version_major": 2,
       "version_minor": 0
      },
      "text/plain": [
       "Optimizing:   0%|          | 0/8 [00:00<?, ?it/s]"
      ]
     },
     "metadata": {},
     "output_type": "display_data"
    },
    {
     "data": {
      "application/vnd.jupyter.widget-view+json": {
       "model_id": "f8b7b2b6536943098a4e99235b8cc9e9",
       "version_major": 2,
       "version_minor": 0
      },
      "text/plain": [
       "Scoring:   0%|          | 0/8 [00:00<?, ?it/s]"
      ]
     },
     "metadata": {},
     "output_type": "display_data"
    },
    {
     "data": {
      "application/vnd.jupyter.widget-view+json": {
       "model_id": "a4b0924739464d398dddef415d8868f7",
       "version_major": 2,
       "version_minor": 0
      },
      "text/plain": [
       "Answer is the gate to success.:   0%|          | 0/10 [00:00<?, ?it/s]"
      ]
     },
     "metadata": {},
     "output_type": "display_data"
    },
    {
     "data": {
      "application/vnd.jupyter.widget-view+json": {
       "model_id": "927ecb4b40484e86b34c093c7d8fd44c",
       "version_major": 2,
       "version_minor": 0
      },
      "text/plain": [
       "The key of your success lies in your answer.:   0%|          | 0/10 [00:00<?, ?it/s]"
      ]
     },
     "metadata": {},
     "output_type": "display_data"
    },
    {
     "data": {
      "application/vnd.jupyter.widget-view+json": {
       "model_id": "05f9cc03529c472c9504248ae3328da6",
       "version_major": 2,
       "version_minor": 0
      },
      "text/plain": [
       "Remember, your answer is the key to your success.:   0%|          | 0/10 [00:00<?, ?it/s]"
      ]
     },
     "metadata": {},
     "output_type": "display_data"
    },
    {
     "data": {
      "application/vnd.jupyter.widget-view+json": {
       "model_id": "4c11af70def043729428bd55a5f46784",
       "version_major": 2,
       "version_minor": 0
      },
      "text/plain": [
       "Answers are the key to your triumph.:   0%|          | 0/10 [00:00<?, ?it/s]"
      ]
     },
     "metadata": {},
     "output_type": "display_data"
    },
    {
     "data": {
      "application/vnd.jupyter.widget-view+json": {
       "model_id": "89f6e32686664bd4a5c18cf1563f0289",
       "version_major": 2,
       "version_minor": 0
      },
      "text/plain": [
       "The key to your success is within your reach.:   0%|          | 0/10 [00:00<?, ?it/s]"
      ]
     },
     "metadata": {},
     "output_type": "display_data"
    },
    {
     "data": {
      "application/vnd.jupyter.widget-view+json": {
       "model_id": "805c31d1e6604bed806233c68c0f1497",
       "version_major": 2,
       "version_minor": 0
      },
      "text/plain": [
       "The key to success lies in taking the right actions.:   0%|          | 0/10 [00:00<?, ?it/s]"
      ]
     },
     "metadata": {},
     "output_type": "display_data"
    },
    {
     "data": {
      "application/vnd.jupyter.widget-view+json": {
       "model_id": "5da611b0754a444abbf7e87b46b58874",
       "version_major": 2,
       "version_minor": 0
      },
      "text/plain": [
       "The answer is key to success.:   0%|          | 0/10 [00:00<?, ?it/s]"
      ]
     },
     "metadata": {},
     "output_type": "display_data"
    },
    {
     "data": {
      "application/vnd.jupyter.widget-view+json": {
       "model_id": "0a3977f67da2416eabb100d8014ad438",
       "version_major": 2,
       "version_minor": 0
      },
      "text/plain": [
       "Answers pave their way to success.:   0%|          | 0/10 [00:00<?, ?it/s]"
      ]
     },
     "metadata": {},
     "output_type": "display_data"
    },
    {
     "name": "stdout",
     "output_type": "stream",
     "text": [
      "Step 16\n"
     ]
    },
    {
     "data": {
      "application/vnd.jupyter.widget-view+json": {
       "model_id": "90f45df8f19a49c0becbc6e1cc81caa1",
       "version_major": 2,
       "version_minor": 0
      },
      "text/plain": [
       "Optimizing:   0%|          | 0/8 [00:00<?, ?it/s]"
      ]
     },
     "metadata": {},
     "output_type": "display_data"
    },
    {
     "data": {
      "application/vnd.jupyter.widget-view+json": {
       "model_id": "6d7f84d49b79488eba1cd5c453626a5b",
       "version_major": 2,
       "version_minor": 0
      },
      "text/plain": [
       "Scoring:   0%|          | 0/8 [00:00<?, ?it/s]"
      ]
     },
     "metadata": {},
     "output_type": "display_data"
    },
    {
     "data": {
      "application/vnd.jupyter.widget-view+json": {
       "model_id": "070cbff048124fc98edcbfffb1894b8e",
       "version_major": 2,
       "version_minor": 0
      },
      "text/plain": [
       "Generate a new unique text that is different from the old ones and has a score as high as possible.\n",
       "Generate t…"
      ]
     },
     "metadata": {},
     "output_type": "display_data"
    },
    {
     "data": {
      "application/vnd.jupyter.widget-view+json": {
       "model_id": "773486848d0642e0b80c3d633e234208",
       "version_major": 2,
       "version_minor": 0
      },
      "text/plain": [
       "Take things one step at a time.:   0%|          | 0/10 [00:00<?, ?it/s]"
      ]
     },
     "metadata": {},
     "output_type": "display_data"
    },
    {
     "data": {
      "application/vnd.jupyter.widget-view+json": {
       "model_id": "72638912324949f9b62553a81b34e5a8",
       "version_major": 2,
       "version_minor": 0
      },
      "text/plain": [
       "Separate your answer into two levels using two commas.:   0%|          | 0/10 [00:00<?, ?it/s]"
      ]
     },
     "metadata": {},
     "output_type": "display_data"
    },
    {
     "data": {
      "application/vnd.jupyter.widget-view+json": {
       "model_id": "86ece3c356644cfbbcf66e1daeb463b3",
       "version_major": 2,
       "version_minor": 0
      },
      "text/plain": [
       "The key to success is your answer.:   0%|          | 0/10 [00:00<?, ?it/s]"
      ]
     },
     "metadata": {},
     "output_type": "display_data"
    },
    {
     "data": {
      "application/vnd.jupyter.widget-view+json": {
       "model_id": "af1a4d20f42f4015bd80bcaa9702ca90",
       "version_major": 2,
       "version_minor": 0
      },
      "text/plain": [
       "Clear your mind and stay focused:   0%|          | 0/10 [00:00<?, ?it/s]"
      ]
     },
     "metadata": {},
     "output_type": "display_data"
    },
    {
     "data": {
      "application/vnd.jupyter.widget-view+json": {
       "model_id": "6b3e3879fc7b43608af3b10472862c1c",
       "version_major": 2,
       "version_minor": 0
      },
      "text/plain": [
       "Your success lies in your answers.:   0%|          | 0/10 [00:00<?, ?it/s]"
      ]
     },
     "metadata": {},
     "output_type": "display_data"
    },
    {
     "data": {
      "application/vnd.jupyter.widget-view+json": {
       "model_id": "61550371942b4f8cb2e2768d4219c2e7",
       "version_major": 2,
       "version_minor": 0
      },
      "text/plain": [
       "Validate and improve your response.:   0%|          | 0/10 [00:00<?, ?it/s]"
      ]
     },
     "metadata": {},
     "output_type": "display_data"
    },
    {
     "data": {
      "application/vnd.jupyter.widget-view+json": {
       "model_id": "0a351468dc0549b2ad9bac2f1fd33c98",
       "version_major": 2,
       "version_minor": 0
      },
      "text/plain": [
       "Mistakes prepare you to success.:   0%|          | 0/10 [00:00<?, ?it/s]"
      ]
     },
     "metadata": {},
     "output_type": "display_data"
    },
    {
     "name": "stdout",
     "output_type": "stream",
     "text": [
      "Step 17\n"
     ]
    },
    {
     "data": {
      "application/vnd.jupyter.widget-view+json": {
       "model_id": "71c20c02ad074ffbab35970688564f77",
       "version_major": 2,
       "version_minor": 0
      },
      "text/plain": [
       "Optimizing:   0%|          | 0/8 [00:00<?, ?it/s]"
      ]
     },
     "metadata": {},
     "output_type": "display_data"
    },
    {
     "data": {
      "application/vnd.jupyter.widget-view+json": {
       "model_id": "ebcbcdd44a924cf9962ff8d02c44ccb8",
       "version_major": 2,
       "version_minor": 0
      },
      "text/plain": [
       "Scoring:   0%|          | 0/8 [00:00<?, ?it/s]"
      ]
     },
     "metadata": {},
     "output_type": "display_data"
    },
    {
     "data": {
      "application/vnd.jupyter.widget-view+json": {
       "model_id": "c095aae2ddd54ecaaadcc9199a9162ba",
       "version_major": 2,
       "version_minor": 0
      },
      "text/plain": [
       "Stay focused and keep going:   0%|          | 0/10 [00:00<?, ?it/s]"
      ]
     },
     "metadata": {},
     "output_type": "display_data"
    },
    {
     "data": {
      "application/vnd.jupyter.widget-view+json": {
       "model_id": "deb0499d91914d8a815e525eab4c8e1e",
       "version_major": 2,
       "version_minor": 0
      },
      "text/plain": [
       "Seek out new opportunities.:   0%|          | 0/10 [00:00<?, ?it/s]"
      ]
     },
     "metadata": {},
     "output_type": "display_data"
    },
    {
     "data": {
      "application/vnd.jupyter.widget-view+json": {
       "model_id": "ff41e240317e4d90a57cc51967cec817",
       "version_major": 2,
       "version_minor": 0
      },
      "text/plain": [
       "Success secrets are everywhere, take action.:   0%|          | 0/10 [00:00<?, ?it/s]"
      ]
     },
     "metadata": {},
     "output_type": "display_data"
    },
    {
     "data": {
      "application/vnd.jupyter.widget-view+json": {
       "model_id": "088f610d9c404bd3bf0dfd5670aa9e15",
       "version_major": 2,
       "version_minor": 0
      },
      "text/plain": [
       "Analyze and grow from failures.:   0%|          | 0/10 [00:00<?, ?it/s]"
      ]
     },
     "metadata": {},
     "output_type": "display_data"
    },
    {
     "data": {
      "application/vnd.jupyter.widget-view+json": {
       "model_id": "33aba5c576dd43719c8f237ac0cd25b5",
       "version_major": 2,
       "version_minor": 0
      },
      "text/plain": [
       "Answers pave the way to achievement.:   0%|          | 0/10 [00:00<?, ?it/s]"
      ]
     },
     "metadata": {},
     "output_type": "display_data"
    },
    {
     "data": {
      "application/vnd.jupyter.widget-view+json": {
       "model_id": "60e5211dd5a0483f81c785414d79757d",
       "version_major": 2,
       "version_minor": 0
      },
      "text/plain": [
       "Your key to enduring success is your answer.:   0%|          | 0/10 [00:00<?, ?it/s]"
      ]
     },
     "metadata": {},
     "output_type": "display_data"
    },
    {
     "data": {
      "application/vnd.jupyter.widget-view+json": {
       "model_id": "62168289b1674054aca9c92ac797a01a",
       "version_major": 2,
       "version_minor": 0
      },
      "text/plain": [
       "Take your time and do it well.:   0%|          | 0/10 [00:00<?, ?it/s]"
      ]
     },
     "metadata": {},
     "output_type": "display_data"
    },
    {
     "data": {
      "application/vnd.jupyter.widget-view+json": {
       "model_id": "c19738b634da4610aec1839dd078f6f4",
       "version_major": 2,
       "version_minor": 0
      },
      "text/plain": [
       "The key to success lies within you.:   0%|          | 0/10 [00:00<?, ?it/s]"
      ]
     },
     "metadata": {},
     "output_type": "display_data"
    },
    {
     "name": "stdout",
     "output_type": "stream",
     "text": [
      "Step 18\n"
     ]
    },
    {
     "data": {
      "application/vnd.jupyter.widget-view+json": {
       "model_id": "ee4a34a29f2f43c19e5d771afa0d9df7",
       "version_major": 2,
       "version_minor": 0
      },
      "text/plain": [
       "Optimizing:   0%|          | 0/8 [00:00<?, ?it/s]"
      ]
     },
     "metadata": {},
     "output_type": "display_data"
    },
    {
     "data": {
      "application/vnd.jupyter.widget-view+json": {
       "model_id": "a846489f7faf474b8a2923df19172df3",
       "version_major": 2,
       "version_minor": 0
      },
      "text/plain": [
       "Scoring:   0%|          | 0/8 [00:00<?, ?it/s]"
      ]
     },
     "metadata": {},
     "output_type": "display_data"
    },
    {
     "data": {
      "application/vnd.jupyter.widget-view+json": {
       "model_id": "fa05616fa4384d898f3c7118091cf3df",
       "version_major": 2,
       "version_minor": 0
      },
      "text/plain": [
       "The answer is within your reach.:   0%|          | 0/10 [00:00<?, ?it/s]"
      ]
     },
     "metadata": {},
     "output_type": "display_data"
    },
    {
     "data": {
      "application/vnd.jupyter.widget-view+json": {
       "model_id": "6e9ca88b25454e93aa267f4f6a96d856",
       "version_major": 2,
       "version_minor": 0
      },
      "text/plain": [
       "Answer smart questions:   0%|          | 0/10 [00:00<?, ?it/s]"
      ]
     },
     "metadata": {},
     "output_type": "display_data"
    },
    {
     "data": {
      "application/vnd.jupyter.widget-view+json": {
       "model_id": "c9a672b80ca84029a552c51664d49eaa",
       "version_major": 2,
       "version_minor": 0
      },
      "text/plain": [
       "Your answer provides the key to your success.:   0%|          | 0/10 [00:00<?, ?it/s]"
      ]
     },
     "metadata": {},
     "output_type": "display_data"
    },
    {
     "data": {
      "application/vnd.jupyter.widget-view+json": {
       "model_id": "223b2c05af3a4cbcaf84fe5bfaf65618",
       "version_major": 2,
       "version_minor": 0
      },
      "text/plain": [
       "The key to success is your answer and your dedication.:   0%|          | 0/10 [00:00<?, ?it/s]"
      ]
     },
     "metadata": {},
     "output_type": "display_data"
    },
    {
     "data": {
      "application/vnd.jupyter.widget-view+json": {
       "model_id": "cbbcabcd0b9d4bf1a60ab0fe9cba9a02",
       "version_major": 2,
       "version_minor": 0
      },
      "text/plain": [
       "The key to success is your answer.:   0%|          | 0/10 [00:00<?, ?it/s]"
      ]
     },
     "metadata": {},
     "output_type": "display_data"
    },
    {
     "data": {
      "application/vnd.jupyter.widget-view+json": {
       "model_id": "440be78d9bfb4b8ab8fb4749fddc79ce",
       "version_major": 2,
       "version_minor": 0
      },
      "text/plain": [
       "Your answer, the surest way to win.:   0%|          | 0/10 [00:00<?, ?it/s]"
      ]
     },
     "metadata": {},
     "output_type": "display_data"
    },
    {
     "data": {
      "application/vnd.jupyter.widget-view+json": {
       "model_id": "822aa3edf78846e18bc82db14604a3fa",
       "version_major": 2,
       "version_minor": 0
      },
      "text/plain": [
       "Solutions to problems, keys to success.:   0%|          | 0/10 [00:00<?, ?it/s]"
      ]
     },
     "metadata": {},
     "output_type": "display_data"
    },
    {
     "data": {
      "application/vnd.jupyter.widget-view+json": {
       "model_id": "eddfcfeb0e4e449abe5355cdd8fb1d68",
       "version_major": 2,
       "version_minor": 0
      },
      "text/plain": [
       "Validate your answers regularly:   0%|          | 0/10 [00:00<?, ?it/s]"
      ]
     },
     "metadata": {},
     "output_type": "display_data"
    },
    {
     "name": "stdout",
     "output_type": "stream",
     "text": [
      "Step 19\n"
     ]
    },
    {
     "data": {
      "application/vnd.jupyter.widget-view+json": {
       "model_id": "6e1358f8a31c4247b760126beea0fd3d",
       "version_major": 2,
       "version_minor": 0
      },
      "text/plain": [
       "Optimizing:   0%|          | 0/8 [00:00<?, ?it/s]"
      ]
     },
     "metadata": {},
     "output_type": "display_data"
    },
    {
     "data": {
      "application/vnd.jupyter.widget-view+json": {
       "model_id": "89a76804a27349ad83a37411eefe2c28",
       "version_major": 2,
       "version_minor": 0
      },
      "text/plain": [
       "Scoring:   0%|          | 0/8 [00:00<?, ?it/s]"
      ]
     },
     "metadata": {},
     "output_type": "display_data"
    },
    {
     "data": {
      "application/vnd.jupyter.widget-view+json": {
       "model_id": "269788272765484b856f9ac291adea51",
       "version_major": 2,
       "version_minor": 0
      },
      "text/plain": [
       "Your answer: the key unlocks success.:   0%|          | 0/10 [00:00<?, ?it/s]"
      ]
     },
     "metadata": {},
     "output_type": "display_data"
    },
    {
     "data": {
      "application/vnd.jupyter.widget-view+json": {
       "model_id": "138133acef0844df8378c328075591a1",
       "version_major": 2,
       "version_minor": 0
      },
      "text/plain": [
       "The key to success is an answer.:   0%|          | 0/10 [00:00<?, ?it/s]"
      ]
     },
     "metadata": {},
     "output_type": "display_data"
    },
    {
     "data": {
      "application/vnd.jupyter.widget-view+json": {
       "model_id": "083d630d104c4c478ae55145b7fa1371",
       "version_major": 2,
       "version_minor": 0
      },
      "text/plain": [
       "Success is born from your answer.:   0%|          | 0/10 [00:00<?, ?it/s]"
      ]
     },
     "metadata": {},
     "output_type": "display_data"
    },
    {
     "data": {
      "application/vnd.jupyter.widget-view+json": {
       "model_id": "958f4143324d455ba85e8907a5c087ed",
       "version_major": 2,
       "version_minor": 0
      },
      "text/plain": [
       "The key to unlocking potential is within your grasp.:   0%|          | 0/10 [00:00<?, ?it/s]"
      ]
     },
     "metadata": {},
     "output_type": "display_data"
    },
    {
     "data": {
      "application/vnd.jupyter.widget-view+json": {
       "model_id": "5748490400744bd985bb6c7c91228b8a",
       "version_major": 2,
       "version_minor": 0
      },
      "text/plain": [
       "The answer provides the key to your success.:   0%|          | 0/10 [00:00<?, ?it/s]"
      ]
     },
     "metadata": {},
     "output_type": "display_data"
    },
    {
     "data": {
      "application/vnd.jupyter.widget-view+json": {
       "model_id": "2fe573e3f3ff4b44a8711333d16880c4",
       "version_major": 2,
       "version_minor": 0
      },
      "text/plain": [
       "Patience is the ultimate key to success.:   0%|          | 0/10 [00:00<?, ?it/s]"
      ]
     },
     "metadata": {},
     "output_type": "display_data"
    },
    {
     "data": {
      "application/vnd.jupyter.widget-view+json": {
       "model_id": "8eee65bf058c4853817f52b1bac19c15",
       "version_major": 2,
       "version_minor": 0
      },
      "text/plain": [
       "Answers power your way to achievement.:   0%|          | 0/10 [00:00<?, ?it/s]"
      ]
     },
     "metadata": {},
     "output_type": "display_data"
    },
    {
     "data": {
      "application/vnd.jupyter.widget-view+json": {
       "model_id": "4eb2a504933d45b0b795e605fe620580",
       "version_major": 2,
       "version_minor": 0
      },
      "text/plain": [
       "Your answer to success is the key.:   0%|          | 0/10 [00:00<?, ?it/s]"
      ]
     },
     "metadata": {},
     "output_type": "display_data"
    },
    {
     "name": "stdout",
     "output_type": "stream",
     "text": [
      "Step 20\n"
     ]
    },
    {
     "data": {
      "application/vnd.jupyter.widget-view+json": {
       "model_id": "773b8cae296c46e6b7af008cb9a0a3e5",
       "version_major": 2,
       "version_minor": 0
      },
      "text/plain": [
       "Optimizing:   0%|          | 0/8 [00:00<?, ?it/s]"
      ]
     },
     "metadata": {},
     "output_type": "display_data"
    },
    {
     "data": {
      "application/vnd.jupyter.widget-view+json": {
       "model_id": "3f5c230823ff4de4b5594c6812dd97cc",
       "version_major": 2,
       "version_minor": 0
      },
      "text/plain": [
       "Scoring:   0%|          | 0/8 [00:00<?, ?it/s]"
      ]
     },
     "metadata": {},
     "output_type": "display_data"
    },
    {
     "data": {
      "application/vnd.jupyter.widget-view+json": {
       "model_id": "da7ed891d24d4f1899615dc2d6ec7b44",
       "version_major": 2,
       "version_minor": 0
      },
      "text/plain": [
       "Discover the key to unlocking your potential.:   0%|          | 0/10 [00:00<?, ?it/s]"
      ]
     },
     "metadata": {},
     "output_type": "display_data"
    },
    {
     "data": {
      "application/vnd.jupyter.widget-view+json": {
       "model_id": "6764e9a24e024de1a582dd421dd8bf81",
       "version_major": 2,
       "version_minor": 0
      },
      "text/plain": [
       "The key to success is your response.:   0%|          | 0/10 [00:00<?, ?it/s]"
      ]
     },
     "metadata": {},
     "output_type": "display_data"
    },
    {
     "data": {
      "application/vnd.jupyter.widget-view+json": {
       "model_id": "83809cec558b4e5ebd5ec5dffa88dd47",
       "version_major": 2,
       "version_minor": 0
      },
      "text/plain": [
       "Success is forged from the answers you provide.:   0%|          | 0/10 [00:00<?, ?it/s]"
      ]
     },
     "metadata": {},
     "output_type": "display_data"
    },
    {
     "data": {
      "application/vnd.jupyter.widget-view+json": {
       "model_id": "9daa84de2d12492da6efdfa50d3e2dcb",
       "version_major": 2,
       "version_minor": 0
      },
      "text/plain": [
       "Your answer will unlock the full potential within you.:   0%|          | 0/10 [00:00<?, ?it/s]"
      ]
     },
     "metadata": {},
     "output_type": "display_data"
    },
    {
     "data": {
      "application/vnd.jupyter.widget-view+json": {
       "model_id": "a05993f454214fd384afe22e3ab9dd20",
       "version_major": 2,
       "version_minor": 0
      },
      "text/plain": [
       "The key to success lies within your answer.:   0%|          | 0/10 [00:00<?, ?it/s]"
      ]
     },
     "metadata": {},
     "output_type": "display_data"
    },
    {
     "data": {
      "application/vnd.jupyter.widget-view+json": {
       "model_id": "e930fa8c655b4db6a37cd968e899f4db",
       "version_major": 2,
       "version_minor": 0
      },
      "text/plain": [
       "Your answer lies within the grasp of your understanding.:   0%|          | 0/10 [00:00<?, ?it/s]"
      ]
     },
     "metadata": {},
     "output_type": "display_data"
    },
    {
     "data": {
      "application/vnd.jupyter.widget-view+json": {
       "model_id": "dca5d9d4dcfb4f7ab27d281bc498aaf7",
       "version_major": 2,
       "version_minor": 0
      },
      "text/plain": [
       "Answer the key to success is your:   0%|          | 0/10 [00:00<?, ?it/s]"
      ]
     },
     "metadata": {},
     "output_type": "display_data"
    },
    {
     "data": {
      "application/vnd.jupyter.widget-view+json": {
       "model_id": "c360f80edaaf4c968ad551371ff5cbc9",
       "version_major": 2,
       "version_minor": 0
      },
      "text/plain": [
       "The key to your success is the answer.:   0%|          | 0/10 [00:00<?, ?it/s]"
      ]
     },
     "metadata": {},
     "output_type": "display_data"
    }
   ],
   "source": [
    "INS_PER_STEP = 8\n",
    "EXEMPLARS_PER_STEP = 3\n",
    "MAX_INS_SCORE_PAIRS = 20\n",
    "SAVE_PATH = \"synthetic_translations_OPRO_results.json\"\n",
    "\n",
    "# loading saved data\n",
    "if os.path.exists(SAVE_PATH):\n",
    "    with open(SAVE_PATH, \"r\") as f:\n",
    "        results = json.load(f)\n",
    "    starting_step = len(results) + 1\n",
    "    ins_score_pairs = results[str(len(results))]\n",
    "else:\n",
    "    ins_lst = [\n",
    "        \"Think step by step.\",\n",
    "        \"Take a deep breath and think step-by-step.\",\n",
    "        \"Be concise and clear.\",\n",
    "        \"You are the creator of an atlas.\",\n",
    "        \"Explain your answer in simple terms.\",\n",
    "        \n",
    "    ]\n",
    "    ins_score_pairs = {\n",
    "        ins: score(ins, training_sample)\n",
    "        for ins in tqdm(ins_lst, desc=\"Scoring\", position=0)\n",
    "    }\n",
    "    starting_step = 1\n",
    "    results = {starting_step: ins_score_pairs}\n",
    "    with open(SAVE_PATH, \"w\") as f:\n",
    "        json.dump(results, f)\n",
    "\n",
    "# Each step takes aboy 5 to 10 minutes with gemma:2b\n",
    "STEP_COUNT = 10\n",
    "TARGET_STEP = starting_step + STEP_COUNT\n",
    "assert TARGET_STEP >= starting_step, \"TARGET_STEP should be greater than step.\"\n",
    "for i in range(starting_step, TARGET_STEP):\n",
    "    print(f\"Step {i}\")\n",
    "    while True:\n",
    "        try:\n",
    "            # Optimizer LLM\n",
    "            exemplars = training_sample.shuffle()[:EXEMPLARS_PER_STEP]\n",
    "            instructions = [\n",
    "                opt_llm(ins_score_pairs, exemplars)\n",
    "                for _ in trange(INS_PER_STEP, desc=\"Optimizing\")\n",
    "            ]\n",
    "\n",
    "            # Scoring the new instructions\n",
    "            new_ins_score_pairs = {\n",
    "                ins: score(ins, training_sample)\n",
    "                for ins in tqdm(instructions, desc=\"Scoring\", position=0)\n",
    "            }\n",
    "            combined_ins_score_pairs = {**ins_score_pairs, **new_ins_score_pairs}\n",
    "            ins_score_pairs = dict(\n",
    "                sorted(\n",
    "                    combined_ins_score_pairs.items(), key=lambda x: x[1], reverse=True\n",
    "                )[:MAX_INS_SCORE_PAIRS]\n",
    "            )\n",
    "\n",
    "            # Saving data\n",
    "            results[i] = ins_score_pairs\n",
    "            with open(SAVE_PATH, \"w\") as f:\n",
    "                json.dump(results, f)\n",
    "\n",
    "            break\n",
    "        except ValueError as e:\n",
    "            print(e)\n",
    "        except Exception as e:\n",
    "            print(e)"
   ]
  },
  {
   "cell_type": "markdown",
   "metadata": {},
   "source": [
    "### Plotting Results and Testing Accuracy"
   ]
  },
  {
   "cell_type": "code",
   "execution_count": 14,
   "metadata": {},
   "outputs": [
    {
     "data": {
      "text/plain": [
       "Text(0.5, 1.0, 'Step to Accuracy')"
      ]
     },
     "execution_count": 14,
     "metadata": {},
     "output_type": "execute_result"
    },
    {
     "data": {
      "image/png": "[encoded data removed]",
      "text/plain": [
       "<Figure size 640x480 with 1 Axes>"
      ]
     },
     "metadata": {},
     "output_type": "display_data"
    }
   ],
   "source": [
    "import statistics\n",
    "import matplotlib.pyplot as plt\n",
    "\n",
    "# load opro.json\n",
    "with open(SAVE_PATH) as f:\n",
    "    opro_results = json.load(f)\n",
    "\n",
    "# opro = {step:dict(sorted(opro[step].items(), key=lambda x: x[1], reverse=True)[:20]) for step in opro}\n",
    "step_to_accuracy = {\n",
    "    step: (\n",
    "        statistics.mean(opro_results[step].values()),\n",
    "        statistics.stdev(opro_results[step].values()),\n",
    "    )\n",
    "    for step in opro_results\n",
    "}\n",
    "\n",
    "# Plot step to accuracy as a continuous line graph, including stdevs as highlighted error bars\n",
    "fig, ax = plt.subplots()\n",
    "ax.errorbar(\n",
    "    step_to_accuracy.keys(),\n",
    "    [accuracy[0] for accuracy in step_to_accuracy.values()],\n",
    "    yerr=[accuracy[1] for accuracy in step_to_accuracy.values()],\n",
    "    fmt=\"o\",\n",
    ")\n",
    "ax.set_xticks([step for step in step_to_accuracy.keys() if int(step) % 5 == 0])\n",
    "ax.set_xlabel(\"Step\")\n",
    "ax.set_ylabel(\"Accuracy\")\n",
    "ax.set_title(\"Step to Accuracy\")"
   ]
  },
  {
   "cell_type": "code",
   "execution_count": 15,
   "metadata": {},
   "outputs": [
    {
     "data": {
      "text/plain": [
       "{'Your answer is the key to your success.': 65.66223174333572,\n",
       " 'Validate your answer': 65.02991706132889,\n",
       " 'Your answer, the key to your success.': 64.91064041852951,\n",
       " 'Your answer is the key to success.': 64.84415411949158,\n",
       " 'Mistakes may happen.': 64.7870683670044,\n",
       " 'The key to success is your response.': 64.61671471595764,\n",
       " 'Your answer to success is the key.': 64.53159302473068,\n",
       " 'The key to success is your answer.': 64.33402746915817,\n",
       " 'Your answer provides the key to your success.': 64.11198765039444,\n",
       " 'Answers pave the way to achievement.': 64.10623699426651,\n",
       " 'Success breeds success.': 63.83278429508209,\n",
       " 'The key to your success is the answer.': 63.807052969932556,\n",
       " 'Focus on smaller tasks.': 63.75780805945397,\n",
       " 'Your key to enduring success is your answer.': 63.746732026338584,\n",
       " 'Success is born from your answer.': 63.714466989040375,\n",
       " 'Select ideas from two different sources.': 63.71038526296615,\n",
       " 'The answer is within your reach.': 63.6588191986084,\n",
       " 'Explain your answer in simple terms.': 63.62986981868743,\n",
       " 'The answer provides the key to your success.': 63.60807955265045,\n",
       " 'Preparation is the key to success.': 63.513607978820794}"
      ]
     },
     "execution_count": 15,
     "metadata": {},
     "output_type": "execute_result"
    }
   ],
   "source": [
    "opro_results[str(len(opro_results))]"
   ]
  },
  {
   "cell_type": "code",
   "execution_count": 16,
   "metadata": {},
   "outputs": [
    {
     "data": {
      "application/vnd.jupyter.widget-view+json": {
       "model_id": "ce2f600776eb4750a3195d6e481ec6cc",
       "version_major": 2,
       "version_minor": 0
      },
      "text/plain": [
       "  0%|          | 0/25 [00:00<?, ?it/s]"
      ]
     },
     "metadata": {},
     "output_type": "display_data"
    },
    {
     "name": "stdout",
     "output_type": "stream",
     "text": [
      "No instruction: 62.44758391380309\n"
     ]
    },
    {
     "data": {
      "application/vnd.jupyter.widget-view+json": {
       "model_id": "be5bc134f6274386aeb1b961ad8d0cf6",
       "version_major": 2,
       "version_minor": 0
      },
      "text/plain": [
       "Your answer is the key to your success.:   0%|          | 0/25 [00:00<?, ?it/s]"
      ]
     },
     "metadata": {},
     "output_type": "display_data"
    },
    {
     "name": "stdout",
     "output_type": "stream",
     "text": [
      "With best instruction (Your answer is the key to your success.): 63.10949492454528\n"
     ]
    }
   ],
   "source": [
    "best_instruction = max(\n",
    "    opro_results[str(len(opro_results))], key=opro_results[str(len(opro_results))].get\n",
    ")\n",
    "print(f\"No instruction: {score('', testing_sample)}\")\n",
    "print(f\"With best instruction ({best_instruction}): {score(best_instruction, testing_sample)}\")"
   ]
  },
  {
   "cell_type": "code",
   "execution_count": 17,
   "metadata": {},
   "outputs": [
    {
     "data": {
      "application/vnd.jupyter.widget-view+json": {
       "model_id": "c7b0be5ae73c4597afee55deccb4cc79",
       "version_major": 2,
       "version_minor": 0
      },
      "text/plain": [
       "  0%|          | 0/250 [00:00<?, ?it/s]"
      ]
     },
     "metadata": {},
     "output_type": "display_data"
    },
    {
     "name": "stdout",
     "output_type": "stream",
     "text": [
      "No instruction: 69.03939652889967\n"
     ]
    },
    {
     "data": {
      "application/vnd.jupyter.widget-view+json": {
       "model_id": "3c7d5e78e2a4464f8acb3428b48969db",
       "version_major": 2,
       "version_minor": 0
      },
      "text/plain": [
       "Your answer is the key to your success.:   0%|          | 0/250 [00:00<?, ?it/s]"
      ]
     },
     "metadata": {},
     "output_type": "display_data"
    },
    {
     "name": "stdout",
     "output_type": "stream",
     "text": [
      "With best instruction (Your answer is the key to your success.): 63.88516544401646\n"
     ]
    }
   ],
   "source": [
    "best_instruction = max(\n",
    "    opro_results[str(len(opro_results))], key=opro_results[str(len(opro_results))].get\n",
    ")\n",
    "print(f\"No instruction: {score('', original_data)}\")\n",
    "print(f\"With best instruction ({best_instruction}): {score(best_instruction, original_data)}\")"
   ]
  },
  {
   "cell_type": "code",
   "execution_count": 18,
   "metadata": {},
   "outputs": [
    {
     "data": {
      "text/plain": [
       "('¡Qué aburrimiento!',\n",
       " 'Cómo aburrido!\\nTu respuesta es el secreto para tu éxito.',\n",
       " 0.6406172513961792)"
      ]
     },
     "execution_count": 18,
     "metadata": {},
     "output_type": "execute_result"
    }
   ],
   "source": [
    "prompt = \"\"\"{question}\\n{instruction}\"\"\"\n",
    "res = opro.generate(\n",
    "    prompt.format(question=original_data[\"question\"][0], instruction=best_instruction),\n",
    "    model=\"gemma\",  # gemma\n",
    ")\n",
    "original_data[\"answer\"][0], res, opro.similarity(original_data[\"answer\"][0], res)"
   ]
  },
  {
   "cell_type": "code",
   "execution_count": null,
   "metadata": {},
   "outputs": [],
   "source": []
  },
  {
   "cell_type": "code",
   "execution_count": null,
   "metadata": {},
   "outputs": [],
   "source": []
  },
  {
   "cell_type": "code",
   "execution_count": null,
   "metadata": {},
   "outputs": [],
   "source": []
  }
 ],
 "metadata": {
  "kernelspec": {
   "display_name": "Python 3",
   "language": "python",
   "name": "python3"
  },
  "language_info": {
   "codemirror_mode": {
    "name": "ipython",
    "version": 3
   },
   "file_extension": ".py",
   "mimetype": "text/x-python",
   "name": "python",
   "nbconvert_exporter": "python",
   "pygments_lexer": "ipython3",
   "version": "3.10.12"
  }
 },
 "nbformat": 4,
 "nbformat_minor": 2
}
