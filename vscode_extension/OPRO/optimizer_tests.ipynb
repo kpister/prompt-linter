{
 "cells": [
  {
   "cell_type": "code",
   "execution_count": 7,
   "metadata": {},
   "outputs": [
    {
     "data": {
      "text/plain": [
       "\"Let's work through this step by step.\""
      ]
     },
     "execution_count": 7,
     "metadata": {},
     "output_type": "execute_result"
    }
   ],
   "source": [
    "import google.generativeai as genai\n",
    "import utils\n",
    "\n",
    "# Set up the model\n",
    "generation_config = {\n",
    "    \"temperature\": 1.0,\n",
    "}\n",
    "\n",
    "# Setting llms\n",
    "genai.configure(api_key=utils.get_GEMINI_API_KEY())\n",
    "model = genai.GenerativeModel('gemini-pro')  # for optimizerllm\n",
    "\n",
    "prompt = \"\"\"You are an optimization expert. The user has some texts along with their corresponding scores.\n",
    "Your task is to generate a new piece of text that scores as high as possible. \n",
    "Generate the new unique text only, not its corresponding score.\n",
    "\n",
    "I have some texts along with their corresponding scores. The texts are arranged in ascending order\n",
    "based on their scores, where higher scores indicate better quality.\n",
    "\n",
    "text:\n",
    "Solve this problem.\n",
    "score:\n",
    "34.61538461538461\n",
    "\n",
    "text:\n",
    "Let's think step by step.\n",
    "score:\n",
    "30.5\n",
    "\n",
    "text:\n",
    "Let’s solve this problem by splitting it into steps\n",
    "score:\n",
    "20\n",
    "\n",
    "text:\n",
    "Let’s think about this logically.\n",
    "score:\n",
    "15\n",
    "\n",
    "text:\n",
    "Take a deep breath and think through this.\n",
    "score:\n",
    "18\n",
    "\n",
    "text:\n",
    "Break this down.\n",
    "score:\n",
    "26.5\n",
    "\n",
    "The following exemplars show how to apply your text: you replace <INS> in each input with your\n",
    "text, then read the input and give an output. We say your output is wrong if your output is different\n",
    "from the given output, and we say your output is correct if they are the same.\n",
    "\n",
    "input:\n",
    "Q: Julie, Letitia and Anton decided to have dinner together at a nearby restaurant.  Julie orders $10 worth of food, Letitia orders $20 worth of food, and Anton orders $30 worth of food.  How much should each pay in tips if they want to split a 20% tip for the whole meal evenly?\n",
    "A: <INS>\n",
    "output:\n",
    "4\n",
    "\n",
    "input:\n",
    "Q: Don throws 3 darts.  One is a bullseye worth 50 points.  One completely missed the target, so received no points. The third was worth half the points of the bullseye.  What is the final score from these 3 throws?\n",
    "A: <INS>\n",
    "output:\n",
    "75\n",
    "\n",
    "input:\n",
    "Q: Thomas made 4 stacks of wooden blocks. The first stack was 7 blocks tall. The second stack was 3 blocks taller than the first. The third stack was 6 blocks shorter than the second stack, and the fourth stack was 10 blocks taller than the third stack. If the fifth stack has twice as many blocks as the second stack, how many blocks did Thomas use in all?\n",
    "A: <INS>\n",
    "output:\n",
    "55\n",
    "\n",
    "Write your new text that is different from the old ones and has a score as high as possible.\n",
    "Generate the new unique text only, not its corresponding score.\n",
    "\"\"\"\n",
    "\n",
    "model.generate_content(prompt).text"
   ]
  },
  {
   "cell_type": "code",
   "execution_count": 73,
   "metadata": {},
   "outputs": [],
   "source": [
    "import json\n",
    "import statistics\n",
    "# load opro.json\n",
    "with open(\"opro.json\") as f:\n",
    "    opro = json.load(f)\n",
    "\n",
    "# opro = {step:dict(sorted(opro[step].items(), key=lambda x: x[1], reverse=True)[:20]) for step in opro}\n",
    "step_to_accuracy = {step: (statistics.mean(opro[step].values()), statistics.stdev(opro[step].values())) for step in opro}"
   ]
  },
  {
   "cell_type": "code",
   "execution_count": 74,
   "metadata": {},
   "outputs": [
    {
     "data": {
      "text/plain": [
       "Text(0.5, 1.0, 'Step to Accuracy')"
      ]
     },
     "execution_count": 74,
     "metadata": {},
     "output_type": "execute_result"
    },
    {
     "data": {
      "image/png": "[encoded data removed]",
      "text/plain": [
       "<Figure size 640x480 with 1 Axes>"
      ]
     },
     "metadata": {},
     "output_type": "display_data"
    }
   ],
   "source": [
    "import matplotlib.pyplot as plt\n",
    "\n",
    "# Plot step to accuracy as a continuous line graph, including stdevs as highlighted error bars\n",
    "fig, ax = plt.subplots()\n",
    "ax.errorbar(step_to_accuracy.keys(), [accuracy[0] for accuracy in step_to_accuracy.values()], yerr=[accuracy[1] for accuracy in step_to_accuracy.values()], fmt='o')\n",
    "ax.set_xticks([step for step in step_to_accuracy.keys() if int(step) % 5 == 0])\n",
    "ax.set_xlabel('Step')\n",
    "ax.set_ylabel('Accuracy')\n",
    "ax.set_title('Step to Accuracy')"
   ]
  },
  {
   "cell_type": "code",
   "execution_count": 77,
   "metadata": {},
   "outputs": [
    {
     "data": {
      "text/plain": [
       "{'Simplify this by systematically breaking it down and approaching it step by step using a rational approach': 57.692307692307686,\n",
       " \"Let's methodically deconstruct this multifaceted challenge into manageable components, examining each facet logically and rationally, employing a systematic and insightful approach for an optimal resolution.\": 57.692307692307686,\n",
       " \"Let's systematically deconstruct this intricate puzzle into manageable components, examining each segment with the utmost thoughtfulness and reason, and methodically devising a solution that resolves this multifaceted enigma.\": 57.692307692307686,\n",
       " \"Let's methodically deconstruct this multifaceted challenge into manageable components, examining each facet logically and rationally, employing a systematic and insightful approach to uncover the most optimal resolution.\": 57.692307692307686,\n",
       " 'Think about this methodically and dissect it one step at a time': 53.84615384615385,\n",
       " 'Let us systematically deconstruct this complex challenge into easily digestible increments, meticulously inspecting each facet in a methodical and insightful manner.': 53.84615384615385,\n",
       " \"Let's address this issue piece by piece. We'll dissect it systematically into digestible units, examining each aspect logically and rationally.\": 53.84615384615385,\n",
       " \"Let's break this multifaceted enigma into smaller, manageable components and examine each aspect thoughtfully, employing both reason and logic to illuminate the path towards resolution.\": 53.84615384615385,\n",
       " \"Let's rationally decompose this multifaceted problem into manageable steps, methodically examining each aspect, and consolidating our findings to uncover the most optimal solution.\": 53.84615384615385,\n",
       " \"Let's methodically break down this complex challenge into digestible components, examining each facet logically and rationally, employing a systematic and insightful approach to uncover the most optimal resolution\": 53.84615384615385,\n",
       " \"Let's methodically break down this multifaceted challenge into manageable steps, examining each aspect rationally and systematically to uncover the optimal resolution.\": 53.84615384615385,\n",
       " \"Let's systematically break down this multifaceted challenge into manageable components, examining each facet logically and rationally, employing a systematic and insightful approach to uncover the most optimal resolution.\": 53.84615384615385,\n",
       " \"Let's systematically dissect this multifaceted enigma into manageable components, examining each segment with a rational and methodical approach, crafting a coherent solution that untangles this intricate puzzle.\": 53.84615384615385,\n",
       " \"Let's break this down into smaller, more manageable parts, then address it step by step, thinking logically.\": 50.0,\n",
       " 'Let us systematically deconstruct this complex challenge into digestible pieces, approaching each facet cautiously, in a methodical and logical manner, one step at a time.': 50.0,\n",
       " \"Let's dissect this intricate puzzle into bite-sized pieces, employing a logical and methodical approach to scrutinize each aspect, ensuring a rational resolution.\": 50.0,\n",
       " 'Let us methodically break down this multifaceted challenge into digestible components, examining each facet logically and  rationally, employing a step-by-step approach.': 50.0,\n",
       " \"Let's break down this complex conundrum into its integral components, analyzing each segment with the utmost thoughtfulness and reason, and methodically devising a solution that resolves this multifaceted enigma.\": 50.0,\n",
       " \"Let's deconstruct this complex conundrum meticulously, examining each aspect logically, rationally, and systematically, as we work towards a comprehensive and optimal resolution.\": 50.0,\n",
       " \"Let's deconstruct this complex challenge into bite-sized pieces, scrutinizing each facet systematically and rationally. By dismantling the problem step by step and evaluating each piece logically, we can assemble an optimal solution.\": 50.0}"
      ]
     },
     "execution_count": 77,
     "metadata": {},
     "output_type": "execute_result"
    }
   ],
   "source": [
    "opro[str(20)]"
   ]
  },
  {
   "cell_type": "markdown",
   "metadata": {},
   "source": [
    "### Testing optimized instruction on testing set"
   ]
  },
  {
   "cell_type": "code",
   "execution_count": 43,
   "metadata": {},
   "outputs": [],
   "source": [
    "from datasets import load_dataset\n",
    "from tqdm import tqdm\n",
    "\n",
    "# load gsm8k dataset\n",
    "SAMPLE_PERCENTAGE = 3.5/100\n",
    "gsm8k_dataset = load_dataset(\"gsm8k\", \"main\")\n",
    "testing_sample = gsm8k_dataset[\"test\"].shuffle(seed=42).select(range(200))\n",
    "best_instruction = \"Determine the equation of the line that passes through the points (5, -2) and (3, 4) and indicate the steps to solve it.\"\n",
    "\n",
    "def check_fast(actual, expected):\n",
    "    \"\"\"\n",
    "    Faster and simpler version of the check function.\n",
    "    \"\"\"\n",
    "    expected = expected.split(\"####\")[-1].strip()\n",
    "    return expected in actual\n",
    "\n",
    "def test_instruction(lm, ins, testing_sample):\n",
    "    score = 0\n",
    "    for i in tqdm(range(len(testing_sample))):\n",
    "        question = testing_sample[\"question\"][i]\n",
    "        answer = testing_sample[\"answer\"][i]\n",
    "        actual = lm(f\"{question}\\n{ins}\")\n",
    "        score += check_fast(actual, answer)\n",
    "    return score / len(testing_sample) * 100"
   ]
  },
  {
   "cell_type": "code",
   "execution_count": 44,
   "metadata": {},
   "outputs": [
    {
     "name": "stderr",
     "output_type": "stream",
     "text": [
      "100%|██████████| 200/200 [45:06<00:00, 13.53s/it]   \n"
     ]
    },
    {
     "name": "stdout",
     "output_type": "stream",
     "text": [
      "No instruction:  87.5\n"
     ]
    },
    {
     "name": "stderr",
     "output_type": "stream",
     "text": [
      "100%|██████████| 200/200 [25:56<00:00,  7.78s/it]"
     ]
    },
    {
     "name": "stdout",
     "output_type": "stream",
     "text": [
      "With instruction:  85.0\n"
     ]
    },
    {
     "name": "stderr",
     "output_type": "stream",
     "text": [
      "\n"
     ]
    }
   ],
   "source": [
    "# Testing instruction with gpt (no ins vs ins)\n",
    "from openai import OpenAI\n",
    "import utils\n",
    "client = OpenAI(api_key=utils.get_OPENAI_API_KEY_DJ())\n",
    "def get_chat_completion(prompt, model=\"gpt-3.5-turbo-0125\"):\n",
    "    messages = [{\"role\": \"user\", \"content\": prompt}]\n",
    "    response = client.chat.completions.create(\n",
    "        model=model,\n",
    "        messages=messages,\n",
    "        temperature=0,\n",
    "    )\n",
    "    return response.choices[0].message.content\n",
    "\n",
    "print(\"No instruction: \", test_instruction(get_chat_completion, \"\", testing_sample))\n",
    "print(\"With instruction: \", test_instruction(get_chat_completion, best_instruction, testing_sample))"
   ]
  },
  {
   "cell_type": "code",
   "execution_count": 48,
   "metadata": {},
   "outputs": [
    {
     "name": "stderr",
     "output_type": "stream",
     "text": [
      "100%|██████████| 200/200 [04:25<00:00,  1.33s/it]\n"
     ]
    },
    {
     "name": "stdout",
     "output_type": "stream",
     "text": [
      "No instruction:  18.5\n"
     ]
    },
    {
     "name": "stderr",
     "output_type": "stream",
     "text": [
      "100%|██████████| 200/200 [14:11<00:00,  4.26s/it]"
     ]
    },
    {
     "name": "stdout",
     "output_type": "stream",
     "text": [
      "With instruction:  10.5\n"
     ]
    },
    {
     "name": "stderr",
     "output_type": "stream",
     "text": [
      "\n"
     ]
    }
   ],
   "source": [
    "# Testing instruction with ollama (no ins vs ins)\n",
    "from langchain_community.llms import Ollama\n",
    "from requests import ReadTimeout\n",
    "\n",
    "llm = Ollama(model=\"gemma:2b\", temperature=0, num_gpu = 40, timeout=30)  # for scorerllm\n",
    "def lm_ollama(prompt):\n",
    "    temp = llm.timeout\n",
    "    while True:\n",
    "        try:\n",
    "            res = llm.invoke(prompt)\n",
    "            break\n",
    "        except ReadTimeout:\n",
    "            if llm.timeout > 120:\n",
    "                print(f\"Inference lasted for {llm.timeout} seconds. Stopping now.\")\n",
    "                break\n",
    "            llm.timeout *= 2\n",
    "            print(f\"### ReadTimeout. Trying again with Timeout: {llm.timeout} seconds ###\")\n",
    "        except Exception as e:\n",
    "            print(f\"### {e} ###\")\n",
    "            break\n",
    "    llm.timeout = temp\n",
    "    return res\n",
    "\n",
    "print(\"No instruction: \", test_instruction(lm_ollama, \"\", testing_sample))\n",
    "print(\"With instruction: \", test_instruction(lm_ollama, best_instruction, testing_sample))"
   ]
  },
  {
   "cell_type": "code",
   "execution_count": 49,
   "metadata": {},
   "outputs": [
    {
     "name": "stderr",
     "output_type": "stream",
     "text": [
      "100%|██████████| 200/200 [04:22<00:00,  1.31s/it]"
     ]
    },
    {
     "name": "stdout",
     "output_type": "stream",
     "text": [
      "With instruction:  19.0\n"
     ]
    },
    {
     "name": "stderr",
     "output_type": "stream",
     "text": [
      "\n"
     ]
    }
   ],
   "source": [
    "print(\"With instruction: \", test_instruction(lm_ollama, \"Solve the problem.\", testing_sample))"
   ]
  }
 ],
 "metadata": {
  "kernelspec": {
   "display_name": "Python 3",
   "language": "python",
   "name": "python3"
  },
  "language_info": {
   "codemirror_mode": {
    "name": "ipython",
    "version": 3
   },
   "file_extension": ".py",
   "mimetype": "text/x-python",
   "name": "python",
   "nbconvert_exporter": "python",
   "pygments_lexer": "ipython3",
   "version": "3.10.12"
  }
 },
 "nbformat": 4,
 "nbformat_minor": 2
}
