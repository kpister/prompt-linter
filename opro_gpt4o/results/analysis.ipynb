{
 "cells": [
  {
   "cell_type": "markdown",
   "metadata": {},
   "source": [
    "### QA Prompts"
   ]
  },
  {
   "cell_type": "code",
   "execution_count": 1,
   "metadata": {},
   "outputs": [
    {
     "name": "stdout",
     "output_type": "stream",
     "text": [
      "QA Prompts Optimized: 36\n",
      "QA Prompts Stayed same: 56\n",
      "QA Prompts Degraded: 5\n",
      "Total QA Prompts : 97\n"
     ]
    }
   ],
   "source": [
    "import os, json\n",
    "import numpy as np\n",
    "\n",
    "optimized = 0\n",
    "stayed_same = 0\n",
    "degraded = 0\n",
    "total = 0\n",
    "lst = []\n",
    "with open(\"testingSetScores.json\", \"r\") as f:\n",
    "    data = json.load(f)\n",
    "    for k in data:\n",
    "        # Look only at qa_refinement category prompts\n",
    "        if data[k][\"category\"] != \"QA_refinement\":\n",
    "            continue\n",
    "        \n",
    "        # Get the scores for the initial and optimized prompts\n",
    "        initial_prompt_score = list(data[k][\"initial_prompt\"].values())[0]\n",
    "        optimized_prompt_score = list(data[k][\"optimized_prompt\"].values())[0]\n",
    "        initial_prompt = list(data[k][\"initial_prompt\"].keys())[0]\n",
    "        optimized_prompt = list(data[k][\"optimized_prompt\"].keys())[0]\n",
    "        \n",
    "        # Determine the number of prompts that were optimized, stayed the same, or degraded\n",
    "        delta = optimized_prompt_score - initial_prompt_score\n",
    "        total += 1\n",
    "        if initial_prompt == optimized_prompt or delta == 0:\n",
    "            stayed_same += 1\n",
    "            continue\n",
    "        \n",
    "        if delta < 0 and initial_prompt != optimized_prompt:\n",
    "            degraded += 1\n",
    "            continue\n",
    "            \n",
    "        if delta > 0 and initial_prompt != optimized_prompt:\n",
    "            optimized += 1\n",
    "            continue\n",
    "            \n",
    "        print(f\"Delta: {delta}\")\n",
    "        print(f\"Initial: {initial_prompt}\")\n",
    "        print(f\"Optimized: {optimized_prompt}\")\n",
    "        \n",
    "        # if delta <= 0:\n",
    "        #     count += 1\n",
    "        #     lst.append(k)\n",
    "\n",
    "print(f\"QA Prompts Optimized: {optimized}\")\n",
    "print(f\"QA Prompts Stayed same: {stayed_same}\")\n",
    "print(f\"QA Prompts Degraded: {degraded}\")\n",
    "print(f\"Total QA Prompts : {total}\")"
   ]
  },
  {
   "cell_type": "markdown",
   "metadata": {},
   "source": [
    "### Everything Else Optimized for gpt4o"
   ]
  },
  {
   "cell_type": "code",
   "execution_count": 2,
   "metadata": {},
   "outputs": [
    {
     "name": "stdout",
     "output_type": "stream",
     "text": [
      "QA Prompts Optimized: 12\n",
      "QA Prompts Stayed same: 0\n",
      "QA Prompts Degraded: 2\n",
      "Total QA Prompts : 14\n"
     ]
    }
   ],
   "source": [
    "import os, json\n",
    "import numpy as np\n",
    "\n",
    "optimized = 0\n",
    "stayed_same = 0\n",
    "degraded = 0\n",
    "total = 0\n",
    "lst = []\n",
    "with open(\"testingSetScores.json\", \"r\") as f:\n",
    "    data = json.load(f)\n",
    "    for k in data:\n",
    "        # Look only at qa_refinement category prompts\n",
    "        if data[k][\"category\"] == \"QA_refinement\":\n",
    "            continue\n",
    "        \n",
    "        # Get the scores for the initial and optimized prompts\n",
    "        initial_prompt_score = list(data[k][\"initial_prompt\"].values())[0]\n",
    "        optimized_prompt_score = list(data[k][\"optimized_prompt\"].values())[0]\n",
    "        initial_prompt = list(data[k][\"initial_prompt\"].keys())[0]\n",
    "        optimized_prompt = list(data[k][\"optimized_prompt\"].keys())[0]\n",
    "        \n",
    "        # Determine the number of prompts that were optimized, stayed the same, or degraded\n",
    "        delta = optimized_prompt_score - initial_prompt_score\n",
    "        total += 1\n",
    "        if initial_prompt == optimized_prompt or delta == 0:\n",
    "            stayed_same += 1\n",
    "            continue\n",
    "        \n",
    "        if delta < 0 and initial_prompt != optimized_prompt:\n",
    "            degraded += 1\n",
    "            continue\n",
    "            \n",
    "        if delta > 0 and initial_prompt != optimized_prompt:\n",
    "            optimized += 1\n",
    "            continue\n",
    "            \n",
    "        print(f\"Delta: {delta}\")\n",
    "        print(f\"Initial: {initial_prompt}\")\n",
    "        print(f\"Optimized: {optimized_prompt}\")\n",
    "        \n",
    "        # if delta <= 0:\n",
    "        #     count += 1\n",
    "        #     lst.append(k)\n",
    "\n",
    "print(f\"QA Prompts Optimized: {optimized}\")\n",
    "print(f\"QA Prompts Stayed same: {stayed_same}\")\n",
    "print(f\"QA Prompts Degraded: {degraded}\")\n",
    "print(f\"Total QA Prompts : {total}\")"
   ]
  }
 ],
 "metadata": {
  "kernelspec": {
   "display_name": "Python 3",
   "language": "python",
   "name": "python3"
  },
  "language_info": {
   "codemirror_mode": {
    "name": "ipython",
    "version": 3
   },
   "file_extension": ".py",
   "mimetype": "text/x-python",
   "name": "python",
   "nbconvert_exporter": "python",
   "pygments_lexer": "ipython3",
   "version": "3.10.12"
  }
 },
 "nbformat": 4,
 "nbformat_minor": 2
}
