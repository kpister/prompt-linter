{
 "cells": [
  {
   "cell_type": "code",
   "execution_count": 19,
   "metadata": {},
   "outputs": [],
   "source": [
    "import pandas as pd\n",
    "\n",
    "# Read the data from the CSV file\n",
    "errCorr = pd.read_csv('score_errCorr.csv')\n",
    "errCorr[\"task\"] = \"error correction\"\n",
    "score_qa1 = pd.read_csv('score_qa1.csv')\n",
    "score_qa1[\"task\"] = \"question_refinement\"\n",
    "score_summ = pd.read_csv('score_summ.csv')\n",
    "score_summ[\"task\"] = \"summarization\"\n",
    "score_translation = pd.read_csv('score_translation.csv')\n",
    "score_translation[\"task\"] = \"translation\""
   ]
  },
  {
   "cell_type": "code",
   "execution_count": 20,
   "metadata": {},
   "outputs": [
    {
     "data": {
      "text/html": [
       "<div>\n",
       "<style scoped>\n",
       "    .dataframe tbody tr th:only-of-type {\n",
       "        vertical-align: middle;\n",
       "    }\n",
       "\n",
       "    .dataframe tbody tr th {\n",
       "        vertical-align: top;\n",
       "    }\n",
       "\n",
       "    .dataframe thead th {\n",
       "        text-align: right;\n",
       "    }\n",
       "</style>\n",
       "<table border=\"1\" class=\"dataframe\">\n",
       "  <thead>\n",
       "    <tr style=\"text-align: right;\">\n",
       "      <th></th>\n",
       "      <th>initial_prompt</th>\n",
       "      <th>optimized_prompt</th>\n",
       "      <th>initial_true_score</th>\n",
       "      <th>optimized_true_score</th>\n",
       "      <th>task</th>\n",
       "    </tr>\n",
       "  </thead>\n",
       "  <tbody>\n",
       "    <tr>\n",
       "      <th>0</th>\n",
       "      <td>Please properly punctuate the given text (with...</td>\n",
       "      <td>Your task is to meticulously refine the given ...</td>\n",
       "      <td>78.172404</td>\n",
       "      <td>88.717133</td>\n",
       "      <td>error correction</td>\n",
       "    </tr>\n",
       "    <tr>\n",
       "      <th>0</th>\n",
       "      <td>You are a very smart biology professor. Answer...</td>\n",
       "      <td>####\\nThink step by step and clearly understan...</td>\n",
       "      <td>58.571429</td>\n",
       "      <td>60.000000</td>\n",
       "      <td>question_refinement</td>\n",
       "    </tr>\n",
       "    <tr>\n",
       "      <th>0</th>\n",
       "      <td>Summarize the following text. Keep the origina...</td>\n",
       "      <td>To craft a paramount and supremely concise sum...</td>\n",
       "      <td>70.138728</td>\n",
       "      <td>77.746887</td>\n",
       "      <td>summarization</td>\n",
       "    </tr>\n",
       "    <tr>\n",
       "      <th>0</th>\n",
       "      <td>Please help me to translate the following text...</td>\n",
       "      <td>Think step by step to translate the text accur...</td>\n",
       "      <td>24.873932</td>\n",
       "      <td>34.925491</td>\n",
       "      <td>translation</td>\n",
       "    </tr>\n",
       "  </tbody>\n",
       "</table>\n",
       "</div>"
      ],
      "text/plain": [
       "                                      initial_prompt  \\\n",
       "0  Please properly punctuate the given text (with...   \n",
       "0  You are a very smart biology professor. Answer...   \n",
       "0  Summarize the following text. Keep the origina...   \n",
       "0  Please help me to translate the following text...   \n",
       "\n",
       "                                    optimized_prompt  initial_true_score  \\\n",
       "0  Your task is to meticulously refine the given ...           78.172404   \n",
       "0  ####\\nThink step by step and clearly understan...           58.571429   \n",
       "0  To craft a paramount and supremely concise sum...           70.138728   \n",
       "0  Think step by step to translate the text accur...           24.873932   \n",
       "\n",
       "   optimized_true_score                 task  \n",
       "0             88.717133     error correction  \n",
       "0             60.000000  question_refinement  \n",
       "0             77.746887        summarization  \n",
       "0             34.925491          translation  "
      ]
     },
     "execution_count": 20,
     "metadata": {},
     "output_type": "execute_result"
    }
   ],
   "source": [
    "# Append the data from the other CSV files\n",
    "data = pd.concat([errCorr, score_qa1, score_summ, score_translation])\n",
    "data"
   ]
  },
  {
   "cell_type": "code",
   "execution_count": null,
   "metadata": {},
   "outputs": [],
   "source": []
  }
 ],
 "metadata": {
  "kernelspec": {
   "display_name": "Python 3",
   "language": "python",
   "name": "python3"
  },
  "language_info": {
   "codemirror_mode": {
    "name": "ipython",
    "version": 3
   },
   "file_extension": ".py",
   "mimetype": "text/x-python",
   "name": "python",
   "nbconvert_exporter": "python",
   "pygments_lexer": "ipython3",
   "version": "3.10.12"
  }
 },
 "nbformat": 4,
 "nbformat_minor": 2
}
