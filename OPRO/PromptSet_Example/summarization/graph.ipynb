{
 "cells": [
  {
   "cell_type": "code",
   "execution_count": 8,
   "metadata": {},
   "outputs": [],
   "source": [
    "CHOSEN_PROMPT = 'Please summarize the following text: {TEXT}'\n",
    "SEED_PROMPTS = [\n",
    "        CHOSEN_PROMPT,\n",
    "        f\"{CHOSEN_PROMPT}. Think step by step.\",\n",
    "        f\"{CHOSEN_PROMPT}. Take a deep breath.\",\n",
    "        f\"{CHOSEN_PROMPT}. Be concise and clear.\",\n",
    "        f\"{CHOSEN_PROMPT}. You are a summarization expert.\",\n",
    "        f\"{CHOSEN_PROMPT}. Explain your answer in simple terms.\",\n",
    "        f\"{CHOSEN_PROMPT}. You are a helpful assistant.\",\n",
    "        # Prompt1 from Suggest Prompt\n",
    "        \"\"\"#### Instruction ####\n",
    "\n",
    "Summarize the following text:\n",
    "\n",
    "#### Input ####\n",
    "\n",
    "{TEXT}\n",
    "\n",
    "#### Expected Response Format ####\n",
    "\n",
    "[Your summary]\"\"\",\n",
    "        # Prompt2 from Suggest Prompt\n",
    "        \"\"\"**Instruction**: Summarize the following text:\n",
    "\n",
    "**{TEXT}**\n",
    "\n",
    "**Example:**\n",
    "\n",
    "* Summarize the following text:\n",
    "> The United States is a large country with a diverse population. It is made up of 50 states, each with its own unique culture and history. The United States is a global superpower and has a significant influence on world affairs.\n",
    "\n",
    "### Answer: ###\n",
    "* The United States is a large, diverse country with 50 states, each with its own unique culture and history. As a global superpower, the United States exerts significant influence on world affairs.\n",
    "\n",
    "**Additional Instructions:**\n",
    "\n",
    "* Please ensure that your summary captures the key points of the text.\n",
    "* Use clear and concise language.\n",
    "* You MUST adhere to the specified word limit.\n",
    "* You will be penalized if your summary is not responsive to the text.\"\"\",\n",
    "        # Prompt3 from Suggest Prompt\n",
    "        \"\"\"###Instruction###\n",
    "\n",
    "Summarize the following text:\n",
    "\n",
    "###Input###\n",
    "{TEXT}\n",
    "\n",
    "###Your task is###\n",
    "\n",
    "Generate a concise and accurate summary of the input text.\n",
    "\n",
    "###You MUST###\n",
    "\n",
    "* Write in clear and concise language.\n",
    "* Cover all the main points of the text.\n",
    "* Keep the summary within 500 words.\n",
    "\n",
    "###You will be penalized if###\n",
    "\n",
    "* Your summary is incomplete or inaccurate.\n",
    "* Your summary exceeds the 500-word limit.\n",
    "\n",
    "###Answer in a natural, human-like manner###\n",
    "\n",
    "Pretend you are a highly skilled human summarizing the text.\n",
    "\n",
    "###Example###\n",
    "* **QUESTION:** Summarize the following text:\n",
    "{{EXAMPLE TEXT}}\n",
    "* **SUMMARY:** {{EXAMPLE SUMMARY}}\n",
    "\n",
    "###TIP###\n",
    "I'm going to tip $5 for a better summary!\"\"\",\n",
    "        # Prompt4 from Suggest Prompt\n",
    "        \"\"\"###Instruction###\n",
    "Your task is to summarize the following text:\n",
    "\n",
    "\n",
    "###Example###\n",
    "{TEXT}\n",
    "\n",
    "\n",
    "You MUST answer in a natural, human-like manner. You will be penalized for not following these instructions.\n",
    "###Question###\n",
    "{TEXT}\"\"\",\n",
    "        # Prompt5 from Suggest Prompt\n",
    "        \"\"\"###Instruction###\n",
    "Provide a concise summary of the following text:\n",
    "{TEXT}\n",
    "###Example###\n",
    "Input: Here is the provided request: \\\"Summarize this research paper: Effects of Climate Change on Marine Ecosystems\\\"\n",
    "Output: Marine ecosystems face significant threats from climate change, including rising sea temperatures, ocean acidification, and altered weather patterns. These changes disrupt ecological balances, leading to loss of biodiversity, shifts in species distribution, and reduced productivity.\n",
    "###Question###\n",
    "Your task is to generate a concise and informative summary of the provided text. Ensure your response is clear, concise, and free from errors. You MUST adhere to the formatting guidelines and provide a single cohesive summary. If you fail to meet these requirements, you will be penalized.\n",
    "Answer in a natural, human-like manner and ensure your response is comprehensive and covers the main points of the provided text.\"\"\",\n",
    "    ]"
   ]
  },
  {
   "cell_type": "code",
   "execution_count": 9,
   "metadata": {},
   "outputs": [],
   "source": [
    "import statistics\n",
    "import matplotlib.pyplot as plt\n",
    "import json\n",
    "SAVE_PATH = \"synthetic_summarization_OPRO_results.json\"\n",
    "\n",
    "# load opro.json\n",
    "with open(SAVE_PATH) as f:\n",
    "    opro_results = json.load(f)\n",
    "\n",
    "opro_results[\"0\"] = {}\n",
    "count = 0\n",
    "for key in opro_results[\"1\"]:\n",
    "    if key in SEED_PROMPTS:\n",
    "        opro_results[\"0\"][key] = opro_results[\"1\"][key]\n",
    "opro_results[\"0\"]\n",
    "\n",
    "# sort opro_results by keys\n",
    "opro_results = dict(sorted(opro_results.items(), key=lambda item: int(item[0])))"
   ]
  },
  {
   "cell_type": "code",
   "execution_count": 10,
   "metadata": {},
   "outputs": [
    {
     "data": {
      "text/plain": [
       "<matplotlib.legend.Legend at 0x7f9fd3c57b50>"
      ]
     },
     "execution_count": 10,
     "metadata": {},
     "output_type": "execute_result"
    },
    {
     "data": {
      "image/png": "[encoded data removed]",
      "text/plain": [
       "<Figure size 640x480 with 1 Axes>"
      ]
     },
     "metadata": {},
     "output_type": "display_data"
    }
   ],
   "source": [
    "step_to_accuracy = {\n",
    "    step: (\n",
    "        statistics.mean(opro_results[step].values()),\n",
    "        max(opro_results[step].values()),\n",
    "        min(opro_results[step].values()),\n",
    "    )\n",
    "    for step in opro_results\n",
    "}\n",
    "\n",
    "# Plot step to accuracy as a continuous line graph, including stdevs as highlighted error bars\n",
    "fig, ax = plt.subplots()\n",
    "ax.errorbar(\n",
    "    step_to_accuracy.keys(),\n",
    "    [accuracy[0] for accuracy in step_to_accuracy.values()],\n",
    "    yerr=[\n",
    "        [accuracy[0] - accuracy[2] for accuracy in step_to_accuracy.values()],  # Lower errors\n",
    "        [accuracy[1] - accuracy[0] for accuracy in step_to_accuracy.values()]   # Upper errors\n",
    "    ],\n",
    "    fmt=\"o\",\n",
    ")\n",
    "\n",
    "ax.set_xticks([step for step in step_to_accuracy.keys() if int(step) % 5 == 0])\n",
    "ax.set_xlabel(\"Step\")\n",
    "ax.set_ylabel(\"Accuracy\")\n",
    "ax.set_title(\"Step to Accuracy\")\n",
    "\n",
    "# Add a pink point to the plot\n",
    "ax.plot(0, opro_results[\"0\"][CHOSEN_PROMPT], 'o', color='pink')\n",
    "\n",
    "# Add legend to show pink dot is initial prompt accuracy, blue dot is avg prompt accuracy\n",
    "ax.legend([\"Initial Prompt Accuracy\", \"Average Prompt Accuracy\"], loc=\"lower right\")\n"
   ]
  },
  {
   "cell_type": "code",
   "execution_count": 11,
   "metadata": {},
   "outputs": [
    {
     "data": {
      "text/plain": [
       "{'Summarize the text below: {TEXT}. \\nMake sure your summary includes all the important points and is clear and informative, and well-organized.': 53.426304319986464,\n",
       " 'Summarize the following text: {TEXT}. Ensure your summary is comprehensive, informative, and flows naturally. Make sure all the key points are included and presented in a coherent and engaging manner.': 49.914992937886325,\n",
       " 'Please summarize the following text: {TEXT}. Think step by step.': 49.56293326150442,\n",
       " 'Summarize the following text: {TEXT} Make sure the answer is natural and comprehensive.': 48.482160952774194,\n",
       " 'Summarize the following text, keep it comprehensive, concise, and accurate, along with being natural and human-like: {TEXT}': 48.24513589253414,\n",
       " 'Summarize the following text: {TEXT} To do this, make sure your summary includes all the important details, is clear and informative, well-organized, natural, comprehensive, and engaging.': 48.10797416692263,\n",
       " 'Summarize the following text: {TEXT}. Be comprehensive, concise, and accurate.': 47.63399093031041,\n",
       " 'Summarize the following text: {TEXT}. Write me something natural and comprehensive, showcasing your understanding of the subject matter.': 47.57073334423442,\n",
       " 'Summarize the following text, making sure to be detailed and precise\\n\\n{TEXT}\\nProvide an answer that is clear and comprehensive.': 47.33269478473005,\n",
       " 'Summarize the following text: {TEXT}. Use synonyms and demonstrate your natural language processing (NLP) skills.': 47.27128870519282,\n",
       " 'Summarize the following text to the best of your knowledge: {TEXT}. Make your summary fluent and natural, while ensuring it has a clear structure and appropriate length. Remember that your answer should contain all the important information from the provided text.': 47.15973484209696,\n",
       " 'Summarize the following text: {TEXT}. Make your answer as clear, concise, and informative as possible.': 46.98565900550886,\n",
       " 'Summarize the following text: {TEXT}. I need your summary to be clear, concise, and informative. Please ensure it includes all the relevant key points and is presented in an organized manner. Maintain a natural and coherent flow of ideas, demonstrating your understanding of the subject matter.': 46.85932368272939,\n",
       " 'Summarize the following text: {TEXT}.\\nBe unique, natural, and comprehensive, showcasing your understanding of the subject matter.\\nEnsure a clear progression of ideas and coherent structure.': 46.72084671324722,\n",
       " \"Summarize the following text: {TEXT}. Compose a comprehensive and cogent summary, effectively capturing the text's essence. Strive for conciseness, accuracy, and clarity, ensuring a well-structured and coherent narrative that presents a cohesive understanding of the text's content.\": 46.63082703023665,\n",
       " \"Summarize the following text: {TEXT}. Your answer should be unique, natural, clear, concise, accurate, comprehensive, fluent, and appropriate. Make sure there's a clear progression of ideas and coherent structure.\": 46.56297947932712,\n",
       " 'Please summarize the following text: {TEXT}. I need this to be in 400 words and under.': 46.54217054510298,\n",
       " 'Summarize the following text:  {TEXT}\\nRemember to be precise and natural.': 46.44784041554327,\n",
       " 'Summarize the following text: {TEXT}. Your output should adhere to the following requirements: Be succinct, natural, coherent, precise, accurate, and encompass all the key details from the provided text. As you generate the summary, think step by step and ensure a smooth flow of ideas. Your summary should be of high quality and reflect your understanding of the subject matter.': 46.42886771463125,\n",
       " 'Summarize the following text: {TEXT}. Include all the essential details and ensure your summary is coherent, concise, and accurate.': 46.21858917797348}"
      ]
     },
     "execution_count": 11,
     "metadata": {},
     "output_type": "execute_result"
    }
   ],
   "source": [
    "opro_results[str(len(opro_results) - 1)]"
   ]
  },
  {
   "cell_type": "code",
   "execution_count": 12,
   "metadata": {},
   "outputs": [
    {
     "name": "stdout",
     "output_type": "stream",
     "text": [
      "Summarize the text below: {TEXT}. \n",
      "Make sure your summary includes all the important points and is clear and informative, and well-organized.\n"
     ]
    }
   ],
   "source": [
    "best_instruction = max(\n",
    "    opro_results[str(len(opro_results) - 1)], key=opro_results[str(len(opro_results) - 1)].get\n",
    ")\n",
    "print(best_instruction)"
   ]
  },
  {
   "cell_type": "code",
   "execution_count": null,
   "metadata": {},
   "outputs": [],
   "source": []
  }
 ],
 "metadata": {
  "kernelspec": {
   "display_name": "Python 3",
   "language": "python",
   "name": "python3"
  },
  "language_info": {
   "codemirror_mode": {
    "name": "ipython",
    "version": 3
   },
   "file_extension": ".py",
   "mimetype": "text/x-python",
   "name": "python",
   "nbconvert_exporter": "python",
   "pygments_lexer": "ipython3",
   "version": "3.10.12"
  }
 },
 "nbformat": 4,
 "nbformat_minor": 2
}
