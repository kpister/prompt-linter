{
 "cells": [
  {
   "cell_type": "code",
   "execution_count": 1,
   "metadata": {},
   "outputs": [
    {
     "data": {
      "text/plain": [
       "\"Let's approach this systematically.\""
      ]
     },
     "execution_count": 1,
     "metadata": {},
     "output_type": "execute_result"
    }
   ],
   "source": [
    "import google.generativeai as genai\n",
    "import utils\n",
    "\n",
    "# Set up the model\n",
    "generation_config = {\n",
    "    \"temperature\": 1.0,\n",
    "}\n",
    "\n",
    "# Setting llms\n",
    "genai.configure(api_key=utils.get_GEMINI_API_KEY())\n",
    "model = genai.GenerativeModel('gemini-pro')  # for optimizerllm\n",
    "\n",
    "prompt = \"\"\"You are an optimization expert. The user has some texts along with their corresponding scores.\n",
    "Your task is to generate a new piece of text that scores as high as possible. \n",
    "Generate the new unique text only, not its corresponding score.\n",
    "\n",
    "I have some texts along with their corresponding scores. The texts are arranged in ascending order\n",
    "based on their scores, where higher scores indicate better quality.\n",
    "\n",
    "text:\n",
    "Solve this problem.\n",
    "score:\n",
    "34.61538461538461\n",
    "\n",
    "text:\n",
    "Let's think step by step.\n",
    "score:\n",
    "30.5\n",
    "\n",
    "text:\n",
    "Let’s solve this problem by splitting it into steps\n",
    "score:\n",
    "20\n",
    "\n",
    "text:\n",
    "Let’s think about this logically.\n",
    "score:\n",
    "15\n",
    "\n",
    "text:\n",
    "Take a deep breath and think through this.\n",
    "score:\n",
    "18\n",
    "\n",
    "text:\n",
    "Break this down.\n",
    "score:\n",
    "26.5\n",
    "\n",
    "The following exemplars show how to apply your text: you replace <INS> in each input with your\n",
    "text, then read the input and give an output. We say your output is wrong if your output is different\n",
    "from the given output, and we say your output is correct if they are the same.\n",
    "\n",
    "input:\n",
    "Q: Julie, Letitia and Anton decided to have dinner together at a nearby restaurant.  Julie orders $10 worth of food, Letitia orders $20 worth of food, and Anton orders $30 worth of food.  How much should each pay in tips if they want to split a 20% tip for the whole meal evenly?\n",
    "A: <INS>\n",
    "output:\n",
    "4\n",
    "\n",
    "input:\n",
    "Q: Don throws 3 darts.  One is a bullseye worth 50 points.  One completely missed the target, so received no points. The third was worth half the points of the bullseye.  What is the final score from these 3 throws?\n",
    "A: <INS>\n",
    "output:\n",
    "75\n",
    "\n",
    "input:\n",
    "Q: Thomas made 4 stacks of wooden blocks. The first stack was 7 blocks tall. The second stack was 3 blocks taller than the first. The third stack was 6 blocks shorter than the second stack, and the fourth stack was 10 blocks taller than the third stack. If the fifth stack has twice as many blocks as the second stack, how many blocks did Thomas use in all?\n",
    "A: <INS>\n",
    "output:\n",
    "55\n",
    "\n",
    "Write your new text that is different from the old ones and has a score as high as possible.\n",
    "Generate the new unique text only, not its corresponding score.\n",
    "\"\"\"\n",
    "\n",
    "model.generate_content(prompt).text"
   ]
  },
  {
   "cell_type": "code",
   "execution_count": 10,
   "metadata": {},
   "outputs": [],
   "source": [
    "import json\n",
    "import statistics\n",
    "# load opro.json\n",
    "with open(\"opro_1.json\") as f:\n",
    "    opro = json.load(f)\n",
    "\n",
    "# opro = {step:dict(sorted(opro[step].items(), key=lambda x: x[1], reverse=True)[:20]) for step in opro}\n",
    "step_to_accuracy = {step: (statistics.mean(opro[step].values()), statistics.stdev(opro[step].values())) for step in opro}"
   ]
  },
  {
   "cell_type": "code",
   "execution_count": 11,
   "metadata": {},
   "outputs": [
    {
     "data": {
      "text/plain": [
       "Text(0.5, 1.0, 'Step to Accuracy')"
      ]
     },
     "execution_count": 11,
     "metadata": {},
     "output_type": "execute_result"
    },
    {
     "data": {
      "image/png": "[encoded data removed]",
      "text/plain": [
       "<Figure size 640x480 with 1 Axes>"
      ]
     },
     "metadata": {},
     "output_type": "display_data"
    }
   ],
   "source": [
    "import matplotlib.pyplot as plt\n",
    "\n",
    "# Plot step to accuracy as a continuous line graph, including stdevs as highlighted error bars\n",
    "fig, ax = plt.subplots()\n",
    "ax.errorbar(step_to_accuracy.keys(), [accuracy[0] for accuracy in step_to_accuracy.values()], yerr=[accuracy[1] for accuracy in step_to_accuracy.values()], fmt='o')\n",
    "ax.set_xticks([step for step in step_to_accuracy.keys() if int(step) % 5 == 0])\n",
    "ax.set_xlabel('Step')\n",
    "ax.set_ylabel('Accuracy')\n",
    "ax.set_title('Step to Accuracy')"
   ]
  },
  {
   "cell_type": "code",
   "execution_count": 12,
   "metadata": {},
   "outputs": [
    {
     "data": {
      "text/plain": [
       "{\"Let's solve this by breaking it down into subproblems\": 57.692307692307686,\n",
       " \"Let's dissect this formidable challenge into its constituent elements, systematically unraveling each facet to illuminate its complexities. By examining each component independently and synthesizing insights, we forge a path toward a comprehensive resolution, unlocking its hidden dimensions and illuminating the way to an optimal outcome. Through this collaborative and methodical approach, we endeavor to decipher its intricacies, ultimately forging a path toward a satisfactory conclusion.\": 57.692307692307686,\n",
       " 'Let us deconstruct this intricate enigma into its fundamental elements, systematically unraveling its intricacies and examining each component independently. Through a systematic exploration of its inherent complexities, we aim to illuminate the underlying mechanisms and forge a path toward resolution.': 57.692307692307686,\n",
       " \"Let's dissect this multifaceted conundrum into its constituent components, logically examining each element to unveil its intricacies and methodically synthesize insights towards an optimal resolution.\": 57.692307692307686,\n",
       " \"Let's systematically dissect this intricate challenge into its fundamental constituents, meticulously examining each component whilst unraveling its subtleties. Through a collaborative and methodical approach, we aim to illuminate its enigmatic nature, forging a path towards a satisfactory resolution. By examining each facet independently and synthesizing insights, we endeavor to decode its complexities, leaving no stone unturned while illuminating the way to an optimal outcome.\": 57.692307692307686,\n",
       " \"Let's divide it into smaller problems to solve\": 53.84615384615385,\n",
       " \"Let's break down this formidable challenge into its inherent constituents, meticulously unraveling each facet systematically to gain a profound understanding. By thoroughly dissecting its intricacies and examining each component separately, we endeavor to formulate a comprehensive strategy for resolution, unlocking the path toward an optimal outcome.\": 53.84615384615385,\n",
       " \"Let's break this multifaceted conundrum into its constituent elements and analyze each component systematically to forge a path toward its resolution.\": 53.84615384615385,\n",
       " \"Let's dissect this multifaceted challenge into its constituent elements, meticulously analyzing each component to unravel its complexities. By systematically examining each aspect and illuminating its intricacies, we forge a path toward a comprehensive resolution, unlocking its enigmatic nature and paving the way for an optimal outcome. Through a rigorous and methodical approach, we endeavor to decipher its complexities, shedding light on its hidden dimensions and ultimately forging a path toward a satisfactory conclusion.\": 53.84615384615385,\n",
       " 'Let us deconstruct this complex conundrum into its constituent elements, meticulously unraveling its intricacies systemically. By examining each facet independently and synthesizing insights, we forge a path towards a comprehensive resolution, elucidating its hidden dimensions and illuminating the way to an optimal outcome.': 53.84615384615385,\n",
       " \"Let's methodically dissect this enigmatic challenge, meticulously unraveling its multifaceted complexities to forge a path towards a comprehensive resolution. By systematically examining each facet, illuminating its intricacies, and synthesizing insights, we endeavor to decode its hidden dimensions. Through this collaborative and methodical approach, we aim to decipher its complexities, forging a path towards a satisfactory conclusion while leaving no stone unturned.\": 53.84615384615385,\n",
       " \"Let's dissect this multifaceted conundrum into its constituent elements, meticulously unraveling its complexities systematically to forge a path towards a comprehensive resolution. Through a collaborative and methodical approach, we endeavor to illuminate the enigmatic nature of this challenge, forging a path towards a satisfactory conclusion. By examining each facet independently and synthesizing insights, we unlock its hidden dimensions, illuminating the way to an optimal outcome.\": 53.84615384615385,\n",
       " \"Let's break down this intricate conundrum into its constituent elements, unraveling each facet meticulously to deduce its underlying mechanisms. By isolating and comprehending its individual components, we can unlock its intricacies and illuminate its complexities, forging a path towards a comprehensive resolution. Through this systematic approach, we can uncover its hidden dimensions and decipher its enigmatic nature, ultimately forging a path towards a satisfactory conclusion.\": 53.84615384615385,\n",
       " \"Let's break it down into smaller problems and solve each one systematically to arrive at a comprehensive solution.\": 50.0,\n",
       " \"Let's consider this problem as a combination of smaller, more manageable components, and tackle them sequentially to arrive at the final solution.\": 50.0,\n",
       " \"Let's construct a framework for comprehending this multifaceted challenge, unraveling its intricacies systematically to attain a well-rounded grasp.\": 50.0,\n",
       " \"Let's dissect this problem incrementally, decomposing it into manageable parts. By addressing each component systematically, we aim to unravel its complexities and arrive at a comprehensive solution.\": 50.0,\n",
       " \"Let's break down this multifaceted challenge into its constituent components, unraveling its intricacies systematically to attain a comprehensive solution.\": 50.0,\n",
       " \"Let's address this intricate enigma by systematically dissecting its complexities. By isolating and comprehending its individual facets, we can unlock its intricacies and forge a path toward resolution.\": 50.0,\n",
       " \"Let's approach this intricate challenge by dissecting it into its constituent elements, meticulously comprehending each facet and working methodically towards a comprehensive resolution. Through this systematic approach, we can illuminate the complexities and forge a path to a satisfactory outcome.\": 50.0}"
      ]
     },
     "execution_count": 12,
     "metadata": {},
     "output_type": "execute_result"
    }
   ],
   "source": [
    "opro[str(len(opro))]"
   ]
  },
  {
   "cell_type": "markdown",
   "metadata": {},
   "source": [
    "### Testing optimized instruction on testing set"
   ]
  },
  {
   "cell_type": "code",
   "execution_count": 5,
   "metadata": {},
   "outputs": [],
   "source": [
    "from datasets import load_dataset\n",
    "from tqdm import tqdm\n",
    "\n",
    "# load gsm8k dataset\n",
    "SAMPLE_PERCENTAGE = 3.5/100\n",
    "gsm8k_dataset = load_dataset(\"gsm8k\", \"main\")\n",
    "testing_sample = gsm8k_dataset[\"test\"].shuffle(seed=42).select(range(200))\n",
    "best_instruction = \"Simplify this by systematically breaking it down and approaching it step by step using a rational approach\"\n",
    "\n",
    "def check_fast(actual, expected):\n",
    "    \"\"\"\n",
    "    Faster and simpler version of the check function.\n",
    "    \"\"\"\n",
    "    expected = expected.split(\"####\")[-1].strip()\n",
    "    return expected in actual\n",
    "\n",
    "def test_instruction(lm, ins, testing_sample):\n",
    "    score = 0\n",
    "    for i in tqdm(range(len(testing_sample))):\n",
    "        question = testing_sample[\"question\"][i]\n",
    "        answer = testing_sample[\"answer\"][i]\n",
    "        actual = lm(f\"{question}\\n{ins}\")\n",
    "        score += check_fast(actual, answer)\n",
    "    return score / len(testing_sample) * 100"
   ]
  },
  {
   "cell_type": "code",
   "execution_count": 6,
   "metadata": {},
   "outputs": [
    {
     "name": "stderr",
     "output_type": "stream",
     "text": [
      "100%|██████████| 200/200 [13:33<00:00,  4.07s/it]\n"
     ]
    },
    {
     "name": "stdout",
     "output_type": "stream",
     "text": [
      "No instruction:  85.5\n"
     ]
    },
    {
     "name": "stderr",
     "output_type": "stream",
     "text": [
      "100%|██████████| 200/200 [13:42<00:00,  4.11s/it]"
     ]
    },
    {
     "name": "stdout",
     "output_type": "stream",
     "text": [
      "With instruction:  85.5\n"
     ]
    },
    {
     "name": "stderr",
     "output_type": "stream",
     "text": [
      "\n"
     ]
    }
   ],
   "source": [
    "# Testing instruction with gpt (no ins vs ins)\n",
    "from openai import OpenAI\n",
    "import utils\n",
    "client = OpenAI(api_key=utils.get_OPENAI_API_KEY_DJ())\n",
    "def get_chat_completion(prompt, model=\"gpt-3.5-turbo-0125\"):\n",
    "    messages = [{\"role\": \"user\", \"content\": prompt}]\n",
    "    response = client.chat.completions.create(\n",
    "        model=model,\n",
    "        messages=messages,\n",
    "        temperature=0,\n",
    "    )\n",
    "    return response.choices[0].message.content\n",
    "\n",
    "print(\"No instruction: \", test_instruction(get_chat_completion, \"\", testing_sample))\n",
    "print(\"With instruction: \", test_instruction(get_chat_completion, best_instruction, testing_sample))"
   ]
  },
  {
   "cell_type": "code",
   "execution_count": 9,
   "metadata": {},
   "outputs": [
    {
     "name": "stderr",
     "output_type": "stream",
     "text": [
      "100%|██████████| 200/200 [04:21<00:00,  1.31s/it]\n"
     ]
    },
    {
     "name": "stdout",
     "output_type": "stream",
     "text": [
      "No instruction:  18.5\n"
     ]
    },
    {
     "name": "stderr",
     "output_type": "stream",
     "text": [
      "100%|██████████| 200/200 [08:12<00:00,  2.46s/it]"
     ]
    },
    {
     "name": "stdout",
     "output_type": "stream",
     "text": [
      "With instruction:  24.5\n"
     ]
    },
    {
     "name": "stderr",
     "output_type": "stream",
     "text": [
      "\n"
     ]
    }
   ],
   "source": [
    "# Testing instruction with ollama (no ins vs ins)\n",
    "from langchain_community.llms import Ollama\n",
    "from requests import ReadTimeout\n",
    "\n",
    "llm = Ollama(model=\"gemma:2b\", temperature=0, num_gpu = 40, timeout=30)  # for scorerllm\n",
    "def lm_ollama(prompt):\n",
    "    temp = llm.timeout\n",
    "    while True:\n",
    "        try:\n",
    "            res = llm.invoke(prompt)\n",
    "            break\n",
    "        except ReadTimeout:\n",
    "            if llm.timeout > 120:\n",
    "                print(f\"Inference lasted for {llm.timeout} seconds. Stopping now.\")\n",
    "                break\n",
    "            llm.timeout *= 2\n",
    "            print(f\"### ReadTimeout. Trying again with Timeout: {llm.timeout} seconds ###\")\n",
    "        except Exception as e:\n",
    "            print(f\"### {e} ###\")\n",
    "            break\n",
    "    llm.timeout = temp\n",
    "    return res\n",
    "\n",
    "print(\"No instruction: \", test_instruction(lm_ollama, \"\", testing_sample))\n",
    "print(\"With instruction: \", test_instruction(lm_ollama, best_instruction, testing_sample))"
   ]
  },
  {
   "cell_type": "code",
   "execution_count": 13,
   "metadata": {},
   "outputs": [
    {
     "name": "stderr",
     "output_type": "stream",
     "text": [
      "100%|██████████| 200/200 [08:48<00:00,  2.64s/it]\n"
     ]
    },
    {
     "name": "stdout",
     "output_type": "stream",
     "text": [
      "gpt - No instruction:  85.0\n"
     ]
    },
    {
     "name": "stderr",
     "output_type": "stream",
     "text": [
      "100%|██████████| 200/200 [13:04<00:00,  3.92s/it]\n"
     ]
    },
    {
     "name": "stdout",
     "output_type": "stream",
     "text": [
      "gpt - With instruction:  84.0\n"
     ]
    },
    {
     "name": "stderr",
     "output_type": "stream",
     "text": [
      "100%|██████████| 200/200 [04:06<00:00,  1.23s/it]\n"
     ]
    },
    {
     "name": "stdout",
     "output_type": "stream",
     "text": [
      "gemma - No instruction:  18.0\n"
     ]
    },
    {
     "name": "stderr",
     "output_type": "stream",
     "text": [
      "100%|██████████| 200/200 [07:37<00:00,  2.29s/it]"
     ]
    },
    {
     "name": "stdout",
     "output_type": "stream",
     "text": [
      "gemma - With instruction:  27.500000000000004\n"
     ]
    },
    {
     "name": "stderr",
     "output_type": "stream",
     "text": [
      "\n"
     ]
    }
   ],
   "source": [
    "best_instruction = \"Let's solve this by breaking it down into subproblems\"\n",
    "print(\"gpt - No instruction: \", test_instruction(get_chat_completion, \"\", testing_sample))\n",
    "print(\"gpt - With instruction: \", test_instruction(get_chat_completion, best_instruction, testing_sample))\n",
    "print(\"gemma - No instruction: \", test_instruction(lm_ollama, \"\", testing_sample))\n",
    "print(\"gemma - With instruction: \", test_instruction(lm_ollama, best_instruction, testing_sample))"
   ]
  }
 ],
 "metadata": {
  "kernelspec": {
   "display_name": "Python 3",
   "language": "python",
   "name": "python3"
  },
  "language_info": {
   "codemirror_mode": {
    "name": "ipython",
    "version": 3
   },
   "file_extension": ".py",
   "mimetype": "text/x-python",
   "name": "python",
   "nbconvert_exporter": "python",
   "pygments_lexer": "ipython3",
   "version": "3.10.12"
  }
 },
 "nbformat": 4,
 "nbformat_minor": 2
}
