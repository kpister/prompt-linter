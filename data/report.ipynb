{
 "cells": [
  {
   "cell_type": "markdown",
   "metadata": {},
   "source": [
    "### % of repos scraped\n",
    "\n",
    "I already know it's ~59% but maybe I could show it graphically somehow??? Idk yet."
   ]
  },
  {
   "cell_type": "code",
   "execution_count": null,
   "metadata": {},
   "outputs": [],
   "source": []
  },
  {
   "cell_type": "markdown",
   "metadata": {},
   "source": [
    "### % representation of all prompts on GH\n",
    "\n",
    "IDEA: WILL PLOT THE PROMPTS PER FILE and extrapolate from there???"
   ]
  },
  {
   "cell_type": "code",
   "execution_count": null,
   "metadata": {},
   "outputs": [],
   "source": []
  },
  {
   "cell_type": "markdown",
   "metadata": {},
   "source": [
    "### % of prompts found per file\n",
    "\n",
    "⚠️⚠️⚠️ STILL WORKING ON MANUALLY MARKING THE PROMPTS!!!"
   ]
  },
  {
   "cell_type": "markdown",
   "metadata": {},
   "source": []
  }
 ],
 "metadata": {
  "language_info": {
   "name": "python"
  }
 },
 "nbformat": 4,
 "nbformat_minor": 2
}
