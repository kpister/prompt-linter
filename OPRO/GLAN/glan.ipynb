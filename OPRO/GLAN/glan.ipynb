{
 "cells": [
  {
   "cell_type": "markdown",
   "metadata": {},
   "source": [
    "### Generalized Intruction Tuning"
   ]
  },
  {
   "cell_type": "code",
   "execution_count": 19,
   "metadata": {},
   "outputs": [
    {
     "name": "stdout",
     "output_type": "stream",
     "text": [
      "{\n",
      "  \"Communication\": {\n",
      "    \"Technical Writing\": [\"Email Writing\", \"Project Proposals\"],\n",
      "    \"Business Communication\": [],\n",
      "    \"Interpersonal Communication\": []\n",
      "  },\n",
      "  \"Project Management\": {\n",
      "    \"Project Planning\": [\"Project Scope\", \"Project Timeline\"],\n",
      "    \"Project Execution\": [\"Task Management\", \"Resource Allocation\"],\n",
      "    \"Project Evaluation\": [\"Project Success Metrics\", \"Project Reporting\"]\n",
      "  },\n",
      "  \"Computer Science\": {\n",
      "    \"Software Engineering\": [\"Project Management\", \"Software Development\"],\n",
      "    \"Data Science\": [],\n",
      "    \"Artificial Intelligence\": []\n",
      "  }\n",
      "}\n"
     ]
    }
   ],
   "source": [
    "\"\"\"\n",
    "Pseudocode:\n",
    "D ← build_taxonomy() ▷ build a taxonomy and return a list of disciplines (Section 2.1)\n",
    "L ← ∅\n",
    "for each discipline d ∈ D do\n",
    "    S ← generate_subjects(d) ▷ Obtain a list of subjects in d (Section 2.2)\n",
    "    for each subject s ∈ S do\n",
    "        A ← generate_syllabus(s, d) ▷ Return syllabus A for s (Section 2.3)\n",
    "        C, K ← extract_class_details(A) ▷ Extract class sessions and key concepts (Section 2.3)\n",
    "    Q ← generate_instructions(A, C, K, d) ▷ Generate instructions by sampling class\n",
    "    sessions and key concepts (Section 2.4)\n",
    "    L ← L ∪ Q\n",
    "    end for\n",
    "end for\n",
    "return L\n",
    "\"\"\"\n",
    "\n",
    "import google.generativeai as genai\n",
    "import utils\n",
    "\n",
    "# Setting llms\n",
    "genai.configure(api_key=utils.get_GEMINI_API_KEY())\n",
    "model = genai.GenerativeModel(\n",
    "    \"gemini-pro\",\n",
    "    generation_config=genai.GenerationConfig(temperature=0, max_output_tokens=2048),\n",
    ")\n",
    "\n",
    "\n",
    "prompt = \"Write an email to your boss explaining the new project you are working on.\"\n",
    "\n",
    "\n",
    "def build_taxonomy(prompt):\n",
    "    \"\"\"\n",
    "    Build a taxonomy and return a list of disciplines\n",
    "    \"\"\"\n",
    "    template = \"\"\"You are a teacher at a university. You are tasked with creating a new course. The course is about the prompt provided: \"{prompt}\".\n",
    "\n",
    "    What are the fields of human knowledge that are relevant to the prompt? What are the subfields of these fields? What disciplines fall under those subfields?\n",
    "\n",
    "    Respond using a JSON object. For example, the prompt provided is \"How strong is the gravitational force between the Earth and the Moon?\" The response would be:\n",
    "\n",
    "    {{\n",
    "        \"Physics\": {{\n",
    "            \"Classical Mechanics\": [\"Gravitational Force\"],\n",
    "            \"Quantum Mechanics\": [],\n",
    "            \"Thermodynamics\": []\n",
    "        }},\n",
    "        \"Mathematics\": {{\n",
    "            \"Calculus\": [\"Derivatives\", \"Integrals\"],\n",
    "            \"Linear Algebra\": []\n",
    "        }},\n",
    "        \"Astronomy\": {{\n",
    "            \"Astrophysics\": []\n",
    "            \"Planetary Science\": []\n",
    "            \"Cosmology\": []\n",
    "        }}\n",
    "    }}\n",
    "    \n",
    "    Take a deep breath and think step-by-step.\n",
    "\n",
    "    Respond with only a JSON object. Do not include any other text in your response. Do not respond with markdown. Do not surround response in backticks.\n",
    "    \"\"\"\n",
    "    response = (\n",
    "        model.generate_content(template.format(prompt=prompt))\n",
    "        .candidates[0]\n",
    "        .content.parts[0]\n",
    "        .text\n",
    "    )\n",
    "    return response\n",
    "\n",
    "\n",
    "print(build_taxonomy(prompt))"
   ]
  }
 ],
 "metadata": {
  "kernelspec": {
   "display_name": "Python 3",
   "language": "python",
   "name": "python3"
  },
  "language_info": {
   "codemirror_mode": {
    "name": "ipython",
    "version": 3
   },
   "file_extension": ".py",
   "mimetype": "text/x-python",
   "name": "python",
   "nbconvert_exporter": "python",
   "pygments_lexer": "ipython3",
   "version": "3.10.12"
  }
 },
 "nbformat": 4,
 "nbformat_minor": 2
}
