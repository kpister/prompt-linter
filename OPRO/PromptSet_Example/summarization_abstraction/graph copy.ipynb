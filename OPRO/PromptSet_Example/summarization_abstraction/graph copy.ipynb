{
 "cells": [
  {
   "cell_type": "code",
   "execution_count": 1,
   "metadata": {},
   "outputs": [
    {
     "data": {
      "text/plain": [
       "{'**Instruction**: Summarize the following text:\\n\\n    **{TEXT}**\\n\\n    **Example:**\\n\\n    * Summarize the following text:\\n    > The United States is a large country with a diverse population. It is made up of 50 states, each with its own unique culture and history. The United States is a global superpower and has a significant influence on world affairs.\\n\\n    ### Answer: ###\\n    * The United States is a large, diverse country with 50 states, each with its own unique culture and history. As a global superpower, the United States exerts significant influence on world affairs.\\n\\n    **Additional Instructions:**\\n\\n    * Please ensure that your summary captures the key points of the text.\\n    * Use clear and concise language.\\n    * You MUST adhere to the specified word limit.\\n    * You will be penalized if your summary is not responsive to the text.': 39.81786301613618,\n",
       " '#### Instruction ####\\n\\n    Summarize the following text:\\n\\n    #### Input ####\\n\\n    {TEXT}\\n\\n    #### Expected Response Format ####\\n\\n    [Your summary]': 38.949425408233964,\n",
       " 'Please summarize the following text: {TEXT}. Be concise and clear.': 38.74737813077196,\n",
       " 'Please summarize the following text: {TEXT}': 37.89055889877251,\n",
       " 'Please summarize the following text: {TEXT}. You are a summarization expert.': 36.61759236252368,\n",
       " 'Please summarize the following text: {TEXT}. Take a deep breath.': 36.41661814162045,\n",
       " '###Instruction###\\n    Provide a concise summary of the following text:\\n    {TEXT}\\n    ###Example###\\n    Input: Here is the provided request: \"Summarize this research paper: Effects of Climate Change on Marine Ecosystems\"\\n    Output: Marine ecosystems face significant threats from climate change, including rising sea temperatures, ocean acidification, and altered weather patterns. These changes disrupt ecological balances, leading to loss of biodiversity, shifts in species distribution, and reduced productivity.\\n    ###Question###\\n    Your task is to generate a concise and informative summary of the provided text. Ensure your response is clear, concise, and free from errors. You MUST adhere to the formatting guidelines and provide a single cohesive summary. If you fail to meet these requirements, you will be penalized.\\n    Answer in a natural, human-like manner and ensure your response is comprehensive and covers the main points of the provided text.': 32.943282092376876,\n",
       " 'Please summarize the following text: {TEXT}. You are a helpful assistant.': 32.13043934379177,\n",
       " 'Please summarize the following text: {TEXT}. Think step by step.': 31.163017474410175,\n",
       " \"###Instruction###\\n\\n    Summarize the following text:\\n\\n    ###Input###\\n    {TEXT}\\n\\n    ###Your task is###\\n\\n    Generate a concise and accurate summary of the input text.\\n\\n    ###You MUST###\\n\\n    * Write in clear and concise language.\\n    * Cover all the main points of the text.\\n    * Keep the summary within 500 words.\\n\\n    ###You will be penalized if###\\n\\n    * Your summary is incomplete or inaccurate.\\n    * Your summary exceeds the 500-word limit.\\n\\n    ###Answer in a natural, human-like manner###\\n\\n    Pretend you are a highly skilled human summarizing the text.\\n\\n    ###TIP###\\n    I'm going to tip $5 for a better summary!\": 25.071635536288145,\n",
       " '###Instruction###\\n    Your task is to summarize the following text:\\n\\n    {TEXT}\\n\\n    You MUST answer in a natural, human-like manner. You will be penalized for not following these instructions.': 24.52100279257565,\n",
       " 'Please summarize the following text: {TEXT}. Explain your answer in simple terms.': 18.995082701785908}"
      ]
     },
     "execution_count": 1,
     "metadata": {},
     "output_type": "execute_result"
    }
   ],
   "source": [
    "import statistics\n",
    "import matplotlib.pyplot as plt\n",
    "import json\n",
    "SAVE_PATH = \"0/training_results.json\"\n",
    "CHOSEN_PROMPT = 'Please summarize the following text: {TEXT}'  # somewhere in promptset. Will find idx later\n",
    "\n",
    "# load opro.json\n",
    "with open(SAVE_PATH) as f:\n",
    "    opro_results = json.load(f)\n",
    "\n",
    "opro_results[\"0\"]"
   ]
  },
  {
   "cell_type": "code",
   "execution_count": 2,
   "metadata": {},
   "outputs": [
    {
     "data": {
      "text/plain": [
       "<matplotlib.legend.Legend at 0x7f59b8ddbdc0>"
      ]
     },
     "execution_count": 2,
     "metadata": {},
     "output_type": "execute_result"
    },
    {
     "data": {
      "image/png": "[encoded data removed]",
      "text/plain": [
       "<Figure size 640x480 with 1 Axes>"
      ]
     },
     "metadata": {},
     "output_type": "display_data"
    }
   ],
   "source": [
    "step_to_accuracy = {\n",
    "    step: (\n",
    "        statistics.mean(opro_results[step].values()),\n",
    "        max(opro_results[step].values()),\n",
    "        min(opro_results[step].values()),\n",
    "    )\n",
    "    for step in opro_results\n",
    "}\n",
    "\n",
    "# Plot step to accuracy as a continuous line graph, including stdevs as highlighted error bars\n",
    "fig, ax = plt.subplots()\n",
    "ax.errorbar(\n",
    "    step_to_accuracy.keys(),\n",
    "    [accuracy[0] for accuracy in step_to_accuracy.values()],\n",
    "    yerr=[\n",
    "        [accuracy[0] - accuracy[2] for accuracy in step_to_accuracy.values()],  # Lower errors\n",
    "        [accuracy[1] - accuracy[0] for accuracy in step_to_accuracy.values()]   # Upper errors\n",
    "    ],\n",
    "    fmt=\"o\",\n",
    ")\n",
    "\n",
    "ax.set_xticks([step for step in step_to_accuracy.keys() if int(step) % 5 == 0])\n",
    "ax.set_xlabel(\"Step\")\n",
    "ax.set_ylabel(\"Accuracy\")\n",
    "ax.set_title(\"Step to Accuracy\")\n",
    "\n",
    "# Add a pink point to the plot\n",
    "ax.plot(0, opro_results[\"0\"][CHOSEN_PROMPT], 'o', color='pink')\n",
    "\n",
    "# Add legend to show pink dot is initial prompt accuracy, blue dot is avg prompt accuracy\n",
    "ax.legend([\"Initial Prompt Accuracy\", \"Average Prompt Accuracy\"], loc=\"lower right\")\n"
   ]
  },
  {
   "cell_type": "code",
   "execution_count": 3,
   "metadata": {},
   "outputs": [
    {
     "data": {
      "text/plain": [
       "{'**Instruction**: Summarize the following text:\\n\\n    **{TEXT}**\\n\\n    **Example:**\\n\\n    * Summarize the following text:\\n    > The United States is a large country with a diverse population. It is made up of 50 states, each with its own unique culture and history. The United States is a global superpower and has a significant influence on world affairs.\\n\\n    ### Answer: ###\\n    * The United States is a large, diverse country with 50 states, each with its own unique culture and history. As a global superpower, the United States exerts significant influence on world affairs.\\n\\n    **Additional Instructions:**\\n\\n    * Please ensure that your summary captures the key points of the text.\\n    * Use clear and concise language.\\n    * You MUST adhere to the specified word limit.\\n    * You will be penalized if your summary is not responsive to the text.': 39.81786301613618,\n",
       " '#### Instruction ####\\n\\n    Summarize the following text:\\n\\n    #### Input ####\\n\\n    {TEXT}\\n\\n    #### Expected Response Format ####\\n\\n    [Your summary]': 38.949425408233964,\n",
       " 'Please summarize the following text: {TEXT}. Be concise and clear.': 38.74737813077196,\n",
       " 'Please summarize the following text: {TEXT}': 37.89055889877251,\n",
       " 'Please summarize the following text: {TEXT}. You are a summarization expert.': 36.61759236252368,\n",
       " 'Summarize the following text: {TEXT}. Ensure your response is a clear, concise, and accurate summary that covers all the main points while using natural language. You MUST adhere to the specified word limit and maintain a cohesive summary.': 36.49521359247604,\n",
       " 'Please summarize the following text: {TEXT}. Take a deep breath.': 36.41661814162045,\n",
       " '###Instruction###\\nProvide a concise and informative summary of the following text:\\n{TEXT}\\n###Example###\\nInput: Text to be summarized\\nOutput: Output of the summary\\n###Question###\\nYour task is to generate a clear, concise, and accurate summary of the provided text while ensuring readability, clarity, and adherence to the specified word limit.\\n': 34.315644774737194,\n",
       " 'Summarize the following text: {TEXT}. Use a clear and concise language, providing a comprehensive and accurate summary while adhering to the specified word limit.': 34.29040216260827,\n",
       " 'Summarize the following text: {TEXT}. Ensure your response is a clear, concise, and accurate summary that captures the main points, using clear and natural language. Adhere to the specified word limit, and consider the complexity and coherence of the original text when crafting your summary.': 33.94058267554925,\n",
       " '**Instruction**: Write a concise and accurate summary of the following text: {TEXT}. Ensure your response is clear, concise, and free from errors. Please adhere to the specified word limit while maintaining a natural, human-like tone and consider the complexity and coherence of the original text when crafting your summary.': 33.796707201429776,\n",
       " 'Summarize the following text: {TEXT}. Ensure your response is a concise and accurate summary that captures the main points, using clear and natural language. Adhere to the specified word limit, considering the complexity and coherence of the original text. Avoid any errors and maintain a human-like tone.': 33.592370132290895,\n",
       " '###Instruction###\\r\\n    Provide a concise and informative summary of the following text:\\r\\n    {TEXT}\\r\\n    ###Example###\\r\\n    Input: Text to be summarized\\r\\n    Output: Output of the summary\\r\\n    ###Question###\\r\\n    Your task is to generate a clear, concise, and accurate summary of the provided text while ensuring readability, clarity, and adherence to the specified word limit.': 33.429341117691926,\n",
       " 'Summarize the following text: {TEXT}. Ensure your response is clear, concise, and accurate, covering all the main points while maintaining a natural, human-like tone. Please adhere to the specified word limit and avoid any errors.': 33.414240627087835,\n",
       " '**Instruction**: Please provide a concise and accurate summary of the following text: {TEXT}. Ensure your response is clear, concise, and free from errors. You MUST adhere to the specified word limit while maintaining a natural, human-like tone, and consider the complexity and coherence of the original text when crafting your summary.': 33.069083195411245,\n",
       " 'Please summarize the following text: {TEXT}. Ensure your response is a concise, accurate, and comprehensive summary that captures the main points, using clear and natural language. Adhere to the specified word limit while maintaining readability, clarity, and coherence with the original text. Pretend you are a highly skilled human summarizing the text, considering the complexity and coherence of the original text when crafting your summary.': 33.04316195670542,\n",
       " '### Instruction ###\\nProvide a clear, concise, and accurate summary of the following text:\\n{TEXT}\\n### Example ###\\nInput: Text to be summarized\\nOutput: Output of the summary\\n### Question ###\\nYour task is to generate a concise, accurate, and comprehensive summary of the provided text while ensuring readability, clarity, and adherence to the specified word limit.\\nPlease adhere to the formatting guidelines and provide a single cohesive summary. Consider the complexity and coherence of the original text when crafting your summary.': 32.991163253117655,\n",
       " 'Summarize the following text: {TEXT}. Ensure your response is clear, concise, and accurate, covering all the main points while maintaining a natural, human-like tone. Adhere to the specified word limit and avoid any errors.': 32.97043442540944,\n",
       " '###Instruction###\\n    Provide a concise summary of the following text:\\n    {TEXT}\\n    ###Example###\\n    Input: Here is the provided request: \"Summarize this research paper: Effects of Climate Change on Marine Ecosystems\"\\n    Output: Marine ecosystems face significant threats from climate change, including rising sea temperatures, ocean acidification, and altered weather patterns. These changes disrupt ecological balances, leading to loss of biodiversity, shifts in species distribution, and reduced productivity.\\n    ###Question###\\n    Your task is to generate a concise and informative summary of the provided text. Ensure your response is clear, concise, and free from errors. You MUST adhere to the formatting guidelines and provide a single cohesive summary. If you fail to meet these requirements, you will be penalized.\\n    Answer in a natural, human-like manner and ensure your response is comprehensive and covers the main points of the provided text.': 32.943282092376876,\n",
       " 'Summarize the following text: {TEXT}. Create a concise and accurate summary that captures the main points, using clear and natural language. Adhere to the specified word limit, ensuring your response is readable, clear, and maintains a human-like tone. Consider the complexity and coherence of the original text when crafting your summary.': 32.903157361317334}"
      ]
     },
     "execution_count": 3,
     "metadata": {},
     "output_type": "execute_result"
    }
   ],
   "source": [
    "opro_results[str(len(opro_results) - 1)]"
   ]
  },
  {
   "cell_type": "code",
   "execution_count": 4,
   "metadata": {},
   "outputs": [
    {
     "name": "stdout",
     "output_type": "stream",
     "text": [
      "**Instruction**: Summarize the following text:\n",
      "\n",
      "    **{TEXT}**\n",
      "\n",
      "    **Example:**\n",
      "\n",
      "    * Summarize the following text:\n",
      "    > The United States is a large country with a diverse population. It is made up of 50 states, each with its own unique culture and history. The United States is a global superpower and has a significant influence on world affairs.\n",
      "\n",
      "    ### Answer: ###\n",
      "    * The United States is a large, diverse country with 50 states, each with its own unique culture and history. As a global superpower, the United States exerts significant influence on world affairs.\n",
      "\n",
      "    **Additional Instructions:**\n",
      "\n",
      "    * Please ensure that your summary captures the key points of the text.\n",
      "    * Use clear and concise language.\n",
      "    * You MUST adhere to the specified word limit.\n",
      "    * You will be penalized if your summary is not responsive to the text.\n"
     ]
    }
   ],
   "source": [
    "best_instruction = max(\n",
    "    opro_results[str(len(opro_results) - 1)], key=opro_results[str(len(opro_results) - 1)].get\n",
    ")\n",
    "print(best_instruction)"
   ]
  },
  {
   "cell_type": "code",
   "execution_count": null,
   "metadata": {},
   "outputs": [],
   "source": []
  }
 ],
 "metadata": {
  "kernelspec": {
   "display_name": "Python 3",
   "language": "python",
   "name": "python3"
  },
  "language_info": {
   "codemirror_mode": {
    "name": "ipython",
    "version": 3
   },
   "file_extension": ".py",
   "mimetype": "text/x-python",
   "name": "python",
   "nbconvert_exporter": "python",
   "pygments_lexer": "ipython3",
   "version": "3.10.12"
  }
 },
 "nbformat": 4,
 "nbformat_minor": 2
}
