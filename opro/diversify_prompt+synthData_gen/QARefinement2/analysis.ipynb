{
 "cells": [
  {
   "cell_type": "code",
   "execution_count": 7,
   "metadata": {},
   "outputs": [
    {
     "data": {
      "text/plain": [
       "(18,\n",
       " ['Help summarize the article.: PLACEHOLDER',\n",
       "  'You are a dad-joke assistant. Reply with a funny dad-joke related to the transcription below:\\nPLACEHOLDER',\n",
       "  'Please take nicely formatted notes on the following lecture transcript:\\n\\nPLACEHOLDER',\n",
       "  'Review this legal document excerpt for any elements that seem legally unfair under US law \"PLACEHOLDER\"',\n",
       "  'In one word only tell me the mood or sentiment of the following text? \"PLACEHOLDER\"',\n",
       "  'Make a code review of the changes made in this diff: PLACEHOLDER',\n",
       "  'You are a great Ingredient Parser who can extract ingredients from a given food label text.\\n    Extract the ingredients from the following food_label:\\n    FOOD LABEL: {food_label}',\n",
       "  'Write a concise summary of the following:\\n    \"{text}\"\\n    in point form. CONCISE SUMMARY:',\n",
       "  'Please come up with a title for a YouTube video on the  {subject}.',\n",
       "  'explain the following topic to a UG student in a conventional way.\\n\\n Topic: PLACEHOLDER',\n",
       "  'Please provide a detailed character description for the following character type:\\n{char_type}\\n\\nFeel free to include their personality, appearance, background, or any other relevant details.',\n",
       "  'Summarize the text below. The summary should be 300 characters max and describes what this paper is about.\\n\\n    PLACEHOLDER\\n    ',\n",
       "  'provide me a small description in markdown for each of the following PLACEHOLDER',\n",
       "  'Break down the claim into sub-claims: PLACEHOLDER',\n",
       "  'generate a sample graphic novel dialogue for the following events. It is ok to have major chunks of text when I (the main character is talking to myself) PLACEHOLDER',\n",
       "  'Identify the keypoints for meeting minutes in the following: {context} \\n\\n Key points:\\n-',\n",
       "  'Describe the product: PLACEHOLDER',\n",
       "  'Summarize the following room descriptions into a 300-word layout: PLACEHOLDER'])"
      ]
     },
     "execution_count": 7,
     "metadata": {},
     "output_type": "execute_result"
    }
   ],
   "source": [
    "import os, json\n",
    "import numpy as np\n",
    "\n",
    "lst = []\n",
    "with open(\"testingSetScores.json\", \"r\") as f:\n",
    "    data = json.load(f)\n",
    "    for k in data:\n",
    "        initial_prompt_score = list(data[k][\"initial_prompt\"].values())[0]\n",
    "        optimized_prompt_score = list(data[k][\"optimized_prompt\"].values())[0]\n",
    "        initial_prompt = list(data[k][\"initial_prompt\"].keys())[0]\n",
    "        optimized_prompt = list(data[k][\"optimized_prompt\"].keys())[0]\n",
    "                \n",
    "        delta = optimized_prompt_score - initial_prompt_score\n",
    "        # NOTE: 5 prompts misclassified as improved. Although delta > 0, the initial prompt == optimized prompt.\n",
    "        # if initial_prompt == optimized_prompt and delta > 0:\n",
    "        #     count += 1\n",
    "        #     lst.append(k)\n",
    "        \n",
    "        # if delta > 0 and initial_prompt != optimized_prompt:\n",
    "        #     count += 1\n",
    "        #     lst.append(k)\n",
    "\n",
    "        if -0.1 <= delta <= 0.1:\n",
    "            lst.append(k)\n",
    "\n",
    "len(lst), lst"
   ]
  },
  {
   "cell_type": "code",
   "execution_count": 4,
   "metadata": {},
   "outputs": [
    {
     "name": "stdout",
     "output_type": "stream",
     "text": [
      "[-8.57142857142857, 55.714285714285715, 0.0, -1.4285714285714164, -1.4285714285714448, -7.142857142857139, 1.4285714285714164, 0.0, 2.857142857142861, 42.85714285714286, 7.142857142857139, 1.4285714285714164, 21.42857142857143, 0.0, 0.0, 5.714285714285708, 0.0, 0.0, -5.714285714285708, 0.0, 28.571428571428573, -1.4285714285714448, 2.857142857142861, 44.28571428571429, 0.0, 0.0, 0.0, 1.4285714285714164, -1.4285714285714164, 1.4285714285714164, 0.0, 6.060606060606062, 7.142857142857153, 0.0, 0.0, 12.857142857142856, 0.0, 2.857142857142861, 31.42857142857143, 0.0, 0.0, 0.0, 7.142857142857139, 0.0]\n",
      "Avg change: 5.85202676111767\n",
      "Std: 13.688235744229695\n",
      "95% CI: 4.044615196857299\n"
     ]
    }
   ],
   "source": [
    "import os, json\n",
    "import numpy as np\n",
    "\n",
    "# walk = sorted(os.walk(\".\"), key=lambda x: x[0])[::-1]\n",
    "# for dirpath, dirnames, filenames in walk:\n",
    "#     if \"testingSetScores.json\" in filenames:\n",
    "#         data = json.load(open(os.path.join(dirpath, \"testingSetScores.json\"), \"r\"))\n",
    "#         # sort data\n",
    "#         data = dict(sorted(data.items(), key=lambda x: x[1][\"ID\"]))\n",
    "#         deltas = []\n",
    "#         for k in data:\n",
    "#             initial_prompt_score = list(data[k][\"initial_prompt\"].values())[0]\n",
    "#             optimized_prompt_score = list(data[k][\"optimized_prompt\"].values())[0]\n",
    "#             delta = optimized_prompt_score - initial_prompt_score\n",
    "#             deltas.append(delta)\n",
    "            \n",
    "#         print(deltas)\n",
    "#         avg_change = sum(deltas) / len(deltas)\n",
    "#         print(f\"Avg change: {dirpath}: {avg_change}\")\n",
    "        \n",
    "with open(\"testingSetScores.json\", \"r\") as f:\n",
    "    data = json.load(f)\n",
    "    deltas = []\n",
    "    for k in data:\n",
    "        initial_prompt_score = list(data[k][\"initial_prompt\"].values())[0]\n",
    "        optimized_prompt_score = list(data[k][\"optimized_prompt\"].values())[0]\n",
    "        delta = optimized_prompt_score - initial_prompt_score\n",
    "        deltas.append(delta)\n",
    "        \n",
    "    print(deltas)\n",
    "    avg_change = np.mean(deltas)\n",
    "    std = np.std(deltas)\n",
    "    ci = 1.96 * std / np.sqrt(len(deltas))\n",
    "    print(f\"Avg change: {avg_change}\")\n",
    "    print(f\"Std: {std}\")\n",
    "    print(f\"95% CI: {ci}\")\n",
    "    \n",
    "    # Plot the points on a vertical line with the confidence interval\n",
    "    # import matplotlib.pyplot as plt\n",
    "    # xs = np.zeros(len(deltas))\n",
    "    # plt.figure()\n",
    "    # plt.errorbar(xs, deltas, yerr=ci, fmt='o')\n",
    "    # plt.show()"
   ]
  },
  {
   "cell_type": "code",
   "execution_count": 5,
   "metadata": {},
   "outputs": [
    {
     "name": "stdout",
     "output_type": "stream",
     "text": [
      "Number of prompts that worsened: 7\n",
      "Number of prompts that improved: 19\n",
      "Number of prompts that stayed the same: 18\n"
     ]
    }
   ],
   "source": [
    "temp = np.array(deltas)\n",
    "print(f\"Number of prompts that worsened: {len(temp[temp < 0])}\")\n",
    "print(f\"Number of prompts that improved: {len(temp[temp > 0])}\")\n",
    "print(f\"Number of prompts that stayed the same: {len(temp[temp == 0])}\")\n"
   ]
  },
  {
   "cell_type": "code",
   "execution_count": 6,
   "metadata": {},
   "outputs": [
    {
     "data": {
      "image/png": "[encoded data removed]",
      "text/plain": [
       "<Figure size 640x480 with 1 Axes>"
      ]
     },
     "metadata": {},
     "output_type": "display_data"
    }
   ],
   "source": [
    "import matplotlib.pyplot as plt\n",
    "plt.hist(deltas, bins=7)\n",
    "plt.xlabel(\"Improvement in Prompt Score\")\n",
    "plt.ylabel(\"Number of Prompts\")\n",
    "plt.title(\"Distribution of Prompt Score Improvements\")\n",
    "plt.show()"
   ]
  }
 ],
 "metadata": {
  "kernelspec": {
   "display_name": "Python 3",
   "language": "python",
   "name": "python3"
  },
  "language_info": {
   "codemirror_mode": {
    "name": "ipython",
    "version": 3
   },
   "file_extension": ".py",
   "mimetype": "text/x-python",
   "name": "python",
   "nbconvert_exporter": "python",
   "pygments_lexer": "ipython3",
   "version": "3.10.12"
  }
 },
 "nbformat": 4,
 "nbformat_minor": 2
}
