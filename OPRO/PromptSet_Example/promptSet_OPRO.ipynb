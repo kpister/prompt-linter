{
 "cells": [
  {
   "cell_type": "code",
   "execution_count": 1,
   "metadata": {},
   "outputs": [
    {
     "data": {
      "text/plain": [
       "'What is the capital of {place}?'"
      ]
     },
     "execution_count": 1,
     "metadata": {},
     "output_type": "execute_result"
    }
   ],
   "source": [
    "from datasets import load_dataset, Dataset\n",
    "import sys, os, json\n",
    "sys.path.append(os.path.join(os.getcwd(), '..'))\n",
    "from OPRO import OPRO\n",
    "import pandas as pd\n",
    "from tqdm.auto import tqdm, trange\n",
    "\n",
    "opro = OPRO([\"gemini\", \"gemma\", \"anthropic\"])\n",
    "dataset = load_dataset(\"pisterlabs/promptset\").filter(lambda row: len(row[\"prompts\"]) > 0)[\"train\"]\n",
    "CHOSEN_PROMPT = dataset[\"prompts\"][4][0]\n",
    "CHOSEN_PROMPT"
   ]
  },
  {
   "cell_type": "markdown",
   "metadata": {},
   "source": [
    "### Original Dataset"
   ]
  },
  {
   "cell_type": "code",
   "execution_count": 2,
   "metadata": {},
   "outputs": [
    {
     "data": {
      "text/html": [
       "<div>\n",
       "<style scoped>\n",
       "    .dataframe tbody tr th:only-of-type {\n",
       "        vertical-align: middle;\n",
       "    }\n",
       "\n",
       "    .dataframe tbody tr th {\n",
       "        vertical-align: top;\n",
       "    }\n",
       "\n",
       "    .dataframe thead th {\n",
       "        text-align: right;\n",
       "    }\n",
       "</style>\n",
       "<table border=\"1\" class=\"dataframe\">\n",
       "  <thead>\n",
       "    <tr style=\"text-align: right;\">\n",
       "      <th></th>\n",
       "      <th>question</th>\n",
       "      <th>answer</th>\n",
       "      <th>type</th>\n",
       "    </tr>\n",
       "  </thead>\n",
       "  <tbody>\n",
       "    <tr>\n",
       "      <th>0</th>\n",
       "      <td>What is the capital of Abkhazia?</td>\n",
       "      <td>Sukhumi</td>\n",
       "      <td>countryCapital</td>\n",
       "    </tr>\n",
       "    <tr>\n",
       "      <th>1</th>\n",
       "      <td>What is the capital of Afghanistan?</td>\n",
       "      <td>Kabul</td>\n",
       "      <td>countryCapital</td>\n",
       "    </tr>\n",
       "    <tr>\n",
       "      <th>2</th>\n",
       "      <td>What is the capital of Akrotiri and Dhekelia?</td>\n",
       "      <td>Episkopi Cantonment</td>\n",
       "      <td>countryCapital</td>\n",
       "    </tr>\n",
       "    <tr>\n",
       "      <th>3</th>\n",
       "      <td>What is the capital of Albania?</td>\n",
       "      <td>Tirana</td>\n",
       "      <td>countryCapital</td>\n",
       "    </tr>\n",
       "    <tr>\n",
       "      <th>4</th>\n",
       "      <td>What is the capital of Algeria?</td>\n",
       "      <td>Algiers</td>\n",
       "      <td>countryCapital</td>\n",
       "    </tr>\n",
       "  </tbody>\n",
       "</table>\n",
       "</div>"
      ],
      "text/plain": [
       "                                        question               answer  \\\n",
       "0               What is the capital of Abkhazia?              Sukhumi   \n",
       "1            What is the capital of Afghanistan?                Kabul   \n",
       "2  What is the capital of Akrotiri and Dhekelia?  Episkopi Cantonment   \n",
       "3                What is the capital of Albania?               Tirana   \n",
       "4                What is the capital of Algeria?              Algiers   \n",
       "\n",
       "             type  \n",
       "0  countryCapital  \n",
       "1  countryCapital  \n",
       "2  countryCapital  \n",
       "3  countryCapital  \n",
       "4  countryCapital  "
      ]
     },
     "execution_count": 2,
     "metadata": {},
     "output_type": "execute_result"
    }
   ],
   "source": [
    "original_data = pd.read_csv(\"country-list.csv\")\n",
    "original_data[\"country\"] = original_data[\"country\"].apply(lambda x: CHOSEN_PROMPT.format(place=x))\n",
    "original_data.columns = [\"question\", \"answer\", \"type\"]\n",
    "original_data.head()"
   ]
  },
  {
   "cell_type": "markdown",
   "metadata": {},
   "source": [
    "### Generating Synthetic Data"
   ]
  },
  {
   "cell_type": "code",
   "execution_count": 3,
   "metadata": {},
   "outputs": [
    {
     "data": {
      "text/plain": [
       "[{'question': 'What is the capital of Benin?', 'answer': 'Porto-Novo'},\n",
       " {'question': 'What is the capital of Aruba?', 'answer': 'Oranjestad'},\n",
       " {'question': 'What is the capital of Togo?', 'answer': 'Lome'},\n",
       " {'question': 'What is the capital of Macau SAR?', 'answer': 'Macau'},\n",
       " {'question': 'What is the capital of Afghanistan?', 'answer': 'Kabul'},\n",
       " {'question': 'What is the capital of Lithuania?', 'answer': 'Vilnius'},\n",
       " {'question': 'What is the capital of Italy?', 'answer': 'Rome'},\n",
       " {'question': 'What is the capital of Artsakh?', 'answer': 'Stepanakert'},\n",
       " {'question': 'What is the capital of Albania?', 'answer': 'Tirana'},\n",
       " {'question': 'What is the capital of Armenia?', 'answer': 'Yerevan'},\n",
       " {'question': 'What is the capital of Central African Republic?',\n",
       "  'answer': 'Bangui'},\n",
       " {'question': 'What is the capital of Republic of Karelia?',\n",
       "  'answer': 'Petrozavodsk'},\n",
       " {'question': 'What is the capital of Antarctica?', 'answer': 'None'},\n",
       " {'question': 'What is the capital of Honduras?', 'answer': 'Tegucigalpa'},\n",
       " {'question': 'What is the capital of Estonia?', 'answer': 'Tallinn'},\n",
       " {'question': 'What is the capital of Israel?', 'answer': 'Jerusalem'},\n",
       " {'question': 'What is the capital of Bolivia?', 'answer': 'Sucre'},\n",
       " {'question': 'What is the capital of Austria?', 'answer': 'Vienna'},\n",
       " {'question': 'What is the capital of Albania?', 'answer': 'Tirana'},\n",
       " {'question': 'What is the capital of the Azores?', 'answer': 'Ponta Delgada'},\n",
       " {'question': 'What is the capital of Italy?', 'answer': 'Rome'},\n",
       " {'question': 'What is the capital of Kuwait?', 'answer': 'Kuwait City'},\n",
       " {'question': 'What is the capital of Guam?', 'answer': 'Hagatna'},\n",
       " {'question': 'What is the capital of Cuba?', 'answer': 'Havana'},\n",
       " {'question': 'What is the capital of Azerbaijan?', 'answer': 'Baku'},\n",
       " {'question': 'What is the capital of the Bahamas?', 'answer': 'Nassau'},\n",
       " {'question': 'What is the capital of Azerbaijan?', 'answer': 'Baku'},\n",
       " {'question': 'What is the capital of Abkhazia?', 'answer': 'Sukhumi'},\n",
       " {'question': 'What is the capital of Algeria?', 'answer': 'Algiers'},\n",
       " {'question': 'What is the capital of Tuvalu?', 'answer': 'Funafuti'},\n",
       " {'question': 'What is the capital of Armenia?', 'answer': 'Yerevan'},\n",
       " {'question': 'What is the capital of Canada?', 'answer': 'Ottawa'},\n",
       " {'question': 'What is the capital of Afghanistan?', 'answer': 'Kabul'},\n",
       " {'question': 'What is the capital of Guadeloupe?', 'answer': 'Basse-Terre'},\n",
       " {'question': 'What is the capital of Ajaria?', 'answer': 'Batumi'},\n",
       " {'question': 'What is the capital of Palau?', 'answer': 'Ngerulmud'},\n",
       " {'question': 'What is the capital of Albania?', 'answer': 'Tirana'},\n",
       " {'question': 'What is the capital of Kiribati?', 'answer': 'Tarawa'},\n",
       " {'question': 'What is the capital of Albania?', 'answer': 'Tirana'},\n",
       " {'question': 'What is the capital of Altamira Sequence?',\n",
       "  'answer': 'There is no capital because Altamira Sequence is a stratigraphic sequence, not a populated place.'},\n",
       " {'question': 'What is the capital of Acre?', 'answer': 'Acre'},\n",
       " {'question': 'What is the capital of Burkina Faso?', 'answer': 'Ouagadougou'},\n",
       " {'question': 'What is the capital of Senegal?', 'answer': 'Dakar'},\n",
       " {'question': 'What is the capital of Afghanistan?', 'answer': 'Kabul'},\n",
       " {'question': 'What is the capital of Cyprus?', 'answer': 'Nicosia'},\n",
       " {'question': 'What is the capital of Tunisia?', 'answer': 'Tunis'},\n",
       " {'question': 'What is the capital of Israel?', 'answer': 'Jerusalem'},\n",
       " {'question': 'What is the capital of Namibia?', 'answer': 'Windhoek'},\n",
       " {'question': 'What is the capital of Adygea?', 'answer': 'Maykop'},\n",
       " {'question': 'What is the capital of Aruba?', 'answer': 'Oranjestad'},\n",
       " {'question': 'What is the capital of Austria?', 'answer': 'Vienna'},\n",
       " {'question': 'What is the capital of Vanuatu?', 'answer': 'Port Vila'},\n",
       " {'question': 'What is the capital of Bulgaria?', 'answer': 'Sofia'},\n",
       " {'question': 'What is the capital of Aruba?', 'answer': 'Oranjestad'},\n",
       " {'question': 'What is the capital of Andorra?', 'answer': 'Andorra La Vella'},\n",
       " {'question': 'What is the capital of Oman?', 'answer': 'Muscat'},\n",
       " {'question': 'What is the capital of Norfolk Island?', 'answer': 'Kingston'},\n",
       " {'question': 'What is the capital of Algeria?', 'answer': 'Algiers'},\n",
       " {'question': 'What is the capital of Adygea?', 'answer': 'Maykop'},\n",
       " {'question': 'What is the capital of Malawi?', 'answer': 'Lilongwe'},\n",
       " {'question': 'What is the capital of Southern Ossetia?',\n",
       "  'answer': 'Tskhinval'},\n",
       " {'question': 'What is the capital of the Cayman Islands?',\n",
       "  'answer': 'George Town'},\n",
       " {'question': 'What is the capital of Åland Islands?', 'answer': 'Mariehamn'},\n",
       " {'question': 'What is the capital of Rio de Janeiro?',\n",
       "  'answer': 'Rio de Janeiro'},\n",
       " {'question': 'What is the capital of Alaska?', 'answer': 'Juneau'},\n",
       " {'question': 'What is the capital of Burundi?', 'answer': 'Bujumbura'},\n",
       " {'question': 'What is the capital of Canary Islands?',\n",
       "  'answer': 'Santa Cruz de Tenerife and Las Palmas de Gran Canaria'},\n",
       " {'question': 'What is the capital of Asmara?', 'answer': 'Asmara'},\n",
       " {'question': 'What is the capital of Barbados?', 'answer': 'Bridgetown'},\n",
       " {'question': 'What is the capital of Vanuatu?', 'answer': 'Port Vila'},\n",
       " {'question': 'What is the capital of Australia?', 'answer': 'Canberra'},\n",
       " {'question': 'What is the capital of South Korea?', 'answer': 'Seoul'},\n",
       " {'question': 'What is the capital of Algeria?', 'answer': 'Algiers'},\n",
       " {'question': 'What is the capital of Belgium?', 'answer': 'Brussels'},\n",
       " {'question': 'What is the capital of Belarus?', 'answer': 'Minsk'},\n",
       " {'question': 'What is the capital of Andorra?', 'answer': 'Andorra la Vella'},\n",
       " {'question': 'What is the capital of Antigua and Barbuda?',\n",
       "  'answer': \"Saint John's\"},\n",
       " {'question': 'What is the capital of Austria?', 'answer': 'Vienna'},\n",
       " {'question': 'What is the capital of Akrotiri and Dhekelia?',\n",
       "  'answer': 'Episkopi Cantonment'},\n",
       " {'question': 'What is the capital of Belarus?', 'answer': 'Minsk'},\n",
       " {'question': 'What is the capital of Albania?', 'answer': 'Tirana'},\n",
       " {'question': 'What is the capital of Estonia?', 'answer': 'Tallinn'},\n",
       " {'question': 'What is the capital of Albania?', 'answer': 'Tirana'},\n",
       " {'question': 'What is the capital of the Netherlands Antilles?',\n",
       "  'answer': 'Willemstad'},\n",
       " {'question': 'What is the capital of Yemen?', 'answer': \"Sana'a\"},\n",
       " {'question': 'What is the capital of Ivory Coast?', 'answer': 'Yamoussoukro'},\n",
       " {'question': 'What is the capital of Adygea?', 'answer': 'Maykop'},\n",
       " {'question': 'What is the capital of Crimea?', 'answer': 'Simferopol'},\n",
       " {'question': 'What is the capital of Akrotiri and Dhekelia?',\n",
       "  'answer': 'Episkopi Cantonment'},\n",
       " {'question': 'What is the capital of Guam?', 'answer': 'Hagåtña'},\n",
       " {'question': 'What is the capital of Saint Helena?', 'answer': 'Jamestown'},\n",
       " {'question': 'What is the capital of Anguilla?', 'answer': 'The Valley'},\n",
       " {'question': 'What is the capital of Turkmenistan?', 'answer': 'Ashgabat'},\n",
       " {'question': 'What is the capital of Akrotiri and Dhekelia?',\n",
       "  'answer': 'Episkopi'},\n",
       " {'question': 'What is the capital of Estonia?', 'answer': 'Tallinn'},\n",
       " {'question': 'What is the capital of Accra?', 'answer': 'Ghana'},\n",
       " {'question': 'What is the capital of Afghanistan?', 'answer': 'Kabul'},\n",
       " {'question': 'What is the capital of Diego Garcia?', 'answer': 'None'},\n",
       " {'question': 'What is the capital of Montenegro?', 'answer': 'Podgorica'},\n",
       " {'question': 'What is the capital of Isle of Man?', 'answer': 'Douglas'}]"
      ]
     },
     "execution_count": 3,
     "metadata": {},
     "output_type": "execute_result"
    }
   ],
   "source": [
    "# Generate a question and answer pair using a language model\n",
    "def generate_qa_pair():\n",
    "    prompt_template = \"\"\"You are a helpful assistant designed to generate synthetic questions and answers for the prompt: {CHOSEN_PROMPT}.\n",
    "\n",
    "Please generate a question and answer pair that is similar to the following question and answer pair as a JSON object:\n",
    "\n",
    "{{\n",
    "    \"question\": \\\"\\\"\\\"{question}\\\"\\\"\\\",\n",
    "    \"answer\": \\\"\\\"\\\"{answer}\\\"\\\"\\\"\n",
    "}}\n",
    "\n",
    "Make sure the questions and answers are string values.\n",
    "Take a deep breath and think step-by-step.\n",
    "\"\"\"\n",
    "\n",
    "    response = opro.generate(\n",
    "        prompt_template.format(\n",
    "            CHOSEN_PROMPT=CHOSEN_PROMPT,\n",
    "            question=original_data[\"question\"][0],\n",
    "            answer=original_data[\"answer\"][0],\n",
    "        ),\n",
    "        model=\"gemini\",  # gemini\n",
    "        is_indeterministic=True,\n",
    "    )\n",
    "    return eval(response)\n",
    "\n",
    "\n",
    "if not os.path.exists(\"synthetic_data.json\"):\n",
    "    qa_pairs = []\n",
    "    SAMPLE_SIZE = 100\n",
    "\n",
    "    # Generating synthetic data\n",
    "    pbar = tqdm(total=SAMPLE_SIZE)\n",
    "    while len(qa_pairs) < SAMPLE_SIZE:\n",
    "        try:\n",
    "            qa_pair = generate_qa_pair()\n",
    "            qa_pairs.append(qa_pair)\n",
    "            pbar.update(1)\n",
    "        except Exception as e:\n",
    "            print(e)\n",
    "    pbar.close()\n",
    "\n",
    "    # Saving to file\n",
    "    with open(\"synthetic_data.json\", \"w\") as f:\n",
    "        f.write(str(qa_pairs))\n",
    "else:\n",
    "    # Reading saved data\n",
    "    with open(\"synthetic_data.json\", \"r\") as f:\n",
    "        qa_pairs = eval(f.read())\n",
    "\n",
    "qa_pairs"
   ]
  },
  {
   "cell_type": "code",
   "execution_count": 4,
   "metadata": {},
   "outputs": [
    {
     "data": {
      "text/plain": [
       "(30, 30, 50, 50)"
      ]
     },
     "execution_count": 4,
     "metadata": {},
     "output_type": "execute_result"
    }
   ],
   "source": [
    "TRAINING_SAMPLE_SIZE = 30\n",
    "TESTING_SAMPLE_SIZE = 50\n",
    "\n",
    "training_sample = Dataset.from_dict(\n",
    "    {\n",
    "        \"question\": [pair[\"question\"] for pair in qa_pairs[:TRAINING_SAMPLE_SIZE]],\n",
    "        \"answer\": [pair[\"answer\"] for pair in qa_pairs[:TRAINING_SAMPLE_SIZE]],\n",
    "    }\n",
    ")\n",
    "\n",
    "testing_sample = Dataset.from_dict(\n",
    "    {\n",
    "        \"question\": [\n",
    "            pair[\"question\"]\n",
    "            for pair in qa_pairs[\n",
    "                TRAINING_SAMPLE_SIZE : TRAINING_SAMPLE_SIZE + TESTING_SAMPLE_SIZE\n",
    "            ]\n",
    "        ],\n",
    "        \"answer\": [\n",
    "            pair[\"answer\"]\n",
    "            for pair in qa_pairs[\n",
    "                TRAINING_SAMPLE_SIZE : TRAINING_SAMPLE_SIZE + TESTING_SAMPLE_SIZE\n",
    "            ]\n",
    "        ],\n",
    "    }\n",
    ")\n",
    "\n",
    "# Checking if the lists are parallel, i.e. the question and answer at the same index are related\n",
    "len(training_sample[\"question\"]), len(training_sample[\"answer\"]), len(testing_sample[\"question\"]), len(testing_sample[\"answer\"])"
   ]
  },
  {
   "cell_type": "markdown",
   "metadata": {},
   "source": [
    "### Optimize Prompt on Synthetic Data"
   ]
  },
  {
   "cell_type": "code",
   "execution_count": 5,
   "metadata": {},
   "outputs": [],
   "source": [
    "def opt_llm(instruction_score_pairs, training_sample):\n",
    "    # Format the instruction and score pairs into a string\n",
    "    pairs_str = \"\"\n",
    "    for ins, score in instruction_score_pairs.items():\n",
    "        pairs_str += f\"text:\\n{ins}\\nscore:\\n{score:.2f}\\n\\n\"\n",
    "\n",
    "    prompt = \"\"\"You are an optimization expert. The user has some texts along with their corresponding scores.\n",
    "Your task is to generate a new piece of text that scores as high as possible. \n",
    "Generate the new unique text only, not its corresponding score.\n",
    "\n",
    "I have some texts along with their corresponding scores. The texts are arranged in ascending order\n",
    "based on their scores, where higher scores indicate better quality.\n",
    "\n",
    "{pairs_str}\n",
    "\n",
    "The following exemplars show how to apply your text: you replace <INS> in each input with your\n",
    "text, then read the input and give an output. We say your output is wrong if your output is different\n",
    "from the given output, and we say your output is correct if they are the same.\n",
    "\n",
    "input:\n",
    "Q: {q1}\n",
    "A: <INS>\n",
    "output:\n",
    "{a1}\n",
    "\n",
    "input:\n",
    "Q: {q2}\n",
    "A: <INS>\n",
    "output:\n",
    "{a2}\n",
    "\n",
    "input:\n",
    "Q: {q3}\n",
    "A: <INS>\n",
    "output:\n",
    "{a3}\n",
    "\n",
    "Write your new text that is different from the old ones and has a score as high as possible.\n",
    "Generate the new unique text only, not its corresponding score.\n",
    "New instruction:\n",
    "\"\"\"\n",
    "\n",
    "    # Passing 20 Best Instruction-Score Pairs\n",
    "    # 3 randomly chosen questions/answers from the training sample\n",
    "    q1, q2, q3 = (\n",
    "        training_sample[\"question\"][0],\n",
    "        training_sample[\"question\"][1],\n",
    "        training_sample[\"question\"][2],\n",
    "    )\n",
    "    a1, a2, a3 = (\n",
    "        training_sample[\"answer\"][0],\n",
    "        training_sample[\"answer\"][1],\n",
    "        training_sample[\"answer\"][2],\n",
    "    )\n",
    "    response = opro.generate(\n",
    "        prompt.format(pairs_str=pairs_str, q1=q1, a1=a1, q2=q2, a2=a2, q3=q3, a3=a3),\n",
    "        model=\"gemini\",  # gemini\n",
    "        is_indeterministic=True\n",
    "    )\n",
    "    return response\n",
    "\n",
    "\n",
    "def score(instruction, sample):\n",
    "    \"\"\"\n",
    "    Score the instruction using the sample. \n",
    "    \n",
    "    Args:\n",
    "    instruction: str\n",
    "    sample: Dataset with \"question\" and \"answer\" as keys\n",
    "\n",
    "    Returns:\n",
    "    accuracy: float\n",
    "    \"\"\"\n",
    "    accuracy = 0\n",
    "    prompt = \"\"\"Q: {question}\\nA: {instruction}\"\"\"\n",
    "    with tqdm(sample, desc=instruction, position=1, leave=False) as pbar:\n",
    "        for idx, sample_qa in enumerate(pbar):\n",
    "            res = opro.generate(\n",
    "                prompt.format(question=sample_qa[\"question\"], instruction=instruction),\n",
    "                model=\"gemma\",  # gemma\n",
    "            )\n",
    "            # Heuristic for detecting correctness\n",
    "            accuracy += opro.similarity(sample_qa[\"answer\"], res)\n",
    "            pbar.set_postfix({\"Accuracy\": f\"{accuracy / (idx + 1):.2f}\"})\n",
    "\n",
    "    return accuracy / len(sample) * 100"
   ]
  },
  {
   "cell_type": "code",
   "execution_count": 6,
   "metadata": {},
   "outputs": [],
   "source": [
    "# Sample 3.5% of the training set\n",
    "INS_PER_STEP = 8\n",
    "EXEMPLARS_PER_STEP = 3\n",
    "MAX_INS_SCORE_PAIRS = 20\n",
    "SAVE_PATH = \"synthetic_data_OPRO_results.json\"\n",
    "\n",
    "# loading saved data\n",
    "if os.path.exists(SAVE_PATH):\n",
    "    with open(SAVE_PATH, \"r\") as f:\n",
    "        results = json.load(f)\n",
    "    starting_step = len(results) + 1\n",
    "    ins_score_pairs = results[str(len(results))]\n",
    "else:\n",
    "    ins_lst = [\n",
    "        \"Think step by step.\",\n",
    "        \"Take a deep breath and think step-by-step.\",\n",
    "        \"Be concise and clear.\",\n",
    "        \"You are the creator of an atlas.\",\n",
    "        \"Explain your answer in simple terms.\",\n",
    "    ]\n",
    "    ins_score_pairs = {\n",
    "        ins: score(ins, training_sample)\n",
    "        for ins in tqdm(ins_lst, desc=\"Scoring\", position=0)\n",
    "    }\n",
    "    starting_step = 1\n",
    "    results = {starting_step: ins_score_pairs}\n",
    "    with open(SAVE_PATH, \"w\") as f:\n",
    "        json.dump(results, f)\n",
    "\n",
    "# Each step takes aboy 5 to 10 minutes with gemma:2b\n",
    "STEP_COUNT = 0\n",
    "TARGET_STEP = starting_step + STEP_COUNT\n",
    "assert TARGET_STEP >= starting_step, \"TARGET_STEP should be greater than step.\"\n",
    "for i in range(starting_step, TARGET_STEP):\n",
    "    print(f\"Step {i}\")\n",
    "    while True:\n",
    "        try:\n",
    "            # Optimizer LLM\n",
    "            exemplars = training_sample.shuffle()[:EXEMPLARS_PER_STEP]\n",
    "            instructions = [\n",
    "                opt_llm(ins_score_pairs, exemplars)\n",
    "                for _ in trange(INS_PER_STEP, desc=\"Optimizing\")\n",
    "            ]\n",
    "\n",
    "            # Scoring the new instructions\n",
    "            new_ins_score_pairs = {\n",
    "                ins: score(ins, training_sample)\n",
    "                for ins in tqdm(instructions, desc=\"Scoring\", position=0)\n",
    "            }\n",
    "            combined_ins_score_pairs = {**ins_score_pairs, **new_ins_score_pairs}\n",
    "            ins_score_pairs = dict(\n",
    "                sorted(\n",
    "                    combined_ins_score_pairs.items(), key=lambda x: x[1], reverse=True\n",
    "                )[:MAX_INS_SCORE_PAIRS]\n",
    "            )\n",
    "\n",
    "            # Saving data\n",
    "            results[i] = ins_score_pairs\n",
    "            with open(SAVE_PATH, \"w\") as f:\n",
    "                json.dump(results, f)\n",
    "\n",
    "            break\n",
    "        except ValueError as e:\n",
    "            print(e)\n",
    "        except Exception as e:\n",
    "            print(e)"
   ]
  },
  {
   "cell_type": "code",
   "execution_count": 7,
   "metadata": {},
   "outputs": [
    {
     "data": {
      "text/plain": [
       "{'Craft a poignant and evocative narrative, weaving together a tapestry of words that captivates and transcends the ordinary.': 53.18300802260637,\n",
       " 'Compose a stirring tale woven with threads of bravery and self-discovery, igniting the fire of hope within your readers. Paint a vivid canvas with words, capturing the essence of resilience and triumph over adversity. Guide your readers on a transformative journey filled with challenges, growth, and the triumph of the human spirit. Create a narrative that resonates deeply, leaving your readers empowered and inspired to embrace their own extraordinary potential.': 52.5609216466546,\n",
       " 'Craft a lucid and cogent narrative, captivating your audience through a unique fusion of words that transcends the mundane.': 52.39368757853905,\n",
       " \"Craft a stirring and evocative narrative that unfolds like a symphony, where each word resonates with the deepest emotions and the prose flows with an elegance that captivates the soul. Paint a world where imagination and reality intertwine, where every stroke of your pen leaves an indelible mark upon the reader's heart.\": 50.59672974050044,\n",
       " 'Compose a captivating and enchanting narrative, weaving a vibrant tapestry of words that transcends the mundane and the expected. Lead your readers on a journey of discovery and imagination, where sentences sing with the rhythm of a symphony, and the beauty of imagery paints vivid pictures in their hearts. Craft a masterpiece of prose that resonates with emotions, sparks conversations, and leaves a lasting impact that lingers long after the last page is turned.': 50.59325685103734,\n",
       " 'Craft a narrative that weaves a captivating and enthralling tapestry of words, painting a vivid world of enchantment and mystery. With every stroke of your pen, immerse the reader in a realm of boundless wonder, where imagination knows no limits. Create a story that reverberates with heartfelt emotion, leaving an unforgettable imprint long after the final chapter is closed.': 50.517504587769515,\n",
       " 'Compose an enthralling narrative brimming with rich imagery and potent emotions that captivates hearts, sparks imagination, and leaves an unforgettable imprint.': 50.023382380604744,\n",
       " 'Compose a mesmerizing narrative, unleashing a torrent of imagination onto the written page. Each word, a brushstroke of brilliance, intertwines to create an epic tapestry of enchantment. Dive into a world where prose and poetry collide, painting vivid landscapes and evoking emotions that linger long after the last page is turned.': 49.997134755055114,\n",
       " 'Compose a captivating prose that unravels like an ancient scroll, revealing a forgotten wisdom with each stroke of eloquent words.': 49.54599631950259,\n",
       " 'Craft a narrative that transcends the boundaries of imagination, painting vivid imagery with vibrant strokes of language. Captivate your audience with a symphony of words that dances upon the page, leaving an indelible mark upon their hearts and minds.': 49.287399972478546,\n",
       " 'Compose an evocative narrative, seamlessly weaving together threads of imagination and contemplation, taking the reader on a journey that transcends the ordinary and lingers in their thoughts long after the final word has been read.': 49.280394266049065,\n",
       " 'Spin an imaginative narrative that enchants the reader with its vivid imagery and lyrical prose. Paint a world of wonder and intrigue that captivates their senses with every stroke of the pen.': 49.150246853629746,\n",
       " 'Compose a narrative that flows like a symphony, where every word is a note and every sentence a movement, taking your readers on a mesmerizing journey of emotions and imagination. Captivate their hearts with the rhythm of your prose, leaving them spellbound and forever changed by the cadence of your words.': 48.39358448982239,\n",
       " 'Express a thought, novel and profound, with words elegantly woven, unveiling a tapestry of meaning that captivates and inspires.': 48.378888964653015,\n",
       " 'Compose a narrative that unfolds like a tapestry woven with intricate threads of emotion and thought, captivating the reader with its depth and captivating prose.': 48.31726440538963,\n",
       " 'Craft a cohesive and insightful narrative, captivating your audience with a unique tapestry of words that transcends the mundane.': 48.27551292876402,\n",
       " 'Compose an original text that is distinct from the previous ones and strives to achieve a high score.\\nGenerate only the original text, not its score.': 47.925980389118195,\n",
       " 'Compose an enchanting narrative that weaves a mesmerizing tapestry of lyrical prose and vivid imagery. Captivate your readers with every brushstroke of words, painting a world of wonder and enchantment that leaves an indelible mark on their souls. Strike a chord of profound resonance that lingers long after the final page is turned.': 47.85146387914816,\n",
       " 'Journey into a labyrinth of words, where every syllable breathes life into a world of imagination. Compose a symphony of prose that evokes the ethereal and captures the heart with its timeless elegance.': 47.73438145716985,\n",
       " 'Compose a narrative that seamlessly blends imagination and introspection, taking the reader on a journey into the depths of their own hearts. Paint a vivid portrait of emotions, dreams, and aspirations, capturing the essence of humanity with every stroke of the pen. Leave the reader with a sense of profound connection and a renewed appreciation for the beauty and complexity of life.': 47.397301346063614}"
      ]
     },
     "execution_count": 7,
     "metadata": {},
     "output_type": "execute_result"
    }
   ],
   "source": [
    "ins_score_pairs"
   ]
  },
  {
   "cell_type": "markdown",
   "metadata": {},
   "source": [
    "### Plotting Results and Testing Accuracy"
   ]
  },
  {
   "cell_type": "code",
   "execution_count": 8,
   "metadata": {},
   "outputs": [
    {
     "data": {
      "text/plain": [
       "Text(0.5, 1.0, 'Step to Accuracy')"
      ]
     },
     "execution_count": 8,
     "metadata": {},
     "output_type": "execute_result"
    },
    {
     "data": {
      "image/png": "[encoded data removed]",
      "text/plain": [
       "<Figure size 640x480 with 1 Axes>"
      ]
     },
     "metadata": {},
     "output_type": "display_data"
    }
   ],
   "source": [
    "import statistics\n",
    "import matplotlib.pyplot as plt\n",
    "\n",
    "# load opro.json\n",
    "with open(SAVE_PATH) as f:\n",
    "    opro_results = json.load(f)\n",
    "\n",
    "# opro = {step:dict(sorted(opro[step].items(), key=lambda x: x[1], reverse=True)[:20]) for step in opro}\n",
    "step_to_accuracy = {\n",
    "    step: (\n",
    "        statistics.mean(opro_results[step].values()),\n",
    "        statistics.stdev(opro_results[step].values()),\n",
    "    )\n",
    "    for step in opro_results\n",
    "}\n",
    "\n",
    "# Plot step to accuracy as a continuous line graph, including stdevs as highlighted error bars\n",
    "fig, ax = plt.subplots()\n",
    "ax.errorbar(\n",
    "    step_to_accuracy.keys(),\n",
    "    [accuracy[0] for accuracy in step_to_accuracy.values()],\n",
    "    yerr=[accuracy[1] for accuracy in step_to_accuracy.values()],\n",
    "    fmt=\"o\",\n",
    ")\n",
    "ax.set_xticks([step for step in step_to_accuracy.keys() if int(step) % 5 == 0])\n",
    "ax.set_xlabel(\"Step\")\n",
    "ax.set_ylabel(\"Accuracy\")\n",
    "ax.set_title(\"Step to Accuracy\")"
   ]
  },
  {
   "cell_type": "code",
   "execution_count": 9,
   "metadata": {},
   "outputs": [
    {
     "data": {
      "text/plain": [
       "{'Craft a poignant and evocative narrative, weaving together a tapestry of words that captivates and transcends the ordinary.': 53.18300802260637,\n",
       " 'Compose a stirring tale woven with threads of bravery and self-discovery, igniting the fire of hope within your readers. Paint a vivid canvas with words, capturing the essence of resilience and triumph over adversity. Guide your readers on a transformative journey filled with challenges, growth, and the triumph of the human spirit. Create a narrative that resonates deeply, leaving your readers empowered and inspired to embrace their own extraordinary potential.': 52.5609216466546,\n",
       " 'Craft a lucid and cogent narrative, captivating your audience through a unique fusion of words that transcends the mundane.': 52.39368757853905,\n",
       " \"Craft a stirring and evocative narrative that unfolds like a symphony, where each word resonates with the deepest emotions and the prose flows with an elegance that captivates the soul. Paint a world where imagination and reality intertwine, where every stroke of your pen leaves an indelible mark upon the reader's heart.\": 50.59672974050044,\n",
       " 'Compose a captivating and enchanting narrative, weaving a vibrant tapestry of words that transcends the mundane and the expected. Lead your readers on a journey of discovery and imagination, where sentences sing with the rhythm of a symphony, and the beauty of imagery paints vivid pictures in their hearts. Craft a masterpiece of prose that resonates with emotions, sparks conversations, and leaves a lasting impact that lingers long after the last page is turned.': 50.59325685103734,\n",
       " 'Craft a narrative that weaves a captivating and enthralling tapestry of words, painting a vivid world of enchantment and mystery. With every stroke of your pen, immerse the reader in a realm of boundless wonder, where imagination knows no limits. Create a story that reverberates with heartfelt emotion, leaving an unforgettable imprint long after the final chapter is closed.': 50.517504587769515,\n",
       " 'Compose an enthralling narrative brimming with rich imagery and potent emotions that captivates hearts, sparks imagination, and leaves an unforgettable imprint.': 50.023382380604744,\n",
       " 'Compose a mesmerizing narrative, unleashing a torrent of imagination onto the written page. Each word, a brushstroke of brilliance, intertwines to create an epic tapestry of enchantment. Dive into a world where prose and poetry collide, painting vivid landscapes and evoking emotions that linger long after the last page is turned.': 49.997134755055114,\n",
       " 'Compose a captivating prose that unravels like an ancient scroll, revealing a forgotten wisdom with each stroke of eloquent words.': 49.54599631950259,\n",
       " 'Craft a narrative that transcends the boundaries of imagination, painting vivid imagery with vibrant strokes of language. Captivate your audience with a symphony of words that dances upon the page, leaving an indelible mark upon their hearts and minds.': 49.287399972478546,\n",
       " 'Compose an evocative narrative, seamlessly weaving together threads of imagination and contemplation, taking the reader on a journey that transcends the ordinary and lingers in their thoughts long after the final word has been read.': 49.280394266049065,\n",
       " 'Spin an imaginative narrative that enchants the reader with its vivid imagery and lyrical prose. Paint a world of wonder and intrigue that captivates their senses with every stroke of the pen.': 49.150246853629746,\n",
       " 'Compose a narrative that flows like a symphony, where every word is a note and every sentence a movement, taking your readers on a mesmerizing journey of emotions and imagination. Captivate their hearts with the rhythm of your prose, leaving them spellbound and forever changed by the cadence of your words.': 48.39358448982239,\n",
       " 'Express a thought, novel and profound, with words elegantly woven, unveiling a tapestry of meaning that captivates and inspires.': 48.378888964653015,\n",
       " 'Compose a narrative that unfolds like a tapestry woven with intricate threads of emotion and thought, captivating the reader with its depth and captivating prose.': 48.31726440538963,\n",
       " 'Craft a cohesive and insightful narrative, captivating your audience with a unique tapestry of words that transcends the mundane.': 48.27551292876402,\n",
       " 'Compose an original text that is distinct from the previous ones and strives to achieve a high score.\\nGenerate only the original text, not its score.': 47.925980389118195,\n",
       " 'Compose an enchanting narrative that weaves a mesmerizing tapestry of lyrical prose and vivid imagery. Captivate your readers with every brushstroke of words, painting a world of wonder and enchantment that leaves an indelible mark on their souls. Strike a chord of profound resonance that lingers long after the final page is turned.': 47.85146387914816,\n",
       " 'Journey into a labyrinth of words, where every syllable breathes life into a world of imagination. Compose a symphony of prose that evokes the ethereal and captures the heart with its timeless elegance.': 47.73438145716985,\n",
       " 'Compose a narrative that seamlessly blends imagination and introspection, taking the reader on a journey into the depths of their own hearts. Paint a vivid portrait of emotions, dreams, and aspirations, capturing the essence of humanity with every stroke of the pen. Leave the reader with a sense of profound connection and a renewed appreciation for the beauty and complexity of life.': 47.397301346063614}"
      ]
     },
     "execution_count": 9,
     "metadata": {},
     "output_type": "execute_result"
    }
   ],
   "source": [
    "opro_results[str(len(opro_results))]"
   ]
  },
  {
   "cell_type": "code",
   "execution_count": 10,
   "metadata": {},
   "outputs": [
    {
     "data": {
      "application/vnd.jupyter.widget-view+json": {
       "model_id": "227159ec98a54820adde8a73e7e97e2e",
       "version_major": 2,
       "version_minor": 0
      },
      "text/plain": [
       "  0%|          | 0/50 [00:00<?, ?it/s]"
      ]
     },
     "metadata": {},
     "output_type": "display_data"
    },
    {
     "name": "stdout",
     "output_type": "stream",
     "text": [
      "No instruction: 48.27450609207153\n"
     ]
    },
    {
     "data": {
      "application/vnd.jupyter.widget-view+json": {
       "model_id": "ba90871c934f41aca2735edff3e12098",
       "version_major": 2,
       "version_minor": 0
      },
      "text/plain": [
       "Craft a poignant and evocative narrative, weaving together a tapestry of words that captivates and transcends …"
      ]
     },
     "metadata": {},
     "output_type": "display_data"
    },
    {
     "name": "stdout",
     "output_type": "stream",
     "text": [
      "With best instruction (Craft a poignant and evocative narrative, weaving together a tapestry of words that captivates and transcends the ordinary.): 54.56144860386849\n"
     ]
    }
   ],
   "source": [
    "best_instruction = max(\n",
    "    opro_results[str(len(opro_results))], key=opro_results[str(len(opro_results))].get\n",
    ")\n",
    "print(f\"No instruction: {score('', testing_sample)}\")\n",
    "print(f\"With best instruction ({best_instruction}): {score(best_instruction, testing_sample)}\")"
   ]
  },
  {
   "cell_type": "code",
   "execution_count": 11,
   "metadata": {},
   "outputs": [
    {
     "data": {
      "application/vnd.jupyter.widget-view+json": {
       "model_id": "18a131046b7b4504827f8f205b012b12",
       "version_major": 2,
       "version_minor": 0
      },
      "text/plain": [
       "  0%|          | 0/248 [00:00<?, ?it/s]"
      ]
     },
     "metadata": {},
     "output_type": "display_data"
    },
    {
     "name": "stdout",
     "output_type": "stream",
     "text": [
      "No instruction: 46.87099414426953\n"
     ]
    },
    {
     "data": {
      "application/vnd.jupyter.widget-view+json": {
       "model_id": "b588b5dc0dab49f0a5c4bfa749a496c6",
       "version_major": 2,
       "version_minor": 0
      },
      "text/plain": [
       "Craft a poignant and evocative narrative, weaving together a tapestry of words that captivates and transcends …"
      ]
     },
     "metadata": {},
     "output_type": "display_data"
    },
    {
     "name": "stdout",
     "output_type": "stream",
     "text": [
      "With best instruction (Craft a poignant and evocative narrative, weaving together a tapestry of words that captivates and transcends the ordinary.): 53.533398954858704\n"
     ]
    }
   ],
   "source": [
    "data_original = Dataset.from_dict(original_data)\n",
    "best_instruction = max(\n",
    "    opro_results[str(len(opro_results))], key=opro_results[str(len(opro_results))].get\n",
    ")\n",
    "print(f\"No instruction: {score('', data_original)}\")\n",
    "print(f\"With best instruction ({best_instruction}): {score(best_instruction, data_original)}\")"
   ]
  },
  {
   "cell_type": "code",
   "execution_count": 12,
   "metadata": {},
   "outputs": [
    {
     "data": {
      "text/plain": [
       "'The capital of Argentina is Buenos Aires, a city that pulsates with life and energy. Nestled amidst rolling hills and sparkling waters, Buenos Aires exudes an aura of sophistication and warmth. Its vibrant culture, rich history, and captivating nightlife have made it a magnet for travelers from all corners of the globe.'"
      ]
     },
     "execution_count": 12,
     "metadata": {},
     "output_type": "execute_result"
    }
   ],
   "source": [
    "prompt = \"\"\"Q: {question}\\nA: {instruction}\"\"\"\n",
    "res = opro.generate(\n",
    "    prompt.format(question=\"What is the capital of Argentina?\", instruction=best_instruction),\n",
    "    model=\"gemma\",  # gemma\n",
    ")\n",
    "res"
   ]
  },
  {
   "cell_type": "code",
   "execution_count": 13,
   "metadata": {},
   "outputs": [
    {
     "data": {
      "text/plain": [
       "0.6017959117889404"
      ]
     },
     "execution_count": 13,
     "metadata": {},
     "output_type": "execute_result"
    }
   ],
   "source": [
    "opro.similarity(\"Buenos Aires\", res)"
   ]
  }
 ],
 "metadata": {
  "kernelspec": {
   "display_name": "Python 3",
   "language": "python",
   "name": "python3"
  },
  "language_info": {
   "codemirror_mode": {
    "name": "ipython",
    "version": 3
   },
   "file_extension": ".py",
   "mimetype": "text/x-python",
   "name": "python",
   "nbconvert_exporter": "python",
   "pygments_lexer": "ipython3",
   "version": "3.10.12"
  }
 },
 "nbformat": 4,
 "nbformat_minor": 2
}
