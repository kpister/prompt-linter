{
 "cells": [
  {
   "cell_type": "markdown",
   "metadata": {},
   "source": [
    "### Checking if GPU is available"
   ]
  },
  {
   "cell_type": "code",
   "execution_count": null,
   "metadata": {},
   "outputs": [],
   "source": [
    "import torch\n",
    "\n",
    "if torch.cuda.is_available():\n",
    "    print(\"GPU is available\")\n",
    "else:\n",
    "    print(\"GPU is not available\")"
   ]
  },
  {
   "cell_type": "markdown",
   "metadata": {},
   "source": [
    "### Ollama\n",
    "Model usage through Ollama local inference server"
   ]
  },
  {
   "cell_type": "code",
   "execution_count": 1,
   "metadata": {},
   "outputs": [],
   "source": [
    "from langchain_community.llms import Ollama\n",
    "\n",
    "llm = Ollama(model=\"gemma:2b\", temperature=1, num_gpu = 40, timeout=30)"
   ]
  },
  {
   "cell_type": "code",
   "execution_count": 5,
   "metadata": {},
   "outputs": [
    {
     "name": "stdout",
     "output_type": "stream",
     "text": [
      "30\n",
      "The answer is 4. 2+2 is a simple addition problem that can be solved by adding the two numbers together.\n"
     ]
    }
   ],
   "source": [
    "from requests import ReadTimeout\n",
    "\n",
    "print(llm.timeout)\n",
    "temp = llm.timeout\n",
    "while True:\n",
    "    try:\n",
    "        res = llm.invoke(\"\"\"What's 2+2?\"\"\")\n",
    "        print(res)\n",
    "        break\n",
    "    except ReadTimeout:\n",
    "        if llm.timeout > 120:\n",
    "            print(f\"Inference lasted for {llm.timeout} seconds. Stopping now.\")\n",
    "            break\n",
    "        llm.timeout *= 2\n",
    "        print(f\"### ReadTimeout. Trying again with Timeout: {llm.timeout} seconds ###\")\n",
    "    except Exception as e:\n",
    "        print(f\"### {e} ###\")\n",
    "        break\n",
    "llm.timeout = temp"
   ]
  },
  {
   "cell_type": "markdown",
   "metadata": {},
   "source": [
    "### LM Studio\n",
    "Model usage through LM Studio local inference server"
   ]
  },
  {
   "cell_type": "code",
   "execution_count": null,
   "metadata": {},
   "outputs": [],
   "source": [
    "# Example: reuse your existing OpenAI setup\n",
    "from openai import OpenAI\n",
    "\n",
    "# Point to the local server\n",
    "client = OpenAI(base_url=\"http://localhost:1234/v1\", api_key=\"not-needed\")"
   ]
  },
  {
   "cell_type": "code",
   "execution_count": null,
   "metadata": {},
   "outputs": [],
   "source": [
    "from openai import APITimeoutError\n",
    "\n",
    "sys_prompt = \"\"\"\n",
    "            Answer is json format.\n",
    "\n",
    "            Example:\n",
    "            {{}\n",
    "                \"Question\": \"What is your name?\",\n",
    "                \"Answer\": \"My name is OpenAI.\"\n",
    "            }}\n",
    "            \"\"\"\n",
    "\n",
    "i = 20\n",
    "while True:\n",
    "    try:\n",
    "        completion = client.chat.completions.create(\n",
    "        model=\"local-model\", # this field is currently unused\n",
    "        messages=[\n",
    "            # {\"role\": \"system\", \"content\": \" \"},\n",
    "            {\"role\": \"user\", \"content\": \"Why didn't my parents invite me to their wedding?\"}\n",
    "        ],\n",
    "        temperature=0.0,\n",
    "        timeout=i,\n",
    "        # response_format={ \"type\": \"json_object\" },\n",
    "        )\n",
    "        break\n",
    "    except APITimeoutError as e:\n",
    "        i *= 2\n",
    "        print(f\"API timed out. Trying again with --> Timeout: {i}\")\n",
    "\n",
    "print(completion.choices[0].message.content)"
   ]
  }
 ],
 "metadata": {
  "kernelspec": {
   "display_name": "Python 3",
   "language": "python",
   "name": "python3"
  },
  "language_info": {
   "codemirror_mode": {
    "name": "ipython",
    "version": 3
   },
   "file_extension": ".py",
   "mimetype": "text/x-python",
   "name": "python",
   "nbconvert_exporter": "python",
   "pygments_lexer": "ipython3",
   "version": "3.10.12"
  }
 },
 "nbformat": 4,
 "nbformat_minor": 2
}
