{
 "cells": [
  {
   "cell_type": "code",
   "execution_count": 1,
   "metadata": {},
   "outputs": [
    {
     "data": {
      "text/plain": [
       "'Please help me to translate the following text to {LANGUAGE}. Please return only translated content not include the origin text. Here is the text: \\n\\n{TEXT}'"
      ]
     },
     "execution_count": 1,
     "metadata": {},
     "output_type": "execute_result"
    }
   ],
   "source": [
    "from datasets import load_dataset, Dataset\n",
    "import sys, os, json, re\n",
    "sys.path.append(os.path.join(os.getcwd(), '../..'))\n",
    "from OPRO import OPRO\n",
    "import pandas as pd\n",
    "from tqdm.auto import tqdm, trange\n",
    "\n",
    "opro = OPRO([\"gemini\", \"gemma\", \"llama2\", \"anthropic\"])\n",
    "dataset = load_dataset(\"pisterlabs/promptset\").filter(lambda row: len(row[\"prompts\"]) > 0)[\"train\"]\n",
    "CHOSEN_PROMPT = dataset[\"prompts\"][404][0].replace(\"PLACEHOLDER\", \"{LANGUAGE}\", 1).replace(\"PLACEHOLDER\", \"{TEXT}\", 1)\n",
    "CHOSEN_PROMPT"
   ]
  },
  {
   "cell_type": "markdown",
   "metadata": {},
   "source": [
    "### Original Dataset"
   ]
  },
  {
   "cell_type": "code",
   "execution_count": 2,
   "metadata": {},
   "outputs": [
    {
     "data": {
      "text/plain": [
       "(['How boring!',\n",
       "  'I love sports.',\n",
       "  'Would you like to swap jobs?',\n",
       "  'My mother did nothing but weep.',\n",
       "  'Croatia is in the southeastern part of Europe.'],\n",
       " ['¡Qué aburrimiento!',\n",
       "  'Adoro el deporte.',\n",
       "  '¿Te gustaría que intercambiemos los trabajos?',\n",
       "  'Mi madre no hizo nada sino llorar.',\n",
       "  'Croacia está en el sudeste de Europa.'])"
      ]
     },
     "execution_count": 2,
     "metadata": {},
     "output_type": "execute_result"
    }
   ],
   "source": [
    "import pandas as pd\n",
    "df = pd.read_csv(\"en-sp.csv\")\n",
    "df = df.sample(250, random_state=42)\n",
    "# df to dict without indices\n",
    "df_dict = df.to_dict(orient='records')\n",
    "# dict with two keys: english and spanish\n",
    "original_data = {\"english\": [], \"spanish\": []}\n",
    "for row in df_dict:\n",
    "    original_data[\"english\"].append(row[\"english\"])\n",
    "    original_data[\"spanish\"].append(row[\"spanish\"])\n",
    "original_data = Dataset.from_dict(original_data)\n",
    "original_data[\"english\"][:5], original_data[\"spanish\"][:5]"
   ]
  },
  {
   "cell_type": "markdown",
   "metadata": {},
   "source": [
    "### Generate Synthetic Data"
   ]
  },
  {
   "cell_type": "code",
   "execution_count": 3,
   "metadata": {},
   "outputs": [
    {
     "data": {
      "text/plain": [
       "[{'question': \"Don't be mad at me\", 'answer': 'No te enfades conmigo'},\n",
       " {'question': 'I hate the weather here!', 'answer': '¡Odio el clima aquí!'},\n",
       " {'question': 'I saw a dog today.', 'answer': 'Vi un perro hoy.'},\n",
       " {'question': '\"¿Qué es esto?\"', 'answer': '\"¿Qué es esto?\"'},\n",
       " {'question': 'Open your eyes. ', 'answer': 'Abre los ojos. '},\n",
       " {'question': 'Come on!', 'answer': '¡Vamos!'},\n",
       " {'question': 'Let me do it.', 'answer': 'Déjame hacerlo.'},\n",
       " {'question': 'This is fine.', 'answer': 'Está bien.'},\n",
       " {'question': 'Your chances are zero', 'answer': 'Tus posibilidades son cero'},\n",
       " {'question': 'Stinking up the place!', 'answer': '¡ Apesta a todo dar!'},\n",
       " {'question': 'Thank you', 'answer': 'Gracias'},\n",
       " {'question': 'How high?', 'answer': '¿Qué tan alto?'},\n",
       " {'question': '¡Qué divertido!', 'answer': 'How exciting!'},\n",
       " {'question': 'Are you going to buy that?', 'answer': '¿Vas a comprar eso?'},\n",
       " {'question': 'Vamos a por ello!', 'answer': \"Let's go!\"},\n",
       " {'question': 'Is this food okay?', 'answer': '¿Está bien esta comida?'},\n",
       " {'question': 'You really have to go to the mall?',\n",
       "  'answer': '¿Realmente tienes que ir al centro comercial?'},\n",
       " {'question': 'How excited!', 'answer': '¡Qué emoción!'},\n",
       " {'question': 'How Unbelievable', 'answer': '¡Increíble!'},\n",
       " {'question': 'This is great!', 'answer': 'Está genial'},\n",
       " {'question': 'Trendy', 'answer': 'A la moda'},\n",
       " {'question': 'It was a rainy day.', 'answer': 'Fue un día lluvioso.'},\n",
       " {'question': 'Sparkling water is refreshing.',\n",
       "  'answer': 'El agua con gas es refrescante.'},\n",
       " {'question': 'That was great!', 'answer': '¡Genial!'},\n",
       " {'question': 'Thank You.', 'answer': 'Gracias.'},\n",
       " {'question': 'Tutto a posto?', 'answer': 'O.K.?'},\n",
       " {'question': 'Look at that fly!', 'answer': '¡Mira esa mosca!'},\n",
       " {'question': 'What state is South Dakota?', 'answer': 'Dakota do Sul'},\n",
       " {'question': 'Holy cow!', 'answer': '¡Madre mía!'},\n",
       " {'question': \"That's an exaggeration.\", 'answer': 'Es una exageración.'},\n",
       " {'question': 'I am feeling gratitude.',\n",
       "  'answer': 'Estoy sintiendo gratitud.'},\n",
       " {'question': \"I've never liked that!\", 'answer': 'Nunca me ha gustado eso!'},\n",
       " {'question': 'That was easy!', 'answer': '¡Fue fácil!'},\n",
       " {'question': 'What is stunningly beautiful.',\n",
       "  'answer': '¿Qué es asombrosamente hermosa?'},\n",
       " {'question': 'What is that?', 'answer': '¿Qué es eso?'},\n",
       " {'question': 'Oh my God!', 'answer': '¡Dios mío!'},\n",
       " {'question': 'How excited, nice and elegant!',\n",
       "  'answer': '¡Qué entusiasmo tan bonito y elegante!'},\n",
       " {'question': 'I will clean up the house this weekend.',\n",
       "  'answer': 'Voy a limpiar la casa este fin de semana.'},\n",
       " {'question': 'No me siento muy bien.', 'answer': 'No me siento muy bien.'},\n",
       " {'question': 'That was dreadful!', 'answer': '¡Eso fue pésimo!'}]"
      ]
     },
     "execution_count": 3,
     "metadata": {},
     "output_type": "execute_result"
    }
   ],
   "source": [
    "# Generate a question and answer pair using a language model\n",
    "def generate_qa_pair():\n",
    "    prompt_template = \"\"\"You are a helpful assistant designed to generate synthetic questions and answers for the prompt: {CHOSEN_PROMPT}.\n",
    "\n",
    "Please generate a question and answer pair that is similar to the following question and answer pair as a JSON object:\n",
    "\n",
    "{{\n",
    "    \"english\": \\\"\\\"\\\"{question}\\\"\\\"\\\",\n",
    "    \"spanish\": \\\"\\\"\\\"{answer}\\\"\\\"\\\"\n",
    "}}\n",
    "\n",
    "Make sure the questions and answers are string values.\n",
    "Take a deep breath and think step-by-step. Respond with only the JSON object!\n",
    "\"\"\"\n",
    "\n",
    "    response = opro.generate(\n",
    "        prompt_template.format(\n",
    "            CHOSEN_PROMPT=CHOSEN_PROMPT,\n",
    "            question=original_data[\"english\"][0],\n",
    "            answer=original_data[\"spanish\"][0],\n",
    "        ),\n",
    "        model=\"gemini\",  # gemini\n",
    "        is_indeterministic=True,\n",
    "    )\n",
    "\n",
    "    return eval(response)\n",
    "\n",
    "SYNTHETIC_DATA_FILEPATH = \"synthetic_translations_dataset.json\"\n",
    "if not os.path.exists(SYNTHETIC_DATA_FILEPATH):\n",
    "    qa_pairs = []\n",
    "    SAMPLE_SIZE = 40\n",
    "\n",
    "    # Generating synthetic data\n",
    "    pbar = tqdm(total=SAMPLE_SIZE)\n",
    "    while len(qa_pairs) < SAMPLE_SIZE:\n",
    "        try:\n",
    "            qa_pair = generate_qa_pair()\n",
    "            qa_pairs.append(qa_pair)\n",
    "            pbar.update(1)\n",
    "        except Exception as e:\n",
    "            print(e)\n",
    "    pbar.close()\n",
    "\n",
    "    # Saving to file\n",
    "    with open(SYNTHETIC_DATA_FILEPATH, \"w\") as f:\n",
    "        f.write(str(qa_pairs))\n",
    "\n",
    "# Reading saved data\n",
    "with open(SYNTHETIC_DATA_FILEPATH, \"r\") as f:\n",
    "    qa_pairs = eval(f.read())\n",
    "\n",
    "qa_pairs"
   ]
  },
  {
   "cell_type": "code",
   "execution_count": 4,
   "metadata": {},
   "outputs": [
    {
     "data": {
      "text/plain": [
       "(10, 10, 25, 25)"
      ]
     },
     "execution_count": 4,
     "metadata": {},
     "output_type": "execute_result"
    }
   ],
   "source": [
    "TRAINING_SAMPLE_SIZE = 10\n",
    "TESTING_SAMPLE_SIZE = 25\n",
    "\n",
    "training_sample = Dataset.from_dict(\n",
    "    {\n",
    "        \"english\": [pair[\"question\"] for pair in qa_pairs[:TRAINING_SAMPLE_SIZE]],\n",
    "        \"spanish\": [pair[\"answer\"] for pair in qa_pairs[:TRAINING_SAMPLE_SIZE]],\n",
    "    }\n",
    ")\n",
    "\n",
    "testing_sample = Dataset.from_dict(\n",
    "    {\n",
    "        \"english\": [\n",
    "            pair[\"question\"]\n",
    "            for pair in qa_pairs[\n",
    "                TRAINING_SAMPLE_SIZE : TRAINING_SAMPLE_SIZE + TESTING_SAMPLE_SIZE\n",
    "            ]\n",
    "        ],\n",
    "        \"spanish\": [\n",
    "            pair[\"answer\"]\n",
    "            for pair in qa_pairs[\n",
    "                TRAINING_SAMPLE_SIZE : TRAINING_SAMPLE_SIZE + TESTING_SAMPLE_SIZE\n",
    "            ]\n",
    "        ],\n",
    "    }\n",
    ")\n",
    "\n",
    "# Checking if the lists are parallel, i.e. the question and answer at the same index are related\n",
    "len(training_sample[\"english\"]), len(training_sample[\"spanish\"]), len(testing_sample[\"english\"]), len(testing_sample[\"spanish\"])"
   ]
  },
  {
   "cell_type": "markdown",
   "metadata": {},
   "source": [
    "### Optimize Prompt on Synthetic Data"
   ]
  },
  {
   "cell_type": "code",
   "execution_count": 5,
   "metadata": {},
   "outputs": [],
   "source": [
    "def has_correct_keywords(s):\n",
    "    extract_keys = lambda x: re.findall(r'{(.*?)}', x)\n",
    "    return extract_keys(s) == ['LANGUAGE', 'TEXT']\n",
    "\n",
    "\n",
    "def opt_llm(instruction_score_pairs):\n",
    "    # Format the instruction and score pairs into a string\n",
    "    pairs_str = \"\"\n",
    "    for ins, score in instruction_score_pairs.items():\n",
    "        pairs_str += f\"text:\\n{ins}\\nscore:\\n{score:.2f}\\n\\n\"\n",
    "\n",
    "    prompt = \"\"\"You are an optimization expert. The user has some texts along with their corresponding scores.\n",
    "Your task is to generate a new piece of text that scores as high as possible. \n",
    "Generate the new unique text only, not its corresponding score.\n",
    "\n",
    "Here are some texts along with their corresponding scores. The texts are arranged in ascending order\n",
    "based on their scores, where higher scores indicate better quality.\n",
    "\n",
    "{pairs_str}\n",
    "\n",
    "Write your new text that is different from the old ones and has a score as high as possible.\n",
    "Generate the new unique text only, not its corresponding score.\n",
    "New instruction:\n",
    "\"\"\"\n",
    "    response = \"\"\n",
    "    while not has_correct_keywords(response):\n",
    "        response = opro.generate(\n",
    "            prompt.format(pairs_str=pairs_str),\n",
    "            model=\"gemini\",  # gemini\n",
    "            is_indeterministic=True,\n",
    "        )\n",
    "    return response\n",
    "\n",
    "\n",
    "def score(prompt, sample):\n",
    "    \"\"\"\n",
    "    Score the instruction using the sample.\n",
    "\n",
    "    Args:\n",
    "    instruction: str\n",
    "    sample: Dataset with \"question\" and \"answer\" as keys\n",
    "\n",
    "    Returns:\n",
    "    accuracy: float\n",
    "    \"\"\"\n",
    "    accuracy = 0\n",
    "    with tqdm(sample, desc=prompt, position=1, leave=False) as pbar:\n",
    "        for idx, sample_qa in enumerate(pbar):\n",
    "            res = opro.generate(\n",
    "                prompt.format(LANGUAGE=\"Spanish\", TEXT=sample_qa[\"english\"]),\n",
    "                model=\"gemma\",  # gemma\n",
    "            )\n",
    "            # Heuristic for detecting correctness\n",
    "            accuracy += opro.similarity(sample_qa[\"spanish\"], res)\n",
    "            pbar.set_postfix({\"Accuracy\": f\"{accuracy / (idx + 1):.2f}\"})\n",
    "\n",
    "    return accuracy / len(sample) * 100"
   ]
  },
  {
   "cell_type": "code",
   "execution_count": 14,
   "metadata": {},
   "outputs": [
    {
     "name": "stdout",
     "output_type": "stream",
     "text": [
      "Step 11\n"
     ]
    },
    {
     "data": {
      "application/vnd.jupyter.widget-view+json": {
       "model_id": "9fdae7892c7440a4b8856a774ece7547",
       "version_major": 2,
       "version_minor": 0
      },
      "text/plain": [
       "Optimizing:   0%|          | 0/8 [00:00<?, ?it/s]"
      ]
     },
     "metadata": {},
     "output_type": "display_data"
    },
    {
     "name": "stdout",
     "output_type": "stream",
     "text": [
      "['Translate the following text into {LANGUAGE}:\\n\\n{TEXT}\\n\\n**Notes**:\\n- Only provide the translated content, excluding the original text.\\n- Aim for quality, not quantity.\\n- Avoid direct translations and ensure the result reads smoothly.\\n- Remove any unnecessary salutations or additional information.', 'Translate the following text to {LANGUAGE}:\\n\\n{TEXT}\\n\\nNotes:\\n- No chitchat.\\n- Be precise.\\n- Return only the translated content, do not include the original text.', 'Translate the below text into {LANGUAGE}. Remove unnecessary prefixes, suffixes, or acknowledgements. Additionally, do not include the original text.\\n\\n{TEXT}', 'Translate the following text into {LANGUAGE}. Please provide only the translation, omitting the original. Ensure a high-quality translation free of grammatical errors and awkward phrasing. Conciseness and clarity are crucial.\\n\\n{TEXT}\\n\\n**Note**: No additional context or annotations should be included.', \"Translate the provided text to {LANGUAGE}:\\n\\n{TEXT}\\n\\n**Notes:**\\n\\n- Only include the translated text and exclude the original or additional information.\\n- Your translation should fully capture the meaning and context of the original text.\\n- Aim for accuracy, clarity, and fluency in the translation, ensuring it reads smoothly in the target language. Avoid word-for-word translations or awkward phrasing.\\n- Provide a high-quality translation that adheres to the target language's grammar and syntax while reflecting the original text's tone and style.\", 'Translate the following text to {LANGUAGE}:\\n\\n{TEXT}\\n\\n**Note**: Provide a high-quality translation only, omitting any other text. Use proper grammar and sentence structure.', 'Translate the following text into {LANGUAGE}, providing only the translated text without including any other context, instructions, or examples: \\n\\n{TEXT}', 'Translate the following text to {LANGUAGE}, providing only the translated text and excluding the original. Ensure that the translation is clear, concise, and grammatically correct:\\n\\n{TEXT}']\n"
     ]
    },
    {
     "data": {
      "application/vnd.jupyter.widget-view+json": {
       "model_id": "9339e125ca31458bbe9b7f665379ee01",
       "version_major": 2,
       "version_minor": 0
      },
      "text/plain": [
       "Scoring:   0%|          | 0/8 [00:00<?, ?it/s]"
      ]
     },
     "metadata": {},
     "output_type": "display_data"
    },
    {
     "data": {
      "application/vnd.jupyter.widget-view+json": {
       "model_id": "0ef9672f142a46a0ab88b3127ee3e3e9",
       "version_major": 2,
       "version_minor": 0
      },
      "text/plain": [
       "Translate the following text into {LANGUAGE}:\n",
       "\n",
       "{TEXT}\n",
       "\n",
       "**Notes**:\n",
       "- Only provide the translated content, exclu…"
      ]
     },
     "metadata": {},
     "output_type": "display_data"
    },
    {
     "data": {
      "application/vnd.jupyter.widget-view+json": {
       "model_id": "847a078ecc664481a00b3d22fd5b6601",
       "version_major": 2,
       "version_minor": 0
      },
      "text/plain": [
       "Translate the following text to {LANGUAGE}:\n",
       "\n",
       "{TEXT}\n",
       "\n",
       "Notes:\n",
       "- No chitchat.\n",
       "- Be precise.\n",
       "- Return only the tra…"
      ]
     },
     "metadata": {},
     "output_type": "display_data"
    },
    {
     "data": {
      "application/vnd.jupyter.widget-view+json": {
       "model_id": "67f78c9b56fe48838da41bfdefd0b53b",
       "version_major": 2,
       "version_minor": 0
      },
      "text/plain": [
       "Translate the below text into {LANGUAGE}. Remove unnecessary prefixes, suffixes, or acknowledgements. Addition…"
      ]
     },
     "metadata": {},
     "output_type": "display_data"
    },
    {
     "data": {
      "application/vnd.jupyter.widget-view+json": {
       "model_id": "e95c89a879fa436981f6731aed002964",
       "version_major": 2,
       "version_minor": 0
      },
      "text/plain": [
       "Translate the following text into {LANGUAGE}. Please provide only the translation, omitting the original. Ensu…"
      ]
     },
     "metadata": {},
     "output_type": "display_data"
    },
    {
     "data": {
      "application/vnd.jupyter.widget-view+json": {
       "model_id": "96a59ab2a7924c07bce2f8a758b6d561",
       "version_major": 2,
       "version_minor": 0
      },
      "text/plain": [
       "Translate the provided text to {LANGUAGE}:\n",
       "\n",
       "{TEXT}\n",
       "\n",
       "**Notes:**\n",
       "\n",
       "- Only include the translated text and exclude…"
      ]
     },
     "metadata": {},
     "output_type": "display_data"
    },
    {
     "data": {
      "application/vnd.jupyter.widget-view+json": {
       "model_id": "71a3fec2a9084263918fe1280d2f5296",
       "version_major": 2,
       "version_minor": 0
      },
      "text/plain": [
       "Translate the following text to {LANGUAGE}:\n",
       "\n",
       "{TEXT}\n",
       "\n",
       "**Note**: Provide a high-quality translation only, omitti…"
      ]
     },
     "metadata": {},
     "output_type": "display_data"
    },
    {
     "data": {
      "application/vnd.jupyter.widget-view+json": {
       "model_id": "4539b264fff24c0b8448deaef4ed349b",
       "version_major": 2,
       "version_minor": 0
      },
      "text/plain": [
       "Translate the following text into {LANGUAGE}, providing only the translated text without including any other c…"
      ]
     },
     "metadata": {},
     "output_type": "display_data"
    },
    {
     "data": {
      "application/vnd.jupyter.widget-view+json": {
       "model_id": "63836766997a47ebb5ead451db837e50",
       "version_major": 2,
       "version_minor": 0
      },
      "text/plain": [
       "Translate the following text to {LANGUAGE}, providing only the translated text and excluding the original. Ens…"
      ]
     },
     "metadata": {},
     "output_type": "display_data"
    },
    {
     "name": "stdout",
     "output_type": "stream",
     "text": [
      "{'Translate the following text into {LANGUAGE}:\\n\\n{TEXT}\\n\\n**Notes**:\\n- Only provide the translated content, excluding the original text.\\n- Aim for quality, not quantity.\\n- Avoid direct translations and ensure the result reads smoothly.\\n- Remove any unnecessary salutations or additional information.': 53.6855673789978, 'Translate the following text to {LANGUAGE}:\\n\\n{TEXT}\\n\\nNotes:\\n- No chitchat.\\n- Be precise.\\n- Return only the translated content, do not include the original text.': 54.78341311216355, 'Translate the below text into {LANGUAGE}. Remove unnecessary prefixes, suffixes, or acknowledgements. Additionally, do not include the original text.\\n\\n{TEXT}': 65.92122614383698, 'Translate the following text into {LANGUAGE}. Please provide only the translation, omitting the original. Ensure a high-quality translation free of grammatical errors and awkward phrasing. Conciseness and clarity are crucial.\\n\\n{TEXT}\\n\\n**Note**: No additional context or annotations should be included.': 67.15321749448776, \"Translate the provided text to {LANGUAGE}:\\n\\n{TEXT}\\n\\n**Notes:**\\n\\n- Only include the translated text and exclude the original or additional information.\\n- Your translation should fully capture the meaning and context of the original text.\\n- Aim for accuracy, clarity, and fluency in the translation, ensuring it reads smoothly in the target language. Avoid word-for-word translations or awkward phrasing.\\n- Provide a high-quality translation that adheres to the target language's grammar and syntax while reflecting the original text's tone and style.\": 43.58800292015076, 'Translate the following text to {LANGUAGE}:\\n\\n{TEXT}\\n\\n**Note**: Provide a high-quality translation only, omitting any other text. Use proper grammar and sentence structure.': 51.31910264492034, 'Translate the following text into {LANGUAGE}, providing only the translated text without including any other context, instructions, or examples: \\n\\n{TEXT}': 56.02422066032886, 'Translate the following text to {LANGUAGE}, providing only the translated text and excluding the original. Ensure that the translation is clear, concise, and grammatically correct:\\n\\n{TEXT}': 64.11052465438843}\n",
      "Step 12\n"
     ]
    },
    {
     "data": {
      "application/vnd.jupyter.widget-view+json": {
       "model_id": "1e6314065104462bba4207747b6e0231",
       "version_major": 2,
       "version_minor": 0
      },
      "text/plain": [
       "Optimizing:   0%|          | 0/8 [00:00<?, ?it/s]"
      ]
     },
     "metadata": {},
     "output_type": "display_data"
    },
    {
     "name": "stdout",
     "output_type": "stream",
     "text": [
      "['Translate the following text into {LANGUAGE}. Provide a concise, accurate translation, excluding the original text.\\n\\n{TEXT}', 'Translate the following text into {LANGUAGE}. Please provide only the translated text, omitting all other information.\\n\\n{TEXT}', 'Translate the following text to {LANGUAGE}, excluding any context, prefixes, suffixes, or additional information. Please provide only the translated text:\\n\\n{TEXT}', 'Translate the following text into {LANGUAGE}:\\n\\n{TEXT}\\n\\n**Note**:\\n- Translate the text without including the original text.\\n- Ensure the translation is clear, concise, accurate, and follows the grammar and syntax of the target language.\\n- Omit any unnecessary prefixes, suffixes, or acknowledgements.\\n- Avoid using awkward phrasing or direct translations.', 'Translate the below text into {LANGUAGE}. Return only translated content with no original text.\\n\\n{TEXT}', 'Translate the following text to {LANGUAGE}. Return only the translated content, excluding the original text:\\n\\n{TEXT}', 'Translate the following text into {LANGUAGE}.\\n{TEXT}', 'Translate the following text into {LANGUAGE}:\\n\\n{TEXT}\\n\\n**Note:** Return only the translated text.']\n"
     ]
    },
    {
     "data": {
      "application/vnd.jupyter.widget-view+json": {
       "model_id": "b5d147f890c9463b9c5da5c2af4b2a32",
       "version_major": 2,
       "version_minor": 0
      },
      "text/plain": [
       "Scoring:   0%|          | 0/8 [00:00<?, ?it/s]"
      ]
     },
     "metadata": {},
     "output_type": "display_data"
    },
    {
     "data": {
      "application/vnd.jupyter.widget-view+json": {
       "model_id": "4abe9805c92c4d62a6bbb9058fd01816",
       "version_major": 2,
       "version_minor": 0
      },
      "text/plain": [
       "Translate the following text into {LANGUAGE}. Provide a concise, accurate translation, excluding the original …"
      ]
     },
     "metadata": {},
     "output_type": "display_data"
    },
    {
     "data": {
      "application/vnd.jupyter.widget-view+json": {
       "model_id": "21b633c1ed78427b8fd908cace71d2b4",
       "version_major": 2,
       "version_minor": 0
      },
      "text/plain": [
       "Translate the following text into {LANGUAGE}. Please provide only the translated text, omitting all other info…"
      ]
     },
     "metadata": {},
     "output_type": "display_data"
    },
    {
     "data": {
      "application/vnd.jupyter.widget-view+json": {
       "model_id": "e3406040217c4b7592c63b981e446fd3",
       "version_major": 2,
       "version_minor": 0
      },
      "text/plain": [
       "Translate the following text to {LANGUAGE}, excluding any context, prefixes, suffixes, or additional informati…"
      ]
     },
     "metadata": {},
     "output_type": "display_data"
    },
    {
     "data": {
      "application/vnd.jupyter.widget-view+json": {
       "model_id": "723863108513476e8396791c333ac62a",
       "version_major": 2,
       "version_minor": 0
      },
      "text/plain": [
       "Translate the following text into {LANGUAGE}:\n",
       "\n",
       "{TEXT}\n",
       "\n",
       "**Note**:\n",
       "- Translate the text without including the or…"
      ]
     },
     "metadata": {},
     "output_type": "display_data"
    },
    {
     "data": {
      "application/vnd.jupyter.widget-view+json": {
       "model_id": "a526bbbf6afa42d7ae4631b85ca6dd3e",
       "version_major": 2,
       "version_minor": 0
      },
      "text/plain": [
       "Translate the below text into {LANGUAGE}. Return only translated content with no original text.\n",
       "\n",
       "{TEXT}:   0%|…"
      ]
     },
     "metadata": {},
     "output_type": "display_data"
    },
    {
     "data": {
      "application/vnd.jupyter.widget-view+json": {
       "model_id": "85f288294f744209b2051fc80ec1c044",
       "version_major": 2,
       "version_minor": 0
      },
      "text/plain": [
       "Translate the following text to {LANGUAGE}. Return only the translated content, excluding the original text:\n",
       "\n",
       "…"
      ]
     },
     "metadata": {},
     "output_type": "display_data"
    },
    {
     "data": {
      "application/vnd.jupyter.widget-view+json": {
       "model_id": "3ac438071c6d4bb5b32984c879da21ee",
       "version_major": 2,
       "version_minor": 0
      },
      "text/plain": [
       "Translate the following text into {LANGUAGE}.\n",
       "{TEXT}:   0%|          | 0/10 [00:00<?, ?it/s]"
      ]
     },
     "metadata": {},
     "output_type": "display_data"
    },
    {
     "data": {
      "application/vnd.jupyter.widget-view+json": {
       "model_id": "c46e94138f834d09960e129ca90db99e",
       "version_major": 2,
       "version_minor": 0
      },
      "text/plain": [
       "Translate the following text into {LANGUAGE}:\n",
       "\n",
       "{TEXT}\n",
       "\n",
       "**Note:** Return only the translated text.:   0%|      …"
      ]
     },
     "metadata": {},
     "output_type": "display_data"
    },
    {
     "name": "stdout",
     "output_type": "stream",
     "text": [
      "{'Translate the following text into {LANGUAGE}. Provide a concise, accurate translation, excluding the original text.\\n\\n{TEXT}': 59.00106847286224, 'Translate the following text into {LANGUAGE}. Please provide only the translated text, omitting all other information.\\n\\n{TEXT}': 56.537269204854965, 'Translate the following text to {LANGUAGE}, excluding any context, prefixes, suffixes, or additional information. Please provide only the translated text:\\n\\n{TEXT}': 72.91596829891205, 'Translate the following text into {LANGUAGE}:\\n\\n{TEXT}\\n\\n**Note**:\\n- Translate the text without including the original text.\\n- Ensure the translation is clear, concise, accurate, and follows the grammar and syntax of the target language.\\n- Omit any unnecessary prefixes, suffixes, or acknowledgements.\\n- Avoid using awkward phrasing or direct translations.': 62.154819667339325, 'Translate the below text into {LANGUAGE}. Return only translated content with no original text.\\n\\n{TEXT}': 54.29956465959549, 'Translate the following text to {LANGUAGE}. Return only the translated content, excluding the original text:\\n\\n{TEXT}': 56.73091262578964, 'Translate the following text into {LANGUAGE}.\\n{TEXT}': 49.87855985760689, 'Translate the following text into {LANGUAGE}:\\n\\n{TEXT}\\n\\n**Note:** Return only the translated text.': 63.23759123682976}\n",
      "Step 13\n"
     ]
    },
    {
     "data": {
      "application/vnd.jupyter.widget-view+json": {
       "model_id": "0c13913bd9ad41cf9a2be26d56d756a9",
       "version_major": 2,
       "version_minor": 0
      },
      "text/plain": [
       "Optimizing:   0%|          | 0/8 [00:00<?, ?it/s]"
      ]
     },
     "metadata": {},
     "output_type": "display_data"
    },
    {
     "name": "stdout",
     "output_type": "stream",
     "text": [
      "['Translate the following text to {LANGUAGE} in a concise, clear, and precise way. Only provide the translated content.\\n\\n{TEXT}', 'Translate the following text into {LANGUAGE}. Please provide a concise translation and include only the translated text:\\n\\n{TEXT}\\n*Note*: Be succinct and precise in your translation. Exclude any unnecessary details or annotations. Ensure the translated text is grammatically correct and has a natural flow.', 'Translate the following text to {LANGUAGE}. Do not include the original text, any comments, prefixes, or suffixes. Provide only the high-quality translation.\\n\\n{TEXT}', 'Translate the below text into {LANGUAGE} without including the original text:\\n\\n{TEXT}', 'Translate the following text to {LANGUAGE}:\\n\\n{TEXT}', 'Translate the following text into the target {LANGUAGE}, excluding any additional information, context, examples, or attachments. Return only the translated text, ensuring clarity and accuracy.\\n\\n{TEXT}', 'Translate the following text into {LANGUAGE}, excluding any irrelevant information or notes. Only provide the translation, ensuring it is accurate and in the appropriate tone and style for the target language:\\n\\n{TEXT}', 'Translate the provided text to {LANGUAGE}, including only the translated content and no additional information. The translation should be concise, clear, and of high quality. Exclude the original text.\\n\\n{TEXT}']\n"
     ]
    },
    {
     "data": {
      "application/vnd.jupyter.widget-view+json": {
       "model_id": "0d0ea5aa632c44d4bd62d576ac4e5728",
       "version_major": 2,
       "version_minor": 0
      },
      "text/plain": [
       "Scoring:   0%|          | 0/8 [00:00<?, ?it/s]"
      ]
     },
     "metadata": {},
     "output_type": "display_data"
    },
    {
     "data": {
      "application/vnd.jupyter.widget-view+json": {
       "model_id": "8dbad4d51eb540b3b83b8277bf136558",
       "version_major": 2,
       "version_minor": 0
      },
      "text/plain": [
       "Translate the following text to {LANGUAGE} in a concise, clear, and precise way. Only provide the translated c…"
      ]
     },
     "metadata": {},
     "output_type": "display_data"
    },
    {
     "data": {
      "application/vnd.jupyter.widget-view+json": {
       "model_id": "1b84264229ac41b7960713162910a769",
       "version_major": 2,
       "version_minor": 0
      },
      "text/plain": [
       "Translate the following text into {LANGUAGE}. Please provide a concise translation and include only the transl…"
      ]
     },
     "metadata": {},
     "output_type": "display_data"
    },
    {
     "data": {
      "application/vnd.jupyter.widget-view+json": {
       "model_id": "6b4979db2a774e57b3b3fb2b3b37b55e",
       "version_major": 2,
       "version_minor": 0
      },
      "text/plain": [
       "Translate the following text to {LANGUAGE}. Do not include the original text, any comments, prefixes, or suffi…"
      ]
     },
     "metadata": {},
     "output_type": "display_data"
    },
    {
     "data": {
      "application/vnd.jupyter.widget-view+json": {
       "model_id": "3ac67e94d970416c970b39dabf491eb3",
       "version_major": 2,
       "version_minor": 0
      },
      "text/plain": [
       "Translate the below text into {LANGUAGE} without including the original text:\n",
       "\n",
       "{TEXT}:   0%|          | 0/10 […"
      ]
     },
     "metadata": {},
     "output_type": "display_data"
    },
    {
     "data": {
      "application/vnd.jupyter.widget-view+json": {
       "model_id": "72845794bc9e48aeb1bf59ced0d177a8",
       "version_major": 2,
       "version_minor": 0
      },
      "text/plain": [
       "Translate the following text to {LANGUAGE}:\n",
       "\n",
       "{TEXT}:   0%|          | 0/10 [00:00<?, ?it/s]"
      ]
     },
     "metadata": {},
     "output_type": "display_data"
    },
    {
     "data": {
      "application/vnd.jupyter.widget-view+json": {
       "model_id": "5eadb9c5e43e42d2bf24e154dda275d5",
       "version_major": 2,
       "version_minor": 0
      },
      "text/plain": [
       "Translate the following text into the target {LANGUAGE}, excluding any additional information, context, exampl…"
      ]
     },
     "metadata": {},
     "output_type": "display_data"
    },
    {
     "data": {
      "application/vnd.jupyter.widget-view+json": {
       "model_id": "a4775e22caeb4d9ab8687049180e1aac",
       "version_major": 2,
       "version_minor": 0
      },
      "text/plain": [
       "Translate the following text into {LANGUAGE}, excluding any irrelevant information or notes. Only provide the …"
      ]
     },
     "metadata": {},
     "output_type": "display_data"
    },
    {
     "data": {
      "application/vnd.jupyter.widget-view+json": {
       "model_id": "c7796c85e86547c18a3b90515e0e0658",
       "version_major": 2,
       "version_minor": 0
      },
      "text/plain": [
       "Translate the provided text to {LANGUAGE}, including only the translated content and no additional information…"
      ]
     },
     "metadata": {},
     "output_type": "display_data"
    },
    {
     "name": "stdout",
     "output_type": "stream",
     "text": [
      "{'Translate the following text to {LANGUAGE} in a concise, clear, and precise way. Only provide the translated content.\\n\\n{TEXT}': 54.75095331668853, 'Translate the following text into {LANGUAGE}. Please provide a concise translation and include only the translated text:\\n\\n{TEXT}\\n*Note*: Be succinct and precise in your translation. Exclude any unnecessary details or annotations. Ensure the translated text is grammatically correct and has a natural flow.': 64.23439264297485, 'Translate the following text to {LANGUAGE}. Do not include the original text, any comments, prefixes, or suffixes. Provide only the high-quality translation.\\n\\n{TEXT}': 68.00314754247665, 'Translate the below text into {LANGUAGE} without including the original text:\\n\\n{TEXT}': 60.297469794750214, 'Translate the following text to {LANGUAGE}:\\n\\n{TEXT}': 47.081865072250366, 'Translate the following text into the target {LANGUAGE}, excluding any additional information, context, examples, or attachments. Return only the translated text, ensuring clarity and accuracy.\\n\\n{TEXT}': 76.18050217628479, 'Translate the following text into {LANGUAGE}, excluding any irrelevant information or notes. Only provide the translation, ensuring it is accurate and in the appropriate tone and style for the target language:\\n\\n{TEXT}': 64.3307089805603, 'Translate the provided text to {LANGUAGE}, including only the translated content and no additional information. The translation should be concise, clear, and of high quality. Exclude the original text.\\n\\n{TEXT}': 63.948534727096565}\n",
      "Step 14\n"
     ]
    },
    {
     "data": {
      "application/vnd.jupyter.widget-view+json": {
       "model_id": "5d402cefc25f440da97274cca0e0346d",
       "version_major": 2,
       "version_minor": 0
      },
      "text/plain": [
       "Optimizing:   0%|          | 0/8 [00:00<?, ?it/s]"
      ]
     },
     "metadata": {},
     "output_type": "display_data"
    },
    {
     "name": "stdout",
     "output_type": "stream",
     "text": [
      "['Translate the following text into {LANGUAGE}. Include only the relevant translation, omitting the original text and any unnecessary context or additional information. Ensure the translation is concise, accurate, and reflects the style and tone of the target language:\\n\\n{TEXT}', 'Translate the following text into {LANGUAGE}, ensuring the translation is precise and free of any unnecessary context or instructions. Provide only the translated text in a clear and direct manner.\\n\\n{TEXT}', 'Translate the following text to {LANGUAGE}, providing only the translated text. Ensure the translation is concise, grammatically correct, and closely adheres to the original meaning. Please exclude any additional context or explanations.\\n\\n{TEXT}', 'Translate the provided text into {LANGUAGE}. Return only the translation, excluding any formatting, notes, or additional information:\\n\\n{TEXT}', 'Translate the provided text into the desired {LANGUAGE}, excluding any annotations, additional context or explanations. Ensure the resulting translation is concise and clear, adhering to the grammatical and stylistic conventions of the target language:\\n\\n{TEXT}', 'Translate the following text into {LANGUAGE}. Ensure the translation is accurate and of high quality. Return only the translated text, excluding any additional information or notes.\\n\\n{TEXT}', 'Translate the included text into {LANGUAGE}, but include solely the translated text. Exclude any quotations, salutations, unnecessary phrases, annotations, or additional details. Ensure the translation is accurate, comprehensive, and grammatically correct:\\n\\n{TEXT}', 'Translate the following text into {LANGUAGE}, excluding any redundant or unnecessary content. Provide only a high-quality, accurate translation that follows the style and tone of the source text:\\n\\n{TEXT}']\n"
     ]
    },
    {
     "data": {
      "application/vnd.jupyter.widget-view+json": {
       "model_id": "484a5c78313049a7907e8530ddbcc8fe",
       "version_major": 2,
       "version_minor": 0
      },
      "text/plain": [
       "Scoring:   0%|          | 0/8 [00:00<?, ?it/s]"
      ]
     },
     "metadata": {},
     "output_type": "display_data"
    },
    {
     "data": {
      "application/vnd.jupyter.widget-view+json": {
       "model_id": "a170ab0defdd4cbe8be6355bc8c7b8b7",
       "version_major": 2,
       "version_minor": 0
      },
      "text/plain": [
       "Translate the following text into {LANGUAGE}. Include only the relevant translation, omitting the original tex…"
      ]
     },
     "metadata": {},
     "output_type": "display_data"
    },
    {
     "data": {
      "application/vnd.jupyter.widget-view+json": {
       "model_id": "9fc6a273a2f6446488f4c6cdee1d5fa1",
       "version_major": 2,
       "version_minor": 0
      },
      "text/plain": [
       "Translate the following text into {LANGUAGE}, ensuring the translation is precise and free of any unnecessary …"
      ]
     },
     "metadata": {},
     "output_type": "display_data"
    },
    {
     "data": {
      "application/vnd.jupyter.widget-view+json": {
       "model_id": "f7379a93623f423c896dbe614d0c6a66",
       "version_major": 2,
       "version_minor": 0
      },
      "text/plain": [
       "Translate the following text to {LANGUAGE}, providing only the translated text. Ensure the translation is conc…"
      ]
     },
     "metadata": {},
     "output_type": "display_data"
    },
    {
     "data": {
      "application/vnd.jupyter.widget-view+json": {
       "model_id": "9aa840ca15cc40078870994ac4b3ea8b",
       "version_major": 2,
       "version_minor": 0
      },
      "text/plain": [
       "Translate the provided text into {LANGUAGE}. Return only the translation, excluding any formatting, notes, or …"
      ]
     },
     "metadata": {},
     "output_type": "display_data"
    },
    {
     "data": {
      "application/vnd.jupyter.widget-view+json": {
       "model_id": "0f5c828287f046bb85288b2f8243b2c5",
       "version_major": 2,
       "version_minor": 0
      },
      "text/plain": [
       "Translate the provided text into the desired {LANGUAGE}, excluding any annotations, additional context or expl…"
      ]
     },
     "metadata": {},
     "output_type": "display_data"
    },
    {
     "data": {
      "application/vnd.jupyter.widget-view+json": {
       "model_id": "c61427a0fc4e45bd9632424c24989b32",
       "version_major": 2,
       "version_minor": 0
      },
      "text/plain": [
       "Translate the following text into {LANGUAGE}. Ensure the translation is accurate and of high quality. Return o…"
      ]
     },
     "metadata": {},
     "output_type": "display_data"
    },
    {
     "data": {
      "application/vnd.jupyter.widget-view+json": {
       "model_id": "759dc2b507a1468686bdb4da7b8e1aaf",
       "version_major": 2,
       "version_minor": 0
      },
      "text/plain": [
       "Translate the included text into {LANGUAGE}, but include solely the translated text. Exclude any quotations, s…"
      ]
     },
     "metadata": {},
     "output_type": "display_data"
    },
    {
     "data": {
      "application/vnd.jupyter.widget-view+json": {
       "model_id": "7861b71993014f5ea6030fa845e9a4a4",
       "version_major": 2,
       "version_minor": 0
      },
      "text/plain": [
       "Translate the following text into {LANGUAGE}, excluding any redundant or unnecessary content. Provide only a h…"
      ]
     },
     "metadata": {},
     "output_type": "display_data"
    },
    {
     "name": "stdout",
     "output_type": "stream",
     "text": [
      "{'Translate the following text into {LANGUAGE}. Include only the relevant translation, omitting the original text and any unnecessary context or additional information. Ensure the translation is concise, accurate, and reflects the style and tone of the target language:\\n\\n{TEXT}': 65.99154949188232, 'Translate the following text into {LANGUAGE}, ensuring the translation is precise and free of any unnecessary context or instructions. Provide only the translated text in a clear and direct manner.\\n\\n{TEXT}': 58.36169317364692, 'Translate the following text to {LANGUAGE}, providing only the translated text. Ensure the translation is concise, grammatically correct, and closely adheres to the original meaning. Please exclude any additional context or explanations.\\n\\n{TEXT}': 69.59936916828156, 'Translate the provided text into {LANGUAGE}. Return only the translation, excluding any formatting, notes, or additional information:\\n\\n{TEXT}': 71.4281216263771, 'Translate the provided text into the desired {LANGUAGE}, excluding any annotations, additional context or explanations. Ensure the resulting translation is concise and clear, adhering to the grammatical and stylistic conventions of the target language:\\n\\n{TEXT}': 64.59516674280167, 'Translate the following text into {LANGUAGE}. Ensure the translation is accurate and of high quality. Return only the translated text, excluding any additional information or notes.\\n\\n{TEXT}': 71.23314067721367, 'Translate the included text into {LANGUAGE}, but include solely the translated text. Exclude any quotations, salutations, unnecessary phrases, annotations, or additional details. Ensure the translation is accurate, comprehensive, and grammatically correct:\\n\\n{TEXT}': 74.30954188108444, 'Translate the following text into {LANGUAGE}, excluding any redundant or unnecessary content. Provide only a high-quality, accurate translation that follows the style and tone of the source text:\\n\\n{TEXT}': 61.94598466157913}\n",
      "Step 15\n"
     ]
    },
    {
     "data": {
      "application/vnd.jupyter.widget-view+json": {
       "model_id": "89e2e5aeacec42c6b960a6984c999599",
       "version_major": 2,
       "version_minor": 0
      },
      "text/plain": [
       "Optimizing:   0%|          | 0/8 [00:00<?, ?it/s]"
      ]
     },
     "metadata": {},
     "output_type": "display_data"
    },
    {
     "name": "stdout",
     "output_type": "stream",
     "text": [
      "['Translate the provided text into {LANGUAGE}: \\n\\n{TEXT}\\n\\n**NB:** Include the following in the translation:\\n- Avoid using technical terms or jargon.\\n- Ensure the translation is accurate, complete, and grammatically correct.\\n- Convey the original meaning and tone of the text.\\n- Only provide the translated text without additional comments or context.', 'Translate the following text to {LANGUAGE} without including anything other than the translated text:\\n\\n{TEXT}', 'Translate the following text into {LANGUAGE}. Return solely the translated text, excluding any source text, quotations, salutations, date/time stamps, and unnecessary phrasing or context. Ensure the translation is precise, grammatically correct, and tonally appropriate for the target language:\\n\\n{TEXT}', 'Translate the following text into {LANGUAGE}, excluding any supporting content, explanations, and additional formatting. Please provide only the translation itself, ensuring accuracy and clarity.\\n\\n{TEXT}', 'Translate the text given below into {LANGUAGE}. Ensure that your translation is accurate, correct, and contains no grammatical errors. Exclude the original text and any additional information:\\n\\n{TEXT}', 'Translate the following text into {LANGUAGE}, ensuring accuracy and maintaining the intended meaning. Provide only the translated text without any additional context or explanations.\\n\\n{TEXT}', 'Translate the following text into {LANGUAGE} while adhering to the following guidelines:\\n- Exclude any additional information, such as the source text or the purpose of the translation.\\n- Omit any unnecessary prefixes or suffixes.\\n- Provide a concise and accurate translation that reads smoothly and follows the grammar and syntax of the target language.\\n- Ensure the translation is free of awkward wording or direct translations.\\n\\n{TEXT}', 'Translate the following text into {LANGUAGE}, keeping the translation concise and straightforward. Avoid adding any unnecessary content or including any instructions, headers, or footers. Provide only the translated text.\\n\\n{TEXT}']\n"
     ]
    },
    {
     "data": {
      "application/vnd.jupyter.widget-view+json": {
       "model_id": "111d771bec94477d97160d3feea8d6b1",
       "version_major": 2,
       "version_minor": 0
      },
      "text/plain": [
       "Scoring:   0%|          | 0/8 [00:00<?, ?it/s]"
      ]
     },
     "metadata": {},
     "output_type": "display_data"
    },
    {
     "data": {
      "application/vnd.jupyter.widget-view+json": {
       "model_id": "8237646abd5448abb9684439402d6158",
       "version_major": 2,
       "version_minor": 0
      },
      "text/plain": [
       "Translate the provided text into {LANGUAGE}: \n",
       "\n",
       "{TEXT}\n",
       "\n",
       "**NB:** Include the following in the translation:\n",
       "- Avo…"
      ]
     },
     "metadata": {},
     "output_type": "display_data"
    },
    {
     "data": {
      "application/vnd.jupyter.widget-view+json": {
       "model_id": "41cd19c5241b4786a7de6bf490af22bb",
       "version_major": 2,
       "version_minor": 0
      },
      "text/plain": [
       "Translate the following text to {LANGUAGE} without including anything other than the translated text:\n",
       "\n",
       "{TEXT}:…"
      ]
     },
     "metadata": {},
     "output_type": "display_data"
    },
    {
     "data": {
      "application/vnd.jupyter.widget-view+json": {
       "model_id": "bbd7789527f544339e9f51baac867dc4",
       "version_major": 2,
       "version_minor": 0
      },
      "text/plain": [
       "Translate the following text into {LANGUAGE}. Return solely the translated text, excluding any source text, qu…"
      ]
     },
     "metadata": {},
     "output_type": "display_data"
    },
    {
     "data": {
      "application/vnd.jupyter.widget-view+json": {
       "model_id": "a519c6a6399f4d97a863dbf98f64d1d4",
       "version_major": 2,
       "version_minor": 0
      },
      "text/plain": [
       "Translate the following text into {LANGUAGE}, excluding any supporting content, explanations, and additional f…"
      ]
     },
     "metadata": {},
     "output_type": "display_data"
    },
    {
     "data": {
      "application/vnd.jupyter.widget-view+json": {
       "model_id": "d3c84f84af974512971e5f832e2529cb",
       "version_major": 2,
       "version_minor": 0
      },
      "text/plain": [
       "Translate the text given below into {LANGUAGE}. Ensure that your translation is accurate, correct, and contain…"
      ]
     },
     "metadata": {},
     "output_type": "display_data"
    },
    {
     "data": {
      "application/vnd.jupyter.widget-view+json": {
       "model_id": "094fccb37fc6469988d84b2763a83b73",
       "version_major": 2,
       "version_minor": 0
      },
      "text/plain": [
       "Translate the following text into {LANGUAGE}, ensuring accuracy and maintaining the intended meaning. Provide …"
      ]
     },
     "metadata": {},
     "output_type": "display_data"
    },
    {
     "data": {
      "application/vnd.jupyter.widget-view+json": {
       "model_id": "d3025f72a3514e38a80993f806177ba0",
       "version_major": 2,
       "version_minor": 0
      },
      "text/plain": [
       "Translate the following text into {LANGUAGE} while adhering to the following guidelines:\n",
       "- Exclude any additio…"
      ]
     },
     "metadata": {},
     "output_type": "display_data"
    },
    {
     "data": {
      "application/vnd.jupyter.widget-view+json": {
       "model_id": "5a6d11496e144929ae785f70c4b0d96a",
       "version_major": 2,
       "version_minor": 0
      },
      "text/plain": [
       "Translate the following text into {LANGUAGE}, keeping the translation concise and straightforward. Avoid addin…"
      ]
     },
     "metadata": {},
     "output_type": "display_data"
    },
    {
     "name": "stdout",
     "output_type": "stream",
     "text": [
      "{'Translate the provided text into {LANGUAGE}: \\n\\n{TEXT}\\n\\n**NB:** Include the following in the translation:\\n- Avoid using technical terms or jargon.\\n- Ensure the translation is accurate, complete, and grammatically correct.\\n- Convey the original meaning and tone of the text.\\n- Only provide the translated text without additional comments or context.': 47.54816949367523, 'Translate the following text to {LANGUAGE} without including anything other than the translated text:\\n\\n{TEXT}': 62.23509967327118, 'Translate the following text into {LANGUAGE}. Return solely the translated text, excluding any source text, quotations, salutations, date/time stamps, and unnecessary phrasing or context. Ensure the translation is precise, grammatically correct, and tonally appropriate for the target language:\\n\\n{TEXT}': 64.30480822920799, 'Translate the following text into {LANGUAGE}, excluding any supporting content, explanations, and additional formatting. Please provide only the translation itself, ensuring accuracy and clarity.\\n\\n{TEXT}': 76.22225493192673, 'Translate the text given below into {LANGUAGE}. Ensure that your translation is accurate, correct, and contains no grammatical errors. Exclude the original text and any additional information:\\n\\n{TEXT}': 56.11415296792984, 'Translate the following text into {LANGUAGE}, ensuring accuracy and maintaining the intended meaning. Provide only the translated text without any additional context or explanations.\\n\\n{TEXT}': 65.81957325339317, 'Translate the following text into {LANGUAGE} while adhering to the following guidelines:\\n- Exclude any additional information, such as the source text or the purpose of the translation.\\n- Omit any unnecessary prefixes or suffixes.\\n- Provide a concise and accurate translation that reads smoothly and follows the grammar and syntax of the target language.\\n- Ensure the translation is free of awkward wording or direct translations.\\n\\n{TEXT}': 59.8281878232956, 'Translate the following text into {LANGUAGE}, keeping the translation concise and straightforward. Avoid adding any unnecessary content or including any instructions, headers, or footers. Provide only the translated text.\\n\\n{TEXT}': 67.0055940747261}\n",
      "Step 16\n"
     ]
    },
    {
     "data": {
      "application/vnd.jupyter.widget-view+json": {
       "model_id": "78bf432a37844edb932c145bdcd53189",
       "version_major": 2,
       "version_minor": 0
      },
      "text/plain": [
       "Optimizing:   0%|          | 0/8 [00:00<?, ?it/s]"
      ]
     },
     "metadata": {},
     "output_type": "display_data"
    },
    {
     "name": "stdout",
     "output_type": "stream",
     "text": [
      "['Translate the provided text into {LANGUAGE}, excluding any preambles or unnecessary details. Please ensure the translation is accurate and reflects the tone and style of the target language:\\n\\n{TEXT}.', \"Translate the following text into {LANGUAGE}, providing solely the translated content. Exclude any supplementary information, context, preambles, or closing remarks. Ensure that the translation adheres to the target language's syntax and grammatical conventions. Do not include the original text.\\n\\n{TEXT}\", 'Translate the provided text solely into {LANGUAGE}. Exclude any identifying information, unnecessary phrases, additional information, or notes. Focus on providing an accurate and clear translation that adheres to the correct grammar and style of the target language. The translated text should stand alone without any additional context or explanations. Please only include the translated text:\\n\\n{TEXT}', 'Translate the following text into {LANGUAGE}, excluding all unnecessary context, explanations, additional formatting, and any supporting content. Provide only the translation itself, ensuring accuracy and clarity.\\n\\n{TEXT}', 'Translate the following text into the target {LANGUAGE}:\\n\\n{TEXT}\\n\\n**Note:**\\n- Ensure the translation is accurate, concise, and grammatically sound.\\n- Remove all unnecessary phrases, annotations, headers, or explanations.', 'Translate the provided text into {LANGUAGE}. Please only include the translated text, excluding any introductory phrases or additional context. Ensure the translation is concise, clear, and faithful to the original meaning.\\n\\n{TEXT}', 'Translate the provided text into {LANGUAGE}, ensuring that the translation is precise and comprehensive. Provide only the translation.\\n\\n{TEXT}', 'Translate the following text to {LANGUAGE}. Do not include the original text or any additional information. Provide only the high-quality translation.\\n\\n{TEXT}']\n"
     ]
    },
    {
     "data": {
      "application/vnd.jupyter.widget-view+json": {
       "model_id": "06bec4a40b50428abca53df56cbe7179",
       "version_major": 2,
       "version_minor": 0
      },
      "text/plain": [
       "Scoring:   0%|          | 0/8 [00:00<?, ?it/s]"
      ]
     },
     "metadata": {},
     "output_type": "display_data"
    },
    {
     "data": {
      "application/vnd.jupyter.widget-view+json": {
       "model_id": "8f0ea7f4fe764cc4838e015022a45d94",
       "version_major": 2,
       "version_minor": 0
      },
      "text/plain": [
       "Translate the provided text into {LANGUAGE}, excluding any preambles or unnecessary details. Please ensure the…"
      ]
     },
     "metadata": {},
     "output_type": "display_data"
    },
    {
     "data": {
      "application/vnd.jupyter.widget-view+json": {
       "model_id": "61c825f5a21e40f08c339148215350ad",
       "version_major": 2,
       "version_minor": 0
      },
      "text/plain": [
       "Translate the following text into {LANGUAGE}, providing solely the translated content. Exclude any supplementa…"
      ]
     },
     "metadata": {},
     "output_type": "display_data"
    },
    {
     "data": {
      "application/vnd.jupyter.widget-view+json": {
       "model_id": "4ca704371d9c4e12a8ec2a3913045007",
       "version_major": 2,
       "version_minor": 0
      },
      "text/plain": [
       "Translate the provided text solely into {LANGUAGE}. Exclude any identifying information, unnecessary phrases, …"
      ]
     },
     "metadata": {},
     "output_type": "display_data"
    },
    {
     "data": {
      "application/vnd.jupyter.widget-view+json": {
       "model_id": "2112f49f44bd4c3793df27d77921f26a",
       "version_major": 2,
       "version_minor": 0
      },
      "text/plain": [
       "Translate the following text into {LANGUAGE}, excluding all unnecessary context, explanations, additional form…"
      ]
     },
     "metadata": {},
     "output_type": "display_data"
    },
    {
     "data": {
      "application/vnd.jupyter.widget-view+json": {
       "model_id": "48a3e73a85d74703967dc43536f907e8",
       "version_major": 2,
       "version_minor": 0
      },
      "text/plain": [
       "Translate the following text into the target {LANGUAGE}:\n",
       "\n",
       "{TEXT}\n",
       "\n",
       "**Note:**\n",
       "- Ensure the translation is accura…"
      ]
     },
     "metadata": {},
     "output_type": "display_data"
    },
    {
     "data": {
      "application/vnd.jupyter.widget-view+json": {
       "model_id": "b98a6273f867415b8145b5fecd9cf3f8",
       "version_major": 2,
       "version_minor": 0
      },
      "text/plain": [
       "Translate the provided text into {LANGUAGE}. Please only include the translated text, excluding any introducto…"
      ]
     },
     "metadata": {},
     "output_type": "display_data"
    },
    {
     "data": {
      "application/vnd.jupyter.widget-view+json": {
       "model_id": "9dee775d8d20454fb2988531be5c7aa5",
       "version_major": 2,
       "version_minor": 0
      },
      "text/plain": [
       "Translate the provided text into {LANGUAGE}, ensuring that the translation is precise and comprehensive. Provi…"
      ]
     },
     "metadata": {},
     "output_type": "display_data"
    },
    {
     "data": {
      "application/vnd.jupyter.widget-view+json": {
       "model_id": "2132cd0132414905a28b8b09580a50a3",
       "version_major": 2,
       "version_minor": 0
      },
      "text/plain": [
       "Translate the following text to {LANGUAGE}. Do not include the original text or any additional information. Pr…"
      ]
     },
     "metadata": {},
     "output_type": "display_data"
    },
    {
     "name": "stdout",
     "output_type": "stream",
     "text": [
      "{'Translate the provided text into {LANGUAGE}, excluding any preambles or unnecessary details. Please ensure the translation is accurate and reflects the tone and style of the target language:\\n\\n{TEXT}.': 65.09219348430634, \"Translate the following text into {LANGUAGE}, providing solely the translated content. Exclude any supplementary information, context, preambles, or closing remarks. Ensure that the translation adheres to the target language's syntax and grammatical conventions. Do not include the original text.\\n\\n{TEXT}\": 72.10087329149246, 'Translate the provided text solely into {LANGUAGE}. Exclude any identifying information, unnecessary phrases, additional information, or notes. Focus on providing an accurate and clear translation that adheres to the correct grammar and style of the target language. The translated text should stand alone without any additional context or explanations. Please only include the translated text:\\n\\n{TEXT}': 73.77638757228851, 'Translate the following text into {LANGUAGE}, excluding all unnecessary context, explanations, additional formatting, and any supporting content. Provide only the translation itself, ensuring accuracy and clarity.\\n\\n{TEXT}': 71.33981823921204, 'Translate the following text into the target {LANGUAGE}:\\n\\n{TEXT}\\n\\n**Note:**\\n- Ensure the translation is accurate, concise, and grammatically sound.\\n- Remove all unnecessary phrases, annotations, headers, or explanations.': 59.525614678859704, 'Translate the provided text into {LANGUAGE}. Please only include the translated text, excluding any introductory phrases or additional context. Ensure the translation is concise, clear, and faithful to the original meaning.\\n\\n{TEXT}': 65.52274078130722, 'Translate the provided text into {LANGUAGE}, ensuring that the translation is precise and comprehensive. Provide only the translation.\\n\\n{TEXT}': 60.944362282753, 'Translate the following text to {LANGUAGE}. Do not include the original text or any additional information. Provide only the high-quality translation.\\n\\n{TEXT}': 68.18236291408539}\n",
      "Step 17\n"
     ]
    },
    {
     "data": {
      "application/vnd.jupyter.widget-view+json": {
       "model_id": "82dc2d9fae8e4b038985ee71b42f75de",
       "version_major": 2,
       "version_minor": 0
      },
      "text/plain": [
       "Optimizing:   0%|          | 0/8 [00:00<?, ?it/s]"
      ]
     },
     "metadata": {},
     "output_type": "display_data"
    },
    {
     "name": "stdout",
     "output_type": "stream",
     "text": [
      "['Translate the following text into {LANGUAGE}, providing only the translated text, excluding all surrounding remarks. Please ensure the translation captures the intended meaning effectively.\\n\\n{TEXT}', 'Translate the provided text to {LANGUAGE}, excluding any unnecessary phrases, additional information or explanations, or formatting. Provide only the translated text, ensuring accuracy and adherence to proper grammar and style. The output should be a standalone translation without any additional context:\\n\\n{TEXT}', 'Translate the provided text into {LANGUAGE}, ensuring it is a precise and complete translation that reflects the original meaning. Omit any surrounding text, notes, examples, or additional information. Only include the translated text:\\n\\n{TEXT}', 'Translate the provided text into {LANGUAGE}, excluding any external references, metadata, or additional context. The translated text should stand alone as a clear and concise rendering of the original text, adhering to the grammatical and stylistic conventions of the target language:\\n\\n{TEXT}', 'Provide only the translation of the following text into {LANGUAGE}:\\n\\n{TEXT}', 'Translate the following text into {LANGUAGE}, ensuring accuracy and clarity. Include only the translation, excluding any additional instructions, context, or formatting.\\n\\n{TEXT}', 'Translate the following text exclusively into {LANGUAGE}:\\n\\n{TEXT}\\n\\n**Instructions**:\\n- Limit your response to the translation only.\\n- Refrain from including any additional context or annotations.\\n- Ensure the translation adheres to the grammar and style conventions of the target language.', 'Translate the provided text into {LANGUAGE}, excluding any unnecessary context, additional formatting, notes, or supporting content. Provide only the translation, ensuring accuracy and clarity:\\n\\n{TEXT}']\n"
     ]
    },
    {
     "data": {
      "application/vnd.jupyter.widget-view+json": {
       "model_id": "73a5a6e511f84b2c8f0f9addbb9b3a10",
       "version_major": 2,
       "version_minor": 0
      },
      "text/plain": [
       "Scoring:   0%|          | 0/8 [00:00<?, ?it/s]"
      ]
     },
     "metadata": {},
     "output_type": "display_data"
    },
    {
     "data": {
      "application/vnd.jupyter.widget-view+json": {
       "model_id": "c405eb039c734f46abaf33bb9969f774",
       "version_major": 2,
       "version_minor": 0
      },
      "text/plain": [
       "Translate the following text into {LANGUAGE}, providing only the translated text, excluding all surrounding re…"
      ]
     },
     "metadata": {},
     "output_type": "display_data"
    },
    {
     "data": {
      "application/vnd.jupyter.widget-view+json": {
       "model_id": "146ab84325c34878bf3cbaed65c79645",
       "version_major": 2,
       "version_minor": 0
      },
      "text/plain": [
       "Translate the provided text to {LANGUAGE}, excluding any unnecessary phrases, additional information or explan…"
      ]
     },
     "metadata": {},
     "output_type": "display_data"
    },
    {
     "data": {
      "application/vnd.jupyter.widget-view+json": {
       "model_id": "66c75a0cc8c8488699da852be46563d7",
       "version_major": 2,
       "version_minor": 0
      },
      "text/plain": [
       "Translate the provided text into {LANGUAGE}, ensuring it is a precise and complete translation that reflects t…"
      ]
     },
     "metadata": {},
     "output_type": "display_data"
    },
    {
     "data": {
      "application/vnd.jupyter.widget-view+json": {
       "model_id": "b529b0389e0a46ea8a41e548cd3fb6ec",
       "version_major": 2,
       "version_minor": 0
      },
      "text/plain": [
       "Translate the provided text into {LANGUAGE}, excluding any external references, metadata, or additional contex…"
      ]
     },
     "metadata": {},
     "output_type": "display_data"
    },
    {
     "data": {
      "application/vnd.jupyter.widget-view+json": {
       "model_id": "6ef8e7482c8e43fcb125330273373b4c",
       "version_major": 2,
       "version_minor": 0
      },
      "text/plain": [
       "Provide only the translation of the following text into {LANGUAGE}:\n",
       "\n",
       "{TEXT}:   0%|          | 0/10 [00:00<?, ?…"
      ]
     },
     "metadata": {},
     "output_type": "display_data"
    },
    {
     "data": {
      "application/vnd.jupyter.widget-view+json": {
       "model_id": "37dac19388e84f9ea54f54a6a6e27486",
       "version_major": 2,
       "version_minor": 0
      },
      "text/plain": [
       "Translate the following text into {LANGUAGE}, ensuring accuracy and clarity. Include only the translation, exc…"
      ]
     },
     "metadata": {},
     "output_type": "display_data"
    },
    {
     "data": {
      "application/vnd.jupyter.widget-view+json": {
       "model_id": "c64f19e285894981bf705612deb36a54",
       "version_major": 2,
       "version_minor": 0
      },
      "text/plain": [
       "Translate the following text exclusively into {LANGUAGE}:\n",
       "\n",
       "{TEXT}\n",
       "\n",
       "**Instructions**:\n",
       "- Limit your response to …"
      ]
     },
     "metadata": {},
     "output_type": "display_data"
    },
    {
     "data": {
      "application/vnd.jupyter.widget-view+json": {
       "model_id": "ee717e0fbff744758ba60a10d3648b82",
       "version_major": 2,
       "version_minor": 0
      },
      "text/plain": [
       "Translate the provided text into {LANGUAGE}, excluding any unnecessary context, additional formatting, notes, …"
      ]
     },
     "metadata": {},
     "output_type": "display_data"
    },
    {
     "name": "stdout",
     "output_type": "stream",
     "text": [
      "{'Translate the following text into {LANGUAGE}, providing only the translated text, excluding all surrounding remarks. Please ensure the translation captures the intended meaning effectively.\\n\\n{TEXT}': 57.22845748066903, 'Translate the provided text to {LANGUAGE}, excluding any unnecessary phrases, additional information or explanations, or formatting. Provide only the translated text, ensuring accuracy and adherence to proper grammar and style. The output should be a standalone translation without any additional context:\\n\\n{TEXT}': 70.8928906917572, 'Translate the provided text into {LANGUAGE}, ensuring it is a precise and complete translation that reflects the original meaning. Omit any surrounding text, notes, examples, or additional information. Only include the translated text:\\n\\n{TEXT}': 76.5584796667099, 'Translate the provided text into {LANGUAGE}, excluding any external references, metadata, or additional context. The translated text should stand alone as a clear and concise rendering of the original text, adhering to the grammatical and stylistic conventions of the target language:\\n\\n{TEXT}': 68.85109841823578, 'Provide only the translation of the following text into {LANGUAGE}:\\n\\n{TEXT}': 59.30100589990616, 'Translate the following text into {LANGUAGE}, ensuring accuracy and clarity. Include only the translation, excluding any additional instructions, context, or formatting.\\n\\n{TEXT}': 69.25694525241852, 'Translate the following text exclusively into {LANGUAGE}:\\n\\n{TEXT}\\n\\n**Instructions**:\\n- Limit your response to the translation only.\\n- Refrain from including any additional context or annotations.\\n- Ensure the translation adheres to the grammar and style conventions of the target language.': 55.50045728683472, 'Translate the provided text into {LANGUAGE}, excluding any unnecessary context, additional formatting, notes, or supporting content. Provide only the translation, ensuring accuracy and clarity:\\n\\n{TEXT}': 74.36061918735504}\n",
      "Step 18\n"
     ]
    },
    {
     "data": {
      "application/vnd.jupyter.widget-view+json": {
       "model_id": "71f0a504ccf44ef291c060be6ad9752c",
       "version_major": 2,
       "version_minor": 0
      },
      "text/plain": [
       "Optimizing:   0%|          | 0/8 [00:00<?, ?it/s]"
      ]
     },
     "metadata": {},
     "output_type": "display_data"
    },
    {
     "name": "stdout",
     "output_type": "stream",
     "text": [
      "[\"Translate the following text into {LANGUAGE}, ensuring only the translated text is included. Exclude any additional formatting, supplementary information, or notes. Please adhere to the target language's grammatical and stylistic conventions, ensuring clarity and accuracy. The translated text should stand alone without any additional context.\\n\\n{TEXT}\", \"Translate the following text into {LANGUAGE}, excluding any prefixes, suffixes, unnecessary phrases, contextual information, or additional formatting. Provide a standalone translation that adheres to the target language's grammar and style conventions, ensuring clarity and accuracy.\\n\\n{TEXT}\", 'Translate the provided text into {LANGUAGE}, ensuring it is a precise and understandable translation that retains the original meaning. Omit any accompanying information, explanations, and additional notes. Return only the translated text:\\n\\n{TEXT}', \"Translate the provided text to {LANGUAGE}. Exclude any unnecessary content, including context, examples, supplemental information, or annotations. The translation should be accurate, fluent, and adhere to the target language's grammar and style. Only provide the translated text itself:\\n\\n{TEXT}\", 'Translate the following text into {LANGUAGE}:\\n\\n{TEXT}', 'Translate the following text to {LANGUAGE} with high quality, clarity, conciseness, and grammatical correctness. Please only include the translated text without any additional context.\\n\\n{TEXT}', 'Provide a high-quality translation of the following text to {LANGUAGE}:\\n\\n{TEXT}', \"Translate the following content to {LANGUAGE}, incorporating only the relevant translated text. Exclude any identifying information, unnecessary introductions, conclusions, or supplementary notes. The translation should adhere to the target audience's linguistic and cultural context, ensuring faithfulness to the original meaning and maintaining the appropriate style and register. Please only include the translated text:\\n\\n{TEXT}\"]\n"
     ]
    },
    {
     "data": {
      "application/vnd.jupyter.widget-view+json": {
       "model_id": "5ce630f4f9a344c996f3fb9e68f804b9",
       "version_major": 2,
       "version_minor": 0
      },
      "text/plain": [
       "Scoring:   0%|          | 0/8 [00:00<?, ?it/s]"
      ]
     },
     "metadata": {},
     "output_type": "display_data"
    },
    {
     "data": {
      "application/vnd.jupyter.widget-view+json": {
       "model_id": "462f9f9047bd4afe9ea25770ee4620da",
       "version_major": 2,
       "version_minor": 0
      },
      "text/plain": [
       "Translate the following text into {LANGUAGE}, ensuring only the translated text is included. Exclude any addit…"
      ]
     },
     "metadata": {},
     "output_type": "display_data"
    },
    {
     "data": {
      "application/vnd.jupyter.widget-view+json": {
       "model_id": "eb48f048444e492489c95fa8893913d1",
       "version_major": 2,
       "version_minor": 0
      },
      "text/plain": [
       "Translate the following text into {LANGUAGE}, excluding any prefixes, suffixes, unnecessary phrases, contextua…"
      ]
     },
     "metadata": {},
     "output_type": "display_data"
    },
    {
     "data": {
      "application/vnd.jupyter.widget-view+json": {
       "model_id": "08ba613d08074b5c8311ce3de2ea0dbf",
       "version_major": 2,
       "version_minor": 0
      },
      "text/plain": [
       "Translate the provided text into {LANGUAGE}, ensuring it is a precise and understandable translation that reta…"
      ]
     },
     "metadata": {},
     "output_type": "display_data"
    },
    {
     "data": {
      "application/vnd.jupyter.widget-view+json": {
       "model_id": "561a68c55ae24f04948a31f7d0ad8bd0",
       "version_major": 2,
       "version_minor": 0
      },
      "text/plain": [
       "Translate the provided text to {LANGUAGE}. Exclude any unnecessary content, including context, examples, suppl…"
      ]
     },
     "metadata": {},
     "output_type": "display_data"
    },
    {
     "data": {
      "application/vnd.jupyter.widget-view+json": {
       "model_id": "365b8f5be7f3423a8e9de9d0ffb2aea4",
       "version_major": 2,
       "version_minor": 0
      },
      "text/plain": [
       "Translate the following text into {LANGUAGE}:\n",
       "\n",
       "{TEXT}:   0%|          | 0/10 [00:00<?, ?it/s]"
      ]
     },
     "metadata": {},
     "output_type": "display_data"
    },
    {
     "data": {
      "application/vnd.jupyter.widget-view+json": {
       "model_id": "208cf3436c7c4ad3bcc97a0cbe5879d1",
       "version_major": 2,
       "version_minor": 0
      },
      "text/plain": [
       "Translate the following text to {LANGUAGE} with high quality, clarity, conciseness, and grammatical correctnes…"
      ]
     },
     "metadata": {},
     "output_type": "display_data"
    },
    {
     "data": {
      "application/vnd.jupyter.widget-view+json": {
       "model_id": "9ae8bab5305344fabd030a68d1afce0e",
       "version_major": 2,
       "version_minor": 0
      },
      "text/plain": [
       "Provide a high-quality translation of the following text to {LANGUAGE}:\n",
       "\n",
       "{TEXT}:   0%|          | 0/10 [00:00<…"
      ]
     },
     "metadata": {},
     "output_type": "display_data"
    },
    {
     "data": {
      "application/vnd.jupyter.widget-view+json": {
       "model_id": "170e82d4133c4ec49843ca8d7c4b8b83",
       "version_major": 2,
       "version_minor": 0
      },
      "text/plain": [
       "Translate the following content to {LANGUAGE}, incorporating only the relevant translated text. Exclude any id…"
      ]
     },
     "metadata": {},
     "output_type": "display_data"
    },
    {
     "name": "stdout",
     "output_type": "stream",
     "text": [
      "{\"Translate the following text into {LANGUAGE}, ensuring only the translated text is included. Exclude any additional formatting, supplementary information, or notes. Please adhere to the target language's grammatical and stylistic conventions, ensuring clarity and accuracy. The translated text should stand alone without any additional context.\\n\\n{TEXT}\": 68.13249319791794, \"Translate the following text into {LANGUAGE}, excluding any prefixes, suffixes, unnecessary phrases, contextual information, or additional formatting. Provide a standalone translation that adheres to the target language's grammar and style conventions, ensuring clarity and accuracy.\\n\\n{TEXT}\": 61.446601152420044, 'Translate the provided text into {LANGUAGE}, ensuring it is a precise and understandable translation that retains the original meaning. Omit any accompanying information, explanations, and additional notes. Return only the translated text:\\n\\n{TEXT}': 70.72154432535172, \"Translate the provided text to {LANGUAGE}. Exclude any unnecessary content, including context, examples, supplemental information, or annotations. The translation should be accurate, fluent, and adhere to the target language's grammar and style. Only provide the translated text itself:\\n\\n{TEXT}\": 68.51026564836502, 'Translate the following text into {LANGUAGE}:\\n\\n{TEXT}': 46.56975507736206, 'Translate the following text to {LANGUAGE} with high quality, clarity, conciseness, and grammatical correctness. Please only include the translated text without any additional context.\\n\\n{TEXT}': 69.11947652697563, 'Provide a high-quality translation of the following text to {LANGUAGE}:\\n\\n{TEXT}': 49.04974281787872, \"Translate the following content to {LANGUAGE}, incorporating only the relevant translated text. Exclude any identifying information, unnecessary introductions, conclusions, or supplementary notes. The translation should adhere to the target audience's linguistic and cultural context, ensuring faithfulness to the original meaning and maintaining the appropriate style and register. Please only include the translated text:\\n\\n{TEXT}\": 65.57732284069061}\n",
      "Step 19\n"
     ]
    },
    {
     "data": {
      "application/vnd.jupyter.widget-view+json": {
       "model_id": "bf6a4ce32aed4dfea67e54ca74b42c54",
       "version_major": 2,
       "version_minor": 0
      },
      "text/plain": [
       "Optimizing:   0%|          | 0/8 [00:00<?, ?it/s]"
      ]
     },
     "metadata": {},
     "output_type": "display_data"
    },
    {
     "name": "stdout",
     "output_type": "stream",
     "text": [
      "[\"Translate the provided text into {LANGUAGE}, maintaining the original's accuracy, clarity, and meaning. Exclude any unnecessary information, such as annotations, formatting, disclaimers, or examples. The translated text should stand alone as a precise and comprehensive representation of the original content:\\n\\n{TEXT}\", 'Translate the following text into {LANGUAGE} with utmost precision, clarity, and completeness. Ensure that the translation accurately reflects the meaning, tone, and context of the original text. Exclude any unnecessary additions, notes, or supplementary information. The translated text should be a standalone piece, intelligible to speakers of the target language without any external references or context.\\n\\n{TEXT}', \"Translate the following text to {LANGUAGE} while maintaining a high degree of accuracy, completeness, and clarity. Please only include the translated text, excluding any additional information such as notes, examples, context, or references. Ensure that the translation adheres to the target language's grammatical and stylistic conventions:\\n\\n{TEXT}\", 'Translate the provided text accurately and comprehensively into {LANGUAGE}. Ensure that the translation reads naturally and flows well while maintaining the meaning and tone of the original text, adhering to the grammar and style of the target language. Exclude any unnecessary phrases or additional information not present in the original text:\\n\\n{TEXT}', 'Translate the following text into {LANGUAGE}, prioritizing clarity, accuracy, and adherence to grammar rules. Only provide the translated text without additional information:\\n\\n{TEXT}', 'Translate the following text into {LANGUAGE}, excluding any unnecessary context, explanations, examples, additional information, or formatting. Please only provide the translated text itself, ensuring that it is accurate and of high quality:\\n\\n{TEXT}', 'Translate the following text into {LANGUAGE}, ensuring it is a precise and complete translation that retains the original meaning. Include only the translation, excluding any additional information, notes, or examples. Only include the translated text:\\n\\n{TEXT}', 'Translate the provided text into {LANGUAGE}. We need only the translated text, not the original text or any additional information. Ensure the translation is accurate, complete, grammatically correct, and stylistically appropriate for the target language.\\n\\n{TEXT}']\n"
     ]
    },
    {
     "data": {
      "application/vnd.jupyter.widget-view+json": {
       "model_id": "2e61eec6a5f44054a5fe3d4521b819ee",
       "version_major": 2,
       "version_minor": 0
      },
      "text/plain": [
       "Scoring:   0%|          | 0/8 [00:00<?, ?it/s]"
      ]
     },
     "metadata": {},
     "output_type": "display_data"
    },
    {
     "data": {
      "application/vnd.jupyter.widget-view+json": {
       "model_id": "d435944b49b442758387075720057ce0",
       "version_major": 2,
       "version_minor": 0
      },
      "text/plain": [
       "Translate the provided text into {LANGUAGE}, maintaining the original's accuracy, clarity, and meaning. Exclud…"
      ]
     },
     "metadata": {},
     "output_type": "display_data"
    },
    {
     "data": {
      "application/vnd.jupyter.widget-view+json": {
       "model_id": "d8c66ddf4e094ad4920db3814af4433d",
       "version_major": 2,
       "version_minor": 0
      },
      "text/plain": [
       "Translate the following text into {LANGUAGE} with utmost precision, clarity, and completeness. Ensure that the…"
      ]
     },
     "metadata": {},
     "output_type": "display_data"
    },
    {
     "data": {
      "application/vnd.jupyter.widget-view+json": {
       "model_id": "a6f32c76d6a747d486d135a880261b37",
       "version_major": 2,
       "version_minor": 0
      },
      "text/plain": [
       "Translate the following text to {LANGUAGE} while maintaining a high degree of accuracy, completeness, and clar…"
      ]
     },
     "metadata": {},
     "output_type": "display_data"
    },
    {
     "data": {
      "application/vnd.jupyter.widget-view+json": {
       "model_id": "92badcb1bc344a75ac36f4900d706fd8",
       "version_major": 2,
       "version_minor": 0
      },
      "text/plain": [
       "Translate the provided text accurately and comprehensively into {LANGUAGE}. Ensure that the translation reads …"
      ]
     },
     "metadata": {},
     "output_type": "display_data"
    },
    {
     "data": {
      "application/vnd.jupyter.widget-view+json": {
       "model_id": "971d58a1c73c4a639c5fbf5b0bc053ae",
       "version_major": 2,
       "version_minor": 0
      },
      "text/plain": [
       "Translate the following text into {LANGUAGE}, prioritizing clarity, accuracy, and adherence to grammar rules. …"
      ]
     },
     "metadata": {},
     "output_type": "display_data"
    },
    {
     "data": {
      "application/vnd.jupyter.widget-view+json": {
       "model_id": "98f8a27610934cbb8ef757bbbf5a81ff",
       "version_major": 2,
       "version_minor": 0
      },
      "text/plain": [
       "Translate the following text into {LANGUAGE}, excluding any unnecessary context, explanations, examples, addit…"
      ]
     },
     "metadata": {},
     "output_type": "display_data"
    },
    {
     "data": {
      "application/vnd.jupyter.widget-view+json": {
       "model_id": "6583012debdd4433b384a61bb273bd6c",
       "version_major": 2,
       "version_minor": 0
      },
      "text/plain": [
       "Translate the following text into {LANGUAGE}, ensuring it is a precise and complete translation that retains t…"
      ]
     },
     "metadata": {},
     "output_type": "display_data"
    },
    {
     "data": {
      "application/vnd.jupyter.widget-view+json": {
       "model_id": "be7f6181fde843088c671d7983820bdf",
       "version_major": 2,
       "version_minor": 0
      },
      "text/plain": [
       "Translate the provided text into {LANGUAGE}. We need only the translated text, not the original text or any ad…"
      ]
     },
     "metadata": {},
     "output_type": "display_data"
    },
    {
     "name": "stdout",
     "output_type": "stream",
     "text": [
      "{\"Translate the provided text into {LANGUAGE}, maintaining the original's accuracy, clarity, and meaning. Exclude any unnecessary information, such as annotations, formatting, disclaimers, or examples. The translated text should stand alone as a precise and comprehensive representation of the original content:\\n\\n{TEXT}\": 70.08370220661163, 'Translate the following text into {LANGUAGE} with utmost precision, clarity, and completeness. Ensure that the translation accurately reflects the meaning, tone, and context of the original text. Exclude any unnecessary additions, notes, or supplementary information. The translated text should be a standalone piece, intelligible to speakers of the target language without any external references or context.\\n\\n{TEXT}': 59.938784688711166, \"Translate the following text to {LANGUAGE} while maintaining a high degree of accuracy, completeness, and clarity. Please only include the translated text, excluding any additional information such as notes, examples, context, or references. Ensure that the translation adheres to the target language's grammatical and stylistic conventions:\\n\\n{TEXT}\": 70.70386350154877, 'Translate the provided text accurately and comprehensively into {LANGUAGE}. Ensure that the translation reads naturally and flows well while maintaining the meaning and tone of the original text, adhering to the grammar and style of the target language. Exclude any unnecessary phrases or additional information not present in the original text:\\n\\n{TEXT}': 66.03095322847366, 'Translate the following text into {LANGUAGE}, prioritizing clarity, accuracy, and adherence to grammar rules. Only provide the translated text without additional information:\\n\\n{TEXT}': 69.44291710853577, 'Translate the following text into {LANGUAGE}, excluding any unnecessary context, explanations, examples, additional information, or formatting. Please only provide the translated text itself, ensuring that it is accurate and of high quality:\\n\\n{TEXT}': 71.41685843467712, 'Translate the following text into {LANGUAGE}, ensuring it is a precise and complete translation that retains the original meaning. Include only the translation, excluding any additional information, notes, or examples. Only include the translated text:\\n\\n{TEXT}': 76.57797873020172, 'Translate the provided text into {LANGUAGE}. We need only the translated text, not the original text or any additional information. Ensure the translation is accurate, complete, grammatically correct, and stylistically appropriate for the target language.\\n\\n{TEXT}': 63.86246502399444}\n",
      "Step 20\n"
     ]
    },
    {
     "data": {
      "application/vnd.jupyter.widget-view+json": {
       "model_id": "42e3e7b8828e43afb93c3a4553389568",
       "version_major": 2,
       "version_minor": 0
      },
      "text/plain": [
       "Optimizing:   0%|          | 0/8 [00:00<?, ?it/s]"
      ]
     },
     "metadata": {},
     "output_type": "display_data"
    },
    {
     "name": "stdout",
     "output_type": "stream",
     "text": [
      "['Translate the following text to {LANGUAGE} while retaining its original intent and ensuring it is linguistically correct. Include only the translated text without any additional information or context:\\n\\n{TEXT}', \"Translate the provided text to {LANGUAGE}, providing only the translated text. Exclude any additional information not strictly necessary for understanding, such as examples, explanations, disclaimers, and context. Ensure accuracy and adherence to the target language's grammatical conventions:\\n\\n{TEXT}\", 'Translate the provided text into {LANGUAGE}, excluding any extra content, notes, or examples. Provide only the translated text, ensuring accuracy and attention to language-specific nuances to maintain the intended meaning. The output should be a standalone translation, without any additional context or references:\\n{TEXT}', 'Translate the following text into {LANGUAGE}, ensuring it is an accurate and complete translation that retains the original meaning. Omit any additional information such as examples, notes, or references. Only include the translated text itself:\\n\\n{TEXT}', 'Translate the following text into {LANGUAGE}. Please exclude references to the original text, additional information, or external sources. Ensure accuracy and clarity by adhering to the grammatical and stylistic conventions of the target language. **Only include the translated text**:\\n\\n{TEXT}', 'Translate the following text into {LANGUAGE}, providing a precise and exhaustive translation that retains the original intent. Please exclude any notes, comments, references, examples, or additional information. Return only the translated text.\\n\\n{TEXT}', 'Translate the following text into {LANGUAGE}, ensuring it is an accurate and faithful translation that retains the original meaning and style. Include only the translation, excluding any additional information, context, examples, or attachments.\\n\\n{TEXT}', 'Translate the provided text into {LANGUAGE}. Only include the translated text, avoiding any surrounding text, notes, examples, or additional information:\\n\\n{TEXT}']\n"
     ]
    },
    {
     "data": {
      "application/vnd.jupyter.widget-view+json": {
       "model_id": "bfb5f82493cb489ca60b49727da58eea",
       "version_major": 2,
       "version_minor": 0
      },
      "text/plain": [
       "Scoring:   0%|          | 0/8 [00:00<?, ?it/s]"
      ]
     },
     "metadata": {},
     "output_type": "display_data"
    },
    {
     "data": {
      "application/vnd.jupyter.widget-view+json": {
       "model_id": "56513141603e47c09fad0057cc0479fe",
       "version_major": 2,
       "version_minor": 0
      },
      "text/plain": [
       "Translate the following text to {LANGUAGE} while retaining its original intent and ensuring it is linguistical…"
      ]
     },
     "metadata": {},
     "output_type": "display_data"
    },
    {
     "data": {
      "application/vnd.jupyter.widget-view+json": {
       "model_id": "f773e3da72ee472f803ae0045ea56385",
       "version_major": 2,
       "version_minor": 0
      },
      "text/plain": [
       "Translate the provided text to {LANGUAGE}, providing only the translated text. Exclude any additional informat…"
      ]
     },
     "metadata": {},
     "output_type": "display_data"
    },
    {
     "data": {
      "application/vnd.jupyter.widget-view+json": {
       "model_id": "b13a4ff655894653b1b02cb897fb6673",
       "version_major": 2,
       "version_minor": 0
      },
      "text/plain": [
       "Translate the provided text into {LANGUAGE}, excluding any extra content, notes, or examples. Provide only the…"
      ]
     },
     "metadata": {},
     "output_type": "display_data"
    },
    {
     "data": {
      "application/vnd.jupyter.widget-view+json": {
       "model_id": "bd01495f28da488581f4a6f888d61caa",
       "version_major": 2,
       "version_minor": 0
      },
      "text/plain": [
       "Translate the following text into {LANGUAGE}, ensuring it is an accurate and complete translation that retains…"
      ]
     },
     "metadata": {},
     "output_type": "display_data"
    },
    {
     "data": {
      "application/vnd.jupyter.widget-view+json": {
       "model_id": "ea20d9254e7c476a95b6fdaf3adb9bd9",
       "version_major": 2,
       "version_minor": 0
      },
      "text/plain": [
       "Translate the following text into {LANGUAGE}. Please exclude references to the original text, additional infor…"
      ]
     },
     "metadata": {},
     "output_type": "display_data"
    },
    {
     "data": {
      "application/vnd.jupyter.widget-view+json": {
       "model_id": "e74fa7355eff42a29b228c4f3b93e5e2",
       "version_major": 2,
       "version_minor": 0
      },
      "text/plain": [
       "Translate the following text into {LANGUAGE}, providing a precise and exhaustive translation that retains the …"
      ]
     },
     "metadata": {},
     "output_type": "display_data"
    },
    {
     "data": {
      "application/vnd.jupyter.widget-view+json": {
       "model_id": "4dd3257ba3dd4f48b07e41eb84823602",
       "version_major": 2,
       "version_minor": 0
      },
      "text/plain": [
       "Translate the following text into {LANGUAGE}, ensuring it is an accurate and faithful translation that retains…"
      ]
     },
     "metadata": {},
     "output_type": "display_data"
    },
    {
     "data": {
      "application/vnd.jupyter.widget-view+json": {
       "model_id": "63c5f1f24a4f4c60879e9ed9b1729f3a",
       "version_major": 2,
       "version_minor": 0
      },
      "text/plain": [
       "Translate the provided text into {LANGUAGE}. Only include the translated text, avoiding any surrounding text, …"
      ]
     },
     "metadata": {},
     "output_type": "display_data"
    },
    {
     "name": "stdout",
     "output_type": "stream",
     "text": [
      "{'Translate the following text to {LANGUAGE} while retaining its original intent and ensuring it is linguistically correct. Include only the translated text without any additional information or context:\\n\\n{TEXT}': 68.94992709159851, \"Translate the provided text to {LANGUAGE}, providing only the translated text. Exclude any additional information not strictly necessary for understanding, such as examples, explanations, disclaimers, and context. Ensure accuracy and adherence to the target language's grammatical conventions:\\n\\n{TEXT}\": 70.86088687181473, 'Translate the provided text into {LANGUAGE}, excluding any extra content, notes, or examples. Provide only the translated text, ensuring accuracy and attention to language-specific nuances to maintain the intended meaning. The output should be a standalone translation, without any additional context or references:\\n{TEXT}': 71.91265732049942, 'Translate the following text into {LANGUAGE}, ensuring it is an accurate and complete translation that retains the original meaning. Omit any additional information such as examples, notes, or references. Only include the translated text itself:\\n\\n{TEXT}': 74.83265995979309, 'Translate the following text into {LANGUAGE}. Please exclude references to the original text, additional information, or external sources. Ensure accuracy and clarity by adhering to the grammatical and stylistic conventions of the target language. **Only include the translated text**:\\n\\n{TEXT}': 74.27966177463531, 'Translate the following text into {LANGUAGE}, providing a precise and exhaustive translation that retains the original intent. Please exclude any notes, comments, references, examples, or additional information. Return only the translated text.\\n\\n{TEXT}': 73.1529551744461, 'Translate the following text into {LANGUAGE}, ensuring it is an accurate and faithful translation that retains the original meaning and style. Include only the translation, excluding any additional information, context, examples, or attachments.\\n\\n{TEXT}': 69.81658190488815, 'Translate the provided text into {LANGUAGE}. Only include the translated text, avoiding any surrounding text, notes, examples, or additional information:\\n\\n{TEXT}': 63.37135128676892}\n"
     ]
    }
   ],
   "source": [
    "INS_PER_STEP = 8\n",
    "MAX_INS_SCORE_PAIRS = 20\n",
    "SAVE_PATH = \"synthetic_translations_OPRO_results.json\"\n",
    "\n",
    "# loading saved data\n",
    "if os.path.exists(SAVE_PATH):\n",
    "    with open(SAVE_PATH, \"r\") as f:\n",
    "        results = json.load(f)\n",
    "    starting_step = len(results) + 1\n",
    "    ins_score_pairs = results[str(len(results))]\n",
    "else:\n",
    "    ins_lst = [\n",
    "        CHOSEN_PROMPT,\n",
    "        f\"{CHOSEN_PROMPT}. Think step by step.\",\n",
    "        f\"{CHOSEN_PROMPT}. Take a deep breath and think step-by-step.\",\n",
    "        f\"{CHOSEN_PROMPT}. Be concise and clear.\",\n",
    "        f\"{CHOSEN_PROMPT}. You are the creator of an atlas.\",\n",
    "        f\"{CHOSEN_PROMPT}. Explain your answer in simple terms.\",\n",
    "        # Prompt1 from Suggest Prompt\n",
    "        \"\"\"### Prompt\n",
    "        \n",
    "I'm going to tip $10 for a better solution!\n",
    "```\n",
    "### Instructions\n",
    "\n",
    "### Example\n",
    "Translate \\\"Hello, world!\\\" to French.\n",
    "```\n",
    "\n",
    "Your task is to help me to translate the following text to {LANGUAGE}. Please return only translated content, do not include the original text. \n",
    "\n",
    "{TEXT}\n",
    "\n",
    "You MUST format the translated text in the following way: \n",
    "\n",
    "```\n",
    "{{TRANSLATED TEXT}}\n",
    "```\n",
    "\n",
    "You will be penalized if you do not follow this format.\n",
    "\n",
    "Answer a question given in a natural, human-like manner\n",
    "\n",
    "---\n",
    "\n",
    "Would you like me to add anything else? (yes/no)\"\"\",\n",
    "        # Prompt2 from Suggest Prompt\n",
    "        \"\"\"Translate the following text to *{LANGUAGE}*.\n",
    "Return only the translated content. Do not include the original text.\n",
    "\n",
    "**Text**: {TEXT}\n",
    "\n",
    "### Notes ###\n",
    "- No need for polite language.\n",
    "- Ensure your response is in *{LANGUAGE}*. \n",
    "- I'm offering a tip for a higher quality translation.\"\"\",\n",
    "        # Prompt3 from Suggest Prompt\n",
    "        \"\"\"###Instruction###\n",
    "\n",
    "Please help me to translate the following text to {LANGUAGE}. Please return only translated text, not including the origin text.\n",
    "\n",
    "###Example###\n",
    "\n",
    "####\n",
    "{TEXT}\n",
    "####\n",
    "\n",
    "###Question###\n",
    "\n",
    "What is the translated text?\"\"\",\n",
    "        # Prompt4 from Suggest Prompt\n",
    "        \"\"\"####\n",
    "Your task is to translate the following text to {LANGUAGE}. You MUST only return the translated content and exclude the original text.\n",
    "\n",
    "{TEXT}\n",
    "\n",
    "### Instruction###\n",
    "I'm going to tip $100 for a better solution! I need the translation to be of high quality and accurate.\"\"\",\n",
    "        # Prompt5 from Suggest Prompt\n",
    "        \"\"\"###Instruction###\n",
    "Translate the following text into {LANGUAGE}:\n",
    "\n",
    "###Example###\n",
    "**English to Spanish:**\n",
    "```\n",
    "Original text: Hello, world!\n",
    "Translated text: ¡Hola, mundo!\n",
    "```\n",
    "\n",
    "###Question###\n",
    "I'm providing you with the original text below: {TEXT}. Translate it to {LANGUAGE} and return only the translated content without including the original text.\"\"\",\n",
    "    ]\n",
    "    ins_score_pairs = {\n",
    "        ins: score(ins, training_sample)\n",
    "        for ins in tqdm(ins_lst, desc=\"Scoring\", position=0)\n",
    "    }\n",
    "    starting_step = 1\n",
    "    results = {starting_step: ins_score_pairs}\n",
    "    with open(SAVE_PATH, \"w\") as f:\n",
    "        json.dump(results, f)\n",
    "\n",
    "# Each step takes aboy 5 to 10 minutes with gemma:2b\n",
    "STEP_COUNT = 10\n",
    "TARGET_STEP = starting_step + STEP_COUNT\n",
    "assert TARGET_STEP >= starting_step, \"TARGET_STEP should be greater than step.\"\n",
    "for i in range(starting_step, TARGET_STEP):\n",
    "    print(f\"Step {i}\")\n",
    "    while True:\n",
    "        try:\n",
    "            # Optimizer LLM\n",
    "            instructions = [\n",
    "                opt_llm(ins_score_pairs)\n",
    "                for _ in trange(INS_PER_STEP, desc=\"Optimizing\")\n",
    "            ]\n",
    "            print(instructions)\n",
    "\n",
    "            # Scoring the new instructions\n",
    "            new_ins_score_pairs = {\n",
    "                ins: score(ins, training_sample)\n",
    "                for ins in tqdm(instructions, desc=\"Scoring\", position=0)\n",
    "            }\n",
    "            print(new_ins_score_pairs)\n",
    "            combined_ins_score_pairs = {**ins_score_pairs, **new_ins_score_pairs}\n",
    "            ins_score_pairs = dict(\n",
    "                sorted(\n",
    "                    combined_ins_score_pairs.items(), key=lambda x: x[1], reverse=True\n",
    "                )[:MAX_INS_SCORE_PAIRS]\n",
    "            )\n",
    "\n",
    "            # Saving data\n",
    "            results[i] = ins_score_pairs\n",
    "            with open(SAVE_PATH, \"w\") as f:\n",
    "                json.dump(results, f)\n",
    "\n",
    "            break\n",
    "        except ValueError as e:\n",
    "            print(e)\n",
    "        except Exception as e:\n",
    "            print(e)"
   ]
  },
  {
   "cell_type": "markdown",
   "metadata": {},
   "source": [
    "### Plotting Results and Testing Accuracy"
   ]
  },
  {
   "cell_type": "code",
   "execution_count": 15,
   "metadata": {},
   "outputs": [
    {
     "data": {
      "text/plain": [
       "Text(0.5, 1.0, 'Step to Accuracy')"
      ]
     },
     "execution_count": 15,
     "metadata": {},
     "output_type": "execute_result"
    },
    {
     "data": {
      "image/png": "[encoded data removed]",
      "text/plain": [
       "<Figure size 640x480 with 1 Axes>"
      ]
     },
     "metadata": {},
     "output_type": "display_data"
    }
   ],
   "source": [
    "import statistics\n",
    "import matplotlib.pyplot as plt\n",
    "\n",
    "# load opro.json\n",
    "with open(SAVE_PATH) as f:\n",
    "    opro_results = json.load(f)\n",
    "\n",
    "# opro = {step:dict(sorted(opro[step].items(), key=lambda x: x[1], reverse=True)[:20]) for step in opro}\n",
    "step_to_accuracy = {\n",
    "    step: (\n",
    "        statistics.mean(opro_results[step].values()),\n",
    "        statistics.stdev(opro_results[step].values()),\n",
    "    )\n",
    "    for step in opro_results\n",
    "}\n",
    "\n",
    "# Plot step to accuracy as a continuous line graph, including stdevs as highlighted error bars\n",
    "fig, ax = plt.subplots()\n",
    "ax.errorbar(\n",
    "    step_to_accuracy.keys(),\n",
    "    [accuracy[0] for accuracy in step_to_accuracy.values()],\n",
    "    yerr=[accuracy[1] for accuracy in step_to_accuracy.values()],\n",
    "    fmt=\"o\",\n",
    ")\n",
    "ax.set_xticks([step for step in step_to_accuracy.keys() if int(step) % 5 == 0])\n",
    "ax.set_xlabel(\"Step\")\n",
    "ax.set_ylabel(\"Accuracy\")\n",
    "ax.set_title(\"Step to Accuracy\")"
   ]
  },
  {
   "cell_type": "code",
   "execution_count": 16,
   "metadata": {},
   "outputs": [
    {
     "data": {
      "text/plain": [
       "{'Translate the following text into {LANGUAGE}, ensuring it is a precise and complete translation that retains the original meaning. Include only the translation, excluding any additional information, notes, or examples. Only include the translated text:\\n\\n{TEXT}': 76.57797873020172,\n",
       " 'Translate the provided text into {LANGUAGE}, ensuring it is a precise and complete translation that reflects the original meaning. Omit any surrounding text, notes, examples, or additional information. Only include the translated text:\\n\\n{TEXT}': 76.5584796667099,\n",
       " 'Translate the following text into {LANGUAGE}, excluding any supporting content, explanations, and additional formatting. Please provide only the translation itself, ensuring accuracy and clarity.\\n\\n{TEXT}': 76.22225493192673,\n",
       " 'Translate the following text into the target {LANGUAGE}, excluding any additional information, context, examples, or attachments. Return only the translated text, ensuring clarity and accuracy.\\n\\n{TEXT}': 76.18050217628479,\n",
       " 'Translate the following text into {LANGUAGE}, ensuring it is an accurate and complete translation that retains the original meaning. Omit any additional information such as examples, notes, or references. Only include the translated text itself:\\n\\n{TEXT}': 74.83265995979309,\n",
       " 'Translate the provided text into {LANGUAGE}, excluding any unnecessary context, additional formatting, notes, or supporting content. Provide only the translation, ensuring accuracy and clarity:\\n\\n{TEXT}': 74.36061918735504,\n",
       " 'Translate the included text into {LANGUAGE}, but include solely the translated text. Exclude any quotations, salutations, unnecessary phrases, annotations, or additional details. Ensure the translation is accurate, comprehensive, and grammatically correct:\\n\\n{TEXT}': 74.30954188108444,\n",
       " 'Translate the following text into {LANGUAGE}. Please exclude references to the original text, additional information, or external sources. Ensure accuracy and clarity by adhering to the grammatical and stylistic conventions of the target language. **Only include the translated text**:\\n\\n{TEXT}': 74.27966177463531,\n",
       " 'Translate the provided text solely into {LANGUAGE}. Exclude any identifying information, unnecessary phrases, additional information, or notes. Focus on providing an accurate and clear translation that adheres to the correct grammar and style of the target language. The translated text should stand alone without any additional context or explanations. Please only include the translated text:\\n\\n{TEXT}': 73.77638757228851,\n",
       " 'Translate the following text into {LANGUAGE}, providing a precise and exhaustive translation that retains the original intent. Please exclude any notes, comments, references, examples, or additional information. Return only the translated text.\\n\\n{TEXT}': 73.1529551744461,\n",
       " 'Translate the following text to {LANGUAGE}, excluding any context, prefixes, suffixes, or additional information. Please provide only the translated text:\\n\\n{TEXT}': 72.91596829891205,\n",
       " \"Translate the following text into {LANGUAGE}, providing solely the translated content. Exclude any supplementary information, context, preambles, or closing remarks. Ensure that the translation adheres to the target language's syntax and grammatical conventions. Do not include the original text.\\n\\n{TEXT}\": 72.10087329149246,\n",
       " 'Translate the provided text into {LANGUAGE}, excluding any extra content, notes, or examples. Provide only the translated text, ensuring accuracy and attention to language-specific nuances to maintain the intended meaning. The output should be a standalone translation, without any additional context or references:\\n{TEXT}': 71.91265732049942,\n",
       " 'Translate the provided text into {LANGUAGE}. Return only the translation, excluding any formatting, notes, or additional information:\\n\\n{TEXT}': 71.4281216263771,\n",
       " 'Translate the following text into {LANGUAGE}, excluding any unnecessary context, explanations, examples, additional information, or formatting. Please only provide the translated text itself, ensuring that it is accurate and of high quality:\\n\\n{TEXT}': 71.41685843467712,\n",
       " 'Translate the following text into {LANGUAGE}, excluding all unnecessary context, explanations, additional formatting, and any supporting content. Provide only the translation itself, ensuring accuracy and clarity.\\n\\n{TEXT}': 71.33981823921204,\n",
       " 'Translate the following text into {LANGUAGE}. Ensure the translation is accurate and of high quality. Return only the translated text, excluding any additional information or notes.\\n\\n{TEXT}': 71.23314067721367,\n",
       " 'Translate the provided text to {LANGUAGE}, excluding any unnecessary phrases, additional information or explanations, or formatting. Provide only the translated text, ensuring accuracy and adherence to proper grammar and style. The output should be a standalone translation without any additional context:\\n\\n{TEXT}': 70.8928906917572,\n",
       " \"Translate the provided text to {LANGUAGE}, providing only the translated text. Exclude any additional information not strictly necessary for understanding, such as examples, explanations, disclaimers, and context. Ensure accuracy and adherence to the target language's grammatical conventions:\\n\\n{TEXT}\": 70.86088687181473,\n",
       " 'Translate the provided text into {LANGUAGE}, ensuring it is a precise and understandable translation that retains the original meaning. Omit any accompanying information, explanations, and additional notes. Return only the translated text:\\n\\n{TEXT}': 70.72154432535172}"
      ]
     },
     "execution_count": 16,
     "metadata": {},
     "output_type": "execute_result"
    }
   ],
   "source": [
    "opro_results[str(len(opro_results))]"
   ]
  },
  {
   "cell_type": "code",
   "execution_count": 17,
   "metadata": {},
   "outputs": [
    {
     "data": {
      "application/vnd.jupyter.widget-view+json": {
       "model_id": "ccc1063445e14da6981c5182f5080517",
       "version_major": 2,
       "version_minor": 0
      },
      "text/plain": [
       "Please help me to translate the following text to {LANGUAGE}. Please return only translated content not includ…"
      ]
     },
     "metadata": {},
     "output_type": "display_data"
    },
    {
     "name": "stdout",
     "output_type": "stream",
     "text": [
      "Initial Prompt: 55.97335430979729\n"
     ]
    },
    {
     "data": {
      "application/vnd.jupyter.widget-view+json": {
       "model_id": "9bf39787d66a4c3aa2854c5ef80b50fd",
       "version_major": 2,
       "version_minor": 0
      },
      "text/plain": [
       "Translate the following text into {LANGUAGE}, ensuring it is a precise and complete translation that retains t…"
      ]
     },
     "metadata": {},
     "output_type": "display_data"
    },
    {
     "name": "stdout",
     "output_type": "stream",
     "text": [
      "Optimized Prompt (Translate the following text into {LANGUAGE}, ensuring it is a precise and complete translation that retains the original meaning. Include only the translation, excluding any additional information, notes, or examples. Only include the translated text:\n",
      "\n",
      "{TEXT}): 60.92241567373276\n"
     ]
    }
   ],
   "source": [
    "best_instruction = max(\n",
    "    opro_results[str(len(opro_results))], key=opro_results[str(len(opro_results))].get\n",
    ")\n",
    "print(f\"Initial Prompt: {score(CHOSEN_PROMPT, testing_sample)}\")\n",
    "print(f\"Optimized Prompt ({best_instruction}): {score(best_instruction, testing_sample)}\")"
   ]
  },
  {
   "cell_type": "code",
   "execution_count": 18,
   "metadata": {},
   "outputs": [
    {
     "data": {
      "application/vnd.jupyter.widget-view+json": {
       "model_id": "88758ef51e584e91a3225ba0c92ebbaa",
       "version_major": 2,
       "version_minor": 0
      },
      "text/plain": [
       "Please help me to translate the following text to {LANGUAGE}. Please return only translated content not includ…"
      ]
     },
     "metadata": {},
     "output_type": "display_data"
    },
    {
     "name": "stdout",
     "output_type": "stream",
     "text": [
      "Initial Prompt: 69.62939703315496\n"
     ]
    },
    {
     "data": {
      "application/vnd.jupyter.widget-view+json": {
       "model_id": "3e32e4fd19ac47b5b104feae50c2028a",
       "version_major": 2,
       "version_minor": 0
      },
      "text/plain": [
       "Translate the following text into {LANGUAGE}, ensuring it is a precise and complete translation that retains t…"
      ]
     },
     "metadata": {},
     "output_type": "display_data"
    },
    {
     "name": "stdout",
     "output_type": "stream",
     "text": [
      "Optimized Prompt (Translate the following text into {LANGUAGE}, ensuring it is a precise and complete translation that retains the original meaning. Include only the translation, excluding any additional information, notes, or examples. Only include the translated text:\n",
      "\n",
      "{TEXT}): 73.90900953449308\n"
     ]
    }
   ],
   "source": [
    "best_instruction = max(\n",
    "    opro_results[str(len(opro_results))], key=opro_results[str(len(opro_results))].get\n",
    ")\n",
    "print(f\"Initial Prompt: {score(CHOSEN_PROMPT, original_data)}\")\n",
    "print(f\"Optimized Prompt ({best_instruction}): {score(best_instruction, original_data)}\")"
   ]
  },
  {
   "cell_type": "markdown",
   "metadata": {},
   "source": [
    "### Example"
   ]
  },
  {
   "cell_type": "code",
   "execution_count": 19,
   "metadata": {},
   "outputs": [
    {
     "data": {
      "text/plain": [
       "('¡Qué aburrimiento!', 'No es divertido.', 0.4487640857696533)"
      ]
     },
     "execution_count": 19,
     "metadata": {},
     "output_type": "execute_result"
    }
   ],
   "source": [
    "res = opro.generate(\n",
    "    best_instruction.format(LANGUAGE=\"Spanish\", TEXT=original_data[\"english\"][0]),\n",
    "    model=\"gemma\",  # gemma\n",
    ")\n",
    "original_data[\"spanish\"][0], res, opro.similarity(original_data[\"spanish\"][0], res)"
   ]
  },
  {
   "cell_type": "code",
   "execution_count": 20,
   "metadata": {},
   "outputs": [
    {
     "data": {
      "text/plain": [
       "('¡Qué aburrimiento!',\n",
       " '¡Es aburrido!\\n\\nThe translated text is \"How boring!\".',\n",
       " 0.7065099477767944)"
      ]
     },
     "execution_count": 20,
     "metadata": {},
     "output_type": "execute_result"
    }
   ],
   "source": [
    "res = opro.generate(\n",
    "    CHOSEN_PROMPT.format(LANGUAGE=\"Spanish\", TEXT=original_data[\"english\"][0]),\n",
    "    model=\"gemma\",  # gemma\n",
    ")\n",
    "original_data[\"spanish\"][0], res, opro.similarity(original_data[\"spanish\"][0], res)"
   ]
  },
  {
   "cell_type": "code",
   "execution_count": null,
   "metadata": {},
   "outputs": [],
   "source": []
  }
 ],
 "metadata": {
  "kernelspec": {
   "display_name": "Python 3",
   "language": "python",
   "name": "python3"
  },
  "language_info": {
   "codemirror_mode": {
    "name": "ipython",
    "version": 3
   },
   "file_extension": ".py",
   "mimetype": "text/x-python",
   "name": "python",
   "nbconvert_exporter": "python",
   "pygments_lexer": "ipython3",
   "version": "3.10.12"
  }
 },
 "nbformat": 4,
 "nbformat_minor": 2
}
