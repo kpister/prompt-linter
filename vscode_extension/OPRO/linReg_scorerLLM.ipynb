{
 "cells": [
  {
   "cell_type": "markdown",
   "metadata": {},
   "source": [
    "### Fake Data"
   ]
  },
  {
   "cell_type": "code",
   "execution_count": 1,
   "metadata": {},
   "outputs": [
    {
     "data": {
      "image/png": "[encoded data removed]",
      "text/plain": [
       "<Figure size 640x480 with 1 Axes>"
      ]
     },
     "metadata": {},
     "output_type": "display_data"
    }
   ],
   "source": [
    "# Creating fake data for linear regression\n",
    "import numpy as np\n",
    "import matplotlib.pyplot as plt\n",
    "\n",
    "# Create a dataset\n",
    "np.random.seed(0)\n",
    "w_true, b_true = 7, 9\n",
    "X = 10 * np.random.rand(100, 1)\n",
    "y = w_true * X + b_true + 5 * np.random.randn(100, 1)\n",
    "\n",
    "# Plot the data\n",
    "plt.plot(X, y, \"b.\")\n",
    "plt.xlabel(\"$x_1$\", fontsize=18)\n",
    "plt.ylabel(\"$y$\", rotation=0, fontsize=18)\n",
    "plt.axis([0, 10, 0, 100])\n",
    "plt.show()"
   ]
  },
  {
   "cell_type": "markdown",
   "metadata": {},
   "source": [
    "### Optimizer LLM"
   ]
  },
  {
   "cell_type": "code",
   "execution_count": 2,
   "metadata": {},
   "outputs": [
    {
     "data": {
      "text/plain": [
       "('[(-3.5, -1.8), (-5.2, 2.1), (-4.7, 3.6), (0.9, -2.4), (1.3, 3.7), (-2.2, -0.1), (2.6, -2.2), (-0.7, 1.8), (3.9, -1.3), (2.5, 0.8)]',\n",
       " [(-3.5, -1.8),\n",
       "  (-5.2, 2.1),\n",
       "  (-4.7, 3.6),\n",
       "  (0.9, -2.4),\n",
       "  (1.3, 3.7),\n",
       "  (-2.2, -0.1),\n",
       "  (2.6, -2.2),\n",
       "  (-0.7, 1.8),\n",
       "  (3.9, -1.3),\n",
       "  (2.5, 0.8)])"
      ]
     },
     "execution_count": 2,
     "metadata": {},
     "output_type": "execute_result"
    }
   ],
   "source": [
    "import ast\n",
    "from tqdm import tqdm\n",
    "from linReg_helpers import client\n",
    "\n",
    "def opt_llm(text_score_pairs):\n",
    "    user_prompt = \"\"\"\n",
    "        Now you will help me optimize a function with two input variables w, b. I have some (w,b) pairs\n",
    "        and the function values at those points. The pairs are arranged in ascending order based on their\n",
    "        function value categories.\n",
    "\n",
    "        The equation of a line is y = w * x + b, where w is the slope and b is the y-intercept.\n",
    "        The quality of the line can be placed into one of 5 categories:\n",
    "        1. Excellent\n",
    "        2. Good\n",
    "        3. Fair\n",
    "        4. Poor\n",
    "        5. Very Poor\n",
    "\n",
    "        ## Excellent\n",
    "        A line that fits the data points very well and passes through as many points as possible while having the \n",
    "        lowest possible error rate between the points and the line should be labelled as \"Excellent\".\n",
    "\n",
    "        ## Good\n",
    "        A line that fits the data points well and passes through many of the points while having a small error rate\n",
    "        between the points and the line should be labelled as \"Good\".\n",
    "\n",
    "        ## Fair\n",
    "        A line that fits the data points reasonably well and passes through some of the points while having a moderate\n",
    "        error rate between the points and the line should be labelled as \"Fair\".\n",
    "\n",
    "        ## Poor\n",
    "        A line that fits the data points poorly and passes through few of the points while having a large error rate\n",
    "        between the points and the line should be labelled as \"Poor\".\n",
    "\n",
    "        ## Very Poor\n",
    "        A line that fits the data points very poorly and passes through none of the points while having an incredibly \n",
    "        large error rate between the points and the line should be labelled as \"Very Poor\".\n",
    "\n",
    "\n",
    "        {text_score_pairs}\n",
    "\n",
    "        Give me new (w,b) pairs that are different from all pairs above, and has a function value category of \"Excellent\".\n",
    "        Do not write code. The output must be a list of 10 unique (w,b) pairs, where w and b are\n",
    "        numerical values. The (w,b) pairs can be positive or negative, and can have decimal points.\n",
    "\n",
    "        Example: [(1, 2), (3, 4), (5, -6), (7, -8), (0.5, 10), (11, 12), (13, 0.9), (15, 16), (-17, 18), (19, -20)]\n",
    "\n",
    "    \"\"\"\n",
    "\n",
    "    chat_completion = client.chat.completions.create(\n",
    "        messages=[\n",
    "            {\n",
    "                \"role\": \"system\", \n",
    "                \"content\": \"\"\"\n",
    "                You are an optimization expert. The user has some (w,b) pairs along their corresponding function values.\n",
    "                Your task is to generate a list of 10 (w,b) pairs that will have a function value as low as possible.\n",
    "\n",
    "                Example: [(1, 2), (3, 4), (5, -6), (7, -8), (0.5, 10), (11, 12), (13, 0.9), (15, 16), (-17, 18), (19, -20)]\n",
    "\n",
    "                Do not print anything other than a list of 10 (w,b) pairs. Do not write a sentence. Do not write code.\n",
    "                \"\"\"\n",
    "            },\n",
    "            {\n",
    "                \"role\": \"user\", \n",
    "                \"content\": user_prompt.format(text_score_pairs=text_score_pairs)\n",
    "            },\n",
    "        ],\n",
    "        model=\"gpt-3.5-turbo-0125\",\n",
    "        max_tokens=4096,\n",
    "        temperature=1,\n",
    "        # response_format={ \"type\": \"json_object\" },\n",
    "    )\n",
    "    result = chat_completion.choices[0].message.content\n",
    "    return result\n",
    "\n",
    "output = opt_llm(\"\"\"\n",
    "input:\n",
    "w=18, b=15\n",
    "value:\n",
    "10386334\n",
    "        \n",
    "input:\n",
    "w=17, b=18\n",
    "value:\n",
    "9204724\"\"\")\n",
    "\n",
    "tuple_list = ast.literal_eval(output)\n",
    "\n",
    "output, tuple_list"
   ]
  },
  {
   "cell_type": "markdown",
   "metadata": {},
   "source": [
    "### Scorer"
   ]
  },
  {
   "cell_type": "code",
   "execution_count": 3,
   "metadata": {},
   "outputs": [
    {
     "data": {
      "text/plain": [
       "[{'wb_pair': [-3.5, -1.8],\n",
       "  'category': 'Good',\n",
       "  'explanation': \"Let's think step by step.\\n\\nThe line y = -3.5 * x - 1.8 fits the data points well and passes through many of the (x, y) data points.\\n\\nTo calculate the error rate between the line and the points, we need some type of cost function. The error rate between the points and the line is relatively small.\\n\\nTherefore, the category for the line y = -3.5 * x - 1.8 is 'Good'.\"},\n",
       " {'wb_pair': [-5.2, 2.1],\n",
       "  'category': 'Fair',\n",
       "  'explanation': \"Let's think step by step. \\n\\nThe line y = -5.2 * x + 2.1 is a line that fits the data points reasonably well and passes through some of the (x, y) data points. To calculate the error rate between the line and the points we need some type of cost function. The error rate between the points and the line is moderate. Therefore, the category for the line y = -5.2 * x + 2.1 is 'Fair'.\"},\n",
       " {'wb_pair': [-4.7, 3.6],\n",
       "  'category': 'Very Poor',\n",
       "  'explanation': \"Let's think step by step. \\n\\nThe line y = -4.7 * x + 3.6 is a line that fits the data points very poorly and passes through none of the (x, y) data points.\\n\\nTo calculate the error rate between the line and the points we need some type of cost function. In this case, we could use mean-squared error, mean squared logarithmic error, mean absolute error, huber loss, quantile loss, or any other cost function with respect to all the (x, y) points shared above. We get an incredibly large error rate between the points and the line.\\n\\nThe line y = -4.7 * x + 3.6 is a line that fits the data points very poorly and passes through none of the (x, y) data points while having an incredibly large error rate between the points and the line. Therefore, the category for the line y = -4.7 * x + 3.6 is 'Very Poor'.\"},\n",
       " {'wb_pair': [0.9, -2.4],\n",
       "  'category': 'Fair',\n",
       "  'explanation': \"Let's think step by step. The line y = 0.9 * x - 2.4 is a line that fits the data points reasonably well and passes through some of the (x, y) data points. To calculate the error rate between the line and the points, we need some type of cost function. The error rate is moderate between the points and the line. Therefore, the category for the line y = 0.9 * x - 2.4 is Fair.\"},\n",
       " {'wb_pair': [1.3, 3.7],\n",
       "  'category': 'Fair',\n",
       "  'explanation': \"The line y = 1.3 * x + 3.7 is a line that fits the data points reasonably well and passes through some of the points. While it has a moderate error rate between the points and the line, it can be categorized as 'Fair'.\"},\n",
       " {'wb_pair': [-2.2, -0.1],\n",
       "  'category': 'Good',\n",
       "  'explanation': \"Let's think step by step. \\n\\nThe line y = -2.2 * x + (-0.1) is a line that fits the data points well and passes through many of the (x, y) data points. \\n\\nTo calculate the error rate between the line and the points we need some type of cost function. The line has a small error rate between the points and the line. \\n\\nTherefore, the category for the line y = -2.2 * x + (-0.1) is 'Good'.\"},\n",
       " {'wb_pair': [2.6, -2.2],\n",
       "  'category': 'Fair',\n",
       "  'explanation': \"Let's think step by step. The line y = 2.6 * x - 2.2 is a line that fits the data points reasonably well and passes through some of the (x, y) data points. To calculate the error rate between the line and the points, we need some type of cost function. The line has a moderate error rate between the points and the line. Therefore, the category for the line y = 2.6 * x - 2.2 is 'Fair'.\"},\n",
       " {'wb_pair': [-0.7, 1.8],\n",
       "  'category': 'Good',\n",
       "  'explanation': \"Let's think step by step.\\n\\nThe line y = -0.7 * x + 1.8 is a line that fits the data points well and passes through many of the (x, y) data points.\\n\\nTo calculate the error rate between the line and the points we need some type of cost function. The error rate between the points and the line is relatively small.\\n\\nTherefore, the category for the line y = -0.7 * x + 1.8 is 'Good'.\"},\n",
       " {'wb_pair': [3.9, -1.3],\n",
       "  'category': 'Very Poor',\n",
       "  'explanation': \"Let's think step by step. The line y = 3.9 * x - 1.3 is a line that fits the data points very poorly and passes through none of the (x, y) data points. To calculate the error rate between the line and the points, we need a cost function. In this case, we would use mean-squared error, mean squared logarithmic error, mean absolute error, huber loss, quantile loss, or any other cost function with respect to all the (x, y) points shared above. We get an incredibly large error rate between the points and the line. Therefore, the category for the line y = 3.9 * x - 1.3 is 'Very Poor'.\"},\n",
       " {'wb_pair': [2.5, 0.8],\n",
       "  'category': 'Fair',\n",
       "  'explanation': \"Let's think step by step.\\n\\nThe line y = 2.5 * x + 0.8 is a line that fits the data points reasonably well and passes through some of the (x, y) data points.\\n\\nTo calculate the error rate between the line and the points we need some type of cost function. The error rate is moderate between the points and the line.\\n\\nTherefore, the category for the line y = 2.5 * x + 0.8 is 'Fair'.\"}]"
      ]
     },
     "execution_count": 3,
     "metadata": {},
     "output_type": "execute_result"
    }
   ],
   "source": [
    "def rating(category):\n",
    "    if category == \"Excellent\":\n",
    "        return 1\n",
    "    elif category == \"Good\":\n",
    "        return 2\n",
    "    elif category == \"Fair\":\n",
    "        return 3\n",
    "    elif category == \"Poor\":\n",
    "        return 4\n",
    "    elif category == \"Very Poor\":\n",
    "        return 5\n",
    "    else:\n",
    "        return 6\n",
    "\n",
    "def scorer_llm_helper(wb_pair):\n",
    "    system_prompt = \"\"\"\\\n",
    "    {xy_pairs}\n",
    "\n",
    "    Above are the (x, y) pairs representing data points. \n",
    "    You are an AI model trained to evaluate the quality of a line defined by parameters w (slope) \n",
    "    and b (y-intercept) in terms of how well it fits the set of data points. \n",
    "    The equation of a line is y = w * x + b, where w is the slope and b is the y-intercept.\n",
    "    The quality of the line can be placed into one of 5 categories:\n",
    "    1. Excellent\n",
    "    2. Good\n",
    "    3. Fair\n",
    "    4. Poor\n",
    "    5. Very Poor\n",
    "\n",
    "    ## Excellent\n",
    "    A line that fits the data points very well and passes through as many points as possible while having the \n",
    "    lowest possible error rate between the points and the line should be labelled as \"Excellent\".\n",
    "\n",
    "    ## Good\n",
    "    A line that fits the data points well and passes through many of the points while having a small error rate\n",
    "    between the points and the line should be labelled as \"Good\".\n",
    "\n",
    "    ## Fair\n",
    "    A line that fits the data points reasonably well and passes through some of the points while having a moderate\n",
    "    error rate between the points and the line should be labelled as \"Fair\".\n",
    "\n",
    "    ## Poor\n",
    "    A line that fits the data points poorly and passes through few of the points while having a large error rate\n",
    "    between the points and the line should be labelled as \"Poor\".\n",
    "\n",
    "    ## Very Poor\n",
    "    A line that fits the data points very poorly and passes through none of the points while having an incredibly \n",
    "    large error rate between the points and the line should be labelled as \"Very Poor\".\n",
    "\n",
    "    \n",
    "    You will receive a (w, b) pair. Your task is to evaluate the pair and return a json object assigning the \n",
    "    (w, b) pair a categiry based on how well the line y = w * x + b fits the data points.\n",
    "\n",
    "    Example:\n",
    "\n",
    "    Prompt: (9999, 9999)\n",
    "\n",
    "    Response: {{\n",
    "        \"wb_pair: (9999, 9999), \n",
    "        \"category\": \"Very Poor\", \n",
    "        \"explanation\": \n",
    "            \\\"\\\"\\\"\n",
    "            Let's think step by step. \n",
    "\n",
    "            The line y = 9999 * x + 9999 is a line that fits the data points very poorly and passes through none of the\n",
    "            (x, y) data points.\n",
    "            \n",
    "            To calculate the error rate between the line and the points we need some type of cost function.\n",
    "            In this case, we could use mean-squared error, mean squared logarithmic error, mean absolute error, \n",
    "            huber loss, quantile loss, or any other cost function with respect to all the (x, y) points shared above.\n",
    "            We get an incredibly large error rate between the points and the line.\n",
    "            \n",
    "            The line y = 9999 * x + 9999 is a line that fits the data points very poorly and passes through none of the\n",
    "            (x, y) data points while having an incredibly large error rate between the points and the line. \n",
    "            Therefore, the category for the line y = 9999 * x + 9999 is \"Very Poor\".\n",
    "            \\\"\\\"\\\"\n",
    "        }}\n",
    "\n",
    "    Prompt: ({w_true}, {b_true})\n",
    "\n",
    "    Response: {{\n",
    "        \"wb_pair\" : ({w_true}, {b_true}),\n",
    "        \"category\" : \"Excellent\",\n",
    "        \"explanation\" : \n",
    "            \\\"\\\"\\\"\n",
    "            Let's think step by step.\n",
    "\n",
    "            The line y = {w_true} * x + {b_true} is a line that fits the data points very well and passes through as many\n",
    "            of the (x, y) data points as possible.\n",
    "\n",
    "            To calculate the error rate between the line and the points we need some type of cost function.\n",
    "            We get the lowest possible error rate between the points and the line.\n",
    "\n",
    "            Therefore, the category for the line y = {w_true} * x + {b_true} is \"Excellent\".\n",
    "            \\\"\\\"\\\"\n",
    "        }}\n",
    "    \"\"\"\n",
    "    chat_completion = client.chat.completions.create(\n",
    "        messages=[\n",
    "            {\n",
    "                \"role\": \"system\", \n",
    "                \"content\": system_prompt.format(xy_pairs=[(round(x[0], 2), round(y[0], 2)) for x, y in zip(X, y)], w_true=w_true, b_true=b_true)\n",
    "            },\n",
    "            {\n",
    "                \"role\": \"user\", \n",
    "                \"content\": str(wb_pair)\n",
    "            },\n",
    "        ],\n",
    "        model=\"gpt-3.5-turbo-0125\",\n",
    "        max_tokens=4096,\n",
    "        temperature=1,\n",
    "        response_format={\"type\": \"json_object\"}\n",
    "    )\n",
    "    result = chat_completion.choices[0].message.content\n",
    "    result = ast.literal_eval(result)\n",
    "    \n",
    "    # Check if it's a dictionary\n",
    "    assert type(result) == dict\n",
    "\n",
    "    # Check if it has wb_pair, category, and explanation\n",
    "    assert \"wb_pair\" in result and \"category\" in result and \"explanation\" in result\n",
    "\n",
    "    # Check if the wb_pair if correct\n",
    "    assert result[\"wb_pair\"] == list(wb_pair)\n",
    "\n",
    "    # Check if the category one of the options\n",
    "    assert result[\"category\"] in [\"Excellent\", \"Good\", \"Fair\", \"Poor\", \"Very Poor\"]\n",
    "    \n",
    "    # Check types\n",
    "    assert type(result[\"wb_pair\"]) == list and type(result[\"category\"]) == str and type(result[\"explanation\"]) == str\n",
    "\n",
    "    return result\n",
    "\n",
    "def scorer_llm(wb_pairs_lst):\n",
    "    \"\"\"\n",
    "    Returns a dictionary of (w, b) pairs and their corresponding categories.\n",
    "    \"\"\"\n",
    "    result = []\n",
    "    for wb_pair in wb_pairs_lst:\n",
    "        result.append(scorer_llm_helper(wb_pair))\n",
    "    return result\n",
    "\n",
    "scorer_llm(tuple_list[:3])"
   ]
  },
  {
   "cell_type": "markdown",
   "metadata": {},
   "source": [
    "### Plotting results"
   ]
  },
  {
   "cell_type": "code",
   "execution_count": 4,
   "metadata": {},
   "outputs": [
    {
     "data": {
      "text/plain": [
       "[{'wb_pair': [2, 5],\n",
       "  'category': 'Fair',\n",
       "  'explanation': \"Let's think step by step. The line y = 2 * x + 5 fits the data points reasonably well and passes through some of the points. The error rate between the points and the line is moderate. Therefore, the category for the line y = 2 * x + 5 is 'Fair'.\"},\n",
       " {'wb_pair': [4, 8],\n",
       "  'category': 'Fair',\n",
       "  'explanation': \"The line y = 4 * x + 8 fits the data points reasonably well and passes through some of the points. It has a moderate error rate between the points and the line. Therefore, the category for the line y = 4 * x + 8 is 'Fair'.\"},\n",
       " {'wb_pair': [3, 1],\n",
       "  'category': 'Fair',\n",
       "  'explanation': \"Let's think step by step. \\n\\n The line y = 3 * x + 1 fits the data points reasonably well and passes through some of the (x, y) data points. \\n\\n To calculate the error rate between the line and the points we need some type of cost function. The line y = 3 * x + 1 has a moderate error rate between the points and the line. \\n\\n Therefore, the category for the line y = 3 * x + 1 is 'Fair'.\"},\n",
       " {'wb_pair': [2, 1],\n",
       "  'category': 'Fair',\n",
       "  'explanation': \"The line y = 2 * x + 1 is a line that fits the data points reasonably well and passes through some of the points. The error rate between the points and the line is moderate. Therefore, the category for the line y = 2 * x + 1 is 'Fair'.\"},\n",
       " {'wb_pair': [4, 5],\n",
       "  'category': 'Poor',\n",
       "  'explanation': \"Let's think step by step. The line y = 4 * x + 5 fits the data points poorly and passes through few of the (x, y) data points. The error rate between the points and the line is relatively large. Therefore, the category for the line y = 4 * x + 5 is 'Poor'.\"}]"
      ]
     },
     "execution_count": 4,
     "metadata": {},
     "output_type": "execute_result"
    }
   ],
   "source": [
    "# Generate a list of random pairs of w, b\n",
    "total_pairs = 5\n",
    "w = (np.random.rand(total_pairs)* 10).astype(int)\n",
    "b = (np.random.rand(total_pairs) * 10).astype(int)\n",
    "wb_pairs_lst = [(w[i], b[i]) for i in range(total_pairs)]\n",
    "wb_pairs = scorer_llm(wb_pairs_lst)\n",
    "wb_pairs = sorted(wb_pairs, key=lambda x: rating(x[\"category\"]))\n",
    "wb_pairs"
   ]
  },
  {
   "cell_type": "code",
   "execution_count": 5,
   "metadata": {},
   "outputs": [
    {
     "name": "stderr",
     "output_type": "stream",
     "text": [
      "  0%|          | 0/15 [00:00<?, ?it/s]"
     ]
    },
    {
     "name": "stdout",
     "output_type": "stream",
     "text": [
      "[(-3.5, 7.8), (6.2, -3.1), (0.3, 4.7), (-2.8, 6.6), (8.9, -10.5), (-5.2, 12.3), (4.1, -2.6), (1.7, 0.4), (-9.3, 5.9), (7.2, -4.8)]\n"
     ]
    },
    {
     "name": "stderr",
     "output_type": "stream",
     "text": [
      "  7%|▋         | 1/15 [00:44<10:17, 44.11s/it]"
     ]
    },
    {
     "name": "stdout",
     "output_type": "stream",
     "text": [
      "[(-1.5, -2.8), (0.7, -3.4), (3.2, 4.6), (5.1, -1.9), (-3.8, 7.2), (1.3, 6.8), (6.7, -5.4), (-4.2, -3.9), (2.9, 0.5), (-5.5, 4.3)]\n"
     ]
    },
    {
     "name": "stderr",
     "output_type": "stream",
     "text": [
      " 13%|█▎        | 2/15 [11:21<1:25:06, 392.81s/it]"
     ]
    },
    {
     "name": "stdout",
     "output_type": "stream",
     "text": [
      "[(0.1, -2.5), (-1.5, 3.8), (2.7, -5.9), (3.2, 1.1), (4.5, -7.4), (-3.6, 10.2), (5.9, -11.1), (-4.2, 12.6), (6.3, -14.3), (7.8, -16.7)]\n"
     ]
    },
    {
     "name": "stderr",
     "output_type": "stream",
     "text": [
      " 20%|██        | 3/15 [12:02<46:30, 232.56s/it]  "
     ]
    },
    {
     "name": "stdout",
     "output_type": "stream",
     "text": [
      "[(1.5, -3.2), (-2.1, 7.8), (0.8, -5.5), (3.6, 1.1), (-4.3, 6.7), (5.9, -4.6), (2.3, 3.4), (-1.2, 0.9), (4.5, 2.3), (-3.8, -2.6)]\n"
     ]
    },
    {
     "name": "stderr",
     "output_type": "stream",
     "text": [
      " 27%|██▋       | 4/15 [12:38<28:25, 155.00s/it]"
     ]
    },
    {
     "name": "stdout",
     "output_type": "stream",
     "text": [
      "[(1.5, 2.8), (-3.7, 5.2), (2.1, -4.3), (-0.3, 6.7), (4.8, -2.1), (-5.9, 3.4), (0.6, -7.8), (3.2, -1.4), (-2.6, 8.9), (7.4, -6.5)]\n"
     ]
    },
    {
     "name": "stderr",
     "output_type": "stream",
     "text": [
      " 33%|███▎      | 5/15 [13:16<18:47, 112.73s/it]"
     ]
    },
    {
     "name": "stdout",
     "output_type": "stream",
     "text": [
      "[(3.2, -7.1), (-4.5, 9.8), (6.3, -14.2), (8.7, -19.3), (-2.1, 4.6), (10.5, -24.7), (-9.8, 17.3), (12.6, -29.1), (-7.4, 13.8), (15.4, -34.2)]\n"
     ]
    },
    {
     "name": "stderr",
     "output_type": "stream",
     "text": [
      " 40%|████      | 6/15 [14:02<13:28, 89.80s/it] "
     ]
    },
    {
     "name": "stdout",
     "output_type": "stream",
     "text": [
      "[(-4, 3), (3, -2), (1.5, -1), (-3.7, 8.2), (2.3, -4.5), (-5, 6), (2, -1.5), (-2.8, 2), (4, -3), (-2, 3.5)]\n"
     ]
    },
    {
     "name": "stderr",
     "output_type": "stream",
     "text": [
      " 47%|████▋     | 7/15 [14:40<09:44, 73.02s/it]"
     ]
    },
    {
     "name": "stdout",
     "output_type": "stream",
     "text": [
      "[(1.5, -8), (3.1, 2.4), (-2.5, 7.8), (0.6, -3.2), (2.3, -4.7), (3.8, 10.2), (-1.7, 6.5), (-3.9, -4.2), (4.4, 1.1), (-5.3, -6.8)]\n"
     ]
    },
    {
     "name": "stderr",
     "output_type": "stream",
     "text": [
      " 53%|█████▎    | 8/15 [15:17<07:11, 61.65s/it]"
     ]
    },
    {
     "name": "stdout",
     "output_type": "stream",
     "text": [
      "[(-2.5, 10.1), (3.8, -7.6), (5.6, -8.9), (0.2, -6.3), (-3.7, 11.2), (-5.1, 13.5), (4.3, -9.1), (1.9, -6.5), (-4.8, 12.7), (2.3, -6.9)]\n"
     ]
    },
    {
     "name": "stderr",
     "output_type": "stream",
     "text": [
      " 60%|██████    | 9/15 [15:59<05:33, 55.50s/it]"
     ]
    },
    {
     "name": "stdout",
     "output_type": "stream",
     "text": [
      "[(-3.1, 4.2), (6.3, -8.1), (1.9, 0.3), (-7.5, 9.6), (4.8, -3.2), (-2.6, 7.4), (9.1, 3.8), (-5.3, -2.1), (8.7, -7.9), (2.4, 6.6)]\n"
     ]
    },
    {
     "name": "stderr",
     "output_type": "stream",
     "text": [
      " 67%|██████▋   | 10/15 [16:39<04:13, 50.70s/it]"
     ]
    },
    {
     "name": "stdout",
     "output_type": "stream",
     "text": [
      "[(-3.1, 4.8), (-2.5, 8.7), (-4.3, 6.2), (-5.6, 3.1), (-4.9, 5.7), (-6.8, 1.6), (-3.8, 6.9), (-2.6, 9.2), (-5.2, 3.4), (-4.1, 7.5)]\n"
     ]
    },
    {
     "name": "stderr",
     "output_type": "stream",
     "text": [
      " 73%|███████▎  | 11/15 [17:18<03:08, 47.02s/it]"
     ]
    },
    {
     "name": "stdout",
     "output_type": "stream",
     "text": [
      "[(-0.1, 0.2), (0.3, 0.4), (0.5, -0.6), (-0.7, -0.8), (0.05, 1.0), (-1.1, 1.2), (-1.3, 0.9), (-0.15, 0.16), (0.17, -0.18), (0.19, -0.2)]\n"
     ]
    },
    {
     "name": "stderr",
     "output_type": "stream",
     "text": [
      " 80%|████████  | 12/15 [17:58<02:15, 45.02s/it]"
     ]
    },
    {
     "name": "stdout",
     "output_type": "stream",
     "text": [
      "[(-10.5, 7.8), (8.2, -12.1), (-6.7, 3.4), (4.9, -3.2), (-3.6, 5.7), (12.3, -20.5), (0.1, -2.3), (-8.9, 6.4), (14.7, -16.8), (-15.2, 18.9)]\n"
     ]
    },
    {
     "name": "stderr",
     "output_type": "stream",
     "text": [
      " 87%|████████▋ | 13/15 [18:43<01:29, 44.83s/it]"
     ]
    },
    {
     "name": "stdout",
     "output_type": "stream",
     "text": [
      "[(-10.5, 3.2), (6.4, -8.7), (3.1, 7.9), (-4.2, 5.6), (0.3, -4.7), (8.8, -12.4), (-7.1, 10.9), (5.5, -6.3), (-9.8, 15.1), (11.2, -18.7)]\n"
     ]
    },
    {
     "name": "stderr",
     "output_type": "stream",
     "text": [
      " 93%|█████████▎| 14/15 [19:19<00:42, 42.30s/it]"
     ]
    },
    {
     "name": "stdout",
     "output_type": "stream",
     "text": [
      "[(-10, 5), (5, -10), (-15, 7), (8, -20), (17, -5), (-3, 15), (20, -8), (9, 3), (1, -1), (-9, 10)]\n"
     ]
    },
    {
     "name": "stderr",
     "output_type": "stream",
     "text": [
      " 93%|█████████▎| 14/15 [19:28<01:23, 83.48s/it]\n"
     ]
    },
    {
     "ename": "IndentationError",
     "evalue": "unexpected indent (<unknown>, line 10)",
     "output_type": "error",
     "traceback": [
      "Traceback \u001b[0;36m(most recent call last)\u001b[0m:\n",
      "\u001b[0m  File \u001b[1;32m~/.local/lib/python3.10/site-packages/IPython/core/interactiveshell.py:3526\u001b[0m in \u001b[1;35mrun_code\u001b[0m\n    exec(code_obj, self.user_global_ns, self.user_ns)\u001b[0m\n",
      "\u001b[0m  Cell \u001b[1;32mIn[5], line 24\u001b[0m\n    wb_pairs.extend(scorer_llm(new_wb_pairs))\u001b[0m\n",
      "\u001b[0m  Cell \u001b[1;32mIn[3], line 140\u001b[0m in \u001b[1;35mscorer_llm\u001b[0m\n    result.append(scorer_llm_helper(wb_pair))\u001b[0m\n",
      "\u001b[0m  Cell \u001b[1;32mIn[3], line 115\u001b[0m in \u001b[1;35mscorer_llm_helper\u001b[0m\n    result = ast.literal_eval(result)\u001b[0m\n",
      "\u001b[0m  File \u001b[1;32m/usr/lib/python3.10/ast.py:64\u001b[0m in \u001b[1;35mliteral_eval\u001b[0m\n    node_or_string = parse(node_or_string.lstrip(\" \\t\"), mode='eval')\u001b[0m\n",
      "\u001b[0;36m  File \u001b[0;32m/usr/lib/python3.10/ast.py:50\u001b[0;36m in \u001b[0;35mparse\u001b[0;36m\n\u001b[0;31m    return compile(source, filename, mode, flags,\u001b[0;36m\n",
      "\u001b[0;36m  File \u001b[0;32m<unknown>:10\u001b[0;36m\u001b[0m\n\u001b[0;31m    \u001b[0m\n\u001b[0m    ^\u001b[0m\n\u001b[0;31mIndentationError\u001b[0m\u001b[0;31m:\u001b[0m unexpected indent\n"
     ]
    }
   ],
   "source": [
    "def get_text_score_pairs(wb_pairs):\n",
    "    # Assuming wb_pairs is sorted in ascending order of their function values\n",
    "    text_score_pairs = \"\"\n",
    "    for i in range(len(wb_pairs)):\n",
    "        # Only pass in the top n pairs\n",
    "        if i == total_pairs:\n",
    "            break\n",
    "        text_score_pairs += f\"\"\"\n",
    "        input:\n",
    "        w={wb_pairs[i][\"wb_pair\"][0]}, b={wb_pairs[i][\"wb_pair\"][1]}\n",
    "        category:\n",
    "        {wb_pairs[i][\"category\"]}\n",
    "        \"\"\"\n",
    "    return text_score_pairs\n",
    "\n",
    "steps = 15\n",
    "for i in tqdm(range(steps)):\n",
    "    # Optimizer LLM\n",
    "    output = opt_llm(get_text_score_pairs(wb_pairs))\n",
    "    new_wb_pairs = ast.literal_eval(output)\n",
    "    print(new_wb_pairs)\n",
    "    \n",
    "    # Scoring the new pairs and updating the wb_pairs\n",
    "    wb_pairs.extend(scorer_llm(new_wb_pairs))\n",
    "\n",
    "    # Sorting the wb_pairs\n",
    "    wb_pairs = sorted(wb_pairs, key=lambda x: rating(x[\"category\"]))\n",
    "\n",
    "wb_pairs"
   ]
  },
  {
   "cell_type": "code",
   "execution_count": 9,
   "metadata": {},
   "outputs": [
    {
     "data": {
      "text/plain": [
       "(145,\n",
       " [{'wb_pair': [-5.2, 12.3],\n",
       "   'category': 'Good',\n",
       "   'explanation': \"Let's think step by step.\\n\\nThe line y = -5.2 * x + 12.3 is a line that fits the data points well and passes through many of the (x, y) data points.\\n\\nTo calculate the error rate between the line and the points we need some type of cost function. We have a small error rate between the points and the line.\\n\\nTherefore, the category for the line y = -5.2 * x + 12.3 is 'Good'.\"},\n",
       "  {'wb_pair': [0.7, -3.4],\n",
       "   'category': 'Good',\n",
       "   'explanation': \"Let's think step by step. The line y = 0.7 * x - 3.4 fits the data points well and passes through many of the data points. It has a small error rate between the points and the line, making it a 'Good' fit for the given data.\"},\n",
       "  {'wb_pair': [2.7, -5.9],\n",
       "   'category': 'Good',\n",
       "   'explanation': \"Let's think step by step. \\n\\nThe line y = 2.7 * x - 5.9 fits the data points well and passes through many of the (x, y) data points with a small error rate between the points and the line.\\n\\nTherefore, the category for the line y = 2.7 * x - 5.9 is 'Good'.\"},\n",
       "  {'wb_pair': [0.8, -5.5],\n",
       "   'category': 'Good',\n",
       "   'explanation': \"Let's think step by step.\\n\\nThe line y = 0.8 * x - 5.5 is a line that fits the data points well and passes through many of the (x, y) data points.\\n\\nTo calculate the error rate between the line and the points we need some type of cost function. The error rate is relatively small between the points and the line.\\n\\nTherefore, the category for the line y = 0.8 * x - 5.5 is 'Good'.\"},\n",
       "  {'wb_pair': [-1.2, 0.9],\n",
       "   'category': 'Good',\n",
       "   'explanation': \"Let's think step by step.\\n\\nThe line y = -1.2 * x + 0.9 fits the data points well and passes through many of the (x, y) data points. To calculate the error rate between the line and the points, we need some type of cost function. The error rate between the points and the line is relatively small. Therefore, the category for the line y = -1.2 * x + 0.9 is 'Good'.\"},\n",
       "  {'wb_pair': [4.5, 2.3],\n",
       "   'category': 'Good',\n",
       "   'explanation': \"Let's think step by step.\\n\\nThe line y = 4.5 * x + 2.3 is a line that fits the data points well and passes through many of the (x, y) data points.\\n\\nTo calculate the error rate between the line and the points we need some type of cost function. We have a small error rate between the points and the line.\\n\\nTherefore, the category for the line y = 4.5 * x + 2.3 is 'Good'.\"},\n",
       "  {'wb_pair': [1.5, 2.8],\n",
       "   'category': 'Good',\n",
       "   'explanation': \"The line y = 1.5 * x + 2.8 fits the data points well and passes through many of the points. It has a small error rate between the points and the line. Therefore, the category for the line y = 1.5 * x + 2.8 is 'Good'.\"},\n",
       "  {'wb_pair': [2.1, -4.3],\n",
       "   'category': 'Good',\n",
       "   'explanation': \"Let's think step by step. The line y = 2.1 * x - 4.3 fits the data points well and passes through many of the points. It has a small error rate between the points and the line. Therefore, the category for the line y = 2.1 * x - 4.3 is 'Good'.\"},\n",
       "  {'wb_pair': [7.4, -6.5],\n",
       "   'category': 'Good',\n",
       "   'explanation': \"Let's think step by step. The line y = 7.4 * x - 6.5 is a line that fits the data points well and passes through many of the (x, y) data points. To calculate the error rate between the line and the points, we need some type of cost function. The error rate between the points and the line is relatively small. Therefore, the category for the line y = 7.4 * x - 6.5 is 'Good'.\"},\n",
       "  {'wb_pair': [-4.5, 9.8],\n",
       "   'category': 'Good',\n",
       "   'explanation': \"Let's think step by step.\\n\\n The line y = -4.5 * x + 9.8 is a line that fits the data points well and passes through many of the (x, y) data points.\\n\\n To calculate the error rate between the line and the points we need some type of cost function.\\n We have a small error rate between the points and the line.\\n\\n Therefore, the category for the line y = -4.5 * x + 9.8 is 'Good'.\"},\n",
       "  {'wb_pair': [-2.8, 2],\n",
       "   'category': 'Good',\n",
       "   'explanation': \"Let's think step by step.\\n\\nThe line y = -2.8 * x + 2 is a line that fits the data points well and passes through many of the (x, y) data points.\\n\\nTo calculate the error rate between the line and the points, we would use a cost function. In this case, the error rate is relatively small between the points and the line.\\n\\nTherefore, the category for the line y = -2.8 * x + 2 is 'Good'.\"},\n",
       "  {'wb_pair': [1.5, -8],\n",
       "   'category': 'Good',\n",
       "   'explanation': \"Let's think step by step.\\n\\nThe line y = 1.5 * x - 8 is a line that fits the data points well and passes through many of the data points.\\n\\nTo calculate the error rate between the line and the points, we need some type of cost function.\\nWe have a small error rate between the points and the line, indicating a good fit.\\n\\nTherefore, the category for the line y = 1.5 * x - 8 is Good.\"},\n",
       "  {'wb_pair': [2.3, -4.7],\n",
       "   'category': 'Good',\n",
       "   'explanation': \"The line y = 2.3 * x - 4.7 fits the data points well and passes through many of the points while having a small error rate between the points and the line. Therefore, the category for the line y = 2.3 * x - 4.7 is 'Good'.\"},\n",
       "  {'wb_pair': [-1.7, 6.5],\n",
       "   'category': 'Good',\n",
       "   'explanation': \"Let's think step by step. \\n\\nThe line y = -1.7 * x + 6.5 fits the data points well and passes through many of the (x, y) data points. \\n\\nTo calculate the error rate between the line and the points, we need some type of cost function. The error rate is small between the points and the line. \\n\\nTherefore, the category for the line y = -1.7 * x + 6.5 is 'Good'.\"},\n",
       "  {'wb_pair': [-3.9, -4.2],\n",
       "   'category': 'Good',\n",
       "   'explanation': \"Let's think step by step.\\n\\nThe line y = -3.9 * x - 4.2 is a line that fits the data points well and passes through many of the (x, y) data points.\\n\\nTo calculate the error rate between the line and the points we need some type of cost function. The error rate between the points and the line is relatively small.\\n\\nTherefore, the category for the line y = -3.9 * x - 4.2 is 'Good'.\"},\n",
       "  {'wb_pair': [5.6, -8.9],\n",
       "   'category': 'Good',\n",
       "   'explanation': \"Let's think step by step. The line y = 5.6 * x - 8.9 fits the data points well and passes through many of the (x, y) data points. The error rate between the points and the line is relatively small. Therefore, the category for the line y = 5.6 * x - 8.9 is 'Good'.\"},\n",
       "  {'wb_pair': [4.3, -9.1],\n",
       "   'category': 'Good',\n",
       "   'explanation': \"Let's think step by step.\\n\\nThe line y = 4.3 * x - 9.1 is a line that fits the data points well and passes through many of the (x, y) data points.\\n\\nTo calculate the error rate between the line and the points we need some type of cost function. We have a small error rate between the points and the line.\\n\\nTherefore, the category for the line y = 4.3 * x - 9.1 is 'Good'.\"},\n",
       "  {'wb_pair': [1.9, -6.5],\n",
       "   'category': 'Good',\n",
       "   'explanation': 'Let\\'s think step by step.\\n\\nThe line y = 1.9 * x - 6.5 fits the data points well and passes through many of the (x, y) data points. It has a small error rate between the points and the line. Therefore, the category for the line y = 1.9 * x - 6.5 is \"Good\".'},\n",
       "  {'wb_pair': [-4.8, 12.7],\n",
       "   'category': 'Good',\n",
       "   'explanation': \"The line y = -4.8 * x + 12.7 fits the data points well and passes through many of the points. While it may not pass through all the points, it has a relatively small error rate between the points and the line. Therefore, the category for the line y = -4.8 * x + 12.7 is 'Good'.\"},\n",
       "  {'wb_pair': [4.8, -3.2],\n",
       "   'category': 'Good',\n",
       "   'explanation': \"The line y = 4.8 * x - 3.2 fits the data points well and passes through many of the points. It has a small error rate between the points and the line. Therefore, the category for the line y = 4.8 * x - 3.2 is 'Good'.\"},\n",
       "  {'wb_pair': [2.4, 6.6],\n",
       "   'category': 'Good',\n",
       "   'explanation': \"Let's think step by step. The line y = 2.4 * x + 6.6 fits the data points well and passes through many of the points. Although it may not capture all points perfectly, it still has a small error rate between the points and the line. Therefore, the category for the line y = 2.4 * x + 6.6 is 'Good'.\"},\n",
       "  {'wb_pair': [-10.5, 3.2],\n",
       "   'category': 'Good',\n",
       "   'explanation': \"Let's think step by step. The line y = -10.5 * x + 3.2 fits the data points well and passes through many of the (x, y) data points. It has a small error rate between the points and the line. Therefore, the category for the line y = -10.5 * x + 3.2 is 'Good'.\"},\n",
       "  {'wb_pair': [5.5, -6.3],\n",
       "   'category': 'Good',\n",
       "   'explanation': \"Let's think step by step.\\nThe line y = 5.5 * x - 6.3 fits the data points well and passes through many of the (x, y) data points.\\nTo calculate the error rate between the line and the points, we need some type of cost function. The error rate between the points and the line is small.\\nTherefore, the category for the line y = 5.5 * x - 6.3 is 'Good'.\"},\n",
       "  {'wb_pair': [2, 5],\n",
       "   'category': 'Fair',\n",
       "   'explanation': \"Let's think step by step. The line y = 2 * x + 5 fits the data points reasonably well and passes through some of the points. The error rate between the points and the line is moderate. Therefore, the category for the line y = 2 * x + 5 is 'Fair'.\"},\n",
       "  {'wb_pair': [4, 8],\n",
       "   'category': 'Fair',\n",
       "   'explanation': \"The line y = 4 * x + 8 fits the data points reasonably well and passes through some of the points. It has a moderate error rate between the points and the line. Therefore, the category for the line y = 4 * x + 8 is 'Fair'.\"},\n",
       "  {'wb_pair': [3, 1],\n",
       "   'category': 'Fair',\n",
       "   'explanation': \"Let's think step by step. \\n\\n The line y = 3 * x + 1 fits the data points reasonably well and passes through some of the (x, y) data points. \\n\\n To calculate the error rate between the line and the points we need some type of cost function. The line y = 3 * x + 1 has a moderate error rate between the points and the line. \\n\\n Therefore, the category for the line y = 3 * x + 1 is 'Fair'.\"},\n",
       "  {'wb_pair': [2, 1],\n",
       "   'category': 'Fair',\n",
       "   'explanation': \"The line y = 2 * x + 1 is a line that fits the data points reasonably well and passes through some of the points. The error rate between the points and the line is moderate. Therefore, the category for the line y = 2 * x + 1 is 'Fair'.\"},\n",
       "  {'wb_pair': [6.2, -3.1],\n",
       "   'category': 'Fair',\n",
       "   'explanation': \"Let's think step by step.\\n\\nThe line y = 6.2 * x - 3.1 fits the data points reasonably well and passes through some of the points.\\n\\nTo calculate the error rate between the line and the points, we need some type of cost function. The line has a moderate error rate between the points and the line.\\n\\nTherefore, the category for the line y = 6.2 * x - 3.1 is 'Fair'.\"},\n",
       "  {'wb_pair': [0.3, 4.7],\n",
       "   'category': 'Fair',\n",
       "   'explanation': \"Let's think step by step.\\n\\nThe line y = 0.3 * x + 4.7 is a line that fits the data points reasonably well and passes through some of the (x, y) data points.\\n\\nTo calculate the error rate between the line and the points we need some type of cost function. We have a moderate error rate between the points and the line.\\n\\nTherefore, the category for the line y = 0.3 * x + 4.7 is 'Fair'.\"},\n",
       "  {'wb_pair': [4.1, -2.6],\n",
       "   'category': 'Fair',\n",
       "   'explanation': \"Let's think step by step. The line y = 4.1 * x - 2.6 is a line that fits the data points reasonably well and passes through some of the (x, y) data points. To calculate the error rate between the line and the points we need some type of cost function. The line y = 4.1 * x - 2.6 is a line that fits the data points reasonably well and passes through some of the (x, y) data points while having a moderate error rate between the points and the line. Therefore, the category for the line y = 4.1 * x - 2.6 is 'Fair'.\"},\n",
       "  {'wb_pair': [1.7, 0.4],\n",
       "   'category': 'Fair',\n",
       "   'explanation': \"Let's think step by step.\\n\\nThe line y = 1.7 * x + 0.4 is a line that fits the data points reasonably well and passes through some of the (x, y) data points.\\n\\nTo calculate the error rate between the line and the points we need some type of cost function. Hence, we can say the line fits the data points reasonably well. Therefore, the category for the line y = 1.7 * x + 0.4 is 'Fair'.\"},\n",
       "  {'wb_pair': [7.2, -4.8],\n",
       "   'category': 'Fair',\n",
       "   'explanation': \"Let's analyze the line y = 7.2 * x - 4.8 with respect to the data points provided. This line fits the data points reasonably well and passes through some of the points. Although it doesn't capture all the points perfectly, it still has a moderate error rate between the points and the line. Therefore, the category for the line y = 7.2 * x - 4.8 is 'Fair'.\"},\n",
       "  {'wb_pair': [-1.5, -2.8],\n",
       "   'category': 'Fair',\n",
       "   'explanation': \"Let's think step by step. \\n\\nThe line y = -1.5 * x - 2.8 is a line that fits the data points reasonably well and passes through some of the (x, y) data points.\\n\\nTo calculate the error rate between the line and the points we need some type of cost function. The error rate between the points and the line is moderate.\\n\\nTherefore, the category for the line y = -1.5 * x - 2.8 is 'Fair'.\"},\n",
       "  {'wb_pair': [3.2, 4.6],\n",
       "   'category': 'Fair',\n",
       "   'explanation': \"Let's think step by step.\\n\\nThe line y = 3.2 * x + 4.6 is a line that fits the data points reasonably well and passes through some of the (x, y) data points.\\n\\nTo calculate the error rate between the line and the points we need some type of cost function. The line has a moderate error rate between the points and the line.\\n\\nTherefore, the category for the line y = 3.2 * x + 4.6 is Fair.\"},\n",
       "  {'wb_pair': [5.1, -1.9],\n",
       "   'category': 'Fair',\n",
       "   'explanation': \"Let's think step by step. \\n\\nThe line y = 5.1 * x - 1.9 fits the data points reasonably well and passes through some of the points. To calculate the error rate between the line and the points, we need to use a cost function. The line has a moderate error rate between the points and the line. \\n\\nTherefore, the category for the line y = 5.1 * x - 1.9 is 'Fair'.\"},\n",
       "  {'wb_pair': [-3.8, 7.2],\n",
       "   'category': 'Fair',\n",
       "   'explanation': \"Let's think step by step.\\n\\nThe line y = -3.8 * x + 7.2 is a line that fits the data points reasonably well and passes through some of the (x, y) data points.\\n\\nTo calculate the error rate between the line and the points we need some type of cost function. The error rate is moderate between the points and the line.\\n\\nTherefore, the category for the line y = -3.8 * x + 7.2 is 'Fair'.\"},\n",
       "  {'wb_pair': [1.3, 6.8],\n",
       "   'category': 'Fair',\n",
       "   'explanation': \"Let's think step by step.\\n\\nThe line y = 1.3 * x + 6.8 fits the data points reasonably well and passes through some of the points.\\n\\nTo calculate the error rate between the line and the points we need some type of cost function. The error rate between the points and the line is moderate.\\n\\nTherefore, the category for the line y = 1.3 * x + 6.8 is 'Fair'.\"},\n",
       "  {'wb_pair': [6.7, -5.4],\n",
       "   'category': 'Fair',\n",
       "   'explanation': \"Let's think step by step. The line y = 6.7 * x - 5.4 fits the data points reasonably well and passes through some of the (x, y) data points. To calculate the error rate between the line and the points, we need some type of cost function. The error rate between the points and the line is moderate. Therefore, the category for the line y = 6.7 * x - 5.4 is 'Fair'.\"},\n",
       "  {'wb_pair': [-4.2, -3.9],\n",
       "   'category': 'Fair',\n",
       "   'explanation': \"Let's think step by step. The line y = -4.2 * x - 3.9 fits the data points reasonably well and passes through some of the (x, y) data points. It has a moderate error rate between the points and the line. Therefore, the category for the line y = -4.2 * x - 3.9 is 'Fair'.\"},\n",
       "  {'wb_pair': [2.9, 0.5],\n",
       "   'category': 'Fair',\n",
       "   'explanation': \"Let's think step by step.\\n\\nThe line y = 2.9 * x + 0.5 is a line that fits the data points reasonably well and passes through some of the points.\\n\\nTo calculate the error rate between the line and the points we need some type of cost function. The error rate between the points and the line is moderate.\\n\\nTherefore, the category for the line y = 2.9 * x + 0.5 is 'Fair'.\"},\n",
       "  {'wb_pair': [-5.5, 4.3],\n",
       "   'category': 'Fair',\n",
       "   'explanation': \"Let's think step by step.\\n\\nThe line y = -5.5 * x + 4.3 is a line that fits the data points reasonably well and passes through some of the (x, y) data points.\\n\\nTo calculate the error rate between the line and the points we need some type of cost function. The error rate is moderate between the points and the line.\\n\\nTherefore, the category for the line y = -5.5 * x + 4.3 is 'Fair'.\"},\n",
       "  {'wb_pair': [-1.5, 3.8],\n",
       "   'category': 'Fair',\n",
       "   'explanation': \"Let's think step by step.\\n\\nThe line y = -1.5 * x + 3.8 fits the data points reasonably well and passes through some of the points.\\n\\nTo calculate the error rate between the line and the points, we need some type of cost function. The error rate is moderate between the points and the line.\\n\\nTherefore, the category for the line y = -1.5 * x + 3.8 is 'Fair'.\"},\n",
       "  {'wb_pair': [3.2, 1.1],\n",
       "   'category': 'Fair',\n",
       "   'explanation': \"Let's think step by step.\\n\\nThe line y = 3.2 * x + 1.1 fits the data points reasonably well and passes through some of the points.\\n\\nTo calculate the error rate between the line and the points we need some type of cost function. The line has a moderate error rate between the points and the line.\\n\\nTherefore, the category for the line y = 3.2 * x + 1.1 is 'Fair'.\"},\n",
       "  {'wb_pair': [-3.6, 10.2],\n",
       "   'category': 'Fair',\n",
       "   'explanation': \"The line y = -3.6 * x + 10.2 fits the data points reasonably well and passes through some of the points while having a moderate error rate between the points and the line. Therefore, the category for the line y = -3.6 * x + 10.2 is 'Fair'.\"},\n",
       "  {'wb_pair': [7.8, -16.7],\n",
       "   'category': 'Fair',\n",
       "   'explanation': \"Let's think step by step.\\n\\nThe line y = 7.8 * x - 16.7 is a line that fits the data points reasonably well and passes through some of the (x, y) data points.\\n\\nTo calculate the error rate between the line and the points we need some type of cost function. This line has a moderate error rate between the points and the line.\\n\\nTherefore, the category for the line y = 7.8 * x - 16.7 is Fair.\"},\n",
       "  {'wb_pair': [1.5, -3.2],\n",
       "   'category': 'Fair',\n",
       "   'explanation': \"The line y = 1.5 * x - 3.2 fits the data points reasonably well and passes through some of the points. It has a moderate error rate between the points and the line. Therefore, the category for the line y = 1.5 * x - 3.2 is 'Fair'.\"},\n",
       "  {'wb_pair': [-4.3, 6.7],\n",
       "   'category': 'Fair',\n",
       "   'explanation': \"The line y = -4.3 * x + 6.7 fits the data points reasonably well and passes through some of the points. It has a moderate error rate between the points and the line. Therefore, the category for the line y = -4.3 * x + 6.7 is 'Fair'.\"},\n",
       "  {'wb_pair': [5.9, -4.6],\n",
       "   'category': 'Fair',\n",
       "   'explanation': \"The line y = 5.9 * x - 4.6 fits the data points reasonably well and passes through some of the points. It has a moderate error rate between the points and the line. Therefore, the category for the line y = 5.9 * x - 4.6 is 'Fair'.\"},\n",
       "  {'wb_pair': [2.3, 3.4],\n",
       "   'category': 'Fair',\n",
       "   'explanation': \"Let's think step by step. The line y = 2.3 * x + 3.4 fits the data points reasonably well and passes through some of the points. The error rate between the points and the line is moderate. Therefore, the category for the line y = 2.3 * x + 3.4 is 'Fair'.\"},\n",
       "  {'wb_pair': [-0.3, 6.7],\n",
       "   'category': 'Fair',\n",
       "   'explanation': \"Let's think step by step.\\n\\nThe line y = -0.3 * x + 6.7 is a line that fits the data points reasonably well and passes through some of the (x, y) data points.\\n\\nTo calculate the error rate between the line and the points we need some type of cost function. The error rate is moderate between the points and the line.\\n\\nTherefore, the category for the line y = -0.3 * x + 6.7 is 'Fair'.\"},\n",
       "  {'wb_pair': [4.8, -2.1],\n",
       "   'category': 'Fair',\n",
       "   'explanation': \"Let's think step by step. \\n\\nThe line y = 4.8 * x - 2.1 is a line that fits the data points reasonably well and passes through some of the (x, y) data points. To calculate the error rate between the line and the points we need some type of cost function. The line y = 4.8 * x - 2.1 is a line that fits the data points reasonably well and passes through some of the (x, y) data points while having a moderate error rate between the points and the line. Therefore, the category for the line y = 4.8 * x - 2.1 is 'Fair'.\"},\n",
       "  {'wb_pair': [-5.9, 3.4],\n",
       "   'category': 'Fair',\n",
       "   'explanation': \"Let's think step by step. \\n\\nThe line y = -5.9 * x + 3.4 is a line that fits the data points reasonably well and passes through some of the (x, y) data points. \\n\\nTo calculate the error rate between the line and the points we need some type of cost function. In this case, the error rate between the points and the line is moderate.\\n\\nTherefore, the category for the line y = -5.9 * x + 3.4 is 'Fair'.\"},\n",
       "  {'wb_pair': [3.2, -1.4],\n",
       "   'category': 'Fair',\n",
       "   'explanation': \"Let's think step by step.\\n\\nThe line y = 3.2 * x - 1.4 is a line that fits the data points reasonably well and passes through some of the (x, y) data points.\\n\\nTo calculate the error rate between the line and the points we need some type of cost function. There is a moderate error rate between the points and the line.\\n\\nTherefore, the category for the line y = 3.2 * x - 1.4 is 'Fair'.\"},\n",
       "  {'wb_pair': [-2.6, 8.9],\n",
       "   'category': 'Fair',\n",
       "   'explanation': \"Let's think step by step.\\n\\nThe line y = -2.6 * x + 8.9 is a line that fits the data points reasonably well and passes through some of the (x, y) data points.\\n\\nTo calculate the error rate between the line and the points, we need some type of cost function. The line has a moderate error rate between the points and the line.\\n\\nTherefore, the category for the line y = -2.6 * x + 8.9 is 'Fair'.\"},\n",
       "  {'wb_pair': [3.2, -7.1],\n",
       "   'category': 'Fair',\n",
       "   'explanation': \"Let's think step by step.\\nThe line y = 3.2 * x - 7.1 fits the data points reasonably well and passes through some of the points.\\nTo calculate the error rate between the line and the points we need some type of cost function.\\nThe line y = 3.2 * x - 7.1 is a line that fits the data points reasonably well and passes through some of the (x, y) data points while having a moderate error rate between the points and the line.\\nTherefore, the category for the line y = 3.2 * x - 7.1 is 'Fair'.\"},\n",
       "  {'wb_pair': [8.7, -19.3],\n",
       "   'category': 'Fair',\n",
       "   'explanation': 'The line y = 8.7 * x - 19.3 fits the data points reasonably well and passes through some of the points. The error rate between the points and the line is moderate. Therefore, the category for the line y = 8.7 * x - 19.3 is Fair.'},\n",
       "  {'wb_pair': [3, -2],\n",
       "   'category': 'Fair',\n",
       "   'explanation': \"The line y = 3 * x - 2 is a line that fits the data points reasonably well and passes through some of the (x, y) data points. It has a moderate error rate between the points and the line. Therefore, the category for the line y = 3 * x - 2 is 'Fair'.\"},\n",
       "  {'wb_pair': [2.3, -4.5],\n",
       "   'category': 'Fair',\n",
       "   'explanation': \"Let's think step by step. \\n\\nThe line y = 2.3 * x - 4.5 fits the data points reasonably well and passes through some of the (x, y) data points. \\n\\nThe error rate between the points and the line is moderate. Therefore, the category for the line y = 2.3 * x - 4.5 is 'Fair'.\"},\n",
       "  {'wb_pair': [2, -1.5],\n",
       "   'category': 'Fair',\n",
       "   'explanation': \"Let's think step by step.\\n\\nThe line y = 2 * x - 1.5 is a line that fits the data points reasonably well and passes through some of the points.\\n\\nTo calculate the error rate between the line and the points we need some type of cost function. The error rate between the points and the line is moderate.\\n\\nTherefore, the category for the line y = 2 * x - 1.5 is Fair.\"},\n",
       "  {'wb_pair': [4, -3],\n",
       "   'category': 'Fair',\n",
       "   'explanation': \"Let's think step by step. \\n\\nThe line y = 4 * x - 3 is a line that fits the data points reasonably well and passes through some of the (x, y) data points. \\n\\nTo calculate the error rate between the line and the points we need some type of cost function. We have a moderate error rate between the points and the line. \\n\\nTherefore, the category for the line y = 4 * x - 3 is 'Fair'.\"},\n",
       "  {'wb_pair': [-2, 3.5],\n",
       "   'category': 'Fair',\n",
       "   'explanation': \"Let's think step by step. The line y = -2 * x + 3.5 fits the data points reasonably well and passes through some of the (x, y) data points. To calculate the error rate between the line and the points, we need to use a cost function. The error rate is moderate between the points and the line. Therefore, the category for the line y = -2 * x + 3.5 is 'Fair'.\"},\n",
       "  {'wb_pair': [3.1, 2.4],\n",
       "   'category': 'Fair',\n",
       "   'explanation': \"The line y = 3.1 * x + 2.4 fits the data points reasonably well and passes through some of the points. It has a moderate error rate between the points and the line. Therefore, the category for the line y = 3.1 * x + 2.4 is 'Fair'.\"},\n",
       "  {'wb_pair': [-2.5, 7.8],\n",
       "   'category': 'Fair',\n",
       "   'explanation': \"Let's think step by step.\\n\\nThe line y = -2.5 * x + 7.8 is a line that fits the data points reasonably well and passes through some of the (x, y) data points.\\n\\nTo calculate the error rate between the line and the points we need some type of cost function.\\nWe have a moderate error rate between the points and the line.\\n\\nTherefore, the category for the line y = -2.5 * x + 7.8 is 'Fair'.\"},\n",
       "  {'wb_pair': [0.6, -3.2],\n",
       "   'category': 'Fair',\n",
       "   'explanation': \"Let's think step by step.\\n\\nThe line y = 0.6 * x - 3.2 fits the data points reasonably well and passes through some of the (x, y) data points. The error rate between the points and the line is moderate.\\n\\nTherefore, the category for the line y = 0.6 * x - 3.2 is 'Fair'.\"},\n",
       "  {'wb_pair': [3.8, 10.2],\n",
       "   'category': 'Fair',\n",
       "   'explanation': \"Let's think step by step.\\n\\nThe line y = 3.8 * x + 10.2 is a line that fits the data points reasonably well and passes through some of the (x, y) data points.\\n\\nTo calculate the error rate between the line and the points we need some type of cost function. We have a moderate error rate between the points and the line.\\n\\nTherefore, the category for the line y = 3.8 * x + 10.2 is Fair.\"},\n",
       "  {'wb_pair': [4.4, 1.1],\n",
       "   'category': 'Fair',\n",
       "   'explanation': \"Let's think step by step.\\n\\nThe line y = 4.4 * x + 1.1 is a line that fits the data points reasonably well and passes through some of the points. It has a moderate error rate between the points and the line.\\n\\nTherefore, the category for the line y = 4.4 * x + 1.1 is 'Fair'.\"},\n",
       "  {'wb_pair': [-5.3, -6.8],\n",
       "   'category': 'Fair',\n",
       "   'explanation': \"Let's think step by step.\\n\\nThe line y = -5.3 * x - 6.8 is a line that fits the data points reasonably well and passes through some of the (x, y) data points.\\n\\nTo calculate the error rate between the line and the points we need some type of cost function. We have a moderate error rate between the points and the line.\\n\\nTherefore, the category for the line y = -5.3 * x - 6.8 is 'Fair'.\"},\n",
       "  {'wb_pair': [-2.5, 10.1],\n",
       "   'category': 'Fair',\n",
       "   'explanation': \"Let's think step by step.\\nThe line y = -2.5 * x + 10.1 is a line that fits the data points reasonably well and passes through some of the points.\\nTo calculate the error rate between the line and the points we need some type of cost function. The error rate is moderate between the points and the line.\\nTherefore, the category for the line y = -2.5 * x + 10.1 is 'Fair'.\"},\n",
       "  {'wb_pair': [3.8, -7.6],\n",
       "   'category': 'Fair',\n",
       "   'explanation': \"Let's think step by step. \\n\\nThe line y = 3.8 * x - 7.6 fits the data points reasonably well and passes through some of the points. \\n\\nTo calculate the error rate between the line and the points, we would need a cost function. The error rate between the points and the line is moderate. \\n\\nTherefore, the category for the line y = 3.8 * x - 7.6 is 'Fair'.\"},\n",
       "  {'wb_pair': [2.3, -6.9],\n",
       "   'category': 'Fair',\n",
       "   'explanation': \"Let's think step by step. \\n\\nThe line y = 2.3 * x - 6.9 is a line that fits the data points reasonably well and passes through some of the (x, y) data points.\\n\\nTo calculate the error rate between the line and the points, we would need to use a cost function. The line has a moderate error rate between the points and the line.\\n\\nTherefore, the category for the line y = 2.3 * x - 6.9 is 'Fair'.\"},\n",
       "  {'wb_pair': [-3.1, 4.2],\n",
       "   'category': 'Fair',\n",
       "   'explanation': \"The line y = -3.1 * x + 4.2 fits the data points reasonably well and passes through some of the points with a moderate error rate between the points and the line. Therefore, the category for the line y = -3.1 * x + 4.2 is 'Fair'.\"},\n",
       "  {'wb_pair': [6.3, -8.1],\n",
       "   'category': 'Fair',\n",
       "   'explanation': \"Let's think step by step. The line y = 6.3 * x - 8.1 fits the data points reasonably well and passes through some of the points. The error rate between the points and the line is moderate. Therefore, the category for the line y = 6.3 * x - 8.1 is 'Fair'.\"},\n",
       "  {'wb_pair': [-2.6, 7.4],\n",
       "   'category': 'Fair',\n",
       "   'explanation': \"Let's think step by step.\\n\\nThe line y = -2.6 * x + 7.4 fits the data points reasonably well and passes through some of the points while having a moderate error rate between the points and the line.\\n\\nTherefore, the category for the line y = -2.6 * x + 7.4 is 'Fair'.\"},\n",
       "  {'wb_pair': [8.7, -7.9],\n",
       "   'category': 'Fair',\n",
       "   'explanation': \"The line y = 8.7 * x - 7.9 fits the data points reasonably well and passes through some of the points. The error rate between the points and the line is moderate. Therefore, the category for the line y = 8.7 * x - 7.9 is 'Fair'.\"},\n",
       "  {'wb_pair': [-2.5, 8.7],\n",
       "   'category': 'Fair',\n",
       "   'explanation': \"Let's think step by step. The line y = -2.5 * x + 8.7 fits the data points reasonably well and passes through some of the points. While the line may not pass through all the points, it does have a moderate error rate between the points and the line. Therefore, the category for the line y = -2.5 * x + 8.7 is 'Fair'.\"},\n",
       "  {'wb_pair': [-5.6, 3.1],\n",
       "   'category': 'Fair',\n",
       "   'explanation': \"Let's think step by step. \\n\\nThe line y = -5.6 * x + 3.1 fits the data points reasonably well and passes through some of the (x, y) data points. \\n\\nTo calculate the error rate between the line and the points, we need to use a cost function. The error rate between the points and the line is moderate. \\n\\nTherefore, the category for the line y = -5.6 * x + 3.1 is 'Fair'.\"},\n",
       "  {'wb_pair': [-2.6, 9.2],\n",
       "   'category': 'Fair',\n",
       "   'explanation': \"Let's think step by step.\\nThe line y = -2.6 * x + 9.2 is a line that fits the data points reasonably well and passes through some of the (x, y) data points.\\nTo calculate the error rate between the line and the points we need some type of cost function. The line has a moderate error rate between the points and the line.\\nTherefore, the category for the line y = -2.6 * x + 9.2 is 'Fair'.\"},\n",
       "  {'wb_pair': [-4.1, 7.5],\n",
       "   'category': 'Fair',\n",
       "   'explanation': \"The line y = -4.1 * x + 7.5 fits the data points reasonably well and passes through some of the points. The error rate between the points and the line is moderate. Therefore, the category for the line y = -4.1 * x + 7.5 is 'Fair'.\"},\n",
       "  {'wb_pair': [-0.1, 0.2],\n",
       "   'category': 'Fair',\n",
       "   'explanation': \"Let's think step by step.\\n\\nThe line y = -0.1 * x + 0.2 is a line that fits the data points reasonably well and passes through some of the points.\\n\\nTo calculate the error rate between the line and the points, we need some type of cost function.\\n\\nTherefore, the category for the line y = -0.1 * x + 0.2 is 'Fair'.\"},\n",
       "  {'wb_pair': [0.3, 0.4],\n",
       "   'category': 'Fair',\n",
       "   'explanation': \"The line y = 0.3 * x + 0.4 fits the data points reasonably well and passes through some of the points while having a moderate error rate between the points and the line. Therefore, the category for the line y = 0.3 * x + 0.4 is 'Fair'.\"},\n",
       "  {'wb_pair': [0.5, -0.6],\n",
       "   'category': 'Fair',\n",
       "   'explanation': \"Let's think step by step. The line y = 0.5 * x - 0.6 is a line that fits the data points reasonably well and passes through some of the (x, y) data points. To calculate the error rate between the line and the points, we can use a cost function. The line has a moderate error rate between the points and the line. Therefore, the category for the line y = 0.5 * x - 0.6 is 'Fair'.\"},\n",
       "  {'wb_pair': [-0.7, -0.8],\n",
       "   'category': 'Fair',\n",
       "   'explanation': \"The line y = -0.7 * x - 0.8 fits the data points reasonably well and passes through some of the points. It has a moderate error rate between the points and the line. Therefore, the category for the line y = -0.7 * x - 0.8 is 'Fair'.\"},\n",
       "  {'wb_pair': [-1.1, 1.2],\n",
       "   'category': 'Fair',\n",
       "   'explanation': \"Let's evaluate the line y = -1.1 * x + 1.2: This line fits the data points reasonably well and passes through some of the points. While it doesn't pass through all the points, it has a moderate error rate between the points and the line. Therefore, the category for the line y = -1.1 * x + 1.2 is 'Fair'.\"},\n",
       "  {'wb_pair': [-1.3, 0.9],\n",
       "   'category': 'Fair',\n",
       "   'explanation': \"The line y = -1.3 * x + 0.9 fits the data points reasonably well and passes through some of the points. While it has a moderate error rate between the points and the line, the fit is still acceptable. Therefore, the category for the line y = -1.3 * x + 0.9 is 'Fair'.\"},\n",
       "  {'wb_pair': [-0.15, 0.16],\n",
       "   'category': 'Fair',\n",
       "   'explanation': \"Let's think step by step.\\n\\nThe line y = -0.15 * x + 0.16 fits the data points reasonably well and passes through some of the points.\\n\\nTo calculate the error rate between the line and the points we need some type of cost function. The error rate is moderate between the points and the line.\\n\\nTherefore, the category for the line y = -0.15 * x + 0.16 is 'Fair'.\"},\n",
       "  {'wb_pair': [14.7, -16.8],\n",
       "   'category': 'Fair',\n",
       "   'explanation': \"Let's think step by step. \\n\\nThe line y = 14.7 * x - 16.8 is a line that fits the data points reasonably well and passes through some of the (x, y) data points.\\n\\nTo calculate the error rate between the line and the points we need some type of cost function. We have a moderate error rate between the points and the line.\\n\\nTherefore, the category for the line y = 14.7 * x - 16.8 is 'Fair'.\"},\n",
       "  {'wb_pair': [3.1, 7.9],\n",
       "   'category': 'Fair',\n",
       "   'explanation': \"Let's think step by step. The line y = 3.1 * x + 7.9 fits the data points reasonably well and passes through some of the points. The error rate between the points and the line is moderate. Therefore, the category for the line y = 3.1 * x + 7.9 is Fair.\"},\n",
       "  {'wb_pair': [8.8, -12.4],\n",
       "   'category': 'Fair',\n",
       "   'explanation': \"Let's think step by step.\\n\\nThe line y = 8.8 * x - 12.4 is a line that fits the data points reasonably well and passes through some of the points.\\n\\nTo calculate the error rate between the line and the points we need some type of cost function. The line fits the data points reasonably well with a moderate error rate between the points and the line.\\n\\nTherefore, the category for the line y = 8.8 * x - 12.4 is 'Fair'.\"},\n",
       "  {'wb_pair': [4, 5],\n",
       "   'category': 'Poor',\n",
       "   'explanation': \"Let's think step by step. The line y = 4 * x + 5 fits the data points poorly and passes through few of the (x, y) data points. The error rate between the points and the line is relatively large. Therefore, the category for the line y = 4 * x + 5 is 'Poor'.\"},\n",
       "  {'wb_pair': [-2.8, 6.6],\n",
       "   'category': 'Poor',\n",
       "   'explanation': \"Let's think step by step. \\n\\nThe line y = -2.8 * x + 6.6 fits the data points poorly and passes through few of the (x, y) data points. \\n\\nTo calculate the error rate between the line and the points, a cost function like mean-squared error can be used. This line has a large error rate between the points and the line. \\n\\nTherefore, the category for the line y = -2.8 * x + 6.6 is 'Poor'.\"},\n",
       "  {'wb_pair': [-9.3, 5.9],\n",
       "   'category': 'Poor',\n",
       "   'explanation': 'Let\\'s think step by step. \\n\\nThe line y = -9.3 * x + 5.9 is a line that fits the data points poorly and passes through few of the (x, y) data points. \\n\\nTo calculate the error rate between the line and the points we need some type of cost function. In this case, we could use mean-squared error, mean squared logarithmic error, mean absolute error, huber loss, quantile loss, or any other cost function with respect to all the (x, y) points shared above. We get a large error rate between the points and the line. \\n\\nThe line y = -9.3 * x + 5.9 is a line that fits the data points poorly and passes through few of the (x, y) data points while having a large error rate between the points and the line. Therefore, the category for the line y = -9.3 * x + 5.9 is \"Poor\".'},\n",
       "  {'wb_pair': [4.5, -7.4],\n",
       "   'category': 'Poor',\n",
       "   'explanation': \"Let's think step by step. \\n\\nThe line y = 4.5 * x - 7.4 fits the data points poorly and passes through few of the (x, y) data points. \\n\\nTo calculate the error rate between the line and the points, we need some type of cost function. The error rate between the points and the line is large. \\n\\nTherefore, the category for the line y = 4.5 * x - 7.4 is 'Poor'.\"},\n",
       "  {'wb_pair': [-4.2, 12.6],\n",
       "   'category': 'Poor',\n",
       "   'explanation': \"The line y = -4.2 * x + 12.6 fits the data points poorly and passes through few of the points. It has a large error rate between the points and the line. Therefore, the category for the line y = -4.2 * x + 12.6 is 'Poor'.\"},\n",
       "  {'wb_pair': [3.6, 1.1],\n",
       "   'category': 'Poor',\n",
       "   'explanation': \"Let's think step by step.\\n\\nThe line y = 3.6 * x + 1.1 is a line that fits the data points poorly and passes through few of the (x, y) data points.\\n\\nTo calculate the error rate between the line and the points, we would need some type of cost function. The error rate between the points and the line is relatively large.\\n\\nTherefore, the category for the line y = 3.6 * x + 1.1 is 'Poor'.\"},\n",
       "  {'wb_pair': [-3.8, -2.6],\n",
       "   'category': 'Poor',\n",
       "   'explanation': \"Let's think step by step. The line y = -3.8 * x - 2.6 fits the data points poorly and passes through few of the (x, y) data points. Although it intersects with some points, the overall fit is not very good. The error rate between the points and the line is significant. Therefore, the category for the line y = -3.8 * x - 2.6 is 'Poor'.\"},\n",
       "  {'wb_pair': [-3.7, 5.2],\n",
       "   'category': 'Poor',\n",
       "   'explanation': \"Let's think step by step.\\n\\nThe line y = -3.7 * x + 5.2 fits the data points poorly and passes through few of the (x, y) data points. \\n\\nTo calculate the error rate between the line and the points we need some type of cost function. \\nWe get a large error rate between the points and the line.\\n\\nThe line y = -3.7 * x + 5.2 fits the data points poorly and passes through few of the (x, y) data points while having a large error rate between the points and the line. \\nTherefore, the category for the line y = -3.7 * x + 5.2 is 'Poor'.\"},\n",
       "  {'wb_pair': [-9.8, 17.3],\n",
       "   'category': 'Poor',\n",
       "   'explanation': \"Let's think step by step.\\n\\nThe line y = -9.8 * x + 17.3 fits the data points poorly and passes through few of the (x, y) data points.\\nTo calculate the error rate between the line and the points, we can use a cost function like mean-squared error. We observe a large error rate between the points and the line.\\n\\nTherefore, the category for the line y = -9.8 * x + 17.3 is 'Poor'.\"},\n",
       "  {'wb_pair': [-7.4, 13.8],\n",
       "   'category': 'Poor',\n",
       "   'explanation': \"Let's think step by step.\\n\\nThe line y = -7.4 * x + 13.8 fits the data points poorly and passes through few of the (x, y) data points. To calculate the error rate between the line and the points, a cost function, such as mean-squared error, would be used which results in a large error rate.\\nThe line y = -7.4 * x + 13.8 fits the data points poorly and passes through few of the (x, y) data points while having a large error rate between the points and the line. Therefore, the category for the line y = -7.4 * x + 13.8 is 'Poor'.\"},\n",
       "  {'wb_pair': [1.5, -1],\n",
       "   'category': 'Poor',\n",
       "   'explanation': \"Let's think step by step. The line y = 1.5 * x - 1 fits the data points poorly and passes through few of the (x, y) data points. To calculate the error rate between the line and the points, we need some type of cost function. The error rate between the points and the line is large. Therefore, the category for the line y = 1.5 * x - 1 is 'Poor'.\"},\n",
       "  {'wb_pair': [-3.7, 8.2],\n",
       "   'category': 'Poor',\n",
       "   'explanation': \"Let's think step by step.\\n\\nThe line y = -3.7 * x + 8.2 is a line that fits the data points poorly and passes through few of the (x, y) data points.\\n\\nTo calculate the error rate between the line and the points we need some type of cost function. We get a large error rate between the points and the line.\\n\\nThe line y = -3.7 * x + 8.2 is a line that fits the data points poorly and passes through few of the (x, y) data points while having a large error rate between the points and the line. Therefore, the category for the line y = -3.7 * x + 8.2 is 'Poor'.\"},\n",
       "  {'wb_pair': [-5, 6],\n",
       "   'category': 'Poor',\n",
       "   'explanation': \"Let's think step by step. \\n\\nThe line y = -5 * x + 6 fits the data points poorly and passes through few of the (x, y) data points. \\n\\nTo calculate the error rate between the line and the points, we need to use a cost function. The error rate between the points and the line is large. \\n\\nTherefore, the category for the line y = -5 * x + 6 is 'Poor'.\"},\n",
       "  {'wb_pair': [-3.7, 11.2],\n",
       "   'category': 'Poor',\n",
       "   'explanation': \"Let's think step by step. \\n\\nThe line y = -3.7 * x + 11.2 fits the data points poorly and passes through few of the (x, y) data points. \\n\\nTo calculate the error rate between the line and the points we need some type of cost function. We have a large error rate between the points and the line. \\n\\nThe line y = -3.7 * x + 11.2 fits the data points poorly and passes through few of the (x, y) data points while having a large error rate between the points and the line. Therefore, the category for the line y = -3.7 * x + 11.2 is 'Poor'.\"},\n",
       "  {'wb_pair': [-5.1, 13.5],\n",
       "   'category': 'Poor',\n",
       "   'explanation': \"Let's think step by step. \\n\\nThe line y = -5.1 * x + 13.5 is a line that fits the data points poorly and passes through few of the (x, y) data points. \\n\\nTo calculate the error rate between the line and the points we need some type of cost function. In this case, we could use mean-squared error, mean squared logarithmic error, mean absolute error, huber loss, quantile loss, or any other cost function with respect to all the (x, y) points shared above. We get a large error rate between the points and the line. \\n\\nThe line y = -5.1 * x + 13.5 is a line that fits the data points poorly and passes through few of the (x, y) data points while having a large error rate between the points and the line. Therefore, the category for the line y = -5.1 * x + 13.5 is 'Poor'.\"},\n",
       "  {'wb_pair': [-5.3, -2.1],\n",
       "   'category': 'Poor',\n",
       "   'explanation': \"The line y = -5.3 * x - 2.1 fits the data points poorly and passes through few of the points. There is a large error rate between the points and the line, indicating a 'Poor' fit.\"},\n",
       "  {'wb_pair': [-3.1, 4.8],\n",
       "   'category': 'Poor',\n",
       "   'explanation': \"Let's think step by step. \\n\\nThe line y = -3.1 * x + 4.8 fits the data points poorly and passes through few of the (x, y) data points. \\nTo calculate the error rate between the line and the points, we need some type of cost function. The error rate between the points and the line is quite large.\\n\\nTherefore, the category for the line y = -3.1 * x + 4.8 is 'Poor'.\"},\n",
       "  {'wb_pair': [-4.3, 6.2],\n",
       "   'category': 'Poor',\n",
       "   'explanation': \"The line y = -4.3 * x + 6.2 fits the data points poorly and passes through few of the points. While the line tries to capture some of the trend, it does not fit the data well overall, resulting in a large error rate between the points and the line. Therefore, the category for the line y = -4.3 * x + 6.2 is 'Poor'.\"},\n",
       "  {'wb_pair': [-4.9, 5.7],\n",
       "   'category': 'Poor',\n",
       "   'explanation': \"Let's think step by step. \\n\\nThe line y = -4.9 * x + 5.7 fits the data points poorly and passes through few of the (x, y) data points. \\n\\nTo calculate the error rate between the line and the points, we need some type of cost function. The error rate between the points and the line is large. \\n\\nTherefore, the category for the line y = -4.9 * x + 5.7 is 'Poor'.\"},\n",
       "  {'wb_pair': [-6.8, 1.6],\n",
       "   'category': 'Poor',\n",
       "   'explanation': \"The line y = -6.8 * x + 1.6 fits the data points poorly, passing through few of the points. The error rate between the points and the line is relatively large compared to better fitting lines. Therefore, the category for the line y = -6.8 * x + 1.6 is 'Poor'.\"},\n",
       "  {'wb_pair': [-3.8, 6.9],\n",
       "   'category': 'Poor',\n",
       "   'explanation': \"Let's think step by step.\\n\\nThe line y = -3.8 * x + 6.9 fits the data points poorly and passes through few of the (x, y) data points.\\n\\nTo calculate the error rate between the line and the points, we can use a cost function like mean-squared error.\\n\\nThe error rate between the points and the line is relatively high.\\n\\nTherefore, the category for the line y = -3.8 * x + 6.9 is 'Poor'.\"},\n",
       "  {'wb_pair': [4.9, -3.2],\n",
       "   'category': 'Poor',\n",
       "   'explanation': \"Let's think step by step.\\n\\nThe line y = 4.9 * x - 3.2 fits the data points poorly and passes through few of the (x, y) data points.\\n\\nTo calculate the error rate between the line and the points, we need some type of cost function. The error rate between the points and the line is large.\\n\\nTherefore, the category for the line y = 4.9 * x - 3.2 is 'Poor'.\"},\n",
       "  {'wb_pair': [12.3, -20.5],\n",
       "   'category': 'Poor',\n",
       "   'explanation': \"Let's think step by step. The line y = 12.3 * x - 20.5 fits the data points poorly and passes through few of the (x, y) data points. To calculate the error rate between the line and the points, we need some type of cost function. The error rate between the points and the line is large. Therefore, the category for the line y = 12.3 * x - 20.5 is 'Poor'.\"},\n",
       "  {'wb_pair': [0.1, -2.3],\n",
       "   'category': 'Poor',\n",
       "   'explanation': \"Let's think step by step. The line y = 0.1 * x - 2.3 is a line that fits the data points poorly and passes through few of the (x, y) data points. To calculate the error rate between the line and the points, we need some type of cost function. We get a large error rate between the points and the line. Therefore, the category for the line y = 0.1 * x - 2.3 is 'Poor'.\"},\n",
       "  {'wb_pair': [-8.9, 6.4],\n",
       "   'category': 'Poor',\n",
       "   'explanation': \"Let's think step by step. The line y = -8.9 * x + 6.4 is a line that fits the data points poorly and passes through few of the (x, y) data points. To calculate the error rate between the line and the points, a cost function is needed. We observe a large error rate between the points and the line. Therefore, the category for the line y = -8.9 * x + 6.4 is 'Poor'.\"},\n",
       "  {'wb_pair': [-15.2, 18.9],\n",
       "   'category': 'Poor',\n",
       "   'explanation': \"Let's think step by step.\\n\\nThe line y = -15.2 * x + 18.9 fits the data points poorly and passes through few of the (x, y) data points.\\n\\nTo calculate the error rate between the line and the points, a cost function like mean-squared error, mean absolute error, or other could be used. The error rate between the points and the line is significantly large.\\n\\nThe line y = -15.2 * x + 18.9 fits the data points poorly and passes through few of the (x, y) data points while having a large error rate between the points and the line. Therefore, the category for the line y = -15.2 * x + 18.9 is 'Poor'.\"},\n",
       "  {'wb_pair': [6.4, -8.7],\n",
       "   'category': 'Poor',\n",
       "   'explanation': \"Let's think step by step. The line y = 6.4 * x - 8.7 fits the data points poorly and passes through few of the (x, y) data points. The error rate between the points and the line is quite large. Therefore, the category for the line y = 6.4 * x - 8.7 is 'Poor'.\"},\n",
       "  {'wb_pair': [-4.2, 5.6],\n",
       "   'category': 'Poor',\n",
       "   'explanation': \"Let's think step by step. The line y = -4.2 * x + 5.6 fits the data points poorly and passes through few of the (x, y) data points. To calculate the error rate between the line and the points, we need to consider a cost function. In this case, the error rate is large between the points and the line. Therefore, the category for the line y = -4.2 * x + 5.6 is 'Poor'.\"},\n",
       "  {'wb_pair': [0.3, -4.7],\n",
       "   'category': 'Poor',\n",
       "   'explanation': \"The line y = 0.3 * x - 4.7 fits the data points poorly and passes through few of the (x, y) points. The error rate between the points and the line is relatively large. Therefore, the category for the line y = 0.3 * x - 4.7 is 'Poor'.\"},\n",
       "  {'wb_pair': [-7.1, 10.9],\n",
       "   'category': 'Poor',\n",
       "   'explanation': \"Let's think step by step. \\n\\nThe line y = -7.1 * x + 10.9 is a line that fits the data points poorly and passes through few of the (x, y) data points. \\n\\nTo calculate the error rate between the line and the points we need some type of cost function. In this case, we could use mean-squared error, mean squared logarithmic error, mean absolute error, huber loss, quantile loss, or any other cost function with respect to all the (x, y) points shared above. We get a large error rate between the points and the line. \\n\\nThe line y = -7.1 * x + 10.9 is a line that fits the data points poorly and passes through few of the (x, y) data points while having a large error rate between the points and the line. Therefore, the category for the line y = -7.1 * x + 10.9 is 'Poor'.\"},\n",
       "  {'wb_pair': [-9.8, 15.1],\n",
       "   'category': 'Poor',\n",
       "   'explanation': \"Let's think step by step. The line y = -9.8 * x + 15.1 fits the data points poorly and passes through few of the (x, y) data points. To calculate the error rate between the line and the points, we need a cost function. The error rate between the points and the line is quite large. Therefore, the category for the line y = -9.8 * x + 15.1 is 'Poor'.\"},\n",
       "  {'wb_pair': [11.2, -18.7],\n",
       "   'category': 'Poor',\n",
       "   'explanation': \"Let's think step by step. The line y = 11.2 * x - 18.7 fits the data points poorly and passes through few of the (x, y) data points. The error rate between the points and the line is relatively large. Therefore, the category for the line y = 11.2 * x - 18.7 is 'Poor'.\"},\n",
       "  {'wb_pair': [-3.5, 7.8],\n",
       "   'category': 'Very Poor',\n",
       "   'explanation': \"Let's think step by step.\\n\\nThe line y = -3.5 * x + 7.8 is a line that fits the data points very poorly and passes through none of the (x, y) data points.\\n\\nTo calculate the error rate between the line and the points we need some type of cost function. In this case, we could use mean-squared error, mean squared logarithmic error, mean absolute error, huber loss, quantile loss, or any other cost function with respect to all the (x, y) points shared above. We get an incredibly large error rate between the points and the line.\\n\\nThe line y = -3.5 * x + 7.8 is a line that fits the data points very poorly and passes through none of the (x, y) data points while having an incredibly large error rate between the points and the line. Therefore, the category for the line y = -3.5 * x + 7.8 is 'Very Poor'.\"},\n",
       "  {'wb_pair': [8.9, -10.5],\n",
       "   'category': 'Very Poor',\n",
       "   'explanation': \"Let's think step by step.\\n\\nThe line y = 8.9 * x - 10.5 is a line that fits the data points very poorly and passes through none of the (x, y) data points.\\n\\nTo calculate the error rate between the line and the points we need some type of cost function. We get an incredibly large error rate between the points and the line.\\n\\nThe line y = 8.9 * x - 10.5 is a line that fits the data points very poorly and passes through none of the (x, y) data points while having an incredibly large error rate between the points and the line. Therefore, the category for the line y = 8.9 * x - 10.5 is 'Very Poor'.\"},\n",
       "  {'wb_pair': [0.1, -2.5],\n",
       "   'category': 'Very Poor',\n",
       "   'explanation': \"Let's think step by step. The line y = 0.1 * x - 2.5 is a line that fits the data points very poorly and passes through none of the (x, y) data points. To calculate the error rate between the line and the points we need some type of cost function. In this case, we could use mean-squared error, mean squared logarithmic error, mean absolute error, huber loss, quantile loss, or any other cost function with respect to all the (x, y) points shared above. We get an incredibly large error rate between the points and the line. The line y = 0.1 * x - 2.5 is a line that fits the data points very poorly and passes through none of the (x, y) data points while having an incredibly large error rate between the points and the line. Therefore, the category for the line y = 0.1 * x - 2.5 is 'Very Poor'.\"},\n",
       "  {'wb_pair': [5.9, -11.1],\n",
       "   'category': 'Very Poor',\n",
       "   'explanation': \"Let's think step by step. \\n\\nThe line y = 5.9 * x - 11.1 is a line that fits the data points very poorly and passes through none of the (x, y) data points.\\n\\nTo calculate the error rate between the line and the points we need some type of cost function. In this case, we could use mean-squared error, mean squared logarithmic error, mean absolute error, huber loss, quantile loss, or any other cost function with respect to all the (x, y) points shared above. We get an incredibly large error rate between the points and the line. \\n\\nThe line y = 5.9 * x - 11.1 is a line that fits the data points very poorly and passes through none of the (x, y) data points while having an incredibly large error rate between the points and the line. Therefore, the category for the line y = 5.9 * x - 11.1 is Very Poor.\"},\n",
       "  {'wb_pair': [6.3, -14.3],\n",
       "   'category': 'Very Poor',\n",
       "   'explanation': \"Let's think step by step. \\n\\nThe line y = 6.3 * x - 14.3 is a line that fits the data points very poorly and passes through none of the (x, y) data points.\\n\\nTo calculate the error rate between the line and the points we need some type of cost function. In this case, we could use mean-squared error, mean squared logarithmic error, mean absolute error, huber loss, quantile loss, or any other cost function with respect to all the (x, y) points shared above. We get an incredibly large error rate between the points and the line.\\n\\nThe line y = 6.3 * x - 14.3 is a line that fits the data points very poorly and passes through none of the (x, y) data points while having an incredibly large error rate between the points and the line. Therefore, the category for the line y = 6.3 * x - 14.3 is 'Very Poor'.\"},\n",
       "  {'wb_pair': [-2.1, 7.8],\n",
       "   'category': 'Very Poor',\n",
       "   'explanation': \"The line y = -2.1 * x + 7.8 fits the data points very poorly and passes through none of the (x, y) data points. The error rate between the points and the line is incredibly large. Therefore, the category for the line y = -2.1 * x + 7.8 is 'Very Poor'.\"},\n",
       "  {'wb_pair': [0.6, -7.8],\n",
       "   'category': 'Very Poor',\n",
       "   'explanation': \"Let's think step by step. The line y = 0.6 * x - 7.8 is a line that fits the data points very poorly and passes through none of the (x, y) data points. To calculate the error rate between the line and the points we need some type of cost function. We get an incredibly large error rate between the points and the line. The line y = 0.6 * x - 7.8 is a line that fits the data points very poorly and passes through none of the (x, y) data points while having an incredibly large error rate between the points and the line. Therefore, the category for the line y = 0.6 * x - 7.8 is 'Very Poor'.\"},\n",
       "  {'wb_pair': [6.3, -14.2],\n",
       "   'category': 'Very Poor',\n",
       "   'explanation': \"Let's think step by step. \\nThe line y = 6.3 * x - 14.2 is a line that fits the data points very poorly and passes through none of the (x, y) data points. To calculate the error rate between the line and the points we need some type of cost function. In this case, we could use mean-squared error, mean squared logarithmic error, mean absolute error, huber loss, quantile loss, or any other cost function with respect to all the (x, y) points shared above. We get an incredibly large error rate between the points and the line. The line y = 6.3 * x - 14.2 is a line that fits the data points very poorly and passes through none of the (x, y) data points while having an incredibly large error rate between the points and the line. Therefore, the category for the line y = 6.3 * x - 14.2 is 'Very Poor'.\"},\n",
       "  {'wb_pair': [-2.1, 4.6],\n",
       "   'category': 'Very Poor',\n",
       "   'explanation': \"Let's think step by step. The line y = -2.1 * x + 4.6 is a line that fits the data points very poorly and passes through none of the (x, y) data points. To calculate the error rate between the line and the points we need some type of cost function. We get an incredibly large error rate between the points and the line. The line y = -2.1 * x + 4.6 is a line that fits the data points very poorly and passes through none of the (x, y) data points while having an incredibly large error rate between the points and the line. Therefore, the category for the line y = -2.1 * x + 4.6 is 'Very Poor'.\"},\n",
       "  {'wb_pair': [10.5, -24.7],\n",
       "   'category': 'Very Poor',\n",
       "   'explanation': \"Let's think step by step. \\n\\nThe line y = 10.5 * x - 24.7 is a line that fits the data points very poorly and passes through none of the (x, y) data points.\\n\\nTo calculate the error rate between the line and the points we need some type of cost function.\\nIn this case, we could use mean-squared error, mean squared logarithmic error, mean absolute error, huber loss, quantile loss, or any other cost function with respect to all the (x, y) points shared above.\\nWe get an incredibly large error rate between the points and the line.\\n\\nThe line y = 10.5 * x - 24.7 is a line that fits the data points very poorly and passes through none of the (x, y) data points while having an incredibly large error rate between the points and the line.\\nTherefore, the category for the line y = 10.5 * x - 24.7 is 'Very Poor'.\"},\n",
       "  {'wb_pair': [12.6, -29.1],\n",
       "   'category': 'Very Poor',\n",
       "   'explanation': \"Let's think step by step. \\n\\nThe line y = 12.6 * x - 29.1 is a line that fits the data points very poorly and passes through none of the (x, y) data points.\\n\\nTo calculate the error rate between the line and the points we need some type of cost function. In this case, we could use mean-squared error, mean squared logarithmic error, mean absolute error, huber loss, quantile loss, or any other cost function with respect to all the (x, y) points shared above. We get an incredibly large error rate between the points and the line.\\nThe line y = 12.6 * x - 29.1 is a line that fits the data points very poorly and passes through none of the (x, y) data points while having an incredibly large error rate between the points and the line. Therefore, the category for the line y = 12.6 * x - 29.1 is 'Very Poor'.\"},\n",
       "  {'wb_pair': [15.4, -34.2],\n",
       "   'category': 'Very Poor',\n",
       "   'explanation': \"The line y = 15.4 * x - 34.2 fits the data points very poorly and passes through none of the (x, y) data points. It results in an incredibly large error rate between the points and the line. Therefore, the category for the line y = 15.4 * x - 34.2 is 'Very Poor'.\"},\n",
       "  {'wb_pair': [-4, 3],\n",
       "   'category': 'Very Poor',\n",
       "   'explanation': 'Let\\'s think step by step. The line y = -4 * x + 3 is a line that fits the data points very poorly and passes through none of the (x, y) data points. To calculate the error rate between the line and the points we need some type of cost function. We get an incredibly large error rate between the points and the line. The line y = -4 * x + 3 is a line that fits the data points very poorly and passes through none of the (x, y) data points while having an incredibly large error rate between the points and the line. Therefore, the category for the line y = -4 * x + 3 is \"Very Poor\".'},\n",
       "  {'wb_pair': [0.2, -6.3],\n",
       "   'category': 'Very Poor',\n",
       "   'explanation': \"Let's think step by step. \\n\\nThe line y = 0.2 * x - 6.3 is a line that fits the data points very poorly and passes through none of the (x, y) data points. \\n\\nTo calculate the error rate between the line and the points we need some type of cost function. In this case, we could use mean-squared error, mean squared logarithmic error, mean absolute error, huber loss, quantile loss, or any other cost function with respect to all the (x, y) points shared above. We get an incredibly large error rate between the points and the line. \\n\\nThe line y = 0.2 * x - 6.3 is a line that fits the data points very poorly and passes through none of the (x, y) data points while having an incredibly large error rate between the points and the line. Therefore, the category for the line y = 0.2 * x - 6.3 is 'Very Poor'.\"},\n",
       "  {'wb_pair': [1.9, 0.3],\n",
       "   'category': 'Very Poor',\n",
       "   'explanation': \"Let's think step by step.\\n\\nThe line y = 1.9 * x + 0.3 is a line that fits the data points very poorly and passes through none of the (x, y) data points.\\n\\nTo calculate the error rate between the line and the points we need some type of cost function. In this case, we could use mean-squared error, mean squared logarithmic error, mean absolute error, huber loss, quantile loss, or any other cost function with respect to all the (x, y) points shared above. We get an incredibly large error rate between the points and the line.\\n\\nThe line y = 1.9 * x + 0.3 is a line that fits the data points very poorly and passes through none of the (x, y) data points while having an incredibly large error rate between the points and the line. Therefore, the category for the line y = 1.9 * x + 0.3 is 'Very Poor'.\"},\n",
       "  {'wb_pair': [-7.5, 9.6],\n",
       "   'category': 'Very Poor',\n",
       "   'explanation': \"Let's think step by step.\\n\\nThe line y = -7.5 * x + 9.6 is a line that fits the data points very poorly and passes through none of the (x, y) data points.\\n\\nTo calculate the error rate between the line and the points we need some type of cost function. In this case, we could use mean-squared error, mean squared logarithmic error, mean absolute error, huber loss, quantile loss, or any other cost function with respect to all the (x, y) points shared above. We get an incredibly large error rate between the points and the line.\\n\\nThe line y = -7.5 * x + 9.6 is a line that fits the data points very poorly and passes through none of the (x, y) data points while having an incredibly large error rate between the points and the line. Therefore, the category for the line y = -7.5 * x + 9.6 is 'Very Poor'.\"},\n",
       "  {'wb_pair': [9.1, 3.8],\n",
       "   'category': 'Very Poor',\n",
       "   'explanation': \"Let's think step by step. \\n\\nThe line y = 9.1 * x + 3.8 is a line that fits the data points very poorly and passes through none of the (x, y) data points.\\n\\nTo calculate the error rate between the line and the points we need some type of cost function. In this case, we could use mean-squared error, mean squared logarithmic error, mean absolute error, huber loss, quantile loss, or any other cost function with respect to all the (x, y) points shared above. We get an incredibly large error rate between the points and the line.\\n\\nThe line y = 9.1 * x + 3.8 is a line that fits the data points very poorly and passes through none of the (x, y) data points while having an incredibly large error rate between the points and the line. Therefore, the category for the line y = 9.1 * x + 3.8 is 'Very Poor'.\"},\n",
       "  {'wb_pair': [-5.2, 3.4],\n",
       "   'category': 'Very Poor',\n",
       "   'explanation': \"The line y = -5.2 * x + 3.4 fits the data points very poorly and passes through none of the (x, y) data points. The error rate between the points and the line is incredibly large. Therefore, the category for the line y = -5.2 * x + 3.4 is 'Very Poor'.\"},\n",
       "  {'wb_pair': [0.05, 1.0],\n",
       "   'category': 'Very Poor',\n",
       "   'explanation': \"Let's think step by step. \\n\\nThe line y = 0.05 * x + 1.0 is a line that fits the data points very poorly and passes through none of the (x, y) data points.\\n\\nTo calculate the error rate between the line and the points we need some type of cost function. In this case, we could use mean-squared error, mean squared logarithmic error, mean absolute error, huber loss, quantile loss, or any other cost function with respect to all the (x, y) points shared above. We get an incredibly large error rate between the points and the line.\\n\\nThe line y = 0.05 * x + 1.0 is a line that fits the data points very poorly and passes through none of the (x, y) data points while having an incredibly large error rate between the points and the line. Therefore, the category for the line y = 0.05 * x + 1.0 is 'Very Poor'.\"},\n",
       "  {'wb_pair': [0.17, -0.18],\n",
       "   'category': 'Very Poor',\n",
       "   'explanation': \"Let's think step by step.\\n\\nThe line y = 0.17 * x - 0.18 is a line that fits the data points very poorly and passes through none of the (x, y) data points.\\n\\nTo calculate the error rate between the line and the points we need some type of cost function. In this case, we could use mean-squared error, mean squared logarithmic error, mean absolute error, huber loss, quantile loss, or any other cost function with respect to all the (x, y) points shared above. We get an incredibly large error rate between the points and the line.\\n\\nThe line y = 0.17 * x - 0.18 is a line that fits the data points very poorly and passes through none of the (x, y) data points while having an incredibly large error rate between the points and the line. Therefore, the category for the line y = 0.17 * x - 0.18 is 'Very Poor'.\"},\n",
       "  {'wb_pair': [0.19, -0.2],\n",
       "   'category': 'Very Poor',\n",
       "   'explanation': \"Let's think step by step. \\n\\nThe line y = 0.19 * x - 0.2 is a line that fits the data points very poorly and passes through none of the (x, y) data points. To calculate the error rate between the line and the points, we need some type of cost function. We get an incredibly large error rate between the points and the line. The line y = 0.19 * x - 0.2 is a line that fits the data points very poorly and passes through none of the (x, y) data points while having an incredibly large error rate between the points and the line. Therefore, the category for the line y = 0.19 * x - 0.2 is 'Very Poor'.\"},\n",
       "  {'wb_pair': [-10.5, 7.8],\n",
       "   'category': 'Very Poor',\n",
       "   'explanation': \"Let's think step by step.\\n\\nThe line y = -10.5 * x + 7.8 is a line that fits the data points very poorly and passes through none of the (x, y) data points.\\n\\nTo calculate the error rate between the line and the points, we need some type of cost function. In this case, we could use mean squared error, mean squared logarithmic error, mean absolute error, huber loss, quantile loss, or any other cost function with respect to all the (x, y) points shared above. We get an incredibly large error rate between the points and the line.\\n\\nThe line y = -10.5 * x + 7.8 is a line that fits the data points very poorly and passes through none of the (x, y) data points while having an incredibly large error rate between the points and the line. Therefore, the category for the line y = -10.5 * x + 7.8 is 'Very Poor'.\"},\n",
       "  {'wb_pair': [8.2, -12.1],\n",
       "   'category': 'Very Poor',\n",
       "   'explanation': \"Let's think step by step. The line y = 8.2 * x - 12.1 is a line that fits the data points very poorly and passes through none of the (x, y) data points. To calculate the error rate between the line and the points, we need some type of cost function. We get an incredibly large error rate between the points and the line. The line y = 8.2 * x - 12.1 is a line that fits the data points very poorly and passes through none of the (x, y) data points while having an incredibly large error rate between the points and the line. Therefore, the category for the line y = 8.2 * x - 12.1 is 'Very Poor'.\"},\n",
       "  {'wb_pair': [-6.7, 3.4],\n",
       "   'category': 'Very Poor',\n",
       "   'explanation': \"Let's think step by step. \\n\\nThe line y = -6.7 * x + 3.4 is a line that fits the data points very poorly and passes through none of the (x, y) data points. \\n\\nTo calculate the error rate between the line and the points we need some type of cost function. In this case, we could use mean-squared error, mean squared logarithmic error, mean absolute error, huber loss, quantile loss, or any other cost function with respect to all the (x, y) points shared above. We get an incredibly large error rate between the points and the line. \\n\\nThe line y = -6.7 * x + 3.4 is a line that fits the data points very poorly and passes through none of the (x, y) data points while having an incredibly large error rate between the points and the line. Therefore, the category for the line y = -6.7 * x + 3.4 is 'Very Poor'.\"},\n",
       "  {'wb_pair': [-3.6, 5.7],\n",
       "   'category': 'Very Poor',\n",
       "   'explanation': \"Let's think step by step.\\n\\nThe line y = -3.6 * x + 5.7 is a line that fits the data points very poorly and passes through none of the (x, y) data points.\\n\\nTo calculate the error rate between the line and the points we need some type of cost function. We get an incredibly large error rate between the points and the line.\\n\\nThe line y = -3.6 * x + 5.7 is a line that fits the data points very poorly and passes through none of the (x, y) data points while having an incredibly large error rate between the points and the line. Therefore, the category for the line y = -3.6 * x + 5.7 is 'Very Poor'.\"}])"
      ]
     },
     "execution_count": 9,
     "metadata": {},
     "output_type": "execute_result"
    }
   ],
   "source": [
    "len(wb_pairs), wb_pairs"
   ]
  },
  {
   "cell_type": "code",
   "execution_count": 7,
   "metadata": {},
   "outputs": [
    {
     "name": "stdout",
     "output_type": "stream",
     "text": [
      "[{'wb_pair': [-1.2, 0.9], 'category': 'Good', 'explanation': \"Let's think step by step.\\n\\nThe line y = -1.2 * x + 0.9 fits the data points well and passes through many of the (x, y) data points. It has a small error rate between the points and the line.\\n\\nTherefore, the category for the line y = -1.2 * x + 0.9 is 'Good'.\"}, {'wb_pair': [4.5, 2.3], 'category': 'Good', 'explanation': \"Let's think step by step. \\n\\nThe line y = 4.5 * x + 2.3 fits the data points well and passes through many of the (x, y) data points.\\n\\nTo calculate the error rate between the line and the points we need some type of cost function. The error rate between the points and the line is relatively small.\\n\\nTherefore, the category for the line y = 4.5 * x + 2.3 is 'Good'.\"}, {'wb_pair': [-1.7, 6.5], 'category': 'Good', 'explanation': \"The line y = -1.7 * x + 6.5 is a line that fits the data points well and passes through many of the (x, y) data points. It has a small error rate between the points and the line, placing it in the 'Good' category.\"}, {'wb_pair': [-3.9, -4.2], 'category': 'Good', 'explanation': \"The line y = -3.9 * x - 4.2 fits the data points well and passes through many of the points while having a small error rate between the points and the line. Therefore, the category for the line y = -3.9 * x - 4.2 is 'Good'.\"}, {'wb_pair': [0.7, -3.4], 'category': 'Fair', 'explanation': \"Let's think step by step.\\n\\nThe line y = 0.7 * x - 3.4 fits the data points reasonably well and passes through some of the points.\\n\\nTo calculate the error rate between the line and the points, we need some type of cost function. The error rate between the points and the line is moderate.\\n\\nTherefore, the category for the line y = 0.7 * x - 3.4 is 'Fair'.\"}, {'wb_pair': [2.7, -5.9], 'category': 'Fair', 'explanation': \"Let's think step by step. The line y = 2.7 * x - 5.9 is a line that fits the data points reasonably well and passes through some of the (x, y) data points. To calculate the error rate between the line and the points we need some type of cost function. The line y = 2.7 * x - 5.9 fits the data points reasonably well and passes through some of the points while having a moderate error rate between the points and the line. Therefore, the category for the line y = 2.7 * x - 5.9 is 'Fair'.\"}, {'wb_pair': [0.8, -5.5], 'category': 'Fair', 'explanation': \"Let's think step by step.\\n\\nThe line y = 0.8 * x - 5.5 is a line that fits the data points reasonably well and passes through some of the points.\\n\\nTo calculate the error rate between the line and the points we need some type of cost function. The error rate is moderate between the points and the line.\\n\\nTherefore, the category for the line y = 0.8 * x - 5.5 is 'Fair'.\"}, {'wb_pair': [1.5, 2.8], 'category': 'Fair', 'explanation': \"The line y = 1.5 * x + 2.8 fits the data points reasonably well and passes through some of the points while having a moderate error rate between the points and the line. Therefore, the category for the line y = 1.5 * x + 2.8 is 'Fair'.\"}]\n",
      "[{'wb_pair': [-1.2, 0.9], 'category': 'Fair', 'explanation': 'The line y = -1.2 * x + 0.9 is a line that fits the data points reasonably well and passes through some of the points. It has a moderate error rate between the points and the line. Therefore, the category for the line y = -1.2 * x + 0.9 is Fair.'}, {'wb_pair': [-1.7, 6.5], 'category': 'Fair', 'explanation': \"Let's think step by step. \\n\\nThe line y = -1.7 * x + 6.5 is a line that fits the data points reasonably well and passes through some of the (x, y) data points. \\n\\nTo calculate the error rate between the line and the points we need some type of cost function. Considering the data points provided, we observe that the line has a moderate error rate between the points and the line. \\n\\nThe line y = -1.7 * x + 6.5 is a line that fits the data points reasonably well and passes through some of the (x, y) data points while having a moderate error rate between the points and the line. Therefore, the category for the line y = -1.7 * x + 6.5 is 'Fair'.\"}, {'wb_pair': [-3.9, -4.2], 'category': 'Fair', 'explanation': \"Let's think step by step.\\n\\nThe line y = -3.9 * x - 4.2 is a line that fits the data points reasonably well and passes through some of the (x, y) data points.\\n\\nTo calculate the error rate between the line and the points we need some type of cost function.\\n\\nTherefore, the category for the line y = -3.9 * x - 4.2 is 'Fair'.\"}, {'wb_pair': [2.7, -5.9], 'category': 'Fair', 'explanation': \"Let's think step by step. The line y = 2.7 * x - 5.9 fits the data points reasonably well and passes through some of the (x, y) data points. While the line does not capture all the points perfectly, it has a moderate error rate between the points and the line. Therefore, the category for the line y = 2.7 * x - 5.9 is 'Fair'.\"}]\n",
      "[{'wb_pair': [-1.2, 0.9], 'category': 'Fair', 'explanation': \"Let's think step by step.\\n\\nThe line y = -1.2 * x + 0.9 is a line that fits the data points reasonably well and passes through some of the (x, y) data points.\\n\\nTo calculate the error rate between the line and the points we need some type of cost function. The error rate is moderate between the points and the line.\\n\\nTherefore, the category for the line y = -1.2 * x + 0.9 is 'Fair'.\"}, {'wb_pair': [-3.9, -4.2], 'category': 'Fair', 'explanation': \"Let's think step by step.\\n\\nThe line y = -3.9 * x - 4.2 is a line that fits the data points reasonably well and passes through some of the (x, y) data points.\\n\\nTo calculate the error rate between the line and the points we need some type of cost function. The error rate is moderate between the points and the line.\\n\\nTherefore, the category for the line y = -3.9 * x - 4.2 is 'Fair'.\"}]\n",
      "[{'wb_pair': [-3.9, -4.2], 'category': 'Good', 'explanation': \"Let's think step by step. The line y = -3.9 * x - 4.2 is a line that fits the data points well and passes through many of the (x, y) data points. To calculate the error rate between the line and the points we need some type of cost function. The error rate between the points and the line is relatively small. Therefore, the category for the line y = -3.9 * x - 4.2 is Good.\"}]\n"
     ]
    },
    {
     "data": {
      "text/plain": [
       "[{'wb_pair': [-3.9, -4.2],\n",
       "  'category': 'Good',\n",
       "  'explanation': \"Let's think step by step. The line y = -3.9 * x - 4.2 is a line that fits the data points well and passes through many of the (x, y) data points. To calculate the error rate between the line and the points we need some type of cost function. The error rate between the points and the line is relatively small. Therefore, the category for the line y = -3.9 * x - 4.2 is Good.\"}]"
      ]
     },
     "execution_count": 7,
     "metadata": {},
     "output_type": "execute_result"
    }
   ],
   "source": [
    "best_wb_pairs = wb_pairs[:min(len(wb_pairs)//2, 16)]\n",
    "\n",
    "while len(best_wb_pairs) > 1:\n",
    "    # Scoring the best pairs\n",
    "    best_wb_pairs = scorer_llm([pair[\"wb_pair\"] for pair in best_wb_pairs])\n",
    "\n",
    "    # Sorting the wb_pairs\n",
    "    best_wb_pairs = sorted(best_wb_pairs, key=lambda x: rating(x[\"category\"]))\n",
    "\n",
    "    # Redefine wb_pairs\n",
    "    best_wb_pairs = best_wb_pairs[:len(best_wb_pairs)//2]\n",
    "    print(best_wb_pairs)\n",
    "\n",
    "best_wb_pairs"
   ]
  },
  {
   "cell_type": "code",
   "execution_count": 8,
   "metadata": {},
   "outputs": [
    {
     "data": {
      "image/png": "[encoded data removed]",
      "text/plain": [
       "<Figure size 640x480 with 1 Axes>"
      ]
     },
     "metadata": {},
     "output_type": "display_data"
    }
   ],
   "source": [
    "# Plot the data with the best fit line\n",
    "best_w, best_b = best_wb_pairs[0][\"wb_pair\"]\n",
    "y_pred = best_w * X + best_b\n",
    "plt.plot(X, y, \"b.\")\n",
    "plt.plot(X, y_pred, \"r-\")\n",
    "plt.xlabel(\"$x_1$\", fontsize=18)\n",
    "plt.ylabel(\"$y$\", rotation=0, fontsize=18)\n",
    "plt.axis([0, 10, 0, 100])\n",
    "plt.show()"
   ]
  }
 ],
 "metadata": {
  "kernelspec": {
   "display_name": "Python 3",
   "language": "python",
   "name": "python3"
  },
  "language_info": {
   "codemirror_mode": {
    "name": "ipython",
    "version": 3
   },
   "file_extension": ".py",
   "mimetype": "text/x-python",
   "name": "python",
   "nbconvert_exporter": "python",
   "pygments_lexer": "ipython3",
   "version": "3.10.12"
  }
 },
 "nbformat": 4,
 "nbformat_minor": 2
}
