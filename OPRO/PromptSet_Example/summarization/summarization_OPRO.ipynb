{
 "cells": [
  {
   "cell_type": "code",
   "execution_count": 1,
   "metadata": {},
   "outputs": [
    {
     "data": {
      "text/plain": [
       "'Please summarize the following text: {TEXT}'"
      ]
     },
     "execution_count": 1,
     "metadata": {},
     "output_type": "execute_result"
    }
   ],
   "source": [
    "from datasets import load_dataset, Dataset\n",
    "import sys, os, json, re\n",
    "sys.path.append(os.path.join(os.getcwd(), '../..'))\n",
    "from OPRO import OPRO\n",
    "from nltk.translate.bleu_score import sentence_bleu\n",
    "import pandas as pd\n",
    "from tqdm.auto import tqdm, trange\n",
    "from rouge import Rouge\n",
    "\n",
    "def rouge_scorer():\n",
    "    # Initialize the Rouge object\n",
    "    rouge = Rouge()\n",
    "\n",
    "    def compute_scores(generated_text, reference_text):\n",
    "        # Compute the scores\n",
    "        scores = rouge.get_scores(generated_text, reference_text)[0]\n",
    "        total_score = 0\n",
    "        for r in scores:\n",
    "            total_score += scores[r]['f']\n",
    "        return total_score/3\n",
    "\n",
    "    return compute_scores\n",
    "\n",
    "# Usage\n",
    "score_rouge = rouge_scorer()\n",
    "opro = OPRO([\"gemini\", \"gemma\", \"llama2\", \"anthropic\"])\n",
    "# dataset = load_dataset(\"pisterlabs/promptset\").filter(lambda row: len(row[\"prompts\"]) > 0)[\"train\"]\n",
    "# CHOSEN_PROMPT = dataset[\"prompts\"][404][0].replace(\"PLACEHOLDER\", \"{LANGUAGE}\", 1).replace(\"PLACEHOLDER\", \"{TEXT}\", 1)\n",
    "CHOSEN_PROMPT = 'Please summarize the following text: PLACEHOLDER'  # somewhere in promptset. Will find idx later\n",
    "CHOSEN_PROMPT = CHOSEN_PROMPT.replace(\"PLACEHOLDER\", \"{TEXT}\")\n",
    "CHOSEN_PROMPT"
   ]
  },
  {
   "cell_type": "markdown",
   "metadata": {},
   "source": [
    "### Original Dataset"
   ]
  },
  {
   "cell_type": "code",
   "execution_count": 2,
   "metadata": {},
   "outputs": [
    {
     "data": {
      "text/plain": [
       "Dataset({\n",
       "    features: ['text', 'summary', 'title'],\n",
       "    num_rows: 1237\n",
       "})"
      ]
     },
     "execution_count": 2,
     "metadata": {},
     "output_type": "execute_result"
    }
   ],
   "source": [
    "summary_dataset = load_dataset(\"billsum\", split=\"ca_test\")\n",
    "summary_dataset"
   ]
  },
  {
   "cell_type": "markdown",
   "metadata": {},
   "source": [
    "### Generate Synthetic Data"
   ]
  },
  {
   "cell_type": "code",
   "execution_count": 3,
   "metadata": {},
   "outputs": [
    {
     "data": {
      "text/plain": [
       "[{'text': \"It is important to protect your personal data when using the internet. This includes being careful about what information you share online, using strong passwords, and being aware of the privacy settings on your social media accounts. \\n\\nYou should also be careful about clicking on links in emails or text messages from people you don't know. These links could lead to phishing websites that are designed to steal your personal information. If you're not sure whether a link is safe, it's best to err on the side of caution and not click on it.\\n\\nIt's also important to be aware of the privacy policies of the websites and apps you use. These policies will tell you how your personal data will be used. If you're not comfortable with the way a website or app is using your data, you can choose not to use it.\\n\\nProtecting your personal data is important for your safety and security. By taking a few simple steps, you can help to protect yourself from identity theft and other online threats.\",\n",
       "  'summary': \"It is crucial to safeguard your personal information while navigating the internet. Exercise caution when sharing data, create strong passwords, and understand the privacy settings of your social media accounts. \\n\\nAvoid clicking links from unknown senders in emails or text messages as they may lead to phishing websites aimed at stealing your personal information. If unsure about a link's safety, refrain from clicking it.\\n\\nFamiliarize yourself with the privacy policies of websites and apps you use. These policies disclose how your personal data will be utilized. Opt out of using a website or app if you are uncomfortable with how they handle your data.\\n\\nProtecting your personal data safeguards you from identity theft and other online risks.\"},\n",
       " {'text': \"In 1933, the United States Congress enacted the Federal Food, Drug, and Cosmetic Act (FDCA) to ensure the safety of the nation's food and drug supply.\\nThe FDCA is enforced by the Food and Drug Administration (FDA), which is responsible for regulating the safety of all foods, drugs, cosmetics, and medical devices sold in the United States.\\nOne of the key provisions of the FDCA is its requirement that all new drugs be approved by the FDA before they can be marketed.\\nThe drug approval process involves a rigorous review of the drug's safety and efficacy, and it can take many years and millions of dollars to complete.\\nThe FDA also has the authority to recall drugs from the market if they are found to be unsafe or ineffective.\\nIn addition to regulating drugs, the FDA also regulates the safety of foods, cosmetics, and medical devices.\\nThe FDA's food safety program includes inspections of food processing plants, monitoring of food imports, and research on foodborne illnesses.\\nThe FDA's cosmetic safety program includes regulating the ingredients used in cosmetics, and the FDA's medical device safety program includes reviewing the safety and efficacy of medical devices before they can be marketed.\\nThe FDCA has been instrumental in protecting the American public from unsafe food, drugs, cosmetics, and medical devices.\\nThe FDA's rigorous drug approval process ensures that new drugs are safe and effective before they are marketed, and the FDA's food safety, cosmetic safety, and medical device safety programs help to ensure that the products we use are safe and effective.\\nThe FDCA is a vital part of our nation's public health system, and it has helped to make the United States one of the safest countries in the world in which to live.\",\n",
       "  'summary': \"The Federal Food, Drug, and Cosmetic Act (FDCA) was enacted in 1933 to ensure the safety of the nation's food and drug supply.\\nThe FDCA is enforced by the Food and Drug Administration (FDA), which is responsible for regulating the safety of all foods, drugs, cosmetics, and medical devices sold in the United States.\\nThe FDA's drug approval process involves a rigorous review of the drug's safety and efficacy, and it can take many years and millions of dollars to complete.\\nThe FDA also has the authority to recall drugs from the market if they are found to be unsafe or ineffective.\\nIn addition to regulating drugs, the FDA also regulates the safety of foods, cosmetics, and medical devices.\\nThe FDA's food safety program includes inspections of food processing plants, monitoring of food imports, and research on foodborne illnesses.\\nThe FDA's cosmetic safety program includes regulating the ingredients used in cosmetics, and the FDA's medical device safety program includes reviewing the safety and efficacy of medical devices before they can be marketed.\\nThe FDCA has been instrumental in protecting the American public from unsafe food, drugs, cosmetics, and medical devices.\\nThe FDA's rigorous drug approval process ensures that new drugs are safe and effective before they are marketed, and the FDA's food safety, cosmetic safety, and medical device safety programs help to ensure that the products we use are safe and effective.\\nThe FDCA is a vital part of our nation's public health system, and it has helped to make the United States one of the safest countries in the world in which to live.\"},\n",
       " {'text': \"I'm a big believer in living a balanced life. What I mean by that is, taking care of my mental, physical, and spiritual health. A lot of people emphasize taking care of your physical health and ignore the others. It's just like a three-legged stool; if one of the legs is shorter than the others, the stool will be wobbly. In order to live a life that's balanced, in order for the stool to stand upright, the three legs need to be the same length. If one of the legs is broken, the stool will inevitably fall apart. One small crack can lead to much bigger problems, just like how ignoring your mental and spiritual health can lead to bigger problems down the road.\",\n",
       "  'summary': 'Living a balanced life requires taking care of mental, physical, and spiritual health. These three aspects are like the legs of a three-legged stool; if one is neglected, the stool will be unstable and prone to falling apart. Ignoring mental and spiritual health can lead to bigger problems in the future.'},\n",
       " {'text': \"Update bonds. Currently all of the secondary schools receive 2.5 points for grades 9-12 for bonds and K-8 schools receive 1 point for bonds\\n\\nIt would be beneficial for secondary to get 5 points and K-8 get 2 points for the following reasons: \\n\\n* Secondary schools have enrollment for 4 years while K-8 schools have students for 8 years\\n* Secondary has many more programs and student activities than elementary i.e. academic and elective classes\\n* Secondary schools have over twice as many students as do elementary schools\\n* Secondary schools have a majority of the district's equipment and technology \\n* Secondary schools have more active fundraisers\\n\\nIf this bond ratio was updated it would help secondary schools in the district offer a more robust number of programs and activities to students.\\n\\nWe asked what teachers thought about this: \\n\\n100% of our K-8 teachers favored making this change\\n100% of our secondary teachers favored making this change \\n\\nWe also asked the School Board about this and their vote was 4:0 in favor of making the change.\\nThe only reason that the District is presenting this to the Board of Education now is because we are in a special election and as such any changes to bonds cannot go out to the voters this fall.\",\n",
       "  'summary': \"Currently, high school grades 9-12 receive 2.5 points and elementary grades K-8 receive 1 point for bonds.\\nOne hundred percent of K-8 and secondary teachers, and 100% of the school board, support changing the ratio to 5 points for secondary schools and 2 points for K-8 schools.\\nReasons for the change include:\\n* High schools have enrollment for 4 years, while K-8 schools have students for 8 years.\\n* Secondary schools have a majority of the district's equipment and technology.\\n* Secondary schools have more students and more active fundraisers.\\nThe change would help secondary schools offer a more robust number of programs and activities to students.\"},\n",
       " {'text': '**Proposition 1:**\\n    Legalizes the recreational use of marijuana for adults 21 and over.\\n    Imposes a 15% excise tax on the retail sale of marijuana.\\n    Allows local governments to impose additional taxes.\\n    Creates a new state agency to regulate the marijuana industry.\\n    Dedicates tax revenue to various programs, including education, healthcare, and law enforcement.\\n\\n   **Arguments in Favor:**\\n    Legalization will regulate and tax marijuana, generating revenue for important programs.\\n    It will reduce crime and violence associated with the illegal marijuana market.\\n    It will allow adults to make their own choices about marijuana use.\\n\\n   **Arguments Against:**\\n    Legalization will increase marijuana use, especially among young people.\\n    It will send the wrong message to young people about drug use.\\n    It will create a new industry that will profit from the sale of marijuana.\\n\\n   **Proposition 2:**\\n    Increases the minimum wage to \\\\$12 per hour.\\n    Adjusts the minimum wage annually based on inflation.\\n    Applies to all employees, including tipped workers.\\n\\n   **Arguments in Favor:**\\n    Raising the minimum wage will help low-wage workers make ends meet.\\n    It will boost the economy by increasing consumer spending.\\n    It will reduce poverty and inequality.\\n\\n   **Arguments Against:**\\n    Raising the minimum wage will hurt small businesses and lead to job losses.\\n    It will increase prices for consumers.\\n    It will put California at a competitive disadvantage with other states.\\n\\n   **Proposition 3:**\\n    Creates a new tax on high-income earners.\\n    The tax would apply to individuals earning more than \\\\$2 million per year and couples earning more than \\\\$4 million per year.\\n    The revenue from the tax would be used to fund education and healthcare programs.\\n\\n   **Arguments in Favor:**\\n    The tax will raise revenue for important programs without hurting the middle class.\\n    It will make the tax system more fair by asking the wealthy to pay their fair share.\\n    It will invest in education and healthcare, which will benefit all Californians.\\n\\n   **Arguments Against:**\\n    The tax will discourage high-income earners from investing in California.\\n    It will hurt small businesses that are owned by high-income earners.\\n    It will drive high-income earners out of California.',\n",
       "  'summary': '**Proposition 1**\\n    - Legalizes recreational marijuana use for adults over 21.\\n    - Imposes a 15% excise tax on marijuana sales.\\n    - Creates a new state agency to regulate the marijuana industry.\\n    - Dedicates tax revenue to education, healthcare, and law enforcement.\\n\\n    **Arguments in Favor**\\n    - Will regulate and tax marijuana, generating revenue for important programs.\\n    - Will reduce crime and violence associated with the illegal marijuana market.\\n    - Will allow adults to make their own choices about marijuana use.\\n\\n    **Arguments Against**\\n    - Will increase marijuana use, especially among young people.\\n    - Will send the wrong message to young people about drug use.\\n    - Will create a new industry that will profit from the sale of marijuana.\\n\\n    **Proposition 2**\\n    - Increases the minimum wage to $12 per hour.\\n    - Adjusts the minimum wage annually based on inflation.\\n    - Applies to all employees, including tipped workers.\\n\\n    **Arguments in Favor**\\n    - Will help low-wage workers make ends meet.\\n    - Will boost the economy by increasing consumer spending.\\n    - Will reduce poverty and inequality.\\n\\n    **Arguments Against**\\n    - Will hurt small businesses and lead to job losses.\\n    - Will increase prices for consumers.\\n    - Will put California at a competitive disadvantage with other states.\\n\\n    **Proposition 3**\\n    - Creates a new tax on high-income earners.\\n    - Tax applies to individuals earning over $2 million per year and couples earning over $4 million per year.\\n    - Revenue from the tax will fund education and healthcare programs.\\n\\n    **Arguments in Favor**\\n    - Will raise revenue for important programs without hurting the middle class.\\n    - Will make the tax system more fair by asking the wealthy to pay their fair share.\\n    - Will invest in education and healthcare, which will benefit all Californians.\\n\\n    **Arguments Against**\\n    - Will discourage high-income earners from investing in California.\\n    - Will hurt small businesses that are owned by high-income earners.\\n    - Will drive high-income earners out of California.'},\n",
       " {'text': 'During the seventeenth century the plague carried off tens of thousands of people in the ports of England, carrying along with them years of commercial and navigational experience and depriving England of some of its most skilled mariners and naval personnel.  London, a boomtown with a growing merchant fleet, needed to train the unskilled labor that would replace the sunken population. This, combined with already burgeoning ambitions of mercantilism and maritime warfare, attracted navigation and nautical education to the banks of the River Thames.\\n\\t\\n\\tSuch famous figures as Thomas Blundeville, Robert Norman, and Nathaniel Torporley taught at these schools.\\tThe mathematician Edward Wright published his navigational classic Certaine Errors in Navigation in 1599, featuring a geometric method for calculating longitude, which was doubtless covered in his lectures. Perhaps the most influential school was founded by Samuel Sturmy. A Master of Arts from Cambridge, Sturmy opened a successful academy in Limehouse at the height of the plague’s deadly sweep.\\n\\t\\n\\tIn his Mathematical and Practical Arts, written in 1670, Sturmy wrote, “Seamen...are ambitious men for knowledge. Therefore the teacher must be patient, and take pains to bring them up.” He taught the traditional practical skills, such as knotting and splicing, but he also taught the mathematical principles of geometry, trigonometry, and astronomy. With his help, the students would learn how to make their own charts, to calculate their latitude (from the position of the sun), and to find their longitude through “Dead Reckoning.” This practice, which would continue for 100 years or more, inherently stressed how to keep an accurate log-book, observe the sun and the stars, and use algebra and spherical trigonometry to calculate a ship’s east-west position. (The problem of calculating longitude with precision would take mathematics anther 100 years to solve.)\\n\\t\\n\\tSturmy not only recreated the “mathematical” expertise lost through the plague but also fundamentally changed the nature of the expertise itself. As navigation became a more mathematical, scientific, and technical trade, experience and virtuosity were increasingly less valuable than formal education. He established standards for the field of navigation and pilotage, which put the authority for certifying competence in the hands of the schoolmaster, not the mariner boss or the navy.\\n\\t\\n\\tSturmy kept a meticulous record of student performance. His registrar shows a diverse crew of students, including merchants, explorers, navy men, and, of course, petty officers, sailors, and seamen. But it also shows that the merchant students were far more likely to focus and excel in mathematics and navigation. The crown evidently felt the same way; in its preparations for maritime warfare, it commissioned ships operated by amateurs who had once sat in the back benches of Sturmy’s “schoolroom on Thames-side.” Sturmy was also invited to lecture to the Trinity House Corporation, consisting of professional river pilots that oversaw England’s ports and shipping. He addressed them on “how much seamen ought to be instructed in mathematical knowledge,” making it clear that if they wanted skilled men they had best reeducate themselves, and fast.\\n\\t\\n\\tThe London navigation schools took the place of the rules of apprenticeship and customary training that had taught the rudiments of science to the now decimated ship-going community. They changed the content and the channels of transmission of knowledge, importing the techniques and conceptions of artisans and guilds into theretofore illiterate crews, and transforming the skills necessary for sea travel. The schools in turn helped to uplift the concept of science and mathematics in England’s society and disseminated an elite mode of reason that eventually reached beyond the nautical world into commercial ventures and industry.',\n",
       "  'summary': \"During the 17th century, England faced a shortage of skilled mariners due to the plague. This led to the establishment of navigation schools on the River Thames, where figures like Thomas Blundeville, Robert Norman, Nathaniel Torporley, and Samuel Sturmy taught navigation and nautical education.\\n\\nSamuel Sturmy's school was particularly influential and taught practical skills, as well as mathematical principles of geometry, trigonometry, and astronomy. This training helped students create charts, calculate latitude, and estimate longitude.\\n\\nSturmy's school helped recreate the expertise lost during the plague and changed the nature of navigation by making it more mathematical and technical. He established standards for navigation and pilotage, and his records show a diverse student body that included merchants, explorers, navy men, and sailors.\\n\\nThe crown recognized the value of these schools in preparing for maritime warfare and commissioned ships operated by amateurs trained in these schools. Sturmy also lectured to the Trinity House Corporation, emphasizing the importance of mathematical knowledge for skilled mariners.\\n\\nThe London navigation schools replaced apprenticeship and traditional training, transforming the knowledge and skills required for sea travel. They played a crucial role in promoting science and mathematics in English society and disseminating an elite mode of reason beyond the nautical world.\\n\\n\"},\n",
       " {'text': 'Public Comment: You are invited to attend a public comment meeting with representatives from RCTC and HDR to discuss the I-15 Corridor Improvement Project next Tuesday in Adelanto. Members of the project team will be in attendance to listen to your concerns and answer questions from the local community. Your input is important to us, so won’t you please join us at this public meeting so we can continue to listen, learn, and grow to help inform improvements to the I-15 freeway.\\n\\n\\nDate: Tuesday, August 8th, 2023\\nTime: 4:00 p.m. - 6:00 p.m.\\nLocation: Adelanto Rec Center \\n11634 Air Expressway\\nAdelanto, CA 92301\\n\\n\\nWe know that our I-15 Corridor Improvement project team has been traveling throughout San Bernardino County this summer, and at each meeting, we have been able to learn more and more about the real-life effects of our project on local communities.\\n\\n\\nThat is why we are encouraging everyone to come out next Tuesday evening in Adelanto to tell us your ideas, concerns, and questions about the improvements to the I-15 freeway between Oak Hill Road in Oak Hills and the I-40 interchange. We plan to continue to take public input well into 2023, as we move through the environmental process and into final design. You can keep up to date on this project by following it on the web at www.I-15CorridorInfo.com or by following the project team on Facebook at www.Facebook.com/I-15corridor.\\n\\n\\nIf you or someone you know cannot attend Tuesday’s public meeting but wish to submit comments or questions, you may also send them by email to I-15@hdrinc.com.',\n",
       "  'summary': 'On Tuesday, August 8th there is going to be a community meeting to discuss the I-15 Corridor Improvement Project in Adelanto, CA, from 4:00 - 6:00 p.m at the Adelanto Recreation Center. The purpose of this meeting is to provide the community with an opportunity to voice their opinions and ask questions regarding the improvements that will be made to the freeway between Oak Hill Road in Oak Hills and the I-40 interchange.'},\n",
       " {'text': \"Alibaba: A Business Founded on Trust and Innovation\\n\\n\\nAlibaba was founded in 1999 by Jack Ma and a team of 18 people. Ma was born in Hangzhou, China, and began his career as a teacher. In 1995, he helped to establish the China Yellow Pages. Alibaba was founded to provide a simpler and more efficient way for small businesses to connect with customers and compete with larger enterprises.\\n\\nAlibaba's initial focus was on business-to-business e-commerce, but the company quickly expanded into other areas, including consumer-to-consumer e-commerce, online payments, cloud computing, and artificial intelligence. Alibaba has grown to become one of the world's largest companies, with a market capitalization of over $400 billion.\\n\\nOne of the key factors in Alibaba's success has been its focus on trust and innovation. Ma has emphasized the importance of building a company that is based on trust, and he has put in place a number of measures to ensure that customers feel safe shopping on Alibaba. The company has also invested heavily in innovation, developing new technologies to improve the customer experience and make it easier for businesses to connect with customers.\\n\\nAlibaba has had a profound impact on the Chinese economy. The company has helped to create millions of jobs and has made it easier for small businesses to compete with larger enterprises. Alibaba has also played a major role in the development of China's e-commerce market, which is now the largest in the world.\\n\\nAs Alibaba continues to grow and evolve, it is likely to have an even greater impact on the global economy. The company's focus on trust and innovation will continue to be a key factor in its success.\",\n",
       "  'summary': \"Alibaba was founded in 1999 by Jack Ma to provide a simpler and more efficient way for small businesses to connect with customers.\\nOne of the key factors in Alibaba's success has been its focus on trust and innovation. The company has grown to become one of the world's largest companies, with a market capitalization of over $400 billion.\\nAlibaba has had a profound impact on the Chinese economy and has played a major role in the development of China's e-commerce market, which is now the largest in the world.\"},\n",
       " {'text': 'Increased use of antibiotics in livestock production has heightened awareness of their inappropriate use in food animals as well as concern for the development of antibiotic resistance in the animals and humans who consume them.\\nAntibiotic resistance occurs when bacteria, fungi, or other microorganisms are able to counteract the drugs designed to kill them. The World Health Organization has identified antibiotic resistance as one of the most important public health challenges of our time, and identifies overuse and misuse of antibiotics as a major cause of the threat.\\nIn 2012, the US Food and Drug Administration implemented a rule that requires medicated feed to bear labels that inform animal producers about responsible use and the importance of the veterinarian-client-patient relationship. However, current FDA rules do not require any veterinary oversight when antibiotics are delivered via drinking water. The exception is for medically important antibiotics where this route is the safest method of delivery.\\nThis bill requires every animal producer to use a veterinary feed directive (VFD) before using medically important antibiotics in or on feed. Medicated feed is animal feed with one or more antibiotics mixed in at a level higher than the drug’s minimum therapeutic dose. Veterinary feed directives have been used voluntarily for decades and are a direct communication between the veterinarian and the animal producer about the appropriate and judicious use of antibiotics.\\nThe bill establishes procedures to be used by the state department of agriculture for the approval and issuance of veterinary feed directives and for the denial, suspension, or revocation of a VFD. The bill requires a veterinarian to be licensed by the Veterinary Medical Board to issue a VFD and establishes that the licensed veterinarian must stand in the veterinarian-client-patient relationship with the animal producer.\\nThis bill increases criminal penalties for the knowing violation of the bill’s provisions. This bill requires the board to adopt, by regulation, a schedule of civil penalties.\\nThis bill is substantially similar to AB 1433 of the 2017-2018 Regular Session.\\nThis bill is consistent with the Governor’s Executive Order N-17-15, which established the California Antimicrobial Resistance Program',\n",
       "  'summary': 'State law does not currently require veterinary oversight for the use of antibiotics delivered via drinking water to livestock, with the exception of medically important antibiotics for which the drinking water route is the safest method of delivery.\\nThis bill would require every animal producer to use a veterinary feed directive (VFD) before using medically important antibiotics in or on feed.\\nThe bill would establish procedures to be used by the state department of agriculture for the approval and issuance of veterinary feed directives and for the denial, suspension, or revocation of a VFD.\\nThe bill would require a veterinarian to be licensed by the Veterinary Medical Board to issue a VFD and establishes that the licensed veterinarian must stand in the veterinarian-client-patient relationship with the animal producer.\\nThe bill would increase criminal penalties for the knowing violation of the bill’s provisions and require the adoption, by regulation, of a schedule of civil penalties.\\nThis bill is substantially similar to AB 1433 of the 2017-2018 Regular Session and would be consistent with the Governor’s Executive Order N-17-15, which established the California Antimicrobial Resistance Program.'},\n",
       " {'text': 'The Pacific Fishery Management Council, a board of federal government appointed officials that regulates commercial fisheries on the West Coast of the United States, has scheduled a one-day meeting of its Salmon Technical Team by webcast on Wednesday, October 12.\\n\\nThe meeting will run from 9 a.m. to 5 p.m. Thursday, Oct. 13. The public can participate by registering for the webinar at www.pcouncil.org under the Agenda and Schedule link. \\nThe team will provide an overview and review: \\n- Washington State steelhead hatchery releases in 2022\\n- Updates on 2023 fishery regulations for Puget Sound\\n- Review of the ocean abundance, distribution, and survival of hatchery and natural origin Puget Sound Chinook\\n- Technical information on the status of Columbia River spring Chinook and coho stocks and fisheries\\n- Northeast Pacific tuna and wahoo aquaculture update \\n\\nThe agenda may be revised. The Salmon Technical Team is an advisory group which advises the Council on scientific and technical information concerning the salmon fisheries within the Council’s management area. Members of the public may attend, but cannot provide testimony to the group. \\n\\nWebcam access and additional meeting materials will be posted on the Council’s website prior to the meeting at: www.pcouncil.org.',\n",
       "  'summary': \"On Thursday, Oct. 13, the Pacific Fishery Management Council's Salmon Technical Team will hold a webinar to discuss:\\n\\n- Washington State steelhead hatchery releases in 2022\\n- Updates on 2023 fishery regulations for Puget Sound\\n- Review of the ocean abundance, distribution, and survival of hatchery and natural origin Puget Sound Chinook. \\n- Technical information on the status of Columbia River spring Chinook and coho stocks and fisheries\\n- Northeast Pacific tuna and wahoo aquaculture update\\n\\nThe webinar will run from 9 a.m. to 5 p.m. and the public can participate by registering at www.pcouncil.org. Members of the public may attend, but cannot provide testimony to the group.\"},\n",
       " {'text': \"**Price: $1.99**\\n\\n**Hardcover, 219 pages**\\n\\n**Publisher: Basic Books**\\n\\n**Publish Date: September 10, 2014**\\n\\nIn 1989, Stalin's ghost emerged from its long silence with the publication of the diary the Soviet dictator had kept in the years leading up to his death in 1953. It was a sensational discovery, hailed as the most important historical document of the twentieth century.\\n\\nBut was it genuine?\\n\\nIn *Stalin's Diary*, prize-winning author Simon Sebag Montefiore delivers a stunning investigation into the provenance, authenticity, and historical significance of the diary. It is a true-life historical mystery of the highest order, tracing the diary's remarkable journey from Moscow's secret archives to the international auction block.\\n\\nDrawing on an extraordinary range of new sources, Montefiore reveals the truth behind this contested document, balancing the fierce debates surrounding the diary with an assessment of its true historical value. For decades, scholars and spies have argued over the evidence – the paper, the ink, the handwriting, the revelations and omissions. But what if there is more to it than that? Montefiore teases out the implications of this extraordinary testament to one of the most consequential rulers in human history.\\n\\n*Stalin's Diary* is a masterful work of history, a riveting story that makes accessible a pivotal moment in modern history.\",\n",
       "  'summary': \"The book *Stalin's Diary* by Simon Sebag Montefiore is a historical investigation into the authenticity and historical significance of the diary of Joseph Stalin published in 1989.\\n\\nThe book draws on new sources to reveal the origins of the diary and the controversy surrounding its authenticity. It explores the diary's journey from Moscow's secret archives to the international auction block and analyzes the evidence for and against its genuineness.\\n\\nThe book also discusses the historical value of the diary, which provides insights into the mind of Stalin and his rule. It explores the implications of the diary as a testament to one of the most consequential rulers in history.\"},\n",
       " {'text': 'The vectors {\\\\( v \\\\)} in the n-dimensional complex Euclidean space \\\\( {\\\\mathbb{C}}^n \\\\) can be decomposed into the real and imaginary parts and are defined as\\n$${\\x08f v}=(x_1 + iy_1, x_2 + iy_2, \\\\cdots, x_n+iy_n ) \\\\qquad (1)$$\\n\\nor a column vector\\n$${\\x08f v}=\\n\\x08egin{bmatrix}\\nx_1 + iy_1 \\\\x_2+iy_2 \\\\\\x0bdots \\\\x_n+iy_n \\n\\\\end{bmatrix}\\n$$\\n\\nIn order to denote the vectors we shall introduce the bra-ket \\\\((\\\\cdot| \\\\cdot )\\\\) as in quantum theory. Ket stands for “vector” and bra for “linear form.” When the bra and ket are the same, they represent a linear operator. The bra-ket of \\\\( {\\x08f u} \\\\) and \\\\( {\\x08f v} \\\\) by\\n$$({\\x08f u|v})=\\\\sum\\\\limits_{i=1} {\\\\overline u_i} v_i = \\\\overline u_1v_1 + \\\\overline u_2 v_2 + \\\\cdots + \\\\overline u_nv_n  \\\\qquad (2)$$\\n\\nUsing the bra-ket notation, we can introduce complex matrices as follows:\\n$${\\x08f A} =\\n\\x08egin{bmatrix}\\na_{11}+ib_{11} & a_{12}+ib_{12} & \\\\cdots & a_{1n}+ib_{12} \\\\a_{21}+ib_{21} & a_{22}+ib_{22} & \\\\cdots & a_{2n}+ib_{2n} \\\\\\x0bdots & \\x0bdots & \\\\ddots & \\x0bdots \\\\a_{n1}+ib_{n1} & a_{n2}+ib_{n2} & \\\\cdots & a_{nn}+ib_{nn} \\n\\\\end{bmatrix} \\n$$\\n\\nwhere \\\\( \\\\overline a_{i,j} = a_{ji} \\\\) and  \\\\( \\\\overline b_{i,j} = b_{j,i} \\\\). The complex conjugate of \\\\( {\\x08f A} \\\\) is denoted as \\\\( {\\x08f A}^\\\\dagger\\\\) whose elements are given by \\\\( {( {\\x08f A}^\\\\dagger)}_{i,j} = {\\\\overline a_{j,i}} \\\\). \\n\\nThe matrix \\\\( {\\x08f C} \\\\) is called the complex transposed conjugate of the matrix \\\\( {\\x08f A} \\\\) if \\n$${\\x08f C}^T = {\\x08f A}^\\\\dagger =\\n\\x08egin{bmatrix}\\na_{11}-ib_{11} & a_{21}-ib_{21} & \\\\cdots & a_{n1}-ib_{n1} \\\\a_{12}-ib_{12} & a_{22}-ib_{22} & \\\\cdots & a_{n2}-ib_{n2} \\\\\\x0bdots & \\x0bdots & \\\\ddots & \\x0bdots \\\\a_{1n}-ib_{1n} & a_{2n}-ib_{2n} & \\\\cdots & a_{nn}-ib_{nn} \\n\\\\end{bmatrix}\\n$$\\n\\n\\\\( {\\x08f A} \\\\) is said to be normal if \\\\( {\\x08f A A}^\\\\dagger = {\\x08f A}^\\\\dagger {\\x08f A} \\\\), Hermitian if \\\\( {\\x08f A}^\\\\dagger = {\\x08f A} \\\\), and unitary if \\\\( {\\x08f A}^\\\\dagger = {\\x08f A}^{-1} \\\\).\\nThe trace of a square matrix is the sum of the elements on the main diagonal. The determinant of a matrix is defined as the product of the eigenvalues of the matrix. The eigenvalues of a matrix \\\\( {\\x08f A} \\\\) are the roots of the characteristic equation \\n$$det({\\x08f A}-{\\x08f I}\\\\lambda ) = 0 \\\\qquad (3)$$ \\n\\nwhere \\\\( {\\x08f I} \\\\) is the identity matrix and \\\\( \\\\lambda \\\\) is the eigenvalue.',\n",
       "  'summary': 'In complex Euclidean space, vectors are represented as complex numbers with real and imaginary parts.\\nComplex matrices are introduced using bra-ket notation, where the conjugate transpose of a matrix is denoted as A^†.\\nNormal matrices satisfy A A^† = A^† A, Hermitian matrices satisfy A^† = A, and unitary matrices satisfy A^† = A^-1.\\nThe trace of a matrix is the sum of its diagonal elements, and the determinant is the product of its eigenvalues.\\nEigenvalues are found by solving the characteristic equation det(A-λI) = 0, where λ is the eigenvalue and I is the identity matrix.'},\n",
       " {'text': 'Under current law, cargo theft constitutes a wobbler that can be charged either as a felony or a misdemeanor. In recent years, there has been a significant increase in the number of cargo thefts, and law enforcement has emphasized the need for enhanced penalties. This bill seeks to deter cargo theft, reduce the economic impact of this activity, and provide greater protections for victims.\\n\\n\\nIn particular, this bill will do the following:\\n\\n\\n\\n\\n1.   Make cargo theft a straight felony, punishable by up to three years in state prison.\\n\\n\\n\\n\\n2.   Provide specific criteria for determining when cargo theft will be charged as a felony or misdemeanor.\\n\\n\\n\\n\\n3.   Increase the penalties for repeat cargo theft offenses.\\n\\n\\n\\n\\n4.   Require restitution for victims of cargo theft, providing them with compensation for their losses.\\n\\n\\nThis bill is supported by a broad coalition of law enforcement, business, and victim advocacy organizations.  It will help to deter cargo theft, reduce the economic impact of this activity, and provide greater protections for victims.',\n",
       "  'summary': 'Current law classifies cargo theft as a wobbler offense, which can be charged either as a felony or a misdemeanor. This bill would reclassify cargo theft as a straight felony, punishable by up to 3 years in state prison.\\nThe bill would also provide specific criteria for determining when cargo theft will be charged as a felony or misdemeanor, increase penalties for repeat offenses, and require restitution for victims.\\nThis bill is supported by law enforcement, business, and victim advocacy organizations, and aims to deter cargo theft, reduce its economic impact, and provide greater protections for victims.'},\n",
       " {'text': \"The primary provisions of the Uniform Commercial Code (UCC), Article 9, provide a comprehensive framework for secured transactions involving personal property and fixtures. These provisions have been adopted in most jurisdictions, including California, with some variations.\\n\\n\\nSecured transactions are essential in commercial settings, enabling businesses to obtain financing while providing creditors with protection for their loans. Understanding the key concepts and rules of Article 9 is crucial for both borrowers and lenders.\\n\\n\\nThis summary provides an overview of the essential elements of secured transactions under Article 9, including the creation, perfection, and enforcement of security interests.\\n\\n\\nI. Creation of a Security Interest\\nA security interest is a legal right in personal property or fixtures that secures payment or performance of an obligation. Under Article 9, a security interest is created when three elements are met:\\n1. Attachment: This occurs when the debtor has rights in the collateral and the secured party has given value, and either the debtor has authenticated a security agreement or the collateral is in the secured party's possession.\\n2. Value: Value includes the extension of credit, a commitment to make an advance, or an antecedent debt.\\n3. Security agreement: This is an agreement that creates or provides for a security interest. It must be in writing and signed by the debtor.\\n\\n\\nII. Perfection of a Security Interest\\nOnce a security interest is created, it must be perfected to be effective against third parties, such as subsequent creditors or purchasers. Perfection serves as public notice of the secured party's interest in the collateral.\\n\\n\\nThere are several methods of perfection, depending on the type of collateral:\\n1. Filing: This involves filing a financing statement with the appropriate state or federal agency.\\n2. Possession: Taking possession of the collateral perfects a security interest automatically.\\n3. Control: For certain types of collateral, perfection can be achieved by obtaining control over the collateral.\\n\\n\\nIII. Enforcement of a Security Interest\\nIf the debtor defaults on the secured obligation, the secured party has the right to enforce its security interest and recover the collateral. Enforcement options include:\\n1. Foreclosure: This involves selling or otherwise disposing of the collateral to satisfy the debt.\\n2. Repossession: This is the taking back of the collateral by the secured party.\\n\\n\\nIV. Additional Key Concepts\\na. Collateral: This refers to the personal property or fixtures subject to the security interest.\\nb. Debtor: This is the party who owes the secured obligation and grants the security interest.\\nc. Secured party: This is the party who holds the security interest in the collateral.\\n\\n\\nUnderstanding the fundamentals of Article 9 is essential for navigating secured transactions effectively. By adhering to the legal requirements and best practices, both borrowers and lenders can protect their respective interests and facilitate smooth commercial transactions.\",\n",
       "  'summary': \"The Uniform Commercial Code (UCC) Article 9 governs secured transactions, providing a framework for businesses to obtain financing secured by personal property or fixtures.\\n\\n\\nTo create a security interest, the debtor must have rights in the collateral, value must be given, and a signed security agreement must exist.\\n\\n\\nPerfection of a security interest is crucial to protect against third parties and can be achieved through filing, possession, or control.\\n\\n\\nIn case of default, the secured party has the right to enforce the security interest through foreclosure or repossession.\\n\\n\\nUnderstanding Article 9's concepts, including collateral, debtor, and secured party, is essential for effective secured transactions.\"},\n",
       " {'text': \"Mental health and mental illness have a long history in psychiatry. The first recorded evidence of mental health and mental illness was in the Edwin Smith Papyrus, an ancient Egyptian medical document written around 3000 BC. This document makes mentions of anxiety, hallucinations, and depression. The ancient Greeks and Romans saw mental illness as being caused by supernatural forces or an imbalance of bodily fluids, and treated it with a variety of techniques including bloodletting, purging, and exorcism.\\nDuring the Middle Ages, mental illness was believed to be caused by demons or witchcraft, and those who suffered from mental illness were often treated as criminals or outcasts. In the 17th and 18th centuries, the Enlightenment and the rise of moral therapy led to a shift in thinking about mental illness.\\nIn the 19th century, the development of psychoanalysis and other new psychological treatments led to further advances in the understanding and treatment of mental illness.\\nIn the 20th century, the discovery of psychopharmaceuticals such as antipsychotics and antidepressants led to major changes in the way mental illness was treated.\\nIn the 21st century, there continues to be progress in the understanding and treatment  of mental health and mental illness. New technologies and treatments are being developed all the time, and there is a growing understanding of the role genetics and environment play in mental health.\\nMental health and mental illness are complex issues, and there is still much that we don't know. However, over the past few centuries, there have been significant advances in our understanding and treatment of these conditions.\\nMental health and mental illness are important issues that affect millions of people around the world. Increased awareness and understanding of these conditions can help to reduce stigma and promote better treatment.\",\n",
       "  'summary': 'Mental health and mental illness have a long and complex history. The ancient Egyptians, Greeks, and Romans had various beliefs and treatments for mental illness, often involving supernatural forces or bodily imbalances. During the Middle Ages, mental illness was attributed to demons or witchcraft and treated harshly.\\nThe Enlightenment and moral therapy in the 17th and 18th centuries led to a shift in thinking, followed by advances in the 19th century with psychoanalysis and psychological treatments.\\nThe 20th century saw the discovery of psychopharmaceuticals, revolutionizing treatment. In the 21st century, ongoing research and new technologies continue to enhance our understanding and treatment of mental health and mental illness.'},\n",
       " {'text': 'The rapid development and production of safe and effective COVID-19 vaccines were aided by the use of genetic technologies. While the bulk of the pandemic’s most severe stages are believed to have passed in many areas, the virus will likely continue to mutate, and new illnesses will arise. \\n\\n\\nTo address these anticipated needs on the one hand, while bolstering personalized healthcare in other areas on the other hand, it is necessary to encourage the continued development of technologies to improve the efficiency and security of our vaccination methodologies and the medicines that are personalized to each of us. Developing new platforms that leverage genetic techniques could lower production costs, increase scalability, and accelerate vaccination timelines while also enabling quick adaptation to emerging illnesses. This is particularly applicable to mRNA vaccines, where current costs are driven primarily by highly specialized equipment and materials. In the longer run, the economics of mRNA vaccines have the potential to decrease if the underlying infrastructure can be expanded, total production can be scaled up, and the market can be expanded to include vaccines for diseases like HIV and cancer. \\n\\n\\nThat said, there are formidable challenges for a more just and equitable distribution of COVID-19 vaccines in the global community as well as ensuring the effective uptake of these safe and effective products. A considerable amount of the global COVAX supply, which has primarily served low- and middle-income countries, is scheduled to expire this year, leaving a significant gap in vaccination coverage. Furthermore, only a little number of mRNA vaccine doses are being manufactured in Africa, the region of the world with the lowest average rates of complete vaccination. Further philanthropic funding and strategic private-sector collaborations with domestic producers are required to encourage a larger African mRNA vaccine manufacturing capability, which would simultaneously improve health, decrease ongoing public health risks, and offer potential economic advantages through technology transfer.\\n\\n\\nThe latest developments in vaccine technology provide grounds for cautious optimism about the potential prospects for public health. However, if we are to fully realize these opportunities, we need a sustained commitment to fund biomedical research and development, address inequities in vaccine distribution, and support infrastructures both at home and abroad that are essential to assuring a more equitable and safe future for global health.',\n",
       "  'summary': 'The development of mRNA vaccines for COVID-19 has highlighted the potential of genetic technologies in improving healthcare. This technology could reduce vaccine production costs, increase scalability, accelerate timelines, and enable adaptation to new diseases like HIV and cancer.\\nHowever, equitable distribution of vaccines remains a challenge, as much of the COVAX supply for low-income countries is set to expire and mRNA vaccine production in Africa is limited. Philanthropic funding and private-sector partnerships are needed to increase African mRNA vaccine manufacturing capacity.\\nContinued investment in biomedical research and development, along with addressing vaccine distribution inequities and supporting necessary infrastructure, is crucial for realizing the potential of genetic technologies in public health.'},\n",
       " {'text': 'Texas State Representative Bill No. 877\\nAN ACT\\nrelating to the powers and authority provided to a municipality under Section 551.041(a) of the Local Government Code to regulate short-term rentals.\\nBE IT ENACTED BY THE LEGISLATURE OF THE STATE OF TEXAS:\\nSECTION 1.  Section 551.041, Local Government Code, is amended by adding Subsection (h-3) to read as follows:\\n  (h-3)  Provide for reasonable regulations for short-term rentals, whether in whole or in part, within a single-family dwelling in a manner consistent with Section 551.405.\\nSECTION 2.  Section 551.405, Local Government Code, is amended by adding Subsection (f) to read as follows:\\n  (f)  A short-term rental operation may not be prohibited if the rental unit is an owner-occupied primary residence, provided that the owner of the rental unit resides in the rental unit and remains legally responsible for the property.\\nSECTION 3.  This Act takes effect immediately if it is passed by a vote of two-thirds of all the members elected to each house of the Legislature; otherwise, this Act takes effect September 1, 2023.\\n',\n",
       "  'summary': 'This bill amends Chapter 551 of the Local Government Code relating to powers of home-rule municipalities to regulate short-term rentals, and it amends the definition of \"owner-occupied primary residence\" for purposes of the short-term rental law.\\nThe bill provides that a municipality may provide for reasonable regulations for short-term rentals in a manner consistent with the state law. The bill also specifically provides that a municipality may not prohibit short-term rentals in owner-occupied primary residences.\\nIf passed by a two-thirds vote of each house of the legislature, the bill would take effect immediately; otherwise, the bill takes effect September 1, 2023.'},\n",
       " {'text': 'AIM 354 is an academic program that provides medical students with the elective opportunity to provide Covid-19 vaccinations and basic health screenings to the local homeless community in Boston. \\n\\n\\nThe program was Founded in 2020 by Boston University School of Medicine students who saw a lack of culturally competent, accessible, and consistent healthcare for Boston’s homeless population during the Covid-19 pandemic. \\n\\n\\nOur organization consists of medical students from Boston University, Boston University School of Medicine, Harvard Medical School, Tufts University School of Medicine, Massachusetts College of Pharmacy and Health Sciences, MCPHS University, and Northeastern University. AIM 354 is currently led by fourth-year Boston University medical students Jacob Buhman and Caro Martinez, as well as BU M4s Jake Kessler, Kinley Ho, and Matthew Kelly.\\n\\n\\nAIM 354 is named for the address of the Boston Public Health Commission Outreach Van - 354 South Huntington Avenue - where our student volunteers staff a pop-up clinic every Wednesday afternoon. At each clinic, our students run a two-part program that involves patient intake, health screenings, education, and Covid-19 vaccinations in conjunction with Boston Public Health Commission nurses.\\n\\n\\nAs of Spring 2023, AIM 354 has performed over 900 patient encounters. Our services have been featured in several local and national news outlets, including The Boston Globe, Daily Free Press, NBC 10 Boston, CBS Boston, and WCVB Channel 5. \\n\\n\\nAIM 354’s mission is to build bridges between Boston’s medical community and its homeless population by providing free, accessible healthcare services, establishing lasting partnerships with community organizations, and advocating for sustainable, culturally competent, and just healthcare policies for all. \\n\\n\\nAIM 354 has partnered with several local organizations, including the Boston Public Health Commission, the Boston Health Care for the Homeless Program, Rosie’s Place, and the South End Community Health Center, to provide culturally competent care to Boston’s homeless community. \\n\\n\\nThrough our partnerships and ongoing work, AIM 354 hopes to reduce health disparities, promote health equity, and improve the overall well-being of Boston’s homeless population.',\n",
       "  'summary': \"AIM 354 is a student-run organization that provides free health screenings and Covid-19 vaccinations to Boston's homeless population. \\n\\n\\nFounded in 2020, AIM 354 has performed over 900 patient encounters and has partnered with several local organizations to provide culturally competent care. \\n\\n\\nThe organization's mission is to build bridges between Boston's medical community and its homeless population by providing free, accessible healthcare services, establishing lasting partnerships with community organizations, and advocating for sustainable, culturally competent, and just healthcare policies for all.\"},\n",
       " {'text': 'Have you eaten?', 'summary': 'Inquiry about Food Intake'},\n",
       " {'text': '**Notice**\\nPay to the order of: [BENEFICIARY NAME]\\n[AMOUNT]\\xa0 Dollars**\\xa0\\n[DATE]\\n\\n**TERMS OF SALE**\\nThis acceptance is subject to Seller\\'s standard terms and conditions of sale, which are set forth on the reverse hereof and made a part hereof by this reference. Any terms and conditions set forth in your purchase order or otherwise are hereby rejected.\\n\\n**TERMS OF PAYMENT**\\nThe terms of payment are as stated below and constitute Seller\\'s full agreement with Buyer. All terms are subject to the provisions of Seller\\'s standard terms and conditions of sale.\\n\\n**CREDIT TERMS (IF APPLICABLE)**\\nTerms: Payment Due in 30 Days from Invoice Date.\\nFinance Charges: A service charge of 1 1/2% per month will be charged (18% per year) on unpaid balances. A minimum interest charge of $1.00 may apply.\\n\\n**DISCOUNT TERMS (IF APPLICABLE)**\\nDiscount: 2% discount, please pay within 10 days from invoice date.\\nNet 30 days from invoice date.\\n\\nThis Sale Cancels All Prior Sales Contracts Relating To This Same Item.\\xa0\\nSeller Signature: ___________________________________\\n\\nBuyer Signature: ____________________________________\\n\\n* * *\\n\\n**INSTRUCTIONS FOR AUTOMATED CLEARING HOUSE (ACH) DEBIT**\\nFor ACH Credit to:\\n- Payee [BENEFICIARY NAME]\\n- Account Number [ACCOUNT NUMBER]\\n- Routing Number\\xa0[ROUTING NUMBER]\\n- Effective Date: [DATE]\\n- [PLUS] Additional Credit Information....\\nAmount: [AMOUNT]\\xa0\\n\\n* * *\\n\\nTERMS AND CONDITIONS\\n1. CONTRACT. This order form, when accepted by Seller\\'s signature, constitutes a binding contract between (\"Buyer\") and (\"Seller\"). Buyer\\'s acceptance is limited to the express terms of this order form, including Seller\\'s terms and conditions of sale set forth on the reverse hereof. If Buyer, in placing this order, has sent Seller its purchase order form or other document(s), the terms of that purchase order form or other document(s) are rejected. Any additional or different terms and conditions are objected to by Seller and shall not be binding on Seller unless agreed to by Seller in a signed writing.\\xa0\\n\\n2. SHIPMENT. Unless otherwise agreed in writing, all shipments shall be FOB origin. Title and risk of loss shall pass to Buyer upon delivery by Seller to the carrier. In the event the delivery of goods within the agreed to timeframe is delayed due to reasons beyond Seller\\'s control (force majeure), then Seller shall have until such causes are removed to complete delivery. Seller shall have the right to make partial shipments, each shipment to constitute a separate contract. Buyer shall pay all taxes, except taxes on Seller\\'s income, levied on or relating to Goods, including any excise, use or sales tax, export or import duty, property tax of any kind, etc.\\xa0\\n\\n3. DELIVERY; RISK OF LOSS. Seller shall have no liability for any loss or damage to the Goods unless such loss or damage is caused by Seller\\'s gross negligence or willful misconduct.\\xa0\\xa0\\n\\n4. WARRANTY. Seller warrants that Goods manufactured by Seller will be free from defects in materials and workmanship under normal use for a period of one (1) year from the date of Shipment.\\xa0Seller assumes no liability for Goods not manufactured by Seller but resold by Seller; those Goods are sold AS IS.\\xa0\\n\\n5. LIMITATION OF LIABILITY. IN NO EVENT IS SELLER\\xa0LIABLE FOR INDIRECT, SPECIAL, INCIDENTAL, PUNITIVE, OR CONSEQUENTIAL DAMAGES (INCLUDING LOST REVENUES OR PROFITS), ARISING OUT OF OR RELATING TO ANY BREACH BY SELLER OF ANY EXPRESS OR IMPLIED WARRANTY OR THE SALE, USE, OR INABILITY TO USE THE GOODS, EVEN IF SELLER HAS BEEN ADVISED OF THE POSSIBILITY OF SUCH DAMAGES.\\xa0SELLER\\'S TOTAL LIABILITY FOR ANY CLAIMS ARISING OUT OF OR RELATING TO THIS AGREEMENT, INCLUDING SELLER\\'S BREACH OF ANY EXPRESS OR IMPLIED WARRANTY OR WARRANTY OF MERCHANTABILITY OR FITNESS FOR A PARTICULAR PURPOSE, IS LIMITED TO THE AMOUNT PAID BY BUYER FOR THE GOODS.\\xa0SELLER DOES NOT ASSUME ANY LIABILITY FOR BUYER\\'S USE OF\\xa0OR INABILITY TO USE THE GOODS FOR BUYER\\'S INTENDED PURPOSES.\\xa0NOTWITHSTANDING ANY PROVISION HEREOF, IN NO EVENT SHALL SELLER\\'S LIABILITY ARISING OUT OF OR RELATING TO THIS AGREEMENT EXCEED THE PRICE PAID BY BUYER FOR THE GOODS.\\n\\n6. RETURNS. Goods may be returned for credit or replacement (at Seller\\'s discretion) only upon advance written authorization from Seller and subject to SELLER\\'S STANDARD TERMS AND CONDITIONS OF SALE, WHICH ARE MADE PART HEREOF BY THIS REFERENCE.\\n\\n7. WAIVER. No failure or delay by Seller in exercising any of its rights hereunder shall constitute a waiver and no single or partial exercise of any right by Seller shall preclude any further exercise of that right or any other right of Seller.\\xa0The waiver of a breach of any provision of this Agreement shall not be a waiver of any subsequent breach.\\n\\n8. GOVERNING LAW; ARBITRATION. This Agreement will be governed by the laws of the state of Arizona,\\xa0without regard to rules governing conflicts of law.\\xa0Any and all disputes, controversies or disagreements arising out of or relating to this Agreement including, without limitation, any regarding the construction and interpretation of this Agreement, shall be resolved through the American Arbitration Association in accordance with its then applicable Commercial Arbitration Rules.\\xa0The arbitration shall be conducted in Scottsdale, Arizona.\\xa0Judgment on the arbitration award may be entered in any court having jurisdiction thereof.\\xa0ALL CLAIMS AGAINST SELLER HEREUNDER SHALL BE RESOLVED HEREUNDER, AND BUYER HEREBY WAIVES\\xa0ANY RIGHT TO BRING A CLAIM AGAINST SELLER BEFORE\\xa0ANY\\xa0ADMINISTRATIVE OR REGULATORY AGENCY. \\n\\n9. ATTORNEYS\\' FEES.\\xa0In\\xa0any legal action or arbitration of any dispute of any kind arising out of or relating to this Agreement, whether brought by Seller or Buyer, the non-prevailing party shall be obligated to pay, reimburse and indemnify the prevailing party for reasonable costs and attorneys\\' fees.',\n",
       "  'summary': \"**Terms of Sale**\\n- Payment is due within 30 days from the invoice date.\\n- A 1 1/2% per month finance charge will be applied to unpaid balances.\\n- A 2% discount is available if payment is made within 10 days from the invoice date.\\n\\n**Shipping**\\n- Shipments are FOB origin.\\n- Title and risk of loss pass to Buyer upon delivery to the carrier.\\n- Seller has the right to make partial shipments.\\n- Buyer is responsible for all taxes and duties.\\n\\n**Delivery**\\n- Seller is not liable for loss or damage to Goods unless caused by gross negligence or willful misconduct.\\n\\n**Warranty**\\n- Seller warrants that Goods manufactured by Seller will be free from defects in materials and workmanship for one year from the date of shipment.\\n- Seller assumes no liability for Goods not manufactured by Seller.\\n\\n**Limitation of Liability**\\n- Seller is not liable for indirect, special, incidental, punitive, or consequential damages.\\n- Seller's total liability is limited to the amount paid by Buyer for the Goods.\\n- Seller does not assume any liability for Buyer's use or inability to use the Goods.\\n\\n**Returns**\\n- Goods may only be returned for credit or replacement upon advance written authorization from Seller.\\n\\n**Other Terms**\\n- Seller's standard terms and conditions of sale apply.\\n- This Agreement is governed by the laws of Arizona.\\n- Disputes shall be resolved through arbitration in Scottsdale, Arizona.\\n- Buyer waives the right to bring a claim before any administrative or regulatory agency.\\n- The non-prevailing party shall be responsible for paying the prevailing party's reasonable costs and attorneys' fees.\"},\n",
       " {'text': 'The Fortune 500, a ranking of the largest publicly traded companies in the United States by revenue, provides a valuable snapshot of the American economy. The list is based on the companies’ financial performance for the previous year, and companies are ranked by their total revenue. \\nThe Fortune 500 is often touted as a reflection of the overall health of the U.S. economy, as it tracks the performance of many of the country’s most successful companies. The ranking can also be used as a way to identify trends and changes in the business landscape.\\nIn 2022, the Fortune 500 saw several major changes from the previous year. The following are some of the key findings from the 2022 ranking:\\n\\n* **Walmart remained the top company on the list, followed by Amazon, and Apple.**\\n* **Berkshire Hathaway, the investment firm led by Warren Buffett, climbed to the fourth spot, up from sixth place in 2021.**\\n* **Energy companies made a strong showing in the ranking, reflecting the rising price of oil and gas.**\\n* **Technology companies continued to dominate the top 10, with Apple, Alphabet, and Microsoft all maintaining their positions from the previous year.**\\n\\nThe 2022 Fortune 500 ranking provides a snapshot of the strength and resilience of the American economy. The list highlights the important role that businesses play in driving economic growth and creating jobs. It also serves as a reminder of the importance of innovation and adaptability in the face of constant change.\\n',\n",
       "  'summary': 'The Fortune 500 list of the largest publicly traded companies in the United States by revenue offers insights into the health of the American economy.\\nIn 2022:\\n* Walmart remained at the top, followed by Amazon and Apple.\\n* Berkshire Hathaway moved up to fourth place.\\n* Energy companies saw a strong showing due to rising energy prices.\\n* Technology giants like Apple, Alphabet, and Microsoft maintained their top 10 positions.\\nThe ranking showcases the significance of businesses in economic growth and highlights the importance of innovation and adaptability.'},\n",
       " {'text': 'The word \"academy\" is derived from the name of a garden in Athens where the Greek philosopher Plato gathered his students to teach them philosophy. The academy was named after the demi-god Academus, who, in Greek mythology, was said to be the legendary founder of the academy. Plato\\'s academy taught a curriculum focused on the liberal arts and sciences, which included mathematics, geometry, astronomy, and philosophy. The word \"academy\" has come to be used as a name for schools and other institutions of higher learning, and the term \"academia\" is used to refer collectively to the community of scholars and institutions engaged in higher learning and research.\\nAcademics are people who are engaged in teaching and research at universities. Academic institutions are typically organized into schools or departments, each of which is responsible for research and teaching in a specific field. Academic programs are typically divided into undergraduate and graduate studies, and some institutions also offer professional degrees such as law, medicine, and business.\\nAcademic research is the systematic study of a subject through the application of the scientific method. Academic research is typically conducted by academics at universities, and it is funded by a variety of sources including government grants, private foundations, and corporate partnerships. Academic research is disseminated through публикаций в academic journals, and it is used to advance our understanding of the world around us.\\nThe academic community is a global network of scholars who are engaged in teaching and research. The academic community is responsible for educating the next generation of scholars and researchers, and it is also responsible for producing the research that advances our understanding of the world. The academic community is a vital part of society, and it plays a key role in the development of the human race.',\n",
       "  'summary': 'The word \"academy\" originated from Plato\\'s school in Athens, dedicated to teaching philosophy and liberal arts.\\nNowadays, \"academy\" refers to educational institutions offering higher learning and research.\\nAcademics are individuals involved in teaching and research at universities, organized into departments specializing in particular fields.\\nAcademic programs encompass undergraduate and graduate studies, with some institutions also providing professional degrees.\\nAcademic research employs the scientific method to explore various subjects, funded by diverse sources and disseminated through academic publications.\\nThe academic community, a global network of scholars, is crucial in educating future scholars and advancing knowledge through research.'},\n",
       " {'text': \"The Assembly finds and declares as follows:\\n\\n(a) People of all income levels and economic circumstances, especially people of low and moderate income, seniors, fixed-income seniors, and people with disabilities, need access to, and the ability to afford, quality, affordable health care services.\\n\\n(b) Health care costs continue to rise at alarming rates, making it increasingly difficult for people to afford the necessary health care services they need to live healthy and productive lives.\\n\\n(c) Many Californians, especially people with low incomes and people of color, face barriers accessing affordable health care services in their communities, including a shortage of providers who accept Medi-Cal.\\n\\n(d) In order to provide more Californians access to more affordable health care services, the state should explore allowing more providers to participate in Medi-Cal and increase health care affordability through the use of state purchasing power and leverage.\\n\\n(e) The state should also work to stabilize the individual insurance market and provide more affordable, high-quality health coverage options to individual policyholders and small businesses.\\n\\n(f) Current law creates a complex and burdensome web of programs and funding streams for health care programs for low-income Californians.\\n\\n(g) Creating a unified financing system for health care services under the Medi-Cal program funded by a single funding source will reduce costs, allow for better planning, provide for a patient-centric approach to health care, and provide more flexibility to respond to the ongoing effects of the COVID-19 pandemic and future public health emergencies.\\n\\n(h) The transition to a single-payer health care delivery system, where all Californians, regardless of their ability to pay, have access to affordable, comprehensive health care services, would be transformative and would improve the health of all Californians.\\n\\n(i) To help achieve these goals, the Assembly Budget Committee requests that the nonpartisan Legislative Analyst's Office study the creation of a California universal single-payer health care system and report its findings and recommendations to the Legislature by January 15, 2024.\\n\",\n",
       "  'summary': \"The California Assembly finds that health care costs continue to rise, making it difficult for people to afford. They also find that many Californians, especially people of low incomes and people of color, face barriers accessing affordable health care services in their communities. To address these issues, the Assembly requests that the Legislative Analyst's Office study the creation of a California universal single-payer health care system and report its findings and recommendations to the Legislature by January 15, 2024.\"},\n",
       " {'text': ' Please edit the reference resume that I have provided to better reflect my experience as a Proofreader and Copyeditor.\\n\\n[Name]\\n[Contact Information]\\n[Professional Profile]\\nI am a passionate Proofreader and Copyeditor, offering professional services to authors, students, entrepreneurs, and businesses.\\n\\n[Skills]\\n  - Detail Oriented\\n  - Proficient in Microsoft Office Suite and Google Docs\\n  - Exceptional Command of English Grammar, Spelling, and Punctuation\\n  - Knowledge of Style Guides (AP, Chicago, MLA)\\n  - Expert in Text Analysis and Editing Techniques\\n\\n[Experience]\\n  - Freelance Proofreader/Copyeditor, 2021-Present\\n    - Proofread and edited various written materials, including academic papers, manuscripts, website content, and marketing materials\\n    - Verified accuracy, consistency, and adherence to style guides\\n\\n  - Writing Tutor, University of California, Berkeley, 2019-2021\\n    - Provided one-on-one assistance to students with their writing assignments\\n    - Guided students in developing strong writing skills, including grammar, syntax, and organization\\n\\n[Education]\\n  - Bachelor of Arts in English, University of California, Berkeley, 2019\\n\\n[Certifications]\\n  - Certified Proofreader through the American Copyediting Society\\n\\n[Other Relevant Experience]\\n  - Member of the Editorial Freelancers Association\\n  - Volunteer Editor for the Berkeley Literary Journal\\n\\n[References]\\nAvailable upon request',\n",
       "  'summary': \"Here's a sample reference resume that better emphasizes your experience as a Proofreader and Copyeditor:\\n\\n[Name]\\n[Contact Information]\\n**Proofreader and Copyeditor**\\n\\n**Professional Summary**\\nExperienced Proofreader and Copyeditor with a strong command of English grammar, spelling, and punctuation. Proficient in various style guides and skilled in text analysis and editing techniques.\\n\\n**Skills**\\n- Detail-Oriented\\n- Proficient in Microsoft Office Suite and Google Docs\\n- Exceptional Command of English Grammar, Spelling, and Punctuation\\n- Knowledge of Style Guides (AP, Chicago, MLA)\\n- Expert in Text Analysis and Editing Techniques\\n\\n**Experience**\\n- Freelance Proofreader/Copyeditor, 2021-Present\\n    - Proofread and edited various written materials, including academic papers, manuscripts, website content, and marketing materials\\n    - Verified accuracy, consistency, and adherence to style guides\\n- Writing Tutor, University of California, Berkeley, 2019-2021\\n    - Provided one-on-one assistance to students with their writing assignments\\n    - Guided students in developing strong writing skills, including grammar, syntax, and organization\\n\\n**Education**\\n- Bachelor of Arts in English, University of California, Berkeley, 2019\\n\\n**Certifications**\\n- Certified Proofreader through the American Copyediting Society\\n\\n**Other Relevant Experience**\\n- Member of the Editorial Freelancers Association\\n- Volunteer Editor for the Berkeley Literary Journal\\n\\n**References**\\nAvailable upon request\"},\n",
       " {'text': 'SCOTUSblog is a legal website reporting on cases before the United States Supreme Court. It was founded in 2003 by Tom Goldstein.\\nSCOTUSblog covers the U.S. Supreme Court like no other reporting organization on the web. It is published twice daily and covers cases of interest to legal professionals, academics, journalists, the Court\\'s watchers, and the general public.\\nSCOTUSblog\\'s most popular features are its live commentary on the Court\\'s oral argument sessions, which incorporates tweets, readers\\' emails, and Goldstein\\'s witty insights, as well as The Docket, which previews oral arguments and tracks the justices\\' questions in real time.\\nMembership in SCOTUSblog is primarily based on donations. Here is their Silver Membership which allows access to member-only content and archives and podcasts featuring bonus episodes:\\nMembership benefits include:\\n* Year-end tax receipt\\n* Case tracking\\n* Docket alerts\\n* Exclusive advance \"guess the question\" polls\\n* Member-only podcasts, including the \"Quick TAKES\" podcast offering the latest about the Court\\n* Access to annual symposium\\n* Real-time oral arguments\\n* SCOTUSwiki -- An outstanding database of Supreme Court case information\\n* SCOTUSblog members-only Facebook group\\n* Bill of the Justices -- An annual digest of last-minute filings\\n* All case briefs\\n* Commentary archives\\n* \"Coverage Complete\" archive of all the oral arguments of a term\\nHere is their annual membership levels and benefits:\\n*SILVER ANNUAL*\\n**$120**\\n*SCOTUSblog mug included*\\n* Year-end tax receipt\\n* Access to all podcasts\\n* Email notifications\\n* Exclusive member-only content\\n* Archives\\n* Polls\\n* SCOTUSwiki\\n* Briefs\\n* Commentary archives\\n* Oral args archive\\n* SCOTUSblog Facebook group\\n* Bill of the Justices\\n* Alerts\\n* Member case list\\n\\n*GOLD ANNUAL*\\n**$250**\\nBenefits same as the Silver Membership including bonus episodes from SCOTUSpod, their podcast.\\n\\n*SUPPORTER ANNUAL*\\n**$500**\\nBenefits same as the Gold Membership, including advance \"guess the question\" polls.\\n\\nTo support their mission, they rely on donations. To learn more about SCOTUSblog\\'s organization, read about their mission statement.\\nSCOTUSblog is an independent, nonpartisan source of news about proceedings of the Supreme Court to advance reasoned and impartial discourse. They adhere to the values of independence, accuracy, fairness, and context.\\nTo stay connected to SCOTUSblog, here are some useful links:\\nTwitter: @SCOTUSblog\\nFacebook: www.facebook.com/SCOTUSblog\\nYouTube: www.youtube.com/user/SCOTUSblog\\nInstagram: @SCOTUSblog\\nBlog: SCOTUSblog.com',\n",
       "  'summary': 'SCOTUSblog is a nonpartisan, independent news source that covers the U.S. Supreme Court.\\nLaunched in 2003 by Tom Goldstein, SCOTUSblog publishes articles twice daily on U.S. Supreme Court cases of interest to various audiences - from academics to legal professionals to the general public.\\nSCOTUSblog offers a Silver Membership level for $120/year. Benefits of a Silver Membership include:\\n*year-end tax receipt\\n*case tracking\\n*docket alerts\\n*exclusive advance \"guess the question\" polls\\n*member-only podcasts and bonus episodes\\n*access to annual symposium\\n*real-time oral arguments\\n*SCOTUSwiki database access\\n*SCOTUSblog members-only Facebook group\\n*Bill of the Justices\\n*all case briefs\\n*commentary archives\\n*\"Coverage Complete\" archive\\nSCOTUSblog offers higher annual membership levels (Gold and Supporter) with additional benefits.'},\n",
       " {'text': 'Cardiac amyloidosis is a rare disease where amyloid proteins deposit in the heart. The amyloid proteins come from an abnormal protein that causes damage to the organs and tissues. Amyloidosis can be localized or systemic. Localized amyloidosis affects only one organ, in which cardiac amyloidosis specifically affects the heart. Systemic amyloidosis affects multiple organs, including the heart.\\n\\n\\nThe clinical manifestation of localized cardiac amyloidosis is often related to the increase in the left ventricular wall thickness. The cardiac structure and function are affected by the protein deposits which leads to heart failure with preserved ejection fraction. Systemic cardiac amyloidosis is most commonly caused by immunoglobulin light-chain (AL) amyloidosis, which is associated with plasma cells dyscrasias like multiple myeloma. In AL amyloidosis, the amyloid protein is formed from misfolded immunoglobulin light-chains produced by plasma cells. This can cause restrictive cardiomyopathy and heart failure with preserved ejection fraction.\\nCardiac amyloidosis is initially asymptomatic. As the disease progresses, patients usually present with symptoms and signs of heart failure. As it progresses, it can involve multiple organs which leads to organ dysfunction and failure. In the case of cardiac amyloidosis, it can lead to heart failure, ventricular arrhythmias which can cause sudden cardiac death.\\n\\n\\nThe evaluation of cardiac amyloidosis includes adequate assessment of clinical examination, imaging modalities such as echocardiogram, cardiac magnetic resonance imaging, and endomyocardial biopsy. Echocardiogram shows increased left ventricular wall thickness with normal size ventricles and ejection fraction usually above 50%. In cardiac magnetic resonance imaging, late gadolinium enhancement is seen. Endomyocardial biopsy is the gold standard for the diagnosis, with Congo red staining demonstrating apple-green birefringence under polarized microscopy.',\n",
       "  'summary': 'Cardiac amyloidosis is a condition where amyloid protein deposition occurs in the heart. There are two types of cardiac amyloidosis localized and systemic. In localized cardiac amyloidosis, only the heart is affected, whereas in systemic cardiac amyloidosis, multiple organs are affected.\\n\\n\\nThe common clinical presentation of cardiac amyloidosis is related to increased thickness of the left ventricular wall thickness. As the disease progresses, it leads to symptoms and signs of heart failure with preserved ejection fraction.\\n\\n\\nThe cardiac structure and function are affected by the protein deposits usually leading to heart failure with preserved ejection fraction. Systemic cardiac amyloidosis is common with immunoglobulin light-chain (AL) amyloidosis, which is associated with plasma cell dyscrasias such as multiple myeloma. In AL amyloidosis, the amyloid protein is formed from misfolded immunoglobulin light chains produced by plasma cells which can cause restrictive cardiomyopathy and heart failure with preserved ejection fraction.\\n\\n\\nThe evaluation for cardiac amyloidosis includes assessment of clinical presentation, imaging with echocardiogram, cardiac magnetic resonance imaging, and biopsy of the heart tissue called endomyocardial biopsy. Echocardiogram can show increased left ventricular wall thickness with normal-sized ventricles and normal ejection fraction. Cardiac MRI can show late gadolinium enhancement. An endomyocardial biopsy is still considered the gold standard confirmatory test where after staining there is apple-green birefringence seen under polarized microscopy.'},\n",
       " {'text': 'Ariana Grande Has Been the Voice of Many Empowering and Popular Tracks Across the World.\\n\\n\\nSECTION 1.\\nAriana Grande is an American singer, songwriter, and actress.\\n\\n\\nSECTION 2.\\nShe has been releasing music since 2013 and has become one of the most successful and influential artists in the world.\\n\\n\\nSECTION 3.\\nAriana Grande has won numerous awards and nominations and has became a global superstar.\\n\\n\\nSECTION 4.\\nSome of her most popular songs include \"Problem,\" \"Thank U, Next,\" and \"7 Rings.\"\\n\\n\\nSECTION 5.\\nAriana Grande is known for her powerful vocals, catchy songs, and empowering lyrics.\\n\\n\\nSECTION 6.\\nShe is a role model for many young people and her music has inspired millions around the world.',\n",
       "  'summary': 'Ariana Grande is an American singer, songwriter, and actress who has been active in the music industry since 2013 and has become one of the most successful and influential artists in the world. She has released several hit songs, including \"Problem,\" \"Thank U, Next,\" and \"7 Rings,\" and has won numerous awards and nominations. Her powerful vocals, catchy songs, and empowering lyrics have made her a role model for many young people and have inspired millions around the world.'},\n",
       " {'text': 'Beginning January 1, 2024, California law requires that all state boards, commissions, and departments include the pronouns of the members of the board in the roster.  Members must also provide a list of names and titles by which they prefer to be addressed.\\nThe new requirements were contained in a measure signed into law in September 2022.  Assembly Bill 2198 amended Section 1724 of the Government Code to require each member of a state board, commission, or department to include their pronouns and preferred name and title in the agency’s roster.  As used in the new law, “pronoun” means a word or phrase used in place of a noun to specify the gender, as well as the social and professional titles of the individual.\\nThe law applies to all individuals who serve on state boards, commissions, and departments and specifies that the roster shall also list the members’ names, the terms they serve, how they were appointed (by the Governor, legislature, etc.), their affiliations, the district (if any) that they represent, and their political party, if any.\\nThe information provided must be made available on the internet and must be updated whenever a new member joins or leaves the board, commission, or department, or when a member requests a change.  The law does not require members to include their pronouns or preferred names and titles in public testimony or during other proceedings.\\nThe California Legislature has made great strides in recent years to establish itself as one of the most progressive and LGBTQ-inclusive in the nation.  These new requirements provide a model for similar efforts across the country to help foster a more inclusive society that respects the rights of all, regardless of gender identity or sexual orientation.',\n",
       "  'summary': 'California has a new law that requires all state boards, commissions, and departments to include the pronouns of their members in the official roster, along with a list of names and titles by which they prefer to be addressed. The law defines “pronoun” as a word or phrase used in place of a noun to indicate a person’s gender, as well as their social and professional titles. The information must be available online and be updated whenever a new member joins or leaves, or when a member requests a change. This law is part of California’s ongoing efforts to be more inclusive and respectful of LGBTQ+ individuals.'},\n",
       " {'text': 'The City Council of the City of Sunnyville does enact as follows:\\n\\n\\nSECTION 1. Chapter 8.420 of the Municipal Code of the City of Sunnyville is hereby amended by adding thereto Section 8.420.045 to read as follows:\\n\\n\\n8.420.045 Graffiti Removal Fee\\n(a)\\tA fee is hereby created entitled the “Graffiti Removal Fee.”\\n(b)\\tThe owner of each parcel of real property located in the City shall pay an annual Graffiti Removal Fee in the amount of ten dollars ($10.00) per year.\\n(c)\\tThe Graffiti Removal Fee is a special fee as defined in Section 5430 of the Government Code. All provisions of Chapter 12 (commencing with Section 54990) of Part 1 of Division 2 of Title 5 of the Government Code applicable to special fees apply to the fee established by this section.\\n(d)\\tThe Graffiti Removal Fee shall be collected at the same time and in the same manner as other property-related special fees are collected pursuant to Chapter 8.420 of the Municipal Code.\\n(e)\\tThe revenue derived from the Graffiti Removal Fee shall be deposited in a separate fund in the City’s treasury and shall be used exclusively to cover the costs of graffiti removal from all publicly-owned property and privately-owned property in the City, for the creation and maintenance of an anti-graffiti database, and for anti-graffiti educational programs.”\\n\\nSECTION 2. This ordinance shall take effect on April 1, 2024.',\n",
       "  'summary': 'The City of Sunnyville is creating a $10 annual Graffiti Removal Fee for all real property owners.\\nThis fee will be used to cover the costs of removing graffiti from both public and private property, creating and maintaining an anti-graffiti database, and funding anti-graffiti educational programs.\\nThe fee will be collected at the same time and in the same manner as other property-related special fees.'},\n",
       " {'text': 'The Municipal Code of California Section 4303.01 reads as follows:\\n\\n\\n4303.01 Controlled Access (CA).\\nNo person shall ride a bicycle upon a controlled access highway in the City of Corcoran, except upon a designated nonmotorized traffic facility.\\n(Ord. No. 1102, § 1, 8-7-12)',\n",
       "  'summary': 'According to Section 4303.01 of the Municipal Code of California, it is illegal to ride a bicycle on a controlled access highway in the city of Corcoran unless it is on a designated nonmotorized traffic facility.'},\n",
       " {'text': 'As part of a measure to increase the accessibility of healthcare for the vulnerable, the California Legislature proposes to implement the California Global Health Insurance Plan. \\nThis health insurance plan expansion will make available comprehensive coverage for essential health benefits, behavioral health services (mental health and substance use disorder services), vision, dental, and long-term care to all income-eligible Californians who are not currently covered by an employer or government-sponsored health insurance plan.\\nUnder the California Global Health Insurance Plan, eligible enrollees will have access to a broad range of providers, including primary care physicians, specialists, hospitals, and clinics. The plan will be administered by a single payer, the California Health Benefits Exchange, which will be responsible for negotiating rates with providers and ensuring the quality of care.\\nThe plan will be funded through a combination of state and federal funds, as well as premiums paid by enrollees on a sliding scale based on income. The state estimates that the plan will cost approximately \\\\$400 billion annually and will cover approximately 30 million Californians.\\nThe California Global Health Insurance Plan is expected to have a significant impact on the health of Californians. By expanding access to affordable health insurance, the plan will reduce the number of uninsured Californians and improve access to essential health care services. The plan is also expected to improve the quality of care for Californians, as it will provide access to a broader range of providers and ensure the quality of care through the California Health Benefits Exchange.\\nThe California Global Health Insurance Plan is a bold and ambitious proposal that has the potential to significantly improve the health of Californians. However, there are a number of challenges that need to be addressed before the plan can be implemented. These challenges include the high cost of the plan, the need to ensure the quality of care, and the need to address the concerns of those who are opposed to a single-payer health care system.',\n",
       "  'summary': 'The California Global Health Insurance Plan is a proposed health insurance expansion that would make comprehensive coverage available to all income-eligible Californians who are not currently covered by an employer or government-sponsored health insurance plan.\\n\\nUnder the plan, eligible enrollees would have access to a broad range of providers, including primary care physicians, specialists, hospitals, and clinics. The plan would be administered by a single payer, the California Health Benefits Exchange, which would be responsible for negotiating rates with providers and ensuring the quality of care.\\n\\nThe plan would be funded through a combination of state and federal funds, as well as premiums paid by enrollees on a sliding scale based on income. The state estimates that the plan will cost approximately $400 billion annually and will cover approximately 30 million Californians.\\n\\nThe California Global Health Insurance Plan is expected to have a significant impact on the health of Californians. By expanding access to affordable health insurance, the plan will reduce the number of uninsured Californians and improve access to essential health care services. The plan is also expected to improve the quality of care for Californians, as it will provide access to a broader range of providers and ensure the quality of care through the California Health Benefits Exchange.\\n\\nHowever, there are a number of challenges that need to be addressed before the plan can be implemented. These challenges include the high cost of the plan, the need to ensure the quality of care, and the need to address the concerns of those who are opposed to a single-payer health care system.'},\n",
       " {'text': 'Congress enacted the Americans With Disabilities Act in 1990. The purpose of the act was to provide people with disabilities the opportunity for integration and full participation in the American mainstream. The act requires employers, public accommodations, transportation services, and telecommunications providers to make \"reasonable accommodations\" to meet the needs of disabled people. In 1991, the Civil Rights Act was passed relating to people with disabilities and their employment opportunities. This act prohibits discrimination in employment against qualified applicants or employees with disabilities in all employment practices.\\n\\nCongress intended the Americans With Disabilities Act and the Civil Rights Act to work together to provide protection to people with disabilities in all areas of public life, including employment. These laws require employers to provide equal employment opportunities for disabled people and to make reasonable accommodations to meet their needs. Reasonable accommodations can include providing accessible transportation, modifying work schedules, or restructuring jobs.\\n\\nHowever, in March 2018, the Equal Employment Opportunity Commission announced that its guidance regarding protections provided to disabled employees under the Americans With Disabilities Act would be substantially revised. This change in guidance was met with concern by advocates for disabled people, who worry that it will make it harder for disabled people to get jobs and keep their jobs. It is unlikely that the standards for reasonable accommodation will be lowered. Instead, the new rules focus on employer concerns that have not been addressed in the past.\\n\\nOne change is that the new rules clarify that employers are not required to provide accommodations that would be unduly burdensome or too costly. This is a change from the previous guidance, which did not explicitly state that employers could consider cost when making decisions about accommodations.\\n\\nAnother change is that the new rules emphasize the importance of the interactive process between employers and employees with disabilities. This process is intended to help employers and employees work together to find accommodations that meet the needs of both parties.\\n\\nThe Equal Employment Opportunity Commission also issued a new rule that will make it easier for employers to ask job applicants about their disabilities. Under the new rule, employers can ask job applicants about their disabilities if they are doing so for the purpose of providing a reasonable accommodation. This is a change from the previous rule, which prohibited employers from asking about disabilities before making a job offer.\\n\\nThe Equal Employment Opportunity Commission has stated that these changes are intended to make it easier for employers to comply with the Americans With Disabilities Act and to provide reasonable accommodations for disabled employees. However, advocates for disabled people are concerned that the changes will make it harder for disabled people to get jobs and keep their jobs.',\n",
       "  'summary': 'In 1990, Congress enacted the Americans With Disabilities Act to provide people with disabilities the opportunity for integration and participation in the American mainstream, and the Civil Rights Act in 1991 to prohibit discrimination in employment against qualified applicants or employees with disabilities. Concerns have been raised that the Equal Employment Opportunity Commission’s 2018 revisions to its guidance regarding protections provided to disabled employees under the Americans With Disabilities Act may make it harder for disabled people to get and keep jobs. One such concern relates to the clarification that employers are not required to provide accommodations that would be unduly burdensome or too costly. Nonetheless, advocates are concerned that these changes, overall, may make it harder for disabled people to secure or maintain employment.'},\n",
       " {'text': 'The school operates on a non-profit basis for the exclusive purpose of conducting a system of thorough elementary and secondary education through programs in accordance with the laws and regulations of the California State Department of Education and without intent of acquiring profits from the operation. In conformity with the intent of the donors, the school’s faculty, administration and governing board will always consist of conservative Christian men and women. Only teachers who wholeheartedly subscribe to the fundamental Christian position on matters of faith and conduct shall be employed. The school is not required by law to admit students with non-Christian religious backgrounds or whose stated intentions are in violation of the school’s statement of faith, principles of conduct, or policies. It is the intent of the school to maintain the school as a ministry of the Gospel in addition to operating a system of quality elementary and secondary education. The school maintains a nondiscriminatory policy of admitting students of any race, color, national and ethnic origin, or ancestry to all rights, privileges, and activities generally accorded or made available to students, applicants for admission, or employees of the school. However, the school will only hire teachers and employees who are professing Christians sharing the school’s Christian philosophy and purpose, who share an evangelical Christian theology and lifestyle, and who will support the school in its religious endeavors, thus maintaining the school’s ability to challenge and prepare its graduates to fulfill their God-given roles in society.\\nThe Board of Directors of the school, upon the recommendation of the school administrator, and with the approval of the Evangelical Christian School Association, shall set the schedule of fees for the school. The school is financed principally by tuition, enrollment deposits, facility usage fees, and other fees paid by students and parents. Other income is generated by fund raising, donations, and sponsorships.\\nChecks or money must be made payable to the school. Tuition payments are due annually in 10 equal monthly payments with the first payment due with application and enrollment. The application and enrollment fee are nonrefundable. Tuition is nonrefundable after the first day of class. If the school is closed during part or all of the school year due to fire, flood, or other catastrophic events, the contingency plan as established by the school will be in effect. The school will use its best efforts to make up scheduled class hours with possible extensions of the school year or make-up classes. Any unused hours will be prorated and refunded. If extended hours are added to the school day, the prorated refund amount may be used. The school reserves the right to terminate enrollment for noncompliance with the payment policies.\\nThe following fees and related provisions of the school have not been set by the Board of Directors as of the date of this disclosure: sports participation, After-School enrichment classes, and extended care.\\nAs a school accredited by the Evangelical Christian School Association, the school is bound by the ethical standards, policies, and guidelines of that association. The school admits students of any race, color, national and ethnic origin to all the rights, privileges, programs, and activities generally accorded or made available to students at the school. It does not discriminate on the basis of race, color, national or ethnic origin in conduct of its educational programs and activities including, but not limited to, the school-operated sports programs and activities such as athletics, music and drama, and the recruitment, admission, and employment of school personnel.\\nThe school operates on a Christian calendar. The school reserves the right to make changes to the calendar by closing school for calamity days or for unforeseen events.\\nContinuous enrollment is required for all students, from preschool through twelfth grade, unless otherwise approved by the school. Continuous enrollment is confirmed by:\\n1.    The completion of new enrollment paperwork.\\n2.    The re-enrollment fee.\\n3.    Payment in full, or payment plan arrangements approved by the school.\\nThe school is not responsible for lost or stolen items. The school strongly encourages parents to provide their child(ren) with their own personal water bottles. The school does have several water fountains on campus to refill the bottles.\\nThe school does not carry an insurance policy that covers personal items or accidents incurred while at school or school sponsored events. The school recommends that parents purchase accident insurance for their student(s).\\nChildren/parents are responsible for providing all school supplies unless otherwise noted.\\nThe school does not offer bus service.\\nThe use of electronic devices is only permitted with the consent and supervision of the teacher (if use is included in the lesson plan). The school assumes no responsibility for the use or misuse of electronic devices or for their potential loss or theft. The school’s learning management system is accessed via the internet and login credentials are provided by the school upon enrollment.\\nThe school respects and values each person created in the image of God. The school prohibits hazing in any form, this includes bullying and/or harassment. Prohibited conduct includes, but is not limited to, threats, physical contact, and verbal remarks aimed at causing intimidation or targeting another person’s race, sex, gender, color, religion, ancestry, national origin, disability, sexual orientation, or political affiliation. Further, the school prohibits its students from engaging in conduct on school grounds or at school events that disrupt the educational mission and/or environment of the school.\\nThe school reserves the right to expel students who fail to satisfactorily maintain academic and disciplinary standards determined by the school or fail to demonstrate consistent and continued progress in academic achievement in alignment with the curriculum and the school’s standards.\\nThe school does not tolerate violence or intimidation, expressed through physical conduct or through verbal or written threat. Students who engage in fighting will be sent home immediately.\\nDiscipline for misconduct is administered in a manner consistent with the general philosophy and policies of the school. The consequences shall be age and grade appropriate, and may include, but are not limited to, detention, in-school suspension, out-of-school suspension, or expulsion. As a general policy, the school requires a student to demonstrate changed behavior before they are readmitted to class, including completing homework assignments.”',\n",
       "  'summary': \"This private school operates on a non-profit basis exclusively to conduct a system of thorough elementary and secondary education in accordance with the laws and regulations of the California State Department of Education without the aim of acquiring profits through the operation.\\nThe school maintains a non-discriminatory admission policy but only hires professing Christian teachers and employees.\\nThe school is financed through tuition, enrollment deposits, facility usage fees, fund raising, donations, and sponsorships. Tuition payments are due annually in 10 equal monthly payments with the first payment due with application and enrollment.\\nThe school reserves the right to expel students who fail to satisfactorily maintain academic and disciplinary standards or to demonstrate consistent progress in academic achievement.\\nThe school does not tolerate violence, intimidation, hazing, bullying, or harassment. Discipline for misconduct is administered in accordance with the school's general philosophy and policies.\"},\n",
       " {'text': \"The United States warned its allies that suspending oil exports to retaliate against Russian crude could backfire and potentially lead to a global energy crisis, three sources familiar with the matter told Reuters.\\n\\n\\nThe Biden administration and some other United States allies in recent weeks have held discussions with oil producers about stopping all purchases of Russian crude to punish Moscow over its invasion of Ukraine.. But a united front has proved elusive, with several key nations signalling they will not stop Russian imports for now.\\n\\n\\nSaudi Arabia, the world’s largest oil exporter, is among those uncommitted to such a measure, the sources said, speaking on condition of anonymity. The report that the United States was raising concerns over the idea came as US President Joe Biden was to hold a meeting with some European leaders on Friday to discuss the war in Ukraine as well as energy security.\\n\\n\\nThe White House did not respond to a request for comment.\\n\\n\\nThe United States and its European allies have so far held back from sanctioning Russian oil and gas exports as they weigh the economic impact on consumers and businesses, although Washington has banned the import of Russian energy. But concerns have grown since President Vladimir Putin put Russia's nuclear forces on high alert.\\n\\n\\nUS officials have repeatedly said they believe it is crucial to deny Putin the revenue that fuels his war machine.\\n\\n\\nThey have been travelling the world to meet energy producers, and Biden is due to speak with leaders from Canada and the European Union on Friday about coordinating a response to the Ukraine crisis.\\n\\n\\nGermany and other European countries are more dependent on Russian gas and have been especially reluctant to block imports. France has also stressed the need to take into account the impact on energy prices before deciding on the issue.\\n\\n\\nSaudi Arabia previously has rejected requests from Western allies to raise output above agreed levels, as it and other OPEC members stick to a strategy of keeping global supplies tight to keep oil prices elevated.\\n\\n\\nHowever, Riyadh has pledged to release enough crude to ensure a smooth flow of oil, even if supply disruptions worsen.\\n\",\n",
       "  'summary': \"United States warned its allies that suspending oil exports could cause an energy crisis; potential ban on Russian crude over Ukraine invasion.\\n\\nSaudi Arabia, the world’s top oil exporter, is among the nations uncommitted to stopping Russian imports. Riyadh is reluctant to increase output above agreed levels, in line with OPEC's strategy of limiting supply to maintain elevated oil prices.\\n\\nDespite calls from the United States, several key nations have signaled they will continue purchasing Russian crude, with no united front emerging.\\n\\nEuropean nations, particularly Germany, are hesitant to impose sanctions on Russian oil and gas due to their reliance on the country's energy supply.  \\n\"},\n",
       " {'text': 'This bill would establish a rebuttable presumption that an owner or manager of a multi-unit rental property established a policy of intentional discrimination against a person in the rental of a dwelling unit if there has been two or more sanctions for acts, including but not limited to, refusing to rent or lease, offering different terms and conditions for renting or leasing, or evicting, against a person within a ten-year period.\\n\\n\\nIn determining whether there has been a pattern or practice of discrimination against a person, the rebuttable presumption shall only be rebutted if the owner or manager of the multi-unit rental property shows that at least one of the sanctions was based on a legitimate business necessity, that is not discriminatory on its face.\\n\\n\\nIf the person meets the rebuttable presumption, the burden shifts to the owner or manager to prove that the sanction or sanctions were not based on unlawful discrimination against the person based on his or her inclusion in a protected class.\\n\\n\\nThe rights and remedies which are provided by this bill are cumulative and in addition to all other legal rights and remedies which may be provided by federal or state law or by local ordinance or regulation.',\n",
       "  'summary': 'This bill would create a rebuttable presumption that a pattern of discrimination exists when two sanctions have been issued against a landlord within a 10 year period. The presumption can be rebutted by showing that the actions were taken due to a legitimate business necessity that is not discriminatory on its face.\\n\\nThe bill provides that if the plaintiff can demonstrate the rebuttable presumption, the burden of proof shifts to the defendant to demonstrate that the sanctions were not based on prohibited discrimination against a member of a protected class.\\n\\nThese rights and remedies are cumulative and in addition to other legal rights and remedies available under federal, state, or local law.'},\n",
       " {'text': 'The respondent, Valdez, robbed a bank in 1988. Upon interrogation, the supervising officers refused to permit the petitioner, Ramos, to be present during the interrogation. Ramos brings this petition for a writ of habeas corpus, arguing the interrogation should have been suppressed under Michigan v. Jackson.\\n\\nIn the 1966 case of Miranda v. Arizona, the Supreme Court ruled that any statement obtained from an accused individual while in custody must be suppressed unless the prosecution demonstrates the use of procedural safeguards effective to secure the privilege against self-incrimination. These safeguards include a warning that the accused has the right to remain silent and the right to have an attorney present during questioning. In Michigan v. Jackson (1986), the Supreme Court held that the Sixth Amendment right to counsel attaches only at or after the initiation of formal adversary proceedings.\\n\\nRamos contends that the interrogation in this case should have been suppressed under Jackson and Miranda because the interrogation of him occurred after “the initiation of adversarial proceedings” when an information was filed against him. On that basis, Ramos argues that his Sixth Amendment right to counsel attached, and the failure to provide him with counsel violated his right to counsel and the interrogation should have been suppressed. The state contends that the mere filing of an information does not trigger the Sixth Amendment right to counsel, relying on language in Jackson. This court agrees with the state.\\n\\nThe Supreme Court has clearly held that the right to counsel attaches only after the initiation of formal adversarial proceedings. See Powell v. Alabama (1932), Massiah v. United States (1964), Brewer v. Williams (1977), Kirby v. Illinois (1972), United States v. Gouveia (1984), and McNeil v. Wisconsin (1991). Jackson does not retreat from this. Jackson merely held that the right to counsel attaches only at or after the initiation of formal adversary proceedings. Furthermore, the Michigan Supreme Court has held that the filing of an information, alone, is not sufficient to trigger Sixth Amendment protections. People v. Smith (1989), People v. King (1988).\\n\\nTherefore, in this case, the court concludes that the Sixth Amendment right to counsel had not attached at the time of Ramos’ interrogation. Accordingly, Ramos’ statement to the police was properly admitted against him, and the petition for a writ of habeas corpus is denied.',\n",
       "  'summary': 'In 1988, Valdes robbed a bank. During interrogation, Ramos was not allowed to be present. Ramos is now petitioning for a writ of habeas corpus, arguing the interrogation should have been suppressed under Michigan v. Jackson. In 1966, Miranda v. Arizona ruled that any statement from an accused individual must be suppressed unless the prosecution shows procedural safeguards to protect against self-incrimination. In Michigan v. Jackson (1986), the Supreme Court held the Sixth Amendment right to counsel only attaches at or after formal proceedings have begun. Ramos argues the interrogation should have been suppressed under Miranda and Jackson because it happened after \"the initiation of adversarial proceedings\" when information was filed against him. The state argues that filing an information alone does not trigger the right to counsel, citing Jackson. The court agrees with the state, citing several cases asserting that the Sixth Amendment right to counsel attaches only at or after formal proceedings have begun. Based on these precedents, the court concludes the right to counsel had not attached during Ramos\\' interrogation, so his statement was admissible against him.'},\n",
       " {'text': \"The official Synopsis of Senate Bill 911 reads as follows:\\nLEGISLATIVE COUNSEL'S DIGEST                         SB 911, as amended, Dodd. Property taxation: veterans’ organizations.\\n    Existing property tax law, after providing for assessment procedures for specified exempt property, in related provisions defines “welfare exemption” as an exemption from taxation for property owned and used exclusively for charitable purposes. Existing property tax law also establishes a veterans’ organization exemption under which property is exempt from taxation if, among other things, that property is used exclusively for charitable purposes and is owned by a veterans’ organization.\\n    This bill would provide that the veterans’ organization exemption shall not be denied to a property on the basis that the property is used for fraternal, lodge, or social club purposes, and would make specific findings and declarations in that regard. The bill would also provide that the exemption shall not apply to any portion of a property that consists of a bar where alcoholic beverages are served.\\n    Section 2229 of the Revenue and Taxation Code requires the Legislature to reimburse local agencies annually for certain property tax revenues lost as a result of any exemption or classification of property for purposes of ad valorem property taxation.\\n    This bill would provide that, notwithstanding Section 2229 of the Revenue and Taxation Code, no appropriation is made and the state shall not reimburse local agencies for property tax revenues lost by them pursuant to the bill.\\n    This bill would take effect immediately as a tax levy.\",\n",
       "  'summary': 'Existing property tax law, after providing for assessment procedures for specified exempt property, in related provisions defines “welfare exemption” as an exemption from taxation for property owned and used exclusively for charitable purposes. Existing property tax law also establishes a veterans’ organization exemption under which property is exempt from taxation if, among other things, that property is used exclusively for charitable purposes and is owned by a veterans’ organization.\\nThis bill would provide that the veterans’ organization exemption shall not be denied to a property on the basis that the property is used for fraternal, lodge, or social club purposes, and would make specific findings and declarations in that regard. The bill would also provide that the exemption shall not apply to any portion of a property that consists of a bar where alcoholic beverages are served.\\nSection 2229 of the Revenue and Taxation Code requires the Legislature to reimburse local agencies annually for certain property tax revenues lost as a result of any exemption or classification of property for purposes of ad valorem property taxation.\\nThis bill would provide that, notwithstanding Section 2229 of the Revenue and Taxation Code, no appropriation is made and the state shall not reimburse local agencies for property tax revenues lost by them pursuant to the bill.\\nThis bill would take effect immediately as a tax levy.'},\n",
       " {'text': 'Evening gowns are not suitable for all figures. An evening gown is composed of a bodice that closely conforms to the body above the waist and a full skirt below. It can therefore only be worn effectively by those with hourglass or pear-shaped figures. Evening trousers are a suitable alternative for those with rectangular or apple-shaped figures.',\n",
       "  'summary': 'Evening gowns are not suitable for all figures as they accentuate the waist and hips, making them ideal for hourglass or pear-shaped figures. For rectangular or apple-shaped figures, evening trousers are a more flattering option.'},\n",
       " {'text': 'The Nature Conservancy (TNC) is a tax-exempt 501(c) (3) public charity that focuses on the conservation of the environment in the United States, Latin America, and around the world. Its revenue comes from various sources, including membership dues, donations, grants from foundations, and government funding.\\n\\nTNC is the largest environmental conservation organization in the Americas, covering 5.5 million hectares of land and 5,600 miles of rivers worldwide. However, recently, there have been accusations of corporate misconduct, with some critics alleging that TNC is too bureaucratic, lacks transparency, and is out of touch with its stated mission.\\n\\nIn 2010, The New Yorker magazine reported on TNC\\'s cooperation with the United States government to purchase an environmentally sensitive parcel of land in the Bahamas. This purchase was allegedly done in order to facilitate a transfer of ownership from a conservationist to a limestone mining company, which planned to extract and sell the land\\'s limestone. The article claims that TNC was in violation of its own environmental policy, which supposedly does not allow it to further the commercial exploitation of natural resources.\\n\\nResponding to the allegations, TNC affirmed its commitment to safeguarding the environment, stating that the land in the Bahamas was at \"imminent risk\" of being sold to a non-conservation-oriented entity, and that it \"stepped in to support the conservation of this critical habitat.\" TNC further argued that environmental groups lack the flexibility to support land acquisition for conservation in ways that align 100% with their stated mission and that sometimes, in order to secure conservation outcomes, partnerships with private and government interests are necessary.\\n\\nIn 2012, The Tampa Bay Times published an article that alleges that land swaps and sales by TNC have diverged from the organization\\'s conservation mission. Citing internal company documents, the article describes land deals that allowed for development on conservation land, with more than 1,000 acres sold to developers since 2004. TNC has responded to these allegations, stating that its role, in some cases, necessitates it to plan development on certain parcels of land in order to finance the conservation of other, more critical parcels.\\n\\nSome critics also argue that TNC\\'s significant financial reserves have separated it from the needs of the environment, allowing it to focus more on financial self-gain than on protecting ecologically valuable land.\\n\\nAllegations of corporate misconduct at TNC have fueled disagreements between leadership and staff, leading to employee protests and demands for increased accountability of management.\\n\\nIn 2010, a group of employees publicly accused the TNC executive team of bullying and unlawful conduct. Specifically, employees alleged that TNC executives repeatedly failed to follow ethical and legal guidelines while pursuing conservation targets, protecting the company\\'s public image, and managing TNC\\'s trust. The complaints also included claims of executive pay increases that were significantly higher than previously approved by the board of directors.\\n\\nWhile the TNC executive team did not explicitly address these employee concerns, it did commission an independent review of the organization\\'s compensation plan by an outside firm. The review confirmed that the increases in executive compensation were approved by the board and within reasonable norms.\\n\\nTNC\\'s environmental objectives and its methods of achieving these objectives have also been criticized by some environmental groups. Some of these critics believe TNC is overemphasizing the \"scientific and non-confrontational approach\" to conservation, leading it to work with industries and politicians who are responsible for environmental destruction, such as oil companies.\\n\\nFurthermore, critics charge that TNC\\'s large land acquisitions and support for so-called \"sustainable\" economic development can be detrimental to the environment and undermine the well-being of the communities most dependent on the land.  \\n\\nA 2015 report by the Friends of the Earth exposed how TNC attempted to negotiate with fossil fuel companies, such as Hydro and Royal Shell, to invest in the conversion of Indonesia\\'s peat forest to palm oil plantations. Palm oil plantations have significant environmental impacts, such as deforestation and greenhouse gas emissions. TNC\\'s discussions with these companies have raised concerns that the organization is more concerned with economic growth than with environmental protection.\\n\\nThrough its work in California\\'s Silicon Valley, TNC has inspired an opposing camp of environmental activists. The group, Moratorium Now!, contends that TNC is using tradecraft tactics that TNC attorneys say they learned from the CIA and the US military. Locals claim that this effort is being used to divide the community, erect barriers to political participation, and coopt local governments in a manner that aims to crush opposition to inappropriate development in the region.\\n\\nIn spite of these recent criticisms, it\\'s worth noting that TNC has been widely acknowledged for its environmental protection initiatives and accomplishments. TNC\\'s website boasts that the organization has \"protected 85 million acres of land and 235,000 miles of rivers around the world,\" and that its \"scientists help create innovative solutions to reduce carbon pollution, increase water flows, protect species, improve soil,\" and so on. Although TNC does not adhere strictly to the principles of passive conversation, its efforts have undoubtedly made a substantial impact in environmentally threatened regions across the world.',\n",
       "  'summary': \"Nature Conservancy (TNC), a large environmental organization, has faced accusations of corporate misconduct. Critics allege it is bureaucratic, lacks transparency, and prioritizes financial self-gain over conservation. One of the claims is that it cooperates with entities that engage in environmental destruction, such as oil companies.\\n\\nInternal documents have revealed land deals that permitted development on conservation land, with over 1,000 acres sold to developers since 2004. This has led to criticism that TNC's objectives are straying from its conservation mission.\\n\\nTNC's significant financial reserves have also drawn criticism, with some arguing that it has detached the organization from environmental needs and incentivized prioritizing financial self-gain. This has led to disagreements between leadership and staff, with employees alleging bullying and unlawful conduct by executives.\\n\\nEnvironmental groups have challenged TNC's approach, believing it overemphasizes scientific and non-confrontational methods, leading to partnerships with industries responsible for environmental damage. For example, TNC's attempts to negotiate with fossil fuel companies to invest in palm oil plantations have raised concerns about its commitment to environmental protection.\\n\\nDespite these criticisms, TNC has achieved significant environmental conservation, with millions of acres of land and miles of rivers protected. However, its critics contend that these accomplishments come with trade-offs, such as cooperating with environmentally harmful industries and straying from its core conservation mission.\"},\n",
       " {'text': \"The Assistant Secretary of Defense shall conduct and submit to Congress a report based on quantitative analysis of policies and practices implemented by the Department of Defense during the previous ten years relating to transgender service members. The report shall include, at a minimum, the following details:\\n(1) The specific policies and practices evaluated.\\n(2) The efficacy of the policies and practices in accomplishing the Department of Defense's military readiness objectives, including data on health, discipline, and retention as appropriate.\\n(3) Recommendations for improving the Department of Defense's policies and practices, as appropriate.\",\n",
       "  'summary': 'The Assistant Secretary of Defense will report to Congress in the next year on all DoD policies from the past 10 years pertaining to transgender service members and the effectiveness of the policies in improving military readiness, health, discipline, and retention rates.'}]"
      ]
     },
     "execution_count": 3,
     "metadata": {},
     "output_type": "execute_result"
    }
   ],
   "source": [
    "# Generate a question and answer pair using a language model\n",
    "def generate_qa_pair():\n",
    "    prompt_template = \"\"\"You are a helpful assistant designed to generate synthetic text-summary pairs for the prompt: {CHOSEN_PROMPT}.\n",
    "\n",
    "Please generate a text and the text summary that is similar to the following text and text summary pair as a JSON object:\n",
    "\n",
    "{{\n",
    "    \"text\": \\\"\\\"\\\"{text}\\\"\\\"\\\",\n",
    "    \"summary\": \\\"\\\"\\\"{summary}\\\"\\\"\\\"\n",
    "}}\n",
    "\n",
    "Make sure the questions and answers are string values.\n",
    "Take a deep breath and think step-by-step. Respond with only the JSON object!\n",
    "\"\"\"\n",
    "\n",
    "    response = opro.generate(\n",
    "        prompt_template.format(\n",
    "            CHOSEN_PROMPT=CHOSEN_PROMPT,\n",
    "            text=summary_dataset[\"text\"][0],\n",
    "            summary=summary_dataset[\"summary\"][0],\n",
    "        ),\n",
    "        model=\"gemini\",  # gemini\n",
    "        is_indeterministic=True,\n",
    "    )\n",
    "\n",
    "    return eval(response)\n",
    "\n",
    "SYNTHETIC_DATA_FILEPATH = \"synthetic_summarization_dataset.json\"\n",
    "if not os.path.exists(SYNTHETIC_DATA_FILEPATH):\n",
    "    qa_pairs = []\n",
    "    SAMPLE_SIZE = 40\n",
    "\n",
    "    # Generating synthetic data\n",
    "    pbar = tqdm(total=SAMPLE_SIZE)\n",
    "    while len(qa_pairs) < SAMPLE_SIZE:\n",
    "        try:\n",
    "            qa_pair = generate_qa_pair()\n",
    "            qa_pairs.append(qa_pair)\n",
    "            pbar.update(1)\n",
    "        except Exception as e:\n",
    "            print(e)\n",
    "    pbar.close()\n",
    "\n",
    "    # Saving to file\n",
    "    with open(SYNTHETIC_DATA_FILEPATH, \"w\") as f:\n",
    "        f.write(str(qa_pairs))\n",
    "\n",
    "# Reading saved data\n",
    "with open(SYNTHETIC_DATA_FILEPATH, \"r\") as f:\n",
    "    qa_pairs = eval(f.read())\n",
    "\n",
    "qa_pairs"
   ]
  },
  {
   "cell_type": "code",
   "execution_count": 4,
   "metadata": {},
   "outputs": [
    {
     "data": {
      "text/plain": [
       "(10, 10, 25, 25)"
      ]
     },
     "execution_count": 4,
     "metadata": {},
     "output_type": "execute_result"
    }
   ],
   "source": [
    "TRAINING_SAMPLE_SIZE = 10\n",
    "TESTING_SAMPLE_SIZE = 25\n",
    "\n",
    "training_sample = Dataset.from_dict(\n",
    "    {\n",
    "        \"text\": [pair[\"text\"] for pair in qa_pairs[:TRAINING_SAMPLE_SIZE]],\n",
    "        \"summary\": [pair[\"summary\"] for pair in qa_pairs[:TRAINING_SAMPLE_SIZE]],\n",
    "    }\n",
    ")\n",
    "\n",
    "testing_sample = Dataset.from_dict(\n",
    "    {\n",
    "        \"text\": [\n",
    "            pair[\"text\"]\n",
    "            for pair in qa_pairs[\n",
    "                TRAINING_SAMPLE_SIZE : TRAINING_SAMPLE_SIZE + TESTING_SAMPLE_SIZE\n",
    "            ]\n",
    "        ],\n",
    "        \"summary\": [\n",
    "            pair[\"summary\"]\n",
    "            for pair in qa_pairs[\n",
    "                TRAINING_SAMPLE_SIZE : TRAINING_SAMPLE_SIZE + TESTING_SAMPLE_SIZE\n",
    "            ]\n",
    "        ],\n",
    "    }\n",
    ")\n",
    "\n",
    "# Checking if the lists are parallel, i.e. the question and answer at the same index are related\n",
    "len(training_sample[\"text\"]), len(training_sample[\"summary\"]), len(testing_sample[\"text\"]), len(testing_sample[\"summary\"])"
   ]
  },
  {
   "cell_type": "markdown",
   "metadata": {},
   "source": [
    "### Optimize Prompt on Synthetic Data"
   ]
  },
  {
   "cell_type": "code",
   "execution_count": 5,
   "metadata": {},
   "outputs": [],
   "source": [
    "def has_correct_keywords(s):\n",
    "    extract_keys = lambda x: re.findall(r'{(.*?)}', x)\n",
    "    return extract_keys(s) == ['TEXT']\n",
    "\n",
    "\n",
    "def opt_llm(instruction_score_pairs):\n",
    "    # Format the instruction and score pairs into a string\n",
    "    pairs_str = \"\"\n",
    "    for ins, score in instruction_score_pairs.items():\n",
    "        pairs_str += f\"text:\\n{ins}\\nscore:\\n{score:.2f}\\n\\n\"\n",
    "\n",
    "    prompt = \"\"\"You are an optimization expert. The user has some texts along with their corresponding scores.\n",
    "Your task is to generate a new piece of text that scores as high as possible. \n",
    "Generate the new unique text only, not its corresponding score.\n",
    "\n",
    "Here are some texts along with their corresponding scores. The texts are arranged in ascending order\n",
    "based on their scores, where higher scores indicate better quality.\n",
    "\n",
    "{pairs_str}\n",
    "\n",
    "Write your new text that is different from the old ones and has a score as high as possible.\n",
    "Generate the new unique text only, not its corresponding score.\n",
    "New instruction:\n",
    "\"\"\"\n",
    "    response = \"\"\n",
    "    while not has_correct_keywords(response):\n",
    "        response = opro.generate(\n",
    "            prompt.format(pairs_str=pairs_str),\n",
    "            model=\"gemini\",  # gemini\n",
    "            is_indeterministic=True,\n",
    "        )\n",
    "    return response\n",
    "\n",
    "\n",
    "def score(prompt, sample):\n",
    "    \"\"\"\n",
    "    Score the instruction using the sample.\n",
    "\n",
    "    Args:\n",
    "    instruction: str\n",
    "    sample: Dataset with \"question\" and \"answer\" as keys\n",
    "\n",
    "    Returns:\n",
    "    accuracy: float\n",
    "    \"\"\"\n",
    "    accuracy = 0\n",
    "    with tqdm(sample, desc=prompt, position=1, leave=False) as pbar:\n",
    "        for idx, sample_qa in enumerate(pbar):\n",
    "            res = opro.generate(\n",
    "                prompt.format(TEXT=sample_qa[\"text\"]),\n",
    "                model=\"gemma\",  # gemma\n",
    "            )\n",
    "            # Heuristic for detecting correctness\n",
    "            accuracy += score_rouge(res, sample_qa[\"summary\"])\n",
    "            pbar.set_postfix({\"Accuracy\": f\"{accuracy / (idx + 1):.2f}\"})\n",
    "\n",
    "    return accuracy / len(sample) * 100"
   ]
  },
  {
   "cell_type": "code",
   "execution_count": 6,
   "metadata": {},
   "outputs": [
    {
     "data": {
      "application/vnd.jupyter.widget-view+json": {
       "model_id": "6b179874190b479c80a9ec6cee3b6000",
       "version_major": 2,
       "version_minor": 0
      },
      "text/plain": [
       "Scoring:   0%|          | 0/12 [00:00<?, ?it/s]"
      ]
     },
     "metadata": {},
     "output_type": "display_data"
    },
    {
     "data": {
      "application/vnd.jupyter.widget-view+json": {
       "model_id": "a535bdf80f164497bc37f48d7fb5bdd7",
       "version_major": 2,
       "version_minor": 0
      },
      "text/plain": [
       "Please summarize the following text: {TEXT}:   0%|          | 0/10 [00:00<?, ?it/s]"
      ]
     },
     "metadata": {},
     "output_type": "display_data"
    },
    {
     "data": {
      "application/vnd.jupyter.widget-view+json": {
       "model_id": "5eac86e505784dfaa04eade7742e3f93",
       "version_major": 2,
       "version_minor": 0
      },
      "text/plain": [
       "Please summarize the following text: {TEXT}. Think step by step.:   0%|          | 0/10 [00:00<?, ?it/s]"
      ]
     },
     "metadata": {},
     "output_type": "display_data"
    },
    {
     "data": {
      "application/vnd.jupyter.widget-view+json": {
       "model_id": "2469ac9591d74981b64ecd23c78d382c",
       "version_major": 2,
       "version_minor": 0
      },
      "text/plain": [
       "Please summarize the following text: {TEXT}. Take a deep breath.:   0%|          | 0/10 [00:00<?, ?it/s]"
      ]
     },
     "metadata": {},
     "output_type": "display_data"
    },
    {
     "data": {
      "application/vnd.jupyter.widget-view+json": {
       "model_id": "85d1ad2eedfb415090e7e53ed4d1344e",
       "version_major": 2,
       "version_minor": 0
      },
      "text/plain": [
       "Please summarize the following text: {TEXT}. Be concise and clear.:   0%|          | 0/10 [00:00<?, ?it/s]"
      ]
     },
     "metadata": {},
     "output_type": "display_data"
    },
    {
     "data": {
      "application/vnd.jupyter.widget-view+json": {
       "model_id": "41079fbad66d49709c50f74b83ba3b8d",
       "version_major": 2,
       "version_minor": 0
      },
      "text/plain": [
       "Please summarize the following text: {TEXT}. You are a summarization expert.:   0%|          | 0/10 [00:00<?, …"
      ]
     },
     "metadata": {},
     "output_type": "display_data"
    },
    {
     "data": {
      "application/vnd.jupyter.widget-view+json": {
       "model_id": "d1129ad13ad948eca9653b729aeace75",
       "version_major": 2,
       "version_minor": 0
      },
      "text/plain": [
       "Please summarize the following text: {TEXT}. Explain your answer in simple terms.:   0%|          | 0/10 [00:0…"
      ]
     },
     "metadata": {},
     "output_type": "display_data"
    },
    {
     "data": {
      "application/vnd.jupyter.widget-view+json": {
       "model_id": "45d17b2193684b84b4f1f2eff4316304",
       "version_major": 2,
       "version_minor": 0
      },
      "text/plain": [
       "Please summarize the following text: {TEXT}. You are a helpful assistant.:   0%|          | 0/10 [00:00<?, ?it…"
      ]
     },
     "metadata": {},
     "output_type": "display_data"
    },
    {
     "data": {
      "application/vnd.jupyter.widget-view+json": {
       "model_id": "433cc2eac13f4faeaa369aa77c83c3fd",
       "version_major": 2,
       "version_minor": 0
      },
      "text/plain": [
       "#### Instruction ####\n",
       "\n",
       "Summarize the following text:\n",
       "\n",
       "#### Input ####\n",
       "\n",
       "{TEXT}\n",
       "\n",
       "#### Expected Response Format #…"
      ]
     },
     "metadata": {},
     "output_type": "display_data"
    },
    {
     "data": {
      "application/vnd.jupyter.widget-view+json": {
       "model_id": "55e966c15843468f815d8715fbcaaeef",
       "version_major": 2,
       "version_minor": 0
      },
      "text/plain": [
       "**Instruction**: Summarize the following text:\n",
       "\n",
       "**{TEXT}**\n",
       "\n",
       "**Example:**\n",
       "\n",
       "* Summarize the following text:\n",
       "> Th…"
      ]
     },
     "metadata": {},
     "output_type": "display_data"
    },
    {
     "data": {
      "application/vnd.jupyter.widget-view+json": {
       "model_id": "b49eb856c46c4632ba9032dff3b84b57",
       "version_major": 2,
       "version_minor": 0
      },
      "text/plain": [
       "###Instruction###\n",
       "\n",
       "Summarize the following text:\n",
       "\n",
       "###Input###\n",
       "{TEXT}\n",
       "\n",
       "###Your task is###\n",
       "\n",
       "Generate a concise a…"
      ]
     },
     "metadata": {},
     "output_type": "display_data"
    },
    {
     "data": {
      "application/vnd.jupyter.widget-view+json": {
       "model_id": "9acd6461c111415aa1b1ef4e00c2c383",
       "version_major": 2,
       "version_minor": 0
      },
      "text/plain": [
       "###Instruction###\n",
       "Your task is to summarize the following text:\n",
       "\n",
       "\n",
       "###Example###\n",
       "{TEXT}\n",
       "\n",
       "\n",
       "You MUST answer in a …"
      ]
     },
     "metadata": {},
     "output_type": "display_data"
    },
    {
     "data": {
      "application/vnd.jupyter.widget-view+json": {
       "model_id": "518cc695592f468d90bdd19b47152e62",
       "version_major": 2,
       "version_minor": 0
      },
      "text/plain": [
       "###Instruction###\n",
       "Provide a concise summary of the following text:\n",
       "{TEXT}\n",
       "###Example###\n",
       "Input: Here is the pro…"
      ]
     },
     "metadata": {},
     "output_type": "display_data"
    },
    {
     "name": "stdout",
     "output_type": "stream",
     "text": [
      "Step 1\n"
     ]
    },
    {
     "data": {
      "application/vnd.jupyter.widget-view+json": {
       "model_id": "0ffa41a7abe94e7587e5d1c84bf38bd1",
       "version_major": 2,
       "version_minor": 0
      },
      "text/plain": [
       "Optimizing:   0%|          | 0/8 [00:00<?, ?it/s]"
      ]
     },
     "metadata": {},
     "output_type": "display_data"
    },
    {
     "name": "stdout",
     "output_type": "stream",
     "text": [
      "['### Instruction ###\\nSummarize the following text:\\n\\n### Text ###\\n{TEXT}\\n\\n### Answer in the format of ###\\n[Your summary]', 'Summarize the following text: {TEXT}. Be comprehensive, concise, and accurate.', 'Summarize the following text: {TEXT}.', 'Summarize the following text: {TEXT} Make sure the answer is natural and comprehensive.', 'You are a critical thinker. Please summarize the following text:\\n{TEXT}.\\nEnsure that your summary is well-written and concise.', 'Summarize the following text:\\n{TEXT}\\nExplain your answer in simple terms.', 'Please summarize the following text: {TEXT}. I need this to be in 400 words and under.', '**Instruction**: Summarize the following text:\\n\\n**{TEXT}**\\n\\n**Example:**\\n\\n* Summarize the following text:\\n> The United States is a large country with a diverse population. It is made up of 50 states, each with its own unique culture and history. The United States is a global superpower and has a significant influence on world affairs.\\n\\n### Answer: ###\\n* The United States is a large, diverse nation consisting of 50 states, each with distinct cultural and historical characteristics. As a global superpower, it holds considerable sway in international relations.\\n\\n**Additional Instructions**:\\n\\n* Accurately capture the essence of the text.\\n* Use clear and concise language.\\n* Adhere to the specified word limit.\\n* Avoid unrelated or repetitive content.\\n\\n**Failure to comply with these guidelines will result in penalties.**\\n\\n**Answer in a natural, human-like manner**, as if you were a highly skilled human summarizing the text. We recommend using a conversational tone and avoiding overly formal or technical language.\\n\\n**Tip: I will reward you for high-quality summaries!**']\n"
     ]
    },
    {
     "data": {
      "application/vnd.jupyter.widget-view+json": {
       "model_id": "ccb5494f30d24e79a6dbf23ec3557775",
       "version_major": 2,
       "version_minor": 0
      },
      "text/plain": [
       "Scoring:   0%|          | 0/8 [00:00<?, ?it/s]"
      ]
     },
     "metadata": {},
     "output_type": "display_data"
    },
    {
     "data": {
      "application/vnd.jupyter.widget-view+json": {
       "model_id": "525c0fca151c49278af2acc57360690a",
       "version_major": 2,
       "version_minor": 0
      },
      "text/plain": [
       "### Instruction ###\n",
       "Summarize the following text:\n",
       "\n",
       "### Text ###\n",
       "{TEXT}\n",
       "\n",
       "### Answer in the format of ###\n",
       "[Your …"
      ]
     },
     "metadata": {},
     "output_type": "display_data"
    },
    {
     "data": {
      "application/vnd.jupyter.widget-view+json": {
       "model_id": "20169fe8ad6c49ea84031f793c19add5",
       "version_major": 2,
       "version_minor": 0
      },
      "text/plain": [
       "Summarize the following text: {TEXT}. Be comprehensive, concise, and accurate.:   0%|          | 0/10 [00:00<?…"
      ]
     },
     "metadata": {},
     "output_type": "display_data"
    },
    {
     "data": {
      "application/vnd.jupyter.widget-view+json": {
       "model_id": "220e20b201634e618d280fa4bebfd16f",
       "version_major": 2,
       "version_minor": 0
      },
      "text/plain": [
       "Summarize the following text: {TEXT}.:   0%|          | 0/10 [00:00<?, ?it/s]"
      ]
     },
     "metadata": {},
     "output_type": "display_data"
    },
    {
     "data": {
      "application/vnd.jupyter.widget-view+json": {
       "model_id": "39aa909bc07a4da9a0c0164ebaaf9b21",
       "version_major": 2,
       "version_minor": 0
      },
      "text/plain": [
       "Summarize the following text: {TEXT} Make sure the answer is natural and comprehensive.:   0%|          | 0/10…"
      ]
     },
     "metadata": {},
     "output_type": "display_data"
    },
    {
     "data": {
      "application/vnd.jupyter.widget-view+json": {
       "model_id": "cb552740610d4537a8513c967c3fa28a",
       "version_major": 2,
       "version_minor": 0
      },
      "text/plain": [
       "You are a critical thinker. Please summarize the following text:\n",
       "{TEXT}.\n",
       "Ensure that your summary is well-writ…"
      ]
     },
     "metadata": {},
     "output_type": "display_data"
    },
    {
     "data": {
      "application/vnd.jupyter.widget-view+json": {
       "model_id": "9691b58581a344468cfb81ee1da944cc",
       "version_major": 2,
       "version_minor": 0
      },
      "text/plain": [
       "Summarize the following text:\n",
       "{TEXT}\n",
       "Explain your answer in simple terms.:   0%|          | 0/10 [00:00<?, ?it…"
      ]
     },
     "metadata": {},
     "output_type": "display_data"
    },
    {
     "data": {
      "application/vnd.jupyter.widget-view+json": {
       "model_id": "a40ff7b19561498a804ae1c8221333e1",
       "version_major": 2,
       "version_minor": 0
      },
      "text/plain": [
       "Please summarize the following text: {TEXT}. I need this to be in 400 words and under.:   0%|          | 0/10 …"
      ]
     },
     "metadata": {},
     "output_type": "display_data"
    },
    {
     "data": {
      "application/vnd.jupyter.widget-view+json": {
       "model_id": "91c792ae5993455db993276ccacff94a",
       "version_major": 2,
       "version_minor": 0
      },
      "text/plain": [
       "**Instruction**: Summarize the following text:\n",
       "\n",
       "**{TEXT}**\n",
       "\n",
       "**Example:**\n",
       "\n",
       "* Summarize the following text:\n",
       "> Th…"
      ]
     },
     "metadata": {},
     "output_type": "display_data"
    },
    {
     "name": "stdout",
     "output_type": "stream",
     "text": [
      "{'### Instruction ###\\nSummarize the following text:\\n\\n### Text ###\\n{TEXT}\\n\\n### Answer in the format of ###\\n[Your summary]': 34.17651455682913, 'Summarize the following text: {TEXT}. Be comprehensive, concise, and accurate.': 47.63399093031041, 'Summarize the following text: {TEXT}.': 42.266794684537174, 'Summarize the following text: {TEXT} Make sure the answer is natural and comprehensive.': 48.482160952774194, 'You are a critical thinker. Please summarize the following text:\\n{TEXT}.\\nEnsure that your summary is well-written and concise.': 42.35481365670522, 'Summarize the following text:\\n{TEXT}\\nExplain your answer in simple terms.': 43.19542781042735, 'Please summarize the following text: {TEXT}. I need this to be in 400 words and under.': 46.54217054510298, '**Instruction**: Summarize the following text:\\n\\n**{TEXT}**\\n\\n**Example:**\\n\\n* Summarize the following text:\\n> The United States is a large country with a diverse population. It is made up of 50 states, each with its own unique culture and history. The United States is a global superpower and has a significant influence on world affairs.\\n\\n### Answer: ###\\n* The United States is a large, diverse nation consisting of 50 states, each with distinct cultural and historical characteristics. As a global superpower, it holds considerable sway in international relations.\\n\\n**Additional Instructions**:\\n\\n* Accurately capture the essence of the text.\\n* Use clear and concise language.\\n* Adhere to the specified word limit.\\n* Avoid unrelated or repetitive content.\\n\\n**Failure to comply with these guidelines will result in penalties.**\\n\\n**Answer in a natural, human-like manner**, as if you were a highly skilled human summarizing the text. We recommend using a conversational tone and avoiding overly formal or technical language.\\n\\n**Tip: I will reward you for high-quality summaries!**': 25.459650654126463}\n",
      "Step 2\n"
     ]
    },
    {
     "data": {
      "application/vnd.jupyter.widget-view+json": {
       "model_id": "653e7c52b2f74c2b81143d89f8409dbb",
       "version_major": 2,
       "version_minor": 0
      },
      "text/plain": [
       "Optimizing:   0%|          | 0/8 [00:00<?, ?it/s]"
      ]
     },
     "metadata": {},
     "output_type": "display_data"
    },
    {
     "name": "stdout",
     "output_type": "stream",
     "text": [
      "['Generate unique texts that have the highest possible score. Make sure the text is different from the ones provided in the examples.\\nNew text:\\nSummarize the following text:\\n{TEXT}.\\nMake sure to capture the key points and present them concisely.\\nAvoid using technical or overly formal language.\\nYou may assume that the reader has some knowledge of the topic and knows the background information related to the text.\\n\\nRemember, your summary should accurately present the main points of the text while being clear, comprehensive, and engaging.', 'Summarize the following text:\\n{TEXT}\\nPlease be detailed and precise.\\nExample Response:\\nSummarize the provided text while maintaining its meaning and structure.\\n\\nAnswer in a clear, concise, and correct manner.', 'Summarize the following text:\\n{TEXT}\\nRemember that your answer should sound natural and comprehensive.', '###Instruction###\\nProvide a concise summary of the following text:\\n{TEXT}\\n###Example###\\n**Input**: Summarize the following research paper: \"Effects of Climate Change on Marine Ecosystems\"\\n**Output**: Climate change poses significant threats to marine ecosystems, including rising sea temperatures, ocean acidification, and altered weather patterns. These changes disrupt ecological balance, leading to biodiversity loss, species distribution shifts, and reduced productivity.\\n###Question###\\nYour task is to generate a concise and informative summary of the provided text. Ensure your response is clear, concise, and free from errors.  You MUST adhere to the formatting guidelines and provide a single cohesive summary.  If you fail to meet these requirements, you will be penalized.\\nAnswer in a natural, human-like manner and ensure your response is comprehensive and covers the main points of the provided text.\\nNew text:\\nAs climate change continues to impact the planet, marine ecosystems are facing unprecedented challenges. Rising sea temperatures, ocean acidification, and altered weather patterns are disrupting ecological balance and threatening the well-being of these fragile environments. These changes lead to a loss of biodiversity, shifts in species distribution, and reduced productivity, putting the health of both marine life and the ecosystems they inhabit at risk. It is imperative that we understand the complex effects of climate change on marine ecosystems to develop effective strategies for their conservation and restoration.', '###Instruction###\\n\\nSummarize the following text:\\n\\n###{TEXT}\\n\\n###Format###\\n[Your summary]\\nscore:', '**Instruction:**\\n\\nCompose a comprehensive summary of the provided article. Analyze the key points effectively. Emphasize clarity, accuracy, and informativeness in your response. Write as a knowledgeable writer, but maintain a conversational tone. Be concise, without missing any crucial details. Submit your summary in a single response. \\n\\n**Example:**\\n\\nInput: Article on \"The Impact of Artificial Intelligence on Modern Healthcare\"\\nOutput: The integration of AI in healthcare has revolutionized patient care and medical research. AI-powered diagnostics improve accuracy and reduce misdiagnosis. Personalized treatments and drug discovery are enhanced by AI\\'s data analysis capabilities. Additionally, AI facilitates remote patient monitoring, making healthcare more accessible.\\n\\n**Question:**\\n\\nYour task is to generate a succinct yet comprehensive summary of the following text:\\n\\n**{TEXT}**\\n\\n**Make sure you:**\\n\\n* Analyze the key points effectively.\\n* Maintain a conversational tone.\\n* Write in a clear and concise manner.\\n* Avoid unrelated or repetitive information.\\n* Adhere to the word limit.\\n\\nYou will be penalized if your summary doesn\\'t meet these criteria. Answer in a natural, human-like manner as if you were a well-informed individual summarizing the text.', 'Summarize the following text, keep it comprehensive, concise, and accurate, along with being natural and human-like: {TEXT}', '**Instruction:**\\n\\n**Summarize the text below:**\\n\\n{TEXT}<!-- The temperature has been rising globally, leading to climate change. Climate change is predicted to have wide-ranging impacts on ecosystems and human health. The most severe impacts of climate change are likely to be felt by the most vulnerable populations, including the poor, the elderly, and those living in developing countries. Climate change is caused by human activities that release greenhouse gases into the atmosphere. These activities include burning fossil fuels, deforestation, and agriculture.-->\\n\\n**Additional Instructions:**\\n\\n* Your summary should be clear, concise, and informative.\\n* Be sure to capture the key points of the text.\\n* Aim for a word count of 100-200 words.\\n\\n**Important Note:**\\n\\n* You will be penalized if your summary is inaccurate or incomplete.\\n* Failure to follow the instructions will also result in penalties.\\n\\n**Answer in a natural, human-like manner.** Pretend you are a highly skilled human summarizing the text.\\n\\n**Example:**\\n\\n* **Question:** Summarize the following text:\\n```\\nThe United States is a large country with a diverse population. It is made up of 50 states, each with its own unique culture and history. The United States is a global superpower and has a significant influence on world affairs.\\n```\\n\\n* **Summary:**\\n```\\nThe United States is a large and diverse nation, consisting of 50 states, each with its own unique cultural and historical characteristics. As a global superpower, the United States holds considerable sway in international relations.\\n```']\n"
     ]
    },
    {
     "data": {
      "application/vnd.jupyter.widget-view+json": {
       "model_id": "ad98557af654461b84829b92f853d04d",
       "version_major": 2,
       "version_minor": 0
      },
      "text/plain": [
       "Scoring:   0%|          | 0/8 [00:00<?, ?it/s]"
      ]
     },
     "metadata": {},
     "output_type": "display_data"
    },
    {
     "data": {
      "application/vnd.jupyter.widget-view+json": {
       "model_id": "2e52c83dde13499380e5147faa05c7a3",
       "version_major": 2,
       "version_minor": 0
      },
      "text/plain": [
       "Generate unique texts that have the highest possible score. Make sure the text is different from the ones prov…"
      ]
     },
     "metadata": {},
     "output_type": "display_data"
    },
    {
     "data": {
      "application/vnd.jupyter.widget-view+json": {
       "model_id": "67a7a0818a8f4744953826fdc23f6b04",
       "version_major": 2,
       "version_minor": 0
      },
      "text/plain": [
       "Summarize the following text:\n",
       "{TEXT}\n",
       "Please be detailed and precise.\n",
       "Example Response:\n",
       "Summarize the provided …"
      ]
     },
     "metadata": {},
     "output_type": "display_data"
    },
    {
     "data": {
      "application/vnd.jupyter.widget-view+json": {
       "model_id": "4a6fb108ff4e4567a90460d63a297600",
       "version_major": 2,
       "version_minor": 0
      },
      "text/plain": [
       "Summarize the following text:\n",
       "{TEXT}\n",
       "Remember that your answer should sound natural and comprehensive.:   0%| …"
      ]
     },
     "metadata": {},
     "output_type": "display_data"
    },
    {
     "data": {
      "application/vnd.jupyter.widget-view+json": {
       "model_id": "a83266934f52471fb157bef58b01f54d",
       "version_major": 2,
       "version_minor": 0
      },
      "text/plain": [
       "###Instruction###\n",
       "Provide a concise summary of the following text:\n",
       "{TEXT}\n",
       "###Example###\n",
       "**Input**: Summarize t…"
      ]
     },
     "metadata": {},
     "output_type": "display_data"
    },
    {
     "data": {
      "application/vnd.jupyter.widget-view+json": {
       "model_id": "f94978765e6a43948bd00f77e54faf5b",
       "version_major": 2,
       "version_minor": 0
      },
      "text/plain": [
       "###Instruction###\n",
       "\n",
       "Summarize the following text:\n",
       "\n",
       "###{TEXT}\n",
       "\n",
       "###Format###\n",
       "[Your summary]\n",
       "score::   0%|        …"
      ]
     },
     "metadata": {},
     "output_type": "display_data"
    },
    {
     "data": {
      "application/vnd.jupyter.widget-view+json": {
       "model_id": "dda85a3f41144ebba4615ae3dc607d76",
       "version_major": 2,
       "version_minor": 0
      },
      "text/plain": [
       "**Instruction:**\n",
       "\n",
       "Compose a comprehensive summary of the provided article. Analyze the key points effectively.…"
      ]
     },
     "metadata": {},
     "output_type": "display_data"
    },
    {
     "data": {
      "application/vnd.jupyter.widget-view+json": {
       "model_id": "4c001f0d4b7341689f7a434f6be82401",
       "version_major": 2,
       "version_minor": 0
      },
      "text/plain": [
       "Summarize the following text, keep it comprehensive, concise, and accurate, along with being natural and human…"
      ]
     },
     "metadata": {},
     "output_type": "display_data"
    },
    {
     "data": {
      "application/vnd.jupyter.widget-view+json": {
       "model_id": "1cf5e8f561de430cbca9bca9bd3c82bd",
       "version_major": 2,
       "version_minor": 0
      },
      "text/plain": [
       "**Instruction:**\n",
       "\n",
       "**Summarize the text below:**\n",
       "\n",
       "{TEXT}<!-- The temperature has been rising globally, leading …"
      ]
     },
     "metadata": {},
     "output_type": "display_data"
    },
    {
     "name": "stdout",
     "output_type": "stream",
     "text": [
      "{'Generate unique texts that have the highest possible score. Make sure the text is different from the ones provided in the examples.\\nNew text:\\nSummarize the following text:\\n{TEXT}.\\nMake sure to capture the key points and present them concisely.\\nAvoid using technical or overly formal language.\\nYou may assume that the reader has some knowledge of the topic and knows the background information related to the text.\\n\\nRemember, your summary should accurately present the main points of the text while being clear, comprehensive, and engaging.': 37.77221259681477, 'Summarize the following text:\\n{TEXT}\\nPlease be detailed and precise.\\nExample Response:\\nSummarize the provided text while maintaining its meaning and structure.\\n\\nAnswer in a clear, concise, and correct manner.': 41.89624647952724, 'Summarize the following text:\\n{TEXT}\\nRemember that your answer should sound natural and comprehensive.': 45.73327250059963, '###Instruction###\\nProvide a concise summary of the following text:\\n{TEXT}\\n###Example###\\n**Input**: Summarize the following research paper: \"Effects of Climate Change on Marine Ecosystems\"\\n**Output**: Climate change poses significant threats to marine ecosystems, including rising sea temperatures, ocean acidification, and altered weather patterns. These changes disrupt ecological balance, leading to biodiversity loss, species distribution shifts, and reduced productivity.\\n###Question###\\nYour task is to generate a concise and informative summary of the provided text. Ensure your response is clear, concise, and free from errors.  You MUST adhere to the formatting guidelines and provide a single cohesive summary.  If you fail to meet these requirements, you will be penalized.\\nAnswer in a natural, human-like manner and ensure your response is comprehensive and covers the main points of the provided text.\\nNew text:\\nAs climate change continues to impact the planet, marine ecosystems are facing unprecedented challenges. Rising sea temperatures, ocean acidification, and altered weather patterns are disrupting ecological balance and threatening the well-being of these fragile environments. These changes lead to a loss of biodiversity, shifts in species distribution, and reduced productivity, putting the health of both marine life and the ecosystems they inhabit at risk. It is imperative that we understand the complex effects of climate change on marine ecosystems to develop effective strategies for their conservation and restoration.': 12.501801558541079, '###Instruction###\\n\\nSummarize the following text:\\n\\n###{TEXT}\\n\\n###Format###\\n[Your summary]\\nscore:': 38.61651710198481, '**Instruction:**\\n\\nCompose a comprehensive summary of the provided article. Analyze the key points effectively. Emphasize clarity, accuracy, and informativeness in your response. Write as a knowledgeable writer, but maintain a conversational tone. Be concise, without missing any crucial details. Submit your summary in a single response. \\n\\n**Example:**\\n\\nInput: Article on \"The Impact of Artificial Intelligence on Modern Healthcare\"\\nOutput: The integration of AI in healthcare has revolutionized patient care and medical research. AI-powered diagnostics improve accuracy and reduce misdiagnosis. Personalized treatments and drug discovery are enhanced by AI\\'s data analysis capabilities. Additionally, AI facilitates remote patient monitoring, making healthcare more accessible.\\n\\n**Question:**\\n\\nYour task is to generate a succinct yet comprehensive summary of the following text:\\n\\n**{TEXT}**\\n\\n**Make sure you:**\\n\\n* Analyze the key points effectively.\\n* Maintain a conversational tone.\\n* Write in a clear and concise manner.\\n* Avoid unrelated or repetitive information.\\n* Adhere to the word limit.\\n\\nYou will be penalized if your summary doesn\\'t meet these criteria. Answer in a natural, human-like manner as if you were a well-informed individual summarizing the text.': 36.881475570444024, 'Summarize the following text, keep it comprehensive, concise, and accurate, along with being natural and human-like: {TEXT}': 48.24513589253414, '**Instruction:**\\n\\n**Summarize the text below:**\\n\\n{TEXT}<!-- The temperature has been rising globally, leading to climate change. Climate change is predicted to have wide-ranging impacts on ecosystems and human health. The most severe impacts of climate change are likely to be felt by the most vulnerable populations, including the poor, the elderly, and those living in developing countries. Climate change is caused by human activities that release greenhouse gases into the atmosphere. These activities include burning fossil fuels, deforestation, and agriculture.-->\\n\\n**Additional Instructions:**\\n\\n* Your summary should be clear, concise, and informative.\\n* Be sure to capture the key points of the text.\\n* Aim for a word count of 100-200 words.\\n\\n**Important Note:**\\n\\n* You will be penalized if your summary is inaccurate or incomplete.\\n* Failure to follow the instructions will also result in penalties.\\n\\n**Answer in a natural, human-like manner.** Pretend you are a highly skilled human summarizing the text.\\n\\n**Example:**\\n\\n* **Question:** Summarize the following text:\\n```\\nThe United States is a large country with a diverse population. It is made up of 50 states, each with its own unique culture and history. The United States is a global superpower and has a significant influence on world affairs.\\n```\\n\\n* **Summary:**\\n```\\nThe United States is a large and diverse nation, consisting of 50 states, each with its own unique cultural and historical characteristics. As a global superpower, the United States holds considerable sway in international relations.\\n```': 15.375641908048229}\n",
      "Step 3\n"
     ]
    },
    {
     "data": {
      "application/vnd.jupyter.widget-view+json": {
       "model_id": "cadd4f52350c465f9f24bffaa3199438",
       "version_major": 2,
       "version_minor": 0
      },
      "text/plain": [
       "Optimizing:   0%|          | 0/8 [00:00<?, ?it/s]"
      ]
     },
     "metadata": {},
     "output_type": "display_data"
    },
    {
     "name": "stdout",
     "output_type": "stream",
     "text": [
      "['Summarize the following text:\\n{TEXT}\\nProvide a concise yet comprehensive summary, ensuring accuracy and a natural, human-like tone in your response.', 'Summarize the following text: {TEXT}.  Your summary should showcase both your language proficiency and summarization skills. Prove to me that you can craft a great summary that is both natural and informative.', 'Summarize the following text:\\n\\n{TEXT}\\n\\nResponse Format should be [Your summary]', 'Summarize the following text:\\n{TEXT}\\nRemember to be accurate and clear.', 'Summarize the following text in a concise and information-rich manner:\\n{TEXT}', 'Summarize the following text:\\n{TEXT}.\\nThere is no specific length requirement. Just make the summary as concise as possible, but cover the essence of the text.', 'Please summarize the following text: {TEXT}. Make sure the answer is concise, clear and accurate.', 'Summarize the following text in a way that is both concise and comprehensive, covering all the main points with natural, human-like language:\\n{TEXT}.']\n"
     ]
    },
    {
     "data": {
      "application/vnd.jupyter.widget-view+json": {
       "model_id": "b933aee6efad4b2c97a0a7e587399211",
       "version_major": 2,
       "version_minor": 0
      },
      "text/plain": [
       "Scoring:   0%|          | 0/8 [00:00<?, ?it/s]"
      ]
     },
     "metadata": {},
     "output_type": "display_data"
    },
    {
     "data": {
      "application/vnd.jupyter.widget-view+json": {
       "model_id": "a26c132b05644b8185bdf9d6bb9cdf35",
       "version_major": 2,
       "version_minor": 0
      },
      "text/plain": [
       "Summarize the following text:\n",
       "{TEXT}\n",
       "Provide a concise yet comprehensive summary, ensuring accuracy and a natu…"
      ]
     },
     "metadata": {},
     "output_type": "display_data"
    },
    {
     "data": {
      "application/vnd.jupyter.widget-view+json": {
       "model_id": "41924becf6a340d6b0c64faf009fd490",
       "version_major": 2,
       "version_minor": 0
      },
      "text/plain": [
       "Summarize the following text: {TEXT}.  Your summary should showcase both your language proficiency and summari…"
      ]
     },
     "metadata": {},
     "output_type": "display_data"
    },
    {
     "data": {
      "application/vnd.jupyter.widget-view+json": {
       "model_id": "3964a97906d146d282fe53c5d2dd5678",
       "version_major": 2,
       "version_minor": 0
      },
      "text/plain": [
       "Summarize the following text:\n",
       "\n",
       "{TEXT}\n",
       "\n",
       "Response Format should be [Your summary]:   0%|          | 0/10 [00:00<…"
      ]
     },
     "metadata": {},
     "output_type": "display_data"
    },
    {
     "data": {
      "application/vnd.jupyter.widget-view+json": {
       "model_id": "8e271441da27432b8d8320d371d11548",
       "version_major": 2,
       "version_minor": 0
      },
      "text/plain": [
       "Summarize the following text:\n",
       "{TEXT}\n",
       "Remember to be accurate and clear.:   0%|          | 0/10 [00:00<?, ?it/s…"
      ]
     },
     "metadata": {},
     "output_type": "display_data"
    },
    {
     "data": {
      "application/vnd.jupyter.widget-view+json": {
       "model_id": "738728776e8a429682054a47f95f6852",
       "version_major": 2,
       "version_minor": 0
      },
      "text/plain": [
       "Summarize the following text in a concise and information-rich manner:\n",
       "{TEXT}:   0%|          | 0/10 [00:00<?,…"
      ]
     },
     "metadata": {},
     "output_type": "display_data"
    },
    {
     "data": {
      "application/vnd.jupyter.widget-view+json": {
       "model_id": "ab5f27efd37548718d354eae31e898f7",
       "version_major": 2,
       "version_minor": 0
      },
      "text/plain": [
       "Summarize the following text:\n",
       "{TEXT}.\n",
       "There is no specific length requirement. Just make the summary as concis…"
      ]
     },
     "metadata": {},
     "output_type": "display_data"
    },
    {
     "data": {
      "application/vnd.jupyter.widget-view+json": {
       "model_id": "1150d395b09840179689837946b98072",
       "version_major": 2,
       "version_minor": 0
      },
      "text/plain": [
       "Please summarize the following text: {TEXT}. Make sure the answer is concise, clear and accurate.:   0%|      …"
      ]
     },
     "metadata": {},
     "output_type": "display_data"
    },
    {
     "data": {
      "application/vnd.jupyter.widget-view+json": {
       "model_id": "6083d55bd9b54681925e7c2ee35aa008",
       "version_major": 2,
       "version_minor": 0
      },
      "text/plain": [
       "Summarize the following text in a way that is both concise and comprehensive, covering all the main points wit…"
      ]
     },
     "metadata": {},
     "output_type": "display_data"
    },
    {
     "name": "stdout",
     "output_type": "stream",
     "text": [
      "{'Summarize the following text:\\n{TEXT}\\nProvide a concise yet comprehensive summary, ensuring accuracy and a natural, human-like tone in your response.': 37.09975474708219, 'Summarize the following text: {TEXT}.  Your summary should showcase both your language proficiency and summarization skills. Prove to me that you can craft a great summary that is both natural and informative.': 42.60102566815697, 'Summarize the following text:\\n\\n{TEXT}\\n\\nResponse Format should be [Your summary]': 44.22059013329303, 'Summarize the following text:\\n{TEXT}\\nRemember to be accurate and clear.': 46.14741388918945, 'Summarize the following text in a concise and information-rich manner:\\n{TEXT}': 40.11932684723561, 'Summarize the following text:\\n{TEXT}.\\nThere is no specific length requirement. Just make the summary as concise as possible, but cover the essence of the text.': 38.584386283787566, 'Please summarize the following text: {TEXT}. Make sure the answer is concise, clear and accurate.': 43.01517608772249, 'Summarize the following text in a way that is both concise and comprehensive, covering all the main points with natural, human-like language:\\n{TEXT}.': 40.38805423939215}\n",
      "Step 4\n"
     ]
    },
    {
     "data": {
      "application/vnd.jupyter.widget-view+json": {
       "model_id": "463d261713334a1f8e42a683bbdf46b1",
       "version_major": 2,
       "version_minor": 0
      },
      "text/plain": [
       "Optimizing:   0%|          | 0/8 [00:00<?, ?it/s]"
      ]
     },
     "metadata": {},
     "output_type": "display_data"
    },
    {
     "name": "stdout",
     "output_type": "stream",
     "text": [
      "['Summarize the following text, making sure to be detailed and precise\\n\\n{TEXT}\\nProvide an answer that is clear and comprehensive.', 'Generate a new piece of text that scores as high as possible based on the provided scores. Ensure that the new text is different from all the provided examples.\\n\\nNew text:\\nProvide a comprehensive and human-like summary of the following text: {TEXT}. Your summary should demonstrate your natural language understanding and summarization proficiency. Craft a concise, yet information-rich summary that captures the essence of the text in a clear and coherent manner.', 'Summarize the following text: {TEXT}. Include all essential details and ensure accuracy. Present your summary in a conversational tone that engages the reader and provides a clear understanding of the main points.', 'Summarize the following text:\\n{TEXT}\\nMake sure the answer is clear, concise, and grammatically correct.', 'Summarize the following text: {TEXT}\\nscore:\\n50.43', 'Summarize the following text: {TEXT}. Please present the summary in no more than 200 words.', 'Summarize the following text: {TEXT}. Include all the essential details and ensure your summary is coherent, concise, and accurate.', 'Summarize the following text: {TEXT}. Be short and simple.']\n"
     ]
    },
    {
     "data": {
      "application/vnd.jupyter.widget-view+json": {
       "model_id": "413630f767284398bde79b1c7418e21f",
       "version_major": 2,
       "version_minor": 0
      },
      "text/plain": [
       "Scoring:   0%|          | 0/8 [00:00<?, ?it/s]"
      ]
     },
     "metadata": {},
     "output_type": "display_data"
    },
    {
     "data": {
      "application/vnd.jupyter.widget-view+json": {
       "model_id": "6a8d220fb91b481882599826a7488f87",
       "version_major": 2,
       "version_minor": 0
      },
      "text/plain": [
       "Summarize the following text, making sure to be detailed and precise\n",
       "\n",
       "{TEXT}\n",
       "Provide an answer that is clear a…"
      ]
     },
     "metadata": {},
     "output_type": "display_data"
    },
    {
     "data": {
      "application/vnd.jupyter.widget-view+json": {
       "model_id": "9c4132bd5fe84bde83d77bf18edfe88f",
       "version_major": 2,
       "version_minor": 0
      },
      "text/plain": [
       "Generate a new piece of text that scores as high as possible based on the provided scores. Ensure that the new…"
      ]
     },
     "metadata": {},
     "output_type": "display_data"
    },
    {
     "data": {
      "application/vnd.jupyter.widget-view+json": {
       "model_id": "637a1264823a4a39a499078321e8d489",
       "version_major": 2,
       "version_minor": 0
      },
      "text/plain": [
       "Summarize the following text: {TEXT}. Include all essential details and ensure accuracy. Present your summary …"
      ]
     },
     "metadata": {},
     "output_type": "display_data"
    },
    {
     "data": {
      "application/vnd.jupyter.widget-view+json": {
       "model_id": "9d54c30c41fc47d597050296bf7454db",
       "version_major": 2,
       "version_minor": 0
      },
      "text/plain": [
       "Summarize the following text:\n",
       "{TEXT}\n",
       "Make sure the answer is clear, concise, and grammatically correct.:   0%|…"
      ]
     },
     "metadata": {},
     "output_type": "display_data"
    },
    {
     "data": {
      "application/vnd.jupyter.widget-view+json": {
       "model_id": "453ddc46fe2448ef933c77ade430224e",
       "version_major": 2,
       "version_minor": 0
      },
      "text/plain": [
       "Summarize the following text: {TEXT}\n",
       "score:\n",
       "50.43:   0%|          | 0/10 [00:00<?, ?it/s]"
      ]
     },
     "metadata": {},
     "output_type": "display_data"
    },
    {
     "data": {
      "application/vnd.jupyter.widget-view+json": {
       "model_id": "7427bc3257d045b89450999b89dcf0e8",
       "version_major": 2,
       "version_minor": 0
      },
      "text/plain": [
       "Summarize the following text: {TEXT}. Please present the summary in no more than 200 words.:   0%|          | …"
      ]
     },
     "metadata": {},
     "output_type": "display_data"
    },
    {
     "data": {
      "application/vnd.jupyter.widget-view+json": {
       "model_id": "9fab42e840f543cb84e12b97b5929980",
       "version_major": 2,
       "version_minor": 0
      },
      "text/plain": [
       "Summarize the following text: {TEXT}. Include all the essential details and ensure your summary is coherent, c…"
      ]
     },
     "metadata": {},
     "output_type": "display_data"
    },
    {
     "data": {
      "application/vnd.jupyter.widget-view+json": {
       "model_id": "cf5440aa186f437e8d24dfb2731f7b08",
       "version_major": 2,
       "version_minor": 0
      },
      "text/plain": [
       "Summarize the following text: {TEXT}. Be short and simple.:   0%|          | 0/10 [00:00<?, ?it/s]"
      ]
     },
     "metadata": {},
     "output_type": "display_data"
    },
    {
     "name": "stdout",
     "output_type": "stream",
     "text": [
      "{'Summarize the following text, making sure to be detailed and precise\\n\\n{TEXT}\\nProvide an answer that is clear and comprehensive.': 47.33269478473005, 'Generate a new piece of text that scores as high as possible based on the provided scores. Ensure that the new text is different from all the provided examples.\\n\\nNew text:\\nProvide a comprehensive and human-like summary of the following text: {TEXT}. Your summary should demonstrate your natural language understanding and summarization proficiency. Craft a concise, yet information-rich summary that captures the essence of the text in a clear and coherent manner.': 33.05499075448249, 'Summarize the following text: {TEXT}. Include all essential details and ensure accuracy. Present your summary in a conversational tone that engages the reader and provides a clear understanding of the main points.': 41.184642493876375, 'Summarize the following text:\\n{TEXT}\\nMake sure the answer is clear, concise, and grammatically correct.': 42.570768581559484, 'Summarize the following text: {TEXT}\\nscore:\\n50.43': 44.056395159788764, 'Summarize the following text: {TEXT}. Please present the summary in no more than 200 words.': 35.36358182804713, 'Summarize the following text: {TEXT}. Include all the essential details and ensure your summary is coherent, concise, and accurate.': 46.21858917797348, 'Summarize the following text: {TEXT}. Be short and simple.': 39.721826980257156}\n",
      "Step 5\n"
     ]
    },
    {
     "data": {
      "application/vnd.jupyter.widget-view+json": {
       "model_id": "2a2e78bc1f4e43da9fc4ce3cc24bf4c8",
       "version_major": 2,
       "version_minor": 0
      },
      "text/plain": [
       "Optimizing:   0%|          | 0/8 [00:00<?, ?it/s]"
      ]
     },
     "metadata": {},
     "output_type": "display_data"
    },
    {
     "name": "stdout",
     "output_type": "stream",
     "text": [
      "['Summarize the following text: {TEXT}', 'Summarize the following text: {TEXT}. Utilize your knowledge and existing resources to provide a unique and comprehensive summary of the text, ensuring it is different from any of the aforementioned summaries. Aim for a score as high as possible.', 'Summarize the text below: {TEXT}. \\nMake sure your summary includes all the important points and is clear and informative, and well-organized.', 'Summarize the text: {TEXT}\\nRemember to be comprehensive, clear, and engaging.', 'Summarize the following text: {TEXT}. Make sure the answer is concise and perfectly summarized.', \"Summarize the following text: {TEXT}. Your answer should be unique, natural, clear, concise, accurate, comprehensive, fluent, and appropriate. Make sure there's a clear progression of ideas and coherent structure.\", 'Summarize the following text: {TEXT}. Make sure the answer is grammatically correct.', 'Summarize the following text: {TEXT}. Write me something natural and comprehensive, showcasing your understanding of the subject matter.']\n"
     ]
    },
    {
     "data": {
      "application/vnd.jupyter.widget-view+json": {
       "model_id": "df099d7c72cc49a1a3d6751847e5fe9d",
       "version_major": 2,
       "version_minor": 0
      },
      "text/plain": [
       "Scoring:   0%|          | 0/8 [00:00<?, ?it/s]"
      ]
     },
     "metadata": {},
     "output_type": "display_data"
    },
    {
     "data": {
      "application/vnd.jupyter.widget-view+json": {
       "model_id": "2bffd5b852ce4cdf8054b26ae76541f5",
       "version_major": 2,
       "version_minor": 0
      },
      "text/plain": [
       "Summarize the following text: {TEXT}:   0%|          | 0/10 [00:00<?, ?it/s]"
      ]
     },
     "metadata": {},
     "output_type": "display_data"
    },
    {
     "data": {
      "application/vnd.jupyter.widget-view+json": {
       "model_id": "f4be2c545cb2442390e1448917a0b352",
       "version_major": 2,
       "version_minor": 0
      },
      "text/plain": [
       "Summarize the following text: {TEXT}. Utilize your knowledge and existing resources to provide a unique and co…"
      ]
     },
     "metadata": {},
     "output_type": "display_data"
    },
    {
     "data": {
      "application/vnd.jupyter.widget-view+json": {
       "model_id": "05ad2382b4b04e8f91ce7ac0d1163316",
       "version_major": 2,
       "version_minor": 0
      },
      "text/plain": [
       "Summarize the text below: {TEXT}. \n",
       "Make sure your summary includes all the important points and is clear and i…"
      ]
     },
     "metadata": {},
     "output_type": "display_data"
    },
    {
     "data": {
      "application/vnd.jupyter.widget-view+json": {
       "model_id": "69bd1c7dc8f34412be81850792fefbc9",
       "version_major": 2,
       "version_minor": 0
      },
      "text/plain": [
       "Summarize the text: {TEXT}\n",
       "Remember to be comprehensive, clear, and engaging.:   0%|          | 0/10 [00:00<?,…"
      ]
     },
     "metadata": {},
     "output_type": "display_data"
    },
    {
     "data": {
      "application/vnd.jupyter.widget-view+json": {
       "model_id": "399a9c93845f4ba5b4c0b76935f902d8",
       "version_major": 2,
       "version_minor": 0
      },
      "text/plain": [
       "Summarize the following text: {TEXT}. Make sure the answer is concise and perfectly summarized.:   0%|        …"
      ]
     },
     "metadata": {},
     "output_type": "display_data"
    },
    {
     "data": {
      "application/vnd.jupyter.widget-view+json": {
       "model_id": "fb55c96e14be4ea5bcee7efbe3b11800",
       "version_major": 2,
       "version_minor": 0
      },
      "text/plain": [
       "Summarize the following text: {TEXT}. Your answer should be unique, natural, clear, concise, accurate, compreh…"
      ]
     },
     "metadata": {},
     "output_type": "display_data"
    },
    {
     "data": {
      "application/vnd.jupyter.widget-view+json": {
       "model_id": "d0d779f9478f4276aeeb940943394bfc",
       "version_major": 2,
       "version_minor": 0
      },
      "text/plain": [
       "Summarize the following text: {TEXT}. Make sure the answer is grammatically correct.:   0%|          | 0/10 [0…"
      ]
     },
     "metadata": {},
     "output_type": "display_data"
    },
    {
     "data": {
      "application/vnd.jupyter.widget-view+json": {
       "model_id": "5bda0ca7a76341e495b6489b30ab6a3b",
       "version_major": 2,
       "version_minor": 0
      },
      "text/plain": [
       "Summarize the following text: {TEXT}. Write me something natural and comprehensive, showcasing your understand…"
      ]
     },
     "metadata": {},
     "output_type": "display_data"
    },
    {
     "name": "stdout",
     "output_type": "stream",
     "text": [
      "{'Summarize the following text: {TEXT}': 44.4327557920621, 'Summarize the following text: {TEXT}. Utilize your knowledge and existing resources to provide a unique and comprehensive summary of the text, ensuring it is different from any of the aforementioned summaries. Aim for a score as high as possible.': 39.42171225584924, 'Summarize the text below: {TEXT}. \\nMake sure your summary includes all the important points and is clear and informative, and well-organized.': 53.426304319986464, 'Summarize the text: {TEXT}\\nRemember to be comprehensive, clear, and engaging.': 44.70240921156726, 'Summarize the following text: {TEXT}. Make sure the answer is concise and perfectly summarized.': 37.13537777392762, \"Summarize the following text: {TEXT}. Your answer should be unique, natural, clear, concise, accurate, comprehensive, fluent, and appropriate. Make sure there's a clear progression of ideas and coherent structure.\": 46.56297947932712, 'Summarize the following text: {TEXT}. Make sure the answer is grammatically correct.': 43.321720865713495, 'Summarize the following text: {TEXT}. Write me something natural and comprehensive, showcasing your understanding of the subject matter.': 47.57073334423442}\n",
      "Step 6\n"
     ]
    },
    {
     "data": {
      "application/vnd.jupyter.widget-view+json": {
       "model_id": "93214e65a97945e4a1469d42282168e6",
       "version_major": 2,
       "version_minor": 0
      },
      "text/plain": [
       "Optimizing:   0%|          | 0/8 [00:00<?, ?it/s]"
      ]
     },
     "metadata": {},
     "output_type": "display_data"
    },
    {
     "name": "stdout",
     "output_type": "stream",
     "text": [
      "[\"Summarize the text below: {TEXT}. Make sure the summary is clear, concise, natural, unique, grammatically correct, and easy to understand. Your response must follow a logical structure and demonstrate coherence and cohesion. Ensure the summary includes the main points and provide context where necessary. The summary should accurately represent the original text's key points and ideas. Additionally, avoid adding any unnecessary details or opinions.\", 'Summarize the following text: \\n{TEXT}\\nMake sure to be concise but comprehensive in your summary. Provide a reader-friendly answer.', 'Summarize the following text precisely: {TEXT}\\nCompose a summary that is coherent, concise, and grammatically sound, and devoid of plagiarism.', 'Summarize the following text: {TEXT}.\\nI am a helpful assistant who is here to help you.', 'Summarize the following text: {TEXT}.\\nMake sure your summary is thorough, error-free, and precise.\\nThe answer should have the form of \"Your summary: \".\\nBe reminded that, it should sound natural, fluent, grammatically correct, and comprehensive.', 'Summarize the following passage: {TEXT}', 'Summarize the following text:  {TEXT}\\nRemember to be precise and natural.', 'Summarize the text:\\n{TEXT}\\n\\nResponse Format should be [Your summary]']\n"
     ]
    },
    {
     "data": {
      "application/vnd.jupyter.widget-view+json": {
       "model_id": "3ced3520fff94b7c9ed7c7943a0d7101",
       "version_major": 2,
       "version_minor": 0
      },
      "text/plain": [
       "Scoring:   0%|          | 0/8 [00:00<?, ?it/s]"
      ]
     },
     "metadata": {},
     "output_type": "display_data"
    },
    {
     "data": {
      "application/vnd.jupyter.widget-view+json": {
       "model_id": "d496f4eb08f04921918cd417c9ee5b59",
       "version_major": 2,
       "version_minor": 0
      },
      "text/plain": [
       "Summarize the text below: {TEXT}. Make sure the summary is clear, concise, natural, unique, grammatically corr…"
      ]
     },
     "metadata": {},
     "output_type": "display_data"
    },
    {
     "data": {
      "application/vnd.jupyter.widget-view+json": {
       "model_id": "0cde65ab67194902bd6ae1b3fd2a9a3b",
       "version_major": 2,
       "version_minor": 0
      },
      "text/plain": [
       "Summarize the following text: \n",
       "{TEXT}\n",
       "Make sure to be concise but comprehensive in your summary. Provide a rea…"
      ]
     },
     "metadata": {},
     "output_type": "display_data"
    },
    {
     "data": {
      "application/vnd.jupyter.widget-view+json": {
       "model_id": "a75d1b36563345618f0515477ca7eb3d",
       "version_major": 2,
       "version_minor": 0
      },
      "text/plain": [
       "Summarize the following text precisely: {TEXT}\n",
       "Compose a summary that is coherent, concise, and grammatically …"
      ]
     },
     "metadata": {},
     "output_type": "display_data"
    },
    {
     "data": {
      "application/vnd.jupyter.widget-view+json": {
       "model_id": "252d1a6797e7464494ff99d860259c5f",
       "version_major": 2,
       "version_minor": 0
      },
      "text/plain": [
       "Summarize the following text: {TEXT}.\n",
       "I am a helpful assistant who is here to help you.:   0%|          | 0/10…"
      ]
     },
     "metadata": {},
     "output_type": "display_data"
    },
    {
     "data": {
      "application/vnd.jupyter.widget-view+json": {
       "model_id": "9bf45267c66549b09470067538fcc5df",
       "version_major": 2,
       "version_minor": 0
      },
      "text/plain": [
       "Summarize the following text: {TEXT}.\n",
       "Make sure your summary is thorough, error-free, and precise.\n",
       "The answer …"
      ]
     },
     "metadata": {},
     "output_type": "display_data"
    },
    {
     "data": {
      "application/vnd.jupyter.widget-view+json": {
       "model_id": "888216f926c3447a9d22fb48d0170584",
       "version_major": 2,
       "version_minor": 0
      },
      "text/plain": [
       "Summarize the following passage: {TEXT}:   0%|          | 0/10 [00:00<?, ?it/s]"
      ]
     },
     "metadata": {},
     "output_type": "display_data"
    },
    {
     "data": {
      "application/vnd.jupyter.widget-view+json": {
       "model_id": "a1d67d41649545da9e879499413b5fe7",
       "version_major": 2,
       "version_minor": 0
      },
      "text/plain": [
       "Summarize the following text:  {TEXT}\n",
       "Remember to be precise and natural.:   0%|          | 0/10 [00:00<?, ?it…"
      ]
     },
     "metadata": {},
     "output_type": "display_data"
    },
    {
     "data": {
      "application/vnd.jupyter.widget-view+json": {
       "model_id": "c546854924df4587b16cf1fe19125c47",
       "version_major": 2,
       "version_minor": 0
      },
      "text/plain": [
       "Summarize the text:\n",
       "{TEXT}\n",
       "\n",
       "Response Format should be [Your summary]:   0%|          | 0/10 [00:00<?, ?it/s]"
      ]
     },
     "metadata": {},
     "output_type": "display_data"
    },
    {
     "name": "stdout",
     "output_type": "stream",
     "text": [
      "{\"Summarize the text below: {TEXT}. Make sure the summary is clear, concise, natural, unique, grammatically correct, and easy to understand. Your response must follow a logical structure and demonstrate coherence and cohesion. Ensure the summary includes the main points and provide context where necessary. The summary should accurately represent the original text's key points and ideas. Additionally, avoid adding any unnecessary details or opinions.\": 42.8119107907648, 'Summarize the following text: \\n{TEXT}\\nMake sure to be concise but comprehensive in your summary. Provide a reader-friendly answer.': 41.081764863517165, 'Summarize the following text precisely: {TEXT}\\nCompose a summary that is coherent, concise, and grammatically sound, and devoid of plagiarism.': 44.79724235286772, 'Summarize the following text: {TEXT}.\\nI am a helpful assistant who is here to help you.': 45.0789672719803, 'Summarize the following text: {TEXT}.\\nMake sure your summary is thorough, error-free, and precise.\\nThe answer should have the form of \"Your summary: \".\\nBe reminded that, it should sound natural, fluent, grammatically correct, and comprehensive.': 39.201794559628524, 'Summarize the following passage: {TEXT}': 45.5537062020399, 'Summarize the following text:  {TEXT}\\nRemember to be precise and natural.': 46.44784041554327, 'Summarize the text:\\n{TEXT}\\n\\nResponse Format should be [Your summary]': 38.26653709979485}\n",
      "Step 7\n"
     ]
    },
    {
     "data": {
      "application/vnd.jupyter.widget-view+json": {
       "model_id": "a348bf8f012b487b8575fba8af5403d2",
       "version_major": 2,
       "version_minor": 0
      },
      "text/plain": [
       "Optimizing:   0%|          | 0/8 [00:00<?, ?it/s]"
      ]
     },
     "metadata": {},
     "output_type": "display_data"
    },
    {
     "name": "stdout",
     "output_type": "stream",
     "text": [
      "['Summarize the following text, making sure to be detailed and precise {TEXT}. Provide an answer that is clear, concise, and comprehensive.', 'Summarize the following text: {TEXT}. \\n\\nMake sure your summary is thorough, accurate, and well-structured. Additionally, it should be engaging and showcase strong writing skills.', 'Summarize the following article: {TEXT}. The summary should be in the form of a well-written, compelling essay. Furthermore, the summary should have a friendly tone, be easily understood, and free from grammatical errors.', 'Summarize the following text effectively: {TEXT}.\\nConvey the key ideas clearly and concisely, maintaining accuracy and completeness. Your summary should reflect a deep understanding of the text and exhibit a natural, human-like writing style. Ensure the summary is well-organized, comprehensive, informative, and engaging to read. Aim for a score as high as possible.', 'Summarize the following text: {TEXT}. Beyond any level of doubt, ensure your response is concise and to the point, while encompassing all relevant information in a structured format.', 'Summarize the following text: {TEXT}. Keep your summary accurate, concise, and relevant.', 'Summarize the following text: {TEXT}.\\nCompose a concise, informative, and unambiguous summary, showcasing your understanding of the subject matter, while maintaining a natural and coherent flow of ideas. Ensure accuracy and completeness, capturing all salient points from the provided text.', 'Summarize the following text: {TEXT}. \\nMake sure your summary is not just clear, yet also comprehensive; not only distinct, but also harmoniously structured. Be sure that the quality of your summary earns high praises.']\n"
     ]
    },
    {
     "data": {
      "application/vnd.jupyter.widget-view+json": {
       "model_id": "751e462d7f66492da74d4af714bf179d",
       "version_major": 2,
       "version_minor": 0
      },
      "text/plain": [
       "Scoring:   0%|          | 0/8 [00:00<?, ?it/s]"
      ]
     },
     "metadata": {},
     "output_type": "display_data"
    },
    {
     "data": {
      "application/vnd.jupyter.widget-view+json": {
       "model_id": "b6cd20272c184a9cadc29bff3e3a3f8c",
       "version_major": 2,
       "version_minor": 0
      },
      "text/plain": [
       "Summarize the following text, making sure to be detailed and precise {TEXT}. Provide an answer that is clear, …"
      ]
     },
     "metadata": {},
     "output_type": "display_data"
    },
    {
     "data": {
      "application/vnd.jupyter.widget-view+json": {
       "model_id": "57bc2f27000540f59aa2f63420cba27e",
       "version_major": 2,
       "version_minor": 0
      },
      "text/plain": [
       "Summarize the following text: {TEXT}. \n",
       "\n",
       "Make sure your summary is thorough, accurate, and well-structured. Add…"
      ]
     },
     "metadata": {},
     "output_type": "display_data"
    },
    {
     "data": {
      "application/vnd.jupyter.widget-view+json": {
       "model_id": "2cf1f03b918a4466ae09a3112052e2af",
       "version_major": 2,
       "version_minor": 0
      },
      "text/plain": [
       "Summarize the following article: {TEXT}. The summary should be in the form of a well-written, compelling essay…"
      ]
     },
     "metadata": {},
     "output_type": "display_data"
    },
    {
     "data": {
      "application/vnd.jupyter.widget-view+json": {
       "model_id": "2e8f4b66a9b040e1b83ac402c3c28eda",
       "version_major": 2,
       "version_minor": 0
      },
      "text/plain": [
       "Summarize the following text effectively: {TEXT}.\n",
       "Convey the key ideas clearly and concisely, maintaining accu…"
      ]
     },
     "metadata": {},
     "output_type": "display_data"
    },
    {
     "data": {
      "application/vnd.jupyter.widget-view+json": {
       "model_id": "95ca5b89ab7045d3bf64729bd7767dba",
       "version_major": 2,
       "version_minor": 0
      },
      "text/plain": [
       "Summarize the following text: {TEXT}. Beyond any level of doubt, ensure your response is concise and to the po…"
      ]
     },
     "metadata": {},
     "output_type": "display_data"
    },
    {
     "data": {
      "application/vnd.jupyter.widget-view+json": {
       "model_id": "3e6ee93eb2814f84a5d28e2ba63fb193",
       "version_major": 2,
       "version_minor": 0
      },
      "text/plain": [
       "Summarize the following text: {TEXT}. Keep your summary accurate, concise, and relevant.:   0%|          | 0/1…"
      ]
     },
     "metadata": {},
     "output_type": "display_data"
    },
    {
     "data": {
      "application/vnd.jupyter.widget-view+json": {
       "model_id": "214ba44841624043bb777a14a2b86732",
       "version_major": 2,
       "version_minor": 0
      },
      "text/plain": [
       "Summarize the following text: {TEXT}.\n",
       "Compose a concise, informative, and unambiguous summary, showcasing your…"
      ]
     },
     "metadata": {},
     "output_type": "display_data"
    },
    {
     "data": {
      "application/vnd.jupyter.widget-view+json": {
       "model_id": "80358c86a61f41a8b7400ac9ccf08631",
       "version_major": 2,
       "version_minor": 0
      },
      "text/plain": [
       "Summarize the following text: {TEXT}. \n",
       "Make sure your summary is not just clear, yet also comprehensive; not o…"
      ]
     },
     "metadata": {},
     "output_type": "display_data"
    },
    {
     "name": "stdout",
     "output_type": "stream",
     "text": [
      "{'Summarize the following text, making sure to be detailed and precise {TEXT}. Provide an answer that is clear, concise, and comprehensive.': 45.1398236514259, 'Summarize the following text: {TEXT}. \\n\\nMake sure your summary is thorough, accurate, and well-structured. Additionally, it should be engaging and showcase strong writing skills.': 41.332571980980255, 'Summarize the following article: {TEXT}. The summary should be in the form of a well-written, compelling essay. Furthermore, the summary should have a friendly tone, be easily understood, and free from grammatical errors.': 33.55110898282777, 'Summarize the following text effectively: {TEXT}.\\nConvey the key ideas clearly and concisely, maintaining accuracy and completeness. Your summary should reflect a deep understanding of the text and exhibit a natural, human-like writing style. Ensure the summary is well-organized, comprehensive, informative, and engaging to read. Aim for a score as high as possible.': 42.952538530262785, 'Summarize the following text: {TEXT}. Beyond any level of doubt, ensure your response is concise and to the point, while encompassing all relevant information in a structured format.': 44.33645168962098, 'Summarize the following text: {TEXT}. Keep your summary accurate, concise, and relevant.': 45.24687387230212, 'Summarize the following text: {TEXT}.\\nCompose a concise, informative, and unambiguous summary, showcasing your understanding of the subject matter, while maintaining a natural and coherent flow of ideas. Ensure accuracy and completeness, capturing all salient points from the provided text.': 45.455482103795084, 'Summarize the following text: {TEXT}. \\nMake sure your summary is not just clear, yet also comprehensive; not only distinct, but also harmoniously structured. Be sure that the quality of your summary earns high praises.': 39.16428994892525}\n",
      "Step 8\n"
     ]
    },
    {
     "data": {
      "application/vnd.jupyter.widget-view+json": {
       "model_id": "33df6fd6d03245cc86b113e67413004e",
       "version_major": 2,
       "version_minor": 0
      },
      "text/plain": [
       "Optimizing:   0%|          | 0/8 [00:00<?, ?it/s]"
      ]
     },
     "metadata": {},
     "output_type": "display_data"
    },
    {
     "name": "stdout",
     "output_type": "stream",
     "text": [
      "['Summarize the following text: {TEXT}. Remember that your answer should sound natural, comprehensive, and coherent, while demonstrating a clear understanding of the provided text. Ensure the summary includes all the key points and presents them in a well-structured manner. Accuracy and conciseness are essential, with a natural flow of ideas that maintains the integrity of the original text.', 'Summarize the following text: {TEXT}.\\nCompose a concise, informative, and unambiguous summary, showcasing your understanding of the subject matter while maintaining a natural and coherent flow of ideas. Ensure accuracy and completeness, capturing all the salient points from the provided text. The summary should be well-structured, grammatically correct, and use precise language. Make sure your summary is unique and does not resemble any of the existing summaries.', 'Summarize the given text: {TEXT}, ensuring accuracy and clarity while maintaining a natural flow of ideas. Understand the context and present the summary in a concise and coherent manner.', 'Summarize the following text: {TEXT}.\\nCompose a concise, informative, and unambiguous summary, showcasing your understanding of the subject matter while maintaining a natural and coherent flow of ideas. Ensure accuracy and completeness, capturing all salient points from the provided text.', 'Summarize the following text: {TEXT}\\nProvide an answer that is concise, comprehensive, fluent, and clearly presents the main points of the original text while maintaining a natural flow. Ensure accuracy and completeness, capturing all salient points from the provided text present it in an organized and highly readable manner for improved understanding.', 'Summarize the following context in 200 words or less: {TEXT}\\nMake sure the model output is rich in detail and retains critical information from the source context. Strive for accuracy, clarity, and a natural flow of language.', 'Summarize the following text concisely, ensure accuracy, and be both informative and engaging. After reading the passage, ensure that your answer reflects the primary points and key details effectively:\\n{TEXT}', 'Summarize the following text: {TEXT}. I want the output to be natural, comprehensive, concise, and accurate. Make it informative and easy to understand for anyone, by using a clear and coherent structure, with a clear progression of ideas and smooth transitions between them. Include all essential details and ensure that the summary is comprehensive, but also concise and to the point. Also, make sure to use correct grammar and punctuation, and avoid using overly complex or technical language.']\n"
     ]
    },
    {
     "data": {
      "application/vnd.jupyter.widget-view+json": {
       "model_id": "f64d070012784369ad7e01e12db02b88",
       "version_major": 2,
       "version_minor": 0
      },
      "text/plain": [
       "Scoring:   0%|          | 0/8 [00:00<?, ?it/s]"
      ]
     },
     "metadata": {},
     "output_type": "display_data"
    },
    {
     "data": {
      "application/vnd.jupyter.widget-view+json": {
       "model_id": "75ebab668a4242f88f0a611615b76f9d",
       "version_major": 2,
       "version_minor": 0
      },
      "text/plain": [
       "Summarize the following text: {TEXT}. Remember that your answer should sound natural, comprehensive, and coher…"
      ]
     },
     "metadata": {},
     "output_type": "display_data"
    },
    {
     "data": {
      "application/vnd.jupyter.widget-view+json": {
       "model_id": "b04b0c1af54f462d9802b60490cbcbcf",
       "version_major": 2,
       "version_minor": 0
      },
      "text/plain": [
       "Summarize the following text: {TEXT}.\n",
       "Compose a concise, informative, and unambiguous summary, showcasing your…"
      ]
     },
     "metadata": {},
     "output_type": "display_data"
    },
    {
     "data": {
      "application/vnd.jupyter.widget-view+json": {
       "model_id": "8ee1836c77f24eb4aa7a0dfbba0aa4f8",
       "version_major": 2,
       "version_minor": 0
      },
      "text/plain": [
       "Summarize the given text: {TEXT}, ensuring accuracy and clarity while maintaining a natural flow of ideas. Und…"
      ]
     },
     "metadata": {},
     "output_type": "display_data"
    },
    {
     "data": {
      "application/vnd.jupyter.widget-view+json": {
       "model_id": "499273d90e1e49df8a052b99f7eb2d67",
       "version_major": 2,
       "version_minor": 0
      },
      "text/plain": [
       "Summarize the following text: {TEXT}.\n",
       "Compose a concise, informative, and unambiguous summary, showcasing your…"
      ]
     },
     "metadata": {},
     "output_type": "display_data"
    },
    {
     "data": {
      "application/vnd.jupyter.widget-view+json": {
       "model_id": "d09929e0f2d0466b96b4cdc74a8941f4",
       "version_major": 2,
       "version_minor": 0
      },
      "text/plain": [
       "Summarize the following text: {TEXT}\n",
       "Provide an answer that is concise, comprehensive, fluent, and clearly pre…"
      ]
     },
     "metadata": {},
     "output_type": "display_data"
    },
    {
     "data": {
      "application/vnd.jupyter.widget-view+json": {
       "model_id": "ab3dbe85085a479f9a10494fb811b46d",
       "version_major": 2,
       "version_minor": 0
      },
      "text/plain": [
       "Summarize the following context in 200 words or less: {TEXT}\n",
       "Make sure the model output is rich in detail and …"
      ]
     },
     "metadata": {},
     "output_type": "display_data"
    },
    {
     "data": {
      "application/vnd.jupyter.widget-view+json": {
       "model_id": "6b8557f74d5f4da080d5f861b3e7e7cc",
       "version_major": 2,
       "version_minor": 0
      },
      "text/plain": [
       "Summarize the following text concisely, ensure accuracy, and be both informative and engaging. After reading t…"
      ]
     },
     "metadata": {},
     "output_type": "display_data"
    },
    {
     "data": {
      "application/vnd.jupyter.widget-view+json": {
       "model_id": "83c0b20e311640988ec753d68ac429cc",
       "version_major": 2,
       "version_minor": 0
      },
      "text/plain": [
       "Summarize the following text: {TEXT}. I want the output to be natural, comprehensive, concise, and accurate. M…"
      ]
     },
     "metadata": {},
     "output_type": "display_data"
    },
    {
     "name": "stdout",
     "output_type": "stream",
     "text": [
      "{'Summarize the following text: {TEXT}. Remember that your answer should sound natural, comprehensive, and coherent, while demonstrating a clear understanding of the provided text. Ensure the summary includes all the key points and presents them in a well-structured manner. Accuracy and conciseness are essential, with a natural flow of ideas that maintains the integrity of the original text.': 42.69224167144673, 'Summarize the following text: {TEXT}.\\nCompose a concise, informative, and unambiguous summary, showcasing your understanding of the subject matter while maintaining a natural and coherent flow of ideas. Ensure accuracy and completeness, capturing all the salient points from the provided text. The summary should be well-structured, grammatically correct, and use precise language. Make sure your summary is unique and does not resemble any of the existing summaries.': 40.55916417759827, 'Summarize the given text: {TEXT}, ensuring accuracy and clarity while maintaining a natural flow of ideas. Understand the context and present the summary in a concise and coherent manner.': 42.49438812295426, 'Summarize the following text: {TEXT}.\\nCompose a concise, informative, and unambiguous summary, showcasing your understanding of the subject matter while maintaining a natural and coherent flow of ideas. Ensure accuracy and completeness, capturing all salient points from the provided text.': 42.39846658211544, 'Summarize the following text: {TEXT}\\nProvide an answer that is concise, comprehensive, fluent, and clearly presents the main points of the original text while maintaining a natural flow. Ensure accuracy and completeness, capturing all salient points from the provided text present it in an organized and highly readable manner for improved understanding.': 41.47938635061449, 'Summarize the following context in 200 words or less: {TEXT}\\nMake sure the model output is rich in detail and retains critical information from the source context. Strive for accuracy, clarity, and a natural flow of language.': 35.51520117768595, 'Summarize the following text concisely, ensure accuracy, and be both informative and engaging. After reading the passage, ensure that your answer reflects the primary points and key details effectively:\\n{TEXT}': 39.221603386968695, 'Summarize the following text: {TEXT}. I want the output to be natural, comprehensive, concise, and accurate. Make it informative and easy to understand for anyone, by using a clear and coherent structure, with a clear progression of ideas and smooth transitions between them. Include all essential details and ensure that the summary is comprehensive, but also concise and to the point. Also, make sure to use correct grammar and punctuation, and avoid using overly complex or technical language.': 40.84456076736971}\n",
      "Step 9\n"
     ]
    },
    {
     "data": {
      "application/vnd.jupyter.widget-view+json": {
       "model_id": "64a4527a20f64cccb3fa7e0ea285335d",
       "version_major": 2,
       "version_minor": 0
      },
      "text/plain": [
       "Optimizing:   0%|          | 0/8 [00:00<?, ?it/s]"
      ]
     },
     "metadata": {},
     "output_type": "display_data"
    },
    {
     "name": "stdout",
     "output_type": "stream",
     "text": [
      "['Summarize the following text: {TEXT}.\\nBe unique, natural, and comprehensive, showcasing your understanding of the subject matter.\\nEnsure a clear progression of ideas and coherent structure.', \"Summarize the following text: {TEXT}. Do not deviate from what is provided in the text. Make sure there's a clear progression of ideas and coherent structure.\", 'Summarize the following text to the best of your knowledge: {TEXT}. Make your summary fluent and natural, while ensuring it has a clear structure and appropriate length. Remember that your answer should contain all the important information from the provided text.', 'Summarize the following passage, ensuring it is easy to understand and comprehensive: {TEXT}\\nCapture the essence of the text in a clear and concise manner while staying true to its intended message. Prioritize accuracy and coherence, ensuring a smooth flow of ideas. Maintain a natural and human-like tone, making the summary relatable and engaging.', \"Summarize the following text: {TEXT}. Compose a comprehensive and cogent summary, effectively capturing the text's essence. Strive for conciseness, accuracy, and clarity, ensuring a well-structured and coherent narrative that presents a cohesive understanding of the text's content.\", 'Summarize the text below: {TEXT}.\\nCompose a natural and concise summary that is engaging and easy to comprehend, capturing the essence of the provided text. Prioritize accuracy and completeness to ensure that your summary coherently conveys the key points and ideas from the original text.', 'Summarize the following text: {TEXT}. Your output should adhere to the following requirements: Be succinct, natural, coherent, precise, accurate, and encompass all the key details from the provided text. As you generate the summary, think step by step and ensure a smooth flow of ideas. Your summary should be of high quality and reflect your understanding of the subject matter.', 'Summarize the following text: {TEXT}. I need your summary to be clear, concise, and informative. Please ensure it includes all the relevant key points and is presented in an organized manner. Maintain a natural and coherent flow of ideas, demonstrating your understanding of the subject matter.']\n"
     ]
    },
    {
     "data": {
      "application/vnd.jupyter.widget-view+json": {
       "model_id": "7f12205deccf40018b30416605fc53ef",
       "version_major": 2,
       "version_minor": 0
      },
      "text/plain": [
       "Scoring:   0%|          | 0/8 [00:00<?, ?it/s]"
      ]
     },
     "metadata": {},
     "output_type": "display_data"
    },
    {
     "data": {
      "application/vnd.jupyter.widget-view+json": {
       "model_id": "cd1b63ef46dc498ca0116cf1d6f909ed",
       "version_major": 2,
       "version_minor": 0
      },
      "text/plain": [
       "Summarize the following text: {TEXT}.\n",
       "Be unique, natural, and comprehensive, showcasing your understanding of …"
      ]
     },
     "metadata": {},
     "output_type": "display_data"
    },
    {
     "data": {
      "application/vnd.jupyter.widget-view+json": {
       "model_id": "1beab67f4e3b448f86524ae9f009498b",
       "version_major": 2,
       "version_minor": 0
      },
      "text/plain": [
       "Summarize the following text: {TEXT}. Do not deviate from what is provided in the text. Make sure there's a cl…"
      ]
     },
     "metadata": {},
     "output_type": "display_data"
    },
    {
     "data": {
      "application/vnd.jupyter.widget-view+json": {
       "model_id": "13501590ec304d20ab0660eb39e02c7f",
       "version_major": 2,
       "version_minor": 0
      },
      "text/plain": [
       "Summarize the following text to the best of your knowledge: {TEXT}. Make your summary fluent and natural, whil…"
      ]
     },
     "metadata": {},
     "output_type": "display_data"
    },
    {
     "data": {
      "application/vnd.jupyter.widget-view+json": {
       "model_id": "cf9885a8bb2c44c7be027c48dbd75644",
       "version_major": 2,
       "version_minor": 0
      },
      "text/plain": [
       "Summarize the following passage, ensuring it is easy to understand and comprehensive: {TEXT}\n",
       "Capture the essen…"
      ]
     },
     "metadata": {},
     "output_type": "display_data"
    },
    {
     "data": {
      "application/vnd.jupyter.widget-view+json": {
       "model_id": "5c06d3c447fc4b6cb79dc6c518978262",
       "version_major": 2,
       "version_minor": 0
      },
      "text/plain": [
       "Summarize the following text: {TEXT}. Compose a comprehensive and cogent summary, effectively capturing the te…"
      ]
     },
     "metadata": {},
     "output_type": "display_data"
    },
    {
     "data": {
      "application/vnd.jupyter.widget-view+json": {
       "model_id": "77654c26dd0945cdbd6fedfa9687617d",
       "version_major": 2,
       "version_minor": 0
      },
      "text/plain": [
       "Summarize the text below: {TEXT}.\n",
       "Compose a natural and concise summary that is engaging and easy to comprehen…"
      ]
     },
     "metadata": {},
     "output_type": "display_data"
    },
    {
     "data": {
      "application/vnd.jupyter.widget-view+json": {
       "model_id": "5fc87c2c9dbb48ae8aacdc45af58f43c",
       "version_major": 2,
       "version_minor": 0
      },
      "text/plain": [
       "Summarize the following text: {TEXT}. Your output should adhere to the following requirements: Be succinct, na…"
      ]
     },
     "metadata": {},
     "output_type": "display_data"
    },
    {
     "data": {
      "application/vnd.jupyter.widget-view+json": {
       "model_id": "08ce5de6ebc649259f0aedc2252296a8",
       "version_major": 2,
       "version_minor": 0
      },
      "text/plain": [
       "Summarize the following text: {TEXT}. I need your summary to be clear, concise, and informative. Please ensure…"
      ]
     },
     "metadata": {},
     "output_type": "display_data"
    },
    {
     "name": "stdout",
     "output_type": "stream",
     "text": [
      "{'Summarize the following text: {TEXT}.\\nBe unique, natural, and comprehensive, showcasing your understanding of the subject matter.\\nEnsure a clear progression of ideas and coherent structure.': 46.72084671324722, \"Summarize the following text: {TEXT}. Do not deviate from what is provided in the text. Make sure there's a clear progression of ideas and coherent structure.\": 44.88219730287929, 'Summarize the following text to the best of your knowledge: {TEXT}. Make your summary fluent and natural, while ensuring it has a clear structure and appropriate length. Remember that your answer should contain all the important information from the provided text.': 47.15973484209696, 'Summarize the following passage, ensuring it is easy to understand and comprehensive: {TEXT}\\nCapture the essence of the text in a clear and concise manner while staying true to its intended message. Prioritize accuracy and coherence, ensuring a smooth flow of ideas. Maintain a natural and human-like tone, making the summary relatable and engaging.': 35.74243442793496, \"Summarize the following text: {TEXT}. Compose a comprehensive and cogent summary, effectively capturing the text's essence. Strive for conciseness, accuracy, and clarity, ensuring a well-structured and coherent narrative that presents a cohesive understanding of the text's content.\": 46.63082703023665, 'Summarize the text below: {TEXT}.\\nCompose a natural and concise summary that is engaging and easy to comprehend, capturing the essence of the provided text. Prioritize accuracy and completeness to ensure that your summary coherently conveys the key points and ideas from the original text.': 40.04333908374057, 'Summarize the following text: {TEXT}. Your output should adhere to the following requirements: Be succinct, natural, coherent, precise, accurate, and encompass all the key details from the provided text. As you generate the summary, think step by step and ensure a smooth flow of ideas. Your summary should be of high quality and reflect your understanding of the subject matter.': 46.42886771463125, 'Summarize the following text: {TEXT}. I need your summary to be clear, concise, and informative. Please ensure it includes all the relevant key points and is presented in an organized manner. Maintain a natural and coherent flow of ideas, demonstrating your understanding of the subject matter.': 46.85932368272939}\n",
      "Step 10\n"
     ]
    },
    {
     "data": {
      "application/vnd.jupyter.widget-view+json": {
       "model_id": "a1040f3e001e4014ae5ea92f0096bef8",
       "version_major": 2,
       "version_minor": 0
      },
      "text/plain": [
       "Optimizing:   0%|          | 0/8 [00:00<?, ?it/s]"
      ]
     },
     "metadata": {},
     "output_type": "display_data"
    },
    {
     "name": "stdout",
     "output_type": "stream",
     "text": [
      "['Summarize the following text: {TEXT}. Ensure your summary is comprehensive, informative, and flows naturally. Make sure all the key points are included and presented in a coherent and engaging manner.', 'Summarize the given text: {TEXT}. Write a personalized and informative summary that captures key points, highlights crucial details, and demonstrates a thorough understanding of the subject matter. Ensure your summary is fluent and easily comprehensible, showcasing your expertise in summarizing and knowledge of the topic.', 'Summarize the following text: {TEXT} To do this, make sure your summary includes all the important details, is clear and informative, well-organized, natural, comprehensive, and engaging.', 'Summarize the following text: {TEXT}. To ensure your summary is of superior quality, incorporate the best practices observed in the examples provided. Aim for a response that is comprehensive, precise, coherent, concise, clear, accurate, consistent with the tone of the provided text, well-organized, informative, and faithful to the original content.', 'Summarize the following text to the best of your ability: {TEXT}. Your summary should be clear and informative, capturing the key points and maintaining accuracy. Strive for conciseness, fluency, and a natural tone, while adhering to the following criteria: comprehensiveness, organization, and appropriate length. Your summary should demonstrate a thorough understanding of the subject matter, showcasing your writing abilities and critical thinking skills.', 'Summarize the following text: {TEXT}. Maintain a high quality of response, ensuring your summary is fluent, error-free, and well-organized. Your output should be coherent, precise, and concise, capturing all the important points from the provided text while maintaining a natural and comprehensive style.', 'Summarize the following text: {TEXT}. Use synonyms and demonstrate your natural language processing (NLP) skills.', 'Summarize the following text: {TEXT}. Make your answer as clear, concise, and informative as possible.']\n"
     ]
    },
    {
     "data": {
      "application/vnd.jupyter.widget-view+json": {
       "model_id": "b556d78e015d4244bb8356e12ce93943",
       "version_major": 2,
       "version_minor": 0
      },
      "text/plain": [
       "Scoring:   0%|          | 0/8 [00:00<?, ?it/s]"
      ]
     },
     "metadata": {},
     "output_type": "display_data"
    },
    {
     "data": {
      "application/vnd.jupyter.widget-view+json": {
       "model_id": "d95e97541238484cbd81c62d90e1c4c5",
       "version_major": 2,
       "version_minor": 0
      },
      "text/plain": [
       "Summarize the following text: {TEXT}. Ensure your summary is comprehensive, informative, and flows naturally. …"
      ]
     },
     "metadata": {},
     "output_type": "display_data"
    },
    {
     "data": {
      "application/vnd.jupyter.widget-view+json": {
       "model_id": "5bddc0c73074414882beeb3d04cc6c6e",
       "version_major": 2,
       "version_minor": 0
      },
      "text/plain": [
       "Summarize the given text: {TEXT}. Write a personalized and informative summary that captures key points, highl…"
      ]
     },
     "metadata": {},
     "output_type": "display_data"
    },
    {
     "data": {
      "application/vnd.jupyter.widget-view+json": {
       "model_id": "22638076db65429da938861e19e0074b",
       "version_major": 2,
       "version_minor": 0
      },
      "text/plain": [
       "Summarize the following text: {TEXT} To do this, make sure your summary includes all the important details, is…"
      ]
     },
     "metadata": {},
     "output_type": "display_data"
    },
    {
     "data": {
      "application/vnd.jupyter.widget-view+json": {
       "model_id": "81b4993f5cce4b599d0041ee9a0eab62",
       "version_major": 2,
       "version_minor": 0
      },
      "text/plain": [
       "Summarize the following text: {TEXT}. To ensure your summary is of superior quality, incorporate the best prac…"
      ]
     },
     "metadata": {},
     "output_type": "display_data"
    },
    {
     "data": {
      "application/vnd.jupyter.widget-view+json": {
       "model_id": "5760751a7200443fb3d9a2f5abf3295e",
       "version_major": 2,
       "version_minor": 0
      },
      "text/plain": [
       "Summarize the following text to the best of your ability: {TEXT}. Your summary should be clear and informative…"
      ]
     },
     "metadata": {},
     "output_type": "display_data"
    },
    {
     "data": {
      "application/vnd.jupyter.widget-view+json": {
       "model_id": "133d536430ec46c0a75fcb41e9d3e77e",
       "version_major": 2,
       "version_minor": 0
      },
      "text/plain": [
       "Summarize the following text: {TEXT}. Maintain a high quality of response, ensuring your summary is fluent, er…"
      ]
     },
     "metadata": {},
     "output_type": "display_data"
    },
    {
     "data": {
      "application/vnd.jupyter.widget-view+json": {
       "model_id": "64d0342ce46b40af8127e51aa79c1c9c",
       "version_major": 2,
       "version_minor": 0
      },
      "text/plain": [
       "Summarize the following text: {TEXT}. Use synonyms and demonstrate your natural language processing (NLP) skil…"
      ]
     },
     "metadata": {},
     "output_type": "display_data"
    },
    {
     "data": {
      "application/vnd.jupyter.widget-view+json": {
       "model_id": "37aecad99069496ca5c871d604dae83b",
       "version_major": 2,
       "version_minor": 0
      },
      "text/plain": [
       "Summarize the following text: {TEXT}. Make your answer as clear, concise, and informative as possible.:   0%| …"
      ]
     },
     "metadata": {},
     "output_type": "display_data"
    },
    {
     "name": "stdout",
     "output_type": "stream",
     "text": [
      "{'Summarize the following text: {TEXT}. Ensure your summary is comprehensive, informative, and flows naturally. Make sure all the key points are included and presented in a coherent and engaging manner.': 49.914992937886325, 'Summarize the given text: {TEXT}. Write a personalized and informative summary that captures key points, highlights crucial details, and demonstrates a thorough understanding of the subject matter. Ensure your summary is fluent and easily comprehensible, showcasing your expertise in summarizing and knowledge of the topic.': 40.59036527338959, 'Summarize the following text: {TEXT} To do this, make sure your summary includes all the important details, is clear and informative, well-organized, natural, comprehensive, and engaging.': 48.10797416692263, 'Summarize the following text: {TEXT}. To ensure your summary is of superior quality, incorporate the best practices observed in the examples provided. Aim for a response that is comprehensive, precise, coherent, concise, clear, accurate, consistent with the tone of the provided text, well-organized, informative, and faithful to the original content.': 45.78744489265305, 'Summarize the following text to the best of your ability: {TEXT}. Your summary should be clear and informative, capturing the key points and maintaining accuracy. Strive for conciseness, fluency, and a natural tone, while adhering to the following criteria: comprehensiveness, organization, and appropriate length. Your summary should demonstrate a thorough understanding of the subject matter, showcasing your writing abilities and critical thinking skills.': 37.918159972408915, 'Summarize the following text: {TEXT}. Maintain a high quality of response, ensuring your summary is fluent, error-free, and well-organized. Your output should be coherent, precise, and concise, capturing all the important points from the provided text while maintaining a natural and comprehensive style.': 45.472483545923204, 'Summarize the following text: {TEXT}. Use synonyms and demonstrate your natural language processing (NLP) skills.': 47.27128870519282, 'Summarize the following text: {TEXT}. Make your answer as clear, concise, and informative as possible.': 46.98565900550886}\n"
     ]
    }
   ],
   "source": [
    "INS_PER_STEP = 8\n",
    "MAX_INS_SCORE_PAIRS = 20\n",
    "SAVE_PATH = \"synthetic_summarization_OPRO_results.json\"\n",
    "\n",
    "# loading saved data\n",
    "if os.path.exists(SAVE_PATH):\n",
    "    with open(SAVE_PATH, \"r\") as f:\n",
    "        results = json.load(f)\n",
    "    starting_step = len(results) + 1\n",
    "    ins_score_pairs = results[str(len(results))]\n",
    "else:\n",
    "    ins_lst = [\n",
    "        CHOSEN_PROMPT,\n",
    "        f\"{CHOSEN_PROMPT}. Think step by step.\",\n",
    "        f\"{CHOSEN_PROMPT}. Take a deep breath.\",\n",
    "        f\"{CHOSEN_PROMPT}. Be concise and clear.\",\n",
    "        f\"{CHOSEN_PROMPT}. You are a summarization expert.\",\n",
    "        f\"{CHOSEN_PROMPT}. Explain your answer in simple terms.\",\n",
    "        f\"{CHOSEN_PROMPT}. You are a helpful assistant.\",\n",
    "        # Prompt1 from Suggest Prompt\n",
    "        \"\"\"#### Instruction ####\n",
    "\n",
    "Summarize the following text:\n",
    "\n",
    "#### Input ####\n",
    "\n",
    "{TEXT}\n",
    "\n",
    "#### Expected Response Format ####\n",
    "\n",
    "[Your summary]\"\"\",\n",
    "        # Prompt2 from Suggest Prompt\n",
    "        \"\"\"**Instruction**: Summarize the following text:\n",
    "\n",
    "**{TEXT}**\n",
    "\n",
    "**Example:**\n",
    "\n",
    "* Summarize the following text:\n",
    "> The United States is a large country with a diverse population. It is made up of 50 states, each with its own unique culture and history. The United States is a global superpower and has a significant influence on world affairs.\n",
    "\n",
    "### Answer: ###\n",
    "* The United States is a large, diverse country with 50 states, each with its own unique culture and history. As a global superpower, the United States exerts significant influence on world affairs.\n",
    "\n",
    "**Additional Instructions:**\n",
    "\n",
    "* Please ensure that your summary captures the key points of the text.\n",
    "* Use clear and concise language.\n",
    "* You MUST adhere to the specified word limit.\n",
    "* You will be penalized if your summary is not responsive to the text.\"\"\",\n",
    "        # Prompt3 from Suggest Prompt\n",
    "        \"\"\"###Instruction###\n",
    "\n",
    "Summarize the following text:\n",
    "\n",
    "###Input###\n",
    "{TEXT}\n",
    "\n",
    "###Your task is###\n",
    "\n",
    "Generate a concise and accurate summary of the input text.\n",
    "\n",
    "###You MUST###\n",
    "\n",
    "* Write in clear and concise language.\n",
    "* Cover all the main points of the text.\n",
    "* Keep the summary within 500 words.\n",
    "\n",
    "###You will be penalized if###\n",
    "\n",
    "* Your summary is incomplete or inaccurate.\n",
    "* Your summary exceeds the 500-word limit.\n",
    "\n",
    "###Answer in a natural, human-like manner###\n",
    "\n",
    "Pretend you are a highly skilled human summarizing the text.\n",
    "\n",
    "###Example###\n",
    "* **QUESTION:** Summarize the following text:\n",
    "{{EXAMPLE TEXT}}\n",
    "* **SUMMARY:** {{EXAMPLE SUMMARY}}\n",
    "\n",
    "###TIP###\n",
    "I'm going to tip $5 for a better summary!\"\"\",\n",
    "        # Prompt4 from Suggest Prompt\n",
    "        \"\"\"###Instruction###\n",
    "Your task is to summarize the following text:\n",
    "\n",
    "\n",
    "###Example###\n",
    "{TEXT}\n",
    "\n",
    "\n",
    "You MUST answer in a natural, human-like manner. You will be penalized for not following these instructions.\n",
    "###Question###\n",
    "{TEXT}\"\"\",\n",
    "        # Prompt5 from Suggest Prompt\n",
    "        \"\"\"###Instruction###\n",
    "Provide a concise summary of the following text:\n",
    "{TEXT}\n",
    "###Example###\n",
    "Input: Here is the provided request: \\\"Summarize this research paper: Effects of Climate Change on Marine Ecosystems\\\"\n",
    "Output: Marine ecosystems face significant threats from climate change, including rising sea temperatures, ocean acidification, and altered weather patterns. These changes disrupt ecological balances, leading to loss of biodiversity, shifts in species distribution, and reduced productivity.\n",
    "###Question###\n",
    "Your task is to generate a concise and informative summary of the provided text. Ensure your response is clear, concise, and free from errors. You MUST adhere to the formatting guidelines and provide a single cohesive summary. If you fail to meet these requirements, you will be penalized.\n",
    "Answer in a natural, human-like manner and ensure your response is comprehensive and covers the main points of the provided text.\"\"\",\n",
    "    ]\n",
    "    ins_score_pairs = {\n",
    "        ins: score(ins, training_sample)\n",
    "        for ins in tqdm(ins_lst, desc=\"Scoring\", position=0)\n",
    "    }\n",
    "    starting_step = 1\n",
    "    results = {starting_step: ins_score_pairs}\n",
    "    with open(SAVE_PATH, \"w\") as f:\n",
    "        json.dump(results, f)\n",
    "\n",
    "# Each step takes aboy 5 to 10 minutes with gemma:2b\n",
    "STEP_COUNT = 10\n",
    "TARGET_STEP = starting_step + STEP_COUNT\n",
    "assert TARGET_STEP >= starting_step, \"TARGET_STEP should be greater than step.\"\n",
    "for i in range(starting_step, TARGET_STEP):\n",
    "    print(f\"Step {i}\")\n",
    "    while True:\n",
    "        try:\n",
    "            # Optimizer LLM\n",
    "            instructions = [\n",
    "                opt_llm(ins_score_pairs)\n",
    "                for _ in trange(INS_PER_STEP, desc=\"Optimizing\")\n",
    "            ]\n",
    "            print(instructions)\n",
    "\n",
    "            # Scoring the new instructions\n",
    "            new_ins_score_pairs = {\n",
    "                ins: score(ins, training_sample)\n",
    "                for ins in tqdm(instructions, desc=\"Scoring\", position=0)\n",
    "            }\n",
    "            print(new_ins_score_pairs)\n",
    "            combined_ins_score_pairs = {**ins_score_pairs, **new_ins_score_pairs}\n",
    "            ins_score_pairs = dict(\n",
    "                sorted(\n",
    "                    combined_ins_score_pairs.items(), key=lambda x: x[1], reverse=True\n",
    "                )[:MAX_INS_SCORE_PAIRS]\n",
    "            )\n",
    "\n",
    "            # Saving data\n",
    "            results[i] = ins_score_pairs\n",
    "            with open(SAVE_PATH, \"w\") as f:\n",
    "                json.dump(results, f)\n",
    "\n",
    "            break\n",
    "        except ValueError as e:\n",
    "            print(e)\n",
    "        except Exception as e:\n",
    "            print(e)"
   ]
  },
  {
   "cell_type": "markdown",
   "metadata": {},
   "source": [
    "### Plotting Results and Testing Accuracy"
   ]
  },
  {
   "cell_type": "code",
   "execution_count": 7,
   "metadata": {},
   "outputs": [
    {
     "data": {
      "text/plain": [
       "Text(0.5, 1.0, 'Step to Accuracy')"
      ]
     },
     "execution_count": 7,
     "metadata": {},
     "output_type": "execute_result"
    },
    {
     "data": {
      "image/png": "[encoded data removed]",
      "text/plain": [
       "<Figure size 640x480 with 1 Axes>"
      ]
     },
     "metadata": {},
     "output_type": "display_data"
    }
   ],
   "source": [
    "import statistics\n",
    "import matplotlib.pyplot as plt\n",
    "\n",
    "# load opro.json\n",
    "with open(SAVE_PATH) as f:\n",
    "    opro_results = json.load(f)\n",
    "\n",
    "# opro = {step:dict(sorted(opro[step].items(), key=lambda x: x[1], reverse=True)[:20]) for step in opro}\n",
    "step_to_accuracy = {\n",
    "    step: (\n",
    "        statistics.mean(opro_results[step].values()),\n",
    "        statistics.stdev(opro_results[step].values()),\n",
    "    )\n",
    "    for step in opro_results\n",
    "}\n",
    "\n",
    "# Plot step to accuracy as a continuous line graph, including stdevs as highlighted error bars\n",
    "fig, ax = plt.subplots()\n",
    "ax.errorbar(\n",
    "    step_to_accuracy.keys(),\n",
    "    [accuracy[0] for accuracy in step_to_accuracy.values()],\n",
    "    yerr=[accuracy[1] for accuracy in step_to_accuracy.values()],\n",
    "    fmt=\"o\",\n",
    ")\n",
    "ax.set_xticks([step for step in step_to_accuracy.keys() if int(step) % 5 == 0])\n",
    "ax.set_xlabel(\"Step\")\n",
    "ax.set_ylabel(\"Accuracy\")\n",
    "ax.set_title(\"Step to Accuracy\")"
   ]
  },
  {
   "cell_type": "code",
   "execution_count": 8,
   "metadata": {},
   "outputs": [
    {
     "data": {
      "text/plain": [
       "{'Summarize the text below: {TEXT}. \\nMake sure your summary includes all the important points and is clear and informative, and well-organized.': 53.426304319986464,\n",
       " 'Summarize the following text: {TEXT}. Ensure your summary is comprehensive, informative, and flows naturally. Make sure all the key points are included and presented in a coherent and engaging manner.': 49.914992937886325,\n",
       " 'Please summarize the following text: {TEXT}. Think step by step.': 49.56293326150442,\n",
       " 'Summarize the following text: {TEXT} Make sure the answer is natural and comprehensive.': 48.482160952774194,\n",
       " 'Summarize the following text, keep it comprehensive, concise, and accurate, along with being natural and human-like: {TEXT}': 48.24513589253414,\n",
       " 'Summarize the following text: {TEXT} To do this, make sure your summary includes all the important details, is clear and informative, well-organized, natural, comprehensive, and engaging.': 48.10797416692263,\n",
       " 'Summarize the following text: {TEXT}. Be comprehensive, concise, and accurate.': 47.63399093031041,\n",
       " 'Summarize the following text: {TEXT}. Write me something natural and comprehensive, showcasing your understanding of the subject matter.': 47.57073334423442,\n",
       " 'Summarize the following text, making sure to be detailed and precise\\n\\n{TEXT}\\nProvide an answer that is clear and comprehensive.': 47.33269478473005,\n",
       " 'Summarize the following text: {TEXT}. Use synonyms and demonstrate your natural language processing (NLP) skills.': 47.27128870519282,\n",
       " 'Summarize the following text to the best of your knowledge: {TEXT}. Make your summary fluent and natural, while ensuring it has a clear structure and appropriate length. Remember that your answer should contain all the important information from the provided text.': 47.15973484209696,\n",
       " 'Summarize the following text: {TEXT}. Make your answer as clear, concise, and informative as possible.': 46.98565900550886,\n",
       " 'Summarize the following text: {TEXT}. I need your summary to be clear, concise, and informative. Please ensure it includes all the relevant key points and is presented in an organized manner. Maintain a natural and coherent flow of ideas, demonstrating your understanding of the subject matter.': 46.85932368272939,\n",
       " 'Summarize the following text: {TEXT}.\\nBe unique, natural, and comprehensive, showcasing your understanding of the subject matter.\\nEnsure a clear progression of ideas and coherent structure.': 46.72084671324722,\n",
       " \"Summarize the following text: {TEXT}. Compose a comprehensive and cogent summary, effectively capturing the text's essence. Strive for conciseness, accuracy, and clarity, ensuring a well-structured and coherent narrative that presents a cohesive understanding of the text's content.\": 46.63082703023665,\n",
       " \"Summarize the following text: {TEXT}. Your answer should be unique, natural, clear, concise, accurate, comprehensive, fluent, and appropriate. Make sure there's a clear progression of ideas and coherent structure.\": 46.56297947932712,\n",
       " 'Please summarize the following text: {TEXT}. I need this to be in 400 words and under.': 46.54217054510298,\n",
       " 'Summarize the following text:  {TEXT}\\nRemember to be precise and natural.': 46.44784041554327,\n",
       " 'Summarize the following text: {TEXT}. Your output should adhere to the following requirements: Be succinct, natural, coherent, precise, accurate, and encompass all the key details from the provided text. As you generate the summary, think step by step and ensure a smooth flow of ideas. Your summary should be of high quality and reflect your understanding of the subject matter.': 46.42886771463125,\n",
       " 'Summarize the following text: {TEXT}. Include all the essential details and ensure your summary is coherent, concise, and accurate.': 46.21858917797348}"
      ]
     },
     "execution_count": 8,
     "metadata": {},
     "output_type": "execute_result"
    }
   ],
   "source": [
    "opro_results[str(len(opro_results))]"
   ]
  },
  {
   "cell_type": "code",
   "execution_count": 9,
   "metadata": {},
   "outputs": [
    {
     "data": {
      "application/vnd.jupyter.widget-view+json": {
       "model_id": "cc0341d67b644a9a96509454ae32f2ad",
       "version_major": 2,
       "version_minor": 0
      },
      "text/plain": [
       "Please summarize the following text: {TEXT}:   0%|          | 0/25 [00:00<?, ?it/s]"
      ]
     },
     "metadata": {},
     "output_type": "display_data"
    },
    {
     "name": "stdout",
     "output_type": "stream",
     "text": [
      "Initial Prompt: 37.11102688819135\n"
     ]
    },
    {
     "data": {
      "application/vnd.jupyter.widget-view+json": {
       "model_id": "2798faca8bb448f48230038bef138812",
       "version_major": 2,
       "version_minor": 0
      },
      "text/plain": [
       "Summarize the text below: {TEXT}. \n",
       "Make sure your summary includes all the important points and is clear and i…"
      ]
     },
     "metadata": {},
     "output_type": "display_data"
    },
    {
     "name": "stdout",
     "output_type": "stream",
     "text": [
      "Optimized Prompt (Summarize the text below: {TEXT}. \n",
      "Make sure your summary includes all the important points and is clear and informative, and well-organized.): 37.2377206243922\n"
     ]
    }
   ],
   "source": [
    "best_instruction = max(\n",
    "    opro_results[str(len(opro_results))], key=opro_results[str(len(opro_results))].get\n",
    ")\n",
    "print(f\"Initial Prompt: {score(CHOSEN_PROMPT, testing_sample)}\")\n",
    "print(f\"Optimized Prompt ({best_instruction}): {score(best_instruction, testing_sample)}\")"
   ]
  },
  {
   "cell_type": "code",
   "execution_count": 10,
   "metadata": {},
   "outputs": [
    {
     "data": {
      "application/vnd.jupyter.widget-view+json": {
       "model_id": "b4342b7863634f8ab5a77384f00c1d2d",
       "version_major": 2,
       "version_minor": 0
      },
      "text/plain": [
       "Please summarize the following text: {TEXT}:   0%|          | 0/150 [00:00<?, ?it/s]"
      ]
     },
     "metadata": {},
     "output_type": "display_data"
    },
    {
     "name": "stdout",
     "output_type": "stream",
     "text": [
      "Initial Prompt: 20.675759410887835\n"
     ]
    },
    {
     "data": {
      "application/vnd.jupyter.widget-view+json": {
       "model_id": "e556953a8fdc461d9789241c1073af6e",
       "version_major": 2,
       "version_minor": 0
      },
      "text/plain": [
       "Summarize the text below: {TEXT}. \n",
       "Make sure your summary includes all the important points and is clear and i…"
      ]
     },
     "metadata": {},
     "output_type": "display_data"
    },
    {
     "name": "stdout",
     "output_type": "stream",
     "text": [
      "Optimized Prompt (Summarize the text below: {TEXT}. \n",
      "Make sure your summary includes all the important points and is clear and informative, and well-organized.): 22.854674456754207\n"
     ]
    }
   ],
   "source": [
    "original_dataset = Dataset.from_dict(summary_dataset[:150])\n",
    "best_instruction = max(\n",
    "    opro_results[str(len(opro_results))], key=opro_results[str(len(opro_results))].get\n",
    ")\n",
    "print(f\"Initial Prompt: {score(CHOSEN_PROMPT, original_dataset)}\")\n",
    "print(f\"Optimized Prompt ({best_instruction}): {score(best_instruction, original_dataset)}\")"
   ]
  },
  {
   "cell_type": "markdown",
   "metadata": {},
   "source": [
    "### Example"
   ]
  },
  {
   "cell_type": "code",
   "execution_count": 11,
   "metadata": {},
   "outputs": [
    {
     "data": {
      "text/plain": [
       "('Existing property tax law establishes a veterans’ organization exemption under which property is exempt from taxation if, among other things, that property is used exclusively for charitable purposes and is owned by a veterans’ organization.\\nThis bill would provide that the veterans’ organization exemption shall not be denied to a property on the basis that the property is used for fraternal, lodge, or social club purposes, and would make specific findings and declarations in that regard. The bill would also provide that the exemption shall not apply to any portion of a property that consists of a bar where alcoholic beverages are served.\\nSection 2229 of the Revenue and Taxation Code requires the Legislature to reimburse local agencies annually for certain property tax revenues lost as a result of any exemption or classification of property for purposes of ad valorem property taxation.\\nThis bill would provide that, notwithstanding Section 2229 of the Revenue and Taxation Code, no appropriation is made and the state shall not reimburse local agencies for property tax revenues lost by them pursuant to the bill.\\nThis bill would take effect immediately as a tax levy.',\n",
       " \"Sure, here is the summary you requested:\\n\\nThe State of California enacted legislation that provides a tax exemption for veterans' organizations. This exemption allows organizations to receive tax-free status for the property they use for charitable purposes.\\n\\nThe legislation defines the following terms:\\n\\n* A veterans' organization is a non-profit organization that is chartered by the Congress of the United States and is organized and operated for charitable purposes.\\n* A property is eligible for the exemption if it is used exclusively for the purpose of the organization and is not used for any other purpose.\\n* The exemption applies to the property of all organizations that meet the requirements of the legislation.\\n\\nThe legislation also provides an exemption for the property of organizations that are used for fraternal, lodge, or social club purposes.\\n\\nThe legislation also provides an exemption for the property of organizations that are used for activities that are of a patriotic nature.\\n\\nThe legislation also provides an exemption for the property of organizations that are used for social and recreational activities for their members.\\n\\nThe legislation also provides an exemption for the property of organizations that are used for activities that are conducted for religious, charitable, scientific, literary, or educational purposes.\\n\\nThe legislation also provides an exemption for the property of organizations that are used for activities that are conducted for the purpose of providing social and recreational activities for veterans and their families.\\n\\nThe legislation also provides an exemption for the property of organizations that are used for activities that are conducted for the purpose of providing social and recreational activities for children of veterans and their families.\\n\\nThe legislation also provides an exemption for the property of organizations that are used for activities that are conducted for the purpose of providing social and recreational activities for people with disabilities.\\n\\nThe legislation also provides an exemption for the property of organizations that are used for activities that are conducted for the purpose of the purpose of the purpose of the organization.\",\n",
       " 0.2438909944939399)"
      ]
     },
     "execution_count": 11,
     "metadata": {},
     "output_type": "execute_result"
    }
   ],
   "source": [
    "res = opro.generate(\n",
    "    best_instruction.format(TEXT=summary_dataset[\"text\"][0]),\n",
    "    model=\"gemma\",  # gemma\n",
    ")\n",
    "summary_dataset[\"summary\"][0], res, score_rouge(res, summary_dataset[\"summary\"][0])"
   ]
  },
  {
   "cell_type": "code",
   "execution_count": null,
   "metadata": {},
   "outputs": [],
   "source": []
  }
 ],
 "metadata": {
  "kernelspec": {
   "display_name": "Python 3",
   "language": "python",
   "name": "python3"
  },
  "language_info": {
   "codemirror_mode": {
    "name": "ipython",
    "version": 3
   },
   "file_extension": ".py",
   "mimetype": "text/x-python",
   "name": "python",
   "nbconvert_exporter": "python",
   "pygments_lexer": "ipython3",
   "version": "3.10.12"
  }
 },
 "nbformat": 4,
 "nbformat_minor": 2
}
