{
 "cells": [
  {
   "cell_type": "code",
   "execution_count": 16,
   "metadata": {},
   "outputs": [
    {
     "name": "stderr",
     "output_type": "stream",
     "text": [
      "/home/dpaul/.local/lib/python3.10/site-packages/transformers/models/auto/tokenization_auto.py:671: FutureWarning: The `use_auth_token` argument is deprecated and will be removed in v5 of Transformers. Please use `token` instead.\n",
      "  warnings.warn(\n",
      "/home/dpaul/.local/lib/python3.10/site-packages/transformers/models/auto/auto_factory.py:472: FutureWarning: The `use_auth_token` argument is deprecated and will be removed in v5 of Transformers. Please use `token` instead.\n",
      "  warnings.warn(\n",
      "/home/dpaul/.local/lib/python3.10/site-packages/transformers/utils/hub.py:374: FutureWarning: The `use_auth_token` argument is deprecated and will be removed in v5 of Transformers. Please use `token` instead.\n",
      "  warnings.warn(\n"
     ]
    },
    {
     "name": "stdout",
     "output_type": "stream",
     "text": [
      "[Gramformer] Grammar error correct/highlight model loaded..\n"
     ]
    },
    {
     "data": {
      "text/plain": [
       "'Please properly punctuate the given text (without omitting a single word) and output only the resulting punctuated text. Please do not omit a single word from the original text. {TEXT}'"
      ]
     },
     "execution_count": 16,
     "metadata": {},
     "output_type": "execute_result"
    }
   ],
   "source": [
    "from datasets import load_dataset, Dataset\n",
    "import sys, os, json, re\n",
    "sys.path.append(os.path.join(os.getcwd(), '../..'))\n",
    "from OPRO import OPRO\n",
    "from nltk.translate import gleu_score\n",
    "import pandas as pd\n",
    "from tqdm.auto import tqdm, trange\n",
    "from gramformer import Gramformer\n",
    "import torch\n",
    "\n",
    "def set_seed(seed):\n",
    "  torch.manual_seed(seed)\n",
    "  if torch.cuda.is_available():\n",
    "    torch.cuda.manual_seed_all(seed)\n",
    "\n",
    "set_seed(1212)\n",
    "gf = Gramformer(models = 1, use_gpu=True)\n",
    "# Usage\n",
    "opro = OPRO([\"gemini\", \"gemma\", \"llama2\", \"anthropic\"])\n",
    "# dataset = load_dataset(\"pisterlabs/promptset\").filter(lambda row: len(row[\"prompts\"]) > 0)[\"train\"]\n",
    "# CHOSEN_PROMPT = dataset[\"prompts\"][404][0].replace(\"PLACEHOLDER\", \"{LANGUAGE}\", 1).replace(\"PLACEHOLDER\", \"{TEXT}\", 1)\n",
    "CHOSEN_PROMPT = 'Please properly punctuate the given text (without omitting a single word) and output only the resulting punctuated text. Please do not omit a single word from the original text.'  # somewhere in promptset. Will find idx later\n",
    "CHOSEN_PROMPT = CHOSEN_PROMPT + \" {TEXT}\"\n",
    "CHOSEN_PROMPT"
   ]
  },
  {
   "cell_type": "markdown",
   "metadata": {},
   "source": [
    "### Original Dataset (Not Needed!)"
   ]
  },
  {
   "cell_type": "markdown",
   "metadata": {},
   "source": [
    "### Generate Synthetic Data"
   ]
  },
  {
   "cell_type": "code",
   "execution_count": 17,
   "metadata": {},
   "outputs": [
    {
     "data": {
      "text/plain": [
       "[{'text': 'Please properly punctuate the given text (without omitting a single word) and output only the resulting punctuated text. Please do not omit a single word from the original text. {TEXT}.',\n",
       "  'correction': 'Please properly punctuate the given text (without omitting a single word) and output only the resulting punctuated text. Please do not omit a single word from the original text. TEXT.'},\n",
       " {'text': 'I is testng grammar tool using python. It does: not costt anythng. What is your name?',\n",
       "  'correction': 'I am testing grammar tool using python. It does not cost anything. What is your name?'},\n",
       " {'text': \"Who's ready for the extreme backcountry snow camping trip.???  We are and so is all of our gear.\",\n",
       "  'correction': \"Who's ready for the extreme backcountry snow camping trip.??? We are and so is all of our gear.\"},\n",
       " {'text': 'Please properly punctuate the given text (without omitting a single word) and output only the resulting punctuated text. Please do not omit a single word from the original text. {TEXT}.',\n",
       "  'correction': 'Please properly punctuate the given text (without omitting a single word) and output only the resulting punctuated text. Please do not omit a single word from the original text. TEXT.'},\n",
       " {'text': 'Please properly punctuate the given text (without omitting a single word) and output only the resulting punctuated text. Please do not omit a single word from the original text. {TEXT}.',\n",
       "  'correction': 'Please properly punctuate the given text (without omitting a single word) and output only the resulting punctuated text. Please do not omit a single word from the original text.'},\n",
       " {'text': 'Please properly punctuate the given text (without omitting a single word) and output only the resulting punctuated text. Please do not omit a single word from the original text. {TEXT}.',\n",
       "  'correction': 'Please properly punctuate the given text (without omitting a single word) and output only the resulting punctuated text. Please do not omit a single word from the original text.'},\n",
       " {'text': 'Please properly punctuate the given text (without omitting a single word) and output only the resulting punctuated text. Please do not omit a single word from the original text. {TEXT}.',\n",
       "  'correction': 'Please properly punctuate the given text (without omitting a single word) and output only the resulting punctuated text. Please do not omit a single word from the original text. TEXT.'},\n",
       " {'text': 'I is testng grammar tool using python. It does: not costt anythng. What is your name.',\n",
       "  'correction': 'I am testing grammar tool using python. It does not cost anything. What is your name?'},\n",
       " {'text': 'Please properly punctuate the given text (without omitting a single word) and output only the resulting punctuated text. Please do not omit a single word from the original text. {TEXT}.',\n",
       "  'correction': 'Please properly punctuate the given text (without omitting a single word) and output only the resulting punctuated text. Please do not omit a single word from the original text. TEXT.'},\n",
       " {'text': 'Please properly punctuate the given text (without omitting a single word) and output only the resulting punctuated text. Please do not omit a single word from the original text. {TEXT}.',\n",
       "  'correction': 'Please properly punctuate the given text (without omitting a single word) and output only the resulting punctuated text. Please do not omit a single word from the original text.'},\n",
       " {'text': 'I is testng grammar tool using python. It does: not costt anythng. What is your name.',\n",
       "  'correction': 'I am testing grammar tool using python. It does not cost anything. What is your name?'},\n",
       " {'text': 'Please properly punctuate the given text (without omitting a single word) and output only the resulting punctuated text. Please do not omit a single word from the original text. {TEXT}.',\n",
       "  'correction': 'Please properly punctuate the given text (without omitting a single word) and output only the resulting punctuated text. Please do not omit a single word from the original text.'},\n",
       " {'text': 'Please properly punctuate the given test without omitting a single word and output only the resulting punctuated text. Please do not omit a s ingle word from the original text. {TEXT}.',\n",
       "  'correction': 'Please properly punctuate the given test without omitting a single word and output only the resulting punctuated text. Please do not omit a single word from the original text. TEXT.'},\n",
       " {'text': 'Please properly punctuate the given text (without omitting a single word) and output only the resulting punctuated text. Please do not omit a single word from the original text. {TEXT}.',\n",
       "  'correction': 'Please properly punctuate the given text (without omitting a single word) and output only the resulting punctuated text. Please do not omit a single word from the original text. TEXT.'},\n",
       " {'text': 'Please properly punctuate the given text (without omitting a single word) and output only the resulting punctuated text. Please do not omit a single word from the original text. {TEXT}.',\n",
       "  'correction': 'Please properly punctuate the given text (without omitting a single word) and output only the resulting punctuated text. Please do not omit a single word from the original text.'},\n",
       " {'text': \"It doesn't cost anything.\",\n",
       "  'correction': \"It doesn't cost anything.\"},\n",
       " {'text': 'Don’t ask, me what I can do. You will be shocked. What is it?',\n",
       "  'correction': 'Don’t ask, me what I can do. You will be shocked. What is it?'},\n",
       " {'text': 'Please properly punctuate the given text (without omitting a single word) and output only the resulting punctuated text. Please do not omit a single word from the original text. {TEXT}.',\n",
       "  'correction': 'Please properly punctuate the given text (without omitting a single word) and output only the resulting punctuated text. Please do not omit a single word from the original text. TEXT.'},\n",
       " {'text': 'Please properly punctuate the given text (without omitting a single word) and output only the resulting punctuated text. Please do not omit a single word from the original text. I is testng grammar tool using python. It does: not costt anythng. What is your name.',\n",
       "  'correction': 'Please properly punctuate the given text (without omitting a single word) and output only the resulting punctuated text. Please do not omit a single word from the original text. I am testing grammar tool using python. It does not cost anything.'},\n",
       " {'text': 'Please properly punctuate the given text (without omitting a single word) and output only the resulting punctuated text. Please do not omit a single word from the original text. \\n\\n{TEXT}.',\n",
       "  'correction': 'Please properly punctuate the given text (without omitting a single word) and output only the resulting punctuated text. Please do not omit a single word from the original text.'},\n",
       " {'text': 'Please correct the grammar in this sentence: \\n\\nI is testing grammar tool with python, but It does not cost anything.',\n",
       "  'correction': 'Please correct the grammar in this sentence: I am testing grammar tool with python, but it does not cost anything.'},\n",
       " {'text': 'I is testng grammar tool using python. It does not costt anythng. What is your name.',\n",
       "  'correction': 'I am testing grammar tool using python. It does not cost anything. What is your name?'},\n",
       " {'text': 'Please, properly punctuate the given text (without omitting a single word) and output only the resulting punctuated text. Please, do not omit a single word from the original text. {TEXT}.',\n",
       "  'correction': 'Please, properly punctuate the given text (without omitting a single word) and output only the resulting punctuated text. Please, do not omit a single word from the original text. TEXT.'},\n",
       " {'text': 'Please properly punctuate the given text (without omitting a single word) and output only the resulting punctuated text. Please do not omit a single word from the original text. {TEST}.',\n",
       "  'correction': 'Please properly punctuate the given text (without omitting a single word) and output only the resulting punctuated text. Please do not omit a single word from the original text. TEST.'},\n",
       " {'text': 'I am testng grammar tool using python. It does not costt anythng. What is your name.',\n",
       "  'correction': 'I am testing grammar tool using python. It does not cost anything. What is your name?'},\n",
       " {'text': 'Please properly punctuate the given text (without omitting a single word) and output only the resulting punctuated text. Please do not omit a single word from the original text. {TEXT}.',\n",
       "  'correction': 'Please properly punctuate the given text (without omitting a single word) and output only the resulting punctuated text. Please do not omit a single word from the original text.'},\n",
       " {'text': 'Please properly punctuate the given text (without omitting a single word) and output only the resulting punctuated text. Please do not omit a single word from the original text. {TEXT}.',\n",
       "  'correction': 'Please properly punctuate the given text (without omitting a single word) and output only the resulting punctuated text. Please do not omit a single word from the original text.'},\n",
       " {'text': 'Please properly punctuate the given text (without omitting a single word) and output only the resulting punctuated text. Please do not omit a single word from the original text. {TEXT}.',\n",
       "  'correction': 'Please properly punctuate the given text (without omitting a single word) and output only the resulting punctuated text. Please do not omit a single word from the original text. TEXT.'},\n",
       " {'text': 'Please properly punctuate the given text (without omitting a single word) and output only the resulting punctuated text. Please do not omit a single word from the original text. {TEXT}.',\n",
       "  'correction': 'Please properly punctuate the given text (without omitting a single word) and output only the resulting punctuated text. Please do not omit a single word from the original text.'},\n",
       " {'text': 'ERROR: INSTRUCTIONS NOT CLEAR.',\n",
       "  'correction': 'ERROR: INSTRUCTIONS NOT CLEAR.'},\n",
       " {'text': 'Please properly punctuate the given text (without omitting a single word) and output only the resulting punctuated text. Please do not omit a single word from the original text. {TEXT}.',\n",
       "  'correction': 'Please properly punctuate the given text (without omitting a single word) and output only the resulting punctuated text. Please do not omit a single word from the original text. TEXT.'},\n",
       " {'text': 'Please properly punctuate the given text (without omitting a single word) and output only the resulting punctuated text. Please do not omit a single word from the original text. {TEXT}. Please properly punctuate the given text (without omitting a single word) and output only the resulting punctuated text. Please do not omit a single word from the original text. {TEXT}',\n",
       "  'correction': 'Please properly punctuate the given text (without omitting a single word) and output only the resulting punctuated text. Please do not omit a single word from the original text. TEXT. Please properly punctuate the given text (without'},\n",
       " {'text': 'Please properly punctuate the given text (without omitting a single word) and output only the resulting punctuated text. Please do not omit a single word from the original text. {TEXT}.',\n",
       "  'correction': 'Please properly punctuate the given text (without omitting a single word) and output only the resulting punctuated text. Please do not omit a single word from the original text.'},\n",
       " {'text': 'Please properly punctuate the given text (without omitting a single word) and output only the resulting punctuated text.  Please do not omit a single word from the original text.  {TEXT}.',\n",
       "  'correction': 'Please properly punctuate the given text (without omitting a single word) and output only the resulting punctuated text. Please do not omit a single word from the original text.'},\n",
       " {'text': 'Please properly punctuate the given text (without omitting a single word) and output only the resulting punctuated text. Please do not omit a single word from the original text. {TEXT}.',\n",
       "  'correction': 'Please properly punctuate the given text (without omitting a single word) and output only the resulting punctuated text. Please do not omit a single word from the original text.'},\n",
       " {'text': 'I is testng grammar tool using python. It does: not costt anythng. What is your name',\n",
       "  'correction': 'I am testing grammar tool using python. It does not cost anything. What is your name?'},\n",
       " {'text': 'Please properly punctuate the given text (without omitting a single word) and output only the resulting punctuated text. Please do not omit a single word from the original text. {TEXT}.',\n",
       "  'correction': 'Please properly punctuate the given text (without omitting a single word) and output only the resulting punctuated text. Please do not omit a single word from the original text.'},\n",
       " {'text': 'Please properly punctuate the given text (without omitting a single word) and output only the resulting punctuated text. Please do not omit a single word from the original text. {TEXT}.',\n",
       "  'correction': 'Please properly punctuate the given text (without omitting a single word) and output only the resulting punctuated text. Please do not omit a single word from the original text. TEXT.'},\n",
       " {'text': 'Please properly punctuate the given text (without omitting a single word). Please do not omit a single word from the original text. {TEXT}.',\n",
       "  'correction': 'Please properly punctuate the given text (without omitting a single word). Please do not omit a single word from the original text.'},\n",
       " {'text': 'Please properly punctuate the given text (without omitting a single word) and output only the resulting punctuated text. Please do not omit a single word from the original text.{TEXT}.',\n",
       "  'correction': 'Please properly punctuate the given text (without omitting a single word) and output only the resulting punctuated text. Please do not omit a single word from the original text.'}]"
      ]
     },
     "execution_count": 17,
     "metadata": {},
     "output_type": "execute_result"
    }
   ],
   "source": [
    "# Generate a question and answer pair using a language model\n",
    "def generate_qa_pair():\n",
    "    prompt_template = \"\"\"You are a helpful assistant designed to generate synthetic text with grammatical error for the prompt: {CHOSEN_PROMPT}.\n",
    "\n",
    "Please generate a text with grammatical errors as a JSON object, like the following:\n",
    "\n",
    "{{\n",
    "    \"text\": \\\"\\\"\\\"I is testng grammar tool using python. It does: not costt anythng. What is your name.\\\"\\\"\\\",\n",
    "}}\n",
    "\n",
    "Take a deep breath and think step-by-step. Respond with only the JSON object!\n",
    "\"\"\"\n",
    "\n",
    "    response = opro.generate(\n",
    "        prompt_template.format(\n",
    "            CHOSEN_PROMPT=CHOSEN_PROMPT,\n",
    "        ),\n",
    "        model=\"gemini\",  # gemini\n",
    "        is_indeterministic=True,\n",
    "    )\n",
    "\n",
    "    return eval(response)\n",
    "\n",
    "SYNTHETIC_DATA_FILEPATH = \"synthetic_grammar_dataset.json\"\n",
    "if not os.path.exists(SYNTHETIC_DATA_FILEPATH):\n",
    "    qa_pairs = []\n",
    "    SAMPLE_SIZE = 40\n",
    "\n",
    "    # Generating synthetic data\n",
    "    pbar = tqdm(total=SAMPLE_SIZE)\n",
    "    while len(qa_pairs) < SAMPLE_SIZE:\n",
    "        try:\n",
    "            qa_pair = generate_qa_pair()\n",
    "            qa_pair[\"correction\"] = list(gf.correct(qa_pair[\"text\"], max_candidates=1))[0]\n",
    "            qa_pairs.append(qa_pair)\n",
    "            pbar.update(1)\n",
    "        except Exception as e:\n",
    "            print(e)\n",
    "    pbar.close()\n",
    "\n",
    "    # Saving to file\n",
    "    with open(SYNTHETIC_DATA_FILEPATH, \"w\") as f:\n",
    "        f.write(str(qa_pairs))\n",
    "\n",
    "# Reading saved data\n",
    "with open(SYNTHETIC_DATA_FILEPATH, \"r\") as f:\n",
    "    qa_pairs = eval(f.read())\n",
    "\n",
    "qa_pairs"
   ]
  },
  {
   "cell_type": "code",
   "execution_count": 18,
   "metadata": {},
   "outputs": [
    {
     "data": {
      "text/plain": [
       "(10, 10, 25, 25)"
      ]
     },
     "execution_count": 18,
     "metadata": {},
     "output_type": "execute_result"
    }
   ],
   "source": [
    "TRAINING_SAMPLE_SIZE = 10\n",
    "TESTING_SAMPLE_SIZE = 25\n",
    "\n",
    "training_sample = Dataset.from_dict(\n",
    "    {\n",
    "        \"text\": [pair[\"text\"] for pair in qa_pairs[:TRAINING_SAMPLE_SIZE]],\n",
    "        \"correction\": [pair[\"correction\"] for pair in qa_pairs[:TRAINING_SAMPLE_SIZE]],\n",
    "    }\n",
    ")\n",
    "\n",
    "testing_sample = Dataset.from_dict(\n",
    "    {\n",
    "        \"text\": [\n",
    "            pair[\"text\"]\n",
    "            for pair in qa_pairs[\n",
    "                TRAINING_SAMPLE_SIZE : TRAINING_SAMPLE_SIZE + TESTING_SAMPLE_SIZE\n",
    "            ]\n",
    "        ],\n",
    "        \"correction\": [\n",
    "            pair[\"correction\"]\n",
    "            for pair in qa_pairs[\n",
    "                TRAINING_SAMPLE_SIZE : TRAINING_SAMPLE_SIZE + TESTING_SAMPLE_SIZE\n",
    "            ]\n",
    "        ],\n",
    "    }\n",
    ")\n",
    "\n",
    "# Checking if the lists are parallel, i.e. the question and answer at the same index are related\n",
    "len(training_sample[\"text\"]), len(training_sample[\"correction\"]), len(testing_sample[\"text\"]), len(testing_sample[\"correction\"])"
   ]
  },
  {
   "cell_type": "markdown",
   "metadata": {},
   "source": [
    "### Optimize Prompt on Synthetic Data"
   ]
  },
  {
   "cell_type": "code",
   "execution_count": 19,
   "metadata": {},
   "outputs": [],
   "source": [
    "def has_correct_keywords(s):\n",
    "    extract_keys = lambda x: re.findall(r'{(.*?)}', x)\n",
    "    return extract_keys(s) == ['TEXT']\n",
    "\n",
    "\n",
    "def opt_llm(instruction_score_pairs):\n",
    "    # Format the instruction and score pairs into a string\n",
    "    pairs_str = \"\"\n",
    "    for ins, score in instruction_score_pairs.items():\n",
    "        pairs_str += f\"text:\\n{ins}\\nscore:\\n{score:.2f}\\n\\n\"\n",
    "\n",
    "    prompt = \"\"\"You are an optimization expert. The user has some texts along with their corresponding scores.\n",
    "Your task is to generate a new piece of text that scores as high as possible. \n",
    "Generate the new unique text only, not its corresponding score.\n",
    "\n",
    "Here are some texts along with their corresponding scores. The texts are arranged in ascending order\n",
    "based on their scores, where higher scores indicate better quality.\n",
    "\n",
    "{pairs_str}\n",
    "\n",
    "Write your new text that is different from the old ones and has a score as high as possible.\n",
    "Generate the new unique text only, not its corresponding score.\n",
    "New instruction:\n",
    "\"\"\"\n",
    "    response = \"\"\n",
    "    while not has_correct_keywords(response):\n",
    "        response = opro.generate(\n",
    "            prompt.format(pairs_str=pairs_str),\n",
    "            model=\"gemini\",  # gemini\n",
    "            is_indeterministic=True,\n",
    "        )\n",
    "    return response\n",
    "\n",
    "\n",
    "def score(prompt, sample):\n",
    "    \"\"\"\n",
    "    Score the instruction using the sample.\n",
    "\n",
    "    Args:\n",
    "    instruction: str\n",
    "    sample: Dataset with \"question\" and \"answer\" as keys\n",
    "\n",
    "    Returns:\n",
    "    accuracy: float\n",
    "    \"\"\"\n",
    "    accuracy = 0\n",
    "    with tqdm(sample, desc=prompt, position=1, leave=False) as pbar:\n",
    "        for idx, sample_qa in enumerate(pbar):\n",
    "            res = opro.generate(\n",
    "                prompt.format(TEXT=sample_qa[\"text\"]),\n",
    "                model=\"gemma\",  # gemma\n",
    "            )\n",
    "            # Heuristic for detecting correctness\n",
    "            accuracy += gleu_score.sentence_gleu([res], sample_qa[\"correction\"])\n",
    "            pbar.set_postfix({\"Accuracy\": f\"{accuracy / (idx + 1):.2f}\"})\n",
    "\n",
    "    return accuracy / len(sample) * 100"
   ]
  },
  {
   "cell_type": "code",
   "execution_count": 20,
   "metadata": {},
   "outputs": [],
   "source": [
    "INS_PER_STEP = 8\n",
    "MAX_INS_SCORE_PAIRS = 20\n",
    "SAVE_PATH = \"synthetic_grammar_OPRO_results.json\"\n",
    "\n",
    "# loading saved data\n",
    "if os.path.exists(SAVE_PATH):\n",
    "    with open(SAVE_PATH, \"r\") as f:\n",
    "        results = json.load(f)\n",
    "    starting_step = len(results) + 1\n",
    "    ins_score_pairs = results[str(len(results))]\n",
    "else:\n",
    "    ins_lst = [\n",
    "        CHOSEN_PROMPT,\n",
    "        f\"{CHOSEN_PROMPT}.\\n Think step by step.\",\n",
    "        f\"{CHOSEN_PROMPT}.\\n Take a deep breath.\",\n",
    "        f\"{CHOSEN_PROMPT}.\\n Be concise and clear.\",\n",
    "        f\"{CHOSEN_PROMPT}.\\n You are a summarization expert.\",\n",
    "        f\"{CHOSEN_PROMPT}.\\n Explain your answer in simple terms.\",\n",
    "        f\"{CHOSEN_PROMPT}.\\n You are a helpful assistant.\",\n",
    "        f\"{CHOSEN_PROMPT}.\\n You are a summarization expert. Think step by step.\"]\n",
    "    ins_score_pairs = {\n",
    "        ins: score(ins, training_sample)\n",
    "        for ins in tqdm(ins_lst, desc=\"Scoring\", position=0)\n",
    "    }\n",
    "    starting_step = 1\n",
    "    results = {starting_step: ins_score_pairs}\n",
    "    with open(SAVE_PATH, \"w\") as f:\n",
    "        json.dump(results, f)\n",
    "\n",
    "# Each step takes aboy 5 to 10 minutes with gemma:2b\n",
    "STEP_COUNT = 0\n",
    "TARGET_STEP = starting_step + STEP_COUNT\n",
    "assert TARGET_STEP >= starting_step, \"TARGET_STEP should be greater than step.\"\n",
    "for i in range(starting_step, TARGET_STEP):\n",
    "    print(f\"Step {i}\")\n",
    "    while True:\n",
    "        try:\n",
    "            # Optimizer LLM\n",
    "            instructions = [\n",
    "                opt_llm(ins_score_pairs)\n",
    "                for _ in trange(INS_PER_STEP, desc=\"Optimizing\")\n",
    "            ]\n",
    "            print(instructions)\n",
    "\n",
    "            # Scoring the new instructions\n",
    "            new_ins_score_pairs = {\n",
    "                ins: score(ins, training_sample)\n",
    "                for ins in tqdm(instructions, desc=\"Scoring\", position=0)\n",
    "            }\n",
    "            print(new_ins_score_pairs)\n",
    "            combined_ins_score_pairs = {**ins_score_pairs, **new_ins_score_pairs}\n",
    "            ins_score_pairs = dict(\n",
    "                sorted(\n",
    "                    combined_ins_score_pairs.items(), key=lambda x: x[1], reverse=True\n",
    "                )[:MAX_INS_SCORE_PAIRS]\n",
    "            )\n",
    "\n",
    "            # Saving data\n",
    "            results[i] = ins_score_pairs\n",
    "            with open(SAVE_PATH, \"w\") as f:\n",
    "                json.dump(results, f)\n",
    "\n",
    "            break\n",
    "        except ValueError as e:\n",
    "            print(e)\n",
    "        except Exception as e:\n",
    "            print(e)"
   ]
  },
  {
   "cell_type": "markdown",
   "metadata": {},
   "source": [
    "### Plotting Results and Testing Accuracy"
   ]
  },
  {
   "cell_type": "code",
   "execution_count": 21,
   "metadata": {},
   "outputs": [
    {
     "data": {
      "text/plain": [
       "Text(0.5, 1.0, 'Step to Accuracy')"
      ]
     },
     "execution_count": 21,
     "metadata": {},
     "output_type": "execute_result"
    },
    {
     "data": {
      "image/png": "[encoded data removed]",
      "text/plain": [
       "<Figure size 640x480 with 1 Axes>"
      ]
     },
     "metadata": {},
     "output_type": "display_data"
    }
   ],
   "source": [
    "import statistics\n",
    "import matplotlib.pyplot as plt\n",
    "\n",
    "# load opro.json\n",
    "with open(SAVE_PATH) as f:\n",
    "    opro_results = json.load(f)\n",
    "\n",
    "# opro = {step:dict(sorted(opro[step].items(), key=lambda x: x[1], reverse=True)[:20]) for step in opro}\n",
    "step_to_accuracy = {\n",
    "    step: (\n",
    "        statistics.mean(opro_results[step].values()),\n",
    "        statistics.stdev(opro_results[step].values()),\n",
    "    )\n",
    "    for step in opro_results\n",
    "}\n",
    "\n",
    "# Plot step to accuracy as a continuous line graph, including stdevs as highlighted error bars\n",
    "fig, ax = plt.subplots()\n",
    "ax.errorbar(\n",
    "    step_to_accuracy.keys(),\n",
    "    [accuracy[0] for accuracy in step_to_accuracy.values()],\n",
    "    yerr=[accuracy[1] for accuracy in step_to_accuracy.values()],\n",
    "    fmt=\"o\",\n",
    ")\n",
    "ax.set_xticks([step for step in step_to_accuracy.keys() if int(step) % 5 == 0])\n",
    "ax.set_xlabel(\"Step\")\n",
    "ax.set_ylabel(\"Accuracy\")\n",
    "ax.set_title(\"Step to Accuracy\")"
   ]
  },
  {
   "cell_type": "code",
   "execution_count": 22,
   "metadata": {},
   "outputs": [
    {
     "data": {
      "text/plain": [
       "{'Please check the following sentence and correct any missing punctuation and grammatical errors. Output the punctuated text without omitting any words: \"{TEXT}\". Only provide the corrected text.': 95.78383441300069,\n",
       " 'Please check the following text for missing punctuation. Return only the punctuated text, ensuring no omissions or rearrangements:\\n\\n{TEXT}.': 95.73365860861722,\n",
       " 'Please properly punctuate and output the following text. Kindly output the resulting punctuated text without skipping any words:\\n\\n{TEXT}.\\nRefrain from adding or removing any words, maintaining consistency and clearness in the punctuated text, and observe all the grammatical rules.': 94.96087807664433,\n",
       " 'Correct punctuation and grammar of the text, output only corrected text skipping no words:(\"{TEXT}\").': 92.47636074386868,\n",
       " '\"Considering your request, I\\'d like to submit \"Please properly punctuate the following text and output only the resulting punctuated text, without omitting a single word.\\n\\n{TEXT}.\"': 83.67480440189141,\n",
       " 'Please punctuate the provided text and output only the resulting punctuated version, ensuring that no characters or grammar are missing, omitted, or rearranged:\\n\\n\"{TEXT}\".': 81.67999910802057,\n",
       " 'Here is a correct punctuation of your request:\\n\\n\"Please properly punctuate and output the following text. Kindly output the resulting punctuated text without skipping any words:\\n\\n{TEXT}.\"': 64.87668615724374,\n",
       " 'Please complete the punctuation based on the provided text without omitting or rearranging any of the original words:\\n\\n{TEXT}.\\n\\nOutput the resulting punctuated text only.': 56.45308322099767,\n",
       " 'Please complete the punctuation based on the provided text without changing the order of or omitting any of the original words:\\n\\n{TEXT}.': 55.99926910888395,\n",
       " 'Please properly punctuate the given text and output only the resulting punctuation version, ensuring that no words are omitted:\\n{TEXT}.': 54.422109621923894,\n",
       " 'Please properly punctuate the following text. Output only the punctuated text without skipping any words or changing the order of words, and adhere to the rules of grammar.\\n\\n{TEXT}.': 54.06495899091539,\n",
       " 'Please correct the punctuation and grammar of the following sentence: output only the punctuated text, without omission of words.\\n\\n{TEXT}.': 53.3389462313362,\n",
       " 'Please properly punctuate the given text and output only the resulting punctuated text, with no omissions:\\n\\n{TEXT}.': 52.79197038615676,\n",
       " 'Please properly punctuate the text and output only the punctuated text with no omissions.\\n{TEXT}.': 52.499655607430185,\n",
       " '\"Please properly punctuate the given text and output the result, omitting no words.\\n\\n{TEXT}.\"': 52.40274882927054,\n",
       " 'Please properly punctuate the following text. Output the resulting punctuated text, without omitting a single word.\\n\\n{TEXT}.': 52.303992684494524,\n",
       " 'Please punctuate the provided text correctly and output only the resulting punctuated version, ensuring that no characters are missing:\\n{TEXT}.': 52.303992684494524,\n",
       " 'Please punctuate the provided text, ensuring that there are no words omitted or rearranged. Output only the resulting punctuated version.\\n\\n{TEXT}.': 52.303992684494524,\n",
       " 'Please punctuate the provided text without omitting or rearranging the original words, and output only the punctuated version.\\n\\n{TEXT}': 52.303992684494524,\n",
       " 'Please properly punctuate the following text without omitting or rearranging any of the original words:\\n\\n{TEXT}.\\n\\nOutput the resulting punctuated text and nothing else.': 52.28906542061622}"
      ]
     },
     "execution_count": 22,
     "metadata": {},
     "output_type": "execute_result"
    }
   ],
   "source": [
    "opro_results[str(len(opro_results))]"
   ]
  },
  {
   "cell_type": "code",
   "execution_count": 23,
   "metadata": {},
   "outputs": [
    {
     "data": {
      "application/vnd.jupyter.widget-view+json": {
       "model_id": "970b2c50a468411ba49ec5e95507cc34",
       "version_major": 2,
       "version_minor": 0
      },
      "text/plain": [
       "Please properly punctuate the given text (without omitting a single word) and output only the resulting punctu…"
      ]
     },
     "metadata": {},
     "output_type": "display_data"
    },
    {
     "name": "stdout",
     "output_type": "stream",
     "text": [
      "Initial Prompt: 31.06516230697552\n"
     ]
    },
    {
     "data": {
      "application/vnd.jupyter.widget-view+json": {
       "model_id": "d601ee1f075b450b9647f91408bbdb56",
       "version_major": 2,
       "version_minor": 0
      },
      "text/plain": [
       "Please check the following sentence and correct any missing punctuation and grammatical errors. Output the pun…"
      ]
     },
     "metadata": {},
     "output_type": "display_data"
    },
    {
     "name": "stdout",
     "output_type": "stream",
     "text": [
      "Optimized Prompt (Please check the following sentence and correct any missing punctuation and grammatical errors. Output the punctuated text without omitting any words: \"{TEXT}\". Only provide the corrected text.): 84.07777902332688\n"
     ]
    }
   ],
   "source": [
    "best_instruction = max(\n",
    "    opro_results[str(len(opro_results))], key=opro_results[str(len(opro_results))].get\n",
    ")\n",
    "print(f\"Initial Prompt: {score(CHOSEN_PROMPT, testing_sample)}\")\n",
    "print(f\"Optimized Prompt ({best_instruction}): {score(best_instruction, testing_sample)}\")"
   ]
  },
  {
   "cell_type": "code",
   "execution_count": 24,
   "metadata": {},
   "outputs": [
    {
     "data": {
      "application/vnd.jupyter.widget-view+json": {
       "model_id": "d8c86fd472254eb78b74ea3098b151a7",
       "version_major": 2,
       "version_minor": 0
      },
      "text/plain": [
       "Please properly punctuate the given text (without omitting a single word) and output only the resulting punctu…"
      ]
     },
     "metadata": {},
     "output_type": "display_data"
    },
    {
     "name": "stdout",
     "output_type": "stream",
     "text": [
      "Initial Prompt: 61.70009783923551\n"
     ]
    },
    {
     "data": {
      "application/vnd.jupyter.widget-view+json": {
       "model_id": "d6667ea2adbc460280419627f97db517",
       "version_major": 2,
       "version_minor": 0
      },
      "text/plain": [
       "Please check the following sentence and correct any missing punctuation and grammatical errors. Output the pun…"
      ]
     },
     "metadata": {},
     "output_type": "display_data"
    },
    {
     "name": "stdout",
     "output_type": "stream",
     "text": [
      "Optimized Prompt (Please check the following sentence and correct any missing punctuation and grammatical errors. Output the punctuated text without omitting any words: \"{TEXT}\". Only provide the corrected text.): 67.33555318322296\n"
     ]
    }
   ],
   "source": [
    "from datasets import Dataset\n",
    "import pandas as pd\n",
    "original_dataset = pd.read_csv(\"Grammar Correction.csv\")\n",
    "original_dataset[original_dataset[\"Error Type\"] == \"Punctuation Errors\"]\n",
    "original_dataset = original_dataset[original_dataset[\"Error Type\"] == \"Punctuation Errors\"][[\"Ungrammatical Statement\", \"Standard English\"]]\n",
    "# Rename the columns\n",
    "original_dataset.columns = [\"text\", \"correction\"]\n",
    "# Convert to Dataset\n",
    "original_dataset = Dataset.from_pandas(original_dataset)\n",
    "print(f\"Initial Prompt: {score(CHOSEN_PROMPT, original_dataset)}\")\n",
    "print(f\"Optimized Prompt ({best_instruction}): {score(best_instruction, original_dataset)}\")"
   ]
  }
 ],
 "metadata": {
  "kernelspec": {
   "display_name": "Python 3",
   "language": "python",
   "name": "python3"
  },
  "language_info": {
   "codemirror_mode": {
    "name": "ipython",
    "version": 3
   },
   "file_extension": ".py",
   "mimetype": "text/x-python",
   "name": "python",
   "nbconvert_exporter": "python",
   "pygments_lexer": "ipython3",
   "version": "3.10.12"
  }
 },
 "nbformat": 4,
 "nbformat_minor": 2
}
