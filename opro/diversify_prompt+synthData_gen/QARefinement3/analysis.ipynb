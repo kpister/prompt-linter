{
 "cells": [
  {
   "cell_type": "code",
   "execution_count": 2,
   "metadata": {},
   "outputs": [
    {
     "data": {
      "text/plain": [
       "(4,\n",
       " [\"You are a very smart chemistry professor. Answer the student's question concisely and clearly \\\\ \\nIf you do not know the answer, say so.\\n\\nHere is a question:\\n{input}\",\n",
       "  'Summarize this for a second-grade student:\\n\\nPLACEHOLDER',\n",
       "  'PLACEHOLDER your unique perspective guide your decisions.',\n",
       "  'Now do the same procedure on following sentence: PLACEHOLDER'])"
      ]
     },
     "execution_count": 2,
     "metadata": {},
     "output_type": "execute_result"
    }
   ],
   "source": [
    "import os, json\n",
    "import numpy as np\n",
    "\n",
    "count = 0\n",
    "lst = []\n",
    "with open(\"testingSetScores.json\", \"r\") as f:\n",
    "    data = json.load(f)\n",
    "    for k in data:\n",
    "        initial_prompt_score = list(data[k][\"initial_prompt\"].values())[0]\n",
    "        optimized_prompt_score = list(data[k][\"optimized_prompt\"].values())[0]\n",
    "        initial_prompt = list(data[k][\"initial_prompt\"].keys())[0]\n",
    "        optimized_prompt = list(data[k][\"optimized_prompt\"].keys())[0]\n",
    "                \n",
    "        delta = optimized_prompt_score - initial_prompt_score\n",
    "        # NOTE: 5 prompts misclassified as improved. Although delta > 0, the initial prompt == optimized prompt.\n",
    "        # if initial_prompt == optimized_prompt and delta > 0:\n",
    "        #     count += 1\n",
    "        #     lst.append(k)\n",
    "        \n",
    "        if delta > 0 and initial_prompt != optimized_prompt:\n",
    "            count += 1\n",
    "            lst.append(k)\n",
    "\n",
    "assert count == len(lst)\n",
    "count, lst"
   ]
  },
  {
   "cell_type": "code",
   "execution_count": 2,
   "metadata": {},
   "outputs": [
    {
     "name": "stdout",
     "output_type": "stream",
     "text": [
      "[2.857142857142861, 17.142857142857146, 0.0, 37.142857142857146, 42.857142857142854]\n",
      "Avg change: 20.0\n",
      "Std: 17.42622935083075\n",
      "95% CI: 15.274763500624156\n"
     ]
    }
   ],
   "source": [
    "import os, json\n",
    "import numpy as np\n",
    "\n",
    "# walk = sorted(os.walk(\".\"), key=lambda x: x[0])[::-1]\n",
    "# for dirpath, dirnames, filenames in walk:\n",
    "#     if \"testingSetScores.json\" in filenames:\n",
    "#         data = json.load(open(os.path.join(dirpath, \"testingSetScores.json\"), \"r\"))\n",
    "#         # sort data\n",
    "#         data = dict(sorted(data.items(), key=lambda x: x[1][\"ID\"]))\n",
    "#         deltas = []\n",
    "#         for k in data:\n",
    "#             initial_prompt_score = list(data[k][\"initial_prompt\"].values())[0]\n",
    "#             optimized_prompt_score = list(data[k][\"optimized_prompt\"].values())[0]\n",
    "#             delta = optimized_prompt_score - initial_prompt_score\n",
    "#             deltas.append(delta)\n",
    "            \n",
    "#         print(deltas)\n",
    "#         avg_change = sum(deltas) / len(deltas)\n",
    "#         print(f\"Avg change: {dirpath}: {avg_change}\")\n",
    "        \n",
    "with open(\"testingSetScores.json\", \"r\") as f:\n",
    "    data = json.load(f)\n",
    "    deltas = []\n",
    "    for k in data:\n",
    "        initial_prompt_score = list(data[k][\"initial_prompt\"].values())[0]\n",
    "        optimized_prompt_score = list(data[k][\"optimized_prompt\"].values())[0]\n",
    "        delta = optimized_prompt_score - initial_prompt_score\n",
    "        deltas.append(delta)\n",
    "        \n",
    "    print(deltas)\n",
    "    avg_change = np.mean(deltas)\n",
    "    std = np.std(deltas)\n",
    "    ci = 1.96 * std / np.sqrt(len(deltas))\n",
    "    print(f\"Avg change: {avg_change}\")\n",
    "    print(f\"Std: {std}\")\n",
    "    print(f\"95% CI: {ci}\")\n",
    "    \n",
    "    # Plot the points on a vertical line with the confidence interval\n",
    "    # import matplotlib.pyplot as plt\n",
    "    # xs = np.zeros(len(deltas))\n",
    "    # plt.figure()\n",
    "    # plt.errorbar(xs, deltas, yerr=ci, fmt='o')\n",
    "    # plt.show()"
   ]
  },
  {
   "cell_type": "code",
   "execution_count": 3,
   "metadata": {},
   "outputs": [
    {
     "name": "stdout",
     "output_type": "stream",
     "text": [
      "Number of prompts that worsened: 0\n",
      "Number of prompts that improved: 4\n",
      "Number of prompts that stayed the same: 1\n"
     ]
    }
   ],
   "source": [
    "temp = np.array(deltas)\n",
    "print(f\"Number of prompts that worsened: {len(temp[temp < 0])}\")\n",
    "print(f\"Number of prompts that improved: {len(temp[temp > 0])}\")\n",
    "print(f\"Number of prompts that stayed the same: {len(temp[temp == 0])}\")\n"
   ]
  },
  {
   "cell_type": "code",
   "execution_count": 4,
   "metadata": {},
   "outputs": [
    {
     "data": {
      "image/png": "[encoded data removed]",
      "text/plain": [
       "<Figure size 640x480 with 1 Axes>"
      ]
     },
     "metadata": {},
     "output_type": "display_data"
    }
   ],
   "source": [
    "import matplotlib.pyplot as plt\n",
    "plt.hist(deltas, bins=7)\n",
    "plt.xlabel(\"Improvement in Prompt Score\")\n",
    "plt.ylabel(\"Number of Prompts\")\n",
    "plt.title(\"Distribution of Prompt Score Improvements\")\n",
    "plt.show()"
   ]
  },
  {
   "cell_type": "code",
   "execution_count": null,
   "metadata": {},
   "outputs": [],
   "source": []
  }
 ],
 "metadata": {
  "kernelspec": {
   "display_name": "Python 3",
   "language": "python",
   "name": "python3"
  },
  "language_info": {
   "codemirror_mode": {
    "name": "ipython",
    "version": 3
   },
   "file_extension": ".py",
   "mimetype": "text/x-python",
   "name": "python",
   "nbconvert_exporter": "python",
   "pygments_lexer": "ipython3",
   "version": "3.10.12"
  }
 },
 "nbformat": 4,
 "nbformat_minor": 2
}
