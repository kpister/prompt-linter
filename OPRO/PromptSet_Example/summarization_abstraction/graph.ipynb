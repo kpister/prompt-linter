{
 "cells": [
  {
   "cell_type": "code",
   "execution_count": 4,
   "metadata": {},
   "outputs": [
    {
     "data": {
      "text/plain": [
       "['Please summarize the following text: {TEXT}',\n",
       " 'Please summarize the following text: {TEXT}. Think step by step.',\n",
       " 'Please summarize the following text: {TEXT}. Take a deep breath.',\n",
       " 'Please summarize the following text: {TEXT}. Be concise and clear.',\n",
       " 'Please summarize the following text: {TEXT}. You are a summarization expert.',\n",
       " 'Please summarize the following text: {TEXT}. Explain your answer in simple terms.',\n",
       " 'Please summarize the following text: {TEXT}. You are a helpful assistant.',\n",
       " '#### Instruction ####\\n\\nSummarize the following text:\\n\\n#### Input ####\\n\\n{TEXT}\\n\\n#### Expected Response Format ####\\n\\n[Your summary]',\n",
       " '**Instruction**: Summarize the following text:\\n\\n**{TEXT}**\\n\\n**Example:**\\n\\n* Summarize the following text:\\n> The United States is a large country with a diverse population. It is made up of 50 states, each with its own unique culture and history. The United States is a global superpower and has a significant influence on world affairs.\\n\\n### Answer: ###\\n* The United States is a large, diverse country with 50 states, each with its own unique culture and history. As a global superpower, the United States exerts significant influence on world affairs.\\n\\n**Additional Instructions:**\\n\\n* Please ensure that your summary captures the key points of the text.\\n* Use clear and concise language.\\n* You MUST adhere to the specified word limit.\\n* You will be penalized if your summary is not responsive to the text.',\n",
       " \"###Instruction###\\n\\nSummarize the following text:\\n\\n###Input###\\n{TEXT}\\n\\n###Your task is###\\n\\nGenerate a concise and accurate summary of the input text.\\n\\n###You MUST###\\n\\n* Write in clear and concise language.\\n* Cover all the main points of the text.\\n* Keep the summary within 500 words.\\n\\n###You will be penalized if###\\n\\n* Your summary is incomplete or inaccurate.\\n* Your summary exceeds the 500-word limit.\\n\\n###Answer in a natural, human-like manner###\\n\\nPretend you are a highly skilled human summarizing the text.\\n\\n###TIP###\\nI'm going to tip $5 for a better summary!\",\n",
       " '###Instruction###\\nYour task is to summarize the following text:\\n\\n{TEXT}\\n\\nYou MUST answer in a natural, human-like manner. You will be penalized for not following these instructions.',\n",
       " '###Instruction###\\nProvide a concise summary of the following text:\\n{TEXT}\\n###Example###\\nInput: Here is the provided request: \"Summarize this research paper: Effects of Climate Change on Marine Ecosystems\"\\nOutput: Marine ecosystems face significant threats from climate change, including rising sea temperatures, ocean acidification, and altered weather patterns. These changes disrupt ecological balances, leading to loss of biodiversity, shifts in species distribution, and reduced productivity.\\n###Question###\\nYour task is to generate a concise and informative summary of the provided text. Ensure your response is clear, concise, and free from errors. You MUST adhere to the formatting guidelines and provide a single cohesive summary. If you fail to meet these requirements, you will be penalized.\\nAnswer in a natural, human-like manner and ensure your response is comprehensive and covers the main points of the provided text.']"
      ]
     },
     "execution_count": 4,
     "metadata": {},
     "output_type": "execute_result"
    }
   ],
   "source": [
    "CHOSEN_PROMPT = 'Please summarize the following text: {TEXT}'  # somewhere in promptset. Will find idx later\n",
    "INTERPOLATE_VAR = '{TEXT}'\n",
    "SEED_PROMPTS = [\n",
    "    CHOSEN_PROMPT,\n",
    "    f\"{CHOSEN_PROMPT}. Think step by step.\",\n",
    "    f\"{CHOSEN_PROMPT}. Take a deep breath.\",\n",
    "    f\"{CHOSEN_PROMPT}. Be concise and clear.\",\n",
    "    f\"{CHOSEN_PROMPT}. You are a summarization expert.\",\n",
    "    f\"{CHOSEN_PROMPT}. Explain your answer in simple terms.\",\n",
    "    f\"{CHOSEN_PROMPT}. You are a helpful assistant.\",\n",
    "    # Prompt1 from Suggest Prompt\n",
    "    f\"\"\"#### Instruction ####\n",
    "\n",
    "Summarize the following text:\n",
    "\n",
    "#### Input ####\n",
    "\n",
    "{INTERPOLATE_VAR}\n",
    "\n",
    "#### Expected Response Format ####\n",
    "\n",
    "[Your summary]\"\"\",\n",
    "    # Prompt2 from Suggest Prompt\n",
    "    f\"\"\"**Instruction**: Summarize the following text:\n",
    "\n",
    "**{INTERPOLATE_VAR}**\n",
    "\n",
    "**Example:**\n",
    "\n",
    "* Summarize the following text:\n",
    "> The United States is a large country with a diverse population. It is made up of 50 states, each with its own unique culture and history. The United States is a global superpower and has a significant influence on world affairs.\n",
    "\n",
    "### Answer: ###\n",
    "* The United States is a large, diverse country with 50 states, each with its own unique culture and history. As a global superpower, the United States exerts significant influence on world affairs.\n",
    "\n",
    "**Additional Instructions:**\n",
    "\n",
    "* Please ensure that your summary captures the key points of the text.\n",
    "* Use clear and concise language.\n",
    "* You MUST adhere to the specified word limit.\n",
    "* You will be penalized if your summary is not responsive to the text.\"\"\",\n",
    "    # Prompt3 from Suggest Prompt\n",
    "    f\"\"\"###Instruction###\n",
    "\n",
    "Summarize the following text:\n",
    "\n",
    "###Input###\n",
    "{INTERPOLATE_VAR}\n",
    "\n",
    "###Your task is###\n",
    "\n",
    "Generate a concise and accurate summary of the input text.\n",
    "\n",
    "###You MUST###\n",
    "\n",
    "* Write in clear and concise language.\n",
    "* Cover all the main points of the text.\n",
    "* Keep the summary within 500 words.\n",
    "\n",
    "###You will be penalized if###\n",
    "\n",
    "* Your summary is incomplete or inaccurate.\n",
    "* Your summary exceeds the 500-word limit.\n",
    "\n",
    "###Answer in a natural, human-like manner###\n",
    "\n",
    "Pretend you are a highly skilled human summarizing the text.\n",
    "\n",
    "###TIP###\n",
    "I'm going to tip $5 for a better summary!\"\"\",\n",
    "    # Prompt4 from Suggest Prompt\n",
    "    f\"\"\"###Instruction###\n",
    "Your task is to summarize the following text:\n",
    "\n",
    "{INTERPOLATE_VAR}\n",
    "\n",
    "You MUST answer in a natural, human-like manner. You will be penalized for not following these instructions.\"\"\",\n",
    "    # Prompt5 from Suggest Prompt\n",
    "    f\"\"\"###Instruction###\n",
    "Provide a concise summary of the following text:\n",
    "{INTERPOLATE_VAR}\n",
    "###Example###\n",
    "Input: Here is the provided request: \\\"Summarize this research paper: Effects of Climate Change on Marine Ecosystems\\\"\n",
    "Output: Marine ecosystems face significant threats from climate change, including rising sea temperatures, ocean acidification, and altered weather patterns. These changes disrupt ecological balances, leading to loss of biodiversity, shifts in species distribution, and reduced productivity.\n",
    "###Question###\n",
    "Your task is to generate a concise and informative summary of the provided text. Ensure your response is clear, concise, and free from errors. You MUST adhere to the formatting guidelines and provide a single cohesive summary. If you fail to meet these requirements, you will be penalized.\n",
    "Answer in a natural, human-like manner and ensure your response is comprehensive and covers the main points of the provided text.\"\"\",\n",
    "]\n",
    "\n",
    "\n",
    "SEED_PROMPTS"
   ]
  },
  {
   "cell_type": "code",
   "execution_count": 5,
   "metadata": {},
   "outputs": [],
   "source": [
    "import statistics\n",
    "import matplotlib.pyplot as plt\n",
    "import json\n",
    "SAVE_PATH = \"synthetic_summarization_OPRO_results_async.json\"\n",
    "\n",
    "# load opro.json\n",
    "with open(SAVE_PATH) as f:\n",
    "    opro_results = json.load(f)\n",
    "\n",
    "opro_results[\"0\"] = {}\n",
    "count = 0\n",
    "for key in opro_results[\"1\"]:\n",
    "    if key in SEED_PROMPTS:\n",
    "        opro_results[\"0\"][key] = opro_results[\"1\"][key]\n",
    "opro_results[\"0\"]\n",
    "\n",
    "# sort opro_results by keys\n",
    "opro_results = dict(sorted(opro_results.items(), key=lambda item: int(item[0])))"
   ]
  },
  {
   "cell_type": "code",
   "execution_count": 6,
   "metadata": {},
   "outputs": [
    {
     "data": {
      "text/plain": [
       "<matplotlib.legend.Legend at 0x7fccba2100a0>"
      ]
     },
     "execution_count": 6,
     "metadata": {},
     "output_type": "execute_result"
    },
    {
     "data": {
      "image/png": "[encoded data removed]",
      "text/plain": [
       "<Figure size 640x480 with 1 Axes>"
      ]
     },
     "metadata": {},
     "output_type": "display_data"
    }
   ],
   "source": [
    "step_to_accuracy = {\n",
    "    step: (\n",
    "        statistics.mean(opro_results[step].values()),\n",
    "        max(opro_results[step].values()),\n",
    "        min(opro_results[step].values()),\n",
    "    )\n",
    "    for step in opro_results\n",
    "}\n",
    "\n",
    "# Plot step to accuracy as a continuous line graph, including stdevs as highlighted error bars\n",
    "fig, ax = plt.subplots()\n",
    "ax.errorbar(\n",
    "    step_to_accuracy.keys(),\n",
    "    [accuracy[0] for accuracy in step_to_accuracy.values()],\n",
    "    yerr=[\n",
    "        [accuracy[0] - accuracy[2] for accuracy in step_to_accuracy.values()],  # Lower errors\n",
    "        [accuracy[1] - accuracy[0] for accuracy in step_to_accuracy.values()]   # Upper errors\n",
    "    ],\n",
    "    fmt=\"o\",\n",
    ")\n",
    "\n",
    "ax.set_xticks([step for step in step_to_accuracy.keys() if int(step) % 5 == 0])\n",
    "ax.set_xlabel(\"Step\")\n",
    "ax.set_ylabel(\"Accuracy\")\n",
    "ax.set_title(\"Step to Accuracy\")\n",
    "\n",
    "# Add a pink point to the plot\n",
    "ax.plot(0, opro_results[\"0\"][CHOSEN_PROMPT], 'o', color='pink')\n",
    "\n",
    "# Add legend to show pink dot is initial prompt accuracy, blue dot is avg prompt accuracy\n",
    "ax.legend([\"Initial Prompt Accuracy\", \"Average Prompt Accuracy\"], loc=\"lower right\")\n"
   ]
  },
  {
   "cell_type": "code",
   "execution_count": 7,
   "metadata": {},
   "outputs": [
    {
     "data": {
      "text/plain": [
       "{'Please summarize the following text: {TEXT}. Be concise and clear.': 37.391615998145724,\n",
       " '#### Instruction ####\\n\\n    Summarize the following text:\\n\\n    #### Input ####\\n\\n    {TEXT}\\n\\n    #### Expected Response Format ####\\n\\n    [Your summary]': 36.26786141728525,\n",
       " '**Instruction**: Summarize the following text:\\n\\n    **{TEXT}**\\n\\n    **Example:**\\n\\n    * Summarize the following text:\\n    > The United States is a large country with a diverse population. It is made up of 50 states, each with its own unique culture and history. The United States is a global superpower and has a significant influence on world affairs.\\n\\n    ### Answer: ###\\n    * The United States is a large, diverse country with 50 states, each with its own unique culture and history. As a global superpower, the United States exerts significant influence on world affairs.\\n\\n    **Additional Instructions:**\\n\\n    * Please ensure that your summary captures the key points of the text.\\n    * Use clear and concise language.\\n    * You MUST adhere to the specified word limit.\\n    * You will be penalized if your summary is not responsive to the text.': 35.20270607986781,\n",
       " 'Please summarize the following text: {TEXT}. You are a summarization expert.': 33.7419921386451,\n",
       " 'Please summarize the following text: {TEXT}. Take a deep breath.': 32.56685158912051,\n",
       " 'Please summarize the following text: {TEXT}': 32.54537488456432,\n",
       " \"**Instruction**: Please provide a concise and accurate summary of the following text:\\n\\n{TEXT}\\n\\n**Tips:**\\n* Be precise and to the point.\\n* Use proper grammar and spelling.\\n* Ensure your summary captures all the main points of the original text.\\n**Additional Instructions:*\\n* Your summary should be written in a natural, human-like manner.\\n* You will be penalized if your summary is not responsive to the original text.\\n**Bonus Tip:** I'll give you a ⭐ if your summary is better than average.\\n**Step-by-Step Guide:** Take your time to read the text carefully, think step by step, and write your summary in a clear and concise manner.\\n**Note:** Make sure your summary is well-organized and easy to follow.\\n**Reminder:** Keep your summary concise and within the specified word limit.\\n\\n\": 30.872307640223056,\n",
       " \"**Instruction**: Please provide a clear and concise summary of the following text:\\n\\n**{TEXT}**\\n\\n**Tips:*\\n* Be precise and to the point.\\n* Use proper grammar and spelling.\\n* Ensure your summary captures all the main points of the original text.\\n\\n**Additional Instructions:*\\n* Your summary should be written in a natural, human-like manner.\\n* You will be penalized if your summary is not responsive to the original text.\\n\\n**Bonus Tip:** I'll give you a ⭐ if your summary is better than average.\\n\\n**Step-by-Step Guide:** Take your time to read the text carefully, think step by step, and write your summary in a clear and concise manner.\\n\\n**Note:** Make sure your summary is well-organized and easy to follow.\\n\\n**Reminder:** Keep your summary concise and within the specified word limit.\\n\": 30.654322647433023,\n",
       " '###Instruction###\\n    Provide a concise summary of the following text:\\n    {TEXT}\\n    ###Example###\\n    Input: Here is the provided request: \"Summarize this research paper: Effects of Climate Change on Marine Ecosystems\"\\n    Output: Marine ecosystems face significant threats from climate change, including rising sea temperatures, ocean acidification, and altered weather patterns. These changes disrupt ecological balances, leading to loss of biodiversity, shifts in species distribution, and reduced productivity.\\n    ###Question###\\n    Your task is to generate a concise and informative summary of the provided text. Ensure your response is clear, concise, and free from errors. You MUST adhere to the formatting guidelines and provide a single cohesive summary. If you fail to meet these requirements, you will be penalized.\\n    Answer in a natural, human-like manner and ensure your response is comprehensive and covers the main points of the provided text.': 30.51443577688483,\n",
       " \"**Instruction**: Provide a concise and accurate summary of the following text:\\n\\n{TEXT}\\n\\n**Tips:**\\n* Be precise and to the point.\\n* Use proper grammar and spelling.\\n* Ensure your summary captures all the main points of the original text.\\n**Additional Instructions:**\\n* Your summary should be written in a natural, human-like manner.\\n* You will be penalized if your summary is not responsive to the original text.\\n* Take your time to read the text carefully, think step by step, and write your summary in a clear and concise manner.\\n**Bonus Tip:** I'll give you a ⭐ if your summary is better than average.\\n**Step-by-Step Guide:** Follow these steps to ensure your summary is well-organized and easy to follow.\\n**Note:** Make sure your summary is concise and within the specified word limit.\": 29.94605887219096,\n",
       " \"**Instruction**: Please provide a concise and accurate summary of the following text:\\n\\n{TEXT}\\n\\n**Tips:**\\n* Be precise and to the point.\\n* Use proper grammar and spelling.\\n* Ensure your summary captures all the main points of the original text.\\n\\n**Additional Instructions:**\\n* Your summary should be written in a natural, human-like manner.\\n* You will be penalized if your summary is not responsive to the original text.\\n* Pretend you are a highly skilled human summarizer.\\n\\n**Bonus Tip:** I'll give you a ⭐ if your summary is better than average.\\n\\n**Step-by-Step Guide:** Take your time to read the text carefully, think step by step, and write your summary in a clear and concise manner.\\n\\n**Note:** Make sure your summary is well-organized and easy to follow.\\n\\n**Reminder:** Keep your summary concise and within the specified word limit.\": 29.544057760450325,\n",
       " \"**Instruction**\\r\\n\\r\\nSummarize the following text:\\r\\n\\r\\n**{TEXT}**\\r\\n\\r\\n**Tips:**\\r\\n\\r\\n* Be concise and clear.\\r\\n* Use proper grammar and spelling.\\r\\n* Ensure your summary covers all the main points of the original text.\\r\\n\\r\\n**Additional Instructions:**\\r\\n\\r\\n* Your summary should be written in a natural, human-like manner.\\r\\n* You will be penalized if your summary is not responsive to the original text.\\r\\n\\r\\n**Bonus Tip:**\\r\\nI'll give you a ⭐ if your summary is better than average.\": 29.517069920562005,\n",
       " \"**Instruction**: Provide a concise and accurate summary of the following text:\\n\\n{TEXT}\\n\\n**Tips:*\\n* Be precise and to the point.\\n* Use proper grammar and spelling.\\n* Ensure your summary captures all the main points of the original text.\\n**Additional Instructions:*\\n* Your summary should be written in a natural, human-like manner.\\n* You will be penalized if your summary is not responsive to the original text.\\n**Bonus Tip:** I'll give you a ⭐ if your summary is better than average.\\n\\n**Step-by-Step Guide:** Take your time to read the text carefully, think step by step, and write your summary in a clear and concise manner.\\n\\n**Note:** Make sure your summary is well-organized and easy to follow.\\n**Reminder:** Keep your summary concise and within the specified word limit.\": 29.434543980979488,\n",
       " \"**Instruction**: Provide a concise and accurate summary of the following text:\\n\\n{TEXT}\\n\\n**Tips:*\\n* Be clear and concise.\\n* Use proper grammar and spelling.\\n* Ensure your summary captures all the main points of the original text.\\n**Additional Instructions:*\\n* Your summary should be written in a natural, human-like manner.\\n* You will be penalized if your summary is not responsive to the original text.\\n**Bonus Tip:** I'll give you a ⭐ if your summary is better than average.\\n**Step-by-Step Guide:** Take your time to read the text carefully, think step by step, and write your summary in a clear and concise manner.\\n**Note:** Make sure your summary is well-organized and easy to follow.\\n**Reminder:** Keep your summary concise and within the specified word limit.\": 29.33473546016827,\n",
       " \"**Instruction**: Summarize the following text:\\n\\n**{TEXT}**\\n\\n**Tips:**\\n* Be concise and clear.\\n* Use proper grammar and spelling.\\n* Ensure your summary captures all the main points of the original text.\\n\\n**Additional Instructions:*\\n* Your summary should be written in a natural, human-like manner.\\n* You will be penalized if your summary is not responsive to the original text.\\n* Think step by step.\\n\\n**Bonus Tip:** I'll give you a ⭐ if your summary is better than average.\\n\\n**Note:** Make sure your summary is well-organized and easy to follow.\\n\\n**Reminder:** Keep your summary concise and within the specified word limit.\": 29.308748634511733,\n",
       " \"**Instruction**: Provide a clear, concise, and accurate summary of the following text:\\n{TEXT}\\n\\n**Tips:*\\n* Be precise and to the point.\\n* Use proper grammar and spelling.\\n* Ensure your summary captures all the main points of the original text.\\n**Additional Instructions:*\\n* Your summary should be written in a natural, human-like manner.\\n* You will be penalized if your summary is not responsive to the original text.\\n* Pretend you are a highly skilled human summarizer.\\n**Bonus Tip:** I'll give you a ⭐ if your summary is better than average.\\n**Step-by-Step Guide:** Take your time to read the text carefully, think step by step, and write your summary in a clear and concise manner.\\n**Note:** Make sure your summary is well-organized and easy to follow.\\n**Reminder:** Keep your summary concise and within the specified word limit.\": 29.204339945604563,\n",
       " \"**Instruction**\\r\\nSummarize the following text:\\r\\n**{TEXT}**\\r\\n\\r\\n**Tips:**\\r\\n* Be concise and clear.\\r\\n* Use proper grammar and spelling.\\r\\n* Ensure your summary covers all the main points of the original text.\\r\\n\\r\\n**Additional Instructions:**\\r\\n* Your summary should be written in a natural, human-like manner.\\r\\n* You will be penalized if your summary is not responsive to the original text.\\r\\n\\r\\n**Bonus Tip:**\\r\\nI'll give you a ⭐ if your summary is better than average.\": 29.03275008240228,\n",
       " \"**Instruction**: Provide a concise and accurate summary of the following text:\\n\\n{TEXT}\\n\\n**Tips:**\\n* Be precise and to the point.\\n* Use proper grammar and spelling.\\n* Ensure your summary captures all the main points of the original text.\\n**Additional Instructions:**\\n* Your summary should be written in a natural, human-like manner.\\n* You will be penalized if your summary is not responsive to the original text.\\n* Pretend you are a highly skilled human summarizer.\\n**Bonus Tip:** I'll give you a ⭐ if your summary is better than average.\\n**Step-by-Step Guide:** Take your time to read the text carefully, think step by step, and write your summary in a clear and concise manner.\\n**Note:** Make sure your summary is well-organized and easy to follow.\\n**Reminder:** Keep your summary concise and within the specified word limit.\": 29.025443404088524,\n",
       " \"**Instruction**: Generate a concise and accurate summary of the following text:\\n{TEXT}\\n\\n**Tips:**\\n* Be precise and to the point.\\n* Use proper grammar and spelling.\\n* Ensure your summary captures all the main points of the original text.\\n\\n**Additional Instructions:**\\n* Your summary should be written in a natural, human-like manner.\\n* You will be penalized if your summary is not responsive to the original text.\\n* Pretend you are a highly skilled human summarizer.\\n\\n**Bonus Tip:** I'll give you a ⭐ if your summary is better than average.\\n\\n**Note:** Take your time to read the text carefully, think step by step, and write your summary in a clear and concise manner.\\n\\n**Reminder:** Keep your summary concise and within the specified word limit.\\n\": 28.949547767705468,\n",
       " \"**Instruction**: Create a concise and informative summary of the following text:\\r\\n\\r\\n{TEXT}\\r\\n\\r\\n**Tips:**\\r\\n* Be clear and concise.\\r\\n* Use proper grammar and spelling.\\r\\n* Ensure your summary captures all the main points of the original text.\\r\\n\\r\\n**Additional Instructions:**\\r\\n* Your summary should be written in a natural, human-like manner.\\r\\n* You will be penalized if your summary is not responsive to the original text.\\r\\n* Pretend you are a highly skilled human summarizer.\\r\\n\\r\\n**Bonus Tip:** I'll give you a ⭐ if your summary is better than average.\\r\\n**Step-by-Step Guide:** Take your time to read the text carefully, think step by step, and write your summary in a clear and concise manner.\\r\\n**Note:** Make sure your summary is well-organized and easy to follow.\\r\\n**Reminder:** Keep your summary concise and within the specified word limit.\\r\\n\": 28.625402496680874}"
      ]
     },
     "execution_count": 7,
     "metadata": {},
     "output_type": "execute_result"
    }
   ],
   "source": [
    "opro_results[str(len(opro_results) - 1)]"
   ]
  },
  {
   "cell_type": "code",
   "execution_count": 8,
   "metadata": {},
   "outputs": [
    {
     "name": "stdout",
     "output_type": "stream",
     "text": [
      "Please summarize the following text: {TEXT}. Be concise and clear.\n"
     ]
    }
   ],
   "source": [
    "best_instruction = max(\n",
    "    opro_results[str(len(opro_results) - 1)], key=opro_results[str(len(opro_results) - 1)].get\n",
    ")\n",
    "print(best_instruction)"
   ]
  },
  {
   "cell_type": "code",
   "execution_count": null,
   "metadata": {},
   "outputs": [],
   "source": []
  }
 ],
 "metadata": {
  "kernelspec": {
   "display_name": "Python 3",
   "language": "python",
   "name": "python3"
  },
  "language_info": {
   "codemirror_mode": {
    "name": "ipython",
    "version": 3
   },
   "file_extension": ".py",
   "mimetype": "text/x-python",
   "name": "python",
   "nbconvert_exporter": "python",
   "pygments_lexer": "ipython3",
   "version": "3.10.12"
  }
 },
 "nbformat": 4,
 "nbformat_minor": 2
}
