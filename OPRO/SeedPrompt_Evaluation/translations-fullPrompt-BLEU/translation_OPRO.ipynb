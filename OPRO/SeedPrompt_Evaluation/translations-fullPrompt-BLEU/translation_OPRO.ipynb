{
 "cells": [
  {
   "cell_type": "code",
   "execution_count": 1,
   "metadata": {},
   "outputs": [
    {
     "data": {
      "text/plain": [
       "'Please help me to translate the following text to {LANGUAGE}. Please return only translated content not include the origin text. Here is the text: \\n\\n{TEXT}'"
      ]
     },
     "execution_count": 1,
     "metadata": {},
     "output_type": "execute_result"
    }
   ],
   "source": [
    "from datasets import load_dataset, Dataset\n",
    "import sys, os, json, re\n",
    "sys.path.append(os.path.join(os.getcwd(), '../..'))\n",
    "from OPRO import OPRO\n",
    "from nltk.translate.bleu_score import sentence_bleu\n",
    "import pandas as pd\n",
    "from tqdm.auto import tqdm, trange\n",
    "\n",
    "opro = OPRO([\"gemini\", \"gemma\", \"llama2\", \"anthropic\"])\n",
    "dataset = load_dataset(\"pisterlabs/promptset\").filter(lambda row: len(row[\"prompts\"]) > 0)[\"train\"]\n",
    "CHOSEN_PROMPT = dataset[\"prompts\"][404][0].replace(\"PLACEHOLDER\", \"{LANGUAGE}\", 1).replace(\"PLACEHOLDER\", \"{TEXT}\", 1)\n",
    "CHOSEN_PROMPT"
   ]
  },
  {
   "cell_type": "markdown",
   "metadata": {},
   "source": [
    "### Original Dataset"
   ]
  },
  {
   "cell_type": "code",
   "execution_count": 2,
   "metadata": {},
   "outputs": [
    {
     "data": {
      "text/plain": [
       "(['How boring!',\n",
       "  'I love sports.',\n",
       "  'Would you like to swap jobs?',\n",
       "  'My mother did nothing but weep.',\n",
       "  'Croatia is in the southeastern part of Europe.'],\n",
       " ['¡Qué aburrimiento!',\n",
       "  'Adoro el deporte.',\n",
       "  '¿Te gustaría que intercambiemos los trabajos?',\n",
       "  'Mi madre no hizo nada sino llorar.',\n",
       "  'Croacia está en el sudeste de Europa.'])"
      ]
     },
     "execution_count": 2,
     "metadata": {},
     "output_type": "execute_result"
    }
   ],
   "source": [
    "import pandas as pd\n",
    "df = pd.read_csv(\"en-sp.csv\")\n",
    "df = df.sample(250, random_state=42)\n",
    "# df to dict without indices\n",
    "df_dict = df.to_dict(orient='records')\n",
    "# dict with two keys: english and spanish\n",
    "original_data = {\"english\": [], \"spanish\": []}\n",
    "for row in df_dict:\n",
    "    original_data[\"english\"].append(row[\"english\"])\n",
    "    original_data[\"spanish\"].append(row[\"spanish\"])\n",
    "original_data = Dataset.from_dict(original_data)\n",
    "original_data[\"english\"][:5], original_data[\"spanish\"][:5]"
   ]
  },
  {
   "cell_type": "markdown",
   "metadata": {},
   "source": [
    "### Generate Synthetic Data"
   ]
  },
  {
   "cell_type": "code",
   "execution_count": 3,
   "metadata": {},
   "outputs": [
    {
     "data": {
      "text/plain": [
       "[{'question': \"Don't be mad at me\", 'answer': 'No te enfades conmigo'},\n",
       " {'question': 'I hate the weather here!', 'answer': '¡Odio el clima aquí!'},\n",
       " {'question': 'I saw a dog today.', 'answer': 'Vi un perro hoy.'},\n",
       " {'question': '\"¿Qué es esto?\"', 'answer': '\"¿Qué es esto?\"'},\n",
       " {'question': 'Open your eyes. ', 'answer': 'Abre los ojos. '},\n",
       " {'question': 'Come on!', 'answer': '¡Vamos!'},\n",
       " {'question': 'Let me do it.', 'answer': 'Déjame hacerlo.'},\n",
       " {'question': 'This is fine.', 'answer': 'Está bien.'},\n",
       " {'question': 'Your chances are zero', 'answer': 'Tus posibilidades son cero'},\n",
       " {'question': 'Stinking up the place!', 'answer': '¡ Apesta a todo dar!'},\n",
       " {'question': 'Thank you', 'answer': 'Gracias'},\n",
       " {'question': 'How high?', 'answer': '¿Qué tan alto?'},\n",
       " {'question': '¡Qué divertido!', 'answer': 'How exciting!'},\n",
       " {'question': 'Are you going to buy that?', 'answer': '¿Vas a comprar eso?'},\n",
       " {'question': 'Vamos a por ello!', 'answer': \"Let's go!\"},\n",
       " {'question': 'Is this food okay?', 'answer': '¿Está bien esta comida?'},\n",
       " {'question': 'You really have to go to the mall?',\n",
       "  'answer': '¿Realmente tienes que ir al centro comercial?'},\n",
       " {'question': 'How excited!', 'answer': '¡Qué emoción!'},\n",
       " {'question': 'How Unbelievable', 'answer': '¡Increíble!'},\n",
       " {'question': 'This is great!', 'answer': 'Está genial'},\n",
       " {'question': 'Trendy', 'answer': 'A la moda'},\n",
       " {'question': 'It was a rainy day.', 'answer': 'Fue un día lluvioso.'},\n",
       " {'question': 'Sparkling water is refreshing.',\n",
       "  'answer': 'El agua con gas es refrescante.'},\n",
       " {'question': 'That was great!', 'answer': '¡Genial!'},\n",
       " {'question': 'Thank You.', 'answer': 'Gracias.'},\n",
       " {'question': 'Tutto a posto?', 'answer': 'O.K.?'},\n",
       " {'question': 'Look at that fly!', 'answer': '¡Mira esa mosca!'},\n",
       " {'question': 'What state is South Dakota?', 'answer': 'Dakota do Sul'},\n",
       " {'question': 'Holy cow!', 'answer': '¡Madre mía!'},\n",
       " {'question': \"That's an exaggeration.\", 'answer': 'Es una exageración.'},\n",
       " {'question': 'I am feeling gratitude.',\n",
       "  'answer': 'Estoy sintiendo gratitud.'},\n",
       " {'question': \"I've never liked that!\", 'answer': 'Nunca me ha gustado eso!'},\n",
       " {'question': 'That was easy!', 'answer': '¡Fue fácil!'},\n",
       " {'question': 'What is stunningly beautiful.',\n",
       "  'answer': '¿Qué es asombrosamente hermosa?'},\n",
       " {'question': 'What is that?', 'answer': '¿Qué es eso?'},\n",
       " {'question': 'Oh my God!', 'answer': '¡Dios mío!'},\n",
       " {'question': 'How excited, nice and elegant!',\n",
       "  'answer': '¡Qué entusiasmo tan bonito y elegante!'},\n",
       " {'question': 'I will clean up the house this weekend.',\n",
       "  'answer': 'Voy a limpiar la casa este fin de semana.'},\n",
       " {'question': 'No me siento muy bien.', 'answer': 'No me siento muy bien.'},\n",
       " {'question': 'That was dreadful!', 'answer': '¡Eso fue pésimo!'}]"
      ]
     },
     "execution_count": 3,
     "metadata": {},
     "output_type": "execute_result"
    }
   ],
   "source": [
    "# Generate a question and answer pair using a language model\n",
    "def generate_qa_pair():\n",
    "    prompt_template = \"\"\"You are a helpful assistant designed to generate synthetic questions and answers for the prompt: {CHOSEN_PROMPT}.\n",
    "\n",
    "Please generate a question and answer pair that is similar to the following question and answer pair as a JSON object:\n",
    "\n",
    "{{\n",
    "    \"english\": \\\"\\\"\\\"{question}\\\"\\\"\\\",\n",
    "    \"spanish\": \\\"\\\"\\\"{answer}\\\"\\\"\\\"\n",
    "}}\n",
    "\n",
    "Make sure the questions and answers are string values.\n",
    "Take a deep breath and think step-by-step. Respond with only the JSON object!\n",
    "\"\"\"\n",
    "\n",
    "    response = opro.generate(\n",
    "        prompt_template.format(\n",
    "            CHOSEN_PROMPT=CHOSEN_PROMPT,\n",
    "            question=original_data[\"english\"][0],\n",
    "            answer=original_data[\"spanish\"][0],\n",
    "        ),\n",
    "        model=\"gemini\",  # gemini\n",
    "        is_indeterministic=True,\n",
    "    )\n",
    "\n",
    "    return eval(response)\n",
    "\n",
    "SYNTHETIC_DATA_FILEPATH = \"synthetic_translations_dataset.json\"\n",
    "if not os.path.exists(SYNTHETIC_DATA_FILEPATH):\n",
    "    qa_pairs = []\n",
    "    SAMPLE_SIZE = 40\n",
    "\n",
    "    # Generating synthetic data\n",
    "    pbar = tqdm(total=SAMPLE_SIZE)\n",
    "    while len(qa_pairs) < SAMPLE_SIZE:\n",
    "        try:\n",
    "            qa_pair = generate_qa_pair()\n",
    "            qa_pairs.append(qa_pair)\n",
    "            pbar.update(1)\n",
    "        except Exception as e:\n",
    "            print(e)\n",
    "    pbar.close()\n",
    "\n",
    "    # Saving to file\n",
    "    with open(SYNTHETIC_DATA_FILEPATH, \"w\") as f:\n",
    "        f.write(str(qa_pairs))\n",
    "\n",
    "# Reading saved data\n",
    "with open(SYNTHETIC_DATA_FILEPATH, \"r\") as f:\n",
    "    qa_pairs = eval(f.read())\n",
    "\n",
    "qa_pairs"
   ]
  },
  {
   "cell_type": "code",
   "execution_count": 4,
   "metadata": {},
   "outputs": [
    {
     "data": {
      "text/plain": [
       "(10, 10, 25, 25)"
      ]
     },
     "execution_count": 4,
     "metadata": {},
     "output_type": "execute_result"
    }
   ],
   "source": [
    "TRAINING_SAMPLE_SIZE = 10\n",
    "TESTING_SAMPLE_SIZE = 25\n",
    "\n",
    "training_sample = Dataset.from_dict(\n",
    "    {\n",
    "        \"english\": [pair[\"question\"] for pair in qa_pairs[:TRAINING_SAMPLE_SIZE]],\n",
    "        \"spanish\": [pair[\"answer\"] for pair in qa_pairs[:TRAINING_SAMPLE_SIZE]],\n",
    "    }\n",
    ")\n",
    "\n",
    "testing_sample = Dataset.from_dict(\n",
    "    {\n",
    "        \"english\": [\n",
    "            pair[\"question\"]\n",
    "            for pair in qa_pairs[\n",
    "                TRAINING_SAMPLE_SIZE : TRAINING_SAMPLE_SIZE + TESTING_SAMPLE_SIZE\n",
    "            ]\n",
    "        ],\n",
    "        \"spanish\": [\n",
    "            pair[\"answer\"]\n",
    "            for pair in qa_pairs[\n",
    "                TRAINING_SAMPLE_SIZE : TRAINING_SAMPLE_SIZE + TESTING_SAMPLE_SIZE\n",
    "            ]\n",
    "        ],\n",
    "    }\n",
    ")\n",
    "\n",
    "# Checking if the lists are parallel, i.e. the question and answer at the same index are related\n",
    "len(training_sample[\"english\"]), len(training_sample[\"spanish\"]), len(testing_sample[\"english\"]), len(testing_sample[\"spanish\"])"
   ]
  },
  {
   "cell_type": "markdown",
   "metadata": {},
   "source": [
    "### Optimize Prompt on Synthetic Data"
   ]
  },
  {
   "cell_type": "code",
   "execution_count": 5,
   "metadata": {},
   "outputs": [],
   "source": [
    "def has_correct_keywords(s):\n",
    "    extract_keys = lambda x: re.findall(r'{(.*?)}', x)\n",
    "    return extract_keys(s) == ['LANGUAGE', 'TEXT']\n",
    "\n",
    "\n",
    "def opt_llm(instruction_score_pairs):\n",
    "    # Format the instruction and score pairs into a string\n",
    "    pairs_str = \"\"\n",
    "    for ins, score in instruction_score_pairs.items():\n",
    "        pairs_str += f\"text:\\n{ins}\\nscore:\\n{score:.2f}\\n\\n\"\n",
    "\n",
    "    prompt = \"\"\"You are an optimization expert. The user has some texts along with their corresponding scores.\n",
    "Your task is to generate a new piece of text that scores as high as possible. \n",
    "Generate the new unique text only, not its corresponding score.\n",
    "\n",
    "Here are some texts along with their corresponding scores. The texts are arranged in ascending order\n",
    "based on their scores, where higher scores indicate better quality.\n",
    "\n",
    "{pairs_str}\n",
    "\n",
    "Write your new text that is different from the old ones and has a score as high as possible.\n",
    "Generate the new unique text only, not its corresponding score.\n",
    "New instruction:\n",
    "\"\"\"\n",
    "    response = \"\"\n",
    "    while not has_correct_keywords(response):\n",
    "        response = opro.generate(\n",
    "            prompt.format(pairs_str=pairs_str),\n",
    "            model=\"gemini\",  # gemini\n",
    "            is_indeterministic=True,\n",
    "        )\n",
    "    return response\n",
    "\n",
    "\n",
    "def score(prompt, sample):\n",
    "    \"\"\"\n",
    "    Score the instruction using the sample.\n",
    "\n",
    "    Args:\n",
    "    instruction: str\n",
    "    sample: Dataset with \"question\" and \"answer\" as keys\n",
    "\n",
    "    Returns:\n",
    "    accuracy: float\n",
    "    \"\"\"\n",
    "    bleu_score = lambda expected, actual: sentence_bleu(\n",
    "        [expected.split()], actual.split(), \n",
    "        weights=[1],\n",
    "    )\n",
    "    accuracy = 0\n",
    "    with tqdm(sample, desc=prompt, position=1, leave=False) as pbar:\n",
    "        for idx, sample_qa in enumerate(pbar):\n",
    "            res = opro.generate(\n",
    "                prompt.format(LANGUAGE=\"Spanish\", TEXT=sample_qa[\"english\"]),\n",
    "                model=\"gemma\",  # gemma\n",
    "            )\n",
    "            # Heuristic for detecting correctness\n",
    "            accuracy += bleu_score(sample_qa[\"spanish\"], res)\n",
    "            pbar.set_postfix({\"Accuracy\": f\"{accuracy / (idx + 1):.2f}\"})\n",
    "\n",
    "    return accuracy / len(sample) * 100"
   ]
  },
  {
   "cell_type": "code",
   "execution_count": 6,
   "metadata": {},
   "outputs": [
    {
     "data": {
      "application/vnd.jupyter.widget-view+json": {
       "model_id": "0de81ccc172e46c680a43a22b4d42936",
       "version_major": 2,
       "version_minor": 0
      },
      "text/plain": [
       "Scoring:   0%|          | 0/11 [00:00<?, ?it/s]"
      ]
     },
     "metadata": {},
     "output_type": "display_data"
    },
    {
     "data": {
      "application/vnd.jupyter.widget-view+json": {
       "model_id": "dbdc1e844d4c46b88b5b797f906979b8",
       "version_major": 2,
       "version_minor": 0
      },
      "text/plain": [
       "Please help me to translate the following text to {LANGUAGE}. Please return only translated content not includ…"
      ]
     },
     "metadata": {},
     "output_type": "display_data"
    },
    {
     "data": {
      "application/vnd.jupyter.widget-view+json": {
       "model_id": "9bb0748d402a4825ba5706e140238133",
       "version_major": 2,
       "version_minor": 0
      },
      "text/plain": [
       "Please help me to translate the following text to {LANGUAGE}. Please return only translated content not includ…"
      ]
     },
     "metadata": {},
     "output_type": "display_data"
    },
    {
     "data": {
      "application/vnd.jupyter.widget-view+json": {
       "model_id": "3729118d31a2487f8da999dee0c17449",
       "version_major": 2,
       "version_minor": 0
      },
      "text/plain": [
       "Please help me to translate the following text to {LANGUAGE}. Please return only translated content not includ…"
      ]
     },
     "metadata": {},
     "output_type": "display_data"
    },
    {
     "data": {
      "application/vnd.jupyter.widget-view+json": {
       "model_id": "60d42a6c184b4b17bd4082c6a4178363",
       "version_major": 2,
       "version_minor": 0
      },
      "text/plain": [
       "Please help me to translate the following text to {LANGUAGE}. Please return only translated content not includ…"
      ]
     },
     "metadata": {},
     "output_type": "display_data"
    },
    {
     "data": {
      "application/vnd.jupyter.widget-view+json": {
       "model_id": "5d22b428a46448828ce6c976f3afb2a4",
       "version_major": 2,
       "version_minor": 0
      },
      "text/plain": [
       "Please help me to translate the following text to {LANGUAGE}. Please return only translated content not includ…"
      ]
     },
     "metadata": {},
     "output_type": "display_data"
    },
    {
     "data": {
      "application/vnd.jupyter.widget-view+json": {
       "model_id": "6b06e2bed29943caa4709d49a2055cce",
       "version_major": 2,
       "version_minor": 0
      },
      "text/plain": [
       "Please help me to translate the following text to {LANGUAGE}. Please return only translated content not includ…"
      ]
     },
     "metadata": {},
     "output_type": "display_data"
    },
    {
     "data": {
      "application/vnd.jupyter.widget-view+json": {
       "model_id": "a4a0f3cc4aa6442ba13455007eb01b52",
       "version_major": 2,
       "version_minor": 0
      },
      "text/plain": [
       "### Prompt\n",
       "        \n",
       "I'm going to tip $10 for a better solution!\n",
       "```\n",
       "### Instructions\n",
       "\n",
       "### Example\n",
       "Translate \"H…"
      ]
     },
     "metadata": {},
     "output_type": "display_data"
    },
    {
     "data": {
      "application/vnd.jupyter.widget-view+json": {
       "model_id": "78cca2b814274040b796a8ba604b108e",
       "version_major": 2,
       "version_minor": 0
      },
      "text/plain": [
       "Translate the following text to *{LANGUAGE}*.\n",
       "Return only the translated content. Do not include the original …"
      ]
     },
     "metadata": {},
     "output_type": "display_data"
    },
    {
     "data": {
      "application/vnd.jupyter.widget-view+json": {
       "model_id": "11623f7728e84577b07104c012158cce",
       "version_major": 2,
       "version_minor": 0
      },
      "text/plain": [
       "###Instruction###\n",
       "\n",
       "Please help me to translate the following text to {LANGUAGE}. Please return only translated…"
      ]
     },
     "metadata": {},
     "output_type": "display_data"
    },
    {
     "data": {
      "application/vnd.jupyter.widget-view+json": {
       "model_id": "87899a4d4239460f933ee9f52ec9b155",
       "version_major": 2,
       "version_minor": 0
      },
      "text/plain": [
       "####\n",
       "Your task is to translate the following text to {LANGUAGE}. You MUST only return the translated content a…"
      ]
     },
     "metadata": {},
     "output_type": "display_data"
    },
    {
     "data": {
      "application/vnd.jupyter.widget-view+json": {
       "model_id": "49e6efc2558f49d3900d7d91d82ec8e6",
       "version_major": 2,
       "version_minor": 0
      },
      "text/plain": [
       "###Instruction###\n",
       "Translate the following text into {LANGUAGE}:\n",
       "\n",
       "###Example###\n",
       "**English to Spanish:**\n",
       "```\n",
       "Ori…"
      ]
     },
     "metadata": {},
     "output_type": "display_data"
    },
    {
     "name": "stdout",
     "output_type": "stream",
     "text": [
      "Step 1\n"
     ]
    },
    {
     "data": {
      "application/vnd.jupyter.widget-view+json": {
       "model_id": "605c6dd4b9704e3ca66d7563f21d8d56",
       "version_major": 2,
       "version_minor": 0
      },
      "text/plain": [
       "Optimizing:   0%|          | 0/8 [00:00<?, ?it/s]"
      ]
     },
     "metadata": {},
     "output_type": "display_data"
    },
    {
     "name": "stdout",
     "output_type": "stream",
     "text": [
      "['Translate the following text to {LANGUAGE}:\\n\\n```\\n{TEXT}\\n```', '### Instruction\\n\\nPlease help me to translate the following text to {LANGUAGE}. Please return only translated content, not including the original text. \\n\\nThe translation needs to be of high quality and flawless. You should assume that grammar, sentence structure and word choice are all accurate. The text you provide should be fluent, easy to read and sound natural as if a native speaker had written it.\\n\\n{TEXT}', '### **Instruction**\\n\\nTranslate this text to {LANGUAGE}. Please only return the translated text, excluding the original text:\\n\\n### **Provided Text**\\n\\n{TEXT}\\n\\n### **Question**\\n\\nWhat does the translated text say?', 'Your task is to translate the following text to {LANGUAGE}. Please return only the translated content, excluding the original text.\\n\\n{TEXT}', 'Translate the following text to {LANGUAGE} and return only the translated content without including the original text. \\n\\n{TEXT}', '###Instruction###\\nTranslate the following text to {LANGUAGE}. Only return the translated text. Do not include the original text.\\n\\n{TEXT}', 'Translate the following text to {LANGUAGE}. Please only return the translated text, not the original.\\n\\n{TEXT}.', '### Instruction\\nI need a concise and accurate translation of the following text into {LANGUAGE}:\\n\\n### Example\\n**Original text**: Hello, world!\\n**Expected Translation**: こんにちは 世界!\\n\\n### Request\\n**Original text**: {TEXT}\\nReturn only the translated text, excluding the original text and this request.']\n"
     ]
    },
    {
     "data": {
      "application/vnd.jupyter.widget-view+json": {
       "model_id": "2e7b5cd035444e9b8d2d886bea56a5e1",
       "version_major": 2,
       "version_minor": 0
      },
      "text/plain": [
       "Scoring:   0%|          | 0/8 [00:00<?, ?it/s]"
      ]
     },
     "metadata": {},
     "output_type": "display_data"
    },
    {
     "data": {
      "application/vnd.jupyter.widget-view+json": {
       "model_id": "b161592d5306488faa31808728e15ca2",
       "version_major": 2,
       "version_minor": 0
      },
      "text/plain": [
       "Translate the following text to {LANGUAGE}:\n",
       "\n",
       "```\n",
       "{TEXT}\n",
       "```:   0%|          | 0/10 [00:00<?, ?it/s]"
      ]
     },
     "metadata": {},
     "output_type": "display_data"
    },
    {
     "data": {
      "application/vnd.jupyter.widget-view+json": {
       "model_id": "85f816c2f84e464bb8ca80db715c3cc9",
       "version_major": 2,
       "version_minor": 0
      },
      "text/plain": [
       "### Instruction\n",
       "\n",
       "Please help me to translate the following text to {LANGUAGE}. Please return only translated c…"
      ]
     },
     "metadata": {},
     "output_type": "display_data"
    },
    {
     "data": {
      "application/vnd.jupyter.widget-view+json": {
       "model_id": "38bbf46582b24979894055add1aa5018",
       "version_major": 2,
       "version_minor": 0
      },
      "text/plain": [
       "### **Instruction**\n",
       "\n",
       "Translate this text to {LANGUAGE}. Please only return the translated text, excluding the …"
      ]
     },
     "metadata": {},
     "output_type": "display_data"
    },
    {
     "data": {
      "application/vnd.jupyter.widget-view+json": {
       "model_id": "04b1d7b86cd54b878183c86158eaefc8",
       "version_major": 2,
       "version_minor": 0
      },
      "text/plain": [
       "Your task is to translate the following text to {LANGUAGE}. Please return only the translated content, excludi…"
      ]
     },
     "metadata": {},
     "output_type": "display_data"
    },
    {
     "data": {
      "application/vnd.jupyter.widget-view+json": {
       "model_id": "0378f5af084c4b5393422700f270b798",
       "version_major": 2,
       "version_minor": 0
      },
      "text/plain": [
       "Translate the following text to {LANGUAGE} and return only the translated content without including the origin…"
      ]
     },
     "metadata": {},
     "output_type": "display_data"
    },
    {
     "data": {
      "application/vnd.jupyter.widget-view+json": {
       "model_id": "37b3e1552937429699887b87a1b11c8a",
       "version_major": 2,
       "version_minor": 0
      },
      "text/plain": [
       "###Instruction###\n",
       "Translate the following text to {LANGUAGE}. Only return the translated text. Do not include …"
      ]
     },
     "metadata": {},
     "output_type": "display_data"
    },
    {
     "data": {
      "application/vnd.jupyter.widget-view+json": {
       "model_id": "719193f8301e4da8a2f4742db2f99575",
       "version_major": 2,
       "version_minor": 0
      },
      "text/plain": [
       "Translate the following text to {LANGUAGE}. Please only return the translated text, not the original.\n",
       "\n",
       "{TEXT}.…"
      ]
     },
     "metadata": {},
     "output_type": "display_data"
    },
    {
     "data": {
      "application/vnd.jupyter.widget-view+json": {
       "model_id": "69af17679cc6439aa2f41cfdb0cb30e6",
       "version_major": 2,
       "version_minor": 0
      },
      "text/plain": [
       "### Instruction\n",
       "I need a concise and accurate translation of the following text into {LANGUAGE}:\n",
       "\n",
       "### Example\n",
       "…"
      ]
     },
     "metadata": {},
     "output_type": "display_data"
    },
    {
     "name": "stdout",
     "output_type": "stream",
     "text": [
      "{'Translate the following text to {LANGUAGE}:\\n\\n```\\n{TEXT}\\n```': 18.772759103641455, '### Instruction\\n\\nPlease help me to translate the following text to {LANGUAGE}. Please return only translated content, not including the original text. \\n\\nThe translation needs to be of high quality and flawless. You should assume that grammar, sentence structure and word choice are all accurate. The text you provide should be fluent, easy to read and sound natural as if a native speaker had written it.\\n\\n{TEXT}': 20.11204481792717, '### **Instruction**\\n\\nTranslate this text to {LANGUAGE}. Please only return the translated text, excluding the original text:\\n\\n### **Provided Text**\\n\\n{TEXT}\\n\\n### **Question**\\n\\nWhat does the translated text say?': 0.0, 'Your task is to translate the following text to {LANGUAGE}. Please return only the translated content, excluding the original text.\\n\\n{TEXT}': 19.472222222222225, 'Translate the following text to {LANGUAGE} and return only the translated content without including the original text. \\n\\n{TEXT}': 15.776315789473683, '###Instruction###\\nTranslate the following text to {LANGUAGE}. Only return the translated text. Do not include the original text.\\n\\n{TEXT}': 22.87394957983193, 'Translate the following text to {LANGUAGE}. Please only return the translated text, not the original.\\n\\n{TEXT}.': 19.555555555555554, '### Instruction\\nI need a concise and accurate translation of the following text into {LANGUAGE}:\\n\\n### Example\\n**Original text**: Hello, world!\\n**Expected Translation**: こんにちは 世界!\\n\\n### Request\\n**Original text**: {TEXT}\\nReturn only the translated text, excluding the original text and this request.': 12.42156862745098}\n",
      "Step 2\n"
     ]
    },
    {
     "data": {
      "application/vnd.jupyter.widget-view+json": {
       "model_id": "acdfd1b6bdbc498c8589deb77df0b15e",
       "version_major": 2,
       "version_minor": 0
      },
      "text/plain": [
       "Optimizing:   0%|          | 0/8 [00:00<?, ?it/s]"
      ]
     },
     "metadata": {},
     "output_type": "display_data"
    },
    {
     "name": "stdout",
     "output_type": "stream",
     "text": [
      "['Translate the following text to {LANGUAGE}.  Return only the translated content. Do not include the original text or any other additional phrases.\\n\\n{TEXT}', '### TRANSLATE\\n\\nTranslate the following text to {LANGUAGE}:\\n\\n```\\n{TEXT}\\n```\\n\\nPlease only return the translated content. Do not include the original text or this instruction.', 'Translate the provided text into {LANGUAGE}. Please return only the translated content, excluding the original text and any special formatting. However, make sure the translation is fluent and sounds natural as if a human had written it.\\n\\n**Original text:**\\n\\n```\\n{TEXT}\\n```', 'Translate the following text to {LANGUAGE}. Please only return the translated text, excluding the original text: \\n\\n{TEXT}', '### **Instructions**\\n\\nTranslate the following text to {LANGUAGE}. Return only the translated content, excluding the original text.\\n\\n### **Provided Text**\\n\\n**Do not translate the text below.**\\n\\n{TEXT}\\n\\n### **Question**\\n\\nTranslated text:', 'Translate the following text into {LANGUAGE}. Please return only the translated content. Do not include the original text or any additional instructions. \\n\\n{TEXT}', '**Instruction**\\n\\nPlease help me to translate the following text to {LANGUAGE}. Please return only translated content, not including the original text.\\n\\n**Example**\\n\\n```\\nOriginal text: Hello, world!\\nTranslated text: ¡Hola, mundo!\\n```\\n\\n**Text**: {TEXT}', 'Translate the following text into {LANGUAGE}. Please include only the translated text and exclude the original text. The translation should be of high quality and accuracy, reflecting flawless grammar, sentence structure, and word choice. Ensure that the text is fluent and natural-sounding, as if a native speaker had written it.\\n\\n{TEXT}']\n"
     ]
    },
    {
     "data": {
      "application/vnd.jupyter.widget-view+json": {
       "model_id": "4a8369d526344c48b8f2ffd7e8da6a4c",
       "version_major": 2,
       "version_minor": 0
      },
      "text/plain": [
       "Scoring:   0%|          | 0/8 [00:00<?, ?it/s]"
      ]
     },
     "metadata": {},
     "output_type": "display_data"
    },
    {
     "data": {
      "application/vnd.jupyter.widget-view+json": {
       "model_id": "b7984d2093394853a9b2e13a34314891",
       "version_major": 2,
       "version_minor": 0
      },
      "text/plain": [
       "Translate the following text to {LANGUAGE}.  Return only the translated content. Do not include the original t…"
      ]
     },
     "metadata": {},
     "output_type": "display_data"
    },
    {
     "data": {
      "application/vnd.jupyter.widget-view+json": {
       "model_id": "5b24932962d94bb793953deb589e7ed2",
       "version_major": 2,
       "version_minor": 0
      },
      "text/plain": [
       "### TRANSLATE\n",
       "\n",
       "Translate the following text to {LANGUAGE}:\n",
       "\n",
       "```\n",
       "{TEXT}\n",
       "```\n",
       "\n",
       "Please only return the translated …"
      ]
     },
     "metadata": {},
     "output_type": "display_data"
    },
    {
     "data": {
      "application/vnd.jupyter.widget-view+json": {
       "model_id": "5e541685eecb425388494b4526a3b34f",
       "version_major": 2,
       "version_minor": 0
      },
      "text/plain": [
       "Translate the provided text into {LANGUAGE}. Please return only the translated content, excluding the original…"
      ]
     },
     "metadata": {},
     "output_type": "display_data"
    },
    {
     "data": {
      "application/vnd.jupyter.widget-view+json": {
       "model_id": "e42b3283fd33410b8ffbe2c19017ca28",
       "version_major": 2,
       "version_minor": 0
      },
      "text/plain": [
       "Translate the following text to {LANGUAGE}. Please only return the translated text, excluding the original tex…"
      ]
     },
     "metadata": {},
     "output_type": "display_data"
    },
    {
     "data": {
      "application/vnd.jupyter.widget-view+json": {
       "model_id": "6ee309f5221c44dea6b0fbc5d5036589",
       "version_major": 2,
       "version_minor": 0
      },
      "text/plain": [
       "### **Instructions**\n",
       "\n",
       "Translate the following text to {LANGUAGE}. Return only the translated content, excludin…"
      ]
     },
     "metadata": {},
     "output_type": "display_data"
    },
    {
     "data": {
      "application/vnd.jupyter.widget-view+json": {
       "model_id": "465328bc88814063ae6925b216d58a13",
       "version_major": 2,
       "version_minor": 0
      },
      "text/plain": [
       "Translate the following text into {LANGUAGE}. Please return only the translated content. Do not include the or…"
      ]
     },
     "metadata": {},
     "output_type": "display_data"
    },
    {
     "data": {
      "application/vnd.jupyter.widget-view+json": {
       "model_id": "912f500a1bf94ee2b433f933b6449bcf",
       "version_major": 2,
       "version_minor": 0
      },
      "text/plain": [
       "**Instruction**\n",
       "\n",
       "Please help me to translate the following text to {LANGUAGE}. Please return only translated c…"
      ]
     },
     "metadata": {},
     "output_type": "display_data"
    },
    {
     "data": {
      "application/vnd.jupyter.widget-view+json": {
       "model_id": "7f74f402092c4b378c8f08aa12f1a82e",
       "version_major": 2,
       "version_minor": 0
      },
      "text/plain": [
       "Translate the following text into {LANGUAGE}. Please include only the translated text and exclude the original…"
      ]
     },
     "metadata": {},
     "output_type": "display_data"
    },
    {
     "name": "stdout",
     "output_type": "stream",
     "text": [
      "{'Translate the following text to {LANGUAGE}.  Return only the translated content. Do not include the original text or any other additional phrases.\\n\\n{TEXT}': 16.58823529411765, '### TRANSLATE\\n\\nTranslate the following text to {LANGUAGE}:\\n\\n```\\n{TEXT}\\n```\\n\\nPlease only return the translated content. Do not include the original text or this instruction.': 20.333333333333332, 'Translate the provided text into {LANGUAGE}. Please return only the translated content, excluding the original text and any special formatting. However, make sure the translation is fluent and sounds natural as if a human had written it.\\n\\n**Original text:**\\n\\n```\\n{TEXT}\\n```': 18.035714285714285, 'Translate the following text to {LANGUAGE}. Please only return the translated text, excluding the original text: \\n\\n{TEXT}': 17.83823529411765, '### **Instructions**\\n\\nTranslate the following text to {LANGUAGE}. Return only the translated content, excluding the original text.\\n\\n### **Provided Text**\\n\\n**Do not translate the text below.**\\n\\n{TEXT}\\n\\n### **Question**\\n\\nTranslated text:': 8.333333333333332, 'Translate the following text into {LANGUAGE}. Please return only the translated content. Do not include the original text or any additional instructions. \\n\\n{TEXT}': 32.126696832579185, '**Instruction**\\n\\nPlease help me to translate the following text to {LANGUAGE}. Please return only translated content, not including the original text.\\n\\n**Example**\\n\\n```\\nOriginal text: Hello, world!\\nTranslated text: ¡Hola, mundo!\\n```\\n\\n**Text**: {TEXT}': 11.954545454545453, 'Translate the following text into {LANGUAGE}. Please include only the translated text and exclude the original text. The translation should be of high quality and accuracy, reflecting flawless grammar, sentence structure, and word choice. Ensure that the text is fluent and natural-sounding, as if a native speaker had written it.\\n\\n{TEXT}': 19.357142857142858}\n",
      "Step 3\n"
     ]
    },
    {
     "data": {
      "application/vnd.jupyter.widget-view+json": {
       "model_id": "c6172117956048e29c40b41036b4a15c",
       "version_major": 2,
       "version_minor": 0
      },
      "text/plain": [
       "Optimizing:   0%|          | 0/8 [00:00<?, ?it/s]"
      ]
     },
     "metadata": {},
     "output_type": "display_data"
    },
    {
     "name": "stdout",
     "output_type": "stream",
     "text": [
      "['Translate the following text to {LANGUAGE}. Please only return the translated text, and do not include any other content. Make sure your translation is of the highest quality, ensuring accuracy and fluency as if it was written by a native speaker. \\n\\n{TEXT}', 'Translate the following text into {LANGUAGE} and return only the translated text without including the original text. \\n\\n{TEXT}', 'Translate the following text to {LANGUAGE}. Return only the translated text, excluding any additional information:\\n{TEXT}', 'Translate the following text into {LANGUAGE}:\\n\\n{TEXT}\\nPlease return only the translated text, excluding the original text and any special formatting. Ensure that the translation is accurate, fluent, and natural-sounding, as if written by a native speaker.', 'Translate the following text into {LANGUAGE} only. Do not include the original text or any additional instructions.\\n\\n```\\n{TEXT}\\n```', \"Translate the following text to {LANGUAGE}. Please ensure your translation is accurate and reflects the original text's meaning. Avoid literal translations, and aim for a natural, fluent translation that adheres to the rules of grammar and syntax of the target language.\\n\\n{TEXT}\", 'Translate this into {LANGUAGE}. Return only your translation and remove any additional text:\\n\\n{TEXT}', 'Translate the following text into {LANGUAGE} while ensuring high quality and accuracy. Exclude the original text and any additional annotations:\\n\\n```\\n{TEXT}\\n```']\n"
     ]
    },
    {
     "data": {
      "application/vnd.jupyter.widget-view+json": {
       "model_id": "be76a84b56af4ca7bf5282afb8210294",
       "version_major": 2,
       "version_minor": 0
      },
      "text/plain": [
       "Scoring:   0%|          | 0/8 [00:00<?, ?it/s]"
      ]
     },
     "metadata": {},
     "output_type": "display_data"
    },
    {
     "data": {
      "application/vnd.jupyter.widget-view+json": {
       "model_id": "161a4eb6f47d4f32b897505da7ee55bb",
       "version_major": 2,
       "version_minor": 0
      },
      "text/plain": [
       "Translate the following text to {LANGUAGE}. Please only return the translated text, and do not include any oth…"
      ]
     },
     "metadata": {},
     "output_type": "display_data"
    },
    {
     "data": {
      "application/vnd.jupyter.widget-view+json": {
       "model_id": "fb6d9632a06243378b13a3a78eaacdd0",
       "version_major": 2,
       "version_minor": 0
      },
      "text/plain": [
       "Translate the following text into {LANGUAGE} and return only the translated text without including the origina…"
      ]
     },
     "metadata": {},
     "output_type": "display_data"
    },
    {
     "data": {
      "application/vnd.jupyter.widget-view+json": {
       "model_id": "7bf4e8dc554d4b908738405990b0d02a",
       "version_major": 2,
       "version_minor": 0
      },
      "text/plain": [
       "Translate the following text to {LANGUAGE}. Return only the translated text, excluding any additional informat…"
      ]
     },
     "metadata": {},
     "output_type": "display_data"
    },
    {
     "data": {
      "application/vnd.jupyter.widget-view+json": {
       "model_id": "47ea859cea6c4ce89be2e1f6c49abfbc",
       "version_major": 2,
       "version_minor": 0
      },
      "text/plain": [
       "Translate the following text into {LANGUAGE}:\n",
       "\n",
       "{TEXT}\n",
       "Please return only the translated text, excluding the or…"
      ]
     },
     "metadata": {},
     "output_type": "display_data"
    },
    {
     "data": {
      "application/vnd.jupyter.widget-view+json": {
       "model_id": "b950389af0b14fca97465780b20174be",
       "version_major": 2,
       "version_minor": 0
      },
      "text/plain": [
       "Translate the following text into {LANGUAGE} only. Do not include the original text or any additional instruct…"
      ]
     },
     "metadata": {},
     "output_type": "display_data"
    },
    {
     "data": {
      "application/vnd.jupyter.widget-view+json": {
       "model_id": "bc268a43ea78466a84050c438df28ea5",
       "version_major": 2,
       "version_minor": 0
      },
      "text/plain": [
       "Translate the following text to {LANGUAGE}. Please ensure your translation is accurate and reflects the origin…"
      ]
     },
     "metadata": {},
     "output_type": "display_data"
    },
    {
     "data": {
      "application/vnd.jupyter.widget-view+json": {
       "model_id": "cfda9c060de248e29512b17dfe64e994",
       "version_major": 2,
       "version_minor": 0
      },
      "text/plain": [
       "Translate this into {LANGUAGE}. Return only your translation and remove any additional text:\n",
       "\n",
       "{TEXT}:   0%|   …"
      ]
     },
     "metadata": {},
     "output_type": "display_data"
    },
    {
     "data": {
      "application/vnd.jupyter.widget-view+json": {
       "model_id": "4c81cfb7163d4c47b84feacc1e6534d6",
       "version_major": 2,
       "version_minor": 0
      },
      "text/plain": [
       "Translate the following text into {LANGUAGE} while ensuring high quality and accuracy. Exclude the original te…"
      ]
     },
     "metadata": {},
     "output_type": "display_data"
    },
    {
     "name": "stdout",
     "output_type": "stream",
     "text": [
      "{'Translate the following text to {LANGUAGE}. Please only return the translated text, and do not include any other content. Make sure your translation is of the highest quality, ensuring accuracy and fluency as if it was written by a native speaker. \\n\\n{TEXT}': 20.32258064516129, 'Translate the following text into {LANGUAGE} and return only the translated text without including the original text. \\n\\n{TEXT}': 20.625, 'Translate the following text to {LANGUAGE}. Return only the translated text, excluding any additional information:\\n{TEXT}': 26.526315789473685, 'Translate the following text into {LANGUAGE}:\\n\\n{TEXT}\\nPlease return only the translated text, excluding the original text and any special formatting. Ensure that the translation is accurate, fluent, and natural-sounding, as if written by a native speaker.': 9.828870666331966, 'Translate the following text into {LANGUAGE} only. Do not include the original text or any additional instructions.\\n\\n```\\n{TEXT}\\n```': 25.921568627450974, \"Translate the following text to {LANGUAGE}. Please ensure your translation is accurate and reflects the original text's meaning. Avoid literal translations, and aim for a natural, fluent translation that adheres to the rules of grammar and syntax of the target language.\\n\\n{TEXT}\": 14.648018648018645, 'Translate this into {LANGUAGE}. Return only your translation and remove any additional text:\\n\\n{TEXT}': 17.71428571428571, 'Translate the following text into {LANGUAGE} while ensuring high quality and accuracy. Exclude the original text and any additional annotations:\\n\\n```\\n{TEXT}\\n```': 16.967969723774676}\n",
      "Step 4\n"
     ]
    },
    {
     "data": {
      "application/vnd.jupyter.widget-view+json": {
       "model_id": "68637315ef304cf689250e1f2c7b0231",
       "version_major": 2,
       "version_minor": 0
      },
      "text/plain": [
       "Optimizing:   0%|          | 0/8 [00:00<?, ?it/s]"
      ]
     },
     "metadata": {},
     "output_type": "display_data"
    },
    {
     "name": "stdout",
     "output_type": "stream",
     "text": [
      "['translate the following text to {LANGUAGE}.\\n\\n{TEXT}', 'Translate the text into {LANGUAGE}. Include only the translated text and exclude the source text or any additional notes:\\n\\n```\\n{TEXT}\\n```', 'Translate the following text into {LANGUAGE}. Return only the translated content without including the original text or any instructions:\\n\\n{TEXT}', 'Translate the provided text into {LANGUAGE}:\\n\\n```\\n{TEXT}\\n```\\nReturn **only** the translated content, excluding the original text and any additional instructions. Ensure that the translation is of impeccable quality and accuracy, reflecting impeccable grammar, sentence structure, and word choice. The translated text should sound natural and fluent, as if written by a native speaker.', 'Translate the following text into {LANGUAGE} but only provide the translation, excluding any instructions or extra content:\\n\\n{TEXT}', 'Translate the following segment of text into {LANGUAGE} and return only the translated content, excluding any special characters or additional information. \\n\\n{TEXT}', 'Translate the following text into {LANGUAGE} and return only the translated content. Remove any formatting or additional text.\\n\\n{TEXT}', 'Translate the following text to {LANGUAGE}. Please return only the translated content and exclude any original text or additional instructions.\\n\\n{TEXT}']\n"
     ]
    },
    {
     "data": {
      "application/vnd.jupyter.widget-view+json": {
       "model_id": "6775df3fe95e4147a1dca6f67e000804",
       "version_major": 2,
       "version_minor": 0
      },
      "text/plain": [
       "Scoring:   0%|          | 0/8 [00:00<?, ?it/s]"
      ]
     },
     "metadata": {},
     "output_type": "display_data"
    },
    {
     "data": {
      "application/vnd.jupyter.widget-view+json": {
       "model_id": "d1c1252910f94e48be784423135156e1",
       "version_major": 2,
       "version_minor": 0
      },
      "text/plain": [
       "translate the following text to {LANGUAGE}.\n",
       "\n",
       "{TEXT}:   0%|          | 0/10 [00:00<?, ?it/s]"
      ]
     },
     "metadata": {},
     "output_type": "display_data"
    },
    {
     "data": {
      "application/vnd.jupyter.widget-view+json": {
       "model_id": "c288e5852ef3426fb77afa151b394d65",
       "version_major": 2,
       "version_minor": 0
      },
      "text/plain": [
       "Translate the text into {LANGUAGE}. Include only the translated text and exclude the source text or any additi…"
      ]
     },
     "metadata": {},
     "output_type": "display_data"
    },
    {
     "data": {
      "application/vnd.jupyter.widget-view+json": {
       "model_id": "71a87a8c86ce48c98529e9372637a7ad",
       "version_major": 2,
       "version_minor": 0
      },
      "text/plain": [
       "Translate the following text into {LANGUAGE}. Return only the translated content without including the origina…"
      ]
     },
     "metadata": {},
     "output_type": "display_data"
    },
    {
     "data": {
      "application/vnd.jupyter.widget-view+json": {
       "model_id": "74e38d73555c40e59dc33701fb5ca549",
       "version_major": 2,
       "version_minor": 0
      },
      "text/plain": [
       "Translate the provided text into {LANGUAGE}:\n",
       "\n",
       "```\n",
       "{TEXT}\n",
       "```\n",
       "Return **only** the translated content, excluding…"
      ]
     },
     "metadata": {},
     "output_type": "display_data"
    },
    {
     "data": {
      "application/vnd.jupyter.widget-view+json": {
       "model_id": "d4a5db67e0204101a0cc92a6ab5c3c2f",
       "version_major": 2,
       "version_minor": 0
      },
      "text/plain": [
       "Translate the following text into {LANGUAGE} but only provide the translation, excluding any instructions or e…"
      ]
     },
     "metadata": {},
     "output_type": "display_data"
    },
    {
     "data": {
      "application/vnd.jupyter.widget-view+json": {
       "model_id": "866caba6091b4c5b898c8040355acec2",
       "version_major": 2,
       "version_minor": 0
      },
      "text/plain": [
       "Translate the following segment of text into {LANGUAGE} and return only the translated content, excluding any …"
      ]
     },
     "metadata": {},
     "output_type": "display_data"
    },
    {
     "data": {
      "application/vnd.jupyter.widget-view+json": {
       "model_id": "9e401904a89f4f879df745fe39692e99",
       "version_major": 2,
       "version_minor": 0
      },
      "text/plain": [
       "Translate the following text into {LANGUAGE} and return only the translated content. Remove any formatting or …"
      ]
     },
     "metadata": {},
     "output_type": "display_data"
    },
    {
     "data": {
      "application/vnd.jupyter.widget-view+json": {
       "model_id": "a0b4a294a9724408bc34d19ecc7368ba",
       "version_major": 2,
       "version_minor": 0
      },
      "text/plain": [
       "Translate the following text to {LANGUAGE}. Please return only the translated content and exclude any original…"
      ]
     },
     "metadata": {},
     "output_type": "display_data"
    },
    {
     "name": "stdout",
     "output_type": "stream",
     "text": [
      "{'translate the following text to {LANGUAGE}.\\n\\n{TEXT}': 4.473520758417783, 'Translate the text into {LANGUAGE}. Include only the translated text and exclude the source text or any additional notes:\\n\\n```\\n{TEXT}\\n```': 24.102564102564106, 'Translate the following text into {LANGUAGE}. Return only the translated content without including the original text or any instructions:\\n\\n{TEXT}': 26.588235294117645, 'Translate the provided text into {LANGUAGE}:\\n\\n```\\n{TEXT}\\n```\\nReturn **only** the translated content, excluding the original text and any additional instructions. Ensure that the translation is of impeccable quality and accuracy, reflecting impeccable grammar, sentence structure, and word choice. The translated text should sound natural and fluent, as if written by a native speaker.': 14.743589743589745, 'Translate the following text into {LANGUAGE} but only provide the translation, excluding any instructions or extra content:\\n\\n{TEXT}': 23.25, 'Translate the following segment of text into {LANGUAGE} and return only the translated content, excluding any special characters or additional information. \\n\\n{TEXT}': 21.776315789473685, 'Translate the following text into {LANGUAGE} and return only the translated content. Remove any formatting or additional text.\\n\\n{TEXT}': 23.25, 'Translate the following text to {LANGUAGE}. Please return only the translated content and exclude any original text or additional instructions.\\n\\n{TEXT}': 19.92156862745098}\n",
      "Step 5\n"
     ]
    },
    {
     "data": {
      "application/vnd.jupyter.widget-view+json": {
       "model_id": "25c1ba7d56f643bd8ab21636880d761c",
       "version_major": 2,
       "version_minor": 0
      },
      "text/plain": [
       "Optimizing:   0%|          | 0/8 [00:00<?, ?it/s]"
      ]
     },
     "metadata": {},
     "output_type": "display_data"
    },
    {
     "name": "stdout",
     "output_type": "stream",
     "text": [
      "[\"Translate the text below to {LANGUAGE}. Only include the translated text without any additional content. Make sure it's a natural-sounding, fluent translation at the same high quality as a professional native speaker translation.\\n\\n{TEXT}\", 'Translate the following text into {LANGUAGE}. Only return the translation and exclude any additional information or instructions. Make sure the translated text is fluent and easy to understand, as if a native speaker had written it.\\n\\n{TEXT}', 'Translate the following text into {LANGUAGE}, including only the translation and excluding any extra markings:\\n\\n{TEXT}', 'Translate the following text into {LANGUAGE}. Return only the translated content, excluding any source text, instructions, or additional information. Ensure that the translation is accurate, grammatically correct, and reads naturally, akin to a proficient speaker of the target language.\\n{TEXT}', 'Translate the following text to {LANGUAGE}. Provide the translated text only. Exclude the original text and any instructions or additional content. Ensure the translation is of high quality and accuracy, with flawless grammar, sentence structure, and word choice. Make the translation sound fluent and natural, as if a native speaker had written it.\\n\\n```\\n{TEXT}\\n```', 'Translate the text into the target {LANGUAGE}. Please only return the high-quality translated content, excluding the original text or additional information. Ensure that your translation maintains the same meaning and context as the original text, preserving its overall tone and style. Provide a fluent, natural-sounding translation that reads as if written by a native speaker. \\n\\n**Original text:**\\n\\n{TEXT}', 'Translate the following text to {LANGUAGE}. Please return only the translated content, excluding the original text. The translation should be accurate, fluent, and of high quality, ensuring that it reads as if a native speaker had written it.\\n\\n{TEXT}', 'Translate the following into {LANGUAGE}, but return only the relevant translation excluding any additional notes or instructions:\\n\\n```\\n{TEXT}\\n```']\n"
     ]
    },
    {
     "data": {
      "application/vnd.jupyter.widget-view+json": {
       "model_id": "a73e0d7a517e4e638ac0a2ee0344b690",
       "version_major": 2,
       "version_minor": 0
      },
      "text/plain": [
       "Scoring:   0%|          | 0/8 [00:00<?, ?it/s]"
      ]
     },
     "metadata": {},
     "output_type": "display_data"
    },
    {
     "data": {
      "application/vnd.jupyter.widget-view+json": {
       "model_id": "cb00fd27b0d140b2891a07d8600cdd16",
       "version_major": 2,
       "version_minor": 0
      },
      "text/plain": [
       "Translate the text below to {LANGUAGE}. Only include the translated text without any additional content. Make …"
      ]
     },
     "metadata": {},
     "output_type": "display_data"
    },
    {
     "data": {
      "application/vnd.jupyter.widget-view+json": {
       "model_id": "38b4c54d063d46a9b4cb7680db65ad3f",
       "version_major": 2,
       "version_minor": 0
      },
      "text/plain": [
       "Translate the following text into {LANGUAGE}. Only return the translation and exclude any additional informati…"
      ]
     },
     "metadata": {},
     "output_type": "display_data"
    },
    {
     "data": {
      "application/vnd.jupyter.widget-view+json": {
       "model_id": "08ead8e901fb49e299015d3b409c2fd3",
       "version_major": 2,
       "version_minor": 0
      },
      "text/plain": [
       "Translate the following text into {LANGUAGE}, including only the translation and excluding any extra markings:…"
      ]
     },
     "metadata": {},
     "output_type": "display_data"
    },
    {
     "data": {
      "application/vnd.jupyter.widget-view+json": {
       "model_id": "d0244134ac15422bb0a09d0ad6f9ae6f",
       "version_major": 2,
       "version_minor": 0
      },
      "text/plain": [
       "Translate the following text into {LANGUAGE}. Return only the translated content, excluding any source text, i…"
      ]
     },
     "metadata": {},
     "output_type": "display_data"
    },
    {
     "data": {
      "application/vnd.jupyter.widget-view+json": {
       "model_id": "e9310fa8f6ac488da1e42d0c9137e81f",
       "version_major": 2,
       "version_minor": 0
      },
      "text/plain": [
       "Translate the following text to {LANGUAGE}. Provide the translated text only. Exclude the original text and an…"
      ]
     },
     "metadata": {},
     "output_type": "display_data"
    },
    {
     "data": {
      "application/vnd.jupyter.widget-view+json": {
       "model_id": "7c28a7646dfe443ea27bf4a4cb1fdad3",
       "version_major": 2,
       "version_minor": 0
      },
      "text/plain": [
       "Translate the text into the target {LANGUAGE}. Please only return the high-quality translated content, excludi…"
      ]
     },
     "metadata": {},
     "output_type": "display_data"
    },
    {
     "data": {
      "application/vnd.jupyter.widget-view+json": {
       "model_id": "5cdd9d63397e48b79692459cfd7fb7db",
       "version_major": 2,
       "version_minor": 0
      },
      "text/plain": [
       "Translate the following text to {LANGUAGE}. Please return only the translated content, excluding the original …"
      ]
     },
     "metadata": {},
     "output_type": "display_data"
    },
    {
     "data": {
      "application/vnd.jupyter.widget-view+json": {
       "model_id": "359cea4ed30e47c4a125f002e3ab5aad",
       "version_major": 2,
       "version_minor": 0
      },
      "text/plain": [
       "Translate the following into {LANGUAGE}, but return only the relevant translation excluding any additional not…"
      ]
     },
     "metadata": {},
     "output_type": "display_data"
    },
    {
     "name": "stdout",
     "output_type": "stream",
     "text": [
      "{\"Translate the text below to {LANGUAGE}. Only include the translated text without any additional content. Make sure it's a natural-sounding, fluent translation at the same high quality as a professional native speaker translation.\\n\\n{TEXT}\": 21.833333333333336, 'Translate the following text into {LANGUAGE}. Only return the translation and exclude any additional information or instructions. Make sure the translated text is fluent and easy to understand, as if a native speaker had written it.\\n\\n{TEXT}': 20.916666666666668, 'Translate the following text into {LANGUAGE}, including only the translation and excluding any extra markings:\\n\\n{TEXT}': 21.32478632478632, 'Translate the following text into {LANGUAGE}. Return only the translated content, excluding any source text, instructions, or additional information. Ensure that the translation is accurate, grammatically correct, and reads naturally, akin to a proficient speaker of the target language.\\n{TEXT}': 23.0, 'Translate the following text to {LANGUAGE}. Provide the translated text only. Exclude the original text and any instructions or additional content. Ensure the translation is of high quality and accuracy, with flawless grammar, sentence structure, and word choice. Make the translation sound fluent and natural, as if a native speaker had written it.\\n\\n```\\n{TEXT}\\n```': 30.333333333333336, 'Translate the text into the target {LANGUAGE}. Please only return the high-quality translated content, excluding the original text or additional information. Ensure that your translation maintains the same meaning and context as the original text, preserving its overall tone and style. Provide a fluent, natural-sounding translation that reads as if written by a native speaker. \\n\\n**Original text:**\\n\\n{TEXT}': 36.25961538461539, 'Translate the following text to {LANGUAGE}. Please return only the translated content, excluding the original text. The translation should be accurate, fluent, and of high quality, ensuring that it reads as if a native speaker had written it.\\n\\n{TEXT}': 22.805555555555554, 'Translate the following into {LANGUAGE}, but return only the relevant translation excluding any additional notes or instructions:\\n\\n```\\n{TEXT}\\n```': 23.483516483516482}\n",
      "Step 6\n"
     ]
    },
    {
     "data": {
      "application/vnd.jupyter.widget-view+json": {
       "model_id": "fd4df2295a644addb3a8821aeb77f8d7",
       "version_major": 2,
       "version_minor": 0
      },
      "text/plain": [
       "Optimizing:   0%|          | 0/8 [00:00<?, ?it/s]"
      ]
     },
     "metadata": {},
     "output_type": "display_data"
    },
    {
     "name": "stdout",
     "output_type": "stream",
     "text": [
      "[\"Translate the given text into {LANGUAGE} and only include the translated text. Exclude any additional instructions, formatting, or source text. Provide a fluent, high-quality translation that accurately conveys the source text's meaning and style, as if written by a native speaker.\\n\\n{TEXT}\", 'Translate the following text into {LANGUAGE}. Return only the translated content, excluding any source text, notes, or instructions. Ensure the translation is fluent and sounds natural, as if it was written by a native speaker of the target language.\\n\\n{TEXT}', 'Offer a translation in {LANGUAGE} for the following text, but provide only the translated text, excluding any additional information or instructions:\\n\\n{TEXT}', \"Translate the text into {LANGUAGE}. Include the translation only and exclude any unnecessary instructions and symbols like brackets. Ensure the translation reads as if a native speaker has written it. Make sure it's grammatically correct, error-free, and fluent. Your translation should embody the same meaning as the original text. \\n```\\n{TEXT}\\n```\", 'Provide a concise translation of the following text into {LANGUAGE}, without including any additional information or instructions. Ensure the translation is of high quality and sounds as if a native speaker has written it.\\n\\n```\\n{TEXT}\\n```', 'Translate the below text to {LANGUAGE}. Only return the translated text. Please exclude the original text, any special characters, and any other additional information.\\n\\n{TEXT}', 'Translate the following text into {LANGUAGE} and return only the translated text. Exclude the original text, any additional instructions, and ensure that the translation is accurate, fluent, and grammatically correct as if a native speaker had written it.\\n\\n{TEXT}', ' Translate the following text into {LANGUAGE} and ensure the translated content is grammatically correct and error-free. Exclude any additional text or instructions. Deliver a natural-sounding and professional translation as though authored by a proficient speaker of the target language.\\n\\n{TEXT}']\n"
     ]
    },
    {
     "data": {
      "application/vnd.jupyter.widget-view+json": {
       "model_id": "c81a525f33d04b378961112cc948763b",
       "version_major": 2,
       "version_minor": 0
      },
      "text/plain": [
       "Scoring:   0%|          | 0/8 [00:00<?, ?it/s]"
      ]
     },
     "metadata": {},
     "output_type": "display_data"
    },
    {
     "data": {
      "application/vnd.jupyter.widget-view+json": {
       "model_id": "f47a3bc323a54757945958618deb5879",
       "version_major": 2,
       "version_minor": 0
      },
      "text/plain": [
       "Translate the given text into {LANGUAGE} and only include the translated text. Exclude any additional instruct…"
      ]
     },
     "metadata": {},
     "output_type": "display_data"
    },
    {
     "data": {
      "application/vnd.jupyter.widget-view+json": {
       "model_id": "eb9eb36d9944491b954be7d6ffb82957",
       "version_major": 2,
       "version_minor": 0
      },
      "text/plain": [
       "Translate the following text into {LANGUAGE}. Return only the translated content, excluding any source text, n…"
      ]
     },
     "metadata": {},
     "output_type": "display_data"
    },
    {
     "data": {
      "application/vnd.jupyter.widget-view+json": {
       "model_id": "f28cc4020a6d497586a73719f7808d87",
       "version_major": 2,
       "version_minor": 0
      },
      "text/plain": [
       "Offer a translation in {LANGUAGE} for the following text, but provide only the translated text, excluding any …"
      ]
     },
     "metadata": {},
     "output_type": "display_data"
    },
    {
     "data": {
      "application/vnd.jupyter.widget-view+json": {
       "model_id": "e661d36f1c0f43b38718642af76988a0",
       "version_major": 2,
       "version_minor": 0
      },
      "text/plain": [
       "Translate the text into {LANGUAGE}. Include the translation only and exclude any unnecessary instructions and …"
      ]
     },
     "metadata": {},
     "output_type": "display_data"
    },
    {
     "data": {
      "application/vnd.jupyter.widget-view+json": {
       "model_id": "a7e1670b382a43fa83bb6205b27a8c12",
       "version_major": 2,
       "version_minor": 0
      },
      "text/plain": [
       "Provide a concise translation of the following text into {LANGUAGE}, without including any additional informat…"
      ]
     },
     "metadata": {},
     "output_type": "display_data"
    },
    {
     "data": {
      "application/vnd.jupyter.widget-view+json": {
       "model_id": "105731f4f3534c3b84d4752c32be15ec",
       "version_major": 2,
       "version_minor": 0
      },
      "text/plain": [
       "Translate the below text to {LANGUAGE}. Only return the translated text. Please exclude the original text, any…"
      ]
     },
     "metadata": {},
     "output_type": "display_data"
    },
    {
     "data": {
      "application/vnd.jupyter.widget-view+json": {
       "model_id": "821983c8db9341da934bc9de909c7e2c",
       "version_major": 2,
       "version_minor": 0
      },
      "text/plain": [
       "Translate the following text into {LANGUAGE} and return only the translated text. Exclude the original text, a…"
      ]
     },
     "metadata": {},
     "output_type": "display_data"
    },
    {
     "data": {
      "application/vnd.jupyter.widget-view+json": {
       "model_id": "0cadd7bcdb9b485b908819ed60979868",
       "version_major": 2,
       "version_minor": 0
      },
      "text/plain": [
       " Translate the following text into {LANGUAGE} and ensure the translated content is grammatically correct and e…"
      ]
     },
     "metadata": {},
     "output_type": "display_data"
    },
    {
     "name": "stdout",
     "output_type": "stream",
     "text": [
      "{\"Translate the given text into {LANGUAGE} and only include the translated text. Exclude any additional instructions, formatting, or source text. Provide a fluent, high-quality translation that accurately conveys the source text's meaning and style, as if written by a native speaker.\\n\\n{TEXT}\": 25.33333333333333, 'Translate the following text into {LANGUAGE}. Return only the translated content, excluding any source text, notes, or instructions. Ensure the translation is fluent and sounds natural, as if it was written by a native speaker of the target language.\\n\\n{TEXT}': 21.000000000000004, 'Offer a translation in {LANGUAGE} for the following text, but provide only the translated text, excluding any additional information or instructions:\\n\\n{TEXT}': 23.838235294117645, \"Translate the text into {LANGUAGE}. Include the translation only and exclude any unnecessary instructions and symbols like brackets. Ensure the translation reads as if a native speaker has written it. Make sure it's grammatically correct, error-free, and fluent. Your translation should embody the same meaning as the original text. \\n```\\n{TEXT}\\n```\": 27.999999999999996, 'Provide a concise translation of the following text into {LANGUAGE}, without including any additional information or instructions. Ensure the translation is of high quality and sounds as if a native speaker has written it.\\n\\n```\\n{TEXT}\\n```': 22.11396011396011, 'Translate the below text to {LANGUAGE}. Only return the translated text. Please exclude the original text, any special characters, and any other additional information.\\n\\n{TEXT}': 19.333333333333332, 'Translate the following text into {LANGUAGE} and return only the translated text. Exclude the original text, any additional instructions, and ensure that the translation is accurate, fluent, and grammatically correct as if a native speaker had written it.\\n\\n{TEXT}': 16.0, ' Translate the following text into {LANGUAGE} and ensure the translated content is grammatically correct and error-free. Exclude any additional text or instructions. Deliver a natural-sounding and professional translation as though authored by a proficient speaker of the target language.\\n\\n{TEXT}': 16.173501936659832}\n",
      "Step 7\n"
     ]
    },
    {
     "data": {
      "application/vnd.jupyter.widget-view+json": {
       "model_id": "464cd097a0394163aebca30ef443800e",
       "version_major": 2,
       "version_minor": 0
      },
      "text/plain": [
       "Optimizing:   0%|          | 0/8 [00:00<?, ?it/s]"
      ]
     },
     "metadata": {},
     "output_type": "display_data"
    },
    {
     "name": "stdout",
     "output_type": "stream",
     "text": [
      "['Translate the provided text into {LANGUAGE} and return only the translated content without any supplementary instructions or components within parentheses or other symbols. Ensure the translated text reads naturally, as if written by a native speaker of the target language.\\n\\n{TEXT}', 'Translate the following text into {LANGUAGE} only. Include solely the translated text, excluding any instructions, indicators like brackets or curly braces, formatting, original text, or miscellaneous content. Maintain a fluent translation as if written by a proficient speaker of the target language.\\n\\n{TEXT}', \"Translate the text into {LANGUAGE} and return only the translation, excluding the original text or any additional information. Ensure that the translation is fluent, accurate, and reflects the original text's meaning, context, tone, and style. It should sound natural, as if a native speaker had written it.\\n\\n{TEXT}\", 'Offer me a concise translation into {LANGUAGE} of the following text. Return only the translation, excluding any instructions, additional contents, or the source text. The translation should be of high quality, as if written by a native speaker.\\n{TEXT}', 'Translate the following text into {LANGUAGE} and return only relevant translation without any additional notes or instructions.\\n\\nThis is original text you want me to translate:\\n\\n{TEXT}', 'Translate the provided text into {LANGUAGE}. Provide only the high-quality translated content, excluding the original text or any additional information. Ensure that your translation maintains the same meaning and context as the original text, preserving its overall tone and style. Provide a fluent, natural-sounding translation that reads as if written by a native speaker. The goal is to generate a translation that scores highly on quality metrics, achieving a score as high as possible.\\n\\n{TEXT}', \"Translate the following text to {LANGUAGE} and return only the translation, ensuring it sounds as smooth and natural as if a native speaker wrote it. The quality should be top-notch, with flawless grammar and word choice that perfectly captures the essence of the original text's style and tone.\\n\\n{TEXT}\", 'Translate the following text into {LANGUAGE}. Provide only the translated content, i.e., the text excluding the original text or other instructions.\\n{TEXT}']\n"
     ]
    },
    {
     "data": {
      "application/vnd.jupyter.widget-view+json": {
       "model_id": "37b4d59d2b4941a890213e56e9ab5f36",
       "version_major": 2,
       "version_minor": 0
      },
      "text/plain": [
       "Scoring:   0%|          | 0/8 [00:00<?, ?it/s]"
      ]
     },
     "metadata": {},
     "output_type": "display_data"
    },
    {
     "data": {
      "application/vnd.jupyter.widget-view+json": {
       "model_id": "974691896ed9429c9c8288ee5effc2c9",
       "version_major": 2,
       "version_minor": 0
      },
      "text/plain": [
       "Translate the provided text into {LANGUAGE} and return only the translated content without any supplementary i…"
      ]
     },
     "metadata": {},
     "output_type": "display_data"
    },
    {
     "data": {
      "application/vnd.jupyter.widget-view+json": {
       "model_id": "f90dad24a7c440bfab497876ab7c1650",
       "version_major": 2,
       "version_minor": 0
      },
      "text/plain": [
       "Translate the following text into {LANGUAGE} only. Include solely the translated text, excluding any instructi…"
      ]
     },
     "metadata": {},
     "output_type": "display_data"
    },
    {
     "data": {
      "application/vnd.jupyter.widget-view+json": {
       "model_id": "c29547cd2e014e52ad276a96de27ce45",
       "version_major": 2,
       "version_minor": 0
      },
      "text/plain": [
       "Translate the text into {LANGUAGE} and return only the translation, excluding the original text or any additio…"
      ]
     },
     "metadata": {},
     "output_type": "display_data"
    },
    {
     "data": {
      "application/vnd.jupyter.widget-view+json": {
       "model_id": "138b8828ce984d29970ef53df2924707",
       "version_major": 2,
       "version_minor": 0
      },
      "text/plain": [
       "Offer me a concise translation into {LANGUAGE} of the following text. Return only the translation, excluding a…"
      ]
     },
     "metadata": {},
     "output_type": "display_data"
    },
    {
     "data": {
      "application/vnd.jupyter.widget-view+json": {
       "model_id": "3c07e81d5f3c46bcb9674cb0d26172cf",
       "version_major": 2,
       "version_minor": 0
      },
      "text/plain": [
       "Translate the following text into {LANGUAGE} and return only relevant translation without any additional notes…"
      ]
     },
     "metadata": {},
     "output_type": "display_data"
    },
    {
     "data": {
      "application/vnd.jupyter.widget-view+json": {
       "model_id": "bc5a70ab19b24a1b9987091415e1fdd7",
       "version_major": 2,
       "version_minor": 0
      },
      "text/plain": [
       "Translate the provided text into {LANGUAGE}. Provide only the high-quality translated content, excluding the o…"
      ]
     },
     "metadata": {},
     "output_type": "display_data"
    },
    {
     "data": {
      "application/vnd.jupyter.widget-view+json": {
       "model_id": "df593b7e887c4e8baf82f5d7406d1607",
       "version_major": 2,
       "version_minor": 0
      },
      "text/plain": [
       "Translate the following text to {LANGUAGE} and return only the translation, ensuring it sounds as smooth and n…"
      ]
     },
     "metadata": {},
     "output_type": "display_data"
    },
    {
     "data": {
      "application/vnd.jupyter.widget-view+json": {
       "model_id": "a3e2f4d7c999407ea449b15bb913c557",
       "version_major": 2,
       "version_minor": 0
      },
      "text/plain": [
       "Translate the following text into {LANGUAGE}. Provide only the translated content, i.e., the text excluding th…"
      ]
     },
     "metadata": {},
     "output_type": "display_data"
    },
    {
     "name": "stdout",
     "output_type": "stream",
     "text": [
      "{'Translate the provided text into {LANGUAGE} and return only the translated content without any supplementary instructions or components within parentheses or other symbols. Ensure the translated text reads naturally, as if written by a native speaker of the target language.\\n\\n{TEXT}': 25.859649122807017, 'Translate the following text into {LANGUAGE} only. Include solely the translated text, excluding any instructions, indicators like brackets or curly braces, formatting, original text, or miscellaneous content. Maintain a fluent translation as if written by a proficient speaker of the target language.\\n\\n{TEXT}': 21.761904761904766, \"Translate the text into {LANGUAGE} and return only the translation, excluding the original text or any additional information. Ensure that the translation is fluent, accurate, and reflects the original text's meaning, context, tone, and style. It should sound natural, as if a native speaker had written it.\\n\\n{TEXT}\": 22.76923076923077, 'Offer me a concise translation into {LANGUAGE} of the following text. Return only the translation, excluding any instructions, additional contents, or the source text. The translation should be of high quality, as if written by a native speaker.\\n{TEXT}': 17.004901960784316, 'Translate the following text into {LANGUAGE} and return only relevant translation without any additional notes or instructions.\\n\\nThis is original text you want me to translate:\\n\\n{TEXT}': 15.714285714285714, 'Translate the provided text into {LANGUAGE}. Provide only the high-quality translated content, excluding the original text or any additional information. Ensure that your translation maintains the same meaning and context as the original text, preserving its overall tone and style. Provide a fluent, natural-sounding translation that reads as if written by a native speaker. The goal is to generate a translation that scores highly on quality metrics, achieving a score as high as possible.\\n\\n{TEXT}': 20.769230769230766, \"Translate the following text to {LANGUAGE} and return only the translation, ensuring it sounds as smooth and natural as if a native speaker wrote it. The quality should be top-notch, with flawless grammar and word choice that perfectly captures the essence of the original text's style and tone.\\n\\n{TEXT}\": 25.497330282227303, 'Translate the following text into {LANGUAGE}. Provide only the translated content, i.e., the text excluding the original text or other instructions.\\n{TEXT}': 16.333333333333332}\n",
      "Step 8\n"
     ]
    },
    {
     "data": {
      "application/vnd.jupyter.widget-view+json": {
       "model_id": "af7c6e88b5ec405fb64b0a4f640907ad",
       "version_major": 2,
       "version_minor": 0
      },
      "text/plain": [
       "Optimizing:   0%|          | 0/8 [00:00<?, ?it/s]"
      ]
     },
     "metadata": {},
     "output_type": "display_data"
    },
    {
     "name": "stdout",
     "output_type": "stream",
     "text": [
      "['Translate the following text into {LANGUAGE}. Return only the translated text, excluding any additional instructions or content. Ensure that the translation is accurate, fluent, and maintains the same meaning and tone as the original text. Provide a high-quality translation that reads naturally, as if written by a native speaker.\\n\\n{TEXT}', 'Translate the following text into {LANGUAGE}:\\n\\n{TEXT}', \"Translate the following text to {LANGUAGE} and return only the translation. Exclude any additional information, instructions, or formatting. Ensure the translation is of high quality, fluent, accurate, and maintains the original text's meaning, context, tone, and style. It should sound natural, as if written by a native speaker.\\n\\n{TEXT}\", \"Translate the text into {LANGUAGE}. Return only the translated text. Ensure that your translation is of high quality, complete, and accurate, reflecting the original text's context and meaning. Make sure it reads naturally and sounds similar to the output of a fluent speaker.\\n\\n{TEXT}\", 'Translate the following text to {LANGUAGE} excluding any unnecessary information and return only the translated content. Make the translation accurate and fluent, as if it were written by a native speaker.\\n\\n{TEXT}', \"Please translate the following text into {LANGUAGE}. Please ONLY return the high-quality translated content, excluding the original text or additional information. Ensure the translation maintains the original text's overall tone, meaning, and context, with similar fluency and naturalness. The output should be a seamless translation, as if written by a native speaker of the target language. \\n\\n{TEXT}\", \"Translate the following text into {LANGUAGE}, providing only the translated content without any additional instructions or source text. The translation should be of exceptional quality, grammatically flawless, and stylistically consistent with the target language. Ensure that the translation accurately conveys the original text's meaning, tone, and context, while sounding fluent and natural, as if written by a native speaker.\\n\\n{TEXT}\", 'Provide a translation into {LANGUAGE} for the given text, excluding any unnecessary content or instructions:\\n\\n```\\n{TEXT}\\n```']\n"
     ]
    },
    {
     "data": {
      "application/vnd.jupyter.widget-view+json": {
       "model_id": "868ac802337a40cbb8cae1608d1f180a",
       "version_major": 2,
       "version_minor": 0
      },
      "text/plain": [
       "Scoring:   0%|          | 0/8 [00:00<?, ?it/s]"
      ]
     },
     "metadata": {},
     "output_type": "display_data"
    },
    {
     "data": {
      "application/vnd.jupyter.widget-view+json": {
       "model_id": "c488cb75520045e0b8bb45aeb99cd95e",
       "version_major": 2,
       "version_minor": 0
      },
      "text/plain": [
       "Translate the following text into {LANGUAGE}. Return only the translated text, excluding any additional instru…"
      ]
     },
     "metadata": {},
     "output_type": "display_data"
    },
    {
     "data": {
      "application/vnd.jupyter.widget-view+json": {
       "model_id": "74f40d6331e44afa8299068d4271caf8",
       "version_major": 2,
       "version_minor": 0
      },
      "text/plain": [
       "Translate the following text into {LANGUAGE}:\n",
       "\n",
       "{TEXT}:   0%|          | 0/10 [00:00<?, ?it/s]"
      ]
     },
     "metadata": {},
     "output_type": "display_data"
    },
    {
     "data": {
      "application/vnd.jupyter.widget-view+json": {
       "model_id": "5f33134524744999bb3eabc54c572372",
       "version_major": 2,
       "version_minor": 0
      },
      "text/plain": [
       "Translate the following text to {LANGUAGE} and return only the translation. Exclude any additional information…"
      ]
     },
     "metadata": {},
     "output_type": "display_data"
    },
    {
     "data": {
      "application/vnd.jupyter.widget-view+json": {
       "model_id": "b1029625966342dd818688e9d5ee1e83",
       "version_major": 2,
       "version_minor": 0
      },
      "text/plain": [
       "Translate the text into {LANGUAGE}. Return only the translated text. Ensure that your translation is of high q…"
      ]
     },
     "metadata": {},
     "output_type": "display_data"
    },
    {
     "data": {
      "application/vnd.jupyter.widget-view+json": {
       "model_id": "f3327d8a8a32450e9891316c8b092910",
       "version_major": 2,
       "version_minor": 0
      },
      "text/plain": [
       "Translate the following text to {LANGUAGE} excluding any unnecessary information and return only the translate…"
      ]
     },
     "metadata": {},
     "output_type": "display_data"
    },
    {
     "data": {
      "application/vnd.jupyter.widget-view+json": {
       "model_id": "75b47fca95924aef859316f226247081",
       "version_major": 2,
       "version_minor": 0
      },
      "text/plain": [
       "Please translate the following text into {LANGUAGE}. Please ONLY return the high-quality translated content, e…"
      ]
     },
     "metadata": {},
     "output_type": "display_data"
    },
    {
     "data": {
      "application/vnd.jupyter.widget-view+json": {
       "model_id": "ea9157716d81419fb4d82898cd57ee5d",
       "version_major": 2,
       "version_minor": 0
      },
      "text/plain": [
       "Translate the following text into {LANGUAGE}, providing only the translated content without any additional ins…"
      ]
     },
     "metadata": {},
     "output_type": "display_data"
    },
    {
     "data": {
      "application/vnd.jupyter.widget-view+json": {
       "model_id": "9c1c6fa53566463da87e18ef81d32015",
       "version_major": 2,
       "version_minor": 0
      },
      "text/plain": [
       "Provide a translation into {LANGUAGE} for the given text, excluding any unnecessary content or instructions:\n",
       "\n",
       "…"
      ]
     },
     "metadata": {},
     "output_type": "display_data"
    },
    {
     "name": "stdout",
     "output_type": "stream",
     "text": [
      "{'Translate the following text into {LANGUAGE}. Return only the translated text, excluding any additional instructions or content. Ensure that the translation is accurate, fluent, and maintains the same meaning and tone as the original text. Provide a high-quality translation that reads naturally, as if written by a native speaker.\\n\\n{TEXT}': 21.833333333333336, 'Translate the following text into {LANGUAGE}:\\n\\n{TEXT}': 5.306577480490525, \"Translate the following text to {LANGUAGE} and return only the translation. Exclude any additional information, instructions, or formatting. Ensure the translation is of high quality, fluent, accurate, and maintains the original text's meaning, context, tone, and style. It should sound natural, as if written by a native speaker.\\n\\n{TEXT}\": 23.0, \"Translate the text into {LANGUAGE}. Return only the translated text. Ensure that your translation is of high quality, complete, and accurate, reflecting the original text's context and meaning. Make sure it reads naturally and sounds similar to the output of a fluent speaker.\\n\\n{TEXT}\": 20.690476190476186, 'Translate the following text to {LANGUAGE} excluding any unnecessary information and return only the translated content. Make the translation accurate and fluent, as if it were written by a native speaker.\\n\\n{TEXT}': 22.000000000000004, \"Please translate the following text into {LANGUAGE}. Please ONLY return the high-quality translated content, excluding the original text or additional information. Ensure the translation maintains the original text's overall tone, meaning, and context, with similar fluency and naturalness. The output should be a seamless translation, as if written by a native speaker of the target language. \\n\\n{TEXT}\": 18.76923076923077, \"Translate the following text into {LANGUAGE}, providing only the translated content without any additional instructions or source text. The translation should be of exceptional quality, grammatically flawless, and stylistically consistent with the target language. Ensure that the translation accurately conveys the original text's meaning, tone, and context, while sounding fluent and natural, as if written by a native speaker.\\n\\n{TEXT}\": 22.000000000000004, 'Provide a translation into {LANGUAGE} for the given text, excluding any unnecessary content or instructions:\\n\\n```\\n{TEXT}\\n```': 21.855311355311358}\n",
      "Step 9\n"
     ]
    },
    {
     "data": {
      "application/vnd.jupyter.widget-view+json": {
       "model_id": "edeb6ba77e494930b0624050ef79faaa",
       "version_major": 2,
       "version_minor": 0
      },
      "text/plain": [
       "Optimizing:   0%|          | 0/8 [00:00<?, ?it/s]"
      ]
     },
     "metadata": {},
     "output_type": "display_data"
    },
    {
     "name": "stdout",
     "output_type": "stream",
     "text": [
      "['Translate the below text to {LANGUAGE}. Please return only the high-quality translated text, excluding the original text or any additional information. Make sure your translation has the same meaning and in the context of the original text, and keep the overall tone and style. Provide a fluent, natural-sounding translation that reads as if it was written by a native speaker. \\n\\n{TEXT}', \"Translate the provided text into {LANGUAGE}, excluding any unnecessary information such as the original text, formatting, or instructions. Deliver a high-quality, precise translation that effectively conveys the original message's meaning and tone. The translation should be seamless and natural, akin to the work of a native speaker.\\n\\n{TEXT}\", \"Translate the following text into {LANGUAGE}. Only include the translation and exclude any other information or instructions. Ensure the translation is accurate, fluent, natural, and reads as if written by a native speaker, preserving the original text's meaning, tone, and style.\\n\\n{TEXT}\", 'Translate the following text into {LANGUAGE}, excluding any unnecessary content or instructions. Ensure the translated text is of high quality and reads naturally, as if written by a local speaker. Maintain the same tone and context as the original text, while providing an accurate and grammatically correct translation. The final translation should appear as a fluent, coherent piece of writing that captures the essence of the original text.\\n\\n{TEXT}', \"Translate the provided text to {LANGUAGE}. Only provide the translated text. Remove any instructions, extra content, or source text. Ensure the translation is accurate, in the target language's correct structure and grammar, and reads naturally, similar to a native speaker's writing.\\n\\n{TEXT}\", 'Translate the following text into {LANGUAGE} and return only the translated text, excluding any additional information, such as the source text, instructions, or formatting. Ensure the translation is accurate, grammatically correct, and sounds naturally fluent, as if written by a native speaker.\\n\\n{TEXT}', 'Translate the following text to {LANGUAGE}. Provide only the translated text, without including the original text, additional instructions, or any symbols or brackets. Ensure the translation is seamlessly natural, fluent, as if written by a native speaker, and adheres to the highest standards of linguistic correctness, embracing perfect grammar and word choices. The translation must embody the essence, style, and tone of the original text, conveying its intended meaning authentically.\\n\\n{TEXT}', 'Translate the following text into {LANGUAGE} and provide only the translated text, excluding any instructions, source text, or additional metadata. The translation must maintain the same meaning and context as the original text, preserving its overall tone and style. Ensure the translation is fluent, accurate, and reads naturally, as if written by a native speaker of the target language.\\n\\n{TEXT}']\n"
     ]
    },
    {
     "data": {
      "application/vnd.jupyter.widget-view+json": {
       "model_id": "c251bcca699a43ecb36722414ba0ef68",
       "version_major": 2,
       "version_minor": 0
      },
      "text/plain": [
       "Scoring:   0%|          | 0/8 [00:00<?, ?it/s]"
      ]
     },
     "metadata": {},
     "output_type": "display_data"
    },
    {
     "data": {
      "application/vnd.jupyter.widget-view+json": {
       "model_id": "24bf61386d354f69824ebd0f4434c8e8",
       "version_major": 2,
       "version_minor": 0
      },
      "text/plain": [
       "Translate the below text to {LANGUAGE}. Please return only the high-quality translated text, excluding the ori…"
      ]
     },
     "metadata": {},
     "output_type": "display_data"
    },
    {
     "data": {
      "application/vnd.jupyter.widget-view+json": {
       "model_id": "ed657b844c9d4b3593cae4422dc95621",
       "version_major": 2,
       "version_minor": 0
      },
      "text/plain": [
       "Translate the provided text into {LANGUAGE}, excluding any unnecessary information such as the original text, …"
      ]
     },
     "metadata": {},
     "output_type": "display_data"
    },
    {
     "data": {
      "application/vnd.jupyter.widget-view+json": {
       "model_id": "f2b0895e7c324c3281d64eaa55132d1e",
       "version_major": 2,
       "version_minor": 0
      },
      "text/plain": [
       "Translate the following text into {LANGUAGE}. Only include the translation and exclude any other information o…"
      ]
     },
     "metadata": {},
     "output_type": "display_data"
    },
    {
     "data": {
      "application/vnd.jupyter.widget-view+json": {
       "model_id": "73ed3aea4f164ce78d6aa835921e6895",
       "version_major": 2,
       "version_minor": 0
      },
      "text/plain": [
       "Translate the following text into {LANGUAGE}, excluding any unnecessary content or instructions. Ensure the tr…"
      ]
     },
     "metadata": {},
     "output_type": "display_data"
    },
    {
     "data": {
      "application/vnd.jupyter.widget-view+json": {
       "model_id": "d3042d7f9dd14f80a19be5282dda6e81",
       "version_major": 2,
       "version_minor": 0
      },
      "text/plain": [
       "Translate the provided text to {LANGUAGE}. Only provide the translated text. Remove any instructions, extra co…"
      ]
     },
     "metadata": {},
     "output_type": "display_data"
    },
    {
     "data": {
      "application/vnd.jupyter.widget-view+json": {
       "model_id": "8ed2037d6c584288a6cc98bf5cce9806",
       "version_major": 2,
       "version_minor": 0
      },
      "text/plain": [
       "Translate the following text into {LANGUAGE} and return only the translated text, excluding any additional inf…"
      ]
     },
     "metadata": {},
     "output_type": "display_data"
    },
    {
     "data": {
      "application/vnd.jupyter.widget-view+json": {
       "model_id": "85f177eb44bf4c4dad58e0196768ee34",
       "version_major": 2,
       "version_minor": 0
      },
      "text/plain": [
       "Translate the following text to {LANGUAGE}. Provide only the translated text, without including the original t…"
      ]
     },
     "metadata": {},
     "output_type": "display_data"
    },
    {
     "data": {
      "application/vnd.jupyter.widget-view+json": {
       "model_id": "110afe4705ba480a993949100c8ecc53",
       "version_major": 2,
       "version_minor": 0
      },
      "text/plain": [
       "Translate the following text into {LANGUAGE} and provide only the translated text, excluding any instructions,…"
      ]
     },
     "metadata": {},
     "output_type": "display_data"
    },
    {
     "name": "stdout",
     "output_type": "stream",
     "text": [
      "{'Translate the below text to {LANGUAGE}. Please return only the high-quality translated text, excluding the original text or any additional information. Make sure your translation has the same meaning and in the context of the original text, and keep the overall tone and style. Provide a fluent, natural-sounding translation that reads as if it was written by a native speaker. \\n\\n{TEXT}': 23.421568627450977, \"Translate the provided text into {LANGUAGE}, excluding any unnecessary information such as the original text, formatting, or instructions. Deliver a high-quality, precise translation that effectively conveys the original message's meaning and tone. The translation should be seamless and natural, akin to the work of a native speaker.\\n\\n{TEXT}\": 19.201970443349754, \"Translate the following text into {LANGUAGE}. Only include the translation and exclude any other information or instructions. Ensure the translation is accurate, fluent, natural, and reads as if written by a native speaker, preserving the original text's meaning, tone, and style.\\n\\n{TEXT}\": 20.916666666666668, 'Translate the following text into {LANGUAGE}, excluding any unnecessary content or instructions. Ensure the translated text is of high quality and reads naturally, as if written by a local speaker. Maintain the same tone and context as the original text, while providing an accurate and grammatically correct translation. The final translation should appear as a fluent, coherent piece of writing that captures the essence of the original text.\\n\\n{TEXT}': 19.505270092226613, \"Translate the provided text to {LANGUAGE}. Only provide the translated text. Remove any instructions, extra content, or source text. Ensure the translation is accurate, in the target language's correct structure and grammar, and reads naturally, similar to a native speaker's writing.\\n\\n{TEXT}\": 20.333333333333332, 'Translate the following text into {LANGUAGE} and return only the translated text, excluding any additional information, such as the source text, instructions, or formatting. Ensure the translation is accurate, grammatically correct, and sounds naturally fluent, as if written by a native speaker.\\n\\n{TEXT}': 22.5, 'Translate the following text to {LANGUAGE}. Provide only the translated text, without including the original text, additional instructions, or any symbols or brackets. Ensure the translation is seamlessly natural, fluent, as if written by a native speaker, and adheres to the highest standards of linguistic correctness, embracing perfect grammar and word choices. The translation must embody the essence, style, and tone of the original text, conveying its intended meaning authentically.\\n\\n{TEXT}': 23.619047619047613, 'Translate the following text into {LANGUAGE} and provide only the translated text, excluding any instructions, source text, or additional metadata. The translation must maintain the same meaning and context as the original text, preserving its overall tone and style. Ensure the translation is fluent, accurate, and reads naturally, as if written by a native speaker of the target language.\\n\\n{TEXT}': 22.304945054945055}\n",
      "Step 10\n"
     ]
    },
    {
     "data": {
      "application/vnd.jupyter.widget-view+json": {
       "model_id": "186adc1d543f453d8b1d63701e2e500a",
       "version_major": 2,
       "version_minor": 0
      },
      "text/plain": [
       "Optimizing:   0%|          | 0/8 [00:00<?, ?it/s]"
      ]
     },
     "metadata": {},
     "output_type": "display_data"
    },
    {
     "name": "stdout",
     "output_type": "stream",
     "text": [
      "['Translate the following text into {LANGUAGE}. Ensure the translation reads naturally and is free of any errors, as if written by a native speaker. Your translation should capture the essence, context, tone, and style of the original text, delivering a high-quality rendition that accurately conveys its intended meaning. Please provide only the translated content, excluding any supplemental information or instructions. \\n\\n{TEXT}', 'Translate the following text into the target {LANGUAGE}. Ensure the translated content aligns with the original message, and reflects the same tone and purpose as intended by the author. Only provide the translated content, free from any additional notes or meta-information. The translation should be fluent and easy to comprehend, providing a smooth reading experience for native speakers of the target language.\\n\\n{TEXT}', \"Translate the following text into {LANGUAGE} and provide only the translation. Exclude any instructions or additional content. Produce a fluent, top-notch translation that conveys the original text's intent and style flawlessly. Ensure the translation is grammatically sound, utilizes precise word choices, and reads smoothly, as if a native speaker had crafted it.\\n\\n{TEXT}\", \"Translate the text into {LANGUAGE} and return only the translation, excluding any extra text. Make sure your translation is accurate, fluent, and maintains the original text's meaning and style. Ensure it is written in a natural tone, as if written by a native speaker of the target language.\\n\\n{TEXT}\", \"Translate the following text to {LANGUAGE}. Include only the translated text, excluding the source text or any notes or instructions. Ensure the translation is high-quality, fluent, accurate, and captures the tone and meaning of the original text as if written by a native speaker. Maintain the original text's style and context, and deliver a translation that is both natural and grammatically correct.\\n{TEXT}\", \"Translate the following text into {LANGUAGE}. Ensure high-quality output sans extraneous text, source text, and instructions. Maintain linguistic standards by preserving the original text's essence, style, and message with utmost precision and finesse. Provide an effortless translation that exudes native-speaker fluidity and reads as though penned by a wordsmith who has mastered the art of transforming words across linguistic frontiers.\\n\\n{TEXT}\", \"Translate the following text into {LANGUAGE} and return only the translated text. Exclude any additional information, instructions, or formatting. Ensure the translation is accurate, grammatically correct, and reads naturally, as if a native speaker of the target language wrote it. Preserve the original text's meaning, context, tone, and style, capturing its essence and nuances. Provide a smooth, fluent, and high-quality translation that is indistinguishable from a human-generated translation.\\n\\n{TEXT}\", \"Translate the following text into {LANGUAGE} and return only the translation, excluding any additional content. Make sure the translation is of high quality, fluent, accurate, and maintains the original text's meaning, context, tone, and style. It should sound natural, as if written by a native speaker.\\n\\n{TEXT}\"]\n"
     ]
    },
    {
     "data": {
      "application/vnd.jupyter.widget-view+json": {
       "model_id": "68b4046c334840d09c70550382eb8fee",
       "version_major": 2,
       "version_minor": 0
      },
      "text/plain": [
       "Scoring:   0%|          | 0/8 [00:00<?, ?it/s]"
      ]
     },
     "metadata": {},
     "output_type": "display_data"
    },
    {
     "data": {
      "application/vnd.jupyter.widget-view+json": {
       "model_id": "8a1c49080f9748c295c48e926a9df121",
       "version_major": 2,
       "version_minor": 0
      },
      "text/plain": [
       "Translate the following text into {LANGUAGE}. Ensure the translation reads naturally and is free of any errors…"
      ]
     },
     "metadata": {},
     "output_type": "display_data"
    },
    {
     "data": {
      "application/vnd.jupyter.widget-view+json": {
       "model_id": "3842d6ac1afd488fa697d7f0956ae7a1",
       "version_major": 2,
       "version_minor": 0
      },
      "text/plain": [
       "Translate the following text into the target {LANGUAGE}. Ensure the translated content aligns with the origina…"
      ]
     },
     "metadata": {},
     "output_type": "display_data"
    },
    {
     "data": {
      "application/vnd.jupyter.widget-view+json": {
       "model_id": "704b90d857a643b4ac1e8d6d6e455c84",
       "version_major": 2,
       "version_minor": 0
      },
      "text/plain": [
       "Translate the following text into {LANGUAGE} and provide only the translation. Exclude any instructions or add…"
      ]
     },
     "metadata": {},
     "output_type": "display_data"
    },
    {
     "data": {
      "application/vnd.jupyter.widget-view+json": {
       "model_id": "56a775229b2e4c44849748a7ca29a245",
       "version_major": 2,
       "version_minor": 0
      },
      "text/plain": [
       "Translate the text into {LANGUAGE} and return only the translation, excluding any extra text. Make sure your t…"
      ]
     },
     "metadata": {},
     "output_type": "display_data"
    },
    {
     "data": {
      "application/vnd.jupyter.widget-view+json": {
       "model_id": "d822e2c279524fcb8d04df55695b1181",
       "version_major": 2,
       "version_minor": 0
      },
      "text/plain": [
       "Translate the following text to {LANGUAGE}. Include only the translated text, excluding the source text or any…"
      ]
     },
     "metadata": {},
     "output_type": "display_data"
    },
    {
     "data": {
      "application/vnd.jupyter.widget-view+json": {
       "model_id": "28762da11ffe4716906c3a48b98bf428",
       "version_major": 2,
       "version_minor": 0
      },
      "text/plain": [
       "Translate the following text into {LANGUAGE}. Ensure high-quality output sans extraneous text, source text, an…"
      ]
     },
     "metadata": {},
     "output_type": "display_data"
    },
    {
     "data": {
      "application/vnd.jupyter.widget-view+json": {
       "model_id": "a164a45d95dd42d080c4423ff81a5446",
       "version_major": 2,
       "version_minor": 0
      },
      "text/plain": [
       "Translate the following text into {LANGUAGE} and return only the translated text. Exclude any additional infor…"
      ]
     },
     "metadata": {},
     "output_type": "display_data"
    },
    {
     "data": {
      "application/vnd.jupyter.widget-view+json": {
       "model_id": "652af58b2680448eb77d2280b1f0faef",
       "version_major": 2,
       "version_minor": 0
      },
      "text/plain": [
       "Translate the following text into {LANGUAGE} and return only the translation, excluding any additional content…"
      ]
     },
     "metadata": {},
     "output_type": "display_data"
    },
    {
     "name": "stdout",
     "output_type": "stream",
     "text": [
      "{'Translate the following text into {LANGUAGE}. Ensure the translation reads naturally and is free of any errors, as if written by a native speaker. Your translation should capture the essence, context, tone, and style of the original text, delivering a high-quality rendition that accurately conveys its intended meaning. Please provide only the translated content, excluding any supplemental information or instructions. \\n\\n{TEXT}': 20.137035378414687, 'Translate the following text into the target {LANGUAGE}. Ensure the translated content aligns with the original message, and reflects the same tone and purpose as intended by the author. Only provide the translated content, free from any additional notes or meta-information. The translation should be fluent and easy to comprehend, providing a smooth reading experience for native speakers of the target language.\\n\\n{TEXT}': 23.25, \"Translate the following text into {LANGUAGE} and provide only the translation. Exclude any instructions or additional content. Produce a fluent, top-notch translation that conveys the original text's intent and style flawlessly. Ensure the translation is grammatically sound, utilizes precise word choices, and reads smoothly, as if a native speaker had crafted it.\\n\\n{TEXT}\": 22.000000000000004, \"Translate the text into {LANGUAGE} and return only the translation, excluding any extra text. Make sure your translation is accurate, fluent, and maintains the original text's meaning and style. Ensure it is written in a natural tone, as if written by a native speaker of the target language.\\n\\n{TEXT}\": 22.476190476190478, \"Translate the following text to {LANGUAGE}. Include only the translated text, excluding the source text or any notes or instructions. Ensure the translation is high-quality, fluent, accurate, and captures the tone and meaning of the original text as if written by a native speaker. Maintain the original text's style and context, and deliver a translation that is both natural and grammatically correct.\\n{TEXT}\": 19.333333333333332, \"Translate the following text into {LANGUAGE}. Ensure high-quality output sans extraneous text, source text, and instructions. Maintain linguistic standards by preserving the original text's essence, style, and message with utmost precision and finesse. Provide an effortless translation that exudes native-speaker fluidity and reads as though penned by a wordsmith who has mastered the art of transforming words across linguistic frontiers.\\n\\n{TEXT}\": 7.836829650190384, \"Translate the following text into {LANGUAGE} and return only the translated text. Exclude any additional information, instructions, or formatting. Ensure the translation is accurate, grammatically correct, and reads naturally, as if a native speaker of the target language wrote it. Preserve the original text's meaning, context, tone, and style, capturing its essence and nuances. Provide a smooth, fluent, and high-quality translation that is indistinguishable from a human-generated translation.\\n\\n{TEXT}\": 26.047619047619047, \"Translate the following text into {LANGUAGE} and return only the translation, excluding any additional content. Make sure the translation is of high quality, fluent, accurate, and maintains the original text's meaning, context, tone, and style. It should sound natural, as if written by a native speaker.\\n\\n{TEXT}\": 23.25}\n"
     ]
    }
   ],
   "source": [
    "INS_PER_STEP = 8\n",
    "MAX_INS_SCORE_PAIRS = 20\n",
    "SAVE_PATH = \"synthetic_translations_OPRO_results.json\"\n",
    "\n",
    "# loading saved data\n",
    "if os.path.exists(SAVE_PATH):\n",
    "    with open(SAVE_PATH, \"r\") as f:\n",
    "        results = json.load(f)\n",
    "    starting_step = len(results) + 1\n",
    "    ins_score_pairs = results[str(len(results))]\n",
    "else:\n",
    "    ins_lst = [\n",
    "        CHOSEN_PROMPT,\n",
    "        f\"{CHOSEN_PROMPT}. Think step by step.\",\n",
    "        f\"{CHOSEN_PROMPT}. Take a deep breath and think step-by-step.\",\n",
    "        f\"{CHOSEN_PROMPT}. Be concise and clear.\",\n",
    "        f\"{CHOSEN_PROMPT}. You are the creator of an atlas.\",\n",
    "        f\"{CHOSEN_PROMPT}. Explain your answer in simple terms.\",\n",
    "        # Prompt1 from Suggest Prompt\n",
    "        \"\"\"### Prompt\n",
    "        \n",
    "I'm going to tip $10 for a better solution!\n",
    "```\n",
    "### Instructions\n",
    "\n",
    "### Example\n",
    "Translate \\\"Hello, world!\\\" to French.\n",
    "```\n",
    "\n",
    "Your task is to help me to translate the following text to {LANGUAGE}. Please return only translated content, do not include the original text. \n",
    "\n",
    "{TEXT}\n",
    "\n",
    "You MUST format the translated text in the following way: \n",
    "\n",
    "```\n",
    "{{TRANSLATED TEXT}}\n",
    "```\n",
    "\n",
    "You will be penalized if you do not follow this format.\n",
    "\n",
    "Answer a question given in a natural, human-like manner\n",
    "\n",
    "---\n",
    "\n",
    "Would you like me to add anything else? (yes/no)\"\"\",\n",
    "        # Prompt2 from Suggest Prompt\n",
    "        \"\"\"Translate the following text to *{LANGUAGE}*.\n",
    "Return only the translated content. Do not include the original text.\n",
    "\n",
    "**Text**: {TEXT}\n",
    "\n",
    "### Notes ###\n",
    "- No need for polite language.\n",
    "- Ensure your response is in *{LANGUAGE}*. \n",
    "- I'm offering a tip for a higher quality translation.\"\"\",\n",
    "        # Prompt3 from Suggest Prompt\n",
    "        \"\"\"###Instruction###\n",
    "\n",
    "Please help me to translate the following text to {LANGUAGE}. Please return only translated text, not including the origin text.\n",
    "\n",
    "###Example###\n",
    "\n",
    "####\n",
    "{TEXT}\n",
    "####\n",
    "\n",
    "###Question###\n",
    "\n",
    "What is the translated text?\"\"\",\n",
    "        # Prompt4 from Suggest Prompt\n",
    "        \"\"\"####\n",
    "Your task is to translate the following text to {LANGUAGE}. You MUST only return the translated content and exclude the original text.\n",
    "\n",
    "{TEXT}\n",
    "\n",
    "### Instruction###\n",
    "I'm going to tip $100 for a better solution! I need the translation to be of high quality and accurate.\"\"\",\n",
    "        # Prompt5 from Suggest Prompt\n",
    "        \"\"\"###Instruction###\n",
    "Translate the following text into {LANGUAGE}:\n",
    "\n",
    "###Example###\n",
    "**English to Spanish:**\n",
    "```\n",
    "Original text: Hello, world!\n",
    "Translated text: ¡Hola, mundo!\n",
    "```\n",
    "\n",
    "###Question###\n",
    "I'm providing you with the original text below: {TEXT}. Translate it to {LANGUAGE} and return only the translated content without including the original text.\"\"\",\n",
    "    ]\n",
    "    ins_score_pairs = {\n",
    "        ins: score(ins, training_sample)\n",
    "        for ins in tqdm(ins_lst, desc=\"Scoring\", position=0)\n",
    "    }\n",
    "    starting_step = 1\n",
    "    results = {starting_step: ins_score_pairs}\n",
    "    with open(SAVE_PATH, \"w\") as f:\n",
    "        json.dump(results, f)\n",
    "\n",
    "# Each step takes aboy 5 to 10 minutes with gemma:2b\n",
    "STEP_COUNT = 20\n",
    "TARGET_STEP = starting_step + STEP_COUNT\n",
    "assert TARGET_STEP >= starting_step, \"TARGET_STEP should be greater than step.\"\n",
    "for i in range(starting_step, TARGET_STEP):\n",
    "    print(f\"Step {i}\")\n",
    "    while True:\n",
    "        try:\n",
    "            # Optimizer LLM\n",
    "            instructions = [\n",
    "                opt_llm(ins_score_pairs)\n",
    "                for _ in trange(INS_PER_STEP, desc=\"Optimizing\")\n",
    "            ]\n",
    "            print(instructions)\n",
    "\n",
    "            # Scoring the new instructions\n",
    "            new_ins_score_pairs = {\n",
    "                ins: score(ins, training_sample)\n",
    "                for ins in tqdm(instructions, desc=\"Scoring\", position=0)\n",
    "            }\n",
    "            print(new_ins_score_pairs)\n",
    "            combined_ins_score_pairs = {**ins_score_pairs, **new_ins_score_pairs}\n",
    "            ins_score_pairs = dict(\n",
    "                sorted(\n",
    "                    combined_ins_score_pairs.items(), key=lambda x: x[1], reverse=True\n",
    "                )[:MAX_INS_SCORE_PAIRS]\n",
    "            )\n",
    "\n",
    "            # Saving data\n",
    "            results[i] = ins_score_pairs\n",
    "            with open(SAVE_PATH, \"w\") as f:\n",
    "                json.dump(results, f)\n",
    "\n",
    "            break\n",
    "        except ValueError as e:\n",
    "            print(e)\n",
    "        except Exception as e:\n",
    "            print(e)"
   ]
  },
  {
   "cell_type": "markdown",
   "metadata": {},
   "source": [
    "### Plotting Results and Testing Accuracy"
   ]
  },
  {
   "cell_type": "code",
   "execution_count": 7,
   "metadata": {},
   "outputs": [
    {
     "data": {
      "text/plain": [
       "Text(0.5, 1.0, 'Step to Accuracy')"
      ]
     },
     "execution_count": 7,
     "metadata": {},
     "output_type": "execute_result"
    },
    {
     "data": {
      "image/png": "[encoded data removed]",
      "text/plain": [
       "<Figure size 640x480 with 1 Axes>"
      ]
     },
     "metadata": {},
     "output_type": "display_data"
    }
   ],
   "source": [
    "import statistics\n",
    "import matplotlib.pyplot as plt\n",
    "\n",
    "# load opro.json\n",
    "with open(SAVE_PATH) as f:\n",
    "    opro_results = json.load(f)\n",
    "\n",
    "# opro = {step:dict(sorted(opro[step].items(), key=lambda x: x[1], reverse=True)[:20]) for step in opro}\n",
    "step_to_accuracy = {\n",
    "    step: (\n",
    "        statistics.mean(opro_results[step].values()),\n",
    "        statistics.stdev(opro_results[step].values()),\n",
    "    )\n",
    "    for step in opro_results\n",
    "}\n",
    "\n",
    "# Plot step to accuracy as a continuous line graph, including stdevs as highlighted error bars\n",
    "fig, ax = plt.subplots()\n",
    "ax.errorbar(\n",
    "    step_to_accuracy.keys(),\n",
    "    [accuracy[0] for accuracy in step_to_accuracy.values()],\n",
    "    yerr=[accuracy[1] for accuracy in step_to_accuracy.values()],\n",
    "    fmt=\"o\",\n",
    ")\n",
    "ax.set_xticks([step for step in step_to_accuracy.keys() if int(step) % 5 == 0])\n",
    "ax.set_xlabel(\"Step\")\n",
    "ax.set_ylabel(\"Accuracy\")\n",
    "ax.set_title(\"Step to Accuracy\")"
   ]
  },
  {
   "cell_type": "code",
   "execution_count": 8,
   "metadata": {},
   "outputs": [
    {
     "data": {
      "text/plain": [
       "{'Translate the text into the target {LANGUAGE}. Please only return the high-quality translated content, excluding the original text or additional information. Ensure that your translation maintains the same meaning and context as the original text, preserving its overall tone and style. Provide a fluent, natural-sounding translation that reads as if written by a native speaker. \\n\\n**Original text:**\\n\\n{TEXT}': 36.25961538461539,\n",
       " 'Translate the following text into {LANGUAGE}. Please return only the translated content. Do not include the original text or any additional instructions. \\n\\n{TEXT}': 32.126696832579185,\n",
       " 'Translate the following text to {LANGUAGE}. Provide the translated text only. Exclude the original text and any instructions or additional content. Ensure the translation is of high quality and accuracy, with flawless grammar, sentence structure, and word choice. Make the translation sound fluent and natural, as if a native speaker had written it.\\n\\n```\\n{TEXT}\\n```': 30.333333333333336,\n",
       " \"Translate the text into {LANGUAGE}. Include the translation only and exclude any unnecessary instructions and symbols like brackets. Ensure the translation reads as if a native speaker has written it. Make sure it's grammatically correct, error-free, and fluent. Your translation should embody the same meaning as the original text. \\n```\\n{TEXT}\\n```\": 27.999999999999996,\n",
       " 'Translate the following text into {LANGUAGE}. Return only the translated content without including the original text or any instructions:\\n\\n{TEXT}': 26.588235294117645,\n",
       " 'Translate the following text to {LANGUAGE}. Return only the translated text, excluding any additional information:\\n{TEXT}': 26.526315789473685,\n",
       " \"Translate the following text into {LANGUAGE} and return only the translated text. Exclude any additional information, instructions, or formatting. Ensure the translation is accurate, grammatically correct, and reads naturally, as if a native speaker of the target language wrote it. Preserve the original text's meaning, context, tone, and style, capturing its essence and nuances. Provide a smooth, fluent, and high-quality translation that is indistinguishable from a human-generated translation.\\n\\n{TEXT}\": 26.047619047619047,\n",
       " 'Translate the following text into {LANGUAGE} only. Do not include the original text or any additional instructions.\\n\\n```\\n{TEXT}\\n```': 25.921568627450974,\n",
       " 'Translate the provided text into {LANGUAGE} and return only the translated content without any supplementary instructions or components within parentheses or other symbols. Ensure the translated text reads naturally, as if written by a native speaker of the target language.\\n\\n{TEXT}': 25.859649122807017,\n",
       " \"Translate the following text to {LANGUAGE} and return only the translation, ensuring it sounds as smooth and natural as if a native speaker wrote it. The quality should be top-notch, with flawless grammar and word choice that perfectly captures the essence of the original text's style and tone.\\n\\n{TEXT}\": 25.497330282227303,\n",
       " \"Translate the given text into {LANGUAGE} and only include the translated text. Exclude any additional instructions, formatting, or source text. Provide a fluent, high-quality translation that accurately conveys the source text's meaning and style, as if written by a native speaker.\\n\\n{TEXT}\": 25.33333333333333,\n",
       " 'Translate the text into {LANGUAGE}. Include only the translated text and exclude the source text or any additional notes:\\n\\n```\\n{TEXT}\\n```': 24.102564102564106,\n",
       " 'Offer a translation in {LANGUAGE} for the following text, but provide only the translated text, excluding any additional information or instructions:\\n\\n{TEXT}': 23.838235294117645,\n",
       " 'Translate the following text to {LANGUAGE}. Provide only the translated text, without including the original text, additional instructions, or any symbols or brackets. Ensure the translation is seamlessly natural, fluent, as if written by a native speaker, and adheres to the highest standards of linguistic correctness, embracing perfect grammar and word choices. The translation must embody the essence, style, and tone of the original text, conveying its intended meaning authentically.\\n\\n{TEXT}': 23.619047619047613,\n",
       " 'Translate the following into {LANGUAGE}, but return only the relevant translation excluding any additional notes or instructions:\\n\\n```\\n{TEXT}\\n```': 23.483516483516482,\n",
       " 'Translate the below text to {LANGUAGE}. Please return only the high-quality translated text, excluding the original text or any additional information. Make sure your translation has the same meaning and in the context of the original text, and keep the overall tone and style. Provide a fluent, natural-sounding translation that reads as if it was written by a native speaker. \\n\\n{TEXT}': 23.421568627450977,\n",
       " 'Translate the following text into {LANGUAGE} but only provide the translation, excluding any instructions or extra content:\\n\\n{TEXT}': 23.25,\n",
       " 'Translate the following text into {LANGUAGE} and return only the translated content. Remove any formatting or additional text.\\n\\n{TEXT}': 23.25,\n",
       " 'Translate the following text into the target {LANGUAGE}. Ensure the translated content aligns with the original message, and reflects the same tone and purpose as intended by the author. Only provide the translated content, free from any additional notes or meta-information. The translation should be fluent and easy to comprehend, providing a smooth reading experience for native speakers of the target language.\\n\\n{TEXT}': 23.25,\n",
       " \"Translate the following text into {LANGUAGE} and return only the translation, excluding any additional content. Make sure the translation is of high quality, fluent, accurate, and maintains the original text's meaning, context, tone, and style. It should sound natural, as if written by a native speaker.\\n\\n{TEXT}\": 23.25}"
      ]
     },
     "execution_count": 8,
     "metadata": {},
     "output_type": "execute_result"
    }
   ],
   "source": [
    "opro_results[str(len(opro_results))]"
   ]
  },
  {
   "cell_type": "code",
   "execution_count": 9,
   "metadata": {},
   "outputs": [
    {
     "data": {
      "application/vnd.jupyter.widget-view+json": {
       "model_id": "504675dec9d94f0aa63fb791b089497e",
       "version_major": 2,
       "version_minor": 0
      },
      "text/plain": [
       "Please help me to translate the following text to {LANGUAGE}. Please return only translated content not includ…"
      ]
     },
     "metadata": {},
     "output_type": "display_data"
    },
    {
     "name": "stdout",
     "output_type": "stream",
     "text": [
      "Initial Prompt: 11.315493014744142\n"
     ]
    },
    {
     "data": {
      "application/vnd.jupyter.widget-view+json": {
       "model_id": "536e53aec8f94b23a72b392e9dd12401",
       "version_major": 2,
       "version_minor": 0
      },
      "text/plain": [
       "Translate the text into the target {LANGUAGE}. Please only return the high-quality translated content, excludi…"
      ]
     },
     "metadata": {},
     "output_type": "display_data"
    },
    {
     "name": "stdout",
     "output_type": "stream",
     "text": [
      "Optimized Prompt (Translate the text into the target {LANGUAGE}. Please only return the high-quality translated content, excluding the original text or additional information. Ensure that your translation maintains the same meaning and context as the original text, preserving its overall tone and style. Provide a fluent, natural-sounding translation that reads as if written by a native speaker. \n",
      "\n",
      "**Original text:**\n",
      "\n",
      "{TEXT}): 20.49125059050172\n"
     ]
    }
   ],
   "source": [
    "best_instruction = max(\n",
    "    opro_results[str(len(opro_results))], key=opro_results[str(len(opro_results))].get\n",
    ")\n",
    "print(f\"Initial Prompt: {score(CHOSEN_PROMPT, testing_sample)}\")\n",
    "print(f\"Optimized Prompt ({best_instruction}): {score(best_instruction, testing_sample)}\")"
   ]
  },
  {
   "cell_type": "code",
   "execution_count": 10,
   "metadata": {},
   "outputs": [
    {
     "data": {
      "application/vnd.jupyter.widget-view+json": {
       "model_id": "2febbf5f651d4d66a082b2e673e5c583",
       "version_major": 2,
       "version_minor": 0
      },
      "text/plain": [
       "Please help me to translate the following text to {LANGUAGE}. Please return only translated content not includ…"
      ]
     },
     "metadata": {},
     "output_type": "display_data"
    },
    {
     "name": "stdout",
     "output_type": "stream",
     "text": [
      "Initial Prompt: 34.009361560807875\n"
     ]
    },
    {
     "data": {
      "application/vnd.jupyter.widget-view+json": {
       "model_id": "b779892a7990492ca1001c55fc30927b",
       "version_major": 2,
       "version_minor": 0
      },
      "text/plain": [
       "Translate the text into the target {LANGUAGE}. Please only return the high-quality translated content, excludi…"
      ]
     },
     "metadata": {},
     "output_type": "display_data"
    },
    {
     "name": "stdout",
     "output_type": "stream",
     "text": [
      "Optimized Prompt (Translate the text into the target {LANGUAGE}. Please only return the high-quality translated content, excluding the original text or additional information. Ensure that your translation maintains the same meaning and context as the original text, preserving its overall tone and style. Provide a fluent, natural-sounding translation that reads as if written by a native speaker. \n",
      "\n",
      "**Original text:**\n",
      "\n",
      "{TEXT}): 40.093993577505756\n"
     ]
    }
   ],
   "source": [
    "best_instruction = max(\n",
    "    opro_results[str(len(opro_results))], key=opro_results[str(len(opro_results))].get\n",
    ")\n",
    "print(f\"Initial Prompt: {score(CHOSEN_PROMPT, original_data)}\")\n",
    "print(f\"Optimized Prompt ({best_instruction}): {score(best_instruction, original_data)}\")"
   ]
  },
  {
   "cell_type": "markdown",
   "metadata": {},
   "source": [
    "### Example"
   ]
  },
  {
   "cell_type": "code",
   "execution_count": 11,
   "metadata": {},
   "outputs": [
    {
     "data": {
      "text/plain": [
       "('¡Qué aburrimiento!',\n",
       " '¡Qué aburrido!\\n\\nThis translation maintains the same meaning and context as the original text, while being a fluent and natural-sounding translation.',\n",
       " 0.6091989278793335)"
      ]
     },
     "execution_count": 11,
     "metadata": {},
     "output_type": "execute_result"
    }
   ],
   "source": [
    "res = opro.generate(\n",
    "    best_instruction.format(LANGUAGE=\"Spanish\", TEXT=original_data[\"english\"][0]),\n",
    "    model=\"gemma\",  # gemma\n",
    ")\n",
    "original_data[\"spanish\"][0], res, sentence_bleu(original_data[\"spanish\"][0], res)"
   ]
  },
  {
   "cell_type": "code",
   "execution_count": 12,
   "metadata": {},
   "outputs": [
    {
     "data": {
      "text/plain": [
       "('¡Qué aburrimiento!',\n",
       " '¡Es aburrido!\\n\\nThe translated text is \"How boring!\".',\n",
       " 0.7065099477767944)"
      ]
     },
     "execution_count": 12,
     "metadata": {},
     "output_type": "execute_result"
    }
   ],
   "source": [
    "res = opro.generate(\n",
    "    CHOSEN_PROMPT.format(LANGUAGE=\"Spanish\", TEXT=original_data[\"english\"][0]),\n",
    "    model=\"gemma\",  # gemma\n",
    ")\n",
    "original_data[\"spanish\"][0], res, opro.similarity(original_data[\"spanish\"][0], res)"
   ]
  },
  {
   "cell_type": "code",
   "execution_count": null,
   "metadata": {},
   "outputs": [],
   "source": []
  }
 ],
 "metadata": {
  "kernelspec": {
   "display_name": "Python 3",
   "language": "python",
   "name": "python3"
  },
  "language_info": {
   "codemirror_mode": {
    "name": "ipython",
    "version": 3
   },
   "file_extension": ".py",
   "mimetype": "text/x-python",
   "name": "python",
   "nbconvert_exporter": "python",
   "pygments_lexer": "ipython3",
   "version": "3.10.12"
  }
 },
 "nbformat": 4,
 "nbformat_minor": 2
}
