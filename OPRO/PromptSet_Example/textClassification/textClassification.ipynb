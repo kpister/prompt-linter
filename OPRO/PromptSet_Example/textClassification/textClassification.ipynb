{
 "cells": [
  {
   "cell_type": "code",
   "execution_count": 2,
   "metadata": {},
   "outputs": [],
   "source": [
    "from datasets import load_dataset, Dataset\n",
    "import sys, os, json, re\n",
    "sys.path.append(os.path.join(os.getcwd(), '../..'))\n",
    "from OPRO import OPRO\n",
    "import pandas as pd\n",
    "from tqdm.auto import tqdm, trange\n",
    "\n",
    "# Usage\n",
    "opro = OPRO([\"gemini\", \"gemma\", \"llama2\", \"anthropic\"])\n",
    "# dataset = load_dataset(\"pisterlabs/promptset\").filter(lambda row: len(row[\"prompts\"]) > 0)[\"train\"]\n",
    "# CHOSEN_PROMPT = dataset[\"prompts\"][404][0].replace(\"PLACEHOLDER\", \"{LANGUAGE}\", 1).replace(\"PLACEHOLDER\", \"{TEXT}\", 1)\n",
    "\n",
    "CHOSEN_PROMPT = 'Decide which category the Tweet best classify as PLACEHOLDER.\\n\\nTweet: \"PLACEHOLDER\"\\nCategory: '\n",
    "\n",
    "# NOTE: Paused for now since gemma can not give consistent results."
   ]
  },
  {
   "cell_type": "code",
   "execution_count": null,
   "metadata": {},
   "outputs": [],
   "source": [
    "imdb = load_dataset(\"imdb\")\n"
   ]
  }
 ],
 "metadata": {
  "kernelspec": {
   "display_name": "Python 3",
   "language": "python",
   "name": "python3"
  },
  "language_info": {
   "codemirror_mode": {
    "name": "ipython",
    "version": 3
   },
   "file_extension": ".py",
   "mimetype": "text/x-python",
   "name": "python",
   "nbconvert_exporter": "python",
   "pygments_lexer": "ipython3",
   "version": "3.10.12"
  }
 },
 "nbformat": 4,
 "nbformat_minor": 2
}
