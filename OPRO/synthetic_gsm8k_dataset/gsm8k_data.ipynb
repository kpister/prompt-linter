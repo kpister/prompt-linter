{
 "cells": [
  {
   "cell_type": "code",
   "execution_count": 1,
   "metadata": {},
   "outputs": [],
   "source": [
    "import sys, os, json\n",
    "sys.path.append(os.path.join(os.getcwd(), '..'))\n",
    "\n",
    "from OPRO import OPRO\n",
    "from datasets import load_dataset, Dataset\n",
    "from tqdm.auto import tqdm, trange\n",
    "\n",
    "# load gsm8k dataset\n",
    "gsm8k_dataset = load_dataset(\"gsm8k\", \"main\")[\"train\"]\n",
    "\n",
    "opro = OPRO([\"anthropic\", \"gemini\", \"gemma\"])  # [\"gemini\", \"gemma\"]"
   ]
  },
  {
   "cell_type": "code",
   "execution_count": 2,
   "metadata": {},
   "outputs": [
    {
     "data": {
      "text/plain": [
       "(30, 30, 50, 50)"
      ]
     },
     "execution_count": 2,
     "metadata": {},
     "output_type": "execute_result"
    }
   ],
   "source": [
    "TRAINING_SAMPLE_SIZE = 30\n",
    "TESTING_SAMPLE_SIZE = 50\n",
    "\n",
    "training_sample = Dataset.from_dict(gsm8k_dataset[:TRAINING_SAMPLE_SIZE])\n",
    "\n",
    "testing_sample = Dataset.from_dict(\n",
    "    gsm8k_dataset[TRAINING_SAMPLE_SIZE : TRAINING_SAMPLE_SIZE + TESTING_SAMPLE_SIZE]\n",
    ")\n",
    "\n",
    "# Checking if the lists are parallel, i.e. the question and answer at the same index are related\n",
    "len(training_sample[\"question\"]), len(training_sample[\"answer\"]), len(\n",
    "    testing_sample[\"question\"]\n",
    "), len(testing_sample[\"answer\"])"
   ]
  },
  {
   "cell_type": "markdown",
   "metadata": {},
   "source": [
    "### Optimize prompt on synthetic data\n"
   ]
  },
  {
   "cell_type": "code",
   "execution_count": 3,
   "metadata": {},
   "outputs": [],
   "source": [
    "def opt_llm(instruction_score_pairs, training_sample):\n",
    "    # Format the instruction and score pairs into a string\n",
    "    pairs_str = \"\"\n",
    "    for ins, score in instruction_score_pairs.items():\n",
    "        pairs_str += f\"text:\\n{ins}\\nscore:\\n{score:.2f}\\n\\n\"\n",
    "\n",
    "    prompt = \"\"\"You are an optimization expert. The user has some texts along with their corresponding scores.\n",
    "Your task is to generate a new piece of text that scores as high as possible. \n",
    "Generate the new unique text only, not its corresponding score.\n",
    "\n",
    "I have some texts along with their corresponding scores. The texts are arranged in ascending order\n",
    "based on their scores, where higher scores indicate better quality.\n",
    "\n",
    "{pairs_str}\n",
    "\n",
    "The following exemplars show how to apply your text: you replace <INS> in each input with your\n",
    "text, then read the input and give an output. We say your output is wrong if your output is different\n",
    "from the given output, and we say your output is correct if they are the same.\n",
    "\n",
    "input:\n",
    "Q: {q1}\n",
    "A: <INS>\n",
    "output:\n",
    "{a1}\n",
    "\n",
    "input:\n",
    "Q: {q2}\n",
    "A: <INS>\n",
    "output:\n",
    "{a2}\n",
    "\n",
    "input:\n",
    "Q: {q3}\n",
    "A: <INS>\n",
    "output:\n",
    "{a3}\n",
    "\n",
    "Write your new text that is different from the old ones and has a score as high as possible.\n",
    "Generate the new unique text only, not its corresponding score.\n",
    "New instruction:\n",
    "\"\"\"\n",
    "\n",
    "    # Passing 20 Best Instruction-Score Pairs\n",
    "    # 3 randomly chosen questions/answers from the training sample\n",
    "    cut = lambda x: x.split(\"####\")[-1].strip()\n",
    "    q1, q2, q3 = (\n",
    "        training_sample[\"question\"][0],\n",
    "        training_sample[\"question\"][1],\n",
    "        training_sample[\"question\"][2],\n",
    "    )\n",
    "    a1, a2, a3 = (\n",
    "        cut(training_sample[\"answer\"][0]),\n",
    "        cut(training_sample[\"answer\"][1]),\n",
    "        cut(training_sample[\"answer\"][2]),\n",
    "    )\n",
    "    response = opro.generate(\n",
    "        prompt.format(pairs_str=pairs_str, q1=q1, a1=a1, q2=q2, a2=a2, q3=q3, a3=a3),\n",
    "        model=\"gemini\",  # gemini\n",
    "        is_indeterministic=True\n",
    "    )\n",
    "    return response\n",
    "\n",
    "\n",
    "def score(instruction, sample):\n",
    "    \"\"\"\n",
    "    Score the instruction using the sample. \n",
    "    \n",
    "    Args:\n",
    "    instruction: str\n",
    "    sample: Dataset with \"question\" and \"answer\" as keys\n",
    "\n",
    "    Returns:\n",
    "    accuracy: float\n",
    "    \"\"\"\n",
    "    accuracy = 0\n",
    "    prompt = \"\"\"Q: {question}\\nA: {instruction}\"\"\"\n",
    "    with tqdm(sample, desc=instruction, position=1, leave=False) as pbar:\n",
    "        for idx, sample_qa in enumerate(pbar):\n",
    "            res = opro.generate(\n",
    "                prompt.format(question=sample_qa[\"question\"], instruction=instruction),\n",
    "                model=\"gemma\",  # gemma\n",
    "            )\n",
    "            # Heuristic for detecting correctness\n",
    "            accuracy += sample_qa[\"answer\"].split(\"####\")[-1].strip() in res\n",
    "            pbar.set_postfix({\"Accuracy\": f\"{accuracy / (idx + 1):.2f}\"})\n",
    "\n",
    "    return accuracy / len(sample) * 100"
   ]
  },
  {
   "cell_type": "code",
   "execution_count": 4,
   "metadata": {},
   "outputs": [
    {
     "data": {
      "application/vnd.jupyter.widget-view+json": {
       "model_id": "e48eb8d113c6447188a7d098c955008f",
       "version_major": 2,
       "version_minor": 0
      },
      "text/plain": [
       "Scoring:   0%|          | 0/8 [00:00<?, ?it/s]"
      ]
     },
     "metadata": {},
     "output_type": "display_data"
    },
    {
     "data": {
      "application/vnd.jupyter.widget-view+json": {
       "model_id": "4ea37433126c47158527d99a22229f6d",
       "version_major": 2,
       "version_minor": 0
      },
      "text/plain": [
       "Solve this problem:   0%|          | 0/30 [00:00<?, ?it/s]"
      ]
     },
     "metadata": {},
     "output_type": "display_data"
    },
    {
     "data": {
      "application/vnd.jupyter.widget-view+json": {
       "model_id": "e7f1317bad3a49f09c19d00977a89577",
       "version_major": 2,
       "version_minor": 0
      },
      "text/plain": [
       "Let's think step by step:   0%|          | 0/30 [00:00<?, ?it/s]"
      ]
     },
     "metadata": {},
     "output_type": "display_data"
    },
    {
     "data": {
      "application/vnd.jupyter.widget-view+json": {
       "model_id": "ca59d5e914f1412780f340f563b14cb1",
       "version_major": 2,
       "version_minor": 0
      },
      "text/plain": [
       "Let’s solve this problem by splitting it into steps:   0%|          | 0/30 [00:00<?, ?it/s]"
      ]
     },
     "metadata": {},
     "output_type": "display_data"
    },
    {
     "data": {
      "application/vnd.jupyter.widget-view+json": {
       "model_id": "ed04c1e34aa14599b40be7395ebc0bf7",
       "version_major": 2,
       "version_minor": 0
      },
      "text/plain": [
       "Let’s think about this logically:   0%|          | 0/30 [00:00<?, ?it/s]"
      ]
     },
     "metadata": {},
     "output_type": "display_data"
    },
    {
     "data": {
      "application/vnd.jupyter.widget-view+json": {
       "model_id": "528fed36c70040ae9e363e544af0aa13",
       "version_major": 2,
       "version_minor": 0
      },
      "text/plain": [
       "Take a deep breath and think through this:   0%|          | 0/30 [00:00<?, ?it/s]"
      ]
     },
     "metadata": {},
     "output_type": "display_data"
    },
    {
     "data": {
      "application/vnd.jupyter.widget-view+json": {
       "model_id": "702d32e823b14eb7834f61d7d11f0567",
       "version_major": 2,
       "version_minor": 0
      },
      "text/plain": [
       "Break this down:   0%|          | 0/30 [00:00<?, ?it/s]"
      ]
     },
     "metadata": {},
     "output_type": "display_data"
    },
    {
     "data": {
      "application/vnd.jupyter.widget-view+json": {
       "model_id": "6ba46b4d9fad438ea5bbb8154fd736e4",
       "version_major": 2,
       "version_minor": 0
      },
      "text/plain": [
       "Respond quickly:   0%|          | 0/30 [00:00<?, ?it/s]"
      ]
     },
     "metadata": {},
     "output_type": "display_data"
    },
    {
     "data": {
      "application/vnd.jupyter.widget-view+json": {
       "model_id": "2d30ebcbd5004fc4a5fd6760e54eb934",
       "version_major": 2,
       "version_minor": 0
      },
      "text/plain": [
       "a;lsdghougkaa;aaaaaaaaaaaaaaaaaaaaaaaaaaaaaaaaaaaaaaaaaa:   0%|          | 0/30 [00:00<?, ?it/s]"
      ]
     },
     "metadata": {},
     "output_type": "display_data"
    },
    {
     "name": "stdout",
     "output_type": "stream",
     "text": [
      "Step 1\n"
     ]
    },
    {
     "data": {
      "application/vnd.jupyter.widget-view+json": {
       "model_id": "c4155258f36f482180d283b46345243c",
       "version_major": 2,
       "version_minor": 0
      },
      "text/plain": [
       "Optimizing:   0%|          | 0/8 [00:00<?, ?it/s]"
      ]
     },
     "metadata": {},
     "output_type": "display_data"
    },
    {
     "data": {
      "application/vnd.jupyter.widget-view+json": {
       "model_id": "7d63644cfe5c42b588cda45f493b0240",
       "version_major": 2,
       "version_minor": 0
      },
      "text/plain": [
       "Scoring:   0%|          | 0/8 [00:00<?, ?it/s]"
      ]
     },
     "metadata": {},
     "output_type": "display_data"
    },
    {
     "data": {
      "application/vnd.jupyter.widget-view+json": {
       "model_id": "83d1e037c68d41e894145682869c8017",
       "version_major": 2,
       "version_minor": 0
      },
      "text/plain": [
       "Let’s organize our thoughts in a logical way:   0%|          | 0/30 [00:00<?, ?it/s]"
      ]
     },
     "metadata": {},
     "output_type": "display_data"
    },
    {
     "data": {
      "application/vnd.jupyter.widget-view+json": {
       "model_id": "61dc09215b3e448491416cfaeb102ace",
       "version_major": 2,
       "version_minor": 0
      },
      "text/plain": [
       "Apply critical thinking:   0%|          | 0/30 [00:00<?, ?it/s]"
      ]
     },
     "metadata": {},
     "output_type": "display_data"
    },
    {
     "data": {
      "application/vnd.jupyter.widget-view+json": {
       "model_id": "164a4601a2ee44318673dfa9b83c9e77",
       "version_major": 2,
       "version_minor": 0
      },
      "text/plain": [
       "The answer lies in the question itself:   0%|          | 0/30 [00:00<?, ?it/s]"
      ]
     },
     "metadata": {},
     "output_type": "display_data"
    },
    {
     "data": {
      "application/vnd.jupyter.widget-view+json": {
       "model_id": "17cdab602b7048e08cad708dd0c27ec8",
       "version_major": 2,
       "version_minor": 0
      },
      "text/plain": [
       "**The steps to obtain the best solution:**:   0%|          | 0/30 [00:00<?, ?it/s]"
      ]
     },
     "metadata": {},
     "output_type": "display_data"
    },
    {
     "data": {
      "application/vnd.jupyter.widget-view+json": {
       "model_id": "10d75f110991455d8b701eceac79afc6",
       "version_major": 2,
       "version_minor": 0
      },
      "text/plain": [
       "Let's break this down into simpler steps:   0%|          | 0/30 [00:00<?, ?it/s]"
      ]
     },
     "metadata": {},
     "output_type": "display_data"
    },
    {
     "data": {
      "application/vnd.jupyter.widget-view+json": {
       "model_id": "98424909b9f04069a8050c7995b51ed1",
       "version_major": 2,
       "version_minor": 0
      },
      "text/plain": [
       "This is an interesting problem.:   0%|          | 0/30 [00:00<?, ?it/s]"
      ]
     },
     "metadata": {},
     "output_type": "display_data"
    },
    {
     "data": {
      "application/vnd.jupyter.widget-view+json": {
       "model_id": "85c6053e5f034d0c97d2c9334be55152",
       "version_major": 2,
       "version_minor": 0
      },
      "text/plain": [
       "Let’s solve this:   0%|          | 0/30 [00:00<?, ?it/s]"
      ]
     },
     "metadata": {},
     "output_type": "display_data"
    },
    {
     "data": {
      "application/vnd.jupyter.widget-view+json": {
       "model_id": "50817d1d00ec41be9f9bc9cb5951995b",
       "version_major": 2,
       "version_minor": 0
      },
      "text/plain": [
       "Let’s think step by step and break this down:   0%|          | 0/30 [00:00<?, ?it/s]"
      ]
     },
     "metadata": {},
     "output_type": "display_data"
    },
    {
     "name": "stdout",
     "output_type": "stream",
     "text": [
      "Step 2\n"
     ]
    },
    {
     "data": {
      "application/vnd.jupyter.widget-view+json": {
       "model_id": "6e6f5869dab54620b2d7a62d542ae14d",
       "version_major": 2,
       "version_minor": 0
      },
      "text/plain": [
       "Optimizing:   0%|          | 0/8 [00:00<?, ?it/s]"
      ]
     },
     "metadata": {},
     "output_type": "display_data"
    },
    {
     "data": {
      "application/vnd.jupyter.widget-view+json": {
       "model_id": "6f2e76cb339c480cb31accbfac461b81",
       "version_major": 2,
       "version_minor": 0
      },
      "text/plain": [
       "Scoring:   0%|          | 0/8 [00:00<?, ?it/s]"
      ]
     },
     "metadata": {},
     "output_type": "display_data"
    },
    {
     "data": {
      "application/vnd.jupyter.widget-view+json": {
       "model_id": "c5794434253e4b26ae8f8f97fec8053a",
       "version_major": 2,
       "version_minor": 0
      },
      "text/plain": [
       "Let's break it down and approach this problem systematically:   0%|          | 0/30 [00:00<?, ?it/s]"
      ]
     },
     "metadata": {},
     "output_type": "display_data"
    },
    {
     "data": {
      "application/vnd.jupyter.widget-view+json": {
       "model_id": "91986f06abb242609e4a480a45cbe004",
       "version_major": 2,
       "version_minor": 0
      },
      "text/plain": [
       "Guide us through the process:   0%|          | 0/30 [00:00<?, ?it/s]"
      ]
     },
     "metadata": {},
     "output_type": "display_data"
    },
    {
     "data": {
      "application/vnd.jupyter.widget-view+json": {
       "model_id": "1b04608a1e4c47269fc48466c60f6618",
       "version_major": 2,
       "version_minor": 0
      },
      "text/plain": [
       "First and foremost, let us approach the problem systematically.:   0%|          | 0/30 [00:00<?, ?it/s]"
      ]
     },
     "metadata": {},
     "output_type": "display_data"
    },
    {
     "data": {
      "application/vnd.jupyter.widget-view+json": {
       "model_id": "1793c6fdda5a4263a14a597acfdb1700",
       "version_major": 2,
       "version_minor": 0
      },
      "text/plain": [
       "Reframe the problem in a simpler perspective:   0%|          | 0/30 [00:00<?, ?it/s]"
      ]
     },
     "metadata": {},
     "output_type": "display_data"
    },
    {
     "data": {
      "application/vnd.jupyter.widget-view+json": {
       "model_id": "b77de5c0e77f4ef59312ebbe8f299a80",
       "version_major": 2,
       "version_minor": 0
      },
      "text/plain": [
       "Organize our thoughts in a clear and logical manner:   0%|          | 0/30 [00:00<?, ?it/s]"
      ]
     },
     "metadata": {},
     "output_type": "display_data"
    },
    {
     "data": {
      "application/vnd.jupyter.widget-view+json": {
       "model_id": "5fca79667376438194d3df99dafae3f4",
       "version_major": 2,
       "version_minor": 0
      },
      "text/plain": [
       "Let's break this down into simpler steps, starting with the most fundamental ideas.:   0%|          | 0/30 [00…"
      ]
     },
     "metadata": {},
     "output_type": "display_data"
    },
    {
     "data": {
      "application/vnd.jupyter.widget-view+json": {
       "model_id": "7fa3092308de443e87f04e190ef413d6",
       "version_major": 2,
       "version_minor": 0
      },
      "text/plain": [
       "Let's analyze the problem carefully and try to decompose it into manageable pieces.:   0%|          | 0/30 [00…"
      ]
     },
     "metadata": {},
     "output_type": "display_data"
    },
    {
     "data": {
      "application/vnd.jupyter.widget-view+json": {
       "model_id": "2948cc18d28b44d19da0a36bc5278490",
       "version_major": 2,
       "version_minor": 0
      },
      "text/plain": [
       "Split this problem into smaller and more manageable steps:   0%|          | 0/30 [00:00<?, ?it/s]"
      ]
     },
     "metadata": {},
     "output_type": "display_data"
    },
    {
     "name": "stdout",
     "output_type": "stream",
     "text": [
      "Step 3\n"
     ]
    },
    {
     "data": {
      "application/vnd.jupyter.widget-view+json": {
       "model_id": "59bcbbf91501401dbb1391a6f259e196",
       "version_major": 2,
       "version_minor": 0
      },
      "text/plain": [
       "Optimizing:   0%|          | 0/8 [00:00<?, ?it/s]"
      ]
     },
     "metadata": {},
     "output_type": "display_data"
    },
    {
     "data": {
      "application/vnd.jupyter.widget-view+json": {
       "model_id": "8b8cfcbfb9b8438888cb1c260683f558",
       "version_major": 2,
       "version_minor": 0
      },
      "text/plain": [
       "Scoring:   0%|          | 0/8 [00:00<?, ?it/s]"
      ]
     },
     "metadata": {},
     "output_type": "display_data"
    },
    {
     "data": {
      "application/vnd.jupyter.widget-view+json": {
       "model_id": "2193660248bc4a8c8ef00e8f7ed63ee6",
       "version_major": 2,
       "version_minor": 0
      },
      "text/plain": [
       "Let's assemble a series of logical and manageable tasks to solve this problem systematically and efficiently.:…"
      ]
     },
     "metadata": {},
     "output_type": "display_data"
    },
    {
     "data": {
      "application/vnd.jupyter.widget-view+json": {
       "model_id": "d07b4cea6ef747ce988d315328310d45",
       "version_major": 2,
       "version_minor": 0
      },
      "text/plain": [
       "**Guide us through this step by step**:   0%|          | 0/30 [00:00<?, ?it/s]"
      ]
     },
     "metadata": {},
     "output_type": "display_data"
    },
    {
     "data": {
      "application/vnd.jupyter.widget-view+json": {
       "model_id": "9638366901b7431c87b309278cd7e4fd",
       "version_major": 2,
       "version_minor": 0
      },
      "text/plain": [
       "Transform this problem into a smaller and more manageable one:   0%|          | 0/30 [00:00<?, ?it/s]"
      ]
     },
     "metadata": {},
     "output_type": "display_data"
    },
    {
     "data": {
      "application/vnd.jupyter.widget-view+json": {
       "model_id": "025835638ae14303ab670ebbe725f40e",
       "version_major": 2,
       "version_minor": 0
      },
      "text/plain": [
       "Analyze the problem by breaking it into smaller and more manageable components.:   0%|          | 0/30 [00:00<…"
      ]
     },
     "metadata": {},
     "output_type": "display_data"
    },
    {
     "data": {
      "application/vnd.jupyter.widget-view+json": {
       "model_id": "7641f47d9d18439f8bfe82c1c18d3098",
       "version_major": 2,
       "version_minor": 0
      },
      "text/plain": [
       "**Let’s solve this problem by breaking it down into steps and addressing the challenges logically.**:   0%|   …"
      ]
     },
     "metadata": {},
     "output_type": "display_data"
    },
    {
     "data": {
      "application/vnd.jupyter.widget-view+json": {
       "model_id": "694a2af4b99d4444af20dfa7f199b5a8",
       "version_major": 2,
       "version_minor": 0
      },
      "text/plain": [
       "Organize our thoughts in a clear and logical manner so that we can approach this problem systematically.:   0%…"
      ]
     },
     "metadata": {},
     "output_type": "display_data"
    },
    {
     "data": {
      "application/vnd.jupyter.widget-view+json": {
       "model_id": "71e77fdf91a84343846aab42b1642122",
       "version_major": 2,
       "version_minor": 0
      },
      "text/plain": [
       "Let’s organize our thoughts logically and break this down into manageable steps:   0%|          | 0/30 [00:00<…"
      ]
     },
     "metadata": {},
     "output_type": "display_data"
    },
    {
     "data": {
      "application/vnd.jupyter.widget-view+json": {
       "model_id": "0bf63ec8f32b4951a79949813aef8214",
       "version_major": 2,
       "version_minor": 0
      },
      "text/plain": [
       "Let's think strategically about how to tackle this problem in a systemic and efficient manner.:   0%|         …"
      ]
     },
     "metadata": {},
     "output_type": "display_data"
    },
    {
     "name": "stdout",
     "output_type": "stream",
     "text": [
      "Step 4\n"
     ]
    },
    {
     "data": {
      "application/vnd.jupyter.widget-view+json": {
       "model_id": "e4a0f027b945451793e35ced7b561f8d",
       "version_major": 2,
       "version_minor": 0
      },
      "text/plain": [
       "Optimizing:   0%|          | 0/8 [00:00<?, ?it/s]"
      ]
     },
     "metadata": {},
     "output_type": "display_data"
    },
    {
     "data": {
      "application/vnd.jupyter.widget-view+json": {
       "model_id": "bc24a47a074b43c8bdd89c877f41591c",
       "version_major": 2,
       "version_minor": 0
      },
      "text/plain": [
       "Scoring:   0%|          | 0/8 [00:00<?, ?it/s]"
      ]
     },
     "metadata": {},
     "output_type": "display_data"
    },
    {
     "data": {
      "application/vnd.jupyter.widget-view+json": {
       "model_id": "946cfc07960945fca30bcea2462957c8",
       "version_major": 2,
       "version_minor": 0
      },
      "text/plain": [
       "**Let's dissect this problem by breaking it into manageable segments and addressing the challenges systematica…"
      ]
     },
     "metadata": {},
     "output_type": "display_data"
    },
    {
     "data": {
      "application/vnd.jupyter.widget-view+json": {
       "model_id": "e0cdd298f8134f569657f097c3c6d778",
       "version_major": 2,
       "version_minor": 0
      },
      "text/plain": [
       "**Tackle this problem step by step and guide us through the process in a manner that is logical and clear.**: …"
      ]
     },
     "metadata": {},
     "output_type": "display_data"
    },
    {
     "data": {
      "application/vnd.jupyter.widget-view+json": {
       "model_id": "82c5c03d0be14ff3be3aeec8e6bbc6f1",
       "version_major": 2,
       "version_minor": 0
      },
      "text/plain": [
       "**Let’s address each of these problems methodically, breaking them down into smaller tasks, analyzing them cri…"
      ]
     },
     "metadata": {},
     "output_type": "display_data"
    },
    {
     "data": {
      "application/vnd.jupyter.widget-view+json": {
       "model_id": "200e062759c441c0a5c9f0491a5dde47",
       "version_major": 2,
       "version_minor": 0
      },
      "text/plain": [
       "**Let's think about this systematically and break it down into smaller steps.**:   0%|          | 0/30 [00:00<…"
      ]
     },
     "metadata": {},
     "output_type": "display_data"
    },
    {
     "data": {
      "application/vnd.jupyter.widget-view+json": {
       "model_id": "0d71c20d96214e419edeccfb0078edb9",
       "version_major": 2,
       "version_minor": 0
      },
      "text/plain": [
       "**Let’s organize our thoughts logically, and break this problem down into manageable steps**:   0%|          |…"
      ]
     },
     "metadata": {},
     "output_type": "display_data"
    },
    {
     "data": {
      "application/vnd.jupyter.widget-view+json": {
       "model_id": "5fa728152fb14af28f4946146402072d",
       "version_major": 2,
       "version_minor": 0
      },
      "text/plain": [
       "**Breakdown this challenge into distinct and comprehensible steps, and let’s tackle them one at a time.**:   0…"
      ]
     },
     "metadata": {},
     "output_type": "display_data"
    },
    {
     "data": {
      "application/vnd.jupyter.widget-view+json": {
       "model_id": "371dc71531384339bf168b5c0aea013e",
       "version_major": 2,
       "version_minor": 0
      },
      "text/plain": [
       "**Let's systematically dissect this problem by breaking it down into smaller, manageable steps.**:   0%|      …"
      ]
     },
     "metadata": {},
     "output_type": "display_data"
    },
    {
     "data": {
      "application/vnd.jupyter.widget-view+json": {
       "model_id": "38537eeaf0c74539aac523a5560763f3",
       "version_major": 2,
       "version_minor": 0
      },
      "text/plain": [
       "**Break down complex problems into more manageable parts through systematic analysis.**:   0%|          | 0/30…"
      ]
     },
     "metadata": {},
     "output_type": "display_data"
    },
    {
     "name": "stdout",
     "output_type": "stream",
     "text": [
      "Step 5\n"
     ]
    },
    {
     "data": {
      "application/vnd.jupyter.widget-view+json": {
       "model_id": "e029cb7f2cc149aeacae3a306c8afe4c",
       "version_major": 2,
       "version_minor": 0
      },
      "text/plain": [
       "Optimizing:   0%|          | 0/8 [00:00<?, ?it/s]"
      ]
     },
     "metadata": {},
     "output_type": "display_data"
    },
    {
     "data": {
      "application/vnd.jupyter.widget-view+json": {
       "model_id": "25147b544ac44b2d90ea7211acf2041c",
       "version_major": 2,
       "version_minor": 0
      },
      "text/plain": [
       "Scoring:   0%|          | 0/8 [00:00<?, ?it/s]"
      ]
     },
     "metadata": {},
     "output_type": "display_data"
    },
    {
     "data": {
      "application/vnd.jupyter.widget-view+json": {
       "model_id": "a6a23f49dad24514981af38ad5b99ef8",
       "version_major": 2,
       "version_minor": 0
      },
      "text/plain": [
       "**Let's break this problem into its component parts, analyzing each systematically to find a comprehensive sol…"
      ]
     },
     "metadata": {},
     "output_type": "display_data"
    },
    {
     "data": {
      "application/vnd.jupyter.widget-view+json": {
       "model_id": "983bed2ee49c44b3a9b5d63211f77c23",
       "version_major": 2,
       "version_minor": 0
      },
      "text/plain": [
       "**Let's think about this rationally and tackle it systematically by breaking the problem down into smaller par…"
      ]
     },
     "metadata": {},
     "output_type": "display_data"
    },
    {
     "data": {
      "application/vnd.jupyter.widget-view+json": {
       "model_id": "bfdfa72cce5845afb9f1a0b8daaa7f83",
       "version_major": 2,
       "version_minor": 0
      },
      "text/plain": [
       "**Let's cogitate about this circumspectly and deconstruct it into a series of feasible stages, enabling us to …"
      ]
     },
     "metadata": {},
     "output_type": "display_data"
    },
    {
     "data": {
      "application/vnd.jupyter.widget-view+json": {
       "model_id": "089e2851c4714ba9a906b5af3db4bfa5",
       "version_major": 2,
       "version_minor": 0
      },
      "text/plain": [
       "**Let's devise a plan to meticulously break down this problem, addressing each facet systematically and applyi…"
      ]
     },
     "metadata": {},
     "output_type": "display_data"
    },
    {
     "data": {
      "application/vnd.jupyter.widget-view+json": {
       "model_id": "266ebe36557c4f1abda1718f85f8cab5",
       "version_major": 2,
       "version_minor": 0
      },
      "text/plain": [
       "**Let's tackle this challenge strategically by decomposing it into manageable segments, analyzing them critica…"
      ]
     },
     "metadata": {},
     "output_type": "display_data"
    },
    {
     "data": {
      "application/vnd.jupyter.widget-view+json": {
       "model_id": "267c0f1cff364b4a8b001f98157b7345",
       "version_major": 2,
       "version_minor": 0
      },
      "text/plain": [
       "Let's tackle this challenge by breaking it into smaller parts, identifying the key points, and formulating a s…"
      ]
     },
     "metadata": {},
     "output_type": "display_data"
    },
    {
     "data": {
      "application/vnd.jupyter.widget-view+json": {
       "model_id": "4a42fd23b91e4ee38fbd1df8780d93e2",
       "version_major": 2,
       "version_minor": 0
      },
      "text/plain": [
       "**Let’s decompose this problem logically into smaller, more tractable challenges.**:   0%|          | 0/30 [00…"
      ]
     },
     "metadata": {},
     "output_type": "display_data"
    },
    {
     "data": {
      "application/vnd.jupyter.widget-view+json": {
       "model_id": "7a2ee09e080e43c5a314fec339f59011",
       "version_major": 2,
       "version_minor": 0
      },
      "text/plain": [
       "**Let’s take a stepwise approach to solve this problem by systematically breaking it down into manageable frag…"
      ]
     },
     "metadata": {},
     "output_type": "display_data"
    },
    {
     "name": "stdout",
     "output_type": "stream",
     "text": [
      "Step 6\n"
     ]
    },
    {
     "data": {
      "application/vnd.jupyter.widget-view+json": {
       "model_id": "1be36e0ee6fa4c949fb03a723f74c66e",
       "version_major": 2,
       "version_minor": 0
      },
      "text/plain": [
       "Optimizing:   0%|          | 0/8 [00:00<?, ?it/s]"
      ]
     },
     "metadata": {},
     "output_type": "display_data"
    },
    {
     "data": {
      "application/vnd.jupyter.widget-view+json": {
       "model_id": "775ff5b8a9b04a9b824a63627d0d01e9",
       "version_major": 2,
       "version_minor": 0
      },
      "text/plain": [
       "Scoring:   0%|          | 0/8 [00:00<?, ?it/s]"
      ]
     },
     "metadata": {},
     "output_type": "display_data"
    },
    {
     "data": {
      "application/vnd.jupyter.widget-view+json": {
       "model_id": "33b9eb987a594fd6b721b2080f34a915",
       "version_major": 2,
       "version_minor": 0
      },
      "text/plain": [
       "**Let's examine this predicament systematically, breaking it down into its fundamental components. By doing so…"
      ]
     },
     "metadata": {},
     "output_type": "display_data"
    },
    {
     "data": {
      "application/vnd.jupyter.widget-view+json": {
       "model_id": "f181bd0a138a4480a74b647bfb8e6d80",
       "version_major": 2,
       "version_minor": 0
      },
      "text/plain": [
       "**Let's address this problem with a methodical and strategic approach. By breaking it down into smaller, manag…"
      ]
     },
     "metadata": {},
     "output_type": "display_data"
    },
    {
     "data": {
      "application/vnd.jupyter.widget-view+json": {
       "model_id": "a58669c9d18644afbe530df3dc8f705f",
       "version_major": 2,
       "version_minor": 0
      },
      "text/plain": [
       "**Let's break this challenge into smaller steps. This strategic deconstruction will enable us to solve the pro…"
      ]
     },
     "metadata": {},
     "output_type": "display_data"
    },
    {
     "data": {
      "application/vnd.jupyter.widget-view+json": {
       "model_id": "84f880ff818a41c08780141e2626d371",
       "version_major": 2,
       "version_minor": 0
      },
      "text/plain": [
       "**Let’s approach this systematically, decompose it into logical and manageable steps, and address the challeng…"
      ]
     },
     "metadata": {},
     "output_type": "display_data"
    },
    {
     "data": {
      "application/vnd.jupyter.widget-view+json": {
       "model_id": "f4b9e8e473634c23b60485ed0bd3a8cb",
       "version_major": 2,
       "version_minor": 0
      },
      "text/plain": [
       "**Let's decompose this enigmatic conundrum into comprehensible segments, unravel their intricate complexities,…"
      ]
     },
     "metadata": {},
     "output_type": "display_data"
    },
    {
     "data": {
      "application/vnd.jupyter.widget-view+json": {
       "model_id": "05d0393127b54986878a02ebe2acf9c4",
       "version_major": 2,
       "version_minor": 0
      },
      "text/plain": [
       "**Let's reformulate this quandary into a series of discrete and tractable constituents, thereby enabling us to…"
      ]
     },
     "metadata": {},
     "output_type": "display_data"
    },
    {
     "data": {
      "application/vnd.jupyter.widget-view+json": {
       "model_id": "ad4172c4863a49db81af98631ab293f7",
       "version_major": 2,
       "version_minor": 0
      },
      "text/plain": [
       "**Let's approach this challenge with a systematic and meticulous approach. By dissecting the problem into smal…"
      ]
     },
     "metadata": {},
     "output_type": "display_data"
    },
    {
     "data": {
      "application/vnd.jupyter.widget-view+json": {
       "model_id": "76be9b30dca9459cbe5910929a8a9d2a",
       "version_major": 2,
       "version_minor": 0
      },
      "text/plain": [
       "**Let's strategize by breaking this quandary into manageable components, systematically examining each to dedu…"
      ]
     },
     "metadata": {},
     "output_type": "display_data"
    },
    {
     "name": "stdout",
     "output_type": "stream",
     "text": [
      "Step 7\n"
     ]
    },
    {
     "data": {
      "application/vnd.jupyter.widget-view+json": {
       "model_id": "a4ab4ff07b6c4689ba462d17fec34bd8",
       "version_major": 2,
       "version_minor": 0
      },
      "text/plain": [
       "Optimizing:   0%|          | 0/8 [00:00<?, ?it/s]"
      ]
     },
     "metadata": {},
     "output_type": "display_data"
    },
    {
     "data": {
      "application/vnd.jupyter.widget-view+json": {
       "model_id": "aad88a3a98fa4e04b74654683ec9b8eb",
       "version_major": 2,
       "version_minor": 0
      },
      "text/plain": [
       "Scoring:   0%|          | 0/8 [00:00<?, ?it/s]"
      ]
     },
     "metadata": {},
     "output_type": "display_data"
    },
    {
     "data": {
      "application/vnd.jupyter.widget-view+json": {
       "model_id": "5ca02dea817c4bc7a1a7e484f51fc52d",
       "version_major": 2,
       "version_minor": 0
      },
      "text/plain": [
       "**Let us meticulously dissect this multifaceted enigma into a sequence of discrete and manageable steps, there…"
      ]
     },
     "metadata": {},
     "output_type": "display_data"
    },
    {
     "data": {
      "application/vnd.jupyter.widget-view+json": {
       "model_id": "ab41ed9c6854444db567416994986735",
       "version_major": 2,
       "version_minor": 0
      },
      "text/plain": [
       "**Let’s deconstruct this problem judiciously, dividing it into manageable and logical segments. We can then ad…"
      ]
     },
     "metadata": {},
     "output_type": "display_data"
    },
    {
     "data": {
      "application/vnd.jupyter.widget-view+json": {
       "model_id": "473d3a2de5264c95acc196f2a54d3c76",
       "version_major": 2,
       "version_minor": 0
      },
      "text/plain": [
       "**Let's meticulously dissect this problem by fragmenting it into manageable segments, systematically probing e…"
      ]
     },
     "metadata": {},
     "output_type": "display_data"
    },
    {
     "data": {
      "application/vnd.jupyter.widget-view+json": {
       "model_id": "89148dc99a0848da8039e3a07013f808",
       "version_major": 2,
       "version_minor": 0
      },
      "text/plain": [
       "**Let's dissect the problem into its constituent components and analyze them systematically, aiming to uncover…"
      ]
     },
     "metadata": {},
     "output_type": "display_data"
    },
    {
     "data": {
      "application/vnd.jupyter.widget-view+json": {
       "model_id": "cd83f59b3c0f464bb6e02f826c37d1db",
       "version_major": 2,
       "version_minor": 0
      },
      "text/plain": [
       "**Let's break this problem down into its component parts, analyze each step logically, and devise a comprehens…"
      ]
     },
     "metadata": {},
     "output_type": "display_data"
    },
    {
     "data": {
      "application/vnd.jupyter.widget-view+json": {
       "model_id": "a748140bb15c45a4a3082f5020c65325",
       "version_major": 2,
       "version_minor": 0
      },
      "text/plain": [
       "**Let’s articulate a coherent strategy and meticulously decompose this problem into discrete and tractable seg…"
      ]
     },
     "metadata": {},
     "output_type": "display_data"
    },
    {
     "data": {
      "application/vnd.jupyter.widget-view+json": {
       "model_id": "42cb5e79d10b40028f5c06e85b0cd169",
       "version_major": 2,
       "version_minor": 0
      },
      "text/plain": [
       "**Let's break down this enigma systematically, dissecting it into manageable segments to decipher its complexi…"
      ]
     },
     "metadata": {},
     "output_type": "display_data"
    },
    {
     "data": {
      "application/vnd.jupyter.widget-view+json": {
       "model_id": "a52fb428e351432c909db377b0a5477a",
       "version_major": 2,
       "version_minor": 0
      },
      "text/plain": [
       "**Let's dissect this challenge systematically and decompose it into smaller, manageable components. This strat…"
      ]
     },
     "metadata": {},
     "output_type": "display_data"
    },
    {
     "name": "stdout",
     "output_type": "stream",
     "text": [
      "Step 8\n"
     ]
    },
    {
     "data": {
      "application/vnd.jupyter.widget-view+json": {
       "model_id": "1afd5a31fc844f7a84e37d3336253086",
       "version_major": 2,
       "version_minor": 0
      },
      "text/plain": [
       "Optimizing:   0%|          | 0/8 [00:00<?, ?it/s]"
      ]
     },
     "metadata": {},
     "output_type": "display_data"
    },
    {
     "data": {
      "application/vnd.jupyter.widget-view+json": {
       "model_id": "5c9a204bc258482e827dc8d85a7995fb",
       "version_major": 2,
       "version_minor": 0
      },
      "text/plain": [
       "Scoring:   0%|          | 0/8 [00:00<?, ?it/s]"
      ]
     },
     "metadata": {},
     "output_type": "display_data"
    },
    {
     "data": {
      "application/vnd.jupyter.widget-view+json": {
       "model_id": "ab832cc54ba9471ab83880e03034044f",
       "version_major": 2,
       "version_minor": 0
      },
      "text/plain": [
       "**Let's unravel this problem by meticulously dissecting it into smaller, manageable segments. This systematic …"
      ]
     },
     "metadata": {},
     "output_type": "display_data"
    },
    {
     "data": {
      "application/vnd.jupyter.widget-view+json": {
       "model_id": "565cef8f12d740f9bb9bd68b5f674d15",
       "version_major": 2,
       "version_minor": 0
      },
      "text/plain": [
       "**Let's systematically deconstruct this challenge into smaller, manageable components. We'll analyze each part…"
      ]
     },
     "metadata": {},
     "output_type": "display_data"
    },
    {
     "data": {
      "application/vnd.jupyter.widget-view+json": {
       "model_id": "393ba7ecfad44c7c9dd51c302755920b",
       "version_major": 2,
       "version_minor": 0
      },
      "text/plain": [
       "**Let's decompose this challenge systematically. By breaking the problem down into smaller, more manageable se…"
      ]
     },
     "metadata": {},
     "output_type": "display_data"
    },
    {
     "data": {
      "application/vnd.jupyter.widget-view+json": {
       "model_id": "64e750e25a2b4dd39f2b22e72bd85a0e",
       "version_major": 2,
       "version_minor": 0
      },
      "text/plain": [
       "**Let's anatomize this challenge into manageable components, approaching each systematically to unravel the un…"
      ]
     },
     "metadata": {},
     "output_type": "display_data"
    },
    {
     "data": {
      "application/vnd.jupyter.widget-view+json": {
       "model_id": "fcc89a6767384ed3a9374e1bfa6e5a9c",
       "version_major": 2,
       "version_minor": 0
      },
      "text/plain": [
       "**Let’s systematically decompose this problem into smaller, manageable steps, analyzing each component critica…"
      ]
     },
     "metadata": {},
     "output_type": "display_data"
    },
    {
     "data": {
      "application/vnd.jupyter.widget-view+json": {
       "model_id": "3f25e57945f749afbebb4478ed85293c",
       "version_major": 2,
       "version_minor": 0
      },
      "text/plain": [
       "**Let's break this problem down into smaller, manageable components, and approach it with a methodical and ana…"
      ]
     },
     "metadata": {},
     "output_type": "display_data"
    },
    {
     "data": {
      "application/vnd.jupyter.widget-view+json": {
       "model_id": "a352d2f28a5546cba1b3715d195dcdbe",
       "version_major": 2,
       "version_minor": 0
      },
      "text/plain": [
       "**Let’s adopt a systematic approach by decomposing this problem into manageable segments, enabling us to analy…"
      ]
     },
     "metadata": {},
     "output_type": "display_data"
    },
    {
     "data": {
      "application/vnd.jupyter.widget-view+json": {
       "model_id": "505bea58acc14c7a9569faa733ce290a",
       "version_major": 2,
       "version_minor": 0
      },
      "text/plain": [
       "**Let's systematically decompose this complex problem into its fundamental elements and address each challenge…"
      ]
     },
     "metadata": {},
     "output_type": "display_data"
    },
    {
     "name": "stdout",
     "output_type": "stream",
     "text": [
      "Step 9\n"
     ]
    },
    {
     "data": {
      "application/vnd.jupyter.widget-view+json": {
       "model_id": "cda38a29954f484295b18ab29383dae2",
       "version_major": 2,
       "version_minor": 0
      },
      "text/plain": [
       "Optimizing:   0%|          | 0/8 [00:00<?, ?it/s]"
      ]
     },
     "metadata": {},
     "output_type": "display_data"
    },
    {
     "data": {
      "application/vnd.jupyter.widget-view+json": {
       "model_id": "98e79aaa16e449178bc7c152b4988665",
       "version_major": 2,
       "version_minor": 0
      },
      "text/plain": [
       "Scoring:   0%|          | 0/8 [00:00<?, ?it/s]"
      ]
     },
     "metadata": {},
     "output_type": "display_data"
    },
    {
     "data": {
      "application/vnd.jupyter.widget-view+json": {
       "model_id": "3ae7a2cdac81453b940723cd7c83256c",
       "version_major": 2,
       "version_minor": 0
      },
      "text/plain": [
       "**Let's dissect this conundrum by methodically breaking it down into its constituent parts. This systematic de…"
      ]
     },
     "metadata": {},
     "output_type": "display_data"
    },
    {
     "data": {
      "application/vnd.jupyter.widget-view+json": {
       "model_id": "b7a9e7e8b4eb4b54b7773b5954be8707",
       "version_major": 2,
       "version_minor": 0
      },
      "text/plain": [
       "**Let's meticulously dissect this challenge into smaller, more manageable components. By breaking it down syst…"
      ]
     },
     "metadata": {},
     "output_type": "display_data"
    },
    {
     "data": {
      "application/vnd.jupyter.widget-view+json": {
       "model_id": "e8eab581e1c344329ecc59322c47f16c",
       "version_major": 2,
       "version_minor": 0
      },
      "text/plain": [
       "**Let’s decompose this challenge systematically into its individual components and address each aspect logical…"
      ]
     },
     "metadata": {},
     "output_type": "display_data"
    },
    {
     "data": {
      "application/vnd.jupyter.widget-view+json": {
       "model_id": "7efa281146b8445cae480021bac09273",
       "version_major": 2,
       "version_minor": 0
      },
      "text/plain": [
       "**Let's break down this challenge by systematically dissecting it into smaller, more manageable parts. Through…"
      ]
     },
     "metadata": {},
     "output_type": "display_data"
    },
    {
     "data": {
      "application/vnd.jupyter.widget-view+json": {
       "model_id": "205e33723358434fa3c7bad4504f00ab",
       "version_major": 2,
       "version_minor": 0
      },
      "text/plain": [
       "**Let us systematically decompose this challenge into smaller, more manageable segments. By doing so, we can g…"
      ]
     },
     "metadata": {},
     "output_type": "display_data"
    },
    {
     "data": {
      "application/vnd.jupyter.widget-view+json": {
       "model_id": "2f0d4cc0f04843859548871a1d35340e",
       "version_major": 2,
       "version_minor": 0
      },
      "text/plain": [
       "**Let's systematically unpack this challenge, breaking it down into manageable components. Through meticulous …"
      ]
     },
     "metadata": {},
     "output_type": "display_data"
    },
    {
     "data": {
      "application/vnd.jupyter.widget-view+json": {
       "model_id": "36740e759fc84cfb9702ab965c451e97",
       "version_major": 2,
       "version_minor": 0
      },
      "text/plain": [
       "**Let's deconstruct this multifaceted challenge into smaller, more manageable components, approaching each sys…"
      ]
     },
     "metadata": {},
     "output_type": "display_data"
    },
    {
     "data": {
      "application/vnd.jupyter.widget-view+json": {
       "model_id": "77a5b5689bb5444ca1160d6cb7e36f30",
       "version_major": 2,
       "version_minor": 0
      },
      "text/plain": [
       "**Let's dissect this intricate puzzle by fragmenting it into smaller, manageable segments. This systematic str…"
      ]
     },
     "metadata": {},
     "output_type": "display_data"
    },
    {
     "name": "stdout",
     "output_type": "stream",
     "text": [
      "Step 10\n"
     ]
    },
    {
     "data": {
      "application/vnd.jupyter.widget-view+json": {
       "model_id": "2408ec71b6754ad7a9a32b423080465d",
       "version_major": 2,
       "version_minor": 0
      },
      "text/plain": [
       "Optimizing:   0%|          | 0/8 [00:00<?, ?it/s]"
      ]
     },
     "metadata": {},
     "output_type": "display_data"
    },
    {
     "data": {
      "application/vnd.jupyter.widget-view+json": {
       "model_id": "f7d1438e90844630943c53935de40194",
       "version_major": 2,
       "version_minor": 0
      },
      "text/plain": [
       "Scoring:   0%|          | 0/8 [00:00<?, ?it/s]"
      ]
     },
     "metadata": {},
     "output_type": "display_data"
    },
    {
     "data": {
      "application/vnd.jupyter.widget-view+json": {
       "model_id": "512d8ffaa90c42bab7bb541e6ec6bcec",
       "version_major": 2,
       "version_minor": 0
      },
      "text/plain": [
       "**Let's dissect this predicament systematically and decompose it into smaller, more manageable components. By …"
      ]
     },
     "metadata": {},
     "output_type": "display_data"
    },
    {
     "data": {
      "application/vnd.jupyter.widget-view+json": {
       "model_id": "b15901204d9e43119d77778a55062e55",
       "version_major": 2,
       "version_minor": 0
      },
      "text/plain": [
       "**Let's systematically dismantle this challenge into its fundamental components, meticulously analyzing each e…"
      ]
     },
     "metadata": {},
     "output_type": "display_data"
    },
    {
     "data": {
      "application/vnd.jupyter.widget-view+json": {
       "model_id": "ba957531141246b383d175990f8ef291",
       "version_major": 2,
       "version_minor": 0
      },
      "text/plain": [
       "**Let's dissect this challenge methodically, breaking it down into smaller, manageable segments. By meticulous…"
      ]
     },
     "metadata": {},
     "output_type": "display_data"
    },
    {
     "data": {
      "application/vnd.jupyter.widget-view+json": {
       "model_id": "2ef2ea0650f64d57a66898808d507bd2",
       "version_major": 2,
       "version_minor": 0
      },
      "text/plain": [
       "**Let's methodically dissect this challenge into digestible segments, unraveling its complexities step by step…"
      ]
     },
     "metadata": {},
     "output_type": "display_data"
    },
    {
     "data": {
      "application/vnd.jupyter.widget-view+json": {
       "model_id": "73321aa2b6294e5cad92b1c662b06e43",
       "version_major": 2,
       "version_minor": 0
      },
      "text/plain": [
       "**Let's methodically dissect this challenge by breaking it down into smaller, manageable components. By adopti…"
      ]
     },
     "metadata": {},
     "output_type": "display_data"
    },
    {
     "data": {
      "application/vnd.jupyter.widget-view+json": {
       "model_id": "ff61b723cb224f229d35fa552afcb3f2",
       "version_major": 2,
       "version_minor": 0
      },
      "text/plain": [
       "**Let’s deconstruct this challenge by systematically breaking it down into smaller, more manageable components…"
      ]
     },
     "metadata": {},
     "output_type": "display_data"
    },
    {
     "data": {
      "application/vnd.jupyter.widget-view+json": {
       "model_id": "e327da9c32f14c79b44e69f976e67ee4",
       "version_major": 2,
       "version_minor": 0
      },
      "text/plain": [
       "**Let's dismantle this dilemma by systematically dissecting it into smaller, more manageable components. Throu…"
      ]
     },
     "metadata": {},
     "output_type": "display_data"
    },
    {
     "data": {
      "application/vnd.jupyter.widget-view+json": {
       "model_id": "74f7f22a4c944db7ac30ac9f4d67f17a",
       "version_major": 2,
       "version_minor": 0
      },
      "text/plain": [
       "**Let us systematically break down this problem into manageable components. By breaking the problem down into …"
      ]
     },
     "metadata": {},
     "output_type": "display_data"
    }
   ],
   "source": [
    "# Sample 3.5% of the training set\n",
    "INS_PER_STEP = 8\n",
    "EXEMPLARS_PER_STEP = 3\n",
    "MAX_INS_SCORE_PAIRS = 20\n",
    "SAVE_PATH = \"gsm8k_data_OPRO_results.json\"\n",
    "\n",
    "# loading saved data\n",
    "if os.path.exists(SAVE_PATH):\n",
    "    with open(SAVE_PATH, \"r\") as f:\n",
    "        results = json.load(f)\n",
    "    starting_step = len(results) + 1\n",
    "    ins_score_pairs = results[str(len(results))]\n",
    "else:\n",
    "    ins_lst = [\n",
    "        \"Solve this problem\",\n",
    "        \"Let's think step by step\",\n",
    "        \"Let’s solve this problem by splitting it into steps\",\n",
    "        \"Let’s think about this logically\",\n",
    "        \"Take a deep breath and think through this\",\n",
    "        \"Break this down\",\n",
    "        \"Respond quickly\",\n",
    "        \"a;lsdghougkaa;aaaaaaaaaaaaaaaaaaaaaaaaaaaaaaaaaaaaaaaaaa\",\n",
    "    ]\n",
    "    ins_score_pairs = {\n",
    "        ins: score(ins, training_sample)\n",
    "        for ins in tqdm(ins_lst, desc=\"Scoring\", position=0)\n",
    "    }\n",
    "    starting_step = 1\n",
    "    results = {starting_step: ins_score_pairs}\n",
    "    with open(SAVE_PATH, \"w\") as f:\n",
    "        json.dump(results, f)\n",
    "\n",
    "# Each step takes aboy 5 to 10 minutes with gemma:2b\n",
    "STEP_COUNT = 10\n",
    "TARGET_STEP = starting_step + STEP_COUNT\n",
    "assert TARGET_STEP >= starting_step, \"TARGET_STEP should be greater than step.\"\n",
    "for i in range(starting_step, TARGET_STEP):\n",
    "    print(f\"Step {i}\")\n",
    "    while True:\n",
    "        try:\n",
    "            # Optimizer LLM\n",
    "            exemplars = training_sample.shuffle()[:EXEMPLARS_PER_STEP]\n",
    "            instructions = [\n",
    "                opt_llm(ins_score_pairs, exemplars)\n",
    "                for _ in trange(INS_PER_STEP, desc=\"Optimizing\")\n",
    "            ]\n",
    "\n",
    "            # Scoring the new instructions\n",
    "            new_ins_score_pairs = {\n",
    "                ins: score(ins, training_sample)\n",
    "                for ins in tqdm(instructions, desc=\"Scoring\", position=0)\n",
    "            }\n",
    "            combined_ins_score_pairs = {**ins_score_pairs, **new_ins_score_pairs}\n",
    "            ins_score_pairs = dict(\n",
    "                sorted(\n",
    "                    combined_ins_score_pairs.items(), key=lambda x: x[1], reverse=True\n",
    "                )[:MAX_INS_SCORE_PAIRS]\n",
    "            )\n",
    "\n",
    "            # Saving data\n",
    "            results[i] = ins_score_pairs\n",
    "            with open(SAVE_PATH, \"w\") as f:\n",
    "                json.dump(results, f)\n",
    "\n",
    "            break\n",
    "        except ValueError as e:\n",
    "            print(e)\n",
    "        except Exception as e:\n",
    "            print(e)"
   ]
  },
  {
   "cell_type": "code",
   "execution_count": 5,
   "metadata": {},
   "outputs": [
    {
     "data": {
      "text/plain": [
       "{'Let’s think step by step and break this down': 36.666666666666664,\n",
       " 'Guide us through the process': 36.666666666666664,\n",
       " 'Split this problem into smaller and more manageable steps': 36.666666666666664,\n",
       " '**Let’s solve this problem by breaking it down into steps and addressing the challenges logically.**': 36.666666666666664,\n",
       " \"**Let's dissect this challenge systematically and decompose it into smaller, manageable components. This strategic deconstruction will provide us with a structured approach to tackling the problem methodically, facilitating an effective and well-reasoned solution.**\": 36.666666666666664,\n",
       " \"**Let's unravel this problem by meticulously dissecting it into smaller, manageable segments. This systematic approach will guide us in addressing the challenges logically and developing a well-reasoned solution.**\": 36.666666666666664,\n",
       " \"**Let's decompose this challenge systematically. By breaking the problem down into smaller, more manageable segments, we can gain clarity and identify a strategic path toward an effective solution.**\": 36.666666666666664,\n",
       " 'Let’s organize our thoughts logically and break this down into manageable steps': 33.33333333333333,\n",
       " \"**Let's dissect this problem by breaking it into manageable segments and addressing the challenges systematically.**\": 33.33333333333333,\n",
       " '**Let’s address each of these problems methodically, breaking them down into smaller tasks, analyzing them critically, and applying logical reasoning.**': 33.33333333333333,\n",
       " \"**Let's think about this systematically and break it down into smaller steps.**\": 33.33333333333333,\n",
       " '**Let’s organize our thoughts logically, and break this problem down into manageable steps**': 33.33333333333333,\n",
       " \"**Let's systematically dissect this problem by breaking it down into smaller, manageable steps.**\": 33.33333333333333,\n",
       " \"**Let's break this problem into its component parts, analyzing each systematically to find a comprehensive solution.**\": 33.33333333333333,\n",
       " \"**Let's break this challenge into smaller steps. This strategic deconstruction will enable us to solve the problem methodically, enhancing our chances of success.**\": 33.33333333333333,\n",
       " \"**Let's systematically deconstruct this challenge into smaller, manageable components. We'll analyze each part meticulously, employing logical reasoning to identify and address potential hurdles. By adopting this strategic approach, we'll enhance our problem-solving efficacy, increasing our likelihood of achieving a comprehensive and effective resolution.**\": 33.33333333333333,\n",
       " \"**Let's anatomize this challenge into manageable components, approaching each systematically to unravel the underlying complexities.**\": 33.33333333333333,\n",
       " \"**Let's meticulously dissect this challenge into smaller, more manageable components. By breaking it down systematically, we can gain clarity and identify a strategic path toward an effective solution.**\": 33.33333333333333,\n",
       " '**Let us systematically decompose this challenge into smaller, more manageable segments. By doing so, we can gain a clearer understanding of the problem and identify an effective strategy for addressing its complexities. This methodical approach will enhance our ability to develop a comprehensive and well-reasoned solution.**': 33.33333333333333,\n",
       " \"**Let's systematically unpack this challenge, breaking it down into manageable components. Through meticulous analysis and logical reasoning, we'll gain a comprehensive understanding of each aspect. By strategically decomposing the problem into smaller segments, we'll uncover hidden patterns, enabling us to formulate an effective and multifaceted solution.**\": 33.33333333333333}"
      ]
     },
     "execution_count": 5,
     "metadata": {},
     "output_type": "execute_result"
    }
   ],
   "source": [
    "ins_score_pairs"
   ]
  },
  {
   "cell_type": "markdown",
   "metadata": {},
   "source": [
    "### Plotting Results and Testing Accuracy\n"
   ]
  },
  {
   "cell_type": "code",
   "execution_count": 6,
   "metadata": {},
   "outputs": [
    {
     "data": {
      "text/plain": [
       "Text(0.5, 1.0, 'Step to Accuracy')"
      ]
     },
     "execution_count": 6,
     "metadata": {},
     "output_type": "execute_result"
    },
    {
     "data": {
      "image/png": "[encoded data removed]",
      "text/plain": [
       "<Figure size 640x480 with 1 Axes>"
      ]
     },
     "metadata": {},
     "output_type": "display_data"
    }
   ],
   "source": [
    "import statistics\n",
    "import matplotlib.pyplot as plt\n",
    "\n",
    "# load opro.json\n",
    "with open(SAVE_PATH) as f:\n",
    "    opro_results = json.load(f)\n",
    "\n",
    "# opro = {step:dict(sorted(opro[step].items(), key=lambda x: x[1], reverse=True)[:20]) for step in opro}\n",
    "step_to_accuracy = {\n",
    "    step: (\n",
    "        statistics.mean(opro_results[step].values()),\n",
    "        statistics.stdev(opro_results[step].values()),\n",
    "    )\n",
    "    for step in opro_results\n",
    "}\n",
    "\n",
    "# Plot step to accuracy as a continuous line graph, including stdevs as highlighted error bars\n",
    "fig, ax = plt.subplots()\n",
    "ax.errorbar(\n",
    "    step_to_accuracy.keys(),\n",
    "    [accuracy[0] for accuracy in step_to_accuracy.values()],\n",
    "    yerr=[accuracy[1] for accuracy in step_to_accuracy.values()],\n",
    "    fmt=\"o\",\n",
    ")\n",
    "ax.set_xticks([step for step in step_to_accuracy.keys() if int(step) % 5 == 0])\n",
    "ax.set_xlabel(\"Step\")\n",
    "ax.set_ylabel(\"Accuracy\")\n",
    "ax.set_title(\"Step to Accuracy\")"
   ]
  },
  {
   "cell_type": "code",
   "execution_count": 7,
   "metadata": {},
   "outputs": [
    {
     "data": {
      "text/plain": [
       "{'Let’s think step by step and break this down': 36.666666666666664,\n",
       " 'Guide us through the process': 36.666666666666664,\n",
       " 'Split this problem into smaller and more manageable steps': 36.666666666666664,\n",
       " '**Let’s solve this problem by breaking it down into steps and addressing the challenges logically.**': 36.666666666666664,\n",
       " \"**Let's dissect this challenge systematically and decompose it into smaller, manageable components. This strategic deconstruction will provide us with a structured approach to tackling the problem methodically, facilitating an effective and well-reasoned solution.**\": 36.666666666666664,\n",
       " \"**Let's unravel this problem by meticulously dissecting it into smaller, manageable segments. This systematic approach will guide us in addressing the challenges logically and developing a well-reasoned solution.**\": 36.666666666666664,\n",
       " \"**Let's decompose this challenge systematically. By breaking the problem down into smaller, more manageable segments, we can gain clarity and identify a strategic path toward an effective solution.**\": 36.666666666666664,\n",
       " 'Let’s organize our thoughts logically and break this down into manageable steps': 33.33333333333333,\n",
       " \"**Let's dissect this problem by breaking it into manageable segments and addressing the challenges systematically.**\": 33.33333333333333,\n",
       " '**Let’s address each of these problems methodically, breaking them down into smaller tasks, analyzing them critically, and applying logical reasoning.**': 33.33333333333333,\n",
       " \"**Let's think about this systematically and break it down into smaller steps.**\": 33.33333333333333,\n",
       " '**Let’s organize our thoughts logically, and break this problem down into manageable steps**': 33.33333333333333,\n",
       " \"**Let's systematically dissect this problem by breaking it down into smaller, manageable steps.**\": 33.33333333333333,\n",
       " \"**Let's break this problem into its component parts, analyzing each systematically to find a comprehensive solution.**\": 33.33333333333333,\n",
       " \"**Let's break this challenge into smaller steps. This strategic deconstruction will enable us to solve the problem methodically, enhancing our chances of success.**\": 33.33333333333333,\n",
       " \"**Let's systematically deconstruct this challenge into smaller, manageable components. We'll analyze each part meticulously, employing logical reasoning to identify and address potential hurdles. By adopting this strategic approach, we'll enhance our problem-solving efficacy, increasing our likelihood of achieving a comprehensive and effective resolution.**\": 33.33333333333333,\n",
       " \"**Let's anatomize this challenge into manageable components, approaching each systematically to unravel the underlying complexities.**\": 33.33333333333333,\n",
       " \"**Let's meticulously dissect this challenge into smaller, more manageable components. By breaking it down systematically, we can gain clarity and identify a strategic path toward an effective solution.**\": 33.33333333333333,\n",
       " '**Let us systematically decompose this challenge into smaller, more manageable segments. By doing so, we can gain a clearer understanding of the problem and identify an effective strategy for addressing its complexities. This methodical approach will enhance our ability to develop a comprehensive and well-reasoned solution.**': 33.33333333333333,\n",
       " \"**Let's systematically unpack this challenge, breaking it down into manageable components. Through meticulous analysis and logical reasoning, we'll gain a comprehensive understanding of each aspect. By strategically decomposing the problem into smaller segments, we'll uncover hidden patterns, enabling us to formulate an effective and multifaceted solution.**\": 33.33333333333333}"
      ]
     },
     "execution_count": 7,
     "metadata": {},
     "output_type": "execute_result"
    }
   ],
   "source": [
    "opro_results[str(len(opro_results))]"
   ]
  },
  {
   "cell_type": "code",
   "execution_count": 8,
   "metadata": {},
   "outputs": [
    {
     "data": {
      "application/vnd.jupyter.widget-view+json": {
       "model_id": "3f61afe0e6a54562897ca2e77bb0cc9a",
       "version_major": 2,
       "version_minor": 0
      },
      "text/plain": [
       "  0%|          | 0/50 [00:00<?, ?it/s]"
      ]
     },
     "metadata": {},
     "output_type": "display_data"
    },
    {
     "name": "stdout",
     "output_type": "stream",
     "text": [
      "No instruction: 10.0\n"
     ]
    },
    {
     "data": {
      "application/vnd.jupyter.widget-view+json": {
       "model_id": "44caff5c8c7047f9b929851df1acf74d",
       "version_major": 2,
       "version_minor": 0
      },
      "text/plain": [
       "Let’s think step by step and break this down:   0%|          | 0/50 [00:00<?, ?it/s]"
      ]
     },
     "metadata": {},
     "output_type": "display_data"
    },
    {
     "name": "stdout",
     "output_type": "stream",
     "text": [
      "With best instruction (Let’s think step by step and break this down): 26.0\n"
     ]
    }
   ],
   "source": [
    "best_instruction = max(\n",
    "    opro_results[str(len(opro_results))], key=opro_results[str(len(opro_results))].get\n",
    ")\n",
    "print(f\"No instruction: {score('', testing_sample)}\")\n",
    "print(f\"With best instruction ({best_instruction}): {score(best_instruction, testing_sample)}\")"
   ]
  }
 ],
 "metadata": {
  "kernelspec": {
   "display_name": "Python 3",
   "language": "python",
   "name": "python3"
  },
  "language_info": {
   "codemirror_mode": {
    "name": "ipython",
    "version": 3
   },
   "file_extension": ".py",
   "mimetype": "text/x-python",
   "name": "python",
   "nbconvert_exporter": "python",
   "pygments_lexer": "ipython3",
   "version": "3.10.12"
  }
 },
 "nbformat": 4,
 "nbformat_minor": 2
}
