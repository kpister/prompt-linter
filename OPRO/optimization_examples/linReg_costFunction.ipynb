{
 "cells": [
  {
   "cell_type": "markdown",
   "metadata": {},
   "source": [
    "### Fake Data"
   ]
  },
  {
   "cell_type": "code",
   "execution_count": 1,
   "metadata": {},
   "outputs": [
    {
     "data": {
      "image/png": "[encoded data removed]",
      "text/plain": [
       "<Figure size 640x480 with 1 Axes>"
      ]
     },
     "metadata": {},
     "output_type": "display_data"
    }
   ],
   "source": [
    "# Creating fake data for linear regression\n",
    "import numpy as np\n",
    "import matplotlib.pyplot as plt\n",
    "\n",
    "# Create a dataset\n",
    "np.random.seed(0)\n",
    "w_true, b_true = 7, 9\n",
    "X = 10 * np.random.rand(100, 1)\n",
    "y = w_true * X + b_true + 5 * np.random.randn(100, 1)\n",
    "\n",
    "# Plot the data\n",
    "plt.plot(X, y, \"b.\")\n",
    "plt.xlabel(\"$x_1$\", fontsize=18)\n",
    "plt.ylabel(\"$y$\", rotation=0, fontsize=18)\n",
    "plt.axis([0, 10, 0, 100])\n",
    "plt.show()"
   ]
  },
  {
   "cell_type": "markdown",
   "metadata": {},
   "source": [
    "### Optimizer LLM"
   ]
  },
  {
   "cell_type": "code",
   "execution_count": 2,
   "metadata": {},
   "outputs": [
    {
     "data": {
      "text/plain": [
       "('[(-19, -16), (22, -11), (-12, 21), (20, -18), (14, 23), (-24, 13), (-8, 25), (26, -7), (27, -6), (-28, 5)]',\n",
       " [(-19, -16),\n",
       "  (22, -11),\n",
       "  (-12, 21),\n",
       "  (20, -18),\n",
       "  (14, 23),\n",
       "  (-24, 13),\n",
       "  (-8, 25),\n",
       "  (26, -7),\n",
       "  (27, -6),\n",
       "  (-28, 5)])"
      ]
     },
     "execution_count": 2,
     "metadata": {},
     "output_type": "execute_result"
    }
   ],
   "source": [
    "import ast\n",
    "from tqdm import tqdm\n",
    "from linReg_helpers import opt_llm, client\n",
    "\n",
    "output = opt_llm(\"\"\"\n",
    "input:\n",
    "w=18, b=15\n",
    "value:\n",
    "10386334\n",
    "        \n",
    "input:\n",
    "w=17, b=18\n",
    "value:\n",
    "9204724\"\"\")\n",
    "\n",
    "tuple_list = ast.literal_eval(output)\n",
    "\n",
    "output, tuple_list"
   ]
  },
  {
   "cell_type": "markdown",
   "metadata": {},
   "source": [
    "### Scorer"
   ]
  },
  {
   "cell_type": "code",
   "execution_count": 3,
   "metadata": {},
   "outputs": [
    {
     "data": {
      "text/plain": [
       "{(-19, -16): 913,\n",
       " (22, -11): 635,\n",
       " (-12, 21): 743,\n",
       " (20, -18): 615,\n",
       " (14, 23): 691,\n",
       " (-24, 13): 863,\n",
       " (-8, 25): 655,\n",
       " (26, -7): 723,\n",
       " (27, -6): 732,\n",
       " (-28, 5): 918}"
      ]
     },
     "execution_count": 3,
     "metadata": {},
     "output_type": "execute_result"
    }
   ],
   "source": [
    "# Catculate Least squares given a pair of w, b\n",
    "def least_squares(w, b):\n",
    "    y_pred = w * X + b\n",
    "    return np.sum(np.log((y_pred - y) ** 2).astype(int))\n",
    "\n",
    "def scorer_cost_function(wb_pair_tuples):\n",
    "    wb_pairs = {}\n",
    "    for w,b in wb_pair_tuples:\n",
    "        wb_pairs[(w,b)] = least_squares(w, b)\n",
    "    return wb_pairs\n",
    "\n",
    "scorer_cost_function(tuple_list)"
   ]
  },
  {
   "cell_type": "markdown",
   "metadata": {},
   "source": [
    "### Plotting results"
   ]
  },
  {
   "cell_type": "code",
   "execution_count": 4,
   "metadata": {},
   "outputs": [
    {
     "data": {
      "text/plain": [
       "{(4, 8): 451, (4, 5): 495, (2, 5): 575, (3, 1): 593, (2, 1): 614}"
      ]
     },
     "execution_count": 4,
     "metadata": {},
     "output_type": "execute_result"
    }
   ],
   "source": [
    "# Generate a list of random pairs of w, b\n",
    "total_pairs = 5\n",
    "w = (np.random.rand(total_pairs)* 10).astype(int)\n",
    "b = (np.random.rand(total_pairs) * 10).astype(int)\n",
    "wb_pairs_lst = [(w[i], b[i]) for i in range(total_pairs)]\n",
    "wb_pairs = scorer_cost_function(wb_pairs_lst)\n",
    "wb_pairs = dict(sorted(wb_pairs.items(), key=lambda item: item[1]))\n",
    "wb_pairs"
   ]
  },
  {
   "cell_type": "code",
   "execution_count": 5,
   "metadata": {},
   "outputs": [
    {
     "name": "stderr",
     "output_type": "stream",
     "text": [
      "  0%|          | 0/15 [00:00<?, ?it/s]"
     ]
    },
    {
     "name": "stderr",
     "output_type": "stream",
     "text": [
      "  7%|▋         | 1/15 [00:01<00:25,  1.85s/it]"
     ]
    },
    {
     "name": "stdout",
     "output_type": "stream",
     "text": [
      "[(-1, 0), (0, -1), (1, -1), (-1, -1), (0, -2), (-2, -1), (2, -2), (-2, -2), (2, -1), (-3, -2)]\n"
     ]
    },
    {
     "name": "stderr",
     "output_type": "stream",
     "text": [
      " 13%|█▎        | 2/15 [00:04<00:28,  2.19s/it]"
     ]
    },
    {
     "name": "stdout",
     "output_type": "stream",
     "text": [
      "[(-1, 0), (0, -1), (0, 1), (-2, 1), (1, -2), (2, -3), (-2, -1), (3, -2), (-3, 4), (2.5, 3.5)]\n"
     ]
    },
    {
     "name": "stderr",
     "output_type": "stream",
     "text": [
      " 20%|██        | 3/15 [00:06<00:25,  2.12s/it]"
     ]
    },
    {
     "name": "stdout",
     "output_type": "stream",
     "text": [
      "[(-1, -3), (0.5, -2), (2, -1), (-2, 0), (1, 0.5), (3, 1), (-3, 2), (0, 3), (4, 2.5), (0.5, 4)]\n"
     ]
    },
    {
     "name": "stderr",
     "output_type": "stream",
     "text": [
      " 27%|██▋       | 4/15 [00:08<00:25,  2.33s/it]"
     ]
    },
    {
     "name": "stdout",
     "output_type": "stream",
     "text": [
      "([3.5, 2.2], [1.7, -5.5], [-2.3, 3.8], [0.8, -7.2], [5.5, 4.1], [-4.6, -6.9], [6.2, 8.9], [9.3, -10.1], [-8.4, 12.5], [11.7, -15.3])\n"
     ]
    },
    {
     "name": "stderr",
     "output_type": "stream",
     "text": [
      " 33%|███▎      | 5/15 [00:10<00:21,  2.14s/it]"
     ]
    },
    {
     "name": "stdout",
     "output_type": "stream",
     "text": [
      "[(-10, -5), (15, -20), (7.5, 3), (-8, 2), (6, -3), (3, 7), (9, -7), (-5, 9), (2, -4), (4, -10)]\n"
     ]
    },
    {
     "name": "stderr",
     "output_type": "stream",
     "text": [
      " 40%|████      | 6/15 [00:13<00:20,  2.31s/it]"
     ]
    },
    {
     "name": "stdout",
     "output_type": "stream",
     "text": [
      "[(-14.5, 20.8), (13.2, -22.4), (-8.7, 5.6), (17.9, -18.3), (3.1, 15.9), (-5.2, 12.5), (6.6, -3.8), (-6.9, -11.2), (12.8, 7.4), (-4.3, -14.6)]\n"
     ]
    },
    {
     "name": "stderr",
     "output_type": "stream",
     "text": [
      " 47%|████▋     | 7/15 [00:16<00:19,  2.42s/it]"
     ]
    },
    {
     "name": "stdout",
     "output_type": "stream",
     "text": [
      "[(-10, 2.5), (8.7, -4.3), (-3.5, 5.8), (12, -6), (-8.9, 9.1), (15.3, 0.7), (-17, 18.5), (21, -10.2), (-18.5, 13.7), (22.3, -9.8)]\n"
     ]
    },
    {
     "name": "stderr",
     "output_type": "stream",
     "text": [
      " 53%|█████▎    | 8/15 [00:18<00:16,  2.32s/it]"
     ]
    },
    {
     "name": "stdout",
     "output_type": "stream",
     "text": [
      "[(-10, -20), (-8, -18), (-6, -16), (-4, -14), (-2, -12), (0, -10), (2, -8), (4, -6), (6, -4), (8, -2)]\n"
     ]
    },
    {
     "name": "stderr",
     "output_type": "stream",
     "text": [
      " 60%|██████    | 9/15 [00:20<00:14,  2.35s/it]"
     ]
    },
    {
     "name": "stdout",
     "output_type": "stream",
     "text": [
      "([7.5, 3], [6.2, 8.9], [8, -2], [8.7, -4.3], [9, -7], [-4, 10], [3.5, 6], [-8.2, 5], [2.8, -9], [5.4, -3.7])\n"
     ]
    },
    {
     "name": "stderr",
     "output_type": "stream",
     "text": [
      " 67%|██████▋   | 10/15 [00:24<00:14,  2.88s/it]"
     ]
    },
    {
     "name": "stdout",
     "output_type": "stream",
     "text": [
      "([7.5, 3], [6.2, 8.9], [8, -2], [8.7, -4.3], [9, -7], [8.8, -3.5], [7.4, 2.1], [9.2, -6.8], [8.5, -1], [7.2, 4.5])\n"
     ]
    },
    {
     "name": "stderr",
     "output_type": "stream",
     "text": [
      " 73%|███████▎  | 11/15 [00:27<00:11,  2.87s/it]"
     ]
    },
    {
     "name": "stdout",
     "output_type": "stream",
     "text": [
      "([7.1, 1.8], [6.8, 3.5], [5.9, 8.7], [8.2, 2.5], [8.7, -1.5], [4.3, 9.1], [6.4, -0.7], [6.3, 0.9], [8.9, -2.3], [5.2, 6.6])\n"
     ]
    },
    {
     "name": "stderr",
     "output_type": "stream",
     "text": [
      " 80%|████████  | 12/15 [00:30<00:08,  2.85s/it]"
     ]
    },
    {
     "name": "stdout",
     "output_type": "stream",
     "text": [
      "([8.5, 1.2], [6.5, 2.7], [9.1, 0.5], [5.2, 7.9], [7.1, 1.3], [4.3, 6.7], [8.9, 3.5], [4.7, 8.2], [10.3, -0.5], [3.5, 8.9])\n"
     ]
    },
    {
     "name": "stderr",
     "output_type": "stream",
     "text": [
      " 87%|████████▋ | 13/15 [00:33<00:05,  2.92s/it]"
     ]
    },
    {
     "name": "stdout",
     "output_type": "stream",
     "text": [
      "([7.1, 2.0], [6.8, 3.5], [8.0, 1.5], [6.0, 8.0], [7.0, 1.0], [5.5, 9.0], [1.0, 3.0], [3.0, 5.0], [0.5, 0.9], [-2.0, 1.0])\n"
     ]
    },
    {
     "name": "stderr",
     "output_type": "stream",
     "text": [
      " 93%|█████████▎| 14/15 [00:36<00:02,  2.87s/it]"
     ]
    },
    {
     "name": "stdout",
     "output_type": "stream",
     "text": [
      "[(-5.0, 9.0), (-7.0, 11.0), (4.0, -3.0), (3.0, 2.0), (6.0, 5.0), (-8.0, 7.0), (-4.5, 6.5), (9.0, -10.0), (1.0, -2.0), (-1.0, 3.5)]\n"
     ]
    },
    {
     "name": "stderr",
     "output_type": "stream",
     "text": [
      "100%|██████████| 15/15 [00:38<00:00,  2.58s/it]"
     ]
    },
    {
     "name": "stdout",
     "output_type": "stream",
     "text": [
      "[(-10, -5), (12, -7), (-15, 9), (14, 6), (-8.3, -3), (11.5, 8), (9.2, -6.8), (13.7, -4.5), (6.7, 7.3), (-12.5, 5)]\n"
     ]
    },
    {
     "name": "stderr",
     "output_type": "stream",
     "text": [
      "\n"
     ]
    },
    {
     "data": {
      "text/plain": [
       "{(6.7, 7.3): 213,\n",
       " (7.5, 3): 222,\n",
       " (8.0, 1.5): 231,\n",
       " (7.2, 4.5): 234,\n",
       " (8.2, 2.5): 237,\n",
       " (6.2, 8.9): 239,\n",
       " (7.4, 2.1): 244,\n",
       " (8.5, 1.2): 246,\n",
       " (8.5, -1): 250,\n",
       " (8.7, -1.5): 260,\n",
       " (8.9, -2.3): 267,\n",
       " (6.0, 8.0): 268,\n",
       " (8.9, 3.5): 269,\n",
       " (9.1, 0.5): 276,\n",
       " (6.8, 3.5): 282,\n",
       " (8.8, -3.5): 283,\n",
       " (5.9, 8.7): 283,\n",
       " (7.1, 2.0): 290,\n",
       " (8, -2): 292,\n",
       " (7.1, 1.8): 295,\n",
       " (8.7, -4.3): 296,\n",
       " (7.1, 1.3): 309,\n",
       " (5.5, 9.0): 311,\n",
       " (9, -7): 314,\n",
       " (9.2, -6.8): 314,\n",
       " (10.3, -0.5): 325,\n",
       " (9.3, -10.1): 342,\n",
       " (7.0, 1.0): 342,\n",
       " (6.0, 5.0): 359,\n",
       " (6.5, 2.7): 361,\n",
       " (5.2, 7.9): 363,\n",
       " (9.0, -10.0): 368,\n",
       " (12, -7): 387,\n",
       " (12, -6): 393,\n",
       " (5.2, 6.6): 394,\n",
       " (4.7, 8.2): 402,\n",
       " (3.1, 15.9): 413,\n",
       " (11.7, -15.3): 414,\n",
       " (4.3, 9.1): 414,\n",
       " (5.5, 4.1): 423,\n",
       " (6.3, 0.9): 430,\n",
       " (4.3, 6.7): 446,\n",
       " (4, 8): 451,\n",
       " (6.4, -0.7): 455,\n",
       " (13.2, -22.4): 457,\n",
       " (3.5, 8.9): 461,\n",
       " (11.5, 8): 464,\n",
       " (13.7, -4.5): 472,\n",
       " (15, -20): 485,\n",
       " (6.6, -3.8): 487,\n",
       " (4, 5): 495,\n",
       " (3.5, 6): 498,\n",
       " (3, 7): 506,\n",
       " (6, -3): 511,\n",
       " (12.8, 7.4): 513,\n",
       " (6, -4): 522,\n",
       " (4, 2.5): 530,\n",
       " (15.3, 0.7): 532,\n",
       " (3.0, 5.0): 535,\n",
       " (14, 6): 539,\n",
       " (5.4, -3.7): 548,\n",
       " (3.5, 2.2): 558,\n",
       " (17.9, -18.3): 572,\n",
       " (2, 5): 575,\n",
       " (2.5, 3.5): 581,\n",
       " (3.0, 2.0): 581,\n",
       " (3, 1): 593,\n",
       " (4.0, -3.0): 599,\n",
       " (2, 1): 614,\n",
       " (3, -2): 614,\n",
       " (1.0, 3.0): 620,\n",
       " (4, -6): 622,\n",
       " (21, -10.2): 625,\n",
       " (0.5, 4): 626,\n",
       " (2, -1): 629,\n",
       " (2, -2): 637,\n",
       " (1, 0.5): 643,\n",
       " (4, -10): 646,\n",
       " (2, -3): 649,\n",
       " (0, 3): 649,\n",
       " (-4, 10): 649,\n",
       " (0.5, 0.9): 654,\n",
       " (22.3, -9.8): 656,\n",
       " (1, -1): 657,\n",
       " (2, -4): 659,\n",
       " (2.8, -9): 668,\n",
       " (1, -2): 669,\n",
       " (-1.0, 3.5): 669,\n",
       " (0, 1): 670,\n",
       " (1.7, -5.5): 670,\n",
       " (-5.2, 12.5): 675,\n",
       " (0.5, -2): 680,\n",
       " (2, -8): 680,\n",
       " (0, -1): 682,\n",
       " (-2.3, 3.8): 687,\n",
       " (0, -2): 688,\n",
       " (-1, 0): 689,\n",
       " (-1, -1): 692,\n",
       " (-5, 9): 693,\n",
       " (-3.5, 5.8): 694,\n",
       " (-3, 4): 699,\n",
       " (0.8, -7.2): 700,\n",
       " (-2, 1): 701,\n",
       " (-1, -3): 703,\n",
       " (-2, 0): 705,\n",
       " (-4.5, 6.5): 705,\n",
       " (-7.0, 11.0): 709,\n",
       " (-3, 2): 711,\n",
       " (-2, -1): 713,\n",
       " (-2, -2): 717,\n",
       " (0, -10): 722,\n",
       " (-8.4, 12.5): 724,\n",
       " (-3, -2): 731,\n",
       " (-8.0, 7.0): 745,\n",
       " (-8.9, 9.1): 746,\n",
       " (-2, -12): 763,\n",
       " (-8.2, 5): 764,\n",
       " (-8.7, 5.6): 766,\n",
       " (-14.5, 20.8): 769,\n",
       " (-4.6, -6.9): 776,\n",
       " (-8, 2): 780,\n",
       " (-10, 2.5): 799,\n",
       " (-4, -14): 799,\n",
       " (-8.3, -3): 800,\n",
       " (-4.3, -14.6): 801,\n",
       " (-17, 18.5): 806,\n",
       " (-12.5, 5): 812,\n",
       " (-15, 9): 815,\n",
       " (-6.9, -11.2): 817,\n",
       " (-6, -16): 820,\n",
       " (-18.5, 13.7): 822,\n",
       " (-10, -5): 826,\n",
       " (-8, -18): 844,\n",
       " (-10, -20): 863}"
      ]
     },
     "execution_count": 5,
     "metadata": {},
     "output_type": "execute_result"
    }
   ],
   "source": [
    "def get_text_score_pairs(wb_pairs):\n",
    "    # Assuming wb_pairs is sorted in ascending order of their function values\n",
    "    text_score_pairs = \"\"\n",
    "    for i, (k,v) in enumerate(wb_pairs.items()):\n",
    "        if i == total_pairs:\n",
    "            break\n",
    "        text_score_pairs += f\"\"\"\n",
    "        input:\n",
    "        w={k[0]}, b={k[1]}\n",
    "        value:\n",
    "        {v}\n",
    "        \"\"\"\n",
    "    return text_score_pairs\n",
    "\n",
    "steps = 15\n",
    "for i in tqdm(range(steps)):\n",
    "    # Optimizer LLM\n",
    "    output = opt_llm(get_text_score_pairs(wb_pairs))\n",
    "    new_wb_pairs = ast.literal_eval(output)\n",
    "    print(new_wb_pairs)\n",
    "    \n",
    "    # Scoring the new pairs and updating the wb_pairs\n",
    "    wb_pairs.update(scorer_cost_function(new_wb_pairs))\n",
    "    \n",
    "    # Sorting the wb_pairs in ascending order\n",
    "    wb_pairs = dict(sorted(wb_pairs.items(), key=lambda item: item[1]))\n",
    "\n",
    "wb_pairs"
   ]
  },
  {
   "cell_type": "code",
   "execution_count": 6,
   "metadata": {},
   "outputs": [
    {
     "data": {
      "image/png": "[encoded data removed]",
      "text/plain": [
       "<Figure size 640x480 with 1 Axes>"
      ]
     },
     "metadata": {},
     "output_type": "display_data"
    }
   ],
   "source": [
    "# Plot the data with the best fit line\n",
    "best_w, best_b = list(wb_pairs.keys())[0]\n",
    "y_pred = best_w * X + best_b\n",
    "plt.plot(X, y, \"b.\")\n",
    "plt.plot(X, y_pred, \"r-\")\n",
    "plt.xlabel(\"$x_1$\", fontsize=18)\n",
    "plt.ylabel(\"$y$\", rotation=0, fontsize=18)\n",
    "plt.axis([0, 10, 0, 100])\n",
    "plt.show()"
   ]
  },
  {
   "cell_type": "code",
   "execution_count": 7,
   "metadata": {},
   "outputs": [
    {
     "data": {
      "text/plain": [
       "134"
      ]
     },
     "execution_count": 7,
     "metadata": {},
     "output_type": "execute_result"
    }
   ],
   "source": [
    "len(wb_pairs)"
   ]
  }
 ],
 "metadata": {
  "kernelspec": {
   "display_name": "Python 3",
   "language": "python",
   "name": "python3"
  },
  "language_info": {
   "codemirror_mode": {
    "name": "ipython",
    "version": 3
   },
   "file_extension": ".py",
   "mimetype": "text/x-python",
   "name": "python",
   "nbconvert_exporter": "python",
   "pygments_lexer": "ipython3",
   "version": "3.10.12"
  }
 },
 "nbformat": 4,
 "nbformat_minor": 2
}
