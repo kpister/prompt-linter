{
 "cells": [
  {
   "cell_type": "code",
   "execution_count": 1,
   "metadata": {},
   "outputs": [
    {
     "data": {
      "text/plain": [
       "'Please help me to translate the following text to {LANGUAGE}. Please return only translated content not include the origin text. Here is the text: \\n\\n{TEXT}'"
      ]
     },
     "execution_count": 1,
     "metadata": {},
     "output_type": "execute_result"
    }
   ],
   "source": [
    "from datasets import load_dataset, Dataset\n",
    "import sys, os, json\n",
    "sys.path.append(os.path.join(os.getcwd(), '../..'))\n",
    "from OPRO import OPRO\n",
    "from nltk.translate.bleu_score import sentence_bleu\n",
    "import pandas as pd\n",
    "from tqdm.auto import tqdm, trange\n",
    "\n",
    "opro = OPRO([\"gemini\", \"gemma\", \"anthropic\"])\n",
    "dataset = load_dataset(\"pisterlabs/promptset\").filter(lambda row: len(row[\"prompts\"]) > 0)[\"train\"]\n",
    "CHOSEN_PROMPT = dataset[\"prompts\"][404][0].replace(\"PLACEHOLDER\", \"{LANGUAGE}\", 1).replace(\"PLACEHOLDER\", \"{TEXT}\", 1)\n",
    "CHOSEN_PROMPT"
   ]
  },
  {
   "cell_type": "markdown",
   "metadata": {},
   "source": [
    "### Original Dataset"
   ]
  },
  {
   "cell_type": "code",
   "execution_count": 2,
   "metadata": {},
   "outputs": [
    {
     "data": {
      "text/plain": [
       "(['Please help me to translate the following text to Spanish. Please return only translated content not include the origin text. Here is the text: \\n\\nHow boring!',\n",
       "  'Please help me to translate the following text to Spanish. Please return only translated content not include the origin text. Here is the text: \\n\\nI love sports.',\n",
       "  'Please help me to translate the following text to Spanish. Please return only translated content not include the origin text. Here is the text: \\n\\nWould you like to swap jobs?',\n",
       "  'Please help me to translate the following text to Spanish. Please return only translated content not include the origin text. Here is the text: \\n\\nMy mother did nothing but weep.',\n",
       "  'Please help me to translate the following text to Spanish. Please return only translated content not include the origin text. Here is the text: \\n\\nCroatia is in the southeastern part of Europe.'],\n",
       " ['¡Qué aburrimiento!',\n",
       "  'Adoro el deporte.',\n",
       "  '¿Te gustaría que intercambiemos los trabajos?',\n",
       "  'Mi madre no hizo nada sino llorar.',\n",
       "  'Croacia está en el sudeste de Europa.'])"
      ]
     },
     "execution_count": 2,
     "metadata": {},
     "output_type": "execute_result"
    }
   ],
   "source": [
    "import pandas as pd\n",
    "df = pd.read_csv(\"en-sp.csv\")\n",
    "df = df.sample(250, random_state=42)\n",
    "df[\"english\"] = df[\"english\"].apply(lambda x: CHOSEN_PROMPT.format(LANGUAGE=\"Spanish\", TEXT=x))\n",
    "# df to dict without indices\n",
    "df_dict = df.to_dict(orient='records')\n",
    "# dict with two keys: english and spanish\n",
    "original_data = {\"question\": [], \"answer\": []}\n",
    "for row in df_dict:\n",
    "    original_data[\"question\"].append(row[\"english\"])\n",
    "    original_data[\"answer\"].append(row[\"spanish\"])\n",
    "original_data = Dataset.from_dict(original_data)\n",
    "original_data[\"question\"][:5], original_data[\"answer\"][:5]"
   ]
  },
  {
   "cell_type": "markdown",
   "metadata": {},
   "source": [
    "### Generate Synthetic Data"
   ]
  },
  {
   "cell_type": "code",
   "execution_count": 3,
   "metadata": {},
   "outputs": [
    {
     "data": {
      "text/plain": [
       "[{'question': 'Please help me to translate the following text to Portuguese. Please return only translated content not include the origin text. Here is the text: \\n\\nI want to buy an orange.',\n",
       "  'answer': 'Quero comprar uma laranja.'},\n",
       " {'question': 'Please help me to translate the following text to German. Please return only translated content not include the origin text. Here is the text:\\n\\ntake a deep breath',\n",
       "  'answer': 'tief durchatmen'},\n",
       " {'question': 'Please help me to translate the following text to Japanese. Please return only translated content not include the origin text. Here is the text: \\n\\nWhat is the meaning of life?',\n",
       "  'answer': '人生の意味とは何か?'},\n",
       " {'question': \"Please help me to translate the following text to Dutch. Please return only translated content not include the origin text. Here is the text: \\n\\nDon't touch my stuff.\",\n",
       "  'answer': 'Blijf van mijn spullen af.'},\n",
       " {'question': 'Kindly help me translate the following text to Portuguese. But make sure to give only the translation, no other unneeded content. Here is the text:What is a computer?',\n",
       "  'answer': 'O que é um computador?'},\n",
       " {'question': 'Please help me to translate the following text to Hindi. Please return only translated content not include the origin text. Here is the text: \\n\\nI am a clever boy.',\n",
       "  'answer': 'मैं एक चतुर लड़का हूँ।'},\n",
       " {'question': 'Translate the following text to Japanese. Please return only translated content not include the origin text. Here is the text: \\n\\ngood luck.',\n",
       "  'answer': '頑張ってください'},\n",
       " {'question': 'Please help me to translate the following text to Indonesian. Please return only translated content not include the origin text. Here is the text:\\n\\nI know this place.',\n",
       "  'answer': 'Saya tahu tempat ini.'},\n",
       " {'question': 'Please help me to translate the following text to French. Please return only translated content not include the origin text. Here is the text: \\n\\nGet up!',\n",
       "  'answer': 'Lève-toi !'},\n",
       " {'question': \"Please help me to translate the following text to German. Please return only translated content not include the origin text. Here is the text: \\n\\nHappy Valentine's Day.\",\n",
       "  'answer': 'Frohen Valentinstag.'},\n",
       " {'question': 'Please help me to translate the following text to French. Please return only translated content not include the origin text. Here is the text: \\n\\nI am very happy.',\n",
       "  'answer': 'Je suis très heureux.'},\n",
       " {'question': 'Translate the following text to French: Have a nice day!',\n",
       "  'answer': 'Passez une bonne journée !'},\n",
       " {'question': \"Can you please translate the following text to Spanish? Just the translated content, without the original text. Here's the text: They are two sides of the same coin.\",\n",
       "  'answer': 'Son dos caras de la misma moneda.'},\n",
       " {'question': 'Please help me to translate the following text to French. Please return only translated content not include the origin text. Here is the text: \\n\\nHow old are you?',\n",
       "  'answer': 'Quel âge avez-vous ?'},\n",
       " {'question': 'Please help me to translate the following text to Chinese (Simplified). Please return only translated content not include the origin text. Here is the text: \\n\\nI love ice cream.',\n",
       "  'answer': '我喜欢冰淇淋。'},\n",
       " {'question': \"Please help me to translate the following text to French. Please return only translated content not include the origin text. Here is the text: \\n\\nSo you're OK.\",\n",
       "  'answer': 'Alors tu vas bien ?'},\n",
       " {'question': \"Please help me to translate the following text to French. Please return only translated content not include the origin text. Here is the text: \\n\\nIt's late!\",\n",
       "  'answer': \"C'est tard !\"},\n",
       " {'question': 'Please help me to translate the following text to Icelandic. Please return only translated content not include the origin text. Here is the text: \\n\\nIt’s getting dark.Bang!',\n",
       "  'answer': 'Það er að myrkrið. Bang!'},\n",
       " {'question': 'Please help me to translate the following text to French. Please return only translated content not include the origin text. Here is the text: \\n\\nWhat a fun day!',\n",
       "  'answer': 'Quelle journée amusante\\xa0!'},\n",
       " {'question': 'Please help me to translate the following text to French. Please return only translated content not include the origin text. Here is the text: \\n\\nHow exhausted!',\n",
       "  'answer': 'Quelle fatigue !'},\n",
       " {'question': 'Please help me to translate the following text to Spanish. Please return only translated content not include the origin text. Here is the text: \\n\\nWhat a beautiful day!',\n",
       "  'answer': '¡Qué día tan hermoso!'},\n",
       " {'question': 'Please help me to translate the following text to Spanish. Please return only translated content not include the origin text. Here is the text: \\n\\nWhat do you mean',\n",
       "  'answer': '¿Qué quiere decir?'},\n",
       " {'question': 'Please help me to translate the following text to Spanish. Please return only translated content not include the origin text. Here is the text: \\n\\nDebugged',\n",
       "  'answer': 'Depurado'},\n",
       " {'question': 'Please help me to translate the following text to German. Please return only translated content not include the origin text. Here is the text: \\n\\nWhat a lovely day!',\n",
       "  'answer': 'Was für ein schöner Tag!'},\n",
       " {'question': 'Please help me to translate the following text to German. Please return only translated content not include the origin text. Here is the text: \\n\\nThis is a nice day.',\n",
       "  'answer': 'Das ist ein schöner Tag.'},\n",
       " {'question': 'Please help me to translate the following text to Dutch. Please return only translated content not include the origin text. Here is the text: \\n\\nWhat did I tell you?',\n",
       "  'answer': 'Wat zei ik je?'},\n",
       " {'question': 'Please help me to translate the following text to Swedish. Please return only translated content not include the origin text. Here is the text: \\n\\nLondon is the capital of UK',\n",
       "  'answer': 'London är huvudstaden i Storbritannien'},\n",
       " {'question': 'Translate the following text to Russian. Here is the text:\\n\\nGood morning.',\n",
       "  'answer': 'Доброе утро.'},\n",
       " {'question': 'Please translate the following text to French. Please return only translated content, not including the original text. Here is the text:\\n\\nYou can do it!',\n",
       "  'answer': 'Tu peux le faire !'},\n",
       " {'question': 'Please help me to translate the following text to Spanish. Please return only translated content not include the origin text. Here is the text: \\n\\nGoodbye',\n",
       "  'answer': 'Adiós'},\n",
       " {'question': 'Please help me to translate the following text to Korean. Please return only translated content not include the origin text. Here is the text: \\n\\nBe proud of yourself.',\n",
       "  'answer': '자기 자신을 자랑스럽게 생각하세요.'},\n",
       " {'question': 'Please help me to translate the following text to Japanese. Please return only translated content not include the origin text. Here is the text: \\n\\nPink',\n",
       "  'answer': 'ピンク'},\n",
       " {'question': 'Please help me to translate the following text to Italian. Please return only translated content not include the origin text. Here is the text: \\n\\nHello world!',\n",
       "  'answer': 'Ciao mondo!'},\n",
       " {'question': 'Please help me to translate the following text to Italian. Please return only translated content not include the origin text. Here is the text: \\n\\nWhat is for dinner?',\n",
       "  'answer': \"Cosa c'è per cena?\"},\n",
       " {'question': 'Translate the following text to French. Please return only translated content not include the origin text. Here is the text: \\n\\nHello world!',\n",
       "  'answer': 'Bonjour le monde !'},\n",
       " {'question': 'Please help me to translate the following text to Japanese. Please return only translated content not include the origin text. Here is the text: \\n\\nIt must be difficult.',\n",
       "  'answer': '難しいでしょうね。'},\n",
       " {'question': 'Please help me to translate the following text to French. Please return only translated content not include the origin text. Here is the text:\\n\\nWhat is the reason?',\n",
       "  'answer': 'Quelle est la raison\\xa0?'},\n",
       " {'question': 'Please help me to translate the following text to Russian. Please return only translated content not include the origin text. Here is the text: Wash clothes withstand squall.',\n",
       "  'answer': 'Моющая одежда выдерживает шквал.'},\n",
       " {'question': 'Please help me to translate the following text to Mandarin Chinese. Please return only translated content, not including the original text. Here is the text:\\nWhat a detailed explanation!',\n",
       "  'answer': '太详细的阐述了！'},\n",
       " {'question': 'Please help me to translate the following text to Russian. Please return only translated content not include the origin text. Here is the text: Good afternoon.',\n",
       "  'answer': 'Добрый день.'}]"
      ]
     },
     "execution_count": 3,
     "metadata": {},
     "output_type": "execute_result"
    }
   ],
   "source": [
    "# Generate a question and answer pair using a language model\n",
    "def generate_qa_pair():\n",
    "    prompt_template = \"\"\"You are a helpful assistant designed to generate synthetic questions and answers for the prompt: {CHOSEN_PROMPT}.\n",
    "\n",
    "Please generate a question and answer pair that is similar to the following question and answer pair as a JSON object:\n",
    "\n",
    "{{\n",
    "    \"question\": \\\"\\\"\\\"{question}\\\"\\\"\\\",\n",
    "    \"answer\": \\\"\\\"\\\"{answer}\\\"\\\"\\\"\n",
    "}}\n",
    "\n",
    "Make sure the questions and answers are string values.\n",
    "Take a deep breath and think step-by-step.\n",
    "\"\"\"\n",
    "\n",
    "    response = opro.generate(\n",
    "        prompt_template.format(\n",
    "            CHOSEN_PROMPT=CHOSEN_PROMPT,\n",
    "            question=original_data[\"question\"][0],\n",
    "            answer=original_data[\"answer\"][0],\n",
    "        ),\n",
    "        model=\"gemini\",  # gemini\n",
    "        is_indeterministic=True,\n",
    "    )\n",
    "    return eval(response)\n",
    "\n",
    "SYNTHETIC_DATA_FILEPATH = \"synthetic_translations_dataset.json\"\n",
    "if not os.path.exists(SYNTHETIC_DATA_FILEPATH):\n",
    "    qa_pairs = []\n",
    "    SAMPLE_SIZE = 40\n",
    "\n",
    "    # Generating synthetic data\n",
    "    pbar = tqdm(total=SAMPLE_SIZE)\n",
    "    while len(qa_pairs) < SAMPLE_SIZE:\n",
    "        try:\n",
    "            qa_pair = generate_qa_pair()\n",
    "            qa_pairs.append(qa_pair)\n",
    "            pbar.update(1)\n",
    "        except Exception as e:\n",
    "            print(e)\n",
    "    pbar.close()\n",
    "\n",
    "    # Saving to file\n",
    "    with open(SYNTHETIC_DATA_FILEPATH, \"w\") as f:\n",
    "        f.write(str(qa_pairs))\n",
    "\n",
    "# Reading saved data\n",
    "with open(SYNTHETIC_DATA_FILEPATH, \"r\") as f:\n",
    "    qa_pairs = eval(f.read())\n",
    "\n",
    "qa_pairs"
   ]
  },
  {
   "cell_type": "code",
   "execution_count": 4,
   "metadata": {},
   "outputs": [
    {
     "data": {
      "text/plain": [
       "(10, 10, 25, 25)"
      ]
     },
     "execution_count": 4,
     "metadata": {},
     "output_type": "execute_result"
    }
   ],
   "source": [
    "TRAINING_SAMPLE_SIZE = 10\n",
    "TESTING_SAMPLE_SIZE = 25\n",
    "\n",
    "training_sample = Dataset.from_dict(\n",
    "    {\n",
    "        \"question\": [pair[\"question\"] for pair in qa_pairs[:TRAINING_SAMPLE_SIZE]],\n",
    "        \"answer\": [pair[\"answer\"] for pair in qa_pairs[:TRAINING_SAMPLE_SIZE]],\n",
    "    }\n",
    ")\n",
    "\n",
    "testing_sample = Dataset.from_dict(\n",
    "    {\n",
    "        \"question\": [\n",
    "            pair[\"question\"]\n",
    "            for pair in qa_pairs[\n",
    "                TRAINING_SAMPLE_SIZE : TRAINING_SAMPLE_SIZE + TESTING_SAMPLE_SIZE\n",
    "            ]\n",
    "        ],\n",
    "        \"answer\": [\n",
    "            pair[\"answer\"]\n",
    "            for pair in qa_pairs[\n",
    "                TRAINING_SAMPLE_SIZE : TRAINING_SAMPLE_SIZE + TESTING_SAMPLE_SIZE\n",
    "            ]\n",
    "        ],\n",
    "    }\n",
    ")\n",
    "\n",
    "# Checking if the lists are parallel, i.e. the question and answer at the same index are related\n",
    "len(training_sample[\"question\"]), len(training_sample[\"answer\"]), len(testing_sample[\"question\"]), len(testing_sample[\"answer\"])"
   ]
  },
  {
   "cell_type": "markdown",
   "metadata": {},
   "source": [
    "### Optimize Prompt on Synthetic Data"
   ]
  },
  {
   "cell_type": "code",
   "execution_count": 5,
   "metadata": {},
   "outputs": [],
   "source": [
    "def opt_llm(instruction_score_pairs, training_sample):\n",
    "    # Format the instruction and score pairs into a string\n",
    "    pairs_str = \"\"\n",
    "    for ins, score in instruction_score_pairs.items():\n",
    "        pairs_str += f\"text:\\n{ins}\\nscore:\\n{score:.2f}\\n\\n\"\n",
    "\n",
    "    prompt = \"\"\"You are an optimization expert. The user has some texts along with their corresponding scores.\n",
    "Your task is to generate a new piece of text that scores as high as possible. \n",
    "Generate the new unique text only, not its corresponding score.\n",
    "\n",
    "I have some texts along with their corresponding scores. The texts are arranged in ascending order\n",
    "based on their scores, where higher scores indicate better quality.\n",
    "\n",
    "{pairs_str}\n",
    "\n",
    "The following exemplars show how to apply your text: you replace <INS> in each input with your\n",
    "text, then read the input and give an output. We say your output is wrong if your output is different\n",
    "from the given output, and we say your output is correct if they are the same.\n",
    "\n",
    "input:\n",
    "Q: {q1}\n",
    "A: <INS>\n",
    "output:\n",
    "{a1}\n",
    "\n",
    "input:\n",
    "Q: {q2}\n",
    "A: <INS>\n",
    "output:\n",
    "{a2}\n",
    "\n",
    "input:\n",
    "Q: {q3}\n",
    "A: <INS>\n",
    "output:\n",
    "{a3}\n",
    "\n",
    "Write your new text that is different from the old ones and has a score as high as possible.\n",
    "Generate the new unique text only, not its corresponding score.\n",
    "New instruction:\n",
    "\"\"\"\n",
    "\n",
    "    # Passing 20 Best Instruction-Score Pairs\n",
    "    # 3 randomly chosen questions/answers from the training sample\n",
    "    q1, q2, q3 = (\n",
    "        training_sample[\"question\"][0],\n",
    "        training_sample[\"question\"][1],\n",
    "        training_sample[\"question\"][2],\n",
    "    )\n",
    "    a1, a2, a3 = (\n",
    "        training_sample[\"answer\"][0],\n",
    "        training_sample[\"answer\"][1],\n",
    "        training_sample[\"answer\"][2],\n",
    "    )\n",
    "    response = opro.generate(\n",
    "        prompt.format(pairs_str=pairs_str, q1=q1, a1=a1, q2=q2, a2=a2, q3=q3, a3=a3),\n",
    "        model=\"gemini\",  # gemini\n",
    "        is_indeterministic=True,\n",
    "    )\n",
    "    return response\n",
    "\n",
    "\n",
    "def score(instruction, sample):\n",
    "    \"\"\"\n",
    "    Score the instruction using the sample.\n",
    "\n",
    "    Args:\n",
    "    instruction: str\n",
    "    sample: Dataset with \"question\" and \"answer\" as keys\n",
    "\n",
    "    Returns:\n",
    "    accuracy: float\n",
    "    \"\"\"\n",
    "    bleu_score = lambda expected, actual: sentence_bleu(\n",
    "        [expected.split()], actual.split(), \n",
    "        weights=[1],\n",
    "    )\n",
    "    accuracy = 0\n",
    "    prompt = \"\"\"{question}\\n{instruction}\"\"\"\n",
    "    with tqdm(sample, desc=instruction, position=1, leave=False) as pbar:\n",
    "        for idx, sample_qa in enumerate(pbar):\n",
    "            res = opro.generate(\n",
    "                prompt.format(question=sample_qa[\"question\"], instruction=instruction),\n",
    "                model=\"gemma\",  # gemma\n",
    "            )\n",
    "            # Heuristic for detecting correctness\n",
    "            accuracy += bleu_score(sample_qa[\"answer\"], res)\n",
    "            pbar.set_postfix({\"Accuracy\": f\"{accuracy / (idx + 1):.2f}\"})\n",
    "\n",
    "    return accuracy / len(sample) * 100"
   ]
  },
  {
   "cell_type": "code",
   "execution_count": 6,
   "metadata": {},
   "outputs": [
    {
     "data": {
      "application/vnd.jupyter.widget-view+json": {
       "model_id": "3051d929552f4ad795aeb9aaf163b4b3",
       "version_major": 2,
       "version_minor": 0
      },
      "text/plain": [
       "Scoring:   0%|          | 0/5 [00:00<?, ?it/s]"
      ]
     },
     "metadata": {},
     "output_type": "display_data"
    },
    {
     "data": {
      "application/vnd.jupyter.widget-view+json": {
       "model_id": "40cdfa4b6f7f4d43be21da672dfbe968",
       "version_major": 2,
       "version_minor": 0
      },
      "text/plain": [
       "Think step by step.:   0%|          | 0/10 [00:00<?, ?it/s]"
      ]
     },
     "metadata": {},
     "output_type": "display_data"
    },
    {
     "data": {
      "application/vnd.jupyter.widget-view+json": {
       "model_id": "48084c1b0fd549ccaf88d90909ae0b22",
       "version_major": 2,
       "version_minor": 0
      },
      "text/plain": [
       "Take a deep breath and think step-by-step.:   0%|          | 0/10 [00:00<?, ?it/s]"
      ]
     },
     "metadata": {},
     "output_type": "display_data"
    },
    {
     "data": {
      "application/vnd.jupyter.widget-view+json": {
       "model_id": "f9a3cf9f164f40c3a1c01edeaf2081c9",
       "version_major": 2,
       "version_minor": 0
      },
      "text/plain": [
       "Be concise and clear.:   0%|          | 0/10 [00:00<?, ?it/s]"
      ]
     },
     "metadata": {},
     "output_type": "display_data"
    },
    {
     "data": {
      "application/vnd.jupyter.widget-view+json": {
       "model_id": "c1fb5f9bd81b448c98fe7f646e35586e",
       "version_major": 2,
       "version_minor": 0
      },
      "text/plain": [
       "You are the creator of an atlas.:   0%|          | 0/10 [00:00<?, ?it/s]"
      ]
     },
     "metadata": {},
     "output_type": "display_data"
    },
    {
     "data": {
      "application/vnd.jupyter.widget-view+json": {
       "model_id": "0a96377080dd422dba456f13118b43fd",
       "version_major": 2,
       "version_minor": 0
      },
      "text/plain": [
       "Explain your answer in simple terms.:   0%|          | 0/10 [00:00<?, ?it/s]"
      ]
     },
     "metadata": {},
     "output_type": "display_data"
    },
    {
     "name": "stdout",
     "output_type": "stream",
     "text": [
      "Step 1\n"
     ]
    },
    {
     "data": {
      "application/vnd.jupyter.widget-view+json": {
       "model_id": "577763934f92492ab80bb2618b0950d8",
       "version_major": 2,
       "version_minor": 0
      },
      "text/plain": [
       "Optimizing:   0%|          | 0/8 [00:00<?, ?it/s]"
      ]
     },
     "metadata": {},
     "output_type": "display_data"
    },
    {
     "name": "stdout",
     "output_type": "stream",
     "text": [
      "list index out of range\n"
     ]
    },
    {
     "data": {
      "application/vnd.jupyter.widget-view+json": {
       "model_id": "8dbe6c4fe16e47f1864aae017d4b200e",
       "version_major": 2,
       "version_minor": 0
      },
      "text/plain": [
       "Optimizing:   0%|          | 0/8 [00:00<?, ?it/s]"
      ]
     },
     "metadata": {},
     "output_type": "display_data"
    },
    {
     "data": {
      "application/vnd.jupyter.widget-view+json": {
       "model_id": "feac0b4e5d73473b866032583edf485f",
       "version_major": 2,
       "version_minor": 0
      },
      "text/plain": [
       "Scoring:   0%|          | 0/8 [00:00<?, ?it/s]"
      ]
     },
     "metadata": {},
     "output_type": "display_data"
    },
    {
     "data": {
      "application/vnd.jupyter.widget-view+json": {
       "model_id": "251413d54bda46beb7f95cd006e59b9c",
       "version_major": 2,
       "version_minor": 0
      },
      "text/plain": [
       "Journey through the depths of knowledge.:   0%|          | 0/10 [00:00<?, ?it/s]"
      ]
     },
     "metadata": {},
     "output_type": "display_data"
    },
    {
     "data": {
      "application/vnd.jupyter.widget-view+json": {
       "model_id": "3aa4790e155a45618869e7ac529d33d9",
       "version_major": 2,
       "version_minor": 0
      },
      "text/plain": [
       "Respect and follow company regulations.:   0%|          | 0/10 [00:00<?, ?it/s]"
      ]
     },
     "metadata": {},
     "output_type": "display_data"
    },
    {
     "data": {
      "application/vnd.jupyter.widget-view+json": {
       "model_id": "bb5956f8dfd34829ae8aaf10c95c31da",
       "version_major": 2,
       "version_minor": 0
      },
      "text/plain": [
       "I exercise and eat healthy.:   0%|          | 0/10 [00:00<?, ?it/s]"
      ]
     },
     "metadata": {},
     "output_type": "display_data"
    },
    {
     "data": {
      "application/vnd.jupyter.widget-view+json": {
       "model_id": "7bd0f8aec4a04a46a0c2e4b412c428e0",
       "version_major": 2,
       "version_minor": 0
      },
      "text/plain": [
       "Be specific and detailed.:   0%|          | 0/10 [00:00<?, ?it/s]"
      ]
     },
     "metadata": {},
     "output_type": "display_data"
    },
    {
     "data": {
      "application/vnd.jupyter.widget-view+json": {
       "model_id": "4297fcc9d1a94c7d890467f135e46045",
       "version_major": 2,
       "version_minor": 0
      },
      "text/plain": [
       "Assemble a diverse and inclusive team to ensure equitable outcomes.:   0%|          | 0/10 [00:00<?, ?it/s]"
      ]
     },
     "metadata": {},
     "output_type": "display_data"
    },
    {
     "data": {
      "application/vnd.jupyter.widget-view+json": {
       "model_id": "231b555e24b242509b16340f5df246a1",
       "version_major": 2,
       "version_minor": 0
      },
      "text/plain": [
       "An inventive person uses his intellect to create endless possibilities.:   0%|          | 0/10 [00:00<?, ?it/s…"
      ]
     },
     "metadata": {},
     "output_type": "display_data"
    },
    {
     "data": {
      "application/vnd.jupyter.widget-view+json": {
       "model_id": "a6a28a85c03f424cb340851319d8e7c5",
       "version_major": 2,
       "version_minor": 0
      },
      "text/plain": [
       "Obtain five different objects.:   0%|          | 0/10 [00:00<?, ?it/s]"
      ]
     },
     "metadata": {},
     "output_type": "display_data"
    },
    {
     "data": {
      "application/vnd.jupyter.widget-view+json": {
       "model_id": "86c9813aa04b49b7b78eb686dad28112",
       "version_major": 2,
       "version_minor": 0
      },
      "text/plain": [
       "Share your knowledge and experiences to help others overcome challenges.:   0%|          | 0/10 [00:00<?, ?it/…"
      ]
     },
     "metadata": {},
     "output_type": "display_data"
    },
    {
     "name": "stdout",
     "output_type": "stream",
     "text": [
      "Step 2\n"
     ]
    },
    {
     "data": {
      "application/vnd.jupyter.widget-view+json": {
       "model_id": "b52a4680f8234e748c5fdb4744e00da5",
       "version_major": 2,
       "version_minor": 0
      },
      "text/plain": [
       "Optimizing:   0%|          | 0/8 [00:00<?, ?it/s]"
      ]
     },
     "metadata": {},
     "output_type": "display_data"
    },
    {
     "data": {
      "application/vnd.jupyter.widget-view+json": {
       "model_id": "13680ca4a6ac44bc889e0a33c72ead31",
       "version_major": 2,
       "version_minor": 0
      },
      "text/plain": [
       "Scoring:   0%|          | 0/8 [00:00<?, ?it/s]"
      ]
     },
     "metadata": {},
     "output_type": "display_data"
    },
    {
     "data": {
      "application/vnd.jupyter.widget-view+json": {
       "model_id": "b6a0f624d54c4278ac031cfcecfd6ea3",
       "version_major": 2,
       "version_minor": 0
      },
      "text/plain": [
       "Contribute to the scientific community by sharing your research findings.:   0%|          | 0/10 [00:00<?, ?it…"
      ]
     },
     "metadata": {},
     "output_type": "display_data"
    },
    {
     "data": {
      "application/vnd.jupyter.widget-view+json": {
       "model_id": "1cb1ec1e64d648ddacacc31e8910a637",
       "version_major": 2,
       "version_minor": 0
      },
      "text/plain": [
       "Fulfill daily responsibilities to the best abilities.:   0%|          | 0/10 [00:00<?, ?it/s]"
      ]
     },
     "metadata": {},
     "output_type": "display_data"
    },
    {
     "data": {
      "application/vnd.jupyter.widget-view+json": {
       "model_id": "cd62312cc86b4e64ab759dd50ea0b3d4",
       "version_major": 2,
       "version_minor": 0
      },
      "text/plain": [
       "Seek knowledge relentlessly.:   0%|          | 0/10 [00:00<?, ?it/s]"
      ]
     },
     "metadata": {},
     "output_type": "display_data"
    },
    {
     "data": {
      "application/vnd.jupyter.widget-view+json": {
       "model_id": "47063171aaee4abaa7f848a99b1ce875",
       "version_major": 2,
       "version_minor": 0
      },
      "text/plain": [
       "Recognize, appreciate, and promote unique perspectives, experiences, and backgrounds.:   0%|          | 0/10 […"
      ]
     },
     "metadata": {},
     "output_type": "display_data"
    },
    {
     "data": {
      "application/vnd.jupyter.widget-view+json": {
       "model_id": "1a675eaced5e45d4b6475e9234abc0fb",
       "version_major": 2,
       "version_minor": 0
      },
      "text/plain": [
       "Provide constructive feedback and encouragement.:   0%|          | 0/10 [00:00<?, ?it/s]"
      ]
     },
     "metadata": {},
     "output_type": "display_data"
    },
    {
     "data": {
      "application/vnd.jupyter.widget-view+json": {
       "model_id": "eb1b42c072014133bcc5071439dc4214",
       "version_major": 2,
       "version_minor": 0
      },
      "text/plain": [
       "Cooperate with each other to achieve the best result.:   0%|          | 0/10 [00:00<?, ?it/s]"
      ]
     },
     "metadata": {},
     "output_type": "display_data"
    },
    {
     "data": {
      "application/vnd.jupyter.widget-view+json": {
       "model_id": "9d45f92dd9bb483a8f2861933f7460a2",
       "version_major": 2,
       "version_minor": 0
      },
      "text/plain": [
       "Your task is to generate a new piece of text that scores as high as possible. \n",
       "Generate the new unique text on…"
      ]
     },
     "metadata": {},
     "output_type": "display_data"
    },
    {
     "data": {
      "application/vnd.jupyter.widget-view+json": {
       "model_id": "22ceb6d8ec7a43178ba74d863539e396",
       "version_major": 2,
       "version_minor": 0
      },
      "text/plain": [
       "Assist others in understanding complex information through clear and simple explanations.:   0%|          | 0/…"
      ]
     },
     "metadata": {},
     "output_type": "display_data"
    },
    {
     "name": "stdout",
     "output_type": "stream",
     "text": [
      "Step 3\n"
     ]
    },
    {
     "data": {
      "application/vnd.jupyter.widget-view+json": {
       "model_id": "23b4b74c5a71415d9f6f0941e27369fd",
       "version_major": 2,
       "version_minor": 0
      },
      "text/plain": [
       "Optimizing:   0%|          | 0/8 [00:00<?, ?it/s]"
      ]
     },
     "metadata": {},
     "output_type": "display_data"
    },
    {
     "data": {
      "application/vnd.jupyter.widget-view+json": {
       "model_id": "d655065dfc8543c9a22ade1c0ea75d1e",
       "version_major": 2,
       "version_minor": 0
      },
      "text/plain": [
       "Scoring:   0%|          | 0/8 [00:00<?, ?it/s]"
      ]
     },
     "metadata": {},
     "output_type": "display_data"
    },
    {
     "data": {
      "application/vnd.jupyter.widget-view+json": {
       "model_id": "c40d1d9065fd4a8ab8cb48cf3e4db0ce",
       "version_major": 2,
       "version_minor": 0
      },
      "text/plain": [
       "Embrace diverse perspectives and experiences to foster an inclusive and equitable environment.:   0%|         …"
      ]
     },
     "metadata": {},
     "output_type": "display_data"
    },
    {
     "data": {
      "application/vnd.jupyter.widget-view+json": {
       "model_id": "a0b2b900067d470fb956bb467a6bdae8",
       "version_major": 2,
       "version_minor": 0
      },
      "text/plain": [
       "Never settle for less when it comes to your passions.:   0%|          | 0/10 [00:00<?, ?it/s]"
      ]
     },
     "metadata": {},
     "output_type": "display_data"
    },
    {
     "data": {
      "application/vnd.jupyter.widget-view+json": {
       "model_id": "02f0fda3073746a1bd89da57074c0997",
       "version_major": 2,
       "version_minor": 0
      },
      "text/plain": [
       "Use your creativity and generate a new, unique text that is different from the old ones and has a score as hig…"
      ]
     },
     "metadata": {},
     "output_type": "display_data"
    },
    {
     "data": {
      "application/vnd.jupyter.widget-view+json": {
       "model_id": "b48675ba932940d4893159a1606ae26a",
       "version_major": 2,
       "version_minor": 0
      },
      "text/plain": [
       "Strive for excellence in all you do.:   0%|          | 0/10 [00:00<?, ?it/s]"
      ]
     },
     "metadata": {},
     "output_type": "display_data"
    },
    {
     "data": {
      "application/vnd.jupyter.widget-view+json": {
       "model_id": "81c757668e5f43eca85bde6c887229a9",
       "version_major": 2,
       "version_minor": 0
      },
      "text/plain": [
       "Foster an environment that fosters healthy competition among team members.:   0%|          | 0/10 [00:00<?, ?i…"
      ]
     },
     "metadata": {},
     "output_type": "display_data"
    },
    {
     "data": {
      "application/vnd.jupyter.widget-view+json": {
       "model_id": "56a167d0f8e8454c8de5751b170e650b",
       "version_major": 2,
       "version_minor": 0
      },
      "text/plain": [
       "Recognize the significance and impact of diversity and inclusion for societal progress.:   0%|          | 0/10…"
      ]
     },
     "metadata": {},
     "output_type": "display_data"
    },
    {
     "data": {
      "application/vnd.jupyter.widget-view+json": {
       "model_id": "6c0744be162e4b84b3095e5ba9df5c01",
       "version_major": 2,
       "version_minor": 0
      },
      "text/plain": [
       "Establish a culture of continuous learning and improvement.:   0%|          | 0/10 [00:00<?, ?it/s]"
      ]
     },
     "metadata": {},
     "output_type": "display_data"
    },
    {
     "data": {
      "application/vnd.jupyter.widget-view+json": {
       "model_id": "a6cc3485a6b147899563ecc34c37b533",
       "version_major": 2,
       "version_minor": 0
      },
      "text/plain": [
       "Cultivate a mindset of critical thinking and problem-solving:   0%|          | 0/10 [00:00<?, ?it/s]"
      ]
     },
     "metadata": {},
     "output_type": "display_data"
    },
    {
     "name": "stdout",
     "output_type": "stream",
     "text": [
      "Step 4\n"
     ]
    },
    {
     "data": {
      "application/vnd.jupyter.widget-view+json": {
       "model_id": "da882386a2bc49098b57f378269e199d",
       "version_major": 2,
       "version_minor": 0
      },
      "text/plain": [
       "Optimizing:   0%|          | 0/8 [00:00<?, ?it/s]"
      ]
     },
     "metadata": {},
     "output_type": "display_data"
    },
    {
     "data": {
      "application/vnd.jupyter.widget-view+json": {
       "model_id": "b60038d3ffa54eaa9d1d894b5305128e",
       "version_major": 2,
       "version_minor": 0
      },
      "text/plain": [
       "Scoring:   0%|          | 0/8 [00:00<?, ?it/s]"
      ]
     },
     "metadata": {},
     "output_type": "display_data"
    },
    {
     "data": {
      "application/vnd.jupyter.widget-view+json": {
       "model_id": "b9489c90cb234701a6b5d734bee95779",
       "version_major": 2,
       "version_minor": 0
      },
      "text/plain": [
       "Listen attentively.:   0%|          | 0/10 [00:00<?, ?it/s]"
      ]
     },
     "metadata": {},
     "output_type": "display_data"
    },
    {
     "data": {
      "application/vnd.jupyter.widget-view+json": {
       "model_id": "2103cc75e44f404c94ad1734bf3136f8",
       "version_major": 2,
       "version_minor": 0
      },
      "text/plain": [
       "Dream without fear, and be fearless while dreaming.:   0%|          | 0/10 [00:00<?, ?it/s]"
      ]
     },
     "metadata": {},
     "output_type": "display_data"
    },
    {
     "data": {
      "application/vnd.jupyter.widget-view+json": {
       "model_id": "042093d5588e4a4cb41924ed1d3da51a",
       "version_major": 2,
       "version_minor": 0
      },
      "text/plain": [
       "Lead by example, inspiring others to do their best.:   0%|          | 0/10 [00:00<?, ?it/s]"
      ]
     },
     "metadata": {},
     "output_type": "display_data"
    },
    {
     "data": {
      "application/vnd.jupyter.widget-view+json": {
       "model_id": "3df266db024e456faa00665ffc81f910",
       "version_major": 2,
       "version_minor": 0
      },
      "text/plain": [
       "Use knowledge as a compass to navigate through life's challenges.:   0%|          | 0/10 [00:00<?, ?it/s]"
      ]
     },
     "metadata": {},
     "output_type": "display_data"
    },
    {
     "data": {
      "application/vnd.jupyter.widget-view+json": {
       "model_id": "6039fd35c80247888d16d9a5ff4c351b",
       "version_major": 2,
       "version_minor": 0
      },
      "text/plain": [
       "Make critical and efficient decisions in a timely manner.:   0%|          | 0/10 [00:00<?, ?it/s]"
      ]
     },
     "metadata": {},
     "output_type": "display_data"
    },
    {
     "data": {
      "application/vnd.jupyter.widget-view+json": {
       "model_id": "5367d768020044f4a634d15a6b9d7a28",
       "version_major": 2,
       "version_minor": 0
      },
      "text/plain": [
       "Find a new optimal text:\n",
       "\n",
       "text:\n",
       "Foster an environment that fosters the ability to see things from others' pers…"
      ]
     },
     "metadata": {},
     "output_type": "display_data"
    },
    {
     "data": {
      "application/vnd.jupyter.widget-view+json": {
       "model_id": "1ff3b8c6df14480fb421bffced94bec8",
       "version_major": 2,
       "version_minor": 0
      },
      "text/plain": [
       "Adapt to the feedback from your users and be responsive to their needs.:   0%|          | 0/10 [00:00<?, ?it/s…"
      ]
     },
     "metadata": {},
     "output_type": "display_data"
    },
    {
     "data": {
      "application/vnd.jupyter.widget-view+json": {
       "model_id": "a5e89bbb485648f19863749fe9e4c041",
       "version_major": 2,
       "version_minor": 0
      },
      "text/plain": [
       "Cultivate continuous learning and innovation that fosters a dynamic and competitive work environment.:   0%|  …"
      ]
     },
     "metadata": {},
     "output_type": "display_data"
    },
    {
     "name": "stdout",
     "output_type": "stream",
     "text": [
      "Step 5\n"
     ]
    },
    {
     "data": {
      "application/vnd.jupyter.widget-view+json": {
       "model_id": "bed4f311efda43d5a67f20e5ced5849c",
       "version_major": 2,
       "version_minor": 0
      },
      "text/plain": [
       "Optimizing:   0%|          | 0/8 [00:00<?, ?it/s]"
      ]
     },
     "metadata": {},
     "output_type": "display_data"
    },
    {
     "data": {
      "application/vnd.jupyter.widget-view+json": {
       "model_id": "12db033b929849cd8cecae6a19c6b37c",
       "version_major": 2,
       "version_minor": 0
      },
      "text/plain": [
       "Scoring:   0%|          | 0/8 [00:00<?, ?it/s]"
      ]
     },
     "metadata": {},
     "output_type": "display_data"
    },
    {
     "data": {
      "application/vnd.jupyter.widget-view+json": {
       "model_id": "3744c4f751724314bf3988669ac165a2",
       "version_major": 2,
       "version_minor": 0
      },
      "text/plain": [
       "Cultivate a mindset of continuous learning and growth:   0%|          | 0/10 [00:00<?, ?it/s]"
      ]
     },
     "metadata": {},
     "output_type": "display_data"
    },
    {
     "data": {
      "application/vnd.jupyter.widget-view+json": {
       "model_id": "eb397077b6f14ca1bbd5d9038e149851",
       "version_major": 2,
       "version_minor": 0
      },
      "text/plain": [
       "Empower and equip team members to maximize their full potential.:   0%|          | 0/10 [00:00<?, ?it/s]"
      ]
     },
     "metadata": {},
     "output_type": "display_data"
    },
    {
     "data": {
      "application/vnd.jupyter.widget-view+json": {
       "model_id": "17bf263a6bdc48d38a4e192020945d2c",
       "version_major": 2,
       "version_minor": 0
      },
      "text/plain": [
       "Connect with mentors to guide your career.:   0%|          | 0/10 [00:00<?, ?it/s]"
      ]
     },
     "metadata": {},
     "output_type": "display_data"
    },
    {
     "data": {
      "application/vnd.jupyter.widget-view+json": {
       "model_id": "81fc12a6528649048fa9072484b25f6b",
       "version_major": 2,
       "version_minor": 0
      },
      "text/plain": [
       "Embrace the struggles and setbacks as opportunities for growth.:   0%|          | 0/10 [00:00<?, ?it/s]"
      ]
     },
     "metadata": {},
     "output_type": "display_data"
    },
    {
     "data": {
      "application/vnd.jupyter.widget-view+json": {
       "model_id": "78a667c28f3b4185890d46219e9c607f",
       "version_major": 2,
       "version_minor": 0
      },
      "text/plain": [
       "Learn to laugh at yourself because it might be the greatest lesson.:   0%|          | 0/10 [00:00<?, ?it/s]"
      ]
     },
     "metadata": {},
     "output_type": "display_data"
    },
    {
     "data": {
      "application/vnd.jupyter.widget-view+json": {
       "model_id": "f14e54d6df4e4c8f829df678499b8f25",
       "version_major": 2,
       "version_minor": 0
      },
      "text/plain": [
       "Maintain a positive attitude and mindset towards work.:   0%|          | 0/10 [00:00<?, ?it/s]"
      ]
     },
     "metadata": {},
     "output_type": "display_data"
    },
    {
     "data": {
      "application/vnd.jupyter.widget-view+json": {
       "model_id": "a5ca333e51ea4ea795650dcbb02869dd",
       "version_major": 2,
       "version_minor": 0
      },
      "text/plain": [
       "Motivate and inspire with your words.:   0%|          | 0/10 [00:00<?, ?it/s]"
      ]
     },
     "metadata": {},
     "output_type": "display_data"
    },
    {
     "data": {
      "application/vnd.jupyter.widget-view+json": {
       "model_id": "d567e339d42b457e992fe1c498655d75",
       "version_major": 2,
       "version_minor": 0
      },
      "text/plain": [
       "Be thoughtful of others while making decisions.:   0%|          | 0/10 [00:00<?, ?it/s]"
      ]
     },
     "metadata": {},
     "output_type": "display_data"
    },
    {
     "name": "stdout",
     "output_type": "stream",
     "text": [
      "Step 6\n"
     ]
    },
    {
     "data": {
      "application/vnd.jupyter.widget-view+json": {
       "model_id": "41576254c51147bd98116a3c529f2b62",
       "version_major": 2,
       "version_minor": 0
      },
      "text/plain": [
       "Optimizing:   0%|          | 0/8 [00:00<?, ?it/s]"
      ]
     },
     "metadata": {},
     "output_type": "display_data"
    },
    {
     "data": {
      "application/vnd.jupyter.widget-view+json": {
       "model_id": "03550d02d7eb4eceb1d73efaf002fbd5",
       "version_major": 2,
       "version_minor": 0
      },
      "text/plain": [
       "Scoring:   0%|          | 0/8 [00:00<?, ?it/s]"
      ]
     },
     "metadata": {},
     "output_type": "display_data"
    },
    {
     "data": {
      "application/vnd.jupyter.widget-view+json": {
       "model_id": "feeaeae14adf498ea994616e200b1706",
       "version_major": 2,
       "version_minor": 0
      },
      "text/plain": [
       "I am a master of my craft.:   0%|          | 0/10 [00:00<?, ?it/s]"
      ]
     },
     "metadata": {},
     "output_type": "display_data"
    },
    {
     "data": {
      "application/vnd.jupyter.widget-view+json": {
       "model_id": "84953f8c5f1544328f64dd9d92565082",
       "version_major": 2,
       "version_minor": 0
      },
      "text/plain": [
       "Innovate and establish a winning strategy.:   0%|          | 0/10 [00:00<?, ?it/s]"
      ]
     },
     "metadata": {},
     "output_type": "display_data"
    },
    {
     "data": {
      "application/vnd.jupyter.widget-view+json": {
       "model_id": "be9569cedc5141f08a0f4d7725bee017",
       "version_major": 2,
       "version_minor": 0
      },
      "text/plain": [
       "Go the extra mile to achieve your goals.:   0%|          | 0/10 [00:00<?, ?it/s]"
      ]
     },
     "metadata": {},
     "output_type": "display_data"
    },
    {
     "data": {
      "application/vnd.jupyter.widget-view+json": {
       "model_id": "c037e57401014975acaf438679c8d654",
       "version_major": 2,
       "version_minor": 0
      },
      "text/plain": [
       "Remain optimistic even during trying times.:   0%|          | 0/10 [00:00<?, ?it/s]"
      ]
     },
     "metadata": {},
     "output_type": "display_data"
    },
    {
     "data": {
      "application/vnd.jupyter.widget-view+json": {
       "model_id": "412e5055b9d04a8daaa63e2182a40cb4",
       "version_major": 2,
       "version_minor": 0
      },
      "text/plain": [
       "Collaborate to achieve a common objective:   0%|          | 0/10 [00:00<?, ?it/s]"
      ]
     },
     "metadata": {},
     "output_type": "display_data"
    },
    {
     "data": {
      "application/vnd.jupyter.widget-view+json": {
       "model_id": "4205f20877e7444d855399621203585b",
       "version_major": 2,
       "version_minor": 0
      },
      "text/plain": [
       "Be constructive and collaborative with your team members.:   0%|          | 0/10 [00:00<?, ?it/s]"
      ]
     },
     "metadata": {},
     "output_type": "display_data"
    },
    {
     "data": {
      "application/vnd.jupyter.widget-view+json": {
       "model_id": "4439fd35273b4c16bfc2ac35753ebd4c",
       "version_major": 2,
       "version_minor": 0
      },
      "text/plain": [
       "Cultivate a culture of continuous learning and self-improvement.:   0%|          | 0/10 [00:00<?, ?it/s]"
      ]
     },
     "metadata": {},
     "output_type": "display_data"
    },
    {
     "data": {
      "application/vnd.jupyter.widget-view+json": {
       "model_id": "1f16d43a116a49998f1a1a0f4147b75f",
       "version_major": 2,
       "version_minor": 0
      },
      "text/plain": [
       "Be courageous and stand up for what you believe in.:   0%|          | 0/10 [00:00<?, ?it/s]"
      ]
     },
     "metadata": {},
     "output_type": "display_data"
    },
    {
     "name": "stdout",
     "output_type": "stream",
     "text": [
      "Step 7\n"
     ]
    },
    {
     "data": {
      "application/vnd.jupyter.widget-view+json": {
       "model_id": "b7fbad1d71304612a3d13518ffbab483",
       "version_major": 2,
       "version_minor": 0
      },
      "text/plain": [
       "Optimizing:   0%|          | 0/8 [00:00<?, ?it/s]"
      ]
     },
     "metadata": {},
     "output_type": "display_data"
    },
    {
     "data": {
      "application/vnd.jupyter.widget-view+json": {
       "model_id": "8ce074588adf456ea60a80ea5e9dc84e",
       "version_major": 2,
       "version_minor": 0
      },
      "text/plain": [
       "Scoring:   0%|          | 0/8 [00:00<?, ?it/s]"
      ]
     },
     "metadata": {},
     "output_type": "display_data"
    },
    {
     "data": {
      "application/vnd.jupyter.widget-view+json": {
       "model_id": "333eaccef6e64628acc20206d9ed6650",
       "version_major": 2,
       "version_minor": 0
      },
      "text/plain": [
       "Contribute whenever you have ideas for improvement.:   0%|          | 0/10 [00:00<?, ?it/s]"
      ]
     },
     "metadata": {},
     "output_type": "display_data"
    },
    {
     "data": {
      "application/vnd.jupyter.widget-view+json": {
       "model_id": "68001f3720e2487eb0aba1026c26ec9a",
       "version_major": 2,
       "version_minor": 0
      },
      "text/plain": [
       "Develop a platform for collaboration and knowledge sharing:   0%|          | 0/10 [00:00<?, ?it/s]"
      ]
     },
     "metadata": {},
     "output_type": "display_data"
    },
    {
     "data": {
      "application/vnd.jupyter.widget-view+json": {
       "model_id": "1337049ecb1c4b4fa11f2327365dc075",
       "version_major": 2,
       "version_minor": 0
      },
      "text/plain": [
       "Create a business email that asks a direct question.:   0%|          | 0/10 [00:00<?, ?it/s]"
      ]
     },
     "metadata": {},
     "output_type": "display_data"
    },
    {
     "data": {
      "application/vnd.jupyter.widget-view+json": {
       "model_id": "053f9e5303174eee9f981415acd6c85a",
       "version_major": 2,
       "version_minor": 0
      },
      "text/plain": [
       "Embrace diversity and inclusivity as a cornerstone of your team.:   0%|          | 0/10 [00:00<?, ?it/s]"
      ]
     },
     "metadata": {},
     "output_type": "display_data"
    },
    {
     "data": {
      "application/vnd.jupyter.widget-view+json": {
       "model_id": "69b48cd2a4654c66949cd53921808e2b",
       "version_major": 2,
       "version_minor": 0
      },
      "text/plain": [
       "Empower your team with thorough training and guidance.:   0%|          | 0/10 [00:00<?, ?it/s]"
      ]
     },
     "metadata": {},
     "output_type": "display_data"
    },
    {
     "data": {
      "application/vnd.jupyter.widget-view+json": {
       "model_id": "09f8660cc26842b68eafe4872a2a12b7",
       "version_major": 2,
       "version_minor": 0
      },
      "text/plain": [
       "Facilitate open and honest communication throughout the organization.:   0%|          | 0/10 [00:00<?, ?it/s]"
      ]
     },
     "metadata": {},
     "output_type": "display_data"
    },
    {
     "data": {
      "application/vnd.jupyter.widget-view+json": {
       "model_id": "f72b44520bdb44a5b917c559744282a4",
       "version_major": 2,
       "version_minor": 0
      },
      "text/plain": [
       "Encourage and cultivate teamwork and collaboration.:   0%|          | 0/10 [00:00<?, ?it/s]"
      ]
     },
     "metadata": {},
     "output_type": "display_data"
    },
    {
     "data": {
      "application/vnd.jupyter.widget-view+json": {
       "model_id": "537dca394b7e49989c7297d35a9c1f87",
       "version_major": 2,
       "version_minor": 0
      },
      "text/plain": [
       "Be specific and detailed when describing your goals.:   0%|          | 0/10 [00:00<?, ?it/s]"
      ]
     },
     "metadata": {},
     "output_type": "display_data"
    },
    {
     "name": "stdout",
     "output_type": "stream",
     "text": [
      "Step 8\n"
     ]
    },
    {
     "data": {
      "application/vnd.jupyter.widget-view+json": {
       "model_id": "c91254279b33472295863d79bb69c1f3",
       "version_major": 2,
       "version_minor": 0
      },
      "text/plain": [
       "Optimizing:   0%|          | 0/8 [00:00<?, ?it/s]"
      ]
     },
     "metadata": {},
     "output_type": "display_data"
    },
    {
     "data": {
      "application/vnd.jupyter.widget-view+json": {
       "model_id": "2759702647a043bab590223a297e8a46",
       "version_major": 2,
       "version_minor": 0
      },
      "text/plain": [
       "Scoring:   0%|          | 0/8 [00:00<?, ?it/s]"
      ]
     },
     "metadata": {},
     "output_type": "display_data"
    },
    {
     "data": {
      "application/vnd.jupyter.widget-view+json": {
       "model_id": "19eae1176068466ebd11e4a3168e608a",
       "version_major": 2,
       "version_minor": 0
      },
      "text/plain": [
       "Define a formal process for reviewing and updating team goals.:   0%|          | 0/10 [00:00<?, ?it/s]"
      ]
     },
     "metadata": {},
     "output_type": "display_data"
    },
    {
     "data": {
      "application/vnd.jupyter.widget-view+json": {
       "model_id": "9ead14f6df6a4e388d4b45a2bcc396d7",
       "version_major": 2,
       "version_minor": 0
      },
      "text/plain": [
       "Encourage teamwork and collaboration.:   0%|          | 0/10 [00:00<?, ?it/s]"
      ]
     },
     "metadata": {},
     "output_type": "display_data"
    },
    {
     "data": {
      "application/vnd.jupyter.widget-view+json": {
       "model_id": "bcb6e924e8044e3db5fb6aa2d12e2d8e",
       "version_major": 2,
       "version_minor": 0
      },
      "text/plain": [
       "Cultivate a sense of purpose and community.:   0%|          | 0/10 [00:00<?, ?it/s]"
      ]
     },
     "metadata": {},
     "output_type": "display_data"
    },
    {
     "data": {
      "application/vnd.jupyter.widget-view+json": {
       "model_id": "8a13e12f6c264588880ba1ac256c24a0",
       "version_major": 2,
       "version_minor": 0
      },
      "text/plain": [
       "Embrace diversity and inclusion as a pillar of your team.:   0%|          | 0/10 [00:00<?, ?it/s]"
      ]
     },
     "metadata": {},
     "output_type": "display_data"
    },
    {
     "data": {
      "application/vnd.jupyter.widget-view+json": {
       "model_id": "445e400b71c545cbb4dc6a0aca2666ed",
       "version_major": 2,
       "version_minor": 0
      },
      "text/plain": [
       "Innovate to stay ahead and to achieve significant results.:   0%|          | 0/10 [00:00<?, ?it/s]"
      ]
     },
     "metadata": {},
     "output_type": "display_data"
    },
    {
     "data": {
      "application/vnd.jupyter.widget-view+json": {
       "model_id": "6fb5b0bd98924eb7a07f50ed64f0c7a1",
       "version_major": 2,
       "version_minor": 0
      },
      "text/plain": [
       "Embrace continuous learning to excel in all aspects of life.:   0%|          | 0/10 [00:00<?, ?it/s]"
      ]
     },
     "metadata": {},
     "output_type": "display_data"
    },
    {
     "data": {
      "application/vnd.jupyter.widget-view+json": {
       "model_id": "ff777818647544ac9c78b82c4b513414",
       "version_major": 2,
       "version_minor": 0
      },
      "text/plain": [
       "It is important to have a positive attitude towards work.:   0%|          | 0/10 [00:00<?, ?it/s]"
      ]
     },
     "metadata": {},
     "output_type": "display_data"
    },
    {
     "data": {
      "application/vnd.jupyter.widget-view+json": {
       "model_id": "42e74c67e0804440ac4de0df7ec43b8b",
       "version_major": 2,
       "version_minor": 0
      },
      "text/plain": [
       "Transform challenges into opportunities for growth.:   0%|          | 0/10 [00:00<?, ?it/s]"
      ]
     },
     "metadata": {},
     "output_type": "display_data"
    },
    {
     "name": "stdout",
     "output_type": "stream",
     "text": [
      "Step 9\n"
     ]
    },
    {
     "data": {
      "application/vnd.jupyter.widget-view+json": {
       "model_id": "6d816e5a2f4243359771a05893e5135e",
       "version_major": 2,
       "version_minor": 0
      },
      "text/plain": [
       "Optimizing:   0%|          | 0/8 [00:00<?, ?it/s]"
      ]
     },
     "metadata": {},
     "output_type": "display_data"
    },
    {
     "data": {
      "application/vnd.jupyter.widget-view+json": {
       "model_id": "a95e3cb040774b949cf8175dbb45dcfb",
       "version_major": 2,
       "version_minor": 0
      },
      "text/plain": [
       "Scoring:   0%|          | 0/8 [00:00<?, ?it/s]"
      ]
     },
     "metadata": {},
     "output_type": "display_data"
    },
    {
     "data": {
      "application/vnd.jupyter.widget-view+json": {
       "model_id": "f2795e0b94bd44c7bb2162de300d6666",
       "version_major": 2,
       "version_minor": 0
      },
      "text/plain": [
       "Be adaptable and flexible to changing priorities.:   0%|          | 0/10 [00:00<?, ?it/s]"
      ]
     },
     "metadata": {},
     "output_type": "display_data"
    },
    {
     "data": {
      "application/vnd.jupyter.widget-view+json": {
       "model_id": "c2073a1013114d10994718d8900305b6",
       "version_major": 2,
       "version_minor": 0
      },
      "text/plain": [
       "Show me your best work, everyday.:   0%|          | 0/10 [00:00<?, ?it/s]"
      ]
     },
     "metadata": {},
     "output_type": "display_data"
    },
    {
     "data": {
      "application/vnd.jupyter.widget-view+json": {
       "model_id": "c33dd701c3814db0bd13f51ae278d29b",
       "version_major": 2,
       "version_minor": 0
      },
      "text/plain": [
       "Champion a performance-driven execution mindset.:   0%|          | 0/10 [00:00<?, ?it/s]"
      ]
     },
     "metadata": {},
     "output_type": "display_data"
    },
    {
     "data": {
      "application/vnd.jupyter.widget-view+json": {
       "model_id": "e4c1afc6978c4bcf87bc8fcd9021a374",
       "version_major": 2,
       "version_minor": 0
      },
      "text/plain": [
       "Strive for complete efficiency and productivity.:   0%|          | 0/10 [00:00<?, ?it/s]"
      ]
     },
     "metadata": {},
     "output_type": "display_data"
    },
    {
     "data": {
      "application/vnd.jupyter.widget-view+json": {
       "model_id": "ba1feff64ddf4fe79cb3a57104dccecd",
       "version_major": 2,
       "version_minor": 0
      },
      "text/plain": [
       "Build an innovative platform for collaboration and knowledge sharing.:   0%|          | 0/10 [00:00<?, ?it/s]"
      ]
     },
     "metadata": {},
     "output_type": "display_data"
    },
    {
     "data": {
      "application/vnd.jupyter.widget-view+json": {
       "model_id": "da1f6c512d2e4ee69382932c3499a10c",
       "version_major": 2,
       "version_minor": 0
      },
      "text/plain": [
       "Innovate outside of industry norms to establish a superior strategy.:   0%|          | 0/10 [00:00<?, ?it/s]"
      ]
     },
     "metadata": {},
     "output_type": "display_data"
    },
    {
     "data": {
      "application/vnd.jupyter.widget-view+json": {
       "model_id": "d254868b779f4716b1b8d7ce8fd56d0b",
       "version_major": 2,
       "version_minor": 0
      },
      "text/plain": [
       "Value transparency with your team.:   0%|          | 0/10 [00:00<?, ?it/s]"
      ]
     },
     "metadata": {},
     "output_type": "display_data"
    },
    {
     "data": {
      "application/vnd.jupyter.widget-view+json": {
       "model_id": "fba1812daacd4413b544efb07e1c3843",
       "version_major": 2,
       "version_minor": 0
      },
      "text/plain": [
       "Foster a positive and inclusive work environment:   0%|          | 0/10 [00:00<?, ?it/s]"
      ]
     },
     "metadata": {},
     "output_type": "display_data"
    },
    {
     "name": "stdout",
     "output_type": "stream",
     "text": [
      "Step 10\n"
     ]
    },
    {
     "data": {
      "application/vnd.jupyter.widget-view+json": {
       "model_id": "cddbfea0fcfe4f1da611bf0f19590c4b",
       "version_major": 2,
       "version_minor": 0
      },
      "text/plain": [
       "Optimizing:   0%|          | 0/8 [00:00<?, ?it/s]"
      ]
     },
     "metadata": {},
     "output_type": "display_data"
    },
    {
     "data": {
      "application/vnd.jupyter.widget-view+json": {
       "model_id": "5a666b7b81c14abeba87e20a8c5c655a",
       "version_major": 2,
       "version_minor": 0
      },
      "text/plain": [
       "Scoring:   0%|          | 0/8 [00:00<?, ?it/s]"
      ]
     },
     "metadata": {},
     "output_type": "display_data"
    },
    {
     "data": {
      "application/vnd.jupyter.widget-view+json": {
       "model_id": "3121bd9abc6c4f6ea020f6aa309ca6cf",
       "version_major": 2,
       "version_minor": 0
      },
      "text/plain": [
       "Living a successful life takes manageming stress as necessary.:   0%|          | 0/10 [00:00<?, ?it/s]"
      ]
     },
     "metadata": {},
     "output_type": "display_data"
    },
    {
     "data": {
      "application/vnd.jupyter.widget-view+json": {
       "model_id": "6870575ca46345a7b51fb4bde744b7de",
       "version_major": 2,
       "version_minor": 0
      },
      "text/plain": [
       "Build trust and camaraderie.:   0%|          | 0/10 [00:00<?, ?it/s]"
      ]
     },
     "metadata": {},
     "output_type": "display_data"
    },
    {
     "data": {
      "application/vnd.jupyter.widget-view+json": {
       "model_id": "e7577f359b4842299ff1bd4962dccf20",
       "version_major": 2,
       "version_minor": 0
      },
      "text/plain": [
       "Value trust among your colleagues.:   0%|          | 0/10 [00:00<?, ?it/s]"
      ]
     },
     "metadata": {},
     "output_type": "display_data"
    },
    {
     "data": {
      "application/vnd.jupyter.widget-view+json": {
       "model_id": "cfd4f766aef2407fab159e350d197ebb",
       "version_major": 2,
       "version_minor": 0
      },
      "text/plain": [
       "Develop a cohesive and visionary roadmap for the future.:   0%|          | 0/10 [00:00<?, ?it/s]"
      ]
     },
     "metadata": {},
     "output_type": "display_data"
    },
    {
     "data": {
      "application/vnd.jupyter.widget-view+json": {
       "model_id": "e161b75fc0794e93aa45c3d8da85d20f",
       "version_major": 2,
       "version_minor": 0
      },
      "text/plain": [
       "Go the extra mile, give your best everyday.:   0%|          | 0/10 [00:00<?, ?it/s]"
      ]
     },
     "metadata": {},
     "output_type": "display_data"
    },
    {
     "data": {
      "application/vnd.jupyter.widget-view+json": {
       "model_id": "5ec429a986a24b3cb1b3bf4156a5931f",
       "version_major": 2,
       "version_minor": 0
      },
      "text/plain": [
       "Embrace innovation and creativity to deliver exceptional results.:   0%|          | 0/10 [00:00<?, ?it/s]"
      ]
     },
     "metadata": {},
     "output_type": "display_data"
    },
    {
     "data": {
      "application/vnd.jupyter.widget-view+json": {
       "model_id": "868ce695ee93439691935d67755b97a1",
       "version_major": 2,
       "version_minor": 0
      },
      "text/plain": [
       "Prioritize initiatives that align with long-term objectives.:   0%|          | 0/10 [00:00<?, ?it/s]"
      ]
     },
     "metadata": {},
     "output_type": "display_data"
    },
    {
     "data": {
      "application/vnd.jupyter.widget-view+json": {
       "model_id": "cffb50daea2549519d28c1602407cce6",
       "version_major": 2,
       "version_minor": 0
      },
      "text/plain": [
       "Recognize and celebrate successes to build momentum.:   0%|          | 0/10 [00:00<?, ?it/s]"
      ]
     },
     "metadata": {},
     "output_type": "display_data"
    }
   ],
   "source": [
    "INS_PER_STEP = 8\n",
    "EXEMPLARS_PER_STEP = 3\n",
    "MAX_INS_SCORE_PAIRS = 20\n",
    "SAVE_PATH = \"synthetic_translations_OPRO_results.json\"\n",
    "\n",
    "# loading saved data\n",
    "if os.path.exists(SAVE_PATH):\n",
    "    with open(SAVE_PATH, \"r\") as f:\n",
    "        results = json.load(f)\n",
    "    starting_step = len(results) + 1\n",
    "    ins_score_pairs = results[str(len(results))]\n",
    "else:\n",
    "    ins_lst = [\n",
    "        \"Think step by step.\",\n",
    "        \"Take a deep breath and think step-by-step.\",\n",
    "        \"Be concise and clear.\",\n",
    "        \"You are the creator of an atlas.\",\n",
    "        \"Explain your answer in simple terms.\",\n",
    "        \n",
    "    ]\n",
    "    ins_score_pairs = {\n",
    "        ins: score(ins, training_sample)\n",
    "        for ins in tqdm(ins_lst, desc=\"Scoring\", position=0)\n",
    "    }\n",
    "    starting_step = 1\n",
    "    results = {starting_step: ins_score_pairs}\n",
    "    with open(SAVE_PATH, \"w\") as f:\n",
    "        json.dump(results, f)\n",
    "\n",
    "# Each step takes aboy 5 to 10 minutes with gemma:2b\n",
    "STEP_COUNT = 10\n",
    "TARGET_STEP = starting_step + STEP_COUNT\n",
    "assert TARGET_STEP >= starting_step, \"TARGET_STEP should be greater than step.\"\n",
    "for i in range(starting_step, TARGET_STEP):\n",
    "    print(f\"Step {i}\")\n",
    "    while True:\n",
    "        try:\n",
    "            # Optimizer LLM\n",
    "            exemplars = training_sample.shuffle()[:EXEMPLARS_PER_STEP]\n",
    "            instructions = [\n",
    "                opt_llm(ins_score_pairs, exemplars)\n",
    "                for _ in trange(INS_PER_STEP, desc=\"Optimizing\")\n",
    "            ]\n",
    "\n",
    "            # Scoring the new instructions\n",
    "            new_ins_score_pairs = {\n",
    "                ins: score(ins, training_sample)\n",
    "                for ins in tqdm(instructions, desc=\"Scoring\", position=0)\n",
    "            }\n",
    "            combined_ins_score_pairs = {**ins_score_pairs, **new_ins_score_pairs}\n",
    "            ins_score_pairs = dict(\n",
    "                sorted(\n",
    "                    combined_ins_score_pairs.items(), key=lambda x: x[1], reverse=True\n",
    "                )[:MAX_INS_SCORE_PAIRS]\n",
    "            )\n",
    "\n",
    "            # Saving data\n",
    "            results[i] = ins_score_pairs\n",
    "            with open(SAVE_PATH, \"w\") as f:\n",
    "                json.dump(results, f)\n",
    "\n",
    "            break\n",
    "        except ValueError as e:\n",
    "            print(e)\n",
    "        except Exception as e:\n",
    "            print(e)"
   ]
  },
  {
   "cell_type": "markdown",
   "metadata": {},
   "source": [
    "### Plotting Results and Testing Accuracy"
   ]
  },
  {
   "cell_type": "code",
   "execution_count": 7,
   "metadata": {},
   "outputs": [
    {
     "data": {
      "text/plain": [
       "Text(0.5, 1.0, 'Step to Accuracy')"
      ]
     },
     "execution_count": 7,
     "metadata": {},
     "output_type": "execute_result"
    },
    {
     "data": {
      "image/png": "[encoded data removed]",
      "text/plain": [
       "<Figure size 640x480 with 1 Axes>"
      ]
     },
     "metadata": {},
     "output_type": "display_data"
    }
   ],
   "source": [
    "import statistics\n",
    "import matplotlib.pyplot as plt\n",
    "\n",
    "# load opro.json\n",
    "with open(SAVE_PATH) as f:\n",
    "    opro_results = json.load(f)\n",
    "\n",
    "# opro = {step:dict(sorted(opro[step].items(), key=lambda x: x[1], reverse=True)[:20]) for step in opro}\n",
    "step_to_accuracy = {\n",
    "    step: (\n",
    "        statistics.mean(opro_results[step].values()),\n",
    "        statistics.stdev(opro_results[step].values()),\n",
    "    )\n",
    "    for step in opro_results\n",
    "}\n",
    "\n",
    "# Plot step to accuracy as a continuous line graph, including stdevs as highlighted error bars\n",
    "fig, ax = plt.subplots()\n",
    "ax.errorbar(\n",
    "    step_to_accuracy.keys(),\n",
    "    [accuracy[0] for accuracy in step_to_accuracy.values()],\n",
    "    yerr=[accuracy[1] for accuracy in step_to_accuracy.values()],\n",
    "    fmt=\"o\",\n",
    ")\n",
    "ax.set_xticks([step for step in step_to_accuracy.keys() if int(step) % 5 == 0])\n",
    "ax.set_xlabel(\"Step\")\n",
    "ax.set_ylabel(\"Accuracy\")\n",
    "ax.set_title(\"Step to Accuracy\")"
   ]
  },
  {
   "cell_type": "code",
   "execution_count": 8,
   "metadata": {},
   "outputs": [
    {
     "data": {
      "text/plain": [
       "{'Value transparency with your team.': 17.08946608946609,\n",
       " 'You are the creator of an atlas.': 17.081390831390834,\n",
       " 'Encourage teamwork and collaboration.': 15.382867132867133,\n",
       " 'Respect and follow company regulations.': 14.883449883449881,\n",
       " 'Foster a positive and inclusive work environment': 14.62354312354312,\n",
       " 'Listen attentively.': 14.014249639249638,\n",
       " 'Build trust and camaraderie.': 13.976190476190474,\n",
       " 'Value trust among your colleagues.': 13.118241235888295,\n",
       " 'Transform challenges into opportunities for growth.': 12.89174550939257,\n",
       " 'Be thoughtful of others while making decisions.': 12.852564102564104,\n",
       " 'It is important to have a positive attitude towards work.': 12.680807324770175,\n",
       " 'Contribute whenever you have ideas for improvement.': 12.5,\n",
       " 'Establish a culture of continuous learning and improvement.': 12.327380952380954,\n",
       " 'Show me your best work, everyday.': 12.185800310800312,\n",
       " 'Think step by step.': 11.991161616161616,\n",
       " 'Develop a platform for collaboration and knowledge sharing': 11.76553838318544,\n",
       " 'Be constructive and collaborative with your team members.': 11.642316017316016,\n",
       " 'I am a master of my craft.': 11.454545454545455,\n",
       " 'Go the extra mile to achieve your goals.': 11.435897435897434,\n",
       " 'Recognize and celebrate successes to build momentum.': 11.394798184271867}"
      ]
     },
     "execution_count": 8,
     "metadata": {},
     "output_type": "execute_result"
    }
   ],
   "source": [
    "opro_results[str(len(opro_results))]"
   ]
  },
  {
   "cell_type": "code",
   "execution_count": 9,
   "metadata": {},
   "outputs": [
    {
     "data": {
      "application/vnd.jupyter.widget-view+json": {
       "model_id": "d70182464b7146659342ea18ec1cfed6",
       "version_major": 2,
       "version_minor": 0
      },
      "text/plain": [
       "  0%|          | 0/25 [00:00<?, ?it/s]"
      ]
     },
     "metadata": {},
     "output_type": "display_data"
    },
    {
     "name": "stdout",
     "output_type": "stream",
     "text": [
      "No instruction: 25.079004129784078\n"
     ]
    },
    {
     "data": {
      "application/vnd.jupyter.widget-view+json": {
       "model_id": "a76610a7426842d1b5511ed0063b4d57",
       "version_major": 2,
       "version_minor": 0
      },
      "text/plain": [
       "Value transparency with your team.:   0%|          | 0/25 [00:00<?, ?it/s]"
      ]
     },
     "metadata": {},
     "output_type": "display_data"
    },
    {
     "name": "stdout",
     "output_type": "stream",
     "text": [
      "With best instruction (Value transparency with your team.): 15.694372294372293\n"
     ]
    }
   ],
   "source": [
    "best_instruction = max(\n",
    "    opro_results[str(len(opro_results))], key=opro_results[str(len(opro_results))].get\n",
    ")\n",
    "print(f\"No instruction: {score('', testing_sample)}\")\n",
    "print(f\"With best instruction ({best_instruction}): {score(best_instruction, testing_sample)}\")"
   ]
  },
  {
   "cell_type": "code",
   "execution_count": 10,
   "metadata": {},
   "outputs": [
    {
     "data": {
      "application/vnd.jupyter.widget-view+json": {
       "model_id": "82b3d5ca4e8546bf89e295af06533af0",
       "version_major": 2,
       "version_minor": 0
      },
      "text/plain": [
       "  0%|          | 0/250 [00:00<?, ?it/s]"
      ]
     },
     "metadata": {},
     "output_type": "display_data"
    },
    {
     "name": "stdout",
     "output_type": "stream",
     "text": [
      "No instruction: 34.84528114114392\n"
     ]
    },
    {
     "data": {
      "application/vnd.jupyter.widget-view+json": {
       "model_id": "cde97ae6fdc247abaa834040ef829b2c",
       "version_major": 2,
       "version_minor": 0
      },
      "text/plain": [
       "Value transparency with your team.:   0%|          | 0/250 [00:00<?, ?it/s]"
      ]
     },
     "metadata": {},
     "output_type": "display_data"
    },
    {
     "name": "stdout",
     "output_type": "stream",
     "text": [
      "With best instruction (Value transparency with your team.): 22.42299049245499\n"
     ]
    }
   ],
   "source": [
    "best_instruction = max(\n",
    "    opro_results[str(len(opro_results))], key=opro_results[str(len(opro_results))].get\n",
    ")\n",
    "print(f\"No instruction: {score('', original_data)}\")\n",
    "print(f\"With best instruction ({best_instruction}): {score(best_instruction, original_data)}\")"
   ]
  },
  {
   "cell_type": "code",
   "execution_count": 11,
   "metadata": {},
   "outputs": [
    {
     "data": {
      "text/plain": [
       "('¡Qué aburrimiento!',\n",
       " 'Cómo aburrido!\\nValorizar la transparencia con tu equipo.',\n",
       " 0.7205954194068909)"
      ]
     },
     "execution_count": 11,
     "metadata": {},
     "output_type": "execute_result"
    }
   ],
   "source": [
    "prompt = \"\"\"{question}\\n{instruction}\"\"\"\n",
    "res = opro.generate(\n",
    "    prompt.format(question=original_data[\"question\"][0], instruction=best_instruction),\n",
    "    model=\"gemma\",  # gemma\n",
    ")\n",
    "original_data[\"answer\"][0], res, opro.similarity(original_data[\"answer\"][0], res)"
   ]
  },
  {
   "cell_type": "code",
   "execution_count": null,
   "metadata": {},
   "outputs": [],
   "source": []
  },
  {
   "cell_type": "code",
   "execution_count": null,
   "metadata": {},
   "outputs": [],
   "source": []
  },
  {
   "cell_type": "code",
   "execution_count": null,
   "metadata": {},
   "outputs": [],
   "source": []
  }
 ],
 "metadata": {
  "kernelspec": {
   "display_name": "Python 3",
   "language": "python",
   "name": "python3"
  },
  "language_info": {
   "codemirror_mode": {
    "name": "ipython",
    "version": 3
   },
   "file_extension": ".py",
   "mimetype": "text/x-python",
   "name": "python",
   "nbconvert_exporter": "python",
   "pygments_lexer": "ipython3",
   "version": "3.10.12"
  }
 },
 "nbformat": 4,
 "nbformat_minor": 2
}
