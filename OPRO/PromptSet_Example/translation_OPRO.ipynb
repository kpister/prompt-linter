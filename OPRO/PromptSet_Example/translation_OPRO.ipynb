{
 "cells": [
  {
   "cell_type": "code",
   "execution_count": 21,
   "metadata": {},
   "outputs": [
    {
     "data": {
      "text/plain": [
       "'Please help me to translate the following text to {PLACEHOLDER}. Please return only translated content not include the origin text. Here is the text: \\n\\n{PLACEHOLDER}'"
      ]
     },
     "execution_count": 21,
     "metadata": {},
     "output_type": "execute_result"
    }
   ],
   "source": [
    "from datasets import load_dataset, Dataset\n",
    "import sys, os, json\n",
    "sys.path.append(os.path.join(os.getcwd(), '..'))\n",
    "from OPRO import OPRO\n",
    "import pandas as pd\n",
    "from tqdm.auto import tqdm, trange\n",
    "\n",
    "opro = OPRO([\"gemini\", \"gemma\", \"anthropic\"])\n",
    "dataset = load_dataset(\"pisterlabs/promptset\").filter(lambda row: len(row[\"prompts\"]) > 0)[\"train\"]\n",
    "CHOSEN_PROMPT = dataset[\"prompts\"][404][0].replace(\"PLACEHOLDER\", \"{PLACEHOLDER}\")\n",
    "CHOSEN_PROMPT"
   ]
  },
  {
   "cell_type": "markdown",
   "metadata": {},
   "source": [
    "### Original Dataset"
   ]
  },
  {
   "cell_type": "code",
   "execution_count": 20,
   "metadata": {},
   "outputs": [
    {
     "data": {
      "text/plain": [
       "'Please help me to translate the following text to PLACEHOLDER. Please return only translated content not include the origin text. Here is the text: \\n\\nPLACEHOLDER'"
      ]
     },
     "execution_count": 20,
     "metadata": {},
     "output_type": "execute_result"
    }
   ],
   "source": [
    "CHOSEN_PROMPT"
   ]
  }
 ],
 "metadata": {
  "kernelspec": {
   "display_name": "Python 3",
   "language": "python",
   "name": "python3"
  },
  "language_info": {
   "codemirror_mode": {
    "name": "ipython",
    "version": 3
   },
   "file_extension": ".py",
   "mimetype": "text/x-python",
   "name": "python",
   "nbconvert_exporter": "python",
   "pygments_lexer": "ipython3",
   "version": "3.10.12"
  }
 },
 "nbformat": 4,
 "nbformat_minor": 2
}
