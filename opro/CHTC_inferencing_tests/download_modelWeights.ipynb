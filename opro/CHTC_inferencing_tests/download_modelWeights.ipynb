{
 "cells": [
  {
   "cell_type": "markdown",
   "metadata": {},
   "source": [
    "# DOWNLOAD sucessful, LOADING Models Weights from Disk FAILED!\n",
    "\n",
    "Script Useful for downloading model weights in the future. **(Correction: Easier to just git clone the repo) - doesn't work for 70B**\n",
    "\n",
    "Running model from cache works. But script fails to load model weights from disk.\n",
    "Possible reasons why loading from disk failed:\n",
    "- safetensors?\n",
    "- shared tensors\n",
    "- unsafe serialization\n",
    "\n",
    "use_safetensors=True, \n",
    "\n",
    "safe_serialization=False,\n",
    "\n",
    "RuntimeError: The weights trying to be saved contained shared tensors"
   ]
  },
  {
   "cell_type": "markdown",
   "metadata": {},
   "source": [
    "### DOWNLOAD LLM WEIGHTS"
   ]
  },
  {
   "cell_type": "code",
   "execution_count": null,
   "metadata": {},
   "outputs": [],
   "source": [
    "import os\n",
    "from huggingface_hub import hf_hub_download, login, whoami\n",
    "import dotenv\n",
    "\n",
    "dotenv.load_dotenv()\n",
    "HUGGINGFACE_TOKEN = os.getenv(\"HUGGINGFACE_API_KEY\")\n",
    "login(token=HUGGINGFACE_TOKEN)\n",
    "\n",
    "# Download the model from the Hub\n",
    "model_id = \"google/gemma-2b\"\n",
    "filenames = [\n",
    "        \"config.json\",\n",
    "        \"gemma-2b.gguf\",\n",
    "        \"generation_config.json\",\n",
    "        \"model-00001-of-00002.safetensors\",\n",
    "        \"model-00001-of-00002.safetensors\",\n",
    "        \"model.safetensors.index.json\",\n",
    "        \"special_tokens_map.json\",\n",
    "        \"tokenizer.json\",\n",
    "        \"tokenizer.model\",\n",
    "        \"tokenizer_config.json\"\n",
    "]\n",
    "for filename in filenames:\n",
    "    downloaded_model_path = hf_hub_download(\n",
    "        repo_id=model_id, filename=filename, revision=\"main\", token=HUGGINGFACE_TOKEN\n",
    "    )\n",
    "    print(f\"Downloaded {downloaded_model_path}\")\n",
    "\n"
   ]
  },
  {
   "cell_type": "markdown",
   "metadata": {},
   "source": [
    "### RUN LLM"
   ]
  },
  {
   "cell_type": "code",
   "execution_count": null,
   "metadata": {},
   "outputs": [],
   "source": [
    "# pip install accelerate\n",
    "from transformers import AutoTokenizer, AutoModelForCausalLM\n",
    "\n",
    "tokenizer = AutoTokenizer.from_pretrained(\"google/gemma-2b-it\")\n",
    "model = AutoModelForCausalLM.from_pretrained(\"google/gemma-2b-it\", device_map=\"auto\", use_safetensors=True)\n"
   ]
  },
  {
   "cell_type": "code",
   "execution_count": null,
   "metadata": {},
   "outputs": [],
   "source": [
    "# import torch\n",
    "\n",
    "# # Saving model weights to disk\n",
    "# tokenizer.save_pretrained(\"gemma_model_saved\")\n",
    "\n",
    "# # Save the model using torch.save\n",
    "# model.save_pretrained(\"gemma_model_saved\", use_safetensors=True, safe_serialization=False)"
   ]
  },
  {
   "cell_type": "code",
   "execution_count": 1,
   "metadata": {},
   "outputs": [
    {
     "name": "stderr",
     "output_type": "stream",
     "text": [
      "/home/dpaul/prompt-linter/.venv/lib/python3.10/site-packages/tqdm/auto.py:21: TqdmWarning: IProgress not found. Please update jupyter and ipywidgets. See https://ipywidgets.readthedocs.io/en/stable/user_install.html\n",
      "  from .autonotebook import tqdm as notebook_tqdm\n",
      "Gemma's activation function should be approximate GeLU and not exact GeLU.\n",
      "Changing the activation function to `gelu_pytorch_tanh`.if you want to use the legacy `gelu`, edit the `model.config` to set `hidden_activation=gelu`   instead of `hidden_act`. See https://github.com/huggingface/transformers/pull/29402 for more details.\n",
      "Loading checkpoint shards:   0%|          | 0/2 [00:00<?, ?it/s]"
     ]
    },
    {
     "ename": "",
     "evalue": "",
     "output_type": "error",
     "traceback": [
      "\u001b[1;31mThe Kernel crashed while executing code in the current cell or a previous cell. \n",
      "\u001b[1;31mPlease review the code in the cell(s) to identify a possible cause of the failure. \n",
      "\u001b[1;31mClick <a href='https://aka.ms/vscodeJupyterKernelCrash'>here</a> for more info. \n",
      "\u001b[1;31mView Jupyter <a href='command:jupyter.viewOutput'>log</a> for further details."
     ]
    }
   ],
   "source": [
    "from transformers import AutoTokenizer, AutoModelForCausalLM\n",
    "import torch\n",
    "\n",
    "# tokenizer = AutoTokenizer.from_pretrained(\"gemma_model_saved\")\n",
    "# model = AutoModelForCausalLM.from_pretrained(\"gemma_model_saved\")\n",
    "\n",
    "# To load the model\n",
    "path = \"gemma_model_saved\"\n",
    "model = AutoModelForCausalLM.from_pretrained(path, use_safetensors=True)\n",
    "tokenizer = AutoTokenizer.from_pretrained(path)"
   ]
  },
  {
   "cell_type": "code",
   "execution_count": null,
   "metadata": {},
   "outputs": [],
   "source": [
    "# chat = [\n",
    "#     { \"role\": \"user\", \"content\": \"What is 2+2?\" },\n",
    "# ]\n",
    "\n",
    "# prompt = tokenizer.apply_chat_template(chat, tokenize=False, add_generation_prompt=True)\n",
    "# prompt"
   ]
  },
  {
   "cell_type": "code",
   "execution_count": null,
   "metadata": {},
   "outputs": [],
   "source": [
    "prompt = \"What is 2+2?\"\n",
    "input_text = f\"\"\"<start_of_turn>user\n",
    "{prompt}<end_of_turn>\n",
    "<start_of_turn>model\"\"\"\n",
    "input_ids = tokenizer(input_text, return_tensors=\"pt\").to(\"cuda\")\n",
    "\n",
    "outputs = model.generate(**input_ids, max_length=128)\n",
    "print(tokenizer.decode(outputs[0]))"
   ]
  },
  {
   "cell_type": "code",
   "execution_count": null,
   "metadata": {},
   "outputs": [],
   "source": []
  }
 ],
 "metadata": {
  "kernelspec": {
   "display_name": "Python 3",
   "language": "python",
   "name": "python3"
  },
  "language_info": {
   "codemirror_mode": {
    "name": "ipython",
    "version": 3
   },
   "file_extension": ".py",
   "mimetype": "text/x-python",
   "name": "python",
   "nbconvert_exporter": "python",
   "pygments_lexer": "ipython3",
   "version": "3.10.12"
  }
 },
 "nbformat": 4,
 "nbformat_minor": 2
}
