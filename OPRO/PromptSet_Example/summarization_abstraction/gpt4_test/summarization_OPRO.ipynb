{
 "cells": [
  {
   "cell_type": "markdown",
   "metadata": {},
   "source": [
    "To count tokens: Use the following\n",
    "\n",
    "```\n",
    "from token_count import TokenCount\n",
    "tc = TokenCount(model_name=\"gpt-4-turbo\")\n",
    "tokens = {\"input\": 0, \"output\": 0}\n",
    "```"
   ]
  },
  {
   "cell_type": "code",
   "execution_count": 1,
   "metadata": {},
   "outputs": [
    {
     "name": "stdout",
     "output_type": "stream",
     "text": [
      "[] ['PLACEHOLDER']\n"
     ]
    },
    {
     "data": {
      "text/plain": [
       "'Please summarize the following text: {TEXT}'"
      ]
     },
     "execution_count": 1,
     "metadata": {},
     "output_type": "execute_result"
    }
   ],
   "source": [
    "from datasets import load_dataset, Dataset\n",
    "import sys, os, json, re\n",
    "from nltk.translate.bleu_score import sentence_bleu\n",
    "import pandas as pd\n",
    "from tqdm.auto import tqdm, trange\n",
    "from rouge import Rouge\n",
    "import dotenv, os\n",
    "\n",
    "dotenv.load_dotenv()\n",
    "\n",
    "from openai import OpenAI\n",
    "client = OpenAI(api_key=os.getenv(\"GPT4_PISTERLABS\"))\n",
    "\n",
    "\n",
    "def rouge_scorer():\n",
    "    # Initialize the Rouge object\n",
    "    rouge = Rouge()\n",
    "\n",
    "    def compute_scores(generated_text, reference_text):\n",
    "        # Compute the scores\n",
    "        scores = rouge.get_scores(generated_text, reference_text)[0]\n",
    "        total_score = 0\n",
    "        for r in scores:\n",
    "            total_score += scores[r]['f']\n",
    "        return total_score/3\n",
    "\n",
    "    return compute_scores\n",
    "\n",
    "def check_and_reformat(prompt):\n",
    "    \"\"\"\n",
    "    Checks if prompt is valid. If prompt is valid, returns a slightly modified prompt that can be evaluated and optimized.\n",
    "    \"\"\"\n",
    "    pattern1 = r'{[^}]*}'\n",
    "    pattern2 = r'PLACEHOLDER'\n",
    "    matches1 = re.findall(pattern1, prompt)\n",
    "    matches2 = re.findall(pattern2, prompt.upper())\n",
    "    print(matches1, matches2)\n",
    "\n",
    "    assert len(matches1) == 1 or len(matches2) == 1, \"Invalid prompt format. Prompt must contain some str/var to be interpolated.\"\n",
    "\n",
    "    # Reformat the prompt\n",
    "    if len(matches1) == 1:\n",
    "        return prompt.replace(matches1[0], \"{TEXT}\")\n",
    "    else:\n",
    "        return prompt.replace(matches2[0], \"{TEXT}\")\n",
    "\n",
    "# Usage\n",
    "score_rouge = rouge_scorer()\n",
    "CHOSEN_PROMPT = 'Please summarize the following text: PLACEHOLDER'  # somewhere in promptset. Will find idx later\n",
    "CHOSEN_PROMPT = check_and_reformat(CHOSEN_PROMPT)\n",
    "CHOSEN_PROMPT"
   ]
  },
  {
   "cell_type": "markdown",
   "metadata": {},
   "source": [
    "### Generate Synthetic Data"
   ]
  },
  {
   "cell_type": "code",
   "execution_count": 2,
   "metadata": {},
   "outputs": [
    {
     "data": {
      "application/vnd.jupyter.widget-view+json": {
       "model_id": "b941a7a84d9c4d16a21bc1429ec22b6b",
       "version_major": 2,
       "version_minor": 0
      },
      "text/plain": [
       "  0%|          | 0/40 [00:00<?, ?it/s]"
      ]
     },
     "metadata": {},
     "output_type": "display_data"
    },
    {
     "name": "stdout",
     "output_type": "stream",
     "text": [
      "{\n",
      "    \"text\": \"Despite recent advances in renewable energy, global warming continues to pose a serious threat to our planet’s ecosystems and human populations alike. According to data from several environmental research groups, the average global temperature has risen by 1.1 degrees Celsius since the pre-industrial era. This increase in temperature is directly linked to the rise in greenhouse gases emitted by human activities, primarily from the burning of fossil fuels. Scientists warn that if significant reductions in CO2 emissions are not made soon, the consequences could include severe weather changes, loss of biodiversity, and detrimental health impacts for people worldwide.\",\n",
      "    \"summary\": \"Global warming remains a critical issue, as the average global temperature has increased by 1.1 degrees Celsius since the pre-industrial era, primarily due to greenhouse gas emissions from burning fossil fuels. Urgent action is required to reduce CO2 emissions to mitigate severe climatic changes, biodiversity loss, and adverse health effects.\"\n",
      "}\n",
      "{\n",
      "  \"text\": \"In recent years, there has been a significant shift in the way consumers shop, largely due to the advent of digital technology. Online shopping has exploded in popularity, offering convenience, a wider selection of goods, and often, better prices. This shift has been accelerated by the global pandemic, which forced many to reconsider their shopping habits. Brick-and-mortar stores have had to adapt, increasing their online presence or transforming their business models to survive. The rise of e-commerce has brought with it challenges such as increased competition, the need for robust digital marketing strategies, and issues related to shipping and logistics.\",\n",
      "  \"summary\": \"The recent surge in online shopping, fueled by digital technology and further accelerated by the global pandemic, has transformed consumer habits and forced traditional retail stores to adapt by enhancing their digital presence and modifying business strategies. This shift to e-commerce presents challenges including heightened competition, the necessity for strong digital marketing, and logistics issues.\"\n",
      "}\n",
      "{\n",
      "  \"text\": \"In recent years, there has been a significant increase in the popularity of plant-based diets. This shift towards vegetarian and vegan lifestyles is driven by a variety of factors including health concerns, ethical considerations regarding animal welfare, and awareness of the environmental impact of meat consumption. Research has shown that plant-based diets can lead to lower risks of heart disease, diabetes, and obesity. Additionally, the reduction in meat consumption is viewed as a crucial step towards reducing global greenhouse gas emissions, as the livestock sector is one of the major contributors to environmental degradation.\",\n",
      "  \"summary\": \"The rise in popularity of plant-based diets is attributed to health benefits, ethical concerns about animal welfare, and environmental impact awareness. Studies indicate these diets help reduce the risk of various diseases and contribute to lower global greenhouse gas emissions.\"\n",
      "}\n",
      "{\n",
      "    \"text\": \"Global warming refers to the long-term increase in Earth's average surface temperature due to human activities, primarily fossil fuel burning, which releases carbon dioxide and other greenhouse gases into the atmosphere. The main effects of global warming include a more frequent occurrence of extreme weather events, rising sea levels due to the melting of polar ice caps, and disruptions to ecosystems and wildlife.\",\n",
      "    \"summary\": \"Global warming is the rise in Earth's average surface temperature caused by human activities, particularly the emission of greenhouse gases from burning fossil fuels. This phenomenon leads to more extreme weather, rising sea levels, and disruptions in ecosystems and wildlife.\"\n",
      "}\n",
      "{\n",
      "  \"text\": \"The global financial crisis of 2008 was primarily triggered by a collapse in the housing market in the United States. Many financial institutions had invested heavily in subprime mortgages. When homeowners defaulted on these mortgages, it led to a series of bank failures and caused significant disruptions in financial markets worldwide. The crisis prompted widespread economic downturns in various countries and required substantial government interventions to stabilize the economy.\",\n",
      "  \"summary\": \"The 2008 global financial crisis originated from a collapse in the U.S. housing market, leading to bank failures and economic downturns worldwide, necessitating major government interventions.\"\n",
      "}\n",
      "{\n",
      "  \"text\": \"In the rapidly evolving tech industry, experts predict significant transformations over the next decade, driven by advancements in artificial intelligence, machine learning, and quantum computing. These technologies are expected to enhance productivity, automate routine tasks, and solve complex problems that are currently beyond human capabilities. The impact on the job market will be substantial, with new roles being created to manage and integrate these technologies into existing systems, while some traditional jobs may face redundancy. Education and training programs will need to adapt quickly to equip the workforce with the necessary skills to thrive in this new environment.\",\n",
      "  \"summary\": \"The tech industry is poised for major changes in the next decade due to advancements in artificial intelligence, machine learning, and quantum computing. These technologies will improve productivity, automate tasks, and address complex challenges. The job market will experience significant shifts with the emergence of new roles and the redundancy of some traditional jobs. Educational programs will need to evolve to prepare the workforce for these developments.\"\n",
      "}\n",
      "{\n",
      "  \"text\": \"The recent study published in the Journal of Climate Change highlights the significant impact of global warming on Arctic ice melt. The report analyzes data from various sources, including satellite imagery and ocean temperature readings, over the past 20 years. The findings indicate that Arctic ice is melting at a rate faster than previously projected, leading to higher sea levels and potential changes in global climate patterns. Additionally, the melting ice is impacting wildlife, particularly polar bears, which are facing habitat loss and reduced access to food sources.\",\n",
      "  \"summary\": \"A recent study reports that Arctic ice is melting faster than expected due to global warming, based on the last 20 years of data from sources like satellite imagery. This rapid melt is contributing to rising sea levels and could alter global climate patterns, while also negatively affecting wildlife such as polar bears.\"\n",
      "}\n",
      "{\n",
      "    \"text\": \"The concept of sustainable development has evolved significantly over the years, focusing on balancing economic growth, environmental protection, and social equity. Initially centered on environmental issues, the idea has expanded to include robust economic strategies and social inclusiveness to ensure that development meets the needs of the present without compromising the ability of future generations to meet their own needs. Today, sustainable development encompasses a wide range of activities and disciplines, from reducing carbon emissions and conserving resources to promoting fair trade and social justice.\",\n",
      "    \"summary\": \"Sustainable development has shifted from a purely environmental focus to a broader approach that includes economic growth and social equity, ensuring current and future generations can meet their needs. This holistic view incorporates efforts to reduce carbon emissions, conserve resources, and promote social justice.\"\n",
      "}\n",
      "{\n",
      "  \"text\": \"The rapid advancement of technology in the 21st century has significantly impacted the way we live, work, and communicate. Innovations such as artificial intelligence, machine learning, and blockchain are revolutionizing industries and creating new opportunities for economic growth. However, these changes also present challenges, including job displacement due to automation and privacy concerns related to data collection practices.\",\n",
      "  \"summary\": \"Technological advancements like AI, machine learning, and blockchain are transforming various industries and fueling economic growth, but they also bring challenges such as job displacement and privacy issues.\"\n",
      "}\n",
      "{\n",
      "    \"text\": \"The city council met yesterday to discuss the upcoming infrastructure project which aims to improve transportation efficiency and public services in the downtown areas. The members reviewed several proposals for road improvements, integration of smart traffic lights, and an increase in green spaces. Concerns were raised about the budget and the impact on local businesses during the construction phase. However, consensus was reached on initiating the project by next month, with a commitment to minimizing disruptions. Public forums will be organized to keep residents informed and involved in the process.\",\n",
      "    \"summary\": \"The city council agreed to initiate a new infrastructure project next month aimed at enhancing transportation and public services in downtown areas, despite concerns about budget and potential disruption to local businesses. The project includes road improvements, smart traffic lights, and more green spaces, with plans to involve the public through forums.\"\n",
      "}\n",
      "{\n",
      "  \"text\": \"Global climate change is increasingly recognized as a pressing issue, impacting ecosystems and populations across the world. Rising temperatures, more extreme weather events, and rising sea levels are some of the manifestations of this phenomenon. Efforts to combat climate change are varied, ranging from international agreements to reduce carbon emissions to local initiatives promoting sustainable practices.\",\n",
      "  \"summary\": \"Global climate change involves rising temperatures, extreme weather, and higher sea levels, affecting ecosystems worldwide. Efforts to mitigate its effects include international agreements and local sustainable initiatives.\"\n",
      "}\n",
      "{\n",
      "  \"text\": \"Recent trends in global trade have shifted significantly due to the influence of growing technological advancements and changing geopolitical climates. Countries are increasingly focusing on strengthening local industries and becoming less dependent on international supply chains, which has led to a rise in protectionist policies. On the other hand, advancements in technology such as blockchain and AI have streamlined trade processes, making them more efficient and transparent. This dual trend of localization and technological integration is shaping the future of how trade will be conducted worldwide.\",\n",
      "  \"summary\": \"Global trade is evolving as countries emphasize strengthening local industries and reducing reliance on international supply chains, partly due to rising protectionism. Concurrently, advancements in technology like blockchain and AI are enhancing the efficiency and transparency of trade processes, significantly influencing future trade practices.\"\n",
      "}\n",
      "{\n",
      "  \"text\": \"In the heart of the Amazon Rainforest, conservation efforts are being made to protect the diverse species that call it home. Teams of scientists and local communities are working together to combat deforestation and illegal logging, which threaten the habitat of numerous plants and animals. Educational programs are being implemented to raise awareness about the importance of biodiversity and the consequences of these destructive activities. Additionally, the introduction of sustainable practices among local farmers aims to reduce the negative impact on the forest while also providing economic benefits to the people.\",\n",
      "  \"summary\": \"Conservation efforts in the Amazon Rainforest involve collaboration between scientists and local communities to address deforestation and illegal logging through education and sustainable practices, aiming to protect biodiversity and provide economic benefits.\"\n",
      "}\n",
      "{\n",
      "  \"text\": \"In recent years, the global demand for renewable energy sources has significantly increased as governments and private sectors seek sustainable alternatives to fossil fuels. Solar power and wind energy, in particular, have seen tremendous growth due to technological advancements and greater environmental awareness. This shift towards renewable energy not only reduces carbon emissions but also creates numerous job opportunities in new industries, contributing to economic growth. Additionally, the adoption of renewables has prompted countries to reassess their energy policies and infrastructure, leading to increased investments in energy storage and grid modernization.\",\n",
      "  \"summary\": \"Global demand for renewable energy has surged, driven by the need for sustainable alternatives to fossil fuels. Solar and wind power are leading the growth, fueled by advancements in technology and increased environmental awareness. This shift is reducing carbon emissions, generating jobs, and prompting countries to invest in energy infrastructure improvements.\"\n",
      "}\n",
      "{\n",
      "  \"text\": \"The rise of electric vehicles (EVs) is transforming the automotive industry, driven by environmental concerns and technological advancements. Governments worldwide are implementing policies to promote the adoption of EVs, including tax incentives and investments in charging infrastructure. Consumers are increasingly considering EVs as viable alternatives to traditional combustion engine vehicles, due to their lower operating costs and reduced environmental impact. This shift is also influencing major car manufacturers to increase their investment in electric vehicle technology, which is expected to lead to further innovations and reductions in production costs over time.\",\n",
      "  \"summary\": \"Electric vehicles (EVs) are gaining popularity due to environmental concerns and technological advancements, with governments offering incentives and car manufacturers increasing their investment in EV technology. This is expected to result in more innovations and reduced costs in the future.\"\n",
      "}\n",
      "{\n",
      "  \"text\": \"In an effort to combat climate change, various nations around the globe have committed to reducing their carbon emissions significantly over the next decade. The strategies implemented include increasing the integration of renewable energy sources, enhancing energy efficiency in industrial processes, and promoting sustainable transportation options. International cooperation has been crucial in this initiative, with countries sharing technology and best practices to achieve a greener future.\",\n",
      "  \"summary\": \"Nations globally are adopting multiple strategies such as being more energy-efficient, using renewable energy, and promoting sustainable transportation to reduce carbon emissions and combat climate change, with significant international cooperation.\"\n",
      "}\n",
      "{\n",
      "  \"text\": \"Recent studies suggest that the impact of global warming on polar regions is more severe than previously anticipated. The melting of ice caps is leading to a significant rise in sea levels, which can result in various ecological imbalances. Furthermore, the loss of habitat for species such as polar bears and penguins is accelerating, and this could have long-term effects on the biodiversity of these areas. Researchers emphasize the need for immediate action to mitigate these effects and call for global cooperation to reduce greenhouse gas emissions.\",\n",
      "  \"summary\": \"Studies indicate that global warming is affecting polar regions more drastically than expected, with rapid ice cap melting causing sea level rises and ecological disruptions. The loss of habitat is threatening species like polar bears and penguins, highlighting the urgent need for global efforts to reduce emissions and protect biodiversity.\"\n",
      "}\n",
      "{\n",
      "  \"text\": \"Global warming is the long-term heating of Earth's climate system observed since the pre-industrial period (between 1850 and 1900) due to human activities, primarily fossil fuel burning, which increases heat-trapping greenhouse gas levels in Earth's atmosphere. This phenomenon has been measured and is acknowledged by the vast majority of the scientific community as a significant threat to the planet. The impacts of global warming are vast, including extreme weather events, rising sea levels, and disrupted ecosystems, leading to major social, economic, and environmental challenges.\",\n",
      "  \"summary\": \"Global warming refers to the sustained increase in Earth's climate temperature since the pre-industrial era, primarily due to the emission of greenhouse gases from burning fossil fuels. Recognized by most scientists as a major planetary threat, it results in severe weather conditions, rising sea levels, and ecological disturbances, posing socioeconomic and environmental challenges.\"\n",
      "}\n",
      "{\n",
      "  \"text\": \"In recent years, the global economy has faced numerous challenges, from fluctuating oil prices to geopolitical tensions that have disrupted trade routes. A key issue has been the rapid advancement of technology, which, while driving productivity, has also led to job displacement in traditional sectors such as manufacturing. Additionally, environmental concerns have forced industries to rethink their production processes and adopt more sustainable practices, which has increased costs in the short term but is expected to bring long-term benefits.\",\n",
      "  \"summary\": \"The global economy has been impacted by fluctuating oil prices, geopolitical tensions, technological advancements leading to job displacement, and increased environmental concerns prompting industries to adopt sustainable practices.\"\n",
      "}\n",
      "{\n",
      "  \"text\": \"Despite a growing economy, income inequality remains a significant concern in many parts of the world. As corporate profits soar, the wages of average workers have not kept pace, leading to a widening gap between the rich and the poor. This disparity not only affects economic stability but also contributes to social tensions and a feeling of injustice among the population. Experts argue that without effective policies aimed at redistributing wealth and creating more equal opportunities, the situation could lead to increased social unrest.\",\n",
      "  \"summary\": \"Income inequality persists globally despite economic growth, with a growing divide between the rich and the poor as average wages lag behind corporate profits. This disparity threatens economic stability and could lead to social unrest without intervention to redistribute wealth and provide equal opportunities.\"\n",
      "}\n",
      "{\n",
      "  \"text\": \"The evolution of consumer electronics has been driven largely by advances in technology and changing consumer demands. Over the past few decades, there has been a significant shift from bulky, inefficient devices to sleek, multifunctional gadgets. These advancements not only improve user experience but also have ecological implications. Innovations such as the integration of artificial intelligence and Internet of Things (IoT) connectivity have transformed everyday items like phones and refrigerators into highly interactive and personalized tools. This rapid progress in consumer electronics continues to shape new consumer behaviors, influencing how people interact with technology on a daily basis.\",\n",
      "  \"summary\": \"Consumer electronics have evolved from bulky devices to sleek, multifunctional gadgets due to technological advances and shifts in consumer demands, incorporating AI and IoT to improve interactivity and personalization, which influences daily technology interactions and has environmental impacts.\"\n",
      "}\n",
      "{\n",
      "  \"text\": \"In recent years, the acceleration of global warming has become more evident through various environmental changes. Rising sea levels, increased frequency of extreme weather events, and shifting wildlife populations are just a few indicators. Scientists attribute these changes to elevated levels of greenhouse gases in the atmosphere, primarily due to human activities such as deforestation, industrial emissions, and transportation. These activities release large amounts of carbon dioxide and other greenhouse gases, trapping more heat in the earth's atmosphere and leading to a warmer planet.\",\n",
      "  \"summary\": \"Global warming is intensifying, evident from rising sea levels, more frequent extreme weather events, and changing wildlife patterns. This escalation is largely due to increased greenhouse gases from human activities such as deforestation, industrial emissions, and transportation, which trap additional heat in the atmosphere.\"\n",
      "}\n",
      "{\n",
      "  \"text\": \"The global economy faces significant challenges amid ongoing geopolitical tensions and environmental concerns. As countries navigate these obstacles, collaboration and innovation have become paramount to securing a sustainable future. Governments and corporations are under increasing pressure to address climate change and resource scarcity, leading to a rise in green technologies and renewable energy initiatives. Additionally, trade policies and international relations are adapting to prioritize not only economic growth but also environmental protection and social equity.\",\n",
      "  \"summary\": \"The global economy is currently challenged by geopolitical tensions and environmental issues, prompting a shift towards sustainability through collaboration and innovation. This includes an emphasis on green technologies, renewable energy, and environmentally-conscious trade policies.\"\n",
      "}\n",
      "{\n",
      "  \"text\": \"Local governments across the globe are increasingly focusing on sustainability initiatives to combat the effects of climate change. These initiatives include transitioning to renewable energy sources, implementing stricter waste management protocols, and encouraging green building practices. Cities are also investing in public transportation to reduce the number of vehicles on the road, thereby decreasing carbon emissions. Additionally, many local bodies are promoting community gardens and green spaces to improve air quality and provide residents with access to fresh produce.\",\n",
      "  \"summary\": \"Global local governments are concentrating on sustainability initiatives to mitigate climate change effects, such as adopting renewable energy, enhancing waste management, and promoting green construction. Investments are also made in public transport and community green spaces to reduce emissions and improve urban air quality.\"\n",
      "}\n",
      "{\n",
      "  \"text\": \"The rising global temperatures are a critical concern for environmental scientists. With average temperatures increasing each year, the consequences include melting polar ice caps, rising sea levels, and more severe weather patterns. This rising trend is largely attributed to human activities, primarily the burning of fossil fuels like coal, oil, and natural gas, which releases significant amounts of greenhouse gases into the atmosphere. Environmentalists urge immediate action to switch to renewable energy sources such as wind, solar, and hydroelectric power to mitigate these effects and prevent catastrophic future outcomes.\",\n",
      "  \"summary\": \"Global warming, driven by human activities like the burning of fossil fuels, is causing severe environmental impacts including melting ice caps, rising sea levels, and extreme weather. Scientists advocate for a swift transition to renewable energy sources to reduce these effects and avoid disastrous consequences.\"\n",
      "}\n",
      "{\n",
      "  \"text\": \"The global financial landscape has been significantly impacted by the rise of cryptocurrency. Initially introduced as a decentralized alternative to traditional currencies, cryptocurrencies like Bitcoin, Ethereum, and others have seen staggering growth in both adoption and value. Financial institutions are now grappling with the integration of these digital assets into their existing frameworks while also facing regulatory challenges. The adoption of blockchain technology promises increased transparency and efficiency in financial transactions but also poses risks such as volatility and security vulnerabilities.\",\n",
      "  \"summary\": \"Cryptocurrencies like Bitcoin and Ethereum have transformed the global financial landscape, leading to increased adoption and challenging traditional financial institutions with integration and regulatory issues. Despite the potential for heightened transparency and efficiency via blockchain technology, significant risks like volatility and security concerns persist.\"\n",
      "}\n",
      "{\n",
      "  \"text\": \"Despite numerous challenges in the global economy, the tech industry has shown remarkable resilience. Companies across Silicon Valley are reporting higher-than-expected earnings, driven by strong demand for cloud computing services and artificial intelligence applications. This surge is leading to significant investments in R&D, with a focus on sustainable technology and improved cybersecurity measures. Experts predict that these investments will not only bolster companies' bottom lines but also pave the way for new innovations that could transform consumer electronics, data security, and eco-friendly technologies.\",\n",
      "  \"summary\": \"The tech industry remains strong amid global economic challenges, fueled by robust demand for cloud computing and AI applications. This has led to increased investments in R&D, focusing on sustainability and cybersecurity, potentially leading to transformative advancements in consumer electronics and eco-friendly technologies.\"\n",
      "}\n",
      "{\n",
      "    \"text\": \"Many business owners are transitioning their physical stores to online platforms in order to reach a broader audience and reduce operational costs. This shift has been facilitated by advances in e-commerce technology, which allows for streamlined operations, easier inventory management, and more personalized customer interactions.\",\n",
      "    \"summary\": \"Business owners are moving their physical stores online to expand their customer base and lower costs, using advanced e-commerce technology to simplify operations and enhance customer service.\"\n",
      "}\n",
      "{\n",
      "  \"text\": \"Climate change has profound effects on global environmental stability, impacting weather patterns, sea levels, and biodiversity. The continuous increase in atmospheric CO2, largely due to human activities such as deforestation and fossil fuel combustion, aggravates global warming. This warming leads to more frequent and severe weather events like hurricanes and droughts, altering ecosystems and threatening species with extinction. Rising sea levels result from melting polar ice caps and glaciers, endangering coastal communities and leading to economic and social disruptions. Mitigation strategies include transitioning to renewable energy sources, enforcing stricter emissions regulations, and enhancing green infrastructure to adapt and protect diverse ecosystems.\",\n",
      "  \"summary\": \"Climate change, driven by human activities like deforestation and fossil fuel usage, impacts weather patterns, increases sea levels, and threatens biodiversity. Global warming causes severe weather events and ecosystem changes. Mitigation involves adopting renewable energy, enforcing emission regulations, and improving green infrastructure.\"\n",
      "}\n",
      "{\n",
      "  \"text\": \"The global market has experienced significant fluctuations due to various geopolitical events. These shifts have impacted international trade and investment strategies, affecting economies worldwide. The recent trade agreements have attempted to stabilize the market, yet volatility remains a concern for investors. Analysts suggest that diversifying portfolios and considering emerging markets could be beneficial for mitigating risks associated with global economic uncertainty.\",\n",
      "  \"summary\": \"Recent geopolitical events have caused fluctuations in the global market, impacting international trade and economic stability. Analysts recommend portfolio diversification and investment in emerging markets to reduce risk.\"\n",
      "}\n",
      "{\n",
      "  \"text\": \"The economic landscape of the 21st century has been profoundly shaped by the advent of digital technology and globalization. The rise of the internet and mobile technology has transformed traditional industries and spawned new ones, leading to shifts in job markets and economic power balances both globally and locally. Additionally, globalization has facilitated the movement of goods, services, and labor across borders, resulting in increased competition and collaboration internationally.\",\n",
      "  \"summary\": \"The 21st century economic landscape has been significantly impacted by digital technology and globalization, leading to major changes in industries, job markets, and economic power balances worldwide.\"\n",
      "}\n",
      "{\n",
      "  \"text\": \"Recent studies have indicated that climate change is having a profound impact on the migration patterns of various bird species. Specifically, researchers have observed an earlier arrival of migratory birds to their breeding grounds and a delay in their departure. These shifts are attributed to changes in temperature and weather patterns influenced by global warming. Scientists predict that these changes could affect the reproductive success of birds by altering the availability of food sources and habitat conditions.\",\n",
      "  \"summary\": \"Climate change is impacting bird migration patterns, causing earlier arrivals and delayed departures to breeding grounds due to shifts in temperature and weather patterns, potentially affecting their reproductive success by changing food availability and habitat conditions.\"\n",
      "}\n",
      "{\n",
      "  \"text\": \"The latest report released by the Bureau of Labor Statistics indicates a significant uptick in employment across several sectors, with a notable 200,000 job additions in healthcare and technology alone. Furthermore, the report highlights wage growth, which has seen an average increase of 3% over the past quarter, signaling a positive shift in the economic landscape. Despite this growth, the unemployment rate has marginally increased to 5.2%, suggesting that while jobs are being created, there still remains a disparity in job availability and employment seekers.\",\n",
      "  \"summary\": \"The recent Bureau of Labor Statistics report shows an increase in employment in healthcare and technology by 200,000 jobs and a 3% wage growth, indicating economic improvement. However, the unemployment rate slightly rose to 5.2%, pointing out a continuing gap between job availability and job seekers.\"\n",
      "}\n",
      "{\n",
      "  \"text\": \"In the bustling city of New York, property prices have seen a sharp increase over the past decade. The demand for real estate in central locations is higher than ever, driven by a growing population and limited available space. This surge has particularly affected the housing market, making it increasingly difficult for new buyers to find affordable homes. Analysts predict that unless there are significant changes in zoning laws or a major increase in housing developments, prices will continue to rise, further exacerbating the affordability crisis.\",\n",
      "  \"summary\": \"Property prices in New York City have soared due to high demand and limited space, making it difficult for new buyers to find affordable homes. Analysts suggest that without changes in zoning laws or more housing developments, prices will keep rising and worsen the affordability crisis.\"\n",
      "}\n",
      "{\n",
      "    \"text\": \"Historically, the industrial revolution marked a significant shift in economic dynamics as factories started mass production of goods, significantly elevating production capacity and reducing manual labor dependency. This change led to rapid urbanization as people moved from rural areas to cities in search of work, consequently causing significant social and cultural shifts. Additionally, the revolution introduced new technologies and innovations that reshaped transportation, communication, and overall lifestyle.\",\n",
      "    \"summary\": \"The industrial revolution significantly increased goods production and reduced reliance on manual labor, leading to rapid urbanization and major social and cultural changes, as well as introducing pivotal advancements in transportation, communication, and lifestyle.\"\n",
      "}\n",
      "{\n",
      "    \"text\": \"The rapid increase in urban populations has placed significant pressure on city infrastructure and resources, leading to challenges such as traffic congestion, pollution, and inadequate public services. In response, many cities around the world are turning to smart city solutions, incorporating technology like IoT sensors and AI to manage everything from traffic patterns to energy consumption more efficiently. These innovations not only aim to enhance the quality of life for residents but also strive to make cities more sustainable and resilient to environmental challenges.\",\n",
      "    \"summary\": \"Urban population growth is stressing city resources, prompting a shift towards smart city solutions that use IoT sensors and AI to improve infrastructure efficiency, enhance quality of life, and promote sustainability.\"\n",
      "}\n",
      "{\n",
      "  \"text\": \"Recent studies have shown a significant increase in the use of renewable energy sources worldwide. As of this year, solar and wind energy account for about 30% of global power production, a marked rise from just 10% a decade ago. This shift is largely driven by advancements in technology, reduced costs, and increased awareness of environmental issues. Governments and private sectors are both stepping up their efforts to integrate more renewables into their energy mix, spurred by international accords and the pressing need to address climate change.\",\n",
      "  \"summary\": \"Global utilization of renewable energy, particularly solar and wind, has substantially increased, now accounting for 30% of total power production due to technological advances, cost reductions, and heightened environmental awareness. Enhanced commitment from both governments and private sectors is further accelerating this trend.\"\n",
      "}\n",
      "{\n",
      "  \"text\": \"A recent study reveals that a diet rich in fiber and whole grains could considerably reduce the risk of chronic diseases such as Type 2 diabetes and heart disease. Researchers followed participants over a decade, documenting their dietary habits and health outcomes. The study found that those who consumed the highest amounts of fiber had a significantly lower incidence of both conditions compared to those with the lowest fiber intake.\",\n",
      "  \"summary\": \"A long-term study indicates that high fiber and whole grain diets significantly lower the risk of chronic diseases like Type 2 diabetes and heart disease.\"\n",
      "}\n",
      "{\n",
      "  \"text\": \"A recent study involving over 5,000 participants across various demographics has shown a significant correlation between the consumption of high-sugar diets and increased rates of type 2 diabetes. Researchers observed that individuals who consistently consumed large quantities of sugary foods and beverages were approximately 30% more likely to develop diabetes than those who maintained a low-sugar diet. The study also highlighted that moderate exercise could mitigate some of the risks, suggesting that physical activity should be part of a comprehensive approach to preventing this disease.\",\n",
      "  \"summary\": \"A study found that consuming high-sugar diets significantly increases the risk of developing type 2 diabetes by 30%. However, moderate exercise may reduce some of these risks, indicating the importance of physical activity in disease prevention.\"\n",
      "}\n",
      "{\n",
      "  \"text\": \"In recent years, the tech industry has seen a significant shift towards green technology. Companies across the globe are investing in sustainable practices to reduce their carbon footprint. This includes adopting renewable energy sources, utilizing more energy-efficient technologies, and striving for zero waste operations. These changes not only help the environment but also improve the corporate image and lead to cost savings in the long run. Many experts believe that this trend will continue to grow, influencing more sectors to take similar sustainable actions.\",\n",
      "  \"summary\": \"The tech industry is increasingly adopting green technologies, investing in sustainable practices like renewable energy and energy-efficient technologies to reduce carbon footprints, improve corporate images, and achieve long-term cost savings. This trend is expected to expand and influence other sectors.\"\n",
      "}\n"
     ]
    },
    {
     "data": {
      "text/plain": [
       "[{'text': 'Despite recent advances in renewable energy, global warming continues to pose a serious threat to our planet’s ecosystems and human populations alike. According to data from several environmental research groups, the average global temperature has risen by 1.1 degrees Celsius since the pre-industrial era. This increase in temperature is directly linked to the rise in greenhouse gases emitted by human activities, primarily from the burning of fossil fuels. Scientists warn that if significant reductions in CO2 emissions are not made soon, the consequences could include severe weather changes, loss of biodiversity, and detrimental health impacts for people worldwide.',\n",
       "  'summary': 'Global warming remains a critical issue, as the average global temperature has increased by 1.1 degrees Celsius since the pre-industrial era, primarily due to greenhouse gas emissions from burning fossil fuels. Urgent action is required to reduce CO2 emissions to mitigate severe climatic changes, biodiversity loss, and adverse health effects.'},\n",
       " {'text': 'In recent years, there has been a significant shift in the way consumers shop, largely due to the advent of digital technology. Online shopping has exploded in popularity, offering convenience, a wider selection of goods, and often, better prices. This shift has been accelerated by the global pandemic, which forced many to reconsider their shopping habits. Brick-and-mortar stores have had to adapt, increasing their online presence or transforming their business models to survive. The rise of e-commerce has brought with it challenges such as increased competition, the need for robust digital marketing strategies, and issues related to shipping and logistics.',\n",
       "  'summary': 'The recent surge in online shopping, fueled by digital technology and further accelerated by the global pandemic, has transformed consumer habits and forced traditional retail stores to adapt by enhancing their digital presence and modifying business strategies. This shift to e-commerce presents challenges including heightened competition, the necessity for strong digital marketing, and logistics issues.'},\n",
       " {'text': 'In recent years, there has been a significant increase in the popularity of plant-based diets. This shift towards vegetarian and vegan lifestyles is driven by a variety of factors including health concerns, ethical considerations regarding animal welfare, and awareness of the environmental impact of meat consumption. Research has shown that plant-based diets can lead to lower risks of heart disease, diabetes, and obesity. Additionally, the reduction in meat consumption is viewed as a crucial step towards reducing global greenhouse gas emissions, as the livestock sector is one of the major contributors to environmental degradation.',\n",
       "  'summary': 'The rise in popularity of plant-based diets is attributed to health benefits, ethical concerns about animal welfare, and environmental impact awareness. Studies indicate these diets help reduce the risk of various diseases and contribute to lower global greenhouse gas emissions.'},\n",
       " {'text': \"Global warming refers to the long-term increase in Earth's average surface temperature due to human activities, primarily fossil fuel burning, which releases carbon dioxide and other greenhouse gases into the atmosphere. The main effects of global warming include a more frequent occurrence of extreme weather events, rising sea levels due to the melting of polar ice caps, and disruptions to ecosystems and wildlife.\",\n",
       "  'summary': \"Global warming is the rise in Earth's average surface temperature caused by human activities, particularly the emission of greenhouse gases from burning fossil fuels. This phenomenon leads to more extreme weather, rising sea levels, and disruptions in ecosystems and wildlife.\"},\n",
       " {'text': 'The global financial crisis of 2008 was primarily triggered by a collapse in the housing market in the United States. Many financial institutions had invested heavily in subprime mortgages. When homeowners defaulted on these mortgages, it led to a series of bank failures and caused significant disruptions in financial markets worldwide. The crisis prompted widespread economic downturns in various countries and required substantial government interventions to stabilize the economy.',\n",
       "  'summary': 'The 2008 global financial crisis originated from a collapse in the U.S. housing market, leading to bank failures and economic downturns worldwide, necessitating major government interventions.'}]"
      ]
     },
     "execution_count": 2,
     "metadata": {},
     "output_type": "execute_result"
    }
   ],
   "source": [
    "# Generate a question and answer pair using a language model\n",
    "def generate_synthetic_data(sample_size = 40):\n",
    "    # Check if the synthetic data already exists\n",
    "    SYNTHETIC_DATA_FILEPATH = \"synthetic_summarization_dataset.json\"\n",
    "    if os.path.exists(SYNTHETIC_DATA_FILEPATH):\n",
    "        # Reading saved data\n",
    "        with open(SYNTHETIC_DATA_FILEPATH, \"r\") as f:\n",
    "            text_summary_pairs = eval(f.read())\n",
    "        return text_summary_pairs\n",
    "\n",
    "    def generate_synthetic_datapoint():\n",
    "        prompt_template = \"\"\"You are a helpful assistant designed to generate synthetic text-summary pairs for the prompt: {CHOSEN_PROMPT}.\n",
    "\n",
    "    Please generate synthetic data for the summarization prompt. Response with a JSON object with \"text\" and \"summary\" keys. The values must both be string values.\n",
    "\n",
    "    Take a deep breath and think step-by-step. Respond with only the JSON object!\n",
    "    \"\"\"\n",
    "        response = client.chat.completions.create(\n",
    "            model=\"gpt-4-turbo\",\n",
    "            messages=[\n",
    "                {\"role\": \"user\", \"content\": prompt_template.format(CHOSEN_PROMPT=CHOSEN_PROMPT)},\n",
    "            ],\n",
    "            temperature=1.0,\n",
    "            response_format={\"type\": \"json_object\"}\n",
    "            ).choices[0].message.content\n",
    "        print(response)\n",
    "        return eval(response)\n",
    "\n",
    "    text_summary_pairs = []\n",
    "\n",
    "    # Generating synthetic data\n",
    "    pbar = tqdm(total=sample_size)\n",
    "    while len(text_summary_pairs) < sample_size:\n",
    "        try:\n",
    "            data_pair = generate_synthetic_datapoint()\n",
    "            text_summary_pairs.append(data_pair)\n",
    "            pbar.update(1)\n",
    "        except Exception as e:\n",
    "            print(e)\n",
    "    pbar.close()\n",
    "\n",
    "    # Saving to file\n",
    "    with open(SYNTHETIC_DATA_FILEPATH, \"w\") as f:\n",
    "        f.write(str(text_summary_pairs))\n",
    "\n",
    "    return text_summary_pairs\n",
    "\n",
    "synthetic_data = generate_synthetic_data()\n",
    "synthetic_data[:5]"
   ]
  },
  {
   "cell_type": "code",
   "execution_count": 3,
   "metadata": {},
   "outputs": [
    {
     "data": {
      "text/plain": [
       "(10, 30)"
      ]
     },
     "execution_count": 3,
     "metadata": {},
     "output_type": "execute_result"
    }
   ],
   "source": [
    "TRAINING_SAMPLE_SIZE = 10\n",
    "TESTING_SAMPLE_SIZE = 30\n",
    "\n",
    "training_sample = synthetic_data[:TRAINING_SAMPLE_SIZE]\n",
    "\n",
    "testing_sample = synthetic_data[TRAINING_SAMPLE_SIZE:TRAINING_SAMPLE_SIZE+TESTING_SAMPLE_SIZE]\n",
    "\n",
    "# Checking if the lists are parallel, i.e. the question and answer at the same index are related\n",
    "len(training_sample), len(testing_sample)"
   ]
  },
  {
   "cell_type": "markdown",
   "metadata": {},
   "source": [
    "### Optimize Prompt on Synthetic Data"
   ]
  },
  {
   "cell_type": "code",
   "execution_count": 4,
   "metadata": {},
   "outputs": [],
   "source": [
    "# Scoring the instruction using the sample\n",
    "def opt_llm(prompt_score_pairs):\n",
    "    has_correct_keywords = lambda prompt: re.findall(r'{(.*?)}', prompt) == ['TEXT']\n",
    "    # Format the instruction and score pairs into a string\n",
    "    pairs_str = \"\"\n",
    "    for ins, score in prompt_score_pairs.items():\n",
    "        pairs_str += f\"text:\\n{ins}\\nscore:\\n{score:.2f}\\n\\n\"\n",
    "\n",
    "    # prompt = \"\"\"Below is the set of optimization...\n",
    "\n",
    "    # Following is the better prompt..\n",
    "\n",
    "    # TODO: Remove 1st/2nd person narrative.\n",
    "\n",
    "    \n",
    "    # \"\"\"\n",
    "\n",
    "    prompt = \"\"\"You are an optimization expert. The user has some texts along with their corresponding scores.\n",
    "Your task is to generate a new piece of text that scores as high as possible. \n",
    "Generate the new unique text only, not its corresponding score.\n",
    "\n",
    "Here are some texts along with their corresponding scores. The texts are arranged in ascending order\n",
    "based on their scores, where higher scores indicate better quality.\n",
    "\n",
    "{pairs_str}\n",
    "\n",
    "Write your new text that is different from the old ones and has a score as high as possible.\n",
    "Generate the new unique text only, not its corresponding score.\n",
    "New instruction:\n",
    "\"\"\"\n",
    "    response = \"\"\n",
    "    while not has_correct_keywords(response):\n",
    "        response = response = client.chat.completions.create(\n",
    "            model=\"gpt-4-turbo\",\n",
    "            messages=[\n",
    "                {\"role\": \"user\", \"content\": prompt.format(pairs_str=pairs_str)},\n",
    "            ],\n",
    "            temperature=1.0,\n",
    "            ).choices[0].message.content\n",
    "    return response\n",
    "\n",
    "\n",
    "def score(prompt, sample):\n",
    "    \"\"\"\n",
    "    Score the instruction using the sample.\n",
    "\n",
    "    Args:\n",
    "    instruction: str\n",
    "    sample: Dataset with \"question\" and \"answer\" as keys\n",
    "\n",
    "    Returns:\n",
    "    accuracy: float\n",
    "    \"\"\"\n",
    "    accuracy = 0\n",
    "    with tqdm(sample, desc=prompt, position=1, leave=False) as pbar:\n",
    "        for idx, data_pair in enumerate(pbar):\n",
    "            res = client.chat.completions.create(\n",
    "                model=\"gpt-4-turbo\",\n",
    "                messages=[\n",
    "                    {\"role\": \"user\", \"content\": prompt.format(TEXT=data_pair[\"text\"])},\n",
    "                ],\n",
    "                temperature=0.0,\n",
    "                ).choices[0].message.content\n",
    "            # Heuristic for detecting correctness\n",
    "            accuracy += score_rouge(res, data_pair[\"summary\"])\n",
    "            pbar.set_postfix({\"Accuracy\": f\"{accuracy / (idx + 1):.2f}\"})\n",
    "\n",
    "    return accuracy / len(sample) * 100"
   ]
  },
  {
   "cell_type": "code",
   "execution_count": 5,
   "metadata": {},
   "outputs": [
    {
     "data": {
      "text/plain": [
       "['Please summarize the following text: {TEXT}',\n",
       " 'Please summarize the following text: {TEXT}. Think step by step.',\n",
       " 'Please summarize the following text: {TEXT}. Take a deep breath.',\n",
       " 'Please summarize the following text: {TEXT}. Be concise and clear.',\n",
       " 'Please summarize the following text: {TEXT}. You are a summarization expert.',\n",
       " 'Please summarize the following text: {TEXT}. Explain your answer in simple terms.',\n",
       " 'Please summarize the following text: {TEXT}. You are a helpful assistant.',\n",
       " '#### Instruction ####\\n\\nSummarize the following text:\\n\\n#### Input ####\\n\\n{TEXT}\\n\\n#### Expected Response Format ####\\n\\n[Your summary]',\n",
       " '**Instruction**: Summarize the following text:\\n\\n**{TEXT}**\\n\\n**Example:**\\n\\n* Summarize the following text:\\n> The United States is a large country with a diverse population. It is made up of 50 states, each with its own unique culture and history. The United States is a global superpower and has a significant influence on world affairs.\\n\\n### Answer: ###\\n* The United States is a large, diverse country with 50 states, each with its own unique culture and history. As a global superpower, the United States exerts significant influence on world affairs.\\n\\n**Additional Instructions:**\\n\\n* Please ensure that your summary captures the key points of the text.\\n* Use clear and concise language.\\n* You MUST adhere to the specified word limit.\\n* You will be penalized if your summary is not responsive to the text.',\n",
       " \"###Instruction###\\n\\nSummarize the following text:\\n\\n###Input###\\n{TEXT}\\n\\n###Your task is###\\n\\nGenerate a concise and accurate summary of the input text.\\n\\n###You MUST###\\n\\n* Write in clear and concise language.\\n* Cover all the main points of the text.\\n* Keep the summary within 500 words.\\n\\n###You will be penalized if###\\n\\n* Your summary is incomplete or inaccurate.\\n* Your summary exceeds the 500-word limit.\\n\\n###Answer in a natural, human-like manner###\\n\\nPretend you are a highly skilled human summarizing the text.\\n\\n###Example###\\n* **QUESTION:** Summarize the following text:\\n{{EXAMPLE TEXT}}\\n* **SUMMARY:** {{EXAMPLE SUMMARY}}\\n\\n###TIP###\\nI'm going to tip $5 for a better summary!\",\n",
       " '###Instruction###\\nYour task is to summarize the following text:\\n\\n\\n###Example###\\n{TEXT}\\n\\n\\nYou MUST answer in a natural, human-like manner. You will be penalized for not following these instructions.\\n###Question###\\n{TEXT}',\n",
       " '###Instruction###\\nProvide a concise summary of the following text:\\n{TEXT}\\n###Example###\\nInput: Here is the provided request: \"Summarize this research paper: Effects of Climate Change on Marine Ecosystems\"\\nOutput: Marine ecosystems face significant threats from climate change, including rising sea temperatures, ocean acidification, and altered weather patterns. These changes disrupt ecological balances, leading to loss of biodiversity, shifts in species distribution, and reduced productivity.\\n###Question###\\nYour task is to generate a concise and informative summary of the provided text. Ensure your response is clear, concise, and free from errors. You MUST adhere to the formatting guidelines and provide a single cohesive summary. If you fail to meet these requirements, you will be penalized.\\nAnswer in a natural, human-like manner and ensure your response is comprehensive and covers the main points of the provided text.']"
      ]
     },
     "execution_count": 5,
     "metadata": {},
     "output_type": "execute_result"
    }
   ],
   "source": [
    "SEED_PROMPTS = [\n",
    "CHOSEN_PROMPT,\n",
    "f\"{CHOSEN_PROMPT}. Think step by step.\",\n",
    "f\"{CHOSEN_PROMPT}. Take a deep breath.\",\n",
    "f\"{CHOSEN_PROMPT}. Be concise and clear.\",\n",
    "f\"{CHOSEN_PROMPT}. You are a summarization expert.\",\n",
    "f\"{CHOSEN_PROMPT}. Explain your answer in simple terms.\",\n",
    "f\"{CHOSEN_PROMPT}. You are a helpful assistant.\",\n",
    "# Prompt1 from Suggest Prompt\n",
    "\"\"\"#### Instruction ####\n",
    "\n",
    "Summarize the following text:\n",
    "\n",
    "#### Input ####\n",
    "\n",
    "{TEXT}\n",
    "\n",
    "#### Expected Response Format ####\n",
    "\n",
    "[Your summary]\"\"\",\n",
    "# Prompt2 from Suggest Prompt\n",
    "\"\"\"**Instruction**: Summarize the following text:\n",
    "\n",
    "**{TEXT}**\n",
    "\n",
    "**Example:**\n",
    "\n",
    "* Summarize the following text:\n",
    "> The United States is a large country with a diverse population. It is made up of 50 states, each with its own unique culture and history. The United States is a global superpower and has a significant influence on world affairs.\n",
    "\n",
    "### Answer: ###\n",
    "* The United States is a large, diverse country with 50 states, each with its own unique culture and history. As a global superpower, the United States exerts significant influence on world affairs.\n",
    "\n",
    "**Additional Instructions:**\n",
    "\n",
    "* Please ensure that your summary captures the key points of the text.\n",
    "* Use clear and concise language.\n",
    "* You MUST adhere to the specified word limit.\n",
    "* You will be penalized if your summary is not responsive to the text.\"\"\",\n",
    "# Prompt3 from Suggest Prompt\n",
    "\"\"\"###Instruction###\n",
    "\n",
    "Summarize the following text:\n",
    "\n",
    "###Input###\n",
    "{TEXT}\n",
    "\n",
    "###Your task is###\n",
    "\n",
    "Generate a concise and accurate summary of the input text.\n",
    "\n",
    "###You MUST###\n",
    "\n",
    "* Write in clear and concise language.\n",
    "* Cover all the main points of the text.\n",
    "* Keep the summary within 500 words.\n",
    "\n",
    "###You will be penalized if###\n",
    "\n",
    "* Your summary is incomplete or inaccurate.\n",
    "* Your summary exceeds the 500-word limit.\n",
    "\n",
    "###Answer in a natural, human-like manner###\n",
    "\n",
    "Pretend you are a highly skilled human summarizing the text.\n",
    "\n",
    "###Example###\n",
    "* **QUESTION:** Summarize the following text:\n",
    "{{EXAMPLE TEXT}}\n",
    "* **SUMMARY:** {{EXAMPLE SUMMARY}}\n",
    "\n",
    "###TIP###\n",
    "I'm going to tip $5 for a better summary!\"\"\",\n",
    "# Prompt4 from Suggest Prompt\n",
    "\"\"\"###Instruction###\n",
    "Your task is to summarize the following text:\n",
    "\n",
    "\n",
    "###Example###\n",
    "{TEXT}\n",
    "\n",
    "\n",
    "You MUST answer in a natural, human-like manner. You will be penalized for not following these instructions.\n",
    "###Question###\n",
    "{TEXT}\"\"\",\n",
    "# Prompt5 from Suggest Prompt\n",
    "\"\"\"###Instruction###\n",
    "Provide a concise summary of the following text:\n",
    "{TEXT}\n",
    "###Example###\n",
    "Input: Here is the provided request: \\\"Summarize this research paper: Effects of Climate Change on Marine Ecosystems\\\"\n",
    "Output: Marine ecosystems face significant threats from climate change, including rising sea temperatures, ocean acidification, and altered weather patterns. These changes disrupt ecological balances, leading to loss of biodiversity, shifts in species distribution, and reduced productivity.\n",
    "###Question###\n",
    "Your task is to generate a concise and informative summary of the provided text. Ensure your response is clear, concise, and free from errors. You MUST adhere to the formatting guidelines and provide a single cohesive summary. If you fail to meet these requirements, you will be penalized.\n",
    "Answer in a natural, human-like manner and ensure your response is comprehensive and covers the main points of the provided text.\"\"\",\n",
    "]\n",
    "\n",
    "SEED_PROMPTS"
   ]
  },
  {
   "cell_type": "code",
   "execution_count": 6,
   "metadata": {},
   "outputs": [
    {
     "data": {
      "application/vnd.jupyter.widget-view+json": {
       "model_id": "28d411256d38417f97b416df0e352ce4",
       "version_major": 2,
       "version_minor": 0
      },
      "text/plain": [
       "Scoring:   0%|          | 0/12 [00:00<?, ?it/s]"
      ]
     },
     "metadata": {},
     "output_type": "display_data"
    },
    {
     "data": {
      "application/vnd.jupyter.widget-view+json": {
       "model_id": "84430ededb474da5a7da5b43af6b16bd",
       "version_major": 2,
       "version_minor": 0
      },
      "text/plain": [
       "Please summarize the following text: {TEXT}:   0%|          | 0/10 [00:00<?, ?it/s]"
      ]
     },
     "metadata": {},
     "output_type": "display_data"
    },
    {
     "data": {
      "application/vnd.jupyter.widget-view+json": {
       "model_id": "e2a3c35e32c24be99061f1d8b68530dc",
       "version_major": 2,
       "version_minor": 0
      },
      "text/plain": [
       "Please summarize the following text: {TEXT}. Think step by step.:   0%|          | 0/10 [00:00<?, ?it/s]"
      ]
     },
     "metadata": {},
     "output_type": "display_data"
    },
    {
     "data": {
      "application/vnd.jupyter.widget-view+json": {
       "model_id": "b39c0709151745d6b2990bb914602074",
       "version_major": 2,
       "version_minor": 0
      },
      "text/plain": [
       "Please summarize the following text: {TEXT}. Take a deep breath.:   0%|          | 0/10 [00:00<?, ?it/s]"
      ]
     },
     "metadata": {},
     "output_type": "display_data"
    },
    {
     "data": {
      "application/vnd.jupyter.widget-view+json": {
       "model_id": "283260559a5c410a94b8317d8c6b519f",
       "version_major": 2,
       "version_minor": 0
      },
      "text/plain": [
       "Please summarize the following text: {TEXT}. Be concise and clear.:   0%|          | 0/10 [00:00<?, ?it/s]"
      ]
     },
     "metadata": {},
     "output_type": "display_data"
    },
    {
     "data": {
      "application/vnd.jupyter.widget-view+json": {
       "model_id": "af451c702d034b52b3d3723e69ba6fbf",
       "version_major": 2,
       "version_minor": 0
      },
      "text/plain": [
       "Please summarize the following text: {TEXT}. You are a summarization expert.:   0%|          | 0/10 [00:00<?, …"
      ]
     },
     "metadata": {},
     "output_type": "display_data"
    },
    {
     "data": {
      "application/vnd.jupyter.widget-view+json": {
       "model_id": "747dfeef95d84c549c4118854018dbb1",
       "version_major": 2,
       "version_minor": 0
      },
      "text/plain": [
       "Please summarize the following text: {TEXT}. Explain your answer in simple terms.:   0%|          | 0/10 [00:0…"
      ]
     },
     "metadata": {},
     "output_type": "display_data"
    },
    {
     "data": {
      "application/vnd.jupyter.widget-view+json": {
       "model_id": "91fe7a1f76c74fa1b36923faba3984e3",
       "version_major": 2,
       "version_minor": 0
      },
      "text/plain": [
       "Please summarize the following text: {TEXT}. You are a helpful assistant.:   0%|          | 0/10 [00:00<?, ?it…"
      ]
     },
     "metadata": {},
     "output_type": "display_data"
    },
    {
     "data": {
      "application/vnd.jupyter.widget-view+json": {
       "model_id": "e0794a2d33a3491eaba37118611c73f8",
       "version_major": 2,
       "version_minor": 0
      },
      "text/plain": [
       "#### Instruction ####\n",
       "\n",
       "Summarize the following text:\n",
       "\n",
       "#### Input ####\n",
       "\n",
       "{TEXT}\n",
       "\n",
       "#### Expected Response Format #…"
      ]
     },
     "metadata": {},
     "output_type": "display_data"
    },
    {
     "data": {
      "application/vnd.jupyter.widget-view+json": {
       "model_id": "9dc7dee901334ec29f32f13d773de2e5",
       "version_major": 2,
       "version_minor": 0
      },
      "text/plain": [
       "**Instruction**: Summarize the following text:\n",
       "\n",
       "**{TEXT}**\n",
       "\n",
       "**Example:**\n",
       "\n",
       "* Summarize the following text:\n",
       "> Th…"
      ]
     },
     "metadata": {},
     "output_type": "display_data"
    },
    {
     "data": {
      "application/vnd.jupyter.widget-view+json": {
       "model_id": "c61fdff6d7f64831b2f1dbef418fdb4c",
       "version_major": 2,
       "version_minor": 0
      },
      "text/plain": [
       "###Instruction###\n",
       "\n",
       "Summarize the following text:\n",
       "\n",
       "###Input###\n",
       "{TEXT}\n",
       "\n",
       "###Your task is###\n",
       "\n",
       "Generate a concise a…"
      ]
     },
     "metadata": {},
     "output_type": "display_data"
    },
    {
     "data": {
      "application/vnd.jupyter.widget-view+json": {
       "model_id": "89f2aa367dd147d8b118a98f6866759a",
       "version_major": 2,
       "version_minor": 0
      },
      "text/plain": [
       "###Instruction###\n",
       "Your task is to summarize the following text:\n",
       "\n",
       "\n",
       "###Example###\n",
       "{TEXT}\n",
       "\n",
       "\n",
       "You MUST answer in a …"
      ]
     },
     "metadata": {},
     "output_type": "display_data"
    },
    {
     "data": {
      "application/vnd.jupyter.widget-view+json": {
       "model_id": "464ad7e054c748c5bab1a59e9d835b1c",
       "version_major": 2,
       "version_minor": 0
      },
      "text/plain": [
       "###Instruction###\n",
       "Provide a concise summary of the following text:\n",
       "{TEXT}\n",
       "###Example###\n",
       "Input: Here is the pro…"
      ]
     },
     "metadata": {},
     "output_type": "display_data"
    },
    {
     "name": "stdout",
     "output_type": "stream",
     "text": [
      "Step 1\n"
     ]
    },
    {
     "data": {
      "application/vnd.jupyter.widget-view+json": {
       "model_id": "f075b11be69f4c3993d06f171670188c",
       "version_major": 2,
       "version_minor": 0
      },
      "text/plain": [
       "Optimizing:   0%|          | 0/8 [00:00<?, ?it/s]"
      ]
     },
     "metadata": {},
     "output_type": "display_data"
    },
    {
     "name": "stdout",
     "output_type": "stream",
     "text": [
      "['### Guideline ###\\n\\n#### Task ####\\n\\nEfficiently summarize the following content:\\n\\n#### Content Details ####\\n\\n{TEXT}\\n\\n#### Instructions for Summary ####\\n\\n**Your objective** is to deliver a summary that is both succinct and representative of the main ideas in the text.\\n\\n**Requirements:**\\n\\n- Utilize clear and precise language to express the key concepts.\\n- Ensure the summary does not exceed 300 words.\\n- Highlight significant points without altering the original intent of the text.\\n\\n#### Desired Outcome ####\\n\\nA comprehensive yet brief encapsulation that provides a clear understanding of the text\\'s core themes and conclusions.\\n\\n#### Example ####\\n\\n**TEXT:** \"The global economy is increasingly interconnected, with vast networks facilitating trade and communication across countries. These networks, while beneficial, also pose systemic risks as problems in one area can quickly spread to others.\"\\n\\n**SUMMARY:** \"The global economy is characterized by its interconnectivity, enabling extensive trade and communication. However, this interdependence also creates systemic risks, as issues in one region can rapidly affect others.\"\\n\\n### Note ###\\n\\nPlease ensure the summary adheres to the specified guidelines, capturing the essence of the text while maintaining brevity and clarity. Failing to meet these standards will affect the evaluation of your summary.', '### Summary Task Guidelines ###\\n\\n#### Objective ####\\n\\nProvide an eloquent and succinct summary of the text below.\\n\\n#### Text to Summarize ####\\n\\n{TEXT}\\n\\n#### Requirements ####\\n\\n* Your summary should encapsulate all critical points of the text while being precise and coherent.\\n* Maintain a professional tone and ensure that your summary reflects a deep understanding of the text.\\n* Your response should not exceed 250 words. Be mindful of clarity and brevity.\\n\\n#### Output ####\\n\\nCompose your summary in a clear, logical, and articulate manner. Ensure your answer is focused and free from superfluous details.\\n\\n#### Expectation ####\\n\\nAccuracy and conciseness will be valued; deviations from the core information will affect the efficacy of your summary.\\n\\n#### Example ####\\n  \\n**Text:**  \\n\"The economy experiences cycles of growth and recession due to various factors including market trends, government policy, and international events. Understanding these cycles helps predict future economic conditions.\"\\n\\n**Summary:**  \\n\"Economic cycles of growth and recession are influenced by market trends, government policies, and global events, crucial for predicting future economic scenarios.\"\\n\\nThis format is designed to encourage precision and depth in your summarization.', '**Guidelines for Summary**\\n\\n### Task Overview ###\\n\\nCondense the provided text:\\n\\n#### Content Provided ####\\n{TEXT}\\n\\n#### Objectives ####\\n\\n- Your summary should be concise yet thorough.\\n- Include all critical elements from the text.\\n- Express the core message in simple, straightforward language.\\n\\n#### Constraints ####\\n\\n- The summary must not exceed 250 words.\\n- Avoid any superfluous information.\\n- Ensure grammatical accuracy and clarity in your response.\\n\\n#### What You Need to Achieve ####\\n\\nA clear and succinct summary that encapsulates the essence of the text, demonstrating both understanding and ability to prioritize the key points.\\n\\n##### Example #####\\n\\n**To Summarize:** \"Global trends in renewable energy investment show a significant shift towards solar and wind energy, driven by dropping costs and increased policy support from governments worldwide.\"\\n\\n**Summary:** \"Renewable energy investments globally are increasingly favoring solar and wind technologies, influenced by their reducing costs and enhanced governmental support.\"\\n\\n#### Essential Note ####\\n\\nSummarize with precision and ensure you adhere closely to the guidelines provided. Your summary should reflect a professional level of summarization competency, comprehensive understanding, and effective communication.', '**Guidance for Summarization**\\n\\n#### Objective ####\\n\\nSummarize the provided text efficiently and accurately.\\n\\n#### Text to Summarize ####\\n\\n{TEXT}\\n\\n#### Requirements ####\\n\\n- Craft a summary that is precise and straightforward.\\n- Focus on extrapolating the core ideas and major themes from the text.\\n- Limit your summary to under 300 words to maintain conciseness.\\n- Use clear and professional language.\\n\\n#### Constraints ####\\n\\n- Ensure the summary does not diverge from the original text\\'s meanings.\\n- Avoid any form of redundancy or repetitive points.\\n- Make sure to summarize in a manner that could be understood by someone unfamiliar with the topic.\\n\\n#### Example ####\\n\\n**Text**: \"Today\\'s market trends show a significant shift towards sustainable energy solutions with solar energy leading the forefront. Companies worldwide are investing more in green technologies to meet global energy demands.\"\\n\\n**Summary**: \"Global market trends indicate a prevalent shift towards sustainable energy, predominantly solar power, as companies invest in green technologies to satisfy international energy needs.\"\\n\\n#### Compliance Reminder ####\\n\\nFailure to adhere to the guidelines or meet the outlined constraints will impact the effectiveness and accuracy of your summary.', \"#### Instruction ####\\n\\nSummarize the given content:\\n\\n#### Text to Summarize ####\\n\\n{TEXT}\\n\\n#### Summary Guidelines ####\\n\\n* Create a succinct and comprehensive summary of the text.\\n* Use precise and straightforward language to highlight the crucial elements.\\n* Adhere to a concise format without exceeding the word limit guideline.\\n* Your summary should be fully responsive to the text's content.\\n\\n#### Example ####\\n\\n**Original Text:** The European Union is an economic and political union of 27 member countries located primarily in Europe. It operates an internal single market through standardized laws applicable in all member states, ensuring the free movement of people, goods, services, and capital.\\n\\n**Summarized Text:** The European Union, compsed of 27 European nations, functions as both an economic and political entity, promoting a unified internal market through standardized laws that guarantee free movement of people, goods, services, and capital across member states.\", '###Instructions###\\n\\n**Task**: Summarize the content provided below:\\n\\n###Text###\\n{TEXT}\\n\\n**Requirements**:\\n\\n- Deliver a brief and accurate summary of the essential information.\\n- Use precise and straightforward language to enhance readability.\\n- Ensure that the summary does not exceed 300 words.\\n\\n**Guidelines**:\\n\\n- Your summary should encapsulate the critical points without omitting any significant details.\\n- Avoid any form of errors, be it grammatical or factual.\\n- Conform to the word limit strictly; summaries beyond the limit will face deductions.\\n\\n**Evaluation**:\\n\\nYour summary will be judged on its clarity, conciseness, and how well it captures the essence of the text. Remember, a high-quality summary presents all necessary information as succinctly as possible.\\n\\n**Example**:\\n* **Text**: \"The European Union is a political and economic union of 27 member countries located primarily in Europe. It has developed an internal single market through a standardized system of laws that apply in all member states.\"\\n* **Summary**: \"The European Union, comprising 27 European countries, operates as a unified political and economic entity with a standardized legal framework fostering an integrated single market.\"\\n\\nRemember, excellence in summarization is achieved through clarity, brevity, and accuracy.', '#### Summarization Task ####\\n\\n**Objective:**\\n\\nConcisely summarize the content provided below:\\n\\n**Content Source:**\\n{TEXT}\\n\\n**Instructions for an Effective Summary:**\\n\\n* Your summary should encapsulate the essential points of the text, maintaining accuracy and brevity.\\n* Utilize clear, direct language to ensure understanding.\\n* Compliance with the word limit is crucial — the summary must not exceed 300 words.\\n* Your summary should be comprehensive, reflecting a thorough understanding of the text.\\n\\n**Expectations and Requirements:**\\n\\n* The summary must not deviate from the factual content of the source text.\\n* It should read smoothly, capturing the flow and key messages of the original text.\\n* Avoid redundancies and unnecessary elaborations.\\n\\n**Result Submission:**\\n\\nAfter completing your summary, format it neatly in the space provided below. Ensure the summary aligns with the guidelines provided for optimal results.\\n\\n**Example of a Well-Crafted Summary:**\\n\\n**Text Given:**\\n\"The Pacific Ocean, spanning an immense distance and covering more than one-third of the Earth\\'s surface, plays a crucial role in global weather patterns and marine biodiversity.\"\\n\\n**Ideal Summary:**\\n\"The Pacific Ocean, covering over a third of Earth\\'s surface, significantly influences global weather and marine biodiversity.\"\\n\\nBy adhering to these guidelines, your summary will be both precise and informative, aligning with the objectives of this task.', '**Guidelines for Summarization:**\\n\\n**Objective:** Efficiently condense the information presented in the text below:\\n\\n**Text to Summarize:**\\n{TEXT}\\n\\n**Methodology:**\\n\\n- **Precision**: Your summary should accurately reflect the core themes and facts of the original text without altering its meaning.\\n- **Conciseness**: Elaborate in a clear, straightforward manner. Avoid unnecessary detail.\\n- **Completeness**: While being concise, ensure no critical information is omitted. Every main point must be addressed.\\n  \\n**Requirements:**\\n\\n- Use fluent, natural language to enhance readability.\\n- Aim to produce a summary within the stipulated word limit of 200 words.\\n- Remain objective, maintaining the text\\'s original perspective without adding personal interpretation.\\n\\n**Example for Clarification**:\\n* **Text**: \"The current economic policy has introduced several measures including tax reductions, increased public spending, and deregulation of major industries, aimed at combating the economic downturn.\"\\n* **Summary**: \"The government\\'s economic policy tackles the downturn through tax cuts, boosted public spending, and deregulation in key sectors.\"\\n\\n**Remember**: Meeting these criteria is essential to create an effective summary that is both informative and easy to understand. Overlooking any element may result in penalties.']\n"
     ]
    },
    {
     "data": {
      "application/vnd.jupyter.widget-view+json": {
       "model_id": "1c2de596ee994cb4a5d4b1b3db3db45c",
       "version_major": 2,
       "version_minor": 0
      },
      "text/plain": [
       "Scoring:   0%|          | 0/8 [00:00<?, ?it/s]"
      ]
     },
     "metadata": {},
     "output_type": "display_data"
    },
    {
     "data": {
      "application/vnd.jupyter.widget-view+json": {
       "model_id": "d27d6f96a0114c4fb43d0a61aa308642",
       "version_major": 2,
       "version_minor": 0
      },
      "text/plain": [
       "### Guideline ###\n",
       "\n",
       "#### Task ####\n",
       "\n",
       "Efficiently summarize the following content:\n",
       "\n",
       "#### Content Details ####\n",
       "\n",
       "{T…"
      ]
     },
     "metadata": {},
     "output_type": "display_data"
    },
    {
     "data": {
      "application/vnd.jupyter.widget-view+json": {
       "model_id": "bae753d624f741d19c83b400bb4e4166",
       "version_major": 2,
       "version_minor": 0
      },
      "text/plain": [
       "### Summary Task Guidelines ###\n",
       "\n",
       "#### Objective ####\n",
       "\n",
       "Provide an eloquent and succinct summary of the text bel…"
      ]
     },
     "metadata": {},
     "output_type": "display_data"
    },
    {
     "data": {
      "application/vnd.jupyter.widget-view+json": {
       "model_id": "c3dfbbf63c2143e3bf8d85e98394aff3",
       "version_major": 2,
       "version_minor": 0
      },
      "text/plain": [
       "**Guidelines for Summary**\n",
       "\n",
       "### Task Overview ###\n",
       "\n",
       "Condense the provided text:\n",
       "\n",
       "#### Content Provided ####\n",
       "{TE…"
      ]
     },
     "metadata": {},
     "output_type": "display_data"
    },
    {
     "data": {
      "application/vnd.jupyter.widget-view+json": {
       "model_id": "a46e82442cc143d8b3e9b2fba847bd15",
       "version_major": 2,
       "version_minor": 0
      },
      "text/plain": [
       "**Guidance for Summarization**\n",
       "\n",
       "#### Objective ####\n",
       "\n",
       "Summarize the provided text efficiently and accurately.\n",
       "\n",
       "…"
      ]
     },
     "metadata": {},
     "output_type": "display_data"
    },
    {
     "data": {
      "application/vnd.jupyter.widget-view+json": {
       "model_id": "a81b38e4b6d2483bbb606c5b78d1a604",
       "version_major": 2,
       "version_minor": 0
      },
      "text/plain": [
       "#### Instruction ####\n",
       "\n",
       "Summarize the given content:\n",
       "\n",
       "#### Text to Summarize ####\n",
       "\n",
       "{TEXT}\n",
       "\n",
       "#### Summary Guideli…"
      ]
     },
     "metadata": {},
     "output_type": "display_data"
    },
    {
     "data": {
      "application/vnd.jupyter.widget-view+json": {
       "model_id": "942abb3445d449bca161634bdefaf8b4",
       "version_major": 2,
       "version_minor": 0
      },
      "text/plain": [
       "###Instructions###\n",
       "\n",
       "**Task**: Summarize the content provided below:\n",
       "\n",
       "###Text###\n",
       "{TEXT}\n",
       "\n",
       "**Requirements**:\n",
       "\n",
       "- D…"
      ]
     },
     "metadata": {},
     "output_type": "display_data"
    },
    {
     "data": {
      "application/vnd.jupyter.widget-view+json": {
       "model_id": "da5d117bb7a94ed284066c99a327dc7d",
       "version_major": 2,
       "version_minor": 0
      },
      "text/plain": [
       "#### Summarization Task ####\n",
       "\n",
       "**Objective:**\n",
       "\n",
       "Concisely summarize the content provided below:\n",
       "\n",
       "**Content Sourc…"
      ]
     },
     "metadata": {},
     "output_type": "display_data"
    },
    {
     "data": {
      "application/vnd.jupyter.widget-view+json": {
       "model_id": "8c4202a14bcc4606b70c3f0320e665c0",
       "version_major": 2,
       "version_minor": 0
      },
      "text/plain": [
       "**Guidelines for Summarization:**\n",
       "\n",
       "**Objective:** Efficiently condense the information presented in the text b…"
      ]
     },
     "metadata": {},
     "output_type": "display_data"
    },
    {
     "name": "stdout",
     "output_type": "stream",
     "text": [
      "{'### Guideline ###\\n\\n#### Task ####\\n\\nEfficiently summarize the following content:\\n\\n#### Content Details ####\\n\\n{TEXT}\\n\\n#### Instructions for Summary ####\\n\\n**Your objective** is to deliver a summary that is both succinct and representative of the main ideas in the text.\\n\\n**Requirements:**\\n\\n- Utilize clear and precise language to express the key concepts.\\n- Ensure the summary does not exceed 300 words.\\n- Highlight significant points without altering the original intent of the text.\\n\\n#### Desired Outcome ####\\n\\nA comprehensive yet brief encapsulation that provides a clear understanding of the text\\'s core themes and conclusions.\\n\\n#### Example ####\\n\\n**TEXT:** \"The global economy is increasingly interconnected, with vast networks facilitating trade and communication across countries. These networks, while beneficial, also pose systemic risks as problems in one area can quickly spread to others.\"\\n\\n**SUMMARY:** \"The global economy is characterized by its interconnectivity, enabling extensive trade and communication. However, this interdependence also creates systemic risks, as issues in one region can rapidly affect others.\"\\n\\n### Note ###\\n\\nPlease ensure the summary adheres to the specified guidelines, capturing the essence of the text while maintaining brevity and clarity. Failing to meet these standards will affect the evaluation of your summary.': 43.34746643692914, '### Summary Task Guidelines ###\\n\\n#### Objective ####\\n\\nProvide an eloquent and succinct summary of the text below.\\n\\n#### Text to Summarize ####\\n\\n{TEXT}\\n\\n#### Requirements ####\\n\\n* Your summary should encapsulate all critical points of the text while being precise and coherent.\\n* Maintain a professional tone and ensure that your summary reflects a deep understanding of the text.\\n* Your response should not exceed 250 words. Be mindful of clarity and brevity.\\n\\n#### Output ####\\n\\nCompose your summary in a clear, logical, and articulate manner. Ensure your answer is focused and free from superfluous details.\\n\\n#### Expectation ####\\n\\nAccuracy and conciseness will be valued; deviations from the core information will affect the efficacy of your summary.\\n\\n#### Example ####\\n  \\n**Text:**  \\n\"The economy experiences cycles of growth and recession due to various factors including market trends, government policy, and international events. Understanding these cycles helps predict future economic conditions.\"\\n\\n**Summary:**  \\n\"Economic cycles of growth and recession are influenced by market trends, government policies, and global events, crucial for predicting future economic scenarios.\"\\n\\nThis format is designed to encourage precision and depth in your summarization.': 45.06220688436288, '**Guidelines for Summary**\\n\\n### Task Overview ###\\n\\nCondense the provided text:\\n\\n#### Content Provided ####\\n{TEXT}\\n\\n#### Objectives ####\\n\\n- Your summary should be concise yet thorough.\\n- Include all critical elements from the text.\\n- Express the core message in simple, straightforward language.\\n\\n#### Constraints ####\\n\\n- The summary must not exceed 250 words.\\n- Avoid any superfluous information.\\n- Ensure grammatical accuracy and clarity in your response.\\n\\n#### What You Need to Achieve ####\\n\\nA clear and succinct summary that encapsulates the essence of the text, demonstrating both understanding and ability to prioritize the key points.\\n\\n##### Example #####\\n\\n**To Summarize:** \"Global trends in renewable energy investment show a significant shift towards solar and wind energy, driven by dropping costs and increased policy support from governments worldwide.\"\\n\\n**Summary:** \"Renewable energy investments globally are increasingly favoring solar and wind technologies, influenced by their reducing costs and enhanced governmental support.\"\\n\\n#### Essential Note ####\\n\\nSummarize with precision and ensure you adhere closely to the guidelines provided. Your summary should reflect a professional level of summarization competency, comprehensive understanding, and effective communication.': 47.6697229719115, '**Guidance for Summarization**\\n\\n#### Objective ####\\n\\nSummarize the provided text efficiently and accurately.\\n\\n#### Text to Summarize ####\\n\\n{TEXT}\\n\\n#### Requirements ####\\n\\n- Craft a summary that is precise and straightforward.\\n- Focus on extrapolating the core ideas and major themes from the text.\\n- Limit your summary to under 300 words to maintain conciseness.\\n- Use clear and professional language.\\n\\n#### Constraints ####\\n\\n- Ensure the summary does not diverge from the original text\\'s meanings.\\n- Avoid any form of redundancy or repetitive points.\\n- Make sure to summarize in a manner that could be understood by someone unfamiliar with the topic.\\n\\n#### Example ####\\n\\n**Text**: \"Today\\'s market trends show a significant shift towards sustainable energy solutions with solar energy leading the forefront. Companies worldwide are investing more in green technologies to meet global energy demands.\"\\n\\n**Summary**: \"Global market trends indicate a prevalent shift towards sustainable energy, predominantly solar power, as companies invest in green technologies to satisfy international energy needs.\"\\n\\n#### Compliance Reminder ####\\n\\nFailure to adhere to the guidelines or meet the outlined constraints will impact the effectiveness and accuracy of your summary.': 45.631979344714885, \"#### Instruction ####\\n\\nSummarize the given content:\\n\\n#### Text to Summarize ####\\n\\n{TEXT}\\n\\n#### Summary Guidelines ####\\n\\n* Create a succinct and comprehensive summary of the text.\\n* Use precise and straightforward language to highlight the crucial elements.\\n* Adhere to a concise format without exceeding the word limit guideline.\\n* Your summary should be fully responsive to the text's content.\\n\\n#### Example ####\\n\\n**Original Text:** The European Union is an economic and political union of 27 member countries located primarily in Europe. It operates an internal single market through standardized laws applicable in all member states, ensuring the free movement of people, goods, services, and capital.\\n\\n**Summarized Text:** The European Union, compsed of 27 European nations, functions as both an economic and political entity, promoting a unified internal market through standardized laws that guarantee free movement of people, goods, services, and capital across member states.\": 50.92057062462694, '###Instructions###\\n\\n**Task**: Summarize the content provided below:\\n\\n###Text###\\n{TEXT}\\n\\n**Requirements**:\\n\\n- Deliver a brief and accurate summary of the essential information.\\n- Use precise and straightforward language to enhance readability.\\n- Ensure that the summary does not exceed 300 words.\\n\\n**Guidelines**:\\n\\n- Your summary should encapsulate the critical points without omitting any significant details.\\n- Avoid any form of errors, be it grammatical or factual.\\n- Conform to the word limit strictly; summaries beyond the limit will face deductions.\\n\\n**Evaluation**:\\n\\nYour summary will be judged on its clarity, conciseness, and how well it captures the essence of the text. Remember, a high-quality summary presents all necessary information as succinctly as possible.\\n\\n**Example**:\\n* **Text**: \"The European Union is a political and economic union of 27 member countries located primarily in Europe. It has developed an internal single market through a standardized system of laws that apply in all member states.\"\\n* **Summary**: \"The European Union, comprising 27 European countries, operates as a unified political and economic entity with a standardized legal framework fostering an integrated single market.\"\\n\\nRemember, excellence in summarization is achieved through clarity, brevity, and accuracy.': 45.19009313435502, '#### Summarization Task ####\\n\\n**Objective:**\\n\\nConcisely summarize the content provided below:\\n\\n**Content Source:**\\n{TEXT}\\n\\n**Instructions for an Effective Summary:**\\n\\n* Your summary should encapsulate the essential points of the text, maintaining accuracy and brevity.\\n* Utilize clear, direct language to ensure understanding.\\n* Compliance with the word limit is crucial — the summary must not exceed 300 words.\\n* Your summary should be comprehensive, reflecting a thorough understanding of the text.\\n\\n**Expectations and Requirements:**\\n\\n* The summary must not deviate from the factual content of the source text.\\n* It should read smoothly, capturing the flow and key messages of the original text.\\n* Avoid redundancies and unnecessary elaborations.\\n\\n**Result Submission:**\\n\\nAfter completing your summary, format it neatly in the space provided below. Ensure the summary aligns with the guidelines provided for optimal results.\\n\\n**Example of a Well-Crafted Summary:**\\n\\n**Text Given:**\\n\"The Pacific Ocean, spanning an immense distance and covering more than one-third of the Earth\\'s surface, plays a crucial role in global weather patterns and marine biodiversity.\"\\n\\n**Ideal Summary:**\\n\"The Pacific Ocean, covering over a third of Earth\\'s surface, significantly influences global weather and marine biodiversity.\"\\n\\nBy adhering to these guidelines, your summary will be both precise and informative, aligning with the objectives of this task.': 42.78515210576379, '**Guidelines for Summarization:**\\n\\n**Objective:** Efficiently condense the information presented in the text below:\\n\\n**Text to Summarize:**\\n{TEXT}\\n\\n**Methodology:**\\n\\n- **Precision**: Your summary should accurately reflect the core themes and facts of the original text without altering its meaning.\\n- **Conciseness**: Elaborate in a clear, straightforward manner. Avoid unnecessary detail.\\n- **Completeness**: While being concise, ensure no critical information is omitted. Every main point must be addressed.\\n  \\n**Requirements:**\\n\\n- Use fluent, natural language to enhance readability.\\n- Aim to produce a summary within the stipulated word limit of 200 words.\\n- Remain objective, maintaining the text\\'s original perspective without adding personal interpretation.\\n\\n**Example for Clarification**:\\n* **Text**: \"The current economic policy has introduced several measures including tax reductions, increased public spending, and deregulation of major industries, aimed at combating the economic downturn.\"\\n* **Summary**: \"The government\\'s economic policy tackles the downturn through tax cuts, boosted public spending, and deregulation in key sectors.\"\\n\\n**Remember**: Meeting these criteria is essential to create an effective summary that is both informative and easy to understand. Overlooking any element may result in penalties.': 44.02869255067331}\n",
      "Step 2\n"
     ]
    },
    {
     "data": {
      "application/vnd.jupyter.widget-view+json": {
       "model_id": "a0c17ec553da409aba86665638ccfc54",
       "version_major": 2,
       "version_minor": 0
      },
      "text/plain": [
       "Optimizing:   0%|          | 0/8 [00:00<?, ?it/s]"
      ]
     },
     "metadata": {},
     "output_type": "display_data"
    },
    {
     "name": "stdout",
     "output_type": "stream",
     "text": [
      "['### Instruction ###\\n\\n**Summarize the Key Points of This Text:**\\n\\n#### Overview ####\\n{TEXT}\\n\\n#### Summary Requirements ####\\n\\n- Craft a comprehensive yet succinct encapsulation of the text\\'s primary concepts.\\n- Employ clear and direct language to emphasize the essential information.\\n- Adhere tightly to the word limit provided, ensuring conciseness and precision.\\n\\n#### Expected Deliverable ####\\n\\n[Your concise summary]\\n\\n#### Points to Consider ####\\n\\n* Your summary must fully convey the critical elements and themes of the text.\\n* Maintain linguistic clarity and brevity throughout your summary.\\n* It is imperative that you do not deviate from the factual content of the original text.\\n* Focus on delivering a summary that encapsulates the text informatively yet succinctly to assist understanding for any reader not familiar with the topic.\\n\\n### Example ###\\n* **Text Provided:** \"Technological advancements in biomimicry are influencing sustainable design, leading to the creation of products and services that imitate nature\\'s time-tested patterns and strategies.\"\\n* **Summary Generated:** \"Technological strides in biomimicry are fostering sustainable design by developing innovations that replicate nature’s proven designs and mechanisms.\"', '#### Instruction ####\\n\\nCraft a concise summary of the following text:\\n\\n#### Input ####\\n\\n{TEXT}\\n\\n#### Key Points to Focus On ####\\n\\n* Distill the most salient points from the text.\\n* Write in a clear, straightforward manner, emphasizing essential information.\\n* Stick to the word limit provided to maintain succinctness.\\n* Ensure the summary is directly responsive to the text\\'s content.\\n\\n#### Example ####\\n\\n**Original Text:** \"Brazil, as the fifth-largest country in the world, boasts not only an enormous geographical area but also a vast array of biodiversity and cultural diversity, influencing global environmental and cultural policies.\"\\n\\n**Summary:** \"Brazil, the world\\'s fifth-largest country, is notable for its vast geography, rich biodiversity, and diverse culture, significantly impacting global environmental and cultural policies.\"\\n\\n#### Remember ####\\n\\nFocus on clarity, brevity, and directness in your summary to effectively communicate the key elements of the text.', '#### Instructions for Summary Creation ####\\n\\n**Objective:** Efficiently condense the primary information from the provided text.\\n\\n**Text for Summarization:**\\n{TEXT}\\n\\n**Summary Expectations:**\\n\\n- Develop a succinct yet comprehensive summary reflecting the essential elements of the text.\\n- Utilize clear and precise language to highlight core insights.\\n- Adhere strictly to the word limit, ensuring conciseness without sacrificing completeness.\\n\\n**Key Points to Address:**\\n\\n- The summary should distill the main ideas and arguments from the text without altering their original meaning.\\n- Any critical data or statistics mentioned should be accurately represented in the summary.\\n- Summaries that do not adequately capture the essence of the text or exceed the word limit will be considerably penalized.\\n\\n**Example Demonstrating Summary Technique:**\\n* **Text Provided:** \"Recent advancements in artificial intelligence have transformed industries, enabling faster data processing and more accurate predictive analytics.\"\\n* **Summary Created:** \"Advancements in artificial intelligence have revolutionized industry practices by enhancing data processing speeds and predictive accuracy.\"\\n\\n**Reminder for Excellence:**\\nAdhering to these guidelines will ensure that your summary is both informative and aligned with the primary content, making it valuable for understanding the text\\'s key messages.', '### Briefing Instructions ###\\n\\n**Objective:** Summarize the enclosed material promptly and accurately.\\n\\n#### Content to Summarize ####\\n\\n{TEXT}\\n\\n#### Requirements for Effective Summary ####\\n\\n- Strive for both conciseness and thoroughness in your summary to efficiently encapsulate the main points.\\n- Utilize clear, unambiguous language to convey the critical elements of the text.\\n- Maintain adherence to an upper word limit of 200 words to ensure brevity.\\n\\n#### Expectations and Evaluation Criteria ####\\n\\n- Your summary must reflect a cogent and coherent encapsulation of the main ideas.\\n- Focus on clarity of presentation and relevance of content without extraneous details.\\n- Demonstrate a keen understanding of the material through your concise articulation of its essential elements.\\n\\n#### Example for Guidance ####\\n\\n**Original Text:** \"Recent advancements in biotechnology have led to groundbreaking treatments in gene therapy, offering potential cures for previously untreatable genetic disorders.\"\\n\\n**Efficient Summary:** \"Biotechnological advancements have paved the way for innovative gene therapy treatments, potentially curing a range of genetic disorders that were once deemed untreatable.\"\\n\\nRemember, your ability to distill complex information into a succinct summary is crucial for effective communication.', '#### Instruction ####\\n\\nSummarize the following text:\\n\\n#### Text Provided ####\\n\\n{TEXT}\\n\\n#### Directions for Summary ####\\n\\n* Your task is to create a concise but complete summary of the provided text.\\n* Emphasize the text\\'s primary messages while maintaining precision and clarity in your language.\\n* Stay within the word limit specified in the text details.\\n* Focus on extracting and clearly articulating the significant points.\\n\\n#### Model Summary Example ####\\n\\n**Text:** \"Technological advances in the 21st century have reshaped how societies function, impacting everything from daily communication to larger economic structures.\"\\n\\n**Summary:** \"21st-century technological advancements have transformed societal operations, influencing both daily communications and broader economic frameworks.\"\\n\\n#### Key Points to Address ####\\n\\n- Ensure the summary is brief, focusing on major themes.\\n- Retain the essence and scope of the original text.\\n- Use clear, effective language to communicate the text\\'s critical insights.\\n\\n#### Summary Execution ####\\n\\nCraft your response to align closely with these guidelines, delivering a sharp and impactful summary. Your adherence to these instructions is crucial for achieving the highest quality summary.', '#### Summary Task Instructions ####\\n\\n**Objective:**\\nEfficiently distill the essence of the provided text into a concise summary.\\n\\n**Text to Summarize:**\\n{TEXT}\\n\\n**Guidelines for Your Summary:**\\n\\n- **Conciseness**: Construct a summary that is both brief and comprehensive, capturing essential facts and themes.\\n- **Clarity**: Articulate the main ideas using straightforward and precise language.\\n- **Accuracy**: Reflect the original message of the text without misinterpretation or distortions.\\n- **Comprehensiveness**: Ensure all significant points are covered succinctly.\\n\\n**Requirements:**\\n\\n- Aim for a word count appropriate to a summary but sufficient to cover all critical elements. Ideally, this should not exceed 300 words.\\n- Write in an engaging, clear, and professional tone to maintain the reader\\'s interest and clarity of message.\\n\\n**Example for Better Understanding**:\\n* **Text Given**: \"Technological advancements in the 21st century have radically transformed industries by fostering innovation, enhancing efficiency, and promoting global connectivity.\"\\n* **Summary**: \"21st-century technological advancements have revolutionized industries by driving innovation, increasing efficiency, and enhancing global connectivity.\"\\n\\n**Note**:\\nAdherence to the above guidelines is crucial for assembling an accurate and effective summary. Ignoring these aspects could compromise the quality and effectiveness of your summarization effort.', '#### Instruction ####\\n\\nProvide a detailed summary of the following content:\\n\\n#### Content to Summarize ####\\n\\n{TEXT}\\n\\n#### Summary Objectives ####\\n\\n- Extract and clearly present the primary elements and themes of the text.\\n- Ensure your language is direct, clear, and retains the integral meaning of the original text.\\n\\n#### Formatting Expectations ####\\n\\nYour summary should adhere to the following:\\n\\n- Present a clear and concise encapsulation of the text.\\n- Keep the length within the specified word count to maintain focus and efficiency.\\n- Ensure no critical information from the original text is omitted in your summary.\\n\\n#### Example ####\\n\\n**Original Text:** \"Advancements in artificial intelligence are transforming industries by automating operations and creating new opportunities for innovation. These developments are particularly pronounced in sectors like healthcare, where AI is being used to personalize patient care and improve diagnosis accuracy.\"\\n\\n**Ideal Summary:** \"Significant advancements in artificial intelligence are revolutionizing multiple sectors, notably healthcare, by automating processes and enhancing personalized patient care and diagnostic accuracy.\"\\n\\nEnd of instruction.', '#### Instruction ####\\n\\nCraft a Summary for the Provided Text:\\n\\n#### Text ####\\n\\n{TEXT}\\n\\n#### Summary Requirements ####\\n\\n* Concisely distill the central themes and key details from the text.\\n* Use direct and unambiguous language to ensure the essence of the text is conveyed effectively.\\n* Adhere to a strict word limit, ensuring brevity and clarity in your summary.\\n\\n#### Additional Guidance ####\\n\\n* Ensure that your summary is comprehensive, covering all vital aspects without deviating from the original meaning.\\n* Your response should be well-structured and logically coherent, guiding the reader seamlessly through the summarization.\\n\\n#### Example ####\\n\\n**Text to summarize:** \"Artificial intelligence technologies are advancing at a rapid pace, promising revolutionary changes across sectors such as healthcare, automotive, and finance. These technologies analyze large data sets to automate responses and predict trends.\"\\n\\n**Summary:** \"Advancing swiftly, artificial intelligence is set to transform healthcare, automotive, and finance sectors by automating responses and predicting trends through extensive data analysis.\"\\n\\n#### Note ####\\n\\nStrive for precision and efficiency in your summary to reflect a deep understanding of the text and its implications.']\n"
     ]
    },
    {
     "data": {
      "application/vnd.jupyter.widget-view+json": {
       "model_id": "8612b558d5754cbe827e4eead75cbc8c",
       "version_major": 2,
       "version_minor": 0
      },
      "text/plain": [
       "Scoring:   0%|          | 0/8 [00:00<?, ?it/s]"
      ]
     },
     "metadata": {},
     "output_type": "display_data"
    },
    {
     "data": {
      "application/vnd.jupyter.widget-view+json": {
       "model_id": "5f178044191940babc6de3a7b1120429",
       "version_major": 2,
       "version_minor": 0
      },
      "text/plain": [
       "### Instruction ###\n",
       "\n",
       "**Summarize the Key Points of This Text:**\n",
       "\n",
       "#### Overview ####\n",
       "{TEXT}\n",
       "\n",
       "#### Summary Requi…"
      ]
     },
     "metadata": {},
     "output_type": "display_data"
    },
    {
     "data": {
      "application/vnd.jupyter.widget-view+json": {
       "model_id": "136bbef925dd48b7afd15378af0111b0",
       "version_major": 2,
       "version_minor": 0
      },
      "text/plain": [
       "#### Instruction ####\n",
       "\n",
       "Craft a concise summary of the following text:\n",
       "\n",
       "#### Input ####\n",
       "\n",
       "{TEXT}\n",
       "\n",
       "#### Key Point…"
      ]
     },
     "metadata": {},
     "output_type": "display_data"
    },
    {
     "data": {
      "application/vnd.jupyter.widget-view+json": {
       "model_id": "a763c536725246e799b1e7c963c46799",
       "version_major": 2,
       "version_minor": 0
      },
      "text/plain": [
       "#### Instructions for Summary Creation ####\n",
       "\n",
       "**Objective:** Efficiently condense the primary information from …"
      ]
     },
     "metadata": {},
     "output_type": "display_data"
    },
    {
     "data": {
      "application/vnd.jupyter.widget-view+json": {
       "model_id": "c081a1b7231343ac9945f6150316aeb2",
       "version_major": 2,
       "version_minor": 0
      },
      "text/plain": [
       "### Briefing Instructions ###\n",
       "\n",
       "**Objective:** Summarize the enclosed material promptly and accurately.\n",
       "\n",
       "#### C…"
      ]
     },
     "metadata": {},
     "output_type": "display_data"
    },
    {
     "data": {
      "application/vnd.jupyter.widget-view+json": {
       "model_id": "1f2e9aef7cf543bfa75e7eea1169be20",
       "version_major": 2,
       "version_minor": 0
      },
      "text/plain": [
       "#### Instruction ####\n",
       "\n",
       "Summarize the following text:\n",
       "\n",
       "#### Text Provided ####\n",
       "\n",
       "{TEXT}\n",
       "\n",
       "#### Directions for Sum…"
      ]
     },
     "metadata": {},
     "output_type": "display_data"
    },
    {
     "data": {
      "application/vnd.jupyter.widget-view+json": {
       "model_id": "a84f17a50890458cb44e518c6debbdd1",
       "version_major": 2,
       "version_minor": 0
      },
      "text/plain": [
       "#### Summary Task Instructions ####\n",
       "\n",
       "**Objective:**\n",
       "Efficiently distill the essence of the provided text into …"
      ]
     },
     "metadata": {},
     "output_type": "display_data"
    },
    {
     "data": {
      "application/vnd.jupyter.widget-view+json": {
       "model_id": "57e92de241354ba78203eb6a41f403ea",
       "version_major": 2,
       "version_minor": 0
      },
      "text/plain": [
       "#### Instruction ####\n",
       "\n",
       "Provide a detailed summary of the following content:\n",
       "\n",
       "#### Content to Summarize ####\n",
       "\n",
       "{…"
      ]
     },
     "metadata": {},
     "output_type": "display_data"
    },
    {
     "data": {
      "application/vnd.jupyter.widget-view+json": {
       "model_id": "b4fdabcd3ff140e69ce51feac412e8fe",
       "version_major": 2,
       "version_minor": 0
      },
      "text/plain": [
       "#### Instruction ####\n",
       "\n",
       "Craft a Summary for the Provided Text:\n",
       "\n",
       "#### Text ####\n",
       "\n",
       "{TEXT}\n",
       "\n",
       "#### Summary Requiremen…"
      ]
     },
     "metadata": {},
     "output_type": "display_data"
    },
    {
     "name": "stdout",
     "output_type": "stream",
     "text": [
      "{'### Instruction ###\\n\\n**Summarize the Key Points of This Text:**\\n\\n#### Overview ####\\n{TEXT}\\n\\n#### Summary Requirements ####\\n\\n- Craft a comprehensive yet succinct encapsulation of the text\\'s primary concepts.\\n- Employ clear and direct language to emphasize the essential information.\\n- Adhere tightly to the word limit provided, ensuring conciseness and precision.\\n\\n#### Expected Deliverable ####\\n\\n[Your concise summary]\\n\\n#### Points to Consider ####\\n\\n* Your summary must fully convey the critical elements and themes of the text.\\n* Maintain linguistic clarity and brevity throughout your summary.\\n* It is imperative that you do not deviate from the factual content of the original text.\\n* Focus on delivering a summary that encapsulates the text informatively yet succinctly to assist understanding for any reader not familiar with the topic.\\n\\n### Example ###\\n* **Text Provided:** \"Technological advancements in biomimicry are influencing sustainable design, leading to the creation of products and services that imitate nature\\'s time-tested patterns and strategies.\"\\n* **Summary Generated:** \"Technological strides in biomimicry are fostering sustainable design by developing innovations that replicate nature’s proven designs and mechanisms.\"': 49.57379674681627, '#### Instruction ####\\n\\nCraft a concise summary of the following text:\\n\\n#### Input ####\\n\\n{TEXT}\\n\\n#### Key Points to Focus On ####\\n\\n* Distill the most salient points from the text.\\n* Write in a clear, straightforward manner, emphasizing essential information.\\n* Stick to the word limit provided to maintain succinctness.\\n* Ensure the summary is directly responsive to the text\\'s content.\\n\\n#### Example ####\\n\\n**Original Text:** \"Brazil, as the fifth-largest country in the world, boasts not only an enormous geographical area but also a vast array of biodiversity and cultural diversity, influencing global environmental and cultural policies.\"\\n\\n**Summary:** \"Brazil, the world\\'s fifth-largest country, is notable for its vast geography, rich biodiversity, and diverse culture, significantly impacting global environmental and cultural policies.\"\\n\\n#### Remember ####\\n\\nFocus on clarity, brevity, and directness in your summary to effectively communicate the key elements of the text.': 51.0422080123446, '#### Instructions for Summary Creation ####\\n\\n**Objective:** Efficiently condense the primary information from the provided text.\\n\\n**Text for Summarization:**\\n{TEXT}\\n\\n**Summary Expectations:**\\n\\n- Develop a succinct yet comprehensive summary reflecting the essential elements of the text.\\n- Utilize clear and precise language to highlight core insights.\\n- Adhere strictly to the word limit, ensuring conciseness without sacrificing completeness.\\n\\n**Key Points to Address:**\\n\\n- The summary should distill the main ideas and arguments from the text without altering their original meaning.\\n- Any critical data or statistics mentioned should be accurately represented in the summary.\\n- Summaries that do not adequately capture the essence of the text or exceed the word limit will be considerably penalized.\\n\\n**Example Demonstrating Summary Technique:**\\n* **Text Provided:** \"Recent advancements in artificial intelligence have transformed industries, enabling faster data processing and more accurate predictive analytics.\"\\n* **Summary Created:** \"Advancements in artificial intelligence have revolutionized industry practices by enhancing data processing speeds and predictive accuracy.\"\\n\\n**Reminder for Excellence:**\\nAdhering to these guidelines will ensure that your summary is both informative and aligned with the primary content, making it valuable for understanding the text\\'s key messages.': 51.856709545465286, '### Briefing Instructions ###\\n\\n**Objective:** Summarize the enclosed material promptly and accurately.\\n\\n#### Content to Summarize ####\\n\\n{TEXT}\\n\\n#### Requirements for Effective Summary ####\\n\\n- Strive for both conciseness and thoroughness in your summary to efficiently encapsulate the main points.\\n- Utilize clear, unambiguous language to convey the critical elements of the text.\\n- Maintain adherence to an upper word limit of 200 words to ensure brevity.\\n\\n#### Expectations and Evaluation Criteria ####\\n\\n- Your summary must reflect a cogent and coherent encapsulation of the main ideas.\\n- Focus on clarity of presentation and relevance of content without extraneous details.\\n- Demonstrate a keen understanding of the material through your concise articulation of its essential elements.\\n\\n#### Example for Guidance ####\\n\\n**Original Text:** \"Recent advancements in biotechnology have led to groundbreaking treatments in gene therapy, offering potential cures for previously untreatable genetic disorders.\"\\n\\n**Efficient Summary:** \"Biotechnological advancements have paved the way for innovative gene therapy treatments, potentially curing a range of genetic disorders that were once deemed untreatable.\"\\n\\nRemember, your ability to distill complex information into a succinct summary is crucial for effective communication.': 41.61169911741676, '#### Instruction ####\\n\\nSummarize the following text:\\n\\n#### Text Provided ####\\n\\n{TEXT}\\n\\n#### Directions for Summary ####\\n\\n* Your task is to create a concise but complete summary of the provided text.\\n* Emphasize the text\\'s primary messages while maintaining precision and clarity in your language.\\n* Stay within the word limit specified in the text details.\\n* Focus on extracting and clearly articulating the significant points.\\n\\n#### Model Summary Example ####\\n\\n**Text:** \"Technological advances in the 21st century have reshaped how societies function, impacting everything from daily communication to larger economic structures.\"\\n\\n**Summary:** \"21st-century technological advancements have transformed societal operations, influencing both daily communications and broader economic frameworks.\"\\n\\n#### Key Points to Address ####\\n\\n- Ensure the summary is brief, focusing on major themes.\\n- Retain the essence and scope of the original text.\\n- Use clear, effective language to communicate the text\\'s critical insights.\\n\\n#### Summary Execution ####\\n\\nCraft your response to align closely with these guidelines, delivering a sharp and impactful summary. Your adherence to these instructions is crucial for achieving the highest quality summary.': 48.67519394873946, '#### Summary Task Instructions ####\\n\\n**Objective:**\\nEfficiently distill the essence of the provided text into a concise summary.\\n\\n**Text to Summarize:**\\n{TEXT}\\n\\n**Guidelines for Your Summary:**\\n\\n- **Conciseness**: Construct a summary that is both brief and comprehensive, capturing essential facts and themes.\\n- **Clarity**: Articulate the main ideas using straightforward and precise language.\\n- **Accuracy**: Reflect the original message of the text without misinterpretation or distortions.\\n- **Comprehensiveness**: Ensure all significant points are covered succinctly.\\n\\n**Requirements:**\\n\\n- Aim for a word count appropriate to a summary but sufficient to cover all critical elements. Ideally, this should not exceed 300 words.\\n- Write in an engaging, clear, and professional tone to maintain the reader\\'s interest and clarity of message.\\n\\n**Example for Better Understanding**:\\n* **Text Given**: \"Technological advancements in the 21st century have radically transformed industries by fostering innovation, enhancing efficiency, and promoting global connectivity.\"\\n* **Summary**: \"21st-century technological advancements have revolutionized industries by driving innovation, increasing efficiency, and enhancing global connectivity.\"\\n\\n**Note**:\\nAdherence to the above guidelines is crucial for assembling an accurate and effective summary. Ignoring these aspects could compromise the quality and effectiveness of your summarization effort.': 43.25759386695566, '#### Instruction ####\\n\\nProvide a detailed summary of the following content:\\n\\n#### Content to Summarize ####\\n\\n{TEXT}\\n\\n#### Summary Objectives ####\\n\\n- Extract and clearly present the primary elements and themes of the text.\\n- Ensure your language is direct, clear, and retains the integral meaning of the original text.\\n\\n#### Formatting Expectations ####\\n\\nYour summary should adhere to the following:\\n\\n- Present a clear and concise encapsulation of the text.\\n- Keep the length within the specified word count to maintain focus and efficiency.\\n- Ensure no critical information from the original text is omitted in your summary.\\n\\n#### Example ####\\n\\n**Original Text:** \"Advancements in artificial intelligence are transforming industries by automating operations and creating new opportunities for innovation. These developments are particularly pronounced in sectors like healthcare, where AI is being used to personalize patient care and improve diagnosis accuracy.\"\\n\\n**Ideal Summary:** \"Significant advancements in artificial intelligence are revolutionizing multiple sectors, notably healthcare, by automating processes and enhancing personalized patient care and diagnostic accuracy.\"\\n\\nEnd of instruction.': 45.75730864360869, '#### Instruction ####\\n\\nCraft a Summary for the Provided Text:\\n\\n#### Text ####\\n\\n{TEXT}\\n\\n#### Summary Requirements ####\\n\\n* Concisely distill the central themes and key details from the text.\\n* Use direct and unambiguous language to ensure the essence of the text is conveyed effectively.\\n* Adhere to a strict word limit, ensuring brevity and clarity in your summary.\\n\\n#### Additional Guidance ####\\n\\n* Ensure that your summary is comprehensive, covering all vital aspects without deviating from the original meaning.\\n* Your response should be well-structured and logically coherent, guiding the reader seamlessly through the summarization.\\n\\n#### Example ####\\n\\n**Text to summarize:** \"Artificial intelligence technologies are advancing at a rapid pace, promising revolutionary changes across sectors such as healthcare, automotive, and finance. These technologies analyze large data sets to automate responses and predict trends.\"\\n\\n**Summary:** \"Advancing swiftly, artificial intelligence is set to transform healthcare, automotive, and finance sectors by automating responses and predicting trends through extensive data analysis.\"\\n\\n#### Note ####\\n\\nStrive for precision and efficiency in your summary to reflect a deep understanding of the text and its implications.': 50.59074778190404}\n",
      "Step 3\n"
     ]
    },
    {
     "data": {
      "application/vnd.jupyter.widget-view+json": {
       "model_id": "81a3f25c69ce45688c3da7dd0b58da04",
       "version_major": 2,
       "version_minor": 0
      },
      "text/plain": [
       "Optimizing:   0%|          | 0/8 [00:00<?, ?it/s]"
      ]
     },
     "metadata": {},
     "output_type": "display_data"
    },
    {
     "name": "stdout",
     "output_type": "stream",
     "text": [
      "['#### Comprehensive Summary Guidelines ####\\n\\n**Objective:** Efficiently extract and articulate the main points from the given text.\\n\\n**Text for Summary:**\\n{TEXT}\\n\\n**Summary Expectations:**\\n\\n- Provide a concise, clear, and factual recapitulation of the key details from the text.\\n- Emphasize the primary themes, ensuring clarity and precision of language.\\n- Stay tightly focused on the prescribed word limit, balancing thoroughness with brevity.\\n\\n**Essential Elements to Include:**\\n\\n- Your summary must reflect the core concepts and insights from the text without distorting its original intent.\\n- Critical data or statistics presented in the text should be accurately encapsulated in the summary.\\n- A summary failing to capture the essential narrative or details of the text will face deductions.\\n\\n**Model Example for Summarizing:**\\n* **Provided Text:** \"Emerging technologies in renewable energy sectors are propelling global shifts towards sustainable practices, particularly in solar and wind energy applications, which are becoming more economically viable and widely adopted.\"\\n* **Crafted Summary:** \"Emerging renewable energy technologies, especially in solar and wind sectors, are driving global shifts towards sustainability, increasingly becoming cost-effective and broadly accepted.\"\\n\\n**Guidelines for Excellence:**\\nAdhering to these directives will ensure your summary is not only comprehensive but also adheres perfectly to the core message, making it insightful for anyone seeking to grasp the essential content of the text.', '#### Instruction ####\\n\\n**Task: Summarize This Text:**\\n\\n#### Text for Summarization: ####\\n\\n{TEXT}\\n\\n#### Summary Objective: ####\\n\\n* Your primary goal is to distill the main information and themes from the specified text.\\n* Craft a summary that is both concise and rich in content, capturing the essence of the text without altering its original intent.\\n\\n#### Key Guidelines for Your Summary: ####\\n\\n- Ensure clarity and precision in the language used.\\n- Maintain strict adherence to the specified word limit, focusing on brevity and accuracy.\\n- Highlight significant points effectively and ensure all relevant details are preserved in the summary.\\n\\n#### Example for Reference: ####\\n\\n**Text Provided:** \"As the global population continues to expand, urbanization increases, leading to intensive use of technology in city planning and infrastructure development to support sustainable growth.\"\\n\\n**Summary Example:** \"Global population growth has spurred urbanization, necessitating advanced technological integration into city planning and infrastructure to promote sustainable development.\"\\n\\n#### Remember: ####\\n\\nThe quality of your summary should effectively condense and communicate key information, enabling a quick and thorough understanding of the primary subjects addressed in the text.', '#### Instruction ####\\n\\nSummarize the following text:\\n\\n#### Text for Summarization ####\\n\\n{TEXT}\\n\\n#### Desired Outcome ####\\n\\n- Create a precise and insightful summary that encapsulates the main ideas and critical data presented.\\n- Employ concise and clear language to convey the essential themes.\\n- Adhere to the specified word count to ensure succinctness yet comprehensive coverage of the text\\'s key points.\\n\\n#### Example of a Good Summary ####\\n\\n**Text Provided:** \"Innovations in renewable energy technologies are accelerating globally, significantly impacting economic growth and environmental sustainability. These technologies are pivotal in reducing reliance on fossil fuels and decreasing greenhouse gas emissions.\"\\n\\n**Summary:** \"Global advancements in renewable energy technologies are boosting economic growth and environmental sustainability by reducing dependence on fossil fuels and cutting greenhouse gas emissions.\"\\n\\n#### Guidelines to Follow ####\\n\\n- Focus on distilling the core information and fundamental insights from the text without altering the original intent.\\n- Ensure that your summary is well-structured, maintaining logical flow and coherence.\\n- Keep your language professional and to the point, reflecting a deep comprehension of the text.\\n- Summaries not aligning with these directives will face reductions in their evaluated score.\\n\\nCraft your summary to offer a clear, direct, and informative overview, capturing the essence of the text with precision and effectiveness.', '### Instruction ###\\n\\n**Summarize the Text Provided:**\\n\\n####Input Text####\\n\\n{TEXT}\\n\\n#### Summary Requirements ####\\n\\n- Craft an articulate and precise summary that encapsulates the core information from the text.\\n- Utilize clear, concise language to emphasize the main points.\\n- Strictly adhere to the word limit to ensure brevity while covering all critical aspects.\\n\\n#### Example ####\\n\\n**Original Text:** \"The global digital marketplace continues to expand, driven by increasing internet penetration, advancements in mobile technology, and growing consumer confidence in online transactions. This growth presents both opportunities and challenges in sectors such as e-commerce, digital marketing, and cybersecurity.\"\\n\\n**Summary:** \"The expanding global digital marketplace, fueled by enhanced internet access, mobile tech advancements, and heightened online transaction trust, offers opportunities and challenges in e-commerce, digital marketing, and cybersecurity.\"\\n\\n#### Points to Remember ####\\n\\nAim for a comprehensive yet succinct summary that reflects a deep understanding of the text while being direct and to the point. Ensure your summary is insightful and fully conveys the essence of the text without omitting any major details.', '#### Instructions for Summary Preparation ####\\n\\n**Objective:** Effectively encapsulate the main messages from the text provided.\\n\\n**Text for Synthesis:**\\n{TEXT}\\n\\n**Guidelines for a Stellar Summary:**\\n\\n- Focus on distilling the most crucial aspects of the text into a concise form.\\n- Employ precise and sharp language that efficiently communicates the essence.\\n- Maintain adherence to the word limit, ensuring a tight and focused summary.\\n\\n**Key Focus Areas:**\\n\\n- Your summary should capture and reflect the fundamental ideas and perspectives without distorting the original intent.\\n- Include any pivotal data or statistics from the text accurately within your summary.\\n- Inadequate summaries that miss critical content or ignore the word limit constraints will face penalties.\\n\\n**Example of Effective Summarization:**\\n* **Text Provided:** \"Innovations in renewable energy are increasingly making solar power more cost-effective, leading to its widespread adoption and significant impacts on global energy policies.\"\\n* **Summary Created:** \"Renewable energy innovations have enhanced the cost-effectiveness of solar power, promoting its adoption and influencing global energy policies significantly.\"\\n\\n**Excellence Reminder:**\\nAdhering to these guidelines ensures your summary is concise, informative, and true to the original text, providing a valuable snapshot of the key themes for those seeking insight.', '#### Guidelines for Optimal Summary Creation ####\\n\\n**Task Instructions:**\\n\\nSummarize the provided text with precision and brevity:\\n\\n**Text for Summary:**\\n{TEXT}\\n\\n**Summary Objectives:**\\n\\n- Capture the essence and main themes of the text accurately.\\n- Use clear, concise language to articulate the core insights.\\n- Maintain strict adherence to the word limit to ensure focus and clarity.\\n\\n**Summary Strategy:**\\n\\n- Prioritize key information and significant details from the text.\\n- Ensure your language is direct and effective, facilitating easy comprehension.\\n- Avoid extraneous details to keep the summary succinct and on-point.\\n\\n**Example of Execution:**\\n\\n* **Text Provided:** \"Innovations in technology are accelerating the development of smart cities, integrating IoT devices and AI to enhance urban infrastructure and improve residents\\' quality of life.\"\\n* **Summary Created:** \"Technology innovations are driving smart city development through the integration of IoT and AI, enhancing urban infrastructure and resident life quality.\"\\n\\n**Final Reminder:**\\n\\nAim for a summary that not only condenses the information but also provides a clear, informative overview that remains true to the original text’s intent. Your summary should cater to readers seeking a quick, yet comprehensive understanding of the central themes.', '#### Instruction ####\\n\\nSummarize the following text concisely:\\n\\n#### Text Provided ####\\n\\n{TEXT}\\n\\n#### Summary Criteria ####\\n\\n- Capture the essential points accurately.\\n- Utilize clear and precise language, ensuring ease of understanding.\\n- Maintain strict adherence to the word limit to ensure brevity.\\n\\n#### Expected Outcome ####\\n\\nYour summary should comprehensively encapsulate the main themes and significant details without deviation from the original content\\'s intent.\\n\\n#### Example ####\\n\\n**Original Text:** \"Global economic dynamics are increasingly driven by technological innovation, with sectors like e-commerce and cybersecurity showing rapid growth due to advancements in digital technology.\"\\n\\n**Effective Summary:** \"Technological innovation is a key driver of global economic dynamics, notably enhancing growth in sectors such as e-commerce and cybersecurity.\"\\n\\n#### Emphasis Points ####\\n\\nFocus on clarity, accuracy, and conciseness to produce a superior summary that accurately reflects the text while being limited in length.', '#### Comprehensive Summary Instruction ####\\n\\n**Objective:** Thoroughly synthesize the primary information in the provided text.\\n\\n**Text for Summary:**\\n{TEXT}\\n\\n**Requirements for a Quality Summary:**\\n\\n- Concisely capture the main ideas and crucial elements of the text.\\n- Use direct and unambiguous language to emphasize critical points.\\n- Adhere to the specified word count to ensure brevity without omitting key details.\\n\\n**Key Focus Areas:**\\n\\n- The summary must reflect the original text’s core messages accurately and coherently.\\n- It should include any important data or statistics mentioned, portrayed precisely.\\n- Summaries should be penalized if they fail to encapsulate the essence of the text or if they deviate from the word limit.\\n\\n**Example of an Effective Summary Technique:**\\n* **Original Text:** \"Innovative technologies in renewable energy have propelled sectors towards more efficient and less environmentally harmful operations.\"\\n* **Produced Summary:** \"Renewable energy innovations are advancing sectors by enhancing efficiency and reducing environmental impact.\"\\n\\n**Encouragement for Excellence:**\\nAdhering to these guidelines will help in crafting a summary that not only succinctly conveys the text\\'s main messages but is also valuable in grasping the pivotal insights.']\n"
     ]
    },
    {
     "data": {
      "application/vnd.jupyter.widget-view+json": {
       "model_id": "40ba727ed9d94382adfdc78f97fbc324",
       "version_major": 2,
       "version_minor": 0
      },
      "text/plain": [
       "Scoring:   0%|          | 0/8 [00:00<?, ?it/s]"
      ]
     },
     "metadata": {},
     "output_type": "display_data"
    },
    {
     "data": {
      "application/vnd.jupyter.widget-view+json": {
       "model_id": "e0e898e89890427796d8b46d7aa77ecf",
       "version_major": 2,
       "version_minor": 0
      },
      "text/plain": [
       "#### Comprehensive Summary Guidelines ####\n",
       "\n",
       "**Objective:** Efficiently extract and articulate the main points …"
      ]
     },
     "metadata": {},
     "output_type": "display_data"
    },
    {
     "data": {
      "application/vnd.jupyter.widget-view+json": {
       "model_id": "fa47b0a63224488985cab687ec87f6a2",
       "version_major": 2,
       "version_minor": 0
      },
      "text/plain": [
       "#### Instruction ####\n",
       "\n",
       "**Task: Summarize This Text:**\n",
       "\n",
       "#### Text for Summarization: ####\n",
       "\n",
       "{TEXT}\n",
       "\n",
       "#### Summary…"
      ]
     },
     "metadata": {},
     "output_type": "display_data"
    },
    {
     "data": {
      "application/vnd.jupyter.widget-view+json": {
       "model_id": "4adc2933ee094f9eb41c00eb7cfb1d41",
       "version_major": 2,
       "version_minor": 0
      },
      "text/plain": [
       "#### Instruction ####\n",
       "\n",
       "Summarize the following text:\n",
       "\n",
       "#### Text for Summarization ####\n",
       "\n",
       "{TEXT}\n",
       "\n",
       "#### Desired O…"
      ]
     },
     "metadata": {},
     "output_type": "display_data"
    },
    {
     "data": {
      "application/vnd.jupyter.widget-view+json": {
       "model_id": "193c6e0baeef4dc19534b65bcf38a3e2",
       "version_major": 2,
       "version_minor": 0
      },
      "text/plain": [
       "### Instruction ###\n",
       "\n",
       "**Summarize the Text Provided:**\n",
       "\n",
       "####Input Text####\n",
       "\n",
       "{TEXT}\n",
       "\n",
       "#### Summary Requirements #…"
      ]
     },
     "metadata": {},
     "output_type": "display_data"
    },
    {
     "data": {
      "application/vnd.jupyter.widget-view+json": {
       "model_id": "c6fd1c8988824777b0964eff8b595dd7",
       "version_major": 2,
       "version_minor": 0
      },
      "text/plain": [
       "#### Instructions for Summary Preparation ####\n",
       "\n",
       "**Objective:** Effectively encapsulate the main messages from …"
      ]
     },
     "metadata": {},
     "output_type": "display_data"
    },
    {
     "data": {
      "application/vnd.jupyter.widget-view+json": {
       "model_id": "f5aab1dc2d104b0f8592b1d094fb33ca",
       "version_major": 2,
       "version_minor": 0
      },
      "text/plain": [
       "#### Guidelines for Optimal Summary Creation ####\n",
       "\n",
       "**Task Instructions:**\n",
       "\n",
       "Summarize the provided text with pr…"
      ]
     },
     "metadata": {},
     "output_type": "display_data"
    },
    {
     "data": {
      "application/vnd.jupyter.widget-view+json": {
       "model_id": "ee46f1ab23d44ce19d5dc33c10170179",
       "version_major": 2,
       "version_minor": 0
      },
      "text/plain": [
       "#### Instruction ####\n",
       "\n",
       "Summarize the following text concisely:\n",
       "\n",
       "#### Text Provided ####\n",
       "\n",
       "{TEXT}\n",
       "\n",
       "#### Summary …"
      ]
     },
     "metadata": {},
     "output_type": "display_data"
    },
    {
     "data": {
      "application/vnd.jupyter.widget-view+json": {
       "model_id": "8b83217dbb8341b1858abe8ef91fb82e",
       "version_major": 2,
       "version_minor": 0
      },
      "text/plain": [
       "#### Comprehensive Summary Instruction ####\n",
       "\n",
       "**Objective:** Thoroughly synthesize the primary information in t…"
      ]
     },
     "metadata": {},
     "output_type": "display_data"
    },
    {
     "name": "stdout",
     "output_type": "stream",
     "text": [
      "{'#### Comprehensive Summary Guidelines ####\\n\\n**Objective:** Efficiently extract and articulate the main points from the given text.\\n\\n**Text for Summary:**\\n{TEXT}\\n\\n**Summary Expectations:**\\n\\n- Provide a concise, clear, and factual recapitulation of the key details from the text.\\n- Emphasize the primary themes, ensuring clarity and precision of language.\\n- Stay tightly focused on the prescribed word limit, balancing thoroughness with brevity.\\n\\n**Essential Elements to Include:**\\n\\n- Your summary must reflect the core concepts and insights from the text without distorting its original intent.\\n- Critical data or statistics presented in the text should be accurately encapsulated in the summary.\\n- A summary failing to capture the essential narrative or details of the text will face deductions.\\n\\n**Model Example for Summarizing:**\\n* **Provided Text:** \"Emerging technologies in renewable energy sectors are propelling global shifts towards sustainable practices, particularly in solar and wind energy applications, which are becoming more economically viable and widely adopted.\"\\n* **Crafted Summary:** \"Emerging renewable energy technologies, especially in solar and wind sectors, are driving global shifts towards sustainability, increasingly becoming cost-effective and broadly accepted.\"\\n\\n**Guidelines for Excellence:**\\nAdhering to these directives will ensure your summary is not only comprehensive but also adheres perfectly to the core message, making it insightful for anyone seeking to grasp the essential content of the text.': 50.99896437526268, '#### Instruction ####\\n\\n**Task: Summarize This Text:**\\n\\n#### Text for Summarization: ####\\n\\n{TEXT}\\n\\n#### Summary Objective: ####\\n\\n* Your primary goal is to distill the main information and themes from the specified text.\\n* Craft a summary that is both concise and rich in content, capturing the essence of the text without altering its original intent.\\n\\n#### Key Guidelines for Your Summary: ####\\n\\n- Ensure clarity and precision in the language used.\\n- Maintain strict adherence to the specified word limit, focusing on brevity and accuracy.\\n- Highlight significant points effectively and ensure all relevant details are preserved in the summary.\\n\\n#### Example for Reference: ####\\n\\n**Text Provided:** \"As the global population continues to expand, urbanization increases, leading to intensive use of technology in city planning and infrastructure development to support sustainable growth.\"\\n\\n**Summary Example:** \"Global population growth has spurred urbanization, necessitating advanced technological integration into city planning and infrastructure to promote sustainable development.\"\\n\\n#### Remember: ####\\n\\nThe quality of your summary should effectively condense and communicate key information, enabling a quick and thorough understanding of the primary subjects addressed in the text.': 48.830674161428185, '#### Instruction ####\\n\\nSummarize the following text:\\n\\n#### Text for Summarization ####\\n\\n{TEXT}\\n\\n#### Desired Outcome ####\\n\\n- Create a precise and insightful summary that encapsulates the main ideas and critical data presented.\\n- Employ concise and clear language to convey the essential themes.\\n- Adhere to the specified word count to ensure succinctness yet comprehensive coverage of the text\\'s key points.\\n\\n#### Example of a Good Summary ####\\n\\n**Text Provided:** \"Innovations in renewable energy technologies are accelerating globally, significantly impacting economic growth and environmental sustainability. These technologies are pivotal in reducing reliance on fossil fuels and decreasing greenhouse gas emissions.\"\\n\\n**Summary:** \"Global advancements in renewable energy technologies are boosting economic growth and environmental sustainability by reducing dependence on fossil fuels and cutting greenhouse gas emissions.\"\\n\\n#### Guidelines to Follow ####\\n\\n- Focus on distilling the core information and fundamental insights from the text without altering the original intent.\\n- Ensure that your summary is well-structured, maintaining logical flow and coherence.\\n- Keep your language professional and to the point, reflecting a deep comprehension of the text.\\n- Summaries not aligning with these directives will face reductions in their evaluated score.\\n\\nCraft your summary to offer a clear, direct, and informative overview, capturing the essence of the text with precision and effectiveness.': 49.54840755983061, '### Instruction ###\\n\\n**Summarize the Text Provided:**\\n\\n####Input Text####\\n\\n{TEXT}\\n\\n#### Summary Requirements ####\\n\\n- Craft an articulate and precise summary that encapsulates the core information from the text.\\n- Utilize clear, concise language to emphasize the main points.\\n- Strictly adhere to the word limit to ensure brevity while covering all critical aspects.\\n\\n#### Example ####\\n\\n**Original Text:** \"The global digital marketplace continues to expand, driven by increasing internet penetration, advancements in mobile technology, and growing consumer confidence in online transactions. This growth presents both opportunities and challenges in sectors such as e-commerce, digital marketing, and cybersecurity.\"\\n\\n**Summary:** \"The expanding global digital marketplace, fueled by enhanced internet access, mobile tech advancements, and heightened online transaction trust, offers opportunities and challenges in e-commerce, digital marketing, and cybersecurity.\"\\n\\n#### Points to Remember ####\\n\\nAim for a comprehensive yet succinct summary that reflects a deep understanding of the text while being direct and to the point. Ensure your summary is insightful and fully conveys the essence of the text without omitting any major details.': 50.227397545717245, '#### Instructions for Summary Preparation ####\\n\\n**Objective:** Effectively encapsulate the main messages from the text provided.\\n\\n**Text for Synthesis:**\\n{TEXT}\\n\\n**Guidelines for a Stellar Summary:**\\n\\n- Focus on distilling the most crucial aspects of the text into a concise form.\\n- Employ precise and sharp language that efficiently communicates the essence.\\n- Maintain adherence to the word limit, ensuring a tight and focused summary.\\n\\n**Key Focus Areas:**\\n\\n- Your summary should capture and reflect the fundamental ideas and perspectives without distorting the original intent.\\n- Include any pivotal data or statistics from the text accurately within your summary.\\n- Inadequate summaries that miss critical content or ignore the word limit constraints will face penalties.\\n\\n**Example of Effective Summarization:**\\n* **Text Provided:** \"Innovations in renewable energy are increasingly making solar power more cost-effective, leading to its widespread adoption and significant impacts on global energy policies.\"\\n* **Summary Created:** \"Renewable energy innovations have enhanced the cost-effectiveness of solar power, promoting its adoption and influencing global energy policies significantly.\"\\n\\n**Excellence Reminder:**\\nAdhering to these guidelines ensures your summary is concise, informative, and true to the original text, providing a valuable snapshot of the key themes for those seeking insight.': 50.52872580004928, '#### Guidelines for Optimal Summary Creation ####\\n\\n**Task Instructions:**\\n\\nSummarize the provided text with precision and brevity:\\n\\n**Text for Summary:**\\n{TEXT}\\n\\n**Summary Objectives:**\\n\\n- Capture the essence and main themes of the text accurately.\\n- Use clear, concise language to articulate the core insights.\\n- Maintain strict adherence to the word limit to ensure focus and clarity.\\n\\n**Summary Strategy:**\\n\\n- Prioritize key information and significant details from the text.\\n- Ensure your language is direct and effective, facilitating easy comprehension.\\n- Avoid extraneous details to keep the summary succinct and on-point.\\n\\n**Example of Execution:**\\n\\n* **Text Provided:** \"Innovations in technology are accelerating the development of smart cities, integrating IoT devices and AI to enhance urban infrastructure and improve residents\\' quality of life.\"\\n* **Summary Created:** \"Technology innovations are driving smart city development through the integration of IoT and AI, enhancing urban infrastructure and resident life quality.\"\\n\\n**Final Reminder:**\\n\\nAim for a summary that not only condenses the information but also provides a clear, informative overview that remains true to the original text’s intent. Your summary should cater to readers seeking a quick, yet comprehensive understanding of the central themes.': 53.5445855599448, '#### Instruction ####\\n\\nSummarize the following text concisely:\\n\\n#### Text Provided ####\\n\\n{TEXT}\\n\\n#### Summary Criteria ####\\n\\n- Capture the essential points accurately.\\n- Utilize clear and precise language, ensuring ease of understanding.\\n- Maintain strict adherence to the word limit to ensure brevity.\\n\\n#### Expected Outcome ####\\n\\nYour summary should comprehensively encapsulate the main themes and significant details without deviation from the original content\\'s intent.\\n\\n#### Example ####\\n\\n**Original Text:** \"Global economic dynamics are increasingly driven by technological innovation, with sectors like e-commerce and cybersecurity showing rapid growth due to advancements in digital technology.\"\\n\\n**Effective Summary:** \"Technological innovation is a key driver of global economic dynamics, notably enhancing growth in sectors such as e-commerce and cybersecurity.\"\\n\\n#### Emphasis Points ####\\n\\nFocus on clarity, accuracy, and conciseness to produce a superior summary that accurately reflects the text while being limited in length.': 49.06342460072235, '#### Comprehensive Summary Instruction ####\\n\\n**Objective:** Thoroughly synthesize the primary information in the provided text.\\n\\n**Text for Summary:**\\n{TEXT}\\n\\n**Requirements for a Quality Summary:**\\n\\n- Concisely capture the main ideas and crucial elements of the text.\\n- Use direct and unambiguous language to emphasize critical points.\\n- Adhere to the specified word count to ensure brevity without omitting key details.\\n\\n**Key Focus Areas:**\\n\\n- The summary must reflect the original text’s core messages accurately and coherently.\\n- It should include any important data or statistics mentioned, portrayed precisely.\\n- Summaries should be penalized if they fail to encapsulate the essence of the text or if they deviate from the word limit.\\n\\n**Example of an Effective Summary Technique:**\\n* **Original Text:** \"Innovative technologies in renewable energy have propelled sectors towards more efficient and less environmentally harmful operations.\"\\n* **Produced Summary:** \"Renewable energy innovations are advancing sectors by enhancing efficiency and reducing environmental impact.\"\\n\\n**Encouragement for Excellence:**\\nAdhering to these guidelines will help in crafting a summary that not only succinctly conveys the text\\'s main messages but is also valuable in grasping the pivotal insights.': 47.3003470290716}\n",
      "Step 4\n"
     ]
    },
    {
     "data": {
      "application/vnd.jupyter.widget-view+json": {
       "model_id": "9cd26669815b405c857c6972c8aa4454",
       "version_major": 2,
       "version_minor": 0
      },
      "text/plain": [
       "Optimizing:   0%|          | 0/8 [00:00<?, ?it/s]"
      ]
     },
     "metadata": {},
     "output_type": "display_data"
    },
    {
     "name": "stdout",
     "output_type": "stream",
     "text": [
      "['### Enhanced Summary Guidelines ###\\n\\n**Objective:** Skillfully distill the critical information from the provided text.\\n\\n**Text for Summarization:**\\n{TEXT}\\n\\n**Summary Protocol:**\\n\\n- Extract and emphasize the key themes and essential data accurately.\\n- Use precise, clear language to convey the main ideas succinctly.\\n- Strictly adhere to the word limit to ensure both conciseness and completeness.\\n\\n**Focus Points:**\\n\\n- Aim to capture the primary messages and significant insights without distortion.\\n- Ensure your summary is cogent, eliminating any superfluous details or digressions.\\n- Avoid exceeding the word limit to maintain the integrity and sharpness of the summary.\\n\\n**Demonstration Example:**\\n\\n* **Text Provided:** \"Rapid advancements in blockchain technology are reshaping financial sectors worldwide, facilitating more secure transactions and enhancing transparency in financial operations.\"\\n* **Summary Constructed:** \"Blockchain technology is revolutionizing financial sectors globally by securing transactions and increasing operational transparency.\"\\n\\n**Final Note:**\\n\\nYour summary should not only succinctly encapsulate the text’s principal points but also deliver a clear, direct snapshot that remains faithful to the text\\'s original purpose. Aim for a summary that is informative and concise, serving those who seek a precise yet comprehensive grasp of the text’s contents.', '#### Effective Summary Guidelines ####\\n\\n**Task Objective:**\\n\\nCraft a concise and insightful summary of the provided text:\\n\\n**Text for Summarization:**\\n{TEXT}\\n\\n**Key Points for an Optimal Summary:**\\n\\n- Accurately capture and convey the central themes and essential details of the text.\\n- Utilize clear and streamlined language to express the principal ideas effectively.\\n- Adhere to the prescribed word limit, ensuring the summary is comprehensive yet succinct.\\n\\n**Strategies for High-Quality Summarization:**\\n\\n- Focus on distilling the most critical information from the text, prioritizing relevance and significance.\\n- Use precise and unambiguous language that enhances understanding and retains the text\\'s original meaning.\\n- Eliminate redundant and non-essential details to maintain a tight, focused narrative.\\n\\n**Exemplar Summary Execution:**\\n\\n* **Text Provided:** \"The rapid adoption of digital technologies is transforming industries by streamlining processes and enhancing data analytics capabilities, thus driving efficiency and innovation.\"\\n* **Crafted Summary:** \"Digital technologies are revolutionizing industries by enhancing process efficiency and data analytics, fostering innovation.\"\\n\\n**Conclusion Reminder:**\\n\\nAim to produce a summary that not only succinctly encapsulates the content but also remains faithful to the essence and intent of the original text. Your summary should serve as a clear, accurate representation for those seeking a deeper understanding of the key topics discussed.', '#### Advanced Summary Guidelines ####\\n\\n**Objective for Summary:**\\n\\nEfficiently distill the core messages of the provided text into a concise form, utilizing precise and impactful language.\\n\\n**Text Presented for Summarization:**\\n{TEXT}\\n\\n**Detailed Instructions for Crafting the Summary:**\\n\\n- Focus on capturing the essential themes and key data of the text clearly and accurately.\\n- Employ a succinct yet informative style that ensures the reader grasps the importance and relevance of the content.\\n- Comply rigorously with the word limit to enhance the clarity and effectiveness of the summary.\\n\\n**Criteria for an Excellent Summary:**\\n\\n- The summary should reflect a thorough understanding and synthesis of the text\\'s main elements without distorting its original meaning.\\n- Key facts or figures from the text must be accurately and clearly included in the summary.\\n- The language should be precise, direct, and tailored to impart the maximum amount of information in the fewest words.\\n\\n**Example for Effective Summarization:**\\n\\n* **Original Text:** \"The interface of advanced analytics and business intelligence tools is revolutionizing strategic decision-making processes, enabling companies to leverage data-driven insights for competitive advantage.\"\\n* **Finely Summarized:** \"Advanced analytics and business intelligence tools are revolutionizing strategic decision-making, enabling data-driven insights that provide companies a competitive edge.\"\\n\\n**Final Note:**\\n\\nAdhere to these guidelines to ensure that your summary is not only comprehensive and insightful but also concise and faithful to the original text, making it an invaluable read for anyone seeking a deep understanding of the central topics.', '### Summary Creation Directive ###\\n\\n**Objective:** Compose a succinct and accurate summary of the provided text.\\n\\n**Text to Summarize:**\\n{TEXT}\\n\\n**Summary Requirements:**\\n\\n- Clearly and accurately distill the key themes and information of the text.\\n- Employ direct and clear language that enhances the reader\\'s comprehension.\\n- Adhere strictly to the word limit to maintain concentration and clarity.\\n\\n**Summary Guidance:**\\n\\n- Focus on essential information, omitting superfluous details.\\n- Keep the language straightforward and engaging to ensure easy understanding.\\n- Ensure that the summary is comprehensive, addressing all significant aspects of the text.\\n\\n**Example for Guidance:**\\n\\n* **Text Provided:** \"Global trends in educational technology are transforming learning environments, from elementary schools to universities, by integrating interactive tools that enhance student engagement and academic performance.\"\\n* **Summary Created:** \"Educational technology is reshaping learning from elementary level to universities by incorporating interactive tools that boost student engagement and performance.\"\\n\\n**Summary Execution Advice:**\\n\\nYour summary should offer a clear, concise, and informative snapshot of the text, capturing its essence without altering the original intent. Aim to provide a summary that gives readers a complete understanding of the main points in a succinct form.', '#### Advanced Guidelines for Exceptional Summary Creation ####\\n\\n**Objective:** Masterfully streamline the crucial content of the provided text.\\n\\n**Text to Summarize:**\\n{TEXT}\\n\\n**Expectations for an Optimal Summary:**\\n\\n- Precisely extract and articulate the significant themes and details from the text.\\n- Employ concise, lucid language to ensure the summary is both articulate and accessible.\\n- Adhere to a stringent word limit, guaranteeing the summary remains focused and cogent.\\n\\n**Strategy for Excelling:**\\n\\n- Emphasize key insights while omitting redundant or non-essential information.\\n- Construct your summary to be direct, engaging, and informative, ensuring it serves as an accurate reflection of the original text’s primary intents.\\n- The reader should gain a comprehensive understanding of the text from your summary alone without referencing the original material.\\n\\n**Example to Guide Your Effort:**\\n\\n* **Provided Text:** \"The rapid evolution of digital platforms is reshaping industries by introducing more efficient methods of consumer engagement and data management.\"\\n* **Crafted Summary:** \"Digital platforms are transforming industries with new efficiencies in consumer engagement and data management.\"\\n\\n**Essential Reminders:**\\n\\nEnsure your summary not only compresses information but also delivers an insightful, precise overview that aligns completely with the original text’s aim. Strive to make your summary indispensable for anyone seeking a deep understanding of the main themes.', '### Advanced Summary Instructions ###\\n\\n**Task Objective:**\\n\\nEfficiently synthesize the provided text, honing in on pivotal details and overarching concepts:\\n\\n**Text for Summary:**\\n{TEXT}\\n\\n**Summary Goals:**\\n\\n- Accurately capture and distill the essential themes and facts from the text.\\n- Emphasize conciseness and clarity, ensuring the summary is both precise and concise.\\n- Strictly adhere to the word limit to maintain focus and impact.\\n\\n**Effective Summarization Tactics:**\\n\\n- Prioritize critical information, omitting redundant or non-essential details.\\n- Employ straightforward, effective language to improve readability and retention.\\n- Ensure that the summarized content faithfully represents the spirit and factual content of the original text.\\n\\n**Illustrative Example:**\\n\\n* **Text Provided:** \"Growing concerns about climate change are driving innovation in green technology, leading to increased investments in sustainable energy solutions that promise to mitigate environmental impacts.\"\\n* **Summary Crafted:** \"Concerns about climate change are catalyzing innovations in green technology, with rising investments in sustainable energy solutions poised to reduce environmental impacts.\"\\n\\n**Final Consideration:**\\n\\nAim to construct a summary that not only reduces the text to its core components but also offers a clear, insightful perspective that stays true to the original material’s intent, tailored for an audience seeking a quick yet thorough understanding of the topic.', '#### Advanced Summary Instruction ####\\n\\n**Objective:** Craft a succinct and precise summary of the provided text.\\n\\n**Text for Summarization:**\\n{TEXT}\\n\\n**Summary Essentials:**\\n\\n- Extract and clearly state the main points and overarching themes of the text.\\n- Employ sharp and clear language tailored to deliver the core message effectively.\\n- Adhere closely to the word limit to enhance the focus and readability of the summary.\\n\\n**Summary Blueprint:**\\n\\n- Identify critical information first and foremost, ensuring it is represented accurately.\\n- Write in an engaging yet concise style that offers the reader a clear understanding of the text’s purpose.\\n- Exclude non-essential details to keep the summary direct and strong.\\n\\n**Example for Illustration:**\\n\\n* **Text Given:** \"The rapid advancement in blockchain technology is reshaping financial sectors worldwide, providing new opportunities for innovation in payment systems and secure transactions.\"\\n* **Summary Executed:** \"Blockchain technology is rapidly transforming global financial sectors, innovating payment systems and securing transactions.\"\\n\\n**Final Thought:**\\n\\nStrive to produce a summary that not only reduces the original text to its essential content but also presents this information in a coherent, easily digestible manner for both knowledgeable and casual readers alike. Your summary should be a precise yet comprehensive encapsulation of the original text.', '#### Enhanced Summary Creation Guidelines ####\\n\\n**Summary Task:**\\n\\nEfficiently encapsulate the main concepts from the given text with precision and clarity:\\n\\n**Text for Summarization:**\\n{TEXT}\\n\\n**Key Objectives for Succinct Summary:**\\n\\n- Identify and distill the central themes and pivotal information from the text.\\n- Communicate in a direct, clear, and concise manner, effectively summarizing the text\\'s main points.\\n- Strictly adhere to the word count to ensure focused and sharp narrative delivery.\\n\\n**Strategy for Optimal Summary:**\\n\\n- Prioritize the crucial elements and details from the text, ensuring they are vividly captured in the summary.\\n- Maintain a straightforward and impactful writing style to facilitate ease of understanding.\\n- Exclude any non-essential information to keep the summary tight and directly relevant.\\n\\n**Exemplar Summary Execution:**\\n\\n* **Text Provided:** \"The rapid evolution of digital technologies is significantly altering consumer behavior, with substantial impacts on marketing strategies and business operations globally.\"\\n* **Summary Created:** \"Digital technology evolution is transforming consumer behavior, significantly influencing global marketing strategies and business operations.\"\\n\\n**Critical Reminder:**\\n\\nAim for a summary that not only efficiently compacts the text but also offers a crisp, clear, and informative insight, staying true to the initial narrative and fulfilling the informational needs of readers seeking a succinct yet comprehensive understanding of the text.']\n"
     ]
    },
    {
     "data": {
      "application/vnd.jupyter.widget-view+json": {
       "model_id": "188f43cf35d64045a66e667d1389eda8",
       "version_major": 2,
       "version_minor": 0
      },
      "text/plain": [
       "Scoring:   0%|          | 0/8 [00:00<?, ?it/s]"
      ]
     },
     "metadata": {},
     "output_type": "display_data"
    },
    {
     "data": {
      "application/vnd.jupyter.widget-view+json": {
       "model_id": "654e708bc1734b27aca2d6bd70cc7229",
       "version_major": 2,
       "version_minor": 0
      },
      "text/plain": [
       "### Enhanced Summary Guidelines ###\n",
       "\n",
       "**Objective:** Skillfully distill the critical information from the provi…"
      ]
     },
     "metadata": {},
     "output_type": "display_data"
    },
    {
     "data": {
      "application/vnd.jupyter.widget-view+json": {
       "model_id": "c6561ce7e3cc4dd19d4a9dd406cf4010",
       "version_major": 2,
       "version_minor": 0
      },
      "text/plain": [
       "#### Effective Summary Guidelines ####\n",
       "\n",
       "**Task Objective:**\n",
       "\n",
       "Craft a concise and insightful summary of the pro…"
      ]
     },
     "metadata": {},
     "output_type": "display_data"
    },
    {
     "data": {
      "application/vnd.jupyter.widget-view+json": {
       "model_id": "a4eb0df656b44126a7aefd0f967ee6fd",
       "version_major": 2,
       "version_minor": 0
      },
      "text/plain": [
       "#### Advanced Summary Guidelines ####\n",
       "\n",
       "**Objective for Summary:**\n",
       "\n",
       "Efficiently distill the core messages of th…"
      ]
     },
     "metadata": {},
     "output_type": "display_data"
    },
    {
     "data": {
      "application/vnd.jupyter.widget-view+json": {
       "model_id": "1dcc7c52a5204741ab673e099ef6451a",
       "version_major": 2,
       "version_minor": 0
      },
      "text/plain": [
       "### Summary Creation Directive ###\n",
       "\n",
       "**Objective:** Compose a succinct and accurate summary of the provided tex…"
      ]
     },
     "metadata": {},
     "output_type": "display_data"
    },
    {
     "data": {
      "application/vnd.jupyter.widget-view+json": {
       "model_id": "4b8eceb808314da18e3fd54587f4bc3d",
       "version_major": 2,
       "version_minor": 0
      },
      "text/plain": [
       "#### Advanced Guidelines for Exceptional Summary Creation ####\n",
       "\n",
       "**Objective:** Masterfully streamline the cruc…"
      ]
     },
     "metadata": {},
     "output_type": "display_data"
    },
    {
     "data": {
      "application/vnd.jupyter.widget-view+json": {
       "model_id": "61224b5409d64f5aa40566f918dcae3b",
       "version_major": 2,
       "version_minor": 0
      },
      "text/plain": [
       "### Advanced Summary Instructions ###\n",
       "\n",
       "**Task Objective:**\n",
       "\n",
       "Efficiently synthesize the provided text, honing i…"
      ]
     },
     "metadata": {},
     "output_type": "display_data"
    },
    {
     "data": {
      "application/vnd.jupyter.widget-view+json": {
       "model_id": "d471cbb790ed44a0aa0d0fb7a7224f87",
       "version_major": 2,
       "version_minor": 0
      },
      "text/plain": [
       "#### Advanced Summary Instruction ####\n",
       "\n",
       "**Objective:** Craft a succinct and precise summary of the provided te…"
      ]
     },
     "metadata": {},
     "output_type": "display_data"
    },
    {
     "data": {
      "application/vnd.jupyter.widget-view+json": {
       "model_id": "879e5ddb8b004fd69d1cf1ca21f2fbb4",
       "version_major": 2,
       "version_minor": 0
      },
      "text/plain": [
       "#### Enhanced Summary Creation Guidelines ####\n",
       "\n",
       "**Summary Task:**\n",
       "\n",
       "Efficiently encapsulate the main concepts f…"
      ]
     },
     "metadata": {},
     "output_type": "display_data"
    },
    {
     "name": "stdout",
     "output_type": "stream",
     "text": [
      "{'### Enhanced Summary Guidelines ###\\n\\n**Objective:** Skillfully distill the critical information from the provided text.\\n\\n**Text for Summarization:**\\n{TEXT}\\n\\n**Summary Protocol:**\\n\\n- Extract and emphasize the key themes and essential data accurately.\\n- Use precise, clear language to convey the main ideas succinctly.\\n- Strictly adhere to the word limit to ensure both conciseness and completeness.\\n\\n**Focus Points:**\\n\\n- Aim to capture the primary messages and significant insights without distortion.\\n- Ensure your summary is cogent, eliminating any superfluous details or digressions.\\n- Avoid exceeding the word limit to maintain the integrity and sharpness of the summary.\\n\\n**Demonstration Example:**\\n\\n* **Text Provided:** \"Rapid advancements in blockchain technology are reshaping financial sectors worldwide, facilitating more secure transactions and enhancing transparency in financial operations.\"\\n* **Summary Constructed:** \"Blockchain technology is revolutionizing financial sectors globally by securing transactions and increasing operational transparency.\"\\n\\n**Final Note:**\\n\\nYour summary should not only succinctly encapsulate the text’s principal points but also deliver a clear, direct snapshot that remains faithful to the text\\'s original purpose. Aim for a summary that is informative and concise, serving those who seek a precise yet comprehensive grasp of the text’s contents.': 47.656719613301526, '#### Effective Summary Guidelines ####\\n\\n**Task Objective:**\\n\\nCraft a concise and insightful summary of the provided text:\\n\\n**Text for Summarization:**\\n{TEXT}\\n\\n**Key Points for an Optimal Summary:**\\n\\n- Accurately capture and convey the central themes and essential details of the text.\\n- Utilize clear and streamlined language to express the principal ideas effectively.\\n- Adhere to the prescribed word limit, ensuring the summary is comprehensive yet succinct.\\n\\n**Strategies for High-Quality Summarization:**\\n\\n- Focus on distilling the most critical information from the text, prioritizing relevance and significance.\\n- Use precise and unambiguous language that enhances understanding and retains the text\\'s original meaning.\\n- Eliminate redundant and non-essential details to maintain a tight, focused narrative.\\n\\n**Exemplar Summary Execution:**\\n\\n* **Text Provided:** \"The rapid adoption of digital technologies is transforming industries by streamlining processes and enhancing data analytics capabilities, thus driving efficiency and innovation.\"\\n* **Crafted Summary:** \"Digital technologies are revolutionizing industries by enhancing process efficiency and data analytics, fostering innovation.\"\\n\\n**Conclusion Reminder:**\\n\\nAim to produce a summary that not only succinctly encapsulates the content but also remains faithful to the essence and intent of the original text. Your summary should serve as a clear, accurate representation for those seeking a deeper understanding of the key topics discussed.': 48.19798956436907, '#### Advanced Summary Guidelines ####\\n\\n**Objective for Summary:**\\n\\nEfficiently distill the core messages of the provided text into a concise form, utilizing precise and impactful language.\\n\\n**Text Presented for Summarization:**\\n{TEXT}\\n\\n**Detailed Instructions for Crafting the Summary:**\\n\\n- Focus on capturing the essential themes and key data of the text clearly and accurately.\\n- Employ a succinct yet informative style that ensures the reader grasps the importance and relevance of the content.\\n- Comply rigorously with the word limit to enhance the clarity and effectiveness of the summary.\\n\\n**Criteria for an Excellent Summary:**\\n\\n- The summary should reflect a thorough understanding and synthesis of the text\\'s main elements without distorting its original meaning.\\n- Key facts or figures from the text must be accurately and clearly included in the summary.\\n- The language should be precise, direct, and tailored to impart the maximum amount of information in the fewest words.\\n\\n**Example for Effective Summarization:**\\n\\n* **Original Text:** \"The interface of advanced analytics and business intelligence tools is revolutionizing strategic decision-making processes, enabling companies to leverage data-driven insights for competitive advantage.\"\\n* **Finely Summarized:** \"Advanced analytics and business intelligence tools are revolutionizing strategic decision-making, enabling data-driven insights that provide companies a competitive edge.\"\\n\\n**Final Note:**\\n\\nAdhere to these guidelines to ensure that your summary is not only comprehensive and insightful but also concise and faithful to the original text, making it an invaluable read for anyone seeking a deep understanding of the central topics.': 50.69199875435266, '### Summary Creation Directive ###\\n\\n**Objective:** Compose a succinct and accurate summary of the provided text.\\n\\n**Text to Summarize:**\\n{TEXT}\\n\\n**Summary Requirements:**\\n\\n- Clearly and accurately distill the key themes and information of the text.\\n- Employ direct and clear language that enhances the reader\\'s comprehension.\\n- Adhere strictly to the word limit to maintain concentration and clarity.\\n\\n**Summary Guidance:**\\n\\n- Focus on essential information, omitting superfluous details.\\n- Keep the language straightforward and engaging to ensure easy understanding.\\n- Ensure that the summary is comprehensive, addressing all significant aspects of the text.\\n\\n**Example for Guidance:**\\n\\n* **Text Provided:** \"Global trends in educational technology are transforming learning environments, from elementary schools to universities, by integrating interactive tools that enhance student engagement and academic performance.\"\\n* **Summary Created:** \"Educational technology is reshaping learning from elementary level to universities by incorporating interactive tools that boost student engagement and performance.\"\\n\\n**Summary Execution Advice:**\\n\\nYour summary should offer a clear, concise, and informative snapshot of the text, capturing its essence without altering the original intent. Aim to provide a summary that gives readers a complete understanding of the main points in a succinct form.': 51.65770815234377, '#### Advanced Guidelines for Exceptional Summary Creation ####\\n\\n**Objective:** Masterfully streamline the crucial content of the provided text.\\n\\n**Text to Summarize:**\\n{TEXT}\\n\\n**Expectations for an Optimal Summary:**\\n\\n- Precisely extract and articulate the significant themes and details from the text.\\n- Employ concise, lucid language to ensure the summary is both articulate and accessible.\\n- Adhere to a stringent word limit, guaranteeing the summary remains focused and cogent.\\n\\n**Strategy for Excelling:**\\n\\n- Emphasize key insights while omitting redundant or non-essential information.\\n- Construct your summary to be direct, engaging, and informative, ensuring it serves as an accurate reflection of the original text’s primary intents.\\n- The reader should gain a comprehensive understanding of the text from your summary alone without referencing the original material.\\n\\n**Example to Guide Your Effort:**\\n\\n* **Provided Text:** \"The rapid evolution of digital platforms is reshaping industries by introducing more efficient methods of consumer engagement and data management.\"\\n* **Crafted Summary:** \"Digital platforms are transforming industries with new efficiencies in consumer engagement and data management.\"\\n\\n**Essential Reminders:**\\n\\nEnsure your summary not only compresses information but also delivers an insightful, precise overview that aligns completely with the original text’s aim. Strive to make your summary indispensable for anyone seeking a deep understanding of the main themes.': 47.18620164752102, '### Advanced Summary Instructions ###\\n\\n**Task Objective:**\\n\\nEfficiently synthesize the provided text, honing in on pivotal details and overarching concepts:\\n\\n**Text for Summary:**\\n{TEXT}\\n\\n**Summary Goals:**\\n\\n- Accurately capture and distill the essential themes and facts from the text.\\n- Emphasize conciseness and clarity, ensuring the summary is both precise and concise.\\n- Strictly adhere to the word limit to maintain focus and impact.\\n\\n**Effective Summarization Tactics:**\\n\\n- Prioritize critical information, omitting redundant or non-essential details.\\n- Employ straightforward, effective language to improve readability and retention.\\n- Ensure that the summarized content faithfully represents the spirit and factual content of the original text.\\n\\n**Illustrative Example:**\\n\\n* **Text Provided:** \"Growing concerns about climate change are driving innovation in green technology, leading to increased investments in sustainable energy solutions that promise to mitigate environmental impacts.\"\\n* **Summary Crafted:** \"Concerns about climate change are catalyzing innovations in green technology, with rising investments in sustainable energy solutions poised to reduce environmental impacts.\"\\n\\n**Final Consideration:**\\n\\nAim to construct a summary that not only reduces the text to its core components but also offers a clear, insightful perspective that stays true to the original material’s intent, tailored for an audience seeking a quick yet thorough understanding of the topic.': 49.14063422270793, '#### Advanced Summary Instruction ####\\n\\n**Objective:** Craft a succinct and precise summary of the provided text.\\n\\n**Text for Summarization:**\\n{TEXT}\\n\\n**Summary Essentials:**\\n\\n- Extract and clearly state the main points and overarching themes of the text.\\n- Employ sharp and clear language tailored to deliver the core message effectively.\\n- Adhere closely to the word limit to enhance the focus and readability of the summary.\\n\\n**Summary Blueprint:**\\n\\n- Identify critical information first and foremost, ensuring it is represented accurately.\\n- Write in an engaging yet concise style that offers the reader a clear understanding of the text’s purpose.\\n- Exclude non-essential details to keep the summary direct and strong.\\n\\n**Example for Illustration:**\\n\\n* **Text Given:** \"The rapid advancement in blockchain technology is reshaping financial sectors worldwide, providing new opportunities for innovation in payment systems and secure transactions.\"\\n* **Summary Executed:** \"Blockchain technology is rapidly transforming global financial sectors, innovating payment systems and securing transactions.\"\\n\\n**Final Thought:**\\n\\nStrive to produce a summary that not only reduces the original text to its essential content but also presents this information in a coherent, easily digestible manner for both knowledgeable and casual readers alike. Your summary should be a precise yet comprehensive encapsulation of the original text.': 49.314169258958565, '#### Enhanced Summary Creation Guidelines ####\\n\\n**Summary Task:**\\n\\nEfficiently encapsulate the main concepts from the given text with precision and clarity:\\n\\n**Text for Summarization:**\\n{TEXT}\\n\\n**Key Objectives for Succinct Summary:**\\n\\n- Identify and distill the central themes and pivotal information from the text.\\n- Communicate in a direct, clear, and concise manner, effectively summarizing the text\\'s main points.\\n- Strictly adhere to the word count to ensure focused and sharp narrative delivery.\\n\\n**Strategy for Optimal Summary:**\\n\\n- Prioritize the crucial elements and details from the text, ensuring they are vividly captured in the summary.\\n- Maintain a straightforward and impactful writing style to facilitate ease of understanding.\\n- Exclude any non-essential information to keep the summary tight and directly relevant.\\n\\n**Exemplar Summary Execution:**\\n\\n* **Text Provided:** \"The rapid evolution of digital technologies is significantly altering consumer behavior, with substantial impacts on marketing strategies and business operations globally.\"\\n* **Summary Created:** \"Digital technology evolution is transforming consumer behavior, significantly influencing global marketing strategies and business operations.\"\\n\\n**Critical Reminder:**\\n\\nAim for a summary that not only efficiently compacts the text but also offers a crisp, clear, and informative insight, staying true to the initial narrative and fulfilling the informational needs of readers seeking a succinct yet comprehensive understanding of the text.': 45.24106834187358}\n",
      "Step 5\n"
     ]
    },
    {
     "data": {
      "application/vnd.jupyter.widget-view+json": {
       "model_id": "d04b96a6e89143aaa65b374eef297e91",
       "version_major": 2,
       "version_minor": 0
      },
      "text/plain": [
       "Optimizing:   0%|          | 0/8 [00:00<?, ?it/s]"
      ]
     },
     "metadata": {},
     "output_type": "display_data"
    },
    {
     "name": "stdout",
     "output_type": "stream",
     "text": [
      "['#### Essential Summary Instructions ####\\n\\n**Objective:**\\n\\nCreate a concise yet comprehensive summary of the provided content.\\n\\n**Text to be Summarized:**\\n{TEXT}\\n\\n**Summary Guidelines:**\\n\\n- Precisely capture and convey the main points and themes of the text.\\n- Use clear and straightforward language to ensure the summary is easily understandable.\\n- Adhere to the word limit to guarantee conciseness without overlooking important information.\\n\\n**Summary Construction:**\\n\\n- Emphasize the critical events and data in the text, carefully avoiding any alteration of their intended meaning.\\n- Craft your summary to be direct and informative, enabling quick and full comprehension.\\n\\n**Example of Effective Summarization:**\\n\\n* **Input Text:** \"The impact of advanced computing on healthcare is profound, speeding up diagnostic processes and personalizing treatment options, thereby significantly improving patient outcomes.\"\\n* **Crafted Summary:** \"Advanced computing is transforming healthcare by accelerating diagnostics and personalizing treatments, significantly enhancing patient outcomes.\"\\n\\n**Key Reminder:**\\n\\nA well-crafted summary should not only be brief but also complete, providing a clear portrayal of the text\\'s essential information and preserving the original intent. This necessitates a balance of precision and brevity to aid readers in grasping the pivotal themes readily.', '#### Enhanced Summary Guidelines ####\\n\\n**Objective:** Develop a concise and accurate summary of the provided text, focusing on essential information.\\n\\n**Text for Summarization:**\\n{TEXT}\\n\\n**Summary Priorities:**\\n\\n- Precisely condense the main themes and pivotal elements of the text.\\n- Utilize streamlined, clear language to deliver the most relevant insights.\\n- Adhere meticulously to the word limit to emphasize focus and effectiveness.\\n\\n**Strategies for Effective Summarization:**\\n\\n- Highlight critical data or statistics from the text without distorting the original meaning.\\n- Opt for direct and impactful language to facilitate clear understanding and retention.\\n- Eliminate unnecessary details to maintain a compact and informative summary.\\n\\n**Exemplary Execution:**\\n\\n* **Text Provided:** \"Advancements in machine learning are revolutionizing predictive analytics and data interpretation, enabling smarter decision-making across various sectors.\"\\n* **Summary Constructed:** \"Machine learning advancements are transforming predictive analytics and data interpretation, fostering smarter decision-making in diverse sectors.\"\\n\\n**Reminder for Optimal Summary:**\\n\\nEnsure that your summary succinctly captures the text\\'s core information, presenting a clear and thorough understanding of the subjects addressed, tailored for an audience that values precision and depth.', '#### Summary Creation Protocol ####\\n\\n**Objective:** Create a clear, concise, and informative summary from the provided text.\\n\\n**Text to Summarize:**\\n{TEXT}\\n\\n**Summary Guidelines:**\\n\\n- Focus on extracting and conveying the main ideas and crucial details from the text.\\n- Utilize straightforward yet effective language to enhance comprehension and retention.\\n- Adhere to the word limit, fostering precision and impact in communication.\\n\\n**Detailed Approach:**\\n\\n- Prioritize the inclusion of key concepts and significant data points from the text.\\n- Ensure the language deployed is clear and direct, aiding quick understanding.\\n- Exclude any ancillary information to keep the summary focused and relevant.\\n\\n**Example for Better Understanding:**\\n\\n* **Text Provided:** \"The integration of advanced digital technologies across various sectors is revolutionizing traditional business models, enabling quicker decision-making and improved operational efficiencies.\"\\n* **Summary Executed:** \"Advanced digital technologies are transforming traditional business models, facilitating faster decision-making and enhancing operational efficiencies.\"\\n\\n**Reminder for Effective Summary Creation:**\\n\\nEnsure your summary not only succinctly encapsulates the text but also remains engaging and informative, providing a condensed yet comprehensive view of the original content. Aim to deliver a summary that synthesizes the key points effectively, offering clarity and insight.', '### Comprehensive Guide to Effective Summary Writing ###\\n\\n**Objective: Efficiently extract and articulate the main points from the provided text.**\\n\\n**Text for Summarization:**\\n{TEXT}\\n\\n**Expectations for Your Summary:**\\n\\n- Provide a concise, clear, and factual recapitulation of the key details from the text.\\n- Focus on the primary themes, ensuring clarity and precision of language.\\n- Maintain strict adherence to the word limit to balance thoroughness with brevity.\\n\\n**Essentials for a Stellar Summary:**\\n\\n- Your summary must capture the core concepts and insights from the text without misrepresenting its original intent.\\n- Include pertinent facts or statistics mentioned in the text in an accurate manner.\\n- A summary failing to encompass essential narratives or details from the text will result in deductions.\\n\\n**Model for an Excellent Summary:**\\n* **Provided Text:** \"The ongoing global transition towards sustainable energy sources is being expedited by advancements in green technologies, with a significant reduction in costs and an increase in efficiency.\"\\n* **Crafted Summary:** \"Green technology advancements are accelerating the global shift to sustainable energy, marked by cost reductions and enhanced efficiency.\"\\n\\n**Guidance for Excellence:**\\nAdhering to these guidelines ensures that your summary not only thoroughly conveys the core message but also remains concise and loyal to the spirit of the original text, providing valuable insight for the reader.', '#### Comprehensive Summary Guidelines ####\\n\\n**Objective:** Provide an insightful and succinct summary of the presented text.\\n\\n**Text for Summary:**\\n{TEXT}\\n\\n**Summary Expectations:**\\n\\n- Deliver a clear and informed recap of the principal themes within the text.\\n- Use precise and straightforward language that enhances readability and understanding.\\n- Strictly adhere to the word limit, striking a balance between completeness and conciseness.\\n\\n**Key Aspects to Highlight:**\\n\\n- The summary must convey the essential insights and concepts from the text without distorting the original meaning.\\n- Any crucial data or figures mentioned in the text should be accurately summarized.\\n- Summaries that fail to effectively encapsulate the core message of the text will be penalized.\\n\\n**Example of Ideal Summary Execution:**\\n* **Provided Text:** \"The rapid evolution of digital technologies is significantly influencing urban planning, revolutionizing how cities manage infrastructure, and improve service delivery to meet the needs of growing populations.\"\\n* **Crafted Summary:** \"Digital technology evolution is transforming urban planning by revolutionizing infrastructure management and service delivery to support expanding urban populations.\"\\n\\n**Reminders for an Optimal Summary:**\\nAdherence to these instructions will ensure your summary not only captures the vital content but is also coherent, concise, and aligned with the core message of the text, providing a valuable overview for readers seeking concise yet comprehensive information.', '#### Effective Summary Directions ####\\n\\n**Objective:** Succinctly distill and articulate the major themes and data from the presented text.\\n\\n**Text for Summary:**\\n{TEXT}\\n\\n**Summary Targets:**\\n\\n- Identify and clearly communicate the core themes and critical details of the text.\\n- Employ concise and precise language to present the primary messages effectively.\\n- Comply with the word limit to focus depth and clarity.\\n\\n**Summary Procedure:**\\n\\n- Concentrate on essential components and vital details, ensuring they are accurately depicted.\\n- Use straightforward, impactful language that facilitates quick comprehension.\\n- Exclude peripheral elements to keep the narrative focused and strong.\\n\\n**Example of Effective Execution:**\\n\\n* **Original Material:** \"Developments in machine learning are significantly influencing healthcare practices, leading to improved diagnostics and personalized treatment plans which leverage predictive analytics.\"\\n* **Condensed Summary:** \"Machine learning is revolutionizing healthcare by enhancing diagnostics and creating customized treatment plans through predictive analytics.\"\\n\\n**Final Notes for High-Quality Summation:**\\n\\nEndeavor to create a summary that not only condenses the main points succinctly but also maintains the integrity and depth of the original text, providing a clear and comprehensive understanding for the reader.', '### Comprehensive Summary Guidelines ###\\n\\n**Objective:** Thoroughly distill the core content from the provided text.\\n\\n**Text for Summarization:**\\n{TEXT}\\n\\n**Summary Expectations:**\\n\\n- Effectively capture and articulate the main themes and key points from the text.\\n- Employ precise and lucid language to present insights cleanly and distinctly.\\n- Rigorously adhere to the set word limit to balance depth with conciseness.\\n\\n**Main Points to Address:**\\n\\n- A summary should reflect an accurate understanding and synthesis of the main ideas without distorting the intended message.\\n- Important figures or data mentioned in the text must be correctly encapsulated in the summary.\\n- Summary content should be concise yet comprehensive enough to represent the essential narrative and key details.\\n\\n**Model Example for Effective Summarization:**\\n* **Provided Text:** \"The application of AI in predictive analytics is transforming diverse industries by improving forecasting accuracy and decision-making processes.\"\\n* **Efficiently Summarized:** \"AI\\'s integration into predictive analytics is revolutionizing industries by enhancing forecasting accuracy and decision-making.\"\\n\\n**Guidelines for Optimal Performance:**\\nAdhere to these guidelines to ensure your summary is not only informative but also efficiently oriented to faithfully convey the core of the original text. This approach helps in offering a valuable and precise understanding of the fundamental topics discussed.', '#### Optimal Summary Instructions ####\\n\\n**Objective:** Precisely synthesize the core insights from the provided text.\\n\\n**Text for Summarization:**\\n{TEXT}\\n\\n**Summary Parameters:**\\n\\n- Accurately encapsulate the main ideas and underlying themes of the text.\\n- Employ clear, effective language to convey essential information concisely.\\n- Adherence to the word limit is crucial to ensure sharpness and focus.\\n\\n**Efficient Summary Approach:**\\n\\n- Highlight critical pieces of information, ensuring their accurate representation.\\n- Utilize a succinct and engaging writing style to aid comprehension and retention.\\n- Exclude any irrelevant details to maintain a streamlined and potent summary.\\n\\n**Illustration Example:**\\n\\n* **Given Text:** \"The ongoing evolution in digital marketing strategies is playing a pivotal role in shaping consumer behavior, leveraging advanced analytics to tailor highly effective campaigns.\"\\n* **Crafted Summary:** \"Digital marketing evolution is shaping consumer behavior by using advanced analytics to create effective tailored campaigns.\"\\n\\n**Final Reminder:**\\n\\nCraft a summary that not only condenses the text to its fundamental elements but also presents the content in a coherent, easily understandable manner for a broad audience. The summary should serve as a comprehensive yet concise reflection of the original text.\\n']\n"
     ]
    },
    {
     "data": {
      "application/vnd.jupyter.widget-view+json": {
       "model_id": "794c315ffc1847d29707974bd2527bdf",
       "version_major": 2,
       "version_minor": 0
      },
      "text/plain": [
       "Scoring:   0%|          | 0/8 [00:00<?, ?it/s]"
      ]
     },
     "metadata": {},
     "output_type": "display_data"
    },
    {
     "data": {
      "application/vnd.jupyter.widget-view+json": {
       "model_id": "3b568043286c4391b5c714383e1c0f0b",
       "version_major": 2,
       "version_minor": 0
      },
      "text/plain": [
       "#### Essential Summary Instructions ####\n",
       "\n",
       "**Objective:**\n",
       "\n",
       "Create a concise yet comprehensive summary of the pr…"
      ]
     },
     "metadata": {},
     "output_type": "display_data"
    },
    {
     "data": {
      "application/vnd.jupyter.widget-view+json": {
       "model_id": "480db227ddd9441f9b595f13d9b5428e",
       "version_major": 2,
       "version_minor": 0
      },
      "text/plain": [
       "#### Enhanced Summary Guidelines ####\n",
       "\n",
       "**Objective:** Develop a concise and accurate summary of the provided t…"
      ]
     },
     "metadata": {},
     "output_type": "display_data"
    },
    {
     "data": {
      "application/vnd.jupyter.widget-view+json": {
       "model_id": "435d300e016f4d8bb68070af0047c967",
       "version_major": 2,
       "version_minor": 0
      },
      "text/plain": [
       "#### Summary Creation Protocol ####\n",
       "\n",
       "**Objective:** Create a clear, concise, and informative summary from the …"
      ]
     },
     "metadata": {},
     "output_type": "display_data"
    },
    {
     "data": {
      "application/vnd.jupyter.widget-view+json": {
       "model_id": "4022fee184ba48b5a55b7820ba6b4540",
       "version_major": 2,
       "version_minor": 0
      },
      "text/plain": [
       "### Comprehensive Guide to Effective Summary Writing ###\n",
       "\n",
       "**Objective: Efficiently extract and articulate the …"
      ]
     },
     "metadata": {},
     "output_type": "display_data"
    },
    {
     "data": {
      "application/vnd.jupyter.widget-view+json": {
       "model_id": "7574a6520eac4ce3b15a6a91cc072a75",
       "version_major": 2,
       "version_minor": 0
      },
      "text/plain": [
       "#### Comprehensive Summary Guidelines ####\n",
       "\n",
       "**Objective:** Provide an insightful and succinct summary of the p…"
      ]
     },
     "metadata": {},
     "output_type": "display_data"
    },
    {
     "data": {
      "application/vnd.jupyter.widget-view+json": {
       "model_id": "045a6d5ae585489ca79a5bb655710c09",
       "version_major": 2,
       "version_minor": 0
      },
      "text/plain": [
       "#### Effective Summary Directions ####\n",
       "\n",
       "**Objective:** Succinctly distill and articulate the major themes and …"
      ]
     },
     "metadata": {},
     "output_type": "display_data"
    },
    {
     "data": {
      "application/vnd.jupyter.widget-view+json": {
       "model_id": "c4b1688be154479d8098e8307c76fac6",
       "version_major": 2,
       "version_minor": 0
      },
      "text/plain": [
       "### Comprehensive Summary Guidelines ###\n",
       "\n",
       "**Objective:** Thoroughly distill the core content from the provided…"
      ]
     },
     "metadata": {},
     "output_type": "display_data"
    },
    {
     "data": {
      "application/vnd.jupyter.widget-view+json": {
       "model_id": "2888e19e23ea4707ac8c0d29d4836d65",
       "version_major": 2,
       "version_minor": 0
      },
      "text/plain": [
       "#### Optimal Summary Instructions ####\n",
       "\n",
       "**Objective:** Precisely synthesize the core insights from the provide…"
      ]
     },
     "metadata": {},
     "output_type": "display_data"
    },
    {
     "name": "stdout",
     "output_type": "stream",
     "text": [
      "{'#### Essential Summary Instructions ####\\n\\n**Objective:**\\n\\nCreate a concise yet comprehensive summary of the provided content.\\n\\n**Text to be Summarized:**\\n{TEXT}\\n\\n**Summary Guidelines:**\\n\\n- Precisely capture and convey the main points and themes of the text.\\n- Use clear and straightforward language to ensure the summary is easily understandable.\\n- Adhere to the word limit to guarantee conciseness without overlooking important information.\\n\\n**Summary Construction:**\\n\\n- Emphasize the critical events and data in the text, carefully avoiding any alteration of their intended meaning.\\n- Craft your summary to be direct and informative, enabling quick and full comprehension.\\n\\n**Example of Effective Summarization:**\\n\\n* **Input Text:** \"The impact of advanced computing on healthcare is profound, speeding up diagnostic processes and personalizing treatment options, thereby significantly improving patient outcomes.\"\\n* **Crafted Summary:** \"Advanced computing is transforming healthcare by accelerating diagnostics and personalizing treatments, significantly enhancing patient outcomes.\"\\n\\n**Key Reminder:**\\n\\nA well-crafted summary should not only be brief but also complete, providing a clear portrayal of the text\\'s essential information and preserving the original intent. This necessitates a balance of precision and brevity to aid readers in grasping the pivotal themes readily.': 51.699055627071, '#### Enhanced Summary Guidelines ####\\n\\n**Objective:** Develop a concise and accurate summary of the provided text, focusing on essential information.\\n\\n**Text for Summarization:**\\n{TEXT}\\n\\n**Summary Priorities:**\\n\\n- Precisely condense the main themes and pivotal elements of the text.\\n- Utilize streamlined, clear language to deliver the most relevant insights.\\n- Adhere meticulously to the word limit to emphasize focus and effectiveness.\\n\\n**Strategies for Effective Summarization:**\\n\\n- Highlight critical data or statistics from the text without distorting the original meaning.\\n- Opt for direct and impactful language to facilitate clear understanding and retention.\\n- Eliminate unnecessary details to maintain a compact and informative summary.\\n\\n**Exemplary Execution:**\\n\\n* **Text Provided:** \"Advancements in machine learning are revolutionizing predictive analytics and data interpretation, enabling smarter decision-making across various sectors.\"\\n* **Summary Constructed:** \"Machine learning advancements are transforming predictive analytics and data interpretation, fostering smarter decision-making in diverse sectors.\"\\n\\n**Reminder for Optimal Summary:**\\n\\nEnsure that your summary succinctly captures the text\\'s core information, presenting a clear and thorough understanding of the subjects addressed, tailored for an audience that values precision and depth.': 48.58041829744355, '#### Summary Creation Protocol ####\\n\\n**Objective:** Create a clear, concise, and informative summary from the provided text.\\n\\n**Text to Summarize:**\\n{TEXT}\\n\\n**Summary Guidelines:**\\n\\n- Focus on extracting and conveying the main ideas and crucial details from the text.\\n- Utilize straightforward yet effective language to enhance comprehension and retention.\\n- Adhere to the word limit, fostering precision and impact in communication.\\n\\n**Detailed Approach:**\\n\\n- Prioritize the inclusion of key concepts and significant data points from the text.\\n- Ensure the language deployed is clear and direct, aiding quick understanding.\\n- Exclude any ancillary information to keep the summary focused and relevant.\\n\\n**Example for Better Understanding:**\\n\\n* **Text Provided:** \"The integration of advanced digital technologies across various sectors is revolutionizing traditional business models, enabling quicker decision-making and improved operational efficiencies.\"\\n* **Summary Executed:** \"Advanced digital technologies are transforming traditional business models, facilitating faster decision-making and enhancing operational efficiencies.\"\\n\\n**Reminder for Effective Summary Creation:**\\n\\nEnsure your summary not only succinctly encapsulates the text but also remains engaging and informative, providing a condensed yet comprehensive view of the original content. Aim to deliver a summary that synthesizes the key points effectively, offering clarity and insight.': 51.55873507807392, '### Comprehensive Guide to Effective Summary Writing ###\\n\\n**Objective: Efficiently extract and articulate the main points from the provided text.**\\n\\n**Text for Summarization:**\\n{TEXT}\\n\\n**Expectations for Your Summary:**\\n\\n- Provide a concise, clear, and factual recapitulation of the key details from the text.\\n- Focus on the primary themes, ensuring clarity and precision of language.\\n- Maintain strict adherence to the word limit to balance thoroughness with brevity.\\n\\n**Essentials for a Stellar Summary:**\\n\\n- Your summary must capture the core concepts and insights from the text without misrepresenting its original intent.\\n- Include pertinent facts or statistics mentioned in the text in an accurate manner.\\n- A summary failing to encompass essential narratives or details from the text will result in deductions.\\n\\n**Model for an Excellent Summary:**\\n* **Provided Text:** \"The ongoing global transition towards sustainable energy sources is being expedited by advancements in green technologies, with a significant reduction in costs and an increase in efficiency.\"\\n* **Crafted Summary:** \"Green technology advancements are accelerating the global shift to sustainable energy, marked by cost reductions and enhanced efficiency.\"\\n\\n**Guidance for Excellence:**\\nAdhering to these guidelines ensures that your summary not only thoroughly conveys the core message but also remains concise and loyal to the spirit of the original text, providing valuable insight for the reader.': 47.78587585850418, '#### Comprehensive Summary Guidelines ####\\n\\n**Objective:** Provide an insightful and succinct summary of the presented text.\\n\\n**Text for Summary:**\\n{TEXT}\\n\\n**Summary Expectations:**\\n\\n- Deliver a clear and informed recap of the principal themes within the text.\\n- Use precise and straightforward language that enhances readability and understanding.\\n- Strictly adhere to the word limit, striking a balance between completeness and conciseness.\\n\\n**Key Aspects to Highlight:**\\n\\n- The summary must convey the essential insights and concepts from the text without distorting the original meaning.\\n- Any crucial data or figures mentioned in the text should be accurately summarized.\\n- Summaries that fail to effectively encapsulate the core message of the text will be penalized.\\n\\n**Example of Ideal Summary Execution:**\\n* **Provided Text:** \"The rapid evolution of digital technologies is significantly influencing urban planning, revolutionizing how cities manage infrastructure, and improve service delivery to meet the needs of growing populations.\"\\n* **Crafted Summary:** \"Digital technology evolution is transforming urban planning by revolutionizing infrastructure management and service delivery to support expanding urban populations.\"\\n\\n**Reminders for an Optimal Summary:**\\nAdherence to these instructions will ensure your summary not only captures the vital content but is also coherent, concise, and aligned with the core message of the text, providing a valuable overview for readers seeking concise yet comprehensive information.': 48.0269965615944, '#### Effective Summary Directions ####\\n\\n**Objective:** Succinctly distill and articulate the major themes and data from the presented text.\\n\\n**Text for Summary:**\\n{TEXT}\\n\\n**Summary Targets:**\\n\\n- Identify and clearly communicate the core themes and critical details of the text.\\n- Employ concise and precise language to present the primary messages effectively.\\n- Comply with the word limit to focus depth and clarity.\\n\\n**Summary Procedure:**\\n\\n- Concentrate on essential components and vital details, ensuring they are accurately depicted.\\n- Use straightforward, impactful language that facilitates quick comprehension.\\n- Exclude peripheral elements to keep the narrative focused and strong.\\n\\n**Example of Effective Execution:**\\n\\n* **Original Material:** \"Developments in machine learning are significantly influencing healthcare practices, leading to improved diagnostics and personalized treatment plans which leverage predictive analytics.\"\\n* **Condensed Summary:** \"Machine learning is revolutionizing healthcare by enhancing diagnostics and creating customized treatment plans through predictive analytics.\"\\n\\n**Final Notes for High-Quality Summation:**\\n\\nEndeavor to create a summary that not only condenses the main points succinctly but also maintains the integrity and depth of the original text, providing a clear and comprehensive understanding for the reader.': 50.06329930332467, '### Comprehensive Summary Guidelines ###\\n\\n**Objective:** Thoroughly distill the core content from the provided text.\\n\\n**Text for Summarization:**\\n{TEXT}\\n\\n**Summary Expectations:**\\n\\n- Effectively capture and articulate the main themes and key points from the text.\\n- Employ precise and lucid language to present insights cleanly and distinctly.\\n- Rigorously adhere to the set word limit to balance depth with conciseness.\\n\\n**Main Points to Address:**\\n\\n- A summary should reflect an accurate understanding and synthesis of the main ideas without distorting the intended message.\\n- Important figures or data mentioned in the text must be correctly encapsulated in the summary.\\n- Summary content should be concise yet comprehensive enough to represent the essential narrative and key details.\\n\\n**Model Example for Effective Summarization:**\\n* **Provided Text:** \"The application of AI in predictive analytics is transforming diverse industries by improving forecasting accuracy and decision-making processes.\"\\n* **Efficiently Summarized:** \"AI\\'s integration into predictive analytics is revolutionizing industries by enhancing forecasting accuracy and decision-making.\"\\n\\n**Guidelines for Optimal Performance:**\\nAdhere to these guidelines to ensure your summary is not only informative but also efficiently oriented to faithfully convey the core of the original text. This approach helps in offering a valuable and precise understanding of the fundamental topics discussed.': 45.154292828400614, '#### Optimal Summary Instructions ####\\n\\n**Objective:** Precisely synthesize the core insights from the provided text.\\n\\n**Text for Summarization:**\\n{TEXT}\\n\\n**Summary Parameters:**\\n\\n- Accurately encapsulate the main ideas and underlying themes of the text.\\n- Employ clear, effective language to convey essential information concisely.\\n- Adherence to the word limit is crucial to ensure sharpness and focus.\\n\\n**Efficient Summary Approach:**\\n\\n- Highlight critical pieces of information, ensuring their accurate representation.\\n- Utilize a succinct and engaging writing style to aid comprehension and retention.\\n- Exclude any irrelevant details to maintain a streamlined and potent summary.\\n\\n**Illustration Example:**\\n\\n* **Given Text:** \"The ongoing evolution in digital marketing strategies is playing a pivotal role in shaping consumer behavior, leveraging advanced analytics to tailor highly effective campaigns.\"\\n* **Crafted Summary:** \"Digital marketing evolution is shaping consumer behavior by using advanced analytics to create effective tailored campaigns.\"\\n\\n**Final Reminder:**\\n\\nCraft a summary that not only condenses the text to its fundamental elements but also presents the content in a coherent, easily understandable manner for a broad audience. The summary should serve as a comprehensive yet concise reflection of the original text.\\n': 49.08348022780734}\n",
      "Step 6\n"
     ]
    },
    {
     "data": {
      "application/vnd.jupyter.widget-view+json": {
       "model_id": "6026499d6d574c499e03c276c555d227",
       "version_major": 2,
       "version_minor": 0
      },
      "text/plain": [
       "Optimizing:   0%|          | 0/8 [00:00<?, ?it/s]"
      ]
     },
     "metadata": {},
     "output_type": "display_data"
    },
    {
     "name": "stdout",
     "output_type": "stream",
     "text": [
      "['#### Comprehensive Summary Guidance ####\\n\\n**Objective:**\\n\\nEfficiently condense the essential information from the provided text.\\n\\n**Text for Summary:**\\n{TEXT}\\n\\n**Summary Objectives:**\\n\\n- Accurately capture and express the key themes and core messages of the text.\\n- Use precise, succinct language to deliver an unambiguous and cogent summary.\\n- Strictly follow the word limit to ensure clarity and effectiveness.\\n\\n**Summary Strategy:**\\n\\n- Focus on the main points and significant information, avoiding unnecessary details.\\n- Employ clear, impactful language to facilitate quick understanding and retention.\\n- Ensure that the summary is both comprehensive and direct, providing a clear overview while staying true to the content\\'s original meaning.\\n\\n**Example of Ideal Execution:**\\n\\n* **Text Provided:** \"The ongoing advancements in renewable energy technologies are not only making energy sources like solar and wind more affordable but are also instrumental in driving policy changes and fostering global cooperation in environmental sustainability efforts.\"\\n* **Summary Created:** \"Renewable energy advancements are reducing costs and driving policy changes, enhancing global cooperation in environmental sustainability.\"\\n\\n**Final Reminder:**\\n\\nThe objective is to create a summary that is both informative and compact, encapsulating the primary information without altering the essence or diluting the text\\'s impact. Aim to deliver a clear, structured summary that adheres strictly to these guidelines for optimal communication and understanding.', '#### Summary Composition Directive ####\\n\\n**Objective:** Concisely encapsulate the essence and key points of the provided text.\\n\\n**Text Provided for Summary:**\\n{TEXT}\\n\\n**Summary Expectations:**\\n\\n- Accurately capture and convey the pivotal themes and information of the text.\\n- Employ a clear, direct style to ensure the summary is comprehensible and succinct.\\n- Strict adherence to the word limit is required to maintain focus and clarity.\\n\\n**Execution Strategy:**\\n\\n- Highlight the most relevant details and principal insights from the text.\\n- Use straightforward and precise language to aid in quick and clear understanding.\\n- Avoid unnecessary details to keep the summary focused and relevant.\\n\\n**Example for Better Mastery:**\\n\\n* **Text to Summarize:** \"The ongoing advancements in genetic engineering are greatly enhancing agricultural productivity, enabling the cultivation of crops that are both more nutritious and resistant to environmental stresses.\"\\n* **Crafted Summary:** \"Genetic engineering advancements are significantly boosting agricultural productivity by developing crops that are more nutritious and environmentally resilient.\"\\n\\n**Final Guidance:**\\n\\nAim to produce a summary that not only effectively condenses the information but also provides a coherent, informative overview that remains true to the original text’s intent. Your summary should offer readers a clear, concise understanding of the main themes.', '#### Comprehensive Summary Guide ####\\n\\n**Objective:** Create an effective and concise summary of the given text.\\n\\n**Text to Summarize:** {TEXT}\\n\\n**Summary Essentials:**\\n\\n- Accurately capture the main points and overarching themes of the text.\\n- Employ clear, precise language to ensure the summary is informative and concise.\\n- Strictly adhere to the word limit to maintain focus and clarity.\\n\\n**Effective Summary Approach:**\\n\\n- Highlight critical information and key insights, omitting unnecessary details.\\n- Utilize direct and effective language to foster better comprehension.\\n- Summarize in a manner that provides a thorough overview while remaining true to the original text\\'s intent.\\n\\n**Example for Clarity:**\\n\\n* **Text Provided:** \"The shift towards digital workspaces is enhancing productivity and flexibility, enabling businesses to adopt more dynamic operational models and cater to global markets more efficiently.\"\\n* **Summary Drafted:** \"The transition to digital workspaces is boosting business productivity and flexibility, facilitating the adoption of dynamic models and efficient global market engagement.\"\\n\\n**Final Tips:**\\n\\nEnsure that your summary not only effectively condenses the essential information but also remains engaging and accessible, offering readers a clear, comprehensive understanding of the text\\'s main themes.', '#### Comprehensive Summary Guidance ####\\n\\n**Objective:**\\n\\nStreamline the provided text into an articulate and insightful summary.\\n\\n**Text to Condense:**\\n{TEXT}\\n\\n**Summary Instructions:**\\n\\n- Accurately encapsulate the essential points and themes of the text.\\n- Utilize precise and clear language to convey the main insights effectively.\\n- Strict adherence to the word limit is crucial to ensure brevity and clarity.\\n\\n**Execution Strategy:**\\n\\n- Highlight key information and relevant details from the text, ensuring they are well represented in the summary.\\n- Craft your summary to be direct and engaging, facilitating quick and comprehensive comprehension.\\n- Avoid including unnecessary details to maintain focus and relevance.\\n\\n**Example of Effective Synthesis:**\\n\\n* **Text Provided:** \"The rapid evolution of digital technologies is profoundly transforming media landscapes, creating new opportunities for content personalization and interactive consumer engagement.\"\\n* **Summary Executed:** \"Digital technologies are rapidly transforming media landscapes by enabling personalized content and interactive consumer engagement.\"\\n\\n**Final Note:**\\n\\nAim to produce a summary that not only condenses the text succinctly but also offers a clear, informative overview that encapsulates the original content\\'s intent accurately. Your summary should serve as a concise yet thorough understanding of the text’s primary messages.', '#### Summary Instruction Manual ####\\n\\n**Objective:** Provide a clear and concise summary of the specified text.\\n\\n**Text for Summary:** {TEXT}\\n\\n**Summary Guidelines:**\\n\\n- Ensure the summary captures the essential points and themes from the text succinctly.\\n- Use direct and straightforward language to aid comprehension and retention.\\n- Keep within the prescribed word limit to maintain focus and precision.\\n\\n**Steps for Effective Summarization:**\\n\\n1. Identify and highlight the core insights and main ideas from the text.\\n2. Utilize clear and concise language, omitting unnecessary details to streamline the summary.\\n3. Be mindful of the language clarity to ensure the summary is accessible and insightful.\\n\\n**Ideal Summary Execution:**\\n\\n* **Text Example:** \"The merger of two leading tech companies promises to redefine industry standards, driving innovation and improving user experiences through enhanced services and technological capabilities.\"\\n* **Summary Developed:** \"The union of two tech giants is set to transform industry norms by fostering innovation and enhancing user services and technology.\"\\n\\n**Final Pointers:**\\n\\nCraft a summary that not only condenses but also effectively communicates the essence of the text, providing a clear and informative understanding of the key messages. Ensure your summary is impactful, serving as an accurate, concise reflection of the original text.', '### Detailed Guidelines for Effective Summary Creation ###\\n\\n**Objective:** \\nCreate a succinct yet complete summary of the provided text.\\n\\n**Text for Summarization:**\\n{TEXT}\\n\\n**Instructions for Summary:**\\n\\n- Focus on capturing the essential messages and primary themes of the text.\\n- Employ clear and concise language to communicate key points effectively.\\n- Adhere strictly to the word limit, ensuring the summary is both comprehensive and focused.\\n\\n**Summary Prioritization:**\\n\\n- Highlight the most critical information and pertinent details from the text.\\n- Ensure language clarity and brevity for seamless comprehension.\\n- Avoid unnecessary details to maintain the summary’s relevance and conciseness.\\n\\n**Example for Guidance:**\\n\\n* **Text Provided:** \"Emerging trends in digital health technology are driving improvements in patient care by enabling real-time health monitoring and personalized treatment plans.\"\\n* **Summary Created:** \"Digital health technology trends are enhancing patient care through real-time monitoring and personalized treatments.\"\\n\\n**Final Notes:**\\n\\nAim for a summary that effectively distills the text’s essential content into a clear, insightful, and precise format. The summary should serve as an informative and accurate representation of the original text, tailored for audiences seeking a quick and thorough understanding of the main topics.', '#### Summary Construction Guide ####\\n\\n**Objective:** Craft a concise and clear summary from the provided content.\\n\\n**Text to Summarize:**\\n{TEXT}\\n\\n**Summary Directions:**\\n\\n- Capture the primary themes and essential details of the text accurately.\\n- Use clear, precise language to effectively communicate the key points.\\n- Adhere to the word count limitation to ensure the summary is both succinct and comprehensive.\\n\\n**Execution Strategy:**\\n\\n- Identify and emphasize the most significant information from the text.\\n- Maintain straightforward and impactful language to ensure the summary is easily understood.\\n- Exclude unnecessary details to stay focused on the main objectives of the text.\\n\\n**Example for Practice:**\\n\\n* **Provided Text:** \"The proliferation of digital media has transformed the way news is produced and consumed, affecting the speed of dissemination and the breadth of audience reach.\"\\n* **Crafted Summary:** \"Digital media has revolutionized news production and consumption, speeding distribution and expanding audience reach.\"\\n\\n**Final Reminder:**\\n\\nYour summary should serve as a clear and condensed reflection of the original text, enabling readers to grasp the essential points swiftly and effectively. Aim for a balance of clarity and detail within the specified word limit.', '#### Optimal Summary Guidelines ####\\n\\n**Objective:** Craft a clear, accurate summary that distills the essence of the provided text.\\n\\n**Text for Summary:**\\n{TEXT}\\n\\n**Summary Dynamics:**\\n\\n- Capture the core themes and essential details accurately.\\n- Employ concise and straightforward language to enhance understanding and retention.\\n- Strict adherence to the word limit is crucial for clarity and focus.\\n\\n**Execution Strategy:**\\n\\n- Highlight key information and significant insights from the text.\\n- Use clear, efficient language to ensure the summary is both precise and accessible.\\n- Eliminate non-essential details to maintain a concise, impactful narrative.\\n\\n**Example of Effective Summary:**\\n\\n* **Text Provided:** \"Emerging technologies are reshaping the financial sector by automating operations and enhancing data security, significantly improving efficiency and customer trust.\"\\n* **Summary Produced:** \"Emerging technologies are transforming the financial sector by automating operations and boosting data security, thereby enhancing efficiency and building customer trust.\"\\n\\n**Final Tips:**\\n\\nYour summary should not only condense the information effectively but also provide a comprehensive understanding of the text’s main points. Focus on delivering a succinct yet thorough overview that remains faithful to the original content’s intent.']\n"
     ]
    },
    {
     "data": {
      "application/vnd.jupyter.widget-view+json": {
       "model_id": "09526a25b6f0431887c8af3b5a5c59a7",
       "version_major": 2,
       "version_minor": 0
      },
      "text/plain": [
       "Scoring:   0%|          | 0/8 [00:00<?, ?it/s]"
      ]
     },
     "metadata": {},
     "output_type": "display_data"
    },
    {
     "data": {
      "application/vnd.jupyter.widget-view+json": {
       "model_id": "a5644bdb0aca4e7895e0992d6b698f33",
       "version_major": 2,
       "version_minor": 0
      },
      "text/plain": [
       "#### Comprehensive Summary Guidance ####\n",
       "\n",
       "**Objective:**\n",
       "\n",
       "Efficiently condense the essential information from …"
      ]
     },
     "metadata": {},
     "output_type": "display_data"
    },
    {
     "data": {
      "application/vnd.jupyter.widget-view+json": {
       "model_id": "bcaf3693601347d6b7f637497d8278ac",
       "version_major": 2,
       "version_minor": 0
      },
      "text/plain": [
       "#### Summary Composition Directive ####\n",
       "\n",
       "**Objective:** Concisely encapsulate the essence and key points of th…"
      ]
     },
     "metadata": {},
     "output_type": "display_data"
    },
    {
     "data": {
      "application/vnd.jupyter.widget-view+json": {
       "model_id": "f6e756a771a74cafa2ba0cf8144f3be7",
       "version_major": 2,
       "version_minor": 0
      },
      "text/plain": [
       "#### Comprehensive Summary Guide ####\n",
       "\n",
       "**Objective:** Create an effective and concise summary of the given tex…"
      ]
     },
     "metadata": {},
     "output_type": "display_data"
    },
    {
     "data": {
      "application/vnd.jupyter.widget-view+json": {
       "model_id": "5ad75ffee4d04885b3aa45bc2648337d",
       "version_major": 2,
       "version_minor": 0
      },
      "text/plain": [
       "#### Comprehensive Summary Guidance ####\n",
       "\n",
       "**Objective:**\n",
       "\n",
       "Streamline the provided text into an articulate and …"
      ]
     },
     "metadata": {},
     "output_type": "display_data"
    },
    {
     "data": {
      "application/vnd.jupyter.widget-view+json": {
       "model_id": "6d76e70ff731468c9f5dedfd542f0c4a",
       "version_major": 2,
       "version_minor": 0
      },
      "text/plain": [
       "#### Summary Instruction Manual ####\n",
       "\n",
       "**Objective:** Provide a clear and concise summary of the specified text…"
      ]
     },
     "metadata": {},
     "output_type": "display_data"
    },
    {
     "data": {
      "application/vnd.jupyter.widget-view+json": {
       "model_id": "ba2e36f941df45379f22bf486d561199",
       "version_major": 2,
       "version_minor": 0
      },
      "text/plain": [
       "### Detailed Guidelines for Effective Summary Creation ###\n",
       "\n",
       "**Objective:** \n",
       "Create a succinct yet complete sum…"
      ]
     },
     "metadata": {},
     "output_type": "display_data"
    },
    {
     "data": {
      "application/vnd.jupyter.widget-view+json": {
       "model_id": "129587d8f55b44f6916532691b188af1",
       "version_major": 2,
       "version_minor": 0
      },
      "text/plain": [
       "#### Summary Construction Guide ####\n",
       "\n",
       "**Objective:** Craft a concise and clear summary from the provided conte…"
      ]
     },
     "metadata": {},
     "output_type": "display_data"
    },
    {
     "data": {
      "application/vnd.jupyter.widget-view+json": {
       "model_id": "af14e6a10de3403d96ca0eccc05b690a",
       "version_major": 2,
       "version_minor": 0
      },
      "text/plain": [
       "#### Optimal Summary Guidelines ####\n",
       "\n",
       "**Objective:** Craft a clear, accurate summary that distills the essence…"
      ]
     },
     "metadata": {},
     "output_type": "display_data"
    },
    {
     "name": "stdout",
     "output_type": "stream",
     "text": [
      "{'#### Comprehensive Summary Guidance ####\\n\\n**Objective:**\\n\\nEfficiently condense the essential information from the provided text.\\n\\n**Text for Summary:**\\n{TEXT}\\n\\n**Summary Objectives:**\\n\\n- Accurately capture and express the key themes and core messages of the text.\\n- Use precise, succinct language to deliver an unambiguous and cogent summary.\\n- Strictly follow the word limit to ensure clarity and effectiveness.\\n\\n**Summary Strategy:**\\n\\n- Focus on the main points and significant information, avoiding unnecessary details.\\n- Employ clear, impactful language to facilitate quick understanding and retention.\\n- Ensure that the summary is both comprehensive and direct, providing a clear overview while staying true to the content\\'s original meaning.\\n\\n**Example of Ideal Execution:**\\n\\n* **Text Provided:** \"The ongoing advancements in renewable energy technologies are not only making energy sources like solar and wind more affordable but are also instrumental in driving policy changes and fostering global cooperation in environmental sustainability efforts.\"\\n* **Summary Created:** \"Renewable energy advancements are reducing costs and driving policy changes, enhancing global cooperation in environmental sustainability.\"\\n\\n**Final Reminder:**\\n\\nThe objective is to create a summary that is both informative and compact, encapsulating the primary information without altering the essence or diluting the text\\'s impact. Aim to deliver a clear, structured summary that adheres strictly to these guidelines for optimal communication and understanding.': 48.599754871075326, '#### Summary Composition Directive ####\\n\\n**Objective:** Concisely encapsulate the essence and key points of the provided text.\\n\\n**Text Provided for Summary:**\\n{TEXT}\\n\\n**Summary Expectations:**\\n\\n- Accurately capture and convey the pivotal themes and information of the text.\\n- Employ a clear, direct style to ensure the summary is comprehensible and succinct.\\n- Strict adherence to the word limit is required to maintain focus and clarity.\\n\\n**Execution Strategy:**\\n\\n- Highlight the most relevant details and principal insights from the text.\\n- Use straightforward and precise language to aid in quick and clear understanding.\\n- Avoid unnecessary details to keep the summary focused and relevant.\\n\\n**Example for Better Mastery:**\\n\\n* **Text to Summarize:** \"The ongoing advancements in genetic engineering are greatly enhancing agricultural productivity, enabling the cultivation of crops that are both more nutritious and resistant to environmental stresses.\"\\n* **Crafted Summary:** \"Genetic engineering advancements are significantly boosting agricultural productivity by developing crops that are more nutritious and environmentally resilient.\"\\n\\n**Final Guidance:**\\n\\nAim to produce a summary that not only effectively condenses the information but also provides a coherent, informative overview that remains true to the original text’s intent. Your summary should offer readers a clear, concise understanding of the main themes.': 52.026499030411784, '#### Comprehensive Summary Guide ####\\n\\n**Objective:** Create an effective and concise summary of the given text.\\n\\n**Text to Summarize:** {TEXT}\\n\\n**Summary Essentials:**\\n\\n- Accurately capture the main points and overarching themes of the text.\\n- Employ clear, precise language to ensure the summary is informative and concise.\\n- Strictly adhere to the word limit to maintain focus and clarity.\\n\\n**Effective Summary Approach:**\\n\\n- Highlight critical information and key insights, omitting unnecessary details.\\n- Utilize direct and effective language to foster better comprehension.\\n- Summarize in a manner that provides a thorough overview while remaining true to the original text\\'s intent.\\n\\n**Example for Clarity:**\\n\\n* **Text Provided:** \"The shift towards digital workspaces is enhancing productivity and flexibility, enabling businesses to adopt more dynamic operational models and cater to global markets more efficiently.\"\\n* **Summary Drafted:** \"The transition to digital workspaces is boosting business productivity and flexibility, facilitating the adoption of dynamic models and efficient global market engagement.\"\\n\\n**Final Tips:**\\n\\nEnsure that your summary not only effectively condenses the essential information but also remains engaging and accessible, offering readers a clear, comprehensive understanding of the text\\'s main themes.': 47.04914533833331, '#### Comprehensive Summary Guidance ####\\n\\n**Objective:**\\n\\nStreamline the provided text into an articulate and insightful summary.\\n\\n**Text to Condense:**\\n{TEXT}\\n\\n**Summary Instructions:**\\n\\n- Accurately encapsulate the essential points and themes of the text.\\n- Utilize precise and clear language to convey the main insights effectively.\\n- Strict adherence to the word limit is crucial to ensure brevity and clarity.\\n\\n**Execution Strategy:**\\n\\n- Highlight key information and relevant details from the text, ensuring they are well represented in the summary.\\n- Craft your summary to be direct and engaging, facilitating quick and comprehensive comprehension.\\n- Avoid including unnecessary details to maintain focus and relevance.\\n\\n**Example of Effective Synthesis:**\\n\\n* **Text Provided:** \"The rapid evolution of digital technologies is profoundly transforming media landscapes, creating new opportunities for content personalization and interactive consumer engagement.\"\\n* **Summary Executed:** \"Digital technologies are rapidly transforming media landscapes by enabling personalized content and interactive consumer engagement.\"\\n\\n**Final Note:**\\n\\nAim to produce a summary that not only condenses the text succinctly but also offers a clear, informative overview that encapsulates the original content\\'s intent accurately. Your summary should serve as a concise yet thorough understanding of the text’s primary messages.': 50.03125419443394, '#### Summary Instruction Manual ####\\n\\n**Objective:** Provide a clear and concise summary of the specified text.\\n\\n**Text for Summary:** {TEXT}\\n\\n**Summary Guidelines:**\\n\\n- Ensure the summary captures the essential points and themes from the text succinctly.\\n- Use direct and straightforward language to aid comprehension and retention.\\n- Keep within the prescribed word limit to maintain focus and precision.\\n\\n**Steps for Effective Summarization:**\\n\\n1. Identify and highlight the core insights and main ideas from the text.\\n2. Utilize clear and concise language, omitting unnecessary details to streamline the summary.\\n3. Be mindful of the language clarity to ensure the summary is accessible and insightful.\\n\\n**Ideal Summary Execution:**\\n\\n* **Text Example:** \"The merger of two leading tech companies promises to redefine industry standards, driving innovation and improving user experiences through enhanced services and technological capabilities.\"\\n* **Summary Developed:** \"The union of two tech giants is set to transform industry norms by fostering innovation and enhancing user services and technology.\"\\n\\n**Final Pointers:**\\n\\nCraft a summary that not only condenses but also effectively communicates the essence of the text, providing a clear and informative understanding of the key messages. Ensure your summary is impactful, serving as an accurate, concise reflection of the original text.': 49.873215968669776, '### Detailed Guidelines for Effective Summary Creation ###\\n\\n**Objective:** \\nCreate a succinct yet complete summary of the provided text.\\n\\n**Text for Summarization:**\\n{TEXT}\\n\\n**Instructions for Summary:**\\n\\n- Focus on capturing the essential messages and primary themes of the text.\\n- Employ clear and concise language to communicate key points effectively.\\n- Adhere strictly to the word limit, ensuring the summary is both comprehensive and focused.\\n\\n**Summary Prioritization:**\\n\\n- Highlight the most critical information and pertinent details from the text.\\n- Ensure language clarity and brevity for seamless comprehension.\\n- Avoid unnecessary details to maintain the summary’s relevance and conciseness.\\n\\n**Example for Guidance:**\\n\\n* **Text Provided:** \"Emerging trends in digital health technology are driving improvements in patient care by enabling real-time health monitoring and personalized treatment plans.\"\\n* **Summary Created:** \"Digital health technology trends are enhancing patient care through real-time monitoring and personalized treatments.\"\\n\\n**Final Notes:**\\n\\nAim for a summary that effectively distills the text’s essential content into a clear, insightful, and precise format. The summary should serve as an informative and accurate representation of the original text, tailored for audiences seeking a quick and thorough understanding of the main topics.': 47.24963814327315, '#### Summary Construction Guide ####\\n\\n**Objective:** Craft a concise and clear summary from the provided content.\\n\\n**Text to Summarize:**\\n{TEXT}\\n\\n**Summary Directions:**\\n\\n- Capture the primary themes and essential details of the text accurately.\\n- Use clear, precise language to effectively communicate the key points.\\n- Adhere to the word count limitation to ensure the summary is both succinct and comprehensive.\\n\\n**Execution Strategy:**\\n\\n- Identify and emphasize the most significant information from the text.\\n- Maintain straightforward and impactful language to ensure the summary is easily understood.\\n- Exclude unnecessary details to stay focused on the main objectives of the text.\\n\\n**Example for Practice:**\\n\\n* **Provided Text:** \"The proliferation of digital media has transformed the way news is produced and consumed, affecting the speed of dissemination and the breadth of audience reach.\"\\n* **Crafted Summary:** \"Digital media has revolutionized news production and consumption, speeding distribution and expanding audience reach.\"\\n\\n**Final Reminder:**\\n\\nYour summary should serve as a clear and condensed reflection of the original text, enabling readers to grasp the essential points swiftly and effectively. Aim for a balance of clarity and detail within the specified word limit.': 48.05183099330524, '#### Optimal Summary Guidelines ####\\n\\n**Objective:** Craft a clear, accurate summary that distills the essence of the provided text.\\n\\n**Text for Summary:**\\n{TEXT}\\n\\n**Summary Dynamics:**\\n\\n- Capture the core themes and essential details accurately.\\n- Employ concise and straightforward language to enhance understanding and retention.\\n- Strict adherence to the word limit is crucial for clarity and focus.\\n\\n**Execution Strategy:**\\n\\n- Highlight key information and significant insights from the text.\\n- Use clear, efficient language to ensure the summary is both precise and accessible.\\n- Eliminate non-essential details to maintain a concise, impactful narrative.\\n\\n**Example of Effective Summary:**\\n\\n* **Text Provided:** \"Emerging technologies are reshaping the financial sector by automating operations and enhancing data security, significantly improving efficiency and customer trust.\"\\n* **Summary Produced:** \"Emerging technologies are transforming the financial sector by automating operations and boosting data security, thereby enhancing efficiency and building customer trust.\"\\n\\n**Final Tips:**\\n\\nYour summary should not only condense the information effectively but also provide a comprehensive understanding of the text’s main points. Focus on delivering a succinct yet thorough overview that remains faithful to the original content’s intent.': 52.15494591448107}\n",
      "Step 7\n"
     ]
    },
    {
     "data": {
      "application/vnd.jupyter.widget-view+json": {
       "model_id": "59410862c3c64191a360334b6344d018",
       "version_major": 2,
       "version_minor": 0
      },
      "text/plain": [
       "Optimizing:   0%|          | 0/8 [00:00<?, ?it/s]"
      ]
     },
     "metadata": {},
     "output_type": "display_data"
    },
    {
     "name": "stdout",
     "output_type": "stream",
     "text": [
      "['#### Text Summarization Directive ####\\n\\n**Objective:** Efficiently condense the main content of the provided text into a clear and precise summary.\\n\\n**Text for Summary:**\\n{TEXT}\\n\\n**Summary Essentials:**\\n\\n- Accurately reflect the central themes and crucial insights of the text.\\n- Utilize straightforward, eloquent language to ensure the summary is both understandable and engaging.\\n- Adhere firmly to the word count restriction to maintain conciseness and clarity.\\n\\n**Summary Execution Plan:**\\n\\n- Focus on essential details and major insights, ensuring they are prominently captured.\\n- Opt for clear and concise wording to enhance readability and retention.\\n- Exclude non-essential information to keep the summary direct and relevant.\\n\\n**Example of Handling Summary Tasks:**\\n\\n* **Original Text:** \"The spread of digital literacy is empowering populations worldwide, enabling them to access information and services previously out of reach, thus democratizing knowledge and fostering educational equality.\"\\n* **Efficient Summary:** \"Increasing digital literacy worldwide empowers populations by broadening access to information and services, thus promoting knowledge democracization and educational equality.\"\\n\\n**Summary Optimization Reminder:**\\n\\nStrive to craft a summary that not only effectively condenses but also vividly presents the original text\\'s intent, providing a concise, clear portrait of the main information while maintaining the text’s integrity and depth.', 'Summarize this text effectively:\\n\\n**Text for Summary:**\\n{TEXT}\\n\\n**Key Summary Targets:**\\n\\n- Capture all critical points and central themes from the original text succinctly.\\n- Use lucid, concise language to present these insights compactly.\\n- Adhere strictly to word limits to sharpen focus and enhance readability.\\n\\n**Approach for a High-Quality Summary:**\\n\\n- Focus on extracting and highlighting the major points and insights from the text.\\n- Ensure that your language is clear and direct, facilitating quick comprehension and retention.\\n- Exclude any irrelevant details to keep the summary comprehensive yet concise.\\n\\n**Ideal Execution Example:**\\n\\n* **Given Text:** \"Ongoing developments in renewable energy technology are drastically reducing costs and increasing efficiency, making sustainable energy options more accessible globally and advancing environmental conservation.\"\\n* **Prepared Summary:** \"Renewable energy advancements are significantly lowering costs and improving efficiencies, making sustainable options more globally accessible and promoting environmental conservation.\"\\n\\n**Summary Reminder:**\\n\\nAim to create a summary that is condensed but thorough, offering a clear and direct encapsulation of the original text’s main points and themes. Your summary should deliver a robust understanding in a concise format.', '#### Advanced Summary Creation Techniques ####\\n\\n**Objective:** Produce a precise, articulate summary that effectively condenses the essence of the provided text.\\n\\n**Text for Summary:**\\n{TEXT}\\n\\n**Summary Goals:**\\n\\n- Accurately distill the main ideas and underlying themes of the text.\\n- Use clear, succinct language to deliver these insights.\\n- Strict adherence to the word limit to enhance readability and focus.\\n\\n**Strategy for Execution:**\\n\\n- Identify and highlight the most critical information and key facts from the text.\\n- Employ direct and unambiguous language, enabling straightforward comprehension.\\n- Avoid unnecessary details to maintain the conciseness of the summary.\\n\\n**Effective Summary Example:**\\n\\n* **Original Text:** \"The ongoing digital transformation in the healthcare sector is enhancing patient care through more personalized and responsive treatment options enabled by cutting-edge technology.\"\\n* **Summary Produced:** \"Digital transformation in healthcare is improving patient care by providing more personalized and responsive treatments through advanced technology.\"\\n\\n**Key Reminders:**\\n\\nYour summary should offer a comprehensive yet compact overview that captures the primary intent of the original text. Aim for a summary that provides a clear, informative snapshot of the text\\'s main points, ensuring it is impactful and aligned with the source material.', '#### Effective Summary Crafting Protocol ####\\n\\n**Objective:** Produce a succinct and precise summary that encapsulates the key information and insights of the provided text.\\n\\n**Text Given for Summary:**\\n{TEXT}\\n\\n**Summary Approach:**\\n\\n- Accurately convey the main principles and significant points from the original text.\\n- Use clear, concise language to facilitate better understanding and retention.\\n- Adhere strictly to the given word limit to ensure a focused and effective summary.\\n\\n**Execution Guidelines:**\\n\\n- Identify and emphasize the essential information and critical insights from the text.\\n- Maintain a straightforward and unambiguous language style to enhance reader comprehension.\\n- Exclude all non-essential details to keep the summary concise and relevant.\\n\\n**Model Summary Example:**\\n\\n* **Text Before Summary:** \"The integration of blockchain technology across various industries is revolutionizing security protocols, enhancing transparency, and improving both efficiency and trust among stakeholders.\"\\n* **Summarized Version:** \"Blockchain technology is revolutionizing multiple industries by enhancing security, transparency, and efficiency, thus building greater stakeholder trust.\"\\n\\n**Final Tips for Excellence:**\\n\\nAim for a summary that not only effectively condenses the core content but also stands out as clear, engaging, and informative, mirroring the depth and intent of the original text. Your summary should help readers grasp the essential messages swiftly and clearly.', '#### Enhanced Summary Creation Guidelines ####\\n\\n**Objective:** Produce a concise and comprehensive summary that captures the essential information and key themes of the provided text.\\n\\n**Text for Summary:**\\n{TEXT}\\n\\n**Summary Imperatives:**\\n\\n- Accurately distill the main themes and pivotal details of the text.\\n- Employ clear, concise language to facilitate comprehension and retention.\\n- Maintain strict adherence to the word limit to enhance focus and clarity.\\n\\n**Summary Execution Framework:**\\n\\n- Concentrate on the most significant information and insights from the text.\\n- Opt for a direct and effective language style to ensure the summary is both accessible and precise.\\n- Exclude non-essential details to keep the summary streamlined and relevant.\\n\\n**Illustrative Example:**\\n\\n* **Provided Text:** \"Cutting-edge biotechnology is progressing rapidly, enabling significant breakthroughs in medical treatments and agricultural productivity that promise to reshape industries.\"\\n* **Crafted Summary:** \"Advancements in biotechnology are quickly leading to major breakthroughs in medical treatments and agricultural productivity, poised to transform related industries.\"\\n\\n**Final Considerations:**\\n\\nAim for a summary that not only succinctly encapsulates the critical information but also provides a clear, detailed understanding of the text\\'s core intent. Your summary should enable readers to grasp the fundamental themes efficiently.', '#### Summary Execution Framework ####\\n\\n**Objective:** Efficiently condense the essence and primary insights of the provided text.\\n\\n**Text for Summary:**\\n{TEXT}\\n\\n**Summary Essentials:**\\n\\n- Accurately capture both the fundamental themes and pivotal details of the text.\\n- Utilize clear, concise language to deliver the essence of the text effectively.\\n- Maintain strict adherence to the word limit to promote precision and coherence.\\n\\n**Summary Process:**\\n\\n- Highlight and prioritize the major information and critical insights from the text.\\n- Employ lucid, effective language ensuring the summary is precise yet comprehensive.\\n- Exclude non-critical details to keep the summary direct and impactful.\\n\\n**Example of Effective Summarization:**\\n\\n* **Text Provided:** \"The ongoing evolution of blockchain technology is revolutionizing financial transactions, enhancing security, and increasing transparency across global markets.\"\\n* **Summary Created:** \"Blockchain technology is revolutionizing financial transactions by enhancing security and transparency in global markets.\"\\n\\n**Key Reminder:**\\n\\nYour summary should not only succinctly encapsulate the information but also provide a transparent and informative overview that stays true to the initial text’s purpose. Aim for a summary that enables readers to quickly grasp the central themes in a structured and clear manner.', '#### Summary Crafting Guide ####\\n\\n**Objective:** Efficiently distill the key themes and critical information of the provided text into a concise summary.\\n\\n**Text Given for Summary:**\\n{TEXT}\\n\\n**Summary Essentials:**\\n\\n- Accurately capture and express the main ideas and significant themes of the text.\\n- Utilize a straightforward, clear language style to clearly articulate the essential content.\\n- Adherence to the word limit is critical for maintaining focus and precision in your summary.\\n\\n**Strategy for Execution:**\\n\\n- Focus on the pivotal information and relevant details that define the core of the text.\\n- Employ a precise and effective language to ensure the summary is comprehensible and succinct.\\n- Avoid including extraneous elements to keep the summary tight and directly relevant.\\n\\n**Example of an Effective Summary:**\\n\\n* **Original Text:** \"The ongoing digital transformation in the automotive industry is not only improving vehicle connectivity and safety but also propelling advancements in autonomous driving technologies.\"\\n* **Crafted Summary:** \"Digital transformation in the automotive sector is enhancing vehicle connectivity and safety, while also advancing autonomous driving technologies.\"\\n\\n**Final Pointers:**\\n\\nEnsure your summary not only efficiently condenses the text but also provides a concise and insightful understanding of the original content’s key elements. Aim for a summary that succinctly yet thoroughly captures the text’s main points, delivering a clear and direct overview.', '**Optimal Summary Creation Framework**\\n\\n#### Directive:\\n\\nCraft a brief yet thorough summary of the specified text.\\n\\n#### Text for Summary:\\n{TEXT}\\n\\n#### Summary Essentials:\\n\\n- Capture the critical themes and key insights from the text succinctly.\\n- Use precise and efficient language to clarify the main points.\\n- Ensure strict compliance with the word limit to prioritize content relevance and directness.\\n\\n#### Summary Methodology:\\n\\n- Focus distinctly on information that is central and significant.\\n- Opt for straightforward and potent language to aid quick and clear comprehension.\\n- Forego any irrelevant details to keep the summary focused and impactful.\\n\\n#### Example Summary Approach:\\n\\n* **Text Given:** \"Blockchain technology is redefining financial transactions by providing a decentralized and secure platform, which enhances transparency and decreases fraud risks.\"\\n* **Summary Executed:** \"Blockchain technology revolutionizes financial transactions through a secure, decentralized platform that increases transparency and reduces fraud.\"\\n\\n#### Final Reminder:\\n\\nYour summary should not only encapsulate information succinctly but also deliver a comprehensive yet precise overview that aligns strictly with the original text\\'s intent. Aim for a summary that grants readers a full, yet concise understanding of the text’s core messages.']\n"
     ]
    },
    {
     "data": {
      "application/vnd.jupyter.widget-view+json": {
       "model_id": "c4901e3eeea54fc8803cefa94203f340",
       "version_major": 2,
       "version_minor": 0
      },
      "text/plain": [
       "Scoring:   0%|          | 0/8 [00:00<?, ?it/s]"
      ]
     },
     "metadata": {},
     "output_type": "display_data"
    },
    {
     "data": {
      "application/vnd.jupyter.widget-view+json": {
       "model_id": "c7f7cfde28084de2806182be8e5cd47a",
       "version_major": 2,
       "version_minor": 0
      },
      "text/plain": [
       "#### Text Summarization Directive ####\n",
       "\n",
       "**Objective:** Efficiently condense the main content of the provided t…"
      ]
     },
     "metadata": {},
     "output_type": "display_data"
    },
    {
     "data": {
      "application/vnd.jupyter.widget-view+json": {
       "model_id": "dff081f26b6548cba6ec00c741215845",
       "version_major": 2,
       "version_minor": 0
      },
      "text/plain": [
       "Summarize this text effectively:\n",
       "\n",
       "**Text for Summary:**\n",
       "{TEXT}\n",
       "\n",
       "**Key Summary Targets:**\n",
       "\n",
       "- Capture all critic…"
      ]
     },
     "metadata": {},
     "output_type": "display_data"
    },
    {
     "data": {
      "application/vnd.jupyter.widget-view+json": {
       "model_id": "693c90f0861a4c2e9dc7fd984fc072d4",
       "version_major": 2,
       "version_minor": 0
      },
      "text/plain": [
       "#### Advanced Summary Creation Techniques ####\n",
       "\n",
       "**Objective:** Produce a precise, articulate summary that effe…"
      ]
     },
     "metadata": {},
     "output_type": "display_data"
    },
    {
     "data": {
      "application/vnd.jupyter.widget-view+json": {
       "model_id": "4c15a29ea1f54fcaa920ff657be0e788",
       "version_major": 2,
       "version_minor": 0
      },
      "text/plain": [
       "#### Effective Summary Crafting Protocol ####\n",
       "\n",
       "**Objective:** Produce a succinct and precise summary that enca…"
      ]
     },
     "metadata": {},
     "output_type": "display_data"
    },
    {
     "data": {
      "application/vnd.jupyter.widget-view+json": {
       "model_id": "c779e649f12e452e8bde4b37a1c746e5",
       "version_major": 2,
       "version_minor": 0
      },
      "text/plain": [
       "#### Enhanced Summary Creation Guidelines ####\n",
       "\n",
       "**Objective:** Produce a concise and comprehensive summary tha…"
      ]
     },
     "metadata": {},
     "output_type": "display_data"
    },
    {
     "data": {
      "application/vnd.jupyter.widget-view+json": {
       "model_id": "c98275875012483facabcb694923dee5",
       "version_major": 2,
       "version_minor": 0
      },
      "text/plain": [
       "#### Summary Execution Framework ####\n",
       "\n",
       "**Objective:** Efficiently condense the essence and primary insights of…"
      ]
     },
     "metadata": {},
     "output_type": "display_data"
    },
    {
     "data": {
      "application/vnd.jupyter.widget-view+json": {
       "model_id": "4c5ba181fcc54039a964efa2b2b17e58",
       "version_major": 2,
       "version_minor": 0
      },
      "text/plain": [
       "#### Summary Crafting Guide ####\n",
       "\n",
       "**Objective:** Efficiently distill the key themes and critical information o…"
      ]
     },
     "metadata": {},
     "output_type": "display_data"
    },
    {
     "data": {
      "application/vnd.jupyter.widget-view+json": {
       "model_id": "6a9759049b4c4c798e5f3ed27b7b6dbc",
       "version_major": 2,
       "version_minor": 0
      },
      "text/plain": [
       "**Optimal Summary Creation Framework**\n",
       "\n",
       "#### Directive:\n",
       "\n",
       "Craft a brief yet thorough summary of the specified t…"
      ]
     },
     "metadata": {},
     "output_type": "display_data"
    },
    {
     "name": "stdout",
     "output_type": "stream",
     "text": [
      "{'#### Text Summarization Directive ####\\n\\n**Objective:** Efficiently condense the main content of the provided text into a clear and precise summary.\\n\\n**Text for Summary:**\\n{TEXT}\\n\\n**Summary Essentials:**\\n\\n- Accurately reflect the central themes and crucial insights of the text.\\n- Utilize straightforward, eloquent language to ensure the summary is both understandable and engaging.\\n- Adhere firmly to the word count restriction to maintain conciseness and clarity.\\n\\n**Summary Execution Plan:**\\n\\n- Focus on essential details and major insights, ensuring they are prominently captured.\\n- Opt for clear and concise wording to enhance readability and retention.\\n- Exclude non-essential information to keep the summary direct and relevant.\\n\\n**Example of Handling Summary Tasks:**\\n\\n* **Original Text:** \"The spread of digital literacy is empowering populations worldwide, enabling them to access information and services previously out of reach, thus democratizing knowledge and fostering educational equality.\"\\n* **Efficient Summary:** \"Increasing digital literacy worldwide empowers populations by broadening access to information and services, thus promoting knowledge democracization and educational equality.\"\\n\\n**Summary Optimization Reminder:**\\n\\nStrive to craft a summary that not only effectively condenses but also vividly presents the original text\\'s intent, providing a concise, clear portrait of the main information while maintaining the text’s integrity and depth.': 49.417994965797504, 'Summarize this text effectively:\\n\\n**Text for Summary:**\\n{TEXT}\\n\\n**Key Summary Targets:**\\n\\n- Capture all critical points and central themes from the original text succinctly.\\n- Use lucid, concise language to present these insights compactly.\\n- Adhere strictly to word limits to sharpen focus and enhance readability.\\n\\n**Approach for a High-Quality Summary:**\\n\\n- Focus on extracting and highlighting the major points and insights from the text.\\n- Ensure that your language is clear and direct, facilitating quick comprehension and retention.\\n- Exclude any irrelevant details to keep the summary comprehensive yet concise.\\n\\n**Ideal Execution Example:**\\n\\n* **Given Text:** \"Ongoing developments in renewable energy technology are drastically reducing costs and increasing efficiency, making sustainable energy options more accessible globally and advancing environmental conservation.\"\\n* **Prepared Summary:** \"Renewable energy advancements are significantly lowering costs and improving efficiencies, making sustainable options more globally accessible and promoting environmental conservation.\"\\n\\n**Summary Reminder:**\\n\\nAim to create a summary that is condensed but thorough, offering a clear and direct encapsulation of the original text’s main points and themes. Your summary should deliver a robust understanding in a concise format.': 48.12683775984096, '#### Advanced Summary Creation Techniques ####\\n\\n**Objective:** Produce a precise, articulate summary that effectively condenses the essence of the provided text.\\n\\n**Text for Summary:**\\n{TEXT}\\n\\n**Summary Goals:**\\n\\n- Accurately distill the main ideas and underlying themes of the text.\\n- Use clear, succinct language to deliver these insights.\\n- Strict adherence to the word limit to enhance readability and focus.\\n\\n**Strategy for Execution:**\\n\\n- Identify and highlight the most critical information and key facts from the text.\\n- Employ direct and unambiguous language, enabling straightforward comprehension.\\n- Avoid unnecessary details to maintain the conciseness of the summary.\\n\\n**Effective Summary Example:**\\n\\n* **Original Text:** \"The ongoing digital transformation in the healthcare sector is enhancing patient care through more personalized and responsive treatment options enabled by cutting-edge technology.\"\\n* **Summary Produced:** \"Digital transformation in healthcare is improving patient care by providing more personalized and responsive treatments through advanced technology.\"\\n\\n**Key Reminders:**\\n\\nYour summary should offer a comprehensive yet compact overview that captures the primary intent of the original text. Aim for a summary that provides a clear, informative snapshot of the text\\'s main points, ensuring it is impactful and aligned with the source material.': 48.48190735163769, '#### Effective Summary Crafting Protocol ####\\n\\n**Objective:** Produce a succinct and precise summary that encapsulates the key information and insights of the provided text.\\n\\n**Text Given for Summary:**\\n{TEXT}\\n\\n**Summary Approach:**\\n\\n- Accurately convey the main principles and significant points from the original text.\\n- Use clear, concise language to facilitate better understanding and retention.\\n- Adhere strictly to the given word limit to ensure a focused and effective summary.\\n\\n**Execution Guidelines:**\\n\\n- Identify and emphasize the essential information and critical insights from the text.\\n- Maintain a straightforward and unambiguous language style to enhance reader comprehension.\\n- Exclude all non-essential details to keep the summary concise and relevant.\\n\\n**Model Summary Example:**\\n\\n* **Text Before Summary:** \"The integration of blockchain technology across various industries is revolutionizing security protocols, enhancing transparency, and improving both efficiency and trust among stakeholders.\"\\n* **Summarized Version:** \"Blockchain technology is revolutionizing multiple industries by enhancing security, transparency, and efficiency, thus building greater stakeholder trust.\"\\n\\n**Final Tips for Excellence:**\\n\\nAim for a summary that not only effectively condenses the core content but also stands out as clear, engaging, and informative, mirroring the depth and intent of the original text. Your summary should help readers grasp the essential messages swiftly and clearly.': 44.43200310323523, '#### Enhanced Summary Creation Guidelines ####\\n\\n**Objective:** Produce a concise and comprehensive summary that captures the essential information and key themes of the provided text.\\n\\n**Text for Summary:**\\n{TEXT}\\n\\n**Summary Imperatives:**\\n\\n- Accurately distill the main themes and pivotal details of the text.\\n- Employ clear, concise language to facilitate comprehension and retention.\\n- Maintain strict adherence to the word limit to enhance focus and clarity.\\n\\n**Summary Execution Framework:**\\n\\n- Concentrate on the most significant information and insights from the text.\\n- Opt for a direct and effective language style to ensure the summary is both accessible and precise.\\n- Exclude non-essential details to keep the summary streamlined and relevant.\\n\\n**Illustrative Example:**\\n\\n* **Provided Text:** \"Cutting-edge biotechnology is progressing rapidly, enabling significant breakthroughs in medical treatments and agricultural productivity that promise to reshape industries.\"\\n* **Crafted Summary:** \"Advancements in biotechnology are quickly leading to major breakthroughs in medical treatments and agricultural productivity, poised to transform related industries.\"\\n\\n**Final Considerations:**\\n\\nAim for a summary that not only succinctly encapsulates the critical information but also provides a clear, detailed understanding of the text\\'s core intent. Your summary should enable readers to grasp the fundamental themes efficiently.': 49.80152229140071, '#### Summary Execution Framework ####\\n\\n**Objective:** Efficiently condense the essence and primary insights of the provided text.\\n\\n**Text for Summary:**\\n{TEXT}\\n\\n**Summary Essentials:**\\n\\n- Accurately capture both the fundamental themes and pivotal details of the text.\\n- Utilize clear, concise language to deliver the essence of the text effectively.\\n- Maintain strict adherence to the word limit to promote precision and coherence.\\n\\n**Summary Process:**\\n\\n- Highlight and prioritize the major information and critical insights from the text.\\n- Employ lucid, effective language ensuring the summary is precise yet comprehensive.\\n- Exclude non-critical details to keep the summary direct and impactful.\\n\\n**Example of Effective Summarization:**\\n\\n* **Text Provided:** \"The ongoing evolution of blockchain technology is revolutionizing financial transactions, enhancing security, and increasing transparency across global markets.\"\\n* **Summary Created:** \"Blockchain technology is revolutionizing financial transactions by enhancing security and transparency in global markets.\"\\n\\n**Key Reminder:**\\n\\nYour summary should not only succinctly encapsulate the information but also provide a transparent and informative overview that stays true to the initial text’s purpose. Aim for a summary that enables readers to quickly grasp the central themes in a structured and clear manner.': 49.24502935879088, '#### Summary Crafting Guide ####\\n\\n**Objective:** Efficiently distill the key themes and critical information of the provided text into a concise summary.\\n\\n**Text Given for Summary:**\\n{TEXT}\\n\\n**Summary Essentials:**\\n\\n- Accurately capture and express the main ideas and significant themes of the text.\\n- Utilize a straightforward, clear language style to clearly articulate the essential content.\\n- Adherence to the word limit is critical for maintaining focus and precision in your summary.\\n\\n**Strategy for Execution:**\\n\\n- Focus on the pivotal information and relevant details that define the core of the text.\\n- Employ a precise and effective language to ensure the summary is comprehensible and succinct.\\n- Avoid including extraneous elements to keep the summary tight and directly relevant.\\n\\n**Example of an Effective Summary:**\\n\\n* **Original Text:** \"The ongoing digital transformation in the automotive industry is not only improving vehicle connectivity and safety but also propelling advancements in autonomous driving technologies.\"\\n* **Crafted Summary:** \"Digital transformation in the automotive sector is enhancing vehicle connectivity and safety, while also advancing autonomous driving technologies.\"\\n\\n**Final Pointers:**\\n\\nEnsure your summary not only efficiently condenses the text but also provides a concise and insightful understanding of the original content’s key elements. Aim for a summary that succinctly yet thoroughly captures the text’s main points, delivering a clear and direct overview.': 50.29689702647162, '**Optimal Summary Creation Framework**\\n\\n#### Directive:\\n\\nCraft a brief yet thorough summary of the specified text.\\n\\n#### Text for Summary:\\n{TEXT}\\n\\n#### Summary Essentials:\\n\\n- Capture the critical themes and key insights from the text succinctly.\\n- Use precise and efficient language to clarify the main points.\\n- Ensure strict compliance with the word limit to prioritize content relevance and directness.\\n\\n#### Summary Methodology:\\n\\n- Focus distinctly on information that is central and significant.\\n- Opt for straightforward and potent language to aid quick and clear comprehension.\\n- Forego any irrelevant details to keep the summary focused and impactful.\\n\\n#### Example Summary Approach:\\n\\n* **Text Given:** \"Blockchain technology is redefining financial transactions by providing a decentralized and secure platform, which enhances transparency and decreases fraud risks.\"\\n* **Summary Executed:** \"Blockchain technology revolutionizes financial transactions through a secure, decentralized platform that increases transparency and reduces fraud.\"\\n\\n#### Final Reminder:\\n\\nYour summary should not only encapsulate information succinctly but also deliver a comprehensive yet precise overview that aligns strictly with the original text\\'s intent. Aim for a summary that grants readers a full, yet concise understanding of the text’s core messages.': 54.93704804912139}\n",
      "Step 8\n"
     ]
    },
    {
     "data": {
      "application/vnd.jupyter.widget-view+json": {
       "model_id": "a2e99aac46594307a2190978de9a06a0",
       "version_major": 2,
       "version_minor": 0
      },
      "text/plain": [
       "Optimizing:   0%|          | 0/8 [00:00<?, ?it/s]"
      ]
     },
     "metadata": {},
     "output_type": "display_data"
    },
    {
     "name": "stdout",
     "output_type": "stream",
     "text": [
      "['**Comprehensive Summary Protocol**\\n\\n### Objective:\\nDevelop a concise, insightful summary that captures the essence of the provided text accurately.\\n\\n### Text to be Summarized:\\n{TEXT}\\n\\n### Summary Parameters:\\n- Focus on distilling the main themes and critical insights of the text succinctly.\\n- Employ clear, precise language to ensure thorough comprehension and retention of the key points.\\n- Maintain strict adherence to the word limit to sustain clarity and effectiveness.\\n\\n### Execution Guidelines:\\n- Prioritize essential information and significant insights, avoiding peripheral details to keep the summary focused.\\n- Choose language that is straightforward yet impactful, aiding in clear and concise conveyance of the main points.\\n- Ensure that the summary covers all critical aspects of the text without diluting its original intent or message.\\n\\n### Example of Optimal Summary Execution:\\n* **Text Provided:** \"Advancements in robotics are not only streamlining industrial processes but also opening new avenues in healthcare and domestic environments, thereby broadening the scope and application of automation.\"\\n* **Summary Created:** \"Robotics advancements are streamlining industrial processes and expanding into healthcare and homes, broadening automation applications.\"\\n\\n### Final Points of Emphasis:\\nYour summary should efficiently condense the text while providing a comprehensive overview that remains true to the original content\\'s core message. Aim for a summation that delivers clarity, brevity, and depth, offering readers a coherent understanding of the essential themes.', '#### Summary Formulation Guidelines ####\\n\\n**Objective:** Accurately and concisely summarize the provided text.\\n\\n**Text for Summary:**\\n{TEXT}\\n\\n**Key Summary Points:**\\n\\n- Capture essential themes and critical insights of the text succinctly.\\n- Use precise and clear language to articulate the primary points effectively.\\n- Adherence to the word limit is imperative for clarity and effectiveness.\\n\\n**Strategy for Summary:**\\n\\n- Identify and emphasize the most significant details from the text.\\n- Deploy direct and potent language to ensure the summary is understandable and impactful.\\n- Exclude any non-essential details to maintain a focused and meaningful narrative.\\n\\n**Example Summary Execution:**\\n\\n* **Text Given:** \"The shifting dynamics in global trade policies are significantly influencing market behaviors and business strategies worldwide, necessitating adaptive measures in both domestic and international markets.\"\\n* **Summary Executed:** \"Global trade policy shifts are significantly affecting market behaviors and business strategies, requiring adaptations in domestic and international markets.\"\\n\\n**Final Pointers:**\\n\\nYour summary should not only be succinct but also comprehensive, offering a clear, insightful understanding of the text\\'s central themes and issues. Aim for a summary that provides readers with a thorough yet concise exploration of the text’s key messages.', '**Optimal Summary Development Guide**\\n\\n#### Task Outline:\\n\\nProduce a concise and comprehensive summary of the provided content.\\n\\n#### Source Text:\\n{TEXT}\\n\\n#### Summary Imperatives:\\n\\n- Identify and condense the core messages and pivotal insights from the text succinctly.\\n- Employ precise, clear language to effectively communicate the key points.\\n- Strict adherence to the word limit is essential to maintain focus and conciseness.\\n\\n#### Summary Method:\\n\\n- Accentuate critical information and major insights while avoiding superfluous details.\\n- Choose precise and powerful language to ensure the summary is accessible and impactful.\\n- Ensure the summary remains focused on the primary intent of the original text.\\n\\n#### Example Summary Strategy:\\n\\n* **Original Text:** \"The ongoing innovations in cloud computing are drastically enhancing data storage capabilities and computational power, fostering significant advancements in big data analytics and artificial intelligence applications.\"\\n* **Derived Summary:** \"Cloud computing innovations are significantly boosting data storage and computational capabilities, advancing big data analytics and AI applications.\"\\n\\n#### Concluding Advice:\\n\\nYour summary should not only encapsulate the necessary information succinctly but also present a clear and thorough understanding of the original text’s essential messages. Aim for a summary that informs readers in a concise yet comprehensive manner.', '#### Advanced Summary Guidelines ####\\n\\n**Objective for Summary:**\\n\\nEfficiently distill the core messages of the provided text into a concise form, utilizing precise and impactful language.\\n\\n**Text Presented for Summarization:**\\n{TEXT}\\n\\n**Detailed Instructions for Crafting the Summary:**\\n\\n- Focus on capturing the essential themes and key data of the text clearly and accurately.\\n- Employ a succinct yet informative style that ensures the reader grasps the importance and relevance of the content.\\n- Comply rigorously with the word limit to enhance the clarity and effectiveness of the summary.\\n\\n**Criteria for an Excellent Summary:**\\n\\n- The summary should reflect a thorough understanding and synthesis of the text\\'s main elements without distorting its original meaning.\\n- Key facts or figures from the text must be accurately and clearly included in the summary.\\n- The language should be precise, direct, and tailored to impart the maximum amount of information in the fewest words.\\n\\n**Example for Effective Summarization:**\\n\\n* **Original Text:** \"The interface of advanced analytics and business intelligence tools is revolutionizing strategic decision-making processes, enabling companies to leverage data-driven insights for competitive advantage.\"\\n* **Finely Summarized:** \"Advanced analytics and business intelligence tools are revolutionizing strategic decision-making, enabling data-driven insights that provide companies a competitive edge.\"\\n\\n**Final Note:**\\n\\nAdhere to these guidelines to ensure that your summary is not only comprehensive and insightful but also concise and faithful to the original text, making it an invaluable read for anyone seeking a deep understanding of the central topics.', '**Effective Summary Creation Protocol**\\n\\n#### Overview:\\n\\nGenerate a concise and precise summary of the provided material, ensuring a deep understanding of the core messages.\\n\\n#### Text Provided:\\n{TEXT}\\n\\n#### Summary Objectives:\\n\\n- Identify and distill pivotal information and themes from the text.\\n- Utilize clear, direct language to deliver a focused and coherent summary.\\n- Maintain adherence to the word limit, emphasizing conciseness and accuracy.\\n\\n#### Summary Strategy:\\n\\n- Focus on essential concepts and significant details that capture the essence of the text.\\n- Opt for simple yet powerful language that aids in efficient and clear communication.\\n- Exclude any redundant or non-essential details to keep the summary sharp and relevant.\\n\\n#### Example of Effective Summary:\\n\\n* **Provided Text:** \"The advent of quantum computing is set to revolutionize data security, offering unprecedented processing power and the ability to perform complex computations at unprecedented speeds.\"\\n* **Efficient Summary:** \"Quantum computing is poised to transform data security with its immense processing power and rapid computation capabilities.\"\\n\\n#### Key Pointers:\\n\\nYour summary should not only streamline the information but also deliver a thorough yet succinct reflection that is true to the original text\\'s intent. Strive to present a summary that offers readers a comprehensive understanding of the text’s main points swiftly and effectively.', '### Summary Development Guidelines ###\\n\\n**Objective:** Efficiently distill and communicate the core themes and vital insights of the provided text into a coherent summary.\\n\\n**Text for Summary:**\\n{TEXT}\\n\\n**Summary Essentials:**\\n\\n- Accurately capture the fundamental ideas and major details from the text.\\n- Use clear and concise language to articulate the primary messages.\\n- Maintain a strict adherence to the word limit to ensure clarity and focus.\\n\\n**Summary Strategy:**\\n\\n- Emphasize the most important information and key insights from the text.\\n- Opt for a straightforward and effective style to ensure easy comprehension and retention.\\n- Exclude any non-critical details to keep the summary direct and impactful.\\n\\n**Example of Execution:**\\n\\n* **Text Provided:** \"The ongoing globalization of markets is significantly enhancing international trade, leading to growth in global economic integration and the development of new economic powerhouses.\"\\n* **Summary Executed:** \"Globalization is boosting international trade, advancing global economic integration, and cultivating new economic powerhouses.\"\\n\\n**Final Recommendation:**\\n\\nYour summary should not only be succinct but should also provide a detailed and accurate overview that aligns perfectly with the original text\\'s intent. It should offer readers a comprehensive yet concise understanding of the text’s key elements.', '#### Optimal Summary Formulation Guide ####\\n\\n**Objective:** Efficiently craft a summary that captures the essence and primary insights of the provided text.\\n\\n**Text for Summary:**\\n{TEXT}\\n\\n**Summary Essentials:**\\n\\n- Thoroughly distill the main themes and key points of the text.\\n- Use clear, precise language to effectively communicate the crucial elements.\\n- Ensure strict adherence to the word limit to maintain focus and relevancy.\\n\\n**Effective Summary Approach:**\\n\\n- Concentrate on significant information and core insights from the text.\\n- Employ concise and powerful language to facilitate rapid and clear comprehension.\\n- Exclude any superfluous details to keep the summary focused and impactful.\\n\\n**Example of Optimal Summary Execution:**\\n\\n* **Original Text:** \"Emerging digital platforms are reshaping the landscape of media and entertainment, fostering innovative ways for content consumption and distribution across global markets.\"\\n* **Crafted Summary:** \"Emerging digital platforms are transforming the media and entertainment landscape, innovating content consumption and distribution globally.\"\\n\\n**Final Tips:**\\n\\nYour summary should concisely reflect critical information while providing a comprehensive yet precise overview that adheres closely to the original intent. Aim for a summary that delivers a full understanding of the text’s key messages in a succinct manner.', '#### Advanced Summary Execution Framework ####\\n\\n**Directive:**\\n\\nEfficiently and accurately consolidate the essential elements of the provided text into a concise summary.\\n\\n**Text for Summary:**\\n{TEXT}\\n\\n**Summary Objectives:**\\n\\n- Precisely extract and relay the crucial themes and insights from the text.\\n- Employ clear, concise language to effectively communicate the main points.\\n- Comply strictly with the word limit to focus on content relevance and succinctness.\\n\\n**Summary Tactics:**\\n\\n- Prioritize the essential and significant details from the text.\\n- Utilize direct and potent language to ensure quick understanding and retention.\\n- Eliminate any non-critical information to maintain the summary\\'s focus and significance.\\n\\n**Example of Summary Approach:**\\n\\n* **Text Provided:** \"The escalating advancements in cloud computing are substantially enhancing data storage capabilities and security measures, leading to increased efficiency and scalability for businesses.\"\\n* **Summary Executed:** \"Advancements in cloud computing are markedly improving data storage and security, boosting business efficiency and scalability.\"\\n\\n**Final Note:**\\n\\nYour summary should not only succinctly encapsulate the text but also provide a clear, comprehensive overview that aligns strictly with the original text\\'s intent, helping readers grasp a complete yet concise understanding of the text’s core messages.']\n"
     ]
    },
    {
     "data": {
      "application/vnd.jupyter.widget-view+json": {
       "model_id": "db53b11e07ba42db8b5efe7c7ad9ae27",
       "version_major": 2,
       "version_minor": 0
      },
      "text/plain": [
       "Scoring:   0%|          | 0/8 [00:00<?, ?it/s]"
      ]
     },
     "metadata": {},
     "output_type": "display_data"
    },
    {
     "data": {
      "application/vnd.jupyter.widget-view+json": {
       "model_id": "be0fd536f3bc48ebaa71108aa0f3cecc",
       "version_major": 2,
       "version_minor": 0
      },
      "text/plain": [
       "**Comprehensive Summary Protocol**\n",
       "\n",
       "### Objective:\n",
       "Develop a concise, insightful summary that captures the ess…"
      ]
     },
     "metadata": {},
     "output_type": "display_data"
    },
    {
     "data": {
      "application/vnd.jupyter.widget-view+json": {
       "model_id": "728a1aaa4fa4446ba2228767455e0240",
       "version_major": 2,
       "version_minor": 0
      },
      "text/plain": [
       "#### Summary Formulation Guidelines ####\n",
       "\n",
       "**Objective:** Accurately and concisely summarize the provided text.…"
      ]
     },
     "metadata": {},
     "output_type": "display_data"
    },
    {
     "data": {
      "application/vnd.jupyter.widget-view+json": {
       "model_id": "9f6f9e4d12de4f48a3f0acea80dd36de",
       "version_major": 2,
       "version_minor": 0
      },
      "text/plain": [
       "**Optimal Summary Development Guide**\n",
       "\n",
       "#### Task Outline:\n",
       "\n",
       "Produce a concise and comprehensive summary of the …"
      ]
     },
     "metadata": {},
     "output_type": "display_data"
    },
    {
     "data": {
      "application/vnd.jupyter.widget-view+json": {
       "model_id": "4bc5db8f397047748b0891967e372251",
       "version_major": 2,
       "version_minor": 0
      },
      "text/plain": [
       "#### Advanced Summary Guidelines ####\n",
       "\n",
       "**Objective for Summary:**\n",
       "\n",
       "Efficiently distill the core messages of th…"
      ]
     },
     "metadata": {},
     "output_type": "display_data"
    },
    {
     "data": {
      "application/vnd.jupyter.widget-view+json": {
       "model_id": "db5278b9ee2e472f99533f7b489c15d4",
       "version_major": 2,
       "version_minor": 0
      },
      "text/plain": [
       "**Effective Summary Creation Protocol**\n",
       "\n",
       "#### Overview:\n",
       "\n",
       "Generate a concise and precise summary of the provide…"
      ]
     },
     "metadata": {},
     "output_type": "display_data"
    },
    {
     "data": {
      "application/vnd.jupyter.widget-view+json": {
       "model_id": "1243b33adade420fa05eada90bd355ce",
       "version_major": 2,
       "version_minor": 0
      },
      "text/plain": [
       "### Summary Development Guidelines ###\n",
       "\n",
       "**Objective:** Efficiently distill and communicate the core themes and…"
      ]
     },
     "metadata": {},
     "output_type": "display_data"
    },
    {
     "data": {
      "application/vnd.jupyter.widget-view+json": {
       "model_id": "74d4f3ffd1f34e2a92c58d3d2de67211",
       "version_major": 2,
       "version_minor": 0
      },
      "text/plain": [
       "#### Optimal Summary Formulation Guide ####\n",
       "\n",
       "**Objective:** Efficiently craft a summary that captures the esse…"
      ]
     },
     "metadata": {},
     "output_type": "display_data"
    },
    {
     "data": {
      "application/vnd.jupyter.widget-view+json": {
       "model_id": "98b004c4760446fa91a998e82bfbbc03",
       "version_major": 2,
       "version_minor": 0
      },
      "text/plain": [
       "#### Advanced Summary Execution Framework ####\n",
       "\n",
       "**Directive:**\n",
       "\n",
       "Efficiently and accurately consolidate the ess…"
      ]
     },
     "metadata": {},
     "output_type": "display_data"
    },
    {
     "name": "stdout",
     "output_type": "stream",
     "text": [
      "{'**Comprehensive Summary Protocol**\\n\\n### Objective:\\nDevelop a concise, insightful summary that captures the essence of the provided text accurately.\\n\\n### Text to be Summarized:\\n{TEXT}\\n\\n### Summary Parameters:\\n- Focus on distilling the main themes and critical insights of the text succinctly.\\n- Employ clear, precise language to ensure thorough comprehension and retention of the key points.\\n- Maintain strict adherence to the word limit to sustain clarity and effectiveness.\\n\\n### Execution Guidelines:\\n- Prioritize essential information and significant insights, avoiding peripheral details to keep the summary focused.\\n- Choose language that is straightforward yet impactful, aiding in clear and concise conveyance of the main points.\\n- Ensure that the summary covers all critical aspects of the text without diluting its original intent or message.\\n\\n### Example of Optimal Summary Execution:\\n* **Text Provided:** \"Advancements in robotics are not only streamlining industrial processes but also opening new avenues in healthcare and domestic environments, thereby broadening the scope and application of automation.\"\\n* **Summary Created:** \"Robotics advancements are streamlining industrial processes and expanding into healthcare and homes, broadening automation applications.\"\\n\\n### Final Points of Emphasis:\\nYour summary should efficiently condense the text while providing a comprehensive overview that remains true to the original content\\'s core message. Aim for a summation that delivers clarity, brevity, and depth, offering readers a coherent understanding of the essential themes.': 48.30050409738998, '#### Summary Formulation Guidelines ####\\n\\n**Objective:** Accurately and concisely summarize the provided text.\\n\\n**Text for Summary:**\\n{TEXT}\\n\\n**Key Summary Points:**\\n\\n- Capture essential themes and critical insights of the text succinctly.\\n- Use precise and clear language to articulate the primary points effectively.\\n- Adherence to the word limit is imperative for clarity and effectiveness.\\n\\n**Strategy for Summary:**\\n\\n- Identify and emphasize the most significant details from the text.\\n- Deploy direct and potent language to ensure the summary is understandable and impactful.\\n- Exclude any non-essential details to maintain a focused and meaningful narrative.\\n\\n**Example Summary Execution:**\\n\\n* **Text Given:** \"The shifting dynamics in global trade policies are significantly influencing market behaviors and business strategies worldwide, necessitating adaptive measures in both domestic and international markets.\"\\n* **Summary Executed:** \"Global trade policy shifts are significantly affecting market behaviors and business strategies, requiring adaptations in domestic and international markets.\"\\n\\n**Final Pointers:**\\n\\nYour summary should not only be succinct but also comprehensive, offering a clear, insightful understanding of the text\\'s central themes and issues. Aim for a summary that provides readers with a thorough yet concise exploration of the text’s key messages.': 49.222271319094745, '**Optimal Summary Development Guide**\\n\\n#### Task Outline:\\n\\nProduce a concise and comprehensive summary of the provided content.\\n\\n#### Source Text:\\n{TEXT}\\n\\n#### Summary Imperatives:\\n\\n- Identify and condense the core messages and pivotal insights from the text succinctly.\\n- Employ precise, clear language to effectively communicate the key points.\\n- Strict adherence to the word limit is essential to maintain focus and conciseness.\\n\\n#### Summary Method:\\n\\n- Accentuate critical information and major insights while avoiding superfluous details.\\n- Choose precise and powerful language to ensure the summary is accessible and impactful.\\n- Ensure the summary remains focused on the primary intent of the original text.\\n\\n#### Example Summary Strategy:\\n\\n* **Original Text:** \"The ongoing innovations in cloud computing are drastically enhancing data storage capabilities and computational power, fostering significant advancements in big data analytics and artificial intelligence applications.\"\\n* **Derived Summary:** \"Cloud computing innovations are significantly boosting data storage and computational capabilities, advancing big data analytics and AI applications.\"\\n\\n#### Concluding Advice:\\n\\nYour summary should not only encapsulate the necessary information succinctly but also present a clear and thorough understanding of the original text’s essential messages. Aim for a summary that informs readers in a concise yet comprehensive manner.': 50.879905838953235, '#### Advanced Summary Guidelines ####\\n\\n**Objective for Summary:**\\n\\nEfficiently distill the core messages of the provided text into a concise form, utilizing precise and impactful language.\\n\\n**Text Presented for Summarization:**\\n{TEXT}\\n\\n**Detailed Instructions for Crafting the Summary:**\\n\\n- Focus on capturing the essential themes and key data of the text clearly and accurately.\\n- Employ a succinct yet informative style that ensures the reader grasps the importance and relevance of the content.\\n- Comply rigorously with the word limit to enhance the clarity and effectiveness of the summary.\\n\\n**Criteria for an Excellent Summary:**\\n\\n- The summary should reflect a thorough understanding and synthesis of the text\\'s main elements without distorting its original meaning.\\n- Key facts or figures from the text must be accurately and clearly included in the summary.\\n- The language should be precise, direct, and tailored to impart the maximum amount of information in the fewest words.\\n\\n**Example for Effective Summarization:**\\n\\n* **Original Text:** \"The interface of advanced analytics and business intelligence tools is revolutionizing strategic decision-making processes, enabling companies to leverage data-driven insights for competitive advantage.\"\\n* **Finely Summarized:** \"Advanced analytics and business intelligence tools are revolutionizing strategic decision-making, enabling data-driven insights that provide companies a competitive edge.\"\\n\\n**Final Note:**\\n\\nAdhere to these guidelines to ensure that your summary is not only comprehensive and insightful but also concise and faithful to the original text, making it an invaluable read for anyone seeking a deep understanding of the central topics.': 48.69095737991137, '**Effective Summary Creation Protocol**\\n\\n#### Overview:\\n\\nGenerate a concise and precise summary of the provided material, ensuring a deep understanding of the core messages.\\n\\n#### Text Provided:\\n{TEXT}\\n\\n#### Summary Objectives:\\n\\n- Identify and distill pivotal information and themes from the text.\\n- Utilize clear, direct language to deliver a focused and coherent summary.\\n- Maintain adherence to the word limit, emphasizing conciseness and accuracy.\\n\\n#### Summary Strategy:\\n\\n- Focus on essential concepts and significant details that capture the essence of the text.\\n- Opt for simple yet powerful language that aids in efficient and clear communication.\\n- Exclude any redundant or non-essential details to keep the summary sharp and relevant.\\n\\n#### Example of Effective Summary:\\n\\n* **Provided Text:** \"The advent of quantum computing is set to revolutionize data security, offering unprecedented processing power and the ability to perform complex computations at unprecedented speeds.\"\\n* **Efficient Summary:** \"Quantum computing is poised to transform data security with its immense processing power and rapid computation capabilities.\"\\n\\n#### Key Pointers:\\n\\nYour summary should not only streamline the information but also deliver a thorough yet succinct reflection that is true to the original text\\'s intent. Strive to present a summary that offers readers a comprehensive understanding of the text’s main points swiftly and effectively.': 46.10084570915586, '### Summary Development Guidelines ###\\n\\n**Objective:** Efficiently distill and communicate the core themes and vital insights of the provided text into a coherent summary.\\n\\n**Text for Summary:**\\n{TEXT}\\n\\n**Summary Essentials:**\\n\\n- Accurately capture the fundamental ideas and major details from the text.\\n- Use clear and concise language to articulate the primary messages.\\n- Maintain a strict adherence to the word limit to ensure clarity and focus.\\n\\n**Summary Strategy:**\\n\\n- Emphasize the most important information and key insights from the text.\\n- Opt for a straightforward and effective style to ensure easy comprehension and retention.\\n- Exclude any non-critical details to keep the summary direct and impactful.\\n\\n**Example of Execution:**\\n\\n* **Text Provided:** \"The ongoing globalization of markets is significantly enhancing international trade, leading to growth in global economic integration and the development of new economic powerhouses.\"\\n* **Summary Executed:** \"Globalization is boosting international trade, advancing global economic integration, and cultivating new economic powerhouses.\"\\n\\n**Final Recommendation:**\\n\\nYour summary should not only be succinct but should also provide a detailed and accurate overview that aligns perfectly with the original text\\'s intent. It should offer readers a comprehensive yet concise understanding of the text’s key elements.': 48.806888296151726, '#### Optimal Summary Formulation Guide ####\\n\\n**Objective:** Efficiently craft a summary that captures the essence and primary insights of the provided text.\\n\\n**Text for Summary:**\\n{TEXT}\\n\\n**Summary Essentials:**\\n\\n- Thoroughly distill the main themes and key points of the text.\\n- Use clear, precise language to effectively communicate the crucial elements.\\n- Ensure strict adherence to the word limit to maintain focus and relevancy.\\n\\n**Effective Summary Approach:**\\n\\n- Concentrate on significant information and core insights from the text.\\n- Employ concise and powerful language to facilitate rapid and clear comprehension.\\n- Exclude any superfluous details to keep the summary focused and impactful.\\n\\n**Example of Optimal Summary Execution:**\\n\\n* **Original Text:** \"Emerging digital platforms are reshaping the landscape of media and entertainment, fostering innovative ways for content consumption and distribution across global markets.\"\\n* **Crafted Summary:** \"Emerging digital platforms are transforming the media and entertainment landscape, innovating content consumption and distribution globally.\"\\n\\n**Final Tips:**\\n\\nYour summary should concisely reflect critical information while providing a comprehensive yet precise overview that adheres closely to the original intent. Aim for a summary that delivers a full understanding of the text’s key messages in a succinct manner.': 47.20413038601969, '#### Advanced Summary Execution Framework ####\\n\\n**Directive:**\\n\\nEfficiently and accurately consolidate the essential elements of the provided text into a concise summary.\\n\\n**Text for Summary:**\\n{TEXT}\\n\\n**Summary Objectives:**\\n\\n- Precisely extract and relay the crucial themes and insights from the text.\\n- Employ clear, concise language to effectively communicate the main points.\\n- Comply strictly with the word limit to focus on content relevance and succinctness.\\n\\n**Summary Tactics:**\\n\\n- Prioritize the essential and significant details from the text.\\n- Utilize direct and potent language to ensure quick understanding and retention.\\n- Eliminate any non-critical information to maintain the summary\\'s focus and significance.\\n\\n**Example of Summary Approach:**\\n\\n* **Text Provided:** \"The escalating advancements in cloud computing are substantially enhancing data storage capabilities and security measures, leading to increased efficiency and scalability for businesses.\"\\n* **Summary Executed:** \"Advancements in cloud computing are markedly improving data storage and security, boosting business efficiency and scalability.\"\\n\\n**Final Note:**\\n\\nYour summary should not only succinctly encapsulate the text but also provide a clear, comprehensive overview that aligns strictly with the original text\\'s intent, helping readers grasp a complete yet concise understanding of the text’s core messages.': 51.36364936158741}\n",
      "Step 9\n"
     ]
    },
    {
     "data": {
      "application/vnd.jupyter.widget-view+json": {
       "model_id": "86015842b01342fb8246336d3032df04",
       "version_major": 2,
       "version_minor": 0
      },
      "text/plain": [
       "Optimizing:   0%|          | 0/8 [00:00<?, ?it/s]"
      ]
     },
     "metadata": {},
     "output_type": "display_data"
    },
    {
     "name": "stdout",
     "output_type": "stream",
     "text": [
      "['**Comprehensive Summary Protocol**\\n\\n#### Guidelines:\\n\\nConstruct a concise yet complete summary of the provided text.\\n\\n#### Text to Summarize:\\n{TEXT}\\n\\n#### Summary Objectives:\\n\\n- Distill the major themes and essential insights accurately.\\n- Employ clear and precise language to articulate the main messages.\\n- Adherence to the word limit is crucial for retaining focus and clarity.\\n\\n#### Summary Approach:\\n\\n- Emphasize critical information and key insights, omitting unnecessary details.\\n- Use straightforward, impactful language to ensure the summary is accessible and clear.\\n- Ensure the content remains faithful to the original text\\'s intent.\\n\\n#### Example:\\n\\n* **Text Given:** \"Technological advancements in robotics are streamlining manufacturing processes, enhancing precision, and reducing operational costs, thereby revolutionizing the industry.\"\\n* **Summary Produced:** \"Technological advancements in robotics are optimizing manufacturing by improving precision and lowering costs, radically transforming the industry.\"\\n\\n#### Final Note:\\n\\nAim to produce a summary that not only condenses but also comprehensively captures the essence of the text, providing a lucid and informative overview for the reader.', '#### Enhanced Summary Blueprint ####\\n\\n**Objective:** Produce a concise and impactful summary of the provided text.\\n\\n**Text for Summary:**\\n{TEXT}\\n\\n**Summary Essentials:**\\n\\n- Succinctly convey the key themes and pivotal insights of the text.\\n- Utilize precise and streamlined language to clearly highlight core points.\\n- Strict adherence to the word limit is essential for focus and effectiveness.\\n\\n**Summary Approach:**\\n\\n- Concentrate on the fundamental and meaningful details from the text.\\n- Employ direct and powerful language to ensure clarity and immediate comprehension.\\n- Exclude any non-essential information to maintain a targeted and compelling summary.\\n\\n**Example of Summary Execution:**\\n\\n* **Text Provided:** \"The rapid advancements in renewable energy technology are significantly driving down costs and accelerating adoption, contributing to a global shift towards more sustainable energy solutions.\"\\n* **Summary Produced:** \"Renewable energy advancements are lowering costs and speeding adoption, fostering a global trend towards sustainable energy solutions.\"\\n\\n**Final Consideration:**\\n\\nYour summary should not only succinctly encapsulate the essential information but also offer a thorough yet concise overview that stays true to the text\\'s original intent, enabling readers to grasp the text’s key messages effectively. Aim for a summary that communicates the essence clearly and influentially.', '**Comprehensive Summary Protocol**\\n\\n#### Instruction:\\n\\nCreate a concise yet extensive summary based on the provided text.\\n\\n#### Text to Summarize:\\n{TEXT}\\n\\n#### Summary Principles:\\n\\n- Accurately distill the core ideas and essential insights from the text.\\n- Utilize clear, straightforward language to enhance comprehension and retention.\\n- Ensure adherance to the word limit to maintain a focused and cogent summary.\\n\\n#### Summary Execution:\\n\\n- Emphasize the significant information and overarching insights that are critical to the text.\\n- Employ precise and effective language to ensure clarity and impact of the summary.\\n- Avoid including unnecessary details to keep the summary concise and relevant.\\n\\n#### Example of Ideal Summary Strategy:\\n\\n* **Text Provided:** \"The integration of renewable energy sources is transforming global energy markets, significantly reducing reliance on fossil fuels and advancing sustainability efforts.\"\\n* **Summarized Effectively:** \"Renewable energy integration is reshaping global energy markets by decreasing dependence on fossil fuels and enhancing sustainability.\"\\n\\n#### Final Note:\\n\\nYour summary should not only encapsulate the key information but also offer a comprehensive yet concise overview that aligns closely with the original intent of the text. Aim for a summary that provides readers with a clear and concise understanding of the core content.', '### Advanced Summary Construction Protocol ###\\n\\n**Directive:**\\n\\nEfficiently and accurately synthesize the primary elements of the provided content into a concise summary.\\n\\n**Text for Summary:**\\n{TEXT}\\n\\n**Summary Objectives:**\\n\\n- Extract and articulate the key themes and insights from the text precisely.\\n- Use clear, concise language to effectively convey the main points.\\n- Adhere strictly to the word limit to emphasize content relevance and conciseness.\\n\\n**Summary Methodology:**\\n\\n- Focus on essential and significant details from the text.\\n- Employ direct and potent language to ensure quick comprehension and retention.\\n- Exclude any superfluous information to maintain the summary\\'s focus and impact.\\n\\n**Example Summary Strategy:**\\n\\n* **Text Given:** \"The advancements in biotechnology are significantly improving therapeutic methods and diagnostic tools, thereby enhancing patient care and medical outcomes.\"\\n* **Summary Executed:** \"Biotechnology advancements are enhancing therapeutic methods and diagnostic tools, significantly improving patient care and medical outcomes.\"\\n\\n**Final Note:**\\n\\nYour summary should not only succinctly encapsulate the text but also offer a clear, comprehensive overview that aligns strictly with the original text\\'s intent, enabling readers to grasp a complete yet concise understanding of the text’s core messages.', '**Comprehensive Summary Framework**\\n\\n#### Instruction:\\n\\nDevelop a succinct, yet detailed summary of the provided text.\\n\\n#### Text for Summary:\\n{TEXT}\\n\\n#### Key Points for Summary:\\n\\n- Concisely capture and highlight the primary themes and critical insights from the text.\\n- Utilize precise and straightforward language for clear communication of the main concepts.\\n- Adhere to the word limit, ensuring a concise but complete summary.\\n\\n#### Strategy for Summary:\\n\\n- Focus on the most crucial elements and significant details.\\n- Employ clear and potent language to aid understanding and retention.\\n- Exclude irrelevant details to maintain focus and enhance the impact of the summary.\\n\\n#### Example Summary Execution:\\n\\n* **Text Given:** \"Quantum computing is set to revolutionize data processing by enabling faster problem-solving capabilities and enhancing cryptographic security across various industries.\"\\n* **Summary Performed:** \"Quantum computing promises to transform data processing with its rapid problem-solving abilities and improved security features across diverse sectors.\"\\n\\n#### Final Note:\\nYour summary should not only encapsulate central information succinctly but also provide a comprehensive overview that aligns closely with the original text’s intent, delivering a clear and instructive summary.', '**Concise Summary Generation Protocol**\\n\\n#### Instruction:\\n\\nDevelop an accurate and succinct summary of the text provided.\\n\\n#### Text for Summarization:\\n{TEXT}\\n\\n#### Summary Principles:\\n\\n- Emphasize crucial points and key themes, accurately reflecting the text.\\n- Utilize clear, unambiguous language to deliver a concise representation.\\n- Strict adherence to word limit is essential for precision and focus.\\n\\n#### Summary Strategy:\\n\\n- Focus on significant information that encapsulates the text succinctly.\\n- Employ straightforward, powerful language to ensure clarity and impact.\\n- Avoid minor details to maintain the centrality and poignancy of the summary.\\n\\n#### Summary Example:\\n\\n* **Original Text:** \"The rapid evolution of digital technology is significantly impacting global communication networks, enhancing data transfer speeds and connectivity, leading to more integrated global business operations.\"\\n* **Summary Crafted:** \"Digital technology evolution boosts global communication with improved data speeds and connectivity, fostering integrated business operations worldwide.\"\\n\\n#### Final Tips:\\n\\nYour summary should efficiently distill the essence of the text into a concise article that provides a comprehensive understanding of the primary messages while remaining tightly focused and directly relevant to the original content.', '**Innovative Summary Design Blueprint**\\n\\n#### Instructions:\\n\\nFormulate a concise, yet comprehensive summary of the provided content.\\n\\n#### Source Text:\\n{TEXT}\\n\\n#### Summary Objectives:\\n\\n- Distill and convey the primary elements and pivotal insights of the text succinctly.\\n- Utilize clear and precise language to outline essential information effectively.\\n- Adherence to the word limit is crucial to ensure clarity and simplicity.\\n\\n#### Summary Execution:\\n\\n- Focus on integral information and key insights.\\n- Choose succinct and impactful language to facilitate ease of understanding and retention.\\n- Avoid inconsequential details to maintain a direct and compelling summary.\\n\\n#### Example of Optimal Summary Strategy:\\n\\n* **Content Provided:** \"The ongoing evolution in biotechnology is notably enhancing medical diagnostics and therapies, resulting in significant improvements in patient care and treatment outcomes.\"\\n* **Summarized Content:** \"Biotechnology advancements are significantly improving medical diagnostics and therapies, enhancing patient care and treatment outcomes.\"\\n\\n#### Final Note:\\n\\nYour summary should endeavor to not only encapsulate the content cleanly but also articulate a detailed yet straightforward understanding of the text\\'s principal messages. Aim to present a summary that offers readers a comprehensive but succinct grasp of the pivotal insights.', '**Optimized Summary Design Protocol**\\n\\n#### Instruction Set:\\n\\nCreate a precise and effective summary of the provided content.\\n\\n#### Source Text:\\n{TEXT}\\n\\n#### Key Summary Parameters:\\n\\n- Accurately distill and articulate the main ideas and salient details from the text.\\n- Employ clear, concise language to ensure the summary is both comprehensible and succinct.\\n- Adhere strictly to the word limit to maintain the summary’s focus and effectiveness.\\n\\n#### Summary Execution Steps:\\n\\n- Highlight essential information and key insights, excluding any unnecessary details.\\n- Choose language that is straightforward yet powerful to aid understanding and retention.\\n- Ensure the summary is directly aligned with the original text’s objectives and messages.\\n\\n#### Example of Excellence:\\n\\n* **Original Text:** \"The rapid advancements in renewable energy technologies are drastically reducing costs and accelerating adoption, significantly impacting global energy conversations and policies.\"\\n* **Crafted Summary:** \"Renewable energy advancements are cutting costs and speeding adoption, profoundly affecting global energy discussions and policies.\"\\n\\n#### Final Considerations:\\n\\nYour summary should not only condense the critical content effectively but also present a coherent and thorough view of the original text, enabling readers to grasp the core messages quickly and clearly. Aim to deliver a summary that is informative and directly corresponds to the foundational intent of the text.\\n']\n"
     ]
    },
    {
     "data": {
      "application/vnd.jupyter.widget-view+json": {
       "model_id": "16624ddb03604ef9bbe7d910555fd5da",
       "version_major": 2,
       "version_minor": 0
      },
      "text/plain": [
       "Scoring:   0%|          | 0/8 [00:00<?, ?it/s]"
      ]
     },
     "metadata": {},
     "output_type": "display_data"
    },
    {
     "data": {
      "application/vnd.jupyter.widget-view+json": {
       "model_id": "842047a4cc934627b21698cb4ad7658e",
       "version_major": 2,
       "version_minor": 0
      },
      "text/plain": [
       "**Comprehensive Summary Protocol**\n",
       "\n",
       "#### Guidelines:\n",
       "\n",
       "Construct a concise yet complete summary of the provided…"
      ]
     },
     "metadata": {},
     "output_type": "display_data"
    },
    {
     "data": {
      "application/vnd.jupyter.widget-view+json": {
       "model_id": "c7f8f482f937481c80aa91a5b9cf249b",
       "version_major": 2,
       "version_minor": 0
      },
      "text/plain": [
       "#### Enhanced Summary Blueprint ####\n",
       "\n",
       "**Objective:** Produce a concise and impactful summary of the provided t…"
      ]
     },
     "metadata": {},
     "output_type": "display_data"
    },
    {
     "data": {
      "application/vnd.jupyter.widget-view+json": {
       "model_id": "9d3dc485cda74acb94c5cd1340c64e22",
       "version_major": 2,
       "version_minor": 0
      },
      "text/plain": [
       "**Comprehensive Summary Protocol**\n",
       "\n",
       "#### Instruction:\n",
       "\n",
       "Create a concise yet extensive summary based on the pro…"
      ]
     },
     "metadata": {},
     "output_type": "display_data"
    },
    {
     "data": {
      "application/vnd.jupyter.widget-view+json": {
       "model_id": "d74455a4ca1d40119b4c39691e8c2ae9",
       "version_major": 2,
       "version_minor": 0
      },
      "text/plain": [
       "### Advanced Summary Construction Protocol ###\n",
       "\n",
       "**Directive:**\n",
       "\n",
       "Efficiently and accurately synthesize the prim…"
      ]
     },
     "metadata": {},
     "output_type": "display_data"
    },
    {
     "data": {
      "application/vnd.jupyter.widget-view+json": {
       "model_id": "7312e9fd27b74ec2a35582aa9edb9d17",
       "version_major": 2,
       "version_minor": 0
      },
      "text/plain": [
       "**Comprehensive Summary Framework**\n",
       "\n",
       "#### Instruction:\n",
       "\n",
       "Develop a succinct, yet detailed summary of the provid…"
      ]
     },
     "metadata": {},
     "output_type": "display_data"
    },
    {
     "data": {
      "application/vnd.jupyter.widget-view+json": {
       "model_id": "20005bebfb284d5693624cbf10d5992d",
       "version_major": 2,
       "version_minor": 0
      },
      "text/plain": [
       "**Concise Summary Generation Protocol**\n",
       "\n",
       "#### Instruction:\n",
       "\n",
       "Develop an accurate and succinct summary of the te…"
      ]
     },
     "metadata": {},
     "output_type": "display_data"
    },
    {
     "data": {
      "application/vnd.jupyter.widget-view+json": {
       "model_id": "e6d139496651472c82c0287d0d14aaf2",
       "version_major": 2,
       "version_minor": 0
      },
      "text/plain": [
       "**Innovative Summary Design Blueprint**\n",
       "\n",
       "#### Instructions:\n",
       "\n",
       "Formulate a concise, yet comprehensive summary of…"
      ]
     },
     "metadata": {},
     "output_type": "display_data"
    },
    {
     "data": {
      "application/vnd.jupyter.widget-view+json": {
       "model_id": "dc64c2692b50419cb03b3cc700999df3",
       "version_major": 2,
       "version_minor": 0
      },
      "text/plain": [
       "**Optimized Summary Design Protocol**\n",
       "\n",
       "#### Instruction Set:\n",
       "\n",
       "Create a precise and effective summary of the pr…"
      ]
     },
     "metadata": {},
     "output_type": "display_data"
    },
    {
     "name": "stdout",
     "output_type": "stream",
     "text": [
      "{'**Comprehensive Summary Protocol**\\n\\n#### Guidelines:\\n\\nConstruct a concise yet complete summary of the provided text.\\n\\n#### Text to Summarize:\\n{TEXT}\\n\\n#### Summary Objectives:\\n\\n- Distill the major themes and essential insights accurately.\\n- Employ clear and precise language to articulate the main messages.\\n- Adherence to the word limit is crucial for retaining focus and clarity.\\n\\n#### Summary Approach:\\n\\n- Emphasize critical information and key insights, omitting unnecessary details.\\n- Use straightforward, impactful language to ensure the summary is accessible and clear.\\n- Ensure the content remains faithful to the original text\\'s intent.\\n\\n#### Example:\\n\\n* **Text Given:** \"Technological advancements in robotics are streamlining manufacturing processes, enhancing precision, and reducing operational costs, thereby revolutionizing the industry.\"\\n* **Summary Produced:** \"Technological advancements in robotics are optimizing manufacturing by improving precision and lowering costs, radically transforming the industry.\"\\n\\n#### Final Note:\\n\\nAim to produce a summary that not only condenses but also comprehensively captures the essence of the text, providing a lucid and informative overview for the reader.': 48.0328456923589, '#### Enhanced Summary Blueprint ####\\n\\n**Objective:** Produce a concise and impactful summary of the provided text.\\n\\n**Text for Summary:**\\n{TEXT}\\n\\n**Summary Essentials:**\\n\\n- Succinctly convey the key themes and pivotal insights of the text.\\n- Utilize precise and streamlined language to clearly highlight core points.\\n- Strict adherence to the word limit is essential for focus and effectiveness.\\n\\n**Summary Approach:**\\n\\n- Concentrate on the fundamental and meaningful details from the text.\\n- Employ direct and powerful language to ensure clarity and immediate comprehension.\\n- Exclude any non-essential information to maintain a targeted and compelling summary.\\n\\n**Example of Summary Execution:**\\n\\n* **Text Provided:** \"The rapid advancements in renewable energy technology are significantly driving down costs and accelerating adoption, contributing to a global shift towards more sustainable energy solutions.\"\\n* **Summary Produced:** \"Renewable energy advancements are lowering costs and speeding adoption, fostering a global trend towards sustainable energy solutions.\"\\n\\n**Final Consideration:**\\n\\nYour summary should not only succinctly encapsulate the essential information but also offer a thorough yet concise overview that stays true to the text\\'s original intent, enabling readers to grasp the text’s key messages effectively. Aim for a summary that communicates the essence clearly and influentially.': 45.75669313739762, '**Comprehensive Summary Protocol**\\n\\n#### Instruction:\\n\\nCreate a concise yet extensive summary based on the provided text.\\n\\n#### Text to Summarize:\\n{TEXT}\\n\\n#### Summary Principles:\\n\\n- Accurately distill the core ideas and essential insights from the text.\\n- Utilize clear, straightforward language to enhance comprehension and retention.\\n- Ensure adherance to the word limit to maintain a focused and cogent summary.\\n\\n#### Summary Execution:\\n\\n- Emphasize the significant information and overarching insights that are critical to the text.\\n- Employ precise and effective language to ensure clarity and impact of the summary.\\n- Avoid including unnecessary details to keep the summary concise and relevant.\\n\\n#### Example of Ideal Summary Strategy:\\n\\n* **Text Provided:** \"The integration of renewable energy sources is transforming global energy markets, significantly reducing reliance on fossil fuels and advancing sustainability efforts.\"\\n* **Summarized Effectively:** \"Renewable energy integration is reshaping global energy markets by decreasing dependence on fossil fuels and enhancing sustainability.\"\\n\\n#### Final Note:\\n\\nYour summary should not only encapsulate the key information but also offer a comprehensive yet concise overview that aligns closely with the original intent of the text. Aim for a summary that provides readers with a clear and concise understanding of the core content.': 50.53324735724966, '### Advanced Summary Construction Protocol ###\\n\\n**Directive:**\\n\\nEfficiently and accurately synthesize the primary elements of the provided content into a concise summary.\\n\\n**Text for Summary:**\\n{TEXT}\\n\\n**Summary Objectives:**\\n\\n- Extract and articulate the key themes and insights from the text precisely.\\n- Use clear, concise language to effectively convey the main points.\\n- Adhere strictly to the word limit to emphasize content relevance and conciseness.\\n\\n**Summary Methodology:**\\n\\n- Focus on essential and significant details from the text.\\n- Employ direct and potent language to ensure quick comprehension and retention.\\n- Exclude any superfluous information to maintain the summary\\'s focus and impact.\\n\\n**Example Summary Strategy:**\\n\\n* **Text Given:** \"The advancements in biotechnology are significantly improving therapeutic methods and diagnostic tools, thereby enhancing patient care and medical outcomes.\"\\n* **Summary Executed:** \"Biotechnology advancements are enhancing therapeutic methods and diagnostic tools, significantly improving patient care and medical outcomes.\"\\n\\n**Final Note:**\\n\\nYour summary should not only succinctly encapsulate the text but also offer a clear, comprehensive overview that aligns strictly with the original text\\'s intent, enabling readers to grasp a complete yet concise understanding of the text’s core messages.': 50.53483727520184, '**Comprehensive Summary Framework**\\n\\n#### Instruction:\\n\\nDevelop a succinct, yet detailed summary of the provided text.\\n\\n#### Text for Summary:\\n{TEXT}\\n\\n#### Key Points for Summary:\\n\\n- Concisely capture and highlight the primary themes and critical insights from the text.\\n- Utilize precise and straightforward language for clear communication of the main concepts.\\n- Adhere to the word limit, ensuring a concise but complete summary.\\n\\n#### Strategy for Summary:\\n\\n- Focus on the most crucial elements and significant details.\\n- Employ clear and potent language to aid understanding and retention.\\n- Exclude irrelevant details to maintain focus and enhance the impact of the summary.\\n\\n#### Example Summary Execution:\\n\\n* **Text Given:** \"Quantum computing is set to revolutionize data processing by enabling faster problem-solving capabilities and enhancing cryptographic security across various industries.\"\\n* **Summary Performed:** \"Quantum computing promises to transform data processing with its rapid problem-solving abilities and improved security features across diverse sectors.\"\\n\\n#### Final Note:\\nYour summary should not only encapsulate central information succinctly but also provide a comprehensive overview that aligns closely with the original text’s intent, delivering a clear and instructive summary.': 46.19747877804875, '**Concise Summary Generation Protocol**\\n\\n#### Instruction:\\n\\nDevelop an accurate and succinct summary of the text provided.\\n\\n#### Text for Summarization:\\n{TEXT}\\n\\n#### Summary Principles:\\n\\n- Emphasize crucial points and key themes, accurately reflecting the text.\\n- Utilize clear, unambiguous language to deliver a concise representation.\\n- Strict adherence to word limit is essential for precision and focus.\\n\\n#### Summary Strategy:\\n\\n- Focus on significant information that encapsulates the text succinctly.\\n- Employ straightforward, powerful language to ensure clarity and impact.\\n- Avoid minor details to maintain the centrality and poignancy of the summary.\\n\\n#### Summary Example:\\n\\n* **Original Text:** \"The rapid evolution of digital technology is significantly impacting global communication networks, enhancing data transfer speeds and connectivity, leading to more integrated global business operations.\"\\n* **Summary Crafted:** \"Digital technology evolution boosts global communication with improved data speeds and connectivity, fostering integrated business operations worldwide.\"\\n\\n#### Final Tips:\\n\\nYour summary should efficiently distill the essence of the text into a concise article that provides a comprehensive understanding of the primary messages while remaining tightly focused and directly relevant to the original content.': 54.05106344333136, '**Innovative Summary Design Blueprint**\\n\\n#### Instructions:\\n\\nFormulate a concise, yet comprehensive summary of the provided content.\\n\\n#### Source Text:\\n{TEXT}\\n\\n#### Summary Objectives:\\n\\n- Distill and convey the primary elements and pivotal insights of the text succinctly.\\n- Utilize clear and precise language to outline essential information effectively.\\n- Adherence to the word limit is crucial to ensure clarity and simplicity.\\n\\n#### Summary Execution:\\n\\n- Focus on integral information and key insights.\\n- Choose succinct and impactful language to facilitate ease of understanding and retention.\\n- Avoid inconsequential details to maintain a direct and compelling summary.\\n\\n#### Example of Optimal Summary Strategy:\\n\\n* **Content Provided:** \"The ongoing evolution in biotechnology is notably enhancing medical diagnostics and therapies, resulting in significant improvements in patient care and treatment outcomes.\"\\n* **Summarized Content:** \"Biotechnology advancements are significantly improving medical diagnostics and therapies, enhancing patient care and treatment outcomes.\"\\n\\n#### Final Note:\\n\\nYour summary should endeavor to not only encapsulate the content cleanly but also articulate a detailed yet straightforward understanding of the text\\'s principal messages. Aim to present a summary that offers readers a comprehensive but succinct grasp of the pivotal insights.': 48.36595496405226, '**Optimized Summary Design Protocol**\\n\\n#### Instruction Set:\\n\\nCreate a precise and effective summary of the provided content.\\n\\n#### Source Text:\\n{TEXT}\\n\\n#### Key Summary Parameters:\\n\\n- Accurately distill and articulate the main ideas and salient details from the text.\\n- Employ clear, concise language to ensure the summary is both comprehensible and succinct.\\n- Adhere strictly to the word limit to maintain the summary’s focus and effectiveness.\\n\\n#### Summary Execution Steps:\\n\\n- Highlight essential information and key insights, excluding any unnecessary details.\\n- Choose language that is straightforward yet powerful to aid understanding and retention.\\n- Ensure the summary is directly aligned with the original text’s objectives and messages.\\n\\n#### Example of Excellence:\\n\\n* **Original Text:** \"The rapid advancements in renewable energy technologies are drastically reducing costs and accelerating adoption, significantly impacting global energy conversations and policies.\"\\n* **Crafted Summary:** \"Renewable energy advancements are cutting costs and speeding adoption, profoundly affecting global energy discussions and policies.\"\\n\\n#### Final Considerations:\\n\\nYour summary should not only condense the critical content effectively but also present a coherent and thorough view of the original text, enabling readers to grasp the core messages quickly and clearly. Aim to deliver a summary that is informative and directly corresponds to the foundational intent of the text.\\n': 45.967815848797585}\n",
      "Step 10\n"
     ]
    },
    {
     "data": {
      "application/vnd.jupyter.widget-view+json": {
       "model_id": "cd94972f14924d0e9531354bd5b8b71a",
       "version_major": 2,
       "version_minor": 0
      },
      "text/plain": [
       "Optimizing:   0%|          | 0/8 [00:00<?, ?it/s]"
      ]
     },
     "metadata": {},
     "output_type": "display_data"
    },
    {
     "name": "stdout",
     "output_type": "stream",
     "text": [
      "['**Advanced Summary Execution Guidelines**\\n\\n#### Objective:\\n\\nEfficiently distill the core themes and insights of the specified text into a concise, coherent summary.\\n\\n#### Text to be Summarized:\\n{TEXT}\\n\\n#### Priorities for Summary:\\n\\n- Clearly capture and communicate the crucial content and themes of the text.\\n- Utilize precise and succinct language to articulate the main points effectively.\\n- Strict adherence to the word limit is paramount to maintain clarity and focus.\\n\\n#### Summary Strategy:\\n\\n- Concentrate on the essential details that encapsulate the spirit and informative core of the text.\\n- Choose clear and powerful language to facilitate immediate understanding and retention.\\n- Discard extraneous elements to preserve the summary\\'s directness and potency.\\n\\n#### Efficient Summary Example:\\n\\n* **Original Text:** \"Current technological advancements are significantly enhancing computational speeds and data analytics capabilities, thus fostering improvements across multiple sectors like healthcare, finance, and education.\"\\n* **Crafted Summary:** \"Technological advancements are sharply improving computational speeds and data analytics, thereby boosting multiple sectors including healthcare, finance, and education.\"\\n\\n#### Conclusion:\\n\\nAim for a summary that is not only succinct but also encompasses a complete, clear, and precise overview that mirrors the original text\\'s objectives. Your summary should enable readers to grasp the text’s fundamental messages effectively and quickly.', '**Summary Development Framework**\\n\\n#### Instruction:\\n\\nCreate a succinct and insightful summary of the provided material.\\n\\n#### Text to Summarize:\\n{TEXT}\\n\\n#### Essential Summary Features:\\n\\n- Zero in on the pivotal concepts and significant insights of the text.\\n- Employ crisp, precise language to convey essential information clearly.\\n- Adherence to the word limit is mandatory to maintain brevity and focus.\\n\\n#### Execution Strategy:\\n\\n- Concentrate on distilling the primary and impactful information from the text.\\n- Use direct and potent language to enhance understanding and retention.\\n- Exclude extraneous details to ensure the summary is clear and impactful.\\n\\n#### Example of a Successful Summary:\\n\\n* **Given Text:** \"Digital innovations are shaping the future of education, replacing traditional methods with interactive, technology-driven teaching procedures that enhance the learning experience and outcomes for students.\"\\n* **Crafted Summary:** \"Digital innovations are transforming education, introducing interactive techniques that elevate both the learning experience and student outcomes.\"\\n\\n#### Conclusion:\\n\\nYour summary should deliver a compact yet full understanding of the text, strictly aligning with its original intent and assisting readers in grasibly comprehending the primary messages in a concise format.', '**Efficient Summary Framework**\\n\\n#### Directive:\\n\\nCompose an effective and concise summary of the provided text.\\n\\n#### Text to be Summarized:\\n{TEXT}\\n\\n#### Essential Summary Objectives:\\n\\n- Capture pivotal themes and crucial insights from the text succinctly.\\n- Utilize clear and precise language to articulate main points effectively.\\n- Adherence to the word limit is crucial to maintain conciseness and relevance.\\n\\n#### Summary Execution Strategies:\\n\\n- Concentrate on significant and meaningful information.\\n- Opt for clear and compelling language to facilitate understanding and engagement.\\n- Exclude irrelevant details to ensure the summary remains focused and potent.\\n\\n#### Example Summary Formation:\\n\\n* **Original Text:** \"Advancements in virtual reality technology are significantly enhancing user experience, enabling more immersive interactions and applications across various sectors.\"\\n* **Summary Formulated:** \"Virtual reality advancements are markedly improving user experience by enabling more immersive interactions across diverse sectors.\"\\n\\n#### Closing Reminder:\\n\\nYour summary should not only be succinct but also provide an insightful and thorough perspective that closely reflects the original text’s intent. Strive for a summary that effectively conveys the essential messages in a condensed format.', '#### Summary Generation Directive ####\\n\\n**Objective:** Efficiently distill the essence of the provided text into a concise yet comprehensive summary.\\n\\n**Original Text:**\\n{TEXT}\\n\\n**Summary Essentials:**\\n\\n- Accurately extract and reflect the critical themes and main insights.\\n- Employ clear, engaging language to concisely convey the vital points.\\n- Adherence to the word limit is crucial for clarity and effectiveness.\\n\\n**Implementation Strategy:**\\n\\n- Prioritize central and impactful information from the text.\\n- Utilize direct yet appealing language to facilitate quick and clear comprehension.\\n- Exclude peripheral details to maintain the summary’s focus and potency.\\n\\n**Summary Execution Example:**\\n\\n* **Provided Text:** \"Technological advancements in robotics are streamlining manufacturing processes, enhancing precision and safety, leading to increased productivity and lower operational costs.\"\\n* **Crafted Summary:** \"Robotics advancements are refining manufacturing with greater precision and safety, boosting productivity and reducing costs.\"\\n\\n**Final Consideration:**\\n\\nYour summary should not only encapsulate the key information succinctly but also present a thorough yet condensed view that is in direct alignment with the text’s original intent. This approach enables readers to gain a full and clear understanding of the text’s principal messages.', '**Comprehensive Summary Design**\\n\\n#### Instructions:\\n\\nCreate a concise and informative summary based on the provided text.\\n\\n#### Text for Summary:\\n{TEXT}\\n\\n#### Summary Objectives:\\n\\n- Accurately identify and articulate the central themes and key insights from the text.\\n- Utilize precise and clear language to ensure the main points are communicated effectively.\\n- Maintain strict adherence to the word limit to focus on critical content succinctly.\\n\\n#### Summary Strategies:\\n\\n- Highlight essential information and pivotal insights that are fundamental to understanding the text.\\n- Choose direct and potent language to aid quick comprehension and enhance the impact of the summary.\\n- Exclude extraneous details to keep the summary focused and powerful.\\n\\n#### Example of Effective Summary:\\n\\n* **Text Provided:** \"The ongoing advancements in quantum computing are set to revolutionize data encryption and processing speeds, significantly affecting various sectors including cybersecurity and big data analytics.\"\\n* **Summary Created:** \"Quantum computing advancements promise to revolutionize data encryption and processing, impacting sectors like cybersecurity and big data analytics significantly.\"\\n\\n#### Final Tips:\\n\\nYour summary should succinctly encapsulate the essential information and provide a clear, comprehensive understanding of the text’s main messages. Aim to deliver a summary that combines brevity with depth to offer readers a precise and thorough insight into the text.\\n', '**Comprehensive Summary Execution Guidelines**\\n\\n#### Objective:\\n\\nDevelop a precise and succinct summary of the presented text.\\n\\n#### Text for Condensation:\\n{TEXT}\\n\\n#### Essential Summary Metrics:\\n\\n- Accurately extract and convey crucial themes and details of the text.\\n- Utilize clear, concise language to articulate key insights effectively.\\n- Maintain rigorous adherence to the specified word limit for optimal conciseness.\\n\\n#### Execution Strategy:\\n\\n- Focus on the imperative elements that represent the main substance of the text.\\n- Select robust, straightforward language to ensure clear understanding and retention.\\n- Exclude non-essential information to keep the summary sharp and impactful.\\n\\n#### Model Summary Execution:\\n\\n* **Text Given:** \"Recent breakthroughs in quantum computing are accelerating computational speeds and enabling more complex simulations, significantly impacting scientific research and development.\"\\n* **Efficient Summary:** \"Quantum computing breakthroughs are accelerating computational speeds and enabling complex simulations, markedly advancing scientific research.\"\\n\\n#### Final Consideration:\\n\\nYour summary should concisely reflect the primary messages of the text without removing critical information, providing a clear and precise rendition that aligns perfectly with the text\\'s original intentions. Aim for a summary that gives readers an accurate, yet compact understanding of the key points.', '**Efficient Summary Formulation Guide**\\n\\n#### Instruction:\\n\\nProduce a succinct and comprehensive summary from the provided text.\\n\\n#### Text for Summary:\\n{TEXT}\\n\\n#### Summary Objectives:\\n\\n- Identify and highlight the core themes and significant insights succinctly.\\n- Employ clear and concise language to convey pivotal information effectively.\\n- Uphold strict adherence to word limit ensuring succinctness without foregoing critical details.\\n\\n#### Summary Strategy:\\n\\n- Focus primarily on essential information that encapsulates the heart of the text.\\n- Opt for lucid and potent language to facilitate rapid comprehension and robust impact.\\n- Avoid trivial details to maintain the summary’s focus and potency.\\n\\n#### Example:\\n\\n* **Original Text:** \"The ongoing enhancements in renewable energy technology are increasing efficiency in power generation, thus, significantly reducing environmental impact and lowering energy costs.\"\\n* **Effective Summary:** \"Renewable energy advancements are boosting power generation efficiency, substantially cutting environmental impacts and energy expenses.\"\\n\\n#### Conclusion:\\n\\nYour summary should crisply encapsulate the crucial information, providing a clear and articulate overview that aligns tightly with the text\\'s original intent. Aim for a summary that offers readers a concise yet thorough understanding of the text’s fundamental messages.', '**Comprehensive Summary Execution Guide**\\n\\n#### Directions:\\n\\nDeliver a succinct yet detailed summary based on the text provided.\\n\\n#### Text for Analysis:\\n{TEXT}\\n\\n#### Summary Blueprint:\\n\\n- Thoroughly distill the core concepts and decisive insights from the text.\\n- Employ lucid and direct language to convey essential information effectively.\\n- Strict enforcement of the word limit to enhance focus and clarity.\\n\\n#### Summary Protocol:\\n\\n- Focus intensely on the pivotal details and foundational insights reflective of the text\\'s overarching narrative.\\n- Opt for a clear and potent linguistic approach to secure effective communication and fast comprehension.\\n- Abstain from incorporating extraneous elements to maintain the summary’s concentration and power.\\n\\n#### Summary Construction Example:\\n\\n* **Text Submitted:** \"Current trends in machine learning are elevating analytics capabilities, fostering groundbreaking improvements in predictive modeling and data interpretation, significantly affecting decision-making processes across business sectors.\"\\n* **Summary Crafted:** \"Machine learning trends are advancing analytics, enhancing predictive modeling and data interpretation, and profoundly impacting business decision-making.\"\\n\\n#### Closing Remarks:\\n\\nYour summary should encapsulatively outline the text while offering a lucid, comprehensive examination that aligns closely with the text\\'s principal intentions. Strive to craft a summary that equips readers with a streamlined yet thorough grasp of the main arguments and data points within the text.']\n"
     ]
    },
    {
     "data": {
      "application/vnd.jupyter.widget-view+json": {
       "model_id": "78e1c42993b642aca534f1a65a945d24",
       "version_major": 2,
       "version_minor": 0
      },
      "text/plain": [
       "Scoring:   0%|          | 0/8 [00:00<?, ?it/s]"
      ]
     },
     "metadata": {},
     "output_type": "display_data"
    },
    {
     "data": {
      "application/vnd.jupyter.widget-view+json": {
       "model_id": "21636ba08d5348f0b911f73b6245dcaa",
       "version_major": 2,
       "version_minor": 0
      },
      "text/plain": [
       "**Advanced Summary Execution Guidelines**\n",
       "\n",
       "#### Objective:\n",
       "\n",
       "Efficiently distill the core themes and insights o…"
      ]
     },
     "metadata": {},
     "output_type": "display_data"
    },
    {
     "data": {
      "application/vnd.jupyter.widget-view+json": {
       "model_id": "71374ac494bf4b889e5b22ddb78d8895",
       "version_major": 2,
       "version_minor": 0
      },
      "text/plain": [
       "**Summary Development Framework**\n",
       "\n",
       "#### Instruction:\n",
       "\n",
       "Create a succinct and insightful summary of the provided…"
      ]
     },
     "metadata": {},
     "output_type": "display_data"
    },
    {
     "data": {
      "application/vnd.jupyter.widget-view+json": {
       "model_id": "f176691b74ce437bbfe4049c52f13abd",
       "version_major": 2,
       "version_minor": 0
      },
      "text/plain": [
       "**Efficient Summary Framework**\n",
       "\n",
       "#### Directive:\n",
       "\n",
       "Compose an effective and concise summary of the provided tex…"
      ]
     },
     "metadata": {},
     "output_type": "display_data"
    },
    {
     "data": {
      "application/vnd.jupyter.widget-view+json": {
       "model_id": "5f030887bbcb41718c2373848b1f89ee",
       "version_major": 2,
       "version_minor": 0
      },
      "text/plain": [
       "#### Summary Generation Directive ####\n",
       "\n",
       "**Objective:** Efficiently distill the essence of the provided text in…"
      ]
     },
     "metadata": {},
     "output_type": "display_data"
    },
    {
     "data": {
      "application/vnd.jupyter.widget-view+json": {
       "model_id": "90daacf89ef548419cb529d1249938bf",
       "version_major": 2,
       "version_minor": 0
      },
      "text/plain": [
       "**Comprehensive Summary Design**\n",
       "\n",
       "#### Instructions:\n",
       "\n",
       "Create a concise and informative summary based on the pr…"
      ]
     },
     "metadata": {},
     "output_type": "display_data"
    },
    {
     "data": {
      "application/vnd.jupyter.widget-view+json": {
       "model_id": "7bcec5e6fffd410bbcc7eea9b38aab91",
       "version_major": 2,
       "version_minor": 0
      },
      "text/plain": [
       "**Comprehensive Summary Execution Guidelines**\n",
       "\n",
       "#### Objective:\n",
       "\n",
       "Develop a precise and succinct summary of the…"
      ]
     },
     "metadata": {},
     "output_type": "display_data"
    },
    {
     "data": {
      "application/vnd.jupyter.widget-view+json": {
       "model_id": "4657a26e683c4f6287a116b361e9e980",
       "version_major": 2,
       "version_minor": 0
      },
      "text/plain": [
       "**Efficient Summary Formulation Guide**\n",
       "\n",
       "#### Instruction:\n",
       "\n",
       "Produce a succinct and comprehensive summary from …"
      ]
     },
     "metadata": {},
     "output_type": "display_data"
    },
    {
     "data": {
      "application/vnd.jupyter.widget-view+json": {
       "model_id": "0eaa3ed2fab2439195ebccf0a1fcd73d",
       "version_major": 2,
       "version_minor": 0
      },
      "text/plain": [
       "**Comprehensive Summary Execution Guide**\n",
       "\n",
       "#### Directions:\n",
       "\n",
       "Deliver a succinct yet detailed summary based on …"
      ]
     },
     "metadata": {},
     "output_type": "display_data"
    },
    {
     "name": "stdout",
     "output_type": "stream",
     "text": [
      "{'**Advanced Summary Execution Guidelines**\\n\\n#### Objective:\\n\\nEfficiently distill the core themes and insights of the specified text into a concise, coherent summary.\\n\\n#### Text to be Summarized:\\n{TEXT}\\n\\n#### Priorities for Summary:\\n\\n- Clearly capture and communicate the crucial content and themes of the text.\\n- Utilize precise and succinct language to articulate the main points effectively.\\n- Strict adherence to the word limit is paramount to maintain clarity and focus.\\n\\n#### Summary Strategy:\\n\\n- Concentrate on the essential details that encapsulate the spirit and informative core of the text.\\n- Choose clear and powerful language to facilitate immediate understanding and retention.\\n- Discard extraneous elements to preserve the summary\\'s directness and potency.\\n\\n#### Efficient Summary Example:\\n\\n* **Original Text:** \"Current technological advancements are significantly enhancing computational speeds and data analytics capabilities, thus fostering improvements across multiple sectors like healthcare, finance, and education.\"\\n* **Crafted Summary:** \"Technological advancements are sharply improving computational speeds and data analytics, thereby boosting multiple sectors including healthcare, finance, and education.\"\\n\\n#### Conclusion:\\n\\nAim for a summary that is not only succinct but also encompasses a complete, clear, and precise overview that mirrors the original text\\'s objectives. Your summary should enable readers to grasp the text’s fundamental messages effectively and quickly.': 48.14277923958608, '**Summary Development Framework**\\n\\n#### Instruction:\\n\\nCreate a succinct and insightful summary of the provided material.\\n\\n#### Text to Summarize:\\n{TEXT}\\n\\n#### Essential Summary Features:\\n\\n- Zero in on the pivotal concepts and significant insights of the text.\\n- Employ crisp, precise language to convey essential information clearly.\\n- Adherence to the word limit is mandatory to maintain brevity and focus.\\n\\n#### Execution Strategy:\\n\\n- Concentrate on distilling the primary and impactful information from the text.\\n- Use direct and potent language to enhance understanding and retention.\\n- Exclude extraneous details to ensure the summary is clear and impactful.\\n\\n#### Example of a Successful Summary:\\n\\n* **Given Text:** \"Digital innovations are shaping the future of education, replacing traditional methods with interactive, technology-driven teaching procedures that enhance the learning experience and outcomes for students.\"\\n* **Crafted Summary:** \"Digital innovations are transforming education, introducing interactive techniques that elevate both the learning experience and student outcomes.\"\\n\\n#### Conclusion:\\n\\nYour summary should deliver a compact yet full understanding of the text, strictly aligning with its original intent and assisting readers in grasibly comprehending the primary messages in a concise format.': 47.449695373146426, '**Efficient Summary Framework**\\n\\n#### Directive:\\n\\nCompose an effective and concise summary of the provided text.\\n\\n#### Text to be Summarized:\\n{TEXT}\\n\\n#### Essential Summary Objectives:\\n\\n- Capture pivotal themes and crucial insights from the text succinctly.\\n- Utilize clear and precise language to articulate main points effectively.\\n- Adherence to the word limit is crucial to maintain conciseness and relevance.\\n\\n#### Summary Execution Strategies:\\n\\n- Concentrate on significant and meaningful information.\\n- Opt for clear and compelling language to facilitate understanding and engagement.\\n- Exclude irrelevant details to ensure the summary remains focused and potent.\\n\\n#### Example Summary Formation:\\n\\n* **Original Text:** \"Advancements in virtual reality technology are significantly enhancing user experience, enabling more immersive interactions and applications across various sectors.\"\\n* **Summary Formulated:** \"Virtual reality advancements are markedly improving user experience by enabling more immersive interactions across diverse sectors.\"\\n\\n#### Closing Reminder:\\n\\nYour summary should not only be succinct but also provide an insightful and thorough perspective that closely reflects the original text’s intent. Strive for a summary that effectively conveys the essential messages in a condensed format.': 50.57184743514903, '#### Summary Generation Directive ####\\n\\n**Objective:** Efficiently distill the essence of the provided text into a concise yet comprehensive summary.\\n\\n**Original Text:**\\n{TEXT}\\n\\n**Summary Essentials:**\\n\\n- Accurately extract and reflect the critical themes and main insights.\\n- Employ clear, engaging language to concisely convey the vital points.\\n- Adherence to the word limit is crucial for clarity and effectiveness.\\n\\n**Implementation Strategy:**\\n\\n- Prioritize central and impactful information from the text.\\n- Utilize direct yet appealing language to facilitate quick and clear comprehension.\\n- Exclude peripheral details to maintain the summary’s focus and potency.\\n\\n**Summary Execution Example:**\\n\\n* **Provided Text:** \"Technological advancements in robotics are streamlining manufacturing processes, enhancing precision and safety, leading to increased productivity and lower operational costs.\"\\n* **Crafted Summary:** \"Robotics advancements are refining manufacturing with greater precision and safety, boosting productivity and reducing costs.\"\\n\\n**Final Consideration:**\\n\\nYour summary should not only encapsulate the key information succinctly but also present a thorough yet condensed view that is in direct alignment with the text’s original intent. This approach enables readers to gain a full and clear understanding of the text’s principal messages.': 49.30059949759343, '**Comprehensive Summary Design**\\n\\n#### Instructions:\\n\\nCreate a concise and informative summary based on the provided text.\\n\\n#### Text for Summary:\\n{TEXT}\\n\\n#### Summary Objectives:\\n\\n- Accurately identify and articulate the central themes and key insights from the text.\\n- Utilize precise and clear language to ensure the main points are communicated effectively.\\n- Maintain strict adherence to the word limit to focus on critical content succinctly.\\n\\n#### Summary Strategies:\\n\\n- Highlight essential information and pivotal insights that are fundamental to understanding the text.\\n- Choose direct and potent language to aid quick comprehension and enhance the impact of the summary.\\n- Exclude extraneous details to keep the summary focused and powerful.\\n\\n#### Example of Effective Summary:\\n\\n* **Text Provided:** \"The ongoing advancements in quantum computing are set to revolutionize data encryption and processing speeds, significantly affecting various sectors including cybersecurity and big data analytics.\"\\n* **Summary Created:** \"Quantum computing advancements promise to revolutionize data encryption and processing, impacting sectors like cybersecurity and big data analytics significantly.\"\\n\\n#### Final Tips:\\n\\nYour summary should succinctly encapsulate the essential information and provide a clear, comprehensive understanding of the text’s main messages. Aim to deliver a summary that combines brevity with depth to offer readers a precise and thorough insight into the text.\\n': 50.31700113986361, '**Comprehensive Summary Execution Guidelines**\\n\\n#### Objective:\\n\\nDevelop a precise and succinct summary of the presented text.\\n\\n#### Text for Condensation:\\n{TEXT}\\n\\n#### Essential Summary Metrics:\\n\\n- Accurately extract and convey crucial themes and details of the text.\\n- Utilize clear, concise language to articulate key insights effectively.\\n- Maintain rigorous adherence to the specified word limit for optimal conciseness.\\n\\n#### Execution Strategy:\\n\\n- Focus on the imperative elements that represent the main substance of the text.\\n- Select robust, straightforward language to ensure clear understanding and retention.\\n- Exclude non-essential information to keep the summary sharp and impactful.\\n\\n#### Model Summary Execution:\\n\\n* **Text Given:** \"Recent breakthroughs in quantum computing are accelerating computational speeds and enabling more complex simulations, significantly impacting scientific research and development.\"\\n* **Efficient Summary:** \"Quantum computing breakthroughs are accelerating computational speeds and enabling complex simulations, markedly advancing scientific research.\"\\n\\n#### Final Consideration:\\n\\nYour summary should concisely reflect the primary messages of the text without removing critical information, providing a clear and precise rendition that aligns perfectly with the text\\'s original intentions. Aim for a summary that gives readers an accurate, yet compact understanding of the key points.': 50.29913614141488, '**Efficient Summary Formulation Guide**\\n\\n#### Instruction:\\n\\nProduce a succinct and comprehensive summary from the provided text.\\n\\n#### Text for Summary:\\n{TEXT}\\n\\n#### Summary Objectives:\\n\\n- Identify and highlight the core themes and significant insights succinctly.\\n- Employ clear and concise language to convey pivotal information effectively.\\n- Uphold strict adherence to word limit ensuring succinctness without foregoing critical details.\\n\\n#### Summary Strategy:\\n\\n- Focus primarily on essential information that encapsulates the heart of the text.\\n- Opt for lucid and potent language to facilitate rapid comprehension and robust impact.\\n- Avoid trivial details to maintain the summary’s focus and potency.\\n\\n#### Example:\\n\\n* **Original Text:** \"The ongoing enhancements in renewable energy technology are increasing efficiency in power generation, thus, significantly reducing environmental impact and lowering energy costs.\"\\n* **Effective Summary:** \"Renewable energy advancements are boosting power generation efficiency, substantially cutting environmental impacts and energy expenses.\"\\n\\n#### Conclusion:\\n\\nYour summary should crisply encapsulate the crucial information, providing a clear and articulate overview that aligns tightly with the text\\'s original intent. Aim for a summary that offers readers a concise yet thorough understanding of the text’s fundamental messages.': 50.81913640531695, '**Comprehensive Summary Execution Guide**\\n\\n#### Directions:\\n\\nDeliver a succinct yet detailed summary based on the text provided.\\n\\n#### Text for Analysis:\\n{TEXT}\\n\\n#### Summary Blueprint:\\n\\n- Thoroughly distill the core concepts and decisive insights from the text.\\n- Employ lucid and direct language to convey essential information effectively.\\n- Strict enforcement of the word limit to enhance focus and clarity.\\n\\n#### Summary Protocol:\\n\\n- Focus intensely on the pivotal details and foundational insights reflective of the text\\'s overarching narrative.\\n- Opt for a clear and potent linguistic approach to secure effective communication and fast comprehension.\\n- Abstain from incorporating extraneous elements to maintain the summary’s concentration and power.\\n\\n#### Summary Construction Example:\\n\\n* **Text Submitted:** \"Current trends in machine learning are elevating analytics capabilities, fostering groundbreaking improvements in predictive modeling and data interpretation, significantly affecting decision-making processes across business sectors.\"\\n* **Summary Crafted:** \"Machine learning trends are advancing analytics, enhancing predictive modeling and data interpretation, and profoundly impacting business decision-making.\"\\n\\n#### Closing Remarks:\\n\\nYour summary should encapsulatively outline the text while offering a lucid, comprehensive examination that aligns closely with the text\\'s principal intentions. Strive to craft a summary that equips readers with a streamlined yet thorough grasp of the main arguments and data points within the text.': 51.483357609774295}\n"
     ]
    }
   ],
   "source": [
    "INS_PER_STEP = 8\n",
    "MAX_INS_SCORE_PAIRS = 20\n",
    "SAVE_PATH = \"synthetic_summarization_OPRO_results.json\"\n",
    "STEP_COUNT = 10\n",
    "\n",
    "# loading saved data\n",
    "if os.path.exists(SAVE_PATH):\n",
    "    with open(SAVE_PATH, \"r\") as f:\n",
    "        results = json.load(f)\n",
    "    ins_score_pairs = results[str(len(results))]\n",
    "else:\n",
    "    ins_score_pairs = {\n",
    "        ins: score(ins, training_sample)\n",
    "        for ins in tqdm(SEED_PROMPTS, desc=\"Scoring\", position=0)\n",
    "    }\n",
    "    results = {1: ins_score_pairs}\n",
    "    with open(SAVE_PATH, \"w\") as f:\n",
    "        json.dump(results, f)\n",
    "\n",
    "# Each step takes aboy 5 to 10 minutes with gemma:2b\n",
    "for i in range(1, STEP_COUNT + 1):\n",
    "    print(f\"Step {i}\")\n",
    "    while True:\n",
    "        try:\n",
    "            # Optimizer LLM\n",
    "            instructions = [\n",
    "                opt_llm(ins_score_pairs)\n",
    "                for _ in trange(INS_PER_STEP, desc=\"Optimizing\")\n",
    "            ]\n",
    "            print(instructions)\n",
    "\n",
    "            # Scoring the new instructions\n",
    "            new_ins_score_pairs = {\n",
    "                ins: score(ins, training_sample)\n",
    "                for ins in tqdm(instructions, desc=\"Scoring\", position=0)\n",
    "            }\n",
    "            print(new_ins_score_pairs)\n",
    "            combined_ins_score_pairs = {**ins_score_pairs, **new_ins_score_pairs}\n",
    "            ins_score_pairs = dict(\n",
    "                sorted(\n",
    "                    combined_ins_score_pairs.items(), key=lambda x: x[1], reverse=True\n",
    "                )[:MAX_INS_SCORE_PAIRS]\n",
    "            )\n",
    "\n",
    "            # Saving data\n",
    "            results[i] = ins_score_pairs\n",
    "            with open(SAVE_PATH, \"w\") as f:\n",
    "                json.dump(results, f)\n",
    "\n",
    "            break\n",
    "        except ValueError as e:\n",
    "            print(e)\n",
    "        except Exception as e:\n",
    "            print(e)"
   ]
  },
  {
   "cell_type": "markdown",
   "metadata": {},
   "source": [
    "### Plotting Results and Testing Accuracy"
   ]
  },
  {
   "cell_type": "code",
   "execution_count": 7,
   "metadata": {},
   "outputs": [
    {
     "data": {
      "text/plain": [
       "Text(0.5, 1.0, 'Step to Accuracy')"
      ]
     },
     "execution_count": 7,
     "metadata": {},
     "output_type": "execute_result"
    },
    {
     "data": {
      "image/png": "[encoded data removed]",
      "text/plain": [
       "<Figure size 640x480 with 1 Axes>"
      ]
     },
     "metadata": {},
     "output_type": "display_data"
    }
   ],
   "source": [
    "import statistics\n",
    "import matplotlib.pyplot as plt\n",
    "\n",
    "# load opro.json\n",
    "with open(SAVE_PATH) as f:\n",
    "    opro_results = json.load(f)\n",
    "\n",
    "# opro = {step:dict(sorted(opro[step].items(), key=lambda x: x[1], reverse=True)[:20]) for step in opro}\n",
    "step_to_accuracy = {\n",
    "    step: (\n",
    "        statistics.mean(opro_results[step].values()),\n",
    "        statistics.stdev(opro_results[step].values()),\n",
    "    )\n",
    "    for step in opro_results\n",
    "}\n",
    "\n",
    "# Plot step to accuracy as a continuous line graph, including stdevs as highlighted error bars\n",
    "fig, ax = plt.subplots()\n",
    "ax.errorbar(\n",
    "    step_to_accuracy.keys(),\n",
    "    [accuracy[0] for accuracy in step_to_accuracy.values()],\n",
    "    yerr=[accuracy[1] for accuracy in step_to_accuracy.values()],\n",
    "    fmt=\"o\",\n",
    ")\n",
    "ax.set_xticks([step for step in step_to_accuracy.keys() if int(step) % 5 == 0])\n",
    "ax.set_xlabel(\"Step\")\n",
    "ax.set_ylabel(\"Accuracy\")\n",
    "ax.set_title(\"Step to Accuracy\")"
   ]
  },
  {
   "cell_type": "code",
   "execution_count": 8,
   "metadata": {},
   "outputs": [
    {
     "data": {
      "text/plain": [
       "{'**Instruction**: Summarize the following text:\\n\\n**{TEXT}**\\n\\n**Example:**\\n\\n* Summarize the following text:\\n> The United States is a large country with a diverse population. It is made up of 50 states, each with its own unique culture and history. The United States is a global superpower and has a significant influence on world affairs.\\n\\n### Answer: ###\\n* The United States is a large, diverse country with 50 states, each with its own unique culture and history. As a global superpower, the United States exerts significant influence on world affairs.\\n\\n**Additional Instructions:**\\n\\n* Please ensure that your summary captures the key points of the text.\\n* Use clear and concise language.\\n* You MUST adhere to the specified word limit.\\n* You will be penalized if your summary is not responsive to the text.': 57.20792197129059,\n",
       " '**Optimal Summary Creation Framework**\\n\\n#### Directive:\\n\\nCraft a brief yet thorough summary of the specified text.\\n\\n#### Text for Summary:\\n{TEXT}\\n\\n#### Summary Essentials:\\n\\n- Capture the critical themes and key insights from the text succinctly.\\n- Use precise and efficient language to clarify the main points.\\n- Ensure strict compliance with the word limit to prioritize content relevance and directness.\\n\\n#### Summary Methodology:\\n\\n- Focus distinctly on information that is central and significant.\\n- Opt for straightforward and potent language to aid quick and clear comprehension.\\n- Forego any irrelevant details to keep the summary focused and impactful.\\n\\n#### Example Summary Approach:\\n\\n* **Text Given:** \"Blockchain technology is redefining financial transactions by providing a decentralized and secure platform, which enhances transparency and decreases fraud risks.\"\\n* **Summary Executed:** \"Blockchain technology revolutionizes financial transactions through a secure, decentralized platform that increases transparency and reduces fraud.\"\\n\\n#### Final Reminder:\\n\\nYour summary should not only encapsulate information succinctly but also deliver a comprehensive yet precise overview that aligns strictly with the original text\\'s intent. Aim for a summary that grants readers a full, yet concise understanding of the text’s core messages.': 54.93704804912139,\n",
       " '**Concise Summary Generation Protocol**\\n\\n#### Instruction:\\n\\nDevelop an accurate and succinct summary of the text provided.\\n\\n#### Text for Summarization:\\n{TEXT}\\n\\n#### Summary Principles:\\n\\n- Emphasize crucial points and key themes, accurately reflecting the text.\\n- Utilize clear, unambiguous language to deliver a concise representation.\\n- Strict adherence to word limit is essential for precision and focus.\\n\\n#### Summary Strategy:\\n\\n- Focus on significant information that encapsulates the text succinctly.\\n- Employ straightforward, powerful language to ensure clarity and impact.\\n- Avoid minor details to maintain the centrality and poignancy of the summary.\\n\\n#### Summary Example:\\n\\n* **Original Text:** \"The rapid evolution of digital technology is significantly impacting global communication networks, enhancing data transfer speeds and connectivity, leading to more integrated global business operations.\"\\n* **Summary Crafted:** \"Digital technology evolution boosts global communication with improved data speeds and connectivity, fostering integrated business operations worldwide.\"\\n\\n#### Final Tips:\\n\\nYour summary should efficiently distill the essence of the text into a concise article that provides a comprehensive understanding of the primary messages while remaining tightly focused and directly relevant to the original content.': 54.05106344333136,\n",
       " '#### Guidelines for Optimal Summary Creation ####\\n\\n**Task Instructions:**\\n\\nSummarize the provided text with precision and brevity:\\n\\n**Text for Summary:**\\n{TEXT}\\n\\n**Summary Objectives:**\\n\\n- Capture the essence and main themes of the text accurately.\\n- Use clear, concise language to articulate the core insights.\\n- Maintain strict adherence to the word limit to ensure focus and clarity.\\n\\n**Summary Strategy:**\\n\\n- Prioritize key information and significant details from the text.\\n- Ensure your language is direct and effective, facilitating easy comprehension.\\n- Avoid extraneous details to keep the summary succinct and on-point.\\n\\n**Example of Execution:**\\n\\n* **Text Provided:** \"Innovations in technology are accelerating the development of smart cities, integrating IoT devices and AI to enhance urban infrastructure and improve residents\\' quality of life.\"\\n* **Summary Created:** \"Technology innovations are driving smart city development through the integration of IoT and AI, enhancing urban infrastructure and resident life quality.\"\\n\\n**Final Reminder:**\\n\\nAim for a summary that not only condenses the information but also provides a clear, informative overview that remains true to the original text’s intent. Your summary should cater to readers seeking a quick, yet comprehensive understanding of the central themes.': 53.5445855599448,\n",
       " '#### Instruction ####\\n\\nSummarize the following text:\\n\\n#### Input ####\\n\\n{TEXT}\\n\\n#### Expected Response Format ####\\n\\n[Your summary]': 52.39385462944258,\n",
       " '#### Optimal Summary Guidelines ####\\n\\n**Objective:** Craft a clear, accurate summary that distills the essence of the provided text.\\n\\n**Text for Summary:**\\n{TEXT}\\n\\n**Summary Dynamics:**\\n\\n- Capture the core themes and essential details accurately.\\n- Employ concise and straightforward language to enhance understanding and retention.\\n- Strict adherence to the word limit is crucial for clarity and focus.\\n\\n**Execution Strategy:**\\n\\n- Highlight key information and significant insights from the text.\\n- Use clear, efficient language to ensure the summary is both precise and accessible.\\n- Eliminate non-essential details to maintain a concise, impactful narrative.\\n\\n**Example of Effective Summary:**\\n\\n* **Text Provided:** \"Emerging technologies are reshaping the financial sector by automating operations and enhancing data security, significantly improving efficiency and customer trust.\"\\n* **Summary Produced:** \"Emerging technologies are transforming the financial sector by automating operations and boosting data security, thereby enhancing efficiency and building customer trust.\"\\n\\n**Final Tips:**\\n\\nYour summary should not only condense the information effectively but also provide a comprehensive understanding of the text’s main points. Focus on delivering a succinct yet thorough overview that remains faithful to the original content’s intent.': 52.15494591448107,\n",
       " '#### Summary Composition Directive ####\\n\\n**Objective:** Concisely encapsulate the essence and key points of the provided text.\\n\\n**Text Provided for Summary:**\\n{TEXT}\\n\\n**Summary Expectations:**\\n\\n- Accurately capture and convey the pivotal themes and information of the text.\\n- Employ a clear, direct style to ensure the summary is comprehensible and succinct.\\n- Strict adherence to the word limit is required to maintain focus and clarity.\\n\\n**Execution Strategy:**\\n\\n- Highlight the most relevant details and principal insights from the text.\\n- Use straightforward and precise language to aid in quick and clear understanding.\\n- Avoid unnecessary details to keep the summary focused and relevant.\\n\\n**Example for Better Mastery:**\\n\\n* **Text to Summarize:** \"The ongoing advancements in genetic engineering are greatly enhancing agricultural productivity, enabling the cultivation of crops that are both more nutritious and resistant to environmental stresses.\"\\n* **Crafted Summary:** \"Genetic engineering advancements are significantly boosting agricultural productivity by developing crops that are more nutritious and environmentally resilient.\"\\n\\n**Final Guidance:**\\n\\nAim to produce a summary that not only effectively condenses the information but also provides a coherent, informative overview that remains true to the original text’s intent. Your summary should offer readers a clear, concise understanding of the main themes.': 52.026499030411784,\n",
       " '#### Instructions for Summary Creation ####\\n\\n**Objective:** Efficiently condense the primary information from the provided text.\\n\\n**Text for Summarization:**\\n{TEXT}\\n\\n**Summary Expectations:**\\n\\n- Develop a succinct yet comprehensive summary reflecting the essential elements of the text.\\n- Utilize clear and precise language to highlight core insights.\\n- Adhere strictly to the word limit, ensuring conciseness without sacrificing completeness.\\n\\n**Key Points to Address:**\\n\\n- The summary should distill the main ideas and arguments from the text without altering their original meaning.\\n- Any critical data or statistics mentioned should be accurately represented in the summary.\\n- Summaries that do not adequately capture the essence of the text or exceed the word limit will be considerably penalized.\\n\\n**Example Demonstrating Summary Technique:**\\n* **Text Provided:** \"Recent advancements in artificial intelligence have transformed industries, enabling faster data processing and more accurate predictive analytics.\"\\n* **Summary Created:** \"Advancements in artificial intelligence have revolutionized industry practices by enhancing data processing speeds and predictive accuracy.\"\\n\\n**Reminder for Excellence:**\\nAdhering to these guidelines will ensure that your summary is both informative and aligned with the primary content, making it valuable for understanding the text\\'s key messages.': 51.856709545465286,\n",
       " '#### Essential Summary Instructions ####\\n\\n**Objective:**\\n\\nCreate a concise yet comprehensive summary of the provided content.\\n\\n**Text to be Summarized:**\\n{TEXT}\\n\\n**Summary Guidelines:**\\n\\n- Precisely capture and convey the main points and themes of the text.\\n- Use clear and straightforward language to ensure the summary is easily understandable.\\n- Adhere to the word limit to guarantee conciseness without overlooking important information.\\n\\n**Summary Construction:**\\n\\n- Emphasize the critical events and data in the text, carefully avoiding any alteration of their intended meaning.\\n- Craft your summary to be direct and informative, enabling quick and full comprehension.\\n\\n**Example of Effective Summarization:**\\n\\n* **Input Text:** \"The impact of advanced computing on healthcare is profound, speeding up diagnostic processes and personalizing treatment options, thereby significantly improving patient outcomes.\"\\n* **Crafted Summary:** \"Advanced computing is transforming healthcare by accelerating diagnostics and personalizing treatments, significantly enhancing patient outcomes.\"\\n\\n**Key Reminder:**\\n\\nA well-crafted summary should not only be brief but also complete, providing a clear portrayal of the text\\'s essential information and preserving the original intent. This necessitates a balance of precision and brevity to aid readers in grasping the pivotal themes readily.': 51.699055627071,\n",
       " '### Summary Creation Directive ###\\n\\n**Objective:** Compose a succinct and accurate summary of the provided text.\\n\\n**Text to Summarize:**\\n{TEXT}\\n\\n**Summary Requirements:**\\n\\n- Clearly and accurately distill the key themes and information of the text.\\n- Employ direct and clear language that enhances the reader\\'s comprehension.\\n- Adhere strictly to the word limit to maintain concentration and clarity.\\n\\n**Summary Guidance:**\\n\\n- Focus on essential information, omitting superfluous details.\\n- Keep the language straightforward and engaging to ensure easy understanding.\\n- Ensure that the summary is comprehensive, addressing all significant aspects of the text.\\n\\n**Example for Guidance:**\\n\\n* **Text Provided:** \"Global trends in educational technology are transforming learning environments, from elementary schools to universities, by integrating interactive tools that enhance student engagement and academic performance.\"\\n* **Summary Created:** \"Educational technology is reshaping learning from elementary level to universities by incorporating interactive tools that boost student engagement and performance.\"\\n\\n**Summary Execution Advice:**\\n\\nYour summary should offer a clear, concise, and informative snapshot of the text, capturing its essence without altering the original intent. Aim to provide a summary that gives readers a complete understanding of the main points in a succinct form.': 51.65770815234377,\n",
       " '#### Summary Creation Protocol ####\\n\\n**Objective:** Create a clear, concise, and informative summary from the provided text.\\n\\n**Text to Summarize:**\\n{TEXT}\\n\\n**Summary Guidelines:**\\n\\n- Focus on extracting and conveying the main ideas and crucial details from the text.\\n- Utilize straightforward yet effective language to enhance comprehension and retention.\\n- Adhere to the word limit, fostering precision and impact in communication.\\n\\n**Detailed Approach:**\\n\\n- Prioritize the inclusion of key concepts and significant data points from the text.\\n- Ensure the language deployed is clear and direct, aiding quick understanding.\\n- Exclude any ancillary information to keep the summary focused and relevant.\\n\\n**Example for Better Understanding:**\\n\\n* **Text Provided:** \"The integration of advanced digital technologies across various sectors is revolutionizing traditional business models, enabling quicker decision-making and improved operational efficiencies.\"\\n* **Summary Executed:** \"Advanced digital technologies are transforming traditional business models, facilitating faster decision-making and enhancing operational efficiencies.\"\\n\\n**Reminder for Effective Summary Creation:**\\n\\nEnsure your summary not only succinctly encapsulates the text but also remains engaging and informative, providing a condensed yet comprehensive view of the original content. Aim to deliver a summary that synthesizes the key points effectively, offering clarity and insight.': 51.55873507807392,\n",
       " '**Comprehensive Summary Execution Guide**\\n\\n#### Directions:\\n\\nDeliver a succinct yet detailed summary based on the text provided.\\n\\n#### Text for Analysis:\\n{TEXT}\\n\\n#### Summary Blueprint:\\n\\n- Thoroughly distill the core concepts and decisive insights from the text.\\n- Employ lucid and direct language to convey essential information effectively.\\n- Strict enforcement of the word limit to enhance focus and clarity.\\n\\n#### Summary Protocol:\\n\\n- Focus intensely on the pivotal details and foundational insights reflective of the text\\'s overarching narrative.\\n- Opt for a clear and potent linguistic approach to secure effective communication and fast comprehension.\\n- Abstain from incorporating extraneous elements to maintain the summary’s concentration and power.\\n\\n#### Summary Construction Example:\\n\\n* **Text Submitted:** \"Current trends in machine learning are elevating analytics capabilities, fostering groundbreaking improvements in predictive modeling and data interpretation, significantly affecting decision-making processes across business sectors.\"\\n* **Summary Crafted:** \"Machine learning trends are advancing analytics, enhancing predictive modeling and data interpretation, and profoundly impacting business decision-making.\"\\n\\n#### Closing Remarks:\\n\\nYour summary should encapsulatively outline the text while offering a lucid, comprehensive examination that aligns closely with the text\\'s principal intentions. Strive to craft a summary that equips readers with a streamlined yet thorough grasp of the main arguments and data points within the text.': 51.483357609774295,\n",
       " '#### Advanced Summary Execution Framework ####\\n\\n**Directive:**\\n\\nEfficiently and accurately consolidate the essential elements of the provided text into a concise summary.\\n\\n**Text for Summary:**\\n{TEXT}\\n\\n**Summary Objectives:**\\n\\n- Precisely extract and relay the crucial themes and insights from the text.\\n- Employ clear, concise language to effectively communicate the main points.\\n- Comply strictly with the word limit to focus on content relevance and succinctness.\\n\\n**Summary Tactics:**\\n\\n- Prioritize the essential and significant details from the text.\\n- Utilize direct and potent language to ensure quick understanding and retention.\\n- Eliminate any non-critical information to maintain the summary\\'s focus and significance.\\n\\n**Example of Summary Approach:**\\n\\n* **Text Provided:** \"The escalating advancements in cloud computing are substantially enhancing data storage capabilities and security measures, leading to increased efficiency and scalability for businesses.\"\\n* **Summary Executed:** \"Advancements in cloud computing are markedly improving data storage and security, boosting business efficiency and scalability.\"\\n\\n**Final Note:**\\n\\nYour summary should not only succinctly encapsulate the text but also provide a clear, comprehensive overview that aligns strictly with the original text\\'s intent, helping readers grasp a complete yet concise understanding of the text’s core messages.': 51.36364936158741,\n",
       " '#### Instruction ####\\n\\nCraft a concise summary of the following text:\\n\\n#### Input ####\\n\\n{TEXT}\\n\\n#### Key Points to Focus On ####\\n\\n* Distill the most salient points from the text.\\n* Write in a clear, straightforward manner, emphasizing essential information.\\n* Stick to the word limit provided to maintain succinctness.\\n* Ensure the summary is directly responsive to the text\\'s content.\\n\\n#### Example ####\\n\\n**Original Text:** \"Brazil, as the fifth-largest country in the world, boasts not only an enormous geographical area but also a vast array of biodiversity and cultural diversity, influencing global environmental and cultural policies.\"\\n\\n**Summary:** \"Brazil, the world\\'s fifth-largest country, is notable for its vast geography, rich biodiversity, and diverse culture, significantly impacting global environmental and cultural policies.\"\\n\\n#### Remember ####\\n\\nFocus on clarity, brevity, and directness in your summary to effectively communicate the key elements of the text.': 51.0422080123446,\n",
       " '#### Comprehensive Summary Guidelines ####\\n\\n**Objective:** Efficiently extract and articulate the main points from the given text.\\n\\n**Text for Summary:**\\n{TEXT}\\n\\n**Summary Expectations:**\\n\\n- Provide a concise, clear, and factual recapitulation of the key details from the text.\\n- Emphasize the primary themes, ensuring clarity and precision of language.\\n- Stay tightly focused on the prescribed word limit, balancing thoroughness with brevity.\\n\\n**Essential Elements to Include:**\\n\\n- Your summary must reflect the core concepts and insights from the text without distorting its original intent.\\n- Critical data or statistics presented in the text should be accurately encapsulated in the summary.\\n- A summary failing to capture the essential narrative or details of the text will face deductions.\\n\\n**Model Example for Summarizing:**\\n* **Provided Text:** \"Emerging technologies in renewable energy sectors are propelling global shifts towards sustainable practices, particularly in solar and wind energy applications, which are becoming more economically viable and widely adopted.\"\\n* **Crafted Summary:** \"Emerging renewable energy technologies, especially in solar and wind sectors, are driving global shifts towards sustainability, increasingly becoming cost-effective and broadly accepted.\"\\n\\n**Guidelines for Excellence:**\\nAdhering to these directives will ensure your summary is not only comprehensive but also adheres perfectly to the core message, making it insightful for anyone seeking to grasp the essential content of the text.': 50.99896437526268,\n",
       " \"#### Instruction ####\\n\\nSummarize the given content:\\n\\n#### Text to Summarize ####\\n\\n{TEXT}\\n\\n#### Summary Guidelines ####\\n\\n* Create a succinct and comprehensive summary of the text.\\n* Use precise and straightforward language to highlight the crucial elements.\\n* Adhere to a concise format without exceeding the word limit guideline.\\n* Your summary should be fully responsive to the text's content.\\n\\n#### Example ####\\n\\n**Original Text:** The European Union is an economic and political union of 27 member countries located primarily in Europe. It operates an internal single market through standardized laws applicable in all member states, ensuring the free movement of people, goods, services, and capital.\\n\\n**Summarized Text:** The European Union, compsed of 27 European nations, functions as both an economic and political entity, promoting a unified internal market through standardized laws that guarantee free movement of people, goods, services, and capital across member states.\": 50.92057062462694,\n",
       " '**Optimal Summary Development Guide**\\n\\n#### Task Outline:\\n\\nProduce a concise and comprehensive summary of the provided content.\\n\\n#### Source Text:\\n{TEXT}\\n\\n#### Summary Imperatives:\\n\\n- Identify and condense the core messages and pivotal insights from the text succinctly.\\n- Employ precise, clear language to effectively communicate the key points.\\n- Strict adherence to the word limit is essential to maintain focus and conciseness.\\n\\n#### Summary Method:\\n\\n- Accentuate critical information and major insights while avoiding superfluous details.\\n- Choose precise and powerful language to ensure the summary is accessible and impactful.\\n- Ensure the summary remains focused on the primary intent of the original text.\\n\\n#### Example Summary Strategy:\\n\\n* **Original Text:** \"The ongoing innovations in cloud computing are drastically enhancing data storage capabilities and computational power, fostering significant advancements in big data analytics and artificial intelligence applications.\"\\n* **Derived Summary:** \"Cloud computing innovations are significantly boosting data storage and computational capabilities, advancing big data analytics and AI applications.\"\\n\\n#### Concluding Advice:\\n\\nYour summary should not only encapsulate the necessary information succinctly but also present a clear and thorough understanding of the original text’s essential messages. Aim for a summary that informs readers in a concise yet comprehensive manner.': 50.879905838953235,\n",
       " '**Efficient Summary Formulation Guide**\\n\\n#### Instruction:\\n\\nProduce a succinct and comprehensive summary from the provided text.\\n\\n#### Text for Summary:\\n{TEXT}\\n\\n#### Summary Objectives:\\n\\n- Identify and highlight the core themes and significant insights succinctly.\\n- Employ clear and concise language to convey pivotal information effectively.\\n- Uphold strict adherence to word limit ensuring succinctness without foregoing critical details.\\n\\n#### Summary Strategy:\\n\\n- Focus primarily on essential information that encapsulates the heart of the text.\\n- Opt for lucid and potent language to facilitate rapid comprehension and robust impact.\\n- Avoid trivial details to maintain the summary’s focus and potency.\\n\\n#### Example:\\n\\n* **Original Text:** \"The ongoing enhancements in renewable energy technology are increasing efficiency in power generation, thus, significantly reducing environmental impact and lowering energy costs.\"\\n* **Effective Summary:** \"Renewable energy advancements are boosting power generation efficiency, substantially cutting environmental impacts and energy expenses.\"\\n\\n#### Conclusion:\\n\\nYour summary should crisply encapsulate the crucial information, providing a clear and articulate overview that aligns tightly with the text\\'s original intent. Aim for a summary that offers readers a concise yet thorough understanding of the text’s fundamental messages.': 50.81913640531695,\n",
       " '#### Instruction ####\\n\\nCraft a Summary for the Provided Text:\\n\\n#### Text ####\\n\\n{TEXT}\\n\\n#### Summary Requirements ####\\n\\n* Concisely distill the central themes and key details from the text.\\n* Use direct and unambiguous language to ensure the essence of the text is conveyed effectively.\\n* Adhere to a strict word limit, ensuring brevity and clarity in your summary.\\n\\n#### Additional Guidance ####\\n\\n* Ensure that your summary is comprehensive, covering all vital aspects without deviating from the original meaning.\\n* Your response should be well-structured and logically coherent, guiding the reader seamlessly through the summarization.\\n\\n#### Example ####\\n\\n**Text to summarize:** \"Artificial intelligence technologies are advancing at a rapid pace, promising revolutionary changes across sectors such as healthcare, automotive, and finance. These technologies analyze large data sets to automate responses and predict trends.\"\\n\\n**Summary:** \"Advancing swiftly, artificial intelligence is set to transform healthcare, automotive, and finance sectors by automating responses and predicting trends through extensive data analysis.\"\\n\\n#### Note ####\\n\\nStrive for precision and efficiency in your summary to reflect a deep understanding of the text and its implications.': 50.59074778190404,\n",
       " '**Efficient Summary Framework**\\n\\n#### Directive:\\n\\nCompose an effective and concise summary of the provided text.\\n\\n#### Text to be Summarized:\\n{TEXT}\\n\\n#### Essential Summary Objectives:\\n\\n- Capture pivotal themes and crucial insights from the text succinctly.\\n- Utilize clear and precise language to articulate main points effectively.\\n- Adherence to the word limit is crucial to maintain conciseness and relevance.\\n\\n#### Summary Execution Strategies:\\n\\n- Concentrate on significant and meaningful information.\\n- Opt for clear and compelling language to facilitate understanding and engagement.\\n- Exclude irrelevant details to ensure the summary remains focused and potent.\\n\\n#### Example Summary Formation:\\n\\n* **Original Text:** \"Advancements in virtual reality technology are significantly enhancing user experience, enabling more immersive interactions and applications across various sectors.\"\\n* **Summary Formulated:** \"Virtual reality advancements are markedly improving user experience by enabling more immersive interactions across diverse sectors.\"\\n\\n#### Closing Reminder:\\n\\nYour summary should not only be succinct but also provide an insightful and thorough perspective that closely reflects the original text’s intent. Strive for a summary that effectively conveys the essential messages in a condensed format.': 50.57184743514903}"
      ]
     },
     "execution_count": 8,
     "metadata": {},
     "output_type": "execute_result"
    }
   ],
   "source": [
    "opro_results[str(len(opro_results))]"
   ]
  },
  {
   "cell_type": "code",
   "execution_count": 9,
   "metadata": {},
   "outputs": [
    {
     "data": {
      "application/vnd.jupyter.widget-view+json": {
       "model_id": "8f3596206a29418a836bbd283cb246e3",
       "version_major": 2,
       "version_minor": 0
      },
      "text/plain": [
       "Please summarize the following text: {TEXT}:   0%|          | 0/30 [00:00<?, ?it/s]"
      ]
     },
     "metadata": {},
     "output_type": "display_data"
    },
    {
     "name": "stdout",
     "output_type": "stream",
     "text": [
      "Initial Prompt: 37.307090432010874\n"
     ]
    },
    {
     "data": {
      "application/vnd.jupyter.widget-view+json": {
       "model_id": "274897ea0899407f99d29b443a458d29",
       "version_major": 2,
       "version_minor": 0
      },
      "text/plain": [
       "**Instruction**: Summarize the following text:\n",
       "\n",
       "**{TEXT}**\n",
       "\n",
       "**Example:**\n",
       "\n",
       "* Summarize the following text:\n",
       "> Th…"
      ]
     },
     "metadata": {},
     "output_type": "display_data"
    },
    {
     "name": "stdout",
     "output_type": "stream",
     "text": [
      "Optimized Prompt (**Instruction**: Summarize the following text:\n",
      "\n",
      "**{TEXT}**\n",
      "\n",
      "**Example:**\n",
      "\n",
      "* Summarize the following text:\n",
      "> The United States is a large country with a diverse population. It is made up of 50 states, each with its own unique culture and history. The United States is a global superpower and has a significant influence on world affairs.\n",
      "\n",
      "### Answer: ###\n",
      "* The United States is a large, diverse country with 50 states, each with its own unique culture and history. As a global superpower, the United States exerts significant influence on world affairs.\n",
      "\n",
      "**Additional Instructions:**\n",
      "\n",
      "* Please ensure that your summary captures the key points of the text.\n",
      "* Use clear and concise language.\n",
      "* You MUST adhere to the specified word limit.\n",
      "* You will be penalized if your summary is not responsive to the text.): 43.59918060057396\n"
     ]
    }
   ],
   "source": [
    "best_instruction = max(\n",
    "    opro_results[str(len(opro_results))], key=opro_results[str(len(opro_results))].get\n",
    ")\n",
    "print(f\"Initial Prompt: {score(CHOSEN_PROMPT, testing_sample)}\")\n",
    "print(f\"Optimized Prompt ({best_instruction}): {score(best_instruction, testing_sample)}\")"
   ]
  },
  {
   "cell_type": "code",
   "execution_count": null,
   "metadata": {},
   "outputs": [],
   "source": []
  }
 ],
 "metadata": {
  "kernelspec": {
   "display_name": "Python 3",
   "language": "python",
   "name": "python3"
  },
  "language_info": {
   "codemirror_mode": {
    "name": "ipython",
    "version": 3
   },
   "file_extension": ".py",
   "mimetype": "text/x-python",
   "name": "python",
   "nbconvert_exporter": "python",
   "pygments_lexer": "ipython3",
   "version": "3.10.12"
  }
 },
 "nbformat": 4,
 "nbformat_minor": 2
}
