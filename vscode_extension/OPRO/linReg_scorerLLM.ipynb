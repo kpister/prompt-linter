{
 "cells": [
  {
   "cell_type": "markdown",
   "metadata": {},
   "source": [
    "### Fake Data"
   ]
  },
  {
   "cell_type": "code",
   "execution_count": 1,
   "metadata": {},
   "outputs": [
    {
     "data": {
      "image/png": "[encoded data removed]",
      "text/plain": [
       "<Figure size 640x480 with 1 Axes>"
      ]
     },
     "metadata": {},
     "output_type": "display_data"
    }
   ],
   "source": [
    "# Creating fake data for linear regression\n",
    "import numpy as np\n",
    "import matplotlib.pyplot as plt\n",
    "\n",
    "# Create a dataset\n",
    "np.random.seed(0)\n",
    "w_true, b_true = 15, 25\n",
    "X = 10 * np.random.rand(100, 1)\n",
    "y = w_true * X + b_true + 5 * np.random.randn(100, 1)\n",
    "\n",
    "# Plot the data\n",
    "plt.plot(X, y, \"b.\")\n",
    "plt.xlabel(\"$x_1$\", fontsize=18)\n",
    "plt.ylabel(\"$y$\", rotation=0, fontsize=18)\n",
    "plt.axis([0, 10, 0, 100])\n",
    "plt.show()"
   ]
  },
  {
   "cell_type": "markdown",
   "metadata": {},
   "source": [
    "### Optimizer LLM"
   ]
  },
  {
   "cell_type": "code",
   "execution_count": 2,
   "metadata": {},
   "outputs": [
    {
     "data": {
      "text/plain": [
       "('[(-2.5, 3.5), (0.8, 0.2), (4.6, -7.4), (6.2, -9.8), (-1.1, 11.5), (8.3, 13.1), (10.9, -21.7), (15.4, 16.8), (-17.2, 18.6), (19.7, -20.3)]',\n",
       " [(-2.5, 3.5),\n",
       "  (0.8, 0.2),\n",
       "  (4.6, -7.4),\n",
       "  (6.2, -9.8),\n",
       "  (-1.1, 11.5),\n",
       "  (8.3, 13.1),\n",
       "  (10.9, -21.7),\n",
       "  (15.4, 16.8),\n",
       "  (-17.2, 18.6),\n",
       "  (19.7, -20.3)])"
      ]
     },
     "execution_count": 2,
     "metadata": {},
     "output_type": "execute_result"
    }
   ],
   "source": [
    "import ast\n",
    "from tqdm import tqdm\n",
    "from linReg_helpers import client\n",
    "\n",
    "def opt_llm(text_score_pairs):\n",
    "    user_prompt = \"\"\"\n",
    "        Now you will help me optimize a function with two input variables w, b. I have some (w,b) pairs\n",
    "        and the function values at those points. The pairs are arranged in ascending order based on their\n",
    "        function value categories.\n",
    "\n",
    "        The equation of a line is y = w * x + b, where w is the slope and b is the y-intercept.\n",
    "        The quality of the line can be placed into one of 5 categories:\n",
    "        1. Excellent\n",
    "        2. Good\n",
    "        3. Fair\n",
    "        4. Poor\n",
    "        5. Very Poor\n",
    "\n",
    "        ## Excellent\n",
    "        A line that fits the data points very well and passes through as many points as possible while having the \n",
    "        lowest possible error rate between the points and the line should be labelled as \"Excellent\".\n",
    "\n",
    "        ## Good\n",
    "        A line that fits the data points well and passes through many of the points while having a small error rate\n",
    "        between the points and the line should be labelled as \"Good\".\n",
    "\n",
    "        ## Fair\n",
    "        A line that fits the data points reasonably well and passes through some of the points while having a moderate\n",
    "        error rate between the points and the line should be labelled as \"Fair\".\n",
    "\n",
    "        ## Poor\n",
    "        A line that fits the data points poorly and passes through few of the points while having a large error rate\n",
    "        between the points and the line should be labelled as \"Poor\".\n",
    "\n",
    "        ## Very Poor\n",
    "        A line that fits the data points very poorly and passes through none of the points while having an incredibly \n",
    "        large error rate between the points and the line should be labelled as \"Very Poor\".\n",
    "\n",
    "\n",
    "        {text_score_pairs}\n",
    "\n",
    "        Give me new (w,b) pairs that are different from all pairs above, and has a function value category of \"Excellent\".\n",
    "        Do not write code. The output must be a list of 10 unique (w,b) pairs, where w and b are\n",
    "        numerical values. The (w,b) pairs can be positive or negative, and can have decimal points.\n",
    "\n",
    "        Example: [(1, 2), (3, 4), (5, -6), (7, -8), (0.5, 10), (11, 12), (13, 0.9), (15, 16), (-17, 18), (19, -20)]\n",
    "\n",
    "    \"\"\"\n",
    "\n",
    "    chat_completion = client.chat.completions.create(\n",
    "        messages=[\n",
    "            {\n",
    "                \"role\": \"system\", \n",
    "                \"content\": \"\"\"\n",
    "                You are an optimization expert. The user has some (w,b) pairs along their corresponding function values.\n",
    "                Your task is to generate a list of 10 (w,b) pairs that will have a function value as low as possible.\n",
    "\n",
    "                Example: [(1, 2), (3, 4), (5, -6), (7, -8), (0.5, 10), (11, 12), (13, 0.9), (15, 16), (-17, 18), (19, -20)]\n",
    "\n",
    "                Do not print anything other than a list of 10 (w,b) pairs. Do not write a sentence. Do not write code.\n",
    "                \"\"\"\n",
    "            },\n",
    "            {\n",
    "                \"role\": \"user\", \n",
    "                \"content\": user_prompt.format(text_score_pairs=text_score_pairs)\n",
    "            },\n",
    "        ],\n",
    "        model=\"gpt-3.5-turbo-0125\",\n",
    "        max_tokens=4096,\n",
    "        temperature=1,\n",
    "        # response_format={ \"type\": \"json_object\" },\n",
    "    )\n",
    "    result = chat_completion.choices[0].message.content\n",
    "    return result\n",
    "\n",
    "output = opt_llm(\"\"\"\n",
    "input:\n",
    "w=18, b=15\n",
    "value:\n",
    "10386334\n",
    "        \n",
    "input:\n",
    "w=17, b=18\n",
    "value:\n",
    "9204724\"\"\")\n",
    "\n",
    "tuple_list = ast.literal_eval(output)\n",
    "\n",
    "output, tuple_list"
   ]
  },
  {
   "cell_type": "markdown",
   "metadata": {},
   "source": [
    "### Scorer"
   ]
  },
  {
   "cell_type": "code",
   "execution_count": 3,
   "metadata": {},
   "outputs": [
    {
     "data": {
      "text/plain": [
       "{(-2.5, 3.5): 'Fair',\n",
       " (0.8, 0.2): 'Fair',\n",
       " (4.6, -7.4): 'Fair',\n",
       " (6.2, -9.8): 'Fair',\n",
       " (-1.1, 11.5): 'Fair',\n",
       " (8.3, 13.1): 'Fair',\n",
       " (10.9, -21.7): 'Poor',\n",
       " (15.4, 16.8): 'Very Poor',\n",
       " (-17.2, 18.6): 'Fair',\n",
       " (19.7, -20.3): 'Very Poor'}"
      ]
     },
     "execution_count": 3,
     "metadata": {},
     "output_type": "execute_result"
    }
   ],
   "source": [
    "def rating(category):\n",
    "    if category == \"Excellent\":\n",
    "        return 1\n",
    "    elif category == \"Good\":\n",
    "        return 2\n",
    "    elif category == \"Fair\":\n",
    "        return 3\n",
    "    elif category == \"Poor\":\n",
    "        return 4\n",
    "    elif category == \"Very Poor\":\n",
    "        return 5\n",
    "    else:\n",
    "        return 6\n",
    "\n",
    "def scorer_llm_helper(wb_pair):\n",
    "    system_prompt = \"\"\"\\\n",
    "    {xy_pairs}\n",
    "\n",
    "    Above are the (x, y) pairs representing data points. \n",
    "    You are an AI model trained to evaluate the quality of a line defined by parameters w (slope) \n",
    "    and b (y-intercept) in terms of how well it fits the set of data points. \n",
    "    The equation of a line is y = w * x + b, where w is the slope and b is the y-intercept.\n",
    "    The quality of the line can be placed into one of 5 categories:\n",
    "    1. Excellent\n",
    "    2. Good\n",
    "    3. Fair\n",
    "    4. Poor\n",
    "    5. Very Poor\n",
    "\n",
    "    ## Excellent\n",
    "    A line that fits the data points very well and passes through as many points as possible while having the \n",
    "    lowest possible error rate between the points and the line should be labelled as \"Excellent\".\n",
    "\n",
    "    ## Good\n",
    "    A line that fits the data points well and passes through many of the points while having a small error rate\n",
    "    between the points and the line should be labelled as \"Good\".\n",
    "\n",
    "    ## Fair\n",
    "    A line that fits the data points reasonably well and passes through some of the points while having a moderate\n",
    "    error rate between the points and the line should be labelled as \"Fair\".\n",
    "\n",
    "    ## Poor\n",
    "    A line that fits the data points poorly and passes through few of the points while having a large error rate\n",
    "    between the points and the line should be labelled as \"Poor\".\n",
    "\n",
    "    ## Very Poor\n",
    "    A line that fits the data points very poorly and passes through none of the points while having an incredibly \n",
    "    large error rate between the points and the line should be labelled as \"Very Poor\".\n",
    "\n",
    "    \n",
    "    You will receive a (w, b) pair. Your task is to evaluate the pair and return a json object assigning the \n",
    "    (w, b) pair a categiry based on how well the line y = w * x + b fits the data points.\n",
    "\n",
    "    Example:\n",
    "\n",
    "    Prompt: (9999, 9999)\n",
    "    \n",
    "    Let's think step by step. \n",
    "\n",
    "    The line y = 9999 * x + 9999 is a line that fits the data points very poorly and passes through none of the\n",
    "    (x, y) data points.\n",
    "    \n",
    "    To calculate the error rate between the line and the points we need some type of cost function.\n",
    "    In this case, we could use mean-squared error, mean squared logarithmic error, mean absolute error, \n",
    "    huber loss, quantile loss, or any other cost function with respect to all the (x, y) points shared above.\n",
    "    We get an incredibly large error rate between the points and the line.\n",
    "    \n",
    "    The line y = 9999 * x + 9999 is a line that fits the data points very poorly and passes through none of the\n",
    "    (x, y) data points while having an incredibly large error rate between the points and the line. \n",
    "    Therefore, the category for the line y = 9999 * x + 9999 is \"Very Poor\".\n",
    "\n",
    "    Response: {{(9999, 9999): \"Very Poor\"}}\n",
    "\n",
    "    Prompt: ({w_true}, {b_true})\n",
    "\n",
    "    Let's think step by step.\n",
    "\n",
    "    The line y = {w_true} * x + {b_true} is a line that fits the data points very well and passes through as many\n",
    "    of the (x, y) data points as possible.\n",
    "\n",
    "    To calculate the error rate between the line and the points we need some type of cost function.\n",
    "    We get the lowest possible error rate between the points and the line.\n",
    "\n",
    "    Therefore, the category for the line y = {w_true} * x + {b_true} is \"Excellent\".\n",
    "\n",
    "    Response: {{({w_true}, {b_true}): \"Excellent\"}}\n",
    "    \"\"\"\n",
    "    chat_completion = client.chat.completions.create(\n",
    "        messages=[\n",
    "            {\n",
    "                \"role\": \"system\", \n",
    "                \"content\": system_prompt.format(xy_pairs=[(round(x[0], 2), round(y[0], 2)) for x, y in zip(X, y)], w_true=w_true, b_true=b_true)\n",
    "            },\n",
    "            {\n",
    "                \"role\": \"user\", \n",
    "                \"content\": str(wb_pair)\n",
    "            },\n",
    "        ],\n",
    "        model=\"gpt-3.5-turbo-0125\",\n",
    "        max_tokens=4096,\n",
    "        temperature=1,\n",
    "        response_format={\"type\": \"json_object\"}\n",
    "    )\n",
    "    result = chat_completion.choices[0].message.content\n",
    "    result = ast.literal_eval(result)\n",
    "    result = {ast.literal_eval(k): v for k, v in result.items()}\n",
    "    return result\n",
    "\n",
    "\n",
    "def scorer_llm(wb_pairs_lst):\n",
    "    \"\"\"\n",
    "    Returns a dictionary of (w, b) pairs and their corresponding categories.\n",
    "    \"\"\"\n",
    "    result = {}\n",
    "    for wb_pair in wb_pairs_lst:\n",
    "        result.update(scorer_llm_helper(wb_pair))\n",
    "    return result\n",
    "\n",
    "scorer_llm(tuple_list)"
   ]
  },
  {
   "cell_type": "markdown",
   "metadata": {},
   "source": [
    "### Plotting results"
   ]
  },
  {
   "cell_type": "code",
   "execution_count": 4,
   "metadata": {},
   "outputs": [
    {
     "data": {
      "text/plain": [
       "{(2, 5): 'Fair',\n",
       " (3, 1): 'Fair',\n",
       " (2, 1): 'Fair',\n",
       " (4, 8): 'Very Poor',\n",
       " (4, 5): 'Very Poor'}"
      ]
     },
     "execution_count": 4,
     "metadata": {},
     "output_type": "execute_result"
    }
   ],
   "source": [
    "# Generate a list of random pairs of w, b\n",
    "total_pairs = 5\n",
    "w = (np.random.rand(total_pairs)* 10).astype(int)\n",
    "b = (np.random.rand(total_pairs) * 10).astype(int)\n",
    "wb_pairs_lst = [(w[i], b[i]) for i in range(total_pairs)]\n",
    "wb_pairs = scorer_llm(wb_pairs_lst)\n",
    "wb_pairs = dict(sorted(wb_pairs.items(), key=lambda item: rating(item[1])))\n",
    "wb_pairs"
   ]
  },
  {
   "cell_type": "code",
   "execution_count": 5,
   "metadata": {},
   "outputs": [
    {
     "name": "stderr",
     "output_type": "stream",
     "text": [
      "  0%|          | 0/15 [00:00<?, ?it/s]"
     ]
    },
    {
     "name": "stdout",
     "output_type": "stream",
     "text": [
      "[(-1.5, -3.7), (-2.3, 5.8), (0.8, -11.2), (3.4, 9.1), (1.7, 6.6), (-4.5, 2.3), (4.9, -7.1), (-3.2, -4.6), (5.6, 8.9), (-5.1, 3.4)]\n"
     ]
    },
    {
     "name": "stderr",
     "output_type": "stream",
     "text": [
      "  7%|▋         | 1/15 [00:15<03:31, 15.13s/it]"
     ]
    },
    {
     "name": "stdout",
     "output_type": "stream",
     "text": [
      "[(-1.8, 3.2), (0.7, -1.4), (1.3, -0.9), (3.5, 9.1), (-2.4, 6.5), (4.7, -7.8), (-5.2, -8.6), (6.9, 13.2), (5.1, -7.3), (-3.6, 4.8)]\n"
     ]
    },
    {
     "name": "stderr",
     "output_type": "stream",
     "text": [
      " 13%|█▎        | 2/15 [00:29<03:07, 14.44s/it]"
     ]
    },
    {
     "name": "stdout",
     "output_type": "stream",
     "text": [
      "[(-1.5, 2.8), (-0.3, -1.9), (1.7, -4.1), (-2.4, 7.5), (0.8, -3), (-3.9, 6.3), (1.2, -2), (2.9, 4.1), (-3.2, 8.6), (0.5, -1)]\n"
     ]
    },
    {
     "name": "stderr",
     "output_type": "stream",
     "text": [
      " 20%|██        | 3/15 [00:43<02:50, 14.22s/it]"
     ]
    },
    {
     "name": "stdout",
     "output_type": "stream",
     "text": [
      "[(-2.5, 5.5), (1.8, -3.3), (4.7, 11.2), (-1.2, 7.3), (3.9, 2.8), (-4.5, 6.1), (2.3, 3.1), (5.6, -8.7), (-3.8, 9.6), (0.6, 4.5)]\n"
     ]
    },
    {
     "name": "stderr",
     "output_type": "stream",
     "text": [
      " 27%|██▋       | 4/15 [00:56<02:33, 13.95s/it]"
     ]
    },
    {
     "name": "stdout",
     "output_type": "stream",
     "text": [
      "[(-1.5, 7.2), (0.8, -2.1), (2.3, 5.6), (-0.3, 3.6), (3.9, -1.8), (1.6, 8.4), (-2.7, -0.5), (4.2, 1.9), (-4.5, 6.3), (5.1, -4.7)]\n"
     ]
    },
    {
     "name": "stderr",
     "output_type": "stream",
     "text": [
      " 33%|███▎      | 5/15 [01:10<02:18, 13.83s/it]"
     ]
    },
    {
     "name": "stdout",
     "output_type": "stream",
     "text": [
      "[(-2.5, 1.8), (4.5, -9.6), (-3.8, 7.2), (0.3, 2.1), (7.4, -2.3), (-5.6, 3.9), (6.1, -6.7), (-4.2, 5.5), (2.7, -4.8), (-0.5, 0.9)]\n"
     ]
    },
    {
     "name": "stderr",
     "output_type": "stream",
     "text": [
      " 40%|████      | 6/15 [01:23<02:02, 13.66s/it]"
     ]
    },
    {
     "name": "stdout",
     "output_type": "stream",
     "text": [
      "[(0.1, 0.2), (-1.3, -0.8), (2.5, 5.7), (3.8, 9.4), (-0.7, 2.3), (-2.6, -3.9), (1.6, 3.7), (0.9, -2.2), (-3.5, 8.1), (4.5, 2.9)]\n"
     ]
    },
    {
     "name": "stderr",
     "output_type": "stream",
     "text": [
      " 47%|████▋     | 7/15 [01:38<01:51, 13.94s/it]"
     ]
    },
    {
     "name": "stdout",
     "output_type": "stream",
     "text": [
      "[(5.7, -12.3), (-4.9, 8.6), (-3.4, 2.8), (6.5, -14.2), (8.1, -18.5), (2.3, -6.7), (-1.2, 1.9), (7.4, -16.4), (-0.5, 0.3), (4.6, -10.5)]\n"
     ]
    },
    {
     "name": "stderr",
     "output_type": "stream",
     "text": [
      " 53%|█████▎    | 8/15 [01:52<01:39, 14.14s/it]"
     ]
    },
    {
     "name": "stdout",
     "output_type": "stream",
     "text": [
      "[(-2.5, 1.1), (2.7, -4.3), (4.6, 0.8), (-3.9, 5.2), (0.3, -2.4), (3.9, -0.7), (5.7, 2.3), (-5.1, 3.7), (1.6, -1.8), (-4.2, 7.4)]\n"
     ]
    },
    {
     "name": "stderr",
     "output_type": "stream",
     "text": [
      " 60%|██████    | 9/15 [02:06<01:24, 14.00s/it]"
     ]
    },
    {
     "name": "stdout",
     "output_type": "stream",
     "text": [
      "[(4.2, 5.6), (-6.7, 7.3), (3.9, -9.2), (0.1, 6.6), (8.8, -1.4), (-5.5, 2.3), (2.4, 4.8), (-3.1, -4.5), (1.7, 8.9), (-7.2, -5.3)]\n"
     ]
    },
    {
     "name": "stderr",
     "output_type": "stream",
     "text": [
      " 60%|██████    | 9/15 [02:23<01:35, 15.97s/it]\n"
     ]
    },
    {
     "ename": "ValueError",
     "evalue": "malformed node or string on line 1: <ast.Name object at 0x7fc279bd3340>",
     "output_type": "error",
     "traceback": [
      "\u001b[0;31m---------------------------------------------------------------------------\u001b[0m",
      "\u001b[0;31mValueError\u001b[0m                                Traceback (most recent call last)",
      "Cell \u001b[0;32mIn[5], line 23\u001b[0m\n\u001b[1;32m     20\u001b[0m \u001b[38;5;28mprint\u001b[39m(new_wb_pairs)\n\u001b[1;32m     22\u001b[0m \u001b[38;5;66;03m# Scoring the new pairs and updating the wb_pairs\u001b[39;00m\n\u001b[0;32m---> 23\u001b[0m wb_pairs\u001b[38;5;241m.\u001b[39mupdate(\u001b[43mscorer_llm\u001b[49m\u001b[43m(\u001b[49m\u001b[43mnew_wb_pairs\u001b[49m\u001b[43m)\u001b[49m)\n\u001b[1;32m     25\u001b[0m \u001b[38;5;66;03m# Sorting the wb_pairs\u001b[39;00m\n\u001b[1;32m     26\u001b[0m wb_pairs \u001b[38;5;241m=\u001b[39m \u001b[38;5;28mdict\u001b[39m(\u001b[38;5;28msorted\u001b[39m(wb_pairs\u001b[38;5;241m.\u001b[39mitems(), key\u001b[38;5;241m=\u001b[39m\u001b[38;5;28;01mlambda\u001b[39;00m item: rating(item[\u001b[38;5;241m1\u001b[39m])))\n",
      "Cell \u001b[0;32mIn[3], line 116\u001b[0m, in \u001b[0;36mscorer_llm\u001b[0;34m(wb_pairs_lst)\u001b[0m\n\u001b[1;32m    114\u001b[0m result \u001b[38;5;241m=\u001b[39m {}\n\u001b[1;32m    115\u001b[0m \u001b[38;5;28;01mfor\u001b[39;00m wb_pair \u001b[38;5;129;01min\u001b[39;00m wb_pairs_lst:\n\u001b[0;32m--> 116\u001b[0m     result\u001b[38;5;241m.\u001b[39mupdate(\u001b[43mscorer_llm_helper\u001b[49m\u001b[43m(\u001b[49m\u001b[43mwb_pair\u001b[49m\u001b[43m)\u001b[49m)\n\u001b[1;32m    117\u001b[0m \u001b[38;5;28;01mreturn\u001b[39;00m result\n",
      "Cell \u001b[0;32mIn[3], line 106\u001b[0m, in \u001b[0;36mscorer_llm_helper\u001b[0;34m(wb_pair)\u001b[0m\n\u001b[1;32m    104\u001b[0m result \u001b[38;5;241m=\u001b[39m chat_completion\u001b[38;5;241m.\u001b[39mchoices[\u001b[38;5;241m0\u001b[39m]\u001b[38;5;241m.\u001b[39mmessage\u001b[38;5;241m.\u001b[39mcontent\n\u001b[1;32m    105\u001b[0m result \u001b[38;5;241m=\u001b[39m ast\u001b[38;5;241m.\u001b[39mliteral_eval(result)\n\u001b[0;32m--> 106\u001b[0m result \u001b[38;5;241m=\u001b[39m {ast\u001b[38;5;241m.\u001b[39mliteral_eval(k): v \u001b[38;5;28;01mfor\u001b[39;00m k, v \u001b[38;5;129;01min\u001b[39;00m result\u001b[38;5;241m.\u001b[39mitems()}\n\u001b[1;32m    107\u001b[0m \u001b[38;5;28;01mreturn\u001b[39;00m result\n",
      "Cell \u001b[0;32mIn[3], line 106\u001b[0m, in \u001b[0;36m<dictcomp>\u001b[0;34m(.0)\u001b[0m\n\u001b[1;32m    104\u001b[0m result \u001b[38;5;241m=\u001b[39m chat_completion\u001b[38;5;241m.\u001b[39mchoices[\u001b[38;5;241m0\u001b[39m]\u001b[38;5;241m.\u001b[39mmessage\u001b[38;5;241m.\u001b[39mcontent\n\u001b[1;32m    105\u001b[0m result \u001b[38;5;241m=\u001b[39m ast\u001b[38;5;241m.\u001b[39mliteral_eval(result)\n\u001b[0;32m--> 106\u001b[0m result \u001b[38;5;241m=\u001b[39m {\u001b[43mast\u001b[49m\u001b[38;5;241;43m.\u001b[39;49m\u001b[43mliteral_eval\u001b[49m\u001b[43m(\u001b[49m\u001b[43mk\u001b[49m\u001b[43m)\u001b[49m: v \u001b[38;5;28;01mfor\u001b[39;00m k, v \u001b[38;5;129;01min\u001b[39;00m result\u001b[38;5;241m.\u001b[39mitems()}\n\u001b[1;32m    107\u001b[0m \u001b[38;5;28;01mreturn\u001b[39;00m result\n",
      "File \u001b[0;32m/usr/lib/python3.10/ast.py:110\u001b[0m, in \u001b[0;36mliteral_eval\u001b[0;34m(node_or_string)\u001b[0m\n\u001b[1;32m    108\u001b[0m                 \u001b[38;5;28;01mreturn\u001b[39;00m left \u001b[38;5;241m-\u001b[39m right\n\u001b[1;32m    109\u001b[0m     \u001b[38;5;28;01mreturn\u001b[39;00m _convert_signed_num(node)\n\u001b[0;32m--> 110\u001b[0m \u001b[38;5;28;01mreturn\u001b[39;00m \u001b[43m_convert\u001b[49m\u001b[43m(\u001b[49m\u001b[43mnode_or_string\u001b[49m\u001b[43m)\u001b[49m\n",
      "File \u001b[0;32m/usr/lib/python3.10/ast.py:109\u001b[0m, in \u001b[0;36mliteral_eval.<locals>._convert\u001b[0;34m(node)\u001b[0m\n\u001b[1;32m    107\u001b[0m         \u001b[38;5;28;01melse\u001b[39;00m:\n\u001b[1;32m    108\u001b[0m             \u001b[38;5;28;01mreturn\u001b[39;00m left \u001b[38;5;241m-\u001b[39m right\n\u001b[0;32m--> 109\u001b[0m \u001b[38;5;28;01mreturn\u001b[39;00m \u001b[43m_convert_signed_num\u001b[49m\u001b[43m(\u001b[49m\u001b[43mnode\u001b[49m\u001b[43m)\u001b[49m\n",
      "File \u001b[0;32m/usr/lib/python3.10/ast.py:83\u001b[0m, in \u001b[0;36mliteral_eval.<locals>._convert_signed_num\u001b[0;34m(node)\u001b[0m\n\u001b[1;32m     81\u001b[0m     \u001b[38;5;28;01melse\u001b[39;00m:\n\u001b[1;32m     82\u001b[0m         \u001b[38;5;28;01mreturn\u001b[39;00m \u001b[38;5;241m-\u001b[39m operand\n\u001b[0;32m---> 83\u001b[0m \u001b[38;5;28;01mreturn\u001b[39;00m \u001b[43m_convert_num\u001b[49m\u001b[43m(\u001b[49m\u001b[43mnode\u001b[49m\u001b[43m)\u001b[49m\n",
      "File \u001b[0;32m/usr/lib/python3.10/ast.py:74\u001b[0m, in \u001b[0;36mliteral_eval.<locals>._convert_num\u001b[0;34m(node)\u001b[0m\n\u001b[1;32m     72\u001b[0m \u001b[38;5;28;01mdef\u001b[39;00m \u001b[38;5;21m_convert_num\u001b[39m(node):\n\u001b[1;32m     73\u001b[0m     \u001b[38;5;28;01mif\u001b[39;00m \u001b[38;5;129;01mnot\u001b[39;00m \u001b[38;5;28misinstance\u001b[39m(node, Constant) \u001b[38;5;129;01mor\u001b[39;00m \u001b[38;5;28mtype\u001b[39m(node\u001b[38;5;241m.\u001b[39mvalue) \u001b[38;5;129;01mnot\u001b[39;00m \u001b[38;5;129;01min\u001b[39;00m (\u001b[38;5;28mint\u001b[39m, \u001b[38;5;28mfloat\u001b[39m, \u001b[38;5;28mcomplex\u001b[39m):\n\u001b[0;32m---> 74\u001b[0m         \u001b[43m_raise_malformed_node\u001b[49m\u001b[43m(\u001b[49m\u001b[43mnode\u001b[49m\u001b[43m)\u001b[49m\n\u001b[1;32m     75\u001b[0m     \u001b[38;5;28;01mreturn\u001b[39;00m node\u001b[38;5;241m.\u001b[39mvalue\n",
      "File \u001b[0;32m/usr/lib/python3.10/ast.py:71\u001b[0m, in \u001b[0;36mliteral_eval.<locals>._raise_malformed_node\u001b[0;34m(node)\u001b[0m\n\u001b[1;32m     69\u001b[0m \u001b[38;5;28;01mif\u001b[39;00m lno \u001b[38;5;241m:=\u001b[39m \u001b[38;5;28mgetattr\u001b[39m(node, \u001b[38;5;124m'\u001b[39m\u001b[38;5;124mlineno\u001b[39m\u001b[38;5;124m'\u001b[39m, \u001b[38;5;28;01mNone\u001b[39;00m):\n\u001b[1;32m     70\u001b[0m     msg \u001b[38;5;241m+\u001b[39m\u001b[38;5;241m=\u001b[39m \u001b[38;5;124mf\u001b[39m\u001b[38;5;124m'\u001b[39m\u001b[38;5;124m on line \u001b[39m\u001b[38;5;132;01m{\u001b[39;00mlno\u001b[38;5;132;01m}\u001b[39;00m\u001b[38;5;124m'\u001b[39m\n\u001b[0;32m---> 71\u001b[0m \u001b[38;5;28;01mraise\u001b[39;00m \u001b[38;5;167;01mValueError\u001b[39;00m(msg \u001b[38;5;241m+\u001b[39m \u001b[38;5;124mf\u001b[39m\u001b[38;5;124m'\u001b[39m\u001b[38;5;124m: \u001b[39m\u001b[38;5;132;01m{\u001b[39;00mnode\u001b[38;5;132;01m!r}\u001b[39;00m\u001b[38;5;124m'\u001b[39m)\n",
      "\u001b[0;31mValueError\u001b[0m: malformed node or string on line 1: <ast.Name object at 0x7fc279bd3340>"
     ]
    }
   ],
   "source": [
    "def get_text_score_pairs(wb_pairs):\n",
    "    # Assuming wb_pairs is sorted in ascending order of their function values\n",
    "    text_score_pairs = \"\"\n",
    "    for i, (k,v) in enumerate(wb_pairs.items()):\n",
    "        if i == total_pairs:\n",
    "            break\n",
    "        text_score_pairs += f\"\"\"\n",
    "        input:\n",
    "        w={k[0]}, b={k[1]}\n",
    "        category:\n",
    "        {v}\n",
    "        \"\"\"\n",
    "    return text_score_pairs\n",
    "\n",
    "steps = 15\n",
    "for i in tqdm(range(steps)):\n",
    "    # Optimizer LLM\n",
    "    output = opt_llm(get_text_score_pairs(wb_pairs))\n",
    "    new_wb_pairs = ast.literal_eval(output)\n",
    "    print(new_wb_pairs)\n",
    "    \n",
    "    # Scoring the new pairs and updating the wb_pairs\n",
    "    wb_pairs.update(scorer_llm(new_wb_pairs))\n",
    "\n",
    "    # Sorting the wb_pairs\n",
    "    wb_pairs = dict(sorted(wb_pairs.items(), key=lambda item: rating(item[1])))\n",
    "\n",
    "wb_pairs"
   ]
  },
  {
   "cell_type": "code",
   "execution_count": null,
   "metadata": {},
   "outputs": [],
   "source": [
    "best_category = list(wb_pairs.values())[0]\n",
    "best_wb_pairs = dict(filter(lambda x: x[1] == best_category, wb_pairs.items()))\n",
    "\n",
    "while len(best_wb_pairs) > 1:\n",
    "    # Scoring the best pairs\n",
    "    best_wb_pairs = scorer_llm(list(best_wb_pairs.keys()))\n",
    "\n",
    "    # Sorting the wb_pairs\n",
    "    best_wb_pairs = dict(sorted(best_wb_pairs.items(), key=lambda item: rating(item[1])))\n",
    "\n",
    "    # Redefine wb_pairs\n",
    "    best_wb_pairs = dict(filter(lambda x: x[1] == best_category, wb_pairs.items()))\n",
    "    print(best_wb_pairs)\n",
    "\n",
    "best_wb_pairs"
   ]
  },
  {
   "cell_type": "code",
   "execution_count": null,
   "metadata": {},
   "outputs": [],
   "source": [
    "# Plot the data with the best fit line\n",
    "best_w, best_b = list(best_wb_pairs.keys())[0]\n",
    "y_pred = best_w * X + best_b\n",
    "plt.plot(X, y, \"b.\")\n",
    "plt.plot(X, y_pred, \"r-\")\n",
    "plt.xlabel(\"$x_1$\", fontsize=18)\n",
    "plt.ylabel(\"$y$\", rotation=0, fontsize=18)\n",
    "plt.axis([0, 10, 0, 100])\n",
    "plt.show()"
   ]
  },
  {
   "cell_type": "code",
   "execution_count": null,
   "metadata": {},
   "outputs": [],
   "source": [
    "len(wb_pairs)\n",
    "print(wb_pairs)"
   ]
  }
 ],
 "metadata": {
  "kernelspec": {
   "display_name": "Python 3",
   "language": "python",
   "name": "python3"
  },
  "language_info": {
   "codemirror_mode": {
    "name": "ipython",
    "version": 3
   },
   "file_extension": ".py",
   "mimetype": "text/x-python",
   "name": "python",
   "nbconvert_exporter": "python",
   "pygments_lexer": "ipython3",
   "version": "3.10.12"
  }
 },
 "nbformat": 4,
 "nbformat_minor": 2
}
