{
 "cells": [
  {
   "cell_type": "markdown",
   "metadata": {},
   "source": [
    "### Checking if GPU is available"
   ]
  },
  {
   "cell_type": "code",
   "execution_count": 1,
   "metadata": {},
   "outputs": [
    {
     "name": "stdout",
     "output_type": "stream",
     "text": [
      "GPU is available\n"
     ]
    }
   ],
   "source": [
    "import torch\n",
    "\n",
    "if torch.cuda.is_available():\n",
    "    print(\"GPU is available\")\n",
    "else:\n",
    "    print(\"GPU is not available\")"
   ]
  },
  {
   "cell_type": "markdown",
   "metadata": {},
   "source": [
    "### Ollama\n",
    "Model usage through Ollama local inference server"
   ]
  },
  {
   "cell_type": "code",
   "execution_count": 4,
   "metadata": {},
   "outputs": [],
   "source": [
    "from langchain_community.llms import Ollama\n",
    "\n",
    "llm = Ollama(model=\"mistral\", temperature=0, num_gpu = 40, timeout=30)"
   ]
  },
  {
   "cell_type": "code",
   "execution_count": 5,
   "metadata": {},
   "outputs": [
    {
     "name": "stdout",
     "output_type": "stream",
     "text": [
      "### ReadTimeout: The request timed out ###\n",
      " I cannot answer that question definitively as I don't have access to your personal circumstances or the reasons behind your parents' decision-making process regarding their wedding guest list. Generally, there could be several reasons why you might not have been invited:\n",
      "\n",
      "1. You were born after their wedding: If your parents got married before you were born, it is natural that they wouldn't invite you to their wedding since you weren't present at the time.\n",
      "2. Family circumstances: There may have been family issues or complications that made it difficult or impossible for them to invite everyone they would have liked to.\n",
      "3. Budget constraints: Weddings can be expensive, and your parents might have had to make tough decisions about who to invite based on their budget.\n",
      "4. Personal reasons: Your parents may have had personal reasons for not wanting you at their wedding, such as a desire for a small, intimate ceremony or a preference for an adults-only event.\n",
      "5. Logistical challenges: If your parents got married in a different location, it might have been difficult or impossible for them to invite everyone they would have liked to due to travel costs or other logistical challenges.\n",
      "\n",
      "It's important to remember that not being invited to your parents' wedding doesn't reflect on you as a person and doesn't change the fact that they are still your parents. If this is something that bothers you, it might be helpful to talk to them about your feelings and ask if there's anything they can do to help you feel more included in their family history.\n"
     ]
    }
   ],
   "source": [
    "from requests import ReadTimeout\n",
    "\n",
    "while True:\n",
    "    try:\n",
    "        res = llm.invoke(\"\"\"Why didn't my parents invite me to their wedding?\"\"\")\n",
    "        print(res)\n",
    "        break\n",
    "    except ReadTimeout:\n",
    "        print(\"### ReadTimeout: The request timed out ###\")\n",
    "    except TimeoutError:\n",
    "        print(\"### Timeout ###\")\n",
    "    except Exception as e:\n",
    "        print(f\"### {e} ###\")"
   ]
  },
  {
   "cell_type": "markdown",
   "metadata": {},
   "source": [
    "### LM Studio\n",
    "Model usage through LM Studio local inference server"
   ]
  },
  {
   "cell_type": "code",
   "execution_count": null,
   "metadata": {},
   "outputs": [],
   "source": [
    "# Example: reuse your existing OpenAI setup\n",
    "from openai import OpenAI\n",
    "\n",
    "# Point to the local server\n",
    "client = OpenAI(base_url=\"http://localhost:1234/v1\", api_key=\"not-needed\")"
   ]
  },
  {
   "cell_type": "code",
   "execution_count": null,
   "metadata": {},
   "outputs": [],
   "source": [
    "from openai import APITimeoutError\n",
    "\n",
    "sys_prompt = \"\"\"\n",
    "            Answer is json format.\n",
    "\n",
    "            Example:\n",
    "            {{}\n",
    "                \"Question\": \"What is your name?\",\n",
    "                \"Answer\": \"My name is OpenAI.\"\n",
    "            }}\n",
    "            \"\"\"\n",
    "\n",
    "i = 20\n",
    "while True:\n",
    "    try:\n",
    "        completion = client.chat.completions.create(\n",
    "        model=\"local-model\", # this field is currently unused\n",
    "        messages=[\n",
    "            # {\"role\": \"system\", \"content\": \" \"},\n",
    "            {\"role\": \"user\", \"content\": \"Why didn't my parents invite me to their wedding?\"}\n",
    "        ],\n",
    "        temperature=0.0,\n",
    "        timeout=i,\n",
    "        # response_format={ \"type\": \"json_object\" },\n",
    "        )\n",
    "        break\n",
    "    except APITimeoutError as e:\n",
    "        i *= 2\n",
    "        print(f\"API timed out. Trying again with --> Timeout: {i}\")\n",
    "\n",
    "print(completion.choices[0].message.content)"
   ]
  }
 ],
 "metadata": {
  "kernelspec": {
   "display_name": "Python 3",
   "language": "python",
   "name": "python3"
  },
  "language_info": {
   "codemirror_mode": {
    "name": "ipython",
    "version": 3
   },
   "file_extension": ".py",
   "mimetype": "text/x-python",
   "name": "python",
   "nbconvert_exporter": "python",
   "pygments_lexer": "ipython3",
   "version": "3.10.12"
  }
 },
 "nbformat": 4,
 "nbformat_minor": 2
}
