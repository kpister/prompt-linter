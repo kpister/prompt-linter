{
 "cells": [
  {
   "cell_type": "code",
   "execution_count": 1,
   "metadata": {},
   "outputs": [
    {
     "data": {
      "text/plain": [
       "'What is the capital of {place}?'"
      ]
     },
     "execution_count": 1,
     "metadata": {},
     "output_type": "execute_result"
    }
   ],
   "source": [
    "from datasets import load_dataset, Dataset\n",
    "import sys, os, json\n",
    "sys.path.append(os.path.join(os.getcwd(), '..'))\n",
    "from OPRO import OPRO\n",
    "import pandas as pd\n",
    "from tqdm.auto import tqdm, trange\n",
    "\n",
    "opro = OPRO([\"gemini\", \"gemma\", \"anthropic\"])\n",
    "dataset = load_dataset(\"pisterlabs/promptset\").filter(lambda row: len(row[\"prompts\"]) > 0)[\"train\"]\n",
    "CHOSEN_PROMPT = dataset[\"prompts\"][4][0]\n",
    "CHOSEN_PROMPT"
   ]
  },
  {
   "cell_type": "markdown",
   "metadata": {},
   "source": [
    "### Original Dataset"
   ]
  },
  {
   "cell_type": "code",
   "execution_count": 2,
   "metadata": {},
   "outputs": [
    {
     "data": {
      "text/html": [
       "<div>\n",
       "<style scoped>\n",
       "    .dataframe tbody tr th:only-of-type {\n",
       "        vertical-align: middle;\n",
       "    }\n",
       "\n",
       "    .dataframe tbody tr th {\n",
       "        vertical-align: top;\n",
       "    }\n",
       "\n",
       "    .dataframe thead th {\n",
       "        text-align: right;\n",
       "    }\n",
       "</style>\n",
       "<table border=\"1\" class=\"dataframe\">\n",
       "  <thead>\n",
       "    <tr style=\"text-align: right;\">\n",
       "      <th></th>\n",
       "      <th>question</th>\n",
       "      <th>answer</th>\n",
       "      <th>type</th>\n",
       "    </tr>\n",
       "  </thead>\n",
       "  <tbody>\n",
       "    <tr>\n",
       "      <th>0</th>\n",
       "      <td>What is the capital of Abkhazia?</td>\n",
       "      <td>Sukhumi</td>\n",
       "      <td>countryCapital</td>\n",
       "    </tr>\n",
       "    <tr>\n",
       "      <th>1</th>\n",
       "      <td>What is the capital of Afghanistan?</td>\n",
       "      <td>Kabul</td>\n",
       "      <td>countryCapital</td>\n",
       "    </tr>\n",
       "    <tr>\n",
       "      <th>2</th>\n",
       "      <td>What is the capital of Akrotiri and Dhekelia?</td>\n",
       "      <td>Episkopi Cantonment</td>\n",
       "      <td>countryCapital</td>\n",
       "    </tr>\n",
       "    <tr>\n",
       "      <th>3</th>\n",
       "      <td>What is the capital of Albania?</td>\n",
       "      <td>Tirana</td>\n",
       "      <td>countryCapital</td>\n",
       "    </tr>\n",
       "    <tr>\n",
       "      <th>4</th>\n",
       "      <td>What is the capital of Algeria?</td>\n",
       "      <td>Algiers</td>\n",
       "      <td>countryCapital</td>\n",
       "    </tr>\n",
       "  </tbody>\n",
       "</table>\n",
       "</div>"
      ],
      "text/plain": [
       "                                        question               answer  \\\n",
       "0               What is the capital of Abkhazia?              Sukhumi   \n",
       "1            What is the capital of Afghanistan?                Kabul   \n",
       "2  What is the capital of Akrotiri and Dhekelia?  Episkopi Cantonment   \n",
       "3                What is the capital of Albania?               Tirana   \n",
       "4                What is the capital of Algeria?              Algiers   \n",
       "\n",
       "             type  \n",
       "0  countryCapital  \n",
       "1  countryCapital  \n",
       "2  countryCapital  \n",
       "3  countryCapital  \n",
       "4  countryCapital  "
      ]
     },
     "execution_count": 2,
     "metadata": {},
     "output_type": "execute_result"
    }
   ],
   "source": [
    "original_data = pd.read_csv(\"country-list.csv\")\n",
    "original_data[\"country\"] = original_data[\"country\"].apply(lambda x: CHOSEN_PROMPT.format(place=x))\n",
    "original_data.columns = [\"question\", \"answer\", \"type\"]\n",
    "original_data.head()"
   ]
  },
  {
   "cell_type": "markdown",
   "metadata": {},
   "source": [
    "### Generating Synthetic Data"
   ]
  },
  {
   "cell_type": "code",
   "execution_count": 3,
   "metadata": {},
   "outputs": [
    {
     "data": {
      "text/plain": [
       "[{'question': 'What is the capital of Benin?', 'answer': 'Porto-Novo'},\n",
       " {'question': 'What is the capital of Aruba?', 'answer': 'Oranjestad'},\n",
       " {'question': 'What is the capital of Togo?', 'answer': 'Lome'},\n",
       " {'question': 'What is the capital of Macau SAR?', 'answer': 'Macau'},\n",
       " {'question': 'What is the capital of Afghanistan?', 'answer': 'Kabul'},\n",
       " {'question': 'What is the capital of Lithuania?', 'answer': 'Vilnius'},\n",
       " {'question': 'What is the capital of Italy?', 'answer': 'Rome'},\n",
       " {'question': 'What is the capital of Artsakh?', 'answer': 'Stepanakert'},\n",
       " {'question': 'What is the capital of Albania?', 'answer': 'Tirana'},\n",
       " {'question': 'What is the capital of Armenia?', 'answer': 'Yerevan'},\n",
       " {'question': 'What is the capital of Central African Republic?',\n",
       "  'answer': 'Bangui'},\n",
       " {'question': 'What is the capital of Republic of Karelia?',\n",
       "  'answer': 'Petrozavodsk'},\n",
       " {'question': 'What is the capital of Antarctica?', 'answer': 'None'},\n",
       " {'question': 'What is the capital of Honduras?', 'answer': 'Tegucigalpa'},\n",
       " {'question': 'What is the capital of Estonia?', 'answer': 'Tallinn'},\n",
       " {'question': 'What is the capital of Israel?', 'answer': 'Jerusalem'},\n",
       " {'question': 'What is the capital of Bolivia?', 'answer': 'Sucre'},\n",
       " {'question': 'What is the capital of Austria?', 'answer': 'Vienna'},\n",
       " {'question': 'What is the capital of Albania?', 'answer': 'Tirana'},\n",
       " {'question': 'What is the capital of the Azores?', 'answer': 'Ponta Delgada'},\n",
       " {'question': 'What is the capital of Italy?', 'answer': 'Rome'},\n",
       " {'question': 'What is the capital of Kuwait?', 'answer': 'Kuwait City'},\n",
       " {'question': 'What is the capital of Guam?', 'answer': 'Hagatna'},\n",
       " {'question': 'What is the capital of Cuba?', 'answer': 'Havana'},\n",
       " {'question': 'What is the capital of Azerbaijan?', 'answer': 'Baku'},\n",
       " {'question': 'What is the capital of the Bahamas?', 'answer': 'Nassau'},\n",
       " {'question': 'What is the capital of Azerbaijan?', 'answer': 'Baku'},\n",
       " {'question': 'What is the capital of Abkhazia?', 'answer': 'Sukhumi'},\n",
       " {'question': 'What is the capital of Algeria?', 'answer': 'Algiers'},\n",
       " {'question': 'What is the capital of Tuvalu?', 'answer': 'Funafuti'},\n",
       " {'question': 'What is the capital of Armenia?', 'answer': 'Yerevan'},\n",
       " {'question': 'What is the capital of Canada?', 'answer': 'Ottawa'},\n",
       " {'question': 'What is the capital of Afghanistan?', 'answer': 'Kabul'},\n",
       " {'question': 'What is the capital of Guadeloupe?', 'answer': 'Basse-Terre'},\n",
       " {'question': 'What is the capital of Ajaria?', 'answer': 'Batumi'},\n",
       " {'question': 'What is the capital of Palau?', 'answer': 'Ngerulmud'},\n",
       " {'question': 'What is the capital of Albania?', 'answer': 'Tirana'},\n",
       " {'question': 'What is the capital of Kiribati?', 'answer': 'Tarawa'},\n",
       " {'question': 'What is the capital of Albania?', 'answer': 'Tirana'},\n",
       " {'question': 'What is the capital of Altamira Sequence?',\n",
       "  'answer': 'There is no capital because Altamira Sequence is a stratigraphic sequence, not a populated place.'},\n",
       " {'question': 'What is the capital of Acre?', 'answer': 'Acre'},\n",
       " {'question': 'What is the capital of Burkina Faso?', 'answer': 'Ouagadougou'},\n",
       " {'question': 'What is the capital of Senegal?', 'answer': 'Dakar'},\n",
       " {'question': 'What is the capital of Afghanistan?', 'answer': 'Kabul'},\n",
       " {'question': 'What is the capital of Cyprus?', 'answer': 'Nicosia'},\n",
       " {'question': 'What is the capital of Tunisia?', 'answer': 'Tunis'},\n",
       " {'question': 'What is the capital of Israel?', 'answer': 'Jerusalem'},\n",
       " {'question': 'What is the capital of Namibia?', 'answer': 'Windhoek'},\n",
       " {'question': 'What is the capital of Adygea?', 'answer': 'Maykop'},\n",
       " {'question': 'What is the capital of Aruba?', 'answer': 'Oranjestad'},\n",
       " {'question': 'What is the capital of Austria?', 'answer': 'Vienna'},\n",
       " {'question': 'What is the capital of Vanuatu?', 'answer': 'Port Vila'},\n",
       " {'question': 'What is the capital of Bulgaria?', 'answer': 'Sofia'},\n",
       " {'question': 'What is the capital of Aruba?', 'answer': 'Oranjestad'},\n",
       " {'question': 'What is the capital of Andorra?', 'answer': 'Andorra La Vella'},\n",
       " {'question': 'What is the capital of Oman?', 'answer': 'Muscat'},\n",
       " {'question': 'What is the capital of Norfolk Island?', 'answer': 'Kingston'},\n",
       " {'question': 'What is the capital of Algeria?', 'answer': 'Algiers'},\n",
       " {'question': 'What is the capital of Adygea?', 'answer': 'Maykop'},\n",
       " {'question': 'What is the capital of Malawi?', 'answer': 'Lilongwe'},\n",
       " {'question': 'What is the capital of Southern Ossetia?',\n",
       "  'answer': 'Tskhinval'},\n",
       " {'question': 'What is the capital of the Cayman Islands?',\n",
       "  'answer': 'George Town'},\n",
       " {'question': 'What is the capital of Åland Islands?', 'answer': 'Mariehamn'},\n",
       " {'question': 'What is the capital of Rio de Janeiro?',\n",
       "  'answer': 'Rio de Janeiro'},\n",
       " {'question': 'What is the capital of Alaska?', 'answer': 'Juneau'},\n",
       " {'question': 'What is the capital of Burundi?', 'answer': 'Bujumbura'},\n",
       " {'question': 'What is the capital of Canary Islands?',\n",
       "  'answer': 'Santa Cruz de Tenerife and Las Palmas de Gran Canaria'},\n",
       " {'question': 'What is the capital of Asmara?', 'answer': 'Asmara'},\n",
       " {'question': 'What is the capital of Barbados?', 'answer': 'Bridgetown'},\n",
       " {'question': 'What is the capital of Vanuatu?', 'answer': 'Port Vila'},\n",
       " {'question': 'What is the capital of Australia?', 'answer': 'Canberra'},\n",
       " {'question': 'What is the capital of South Korea?', 'answer': 'Seoul'},\n",
       " {'question': 'What is the capital of Algeria?', 'answer': 'Algiers'},\n",
       " {'question': 'What is the capital of Belgium?', 'answer': 'Brussels'},\n",
       " {'question': 'What is the capital of Belarus?', 'answer': 'Minsk'},\n",
       " {'question': 'What is the capital of Andorra?', 'answer': 'Andorra la Vella'},\n",
       " {'question': 'What is the capital of Antigua and Barbuda?',\n",
       "  'answer': \"Saint John's\"},\n",
       " {'question': 'What is the capital of Austria?', 'answer': 'Vienna'},\n",
       " {'question': 'What is the capital of Akrotiri and Dhekelia?',\n",
       "  'answer': 'Episkopi Cantonment'},\n",
       " {'question': 'What is the capital of Belarus?', 'answer': 'Minsk'},\n",
       " {'question': 'What is the capital of Albania?', 'answer': 'Tirana'},\n",
       " {'question': 'What is the capital of Estonia?', 'answer': 'Tallinn'},\n",
       " {'question': 'What is the capital of Albania?', 'answer': 'Tirana'},\n",
       " {'question': 'What is the capital of the Netherlands Antilles?',\n",
       "  'answer': 'Willemstad'},\n",
       " {'question': 'What is the capital of Yemen?', 'answer': \"Sana'a\"},\n",
       " {'question': 'What is the capital of Ivory Coast?', 'answer': 'Yamoussoukro'},\n",
       " {'question': 'What is the capital of Adygea?', 'answer': 'Maykop'},\n",
       " {'question': 'What is the capital of Crimea?', 'answer': 'Simferopol'},\n",
       " {'question': 'What is the capital of Akrotiri and Dhekelia?',\n",
       "  'answer': 'Episkopi Cantonment'},\n",
       " {'question': 'What is the capital of Guam?', 'answer': 'Hagåtña'},\n",
       " {'question': 'What is the capital of Saint Helena?', 'answer': 'Jamestown'},\n",
       " {'question': 'What is the capital of Anguilla?', 'answer': 'The Valley'},\n",
       " {'question': 'What is the capital of Turkmenistan?', 'answer': 'Ashgabat'},\n",
       " {'question': 'What is the capital of Akrotiri and Dhekelia?',\n",
       "  'answer': 'Episkopi'},\n",
       " {'question': 'What is the capital of Estonia?', 'answer': 'Tallinn'},\n",
       " {'question': 'What is the capital of Accra?', 'answer': 'Ghana'},\n",
       " {'question': 'What is the capital of Afghanistan?', 'answer': 'Kabul'},\n",
       " {'question': 'What is the capital of Diego Garcia?', 'answer': 'None'},\n",
       " {'question': 'What is the capital of Montenegro?', 'answer': 'Podgorica'},\n",
       " {'question': 'What is the capital of Isle of Man?', 'answer': 'Douglas'}]"
      ]
     },
     "execution_count": 3,
     "metadata": {},
     "output_type": "execute_result"
    }
   ],
   "source": [
    "# Generate a question and answer pair using a language model\n",
    "def generate_qa_pair():\n",
    "    prompt_template = \"\"\"You are a helpful assistant designed to generate synthetic questions and answers for the prompt: {CHOSEN_PROMPT}.\n",
    "\n",
    "Please generate a question and answer pair that is similar to the following question and answer pair as a JSON object:\n",
    "\n",
    "{{\n",
    "    \"question\": \\\"\\\"\\\"{question}\\\"\\\"\\\",\n",
    "    \"answer\": \\\"\\\"\\\"{answer}\\\"\\\"\\\"\n",
    "}}\n",
    "\n",
    "Make sure the questions and answers are string values.\n",
    "Take a deep breath and think step-by-step.\n",
    "\"\"\"\n",
    "\n",
    "    response = opro.generate(\n",
    "        prompt_template.format(\n",
    "            CHOSEN_PROMPT=CHOSEN_PROMPT,\n",
    "            question=original_data[\"question\"][0],\n",
    "            answer=original_data[\"answer\"][0],\n",
    "        ),\n",
    "        model=\"gemini\",  # gemini\n",
    "        is_indeterministic=True,\n",
    "    )\n",
    "    return eval(response)\n",
    "\n",
    "\n",
    "if not os.path.exists(\"synthetic_countryCapital.json\"):\n",
    "    qa_pairs = []\n",
    "    SAMPLE_SIZE = 100\n",
    "\n",
    "    # Generating synthetic data\n",
    "    pbar = tqdm(total=SAMPLE_SIZE)\n",
    "    while len(qa_pairs) < SAMPLE_SIZE:\n",
    "        try:\n",
    "            qa_pair = generate_qa_pair()\n",
    "            qa_pairs.append(qa_pair)\n",
    "            pbar.update(1)\n",
    "        except Exception as e:\n",
    "            print(e)\n",
    "    pbar.close()\n",
    "\n",
    "    # Saving to file\n",
    "    with open(\"synthetic_countryCapital.json\", \"w\") as f:\n",
    "        f.write(str(qa_pairs))\n",
    "else:\n",
    "    # Reading saved data\n",
    "    with open(\"synthetic_countryCapital.json\", \"r\") as f:\n",
    "        qa_pairs = eval(f.read())\n",
    "\n",
    "qa_pairs"
   ]
  },
  {
   "cell_type": "code",
   "execution_count": 4,
   "metadata": {},
   "outputs": [
    {
     "data": {
      "text/plain": [
       "(30, 30, 50, 50)"
      ]
     },
     "execution_count": 4,
     "metadata": {},
     "output_type": "execute_result"
    }
   ],
   "source": [
    "TRAINING_SAMPLE_SIZE = 30\n",
    "TESTING_SAMPLE_SIZE = 50\n",
    "\n",
    "training_sample = Dataset.from_dict(\n",
    "    {\n",
    "        \"question\": [pair[\"question\"] for pair in qa_pairs[:TRAINING_SAMPLE_SIZE]],\n",
    "        \"answer\": [pair[\"answer\"] for pair in qa_pairs[:TRAINING_SAMPLE_SIZE]],\n",
    "    }\n",
    ")\n",
    "\n",
    "testing_sample = Dataset.from_dict(\n",
    "    {\n",
    "        \"question\": [\n",
    "            pair[\"question\"]\n",
    "            for pair in qa_pairs[\n",
    "                TRAINING_SAMPLE_SIZE : TRAINING_SAMPLE_SIZE + TESTING_SAMPLE_SIZE\n",
    "            ]\n",
    "        ],\n",
    "        \"answer\": [\n",
    "            pair[\"answer\"]\n",
    "            for pair in qa_pairs[\n",
    "                TRAINING_SAMPLE_SIZE : TRAINING_SAMPLE_SIZE + TESTING_SAMPLE_SIZE\n",
    "            ]\n",
    "        ],\n",
    "    }\n",
    ")\n",
    "\n",
    "# Checking if the lists are parallel, i.e. the question and answer at the same index are related\n",
    "len(training_sample[\"question\"]), len(training_sample[\"answer\"]), len(testing_sample[\"question\"]), len(testing_sample[\"answer\"])"
   ]
  },
  {
   "cell_type": "markdown",
   "metadata": {},
   "source": [
    "### Optimize Prompt on Synthetic Data"
   ]
  },
  {
   "cell_type": "code",
   "execution_count": 5,
   "metadata": {},
   "outputs": [],
   "source": [
    "def opt_llm(instruction_score_pairs, training_sample):\n",
    "    # Format the instruction and score pairs into a string\n",
    "    pairs_str = \"\"\n",
    "    for ins, score in instruction_score_pairs.items():\n",
    "        pairs_str += f\"text:\\n{ins}\\nscore:\\n{score:.2f}\\n\\n\"\n",
    "\n",
    "    prompt = \"\"\"You are an optimization expert. The user has some texts along with their corresponding scores.\n",
    "Your task is to generate a new piece of text that scores as high as possible. \n",
    "Generate the new unique text only, not its corresponding score.\n",
    "\n",
    "I have some texts along with their corresponding scores. The texts are arranged in ascending order\n",
    "based on their scores, where higher scores indicate better quality.\n",
    "\n",
    "{pairs_str}\n",
    "\n",
    "The following exemplars show how to apply your text: you replace <INS> in each input with your\n",
    "text, then read the input and give an output. We say your output is wrong if your output is different\n",
    "from the given output, and we say your output is correct if they are the same.\n",
    "\n",
    "input:\n",
    "Q: {q1}\n",
    "A: <INS>\n",
    "output:\n",
    "{a1}\n",
    "\n",
    "input:\n",
    "Q: {q2}\n",
    "A: <INS>\n",
    "output:\n",
    "{a2}\n",
    "\n",
    "input:\n",
    "Q: {q3}\n",
    "A: <INS>\n",
    "output:\n",
    "{a3}\n",
    "\n",
    "Write your new text that is different from the old ones and has a score as high as possible.\n",
    "Generate the new unique text only, not its corresponding score.\n",
    "New instruction:\n",
    "\"\"\"\n",
    "\n",
    "    # Passing 20 Best Instruction-Score Pairs\n",
    "    # 3 randomly chosen questions/answers from the training sample\n",
    "    q1, q2, q3 = (\n",
    "        training_sample[\"question\"][0],\n",
    "        training_sample[\"question\"][1],\n",
    "        training_sample[\"question\"][2],\n",
    "    )\n",
    "    a1, a2, a3 = (\n",
    "        training_sample[\"answer\"][0],\n",
    "        training_sample[\"answer\"][1],\n",
    "        training_sample[\"answer\"][2],\n",
    "    )\n",
    "    response = opro.generate(\n",
    "        prompt.format(pairs_str=pairs_str, q1=q1, a1=a1, q2=q2, a2=a2, q3=q3, a3=a3),\n",
    "        model=\"gemini\",  # gemini\n",
    "        is_indeterministic=True\n",
    "    )\n",
    "    return response\n",
    "\n",
    "\n",
    "def score(instruction, sample):\n",
    "    \"\"\"\n",
    "    Score the instruction using the sample. \n",
    "    \n",
    "    Args:\n",
    "    instruction: str\n",
    "    sample: Dataset with \"question\" and \"answer\" as keys\n",
    "\n",
    "    Returns:\n",
    "    accuracy: float\n",
    "    \"\"\"\n",
    "    accuracy = 0\n",
    "    prompt = \"\"\"Q: {question}\\nA: {instruction}\"\"\"\n",
    "    with tqdm(sample, desc=instruction, position=1, leave=False) as pbar:\n",
    "        for idx, sample_qa in enumerate(pbar):\n",
    "            res = opro.generate(\n",
    "                prompt.format(question=sample_qa[\"question\"], instruction=instruction, num_predict=10),\n",
    "                model=\"gemma\",  # gemma\n",
    "            )\n",
    "            # Heuristic for detecting correctness\n",
    "            accuracy += sample_qa[\"answer\"].lower() in res.lower()\n",
    "            pbar.set_postfix({\"Accuracy\": f\"{accuracy / (idx + 1):.2f}\"})\n",
    "\n",
    "    return accuracy / len(sample) * 100"
   ]
  },
  {
   "cell_type": "code",
   "execution_count": 6,
   "metadata": {},
   "outputs": [
    {
     "data": {
      "application/vnd.jupyter.widget-view+json": {
       "model_id": "64d7103660844003b61336fda528340f",
       "version_major": 2,
       "version_minor": 0
      },
      "text/plain": [
       "Scoring:   0%|          | 0/5 [00:00<?, ?it/s]"
      ]
     },
     "metadata": {},
     "output_type": "display_data"
    },
    {
     "data": {
      "application/vnd.jupyter.widget-view+json": {
       "model_id": "f493b87cd5b64d5cba9b4d2cc48ff473",
       "version_major": 2,
       "version_minor": 0
      },
      "text/plain": [
       "Think step by step.:   0%|          | 0/30 [00:00<?, ?it/s]"
      ]
     },
     "metadata": {},
     "output_type": "display_data"
    },
    {
     "data": {
      "application/vnd.jupyter.widget-view+json": {
       "model_id": "4427c8bf7e7c4aa4a178894956575fc2",
       "version_major": 2,
       "version_minor": 0
      },
      "text/plain": [
       "Take a deep breath and think step-by-step.:   0%|          | 0/30 [00:00<?, ?it/s]"
      ]
     },
     "metadata": {},
     "output_type": "display_data"
    },
    {
     "data": {
      "application/vnd.jupyter.widget-view+json": {
       "model_id": "96a0192f192f416e8512c7f6d2a1a933",
       "version_major": 2,
       "version_minor": 0
      },
      "text/plain": [
       "Be concise and clear.:   0%|          | 0/30 [00:00<?, ?it/s]"
      ]
     },
     "metadata": {},
     "output_type": "display_data"
    },
    {
     "data": {
      "application/vnd.jupyter.widget-view+json": {
       "model_id": "788c97bf7d5e470fa431b298f47cfc6f",
       "version_major": 2,
       "version_minor": 0
      },
      "text/plain": [
       "You are the creator of an atlas.:   0%|          | 0/30 [00:00<?, ?it/s]"
      ]
     },
     "metadata": {},
     "output_type": "display_data"
    },
    {
     "data": {
      "application/vnd.jupyter.widget-view+json": {
       "model_id": "a4323f07ce0c4aa2a16ee1d18ef97e94",
       "version_major": 2,
       "version_minor": 0
      },
      "text/plain": [
       "Explain your answer in simple terms.:   0%|          | 0/30 [00:00<?, ?it/s]"
      ]
     },
     "metadata": {},
     "output_type": "display_data"
    },
    {
     "name": "stdout",
     "output_type": "stream",
     "text": [
      "Step 1\n"
     ]
    },
    {
     "data": {
      "application/vnd.jupyter.widget-view+json": {
       "model_id": "27a16657fa4c42a895f2af33ccf462fa",
       "version_major": 2,
       "version_minor": 0
      },
      "text/plain": [
       "Optimizing:   0%|          | 0/8 [00:00<?, ?it/s]"
      ]
     },
     "metadata": {},
     "output_type": "display_data"
    },
    {
     "data": {
      "application/vnd.jupyter.widget-view+json": {
       "model_id": "e1059d4e4acd4f38b750470ad08286ed",
       "version_major": 2,
       "version_minor": 0
      },
      "text/plain": [
       "Scoring:   0%|          | 0/8 [00:00<?, ?it/s]"
      ]
     },
     "metadata": {},
     "output_type": "display_data"
    },
    {
     "data": {
      "application/vnd.jupyter.widget-view+json": {
       "model_id": "0d87adfa9e0140f48b25de76e35bf436",
       "version_major": 2,
       "version_minor": 0
      },
      "text/plain": [
       "Your job is to optimize the text, ie. to generate a new unique text that scores as high as possible. You\n",
       "can u…"
      ]
     },
     "metadata": {},
     "output_type": "display_data"
    },
    {
     "data": {
      "application/vnd.jupyter.widget-view+json": {
       "model_id": "e645b4a2e7fa441b856cd6c7475f359d",
       "version_major": 2,
       "version_minor": 0
      },
      "text/plain": [
       "Think calmly and think step-by-step:   0%|          | 0/30 [00:00<?, ?it/s]"
      ]
     },
     "metadata": {},
     "output_type": "display_data"
    },
    {
     "data": {
      "application/vnd.jupyter.widget-view+json": {
       "model_id": "6d71f5342a134014911d683a92fe5010",
       "version_major": 2,
       "version_minor": 0
      },
      "text/plain": [
       "Keep it short and straight to the point.:   0%|          | 0/30 [00:00<?, ?it/s]"
      ]
     },
     "metadata": {},
     "output_type": "display_data"
    },
    {
     "data": {
      "application/vnd.jupyter.widget-view+json": {
       "model_id": "8c471999eab144acbc2bc6c77dc973d1",
       "version_major": 2,
       "version_minor": 0
      },
      "text/plain": [
       "Write a text that is different from the old ones and has a score as high as possible.\n",
       "Generate the new unique …"
      ]
     },
     "metadata": {},
     "output_type": "display_data"
    },
    {
     "data": {
      "application/vnd.jupyter.widget-view+json": {
       "model_id": "44c87839b03f42638fa8d72c67d3cac2",
       "version_major": 2,
       "version_minor": 0
      },
      "text/plain": [
       "Learn from those who are better than you.:   0%|          | 0/30 [00:00<?, ?it/s]"
      ]
     },
     "metadata": {},
     "output_type": "display_data"
    },
    {
     "data": {
      "application/vnd.jupyter.widget-view+json": {
       "model_id": "b02aec5694214abf8c22d4dd111f69e4",
       "version_major": 2,
       "version_minor": 0
      },
      "text/plain": [
       "Embrace the power of synthesis and clarity.:   0%|          | 0/30 [00:00<?, ?it/s]"
      ]
     },
     "metadata": {},
     "output_type": "display_data"
    },
    {
     "data": {
      "application/vnd.jupyter.widget-view+json": {
       "model_id": "c9d4d321f3404a478c2e1cbc42ae6174",
       "version_major": 2,
       "version_minor": 0
      },
      "text/plain": [
       "Submerge yourself in the nuances of the subject matter.:   0%|          | 0/30 [00:00<?, ?it/s]"
      ]
     },
     "metadata": {},
     "output_type": "display_data"
    },
    {
     "data": {
      "application/vnd.jupyter.widget-view+json": {
       "model_id": "01ddbea9cabb4268aa565e9699a53566",
       "version_major": 2,
       "version_minor": 0
      },
      "text/plain": [
       "Analyze the data as a whole before drawing conclusions.:   0%|          | 0/30 [00:00<?, ?it/s]"
      ]
     },
     "metadata": {},
     "output_type": "display_data"
    },
    {
     "name": "stdout",
     "output_type": "stream",
     "text": [
      "Step 2\n"
     ]
    },
    {
     "data": {
      "application/vnd.jupyter.widget-view+json": {
       "model_id": "4bf2cea7f1a24ed3b098a10d2ede2585",
       "version_major": 2,
       "version_minor": 0
      },
      "text/plain": [
       "Optimizing:   0%|          | 0/8 [00:00<?, ?it/s]"
      ]
     },
     "metadata": {},
     "output_type": "display_data"
    },
    {
     "name": "stdout",
     "output_type": "stream",
     "text": [
      "list index out of range\n"
     ]
    },
    {
     "data": {
      "application/vnd.jupyter.widget-view+json": {
       "model_id": "009e8451d7ac492e8f42f6b2a6446f8f",
       "version_major": 2,
       "version_minor": 0
      },
      "text/plain": [
       "Optimizing:   0%|          | 0/8 [00:00<?, ?it/s]"
      ]
     },
     "metadata": {},
     "output_type": "display_data"
    },
    {
     "data": {
      "application/vnd.jupyter.widget-view+json": {
       "model_id": "7914ad77012c48a6ad1adaf6d971f4fb",
       "version_major": 2,
       "version_minor": 0
      },
      "text/plain": [
       "Scoring:   0%|          | 0/8 [00:00<?, ?it/s]"
      ]
     },
     "metadata": {},
     "output_type": "display_data"
    },
    {
     "data": {
      "application/vnd.jupyter.widget-view+json": {
       "model_id": "366be744a66146eeac349a97976616c5",
       "version_major": 2,
       "version_minor": 0
      },
      "text/plain": [
       "Focus on understanding key concepts.:   0%|          | 0/30 [00:00<?, ?it/s]"
      ]
     },
     "metadata": {},
     "output_type": "display_data"
    },
    {
     "data": {
      "application/vnd.jupyter.widget-view+json": {
       "model_id": "5d735c0969634767a1669d7d156a7063",
       "version_major": 2,
       "version_minor": 0
      },
      "text/plain": [
       "Look back at your past achievements.:   0%|          | 0/30 [00:00<?, ?it/s]"
      ]
     },
     "metadata": {},
     "output_type": "display_data"
    },
    {
     "data": {
      "application/vnd.jupyter.widget-view+json": {
       "model_id": "b1d6437bf82f4e8cb7b150faec7d50bc",
       "version_major": 2,
       "version_minor": 0
      },
      "text/plain": [
       "Never let success get to your head or failure get to your heart.:   0%|          | 0/30 [00:00<?, ?it/s]"
      ]
     },
     "metadata": {},
     "output_type": "display_data"
    },
    {
     "data": {
      "application/vnd.jupyter.widget-view+json": {
       "model_id": "212afcb335484645809f929695fdb167",
       "version_major": 2,
       "version_minor": 0
      },
      "text/plain": [
       "Blend the art of writing with the science of clarity.:   0%|          | 0/30 [00:00<?, ?it/s]"
      ]
     },
     "metadata": {},
     "output_type": "display_data"
    },
    {
     "data": {
      "application/vnd.jupyter.widget-view+json": {
       "model_id": "8fa2e76259c243d0a92f661081011cd5",
       "version_major": 2,
       "version_minor": 0
      },
      "text/plain": [
       "Generate the output for the following input:\n",
       "\n",
       "input:\n",
       "Q: Where is the Amazon rainforest located? \n",
       "A: <INS>\n",
       "outp…"
      ]
     },
     "metadata": {},
     "output_type": "display_data"
    },
    {
     "data": {
      "application/vnd.jupyter.widget-view+json": {
       "model_id": "0daa7e6f495446369c5b0d0a1155d9b9",
       "version_major": 2,
       "version_minor": 0
      },
      "text/plain": [
       "Write a text that has a score as high as possible.\n",
       "Generate the new unique text only, not its corresponding sc…"
      ]
     },
     "metadata": {},
     "output_type": "display_data"
    },
    {
     "data": {
      "application/vnd.jupyter.widget-view+json": {
       "model_id": "7024d8c6577246c5925ffa919b991ea9",
       "version_major": 2,
       "version_minor": 0
      },
      "text/plain": [
       "Stay calm and ask questions.:   0%|          | 0/30 [00:00<?, ?it/s]"
      ]
     },
     "metadata": {},
     "output_type": "display_data"
    },
    {
     "data": {
      "application/vnd.jupyter.widget-view+json": {
       "model_id": "4d067cec532c49d29cf338615acff4c1",
       "version_major": 2,
       "version_minor": 0
      },
      "text/plain": [
       "Strive to be original and innovative, even if it means deviating from established norms.:   0%|          | 0/3…"
      ]
     },
     "metadata": {},
     "output_type": "display_data"
    },
    {
     "name": "stdout",
     "output_type": "stream",
     "text": [
      "Step 3\n"
     ]
    },
    {
     "data": {
      "application/vnd.jupyter.widget-view+json": {
       "model_id": "bd5f02ae585b415583166e86c3bfeb05",
       "version_major": 2,
       "version_minor": 0
      },
      "text/plain": [
       "Optimizing:   0%|          | 0/8 [00:00<?, ?it/s]"
      ]
     },
     "metadata": {},
     "output_type": "display_data"
    },
    {
     "data": {
      "application/vnd.jupyter.widget-view+json": {
       "model_id": "79dc409af6fe4393bff6cd1546c92b42",
       "version_major": 2,
       "version_minor": 0
      },
      "text/plain": [
       "Scoring:   0%|          | 0/8 [00:00<?, ?it/s]"
      ]
     },
     "metadata": {},
     "output_type": "display_data"
    },
    {
     "data": {
      "application/vnd.jupyter.widget-view+json": {
       "model_id": "ac35822ec80043b2b2597fe867c4c8dc",
       "version_major": 2,
       "version_minor": 0
      },
      "text/plain": [
       "Aim for the best:   0%|          | 0/30 [00:00<?, ?it/s]"
      ]
     },
     "metadata": {},
     "output_type": "display_data"
    },
    {
     "data": {
      "application/vnd.jupyter.widget-view+json": {
       "model_id": "a615b4186af44ace98d21ac4e10b1457",
       "version_major": 2,
       "version_minor": 0
      },
      "text/plain": [
       "Stay calm and never give up.:   0%|          | 0/30 [00:00<?, ?it/s]"
      ]
     },
     "metadata": {},
     "output_type": "display_data"
    },
    {
     "data": {
      "application/vnd.jupyter.widget-view+json": {
       "model_id": "414148c6b9274906baebbc414cbde203",
       "version_major": 2,
       "version_minor": 0
      },
      "text/plain": [
       "Remain calm, persevere and always seek knowledge.:   0%|          | 0/30 [00:00<?, ?it/s]"
      ]
     },
     "metadata": {},
     "output_type": "display_data"
    },
    {
     "data": {
      "application/vnd.jupyter.widget-view+json": {
       "model_id": "88c09c47c8ec44c9ae78a33f5d3eea52",
       "version_major": 2,
       "version_minor": 0
      },
      "text/plain": [
       "The flowering tree stands tall and proud, its branches reaching up to the sky.:   0%|          | 0/30 [00:00<?…"
      ]
     },
     "metadata": {},
     "output_type": "display_data"
    },
    {
     "data": {
      "application/vnd.jupyter.widget-view+json": {
       "model_id": "2022e228e3af4e32a216c2a1a9675129",
       "version_major": 2,
       "version_minor": 0
      },
      "text/plain": [
       "Your task is to generate a new piece of text that scores as high as possible. You can use the texts and scores…"
      ]
     },
     "metadata": {},
     "output_type": "display_data"
    },
    {
     "data": {
      "application/vnd.jupyter.widget-view+json": {
       "model_id": "b966450bdb5846b3a1550dda03e46785",
       "version_major": 2,
       "version_minor": 0
      },
      "text/plain": [
       "Cultivate an inquisitive mind.:   0%|          | 0/30 [00:00<?, ?it/s]"
      ]
     },
     "metadata": {},
     "output_type": "display_data"
    },
    {
     "data": {
      "application/vnd.jupyter.widget-view+json": {
       "model_id": "08576a3be4854c3f80a161c88e5b7749",
       "version_major": 2,
       "version_minor": 0
      },
      "text/plain": [
       "Stay calm and ask questions.:   0%|          | 0/30 [00:00<?, ?it/s]"
      ]
     },
     "metadata": {},
     "output_type": "display_data"
    },
    {
     "data": {
      "application/vnd.jupyter.widget-view+json": {
       "model_id": "163e2e59f68e4168bafeb81537e72f63",
       "version_major": 2,
       "version_minor": 0
      },
      "text/plain": [
       "Write a text that is different from the old ones and has a score as high as possible.\n",
       "Generate the new unique …"
      ]
     },
     "metadata": {},
     "output_type": "display_data"
    },
    {
     "name": "stdout",
     "output_type": "stream",
     "text": [
      "Step 4\n"
     ]
    },
    {
     "data": {
      "application/vnd.jupyter.widget-view+json": {
       "model_id": "f074dc8288954c4d82677922b4d030b6",
       "version_major": 2,
       "version_minor": 0
      },
      "text/plain": [
       "Optimizing:   0%|          | 0/8 [00:00<?, ?it/s]"
      ]
     },
     "metadata": {},
     "output_type": "display_data"
    },
    {
     "data": {
      "application/vnd.jupyter.widget-view+json": {
       "model_id": "e2d1225a7a4e4f18badab8d728d4bfe3",
       "version_major": 2,
       "version_minor": 0
      },
      "text/plain": [
       "Scoring:   0%|          | 0/8 [00:00<?, ?it/s]"
      ]
     },
     "metadata": {},
     "output_type": "display_data"
    },
    {
     "data": {
      "application/vnd.jupyter.widget-view+json": {
       "model_id": "70bdfa75183b464f83b336793479d20e",
       "version_major": 2,
       "version_minor": 0
      },
      "text/plain": [
       "Embrace the power of unity and purpose.:   0%|          | 0/30 [00:00<?, ?it/s]"
      ]
     },
     "metadata": {},
     "output_type": "display_data"
    },
    {
     "data": {
      "application/vnd.jupyter.widget-view+json": {
       "model_id": "2f941e3ebb1c465c8e24aeba167ce447",
       "version_major": 2,
       "version_minor": 0
      },
      "text/plain": [
       "Live in the present moment and cherish every experience.:   0%|          | 0/30 [00:00<?, ?it/s]"
      ]
     },
     "metadata": {},
     "output_type": "display_data"
    },
    {
     "data": {
      "application/vnd.jupyter.widget-view+json": {
       "model_id": "1931e329c2104aaaa2bf7a78b5fcad93",
       "version_major": 2,
       "version_minor": 0
      },
      "text/plain": [
       "Be disciplined in your writing.:   0%|          | 0/30 [00:00<?, ?it/s]"
      ]
     },
     "metadata": {},
     "output_type": "display_data"
    },
    {
     "data": {
      "application/vnd.jupyter.widget-view+json": {
       "model_id": "542f890ee960436badc483031dcf0733",
       "version_major": 2,
       "version_minor": 0
      },
      "text/plain": [
       "Learn from your mistakes and the mistakes of others.:   0%|          | 0/30 [00:00<?, ?it/s]"
      ]
     },
     "metadata": {},
     "output_type": "display_data"
    },
    {
     "data": {
      "application/vnd.jupyter.widget-view+json": {
       "model_id": "156c4581346e4ef4a22f12d4da305ba3",
       "version_major": 2,
       "version_minor": 0
      },
      "text/plain": [
       "Seek knowledge relentlessly.:   0%|          | 0/30 [00:00<?, ?it/s]"
      ]
     },
     "metadata": {},
     "output_type": "display_data"
    },
    {
     "data": {
      "application/vnd.jupyter.widget-view+json": {
       "model_id": "9cec0aee9d77466c94f42d5abb1d0eb6",
       "version_major": 2,
       "version_minor": 0
      },
      "text/plain": [
       "Don't be afraid to ask for help.:   0%|          | 0/30 [00:00<?, ?it/s]"
      ]
     },
     "metadata": {},
     "output_type": "display_data"
    },
    {
     "data": {
      "application/vnd.jupyter.widget-view+json": {
       "model_id": "4461ef6f4d564a879982bef36775aa0c",
       "version_major": 2,
       "version_minor": 0
      },
      "text/plain": [
       "Treat the examples as text and score examples, but handle the last one differently: take the input and output …"
      ]
     },
     "metadata": {},
     "output_type": "display_data"
    },
    {
     "data": {
      "application/vnd.jupyter.widget-view+json": {
       "model_id": "5a998eb8621849d0871b782d2abec1d2",
       "version_major": 2,
       "version_minor": 0
      },
      "text/plain": [
       "Incorporate the essence of clarity into your writing.:   0%|          | 0/30 [00:00<?, ?it/s]"
      ]
     },
     "metadata": {},
     "output_type": "display_data"
    },
    {
     "name": "stdout",
     "output_type": "stream",
     "text": [
      "Step 5\n"
     ]
    },
    {
     "data": {
      "application/vnd.jupyter.widget-view+json": {
       "model_id": "ff566b4b2f3a467881f4638816d9e67f",
       "version_major": 2,
       "version_minor": 0
      },
      "text/plain": [
       "Optimizing:   0%|          | 0/8 [00:00<?, ?it/s]"
      ]
     },
     "metadata": {},
     "output_type": "display_data"
    },
    {
     "data": {
      "application/vnd.jupyter.widget-view+json": {
       "model_id": "08885f6e01674d448024101631dfed76",
       "version_major": 2,
       "version_minor": 0
      },
      "text/plain": [
       "Scoring:   0%|          | 0/8 [00:00<?, ?it/s]"
      ]
     },
     "metadata": {},
     "output_type": "display_data"
    },
    {
     "data": {
      "application/vnd.jupyter.widget-view+json": {
       "model_id": "9c178719934543b68e22767c5d5dbda2",
       "version_major": 2,
       "version_minor": 0
      },
      "text/plain": [
       "Embrace the quest for clarity and knowledge.:   0%|          | 0/30 [00:00<?, ?it/s]"
      ]
     },
     "metadata": {},
     "output_type": "display_data"
    },
    {
     "data": {
      "application/vnd.jupyter.widget-view+json": {
       "model_id": "970f056c3f75486d93ea1b5ce140725f",
       "version_major": 2,
       "version_minor": 0
      },
      "text/plain": [
       "Be curious about knowledge.:   0%|          | 0/30 [00:00<?, ?it/s]"
      ]
     },
     "metadata": {},
     "output_type": "display_data"
    },
    {
     "data": {
      "application/vnd.jupyter.widget-view+json": {
       "model_id": "f1a3f609d2f640dca7e42b3eb2170f4a",
       "version_major": 2,
       "version_minor": 0
      },
      "text/plain": [
       "Forge ahead with determination.:   0%|          | 0/30 [00:00<?, ?it/s]"
      ]
     },
     "metadata": {},
     "output_type": "display_data"
    },
    {
     "data": {
      "application/vnd.jupyter.widget-view+json": {
       "model_id": "7952da9da214443e9ef63aa74a93b6e1",
       "version_major": 2,
       "version_minor": 0
      },
      "text/plain": [
       "Be concise and clear in your writing.:   0%|          | 0/30 [00:00<?, ?it/s]"
      ]
     },
     "metadata": {},
     "output_type": "display_data"
    },
    {
     "data": {
      "application/vnd.jupyter.widget-view+json": {
       "model_id": "cb69b578add1495dba9684e0b34e9f48",
       "version_major": 2,
       "version_minor": 0
      },
      "text/plain": [
       "Mind your health and well-being.:   0%|          | 0/30 [00:00<?, ?it/s]"
      ]
     },
     "metadata": {},
     "output_type": "display_data"
    },
    {
     "data": {
      "application/vnd.jupyter.widget-view+json": {
       "model_id": "12bb0bbbb8d84f61bfa04f8dae3256bf",
       "version_major": 2,
       "version_minor": 0
      },
      "text/plain": [
       "Strive for excellence in all your endeavors.:   0%|          | 0/30 [00:00<?, ?it/s]"
      ]
     },
     "metadata": {},
     "output_type": "display_data"
    },
    {
     "data": {
      "application/vnd.jupyter.widget-view+json": {
       "model_id": "53ea3ffa5a754cdc911e4c2e8f6f08dc",
       "version_major": 2,
       "version_minor": 0
      },
      "text/plain": [
       "Follow the above instructions and fill in the <INS> with your new text.\n",
       "\n",
       "input:\n",
       "Q: What should you do when you…"
      ]
     },
     "metadata": {},
     "output_type": "display_data"
    },
    {
     "data": {
      "application/vnd.jupyter.widget-view+json": {
       "model_id": "3809bef563f14054b793aeb2c26f0fcd",
       "version_major": 2,
       "version_minor": 0
      },
      "text/plain": [
       "Learn from your mistakes and ask a lot of questions:   0%|          | 0/30 [00:00<?, ?it/s]"
      ]
     },
     "metadata": {},
     "output_type": "display_data"
    },
    {
     "name": "stdout",
     "output_type": "stream",
     "text": [
      "Step 6\n"
     ]
    },
    {
     "data": {
      "application/vnd.jupyter.widget-view+json": {
       "model_id": "120a5029319349e6ad4ea727eba9a2d8",
       "version_major": 2,
       "version_minor": 0
      },
      "text/plain": [
       "Optimizing:   0%|          | 0/8 [00:00<?, ?it/s]"
      ]
     },
     "metadata": {},
     "output_type": "display_data"
    },
    {
     "data": {
      "application/vnd.jupyter.widget-view+json": {
       "model_id": "3d41828babc743aeaea1aace705a0f2b",
       "version_major": 2,
       "version_minor": 0
      },
      "text/plain": [
       "Scoring:   0%|          | 0/8 [00:00<?, ?it/s]"
      ]
     },
     "metadata": {},
     "output_type": "display_data"
    },
    {
     "data": {
      "application/vnd.jupyter.widget-view+json": {
       "model_id": "f00e14a5aef9444e84e561c3bf39184f",
       "version_major": 2,
       "version_minor": 0
      },
      "text/plain": [
       "Text:\n",
       "Live a balanced and full life.:   0%|          | 0/30 [00:00<?, ?it/s]"
      ]
     },
     "metadata": {},
     "output_type": "display_data"
    },
    {
     "data": {
      "application/vnd.jupyter.widget-view+json": {
       "model_id": "3d4d3e550e654c3eba865e549fb6063a",
       "version_major": 2,
       "version_minor": 0
      },
      "text/plain": [
       "Write your new text that is different from the old ones and has a score as high as possible.\n",
       "Generate the new …"
      ]
     },
     "metadata": {},
     "output_type": "display_data"
    },
    {
     "data": {
      "application/vnd.jupyter.widget-view+json": {
       "model_id": "1bebafeff4084c58a0767d710e793ad3",
       "version_major": 2,
       "version_minor": 0
      },
      "text/plain": [
       "Be eloquent and clear.:   0%|          | 0/30 [00:00<?, ?it/s]"
      ]
     },
     "metadata": {},
     "output_type": "display_data"
    },
    {
     "data": {
      "application/vnd.jupyter.widget-view+json": {
       "model_id": "01e05e6c231f4699ace0fdf3853c3462",
       "version_major": 2,
       "version_minor": 0
      },
      "text/plain": [
       "Write a piece of writing and your objective is to make its score as high as possible.\n",
       "Your new text:\n",
       "Mind your…"
      ]
     },
     "metadata": {},
     "output_type": "display_data"
    },
    {
     "data": {
      "application/vnd.jupyter.widget-view+json": {
       "model_id": "cd7d22672bfa4d61821c134abf6cac5c",
       "version_major": 2,
       "version_minor": 0
      },
      "text/plain": [
       "Write your new text that is different from the old ones.\n",
       "Generate the new unique text only, not its correspond…"
      ]
     },
     "metadata": {},
     "output_type": "display_data"
    },
    {
     "data": {
      "application/vnd.jupyter.widget-view+json": {
       "model_id": "3fd2f7bf0029405ba80fb718fc82aa3d",
       "version_major": 2,
       "version_minor": 0
      },
      "text/plain": [
       "Write your new text that is different from the old ones and has a score as high as possible.\n",
       "Generate the new …"
      ]
     },
     "metadata": {},
     "output_type": "display_data"
    },
    {
     "data": {
      "application/vnd.jupyter.widget-view+json": {
       "model_id": "97ef10fb2aaf4ca6a30ac7fa43bd3fcd",
       "version_major": 2,
       "version_minor": 0
      },
      "text/plain": [
       "Don't let the fear of failure hold you back.:   0%|          | 0/30 [00:00<?, ?it/s]"
      ]
     },
     "metadata": {},
     "output_type": "display_data"
    },
    {
     "data": {
      "application/vnd.jupyter.widget-view+json": {
       "model_id": "32d448e6f53b4a1aa32162dc6675e27e",
       "version_major": 2,
       "version_minor": 0
      },
      "text/plain": [
       "Write new text that is different from the old ones and has a score as high as possible.\n",
       "Generate the new uniqu…"
      ]
     },
     "metadata": {},
     "output_type": "display_data"
    },
    {
     "name": "stdout",
     "output_type": "stream",
     "text": [
      "Step 7\n"
     ]
    },
    {
     "data": {
      "application/vnd.jupyter.widget-view+json": {
       "model_id": "5909f5394072499788f6b5fd8a52f051",
       "version_major": 2,
       "version_minor": 0
      },
      "text/plain": [
       "Optimizing:   0%|          | 0/8 [00:00<?, ?it/s]"
      ]
     },
     "metadata": {},
     "output_type": "display_data"
    },
    {
     "data": {
      "application/vnd.jupyter.widget-view+json": {
       "model_id": "141d23ecadf04aa886ebaf2787aedfcb",
       "version_major": 2,
       "version_minor": 0
      },
      "text/plain": [
       "Scoring:   0%|          | 0/8 [00:00<?, ?it/s]"
      ]
     },
     "metadata": {},
     "output_type": "display_data"
    },
    {
     "data": {
      "application/vnd.jupyter.widget-view+json": {
       "model_id": "71441b6c6d8244489f82250040036e8f",
       "version_major": 2,
       "version_minor": 0
      },
      "text/plain": [
       "Think about the unknown and dare to explore.:   0%|          | 0/30 [00:00<?, ?it/s]"
      ]
     },
     "metadata": {},
     "output_type": "display_data"
    },
    {
     "data": {
      "application/vnd.jupyter.widget-view+json": {
       "model_id": "18223145658342b38bc11c4c454c1032",
       "version_major": 2,
       "version_minor": 0
      },
      "text/plain": [
       "New text:\n",
       "Be honest, be diligent and be compassionate.\n",
       "score:\n",
       "73.33:   0%|          | 0/30 [00:00<?, ?it/s]"
      ]
     },
     "metadata": {},
     "output_type": "display_data"
    },
    {
     "data": {
      "application/vnd.jupyter.widget-view+json": {
       "model_id": "7b7b1d2835ae456ca73ac4528d1b5edc",
       "version_major": 2,
       "version_minor": 0
      },
      "text/plain": [
       "Embrace perspective shifts, and champion resilience.:   0%|          | 0/30 [00:00<?, ?it/s]"
      ]
     },
     "metadata": {},
     "output_type": "display_data"
    },
    {
     "data": {
      "application/vnd.jupyter.widget-view+json": {
       "model_id": "d4d1735ce4bd4b12a7ef786e6069327b",
       "version_major": 2,
       "version_minor": 0
      },
      "text/plain": [
       "Cultivate empathy, understanding, and compassion.:   0%|          | 0/30 [00:00<?, ?it/s]"
      ]
     },
     "metadata": {},
     "output_type": "display_data"
    },
    {
     "data": {
      "application/vnd.jupyter.widget-view+json": {
       "model_id": "7480c5d3697c49389fc9a2e9934af18e",
       "version_major": 2,
       "version_minor": 0
      },
      "text/plain": [
       "Text:\n",
       "In the endless pursuit of a high score, the text you seek is shrouded in obscurity.\n",
       "score:\n",
       "73.33:   0%| …"
      ]
     },
     "metadata": {},
     "output_type": "display_data"
    },
    {
     "data": {
      "application/vnd.jupyter.widget-view+json": {
       "model_id": "b02e7e5d7a4d42bf8c435223f13a0325",
       "version_major": 2,
       "version_minor": 0
      },
      "text/plain": [
       "Ask a friend for help.:   0%|          | 0/30 [00:00<?, ?it/s]"
      ]
     },
     "metadata": {},
     "output_type": "display_data"
    },
    {
     "data": {
      "application/vnd.jupyter.widget-view+json": {
       "model_id": "776f2b4ab98847ad8169cc143edec397",
       "version_major": 2,
       "version_minor": 0
      },
      "text/plain": [
       "Simplify communication by being brief, clear, and accurate.\n",
       "score:\n",
       "73.33:   0%|          | 0/30 [00:00<?, ?it/…"
      ]
     },
     "metadata": {},
     "output_type": "display_data"
    },
    {
     "data": {
      "application/vnd.jupyter.widget-view+json": {
       "model_id": "0adb380d01ab4b0ab87986958fe2316a",
       "version_major": 2,
       "version_minor": 0
      },
      "text/plain": [
       "Embrace life's tapestry, welcome its vastness, and weave your own unique thread.:   0%|          | 0/30 [00:00…"
      ]
     },
     "metadata": {},
     "output_type": "display_data"
    },
    {
     "name": "stdout",
     "output_type": "stream",
     "text": [
      "Step 8\n"
     ]
    },
    {
     "data": {
      "application/vnd.jupyter.widget-view+json": {
       "model_id": "2748bb6261fc4c578912817e62e750f5",
       "version_major": 2,
       "version_minor": 0
      },
      "text/plain": [
       "Optimizing:   0%|          | 0/8 [00:00<?, ?it/s]"
      ]
     },
     "metadata": {},
     "output_type": "display_data"
    },
    {
     "data": {
      "application/vnd.jupyter.widget-view+json": {
       "model_id": "b54074801b114a63bd2745eeeabbdf5e",
       "version_major": 2,
       "version_minor": 0
      },
      "text/plain": [
       "Scoring:   0%|          | 0/8 [00:00<?, ?it/s]"
      ]
     },
     "metadata": {},
     "output_type": "display_data"
    },
    {
     "data": {
      "application/vnd.jupyter.widget-view+json": {
       "model_id": "0b6cb9a714144bbbb12fa5e42ad8b583",
       "version_major": 2,
       "version_minor": 0
      },
      "text/plain": [
       "Live a life of courage and resilience.:   0%|          | 0/30 [00:00<?, ?it/s]"
      ]
     },
     "metadata": {},
     "output_type": "display_data"
    },
    {
     "data": {
      "application/vnd.jupyter.widget-view+json": {
       "model_id": "4bedb2e8bc1348c2bf3e3fdafc67c307",
       "version_major": 2,
       "version_minor": 0
      },
      "text/plain": [
       "Text:\n",
       "Avoid the use of passive language.:   0%|          | 0/30 [00:00<?, ?it/s]"
      ]
     },
     "metadata": {},
     "output_type": "display_data"
    },
    {
     "data": {
      "application/vnd.jupyter.widget-view+json": {
       "model_id": "4717febf692943388ca37dbeb798205f",
       "version_major": 2,
       "version_minor": 0
      },
      "text/plain": [
       "Don't shy away from exploring the vast and ever-changing world of knowledge.\n",
       "score:\n",
       "70:   0%|          | 0/30 …"
      ]
     },
     "metadata": {},
     "output_type": "display_data"
    },
    {
     "data": {
      "application/vnd.jupyter.widget-view+json": {
       "model_id": "56c49f3ac0a64c1996159e80c9b56c92",
       "version_major": 2,
       "version_minor": 0
      },
      "text/plain": [
       "Seize the day and make the most of it.:   0%|          | 0/30 [00:00<?, ?it/s]"
      ]
     },
     "metadata": {},
     "output_type": "display_data"
    },
    {
     "data": {
      "application/vnd.jupyter.widget-view+json": {
       "model_id": "e2a7ca07b11647129e0c413a55ab64ad",
       "version_major": 2,
       "version_minor": 0
      },
      "text/plain": [
       "The text: Embrace the power of focus and determination.:   0%|          | 0/30 [00:00<?, ?it/s]"
      ]
     },
     "metadata": {},
     "output_type": "display_data"
    },
    {
     "data": {
      "application/vnd.jupyter.widget-view+json": {
       "model_id": "17ee2e31d7ee4df590bd59ef8d7e8894",
       "version_major": 2,
       "version_minor": 0
      },
      "text/plain": [
       "Text:\n",
       "Go the extra mile.\n",
       "score:\n",
       "73.33:   0%|          | 0/30 [00:00<?, ?it/s]"
      ]
     },
     "metadata": {},
     "output_type": "display_data"
    },
    {
     "data": {
      "application/vnd.jupyter.widget-view+json": {
       "model_id": "bd9f352af7ef4abfba3a2aa7ce5e0b9c",
       "version_major": 2,
       "version_minor": 0
      },
      "text/plain": [
       "Text:\n",
       "Embrace change and challenge.:   0%|          | 0/30 [00:00<?, ?it/s]"
      ]
     },
     "metadata": {},
     "output_type": "display_data"
    },
    {
     "data": {
      "application/vnd.jupyter.widget-view+json": {
       "model_id": "a65a53b30a284d219ea9394383c6b4cf",
       "version_major": 2,
       "version_minor": 0
      },
      "text/plain": [
       "Text:\n",
       "Embrace a life of constant learning and exploration.:   0%|          | 0/30 [00:00<?, ?it/s]"
      ]
     },
     "metadata": {},
     "output_type": "display_data"
    },
    {
     "name": "stdout",
     "output_type": "stream",
     "text": [
      "Step 9\n"
     ]
    },
    {
     "data": {
      "application/vnd.jupyter.widget-view+json": {
       "model_id": "d6b7cdc1d9c84b9da64799a103cc45dd",
       "version_major": 2,
       "version_minor": 0
      },
      "text/plain": [
       "Optimizing:   0%|          | 0/8 [00:00<?, ?it/s]"
      ]
     },
     "metadata": {},
     "output_type": "display_data"
    },
    {
     "name": "stdout",
     "output_type": "stream",
     "text": [
      "list index out of range\n"
     ]
    },
    {
     "data": {
      "application/vnd.jupyter.widget-view+json": {
       "model_id": "ba92d34748b14c8794a641cea74b5d6b",
       "version_major": 2,
       "version_minor": 0
      },
      "text/plain": [
       "Optimizing:   0%|          | 0/8 [00:00<?, ?it/s]"
      ]
     },
     "metadata": {},
     "output_type": "display_data"
    },
    {
     "data": {
      "application/vnd.jupyter.widget-view+json": {
       "model_id": "e4ba7ac34e074202ab717249fd0385ed",
       "version_major": 2,
       "version_minor": 0
      },
      "text/plain": [
       "Scoring:   0%|          | 0/8 [00:00<?, ?it/s]"
      ]
     },
     "metadata": {},
     "output_type": "display_data"
    },
    {
     "data": {
      "application/vnd.jupyter.widget-view+json": {
       "model_id": "4214ef5af42b477295b54384b8e1a99c",
       "version_major": 2,
       "version_minor": 0
      },
      "text/plain": [
       "Text:\n",
       "Never stop dreaming and pursuing your purpose.:   0%|          | 0/30 [00:00<?, ?it/s]"
      ]
     },
     "metadata": {},
     "output_type": "display_data"
    },
    {
     "data": {
      "application/vnd.jupyter.widget-view+json": {
       "model_id": "fc7ebaf857ee4b5d96e7eecf69216e92",
       "version_major": 2,
       "version_minor": 0
      },
      "text/plain": [
       "Live a life with purpose and meaning.:   0%|          | 0/30 [00:00<?, ?it/s]"
      ]
     },
     "metadata": {},
     "output_type": "display_data"
    },
    {
     "data": {
      "application/vnd.jupyter.widget-view+json": {
       "model_id": "fdb9d1ed6aff487aadce3f8336aa6370",
       "version_major": 2,
       "version_minor": 0
      },
      "text/plain": [
       "Text:\n",
       "Embrace patience and perseverance.:   0%|          | 0/30 [00:00<?, ?it/s]"
      ]
     },
     "metadata": {},
     "output_type": "display_data"
    },
    {
     "data": {
      "application/vnd.jupyter.widget-view+json": {
       "model_id": "9000e53bd14d45799022d2ae4e6e47e0",
       "version_major": 2,
       "version_minor": 0
      },
      "text/plain": [
       "Text:\n",
       "Use concise language\n",
       "score:\n",
       "73.33:   0%|          | 0/30 [00:00<?, ?it/s]"
      ]
     },
     "metadata": {},
     "output_type": "display_data"
    },
    {
     "data": {
      "application/vnd.jupyter.widget-view+json": {
       "model_id": "646dc501c646462398e64831f32cb821",
       "version_major": 2,
       "version_minor": 0
      },
      "text/plain": [
       "Text:\n",
       "Make the best use of technology.\n",
       "score:\n",
       "73.33:   0%|          | 0/30 [00:00<?, ?it/s]"
      ]
     },
     "metadata": {},
     "output_type": "display_data"
    },
    {
     "data": {
      "application/vnd.jupyter.widget-view+json": {
       "model_id": "0767cee4f3c2482e9725aff598087445",
       "version_major": 2,
       "version_minor": 0
      },
      "text/plain": [
       "Text:\n",
       "Life is a blend of learning and experiences.\n",
       "score:\n",
       "73.33:   0%|          | 0/30 [00:00<?, ?it/s]"
      ]
     },
     "metadata": {},
     "output_type": "display_data"
    },
    {
     "data": {
      "application/vnd.jupyter.widget-view+json": {
       "model_id": "d88bb91bf68740ba8fe908a4e86308b6",
       "version_major": 2,
       "version_minor": 0
      },
      "text/plain": [
       "Text:\n",
       "Embrace adaptability and lifelong learning.:   0%|          | 0/30 [00:00<?, ?it/s]"
      ]
     },
     "metadata": {},
     "output_type": "display_data"
    },
    {
     "data": {
      "application/vnd.jupyter.widget-view+json": {
       "model_id": "48b79b2622c245ebbe010bbce7b6b571",
       "version_major": 2,
       "version_minor": 0
      },
      "text/plain": [
       "Give a response that is different from the old ones and has a score as high as possible.\n",
       "Generate the new uniq…"
      ]
     },
     "metadata": {},
     "output_type": "display_data"
    },
    {
     "name": "stdout",
     "output_type": "stream",
     "text": [
      "Step 10\n"
     ]
    },
    {
     "data": {
      "application/vnd.jupyter.widget-view+json": {
       "model_id": "42dcec750ef64c5f9869f173f386112b",
       "version_major": 2,
       "version_minor": 0
      },
      "text/plain": [
       "Optimizing:   0%|          | 0/8 [00:00<?, ?it/s]"
      ]
     },
     "metadata": {},
     "output_type": "display_data"
    },
    {
     "data": {
      "application/vnd.jupyter.widget-view+json": {
       "model_id": "fdd9d0e8ce3c4ce3b9e1e71603165cd3",
       "version_major": 2,
       "version_minor": 0
      },
      "text/plain": [
       "Scoring:   0%|          | 0/8 [00:00<?, ?it/s]"
      ]
     },
     "metadata": {},
     "output_type": "display_data"
    },
    {
     "data": {
      "application/vnd.jupyter.widget-view+json": {
       "model_id": "8ed5571968504c29b488ac9a9ec3f419",
       "version_major": 2,
       "version_minor": 0
      },
      "text/plain": [
       "Text:\n",
       "Let your mind and spirit wander infinitely.:   0%|          | 0/30 [00:00<?, ?it/s]"
      ]
     },
     "metadata": {},
     "output_type": "display_data"
    },
    {
     "data": {
      "application/vnd.jupyter.widget-view+json": {
       "model_id": "4c3245c8619f43f0bbd4ef98995c1ba4",
       "version_major": 2,
       "version_minor": 0
      },
      "text/plain": [
       "Text:\n",
       "Embrace curiosity and dare to explore.\n",
       "score:\n",
       "76.67:   0%|          | 0/30 [00:00<?, ?it/s]"
      ]
     },
     "metadata": {},
     "output_type": "display_data"
    },
    {
     "data": {
      "application/vnd.jupyter.widget-view+json": {
       "model_id": "da727aec75ef4aaf8ed57fd1e73ed060",
       "version_major": 2,
       "version_minor": 0
      },
      "text/plain": [
       "Text:\n",
       "You can't fail until you give up.\n",
       "score:\n",
       "73.33:   0%|          | 0/30 [00:00<?, ?it/s]"
      ]
     },
     "metadata": {},
     "output_type": "display_data"
    },
    {
     "data": {
      "application/vnd.jupyter.widget-view+json": {
       "model_id": "376d909ad8984320ba489680970c1b2d",
       "version_major": 2,
       "version_minor": 0
      },
      "text/plain": [
       "Text:\n",
       "Success is not final, failure is not fatal: it is the courage to continue that counts.\n",
       "score:\n",
       "73.33:   0…"
      ]
     },
     "metadata": {},
     "output_type": "display_data"
    },
    {
     "data": {
      "application/vnd.jupyter.widget-view+json": {
       "model_id": "20305836790a42ac93aebbad59a049b6",
       "version_major": 2,
       "version_minor": 0
      },
      "text/plain": [
       "Text:\n",
       "Stay positive and have a growth mindset.:   0%|          | 0/30 [00:00<?, ?it/s]"
      ]
     },
     "metadata": {},
     "output_type": "display_data"
    },
    {
     "data": {
      "application/vnd.jupyter.widget-view+json": {
       "model_id": "51ab52f269014953b77f8d0712995b22",
       "version_major": 2,
       "version_minor": 0
      },
      "text/plain": [
       "Text:\n",
       "Always keep seeking knowledge.:   0%|          | 0/30 [00:00<?, ?it/s]"
      ]
     },
     "metadata": {},
     "output_type": "display_data"
    },
    {
     "data": {
      "application/vnd.jupyter.widget-view+json": {
       "model_id": "b9ad967dfeab4de79dfeb93b1f7d1648",
       "version_major": 2,
       "version_minor": 0
      },
      "text/plain": [
       "Text:\n",
       "Not all who wander are lost.\n",
       "score:\n",
       "86.67:   0%|          | 0/30 [00:00<?, ?it/s]"
      ]
     },
     "metadata": {},
     "output_type": "display_data"
    },
    {
     "data": {
      "application/vnd.jupyter.widget-view+json": {
       "model_id": "c3e5ad69608049b8bb39693628320257",
       "version_major": 2,
       "version_minor": 0
      },
      "text/plain": [
       "Text:\n",
       " Embrace the beauty of simplicity.:   0%|          | 0/30 [00:00<?, ?it/s]"
      ]
     },
     "metadata": {},
     "output_type": "display_data"
    }
   ],
   "source": [
    "# Sample 3.5% of the training set\n",
    "INS_PER_STEP = 8\n",
    "EXEMPLARS_PER_STEP = 3\n",
    "MAX_INS_SCORE_PAIRS = 20\n",
    "SAVE_PATH = \"synthetic_countryCapital_xINy_OPRO_results.json\"\n",
    "\n",
    "# loading saved data\n",
    "if os.path.exists(SAVE_PATH):\n",
    "    with open(SAVE_PATH, \"r\") as f:\n",
    "        results = json.load(f)\n",
    "    starting_step = len(results) + 1\n",
    "    ins_score_pairs = results[str(len(results))]\n",
    "else:\n",
    "    ins_lst = [\n",
    "        \"Think step by step.\",\n",
    "        \"Take a deep breath and think step-by-step.\",\n",
    "        \"Be concise and clear.\",\n",
    "        \"You are the creator of an atlas.\",\n",
    "        \"Explain your answer in simple terms.\",\n",
    "    ]\n",
    "    ins_score_pairs = {\n",
    "        ins: score(ins, training_sample)\n",
    "        for ins in tqdm(ins_lst, desc=\"Scoring\", position=0)\n",
    "    }\n",
    "    starting_step = 1\n",
    "    results = {starting_step: ins_score_pairs}\n",
    "    with open(SAVE_PATH, \"w\") as f:\n",
    "        json.dump(results, f)\n",
    "\n",
    "# Each step takes aboy 5 to 10 minutes with gemma:2b\n",
    "STEP_COUNT = 10\n",
    "TARGET_STEP = starting_step + STEP_COUNT\n",
    "assert TARGET_STEP >= starting_step, \"TARGET_STEP should be greater than step.\"\n",
    "for i in range(starting_step, TARGET_STEP):\n",
    "    print(f\"Step {i}\")\n",
    "    while True:\n",
    "        try:\n",
    "            # Optimizer LLM\n",
    "            exemplars = training_sample.shuffle()[:EXEMPLARS_PER_STEP]\n",
    "            instructions = [\n",
    "                opt_llm(ins_score_pairs, exemplars)\n",
    "                for _ in trange(INS_PER_STEP, desc=\"Optimizing\")\n",
    "            ]\n",
    "\n",
    "            # Scoring the new instructions\n",
    "            new_ins_score_pairs = {\n",
    "                ins: score(ins, training_sample)\n",
    "                for ins in tqdm(instructions, desc=\"Scoring\", position=0)\n",
    "            }\n",
    "            combined_ins_score_pairs = {**ins_score_pairs, **new_ins_score_pairs}\n",
    "            ins_score_pairs = dict(\n",
    "                sorted(\n",
    "                    combined_ins_score_pairs.items(), key=lambda x: x[1], reverse=True\n",
    "                )[:MAX_INS_SCORE_PAIRS]\n",
    "            )\n",
    "\n",
    "            # Saving data\n",
    "            results[i] = ins_score_pairs\n",
    "            with open(SAVE_PATH, \"w\") as f:\n",
    "                json.dump(results, f)\n",
    "\n",
    "            break\n",
    "        except ValueError as e:\n",
    "            print(e)\n",
    "        except Exception as e:\n",
    "            print(e)"
   ]
  },
  {
   "cell_type": "code",
   "execution_count": 7,
   "metadata": {},
   "outputs": [
    {
     "data": {
      "text/plain": [
       "{'Think step by step.': 76.66666666666667,\n",
       " 'Explain your answer in simple terms.': 76.66666666666667,\n",
       " 'Aim for the best': 76.66666666666667,\n",
       " 'Learn from your mistakes and ask a lot of questions': 76.66666666666667,\n",
       " 'Think about the unknown and dare to explore.': 76.66666666666667,\n",
       " 'Take a deep breath and think step-by-step.': 73.33333333333333,\n",
       " 'Be concise and clear.': 73.33333333333333,\n",
       " 'Think calmly and think step-by-step': 73.33333333333333,\n",
       " 'Keep it short and straight to the point.': 73.33333333333333,\n",
       " \"Write a text that is different from the old ones and has a score as high as possible.\\nGenerate the new unique text only, not its corresponding score.\\n\\nNew text:\\nDon't be afraid to ask questions.\": 73.33333333333333,\n",
       " 'Learn from those who are better than you.': 73.33333333333333,\n",
       " 'Embrace the power of synthesis and clarity.': 73.33333333333333,\n",
       " 'Blend the art of writing with the science of clarity.': 73.33333333333333,\n",
       " 'Write a text that has a score as high as possible.\\nGenerate the new unique text only, not its corresponding score.\\nNew text:\\nLive life to the fullest.': 73.33333333333333,\n",
       " 'Cultivate an inquisitive mind.': 73.33333333333333,\n",
       " \"Write a text that is different from the old ones and has a score as high as possible.\\nGenerate the new unique text only. (Do not include the score and do not mark it as 'New text'.)\\nText:\\nLearn from your mistakes and the mistakes of others.\": 73.33333333333333,\n",
       " 'Be disciplined in your writing.': 73.33333333333333,\n",
       " 'Seek knowledge relentlessly.': 73.33333333333333,\n",
       " 'Mind your health and well-being.': 73.33333333333333,\n",
       " \"Write your new text that is different from the old ones and has a score as high as possible.\\nGenerate the new unique text only, (Do not include the score and do not mark it as 'New text'.)\\n\\nText:\\nLive a life of curiosity and continuous exploration.\": 73.33333333333333}"
      ]
     },
     "execution_count": 7,
     "metadata": {},
     "output_type": "execute_result"
    }
   ],
   "source": [
    "ins_score_pairs"
   ]
  },
  {
   "cell_type": "markdown",
   "metadata": {},
   "source": [
    "### Plotting Results and Testing Accuracy"
   ]
  },
  {
   "cell_type": "code",
   "execution_count": 8,
   "metadata": {},
   "outputs": [
    {
     "data": {
      "text/plain": [
       "Text(0.5, 1.0, 'Step to Accuracy')"
      ]
     },
     "execution_count": 8,
     "metadata": {},
     "output_type": "execute_result"
    },
    {
     "data": {
      "image/png": "[encoded data removed]",
      "text/plain": [
       "<Figure size 640x480 with 1 Axes>"
      ]
     },
     "metadata": {},
     "output_type": "display_data"
    }
   ],
   "source": [
    "import statistics\n",
    "import matplotlib.pyplot as plt\n",
    "\n",
    "# load opro.json\n",
    "with open(SAVE_PATH) as f:\n",
    "    opro_results = json.load(f)\n",
    "\n",
    "# opro = {step:dict(sorted(opro[step].items(), key=lambda x: x[1], reverse=True)[:20]) for step in opro}\n",
    "step_to_accuracy = {\n",
    "    step: (\n",
    "        statistics.mean(opro_results[step].values()),\n",
    "        statistics.stdev(opro_results[step].values()),\n",
    "    )\n",
    "    for step in opro_results\n",
    "}\n",
    "\n",
    "# Plot step to accuracy as a continuous line graph, including stdevs as highlighted error bars\n",
    "fig, ax = plt.subplots()\n",
    "ax.errorbar(\n",
    "    step_to_accuracy.keys(),\n",
    "    [accuracy[0] for accuracy in step_to_accuracy.values()],\n",
    "    yerr=[accuracy[1] for accuracy in step_to_accuracy.values()],\n",
    "    fmt=\"o\",\n",
    ")\n",
    "ax.set_xticks([step for step in step_to_accuracy.keys() if int(step) % 5 == 0])\n",
    "ax.set_xlabel(\"Step\")\n",
    "ax.set_ylabel(\"Accuracy\")\n",
    "ax.set_title(\"Step to Accuracy\")"
   ]
  },
  {
   "cell_type": "code",
   "execution_count": 9,
   "metadata": {},
   "outputs": [
    {
     "data": {
      "text/plain": [
       "{'Think step by step.': 76.66666666666667,\n",
       " 'Explain your answer in simple terms.': 76.66666666666667,\n",
       " 'Aim for the best': 76.66666666666667,\n",
       " 'Learn from your mistakes and ask a lot of questions': 76.66666666666667,\n",
       " 'Think about the unknown and dare to explore.': 76.66666666666667,\n",
       " 'Take a deep breath and think step-by-step.': 73.33333333333333,\n",
       " 'Be concise and clear.': 73.33333333333333,\n",
       " 'Think calmly and think step-by-step': 73.33333333333333,\n",
       " 'Keep it short and straight to the point.': 73.33333333333333,\n",
       " \"Write a text that is different from the old ones and has a score as high as possible.\\nGenerate the new unique text only, not its corresponding score.\\n\\nNew text:\\nDon't be afraid to ask questions.\": 73.33333333333333,\n",
       " 'Learn from those who are better than you.': 73.33333333333333,\n",
       " 'Embrace the power of synthesis and clarity.': 73.33333333333333,\n",
       " 'Blend the art of writing with the science of clarity.': 73.33333333333333,\n",
       " 'Write a text that has a score as high as possible.\\nGenerate the new unique text only, not its corresponding score.\\nNew text:\\nLive life to the fullest.': 73.33333333333333,\n",
       " 'Cultivate an inquisitive mind.': 73.33333333333333,\n",
       " \"Write a text that is different from the old ones and has a score as high as possible.\\nGenerate the new unique text only. (Do not include the score and do not mark it as 'New text'.)\\nText:\\nLearn from your mistakes and the mistakes of others.\": 73.33333333333333,\n",
       " 'Be disciplined in your writing.': 73.33333333333333,\n",
       " 'Seek knowledge relentlessly.': 73.33333333333333,\n",
       " 'Mind your health and well-being.': 73.33333333333333,\n",
       " \"Write your new text that is different from the old ones and has a score as high as possible.\\nGenerate the new unique text only, (Do not include the score and do not mark it as 'New text'.)\\n\\nText:\\nLive a life of curiosity and continuous exploration.\": 73.33333333333333}"
      ]
     },
     "execution_count": 9,
     "metadata": {},
     "output_type": "execute_result"
    }
   ],
   "source": [
    "opro_results[str(len(opro_results))]"
   ]
  },
  {
   "cell_type": "code",
   "execution_count": 10,
   "metadata": {},
   "outputs": [
    {
     "data": {
      "application/vnd.jupyter.widget-view+json": {
       "model_id": "13b1667412c5429cbe789c876a70b9d8",
       "version_major": 2,
       "version_minor": 0
      },
      "text/plain": [
       "  0%|          | 0/50 [00:00<?, ?it/s]"
      ]
     },
     "metadata": {},
     "output_type": "display_data"
    },
    {
     "name": "stdout",
     "output_type": "stream",
     "text": [
      "No instruction: 68.0\n"
     ]
    },
    {
     "data": {
      "application/vnd.jupyter.widget-view+json": {
       "model_id": "7866ae19d9c74132b4551e99321fedb8",
       "version_major": 2,
       "version_minor": 0
      },
      "text/plain": [
       "Think step by step.:   0%|          | 0/50 [00:00<?, ?it/s]"
      ]
     },
     "metadata": {},
     "output_type": "display_data"
    },
    {
     "name": "stdout",
     "output_type": "stream",
     "text": [
      "With best instruction (Think step by step.): 74.0\n"
     ]
    }
   ],
   "source": [
    "best_instruction = max(\n",
    "    opro_results[str(len(opro_results))], key=opro_results[str(len(opro_results))].get\n",
    ")\n",
    "print(f\"No instruction: {score('', testing_sample)}\")\n",
    "print(f\"With best instruction ({best_instruction}): {score(best_instruction, testing_sample)}\")"
   ]
  },
  {
   "cell_type": "code",
   "execution_count": 11,
   "metadata": {},
   "outputs": [
    {
     "data": {
      "application/vnd.jupyter.widget-view+json": {
       "model_id": "2d1419de57db45d8bebe069517c4060e",
       "version_major": 2,
       "version_minor": 0
      },
      "text/plain": [
       "  0%|          | 0/248 [00:00<?, ?it/s]"
      ]
     },
     "metadata": {},
     "output_type": "display_data"
    },
    {
     "name": "stdout",
     "output_type": "stream",
     "text": [
      "No instruction: 81.45161290322581\n"
     ]
    },
    {
     "data": {
      "application/vnd.jupyter.widget-view+json": {
       "model_id": "3a04e2294da34e68aecd6c86812a0c19",
       "version_major": 2,
       "version_minor": 0
      },
      "text/plain": [
       "Think step by step.:   0%|          | 0/248 [00:00<?, ?it/s]"
      ]
     },
     "metadata": {},
     "output_type": "display_data"
    },
    {
     "name": "stdout",
     "output_type": "stream",
     "text": [
      "With best instruction (Think step by step.): 81.85483870967742\n"
     ]
    }
   ],
   "source": [
    "data_original = Dataset.from_dict(original_data)\n",
    "best_instruction = max(\n",
    "    opro_results[str(len(opro_results))], key=opro_results[str(len(opro_results))].get\n",
    ")\n",
    "print(f\"No instruction: {score('', data_original)}\")\n",
    "print(f\"With best instruction ({best_instruction}): {score(best_instruction, data_original)}\")"
   ]
  },
  {
   "cell_type": "code",
   "execution_count": null,
   "metadata": {},
   "outputs": [],
   "source": []
  }
 ],
 "metadata": {
  "kernelspec": {
   "display_name": "Python 3",
   "language": "python",
   "name": "python3"
  },
  "language_info": {
   "codemirror_mode": {
    "name": "ipython",
    "version": 3
   },
   "file_extension": ".py",
   "mimetype": "text/x-python",
   "name": "python",
   "nbconvert_exporter": "python",
   "pygments_lexer": "ipython3",
   "version": "3.10.12"
  }
 },
 "nbformat": 4,
 "nbformat_minor": 2
}
