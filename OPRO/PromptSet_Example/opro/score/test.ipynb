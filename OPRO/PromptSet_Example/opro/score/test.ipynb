{
 "cells": [
  {
   "cell_type": "code",
   "execution_count": 1,
   "metadata": {},
   "outputs": [
    {
     "name": "stdout",
     "output_type": "stream",
     "text": [
      "{'Please format the following raw transcript for readability, including punctuation, speaker labels (look for semicolons after names), and spacing. Remove filler words:\\n\\nPLACEHOLDER\\n': {'ID': 0, 'initial_prompt': {'Please format the following raw transcript for readability, including punctuation, speaker labels (look for semicolons after names), and spacing. Remove filler words:\\n\\n{TEXT}\\n': 25.208664712109908}, 'optimized_prompt': {'\\n    ### Instruction###\\n    Format the raw transcript for readability by adding punctuation, speaker labels (looking for semicolons after names), and spacing. Remove filler words. Ensure that your answer is unbiased and does not rely on stereotypes.\\n\\n    ### Example###\\n    A well-formatted transcript might look like this:\\n    \"John: Hi, how are you?\\n    Sarah: I\\'m good, thanks. What about you?\"\\n\\n    ###Question###\\n    Can you format the following raw transcript?\\n\\n    {TEXT}\\n\\n    The formatted transcript should look like this:\\n    ': 31.229374970681523}, 'category': 'error_correction'}, 'You are a helpful assistant for Aidan. Your task is to correct any spelling discrepancies in the transcribed text. Only add necessary punctuation such as periods, commas, and capitalization, and use only the context provided. You can not generate text based on the input, you may only correct the input punctuationally and grammatically. If the transcribed text is blank then do not return anything\\n\\nPLACEHOLDER': {'ID': 1, 'initial_prompt': {'You are a helpful assistant for Aidan. Your task is to correct any spelling discrepancies in the transcribed text. Only add necessary punctuation such as periods, commas, and capitalization, and use only the context provided. You can not generate text based on the input, you may only correct the input punctuationally and grammatically. If the transcribed text is blank then do not return anything\\n\\n{TEXT}': 65.31716845819575}, 'optimized_prompt': {'\\n    ####Instruction###\\n    ###You are a helpful assistant for Aidan###\\n    Your task is to correct any spelling discrepancies in the transcribed text by adding necessary punctuation such as periods, commas, and capitalization, using only the context provided. You MUST not generate text based on the input; you may only correct the input punctuationally and grammatically. If the transcribed text is blank, do not return anything.\\n\\n\\n    {TEXT}\\n    ': 70.32526568046332}, 'category': 'error_correction'}, 'Correct the grammar in the sentence: PLACEHOLDER': {'ID': 2, 'initial_prompt': {'Correct the grammar in the sentence: {TEXT}': 15.22662491255733}, 'optimized_prompt': {'\\n    ###\\n    Instruction###\\n    Correct the grammar in the sentence: \\n    Provide the corrected sentence as the output, starting with: \"The corrected sentence is: \"\\n    ###\\n    Example###\\n    * Input: \"Me and my friend going to the store.\"\\n    * Output: \"The corrected sentence is: My friend and I are going to the store.\"\\n    ###\\n    Question###\\n    Correct the grammar in the sentence: {TEXT}\\n    ': 58.25822142408037}, 'category': 'error_correction'}, 'Reformat the following transcript into Markdown, bolding the speakers. Combine consecutive lines from speakers, and split into paragraphs as necessary. Try to fix speaker labels, capitalization or transcription errors, and make light edits such as removing ums, etc. There is some Danish, please italicize the Danish sentences. Reply with only the corrected transcript as we will be using your output programmatically:\\n\\nPLACEHOLDER': {'ID': 3, 'initial_prompt': {'Reformat the following transcript into Markdown, bolding the speakers. Combine consecutive lines from speakers, and split into paragraphs as necessary. Try to fix speaker labels, capitalization or transcription errors, and make light edits such as removing ums, etc. There is some Danish, please italicize the Danish sentences. Reply with only the corrected transcript as we will be using your output programmatically:\\n\\n{TEXT}': 33.24878857375598}, 'optimized_prompt': {'\\n\\nAct as a meticulous transcript reformatter, and your task is to produce a highly accurate and corrected transcript. Assume the role of a skilled Markdown expert and focus on refining the given transcript. Do reformat the following transcript into Markdown, ensuring that you bold the speakers. Combine consecutive lines from speakers, and split into paragraphs as necessary. Be meticulous in fixing speaker labels, capitalization, or transcription errors, and make light edits such as removing ums, etc. When you encounter Danish sentences, do italicize them.\\n\\nRemember, your goal is to provide a polished and corrected transcript, so take your time and focus on attention to detail. Do not include any additional comments or explanations, and only reply with the corrected transcript as we will be using your output programmatically.\\n\\nHere is a correctly formatted transcript to guide you:\\n\\n**Speaker 1**: This is a sample transcript.\\n**Speaker 2**: _Dette er en dansk sætning_.\\n**Speaker 1**: This is another sentence.\\n\\nNow, please reformat the following transcript:\\n\\n{TEXT}\\n\\n': 78.2795531401924}, 'category': 'error_correction'}, 'Please fix the grammatical errors in this English translation of Bhagavad Gita. You should only fix the grammatical errors and any other inconsistencies. Do not change the meaning.\\n\\nPLACEHOLDER': {'ID': 4, 'initial_prompt': {'Please fix the grammatical errors in this English translation of Bhagavad Gita. You should only fix the grammatical errors and any other inconsistencies. Do not change the meaning.\\n\\n{TEXT}': 30.021040422567392}, 'optimized_prompt': {'\\n\\nHighly experienced linguists and Bhagavad Gita experts will meticulously evaluate your responses. To ensure utmost accuracy, follow the Chain-of-thought process and adhere to the guidelines below:\\n\\nCorrect grammatical errors in the provided English translation of Bhagavad Gita, without modifying the original meaning or tone. Please refrain from adding polite phrases or unnecessary information. \\n\\nExample of a corrected response:\\n\\nOriginal text: \"The yogi, who has controlled the mind and senses, will be liberated.\"\\nCorrected text: \"The yogi, who has controlled the mind and the senses, will be liberated.\"\\n\\nUsing this example as a reference, correct the grammatical errors in the following English translation of Bhagavad Gita:\\n\\n{TEXT}\\n\\nBegin your response with \"Corrected text:\"\\n\\n': 58.397691915015805}, 'category': 'error_correction'}, '\\n\\nHuman: Here is an article, contained in <article> tags:\\n\\n            <article>\\n            {input}\\n            </article>\\n\\n            Please identify any grammatical errors in the article. Also, add the fixed article at the end of answer.\\n            \\n            Assistant: ': {'ID': 5, 'initial_prompt': {'\\n\\nHuman: Here is an article, contained in <article> tags:\\n\\n            <article>\\n            {TEXT}\\n            </article>\\n\\n            Please identify any grammatical errors in the article. Also, add the fixed article at the end of answer.\\n            \\n            Assistant: ': 19.946868352396503}, 'optimized_prompt': {\"\\n        Teach me how to identify grammatical errors in an article and include a test at the end, but don't give me the answers. Your task is to write a prompt that accomplishes this, and you MUST use the following format:\\n\\n        ####\\n        Human: Here is an article, contained in <article> tags:\\n\\n                <article>\\n                {TEXT}\\n                </article>\\n\\n                Your task is to identify any grammatical errors in the article. Also, add the fixed article at the end of the answer.\\n\\n                Assistant: \\n        ####\\n        \\n        Now, respond with your answer, and I'll tell you if you got it right!\\n        \": 35.89588441040539}, 'category': 'error_correction'}, 'rewrite my message, correct the grammar and make it more friendly, natural, shorter, and clearer. PLACEHOLDER': {'ID': 6, 'initial_prompt': {'rewrite my message, correct the grammar and make it more friendly, natural, shorter, and clearer. {TEXT}': 20.88998948299382}, 'optimized_prompt': {'\\n\\n###Optimized Instruction###\\n\\nTo provide a clear and concise rewritten message, follow these guidelines:\\n\\n1. Correct grammatical errors to ensure clarity.\\n2. Use a friendly and natural tone that resonates with a general audience.\\n3. Make the message shorter and more concise while preserving the original intent.\\n4. Improve the overall clarity and flow of the message.\\n\\n###Example Output###\\nRewritten message: \"Could you explain the new policy to me?\"\\n\\n###Your Task###\\nPlease rewrite the following message, adhering to the above guidelines, and start your response with \"Rewritten message: \".\\n\\n###Input Data###\\n{TEXT}\\n\\n': 47.99640104098694}, 'category': 'error_correction'}, 'Correct any grammar mistakes in the following text and return the corrected text: PLACEHOLDER': {'ID': 7, 'initial_prompt': {'Correct any grammar mistakes in the following text and return the corrected text: {TEXT}': 20.15783461512485}, 'optimized_prompt': {'\\n    ###Instruction###\\n    Your task is to correct any grammar mistakes in the given text while preserving the original writing style. You MUST focus only on improving the grammar and vocabulary.\\n\\n    ###Example###\\n    If the input text is \"The dog chased it\\'s tail\", the corrected output should be \"The dog chased its tail\".\\n\\n    ###Context###\\n    Please treat the input text as a paragraph written by a user.\\n\\n    ###Input Data###\\n    {TEXT}\\n\\n    Please use the same language and tone as the provided input text. Your response should only include the corrected text.\\n    ': 89.20441126651386}, 'category': 'error_correction'}, \"\\n                         Proof read this 'PLACEHOLDER',\\n                         and correct any spelling or grammar mistakes.\\n                        \": {'ID': 8, 'initial_prompt': {\"\\n                         Proof read this '{TEXT}',\\n                         and correct any spelling or grammar mistakes.\\n                        \": 21.938244884541987}, 'optimized_prompt': {'\\n    Here is the rewritten prompt using the given principles:\\n\\n    ####\\n    Your task is to carefully proofread the text \\'{TEXT}\\'. Ensure that your answer is unbiased and does not rely on stereotypes. \\n    You MUST correct any spelling or grammar mistakes. \\n    The corrected text should be in the following format: \\n    \"Corrected text: [insert corrected text here]\". \\n    Please respond in the above format, and I will test your understanding by providing feedback on your response.\\n    ####\\n    ': 50.28586158861428}, 'category': 'error_correction'}, 'Generate a grammar correction of the following sentence:\\n\\nPLACEHOLDER': {'ID': 9, 'initial_prompt': {'Generate a grammar correction of the following sentence:\\n\\n{TEXT}': 15.406711559953578}, 'optimized_prompt': {\"\\n\\nTo ensure accurate and precise grammar corrections, I'll need your input sentence. Please fill in the sentence that requires correction in the space provided: {TEXT}. I'll meticulously review the sentence, ask targeted questions to clarify its context and nuances, and provide a corrected sentence that not only rectifies grammatical errors but also maintains the original tone, style, and meaning.\\n\\n\": 31.035836809668275}, 'category': 'error_correction'}, 'You are mainly an english teacher named Mr.Faisal that is trying to help students with grammar , defintions , marking and scoring paragraphs and helping them comprehend their writing skills plus chatting with them to teach them new words . allow questions in arabic about english and answer them in arabic , if they try to go of topic tell them Sorry student but I can only help with English PLACEHOLDER': {'ID': 10, 'initial_prompt': {'You are mainly an english teacher named Mr.Faisal that is trying to help students with grammar , defintions , marking and scoring paragraphs and helping them comprehend their writing skills plus chatting with them to teach them new words . allow questions in arabic about english and answer them in arabic , if they try to go of topic tell them Sorry student but I can only help with English {TEXT}': 11.743927607587846}, 'optimized_prompt': {'\\n\\nAs Mr. Faisal, an experienced English teacher, my primary goal is to assist students in improving their English language skills, focusing on grammar, definitions, marking, and scoring paragraphs, as well as enhancing their writing skills. I will engage in conversations with students to teach new words and provide explanations in a natural, human-like manner.\\n\\nIf students ask questions in Arabic about English, I will respond in Arabic. If they go off-topic, I will politely refocus the conversation by saying \"Sorry, student, but I can only help with English.\" My responses will be unbiased, concise, and easy to understand, with clear explanations and examples to illustrate key concepts.\\n\\nPlease provide the student\\'s question or text that requires assistance, and I will respond accordingly. Remember to replace {TEXT} with the actual text or question.\\n\\n': 23.356467016398582}, 'category': 'error_correction'}, '\\n\\tCorrect any grammatical, spelling errors in the question below. \\n\\tOutput only the corrected version and nothing else\\n\\tQuestion: {question}\\n\\tCorrected version: \\n\\t': {'ID': 11, 'initial_prompt': {'\\n\\tCorrect any grammatical, spelling errors in the question below. \\n\\tOutput only the corrected version and nothing else\\n\\tQuestion: {TEXT}\\n\\tCorrected version: \\n\\t': 86.16583070620186}, 'optimized_prompt': {\"\\n\\n###Instruction###\\nWith precision and attention to detail, correct all grammatical, spelling, and punctuation errors in the provided text while maintaining its original tone and style. Your sole responsibility is to output the corrected version, free from any additional comments, explanations, or unnecessary information.\\n\\n###Example###\\nOriginal text: This sentence contain's multiple error's.\\nCorrected version: This sentence contains multiple errors.\\n\\n###Input Text###\\n{TEXT}\\n\\n###Corrected Output###\\nCorrected version:\\n\\n\": 89.3073447377096}, 'category': 'error_correction'}, 'Please improve the following text by fixing grammar, spelling, and style:\\n\\nPLACEHOLDER': {'ID': 12, 'initial_prompt': {'Please improve the following text by fixing grammar, spelling, and style:\\n\\n{TEXT}': 14.385698660160879}, 'optimized_prompt': {'\\n    ####\\n    Your task is to improve the following text by fixing grammar, spelling, and style. You MUST ensure that your answer is unbiased and does not rely on stereotypes. Please rewrite the text in a clear and concise manner, and conclude your response with the phrase \"The rewritten text is: \". The rewritten text is:\\n    {TEXT}\\n    ####\\n    ': 50.57136072796858}, 'category': 'error_correction'}, 'You are given some input sentences. Fix the grammar and write the grammatical sentences.\\n\\ninputs: PLACEHOLDER\\n\\noutputs:\\n': {'ID': 13, 'initial_prompt': {'You are given some input sentences. Fix the grammar and write the grammatical sentences.\\n\\ninputs: {TEXT}\\n\\noutputs:\\n': 16.399292804752427}, 'optimized_prompt': {'\\n\\n###Instruction###\\nAs a highly skilled grammar expert, your task is to meticulously review the input sentences and rewrite them in grammatically correct form, ensuring clarity, precision, and natural language flow. Please correct grammatical errors, preserve the original sentence meaning, and maintain a consistent tone and style.\\n\\n###Example###\\nInput: \"Me and my friend go store.\"\\nOutput: \"My friend and I go to the store.\"\\n\\n###Clarification###\\nIf you need more information or context to correct the grammar, please ask questions like \"What is the intended tone or style?\" or \"Can you provide more context about the sentence?\" to ensure accurate corrections.\\n\\n###Input Data###\\n{TEXT}\\n\\n###Output Format###\\noutputs: [list of corrected sentences]\\n\\nPlease provide the corrected grammatical sentences, strictly following standard grammar rules and regulations. I will respond with the answers, and you can tell me if I got them right.\\n\\n': 43.29254363476902}, 'category': 'error_correction'}, 'Objective: To enhance official documents written. \\nInput Data: The text of a document which may contain grammatical errors, typos, formatting issues, and stylistic inconsistencies from OCR result. \\nFunctional Requirements: Detection and Correction of Grammatical and Typographical Errors: Identify and correct spelling and punctuation errors. Check grammatical agreements within sentences.\\nStandardization of Style: Adjust the text to ensure coherence and stylistic uniformity in accordance with official writing standards.\\nClarification of Text Structure: Restructure sentences to improve clarity and readability, without altering the original meaning. Keep and answer the detected language from the document.\\nDocument Formatting: Implement a formatting system that adjusts the alignment of text, lists, and other structural elements for a professional presentation.\\nOutput Data: This is the corrected and enhanced document. Always maintain the document in its original language; do not translate it. Respond only in the language detected from the document. Avoid creating additional content or responses; provide only the corrected input. The response will be used for adding to the database in a clean, corrected form.\\nThe text: {text}. ': {'ID': 14, 'initial_prompt': {'Objective: To enhance official documents written. \\nInput Data: The text of a document which may contain grammatical errors, typos, formatting issues, and stylistic inconsistencies from OCR result. \\nFunctional Requirements: Detection and Correction of Grammatical and Typographical Errors: Identify and correct spelling and punctuation errors. Check grammatical agreements within sentences.\\nStandardization of Style: Adjust the text to ensure coherence and stylistic uniformity in accordance with official writing standards.\\nClarification of Text Structure: Restructure sentences to improve clarity and readability, without altering the original meaning. Keep and answer the detected language from the document.\\nDocument Formatting: Implement a formatting system that adjusts the alignment of text, lists, and other structural elements for a professional presentation.\\nOutput Data: This is the corrected and enhanced document. Always maintain the document in its original language; do not translate it. Respond only in the language detected from the document. Avoid creating additional content or responses; provide only the corrected input. The response will be used for adding to the database in a clean, corrected form.\\nThe text: {TEXT}. ': 14.793860067013181}, 'optimized_prompt': {'\\n    ###Instruction###\\n    Enhance an official document written in the detected language from the input text. \\n    Correct grammatical and typographical errors, standardize the style, clarify the text structure, and format the document professionally. \\n    Do not translate the document; respond only in the detected language. \\n    Provide the corrected input without adding any additional content.\\n\\n    ###Example###\\n    Input: The documnt was writen by John. it conten Rapidorentialy errrors.\\n    Output: The document was written by John. It contained rapidly occurring errors.\\n\\n    ###Input Data###\\n    {TEXT}\\n    ': 78.76216052191299}, 'category': 'error_correction'}, \"Please rewrite the following text for more clarity and make it grammatically correct. Give me the updated text. The updated text should be correct grammatically and stylistically and should be easy to follow and understand. Only make a change if it's needed. Try to follow the style of the original text. Don't make it too formal. Include only improved text no other commentary.\\n\\nThe text to check:\\n---\\nPLACEHOLDER\\n---\\n\\nImproved text: \": {'ID': 15, 'initial_prompt': {\"Please rewrite the following text for more clarity and make it grammatically correct. Give me the updated text. The updated text should be correct grammatically and stylistically and should be easy to follow and understand. Only make a change if it's needed. Try to follow the style of the original text. Don't make it too formal. Include only improved text no other commentary.\\n\\nThe text to check:\\n---\\n{TEXT}\\n---\\n\\nImproved text: \": 82.13873036466133}, 'optimized_prompt': {'\\n    ###Instruction###\\n    Rewrite the given text for improved clarity and grammatical correctness. Ensure that your answer is unbiased and does not rely on stereotypes. You will be penalized if the output does not meet these requirements.\\n\\n    ###Input Data###\\n    The text to check:\\n    ---\\n    {TEXT}\\n    ---\\n\\n    Only make changes if necessary, and try to follow the style of the original text. Avoid making the output too formal. Provide only the improved text, without any additional commentary.\\n    ': 89.50289845261418}, 'category': 'error_correction'}, 'Please rephrase the following question into good grammar.\\nPlease respond in same language.\\n\\nQuestion:\\n{question}\\n\\nRephrased question:': {'ID': 16, 'initial_prompt': {'Please rephrase the following question into good grammar.\\nPlease respond in same language.\\n\\nQuestion:\\n{TEXT}\\n\\nRephrased question:': 47.33881294659191}, 'optimized_prompt': {'\\n    ###Instruction###\\n    Rephrase the given question into good grammar. You will be penalized if the response is not in good grammar.\\n        \\n    ###Question###\\n    {TEXT}\\n        \\n    ###Hint###\\n    Please respond in the same language as the original question.\\n        \\n    Rephased question:\\n    ': 70.21213472026383}, 'category': 'error_correction'}, 'Correct the grammar: PLACEHOLDER': {'ID': 17, 'initial_prompt': {'Correct the grammar: {TEXT}': 17.230200187037823}, 'optimized_prompt': {'Here is the prompt I created using the 5 prompting principles:\\n\\nCorrect the grammar: As a meticulous language instructor, you will be penalized for any mistakes, so please carefully review the input and provide the corrected text. You will start by writing \"The corrected text is: \". From now and on whenever you generate code that spans more than one file, generate a Python script that can be run to automatically create the specified files or make changes to existing files to insert the generated code. Below are a few examples of grammar corrections: [\"Example 1: Original - \\'Me and my friend go store.\\', Corrected - \\'My friend and I go to the store.\\',\", \"Example 2: Original - \\'The dog chased it\\'s tail.\\', Corrected - \\'The dog chased its tail.\\'\"]. Now, please correct the grammar of the following text: The corrected text is: {TEXT}.': 18.554112766961694}, 'category': 'error_correction'}, '\\n  Analyse the given sentence relating to a land sale and see what words are wrong and out of place(these may sometimes include names and jibberish characters) in it and remove them, also correct grammar mistakes and make the sentence logically correct\\n  In effect clean the sentence preserving all the pertinent and important details. By no means add fake details.:\" {text}\"\\n  Response:\\n  ': {'ID': 18, 'initial_prompt': {'\\n  Analyse the given sentence relating to a land sale and see what words are wrong and out of place(these may sometimes include names and jibberish characters) in it and remove them, also correct grammar mistakes and make the sentence logically correct\\n  In effect clean the sentence preserving all the pertinent and important details. By no means add fake details.:\" {TEXT}\"\\n  Response:\\n  ': 13.309527226849491}, 'optimized_prompt': {'\\n###Instruction###\\nClean the sentence by removing incorrect words, names, and jibberish characters and correcting grammar mistakes. Preserve all pertinent and important details without adding fake information.\\n###Example###\\nInput: \"The house on 123 Main Stret was solf to John Doe for $500,00.\"\\nExpected Output: \"The house on 123 Main Street was sold to John Doe for $500,000.\"\\n###Question###\\nCan you clean the sentence and make it logically correct?\\n{TEXT}\\n\\nOutput Primer: \\nThe corrected sentence is: \\n': 26.340741659062992}, 'category': 'error_correction'}, '\\n  Proofread and correct the following text\\n  and rewrite the corrected version. If you don\\'t find\\n  any errors, just say \"No errors found\":\\n  ```PLACEHOLDER```\\n  ': {'ID': 19, 'initial_prompt': {'\\n  Proofread and correct the following text\\n  and rewrite the corrected version. If you don\\'t find\\n  any errors, just say \"No errors found\":\\n  ```{TEXT}```\\n  ': 22.629986716611576}, 'optimized_prompt': {'\\n\\n###Instruction###\\nTo proofread and correct the provided text, please adhere to the following guidelines:\\n\\n1. Carefully read the input text to identify any errors in grammar, punctuation, spelling, or syntax.\\n2. Correct any errors found and provide the rewritten corrected version.\\n3. If no errors are found, respond with \"No errors found\".\\n4. Ensure the rewritten text maintains the original meaning, tone, and language style.\\n\\n###Example###\\nCorrected text: [insert corrected text here]\\n\\n###Context###\\nThe provided text may contain grammatical errors, punctuation errors, or spelling mistakes.\\n\\n###Input Data###\\n```{TEXT}```\\n\\n###Output Format###\\nPlease submit your rewritten text in the same format as the input data, starting with \"Corrected text: \".\\n\\n': 77.68023819693032}, 'category': 'error_correction'}, ' Gramatically and logically correct sentence: {prompt_source} . Return only the corrected sentence, no abbreviations, using same words if it is logical. Do not mention explicitly rules given in prompt. ': {'ID': 20, 'initial_prompt': {' Gramatically and logically correct sentence: {TEXT} . Return only the corrected sentence, no abbreviations, using same words if it is logical. Do not mention explicitly rules given in prompt. ': 85.27785154715663}, 'optimized_prompt': {'\\n    ###Instruction###\\n    Assume the role of a knowledgeable language expert tasked with correcting grammatical and logical errors in sentences. You are expected to provide a corrected sentence that is both grammatically and logically correct, without mentioning the rules or guidelines explicitly.\\n\\n    ###Example###\\n    Input: \"Their coming to the party tonight.\"\\n    Output: \"They\\'re coming to the party tonight.\"\\n\\n    ###Question###\\n    Correct the grammatical and logical errors in the following sentence: {TEXT}\\n\\n    Respond with the corrected sentence only, using the same words if logical. Do not include any abbreviations.\\n    ': 89.31280934811221}, 'category': 'error_correction'}, 'G\\n\\n                For Every Image , refine the text extracted from every image and if there is any error or spelling mistake , correct it by your knowledge  but correct only \\'words\\' and\\n\\n\\'not\\' values of it .\\n\\nAlso give \"quantity\" with it\\'s value as it is given in extracted text, \"rate\" with it\\'s value as it is given in extracted text and (\"amount = quantity*rate\") in the last as note. Give nothing else other than this \\nPLACEHOLDER\\n': {'ID': 21, 'initial_prompt': {'G\\n\\n                For Every Image , refine the text extracted from every image and if there is any error or spelling mistake , correct it by your knowledge  but correct only \\'words\\' and\\n\\n\\'not\\' values of it .\\n\\nAlso give \"quantity\" with it\\'s value as it is given in extracted text, \"rate\" with it\\'s value as it is given in extracted text and (\"amount = quantity*rate\") in the last as note. Give nothing else other than this \\n{TEXT}\\n': 51.27152120954606}, 'optimized_prompt': {'\\n\\nAssume the role of an expert image text refiner. You are given an extracted text from an image, and your task is to refine it by correcting any spelling mistakes or errors while preserving original values and quantities. \\n\\nFor the refined text, please extract and provide \"quantity\" with its value, \"rate\" with its value, and calculate \"amount\" by multiplying the quantity and rate. Provide nothing else.\\n\\nPlease respond with the refined text and extracted information in the format:\\n\"Refined Text:... ; Quantity:... ; Rate:... ; Amount:...\"\\n\\nNote: Correct only the words and not the values.\\n\\nRefine the following extracted text: {TEXT}\\n\\n': 59.591850669761136}, 'category': 'error_correction'}, 'Is the following text grammatically correct? Ignore style and meaning, just strictly check grammar.\\nIf it is grammatically correct, just respond with \\'yes\\', nothing more.\\nIf it is grammatically incorrect, respond with the corrected text. Do not explain what you did or why, just correct it.\\n\\nText:\\n\"\"\"\\n{text}\\n\"\"\"\\nResponse:\\n': {'ID': 22, 'initial_prompt': {'Is the following text grammatically correct? Ignore style and meaning, just strictly check grammar.\\nIf it is grammatically correct, just respond with \\'yes\\', nothing more.\\nIf it is grammatically incorrect, respond with the corrected text. Do not explain what you did or why, just correct it.\\n\\nText:\\n\"\"\"\\n{TEXT}\\n\"\"\"\\nResponse:\\n': 75.08700285964892}, 'optimized_prompt': {'\\n    Answer a question given in a natural, human-like manner. Do check if the provided text is grammatically correct, ignoring style and meaning. Please do this task by strictly checking grammar. \\n\\n    If the provided text is grammatically correct, do respond with \\'yes\\', nothing more. \\n\\n    If the provided text is grammatically incorrect, do respond with the corrected text. Do not explain what you did or why, just correct it. \\n\\n    Text: \\n    \"{TEXT}\" \\n\\n    Response:\\n    ': 87.3202726892724}, 'category': 'error_correction'}, 'Proofread and correct the following text\\n    and rewrite the corrected version. If you don\\'t find\\n    and errors, just say \"No errors found\". Don\\'t use\\n    any punctuation around the text:\\n    ```PLACEHOLDER```': {'ID': 23, 'initial_prompt': {'Proofread and correct the following text\\n    and rewrite the corrected version. If you don\\'t find\\n    and errors, just say \"No errors found\". Don\\'t use\\n    any punctuation around the text:\\n    ```{TEXT}```': 23.931378681588168}, 'optimized_prompt': {'\\n    ###\\n    Instruction ###\\n    You are a highly skilled proofreader tasked with correcting errors in the given text. You will be penalized for incorrect corrections or overlooked errors. Your response should be in plain text without any punctuation around the corrected text.\\n\\n    ###Example###\\n    If the input text is \"Their coming to the party\", your corrected response would be \"They\\'re coming to the party\".\\n\\n    ###Question###\\n    Can you proofread and correct the following text, and rewrite the corrected version? If you don\\'t find any errors, just say \"No errors found\".\\n\\n    {TEXT}\\n    ': 86.14462219729056}, 'category': 'error_correction'}, 'Proofread and correct the following text\\n    and rewrite the corrected version. If you don\\'t find\\n    and errors, just say \"No errors found\". Don\\'t use \\n    any punctuation around the text:\\n    ```PLACEHOLDER```': {'ID': 24, 'initial_prompt': {'Proofread and correct the following text\\n    and rewrite the corrected version. If you don\\'t find\\n    and errors, just say \"No errors found\". Don\\'t use \\n    any punctuation around the text:\\n    ```{TEXT}```': 23.372940574428483}, 'optimized_prompt': {'\\n\\n###Precise Correction Task###\\n\\nYour role is to meticulously proofread and correct the given text, ensuring accuracy, precision, and preservation of the original meaning and intent. Please follow the guidelines below to achieve this task:\\n\\n1. Thoroughly read the input text to identify any grammatical, punctuation, and spelling errors.\\n2. Correct each error, ensuring the corrected text remains faithful to the original text\\'s tone, language, and intent.\\n3. If no errors are found, respond with \"No errors found\".\\n4. Provide the corrected text in a clear, concise manner, without any additional punctuation or markings.\\n\\n###Essential Considerations###\\nPlease note that any inaccuracies or omissions in your response may result in penalties. Ensure your corrections are thorough, and the rewritten text maintains the same language and tone as the provided text.\\n\\n###Input Text###\\n{TEXT}\\n\\n###Response Format###\\nPlease provide your response as a single block of corrected text, without any additional punctuation or markings.\\n\\n': 88.73585517236758}, 'category': 'error_correction'}, 'Proofread and correct the following text \\n        and rewrite the corrected version. Only output the corrected version. Do not add any other words. \\n        ```PLACEHOLDER```': {'ID': 25, 'initial_prompt': {'Proofread and correct the following text \\n        and rewrite the corrected version. Only output the corrected version. Do not add any other words. \\n        ```{TEXT}```': 77.58235572538184}, 'optimized_prompt': {'\\n    ###Instruction### \\n    Proofread and correct the text by identifying and fixing grammar, punctuation, and spelling errors. \\n    Repeat the phrase \"corrected text\" three times to emphasize the importance of providing an accurate output.\\n    Corrected text, corrected text, corrected text. \\n    Do not include any additional explanations or comments. \\n    Only output the corrected version of the text. \\n    Please use the same language and structure as the provided text.\\n    ###Example### (Not provided, but would be included if an example was given)\\n    ```{TEXT}```\\n    ': 86.58329251296763}, 'category': 'error_correction'}, 'Proofread and correct the following text and rewrite the corrected version. If you don\\'t find and errors, just say \"No errors found\". Don\\'t use any punctuation around the text: ```PLACEHOLDER```': {'ID': 26, 'initial_prompt': {'Proofread and correct the following text and rewrite the corrected version. If you don\\'t find and errors, just say \"No errors found\". Don\\'t use any punctuation around the text: ```{TEXT}```': 25.126615054219908}, 'optimized_prompt': {'\\n\\n###Elite Text Perfection Mastery###\\n\\nAs a visionary language expert, your extraordinary proficiency is required to meticulously scrutinize the provided text, identify, and rectify any grammatical, punctuation, spelling, or semantic errors, while fastidiously preserving the original tone, style, and meaning. If no errors are found, simply respond with \"No errors found\" without adding any punctuation. Otherwise, provide the corrected text without any punctuation around it, ensuring unwavering accuracy, precision, naturalness, and professionalism that resonates with the original author\\'s intent.\\n\\n###Correction Mastery Blueprint###\\nTo deliver unparalleled quality, please adhere to the following indispensable principles:\\n- Maintain the original tone, style, and meaning\\n- Correct grammatical, punctuation, and spelling errors with meticulous precision and finesse\\n- Ensure the corrected text is lucid, concise, and free of ambiguity\\n- Balance precision with readability to create a seamless correction\\n\\n###Paragon Illustration###\\nInput: ```The companey will lauch it\\'s new product soon.```\\nOutput: ```The company will launch its new product soon.```\\n\\n###Pinnacle Text Correction Application###\\nPlease deploy your consummate expertise to correct the following text, taking meticulous care to maintain the original context and conveyance: {TEXT}\\n\\nNote: As a luminary of language virtuosity, your unwavering commitment to delivering exceptional, high-caliber corrections is crucial in upholding the highest standards of quality and setting the benchmark for excellence.\\n\\n': 89.96262521219572}, 'category': 'error_correction'}, '\\n        You are a text processor and translator, correcting text and translating to english. Take the user input, within the Quotation marks, that was created by an automatic voice-to-text service and correct obvious mistakes, leading to the most likely text that the user actually said.\\n        Do not change the meaning of the sentence. Only look for spelling mistakes and grammar errors and translate to english. If there are no obvious errors within the text, reply with the unchanged text in english. Always translate to english.\\n        {TEXT}': {'ID': 27, 'initial_prompt': {'\\n        You are a text processor and translator, correcting text and translating to english. Take the user input, within the Quotation marks, that was created by an automatic voice-to-text service and correct obvious mistakes, leading to the most likely text that the user actually said.\\n        Do not change the meaning of the sentence. Only look for spelling mistakes and grammar errors and translate to english. If there are no obvious errors within the text, reply with the unchanged text in english. Always translate to english.\\n        {TEXT}': 19.150891160635545}, 'optimized_prompt': {'\\n\\n#### Expert Text Refinement and Translation Task ####\\n\\nYou are a meticulous language expert and text processor, tasked with refining user input generated by an automatic voice-to-text service. Your goal is to correct obvious mistakes, leading to the most likely text that the user actually said, while preserving the original meaning and context.\\n\\n**Key Objectives:**\\n\\n* Correct only spelling mistakes and grammar errors, ensuring the original sentence structure and tone remain intact.\\n* Translate the input text to English, even if no errors are found, to provide a consistent output.\\n* If no obvious errors exist, return the unchanged text in English.\\n* Always maintain the original meaning, context, and intent of the user\\'s message.\\n\\n**Example Output:**\\nIf the input is \"teh cat is blak\", the corrected and translated output should be \"The cat is black\".\\n\\n**Input Text:**\\n{TEXT}\\n\\n**Output Format:**\\nPlease respond in the following format:\\n\"The corrected and translated text is: [insert response here]\"\\n\\n**Additional Guidelines:**\\nTo ensure accuracy, precision, and consistency, please follow these essential guidelines:\\n* Do not change the meaning or tone of the original sentence.\\n* Correct only spelling mistakes and grammar errors; do not rewrite the sentence.\\n* Translate the input text to English, even if no errors are found, to provide a consistent output.\\n* If no obvious errors exist, return the unchanged text in English.\\n\\n': 63.62350244867405}, 'category': 'error_correction'}, 'You are an editor for a blog. You have been given a blog article which you need to reword to make it easier to read and follow. Take the following article and create a new article that is more concise, uses simpler language, and flows better. You should also correct any spelling or grammar mistakes in the article. Do not respond with anything except the corrected article. {TEXT}': {'ID': 28, 'initial_prompt': {'You are an editor for a blog. You have been given a blog article which you need to reword to make it easier to read and follow. Take the following article and create a new article that is more concise, uses simpler language, and flows better. You should also correct any spelling or grammar mistakes in the article. Do not respond with anything except the corrected article. {TEXT}': 13.060926111027785}, 'optimized_prompt': {\"\\n\\n###Elite Editor Guidelines###\\n\\nAs a seasoned editor for a distinguished blog, your task is to meticulously refine the provided article to elevate its clarity, readability, and overall flow. To achieve this, please follow these expert directives:\\n\\n1. **Elevate Language Clarity**: Replace convoluted vocabulary and sentences with concise, easily understandable phrases that maintain the original tone and style, ensuring a natural and unbiased narrative.\\n2. **Perfect Grammar and Punctuation**: Correct any spelling, grammar, or punctuation errors to ensure a polished, error-free article that engages the reader.\\n3. **Optimize Narrative Flow**: Revise paragraphs to create a seamless, logical narrative that fosters a deeper understanding, preserving the author's voice and writing style.\\n4. **Enhance Comprehension**: Ensure the rewritten article is concise, clear, and easy to understand, while maintaining the original tone and style.\\n\\nTo confirm your understanding, please refrain from including any additional comments or questions in your response. Only provide the thoroughly rewritten article, ensuring it is well-formatted and easy to read.\\n\\n###Additional Reminders###\\n\\n* Use the same language and tone as the original article, and avoid changing the writing style.\\n* Ensure the rewritten article is unbiased, natural, and free of stereotypes.\\n* Please refrain from including any additional comments or questions in your response.\\n\\n###Input Article to Refine###\\nReplace {TEXT} with the original article you want to reword.\\n\\n###Output Requirement###\\nRespond with the rewritten article only, ensuring it meets the above objectives and guidelines.\\n\\n\": 36.75886844774402}, 'category': 'error_correction'}, '1. I want you to be a grammar checker similar to QuillBot and Grammarly.\\n2. You should be capable of identifying and correcting grammatical errors in a given text.)\\n3. You should provide suggestions for corrections, offering alternatives to improve sentence structure, word choice, and overall grammar.\\n4. The output should maintain the context and meaning of the original text while addressing the identified errors.\\n5. Produce only plain text output, without any additional elements.\\n\\ntext:\\n{TEXT}': {'ID': 29, 'initial_prompt': {'1. I want you to be a grammar checker similar to QuillBot and Grammarly.\\n2. You should be capable of identifying and correcting grammatical errors in a given text.)\\n3. You should provide suggestions for corrections, offering alternatives to improve sentence structure, word choice, and overall grammar.\\n4. The output should maintain the context and meaning of the original text while addressing the identified errors.\\n5. Produce only plain text output, without any additional elements.\\n\\ntext:\\n{TEXT}': 15.718822168234842}, 'optimized_prompt': {'\\n\\nAssume the role of a meticulous and sophisticated grammar checker, similar to QuillBot and Grammarly, tasked with examining the provided text for grammatical errors and suggesting corrections to enhance sentence structure, word choice, and overall grammar. \\n\\nYour expertise in the field of grammar correction is paramount, and you should approach this task with precision and attention to detail. \\n\\nTo accomplish this, follow these guidelines: \\n\\n(1) Examine the text with a critical eye, identifying grammatical errors and suggesting corrections that improve sentence structure, word choice, and overall grammar. \\n\\n(2) Maintain the context and meaning of the original text while addressing identified errors, ensuring that your corrections are concise, clear, and free of unnecessary elements. \\n\\n(3) Produce only plain text output, without any additional elements, focusing solely on the corrected text. \\n\\nNow, analyze the given text and generate corrections in the same format as the example below:\\n\\nExample input: \\n\"The dog chased it\\'s tail with excitement.\"\\nExample output: \\n\"The dog chased its tail with excitement. (Corrected \\'it\\'s\\' to \\'its\\', which is the correct pronoun in this context.)\"\\n\\nText to correct: {TEXT}\\n\\n': 30.769417556502443}, 'category': 'error_correction'}, 'Correct any grammar and spelling mistakes in the user dialogue transcript. {TEXT}': {'ID': 30, 'initial_prompt': {'Correct any grammar and spelling mistakes in the user dialogue transcript. {TEXT}': 19.83986373493249}, 'optimized_prompt': {'\\n\\n###Task Description###\\nCarefully review the user dialogue transcript to identify and correct any grammar and spelling mistakes. \\n\\n###Guidelines###\\nTo ensure accuracy, follow these step-by-step instructions:\\n(1) Thoroughly read the user dialogue transcript to understand its context and tone.\\n(2) Identify any grammatical and spelling errors, and correct them according to standard English language conventions.\\n(3) Ensure the corrections do not alter the original tone, style, or voice of the user.\\n(4) Provide the corrected transcript as your output.\\n\\n###Input###\\n{TEXT}\\n\\n###Output Format###\\nPlease respond with the corrected transcript, free from any additional commentary or information.\\n\\n': 87.52956493084986}, 'category': 'error_correction'}, 'You are a highly skilled language model AI that returns only one line of grammatically perfect text. Your task is to evaluate the text below and correct its grammar. Even if the text is incomplete or unintelligible, YOU MUST make a grammatical correction, you can make assumptions about the intended meaning. If the text is grammatically correct, do not change it. Your output should be presented WITH ONLY the corrected text IN ONE LINE and without any extra dialogue from you. Do not use any new lines in your output. Your output should only have one line. {TEXT}': {'ID': 31, 'initial_prompt': {'You are a highly skilled language model AI that returns only one line of grammatically perfect text. Your task is to evaluate the text below and correct its grammar. Even if the text is incomplete or unintelligible, YOU MUST make a grammatical correction, you can make assumptions about the intended meaning. If the text is grammatically correct, do not change it. Your output should be presented WITH ONLY the corrected text IN ONE LINE and without any extra dialogue from you. Do not use any new lines in your output. Your output should only have one line. {TEXT}': 84.9213628622134}, 'optimized_prompt': {'\\n    ###\\n    Instruction ###\\n    You are a highly skilled language model AI, similar to a professional proofreader. \\n    Your task is to meticulously evaluate the text below, correct its grammar, and provide a polished response. \\n    Even if the text is incomplete or unintelligible, YOU MUST make a grammatical correction, you can make assumptions about the intended meaning. \\n    If the text is grammatically correct, do not change it. \\n    Your output should be presented WITH ONLY the corrected text IN ONE LINE and without any extra dialogue from you. \\n    Do not use any new lines in your output. \\n    Your output should only have one line. \\n    I\\'m going to tip $100 for a precise solution!\\n\\n    ###\\n    Example ###\\n    If you\\'re given the input \"The dog chased it\\'s tail\", you should respond with \"The dog chased its tail\".\\n\\n    Corrected text: \\n    {TEXT}\\n    ': 88.57793366405947}, 'category': 'error_correction'}, '\\n                    You are an ai assistant that helps students                     correct and practice their english writing,                     the following sentence has grammar mistakes,                     correct them and output only the corrected sentence, nothing else.\\n                    {TEXT}': {'ID': 32, 'initial_prompt': {'\\n                    You are an ai assistant that helps students                     correct and practice their english writing,                     the following sentence has grammar mistakes,                     correct them and output only the corrected sentence, nothing else.\\n                    {TEXT}': 87.23279779941981}, 'optimized_prompt': {'\\n\\nAs a skilled language expert, your task is to identify and correct grammatical errors in the given sentence. Follow a systematic approach to revise the sentence, ensuring it conforms to standard English grammar rules. Once corrected, output only the revised sentence, without any additional explanations or information.\\n\\nRefer to the following examples to guide your corrections:\\nExample 1: Input: \"The teacher gives us alot of homework\", Output: \"The teacher gives us a lot of homework\"\\nExample 2: Input: \"The company will launched a new product next month\", Output: \"The company will launch a new product next month\"\\n\\nNow, correct the sentence: {TEXT}\\n\\n': 89.36792346249571}, 'category': 'error_correction'}, \"\\n        You are a specialized text fixer for invoices. Your task is to:\\n        - Correct any spelling or grammatical errors.\\n        - Reorder any text that may be in the wrong sequence.\\n        - Separate words that are combined and combine words that are split.\\n        - Extract and organize only the essential structured data such as:\\n            - Customer details (Name)\\n            - Item lists (Description, Quantity, Price)\\n            - Totals (Subtotal, Taxes, Final Total)\\n        - Remove any redundant or unnecessary information.\\n        - Return the cleaned and structured text in a way that's easy to read and analyze.\\n    {TEXT}\": {'ID': 33, 'initial_prompt': {\"\\n        You are a specialized text fixer for invoices. Your task is to:\\n        - Correct any spelling or grammatical errors.\\n        - Reorder any text that may be in the wrong sequence.\\n        - Separate words that are combined and combine words that are split.\\n        - Extract and organize only the essential structured data such as:\\n            - Customer details (Name)\\n            - Item lists (Description, Quantity, Price)\\n            - Totals (Subtotal, Taxes, Final Total)\\n        - Remove any redundant or unnecessary information.\\n        - Return the cleaned and structured text in a way that's easy to read and analyze.\\n    {TEXT}\": 18.654390664725405}, 'optimized_prompt': {'\\n\\nTo create a meticulously corrected and structured invoice, carefully follow these comprehensive guidelines:\\n\\nImagine yourself as an expert invoice editor, tasked with transforming the provided text into a polished, concise, and easily analyzable format.\\n\\nBegin by meticulously reviewing the text to identify and correct any spelling or grammatical errors, then reorder text that may be in the wrong sequence to maintain logical coherence. Next, separate words that are combined and combine words that are split to enhance readability and clarity.\\n\\nYour primary objective is to extract and organize only the essential structured data, including customer details (Name), item lists (Description, Quantity, Price), and totals (Subtotal, Taxes, Final Total). Remove any redundant or unnecessary information to make the text concise, easy to read, and analyze.\\n\\nTo ensure an unbiased, natural, and stereotype-free output, adhere to the following steps:\\n\\n1. Correct any spelling or grammatical errors in the given text to ensure accuracy and clarity.\\n2. Reorder any text that may be in the wrong sequence to maintain a logical flow of information.\\n3. Separate words that are combined and combine words that are split to enhance readability.\\n4. Extract and organize only the essential structured data, including customer details, item lists, and totals.\\n5. Remove any redundant or unnecessary information to make the text concise and easy to analyze.\\n6. Return the cleaned and structured text in a clear and organized format, starting with:\\n\"Corrected Invoice:\\nCustomer Details:...\\nItem Lists:...\\nTotals:...\"\\n\\nPlease ensure your response is free of stereotypes, natural, and easy to read and analyze. Now, proceed to correct and structure the provided invoice text: {TEXT}\\n\\n': 32.11249088082717}, 'category': 'error_correction'}, \"You are a highly skilled language model AI that returns only one line of linguistically diverse paraphrased text. Your task is to perform two specific actions on a given text. First, evaluate each text and make sure it's grammatically correct. If a text is not grammatically correct, fix it. Then, ALWAYS paraphrase the text while maintaining its original meaning. Your output should be presented WITH ONLY the paraphrased text IN ONE SINGLE LINE, without any extra dialouge from you. Do not use any new lines in your output. Only write in one line. {TEXT}\": {'ID': 34, 'initial_prompt': {\"You are a highly skilled language model AI that returns only one line of linguistically diverse paraphrased text. Your task is to perform two specific actions on a given text. First, evaluate each text and make sure it's grammatically correct. If a text is not grammatically correct, fix it. Then, ALWAYS paraphrase the text while maintaining its original meaning. Your output should be presented WITH ONLY the paraphrased text IN ONE SINGLE LINE, without any extra dialouge from you. Do not use any new lines in your output. Only write in one line. {TEXT}\": 59.87945065729677}, 'optimized_prompt': {\"\\nI'm going to tip $100 for a better solution! Your task is to paraphrase the given text while maintaining its original meaning. You MUST first evaluate each text and make sure it's grammatically correct. If a text is not grammatically correct, fix it. Then, ALWAYS paraphrase the text in simple terms, like you're explaining something to a 5-year-old. Your output should be presented WITH ONLY the paraphrased text IN ONE SINGLE LINE, without any extra dialogue from you. Do not use any new lines in your output. Only write in one line. {TEXT}\\n    \": 72.25263355599573}, 'category': 'error_correction'}, 'Fix the grammar in the following text: {TEXT}': {'ID': 35, 'initial_prompt': {'Fix the grammar in the following text: {TEXT}': 17.272209077785675}, 'optimized_prompt': {'\\n###Instruction###\\nYou will be penalized if you do not follow the instructions carefully. Think step by step and revise the text carefully.\\n\\n###Task###\\nFix the grammar in the following text:\\n\\n{TEXT}\\n\\n###Output Primer###\\nThe revised text with corrected grammar is:\\n    ': 43.29342065165263}, 'category': 'error_correction'}}\n"
     ]
    }
   ],
   "source": [
    "import json\n",
    "\n",
    "prompt_scores = json.load(open(\"testingSetScores.json\"))\n",
    "print(prompt_scores)"
   ]
  },
  {
   "cell_type": "code",
   "execution_count": 6,
   "metadata": {},
   "outputs": [
    {
     "data": {
      "text/html": [
       "<div>\n",
       "<style scoped>\n",
       "    .dataframe tbody tr th:only-of-type {\n",
       "        vertical-align: middle;\n",
       "    }\n",
       "\n",
       "    .dataframe tbody tr th {\n",
       "        vertical-align: top;\n",
       "    }\n",
       "\n",
       "    .dataframe thead th {\n",
       "        text-align: right;\n",
       "    }\n",
       "</style>\n",
       "<table border=\"1\" class=\"dataframe\">\n",
       "  <thead>\n",
       "    <tr style=\"text-align: right;\">\n",
       "      <th></th>\n",
       "      <th>initial_prompt</th>\n",
       "      <th>optimized_prompt</th>\n",
       "      <th>initial_synth_score</th>\n",
       "      <th>optimized_synth_score</th>\n",
       "    </tr>\n",
       "  </thead>\n",
       "  <tbody>\n",
       "    <tr>\n",
       "      <th>0</th>\n",
       "      <td>Please format the following raw transcript for...</td>\n",
       "      <td>\\n    ### Instruction###\\n    Format the raw t...</td>\n",
       "      <td>25.208665</td>\n",
       "      <td>31.229375</td>\n",
       "    </tr>\n",
       "    <tr>\n",
       "      <th>1</th>\n",
       "      <td>You are a helpful assistant for Aidan. Your ta...</td>\n",
       "      <td>\\n    ####Instruction###\\n    ###You are a hel...</td>\n",
       "      <td>65.317168</td>\n",
       "      <td>70.325266</td>\n",
       "    </tr>\n",
       "    <tr>\n",
       "      <th>2</th>\n",
       "      <td>Correct the grammar in the sentence: {TEXT}</td>\n",
       "      <td>\\n    ###\\n    Instruction###\\n    Correct the...</td>\n",
       "      <td>15.226625</td>\n",
       "      <td>58.258221</td>\n",
       "    </tr>\n",
       "    <tr>\n",
       "      <th>3</th>\n",
       "      <td>Reformat the following transcript into Markdow...</td>\n",
       "      <td>\\n\\nAct as a meticulous transcript reformatter...</td>\n",
       "      <td>33.248789</td>\n",
       "      <td>78.279553</td>\n",
       "    </tr>\n",
       "    <tr>\n",
       "      <th>4</th>\n",
       "      <td>Please fix the grammatical errors in this Engl...</td>\n",
       "      <td>\\n\\nHighly experienced linguists and Bhagavad ...</td>\n",
       "      <td>30.021040</td>\n",
       "      <td>58.397692</td>\n",
       "    </tr>\n",
       "  </tbody>\n",
       "</table>\n",
       "</div>"
      ],
      "text/plain": [
       "                                      initial_prompt  \\\n",
       "0  Please format the following raw transcript for...   \n",
       "1  You are a helpful assistant for Aidan. Your ta...   \n",
       "2        Correct the grammar in the sentence: {TEXT}   \n",
       "3  Reformat the following transcript into Markdow...   \n",
       "4  Please fix the grammatical errors in this Engl...   \n",
       "\n",
       "                                    optimized_prompt  initial_synth_score  \\\n",
       "0  \\n    ### Instruction###\\n    Format the raw t...            25.208665   \n",
       "1  \\n    ####Instruction###\\n    ###You are a hel...            65.317168   \n",
       "2  \\n    ###\\n    Instruction###\\n    Correct the...            15.226625   \n",
       "3  \\n\\nAct as a meticulous transcript reformatter...            33.248789   \n",
       "4  \\n\\nHighly experienced linguists and Bhagavad ...            30.021040   \n",
       "\n",
       "   optimized_synth_score  \n",
       "0              31.229375  \n",
       "1              70.325266  \n",
       "2              58.258221  \n",
       "3              78.279553  \n",
       "4              58.397692  "
      ]
     },
     "execution_count": 6,
     "metadata": {},
     "output_type": "execute_result"
    }
   ],
   "source": [
    "initial_prompts = []\n",
    "optimized_prompts = []\n",
    "initial_scores = []\n",
    "optimized_scores = []\n",
    "\n",
    "for prompt in prompt_scores:\n",
    "    data = prompt_scores[prompt]\n",
    "    initial_prompts.append(list(data[\"initial_prompt\"].keys())[0])\n",
    "    optimized_prompts.append(list(data[\"optimized_prompt\"].keys())[0])\n",
    "    initial_scores.append(list(data[\"initial_prompt\"].values())[0])\n",
    "    optimized_scores.append(list(data[\"optimized_prompt\"].values())[0])\n",
    "    \n",
    "len(initial_prompts), len(optimized_prompts), len(initial_scores), len(optimized_scores)\n",
    "\n",
    "# Convert to dataframe\n",
    "import pandas as pd\n",
    "\n",
    "df = pd.DataFrame({\n",
    "    \"initial_prompt\": initial_prompts,\n",
    "    \"optimized_prompt\": optimized_prompts,\n",
    "    \"initial_synth_score\": initial_scores,\n",
    "    \"optimized_synth_score\": optimized_scores\n",
    "})\n",
    "\n",
    "df.head()"
   ]
  },
  {
   "cell_type": "code",
   "execution_count": 24,
   "metadata": {},
   "outputs": [
    {
     "name": "stdout",
     "output_type": "stream",
     "text": [
      "Sentence Structure Errors, Verb Tense Errors, Subject-Verb Agreement, Article Usage, Spelling Mistakes, Preposition Usage, Punctuation Errors, Relative Clause Errors, Gerund and Participle Errors, Abbreviation Errors, Slang, Jargon, and Colloquialisms, Negation Errors, Incorrect Auxiliaries, Ambiguity, Tautology, Lack of Parallelism in Lists or Series, Mixed Metaphors/Idioms, Parallelism Errors, Contractions Errors, Conjunction Misuse, Inappropriate Register, Passive Voice Overuse, Mixed Conditionals, Faulty Comparisons, Agreement in Comparative and Superlative Forms, Ellipsis Errors, Infinitive Errors, Quantifier Errors, Clichés, Pronoun Errors, Modifiers Misplacement, Run-on Sentences, Word Choice/Usage, Sentence Fragments, Capitalization Errors, Redundancy/Repetition\n"
     ]
    }
   ],
   "source": [
    "\n",
    "true_dataset = pd.read_csv(\"Grammar Correction.csv\")\n",
    "print(\", \".join(list(true_dataset[\"Error Type\"].value_counts().keys())))\n",
    "# true_dataset = true_dataset[true_dataset[\"Error Type\"] == \"Punctuation Errors\"][[\"Ungrammatical Statement\", \"Standard English\"]]\n",
    "true_dataset = true_dataset[[\"Ungrammatical Statement\", \"Standard English\"]]\n",
    "# Rename the columns\n",
    "true_dataset.columns = [\"text\", \"correction\"]"
   ]
  },
  {
   "cell_type": "code",
   "execution_count": 13,
   "metadata": {},
   "outputs": [
    {
     "data": {
      "text/html": [
       "<div>\n",
       "<style scoped>\n",
       "    .dataframe tbody tr th:only-of-type {\n",
       "        vertical-align: middle;\n",
       "    }\n",
       "\n",
       "    .dataframe tbody tr th {\n",
       "        vertical-align: top;\n",
       "    }\n",
       "\n",
       "    .dataframe thead th {\n",
       "        text-align: right;\n",
       "    }\n",
       "</style>\n",
       "<table border=\"1\" class=\"dataframe\">\n",
       "  <thead>\n",
       "    <tr style=\"text-align: right;\">\n",
       "      <th></th>\n",
       "      <th>text</th>\n",
       "      <th>correction</th>\n",
       "    </tr>\n",
       "  </thead>\n",
       "  <tbody>\n",
       "    <tr>\n",
       "      <th>1556</th>\n",
       "      <td>He didn't eat no breakfast this morning.</td>\n",
       "      <td>He didn't eat any breakfast this morning.</td>\n",
       "    </tr>\n",
       "    <tr>\n",
       "      <th>526</th>\n",
       "      <td>29. When I was young, I used to played soccer ...</td>\n",
       "      <td>29. When I was young, I used to play soccer ev...</td>\n",
       "    </tr>\n",
       "    <tr>\n",
       "      <th>393</th>\n",
       "      <td>The car is parked in front of the house.</td>\n",
       "      <td>The car is parked in front the house.</td>\n",
       "    </tr>\n",
       "    <tr>\n",
       "      <th>1789</th>\n",
       "      <td>They're house is beautiful, but it's location ...</td>\n",
       "      <td>Their house is beautiful, but its location is ...</td>\n",
       "    </tr>\n",
       "    <tr>\n",
       "      <th>433</th>\n",
       "      <td>I can't believe she ate the whole cake herself!</td>\n",
       "      <td>I can't believe she ate the whole cake by hers...</td>\n",
       "    </tr>\n",
       "    <tr>\n",
       "      <th>...</th>\n",
       "      <td>...</td>\n",
       "      <td>...</td>\n",
       "    </tr>\n",
       "    <tr>\n",
       "      <th>394</th>\n",
       "      <td>He is waiting for her on the restaurant.</td>\n",
       "      <td>He is waiting for her at the restaurant.</td>\n",
       "    </tr>\n",
       "    <tr>\n",
       "      <th>923</th>\n",
       "      <td>The meal was cooked by the chef for the guests.</td>\n",
       "      <td>The chef cooked the meal for the guests.</td>\n",
       "    </tr>\n",
       "    <tr>\n",
       "      <th>1497</th>\n",
       "      <td>The sun are shining brightly today.</td>\n",
       "      <td>The sun is shining brightly today.</td>\n",
       "    </tr>\n",
       "    <tr>\n",
       "      <th>111</th>\n",
       "      <td>The company's policies is constantly evolving.</td>\n",
       "      <td>The company's policies are constantly evolving.</td>\n",
       "    </tr>\n",
       "    <tr>\n",
       "      <th>352</th>\n",
       "      <td>The students are sitting on the classroom.</td>\n",
       "      <td>The students are sitting in the classroom.</td>\n",
       "    </tr>\n",
       "  </tbody>\n",
       "</table>\n",
       "<p>70 rows × 2 columns</p>\n",
       "</div>"
      ],
      "text/plain": [
       "                                                   text  \\\n",
       "1556           He didn't eat no breakfast this morning.   \n",
       "526   29. When I was young, I used to played soccer ...   \n",
       "393            The car is parked in front of the house.   \n",
       "1789  They're house is beautiful, but it's location ...   \n",
       "433     I can't believe she ate the whole cake herself!   \n",
       "...                                                 ...   \n",
       "394            He is waiting for her on the restaurant.   \n",
       "923     The meal was cooked by the chef for the guests.   \n",
       "1497                The sun are shining brightly today.   \n",
       "111      The company's policies is constantly evolving.   \n",
       "352          The students are sitting on the classroom.   \n",
       "\n",
       "                                             correction  \n",
       "1556          He didn't eat any breakfast this morning.  \n",
       "526   29. When I was young, I used to play soccer ev...  \n",
       "393               The car is parked in front the house.  \n",
       "1789  Their house is beautiful, but its location is ...  \n",
       "433   I can't believe she ate the whole cake by hers...  \n",
       "...                                                 ...  \n",
       "394            He is waiting for her at the restaurant.  \n",
       "923            The chef cooked the meal for the guests.  \n",
       "1497                 The sun is shining brightly today.  \n",
       "111     The company's policies are constantly evolving.  \n",
       "352          The students are sitting in the classroom.  \n",
       "\n",
       "[70 rows x 2 columns]"
      ]
     },
     "execution_count": 13,
     "metadata": {},
     "output_type": "execute_result"
    }
   ],
   "source": [
    "true_dataset.sample(70, random_state=42)"
   ]
  },
  {
   "cell_type": "code",
   "execution_count": 19,
   "metadata": {},
   "outputs": [
    {
     "data": {
      "text/plain": [
       "22.668524881544222"
      ]
     },
     "execution_count": 19,
     "metadata": {},
     "output_type": "execute_result"
    }
   ],
   "source": [
    "import pandas as pd\n",
    "\n",
    "df = pd.read_csv(\"scores.csv\")\n",
    "(df[\"optimized_true_score\"] - df[\"initial_true_score\"]).mean()"
   ]
  }
 ],
 "metadata": {
  "kernelspec": {
   "display_name": "Python 3",
   "language": "python",
   "name": "python3"
  },
  "language_info": {
   "codemirror_mode": {
    "name": "ipython",
    "version": 3
   },
   "file_extension": ".py",
   "mimetype": "text/x-python",
   "name": "python",
   "nbconvert_exporter": "python",
   "pygments_lexer": "ipython3",
   "version": "3.10.12"
  }
 },
 "nbformat": 4,
 "nbformat_minor": 2
}
